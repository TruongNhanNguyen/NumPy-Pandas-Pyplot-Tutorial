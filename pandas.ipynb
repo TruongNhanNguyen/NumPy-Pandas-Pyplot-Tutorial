{
 "cells": [
  {
   "cell_type": "markdown",
   "metadata": {},
   "source": [
    "# PANDAS TUTORIAL (QUICK TOUR-10 MINUTES)"
   ]
  },
  {
   "cell_type": "markdown",
   "metadata": {},
   "source": [
    "This is a short introduction to `pandas`, geared mainly for new users.\n",
    "\n",
    "Customarily, we import as follow:"
   ]
  },
  {
   "cell_type": "code",
   "execution_count": 1,
   "metadata": {},
   "outputs": [],
   "source": [
    "import numpy as np\n",
    "import pandas as pd"
   ]
  },
  {
   "cell_type": "markdown",
   "metadata": {},
   "source": [
    "## Object Creation"
   ]
  },
  {
   "cell_type": "markdown",
   "metadata": {},
   "source": [
    "Creating a **Series** by passing a list of values, letting `pandas` create a default integer index."
   ]
  },
  {
   "cell_type": "code",
   "execution_count": 2,
   "metadata": {},
   "outputs": [
    {
     "data": {
      "text/plain": [
       "0     1.0\n",
       "1     2.0\n",
       "2    -7.0\n",
       "3    10.0\n",
       "4     NaN\n",
       "5     8.0\n",
       "6    11.0\n",
       "dtype: float64"
      ]
     },
     "execution_count": 2,
     "metadata": {},
     "output_type": "execute_result"
    }
   ],
   "source": [
    "s = pd.Series([1, 2, -7, 10, np.nan, 8, 11])\n",
    "s"
   ]
  },
  {
   "cell_type": "markdown",
   "metadata": {},
   "source": [
    "Creating a **DataFrame** by passing a `NumPy` array, with datetime index and labeled columns."
   ]
  },
  {
   "cell_type": "code",
   "execution_count": 3,
   "metadata": {},
   "outputs": [
    {
     "data": {
      "text/plain": [
       "DatetimeIndex(['2022-03-19', '2022-03-20', '2022-03-21', '2022-03-22',\n",
       "               '2022-03-23', '2022-03-24', '2022-03-25'],\n",
       "              dtype='datetime64[ns]', freq='D')"
      ]
     },
     "execution_count": 3,
     "metadata": {},
     "output_type": "execute_result"
    }
   ],
   "source": [
    "dates = pd.date_range(\"20220319\", periods=7)\n",
    "dates"
   ]
  },
  {
   "cell_type": "code",
   "execution_count": 4,
   "metadata": {},
   "outputs": [
    {
     "data": {
      "text/html": [
       "<div>\n",
       "<style scoped>\n",
       "    .dataframe tbody tr th:only-of-type {\n",
       "        vertical-align: middle;\n",
       "    }\n",
       "\n",
       "    .dataframe tbody tr th {\n",
       "        vertical-align: top;\n",
       "    }\n",
       "\n",
       "    .dataframe thead th {\n",
       "        text-align: right;\n",
       "    }\n",
       "</style>\n",
       "<table border=\"1\" class=\"dataframe\">\n",
       "  <thead>\n",
       "    <tr style=\"text-align: right;\">\n",
       "      <th></th>\n",
       "      <th>A</th>\n",
       "      <th>B</th>\n",
       "      <th>C</th>\n",
       "      <th>D</th>\n",
       "    </tr>\n",
       "  </thead>\n",
       "  <tbody>\n",
       "    <tr>\n",
       "      <th>2022-03-19</th>\n",
       "      <td>0.762224</td>\n",
       "      <td>-1.732843</td>\n",
       "      <td>-1.495853</td>\n",
       "      <td>1.008874</td>\n",
       "    </tr>\n",
       "    <tr>\n",
       "      <th>2022-03-20</th>\n",
       "      <td>-0.164790</td>\n",
       "      <td>-0.952079</td>\n",
       "      <td>0.559604</td>\n",
       "      <td>0.089300</td>\n",
       "    </tr>\n",
       "    <tr>\n",
       "      <th>2022-03-21</th>\n",
       "      <td>-0.142070</td>\n",
       "      <td>2.069204</td>\n",
       "      <td>1.025956</td>\n",
       "      <td>-0.583214</td>\n",
       "    </tr>\n",
       "    <tr>\n",
       "      <th>2022-03-22</th>\n",
       "      <td>-0.124626</td>\n",
       "      <td>-0.779751</td>\n",
       "      <td>-1.292503</td>\n",
       "      <td>0.529144</td>\n",
       "    </tr>\n",
       "    <tr>\n",
       "      <th>2022-03-23</th>\n",
       "      <td>-1.349510</td>\n",
       "      <td>1.266786</td>\n",
       "      <td>-1.975675</td>\n",
       "      <td>-1.373446</td>\n",
       "    </tr>\n",
       "    <tr>\n",
       "      <th>2022-03-24</th>\n",
       "      <td>-0.925852</td>\n",
       "      <td>0.766193</td>\n",
       "      <td>-1.217168</td>\n",
       "      <td>0.767000</td>\n",
       "    </tr>\n",
       "    <tr>\n",
       "      <th>2022-03-25</th>\n",
       "      <td>0.655130</td>\n",
       "      <td>0.623870</td>\n",
       "      <td>0.127673</td>\n",
       "      <td>1.303692</td>\n",
       "    </tr>\n",
       "  </tbody>\n",
       "</table>\n",
       "</div>"
      ],
      "text/plain": [
       "                   A         B         C         D\n",
       "2022-03-19  0.762224 -1.732843 -1.495853  1.008874\n",
       "2022-03-20 -0.164790 -0.952079  0.559604  0.089300\n",
       "2022-03-21 -0.142070  2.069204  1.025956 -0.583214\n",
       "2022-03-22 -0.124626 -0.779751 -1.292503  0.529144\n",
       "2022-03-23 -1.349510  1.266786 -1.975675 -1.373446\n",
       "2022-03-24 -0.925852  0.766193 -1.217168  0.767000\n",
       "2022-03-25  0.655130  0.623870  0.127673  1.303692"
      ]
     },
     "execution_count": 4,
     "metadata": {},
     "output_type": "execute_result"
    }
   ],
   "source": [
    "df = pd.DataFrame(np.random.randn(7, 4), index=dates, columns=list(\"ABCD\"))\n",
    "df"
   ]
  },
  {
   "cell_type": "markdown",
   "metadata": {},
   "source": [
    "Create a **DataFrame** by passing a *dictionary* of objects that can be converted into a series-like structure."
   ]
  },
  {
   "cell_type": "code",
   "execution_count": 5,
   "metadata": {},
   "outputs": [
    {
     "data": {
      "text/html": [
       "<div>\n",
       "<style scoped>\n",
       "    .dataframe tbody tr th:only-of-type {\n",
       "        vertical-align: middle;\n",
       "    }\n",
       "\n",
       "    .dataframe tbody tr th {\n",
       "        vertical-align: top;\n",
       "    }\n",
       "\n",
       "    .dataframe thead th {\n",
       "        text-align: right;\n",
       "    }\n",
       "</style>\n",
       "<table border=\"1\" class=\"dataframe\">\n",
       "  <thead>\n",
       "    <tr style=\"text-align: right;\">\n",
       "      <th></th>\n",
       "      <th>A</th>\n",
       "      <th>B</th>\n",
       "      <th>C</th>\n",
       "      <th>D</th>\n",
       "      <th>E</th>\n",
       "      <th>F</th>\n",
       "    </tr>\n",
       "  </thead>\n",
       "  <tbody>\n",
       "    <tr>\n",
       "      <th>0</th>\n",
       "      <td>1.5</td>\n",
       "      <td>2022-03-19</td>\n",
       "      <td>1.0</td>\n",
       "      <td>5</td>\n",
       "      <td>test</td>\n",
       "      <td>foo</td>\n",
       "    </tr>\n",
       "    <tr>\n",
       "      <th>1</th>\n",
       "      <td>1.5</td>\n",
       "      <td>2022-03-19</td>\n",
       "      <td>1.0</td>\n",
       "      <td>5</td>\n",
       "      <td>train</td>\n",
       "      <td>foo</td>\n",
       "    </tr>\n",
       "    <tr>\n",
       "      <th>2</th>\n",
       "      <td>1.5</td>\n",
       "      <td>2022-03-19</td>\n",
       "      <td>1.0</td>\n",
       "      <td>5</td>\n",
       "      <td>test</td>\n",
       "      <td>foo</td>\n",
       "    </tr>\n",
       "    <tr>\n",
       "      <th>3</th>\n",
       "      <td>1.5</td>\n",
       "      <td>2022-03-19</td>\n",
       "      <td>1.0</td>\n",
       "      <td>5</td>\n",
       "      <td>train</td>\n",
       "      <td>foo</td>\n",
       "    </tr>\n",
       "  </tbody>\n",
       "</table>\n",
       "</div>"
      ],
      "text/plain": [
       "     A          B    C  D      E    F\n",
       "0  1.5 2022-03-19  1.0  5   test  foo\n",
       "1  1.5 2022-03-19  1.0  5  train  foo\n",
       "2  1.5 2022-03-19  1.0  5   test  foo\n",
       "3  1.5 2022-03-19  1.0  5  train  foo"
      ]
     },
     "execution_count": 5,
     "metadata": {},
     "output_type": "execute_result"
    }
   ],
   "source": [
    "df2 = pd.DataFrame(\n",
    "    {\n",
    "        \"A\": 1.5,\n",
    "        \"B\": pd.Timestamp(\"20220319\"),\n",
    "        \"C\": pd.Series(1, index=list(range(4)), dtype=np.float32),\n",
    "        \"D\": np.array([5] * 4, dtype=np.int32),\n",
    "        \"E\": pd.Categorical([\"test\", \"train\", \"test\", \"train\"]),\n",
    "        \"F\": \"foo\",\n",
    "    }\n",
    ")\n",
    "df2"
   ]
  },
  {
   "cell_type": "markdown",
   "metadata": {},
   "source": [
    "The columns of the resulting **DataFrame** have different `dtypes`."
   ]
  },
  {
   "cell_type": "code",
   "execution_count": 6,
   "metadata": {},
   "outputs": [
    {
     "data": {
      "text/plain": [
       "A           float64\n",
       "B    datetime64[ns]\n",
       "C           float32\n",
       "D             int32\n",
       "E          category\n",
       "F            object\n",
       "dtype: object"
      ]
     },
     "execution_count": 6,
     "metadata": {},
     "output_type": "execute_result"
    }
   ],
   "source": [
    "df2.dtypes"
   ]
  },
  {
   "cell_type": "markdown",
   "metadata": {},
   "source": [
    "## Viewing data"
   ]
  },
  {
   "cell_type": "markdown",
   "metadata": {},
   "source": [
    "Here is how to view the top and bottom rows of the frame."
   ]
  },
  {
   "cell_type": "code",
   "execution_count": 7,
   "metadata": {},
   "outputs": [
    {
     "data": {
      "text/html": [
       "<div>\n",
       "<style scoped>\n",
       "    .dataframe tbody tr th:only-of-type {\n",
       "        vertical-align: middle;\n",
       "    }\n",
       "\n",
       "    .dataframe tbody tr th {\n",
       "        vertical-align: top;\n",
       "    }\n",
       "\n",
       "    .dataframe thead th {\n",
       "        text-align: right;\n",
       "    }\n",
       "</style>\n",
       "<table border=\"1\" class=\"dataframe\">\n",
       "  <thead>\n",
       "    <tr style=\"text-align: right;\">\n",
       "      <th></th>\n",
       "      <th>A</th>\n",
       "      <th>B</th>\n",
       "      <th>C</th>\n",
       "      <th>D</th>\n",
       "    </tr>\n",
       "  </thead>\n",
       "  <tbody>\n",
       "    <tr>\n",
       "      <th>2022-03-19</th>\n",
       "      <td>0.762224</td>\n",
       "      <td>-1.732843</td>\n",
       "      <td>-1.495853</td>\n",
       "      <td>1.008874</td>\n",
       "    </tr>\n",
       "    <tr>\n",
       "      <th>2022-03-20</th>\n",
       "      <td>-0.164790</td>\n",
       "      <td>-0.952079</td>\n",
       "      <td>0.559604</td>\n",
       "      <td>0.089300</td>\n",
       "    </tr>\n",
       "    <tr>\n",
       "      <th>2022-03-21</th>\n",
       "      <td>-0.142070</td>\n",
       "      <td>2.069204</td>\n",
       "      <td>1.025956</td>\n",
       "      <td>-0.583214</td>\n",
       "    </tr>\n",
       "    <tr>\n",
       "      <th>2022-03-22</th>\n",
       "      <td>-0.124626</td>\n",
       "      <td>-0.779751</td>\n",
       "      <td>-1.292503</td>\n",
       "      <td>0.529144</td>\n",
       "    </tr>\n",
       "    <tr>\n",
       "      <th>2022-03-23</th>\n",
       "      <td>-1.349510</td>\n",
       "      <td>1.266786</td>\n",
       "      <td>-1.975675</td>\n",
       "      <td>-1.373446</td>\n",
       "    </tr>\n",
       "  </tbody>\n",
       "</table>\n",
       "</div>"
      ],
      "text/plain": [
       "                   A         B         C         D\n",
       "2022-03-19  0.762224 -1.732843 -1.495853  1.008874\n",
       "2022-03-20 -0.164790 -0.952079  0.559604  0.089300\n",
       "2022-03-21 -0.142070  2.069204  1.025956 -0.583214\n",
       "2022-03-22 -0.124626 -0.779751 -1.292503  0.529144\n",
       "2022-03-23 -1.349510  1.266786 -1.975675 -1.373446"
      ]
     },
     "execution_count": 7,
     "metadata": {},
     "output_type": "execute_result"
    }
   ],
   "source": [
    "df.head()"
   ]
  },
  {
   "cell_type": "code",
   "execution_count": 8,
   "metadata": {},
   "outputs": [
    {
     "data": {
      "text/html": [
       "<div>\n",
       "<style scoped>\n",
       "    .dataframe tbody tr th:only-of-type {\n",
       "        vertical-align: middle;\n",
       "    }\n",
       "\n",
       "    .dataframe tbody tr th {\n",
       "        vertical-align: top;\n",
       "    }\n",
       "\n",
       "    .dataframe thead th {\n",
       "        text-align: right;\n",
       "    }\n",
       "</style>\n",
       "<table border=\"1\" class=\"dataframe\">\n",
       "  <thead>\n",
       "    <tr style=\"text-align: right;\">\n",
       "      <th></th>\n",
       "      <th>A</th>\n",
       "      <th>B</th>\n",
       "      <th>C</th>\n",
       "      <th>D</th>\n",
       "    </tr>\n",
       "  </thead>\n",
       "  <tbody>\n",
       "    <tr>\n",
       "      <th>2022-03-21</th>\n",
       "      <td>-0.142070</td>\n",
       "      <td>2.069204</td>\n",
       "      <td>1.025956</td>\n",
       "      <td>-0.583214</td>\n",
       "    </tr>\n",
       "    <tr>\n",
       "      <th>2022-03-22</th>\n",
       "      <td>-0.124626</td>\n",
       "      <td>-0.779751</td>\n",
       "      <td>-1.292503</td>\n",
       "      <td>0.529144</td>\n",
       "    </tr>\n",
       "    <tr>\n",
       "      <th>2022-03-23</th>\n",
       "      <td>-1.349510</td>\n",
       "      <td>1.266786</td>\n",
       "      <td>-1.975675</td>\n",
       "      <td>-1.373446</td>\n",
       "    </tr>\n",
       "    <tr>\n",
       "      <th>2022-03-24</th>\n",
       "      <td>-0.925852</td>\n",
       "      <td>0.766193</td>\n",
       "      <td>-1.217168</td>\n",
       "      <td>0.767000</td>\n",
       "    </tr>\n",
       "    <tr>\n",
       "      <th>2022-03-25</th>\n",
       "      <td>0.655130</td>\n",
       "      <td>0.623870</td>\n",
       "      <td>0.127673</td>\n",
       "      <td>1.303692</td>\n",
       "    </tr>\n",
       "  </tbody>\n",
       "</table>\n",
       "</div>"
      ],
      "text/plain": [
       "                   A         B         C         D\n",
       "2022-03-21 -0.142070  2.069204  1.025956 -0.583214\n",
       "2022-03-22 -0.124626 -0.779751 -1.292503  0.529144\n",
       "2022-03-23 -1.349510  1.266786 -1.975675 -1.373446\n",
       "2022-03-24 -0.925852  0.766193 -1.217168  0.767000\n",
       "2022-03-25  0.655130  0.623870  0.127673  1.303692"
      ]
     },
     "execution_count": 8,
     "metadata": {},
     "output_type": "execute_result"
    }
   ],
   "source": [
    "df.tail()"
   ]
  },
  {
   "cell_type": "markdown",
   "metadata": {},
   "source": [
    "> You can pass arguments to the `head()` or `tail()` functions to display a specified number of rows."
   ]
  },
  {
   "cell_type": "code",
   "execution_count": 9,
   "metadata": {},
   "outputs": [
    {
     "data": {
      "text/html": [
       "<div>\n",
       "<style scoped>\n",
       "    .dataframe tbody tr th:only-of-type {\n",
       "        vertical-align: middle;\n",
       "    }\n",
       "\n",
       "    .dataframe tbody tr th {\n",
       "        vertical-align: top;\n",
       "    }\n",
       "\n",
       "    .dataframe thead th {\n",
       "        text-align: right;\n",
       "    }\n",
       "</style>\n",
       "<table border=\"1\" class=\"dataframe\">\n",
       "  <thead>\n",
       "    <tr style=\"text-align: right;\">\n",
       "      <th></th>\n",
       "      <th>A</th>\n",
       "      <th>B</th>\n",
       "      <th>C</th>\n",
       "      <th>D</th>\n",
       "    </tr>\n",
       "  </thead>\n",
       "  <tbody>\n",
       "    <tr>\n",
       "      <th>2022-03-19</th>\n",
       "      <td>0.762224</td>\n",
       "      <td>-1.732843</td>\n",
       "      <td>-1.495853</td>\n",
       "      <td>1.008874</td>\n",
       "    </tr>\n",
       "    <tr>\n",
       "      <th>2022-03-20</th>\n",
       "      <td>-0.164790</td>\n",
       "      <td>-0.952079</td>\n",
       "      <td>0.559604</td>\n",
       "      <td>0.089300</td>\n",
       "    </tr>\n",
       "  </tbody>\n",
       "</table>\n",
       "</div>"
      ],
      "text/plain": [
       "                   A         B         C         D\n",
       "2022-03-19  0.762224 -1.732843 -1.495853  1.008874\n",
       "2022-03-20 -0.164790 -0.952079  0.559604  0.089300"
      ]
     },
     "execution_count": 9,
     "metadata": {},
     "output_type": "execute_result"
    }
   ],
   "source": [
    "df.head(2)"
   ]
  },
  {
   "cell_type": "markdown",
   "metadata": {},
   "source": [
    "Display the index, columns."
   ]
  },
  {
   "cell_type": "code",
   "execution_count": 10,
   "metadata": {},
   "outputs": [
    {
     "data": {
      "text/plain": [
       "DatetimeIndex(['2022-03-19', '2022-03-20', '2022-03-21', '2022-03-22',\n",
       "               '2022-03-23', '2022-03-24', '2022-03-25'],\n",
       "              dtype='datetime64[ns]', freq='D')"
      ]
     },
     "execution_count": 10,
     "metadata": {},
     "output_type": "execute_result"
    }
   ],
   "source": [
    "df.index"
   ]
  },
  {
   "cell_type": "code",
   "execution_count": 11,
   "metadata": {},
   "outputs": [
    {
     "data": {
      "text/plain": [
       "Index(['A', 'B', 'C', 'D'], dtype='object')"
      ]
     },
     "execution_count": 11,
     "metadata": {},
     "output_type": "execute_result"
    }
   ],
   "source": [
    "df.columns"
   ]
  },
  {
   "cell_type": "markdown",
   "metadata": {},
   "source": [
    "> `DataFrame.to_numpy()` gives a `NumPy` representation of the underlying data. Note that this can be an expensive operation when your `DataFrame` has columns with *different* data types, which comes down to a fundamental difference between pandas and `NumPy`: `NumPy` arrays have one dtype for the entire array, while pandas DataFrames have one dtype per column. When you call `DataFrame.to_numpy()`, pandas will find the `NumPy` dtype that can hold all of the dtypes in the `DataFrame`. This may end up being object, which requires casting every value to a Python object."
   ]
  },
  {
   "cell_type": "markdown",
   "metadata": {},
   "source": [
    "For `df`, our **DataFrame** of all floating-point values, `DataFrame.to_numpy()` is fast and doesn't require copying data"
   ]
  },
  {
   "cell_type": "code",
   "execution_count": 12,
   "metadata": {},
   "outputs": [
    {
     "data": {
      "text/plain": [
       "array([[ 0.76222441, -1.73284312, -1.49585275,  1.00887352],\n",
       "       [-0.1647903 , -0.95207859,  0.55960415,  0.08930033],\n",
       "       [-0.14207033,  2.06920385,  1.02595634, -0.58321413],\n",
       "       [-0.12462578, -0.77975108, -1.29250274,  0.52914364],\n",
       "       [-1.34950966,  1.2667862 , -1.97567458, -1.37344605],\n",
       "       [-0.92585189,  0.76619341, -1.21716787,  0.76700033],\n",
       "       [ 0.6551304 ,  0.62387011,  0.12767267,  1.30369236]])"
      ]
     },
     "execution_count": 12,
     "metadata": {},
     "output_type": "execute_result"
    }
   ],
   "source": [
    "df.to_numpy()"
   ]
  },
  {
   "cell_type": "markdown",
   "metadata": {},
   "source": [
    "For `df2`, the **DataFrame** with multiply `dtypes`, `DataFrame.to_numpy()` is relative expensive."
   ]
  },
  {
   "cell_type": "code",
   "execution_count": 13,
   "metadata": {},
   "outputs": [
    {
     "data": {
      "text/plain": [
       "array([[1.5, Timestamp('2022-03-19 00:00:00'), 1.0, 5, 'test', 'foo'],\n",
       "       [1.5, Timestamp('2022-03-19 00:00:00'), 1.0, 5, 'train', 'foo'],\n",
       "       [1.5, Timestamp('2022-03-19 00:00:00'), 1.0, 5, 'test', 'foo'],\n",
       "       [1.5, Timestamp('2022-03-19 00:00:00'), 1.0, 5, 'train', 'foo']],\n",
       "      dtype=object)"
      ]
     },
     "execution_count": 13,
     "metadata": {},
     "output_type": "execute_result"
    }
   ],
   "source": [
    "df2.to_numpy()"
   ]
  },
  {
   "cell_type": "markdown",
   "metadata": {},
   "source": [
    "`describe()` shows a quick statistic summary of your data."
   ]
  },
  {
   "cell_type": "code",
   "execution_count": 14,
   "metadata": {},
   "outputs": [
    {
     "data": {
      "text/html": [
       "<div>\n",
       "<style scoped>\n",
       "    .dataframe tbody tr th:only-of-type {\n",
       "        vertical-align: middle;\n",
       "    }\n",
       "\n",
       "    .dataframe tbody tr th {\n",
       "        vertical-align: top;\n",
       "    }\n",
       "\n",
       "    .dataframe thead th {\n",
       "        text-align: right;\n",
       "    }\n",
       "</style>\n",
       "<table border=\"1\" class=\"dataframe\">\n",
       "  <thead>\n",
       "    <tr style=\"text-align: right;\">\n",
       "      <th></th>\n",
       "      <th>A</th>\n",
       "      <th>B</th>\n",
       "      <th>C</th>\n",
       "      <th>D</th>\n",
       "    </tr>\n",
       "  </thead>\n",
       "  <tbody>\n",
       "    <tr>\n",
       "      <th>count</th>\n",
       "      <td>7.000000</td>\n",
       "      <td>7.000000</td>\n",
       "      <td>7.000000</td>\n",
       "      <td>7.000000</td>\n",
       "    </tr>\n",
       "    <tr>\n",
       "      <th>mean</th>\n",
       "      <td>-0.184213</td>\n",
       "      <td>0.180197</td>\n",
       "      <td>-0.609709</td>\n",
       "      <td>0.248764</td>\n",
       "    </tr>\n",
       "    <tr>\n",
       "      <th>std</th>\n",
       "      <td>0.765277</td>\n",
       "      <td>1.363362</td>\n",
       "      <td>1.159939</td>\n",
       "      <td>0.947541</td>\n",
       "    </tr>\n",
       "    <tr>\n",
       "      <th>min</th>\n",
       "      <td>-1.349510</td>\n",
       "      <td>-1.732843</td>\n",
       "      <td>-1.975675</td>\n",
       "      <td>-1.373446</td>\n",
       "    </tr>\n",
       "    <tr>\n",
       "      <th>25%</th>\n",
       "      <td>-0.545321</td>\n",
       "      <td>-0.865915</td>\n",
       "      <td>-1.394178</td>\n",
       "      <td>-0.246957</td>\n",
       "    </tr>\n",
       "    <tr>\n",
       "      <th>50%</th>\n",
       "      <td>-0.142070</td>\n",
       "      <td>0.623870</td>\n",
       "      <td>-1.217168</td>\n",
       "      <td>0.529144</td>\n",
       "    </tr>\n",
       "    <tr>\n",
       "      <th>75%</th>\n",
       "      <td>0.265252</td>\n",
       "      <td>1.016490</td>\n",
       "      <td>0.343638</td>\n",
       "      <td>0.887937</td>\n",
       "    </tr>\n",
       "    <tr>\n",
       "      <th>max</th>\n",
       "      <td>0.762224</td>\n",
       "      <td>2.069204</td>\n",
       "      <td>1.025956</td>\n",
       "      <td>1.303692</td>\n",
       "    </tr>\n",
       "  </tbody>\n",
       "</table>\n",
       "</div>"
      ],
      "text/plain": [
       "              A         B         C         D\n",
       "count  7.000000  7.000000  7.000000  7.000000\n",
       "mean  -0.184213  0.180197 -0.609709  0.248764\n",
       "std    0.765277  1.363362  1.159939  0.947541\n",
       "min   -1.349510 -1.732843 -1.975675 -1.373446\n",
       "25%   -0.545321 -0.865915 -1.394178 -0.246957\n",
       "50%   -0.142070  0.623870 -1.217168  0.529144\n",
       "75%    0.265252  1.016490  0.343638  0.887937\n",
       "max    0.762224  2.069204  1.025956  1.303692"
      ]
     },
     "execution_count": 14,
     "metadata": {},
     "output_type": "execute_result"
    }
   ],
   "source": [
    "df.describe()"
   ]
  },
  {
   "cell_type": "code",
   "execution_count": 15,
   "metadata": {},
   "outputs": [
    {
     "data": {
      "text/html": [
       "<div>\n",
       "<style scoped>\n",
       "    .dataframe tbody tr th:only-of-type {\n",
       "        vertical-align: middle;\n",
       "    }\n",
       "\n",
       "    .dataframe tbody tr th {\n",
       "        vertical-align: top;\n",
       "    }\n",
       "\n",
       "    .dataframe thead th {\n",
       "        text-align: right;\n",
       "    }\n",
       "</style>\n",
       "<table border=\"1\" class=\"dataframe\">\n",
       "  <thead>\n",
       "    <tr style=\"text-align: right;\">\n",
       "      <th></th>\n",
       "      <th>A</th>\n",
       "      <th>C</th>\n",
       "      <th>D</th>\n",
       "    </tr>\n",
       "  </thead>\n",
       "  <tbody>\n",
       "    <tr>\n",
       "      <th>count</th>\n",
       "      <td>4.0</td>\n",
       "      <td>4.0</td>\n",
       "      <td>4.0</td>\n",
       "    </tr>\n",
       "    <tr>\n",
       "      <th>mean</th>\n",
       "      <td>1.5</td>\n",
       "      <td>1.0</td>\n",
       "      <td>5.0</td>\n",
       "    </tr>\n",
       "    <tr>\n",
       "      <th>std</th>\n",
       "      <td>0.0</td>\n",
       "      <td>0.0</td>\n",
       "      <td>0.0</td>\n",
       "    </tr>\n",
       "    <tr>\n",
       "      <th>min</th>\n",
       "      <td>1.5</td>\n",
       "      <td>1.0</td>\n",
       "      <td>5.0</td>\n",
       "    </tr>\n",
       "    <tr>\n",
       "      <th>25%</th>\n",
       "      <td>1.5</td>\n",
       "      <td>1.0</td>\n",
       "      <td>5.0</td>\n",
       "    </tr>\n",
       "    <tr>\n",
       "      <th>50%</th>\n",
       "      <td>1.5</td>\n",
       "      <td>1.0</td>\n",
       "      <td>5.0</td>\n",
       "    </tr>\n",
       "    <tr>\n",
       "      <th>75%</th>\n",
       "      <td>1.5</td>\n",
       "      <td>1.0</td>\n",
       "      <td>5.0</td>\n",
       "    </tr>\n",
       "    <tr>\n",
       "      <th>max</th>\n",
       "      <td>1.5</td>\n",
       "      <td>1.0</td>\n",
       "      <td>5.0</td>\n",
       "    </tr>\n",
       "  </tbody>\n",
       "</table>\n",
       "</div>"
      ],
      "text/plain": [
       "         A    C    D\n",
       "count  4.0  4.0  4.0\n",
       "mean   1.5  1.0  5.0\n",
       "std    0.0  0.0  0.0\n",
       "min    1.5  1.0  5.0\n",
       "25%    1.5  1.0  5.0\n",
       "50%    1.5  1.0  5.0\n",
       "75%    1.5  1.0  5.0\n",
       "max    1.5  1.0  5.0"
      ]
     },
     "execution_count": 15,
     "metadata": {},
     "output_type": "execute_result"
    }
   ],
   "source": [
    "df2.describe()"
   ]
  },
  {
   "cell_type": "markdown",
   "metadata": {},
   "source": [
    "Transposing your data."
   ]
  },
  {
   "cell_type": "code",
   "execution_count": 16,
   "metadata": {},
   "outputs": [
    {
     "data": {
      "text/html": [
       "<div>\n",
       "<style scoped>\n",
       "    .dataframe tbody tr th:only-of-type {\n",
       "        vertical-align: middle;\n",
       "    }\n",
       "\n",
       "    .dataframe tbody tr th {\n",
       "        vertical-align: top;\n",
       "    }\n",
       "\n",
       "    .dataframe thead th {\n",
       "        text-align: right;\n",
       "    }\n",
       "</style>\n",
       "<table border=\"1\" class=\"dataframe\">\n",
       "  <thead>\n",
       "    <tr style=\"text-align: right;\">\n",
       "      <th></th>\n",
       "      <th>2022-03-19</th>\n",
       "      <th>2022-03-20</th>\n",
       "      <th>2022-03-21</th>\n",
       "      <th>2022-03-22</th>\n",
       "      <th>2022-03-23</th>\n",
       "      <th>2022-03-24</th>\n",
       "      <th>2022-03-25</th>\n",
       "    </tr>\n",
       "  </thead>\n",
       "  <tbody>\n",
       "    <tr>\n",
       "      <th>A</th>\n",
       "      <td>0.762224</td>\n",
       "      <td>-0.164790</td>\n",
       "      <td>-0.142070</td>\n",
       "      <td>-0.124626</td>\n",
       "      <td>-1.349510</td>\n",
       "      <td>-0.925852</td>\n",
       "      <td>0.655130</td>\n",
       "    </tr>\n",
       "    <tr>\n",
       "      <th>B</th>\n",
       "      <td>-1.732843</td>\n",
       "      <td>-0.952079</td>\n",
       "      <td>2.069204</td>\n",
       "      <td>-0.779751</td>\n",
       "      <td>1.266786</td>\n",
       "      <td>0.766193</td>\n",
       "      <td>0.623870</td>\n",
       "    </tr>\n",
       "    <tr>\n",
       "      <th>C</th>\n",
       "      <td>-1.495853</td>\n",
       "      <td>0.559604</td>\n",
       "      <td>1.025956</td>\n",
       "      <td>-1.292503</td>\n",
       "      <td>-1.975675</td>\n",
       "      <td>-1.217168</td>\n",
       "      <td>0.127673</td>\n",
       "    </tr>\n",
       "    <tr>\n",
       "      <th>D</th>\n",
       "      <td>1.008874</td>\n",
       "      <td>0.089300</td>\n",
       "      <td>-0.583214</td>\n",
       "      <td>0.529144</td>\n",
       "      <td>-1.373446</td>\n",
       "      <td>0.767000</td>\n",
       "      <td>1.303692</td>\n",
       "    </tr>\n",
       "  </tbody>\n",
       "</table>\n",
       "</div>"
      ],
      "text/plain": [
       "   2022-03-19  2022-03-20  2022-03-21  2022-03-22  2022-03-23  2022-03-24  \\\n",
       "A    0.762224   -0.164790   -0.142070   -0.124626   -1.349510   -0.925852   \n",
       "B   -1.732843   -0.952079    2.069204   -0.779751    1.266786    0.766193   \n",
       "C   -1.495853    0.559604    1.025956   -1.292503   -1.975675   -1.217168   \n",
       "D    1.008874    0.089300   -0.583214    0.529144   -1.373446    0.767000   \n",
       "\n",
       "   2022-03-25  \n",
       "A    0.655130  \n",
       "B    0.623870  \n",
       "C    0.127673  \n",
       "D    1.303692  "
      ]
     },
     "execution_count": 16,
     "metadata": {},
     "output_type": "execute_result"
    }
   ],
   "source": [
    "df.T"
   ]
  },
  {
   "cell_type": "markdown",
   "metadata": {},
   "source": [
    "Sorting by an **axis**"
   ]
  },
  {
   "cell_type": "code",
   "execution_count": 17,
   "metadata": {},
   "outputs": [
    {
     "data": {
      "text/html": [
       "<div>\n",
       "<style scoped>\n",
       "    .dataframe tbody tr th:only-of-type {\n",
       "        vertical-align: middle;\n",
       "    }\n",
       "\n",
       "    .dataframe tbody tr th {\n",
       "        vertical-align: top;\n",
       "    }\n",
       "\n",
       "    .dataframe thead th {\n",
       "        text-align: right;\n",
       "    }\n",
       "</style>\n",
       "<table border=\"1\" class=\"dataframe\">\n",
       "  <thead>\n",
       "    <tr style=\"text-align: right;\">\n",
       "      <th></th>\n",
       "      <th>A</th>\n",
       "      <th>B</th>\n",
       "      <th>C</th>\n",
       "      <th>D</th>\n",
       "    </tr>\n",
       "  </thead>\n",
       "  <tbody>\n",
       "    <tr>\n",
       "      <th>2022-03-25</th>\n",
       "      <td>0.655130</td>\n",
       "      <td>0.623870</td>\n",
       "      <td>0.127673</td>\n",
       "      <td>1.303692</td>\n",
       "    </tr>\n",
       "    <tr>\n",
       "      <th>2022-03-24</th>\n",
       "      <td>-0.925852</td>\n",
       "      <td>0.766193</td>\n",
       "      <td>-1.217168</td>\n",
       "      <td>0.767000</td>\n",
       "    </tr>\n",
       "    <tr>\n",
       "      <th>2022-03-23</th>\n",
       "      <td>-1.349510</td>\n",
       "      <td>1.266786</td>\n",
       "      <td>-1.975675</td>\n",
       "      <td>-1.373446</td>\n",
       "    </tr>\n",
       "    <tr>\n",
       "      <th>2022-03-22</th>\n",
       "      <td>-0.124626</td>\n",
       "      <td>-0.779751</td>\n",
       "      <td>-1.292503</td>\n",
       "      <td>0.529144</td>\n",
       "    </tr>\n",
       "    <tr>\n",
       "      <th>2022-03-21</th>\n",
       "      <td>-0.142070</td>\n",
       "      <td>2.069204</td>\n",
       "      <td>1.025956</td>\n",
       "      <td>-0.583214</td>\n",
       "    </tr>\n",
       "    <tr>\n",
       "      <th>2022-03-20</th>\n",
       "      <td>-0.164790</td>\n",
       "      <td>-0.952079</td>\n",
       "      <td>0.559604</td>\n",
       "      <td>0.089300</td>\n",
       "    </tr>\n",
       "    <tr>\n",
       "      <th>2022-03-19</th>\n",
       "      <td>0.762224</td>\n",
       "      <td>-1.732843</td>\n",
       "      <td>-1.495853</td>\n",
       "      <td>1.008874</td>\n",
       "    </tr>\n",
       "  </tbody>\n",
       "</table>\n",
       "</div>"
      ],
      "text/plain": [
       "                   A         B         C         D\n",
       "2022-03-25  0.655130  0.623870  0.127673  1.303692\n",
       "2022-03-24 -0.925852  0.766193 -1.217168  0.767000\n",
       "2022-03-23 -1.349510  1.266786 -1.975675 -1.373446\n",
       "2022-03-22 -0.124626 -0.779751 -1.292503  0.529144\n",
       "2022-03-21 -0.142070  2.069204  1.025956 -0.583214\n",
       "2022-03-20 -0.164790 -0.952079  0.559604  0.089300\n",
       "2022-03-19  0.762224 -1.732843 -1.495853  1.008874"
      ]
     },
     "execution_count": 17,
     "metadata": {},
     "output_type": "execute_result"
    }
   ],
   "source": [
    "df.sort_index(axis=0, ascending=False)"
   ]
  },
  {
   "cell_type": "code",
   "execution_count": 18,
   "metadata": {},
   "outputs": [
    {
     "data": {
      "text/html": [
       "<div>\n",
       "<style scoped>\n",
       "    .dataframe tbody tr th:only-of-type {\n",
       "        vertical-align: middle;\n",
       "    }\n",
       "\n",
       "    .dataframe tbody tr th {\n",
       "        vertical-align: top;\n",
       "    }\n",
       "\n",
       "    .dataframe thead th {\n",
       "        text-align: right;\n",
       "    }\n",
       "</style>\n",
       "<table border=\"1\" class=\"dataframe\">\n",
       "  <thead>\n",
       "    <tr style=\"text-align: right;\">\n",
       "      <th></th>\n",
       "      <th>D</th>\n",
       "      <th>C</th>\n",
       "      <th>B</th>\n",
       "      <th>A</th>\n",
       "    </tr>\n",
       "  </thead>\n",
       "  <tbody>\n",
       "    <tr>\n",
       "      <th>2022-03-19</th>\n",
       "      <td>1.008874</td>\n",
       "      <td>-1.495853</td>\n",
       "      <td>-1.732843</td>\n",
       "      <td>0.762224</td>\n",
       "    </tr>\n",
       "    <tr>\n",
       "      <th>2022-03-20</th>\n",
       "      <td>0.089300</td>\n",
       "      <td>0.559604</td>\n",
       "      <td>-0.952079</td>\n",
       "      <td>-0.164790</td>\n",
       "    </tr>\n",
       "    <tr>\n",
       "      <th>2022-03-21</th>\n",
       "      <td>-0.583214</td>\n",
       "      <td>1.025956</td>\n",
       "      <td>2.069204</td>\n",
       "      <td>-0.142070</td>\n",
       "    </tr>\n",
       "    <tr>\n",
       "      <th>2022-03-22</th>\n",
       "      <td>0.529144</td>\n",
       "      <td>-1.292503</td>\n",
       "      <td>-0.779751</td>\n",
       "      <td>-0.124626</td>\n",
       "    </tr>\n",
       "    <tr>\n",
       "      <th>2022-03-23</th>\n",
       "      <td>-1.373446</td>\n",
       "      <td>-1.975675</td>\n",
       "      <td>1.266786</td>\n",
       "      <td>-1.349510</td>\n",
       "    </tr>\n",
       "    <tr>\n",
       "      <th>2022-03-24</th>\n",
       "      <td>0.767000</td>\n",
       "      <td>-1.217168</td>\n",
       "      <td>0.766193</td>\n",
       "      <td>-0.925852</td>\n",
       "    </tr>\n",
       "    <tr>\n",
       "      <th>2022-03-25</th>\n",
       "      <td>1.303692</td>\n",
       "      <td>0.127673</td>\n",
       "      <td>0.623870</td>\n",
       "      <td>0.655130</td>\n",
       "    </tr>\n",
       "  </tbody>\n",
       "</table>\n",
       "</div>"
      ],
      "text/plain": [
       "                   D         C         B         A\n",
       "2022-03-19  1.008874 -1.495853 -1.732843  0.762224\n",
       "2022-03-20  0.089300  0.559604 -0.952079 -0.164790\n",
       "2022-03-21 -0.583214  1.025956  2.069204 -0.142070\n",
       "2022-03-22  0.529144 -1.292503 -0.779751 -0.124626\n",
       "2022-03-23 -1.373446 -1.975675  1.266786 -1.349510\n",
       "2022-03-24  0.767000 -1.217168  0.766193 -0.925852\n",
       "2022-03-25  1.303692  0.127673  0.623870  0.655130"
      ]
     },
     "execution_count": 18,
     "metadata": {},
     "output_type": "execute_result"
    }
   ],
   "source": [
    "df.sort_index(axis=1, ascending=False)\n"
   ]
  },
  {
   "cell_type": "markdown",
   "metadata": {},
   "source": [
    "Sorting by values."
   ]
  },
  {
   "cell_type": "code",
   "execution_count": 19,
   "metadata": {},
   "outputs": [
    {
     "data": {
      "text/html": [
       "<div>\n",
       "<style scoped>\n",
       "    .dataframe tbody tr th:only-of-type {\n",
       "        vertical-align: middle;\n",
       "    }\n",
       "\n",
       "    .dataframe tbody tr th {\n",
       "        vertical-align: top;\n",
       "    }\n",
       "\n",
       "    .dataframe thead th {\n",
       "        text-align: right;\n",
       "    }\n",
       "</style>\n",
       "<table border=\"1\" class=\"dataframe\">\n",
       "  <thead>\n",
       "    <tr style=\"text-align: right;\">\n",
       "      <th></th>\n",
       "      <th>A</th>\n",
       "      <th>B</th>\n",
       "      <th>C</th>\n",
       "      <th>D</th>\n",
       "    </tr>\n",
       "  </thead>\n",
       "  <tbody>\n",
       "    <tr>\n",
       "      <th>2022-03-19</th>\n",
       "      <td>0.762224</td>\n",
       "      <td>-1.732843</td>\n",
       "      <td>-1.495853</td>\n",
       "      <td>1.008874</td>\n",
       "    </tr>\n",
       "    <tr>\n",
       "      <th>2022-03-20</th>\n",
       "      <td>-0.164790</td>\n",
       "      <td>-0.952079</td>\n",
       "      <td>0.559604</td>\n",
       "      <td>0.089300</td>\n",
       "    </tr>\n",
       "    <tr>\n",
       "      <th>2022-03-22</th>\n",
       "      <td>-0.124626</td>\n",
       "      <td>-0.779751</td>\n",
       "      <td>-1.292503</td>\n",
       "      <td>0.529144</td>\n",
       "    </tr>\n",
       "    <tr>\n",
       "      <th>2022-03-25</th>\n",
       "      <td>0.655130</td>\n",
       "      <td>0.623870</td>\n",
       "      <td>0.127673</td>\n",
       "      <td>1.303692</td>\n",
       "    </tr>\n",
       "    <tr>\n",
       "      <th>2022-03-24</th>\n",
       "      <td>-0.925852</td>\n",
       "      <td>0.766193</td>\n",
       "      <td>-1.217168</td>\n",
       "      <td>0.767000</td>\n",
       "    </tr>\n",
       "    <tr>\n",
       "      <th>2022-03-23</th>\n",
       "      <td>-1.349510</td>\n",
       "      <td>1.266786</td>\n",
       "      <td>-1.975675</td>\n",
       "      <td>-1.373446</td>\n",
       "    </tr>\n",
       "    <tr>\n",
       "      <th>2022-03-21</th>\n",
       "      <td>-0.142070</td>\n",
       "      <td>2.069204</td>\n",
       "      <td>1.025956</td>\n",
       "      <td>-0.583214</td>\n",
       "    </tr>\n",
       "  </tbody>\n",
       "</table>\n",
       "</div>"
      ],
      "text/plain": [
       "                   A         B         C         D\n",
       "2022-03-19  0.762224 -1.732843 -1.495853  1.008874\n",
       "2022-03-20 -0.164790 -0.952079  0.559604  0.089300\n",
       "2022-03-22 -0.124626 -0.779751 -1.292503  0.529144\n",
       "2022-03-25  0.655130  0.623870  0.127673  1.303692\n",
       "2022-03-24 -0.925852  0.766193 -1.217168  0.767000\n",
       "2022-03-23 -1.349510  1.266786 -1.975675 -1.373446\n",
       "2022-03-21 -0.142070  2.069204  1.025956 -0.583214"
      ]
     },
     "execution_count": 19,
     "metadata": {},
     "output_type": "execute_result"
    }
   ],
   "source": [
    "df.sort_values(by=\"B\")"
   ]
  },
  {
   "cell_type": "markdown",
   "metadata": {},
   "source": [
    "## Selection"
   ]
  },
  {
   "cell_type": "markdown",
   "metadata": {},
   "source": [
    "### Getting"
   ]
  },
  {
   "cell_type": "markdown",
   "metadata": {},
   "source": [
    "Selecting a single column, which yeild a `Series`, equivalent to `df.A`."
   ]
  },
  {
   "cell_type": "code",
   "execution_count": 20,
   "metadata": {},
   "outputs": [
    {
     "name": "stdout",
     "output_type": "stream",
     "text": [
      "df.A\n",
      "2022-03-19    0.762224\n",
      "2022-03-20   -0.164790\n",
      "2022-03-21   -0.142070\n",
      "2022-03-22   -0.124626\n",
      "2022-03-23   -1.349510\n",
      "2022-03-24   -0.925852\n",
      "2022-03-25    0.655130\n",
      "Freq: D, Name: A, dtype: float64\n",
      "==============================\n",
      "df[\"A\"]\n",
      "2022-03-19    0.762224\n",
      "2022-03-20   -0.164790\n",
      "2022-03-21   -0.142070\n",
      "2022-03-22   -0.124626\n",
      "2022-03-23   -1.349510\n",
      "2022-03-24   -0.925852\n",
      "2022-03-25    0.655130\n",
      "Freq: D, Name: A, dtype: float64\n"
     ]
    }
   ],
   "source": [
    "print(\"df.A\", df.A, sep=\"\\n\")\n",
    "print(\"=\"*30)\n",
    "print(\"df[\\\"A\\\"]\", df[\"A\"], sep=\"\\n\")"
   ]
  },
  {
   "cell_type": "markdown",
   "metadata": {},
   "source": [
    "Selecting via `[]`, which slicing the rows."
   ]
  },
  {
   "cell_type": "code",
   "execution_count": 21,
   "metadata": {},
   "outputs": [
    {
     "data": {
      "text/html": [
       "<div>\n",
       "<style scoped>\n",
       "    .dataframe tbody tr th:only-of-type {\n",
       "        vertical-align: middle;\n",
       "    }\n",
       "\n",
       "    .dataframe tbody tr th {\n",
       "        vertical-align: top;\n",
       "    }\n",
       "\n",
       "    .dataframe thead th {\n",
       "        text-align: right;\n",
       "    }\n",
       "</style>\n",
       "<table border=\"1\" class=\"dataframe\">\n",
       "  <thead>\n",
       "    <tr style=\"text-align: right;\">\n",
       "      <th></th>\n",
       "      <th>A</th>\n",
       "      <th>B</th>\n",
       "      <th>C</th>\n",
       "      <th>D</th>\n",
       "    </tr>\n",
       "  </thead>\n",
       "  <tbody>\n",
       "    <tr>\n",
       "      <th>2022-03-19</th>\n",
       "      <td>0.762224</td>\n",
       "      <td>-1.732843</td>\n",
       "      <td>-1.495853</td>\n",
       "      <td>1.008874</td>\n",
       "    </tr>\n",
       "    <tr>\n",
       "      <th>2022-03-20</th>\n",
       "      <td>-0.164790</td>\n",
       "      <td>-0.952079</td>\n",
       "      <td>0.559604</td>\n",
       "      <td>0.089300</td>\n",
       "    </tr>\n",
       "    <tr>\n",
       "      <th>2022-03-21</th>\n",
       "      <td>-0.142070</td>\n",
       "      <td>2.069204</td>\n",
       "      <td>1.025956</td>\n",
       "      <td>-0.583214</td>\n",
       "    </tr>\n",
       "  </tbody>\n",
       "</table>\n",
       "</div>"
      ],
      "text/plain": [
       "                   A         B         C         D\n",
       "2022-03-19  0.762224 -1.732843 -1.495853  1.008874\n",
       "2022-03-20 -0.164790 -0.952079  0.559604  0.089300\n",
       "2022-03-21 -0.142070  2.069204  1.025956 -0.583214"
      ]
     },
     "execution_count": 21,
     "metadata": {},
     "output_type": "execute_result"
    }
   ],
   "source": [
    "df[0:3]"
   ]
  },
  {
   "cell_type": "code",
   "execution_count": 22,
   "metadata": {},
   "outputs": [
    {
     "data": {
      "text/html": [
       "<div>\n",
       "<style scoped>\n",
       "    .dataframe tbody tr th:only-of-type {\n",
       "        vertical-align: middle;\n",
       "    }\n",
       "\n",
       "    .dataframe tbody tr th {\n",
       "        vertical-align: top;\n",
       "    }\n",
       "\n",
       "    .dataframe thead th {\n",
       "        text-align: right;\n",
       "    }\n",
       "</style>\n",
       "<table border=\"1\" class=\"dataframe\">\n",
       "  <thead>\n",
       "    <tr style=\"text-align: right;\">\n",
       "      <th></th>\n",
       "      <th>A</th>\n",
       "      <th>B</th>\n",
       "      <th>C</th>\n",
       "      <th>D</th>\n",
       "    </tr>\n",
       "  </thead>\n",
       "  <tbody>\n",
       "    <tr>\n",
       "      <th>2022-03-19</th>\n",
       "      <td>0.762224</td>\n",
       "      <td>-1.732843</td>\n",
       "      <td>-1.495853</td>\n",
       "      <td>1.008874</td>\n",
       "    </tr>\n",
       "    <tr>\n",
       "      <th>2022-03-20</th>\n",
       "      <td>-0.164790</td>\n",
       "      <td>-0.952079</td>\n",
       "      <td>0.559604</td>\n",
       "      <td>0.089300</td>\n",
       "    </tr>\n",
       "    <tr>\n",
       "      <th>2022-03-21</th>\n",
       "      <td>-0.142070</td>\n",
       "      <td>2.069204</td>\n",
       "      <td>1.025956</td>\n",
       "      <td>-0.583214</td>\n",
       "    </tr>\n",
       "  </tbody>\n",
       "</table>\n",
       "</div>"
      ],
      "text/plain": [
       "                   A         B         C         D\n",
       "2022-03-19  0.762224 -1.732843 -1.495853  1.008874\n",
       "2022-03-20 -0.164790 -0.952079  0.559604  0.089300\n",
       "2022-03-21 -0.142070  2.069204  1.025956 -0.583214"
      ]
     },
     "execution_count": 22,
     "metadata": {},
     "output_type": "execute_result"
    }
   ],
   "source": [
    "df[\"20220319\":\"20220321\"]"
   ]
  },
  {
   "cell_type": "markdown",
   "metadata": {},
   "source": [
    "## Selection by label"
   ]
  },
  {
   "cell_type": "markdown",
   "metadata": {},
   "source": [
    "For getting a cross section using a label."
   ]
  },
  {
   "cell_type": "code",
   "execution_count": 23,
   "metadata": {},
   "outputs": [
    {
     "data": {
      "text/plain": [
       "A    0.762224\n",
       "B   -1.732843\n",
       "C   -1.495853\n",
       "D    1.008874\n",
       "Name: 2022-03-19 00:00:00, dtype: float64"
      ]
     },
     "execution_count": 23,
     "metadata": {},
     "output_type": "execute_result"
    }
   ],
   "source": [
    "df.loc[dates[0]]"
   ]
  },
  {
   "cell_type": "markdown",
   "metadata": {},
   "source": [
    "Selecting on a multi-axis by label."
   ]
  },
  {
   "cell_type": "code",
   "execution_count": 24,
   "metadata": {},
   "outputs": [
    {
     "data": {
      "text/html": [
       "<div>\n",
       "<style scoped>\n",
       "    .dataframe tbody tr th:only-of-type {\n",
       "        vertical-align: middle;\n",
       "    }\n",
       "\n",
       "    .dataframe tbody tr th {\n",
       "        vertical-align: top;\n",
       "    }\n",
       "\n",
       "    .dataframe thead th {\n",
       "        text-align: right;\n",
       "    }\n",
       "</style>\n",
       "<table border=\"1\" class=\"dataframe\">\n",
       "  <thead>\n",
       "    <tr style=\"text-align: right;\">\n",
       "      <th></th>\n",
       "      <th>A</th>\n",
       "      <th>B</th>\n",
       "    </tr>\n",
       "  </thead>\n",
       "  <tbody>\n",
       "    <tr>\n",
       "      <th>2022-03-19</th>\n",
       "      <td>0.762224</td>\n",
       "      <td>-1.732843</td>\n",
       "    </tr>\n",
       "    <tr>\n",
       "      <th>2022-03-20</th>\n",
       "      <td>-0.164790</td>\n",
       "      <td>-0.952079</td>\n",
       "    </tr>\n",
       "    <tr>\n",
       "      <th>2022-03-21</th>\n",
       "      <td>-0.142070</td>\n",
       "      <td>2.069204</td>\n",
       "    </tr>\n",
       "    <tr>\n",
       "      <th>2022-03-22</th>\n",
       "      <td>-0.124626</td>\n",
       "      <td>-0.779751</td>\n",
       "    </tr>\n",
       "    <tr>\n",
       "      <th>2022-03-23</th>\n",
       "      <td>-1.349510</td>\n",
       "      <td>1.266786</td>\n",
       "    </tr>\n",
       "    <tr>\n",
       "      <th>2022-03-24</th>\n",
       "      <td>-0.925852</td>\n",
       "      <td>0.766193</td>\n",
       "    </tr>\n",
       "    <tr>\n",
       "      <th>2022-03-25</th>\n",
       "      <td>0.655130</td>\n",
       "      <td>0.623870</td>\n",
       "    </tr>\n",
       "  </tbody>\n",
       "</table>\n",
       "</div>"
      ],
      "text/plain": [
       "                   A         B\n",
       "2022-03-19  0.762224 -1.732843\n",
       "2022-03-20 -0.164790 -0.952079\n",
       "2022-03-21 -0.142070  2.069204\n",
       "2022-03-22 -0.124626 -0.779751\n",
       "2022-03-23 -1.349510  1.266786\n",
       "2022-03-24 -0.925852  0.766193\n",
       "2022-03-25  0.655130  0.623870"
      ]
     },
     "execution_count": 24,
     "metadata": {},
     "output_type": "execute_result"
    }
   ],
   "source": [
    "df.loc[:, [\"A\", \"B\"]]"
   ]
  },
  {
   "cell_type": "markdown",
   "metadata": {},
   "source": [
    "Showing label slicing, both endpoints are included."
   ]
  },
  {
   "cell_type": "code",
   "execution_count": 25,
   "metadata": {},
   "outputs": [
    {
     "data": {
      "text/html": [
       "<div>\n",
       "<style scoped>\n",
       "    .dataframe tbody tr th:only-of-type {\n",
       "        vertical-align: middle;\n",
       "    }\n",
       "\n",
       "    .dataframe tbody tr th {\n",
       "        vertical-align: top;\n",
       "    }\n",
       "\n",
       "    .dataframe thead th {\n",
       "        text-align: right;\n",
       "    }\n",
       "</style>\n",
       "<table border=\"1\" class=\"dataframe\">\n",
       "  <thead>\n",
       "    <tr style=\"text-align: right;\">\n",
       "      <th></th>\n",
       "      <th>C</th>\n",
       "      <th>D</th>\n",
       "    </tr>\n",
       "  </thead>\n",
       "  <tbody>\n",
       "    <tr>\n",
       "      <th>2022-03-19</th>\n",
       "      <td>-1.495853</td>\n",
       "      <td>1.008874</td>\n",
       "    </tr>\n",
       "    <tr>\n",
       "      <th>2022-03-20</th>\n",
       "      <td>0.559604</td>\n",
       "      <td>0.089300</td>\n",
       "    </tr>\n",
       "    <tr>\n",
       "      <th>2022-03-21</th>\n",
       "      <td>1.025956</td>\n",
       "      <td>-0.583214</td>\n",
       "    </tr>\n",
       "  </tbody>\n",
       "</table>\n",
       "</div>"
      ],
      "text/plain": [
       "                   C         D\n",
       "2022-03-19 -1.495853  1.008874\n",
       "2022-03-20  0.559604  0.089300\n",
       "2022-03-21  1.025956 -0.583214"
      ]
     },
     "execution_count": 25,
     "metadata": {},
     "output_type": "execute_result"
    }
   ],
   "source": [
    "df.loc[\"20220319\":\"20220321\", [\"C\", \"D\"]]"
   ]
  },
  {
   "cell_type": "markdown",
   "metadata": {},
   "source": [
    "Reduction in the dimensions of returned object."
   ]
  },
  {
   "cell_type": "code",
   "execution_count": 26,
   "metadata": {},
   "outputs": [
    {
     "data": {
      "text/plain": [
       "B    0.766193\n",
       "C   -1.217168\n",
       "Name: 2022-03-24 00:00:00, dtype: float64"
      ]
     },
     "execution_count": 26,
     "metadata": {},
     "output_type": "execute_result"
    }
   ],
   "source": [
    "df.loc[\"20220324\", [\"B\", \"C\"]]"
   ]
  },
  {
   "cell_type": "markdown",
   "metadata": {},
   "source": [
    "For getting a scalar value."
   ]
  },
  {
   "cell_type": "code",
   "execution_count": 27,
   "metadata": {},
   "outputs": [
    {
     "data": {
      "text/plain": [
       "-0.16479029797729877"
      ]
     },
     "execution_count": 27,
     "metadata": {},
     "output_type": "execute_result"
    }
   ],
   "source": [
    "df.loc[dates[1], \"A\"]"
   ]
  },
  {
   "cell_type": "markdown",
   "metadata": {},
   "source": [
    "For getting fast access to a scalar (equivalent to the prior method)."
   ]
  },
  {
   "cell_type": "code",
   "execution_count": 28,
   "metadata": {},
   "outputs": [
    {
     "data": {
      "text/plain": [
       "-0.16479029797729877"
      ]
     },
     "execution_count": 28,
     "metadata": {},
     "output_type": "execute_result"
    }
   ],
   "source": [
    "df.at[dates[1], \"A\"]"
   ]
  },
  {
   "cell_type": "markdown",
   "metadata": {},
   "source": [
    "## Selection by position"
   ]
  },
  {
   "cell_type": "markdown",
   "metadata": {},
   "source": [
    "Select via the position of the passed integers."
   ]
  },
  {
   "cell_type": "code",
   "execution_count": 29,
   "metadata": {},
   "outputs": [
    {
     "data": {
      "text/plain": [
       "A   -0.124626\n",
       "B   -0.779751\n",
       "C   -1.292503\n",
       "D    0.529144\n",
       "Name: 2022-03-22 00:00:00, dtype: float64"
      ]
     },
     "execution_count": 29,
     "metadata": {},
     "output_type": "execute_result"
    }
   ],
   "source": [
    "df.iloc[3]\n",
    "# equivalent to df.loc[dates[3]]"
   ]
  },
  {
   "cell_type": "markdown",
   "metadata": {},
   "source": [
    "By integer slices, acting similar to `Numpy/Python`."
   ]
  },
  {
   "cell_type": "code",
   "execution_count": 30,
   "metadata": {},
   "outputs": [
    {
     "data": {
      "text/html": [
       "<div>\n",
       "<style scoped>\n",
       "    .dataframe tbody tr th:only-of-type {\n",
       "        vertical-align: middle;\n",
       "    }\n",
       "\n",
       "    .dataframe tbody tr th {\n",
       "        vertical-align: top;\n",
       "    }\n",
       "\n",
       "    .dataframe thead th {\n",
       "        text-align: right;\n",
       "    }\n",
       "</style>\n",
       "<table border=\"1\" class=\"dataframe\">\n",
       "  <thead>\n",
       "    <tr style=\"text-align: right;\">\n",
       "      <th></th>\n",
       "      <th>A</th>\n",
       "      <th>B</th>\n",
       "    </tr>\n",
       "  </thead>\n",
       "  <tbody>\n",
       "    <tr>\n",
       "      <th>2022-03-22</th>\n",
       "      <td>-0.124626</td>\n",
       "      <td>-0.779751</td>\n",
       "    </tr>\n",
       "    <tr>\n",
       "      <th>2022-03-23</th>\n",
       "      <td>-1.349510</td>\n",
       "      <td>1.266786</td>\n",
       "    </tr>\n",
       "  </tbody>\n",
       "</table>\n",
       "</div>"
      ],
      "text/plain": [
       "                   A         B\n",
       "2022-03-22 -0.124626 -0.779751\n",
       "2022-03-23 -1.349510  1.266786"
      ]
     },
     "execution_count": 30,
     "metadata": {},
     "output_type": "execute_result"
    }
   ],
   "source": [
    "df.iloc[3:5, 0:2]\n",
    "# equivalent to df.loc[\"20220322\":\"20220323\", [\"A\", \"B\"]]"
   ]
  },
  {
   "cell_type": "markdown",
   "metadata": {},
   "source": [
    "By list of integer position locations, similar to the `Numpy/Python` style."
   ]
  },
  {
   "cell_type": "code",
   "execution_count": 31,
   "metadata": {},
   "outputs": [
    {
     "data": {
      "text/html": [
       "<div>\n",
       "<style scoped>\n",
       "    .dataframe tbody tr th:only-of-type {\n",
       "        vertical-align: middle;\n",
       "    }\n",
       "\n",
       "    .dataframe tbody tr th {\n",
       "        vertical-align: top;\n",
       "    }\n",
       "\n",
       "    .dataframe thead th {\n",
       "        text-align: right;\n",
       "    }\n",
       "</style>\n",
       "<table border=\"1\" class=\"dataframe\">\n",
       "  <thead>\n",
       "    <tr style=\"text-align: right;\">\n",
       "      <th></th>\n",
       "      <th>A</th>\n",
       "      <th>C</th>\n",
       "    </tr>\n",
       "  </thead>\n",
       "  <tbody>\n",
       "    <tr>\n",
       "      <th>2022-03-20</th>\n",
       "      <td>-0.16479</td>\n",
       "      <td>0.559604</td>\n",
       "    </tr>\n",
       "    <tr>\n",
       "      <th>2022-03-21</th>\n",
       "      <td>-0.14207</td>\n",
       "      <td>1.025956</td>\n",
       "    </tr>\n",
       "    <tr>\n",
       "      <th>2022-03-23</th>\n",
       "      <td>-1.34951</td>\n",
       "      <td>-1.975675</td>\n",
       "    </tr>\n",
       "  </tbody>\n",
       "</table>\n",
       "</div>"
      ],
      "text/plain": [
       "                  A         C\n",
       "2022-03-20 -0.16479  0.559604\n",
       "2022-03-21 -0.14207  1.025956\n",
       "2022-03-23 -1.34951 -1.975675"
      ]
     },
     "execution_count": 31,
     "metadata": {},
     "output_type": "execute_result"
    }
   ],
   "source": [
    "df.iloc[[1, 2, 4], [0, 2]]\n",
    "# equivalent to df.loc[\"20220320\":\"20220323\", [\"B\", \"C\"]]"
   ]
  },
  {
   "cell_type": "markdown",
   "metadata": {},
   "source": [
    "For slicing rows explicitly."
   ]
  },
  {
   "cell_type": "code",
   "execution_count": 32,
   "metadata": {},
   "outputs": [
    {
     "data": {
      "text/html": [
       "<div>\n",
       "<style scoped>\n",
       "    .dataframe tbody tr th:only-of-type {\n",
       "        vertical-align: middle;\n",
       "    }\n",
       "\n",
       "    .dataframe tbody tr th {\n",
       "        vertical-align: top;\n",
       "    }\n",
       "\n",
       "    .dataframe thead th {\n",
       "        text-align: right;\n",
       "    }\n",
       "</style>\n",
       "<table border=\"1\" class=\"dataframe\">\n",
       "  <thead>\n",
       "    <tr style=\"text-align: right;\">\n",
       "      <th></th>\n",
       "      <th>A</th>\n",
       "      <th>B</th>\n",
       "      <th>C</th>\n",
       "      <th>D</th>\n",
       "    </tr>\n",
       "  </thead>\n",
       "  <tbody>\n",
       "    <tr>\n",
       "      <th>2022-03-20</th>\n",
       "      <td>-0.16479</td>\n",
       "      <td>-0.952079</td>\n",
       "      <td>0.559604</td>\n",
       "      <td>0.089300</td>\n",
       "    </tr>\n",
       "    <tr>\n",
       "      <th>2022-03-21</th>\n",
       "      <td>-0.14207</td>\n",
       "      <td>2.069204</td>\n",
       "      <td>1.025956</td>\n",
       "      <td>-0.583214</td>\n",
       "    </tr>\n",
       "  </tbody>\n",
       "</table>\n",
       "</div>"
      ],
      "text/plain": [
       "                  A         B         C         D\n",
       "2022-03-20 -0.16479 -0.952079  0.559604  0.089300\n",
       "2022-03-21 -0.14207  2.069204  1.025956 -0.583214"
      ]
     },
     "execution_count": 32,
     "metadata": {},
     "output_type": "execute_result"
    }
   ],
   "source": [
    "df.iloc[1:3, :]"
   ]
  },
  {
   "cell_type": "markdown",
   "metadata": {},
   "source": [
    "For slicing columns explicitly."
   ]
  },
  {
   "cell_type": "code",
   "execution_count": 33,
   "metadata": {},
   "outputs": [
    {
     "data": {
      "text/html": [
       "<div>\n",
       "<style scoped>\n",
       "    .dataframe tbody tr th:only-of-type {\n",
       "        vertical-align: middle;\n",
       "    }\n",
       "\n",
       "    .dataframe tbody tr th {\n",
       "        vertical-align: top;\n",
       "    }\n",
       "\n",
       "    .dataframe thead th {\n",
       "        text-align: right;\n",
       "    }\n",
       "</style>\n",
       "<table border=\"1\" class=\"dataframe\">\n",
       "  <thead>\n",
       "    <tr style=\"text-align: right;\">\n",
       "      <th></th>\n",
       "      <th>B</th>\n",
       "      <th>C</th>\n",
       "    </tr>\n",
       "  </thead>\n",
       "  <tbody>\n",
       "    <tr>\n",
       "      <th>2022-03-19</th>\n",
       "      <td>-1.732843</td>\n",
       "      <td>-1.495853</td>\n",
       "    </tr>\n",
       "    <tr>\n",
       "      <th>2022-03-20</th>\n",
       "      <td>-0.952079</td>\n",
       "      <td>0.559604</td>\n",
       "    </tr>\n",
       "    <tr>\n",
       "      <th>2022-03-21</th>\n",
       "      <td>2.069204</td>\n",
       "      <td>1.025956</td>\n",
       "    </tr>\n",
       "    <tr>\n",
       "      <th>2022-03-22</th>\n",
       "      <td>-0.779751</td>\n",
       "      <td>-1.292503</td>\n",
       "    </tr>\n",
       "    <tr>\n",
       "      <th>2022-03-23</th>\n",
       "      <td>1.266786</td>\n",
       "      <td>-1.975675</td>\n",
       "    </tr>\n",
       "    <tr>\n",
       "      <th>2022-03-24</th>\n",
       "      <td>0.766193</td>\n",
       "      <td>-1.217168</td>\n",
       "    </tr>\n",
       "    <tr>\n",
       "      <th>2022-03-25</th>\n",
       "      <td>0.623870</td>\n",
       "      <td>0.127673</td>\n",
       "    </tr>\n",
       "  </tbody>\n",
       "</table>\n",
       "</div>"
      ],
      "text/plain": [
       "                   B         C\n",
       "2022-03-19 -1.732843 -1.495853\n",
       "2022-03-20 -0.952079  0.559604\n",
       "2022-03-21  2.069204  1.025956\n",
       "2022-03-22 -0.779751 -1.292503\n",
       "2022-03-23  1.266786 -1.975675\n",
       "2022-03-24  0.766193 -1.217168\n",
       "2022-03-25  0.623870  0.127673"
      ]
     },
     "execution_count": 33,
     "metadata": {},
     "output_type": "execute_result"
    }
   ],
   "source": [
    "df.iloc[:, 1:3]"
   ]
  },
  {
   "cell_type": "markdown",
   "metadata": {},
   "source": [
    "For getting a value explicitly."
   ]
  },
  {
   "cell_type": "code",
   "execution_count": 34,
   "metadata": {},
   "outputs": [
    {
     "data": {
      "text/plain": [
       "-0.9520785932011266"
      ]
     },
     "execution_count": 34,
     "metadata": {},
     "output_type": "execute_result"
    }
   ],
   "source": [
    "df.iloc[1, 1]"
   ]
  },
  {
   "cell_type": "markdown",
   "metadata": {},
   "source": [
    "For getting fast access to a scalar (equivalent to the prior method)."
   ]
  },
  {
   "cell_type": "code",
   "execution_count": 35,
   "metadata": {},
   "outputs": [
    {
     "data": {
      "text/plain": [
       "-0.9520785932011266"
      ]
     },
     "execution_count": 35,
     "metadata": {},
     "output_type": "execute_result"
    }
   ],
   "source": [
    "df.iat[1, 1]"
   ]
  },
  {
   "cell_type": "markdown",
   "metadata": {},
   "source": [
    "## Boolean indexing"
   ]
  },
  {
   "cell_type": "markdown",
   "metadata": {},
   "source": [
    "Using a single column's values to select data."
   ]
  },
  {
   "cell_type": "code",
   "execution_count": 36,
   "metadata": {},
   "outputs": [
    {
     "data": {
      "text/html": [
       "<div>\n",
       "<style scoped>\n",
       "    .dataframe tbody tr th:only-of-type {\n",
       "        vertical-align: middle;\n",
       "    }\n",
       "\n",
       "    .dataframe tbody tr th {\n",
       "        vertical-align: top;\n",
       "    }\n",
       "\n",
       "    .dataframe thead th {\n",
       "        text-align: right;\n",
       "    }\n",
       "</style>\n",
       "<table border=\"1\" class=\"dataframe\">\n",
       "  <thead>\n",
       "    <tr style=\"text-align: right;\">\n",
       "      <th></th>\n",
       "      <th>A</th>\n",
       "      <th>B</th>\n",
       "      <th>C</th>\n",
       "      <th>D</th>\n",
       "    </tr>\n",
       "  </thead>\n",
       "  <tbody>\n",
       "    <tr>\n",
       "      <th>2022-03-19</th>\n",
       "      <td>0.762224</td>\n",
       "      <td>-1.732843</td>\n",
       "      <td>-1.495853</td>\n",
       "      <td>1.008874</td>\n",
       "    </tr>\n",
       "    <tr>\n",
       "      <th>2022-03-25</th>\n",
       "      <td>0.655130</td>\n",
       "      <td>0.623870</td>\n",
       "      <td>0.127673</td>\n",
       "      <td>1.303692</td>\n",
       "    </tr>\n",
       "  </tbody>\n",
       "</table>\n",
       "</div>"
      ],
      "text/plain": [
       "                   A         B         C         D\n",
       "2022-03-19  0.762224 -1.732843 -1.495853  1.008874\n",
       "2022-03-25  0.655130  0.623870  0.127673  1.303692"
      ]
     },
     "execution_count": 36,
     "metadata": {},
     "output_type": "execute_result"
    }
   ],
   "source": [
    "df[df[\"A\"] > 0]"
   ]
  },
  {
   "cell_type": "markdown",
   "metadata": {},
   "source": [
    "Selecting values from a **DataFrame** where a boolean condition is met."
   ]
  },
  {
   "cell_type": "code",
   "execution_count": 37,
   "metadata": {},
   "outputs": [
    {
     "data": {
      "text/html": [
       "<div>\n",
       "<style scoped>\n",
       "    .dataframe tbody tr th:only-of-type {\n",
       "        vertical-align: middle;\n",
       "    }\n",
       "\n",
       "    .dataframe tbody tr th {\n",
       "        vertical-align: top;\n",
       "    }\n",
       "\n",
       "    .dataframe thead th {\n",
       "        text-align: right;\n",
       "    }\n",
       "</style>\n",
       "<table border=\"1\" class=\"dataframe\">\n",
       "  <thead>\n",
       "    <tr style=\"text-align: right;\">\n",
       "      <th></th>\n",
       "      <th>A</th>\n",
       "      <th>B</th>\n",
       "      <th>C</th>\n",
       "      <th>D</th>\n",
       "    </tr>\n",
       "  </thead>\n",
       "  <tbody>\n",
       "    <tr>\n",
       "      <th>2022-03-19</th>\n",
       "      <td>0.762224</td>\n",
       "      <td>NaN</td>\n",
       "      <td>NaN</td>\n",
       "      <td>1.008874</td>\n",
       "    </tr>\n",
       "    <tr>\n",
       "      <th>2022-03-20</th>\n",
       "      <td>NaN</td>\n",
       "      <td>NaN</td>\n",
       "      <td>0.559604</td>\n",
       "      <td>0.089300</td>\n",
       "    </tr>\n",
       "    <tr>\n",
       "      <th>2022-03-21</th>\n",
       "      <td>NaN</td>\n",
       "      <td>2.069204</td>\n",
       "      <td>1.025956</td>\n",
       "      <td>NaN</td>\n",
       "    </tr>\n",
       "    <tr>\n",
       "      <th>2022-03-22</th>\n",
       "      <td>NaN</td>\n",
       "      <td>NaN</td>\n",
       "      <td>NaN</td>\n",
       "      <td>0.529144</td>\n",
       "    </tr>\n",
       "    <tr>\n",
       "      <th>2022-03-23</th>\n",
       "      <td>NaN</td>\n",
       "      <td>1.266786</td>\n",
       "      <td>NaN</td>\n",
       "      <td>NaN</td>\n",
       "    </tr>\n",
       "    <tr>\n",
       "      <th>2022-03-24</th>\n",
       "      <td>NaN</td>\n",
       "      <td>0.766193</td>\n",
       "      <td>NaN</td>\n",
       "      <td>0.767000</td>\n",
       "    </tr>\n",
       "    <tr>\n",
       "      <th>2022-03-25</th>\n",
       "      <td>0.655130</td>\n",
       "      <td>0.623870</td>\n",
       "      <td>0.127673</td>\n",
       "      <td>1.303692</td>\n",
       "    </tr>\n",
       "  </tbody>\n",
       "</table>\n",
       "</div>"
      ],
      "text/plain": [
       "                   A         B         C         D\n",
       "2022-03-19  0.762224       NaN       NaN  1.008874\n",
       "2022-03-20       NaN       NaN  0.559604  0.089300\n",
       "2022-03-21       NaN  2.069204  1.025956       NaN\n",
       "2022-03-22       NaN       NaN       NaN  0.529144\n",
       "2022-03-23       NaN  1.266786       NaN       NaN\n",
       "2022-03-24       NaN  0.766193       NaN  0.767000\n",
       "2022-03-25  0.655130  0.623870  0.127673  1.303692"
      ]
     },
     "execution_count": 37,
     "metadata": {},
     "output_type": "execute_result"
    }
   ],
   "source": [
    "df[df > 0]"
   ]
  },
  {
   "cell_type": "markdown",
   "metadata": {},
   "source": [
    "Using `isin()` method for filtering."
   ]
  },
  {
   "cell_type": "code",
   "execution_count": 38,
   "metadata": {},
   "outputs": [
    {
     "data": {
      "text/html": [
       "<div>\n",
       "<style scoped>\n",
       "    .dataframe tbody tr th:only-of-type {\n",
       "        vertical-align: middle;\n",
       "    }\n",
       "\n",
       "    .dataframe tbody tr th {\n",
       "        vertical-align: top;\n",
       "    }\n",
       "\n",
       "    .dataframe thead th {\n",
       "        text-align: right;\n",
       "    }\n",
       "</style>\n",
       "<table border=\"1\" class=\"dataframe\">\n",
       "  <thead>\n",
       "    <tr style=\"text-align: right;\">\n",
       "      <th></th>\n",
       "      <th>A</th>\n",
       "      <th>B</th>\n",
       "      <th>C</th>\n",
       "      <th>D</th>\n",
       "      <th>E</th>\n",
       "    </tr>\n",
       "  </thead>\n",
       "  <tbody>\n",
       "    <tr>\n",
       "      <th>2022-03-19</th>\n",
       "      <td>0.762224</td>\n",
       "      <td>-1.732843</td>\n",
       "      <td>-1.495853</td>\n",
       "      <td>1.008874</td>\n",
       "      <td>one</td>\n",
       "    </tr>\n",
       "    <tr>\n",
       "      <th>2022-03-20</th>\n",
       "      <td>-0.164790</td>\n",
       "      <td>-0.952079</td>\n",
       "      <td>0.559604</td>\n",
       "      <td>0.089300</td>\n",
       "      <td>two</td>\n",
       "    </tr>\n",
       "    <tr>\n",
       "      <th>2022-03-21</th>\n",
       "      <td>-0.142070</td>\n",
       "      <td>2.069204</td>\n",
       "      <td>1.025956</td>\n",
       "      <td>-0.583214</td>\n",
       "      <td>three</td>\n",
       "    </tr>\n",
       "    <tr>\n",
       "      <th>2022-03-22</th>\n",
       "      <td>-0.124626</td>\n",
       "      <td>-0.779751</td>\n",
       "      <td>-1.292503</td>\n",
       "      <td>0.529144</td>\n",
       "      <td>four</td>\n",
       "    </tr>\n",
       "    <tr>\n",
       "      <th>2022-03-23</th>\n",
       "      <td>-1.349510</td>\n",
       "      <td>1.266786</td>\n",
       "      <td>-1.975675</td>\n",
       "      <td>-1.373446</td>\n",
       "      <td>five</td>\n",
       "    </tr>\n",
       "    <tr>\n",
       "      <th>2022-03-24</th>\n",
       "      <td>-0.925852</td>\n",
       "      <td>0.766193</td>\n",
       "      <td>-1.217168</td>\n",
       "      <td>0.767000</td>\n",
       "      <td>six</td>\n",
       "    </tr>\n",
       "    <tr>\n",
       "      <th>2022-03-25</th>\n",
       "      <td>0.655130</td>\n",
       "      <td>0.623870</td>\n",
       "      <td>0.127673</td>\n",
       "      <td>1.303692</td>\n",
       "      <td>seven</td>\n",
       "    </tr>\n",
       "  </tbody>\n",
       "</table>\n",
       "</div>"
      ],
      "text/plain": [
       "                   A         B         C         D      E\n",
       "2022-03-19  0.762224 -1.732843 -1.495853  1.008874    one\n",
       "2022-03-20 -0.164790 -0.952079  0.559604  0.089300    two\n",
       "2022-03-21 -0.142070  2.069204  1.025956 -0.583214  three\n",
       "2022-03-22 -0.124626 -0.779751 -1.292503  0.529144   four\n",
       "2022-03-23 -1.349510  1.266786 -1.975675 -1.373446   five\n",
       "2022-03-24 -0.925852  0.766193 -1.217168  0.767000    six\n",
       "2022-03-25  0.655130  0.623870  0.127673  1.303692  seven"
      ]
     },
     "execution_count": 38,
     "metadata": {},
     "output_type": "execute_result"
    }
   ],
   "source": [
    "df_copy = df.copy()\n",
    "df_copy[\"E\"] = [\"one\", \"two\", \"three\", \"four\", \"five\", \"six\", \"seven\"]\n",
    "df_copy"
   ]
  },
  {
   "cell_type": "code",
   "execution_count": 39,
   "metadata": {},
   "outputs": [
    {
     "data": {
      "text/html": [
       "<div>\n",
       "<style scoped>\n",
       "    .dataframe tbody tr th:only-of-type {\n",
       "        vertical-align: middle;\n",
       "    }\n",
       "\n",
       "    .dataframe tbody tr th {\n",
       "        vertical-align: top;\n",
       "    }\n",
       "\n",
       "    .dataframe thead th {\n",
       "        text-align: right;\n",
       "    }\n",
       "</style>\n",
       "<table border=\"1\" class=\"dataframe\">\n",
       "  <thead>\n",
       "    <tr style=\"text-align: right;\">\n",
       "      <th></th>\n",
       "      <th>A</th>\n",
       "      <th>B</th>\n",
       "      <th>C</th>\n",
       "      <th>D</th>\n",
       "      <th>E</th>\n",
       "    </tr>\n",
       "  </thead>\n",
       "  <tbody>\n",
       "    <tr>\n",
       "      <th>2022-03-21</th>\n",
       "      <td>-0.142070</td>\n",
       "      <td>2.069204</td>\n",
       "      <td>1.025956</td>\n",
       "      <td>-0.583214</td>\n",
       "      <td>three</td>\n",
       "    </tr>\n",
       "    <tr>\n",
       "      <th>2022-03-24</th>\n",
       "      <td>-0.925852</td>\n",
       "      <td>0.766193</td>\n",
       "      <td>-1.217168</td>\n",
       "      <td>0.767000</td>\n",
       "      <td>six</td>\n",
       "    </tr>\n",
       "  </tbody>\n",
       "</table>\n",
       "</div>"
      ],
      "text/plain": [
       "                   A         B         C         D      E\n",
       "2022-03-21 -0.142070  2.069204  1.025956 -0.583214  three\n",
       "2022-03-24 -0.925852  0.766193 -1.217168  0.767000    six"
      ]
     },
     "execution_count": 39,
     "metadata": {},
     "output_type": "execute_result"
    }
   ],
   "source": [
    "df_copy[df_copy[\"E\"].isin([\"three\", \"six\"])]"
   ]
  },
  {
   "cell_type": "markdown",
   "metadata": {},
   "source": [
    "## Setting"
   ]
  },
  {
   "cell_type": "markdown",
   "metadata": {},
   "source": [
    "Setting a new column automatically aligns the data by the indexes."
   ]
  },
  {
   "cell_type": "code",
   "execution_count": 40,
   "metadata": {},
   "outputs": [
    {
     "data": {
      "text/plain": [
       "2022-03-19    1\n",
       "2022-03-20    2\n",
       "2022-03-21    3\n",
       "2022-03-22    4\n",
       "2022-03-23    5\n",
       "2022-03-24    6\n",
       "2022-03-25    7\n",
       "Freq: D, dtype: int64"
      ]
     },
     "execution_count": 40,
     "metadata": {},
     "output_type": "execute_result"
    }
   ],
   "source": [
    "s1 = pd.Series(list(range(1, 8)), index=pd.date_range(\"20220319\", periods=7))\n",
    "s1"
   ]
  },
  {
   "cell_type": "code",
   "execution_count": 41,
   "metadata": {},
   "outputs": [
    {
     "data": {
      "text/html": [
       "<div>\n",
       "<style scoped>\n",
       "    .dataframe tbody tr th:only-of-type {\n",
       "        vertical-align: middle;\n",
       "    }\n",
       "\n",
       "    .dataframe tbody tr th {\n",
       "        vertical-align: top;\n",
       "    }\n",
       "\n",
       "    .dataframe thead th {\n",
       "        text-align: right;\n",
       "    }\n",
       "</style>\n",
       "<table border=\"1\" class=\"dataframe\">\n",
       "  <thead>\n",
       "    <tr style=\"text-align: right;\">\n",
       "      <th></th>\n",
       "      <th>A</th>\n",
       "      <th>B</th>\n",
       "      <th>C</th>\n",
       "      <th>D</th>\n",
       "      <th>F</th>\n",
       "    </tr>\n",
       "  </thead>\n",
       "  <tbody>\n",
       "    <tr>\n",
       "      <th>2022-03-19</th>\n",
       "      <td>0.762224</td>\n",
       "      <td>-1.732843</td>\n",
       "      <td>-1.495853</td>\n",
       "      <td>1.008874</td>\n",
       "      <td>1</td>\n",
       "    </tr>\n",
       "    <tr>\n",
       "      <th>2022-03-20</th>\n",
       "      <td>-0.164790</td>\n",
       "      <td>-0.952079</td>\n",
       "      <td>0.559604</td>\n",
       "      <td>0.089300</td>\n",
       "      <td>2</td>\n",
       "    </tr>\n",
       "    <tr>\n",
       "      <th>2022-03-21</th>\n",
       "      <td>-0.142070</td>\n",
       "      <td>2.069204</td>\n",
       "      <td>1.025956</td>\n",
       "      <td>-0.583214</td>\n",
       "      <td>3</td>\n",
       "    </tr>\n",
       "    <tr>\n",
       "      <th>2022-03-22</th>\n",
       "      <td>-0.124626</td>\n",
       "      <td>-0.779751</td>\n",
       "      <td>-1.292503</td>\n",
       "      <td>0.529144</td>\n",
       "      <td>4</td>\n",
       "    </tr>\n",
       "    <tr>\n",
       "      <th>2022-03-23</th>\n",
       "      <td>-1.349510</td>\n",
       "      <td>1.266786</td>\n",
       "      <td>-1.975675</td>\n",
       "      <td>-1.373446</td>\n",
       "      <td>5</td>\n",
       "    </tr>\n",
       "    <tr>\n",
       "      <th>2022-03-24</th>\n",
       "      <td>-0.925852</td>\n",
       "      <td>0.766193</td>\n",
       "      <td>-1.217168</td>\n",
       "      <td>0.767000</td>\n",
       "      <td>6</td>\n",
       "    </tr>\n",
       "    <tr>\n",
       "      <th>2022-03-25</th>\n",
       "      <td>0.655130</td>\n",
       "      <td>0.623870</td>\n",
       "      <td>0.127673</td>\n",
       "      <td>1.303692</td>\n",
       "      <td>7</td>\n",
       "    </tr>\n",
       "  </tbody>\n",
       "</table>\n",
       "</div>"
      ],
      "text/plain": [
       "                   A         B         C         D  F\n",
       "2022-03-19  0.762224 -1.732843 -1.495853  1.008874  1\n",
       "2022-03-20 -0.164790 -0.952079  0.559604  0.089300  2\n",
       "2022-03-21 -0.142070  2.069204  1.025956 -0.583214  3\n",
       "2022-03-22 -0.124626 -0.779751 -1.292503  0.529144  4\n",
       "2022-03-23 -1.349510  1.266786 -1.975675 -1.373446  5\n",
       "2022-03-24 -0.925852  0.766193 -1.217168  0.767000  6\n",
       "2022-03-25  0.655130  0.623870  0.127673  1.303692  7"
      ]
     },
     "execution_count": 41,
     "metadata": {},
     "output_type": "execute_result"
    }
   ],
   "source": [
    "df[\"F\"] = s1\n",
    "df"
   ]
  },
  {
   "cell_type": "markdown",
   "metadata": {},
   "source": [
    "Setting values by label."
   ]
  },
  {
   "cell_type": "code",
   "execution_count": 42,
   "metadata": {},
   "outputs": [
    {
     "data": {
      "text/html": [
       "<div>\n",
       "<style scoped>\n",
       "    .dataframe tbody tr th:only-of-type {\n",
       "        vertical-align: middle;\n",
       "    }\n",
       "\n",
       "    .dataframe tbody tr th {\n",
       "        vertical-align: top;\n",
       "    }\n",
       "\n",
       "    .dataframe thead th {\n",
       "        text-align: right;\n",
       "    }\n",
       "</style>\n",
       "<table border=\"1\" class=\"dataframe\">\n",
       "  <thead>\n",
       "    <tr style=\"text-align: right;\">\n",
       "      <th></th>\n",
       "      <th>A</th>\n",
       "      <th>B</th>\n",
       "      <th>C</th>\n",
       "      <th>D</th>\n",
       "      <th>F</th>\n",
       "    </tr>\n",
       "  </thead>\n",
       "  <tbody>\n",
       "    <tr>\n",
       "      <th>2022-03-19</th>\n",
       "      <td>0.000000</td>\n",
       "      <td>-1.732843</td>\n",
       "      <td>-1.495853</td>\n",
       "      <td>1.008874</td>\n",
       "      <td>1</td>\n",
       "    </tr>\n",
       "    <tr>\n",
       "      <th>2022-03-20</th>\n",
       "      <td>-0.164790</td>\n",
       "      <td>-0.952079</td>\n",
       "      <td>0.559604</td>\n",
       "      <td>0.089300</td>\n",
       "      <td>2</td>\n",
       "    </tr>\n",
       "    <tr>\n",
       "      <th>2022-03-21</th>\n",
       "      <td>-0.142070</td>\n",
       "      <td>2.069204</td>\n",
       "      <td>1.025956</td>\n",
       "      <td>-0.583214</td>\n",
       "      <td>3</td>\n",
       "    </tr>\n",
       "    <tr>\n",
       "      <th>2022-03-22</th>\n",
       "      <td>-0.124626</td>\n",
       "      <td>-0.779751</td>\n",
       "      <td>-1.292503</td>\n",
       "      <td>0.529144</td>\n",
       "      <td>4</td>\n",
       "    </tr>\n",
       "    <tr>\n",
       "      <th>2022-03-23</th>\n",
       "      <td>-1.349510</td>\n",
       "      <td>1.266786</td>\n",
       "      <td>-1.975675</td>\n",
       "      <td>-1.373446</td>\n",
       "      <td>5</td>\n",
       "    </tr>\n",
       "    <tr>\n",
       "      <th>2022-03-24</th>\n",
       "      <td>-0.925852</td>\n",
       "      <td>0.766193</td>\n",
       "      <td>-1.217168</td>\n",
       "      <td>0.767000</td>\n",
       "      <td>6</td>\n",
       "    </tr>\n",
       "    <tr>\n",
       "      <th>2022-03-25</th>\n",
       "      <td>0.655130</td>\n",
       "      <td>0.623870</td>\n",
       "      <td>0.127673</td>\n",
       "      <td>1.303692</td>\n",
       "      <td>7</td>\n",
       "    </tr>\n",
       "  </tbody>\n",
       "</table>\n",
       "</div>"
      ],
      "text/plain": [
       "                   A         B         C         D  F\n",
       "2022-03-19  0.000000 -1.732843 -1.495853  1.008874  1\n",
       "2022-03-20 -0.164790 -0.952079  0.559604  0.089300  2\n",
       "2022-03-21 -0.142070  2.069204  1.025956 -0.583214  3\n",
       "2022-03-22 -0.124626 -0.779751 -1.292503  0.529144  4\n",
       "2022-03-23 -1.349510  1.266786 -1.975675 -1.373446  5\n",
       "2022-03-24 -0.925852  0.766193 -1.217168  0.767000  6\n",
       "2022-03-25  0.655130  0.623870  0.127673  1.303692  7"
      ]
     },
     "execution_count": 42,
     "metadata": {},
     "output_type": "execute_result"
    }
   ],
   "source": [
    "df.at[dates[0], \"A\"] = 0\n",
    "df"
   ]
  },
  {
   "cell_type": "markdown",
   "metadata": {},
   "source": [
    "Setting values by position."
   ]
  },
  {
   "cell_type": "code",
   "execution_count": 43,
   "metadata": {},
   "outputs": [
    {
     "data": {
      "text/html": [
       "<div>\n",
       "<style scoped>\n",
       "    .dataframe tbody tr th:only-of-type {\n",
       "        vertical-align: middle;\n",
       "    }\n",
       "\n",
       "    .dataframe tbody tr th {\n",
       "        vertical-align: top;\n",
       "    }\n",
       "\n",
       "    .dataframe thead th {\n",
       "        text-align: right;\n",
       "    }\n",
       "</style>\n",
       "<table border=\"1\" class=\"dataframe\">\n",
       "  <thead>\n",
       "    <tr style=\"text-align: right;\">\n",
       "      <th></th>\n",
       "      <th>A</th>\n",
       "      <th>B</th>\n",
       "      <th>C</th>\n",
       "      <th>D</th>\n",
       "      <th>F</th>\n",
       "    </tr>\n",
       "  </thead>\n",
       "  <tbody>\n",
       "    <tr>\n",
       "      <th>2022-03-19</th>\n",
       "      <td>0.000000</td>\n",
       "      <td>1.000000</td>\n",
       "      <td>-1.495853</td>\n",
       "      <td>1.008874</td>\n",
       "      <td>1</td>\n",
       "    </tr>\n",
       "    <tr>\n",
       "      <th>2022-03-20</th>\n",
       "      <td>-0.164790</td>\n",
       "      <td>-0.952079</td>\n",
       "      <td>0.559604</td>\n",
       "      <td>0.089300</td>\n",
       "      <td>2</td>\n",
       "    </tr>\n",
       "    <tr>\n",
       "      <th>2022-03-21</th>\n",
       "      <td>-0.142070</td>\n",
       "      <td>2.069204</td>\n",
       "      <td>1.025956</td>\n",
       "      <td>-0.583214</td>\n",
       "      <td>3</td>\n",
       "    </tr>\n",
       "    <tr>\n",
       "      <th>2022-03-22</th>\n",
       "      <td>-0.124626</td>\n",
       "      <td>-0.779751</td>\n",
       "      <td>-1.292503</td>\n",
       "      <td>0.529144</td>\n",
       "      <td>4</td>\n",
       "    </tr>\n",
       "    <tr>\n",
       "      <th>2022-03-23</th>\n",
       "      <td>-1.349510</td>\n",
       "      <td>1.266786</td>\n",
       "      <td>-1.975675</td>\n",
       "      <td>-1.373446</td>\n",
       "      <td>5</td>\n",
       "    </tr>\n",
       "    <tr>\n",
       "      <th>2022-03-24</th>\n",
       "      <td>-0.925852</td>\n",
       "      <td>0.766193</td>\n",
       "      <td>-1.217168</td>\n",
       "      <td>0.767000</td>\n",
       "      <td>6</td>\n",
       "    </tr>\n",
       "    <tr>\n",
       "      <th>2022-03-25</th>\n",
       "      <td>0.655130</td>\n",
       "      <td>0.623870</td>\n",
       "      <td>0.127673</td>\n",
       "      <td>1.303692</td>\n",
       "      <td>7</td>\n",
       "    </tr>\n",
       "  </tbody>\n",
       "</table>\n",
       "</div>"
      ],
      "text/plain": [
       "                   A         B         C         D  F\n",
       "2022-03-19  0.000000  1.000000 -1.495853  1.008874  1\n",
       "2022-03-20 -0.164790 -0.952079  0.559604  0.089300  2\n",
       "2022-03-21 -0.142070  2.069204  1.025956 -0.583214  3\n",
       "2022-03-22 -0.124626 -0.779751 -1.292503  0.529144  4\n",
       "2022-03-23 -1.349510  1.266786 -1.975675 -1.373446  5\n",
       "2022-03-24 -0.925852  0.766193 -1.217168  0.767000  6\n",
       "2022-03-25  0.655130  0.623870  0.127673  1.303692  7"
      ]
     },
     "execution_count": 43,
     "metadata": {},
     "output_type": "execute_result"
    }
   ],
   "source": [
    "df.iat[0, 1] = 1\n",
    "df"
   ]
  },
  {
   "cell_type": "markdown",
   "metadata": {},
   "source": [
    "Setting by assigning with a `Numpy` array"
   ]
  },
  {
   "cell_type": "code",
   "execution_count": 44,
   "metadata": {},
   "outputs": [
    {
     "data": {
      "text/html": [
       "<div>\n",
       "<style scoped>\n",
       "    .dataframe tbody tr th:only-of-type {\n",
       "        vertical-align: middle;\n",
       "    }\n",
       "\n",
       "    .dataframe tbody tr th {\n",
       "        vertical-align: top;\n",
       "    }\n",
       "\n",
       "    .dataframe thead th {\n",
       "        text-align: right;\n",
       "    }\n",
       "</style>\n",
       "<table border=\"1\" class=\"dataframe\">\n",
       "  <thead>\n",
       "    <tr style=\"text-align: right;\">\n",
       "      <th></th>\n",
       "      <th>A</th>\n",
       "      <th>B</th>\n",
       "      <th>C</th>\n",
       "      <th>D</th>\n",
       "      <th>F</th>\n",
       "    </tr>\n",
       "  </thead>\n",
       "  <tbody>\n",
       "    <tr>\n",
       "      <th>2022-03-19</th>\n",
       "      <td>0.000000</td>\n",
       "      <td>1.000000</td>\n",
       "      <td>-1.495853</td>\n",
       "      <td>35</td>\n",
       "      <td>1</td>\n",
       "    </tr>\n",
       "    <tr>\n",
       "      <th>2022-03-20</th>\n",
       "      <td>-0.164790</td>\n",
       "      <td>-0.952079</td>\n",
       "      <td>0.559604</td>\n",
       "      <td>35</td>\n",
       "      <td>2</td>\n",
       "    </tr>\n",
       "    <tr>\n",
       "      <th>2022-03-21</th>\n",
       "      <td>-0.142070</td>\n",
       "      <td>2.069204</td>\n",
       "      <td>1.025956</td>\n",
       "      <td>35</td>\n",
       "      <td>3</td>\n",
       "    </tr>\n",
       "    <tr>\n",
       "      <th>2022-03-22</th>\n",
       "      <td>-0.124626</td>\n",
       "      <td>-0.779751</td>\n",
       "      <td>-1.292503</td>\n",
       "      <td>35</td>\n",
       "      <td>4</td>\n",
       "    </tr>\n",
       "    <tr>\n",
       "      <th>2022-03-23</th>\n",
       "      <td>-1.349510</td>\n",
       "      <td>1.266786</td>\n",
       "      <td>-1.975675</td>\n",
       "      <td>35</td>\n",
       "      <td>5</td>\n",
       "    </tr>\n",
       "    <tr>\n",
       "      <th>2022-03-24</th>\n",
       "      <td>-0.925852</td>\n",
       "      <td>0.766193</td>\n",
       "      <td>-1.217168</td>\n",
       "      <td>35</td>\n",
       "      <td>6</td>\n",
       "    </tr>\n",
       "    <tr>\n",
       "      <th>2022-03-25</th>\n",
       "      <td>0.655130</td>\n",
       "      <td>0.623870</td>\n",
       "      <td>0.127673</td>\n",
       "      <td>35</td>\n",
       "      <td>7</td>\n",
       "    </tr>\n",
       "  </tbody>\n",
       "</table>\n",
       "</div>"
      ],
      "text/plain": [
       "                   A         B         C   D  F\n",
       "2022-03-19  0.000000  1.000000 -1.495853  35  1\n",
       "2022-03-20 -0.164790 -0.952079  0.559604  35  2\n",
       "2022-03-21 -0.142070  2.069204  1.025956  35  3\n",
       "2022-03-22 -0.124626 -0.779751 -1.292503  35  4\n",
       "2022-03-23 -1.349510  1.266786 -1.975675  35  5\n",
       "2022-03-24 -0.925852  0.766193 -1.217168  35  6\n",
       "2022-03-25  0.655130  0.623870  0.127673  35  7"
      ]
     },
     "execution_count": 44,
     "metadata": {},
     "output_type": "execute_result"
    }
   ],
   "source": [
    "df.loc[:, \"D\"] = np.array(5 * len(df))\n",
    "df"
   ]
  },
  {
   "cell_type": "markdown",
   "metadata": {},
   "source": [
    "## Missing data"
   ]
  },
  {
   "cell_type": "markdown",
   "metadata": {},
   "source": [
    "`Pandas` primarily uses the value `np.nan` to represent missing data. It is by default not included in computation.\n",
    "\n",
    "Reindexing allows you to change/add/delete the index on a sepecified axis. This returns a copy of data."
   ]
  },
  {
   "cell_type": "code",
   "execution_count": 45,
   "metadata": {},
   "outputs": [
    {
     "data": {
      "text/html": [
       "<div>\n",
       "<style scoped>\n",
       "    .dataframe tbody tr th:only-of-type {\n",
       "        vertical-align: middle;\n",
       "    }\n",
       "\n",
       "    .dataframe tbody tr th {\n",
       "        vertical-align: top;\n",
       "    }\n",
       "\n",
       "    .dataframe thead th {\n",
       "        text-align: right;\n",
       "    }\n",
       "</style>\n",
       "<table border=\"1\" class=\"dataframe\">\n",
       "  <thead>\n",
       "    <tr style=\"text-align: right;\">\n",
       "      <th></th>\n",
       "      <th>A</th>\n",
       "      <th>B</th>\n",
       "      <th>C</th>\n",
       "      <th>D</th>\n",
       "      <th>F</th>\n",
       "      <th>E</th>\n",
       "    </tr>\n",
       "  </thead>\n",
       "  <tbody>\n",
       "    <tr>\n",
       "      <th>2022-03-19</th>\n",
       "      <td>0.000000</td>\n",
       "      <td>1.000000</td>\n",
       "      <td>-1.495853</td>\n",
       "      <td>35</td>\n",
       "      <td>1</td>\n",
       "      <td>1.0</td>\n",
       "    </tr>\n",
       "    <tr>\n",
       "      <th>2022-03-20</th>\n",
       "      <td>-0.164790</td>\n",
       "      <td>-0.952079</td>\n",
       "      <td>0.559604</td>\n",
       "      <td>35</td>\n",
       "      <td>2</td>\n",
       "      <td>1.0</td>\n",
       "    </tr>\n",
       "    <tr>\n",
       "      <th>2022-03-21</th>\n",
       "      <td>-0.142070</td>\n",
       "      <td>2.069204</td>\n",
       "      <td>1.025956</td>\n",
       "      <td>35</td>\n",
       "      <td>3</td>\n",
       "      <td>NaN</td>\n",
       "    </tr>\n",
       "    <tr>\n",
       "      <th>2022-03-22</th>\n",
       "      <td>-0.124626</td>\n",
       "      <td>-0.779751</td>\n",
       "      <td>-1.292503</td>\n",
       "      <td>35</td>\n",
       "      <td>4</td>\n",
       "      <td>NaN</td>\n",
       "    </tr>\n",
       "  </tbody>\n",
       "</table>\n",
       "</div>"
      ],
      "text/plain": [
       "                   A         B         C   D  F    E\n",
       "2022-03-19  0.000000  1.000000 -1.495853  35  1  1.0\n",
       "2022-03-20 -0.164790 -0.952079  0.559604  35  2  1.0\n",
       "2022-03-21 -0.142070  2.069204  1.025956  35  3  NaN\n",
       "2022-03-22 -0.124626 -0.779751 -1.292503  35  4  NaN"
      ]
     },
     "execution_count": 45,
     "metadata": {},
     "output_type": "execute_result"
    }
   ],
   "source": [
    "df1 = df.reindex(index=dates[0:4], columns=list(df.columns) + [\"E\"])\n",
    "df1.loc[dates[0]:dates[1], \"E\"] = 1\n",
    "df1"
   ]
  },
  {
   "cell_type": "markdown",
   "metadata": {},
   "source": [
    "To drop any rows that have missing data."
   ]
  },
  {
   "cell_type": "code",
   "execution_count": 46,
   "metadata": {},
   "outputs": [
    {
     "data": {
      "text/html": [
       "<div>\n",
       "<style scoped>\n",
       "    .dataframe tbody tr th:only-of-type {\n",
       "        vertical-align: middle;\n",
       "    }\n",
       "\n",
       "    .dataframe tbody tr th {\n",
       "        vertical-align: top;\n",
       "    }\n",
       "\n",
       "    .dataframe thead th {\n",
       "        text-align: right;\n",
       "    }\n",
       "</style>\n",
       "<table border=\"1\" class=\"dataframe\">\n",
       "  <thead>\n",
       "    <tr style=\"text-align: right;\">\n",
       "      <th></th>\n",
       "      <th>A</th>\n",
       "      <th>B</th>\n",
       "      <th>C</th>\n",
       "      <th>D</th>\n",
       "      <th>F</th>\n",
       "      <th>E</th>\n",
       "    </tr>\n",
       "  </thead>\n",
       "  <tbody>\n",
       "    <tr>\n",
       "      <th>2022-03-19</th>\n",
       "      <td>0.00000</td>\n",
       "      <td>1.000000</td>\n",
       "      <td>-1.495853</td>\n",
       "      <td>35</td>\n",
       "      <td>1</td>\n",
       "      <td>1.0</td>\n",
       "    </tr>\n",
       "    <tr>\n",
       "      <th>2022-03-20</th>\n",
       "      <td>-0.16479</td>\n",
       "      <td>-0.952079</td>\n",
       "      <td>0.559604</td>\n",
       "      <td>35</td>\n",
       "      <td>2</td>\n",
       "      <td>1.0</td>\n",
       "    </tr>\n",
       "  </tbody>\n",
       "</table>\n",
       "</div>"
      ],
      "text/plain": [
       "                  A         B         C   D  F    E\n",
       "2022-03-19  0.00000  1.000000 -1.495853  35  1  1.0\n",
       "2022-03-20 -0.16479 -0.952079  0.559604  35  2  1.0"
      ]
     },
     "execution_count": 46,
     "metadata": {},
     "output_type": "execute_result"
    }
   ],
   "source": [
    "df1.dropna(how=\"any\")"
   ]
  },
  {
   "cell_type": "markdown",
   "metadata": {},
   "source": [
    "Filling missing data."
   ]
  },
  {
   "cell_type": "code",
   "execution_count": 47,
   "metadata": {},
   "outputs": [
    {
     "data": {
      "text/html": [
       "<div>\n",
       "<style scoped>\n",
       "    .dataframe tbody tr th:only-of-type {\n",
       "        vertical-align: middle;\n",
       "    }\n",
       "\n",
       "    .dataframe tbody tr th {\n",
       "        vertical-align: top;\n",
       "    }\n",
       "\n",
       "    .dataframe thead th {\n",
       "        text-align: right;\n",
       "    }\n",
       "</style>\n",
       "<table border=\"1\" class=\"dataframe\">\n",
       "  <thead>\n",
       "    <tr style=\"text-align: right;\">\n",
       "      <th></th>\n",
       "      <th>A</th>\n",
       "      <th>B</th>\n",
       "      <th>C</th>\n",
       "      <th>D</th>\n",
       "      <th>F</th>\n",
       "      <th>E</th>\n",
       "    </tr>\n",
       "  </thead>\n",
       "  <tbody>\n",
       "    <tr>\n",
       "      <th>2022-03-19</th>\n",
       "      <td>0.000000</td>\n",
       "      <td>1.000000</td>\n",
       "      <td>-1.495853</td>\n",
       "      <td>35</td>\n",
       "      <td>1</td>\n",
       "      <td>1.0</td>\n",
       "    </tr>\n",
       "    <tr>\n",
       "      <th>2022-03-20</th>\n",
       "      <td>-0.164790</td>\n",
       "      <td>-0.952079</td>\n",
       "      <td>0.559604</td>\n",
       "      <td>35</td>\n",
       "      <td>2</td>\n",
       "      <td>1.0</td>\n",
       "    </tr>\n",
       "    <tr>\n",
       "      <th>2022-03-21</th>\n",
       "      <td>-0.142070</td>\n",
       "      <td>2.069204</td>\n",
       "      <td>1.025956</td>\n",
       "      <td>35</td>\n",
       "      <td>3</td>\n",
       "      <td>3.0</td>\n",
       "    </tr>\n",
       "    <tr>\n",
       "      <th>2022-03-22</th>\n",
       "      <td>-0.124626</td>\n",
       "      <td>-0.779751</td>\n",
       "      <td>-1.292503</td>\n",
       "      <td>35</td>\n",
       "      <td>4</td>\n",
       "      <td>3.0</td>\n",
       "    </tr>\n",
       "  </tbody>\n",
       "</table>\n",
       "</div>"
      ],
      "text/plain": [
       "                   A         B         C   D  F    E\n",
       "2022-03-19  0.000000  1.000000 -1.495853  35  1  1.0\n",
       "2022-03-20 -0.164790 -0.952079  0.559604  35  2  1.0\n",
       "2022-03-21 -0.142070  2.069204  1.025956  35  3  3.0\n",
       "2022-03-22 -0.124626 -0.779751 -1.292503  35  4  3.0"
      ]
     },
     "execution_count": 47,
     "metadata": {},
     "output_type": "execute_result"
    }
   ],
   "source": [
    "df1.fillna(value=3)"
   ]
  },
  {
   "cell_type": "markdown",
   "metadata": {},
   "source": [
    "To get the boolean mask where values are `nan`."
   ]
  },
  {
   "cell_type": "code",
   "execution_count": 48,
   "metadata": {},
   "outputs": [
    {
     "data": {
      "text/html": [
       "<div>\n",
       "<style scoped>\n",
       "    .dataframe tbody tr th:only-of-type {\n",
       "        vertical-align: middle;\n",
       "    }\n",
       "\n",
       "    .dataframe tbody tr th {\n",
       "        vertical-align: top;\n",
       "    }\n",
       "\n",
       "    .dataframe thead th {\n",
       "        text-align: right;\n",
       "    }\n",
       "</style>\n",
       "<table border=\"1\" class=\"dataframe\">\n",
       "  <thead>\n",
       "    <tr style=\"text-align: right;\">\n",
       "      <th></th>\n",
       "      <th>A</th>\n",
       "      <th>B</th>\n",
       "      <th>C</th>\n",
       "      <th>D</th>\n",
       "      <th>F</th>\n",
       "      <th>E</th>\n",
       "    </tr>\n",
       "  </thead>\n",
       "  <tbody>\n",
       "    <tr>\n",
       "      <th>2022-03-19</th>\n",
       "      <td>False</td>\n",
       "      <td>False</td>\n",
       "      <td>False</td>\n",
       "      <td>False</td>\n",
       "      <td>False</td>\n",
       "      <td>False</td>\n",
       "    </tr>\n",
       "    <tr>\n",
       "      <th>2022-03-20</th>\n",
       "      <td>False</td>\n",
       "      <td>False</td>\n",
       "      <td>False</td>\n",
       "      <td>False</td>\n",
       "      <td>False</td>\n",
       "      <td>False</td>\n",
       "    </tr>\n",
       "    <tr>\n",
       "      <th>2022-03-21</th>\n",
       "      <td>False</td>\n",
       "      <td>False</td>\n",
       "      <td>False</td>\n",
       "      <td>False</td>\n",
       "      <td>False</td>\n",
       "      <td>True</td>\n",
       "    </tr>\n",
       "    <tr>\n",
       "      <th>2022-03-22</th>\n",
       "      <td>False</td>\n",
       "      <td>False</td>\n",
       "      <td>False</td>\n",
       "      <td>False</td>\n",
       "      <td>False</td>\n",
       "      <td>True</td>\n",
       "    </tr>\n",
       "  </tbody>\n",
       "</table>\n",
       "</div>"
      ],
      "text/plain": [
       "                A      B      C      D      F      E\n",
       "2022-03-19  False  False  False  False  False  False\n",
       "2022-03-20  False  False  False  False  False  False\n",
       "2022-03-21  False  False  False  False  False   True\n",
       "2022-03-22  False  False  False  False  False   True"
      ]
     },
     "execution_count": 48,
     "metadata": {},
     "output_type": "execute_result"
    }
   ],
   "source": [
    "pd.isna(df1)"
   ]
  },
  {
   "cell_type": "markdown",
   "metadata": {},
   "source": [
    "## Operations"
   ]
  },
  {
   "cell_type": "markdown",
   "metadata": {},
   "source": [
    "### Stats"
   ]
  },
  {
   "cell_type": "markdown",
   "metadata": {},
   "source": [
    "Operations in general *exclude* missing data.\n",
    "\n",
    "Perform a descriptive statistic."
   ]
  },
  {
   "cell_type": "code",
   "execution_count": 49,
   "metadata": {},
   "outputs": [
    {
     "data": {
      "text/plain": [
       "A    -0.293103\n",
       "B     0.570603\n",
       "C    -0.609709\n",
       "D    35.000000\n",
       "F     4.000000\n",
       "dtype: float64"
      ]
     },
     "execution_count": 49,
     "metadata": {},
     "output_type": "execute_result"
    }
   ],
   "source": [
    "df.mean()"
   ]
  },
  {
   "cell_type": "markdown",
   "metadata": {},
   "source": [
    "Same operation on the other axis."
   ]
  },
  {
   "cell_type": "code",
   "execution_count": 50,
   "metadata": {},
   "outputs": [
    {
     "data": {
      "text/plain": [
       "2022-03-19    7.100829\n",
       "2022-03-20    7.288547\n",
       "2022-03-21    8.190618\n",
       "2022-03-22    7.360624\n",
       "2022-03-23    7.588320\n",
       "2022-03-24    7.924635\n",
       "2022-03-25    8.681335\n",
       "Freq: D, dtype: float64"
      ]
     },
     "execution_count": 50,
     "metadata": {},
     "output_type": "execute_result"
    }
   ],
   "source": [
    "df.mean(1)"
   ]
  },
  {
   "cell_type": "markdown",
   "metadata": {},
   "source": [
    "Operation with objects that have different dismensionality and need alignment. In addition, `pandas` automatically broadcast along the specified dimension."
   ]
  },
  {
   "cell_type": "code",
   "execution_count": 51,
   "metadata": {},
   "outputs": [
    {
     "data": {
      "text/plain": [
       "2022-03-19    NaN\n",
       "2022-03-20    NaN\n",
       "2022-03-21    1.0\n",
       "2022-03-22    3.0\n",
       "2022-03-23    5.0\n",
       "2022-03-24    NaN\n",
       "2022-03-25    6.0\n",
       "Freq: D, dtype: float64"
      ]
     },
     "execution_count": 51,
     "metadata": {},
     "output_type": "execute_result"
    }
   ],
   "source": [
    "s = pd.Series([1, 3, 5, np.nan, 6, 8, 11], index=dates).shift(2)\n",
    "s"
   ]
  },
  {
   "cell_type": "code",
   "execution_count": 52,
   "metadata": {},
   "outputs": [
    {
     "data": {
      "text/html": [
       "<div>\n",
       "<style scoped>\n",
       "    .dataframe tbody tr th:only-of-type {\n",
       "        vertical-align: middle;\n",
       "    }\n",
       "\n",
       "    .dataframe tbody tr th {\n",
       "        vertical-align: top;\n",
       "    }\n",
       "\n",
       "    .dataframe thead th {\n",
       "        text-align: right;\n",
       "    }\n",
       "</style>\n",
       "<table border=\"1\" class=\"dataframe\">\n",
       "  <thead>\n",
       "    <tr style=\"text-align: right;\">\n",
       "      <th></th>\n",
       "      <th>A</th>\n",
       "      <th>B</th>\n",
       "      <th>C</th>\n",
       "      <th>D</th>\n",
       "      <th>F</th>\n",
       "    </tr>\n",
       "  </thead>\n",
       "  <tbody>\n",
       "    <tr>\n",
       "      <th>2022-03-19</th>\n",
       "      <td>NaN</td>\n",
       "      <td>NaN</td>\n",
       "      <td>NaN</td>\n",
       "      <td>NaN</td>\n",
       "      <td>NaN</td>\n",
       "    </tr>\n",
       "    <tr>\n",
       "      <th>2022-03-20</th>\n",
       "      <td>NaN</td>\n",
       "      <td>NaN</td>\n",
       "      <td>NaN</td>\n",
       "      <td>NaN</td>\n",
       "      <td>NaN</td>\n",
       "    </tr>\n",
       "    <tr>\n",
       "      <th>2022-03-21</th>\n",
       "      <td>-1.142070</td>\n",
       "      <td>1.069204</td>\n",
       "      <td>0.025956</td>\n",
       "      <td>34.0</td>\n",
       "      <td>2.0</td>\n",
       "    </tr>\n",
       "    <tr>\n",
       "      <th>2022-03-22</th>\n",
       "      <td>-3.124626</td>\n",
       "      <td>-3.779751</td>\n",
       "      <td>-4.292503</td>\n",
       "      <td>32.0</td>\n",
       "      <td>1.0</td>\n",
       "    </tr>\n",
       "    <tr>\n",
       "      <th>2022-03-23</th>\n",
       "      <td>-6.349510</td>\n",
       "      <td>-3.733214</td>\n",
       "      <td>-6.975675</td>\n",
       "      <td>30.0</td>\n",
       "      <td>0.0</td>\n",
       "    </tr>\n",
       "    <tr>\n",
       "      <th>2022-03-24</th>\n",
       "      <td>NaN</td>\n",
       "      <td>NaN</td>\n",
       "      <td>NaN</td>\n",
       "      <td>NaN</td>\n",
       "      <td>NaN</td>\n",
       "    </tr>\n",
       "    <tr>\n",
       "      <th>2022-03-25</th>\n",
       "      <td>-5.344870</td>\n",
       "      <td>-5.376130</td>\n",
       "      <td>-5.872327</td>\n",
       "      <td>29.0</td>\n",
       "      <td>1.0</td>\n",
       "    </tr>\n",
       "  </tbody>\n",
       "</table>\n",
       "</div>"
      ],
      "text/plain": [
       "                   A         B         C     D    F\n",
       "2022-03-19       NaN       NaN       NaN   NaN  NaN\n",
       "2022-03-20       NaN       NaN       NaN   NaN  NaN\n",
       "2022-03-21 -1.142070  1.069204  0.025956  34.0  2.0\n",
       "2022-03-22 -3.124626 -3.779751 -4.292503  32.0  1.0\n",
       "2022-03-23 -6.349510 -3.733214 -6.975675  30.0  0.0\n",
       "2022-03-24       NaN       NaN       NaN   NaN  NaN\n",
       "2022-03-25 -5.344870 -5.376130 -5.872327  29.0  1.0"
      ]
     },
     "execution_count": 52,
     "metadata": {},
     "output_type": "execute_result"
    }
   ],
   "source": [
    "df.sub(s, axis=\"index\")"
   ]
  },
  {
   "cell_type": "markdown",
   "metadata": {},
   "source": [
    "### Apply"
   ]
  },
  {
   "cell_type": "markdown",
   "metadata": {},
   "source": [
    "Applying functions to the data."
   ]
  },
  {
   "cell_type": "code",
   "execution_count": 53,
   "metadata": {},
   "outputs": [
    {
     "data": {
      "text/html": [
       "<div>\n",
       "<style scoped>\n",
       "    .dataframe tbody tr th:only-of-type {\n",
       "        vertical-align: middle;\n",
       "    }\n",
       "\n",
       "    .dataframe tbody tr th {\n",
       "        vertical-align: top;\n",
       "    }\n",
       "\n",
       "    .dataframe thead th {\n",
       "        text-align: right;\n",
       "    }\n",
       "</style>\n",
       "<table border=\"1\" class=\"dataframe\">\n",
       "  <thead>\n",
       "    <tr style=\"text-align: right;\">\n",
       "      <th></th>\n",
       "      <th>A</th>\n",
       "      <th>B</th>\n",
       "      <th>C</th>\n",
       "      <th>D</th>\n",
       "      <th>F</th>\n",
       "    </tr>\n",
       "  </thead>\n",
       "  <tbody>\n",
       "    <tr>\n",
       "      <th>2022-03-19</th>\n",
       "      <td>0.000000</td>\n",
       "      <td>1.000000</td>\n",
       "      <td>-1.495853</td>\n",
       "      <td>35</td>\n",
       "      <td>1</td>\n",
       "    </tr>\n",
       "    <tr>\n",
       "      <th>2022-03-20</th>\n",
       "      <td>-0.164790</td>\n",
       "      <td>-0.952079</td>\n",
       "      <td>0.559604</td>\n",
       "      <td>35</td>\n",
       "      <td>2</td>\n",
       "    </tr>\n",
       "    <tr>\n",
       "      <th>2022-03-21</th>\n",
       "      <td>-0.142070</td>\n",
       "      <td>2.069204</td>\n",
       "      <td>1.025956</td>\n",
       "      <td>35</td>\n",
       "      <td>3</td>\n",
       "    </tr>\n",
       "    <tr>\n",
       "      <th>2022-03-22</th>\n",
       "      <td>-0.124626</td>\n",
       "      <td>-0.779751</td>\n",
       "      <td>-1.292503</td>\n",
       "      <td>35</td>\n",
       "      <td>4</td>\n",
       "    </tr>\n",
       "    <tr>\n",
       "      <th>2022-03-23</th>\n",
       "      <td>-1.349510</td>\n",
       "      <td>1.266786</td>\n",
       "      <td>-1.975675</td>\n",
       "      <td>35</td>\n",
       "      <td>5</td>\n",
       "    </tr>\n",
       "    <tr>\n",
       "      <th>2022-03-24</th>\n",
       "      <td>-0.925852</td>\n",
       "      <td>0.766193</td>\n",
       "      <td>-1.217168</td>\n",
       "      <td>35</td>\n",
       "      <td>6</td>\n",
       "    </tr>\n",
       "    <tr>\n",
       "      <th>2022-03-25</th>\n",
       "      <td>0.655130</td>\n",
       "      <td>0.623870</td>\n",
       "      <td>0.127673</td>\n",
       "      <td>35</td>\n",
       "      <td>7</td>\n",
       "    </tr>\n",
       "  </tbody>\n",
       "</table>\n",
       "</div>"
      ],
      "text/plain": [
       "                   A         B         C   D  F\n",
       "2022-03-19  0.000000  1.000000 -1.495853  35  1\n",
       "2022-03-20 -0.164790 -0.952079  0.559604  35  2\n",
       "2022-03-21 -0.142070  2.069204  1.025956  35  3\n",
       "2022-03-22 -0.124626 -0.779751 -1.292503  35  4\n",
       "2022-03-23 -1.349510  1.266786 -1.975675  35  5\n",
       "2022-03-24 -0.925852  0.766193 -1.217168  35  6\n",
       "2022-03-25  0.655130  0.623870  0.127673  35  7"
      ]
     },
     "execution_count": 53,
     "metadata": {},
     "output_type": "execute_result"
    }
   ],
   "source": [
    "df"
   ]
  },
  {
   "cell_type": "code",
   "execution_count": 54,
   "metadata": {},
   "outputs": [
    {
     "data": {
      "text/html": [
       "<div>\n",
       "<style scoped>\n",
       "    .dataframe tbody tr th:only-of-type {\n",
       "        vertical-align: middle;\n",
       "    }\n",
       "\n",
       "    .dataframe tbody tr th {\n",
       "        vertical-align: top;\n",
       "    }\n",
       "\n",
       "    .dataframe thead th {\n",
       "        text-align: right;\n",
       "    }\n",
       "</style>\n",
       "<table border=\"1\" class=\"dataframe\">\n",
       "  <thead>\n",
       "    <tr style=\"text-align: right;\">\n",
       "      <th></th>\n",
       "      <th>A</th>\n",
       "      <th>B</th>\n",
       "      <th>C</th>\n",
       "      <th>D</th>\n",
       "      <th>F</th>\n",
       "    </tr>\n",
       "  </thead>\n",
       "  <tbody>\n",
       "    <tr>\n",
       "      <th>2022-03-19</th>\n",
       "      <td>0.000000</td>\n",
       "      <td>1.000000</td>\n",
       "      <td>-1.495853</td>\n",
       "      <td>35</td>\n",
       "      <td>1</td>\n",
       "    </tr>\n",
       "    <tr>\n",
       "      <th>2022-03-20</th>\n",
       "      <td>-0.164790</td>\n",
       "      <td>0.047921</td>\n",
       "      <td>-0.936249</td>\n",
       "      <td>70</td>\n",
       "      <td>3</td>\n",
       "    </tr>\n",
       "    <tr>\n",
       "      <th>2022-03-21</th>\n",
       "      <td>-0.306861</td>\n",
       "      <td>2.117125</td>\n",
       "      <td>0.089708</td>\n",
       "      <td>105</td>\n",
       "      <td>6</td>\n",
       "    </tr>\n",
       "    <tr>\n",
       "      <th>2022-03-22</th>\n",
       "      <td>-0.431486</td>\n",
       "      <td>1.337374</td>\n",
       "      <td>-1.202795</td>\n",
       "      <td>140</td>\n",
       "      <td>10</td>\n",
       "    </tr>\n",
       "    <tr>\n",
       "      <th>2022-03-23</th>\n",
       "      <td>-1.780996</td>\n",
       "      <td>2.604160</td>\n",
       "      <td>-3.178470</td>\n",
       "      <td>175</td>\n",
       "      <td>15</td>\n",
       "    </tr>\n",
       "    <tr>\n",
       "      <th>2022-03-24</th>\n",
       "      <td>-2.706848</td>\n",
       "      <td>3.370354</td>\n",
       "      <td>-4.395637</td>\n",
       "      <td>210</td>\n",
       "      <td>21</td>\n",
       "    </tr>\n",
       "    <tr>\n",
       "      <th>2022-03-25</th>\n",
       "      <td>-2.051718</td>\n",
       "      <td>3.994224</td>\n",
       "      <td>-4.267965</td>\n",
       "      <td>245</td>\n",
       "      <td>28</td>\n",
       "    </tr>\n",
       "  </tbody>\n",
       "</table>\n",
       "</div>"
      ],
      "text/plain": [
       "                   A         B         C    D   F\n",
       "2022-03-19  0.000000  1.000000 -1.495853   35   1\n",
       "2022-03-20 -0.164790  0.047921 -0.936249   70   3\n",
       "2022-03-21 -0.306861  2.117125  0.089708  105   6\n",
       "2022-03-22 -0.431486  1.337374 -1.202795  140  10\n",
       "2022-03-23 -1.780996  2.604160 -3.178470  175  15\n",
       "2022-03-24 -2.706848  3.370354 -4.395637  210  21\n",
       "2022-03-25 -2.051718  3.994224 -4.267965  245  28"
      ]
     },
     "execution_count": 54,
     "metadata": {},
     "output_type": "execute_result"
    }
   ],
   "source": [
    "df.apply(np.cumsum)\n",
    "# equivalent to df.apply(np.cumsum, axis=0)"
   ]
  },
  {
   "cell_type": "code",
   "execution_count": 55,
   "metadata": {},
   "outputs": [
    {
     "data": {
      "text/html": [
       "<div>\n",
       "<style scoped>\n",
       "    .dataframe tbody tr th:only-of-type {\n",
       "        vertical-align: middle;\n",
       "    }\n",
       "\n",
       "    .dataframe tbody tr th {\n",
       "        vertical-align: top;\n",
       "    }\n",
       "\n",
       "    .dataframe thead th {\n",
       "        text-align: right;\n",
       "    }\n",
       "</style>\n",
       "<table border=\"1\" class=\"dataframe\">\n",
       "  <thead>\n",
       "    <tr style=\"text-align: right;\">\n",
       "      <th></th>\n",
       "      <th>A</th>\n",
       "      <th>B</th>\n",
       "      <th>C</th>\n",
       "      <th>D</th>\n",
       "      <th>F</th>\n",
       "    </tr>\n",
       "  </thead>\n",
       "  <tbody>\n",
       "    <tr>\n",
       "      <th>2022-03-19</th>\n",
       "      <td>0.000000</td>\n",
       "      <td>1.000000</td>\n",
       "      <td>-0.495853</td>\n",
       "      <td>34.504147</td>\n",
       "      <td>35.504147</td>\n",
       "    </tr>\n",
       "    <tr>\n",
       "      <th>2022-03-20</th>\n",
       "      <td>-0.164790</td>\n",
       "      <td>-1.116869</td>\n",
       "      <td>-0.557265</td>\n",
       "      <td>34.442735</td>\n",
       "      <td>36.442735</td>\n",
       "    </tr>\n",
       "    <tr>\n",
       "      <th>2022-03-21</th>\n",
       "      <td>-0.142070</td>\n",
       "      <td>1.927134</td>\n",
       "      <td>2.953090</td>\n",
       "      <td>37.953090</td>\n",
       "      <td>40.953090</td>\n",
       "    </tr>\n",
       "    <tr>\n",
       "      <th>2022-03-22</th>\n",
       "      <td>-0.124626</td>\n",
       "      <td>-0.904377</td>\n",
       "      <td>-2.196880</td>\n",
       "      <td>32.803120</td>\n",
       "      <td>36.803120</td>\n",
       "    </tr>\n",
       "    <tr>\n",
       "      <th>2022-03-23</th>\n",
       "      <td>-1.349510</td>\n",
       "      <td>-0.082723</td>\n",
       "      <td>-2.058398</td>\n",
       "      <td>32.941602</td>\n",
       "      <td>37.941602</td>\n",
       "    </tr>\n",
       "    <tr>\n",
       "      <th>2022-03-24</th>\n",
       "      <td>-0.925852</td>\n",
       "      <td>-0.159658</td>\n",
       "      <td>-1.376826</td>\n",
       "      <td>33.623174</td>\n",
       "      <td>39.623174</td>\n",
       "    </tr>\n",
       "    <tr>\n",
       "      <th>2022-03-25</th>\n",
       "      <td>0.655130</td>\n",
       "      <td>1.279001</td>\n",
       "      <td>1.406673</td>\n",
       "      <td>36.406673</td>\n",
       "      <td>43.406673</td>\n",
       "    </tr>\n",
       "  </tbody>\n",
       "</table>\n",
       "</div>"
      ],
      "text/plain": [
       "                   A         B         C          D          F\n",
       "2022-03-19  0.000000  1.000000 -0.495853  34.504147  35.504147\n",
       "2022-03-20 -0.164790 -1.116869 -0.557265  34.442735  36.442735\n",
       "2022-03-21 -0.142070  1.927134  2.953090  37.953090  40.953090\n",
       "2022-03-22 -0.124626 -0.904377 -2.196880  32.803120  36.803120\n",
       "2022-03-23 -1.349510 -0.082723 -2.058398  32.941602  37.941602\n",
       "2022-03-24 -0.925852 -0.159658 -1.376826  33.623174  39.623174\n",
       "2022-03-25  0.655130  1.279001  1.406673  36.406673  43.406673"
      ]
     },
     "execution_count": 55,
     "metadata": {},
     "output_type": "execute_result"
    }
   ],
   "source": [
    "df.apply(np.cumsum, axis=1)"
   ]
  },
  {
   "cell_type": "code",
   "execution_count": 56,
   "metadata": {},
   "outputs": [
    {
     "data": {
      "text/plain": [
       "A    2.004640\n",
       "B    3.021282\n",
       "C    3.001631\n",
       "D    0.000000\n",
       "F    6.000000\n",
       "dtype: float64"
      ]
     },
     "execution_count": 56,
     "metadata": {},
     "output_type": "execute_result"
    }
   ],
   "source": [
    "df.apply(lambda x: x.max() - x.min())"
   ]
  },
  {
   "cell_type": "code",
   "execution_count": 57,
   "metadata": {},
   "outputs": [
    {
     "data": {
      "text/plain": [
       "2022-03-19    36.495853\n",
       "2022-03-20    35.952079\n",
       "2022-03-21    35.142070\n",
       "2022-03-22    36.292503\n",
       "2022-03-23    36.975675\n",
       "2022-03-24    36.217168\n",
       "2022-03-25    34.872327\n",
       "Freq: D, dtype: float64"
      ]
     },
     "execution_count": 57,
     "metadata": {},
     "output_type": "execute_result"
    }
   ],
   "source": [
    "df.apply(lambda x: x.max() - x.min(), axis=1)"
   ]
  },
  {
   "cell_type": "markdown",
   "metadata": {},
   "source": [
    "### Histogramming"
   ]
  },
  {
   "cell_type": "code",
   "execution_count": 58,
   "metadata": {},
   "outputs": [
    {
     "data": {
      "text/plain": [
       "0    2\n",
       "1    1\n",
       "2    0\n",
       "3    1\n",
       "4    1\n",
       "5    0\n",
       "6    0\n",
       "7    6\n",
       "8    2\n",
       "9    4\n",
       "dtype: int32"
      ]
     },
     "execution_count": 58,
     "metadata": {},
     "output_type": "execute_result"
    }
   ],
   "source": [
    "s = pd.Series(np.random.randint(0, 7, size=10))\n",
    "s"
   ]
  },
  {
   "cell_type": "code",
   "execution_count": 59,
   "metadata": {},
   "outputs": [
    {
     "data": {
      "text/plain": [
       "1    3\n",
       "0    3\n",
       "2    2\n",
       "6    1\n",
       "4    1\n",
       "dtype: int64"
      ]
     },
     "execution_count": 59,
     "metadata": {},
     "output_type": "execute_result"
    }
   ],
   "source": [
    "s.value_counts()"
   ]
  },
  {
   "cell_type": "markdown",
   "metadata": {},
   "source": [
    "### String methods"
   ]
  },
  {
   "cell_type": "markdown",
   "metadata": {},
   "source": [
    "Series is equipped with a set of string processing methods in the `str` attribute that make it easy to operate on each element of the array, as in the code snippet below. Note that pattern-matching in `str` generally uses **regular expressions** by default (and in some cases always uses them)."
   ]
  },
  {
   "cell_type": "code",
   "execution_count": 60,
   "metadata": {},
   "outputs": [
    {
     "data": {
      "text/plain": [
       "0       A\n",
       "1       B\n",
       "2       C\n",
       "3       D\n",
       "4    Aaba\n",
       "5    Baca\n",
       "6     NaN\n",
       "7    CABA\n",
       "8     dog\n",
       "9     cat\n",
       "dtype: object"
      ]
     },
     "execution_count": 60,
     "metadata": {},
     "output_type": "execute_result"
    }
   ],
   "source": [
    "s = pd.Series([\"A\", \"B\", \"C\", \"D\", \"Aaba\", \"Baca\", np.nan, \"CABA\", \"dog\", \"cat\"])\n",
    "s"
   ]
  },
  {
   "cell_type": "code",
   "execution_count": 61,
   "metadata": {},
   "outputs": [
    {
     "data": {
      "text/plain": [
       "0       a\n",
       "1       b\n",
       "2       c\n",
       "3       d\n",
       "4    aaba\n",
       "5    baca\n",
       "6     NaN\n",
       "7    caba\n",
       "8     dog\n",
       "9     cat\n",
       "dtype: object"
      ]
     },
     "execution_count": 61,
     "metadata": {},
     "output_type": "execute_result"
    }
   ],
   "source": [
    "s.str.lower()"
   ]
  },
  {
   "cell_type": "markdown",
   "metadata": {},
   "source": [
    "### Merge"
   ]
  },
  {
   "cell_type": "markdown",
   "metadata": {},
   "source": [
    "#### Concat"
   ]
  },
  {
   "cell_type": "markdown",
   "metadata": {},
   "source": [
    "`Pandas` provides various facilities for easily combining together `Series` and `DataFrame` objects with various kinds of set logic for the indexes and relational algebra functionality in the case of join/merge-type operations.\n",
    "\n",
    "Concatenating pandas objects together with `concat()`."
   ]
  },
  {
   "cell_type": "code",
   "execution_count": 62,
   "metadata": {},
   "outputs": [
    {
     "data": {
      "text/html": [
       "<div>\n",
       "<style scoped>\n",
       "    .dataframe tbody tr th:only-of-type {\n",
       "        vertical-align: middle;\n",
       "    }\n",
       "\n",
       "    .dataframe tbody tr th {\n",
       "        vertical-align: top;\n",
       "    }\n",
       "\n",
       "    .dataframe thead th {\n",
       "        text-align: right;\n",
       "    }\n",
       "</style>\n",
       "<table border=\"1\" class=\"dataframe\">\n",
       "  <thead>\n",
       "    <tr style=\"text-align: right;\">\n",
       "      <th></th>\n",
       "      <th>0</th>\n",
       "      <th>1</th>\n",
       "      <th>2</th>\n",
       "      <th>3</th>\n",
       "    </tr>\n",
       "  </thead>\n",
       "  <tbody>\n",
       "    <tr>\n",
       "      <th>0</th>\n",
       "      <td>0.242972</td>\n",
       "      <td>0.892583</td>\n",
       "      <td>0.871489</td>\n",
       "      <td>-0.419100</td>\n",
       "    </tr>\n",
       "    <tr>\n",
       "      <th>1</th>\n",
       "      <td>-0.411602</td>\n",
       "      <td>-0.825881</td>\n",
       "      <td>0.819032</td>\n",
       "      <td>-0.059292</td>\n",
       "    </tr>\n",
       "    <tr>\n",
       "      <th>2</th>\n",
       "      <td>-0.025976</td>\n",
       "      <td>0.518048</td>\n",
       "      <td>-0.377988</td>\n",
       "      <td>-0.865496</td>\n",
       "    </tr>\n",
       "    <tr>\n",
       "      <th>3</th>\n",
       "      <td>-1.477280</td>\n",
       "      <td>-0.648861</td>\n",
       "      <td>0.839196</td>\n",
       "      <td>-0.371846</td>\n",
       "    </tr>\n",
       "    <tr>\n",
       "      <th>4</th>\n",
       "      <td>0.977791</td>\n",
       "      <td>-0.869410</td>\n",
       "      <td>-0.949966</td>\n",
       "      <td>-0.551944</td>\n",
       "    </tr>\n",
       "    <tr>\n",
       "      <th>5</th>\n",
       "      <td>0.396698</td>\n",
       "      <td>-0.451806</td>\n",
       "      <td>0.352518</td>\n",
       "      <td>1.012460</td>\n",
       "    </tr>\n",
       "    <tr>\n",
       "      <th>6</th>\n",
       "      <td>-1.032789</td>\n",
       "      <td>-1.379903</td>\n",
       "      <td>-0.968733</td>\n",
       "      <td>-0.006594</td>\n",
       "    </tr>\n",
       "    <tr>\n",
       "      <th>7</th>\n",
       "      <td>0.680557</td>\n",
       "      <td>0.127234</td>\n",
       "      <td>0.544234</td>\n",
       "      <td>0.880532</td>\n",
       "    </tr>\n",
       "    <tr>\n",
       "      <th>8</th>\n",
       "      <td>-1.312913</td>\n",
       "      <td>1.075576</td>\n",
       "      <td>-0.157476</td>\n",
       "      <td>0.082927</td>\n",
       "    </tr>\n",
       "    <tr>\n",
       "      <th>9</th>\n",
       "      <td>0.627286</td>\n",
       "      <td>2.087345</td>\n",
       "      <td>1.549625</td>\n",
       "      <td>-1.054226</td>\n",
       "    </tr>\n",
       "  </tbody>\n",
       "</table>\n",
       "</div>"
      ],
      "text/plain": [
       "          0         1         2         3\n",
       "0  0.242972  0.892583  0.871489 -0.419100\n",
       "1 -0.411602 -0.825881  0.819032 -0.059292\n",
       "2 -0.025976  0.518048 -0.377988 -0.865496\n",
       "3 -1.477280 -0.648861  0.839196 -0.371846\n",
       "4  0.977791 -0.869410 -0.949966 -0.551944\n",
       "5  0.396698 -0.451806  0.352518  1.012460\n",
       "6 -1.032789 -1.379903 -0.968733 -0.006594\n",
       "7  0.680557  0.127234  0.544234  0.880532\n",
       "8 -1.312913  1.075576 -0.157476  0.082927\n",
       "9  0.627286  2.087345  1.549625 -1.054226"
      ]
     },
     "execution_count": 62,
     "metadata": {},
     "output_type": "execute_result"
    }
   ],
   "source": [
    "df = pd.DataFrame(np.random.randn(10, 4))\n",
    "df"
   ]
  },
  {
   "cell_type": "code",
   "execution_count": 63,
   "metadata": {},
   "outputs": [
    {
     "data": {
      "text/plain": [
       "[          0         1         2         3\n",
       " 0  0.242972  0.892583  0.871489 -0.419100\n",
       " 1 -0.411602 -0.825881  0.819032 -0.059292\n",
       " 2 -0.025976  0.518048 -0.377988 -0.865496,\n",
       "           0         1         2         3\n",
       " 3 -1.477280 -0.648861  0.839196 -0.371846\n",
       " 4  0.977791 -0.869410 -0.949966 -0.551944\n",
       " 5  0.396698 -0.451806  0.352518  1.012460\n",
       " 6 -1.032789 -1.379903 -0.968733 -0.006594,\n",
       "           0         1         2         3\n",
       " 7  0.680557  0.127234  0.544234  0.880532\n",
       " 8 -1.312913  1.075576 -0.157476  0.082927\n",
       " 9  0.627286  2.087345  1.549625 -1.054226]"
      ]
     },
     "execution_count": 63,
     "metadata": {},
     "output_type": "execute_result"
    }
   ],
   "source": [
    "# break it into pieces\n",
    "pieces = [df[:3], df[3:7], df[7:]]\n",
    "pieces"
   ]
  },
  {
   "cell_type": "code",
   "execution_count": 64,
   "metadata": {},
   "outputs": [
    {
     "data": {
      "text/html": [
       "<div>\n",
       "<style scoped>\n",
       "    .dataframe tbody tr th:only-of-type {\n",
       "        vertical-align: middle;\n",
       "    }\n",
       "\n",
       "    .dataframe tbody tr th {\n",
       "        vertical-align: top;\n",
       "    }\n",
       "\n",
       "    .dataframe thead th {\n",
       "        text-align: right;\n",
       "    }\n",
       "</style>\n",
       "<table border=\"1\" class=\"dataframe\">\n",
       "  <thead>\n",
       "    <tr style=\"text-align: right;\">\n",
       "      <th></th>\n",
       "      <th>0</th>\n",
       "      <th>1</th>\n",
       "      <th>2</th>\n",
       "      <th>3</th>\n",
       "    </tr>\n",
       "  </thead>\n",
       "  <tbody>\n",
       "    <tr>\n",
       "      <th>0</th>\n",
       "      <td>0.242972</td>\n",
       "      <td>0.892583</td>\n",
       "      <td>0.871489</td>\n",
       "      <td>-0.419100</td>\n",
       "    </tr>\n",
       "    <tr>\n",
       "      <th>1</th>\n",
       "      <td>-0.411602</td>\n",
       "      <td>-0.825881</td>\n",
       "      <td>0.819032</td>\n",
       "      <td>-0.059292</td>\n",
       "    </tr>\n",
       "    <tr>\n",
       "      <th>2</th>\n",
       "      <td>-0.025976</td>\n",
       "      <td>0.518048</td>\n",
       "      <td>-0.377988</td>\n",
       "      <td>-0.865496</td>\n",
       "    </tr>\n",
       "    <tr>\n",
       "      <th>3</th>\n",
       "      <td>-1.477280</td>\n",
       "      <td>-0.648861</td>\n",
       "      <td>0.839196</td>\n",
       "      <td>-0.371846</td>\n",
       "    </tr>\n",
       "    <tr>\n",
       "      <th>4</th>\n",
       "      <td>0.977791</td>\n",
       "      <td>-0.869410</td>\n",
       "      <td>-0.949966</td>\n",
       "      <td>-0.551944</td>\n",
       "    </tr>\n",
       "    <tr>\n",
       "      <th>5</th>\n",
       "      <td>0.396698</td>\n",
       "      <td>-0.451806</td>\n",
       "      <td>0.352518</td>\n",
       "      <td>1.012460</td>\n",
       "    </tr>\n",
       "    <tr>\n",
       "      <th>6</th>\n",
       "      <td>-1.032789</td>\n",
       "      <td>-1.379903</td>\n",
       "      <td>-0.968733</td>\n",
       "      <td>-0.006594</td>\n",
       "    </tr>\n",
       "    <tr>\n",
       "      <th>7</th>\n",
       "      <td>0.680557</td>\n",
       "      <td>0.127234</td>\n",
       "      <td>0.544234</td>\n",
       "      <td>0.880532</td>\n",
       "    </tr>\n",
       "    <tr>\n",
       "      <th>8</th>\n",
       "      <td>-1.312913</td>\n",
       "      <td>1.075576</td>\n",
       "      <td>-0.157476</td>\n",
       "      <td>0.082927</td>\n",
       "    </tr>\n",
       "    <tr>\n",
       "      <th>9</th>\n",
       "      <td>0.627286</td>\n",
       "      <td>2.087345</td>\n",
       "      <td>1.549625</td>\n",
       "      <td>-1.054226</td>\n",
       "    </tr>\n",
       "  </tbody>\n",
       "</table>\n",
       "</div>"
      ],
      "text/plain": [
       "          0         1         2         3\n",
       "0  0.242972  0.892583  0.871489 -0.419100\n",
       "1 -0.411602 -0.825881  0.819032 -0.059292\n",
       "2 -0.025976  0.518048 -0.377988 -0.865496\n",
       "3 -1.477280 -0.648861  0.839196 -0.371846\n",
       "4  0.977791 -0.869410 -0.949966 -0.551944\n",
       "5  0.396698 -0.451806  0.352518  1.012460\n",
       "6 -1.032789 -1.379903 -0.968733 -0.006594\n",
       "7  0.680557  0.127234  0.544234  0.880532\n",
       "8 -1.312913  1.075576 -0.157476  0.082927\n",
       "9  0.627286  2.087345  1.549625 -1.054226"
      ]
     },
     "execution_count": 64,
     "metadata": {},
     "output_type": "execute_result"
    }
   ],
   "source": [
    "pd.concat(pieces)"
   ]
  },
  {
   "cell_type": "markdown",
   "metadata": {},
   "source": [
    "> Adding a column to a `DataFrame` is relatively fast. However, adding a row requires a copy, and may be expensive. I recommend passing a pre-built list of records to the `DataFrame` constructor instead of building a `DataFrame` by iteratively appending records to it."
   ]
  },
  {
   "cell_type": "markdown",
   "metadata": {},
   "source": [
    "### Join"
   ]
  },
  {
   "cell_type": "markdown",
   "metadata": {},
   "source": [
    "SQL style merges."
   ]
  },
  {
   "cell_type": "code",
   "execution_count": 65,
   "metadata": {},
   "outputs": [],
   "source": [
    "left = pd.DataFrame(\n",
    "    {\n",
    "        \"keys\": [\"foo\", \"bar\"],\n",
    "        \"lval\": [1, 2]\n",
    "    }\n",
    ")\n",
    "right = pd.DataFrame(\n",
    "    {\n",
    "        \"keys\": [\"foo\", \"bar\"],\n",
    "        \"rval\": [4, 5]\n",
    "    }\n",
    ")"
   ]
  },
  {
   "cell_type": "code",
   "execution_count": 66,
   "metadata": {},
   "outputs": [
    {
     "data": {
      "text/html": [
       "<div>\n",
       "<style scoped>\n",
       "    .dataframe tbody tr th:only-of-type {\n",
       "        vertical-align: middle;\n",
       "    }\n",
       "\n",
       "    .dataframe tbody tr th {\n",
       "        vertical-align: top;\n",
       "    }\n",
       "\n",
       "    .dataframe thead th {\n",
       "        text-align: right;\n",
       "    }\n",
       "</style>\n",
       "<table border=\"1\" class=\"dataframe\">\n",
       "  <thead>\n",
       "    <tr style=\"text-align: right;\">\n",
       "      <th></th>\n",
       "      <th>keys</th>\n",
       "      <th>lval</th>\n",
       "    </tr>\n",
       "  </thead>\n",
       "  <tbody>\n",
       "    <tr>\n",
       "      <th>0</th>\n",
       "      <td>foo</td>\n",
       "      <td>1</td>\n",
       "    </tr>\n",
       "    <tr>\n",
       "      <th>1</th>\n",
       "      <td>bar</td>\n",
       "      <td>2</td>\n",
       "    </tr>\n",
       "  </tbody>\n",
       "</table>\n",
       "</div>"
      ],
      "text/plain": [
       "  keys  lval\n",
       "0  foo     1\n",
       "1  bar     2"
      ]
     },
     "execution_count": 66,
     "metadata": {},
     "output_type": "execute_result"
    }
   ],
   "source": [
    "left"
   ]
  },
  {
   "cell_type": "code",
   "execution_count": 67,
   "metadata": {},
   "outputs": [
    {
     "data": {
      "text/html": [
       "<div>\n",
       "<style scoped>\n",
       "    .dataframe tbody tr th:only-of-type {\n",
       "        vertical-align: middle;\n",
       "    }\n",
       "\n",
       "    .dataframe tbody tr th {\n",
       "        vertical-align: top;\n",
       "    }\n",
       "\n",
       "    .dataframe thead th {\n",
       "        text-align: right;\n",
       "    }\n",
       "</style>\n",
       "<table border=\"1\" class=\"dataframe\">\n",
       "  <thead>\n",
       "    <tr style=\"text-align: right;\">\n",
       "      <th></th>\n",
       "      <th>keys</th>\n",
       "      <th>rval</th>\n",
       "    </tr>\n",
       "  </thead>\n",
       "  <tbody>\n",
       "    <tr>\n",
       "      <th>0</th>\n",
       "      <td>foo</td>\n",
       "      <td>4</td>\n",
       "    </tr>\n",
       "    <tr>\n",
       "      <th>1</th>\n",
       "      <td>bar</td>\n",
       "      <td>5</td>\n",
       "    </tr>\n",
       "  </tbody>\n",
       "</table>\n",
       "</div>"
      ],
      "text/plain": [
       "  keys  rval\n",
       "0  foo     4\n",
       "1  bar     5"
      ]
     },
     "execution_count": 67,
     "metadata": {},
     "output_type": "execute_result"
    }
   ],
   "source": [
    "right"
   ]
  },
  {
   "cell_type": "code",
   "execution_count": 68,
   "metadata": {},
   "outputs": [
    {
     "data": {
      "text/html": [
       "<div>\n",
       "<style scoped>\n",
       "    .dataframe tbody tr th:only-of-type {\n",
       "        vertical-align: middle;\n",
       "    }\n",
       "\n",
       "    .dataframe tbody tr th {\n",
       "        vertical-align: top;\n",
       "    }\n",
       "\n",
       "    .dataframe thead th {\n",
       "        text-align: right;\n",
       "    }\n",
       "</style>\n",
       "<table border=\"1\" class=\"dataframe\">\n",
       "  <thead>\n",
       "    <tr style=\"text-align: right;\">\n",
       "      <th></th>\n",
       "      <th>keys</th>\n",
       "      <th>lval</th>\n",
       "      <th>rval</th>\n",
       "    </tr>\n",
       "  </thead>\n",
       "  <tbody>\n",
       "    <tr>\n",
       "      <th>0</th>\n",
       "      <td>foo</td>\n",
       "      <td>1</td>\n",
       "      <td>4</td>\n",
       "    </tr>\n",
       "    <tr>\n",
       "      <th>1</th>\n",
       "      <td>bar</td>\n",
       "      <td>2</td>\n",
       "      <td>5</td>\n",
       "    </tr>\n",
       "  </tbody>\n",
       "</table>\n",
       "</div>"
      ],
      "text/plain": [
       "  keys  lval  rval\n",
       "0  foo     1     4\n",
       "1  bar     2     5"
      ]
     },
     "execution_count": 68,
     "metadata": {},
     "output_type": "execute_result"
    }
   ],
   "source": [
    "pd.merge(left, right, on=\"keys\")"
   ]
  },
  {
   "cell_type": "markdown",
   "metadata": {},
   "source": [
    "## Grouping"
   ]
  },
  {
   "cell_type": "markdown",
   "metadata": {},
   "source": [
    "By \"grouping\" we are refering to a process involving one ore more of the following steps:\n",
    "\n",
    "- **Splitting** the data into groups based on some criteria.\n",
    "- **Applying** a function to each group independently\n",
    "- **Combining** the results into a data structure"
   ]
  },
  {
   "cell_type": "code",
   "execution_count": 69,
   "metadata": {},
   "outputs": [
    {
     "data": {
      "text/html": [
       "<div>\n",
       "<style scoped>\n",
       "    .dataframe tbody tr th:only-of-type {\n",
       "        vertical-align: middle;\n",
       "    }\n",
       "\n",
       "    .dataframe tbody tr th {\n",
       "        vertical-align: top;\n",
       "    }\n",
       "\n",
       "    .dataframe thead th {\n",
       "        text-align: right;\n",
       "    }\n",
       "</style>\n",
       "<table border=\"1\" class=\"dataframe\">\n",
       "  <thead>\n",
       "    <tr style=\"text-align: right;\">\n",
       "      <th></th>\n",
       "      <th>A</th>\n",
       "      <th>B</th>\n",
       "      <th>C</th>\n",
       "      <th>D</th>\n",
       "    </tr>\n",
       "  </thead>\n",
       "  <tbody>\n",
       "    <tr>\n",
       "      <th>0</th>\n",
       "      <td>foo</td>\n",
       "      <td>one</td>\n",
       "      <td>-0.673657</td>\n",
       "      <td>-0.980497</td>\n",
       "    </tr>\n",
       "    <tr>\n",
       "      <th>1</th>\n",
       "      <td>bar</td>\n",
       "      <td>one</td>\n",
       "      <td>0.330608</td>\n",
       "      <td>-0.920797</td>\n",
       "    </tr>\n",
       "    <tr>\n",
       "      <th>2</th>\n",
       "      <td>foo</td>\n",
       "      <td>two</td>\n",
       "      <td>-0.184860</td>\n",
       "      <td>-0.386003</td>\n",
       "    </tr>\n",
       "    <tr>\n",
       "      <th>3</th>\n",
       "      <td>bar</td>\n",
       "      <td>three</td>\n",
       "      <td>-1.713242</td>\n",
       "      <td>-0.512577</td>\n",
       "    </tr>\n",
       "    <tr>\n",
       "      <th>4</th>\n",
       "      <td>foo</td>\n",
       "      <td>two</td>\n",
       "      <td>1.577601</td>\n",
       "      <td>0.303219</td>\n",
       "    </tr>\n",
       "    <tr>\n",
       "      <th>5</th>\n",
       "      <td>bar</td>\n",
       "      <td>two</td>\n",
       "      <td>0.509886</td>\n",
       "      <td>-2.826387</td>\n",
       "    </tr>\n",
       "    <tr>\n",
       "      <th>6</th>\n",
       "      <td>foo</td>\n",
       "      <td>one</td>\n",
       "      <td>1.177656</td>\n",
       "      <td>-0.150869</td>\n",
       "    </tr>\n",
       "    <tr>\n",
       "      <th>7</th>\n",
       "      <td>foo</td>\n",
       "      <td>three</td>\n",
       "      <td>0.897715</td>\n",
       "      <td>0.236945</td>\n",
       "    </tr>\n",
       "  </tbody>\n",
       "</table>\n",
       "</div>"
      ],
      "text/plain": [
       "     A      B         C         D\n",
       "0  foo    one -0.673657 -0.980497\n",
       "1  bar    one  0.330608 -0.920797\n",
       "2  foo    two -0.184860 -0.386003\n",
       "3  bar  three -1.713242 -0.512577\n",
       "4  foo    two  1.577601  0.303219\n",
       "5  bar    two  0.509886 -2.826387\n",
       "6  foo    one  1.177656 -0.150869\n",
       "7  foo  three  0.897715  0.236945"
      ]
     },
     "execution_count": 69,
     "metadata": {},
     "output_type": "execute_result"
    }
   ],
   "source": [
    "df = pd.DataFrame(\n",
    "    {\n",
    "        \"A\": [\"foo\", \"bar\", \"foo\", \"bar\", \"foo\", \"bar\", \"foo\", \"foo\"],\n",
    "        \"B\": [\"one\", \"one\", \"two\", \"three\", \"two\", \"two\", \"one\", \"three\"],\n",
    "        \"C\": np.random.randn(8),\n",
    "        \"D\": np.random.randn(8),\n",
    "    }\n",
    ")\n",
    "df"
   ]
  },
  {
   "cell_type": "markdown",
   "metadata": {},
   "source": [
    "Grouping and then applying the `sum()` function to the resulting group."
   ]
  },
  {
   "cell_type": "code",
   "execution_count": 70,
   "metadata": {},
   "outputs": [
    {
     "data": {
      "text/html": [
       "<div>\n",
       "<style scoped>\n",
       "    .dataframe tbody tr th:only-of-type {\n",
       "        vertical-align: middle;\n",
       "    }\n",
       "\n",
       "    .dataframe tbody tr th {\n",
       "        vertical-align: top;\n",
       "    }\n",
       "\n",
       "    .dataframe thead th {\n",
       "        text-align: right;\n",
       "    }\n",
       "</style>\n",
       "<table border=\"1\" class=\"dataframe\">\n",
       "  <thead>\n",
       "    <tr style=\"text-align: right;\">\n",
       "      <th></th>\n",
       "      <th>C</th>\n",
       "      <th>D</th>\n",
       "    </tr>\n",
       "    <tr>\n",
       "      <th>A</th>\n",
       "      <th></th>\n",
       "      <th></th>\n",
       "    </tr>\n",
       "  </thead>\n",
       "  <tbody>\n",
       "    <tr>\n",
       "      <th>bar</th>\n",
       "      <td>-0.872748</td>\n",
       "      <td>-4.259761</td>\n",
       "    </tr>\n",
       "    <tr>\n",
       "      <th>foo</th>\n",
       "      <td>2.794456</td>\n",
       "      <td>-0.977205</td>\n",
       "    </tr>\n",
       "  </tbody>\n",
       "</table>\n",
       "</div>"
      ],
      "text/plain": [
       "            C         D\n",
       "A                      \n",
       "bar -0.872748 -4.259761\n",
       "foo  2.794456 -0.977205"
      ]
     },
     "execution_count": 70,
     "metadata": {},
     "output_type": "execute_result"
    }
   ],
   "source": [
    "df.groupby(\"A\").sum()"
   ]
  },
  {
   "cell_type": "markdown",
   "metadata": {},
   "source": [
    "Grouping by multiple columns forms a hierarchical index, and again we can apply the `sum()` function."
   ]
  },
  {
   "cell_type": "code",
   "execution_count": 71,
   "metadata": {},
   "outputs": [
    {
     "data": {
      "text/html": [
       "<div>\n",
       "<style scoped>\n",
       "    .dataframe tbody tr th:only-of-type {\n",
       "        vertical-align: middle;\n",
       "    }\n",
       "\n",
       "    .dataframe tbody tr th {\n",
       "        vertical-align: top;\n",
       "    }\n",
       "\n",
       "    .dataframe thead th {\n",
       "        text-align: right;\n",
       "    }\n",
       "</style>\n",
       "<table border=\"1\" class=\"dataframe\">\n",
       "  <thead>\n",
       "    <tr style=\"text-align: right;\">\n",
       "      <th></th>\n",
       "      <th></th>\n",
       "      <th>C</th>\n",
       "      <th>D</th>\n",
       "    </tr>\n",
       "    <tr>\n",
       "      <th>A</th>\n",
       "      <th>B</th>\n",
       "      <th></th>\n",
       "      <th></th>\n",
       "    </tr>\n",
       "  </thead>\n",
       "  <tbody>\n",
       "    <tr>\n",
       "      <th rowspan=\"3\" valign=\"top\">bar</th>\n",
       "      <th>one</th>\n",
       "      <td>0.330608</td>\n",
       "      <td>-0.920797</td>\n",
       "    </tr>\n",
       "    <tr>\n",
       "      <th>three</th>\n",
       "      <td>-1.713242</td>\n",
       "      <td>-0.512577</td>\n",
       "    </tr>\n",
       "    <tr>\n",
       "      <th>two</th>\n",
       "      <td>0.509886</td>\n",
       "      <td>-2.826387</td>\n",
       "    </tr>\n",
       "    <tr>\n",
       "      <th rowspan=\"3\" valign=\"top\">foo</th>\n",
       "      <th>one</th>\n",
       "      <td>0.503999</td>\n",
       "      <td>-1.131366</td>\n",
       "    </tr>\n",
       "    <tr>\n",
       "      <th>three</th>\n",
       "      <td>0.897715</td>\n",
       "      <td>0.236945</td>\n",
       "    </tr>\n",
       "    <tr>\n",
       "      <th>two</th>\n",
       "      <td>1.392742</td>\n",
       "      <td>-0.082784</td>\n",
       "    </tr>\n",
       "  </tbody>\n",
       "</table>\n",
       "</div>"
      ],
      "text/plain": [
       "                  C         D\n",
       "A   B                        \n",
       "bar one    0.330608 -0.920797\n",
       "    three -1.713242 -0.512577\n",
       "    two    0.509886 -2.826387\n",
       "foo one    0.503999 -1.131366\n",
       "    three  0.897715  0.236945\n",
       "    two    1.392742 -0.082784"
      ]
     },
     "execution_count": 71,
     "metadata": {},
     "output_type": "execute_result"
    }
   ],
   "source": [
    "df.groupby([\"A\", \"B\"]).sum()"
   ]
  },
  {
   "cell_type": "markdown",
   "metadata": {},
   "source": [
    "## Reshaping"
   ]
  },
  {
   "cell_type": "markdown",
   "metadata": {},
   "source": [
    "### Stack"
   ]
  },
  {
   "cell_type": "code",
   "execution_count": 72,
   "metadata": {},
   "outputs": [
    {
     "data": {
      "text/html": [
       "<div>\n",
       "<style scoped>\n",
       "    .dataframe tbody tr th:only-of-type {\n",
       "        vertical-align: middle;\n",
       "    }\n",
       "\n",
       "    .dataframe tbody tr th {\n",
       "        vertical-align: top;\n",
       "    }\n",
       "\n",
       "    .dataframe thead th {\n",
       "        text-align: right;\n",
       "    }\n",
       "</style>\n",
       "<table border=\"1\" class=\"dataframe\">\n",
       "  <thead>\n",
       "    <tr style=\"text-align: right;\">\n",
       "      <th></th>\n",
       "      <th></th>\n",
       "      <th>A</th>\n",
       "      <th>B</th>\n",
       "    </tr>\n",
       "    <tr>\n",
       "      <th>first</th>\n",
       "      <th>second</th>\n",
       "      <th></th>\n",
       "      <th></th>\n",
       "    </tr>\n",
       "  </thead>\n",
       "  <tbody>\n",
       "    <tr>\n",
       "      <th rowspan=\"2\" valign=\"top\">bar</th>\n",
       "      <th>one</th>\n",
       "      <td>-0.291424</td>\n",
       "      <td>0.064386</td>\n",
       "    </tr>\n",
       "    <tr>\n",
       "      <th>two</th>\n",
       "      <td>0.154116</td>\n",
       "      <td>-1.665762</td>\n",
       "    </tr>\n",
       "    <tr>\n",
       "      <th rowspan=\"2\" valign=\"top\">baz</th>\n",
       "      <th>one</th>\n",
       "      <td>0.044201</td>\n",
       "      <td>1.369885</td>\n",
       "    </tr>\n",
       "    <tr>\n",
       "      <th>two</th>\n",
       "      <td>0.986016</td>\n",
       "      <td>0.373176</td>\n",
       "    </tr>\n",
       "    <tr>\n",
       "      <th rowspan=\"2\" valign=\"top\">foo</th>\n",
       "      <th>one</th>\n",
       "      <td>1.329832</td>\n",
       "      <td>0.430928</td>\n",
       "    </tr>\n",
       "    <tr>\n",
       "      <th>two</th>\n",
       "      <td>-0.878348</td>\n",
       "      <td>0.803520</td>\n",
       "    </tr>\n",
       "    <tr>\n",
       "      <th rowspan=\"2\" valign=\"top\">qux</th>\n",
       "      <th>one</th>\n",
       "      <td>-1.222885</td>\n",
       "      <td>1.522875</td>\n",
       "    </tr>\n",
       "    <tr>\n",
       "      <th>two</th>\n",
       "      <td>1.150848</td>\n",
       "      <td>0.377479</td>\n",
       "    </tr>\n",
       "  </tbody>\n",
       "</table>\n",
       "</div>"
      ],
      "text/plain": [
       "                     A         B\n",
       "first second                    \n",
       "bar   one    -0.291424  0.064386\n",
       "      two     0.154116 -1.665762\n",
       "baz   one     0.044201  1.369885\n",
       "      two     0.986016  0.373176\n",
       "foo   one     1.329832  0.430928\n",
       "      two    -0.878348  0.803520\n",
       "qux   one    -1.222885  1.522875\n",
       "      two     1.150848  0.377479"
      ]
     },
     "execution_count": 72,
     "metadata": {},
     "output_type": "execute_result"
    }
   ],
   "source": [
    "tuples = list(\n",
    "    zip(\n",
    "        *[\n",
    "            [\"bar\", \"bar\", \"baz\", \"baz\", \"foo\", \"foo\", \"qux\", \"qux\"],\n",
    "            [\"one\", \"two\", \"one\", \"two\", \"one\", \"two\", \"one\", \"two\"],\n",
    "        ]\n",
    "    )\n",
    ")\n",
    "index = pd.MultiIndex.from_tuples(tuples, names=[\"first\", \"second\"])\n",
    "df = pd.DataFrame(np.random.randn(8, 2), index=index, columns=[\"A\", \"B\"])\n",
    "df"
   ]
  },
  {
   "cell_type": "markdown",
   "metadata": {},
   "source": [
    "The `stack()` method \"compress\" a level in the **DataFrame's** columns."
   ]
  },
  {
   "cell_type": "code",
   "execution_count": 73,
   "metadata": {},
   "outputs": [
    {
     "data": {
      "text/html": [
       "<div>\n",
       "<style scoped>\n",
       "    .dataframe tbody tr th:only-of-type {\n",
       "        vertical-align: middle;\n",
       "    }\n",
       "\n",
       "    .dataframe tbody tr th {\n",
       "        vertical-align: top;\n",
       "    }\n",
       "\n",
       "    .dataframe thead th {\n",
       "        text-align: right;\n",
       "    }\n",
       "</style>\n",
       "<table border=\"1\" class=\"dataframe\">\n",
       "  <thead>\n",
       "    <tr style=\"text-align: right;\">\n",
       "      <th></th>\n",
       "      <th></th>\n",
       "      <th>A</th>\n",
       "      <th>B</th>\n",
       "    </tr>\n",
       "    <tr>\n",
       "      <th>first</th>\n",
       "      <th>second</th>\n",
       "      <th></th>\n",
       "      <th></th>\n",
       "    </tr>\n",
       "  </thead>\n",
       "  <tbody>\n",
       "    <tr>\n",
       "      <th rowspan=\"2\" valign=\"top\">bar</th>\n",
       "      <th>one</th>\n",
       "      <td>-0.291424</td>\n",
       "      <td>0.064386</td>\n",
       "    </tr>\n",
       "    <tr>\n",
       "      <th>two</th>\n",
       "      <td>0.154116</td>\n",
       "      <td>-1.665762</td>\n",
       "    </tr>\n",
       "    <tr>\n",
       "      <th rowspan=\"2\" valign=\"top\">baz</th>\n",
       "      <th>one</th>\n",
       "      <td>0.044201</td>\n",
       "      <td>1.369885</td>\n",
       "    </tr>\n",
       "    <tr>\n",
       "      <th>two</th>\n",
       "      <td>0.986016</td>\n",
       "      <td>0.373176</td>\n",
       "    </tr>\n",
       "  </tbody>\n",
       "</table>\n",
       "</div>"
      ],
      "text/plain": [
       "                     A         B\n",
       "first second                    \n",
       "bar   one    -0.291424  0.064386\n",
       "      two     0.154116 -1.665762\n",
       "baz   one     0.044201  1.369885\n",
       "      two     0.986016  0.373176"
      ]
     },
     "execution_count": 73,
     "metadata": {},
     "output_type": "execute_result"
    }
   ],
   "source": [
    "df2 = df[:4]\n",
    "df2"
   ]
  },
  {
   "cell_type": "code",
   "execution_count": 74,
   "metadata": {},
   "outputs": [
    {
     "data": {
      "text/plain": [
       "first  second   \n",
       "bar    one     A   -0.291424\n",
       "               B    0.064386\n",
       "       two     A    0.154116\n",
       "               B   -1.665762\n",
       "baz    one     A    0.044201\n",
       "               B    1.369885\n",
       "       two     A    0.986016\n",
       "               B    0.373176\n",
       "dtype: float64"
      ]
     },
     "execution_count": 74,
     "metadata": {},
     "output_type": "execute_result"
    }
   ],
   "source": [
    "stacked = df2.stack()\n",
    "stacked"
   ]
  },
  {
   "cell_type": "markdown",
   "metadata": {},
   "source": [
    "With a \"stacked\" DataFrame or Series (having a `MultiIndex` as the `Index`), the inverse operation of `stack()` is `unstack()`, which by default unstacks the **last level**."
   ]
  },
  {
   "cell_type": "code",
   "execution_count": 75,
   "metadata": {},
   "outputs": [
    {
     "data": {
      "text/html": [
       "<div>\n",
       "<style scoped>\n",
       "    .dataframe tbody tr th:only-of-type {\n",
       "        vertical-align: middle;\n",
       "    }\n",
       "\n",
       "    .dataframe tbody tr th {\n",
       "        vertical-align: top;\n",
       "    }\n",
       "\n",
       "    .dataframe thead th {\n",
       "        text-align: right;\n",
       "    }\n",
       "</style>\n",
       "<table border=\"1\" class=\"dataframe\">\n",
       "  <thead>\n",
       "    <tr style=\"text-align: right;\">\n",
       "      <th></th>\n",
       "      <th></th>\n",
       "      <th>A</th>\n",
       "      <th>B</th>\n",
       "    </tr>\n",
       "    <tr>\n",
       "      <th>first</th>\n",
       "      <th>second</th>\n",
       "      <th></th>\n",
       "      <th></th>\n",
       "    </tr>\n",
       "  </thead>\n",
       "  <tbody>\n",
       "    <tr>\n",
       "      <th rowspan=\"2\" valign=\"top\">bar</th>\n",
       "      <th>one</th>\n",
       "      <td>-0.291424</td>\n",
       "      <td>0.064386</td>\n",
       "    </tr>\n",
       "    <tr>\n",
       "      <th>two</th>\n",
       "      <td>0.154116</td>\n",
       "      <td>-1.665762</td>\n",
       "    </tr>\n",
       "    <tr>\n",
       "      <th rowspan=\"2\" valign=\"top\">baz</th>\n",
       "      <th>one</th>\n",
       "      <td>0.044201</td>\n",
       "      <td>1.369885</td>\n",
       "    </tr>\n",
       "    <tr>\n",
       "      <th>two</th>\n",
       "      <td>0.986016</td>\n",
       "      <td>0.373176</td>\n",
       "    </tr>\n",
       "  </tbody>\n",
       "</table>\n",
       "</div>"
      ],
      "text/plain": [
       "                     A         B\n",
       "first second                    \n",
       "bar   one    -0.291424  0.064386\n",
       "      two     0.154116 -1.665762\n",
       "baz   one     0.044201  1.369885\n",
       "      two     0.986016  0.373176"
      ]
     },
     "execution_count": 75,
     "metadata": {},
     "output_type": "execute_result"
    }
   ],
   "source": [
    "stacked.unstack()"
   ]
  },
  {
   "cell_type": "code",
   "execution_count": 76,
   "metadata": {},
   "outputs": [
    {
     "data": {
      "text/html": [
       "<div>\n",
       "<style scoped>\n",
       "    .dataframe tbody tr th:only-of-type {\n",
       "        vertical-align: middle;\n",
       "    }\n",
       "\n",
       "    .dataframe tbody tr th {\n",
       "        vertical-align: top;\n",
       "    }\n",
       "\n",
       "    .dataframe thead th {\n",
       "        text-align: right;\n",
       "    }\n",
       "</style>\n",
       "<table border=\"1\" class=\"dataframe\">\n",
       "  <thead>\n",
       "    <tr style=\"text-align: right;\">\n",
       "      <th></th>\n",
       "      <th>second</th>\n",
       "      <th>one</th>\n",
       "      <th>two</th>\n",
       "    </tr>\n",
       "    <tr>\n",
       "      <th>first</th>\n",
       "      <th></th>\n",
       "      <th></th>\n",
       "      <th></th>\n",
       "    </tr>\n",
       "  </thead>\n",
       "  <tbody>\n",
       "    <tr>\n",
       "      <th rowspan=\"2\" valign=\"top\">bar</th>\n",
       "      <th>A</th>\n",
       "      <td>-0.291424</td>\n",
       "      <td>0.154116</td>\n",
       "    </tr>\n",
       "    <tr>\n",
       "      <th>B</th>\n",
       "      <td>0.064386</td>\n",
       "      <td>-1.665762</td>\n",
       "    </tr>\n",
       "    <tr>\n",
       "      <th rowspan=\"2\" valign=\"top\">baz</th>\n",
       "      <th>A</th>\n",
       "      <td>0.044201</td>\n",
       "      <td>0.986016</td>\n",
       "    </tr>\n",
       "    <tr>\n",
       "      <th>B</th>\n",
       "      <td>1.369885</td>\n",
       "      <td>0.373176</td>\n",
       "    </tr>\n",
       "  </tbody>\n",
       "</table>\n",
       "</div>"
      ],
      "text/plain": [
       "second        one       two\n",
       "first                      \n",
       "bar   A -0.291424  0.154116\n",
       "      B  0.064386 -1.665762\n",
       "baz   A  0.044201  0.986016\n",
       "      B  1.369885  0.373176"
      ]
     },
     "execution_count": 76,
     "metadata": {},
     "output_type": "execute_result"
    }
   ],
   "source": [
    "stacked.unstack(1)"
   ]
  },
  {
   "cell_type": "code",
   "execution_count": 77,
   "metadata": {},
   "outputs": [
    {
     "data": {
      "text/html": [
       "<div>\n",
       "<style scoped>\n",
       "    .dataframe tbody tr th:only-of-type {\n",
       "        vertical-align: middle;\n",
       "    }\n",
       "\n",
       "    .dataframe tbody tr th {\n",
       "        vertical-align: top;\n",
       "    }\n",
       "\n",
       "    .dataframe thead th {\n",
       "        text-align: right;\n",
       "    }\n",
       "</style>\n",
       "<table border=\"1\" class=\"dataframe\">\n",
       "  <thead>\n",
       "    <tr style=\"text-align: right;\">\n",
       "      <th></th>\n",
       "      <th>first</th>\n",
       "      <th>bar</th>\n",
       "      <th>baz</th>\n",
       "    </tr>\n",
       "    <tr>\n",
       "      <th>second</th>\n",
       "      <th></th>\n",
       "      <th></th>\n",
       "      <th></th>\n",
       "    </tr>\n",
       "  </thead>\n",
       "  <tbody>\n",
       "    <tr>\n",
       "      <th rowspan=\"2\" valign=\"top\">one</th>\n",
       "      <th>A</th>\n",
       "      <td>-0.291424</td>\n",
       "      <td>0.044201</td>\n",
       "    </tr>\n",
       "    <tr>\n",
       "      <th>B</th>\n",
       "      <td>0.064386</td>\n",
       "      <td>1.369885</td>\n",
       "    </tr>\n",
       "    <tr>\n",
       "      <th rowspan=\"2\" valign=\"top\">two</th>\n",
       "      <th>A</th>\n",
       "      <td>0.154116</td>\n",
       "      <td>0.986016</td>\n",
       "    </tr>\n",
       "    <tr>\n",
       "      <th>B</th>\n",
       "      <td>-1.665762</td>\n",
       "      <td>0.373176</td>\n",
       "    </tr>\n",
       "  </tbody>\n",
       "</table>\n",
       "</div>"
      ],
      "text/plain": [
       "first          bar       baz\n",
       "second                      \n",
       "one    A -0.291424  0.044201\n",
       "       B  0.064386  1.369885\n",
       "two    A  0.154116  0.986016\n",
       "       B -1.665762  0.373176"
      ]
     },
     "execution_count": 77,
     "metadata": {},
     "output_type": "execute_result"
    }
   ],
   "source": [
    "stacked.unstack(0)"
   ]
  },
  {
   "cell_type": "markdown",
   "metadata": {},
   "source": [
    "## Pivot tables"
   ]
  },
  {
   "cell_type": "code",
   "execution_count": 78,
   "metadata": {},
   "outputs": [
    {
     "data": {
      "text/html": [
       "<div>\n",
       "<style scoped>\n",
       "    .dataframe tbody tr th:only-of-type {\n",
       "        vertical-align: middle;\n",
       "    }\n",
       "\n",
       "    .dataframe tbody tr th {\n",
       "        vertical-align: top;\n",
       "    }\n",
       "\n",
       "    .dataframe thead th {\n",
       "        text-align: right;\n",
       "    }\n",
       "</style>\n",
       "<table border=\"1\" class=\"dataframe\">\n",
       "  <thead>\n",
       "    <tr style=\"text-align: right;\">\n",
       "      <th></th>\n",
       "      <th>A</th>\n",
       "      <th>B</th>\n",
       "      <th>C</th>\n",
       "      <th>D</th>\n",
       "      <th>E</th>\n",
       "    </tr>\n",
       "  </thead>\n",
       "  <tbody>\n",
       "    <tr>\n",
       "      <th>0</th>\n",
       "      <td>one</td>\n",
       "      <td>A</td>\n",
       "      <td>foo</td>\n",
       "      <td>0.085450</td>\n",
       "      <td>0.051383</td>\n",
       "    </tr>\n",
       "    <tr>\n",
       "      <th>1</th>\n",
       "      <td>one</td>\n",
       "      <td>B</td>\n",
       "      <td>foo</td>\n",
       "      <td>0.332374</td>\n",
       "      <td>0.847427</td>\n",
       "    </tr>\n",
       "    <tr>\n",
       "      <th>2</th>\n",
       "      <td>two</td>\n",
       "      <td>C</td>\n",
       "      <td>foo</td>\n",
       "      <td>-2.192810</td>\n",
       "      <td>-0.471367</td>\n",
       "    </tr>\n",
       "    <tr>\n",
       "      <th>3</th>\n",
       "      <td>three</td>\n",
       "      <td>A</td>\n",
       "      <td>bar</td>\n",
       "      <td>-0.630596</td>\n",
       "      <td>0.370995</td>\n",
       "    </tr>\n",
       "    <tr>\n",
       "      <th>4</th>\n",
       "      <td>one</td>\n",
       "      <td>B</td>\n",
       "      <td>bar</td>\n",
       "      <td>1.268665</td>\n",
       "      <td>-0.837213</td>\n",
       "    </tr>\n",
       "    <tr>\n",
       "      <th>5</th>\n",
       "      <td>one</td>\n",
       "      <td>C</td>\n",
       "      <td>bar</td>\n",
       "      <td>0.078938</td>\n",
       "      <td>-2.517583</td>\n",
       "    </tr>\n",
       "    <tr>\n",
       "      <th>6</th>\n",
       "      <td>two</td>\n",
       "      <td>A</td>\n",
       "      <td>foo</td>\n",
       "      <td>-1.592237</td>\n",
       "      <td>0.696261</td>\n",
       "    </tr>\n",
       "    <tr>\n",
       "      <th>7</th>\n",
       "      <td>three</td>\n",
       "      <td>B</td>\n",
       "      <td>foo</td>\n",
       "      <td>-0.241095</td>\n",
       "      <td>1.608627</td>\n",
       "    </tr>\n",
       "    <tr>\n",
       "      <th>8</th>\n",
       "      <td>one</td>\n",
       "      <td>C</td>\n",
       "      <td>foo</td>\n",
       "      <td>0.625242</td>\n",
       "      <td>-0.475073</td>\n",
       "    </tr>\n",
       "    <tr>\n",
       "      <th>9</th>\n",
       "      <td>one</td>\n",
       "      <td>A</td>\n",
       "      <td>bar</td>\n",
       "      <td>2.161372</td>\n",
       "      <td>-0.822044</td>\n",
       "    </tr>\n",
       "    <tr>\n",
       "      <th>10</th>\n",
       "      <td>two</td>\n",
       "      <td>B</td>\n",
       "      <td>bar</td>\n",
       "      <td>0.334565</td>\n",
       "      <td>1.688067</td>\n",
       "    </tr>\n",
       "    <tr>\n",
       "      <th>11</th>\n",
       "      <td>three</td>\n",
       "      <td>C</td>\n",
       "      <td>bar</td>\n",
       "      <td>0.742088</td>\n",
       "      <td>0.875812</td>\n",
       "    </tr>\n",
       "  </tbody>\n",
       "</table>\n",
       "</div>"
      ],
      "text/plain": [
       "        A  B    C         D         E\n",
       "0     one  A  foo  0.085450  0.051383\n",
       "1     one  B  foo  0.332374  0.847427\n",
       "2     two  C  foo -2.192810 -0.471367\n",
       "3   three  A  bar -0.630596  0.370995\n",
       "4     one  B  bar  1.268665 -0.837213\n",
       "5     one  C  bar  0.078938 -2.517583\n",
       "6     two  A  foo -1.592237  0.696261\n",
       "7   three  B  foo -0.241095  1.608627\n",
       "8     one  C  foo  0.625242 -0.475073\n",
       "9     one  A  bar  2.161372 -0.822044\n",
       "10    two  B  bar  0.334565  1.688067\n",
       "11  three  C  bar  0.742088  0.875812"
      ]
     },
     "execution_count": 78,
     "metadata": {},
     "output_type": "execute_result"
    }
   ],
   "source": [
    "df = pd.DataFrame(\n",
    "    {\n",
    "        \"A\": [\"one\", \"one\", \"two\", \"three\"] * 3,\n",
    "        \"B\": [\"A\", \"B\", \"C\"] * 4,\n",
    "        \"C\": [\"foo\", \"foo\", \"foo\", \"bar\", \"bar\", \"bar\"] * 2,\n",
    "        \"D\": np.random.randn(12),\n",
    "        \"E\": np.random.randn(12),\n",
    "    }\n",
    ")\n",
    "\n",
    "df"
   ]
  },
  {
   "cell_type": "markdown",
   "metadata": {},
   "source": [
    "We can produce pivot tables from this data very easily."
   ]
  },
  {
   "cell_type": "code",
   "execution_count": 79,
   "metadata": {},
   "outputs": [
    {
     "data": {
      "text/html": [
       "<div>\n",
       "<style scoped>\n",
       "    .dataframe tbody tr th:only-of-type {\n",
       "        vertical-align: middle;\n",
       "    }\n",
       "\n",
       "    .dataframe tbody tr th {\n",
       "        vertical-align: top;\n",
       "    }\n",
       "\n",
       "    .dataframe thead th {\n",
       "        text-align: right;\n",
       "    }\n",
       "</style>\n",
       "<table border=\"1\" class=\"dataframe\">\n",
       "  <thead>\n",
       "    <tr style=\"text-align: right;\">\n",
       "      <th></th>\n",
       "      <th>C</th>\n",
       "      <th>bar</th>\n",
       "      <th>foo</th>\n",
       "    </tr>\n",
       "    <tr>\n",
       "      <th>A</th>\n",
       "      <th>B</th>\n",
       "      <th></th>\n",
       "      <th></th>\n",
       "    </tr>\n",
       "  </thead>\n",
       "  <tbody>\n",
       "    <tr>\n",
       "      <th rowspan=\"3\" valign=\"top\">one</th>\n",
       "      <th>A</th>\n",
       "      <td>2.161372</td>\n",
       "      <td>0.085450</td>\n",
       "    </tr>\n",
       "    <tr>\n",
       "      <th>B</th>\n",
       "      <td>1.268665</td>\n",
       "      <td>0.332374</td>\n",
       "    </tr>\n",
       "    <tr>\n",
       "      <th>C</th>\n",
       "      <td>0.078938</td>\n",
       "      <td>0.625242</td>\n",
       "    </tr>\n",
       "    <tr>\n",
       "      <th rowspan=\"3\" valign=\"top\">three</th>\n",
       "      <th>A</th>\n",
       "      <td>-0.630596</td>\n",
       "      <td>NaN</td>\n",
       "    </tr>\n",
       "    <tr>\n",
       "      <th>B</th>\n",
       "      <td>NaN</td>\n",
       "      <td>-0.241095</td>\n",
       "    </tr>\n",
       "    <tr>\n",
       "      <th>C</th>\n",
       "      <td>0.742088</td>\n",
       "      <td>NaN</td>\n",
       "    </tr>\n",
       "    <tr>\n",
       "      <th rowspan=\"3\" valign=\"top\">two</th>\n",
       "      <th>A</th>\n",
       "      <td>NaN</td>\n",
       "      <td>-1.592237</td>\n",
       "    </tr>\n",
       "    <tr>\n",
       "      <th>B</th>\n",
       "      <td>0.334565</td>\n",
       "      <td>NaN</td>\n",
       "    </tr>\n",
       "    <tr>\n",
       "      <th>C</th>\n",
       "      <td>NaN</td>\n",
       "      <td>-2.192810</td>\n",
       "    </tr>\n",
       "  </tbody>\n",
       "</table>\n",
       "</div>"
      ],
      "text/plain": [
       "C             bar       foo\n",
       "A     B                    \n",
       "one   A  2.161372  0.085450\n",
       "      B  1.268665  0.332374\n",
       "      C  0.078938  0.625242\n",
       "three A -0.630596       NaN\n",
       "      B       NaN -0.241095\n",
       "      C  0.742088       NaN\n",
       "two   A       NaN -1.592237\n",
       "      B  0.334565       NaN\n",
       "      C       NaN -2.192810"
      ]
     },
     "execution_count": 79,
     "metadata": {},
     "output_type": "execute_result"
    }
   ],
   "source": [
    "pd.pivot_table(df, values=\"D\", index=[\"A\", \"B\"], columns=\"C\")"
   ]
  },
  {
   "cell_type": "markdown",
   "metadata": {},
   "source": [
    "## Time series"
   ]
  },
  {
   "cell_type": "markdown",
   "metadata": {},
   "source": [
    "`Pandas` has simple, powerful, and efficient functionality for performing resampling operations during frequency conversion (e.g., converting secondly data into 5-minutely data). This is extremely common in, but not limited to, financial applications."
   ]
  },
  {
   "cell_type": "code",
   "execution_count": 80,
   "metadata": {},
   "outputs": [
    {
     "data": {
      "text/plain": [
       "2022-01-01 00:00:00    379\n",
       "2022-01-01 00:00:01    175\n",
       "2022-01-01 00:00:02    409\n",
       "2022-01-01 00:00:03    423\n",
       "2022-01-01 00:00:04     65\n",
       "                      ... \n",
       "2022-01-01 00:01:35    267\n",
       "2022-01-01 00:01:36    378\n",
       "2022-01-01 00:01:37    317\n",
       "2022-01-01 00:01:38    412\n",
       "2022-01-01 00:01:39     96\n",
       "Freq: S, Length: 100, dtype: int32"
      ]
     },
     "execution_count": 80,
     "metadata": {},
     "output_type": "execute_result"
    }
   ],
   "source": [
    "rng = pd.date_range(\"1/1/2022\", periods=100, freq=\"S\")\n",
    "ts = pd.Series(np.random.randint(0, 500, len(rng)), index=rng)\n",
    "ts"
   ]
  },
  {
   "cell_type": "code",
   "execution_count": 81,
   "metadata": {},
   "outputs": [
    {
     "data": {
      "text/plain": [
       "2022-01-01    25421\n",
       "Freq: 5T, dtype: int32"
      ]
     },
     "execution_count": 81,
     "metadata": {},
     "output_type": "execute_result"
    }
   ],
   "source": [
    "ts.resample(\"5Min\").sum()"
   ]
  },
  {
   "cell_type": "markdown",
   "metadata": {},
   "source": [
    "Time zone representation"
   ]
  },
  {
   "cell_type": "code",
   "execution_count": 82,
   "metadata": {},
   "outputs": [
    {
     "data": {
      "text/plain": [
       "2022-01-01   -0.814269\n",
       "2022-01-02    1.125599\n",
       "2022-01-03   -0.589751\n",
       "2022-01-04    0.052476\n",
       "2022-01-05   -0.030910\n",
       "Freq: D, dtype: float64"
      ]
     },
     "execution_count": 82,
     "metadata": {},
     "output_type": "execute_result"
    }
   ],
   "source": [
    "rng = pd.date_range(\"1/1/2022 00:00\", periods=5, freq=\"D\")\n",
    "ts = pd.Series(np.random.randn(len(rng)), rng)\n",
    "ts"
   ]
  },
  {
   "cell_type": "code",
   "execution_count": 83,
   "metadata": {},
   "outputs": [
    {
     "data": {
      "text/plain": [
       "2022-01-01 00:00:00+00:00   -0.814269\n",
       "2022-01-02 00:00:00+00:00    1.125599\n",
       "2022-01-03 00:00:00+00:00   -0.589751\n",
       "2022-01-04 00:00:00+00:00    0.052476\n",
       "2022-01-05 00:00:00+00:00   -0.030910\n",
       "Freq: D, dtype: float64"
      ]
     },
     "execution_count": 83,
     "metadata": {},
     "output_type": "execute_result"
    }
   ],
   "source": [
    "ts_utc = ts.tz_localize(\"UTC\")\n",
    "ts_utc"
   ]
  },
  {
   "cell_type": "markdown",
   "metadata": {},
   "source": [
    "Converting to another time zone."
   ]
  },
  {
   "cell_type": "code",
   "execution_count": 84,
   "metadata": {},
   "outputs": [
    {
     "data": {
      "text/plain": [
       "2021-12-31 19:00:00-05:00   -0.814269\n",
       "2022-01-01 19:00:00-05:00    1.125599\n",
       "2022-01-02 19:00:00-05:00   -0.589751\n",
       "2022-01-03 19:00:00-05:00    0.052476\n",
       "2022-01-04 19:00:00-05:00   -0.030910\n",
       "Freq: D, dtype: float64"
      ]
     },
     "execution_count": 84,
     "metadata": {},
     "output_type": "execute_result"
    }
   ],
   "source": [
    "ts_utc.tz_convert(\"US/Eastern\")"
   ]
  },
  {
   "cell_type": "markdown",
   "metadata": {},
   "source": [
    "Converting between time span representations."
   ]
  },
  {
   "cell_type": "code",
   "execution_count": 85,
   "metadata": {},
   "outputs": [
    {
     "data": {
      "text/plain": [
       "2022-01-31    0.463952\n",
       "2022-02-28   -1.206129\n",
       "2022-03-31    0.178848\n",
       "2022-04-30   -0.075067\n",
       "2022-05-31   -1.082203\n",
       "Freq: M, dtype: float64"
      ]
     },
     "execution_count": 85,
     "metadata": {},
     "output_type": "execute_result"
    }
   ],
   "source": [
    "rng = pd.date_range(\"1/1/2022\", periods=5, freq=\"M\")\n",
    "ts = pd.Series(np.random.randn(len(rng)), index=rng)\n",
    "ts"
   ]
  },
  {
   "cell_type": "code",
   "execution_count": 86,
   "metadata": {},
   "outputs": [
    {
     "data": {
      "text/plain": [
       "2022-01    0.463952\n",
       "2022-02   -1.206129\n",
       "2022-03    0.178848\n",
       "2022-04   -0.075067\n",
       "2022-05   -1.082203\n",
       "Freq: M, dtype: float64"
      ]
     },
     "execution_count": 86,
     "metadata": {},
     "output_type": "execute_result"
    }
   ],
   "source": [
    "ps = ts.to_period()\n",
    "ps"
   ]
  },
  {
   "cell_type": "code",
   "execution_count": 87,
   "metadata": {},
   "outputs": [
    {
     "data": {
      "text/plain": [
       "2022-01-01    0.463952\n",
       "2022-02-01   -1.206129\n",
       "2022-03-01    0.178848\n",
       "2022-04-01   -0.075067\n",
       "2022-05-01   -1.082203\n",
       "Freq: MS, dtype: float64"
      ]
     },
     "execution_count": 87,
     "metadata": {},
     "output_type": "execute_result"
    }
   ],
   "source": [
    "ps.to_timestamp()"
   ]
  },
  {
   "cell_type": "markdown",
   "metadata": {},
   "source": [
    "Converting between period and timestamp enables some convenients arithmetic functions to be used. In the following example, I convert a quarterly frequency with year ending in November to 9am of the end of the month following the quarter end."
   ]
  },
  {
   "cell_type": "code",
   "execution_count": 88,
   "metadata": {},
   "outputs": [
    {
     "data": {
      "text/plain": [
       "1990-03-01 09:00   -1.293509\n",
       "1990-06-01 09:00    0.066585\n",
       "1990-09-01 09:00   -0.380465\n",
       "1990-12-01 09:00   -0.515428\n",
       "1991-03-01 09:00    0.485997\n",
       "Freq: H, dtype: float64"
      ]
     },
     "execution_count": 88,
     "metadata": {},
     "output_type": "execute_result"
    }
   ],
   "source": [
    "prng = pd.period_range(\"1990Q1\", \"2000Q4\", freq=\"Q-NOV\")\n",
    "ts = pd.Series(np.random.randn(len(prng)), prng)\n",
    "ts.index = (prng.asfreq(\"M\", \"e\") + 1).asfreq(\"H\", \"s\") + 9\n",
    "ts.head()"
   ]
  },
  {
   "cell_type": "markdown",
   "metadata": {},
   "source": [
    "## Categoricals"
   ]
  },
  {
   "cell_type": "markdown",
   "metadata": {},
   "source": [
    "`Pandas` can include categorical data in a **DataFrame**."
   ]
  },
  {
   "cell_type": "code",
   "execution_count": 89,
   "metadata": {},
   "outputs": [],
   "source": [
    "df = pd.DataFrame(\n",
    "    {\n",
    "        \"id\": list(range(1, 7, 1)),\n",
    "        \"raw_grade\": [\"a\", \"a\", \"b\", \"a\", \"a\", \"e\"],\n",
    "    }\n",
    ")"
   ]
  },
  {
   "cell_type": "markdown",
   "metadata": {},
   "source": [
    "Converting the grades to a categorical data type."
   ]
  },
  {
   "cell_type": "code",
   "execution_count": 90,
   "metadata": {},
   "outputs": [
    {
     "data": {
      "text/plain": [
       "0    a\n",
       "1    a\n",
       "2    b\n",
       "3    a\n",
       "4    a\n",
       "5    e\n",
       "Name: grade, dtype: category\n",
       "Categories (3, object): ['a', 'b', 'e']"
      ]
     },
     "execution_count": 90,
     "metadata": {},
     "output_type": "execute_result"
    }
   ],
   "source": [
    "df[\"grade\"] = df[\"raw_grade\"].astype(\"category\")\n",
    "df[\"grade\"]"
   ]
  },
  {
   "cell_type": "markdown",
   "metadata": {},
   "source": [
    "Rename the categories to more meaningful names (assigning to `Series.cat.categories()` is in place!)."
   ]
  },
  {
   "cell_type": "code",
   "execution_count": 91,
   "metadata": {},
   "outputs": [
    {
     "data": {
      "text/plain": [
       "0    very good\n",
       "1    very good\n",
       "2         good\n",
       "3    very good\n",
       "4    very good\n",
       "5     very bad\n",
       "Name: grade, dtype: category\n",
       "Categories (3, object): ['very good', 'good', 'very bad']"
      ]
     },
     "execution_count": 91,
     "metadata": {},
     "output_type": "execute_result"
    }
   ],
   "source": [
    "df[\"grade\"].cat.categories = [\"very good\", \"good\", \"very bad\"]\n",
    "df[\"grade\"]"
   ]
  },
  {
   "cell_type": "markdown",
   "metadata": {},
   "source": [
    "Reorder the categories and simultaneously add the missing categories (methods under `Series.cat()` return a new `Series` by default)."
   ]
  },
  {
   "cell_type": "code",
   "execution_count": 92,
   "metadata": {},
   "outputs": [
    {
     "data": {
      "text/plain": [
       "0    very good\n",
       "1    very good\n",
       "2         good\n",
       "3    very good\n",
       "4    very good\n",
       "5     very bad\n",
       "Name: grade, dtype: category\n",
       "Categories (5, object): ['very bad', 'bad', 'medium', 'good', 'very good']"
      ]
     },
     "execution_count": 92,
     "metadata": {},
     "output_type": "execute_result"
    }
   ],
   "source": [
    "df[\"grade\"] = df[\"grade\"].cat.set_categories(\n",
    "    [\"very bad\", \"bad\", \"medium\", \"good\", \"very good\"]\n",
    ")\n",
    "df[\"grade\"]"
   ]
  },
  {
   "cell_type": "markdown",
   "metadata": {},
   "source": [
    "Sorting in per order in the categories, not lexical order."
   ]
  },
  {
   "cell_type": "code",
   "execution_count": 93,
   "metadata": {},
   "outputs": [
    {
     "data": {
      "text/html": [
       "<div>\n",
       "<style scoped>\n",
       "    .dataframe tbody tr th:only-of-type {\n",
       "        vertical-align: middle;\n",
       "    }\n",
       "\n",
       "    .dataframe tbody tr th {\n",
       "        vertical-align: top;\n",
       "    }\n",
       "\n",
       "    .dataframe thead th {\n",
       "        text-align: right;\n",
       "    }\n",
       "</style>\n",
       "<table border=\"1\" class=\"dataframe\">\n",
       "  <thead>\n",
       "    <tr style=\"text-align: right;\">\n",
       "      <th></th>\n",
       "      <th>id</th>\n",
       "      <th>raw_grade</th>\n",
       "      <th>grade</th>\n",
       "    </tr>\n",
       "  </thead>\n",
       "  <tbody>\n",
       "    <tr>\n",
       "      <th>0</th>\n",
       "      <td>1</td>\n",
       "      <td>a</td>\n",
       "      <td>very good</td>\n",
       "    </tr>\n",
       "    <tr>\n",
       "      <th>1</th>\n",
       "      <td>2</td>\n",
       "      <td>a</td>\n",
       "      <td>very good</td>\n",
       "    </tr>\n",
       "    <tr>\n",
       "      <th>3</th>\n",
       "      <td>4</td>\n",
       "      <td>a</td>\n",
       "      <td>very good</td>\n",
       "    </tr>\n",
       "    <tr>\n",
       "      <th>4</th>\n",
       "      <td>5</td>\n",
       "      <td>a</td>\n",
       "      <td>very good</td>\n",
       "    </tr>\n",
       "    <tr>\n",
       "      <th>2</th>\n",
       "      <td>3</td>\n",
       "      <td>b</td>\n",
       "      <td>good</td>\n",
       "    </tr>\n",
       "    <tr>\n",
       "      <th>5</th>\n",
       "      <td>6</td>\n",
       "      <td>e</td>\n",
       "      <td>very bad</td>\n",
       "    </tr>\n",
       "  </tbody>\n",
       "</table>\n",
       "</div>"
      ],
      "text/plain": [
       "   id raw_grade      grade\n",
       "0   1         a  very good\n",
       "1   2         a  very good\n",
       "3   4         a  very good\n",
       "4   5         a  very good\n",
       "2   3         b       good\n",
       "5   6         e   very bad"
      ]
     },
     "execution_count": 93,
     "metadata": {},
     "output_type": "execute_result"
    }
   ],
   "source": [
    "df.sort_values(by=\"grade\", ascending=False)"
   ]
  },
  {
   "cell_type": "markdown",
   "metadata": {},
   "source": [
    "Grouping by a categorical column also shows empty categories."
   ]
  },
  {
   "cell_type": "code",
   "execution_count": 94,
   "metadata": {},
   "outputs": [
    {
     "data": {
      "text/plain": [
       "grade\n",
       "very bad     1\n",
       "bad          0\n",
       "medium       0\n",
       "good         1\n",
       "very good    4\n",
       "dtype: int64"
      ]
     },
     "execution_count": 94,
     "metadata": {},
     "output_type": "execute_result"
    }
   ],
   "source": [
    "df.groupby(\"grade\").size()"
   ]
  },
  {
   "cell_type": "markdown",
   "metadata": {},
   "source": [
    "## Plotting"
   ]
  },
  {
   "cell_type": "markdown",
   "metadata": {},
   "source": [
    "We use the standard convention for referencing the matplotlib API."
   ]
  },
  {
   "cell_type": "code",
   "execution_count": 95,
   "metadata": {},
   "outputs": [],
   "source": [
    "import matplotlib.pyplot as plt\n",
    "plt.close(\"all\")"
   ]
  },
  {
   "cell_type": "markdown",
   "metadata": {},
   "source": [
    "The `close()` method is used to close a figure window."
   ]
  },
  {
   "cell_type": "code",
   "execution_count": 96,
   "metadata": {},
   "outputs": [
    {
     "data": {
      "text/plain": [
       "<AxesSubplot:>"
      ]
     },
     "execution_count": 96,
     "metadata": {},
     "output_type": "execute_result"
    },
    {
     "data": {
      "image/png": "[encoded data removed]",
      "image/svg+xml": "<?xml version=\"1.0\" encoding=\"utf-8\" standalone=\"no\"?>\r\n<!DOCTYPE svg PUBLIC \"-//W3C//DTD SVG 1.1//EN\"\r\n  \"http://www.w3.org/Graphics/SVG/1.1/DTD/svg11.dtd\">\r\n<svg height=\"259.715937pt\" version=\"1.1\" viewBox=\"0 0 370.942188 259.715937\" width=\"370.942188pt\" xmlns=\"http://www.w3.org/2000/svg\" xmlns:xlink=\"http://www.w3.org/1999/xlink\">\r\n <metadata>\r\n  <rdf:RDF xmlns:cc=\"http://creativecommons.org/ns#\" xmlns:dc=\"http://purl.org/dc/elements/1.1/\" xmlns:rdf=\"http://www.w3.org/1999/02/22-rdf-syntax-ns#\">\r\n   <cc:Work>\r\n    <dc:type rdf:resource=\"http://purl.org/dc/dcmitype/StillImage\"/>\r\n    <dc:date>2022-03-20T16:00:07.753309</dc:date>\r\n    <dc:format>image/svg+xml</dc:format>\r\n    <dc:creator>\r\n     <cc:Agent>\r\n      <dc:title>Matplotlib v3.4.3, https://matplotlib.org/</dc:title>\r\n     </cc:Agent>\r\n    </dc:creator>\r\n   </cc:Work>\r\n  </rdf:RDF>\r\n </metadata>\r\n <defs>\r\n  <style type=\"text/css\">*{stroke-linecap:butt;stroke-linejoin:round;}</style>\r\n </defs>\r\n <g id=\"figure_1\">\r\n  <g id=\"patch_1\">\r\n   <path d=\"M 0 259.715937 \r\nL 370.942188 259.715937 \r\nL 370.942188 0 \r\nL 0 0 \r\nz\r\n\" style=\"fill:none;\"/>\r\n  </g>\r\n  <g id=\"axes_1\">\r\n   <g id=\"patch_2\">\r\n    <path d=\"M 28.942188 224.64 \r\nL 363.742188 224.64 \r\nL 363.742188 7.2 \r\nL 28.942188 7.2 \r\nz\r\n\" style=\"fill:#ffffff;\"/>\r\n   </g>\r\n   <g id=\"matplotlib.axis_1\">\r\n    <g id=\"xtick_1\">\r\n     <g id=\"line2d_1\">\r\n      <defs>\r\n       <path d=\"M 0 0 \r\nL 0 3.5 \r\n\" id=\"m6f6bf2327e\" style=\"stroke:#000000;stroke-width:0.8;\"/>\r\n      </defs>\r\n      <g>\r\n       <use style=\"stroke:#000000;stroke-width:0.8;\" x=\"28.942187\" xlink:href=\"#m6f6bf2327e\" y=\"224.64\"/>\r\n      </g>\r\n     </g>\r\n     <g id=\"text_1\">\r\n      <!-- Jan -->\r\n      <g transform=\"translate(21.234375 239.238438)scale(0.1 -0.1)\">\r\n       <defs>\r\n        <path d=\"M 628 4666 \r\nL 1259 4666 \r\nL 1259 325 \r\nQ 1259 -519 939 -900 \r\nQ 619 -1281 -91 -1281 \r\nL -331 -1281 \r\nL -331 -750 \r\nL -134 -750 \r\nQ 284 -750 456 -515 \r\nQ 628 -281 628 325 \r\nL 628 4666 \r\nz\r\n\" id=\"DejaVuSans-4a\" transform=\"scale(0.015625)\"/>\r\n        <path d=\"M 2194 1759 \r\nQ 1497 1759 1228 1600 \r\nQ 959 1441 959 1056 \r\nQ 959 750 1161 570 \r\nQ 1363 391 1709 391 \r\nQ 2188 391 2477 730 \r\nQ 2766 1069 2766 1631 \r\nL 2766 1759 \r\nL 2194 1759 \r\nz\r\nM 3341 1997 \r\nL 3341 0 \r\nL 2766 0 \r\nL 2766 531 \r\nQ 2569 213 2275 61 \r\nQ 1981 -91 1556 -91 \r\nQ 1019 -91 701 211 \r\nQ 384 513 384 1019 \r\nQ 384 1609 779 1909 \r\nQ 1175 2209 1959 2209 \r\nL 2766 2209 \r\nL 2766 2266 \r\nQ 2766 2663 2505 2880 \r\nQ 2244 3097 1772 3097 \r\nQ 1472 3097 1187 3025 \r\nQ 903 2953 641 2809 \r\nL 641 3341 \r\nQ 956 3463 1253 3523 \r\nQ 1550 3584 1831 3584 \r\nQ 2591 3584 2966 3190 \r\nQ 3341 2797 3341 1997 \r\nz\r\n\" id=\"DejaVuSans-61\" transform=\"scale(0.015625)\"/>\r\n        <path d=\"M 3513 2113 \r\nL 3513 0 \r\nL 2938 0 \r\nL 2938 2094 \r\nQ 2938 2591 2744 2837 \r\nQ 2550 3084 2163 3084 \r\nQ 1697 3084 1428 2787 \r\nQ 1159 2491 1159 1978 \r\nL 1159 0 \r\nL 581 0 \r\nL 581 3500 \r\nL 1159 3500 \r\nL 1159 2956 \r\nQ 1366 3272 1645 3428 \r\nQ 1925 3584 2291 3584 \r\nQ 2894 3584 3203 3211 \r\nQ 3513 2838 3513 2113 \r\nz\r\n\" id=\"DejaVuSans-6e\" transform=\"scale(0.015625)\"/>\r\n       </defs>\r\n       <use xlink:href=\"#DejaVuSans-4a\"/>\r\n       <use x=\"29.492188\" xlink:href=\"#DejaVuSans-61\"/>\r\n       <use x=\"90.771484\" xlink:href=\"#DejaVuSans-6e\"/>\r\n      </g>\r\n      <!-- 2022 -->\r\n      <g transform=\"translate(16.217187 250.43625)scale(0.1 -0.1)\">\r\n       <defs>\r\n        <path d=\"M 1228 531 \r\nL 3431 531 \r\nL 3431 0 \r\nL 469 0 \r\nL 469 531 \r\nQ 828 903 1448 1529 \r\nQ 2069 2156 2228 2338 \r\nQ 2531 2678 2651 2914 \r\nQ 2772 3150 2772 3378 \r\nQ 2772 3750 2511 3984 \r\nQ 2250 4219 1831 4219 \r\nQ 1534 4219 1204 4116 \r\nQ 875 4013 500 3803 \r\nL 500 4441 \r\nQ 881 4594 1212 4672 \r\nQ 1544 4750 1819 4750 \r\nQ 2544 4750 2975 4387 \r\nQ 3406 4025 3406 3419 \r\nQ 3406 3131 3298 2873 \r\nQ 3191 2616 2906 2266 \r\nQ 2828 2175 2409 1742 \r\nQ 1991 1309 1228 531 \r\nz\r\n\" id=\"DejaVuSans-32\" transform=\"scale(0.015625)\"/>\r\n        <path d=\"M 2034 4250 \r\nQ 1547 4250 1301 3770 \r\nQ 1056 3291 1056 2328 \r\nQ 1056 1369 1301 889 \r\nQ 1547 409 2034 409 \r\nQ 2525 409 2770 889 \r\nQ 3016 1369 3016 2328 \r\nQ 3016 3291 2770 3770 \r\nQ 2525 4250 2034 4250 \r\nz\r\nM 2034 4750 \r\nQ 2819 4750 3233 4129 \r\nQ 3647 3509 3647 2328 \r\nQ 3647 1150 3233 529 \r\nQ 2819 -91 2034 -91 \r\nQ 1250 -91 836 529 \r\nQ 422 1150 422 2328 \r\nQ 422 3509 836 4129 \r\nQ 1250 4750 2034 4750 \r\nz\r\n\" id=\"DejaVuSans-30\" transform=\"scale(0.015625)\"/>\r\n       </defs>\r\n       <use xlink:href=\"#DejaVuSans-32\"/>\r\n       <use x=\"63.623047\" xlink:href=\"#DejaVuSans-30\"/>\r\n       <use x=\"127.246094\" xlink:href=\"#DejaVuSans-32\"/>\r\n       <use x=\"190.869141\" xlink:href=\"#DejaVuSans-32\"/>\r\n      </g>\r\n     </g>\r\n    </g>\r\n    <g id=\"xtick_2\">\r\n     <g id=\"line2d_2\">\r\n      <g>\r\n       <use style=\"stroke:#000000;stroke-width:0.8;\" x=\"151.266512\" xlink:href=\"#m6f6bf2327e\" y=\"224.64\"/>\r\n      </g>\r\n     </g>\r\n     <g id=\"text_2\">\r\n      <!-- Jan -->\r\n      <g transform=\"translate(143.558699 239.238438)scale(0.1 -0.1)\">\r\n       <use xlink:href=\"#DejaVuSans-4a\"/>\r\n       <use x=\"29.492188\" xlink:href=\"#DejaVuSans-61\"/>\r\n       <use x=\"90.771484\" xlink:href=\"#DejaVuSans-6e\"/>\r\n      </g>\r\n      <!-- 2023 -->\r\n      <g transform=\"translate(138.541512 250.43625)scale(0.1 -0.1)\">\r\n       <defs>\r\n        <path d=\"M 2597 2516 \r\nQ 3050 2419 3304 2112 \r\nQ 3559 1806 3559 1356 \r\nQ 3559 666 3084 287 \r\nQ 2609 -91 1734 -91 \r\nQ 1441 -91 1130 -33 \r\nQ 819 25 488 141 \r\nL 488 750 \r\nQ 750 597 1062 519 \r\nQ 1375 441 1716 441 \r\nQ 2309 441 2620 675 \r\nQ 2931 909 2931 1356 \r\nQ 2931 1769 2642 2001 \r\nQ 2353 2234 1838 2234 \r\nL 1294 2234 \r\nL 1294 2753 \r\nL 1863 2753 \r\nQ 2328 2753 2575 2939 \r\nQ 2822 3125 2822 3475 \r\nQ 2822 3834 2567 4026 \r\nQ 2313 4219 1838 4219 \r\nQ 1578 4219 1281 4162 \r\nQ 984 4106 628 3988 \r\nL 628 4550 \r\nQ 988 4650 1302 4700 \r\nQ 1616 4750 1894 4750 \r\nQ 2613 4750 3031 4423 \r\nQ 3450 4097 3450 3541 \r\nQ 3450 3153 3228 2886 \r\nQ 3006 2619 2597 2516 \r\nz\r\n\" id=\"DejaVuSans-33\" transform=\"scale(0.015625)\"/>\r\n       </defs>\r\n       <use xlink:href=\"#DejaVuSans-32\"/>\r\n       <use x=\"63.623047\" xlink:href=\"#DejaVuSans-30\"/>\r\n       <use x=\"127.246094\" xlink:href=\"#DejaVuSans-32\"/>\r\n       <use x=\"190.869141\" xlink:href=\"#DejaVuSans-33\"/>\r\n      </g>\r\n     </g>\r\n    </g>\r\n    <g id=\"xtick_3\">\r\n     <g id=\"line2d_3\">\r\n      <g>\r\n       <use style=\"stroke:#000000;stroke-width:0.8;\" x=\"273.590836\" xlink:href=\"#m6f6bf2327e\" y=\"224.64\"/>\r\n      </g>\r\n     </g>\r\n     <g id=\"text_3\">\r\n      <!-- Jan -->\r\n      <g transform=\"translate(265.883024 239.238438)scale(0.1 -0.1)\">\r\n       <use xlink:href=\"#DejaVuSans-4a\"/>\r\n       <use x=\"29.492188\" xlink:href=\"#DejaVuSans-61\"/>\r\n       <use x=\"90.771484\" xlink:href=\"#DejaVuSans-6e\"/>\r\n      </g>\r\n      <!-- 2024 -->\r\n      <g transform=\"translate(260.865836 250.43625)scale(0.1 -0.1)\">\r\n       <defs>\r\n        <path d=\"M 2419 4116 \r\nL 825 1625 \r\nL 2419 1625 \r\nL 2419 4116 \r\nz\r\nM 2253 4666 \r\nL 3047 4666 \r\nL 3047 1625 \r\nL 3713 1625 \r\nL 3713 1100 \r\nL 3047 1100 \r\nL 3047 0 \r\nL 2419 0 \r\nL 2419 1100 \r\nL 313 1100 \r\nL 313 1709 \r\nL 2253 4666 \r\nz\r\n\" id=\"DejaVuSans-34\" transform=\"scale(0.015625)\"/>\r\n       </defs>\r\n       <use xlink:href=\"#DejaVuSans-32\"/>\r\n       <use x=\"63.623047\" xlink:href=\"#DejaVuSans-30\"/>\r\n       <use x=\"127.246094\" xlink:href=\"#DejaVuSans-32\"/>\r\n       <use x=\"190.869141\" xlink:href=\"#DejaVuSans-34\"/>\r\n      </g>\r\n     </g>\r\n    </g>\r\n    <g id=\"xtick_4\">\r\n     <g id=\"line2d_4\">\r\n      <g>\r\n       <use style=\"stroke:#000000;stroke-width:0.8;\" x=\"363.742188\" xlink:href=\"#m6f6bf2327e\" y=\"224.64\"/>\r\n      </g>\r\n     </g>\r\n    </g>\r\n    <g id=\"xtick_5\">\r\n     <g id=\"line2d_5\">\r\n      <defs>\r\n       <path d=\"M 0 0 \r\nL 0 2 \r\n\" id=\"m9bbfc9beab\" style=\"stroke:#000000;stroke-width:0.6;\"/>\r\n      </defs>\r\n      <g>\r\n       <use style=\"stroke:#000000;stroke-width:0.6;\" x=\"39.331377\" xlink:href=\"#m9bbfc9beab\" y=\"224.64\"/>\r\n      </g>\r\n     </g>\r\n    </g>\r\n    <g id=\"xtick_6\">\r\n     <g id=\"line2d_6\">\r\n      <g>\r\n       <use style=\"stroke:#000000;stroke-width:0.6;\" x=\"48.71516\" xlink:href=\"#m9bbfc9beab\" y=\"224.64\"/>\r\n      </g>\r\n     </g>\r\n    </g>\r\n    <g id=\"xtick_7\">\r\n     <g id=\"line2d_7\">\r\n      <g>\r\n       <use style=\"stroke:#000000;stroke-width:0.6;\" x=\"59.10435\" xlink:href=\"#m9bbfc9beab\" y=\"224.64\"/>\r\n      </g>\r\n     </g>\r\n    </g>\r\n    <g id=\"xtick_8\">\r\n     <g id=\"line2d_8\">\r\n      <g>\r\n       <use style=\"stroke:#000000;stroke-width:0.6;\" x=\"69.158404\" xlink:href=\"#m9bbfc9beab\" y=\"224.64\"/>\r\n      </g>\r\n     </g>\r\n    </g>\r\n    <g id=\"xtick_9\">\r\n     <g id=\"line2d_9\">\r\n      <g>\r\n       <use style=\"stroke:#000000;stroke-width:0.6;\" x=\"79.547593\" xlink:href=\"#m9bbfc9beab\" y=\"224.64\"/>\r\n      </g>\r\n     </g>\r\n    </g>\r\n    <g id=\"xtick_10\">\r\n     <g id=\"line2d_10\">\r\n      <g>\r\n       <use style=\"stroke:#000000;stroke-width:0.6;\" x=\"89.601647\" xlink:href=\"#m9bbfc9beab\" y=\"224.64\"/>\r\n      </g>\r\n     </g>\r\n     <g id=\"text_4\">\r\n      <!-- Jul -->\r\n      <g transform=\"translate(83.568834 237.638438)scale(0.1 -0.1)\">\r\n       <defs>\r\n        <path d=\"M 544 1381 \r\nL 544 3500 \r\nL 1119 3500 \r\nL 1119 1403 \r\nQ 1119 906 1312 657 \r\nQ 1506 409 1894 409 \r\nQ 2359 409 2629 706 \r\nQ 2900 1003 2900 1516 \r\nL 2900 3500 \r\nL 3475 3500 \r\nL 3475 0 \r\nL 2900 0 \r\nL 2900 538 \r\nQ 2691 219 2414 64 \r\nQ 2138 -91 1772 -91 \r\nQ 1169 -91 856 284 \r\nQ 544 659 544 1381 \r\nz\r\nM 1991 3584 \r\nL 1991 3584 \r\nz\r\n\" id=\"DejaVuSans-75\" transform=\"scale(0.015625)\"/>\r\n        <path d=\"M 603 4863 \r\nL 1178 4863 \r\nL 1178 0 \r\nL 603 0 \r\nL 603 4863 \r\nz\r\n\" id=\"DejaVuSans-6c\" transform=\"scale(0.015625)\"/>\r\n       </defs>\r\n       <use xlink:href=\"#DejaVuSans-4a\"/>\r\n       <use x=\"29.492188\" xlink:href=\"#DejaVuSans-75\"/>\r\n       <use x=\"92.871094\" xlink:href=\"#DejaVuSans-6c\"/>\r\n      </g>\r\n     </g>\r\n    </g>\r\n    <g id=\"xtick_11\">\r\n     <g id=\"line2d_11\">\r\n      <g>\r\n       <use style=\"stroke:#000000;stroke-width:0.6;\" x=\"99.990836\" xlink:href=\"#m9bbfc9beab\" y=\"224.64\"/>\r\n      </g>\r\n     </g>\r\n    </g>\r\n    <g id=\"xtick_12\">\r\n     <g id=\"line2d_12\">\r\n      <g>\r\n       <use style=\"stroke:#000000;stroke-width:0.6;\" x=\"110.380025\" xlink:href=\"#m9bbfc9beab\" y=\"224.64\"/>\r\n      </g>\r\n     </g>\r\n    </g>\r\n    <g id=\"xtick_13\">\r\n     <g id=\"line2d_13\">\r\n      <g>\r\n       <use style=\"stroke:#000000;stroke-width:0.6;\" x=\"120.434079\" xlink:href=\"#m9bbfc9beab\" y=\"224.64\"/>\r\n      </g>\r\n     </g>\r\n    </g>\r\n    <g id=\"xtick_14\">\r\n     <g id=\"line2d_14\">\r\n      <g>\r\n       <use style=\"stroke:#000000;stroke-width:0.6;\" x=\"130.823269\" xlink:href=\"#m9bbfc9beab\" y=\"224.64\"/>\r\n      </g>\r\n     </g>\r\n    </g>\r\n    <g id=\"xtick_15\">\r\n     <g id=\"line2d_15\">\r\n      <g>\r\n       <use style=\"stroke:#000000;stroke-width:0.6;\" x=\"140.877323\" xlink:href=\"#m9bbfc9beab\" y=\"224.64\"/>\r\n      </g>\r\n     </g>\r\n    </g>\r\n    <g id=\"xtick_16\">\r\n     <g id=\"line2d_16\">\r\n      <g>\r\n       <use style=\"stroke:#000000;stroke-width:0.6;\" x=\"161.655701\" xlink:href=\"#m9bbfc9beab\" y=\"224.64\"/>\r\n      </g>\r\n     </g>\r\n    </g>\r\n    <g id=\"xtick_17\">\r\n     <g id=\"line2d_17\">\r\n      <g>\r\n       <use style=\"stroke:#000000;stroke-width:0.6;\" x=\"171.039485\" xlink:href=\"#m9bbfc9beab\" y=\"224.64\"/>\r\n      </g>\r\n     </g>\r\n    </g>\r\n    <g id=\"xtick_18\">\r\n     <g id=\"line2d_18\">\r\n      <g>\r\n       <use style=\"stroke:#000000;stroke-width:0.6;\" x=\"181.428674\" xlink:href=\"#m9bbfc9beab\" y=\"224.64\"/>\r\n      </g>\r\n     </g>\r\n    </g>\r\n    <g id=\"xtick_19\">\r\n     <g id=\"line2d_19\">\r\n      <g>\r\n       <use style=\"stroke:#000000;stroke-width:0.6;\" x=\"191.482728\" xlink:href=\"#m9bbfc9beab\" y=\"224.64\"/>\r\n      </g>\r\n     </g>\r\n    </g>\r\n    <g id=\"xtick_20\">\r\n     <g id=\"line2d_20\">\r\n      <g>\r\n       <use style=\"stroke:#000000;stroke-width:0.6;\" x=\"201.871917\" xlink:href=\"#m9bbfc9beab\" y=\"224.64\"/>\r\n      </g>\r\n     </g>\r\n    </g>\r\n    <g id=\"xtick_21\">\r\n     <g id=\"line2d_21\">\r\n      <g>\r\n       <use style=\"stroke:#000000;stroke-width:0.6;\" x=\"211.925971\" xlink:href=\"#m9bbfc9beab\" y=\"224.64\"/>\r\n      </g>\r\n     </g>\r\n     <g id=\"text_5\">\r\n      <!-- Jul -->\r\n      <g transform=\"translate(205.893159 237.638438)scale(0.1 -0.1)\">\r\n       <use xlink:href=\"#DejaVuSans-4a\"/>\r\n       <use x=\"29.492188\" xlink:href=\"#DejaVuSans-75\"/>\r\n       <use x=\"92.871094\" xlink:href=\"#DejaVuSans-6c\"/>\r\n      </g>\r\n     </g>\r\n    </g>\r\n    <g id=\"xtick_22\">\r\n     <g id=\"line2d_22\">\r\n      <g>\r\n       <use style=\"stroke:#000000;stroke-width:0.6;\" x=\"222.31516\" xlink:href=\"#m9bbfc9beab\" y=\"224.64\"/>\r\n      </g>\r\n     </g>\r\n    </g>\r\n    <g id=\"xtick_23\">\r\n     <g id=\"line2d_23\">\r\n      <g>\r\n       <use style=\"stroke:#000000;stroke-width:0.6;\" x=\"232.70435\" xlink:href=\"#m9bbfc9beab\" y=\"224.64\"/>\r\n      </g>\r\n     </g>\r\n    </g>\r\n    <g id=\"xtick_24\">\r\n     <g id=\"line2d_24\">\r\n      <g>\r\n       <use style=\"stroke:#000000;stroke-width:0.6;\" x=\"242.758404\" xlink:href=\"#m9bbfc9beab\" y=\"224.64\"/>\r\n      </g>\r\n     </g>\r\n    </g>\r\n    <g id=\"xtick_25\">\r\n     <g id=\"line2d_25\">\r\n      <g>\r\n       <use style=\"stroke:#000000;stroke-width:0.6;\" x=\"253.147593\" xlink:href=\"#m9bbfc9beab\" y=\"224.64\"/>\r\n      </g>\r\n     </g>\r\n    </g>\r\n    <g id=\"xtick_26\">\r\n     <g id=\"line2d_26\">\r\n      <g>\r\n       <use style=\"stroke:#000000;stroke-width:0.6;\" x=\"263.201647\" xlink:href=\"#m9bbfc9beab\" y=\"224.64\"/>\r\n      </g>\r\n     </g>\r\n    </g>\r\n    <g id=\"xtick_27\">\r\n     <g id=\"line2d_27\">\r\n      <g>\r\n       <use style=\"stroke:#000000;stroke-width:0.6;\" x=\"283.980025\" xlink:href=\"#m9bbfc9beab\" y=\"224.64\"/>\r\n      </g>\r\n     </g>\r\n    </g>\r\n    <g id=\"xtick_28\">\r\n     <g id=\"line2d_28\">\r\n      <g>\r\n       <use style=\"stroke:#000000;stroke-width:0.6;\" x=\"293.698944\" xlink:href=\"#m9bbfc9beab\" y=\"224.64\"/>\r\n      </g>\r\n     </g>\r\n    </g>\r\n    <g id=\"xtick_29\">\r\n     <g id=\"line2d_29\">\r\n      <g>\r\n       <use style=\"stroke:#000000;stroke-width:0.6;\" x=\"304.088133\" xlink:href=\"#m9bbfc9beab\" y=\"224.64\"/>\r\n      </g>\r\n     </g>\r\n    </g>\r\n    <g id=\"xtick_30\">\r\n     <g id=\"line2d_30\">\r\n      <g>\r\n       <use style=\"stroke:#000000;stroke-width:0.6;\" x=\"314.142187\" xlink:href=\"#m9bbfc9beab\" y=\"224.64\"/>\r\n      </g>\r\n     </g>\r\n    </g>\r\n    <g id=\"xtick_31\">\r\n     <g id=\"line2d_31\">\r\n      <g>\r\n       <use style=\"stroke:#000000;stroke-width:0.6;\" x=\"324.531377\" xlink:href=\"#m9bbfc9beab\" y=\"224.64\"/>\r\n      </g>\r\n     </g>\r\n    </g>\r\n    <g id=\"xtick_32\">\r\n     <g id=\"line2d_32\">\r\n      <g>\r\n       <use style=\"stroke:#000000;stroke-width:0.6;\" x=\"334.585431\" xlink:href=\"#m9bbfc9beab\" y=\"224.64\"/>\r\n      </g>\r\n     </g>\r\n     <g id=\"text_6\">\r\n      <!-- Jul -->\r\n      <g transform=\"translate(328.552618 237.638438)scale(0.1 -0.1)\">\r\n       <use xlink:href=\"#DejaVuSans-4a\"/>\r\n       <use x=\"29.492188\" xlink:href=\"#DejaVuSans-75\"/>\r\n       <use x=\"92.871094\" xlink:href=\"#DejaVuSans-6c\"/>\r\n      </g>\r\n     </g>\r\n    </g>\r\n    <g id=\"xtick_33\">\r\n     <g id=\"line2d_33\">\r\n      <g>\r\n       <use style=\"stroke:#000000;stroke-width:0.6;\" x=\"344.97462\" xlink:href=\"#m9bbfc9beab\" y=\"224.64\"/>\r\n      </g>\r\n     </g>\r\n    </g>\r\n    <g id=\"xtick_34\">\r\n     <g id=\"line2d_34\">\r\n      <g>\r\n       <use style=\"stroke:#000000;stroke-width:0.6;\" x=\"355.363809\" xlink:href=\"#m9bbfc9beab\" y=\"224.64\"/>\r\n      </g>\r\n     </g>\r\n    </g>\r\n   </g>\r\n   <g id=\"matplotlib.axis_2\">\r\n    <g id=\"ytick_1\">\r\n     <g id=\"line2d_35\">\r\n      <defs>\r\n       <path d=\"M 0 0 \r\nL -3.5 0 \r\n\" id=\"mbc7ccb55e7\" style=\"stroke:#000000;stroke-width:0.8;\"/>\r\n      </defs>\r\n      <g>\r\n       <use style=\"stroke:#000000;stroke-width:0.8;\" x=\"28.942188\" xlink:href=\"#mbc7ccb55e7\" y=\"216.923921\"/>\r\n      </g>\r\n     </g>\r\n     <g id=\"text_7\">\r\n      <!-- −4 -->\r\n      <g transform=\"translate(7.2 220.72314)scale(0.1 -0.1)\">\r\n       <defs>\r\n        <path d=\"M 678 2272 \r\nL 4684 2272 \r\nL 4684 1741 \r\nL 678 1741 \r\nL 678 2272 \r\nz\r\n\" id=\"DejaVuSans-2212\" transform=\"scale(0.015625)\"/>\r\n       </defs>\r\n       <use xlink:href=\"#DejaVuSans-2212\"/>\r\n       <use x=\"83.789062\" xlink:href=\"#DejaVuSans-34\"/>\r\n      </g>\r\n     </g>\r\n    </g>\r\n    <g id=\"ytick_2\">\r\n     <g id=\"line2d_36\">\r\n      <g>\r\n       <use style=\"stroke:#000000;stroke-width:0.8;\" x=\"28.942188\" xlink:href=\"#mbc7ccb55e7\" y=\"187.672097\"/>\r\n      </g>\r\n     </g>\r\n     <g id=\"text_8\">\r\n      <!-- −3 -->\r\n      <g transform=\"translate(7.2 191.471316)scale(0.1 -0.1)\">\r\n       <use xlink:href=\"#DejaVuSans-2212\"/>\r\n       <use x=\"83.789062\" xlink:href=\"#DejaVuSans-33\"/>\r\n      </g>\r\n     </g>\r\n    </g>\r\n    <g id=\"ytick_3\">\r\n     <g id=\"line2d_37\">\r\n      <g>\r\n       <use style=\"stroke:#000000;stroke-width:0.8;\" x=\"28.942188\" xlink:href=\"#mbc7ccb55e7\" y=\"158.420273\"/>\r\n      </g>\r\n     </g>\r\n     <g id=\"text_9\">\r\n      <!-- −2 -->\r\n      <g transform=\"translate(7.2 162.219492)scale(0.1 -0.1)\">\r\n       <use xlink:href=\"#DejaVuSans-2212\"/>\r\n       <use x=\"83.789062\" xlink:href=\"#DejaVuSans-32\"/>\r\n      </g>\r\n     </g>\r\n    </g>\r\n    <g id=\"ytick_4\">\r\n     <g id=\"line2d_38\">\r\n      <g>\r\n       <use style=\"stroke:#000000;stroke-width:0.8;\" x=\"28.942188\" xlink:href=\"#mbc7ccb55e7\" y=\"129.168449\"/>\r\n      </g>\r\n     </g>\r\n     <g id=\"text_10\">\r\n      <!-- −1 -->\r\n      <g transform=\"translate(7.2 132.967668)scale(0.1 -0.1)\">\r\n       <defs>\r\n        <path d=\"M 794 531 \r\nL 1825 531 \r\nL 1825 4091 \r\nL 703 3866 \r\nL 703 4441 \r\nL 1819 4666 \r\nL 2450 4666 \r\nL 2450 531 \r\nL 3481 531 \r\nL 3481 0 \r\nL 794 0 \r\nL 794 531 \r\nz\r\n\" id=\"DejaVuSans-31\" transform=\"scale(0.015625)\"/>\r\n       </defs>\r\n       <use xlink:href=\"#DejaVuSans-2212\"/>\r\n       <use x=\"83.789062\" xlink:href=\"#DejaVuSans-31\"/>\r\n      </g>\r\n     </g>\r\n    </g>\r\n    <g id=\"ytick_5\">\r\n     <g id=\"line2d_39\">\r\n      <g>\r\n       <use style=\"stroke:#000000;stroke-width:0.8;\" x=\"28.942188\" xlink:href=\"#mbc7ccb55e7\" y=\"99.916625\"/>\r\n      </g>\r\n     </g>\r\n     <g id=\"text_11\">\r\n      <!-- 0 -->\r\n      <g transform=\"translate(15.579688 103.715844)scale(0.1 -0.1)\">\r\n       <use xlink:href=\"#DejaVuSans-30\"/>\r\n      </g>\r\n     </g>\r\n    </g>\r\n    <g id=\"ytick_6\">\r\n     <g id=\"line2d_40\">\r\n      <g>\r\n       <use style=\"stroke:#000000;stroke-width:0.8;\" x=\"28.942188\" xlink:href=\"#mbc7ccb55e7\" y=\"70.664801\"/>\r\n      </g>\r\n     </g>\r\n     <g id=\"text_12\">\r\n      <!-- 1 -->\r\n      <g transform=\"translate(15.579688 74.46402)scale(0.1 -0.1)\">\r\n       <use xlink:href=\"#DejaVuSans-31\"/>\r\n      </g>\r\n     </g>\r\n    </g>\r\n    <g id=\"ytick_7\">\r\n     <g id=\"line2d_41\">\r\n      <g>\r\n       <use style=\"stroke:#000000;stroke-width:0.8;\" x=\"28.942188\" xlink:href=\"#mbc7ccb55e7\" y=\"41.412977\"/>\r\n      </g>\r\n     </g>\r\n     <g id=\"text_13\">\r\n      <!-- 2 -->\r\n      <g transform=\"translate(15.579688 45.212196)scale(0.1 -0.1)\">\r\n       <use xlink:href=\"#DejaVuSans-32\"/>\r\n      </g>\r\n     </g>\r\n    </g>\r\n    <g id=\"ytick_8\">\r\n     <g id=\"line2d_42\">\r\n      <g>\r\n       <use style=\"stroke:#000000;stroke-width:0.8;\" x=\"28.942188\" xlink:href=\"#mbc7ccb55e7\" y=\"12.161153\"/>\r\n      </g>\r\n     </g>\r\n     <g id=\"text_14\">\r\n      <!-- 3 -->\r\n      <g transform=\"translate(15.579688 15.960372)scale(0.1 -0.1)\">\r\n       <use xlink:href=\"#DejaVuSans-33\"/>\r\n      </g>\r\n     </g>\r\n    </g>\r\n   </g>\r\n   <g id=\"line2d_43\">\r\n    <path clip-path=\"url(#pe3156717ef)\" d=\"M 28.942187 141.493099 \r\nL 29.277323 96.425345 \r\nL 29.947593 111.272374 \r\nL 30.282728 92.754317 \r\nL 30.617863 99.942015 \r\nL 30.952998 133.274968 \r\nL 31.288133 102.793865 \r\nL 31.623269 113.287575 \r\nL 31.958404 90.92196 \r\nL 32.293539 43.946429 \r\nL 32.628674 108.694377 \r\nL 32.963809 59.791992 \r\nL 33.298944 59.943366 \r\nL 33.634079 62.47324 \r\nL 33.969215 98.21383 \r\nL 34.30435 94.979464 \r\nL 34.97462 62.618213 \r\nL 35.309755 102.998228 \r\nL 35.64489 99.1572 \r\nL 35.980025 110.836943 \r\nL 36.31516 91.307975 \r\nL 36.650296 130.917567 \r\nL 37.320566 91.663071 \r\nL 37.655701 118.625794 \r\nL 37.990836 64.125836 \r\nL 38.325971 55.883696 \r\nL 38.661106 72.349392 \r\nL 38.996242 76.915349 \r\nL 39.331377 76.223636 \r\nL 39.666512 45.733812 \r\nL 40.001647 91.997117 \r\nL 40.336782 94.627329 \r\nL 40.671917 82.919896 \r\nL 41.007052 96.316297 \r\nL 41.342187 82.869207 \r\nL 41.677323 86.852893 \r\nL 42.012458 79.926947 \r\nL 42.347593 163.554796 \r\nL 42.682728 50.136857 \r\nL 43.017863 56.777237 \r\nL 43.352998 118.490087 \r\nL 43.688133 119.700722 \r\nL 44.023269 127.361357 \r\nL 44.358404 77.800807 \r\nL 44.693539 141.42837 \r\nL 45.028674 73.701883 \r\nL 45.363809 93.774326 \r\nL 45.698944 127.622438 \r\nL 46.034079 137.305881 \r\nL 46.369215 133.955928 \r\nL 46.70435 123.548328 \r\nL 47.039485 53.854468 \r\nL 47.37462 144.553554 \r\nL 47.709755 47.155447 \r\nL 48.04489 57.843279 \r\nL 48.380025 103.647185 \r\nL 48.71516 94.100043 \r\nL 49.050296 92.723374 \r\nL 49.385431 94.556083 \r\nL 49.720566 117.426876 \r\nL 50.055701 79.491798 \r\nL 50.390836 92.88666 \r\nL 50.725971 47.642935 \r\nL 51.396242 113.154772 \r\nL 51.731377 104.880642 \r\nL 52.066512 153.931639 \r\nL 52.401647 104.498183 \r\nL 52.736782 95.751908 \r\nL 53.071917 127.755384 \r\nL 53.407052 51.981619 \r\nL 53.742188 21.70746 \r\nL 54.077323 88.668431 \r\nL 54.412458 85.070718 \r\nL 54.747593 102.169131 \r\nL 55.082728 80.908811 \r\nL 55.417863 141.244313 \r\nL 55.752998 94.817907 \r\nL 56.088133 74.16867 \r\nL 56.423269 214.756364 \r\nL 56.758404 153.332481 \r\nL 57.093539 61.417541 \r\nL 57.428674 118.20207 \r\nL 57.763809 104.419008 \r\nL 58.098944 117.296932 \r\nL 58.434079 82.393579 \r\nL 58.769215 78.398032 \r\nL 59.10435 95.796243 \r\nL 59.439485 105.716026 \r\nL 59.77462 65.591532 \r\nL 60.109755 127.966612 \r\nL 60.44489 129.347608 \r\nL 60.780025 79.592988 \r\nL 61.11516 131.89445 \r\nL 61.450296 97.013631 \r\nL 62.120566 86.173209 \r\nL 62.455701 101.558837 \r\nL 62.790836 88.017061 \r\nL 63.125971 83.175326 \r\nL 63.461106 105.989939 \r\nL 63.796242 87.492332 \r\nL 64.131377 108.948307 \r\nL 64.466512 54.640139 \r\nL 64.801647 78.205709 \r\nL 65.136782 156.398951 \r\nL 65.471917 97.836394 \r\nL 65.807052 59.989567 \r\nL 66.142187 104.733543 \r\nL 66.477323 87.946732 \r\nL 66.812458 150.328842 \r\nL 67.147593 115.073077 \r\nL 67.482728 26.732897 \r\nL 68.152998 114.906884 \r\nL 68.488133 130.879105 \r\nL 68.823269 72.305285 \r\nL 69.158404 103.89069 \r\nL 69.493539 53.532472 \r\nL 69.828674 58.864706 \r\nL 70.163809 77.120968 \r\nL 70.498944 111.783232 \r\nL 70.834079 82.183297 \r\nL 71.169215 71.687054 \r\nL 71.839485 130.597883 \r\nL 72.17462 99.53092 \r\nL 72.509755 118.109469 \r\nL 72.84489 126.997313 \r\nL 73.180025 159.966896 \r\nL 73.51516 125.63739 \r\nL 73.850296 122.827924 \r\nL 74.185431 87.482897 \r\nL 74.520566 107.297331 \r\nL 74.855701 90.552617 \r\nL 75.190836 52.63561 \r\nL 75.525971 101.082605 \r\nL 75.861106 114.254514 \r\nL 76.196242 167.460375 \r\nL 76.531377 95.141822 \r\nL 76.866512 92.031127 \r\nL 77.201647 73.688305 \r\nL 77.536782 107.366458 \r\nL 77.871917 106.674236 \r\nL 78.207052 121.991203 \r\nL 78.542188 71.021208 \r\nL 78.877323 97.471184 \r\nL 79.212458 90.901007 \r\nL 79.547593 94.049726 \r\nL 79.882728 86.74154 \r\nL 80.217863 147.556138 \r\nL 80.552998 24.182652 \r\nL 80.888133 110.64803 \r\nL 81.223269 73.695318 \r\nL 81.558404 78.822897 \r\nL 81.893539 71.090821 \r\nL 82.228674 91.167812 \r\nL 82.563809 84.260602 \r\nL 82.898944 81.656411 \r\nL 83.234079 117.686871 \r\nL 83.569215 114.856529 \r\nL 83.90435 82.85247 \r\nL 84.239485 170.129295 \r\nL 84.57462 60.366047 \r\nL 84.909755 104.111676 \r\nL 85.24489 123.708345 \r\nL 85.91516 96.234031 \r\nL 86.250296 87.326664 \r\nL 86.585431 139.192282 \r\nL 86.920566 171.482192 \r\nL 87.255701 137.309575 \r\nL 87.590836 68.601662 \r\nL 87.925971 135.386761 \r\nL 88.261106 100.074141 \r\nL 88.596242 122.849253 \r\nL 88.931377 169.235438 \r\nL 89.266512 70.913964 \r\nL 89.601647 75.907194 \r\nL 89.936782 90.828303 \r\nL 90.271917 92.461483 \r\nL 90.607052 109.247413 \r\nL 90.942187 89.965265 \r\nL 91.277323 166.360012 \r\nL 91.612458 118.146506 \r\nL 91.947593 119.531933 \r\nL 92.282728 98.29393 \r\nL 92.617863 116.058509 \r\nL 92.952998 76.913535 \r\nL 93.288133 120.907833 \r\nL 93.623269 136.777597 \r\nL 93.958404 127.776008 \r\nL 94.293539 96.796358 \r\nL 94.628674 140.209097 \r\nL 94.963809 103.444371 \r\nL 95.298944 134.430592 \r\nL 95.634079 97.898603 \r\nL 95.969215 75.47821 \r\nL 96.30435 33.561206 \r\nL 96.639485 68.014686 \r\nL 96.97462 121.303257 \r\nL 97.309755 75.130572 \r\nL 97.64489 125.927044 \r\nL 97.980025 140.705414 \r\nL 98.31516 66.499034 \r\nL 98.650296 131.737407 \r\nL 98.985431 23.524954 \r\nL 99.320566 145.704565 \r\nL 99.655701 130.44821 \r\nL 99.990836 127.454814 \r\nL 100.325971 120.850671 \r\nL 100.661106 143.204207 \r\nL 100.996242 100.969742 \r\nL 101.331377 101.675328 \r\nL 101.666512 107.170808 \r\nL 102.001647 90.309452 \r\nL 102.336782 92.929908 \r\nL 102.671917 105.948917 \r\nL 103.007052 24.657113 \r\nL 103.342187 82.324087 \r\nL 103.677323 91.497361 \r\nL 104.012458 87.550534 \r\nL 104.347593 85.841668 \r\nL 104.682728 127.35107 \r\nL 105.017863 123.064504 \r\nL 105.352998 99.101372 \r\nL 105.688133 102.304583 \r\nL 106.023269 109.720467 \r\nL 106.358404 97.427561 \r\nL 106.693539 55.287247 \r\nL 107.028674 108.669123 \r\nL 107.363809 89.190791 \r\nL 107.698944 111.894915 \r\nL 108.034079 121.287377 \r\nL 108.369215 116.937525 \r\nL 108.70435 109.989348 \r\nL 109.039485 94.114456 \r\nL 109.37462 108.788683 \r\nL 109.709755 80.668356 \r\nL 110.04489 67.995113 \r\nL 110.380025 150.403797 \r\nL 110.71516 107.083952 \r\nL 111.050296 123.277198 \r\nL 111.385431 67.771185 \r\nL 111.720566 108.207668 \r\nL 112.055701 119.242684 \r\nL 112.390836 101.340181 \r\nL 112.725971 97.28615 \r\nL 113.061106 88.125113 \r\nL 113.396242 98.759154 \r\nL 113.731377 152.187957 \r\nL 114.066512 84.575714 \r\nL 114.401647 155.542892 \r\nL 114.736782 102.036959 \r\nL 115.071917 158.677746 \r\nL 115.407052 87.484277 \r\nL 115.742188 126.989825 \r\nL 116.077323 78.627446 \r\nL 116.412458 110.863143 \r\nL 117.082728 75.472351 \r\nL 117.417863 109.729978 \r\nL 117.752998 64.238784 \r\nL 118.088133 124.025996 \r\nL 118.423269 113.969676 \r\nL 118.758404 96.094231 \r\nL 119.093539 102.163606 \r\nL 119.428674 89.982732 \r\nL 119.763809 95.59297 \r\nL 120.098944 140.253354 \r\nL 120.434079 78.637125 \r\nL 120.769215 92.499479 \r\nL 121.10435 58.166491 \r\nL 121.439485 93.198655 \r\nL 121.77462 62.842075 \r\nL 122.109755 103.110395 \r\nL 122.44489 104.611307 \r\nL 122.780025 123.953521 \r\nL 123.11516 129.970741 \r\nL 123.450296 93.981749 \r\nL 123.785431 120.94756 \r\nL 124.120566 104.47916 \r\nL 124.455701 27.100014 \r\nL 124.790836 156.632243 \r\nL 125.125971 99.779108 \r\nL 125.461106 96.726572 \r\nL 125.796242 145.6235 \r\nL 126.131377 127.108664 \r\nL 126.466512 44.1232 \r\nL 126.801647 119.078957 \r\nL 127.136782 88.875585 \r\nL 127.471917 149.669622 \r\nL 128.142187 69.814554 \r\nL 128.477323 106.24607 \r\nL 128.812458 85.569125 \r\nL 129.147593 102.195349 \r\nL 129.482728 110.139493 \r\nL 129.817863 138.792776 \r\nL 130.152998 92.0776 \r\nL 130.488133 125.953919 \r\nL 130.823269 100.850712 \r\nL 131.158404 127.774557 \r\nL 131.493539 142.251116 \r\nL 131.828674 74.430613 \r\nL 132.163809 101.801181 \r\nL 132.498944 104.283642 \r\nL 132.834079 96.593108 \r\nL 133.169215 78.434953 \r\nL 133.50435 120.894395 \r\nL 133.839485 126.595007 \r\nL 134.17462 134.599519 \r\nL 134.509755 110.322591 \r\nL 134.84489 125.114778 \r\nL 135.180025 108.411409 \r\nL 135.51516 126.80201 \r\nL 135.850296 94.382685 \r\nL 136.185431 102.456803 \r\nL 136.520566 93.155741 \r\nL 136.855701 134.453245 \r\nL 137.190836 127.298869 \r\nL 137.525971 122.567202 \r\nL 138.196242 44.190151 \r\nL 138.866512 124.377422 \r\nL 139.201647 120.522191 \r\nL 139.536782 164.959456 \r\nL 139.871917 117.583402 \r\nL 140.207052 100.484548 \r\nL 140.542188 105.6011 \r\nL 140.877323 53.217127 \r\nL 141.212458 98.77511 \r\nL 141.547593 96.926394 \r\nL 141.882728 53.989303 \r\nL 142.217863 90.096372 \r\nL 142.552998 150.40793 \r\nL 142.888133 78.533873 \r\nL 143.223269 95.587687 \r\nL 143.558404 124.124685 \r\nL 143.893539 102.219434 \r\nL 144.228674 66.854985 \r\nL 144.563809 102.414352 \r\nL 144.898944 112.061841 \r\nL 145.234079 99.222559 \r\nL 145.569215 76.128353 \r\nL 145.90435 119.536074 \r\nL 146.239485 113.355919 \r\nL 146.57462 101.850719 \r\nL 146.909755 132.253258 \r\nL 147.24489 102.761426 \r\nL 147.580025 177.755109 \r\nL 147.91516 115.721289 \r\nL 148.250296 82.804402 \r\nL 148.585431 68.177851 \r\nL 148.920566 97.009952 \r\nL 149.255701 81.343751 \r\nL 149.590836 46.412577 \r\nL 149.925971 102.383128 \r\nL 150.261106 61.581419 \r\nL 150.596242 145.134959 \r\nL 150.931377 69.519632 \r\nL 151.266512 116.153441 \r\nL 151.601647 100.851017 \r\nL 151.936782 25.779521 \r\nL 152.271917 130.936974 \r\nL 152.607052 143.320584 \r\nL 152.942187 132.300897 \r\nL 153.277323 36.964978 \r\nL 153.612458 96.990363 \r\nL 153.947593 58.519138 \r\nL 154.282728 134.219348 \r\nL 154.952998 79.545508 \r\nL 155.288133 98.988361 \r\nL 155.623269 75.153066 \r\nL 155.958404 85.778352 \r\nL 156.293539 67.917115 \r\nL 156.628674 66.889241 \r\nL 156.963809 105.752678 \r\nL 157.298944 74.919423 \r\nL 157.634079 133.495964 \r\nL 157.969215 95.337071 \r\nL 158.30435 76.43663 \r\nL 158.639485 42.050736 \r\nL 158.97462 109.097233 \r\nL 159.309755 116.414689 \r\nL 159.64489 84.029922 \r\nL 159.980025 130.43725 \r\nL 160.650296 40.706547 \r\nL 160.985431 75.647398 \r\nL 161.320566 62.566455 \r\nL 161.655701 80.705451 \r\nL 161.990836 49.248661 \r\nL 162.661106 119.416525 \r\nL 162.996242 139.081559 \r\nL 163.666512 67.038666 \r\nL 164.001647 106.102127 \r\nL 164.336782 93.400678 \r\nL 164.671917 130.353737 \r\nL 165.007052 116.705736 \r\nL 165.342187 74.161266 \r\nL 166.012458 102.776615 \r\nL 166.347593 68.771015 \r\nL 166.682728 54.236718 \r\nL 167.017863 51.298087 \r\nL 167.352998 88.556741 \r\nL 167.688133 90.212181 \r\nL 168.023269 78.153744 \r\nL 168.358404 105.168484 \r\nL 168.693539 84.887855 \r\nL 169.028674 175.389151 \r\nL 169.363809 78.52853 \r\nL 170.034079 128.019507 \r\nL 170.369215 67.130971 \r\nL 170.70435 127.39015 \r\nL 171.039485 84.750677 \r\nL 171.37462 97.557635 \r\nL 171.709755 144.237127 \r\nL 172.04489 106.758283 \r\nL 172.380025 153.956194 \r\nL 172.71516 148.513677 \r\nL 173.050296 132.632735 \r\nL 173.385431 102.484244 \r\nL 173.720566 127.063342 \r\nL 174.055701 82.773573 \r\nL 174.390836 149.587379 \r\nL 174.725971 121.39834 \r\nL 175.061106 123.16197 \r\nL 175.396242 87.325061 \r\nL 175.731377 114.088671 \r\nL 176.066512 116.939288 \r\nL 176.401647 169.329507 \r\nL 176.736782 106.551639 \r\nL 177.071917 111.007355 \r\nL 177.407052 69.263204 \r\nL 177.742188 98.22955 \r\nL 178.077323 69.85075 \r\nL 178.412458 82.672894 \r\nL 178.747593 84.282792 \r\nL 179.082728 128.384862 \r\nL 179.417863 49.351675 \r\nL 179.752998 39.55759 \r\nL 180.088133 95.118608 \r\nL 180.423269 98.803716 \r\nL 180.758404 156.777436 \r\nL 181.428674 103.293104 \r\nL 181.763809 91.243462 \r\nL 182.098944 122.11952 \r\nL 182.769215 40.727822 \r\nL 183.10435 57.675962 \r\nL 183.439485 92.396837 \r\nL 183.77462 140.531654 \r\nL 184.109755 86.367536 \r\nL 184.44489 103.387963 \r\nL 184.780025 110.282372 \r\nL 185.450296 103.268538 \r\nL 185.785431 117.658575 \r\nL 186.120566 95.521555 \r\nL 186.455701 138.54157 \r\nL 186.790836 114.538738 \r\nL 187.125971 114.677269 \r\nL 187.796242 68.853163 \r\nL 188.131377 85.891174 \r\nL 188.466512 141.591905 \r\nL 188.801647 117.982508 \r\nL 189.136782 119.280475 \r\nL 189.471917 100.08801 \r\nL 189.807052 138.976936 \r\nL 190.142187 113.337925 \r\nL 190.812458 100.752706 \r\nL 191.147593 105.966017 \r\nL 191.482728 96.555346 \r\nL 191.817863 111.877366 \r\nL 192.152998 17.083636 \r\nL 192.488133 49.188827 \r\nL 192.823269 93.667225 \r\nL 193.158404 112.450867 \r\nL 193.828674 97.695236 \r\nL 194.163809 105.715844 \r\nL 194.498944 70.89777 \r\nL 194.834079 112.773425 \r\nL 195.169215 41.209505 \r\nL 195.50435 124.248357 \r\nL 195.839485 82.584937 \r\nL 196.17462 96.816267 \r\nL 196.509755 72.447217 \r\nL 196.84489 107.128201 \r\nL 197.180025 52.896007 \r\nL 197.51516 28.816524 \r\nL 197.850296 89.719364 \r\nL 198.185431 128.631245 \r\nL 198.855701 77.227911 \r\nL 199.190836 85.253071 \r\nL 199.525971 110.307808 \r\nL 199.861106 121.257445 \r\nL 200.196242 113.221079 \r\nL 200.531377 132.090042 \r\nL 200.866512 69.194 \r\nL 201.201647 113.730127 \r\nL 201.536782 123.023743 \r\nL 201.871917 158.122456 \r\nL 202.207052 134.577933 \r\nL 202.542188 42.77068 \r\nL 202.877323 104.910344 \r\nL 203.212458 69.455564 \r\nL 203.547593 141.326535 \r\nL 203.882728 92.191338 \r\nL 204.217863 159.057742 \r\nL 204.552998 33.58111 \r\nL 204.888133 76.037869 \r\nL 205.223269 84.822414 \r\nL 205.558404 84.954288 \r\nL 205.893539 129.976804 \r\nL 206.228674 94.38379 \r\nL 206.563809 111.526581 \r\nL 206.898944 151.818252 \r\nL 207.234079 106.759065 \r\nL 207.569215 100.207589 \r\nL 207.90435 73.400804 \r\nL 208.239485 75.625461 \r\nL 208.57462 52.930187 \r\nL 208.909755 90.351613 \r\nL 209.24489 83.224515 \r\nL 209.580025 103.32438 \r\nL 209.91516 73.921534 \r\nL 210.250296 74.623232 \r\nL 210.585431 102.496238 \r\nL 210.920566 108.048185 \r\nL 211.255701 91.008255 \r\nL 211.590836 54.994814 \r\nL 211.925971 81.609233 \r\nL 212.261106 95.032001 \r\nL 212.596242 60.371337 \r\nL 212.931377 65.07426 \r\nL 213.266512 98.294668 \r\nL 213.601647 19.312508 \r\nL 213.936782 66.612677 \r\nL 214.271917 94.348388 \r\nL 214.607052 99.955355 \r\nL 214.942187 94.992307 \r\nL 215.277323 105.328182 \r\nL 215.612458 68.586353 \r\nL 215.947593 110.727337 \r\nL 216.282728 41.660722 \r\nL 216.617863 127.466309 \r\nL 216.952998 62.792536 \r\nL 217.623269 87.038231 \r\nL 217.958404 126.969675 \r\nL 218.293539 150.398551 \r\nL 218.628674 118.247273 \r\nL 218.963809 124.523893 \r\nL 219.298944 143.060922 \r\nL 219.634079 85.740955 \r\nL 220.30435 74.656826 \r\nL 220.639485 105.286456 \r\nL 220.97462 166.563439 \r\nL 221.64489 68.546693 \r\nL 222.31516 128.049746 \r\nL 222.985431 44.545861 \r\nL 223.655701 165.124098 \r\nL 223.990836 102.637593 \r\nL 224.325971 143.252312 \r\nL 224.661106 118.64176 \r\nL 224.996242 130.266194 \r\nL 225.331377 88.643312 \r\nL 225.666512 85.795277 \r\nL 226.001647 142.449826 \r\nL 226.336782 135.850733 \r\nL 226.671917 107.976016 \r\nL 227.007052 116.349714 \r\nL 227.342187 99.269858 \r\nL 227.677323 105.343629 \r\nL 228.012458 60.60094 \r\nL 228.347593 164.410193 \r\nL 228.682728 104.111634 \r\nL 229.017863 134.631223 \r\nL 229.352998 97.184769 \r\nL 229.688133 122.209575 \r\nL 230.023269 123.548877 \r\nL 230.358404 95.849416 \r\nL 230.693539 106.925166 \r\nL 231.028674 77.606665 \r\nL 231.363809 140.813371 \r\nL 231.698944 98.268166 \r\nL 232.034079 118.212059 \r\nL 232.369215 50.712917 \r\nL 232.70435 86.085004 \r\nL 233.039485 105.623923 \r\nL 233.709755 51.581699 \r\nL 234.04489 54.773585 \r\nL 234.380025 173.38027 \r\nL 234.71516 120.963261 \r\nL 235.050296 116.411072 \r\nL 235.385431 88.117508 \r\nL 235.720566 106.723595 \r\nL 236.055701 92.621371 \r\nL 236.390836 116.580977 \r\nL 236.725971 34.304024 \r\nL 237.061106 109.901842 \r\nL 237.396242 61.251662 \r\nL 237.731377 74.270619 \r\nL 238.066512 19.622652 \r\nL 238.401647 100.588275 \r\nL 238.736782 102.843878 \r\nL 239.071917 68.46478 \r\nL 239.407052 92.003309 \r\nL 239.742188 92.907016 \r\nL 240.412458 78.722838 \r\nL 240.747593 105.162339 \r\nL 241.082728 161.8893 \r\nL 241.417863 93.303524 \r\nL 241.752998 86.063178 \r\nL 242.088133 112.905276 \r\nL 242.423269 94.567226 \r\nL 242.758404 108.553875 \r\nL 243.093539 109.847616 \r\nL 243.428674 81.523517 \r\nL 243.763809 153.270345 \r\nL 244.098944 75.754799 \r\nL 244.769215 131.648427 \r\nL 245.10435 129.398515 \r\nL 245.439485 74.051568 \r\nL 245.77462 134.383653 \r\nL 246.109755 74.304586 \r\nL 246.44489 84.676329 \r\nL 246.780025 90.536223 \r\nL 247.11516 54.311335 \r\nL 247.450296 90.996917 \r\nL 247.785431 108.553445 \r\nL 248.120566 98.45947 \r\nL 248.455701 109.084568 \r\nL 248.790836 72.754989 \r\nL 249.125971 83.078563 \r\nL 249.461106 85.437652 \r\nL 249.796242 144.589161 \r\nL 250.131377 107.005325 \r\nL 250.466512 112.23759 \r\nL 250.801647 72.405771 \r\nL 251.136782 114.410936 \r\nL 251.471917 124.133706 \r\nL 251.807052 162.321779 \r\nL 252.142187 142.78887 \r\nL 252.477323 82.217131 \r\nL 252.812458 141.914393 \r\nL 253.147593 154.576188 \r\nL 253.482728 160.412596 \r\nL 253.817863 102.934006 \r\nL 254.152998 115.051338 \r\nL 254.823269 100.554871 \r\nL 255.158404 100.021749 \r\nL 255.493539 142.356914 \r\nL 256.163809 46.60677 \r\nL 256.498944 117.979883 \r\nL 256.834079 115.621631 \r\nL 257.169215 158.618245 \r\nL 257.50435 77.525402 \r\nL 257.839485 80.829803 \r\nL 258.17462 87.401041 \r\nL 258.509755 132.514673 \r\nL 258.84489 34.466736 \r\nL 259.180025 116.910752 \r\nL 259.51516 37.495417 \r\nL 259.850296 23.776641 \r\nL 260.520566 107.655842 \r\nL 260.855701 124.339711 \r\nL 261.190836 130.955771 \r\nL 261.525971 95.490608 \r\nL 262.196242 119.10486 \r\nL 262.531377 87.788989 \r\nL 262.866512 109.127133 \r\nL 263.201647 74.197524 \r\nL 263.536782 130.802775 \r\nL 263.871917 165.472123 \r\nL 264.207052 84.677357 \r\nL 264.542188 48.417186 \r\nL 264.877323 126.459548 \r\nL 265.212458 117.670913 \r\nL 265.882728 70.892336 \r\nL 266.217863 123.813183 \r\nL 266.552998 116.717735 \r\nL 266.888133 96.876121 \r\nL 267.223269 92.638156 \r\nL 267.558404 138.158093 \r\nL 268.228674 63.904131 \r\nL 268.563809 66.644472 \r\nL 268.898944 107.060277 \r\nL 269.234079 71.377855 \r\nL 269.90435 134.046275 \r\nL 270.239485 86.409403 \r\nL 270.57462 64.602804 \r\nL 270.909755 108.464429 \r\nL 271.24489 111.360318 \r\nL 271.580025 64.80637 \r\nL 271.91516 130.819654 \r\nL 272.250296 105.433555 \r\nL 272.585431 151.16622 \r\nL 272.920566 106.811732 \r\nL 273.255701 131.777403 \r\nL 273.590836 122.420577 \r\nL 273.925971 41.24501 \r\nL 274.261106 86.74327 \r\nL 274.596242 101.679868 \r\nL 274.931377 98.416626 \r\nL 275.266512 39.250506 \r\nL 275.601647 96.734226 \r\nL 275.936782 87.294591 \r\nL 276.271917 154.757664 \r\nL 276.607052 48.955159 \r\nL 276.942187 118.135168 \r\nL 277.277323 153.092318 \r\nL 277.612458 51.864354 \r\nL 277.947593 64.743339 \r\nL 278.282728 134.89701 \r\nL 278.617863 73.549754 \r\nL 278.952998 77.832398 \r\nL 279.288133 102.768141 \r\nL 279.623269 83.334036 \r\nL 279.958404 94.144913 \r\nL 280.293539 124.033226 \r\nL 280.628674 95.842538 \r\nL 280.963809 135.844036 \r\nL 281.298944 99.677036 \r\nL 281.634079 125.498488 \r\nL 281.969215 89.586707 \r\nL 282.30435 132.727046 \r\nL 282.639485 146.482158 \r\nL 282.97462 61.320422 \r\nL 283.309755 103.760199 \r\nL 283.64489 85.132785 \r\nL 283.980025 118.356273 \r\nL 284.31516 104.702789 \r\nL 284.650296 112.552767 \r\nL 284.985431 86.891858 \r\nL 285.320566 109.800198 \r\nL 285.655701 105.315065 \r\nL 285.990836 79.766632 \r\nL 286.325971 153.62673 \r\nL 286.661106 87.097589 \r\nL 286.996242 93.495844 \r\nL 287.331377 80.97921 \r\nL 287.666512 120.51273 \r\nL 288.001647 117.737241 \r\nL 288.336782 129.946971 \r\nL 288.671917 62.932824 \r\nL 289.007052 121.263024 \r\nL 289.342187 70.945397 \r\nL 289.677323 110.688172 \r\nL 290.012458 110.129123 \r\nL 290.347593 149.408159 \r\nL 290.682728 110.955302 \r\nL 291.017863 125.43196 \r\nL 291.352998 98.26352 \r\nL 291.688133 112.910458 \r\nL 292.023269 97.965787 \r\nL 292.358404 114.003158 \r\nL 292.693539 97.128073 \r\nL 293.028674 88.541655 \r\nL 293.363809 120.076967 \r\nL 293.698944 60.958737 \r\nL 294.034079 120.928974 \r\nL 294.369215 86.797287 \r\nL 294.70435 82.847205 \r\nL 295.039485 133.723521 \r\nL 295.37462 105.847521 \r\nL 295.709755 64.527313 \r\nL 296.04489 84.471278 \r\nL 296.380025 133.55725 \r\nL 297.050296 62.633959 \r\nL 297.385431 86.143458 \r\nL 297.720566 118.094706 \r\nL 298.055701 167.663346 \r\nL 298.390836 76.101558 \r\nL 298.725971 75.531731 \r\nL 299.061106 115.529006 \r\nL 299.396242 108.073014 \r\nL 299.731377 91.143992 \r\nL 300.736782 143.572078 \r\nL 301.071917 77.393183 \r\nL 301.407052 135.686233 \r\nL 301.742188 69.308323 \r\nL 302.077323 52.374006 \r\nL 302.412458 43.338316 \r\nL 302.747593 112.499432 \r\nL 303.082728 61.474857 \r\nL 303.417863 132.809483 \r\nL 303.752998 129.765237 \r\nL 304.088133 64.864954 \r\nL 304.423269 87.894319 \r\nL 304.758404 44.863797 \r\nL 305.093539 145.467428 \r\nL 305.428674 166.240008 \r\nL 305.763809 97.328144 \r\nL 306.098944 116.750074 \r\nL 306.434079 84.373527 \r\nL 306.769215 103.624002 \r\nL 307.439485 94.594472 \r\nL 308.109755 34.844336 \r\nL 308.44489 103.995434 \r\nL 308.780025 96.138807 \r\nL 309.11516 104.129588 \r\nL 309.450296 132.706915 \r\nL 309.785431 90.279437 \r\nL 310.120566 92.408307 \r\nL 310.455701 98.413246 \r\nL 310.790836 75.506446 \r\nL 311.125971 93.445754 \r\nL 311.461106 99.575839 \r\nL 311.796242 108.942605 \r\nL 312.131377 74.655136 \r\nL 312.466512 64.220507 \r\nL 313.136782 116.828941 \r\nL 313.471917 168.022279 \r\nL 314.142187 38.949078 \r\nL 314.477323 66.4232 \r\nL 314.812458 136.817523 \r\nL 315.147593 112.644346 \r\nL 315.482728 148.452122 \r\nL 316.488133 70.580416 \r\nL 316.823269 101.401055 \r\nL 317.158404 101.595589 \r\nL 317.493539 120.358969 \r\nL 317.828674 79.391425 \r\nL 318.163809 95.918143 \r\nL 318.498944 85.086685 \r\nL 318.834079 82.379538 \r\nL 319.169215 89.796318 \r\nL 319.50435 127.534487 \r\nL 319.839485 125.296283 \r\nL 320.17462 102.69485 \r\nL 320.509755 46.550595 \r\nL 320.84489 83.836304 \r\nL 321.180025 78.167018 \r\nL 322.185431 139.733393 \r\nL 322.855701 81.39711 \r\nL 323.190836 82.654912 \r\nL 323.525971 112.152846 \r\nL 323.861106 71.493044 \r\nL 324.531377 97.558289 \r\nL 324.866512 66.297009 \r\nL 325.201647 128.114519 \r\nL 325.536782 142.644245 \r\nL 325.871917 92.967026 \r\nL 326.207052 96.425729 \r\nL 326.877323 161.275572 \r\nL 327.212458 47.337687 \r\nL 327.547593 121.235201 \r\nL 327.882728 98.311266 \r\nL 328.217863 107.66771 \r\nL 328.552998 81.569862 \r\nL 328.888133 155.7249 \r\nL 329.223269 57.295558 \r\nL 329.558404 53.937415 \r\nL 329.893539 138.728137 \r\nL 330.228674 82.978016 \r\nL 330.563809 99.949356 \r\nL 330.898944 137.105699 \r\nL 331.234079 149.853178 \r\nL 331.569215 86.109597 \r\nL 331.90435 57.418265 \r\nL 332.57462 97.34338 \r\nL 332.909755 87.14418 \r\nL 333.580025 123.255749 \r\nL 334.250296 79.525889 \r\nL 334.585431 131.740158 \r\nL 334.920566 47.346938 \r\nL 335.255701 98.390253 \r\nL 335.590836 107.535999 \r\nL 335.925971 96.917256 \r\nL 336.261106 58.509153 \r\nL 336.596242 105.587118 \r\nL 336.931377 96.9338 \r\nL 337.266512 138.091097 \r\nL 337.601647 44.052872 \r\nL 337.936782 117.2381 \r\nL 338.271917 122.195499 \r\nL 338.607052 115.881422 \r\nL 338.942187 77.434444 \r\nL 339.277323 158.369387 \r\nL 339.612458 91.218813 \r\nL 339.947593 60.569759 \r\nL 340.282728 85.014139 \r\nL 340.617863 71.056516 \r\nL 340.952998 115.106726 \r\nL 341.288133 105.975925 \r\nL 341.623269 86.276192 \r\nL 341.958404 80.852289 \r\nL 342.293539 52.505246 \r\nL 342.628674 122.531308 \r\nL 342.963809 49.390069 \r\nL 343.298944 103.527673 \r\nL 343.634079 85.867516 \r\nL 343.969215 135.870838 \r\nL 344.30435 80.002187 \r\nL 344.639485 124.269055 \r\nL 344.97462 43.101932 \r\nL 345.309755 101.626234 \r\nL 345.64489 77.069064 \r\nL 345.980025 125.438497 \r\nL 346.31516 105.135166 \r\nL 346.650296 101.457833 \r\nL 346.985431 129.014239 \r\nL 347.320566 104.824832 \r\nL 347.655701 98.307332 \r\nL 348.325971 166.76518 \r\nL 348.661106 125.433431 \r\nL 348.996242 129.175781 \r\nL 349.331377 122.226949 \r\nL 349.666512 102.490678 \r\nL 350.001647 67.376637 \r\nL 350.336782 110.99556 \r\nL 350.671917 36.582906 \r\nL 351.007052 140.626125 \r\nL 351.677323 59.483743 \r\nL 352.012458 77.372748 \r\nL 352.347593 72.398514 \r\nL 352.682728 101.453829 \r\nL 353.017863 53.730501 \r\nL 353.352998 120.150788 \r\nL 353.688133 81.737925 \r\nL 354.023269 75.917271 \r\nL 354.358404 125.59262 \r\nL 354.693539 52.934405 \r\nL 355.028674 145.880253 \r\nL 355.363809 144.588323 \r\nL 356.034079 83.215676 \r\nL 356.369215 158.619824 \r\nL 356.70435 125.021279 \r\nL 357.039485 116.731423 \r\nL 357.37462 133.314718 \r\nL 357.709755 97.364194 \r\nL 358.04489 122.116616 \r\nL 358.380025 129.168532 \r\nL 358.71516 93.25348 \r\nL 359.050296 89.790249 \r\nL 359.385431 114.074477 \r\nL 359.720566 75.982602 \r\nL 360.055701 87.409489 \r\nL 360.390836 62.0855 \r\nL 360.725971 80.966355 \r\nL 361.061106 82.530079 \r\nL 361.396242 96.651331 \r\nL 361.731377 125.764023 \r\nL 362.066512 100.32084 \r\nL 362.401647 109.802577 \r\nL 362.736782 110.97433 \r\nL 363.071917 79.149942 \r\nL 363.407052 99.005167 \r\nL 363.742188 92.594927 \r\nL 363.742188 92.594927 \r\n\" style=\"fill:none;stroke:#1f77b4;stroke-linecap:square;stroke-width:1.5;\"/>\r\n   </g>\r\n   <g id=\"patch_3\">\r\n    <path d=\"M 28.942188 224.64 \r\nL 28.942188 7.2 \r\n\" style=\"fill:none;stroke:#000000;stroke-linecap:square;stroke-linejoin:miter;stroke-width:0.8;\"/>\r\n   </g>\r\n   <g id=\"patch_4\">\r\n    <path d=\"M 363.742188 224.64 \r\nL 363.742188 7.2 \r\n\" style=\"fill:none;stroke:#000000;stroke-linecap:square;stroke-linejoin:miter;stroke-width:0.8;\"/>\r\n   </g>\r\n   <g id=\"patch_5\">\r\n    <path d=\"M 28.942187 224.64 \r\nL 363.742188 224.64 \r\n\" style=\"fill:none;stroke:#000000;stroke-linecap:square;stroke-linejoin:miter;stroke-width:0.8;\"/>\r\n   </g>\r\n   <g id=\"patch_6\">\r\n    <path d=\"M 28.942187 7.2 \r\nL 363.742188 7.2 \r\n\" style=\"fill:none;stroke:#000000;stroke-linecap:square;stroke-linejoin:miter;stroke-width:0.8;\"/>\r\n   </g>\r\n  </g>\r\n </g>\r\n <defs>\r\n  <clipPath id=\"pe3156717ef\">\r\n   <rect height=\"217.44\" width=\"334.8\" x=\"28.942188\" y=\"7.2\"/>\r\n  </clipPath>\r\n </defs>\r\n</svg>\r\n",
      "text/plain": [
       "<Figure size 432x288 with 1 Axes>"
      ]
     },
     "metadata": {
      "needs_background": "light"
     },
     "output_type": "display_data"
    }
   ],
   "source": [
    "ts = pd.Series(np.random.randn(1000), index=pd.date_range(\"1/1/2022\", periods=1000))\n",
    "ts.plot()"
   ]
  },
  {
   "cell_type": "code",
   "execution_count": 97,
   "metadata": {},
   "outputs": [
    {
     "data": {
      "text/plain": [
       "<AxesSubplot:>"
      ]
     },
     "execution_count": 97,
     "metadata": {},
     "output_type": "execute_result"
    },
    {
     "data": {
      "image/png": "[encoded data removed]",
      "image/svg+xml": "<?xml version=\"1.0\" encoding=\"utf-8\" standalone=\"no\"?>\r\n<!DOCTYPE svg PUBLIC \"-//W3C//DTD SVG 1.1//EN\"\r\n  \"http://www.w3.org/Graphics/SVG/1.1/DTD/svg11.dtd\">\r\n<svg height=\"259.715937pt\" version=\"1.1\" viewBox=\"0 0 377.304688 259.715937\" width=\"377.304688pt\" xmlns=\"http://www.w3.org/2000/svg\" xmlns:xlink=\"http://www.w3.org/1999/xlink\">\r\n <metadata>\r\n  <rdf:RDF xmlns:cc=\"http://creativecommons.org/ns#\" xmlns:dc=\"http://purl.org/dc/elements/1.1/\" xmlns:rdf=\"http://www.w3.org/1999/02/22-rdf-syntax-ns#\">\r\n   <cc:Work>\r\n    <dc:type rdf:resource=\"http://purl.org/dc/dcmitype/StillImage\"/>\r\n    <dc:date>2022-03-20T16:00:10.097309</dc:date>\r\n    <dc:format>image/svg+xml</dc:format>\r\n    <dc:creator>\r\n     <cc:Agent>\r\n      <dc:title>Matplotlib v3.4.3, https://matplotlib.org/</dc:title>\r\n     </cc:Agent>\r\n    </dc:creator>\r\n   </cc:Work>\r\n  </rdf:RDF>\r\n </metadata>\r\n <defs>\r\n  <style type=\"text/css\">*{stroke-linecap:butt;stroke-linejoin:round;}</style>\r\n </defs>\r\n <g id=\"figure_1\">\r\n  <g id=\"patch_1\">\r\n   <path d=\"M 0 259.715937 \r\nL 377.304688 259.715937 \r\nL 377.304688 0 \r\nL 0 0 \r\nz\r\n\" style=\"fill:none;\"/>\r\n  </g>\r\n  <g id=\"axes_1\">\r\n   <g id=\"patch_2\">\r\n    <path d=\"M 35.304688 224.64 \r\nL 370.104688 224.64 \r\nL 370.104688 7.2 \r\nL 35.304688 7.2 \r\nz\r\n\" style=\"fill:#ffffff;\"/>\r\n   </g>\r\n   <g id=\"matplotlib.axis_1\">\r\n    <g id=\"xtick_1\">\r\n     <g id=\"line2d_1\">\r\n      <defs>\r\n       <path d=\"M 0 0 \r\nL 0 3.5 \r\n\" id=\"m388c948441\" style=\"stroke:#000000;stroke-width:0.8;\"/>\r\n      </defs>\r\n      <g>\r\n       <use style=\"stroke:#000000;stroke-width:0.8;\" x=\"35.304688\" xlink:href=\"#m388c948441\" y=\"224.64\"/>\r\n      </g>\r\n     </g>\r\n     <g id=\"text_1\">\r\n      <!-- Jan -->\r\n      <g transform=\"translate(27.596875 239.238438)scale(0.1 -0.1)\">\r\n       <defs>\r\n        <path d=\"M 628 4666 \r\nL 1259 4666 \r\nL 1259 325 \r\nQ 1259 -519 939 -900 \r\nQ 619 -1281 -91 -1281 \r\nL -331 -1281 \r\nL -331 -750 \r\nL -134 -750 \r\nQ 284 -750 456 -515 \r\nQ 628 -281 628 325 \r\nL 628 4666 \r\nz\r\n\" id=\"DejaVuSans-4a\" transform=\"scale(0.015625)\"/>\r\n        <path d=\"M 2194 1759 \r\nQ 1497 1759 1228 1600 \r\nQ 959 1441 959 1056 \r\nQ 959 750 1161 570 \r\nQ 1363 391 1709 391 \r\nQ 2188 391 2477 730 \r\nQ 2766 1069 2766 1631 \r\nL 2766 1759 \r\nL 2194 1759 \r\nz\r\nM 3341 1997 \r\nL 3341 0 \r\nL 2766 0 \r\nL 2766 531 \r\nQ 2569 213 2275 61 \r\nQ 1981 -91 1556 -91 \r\nQ 1019 -91 701 211 \r\nQ 384 513 384 1019 \r\nQ 384 1609 779 1909 \r\nQ 1175 2209 1959 2209 \r\nL 2766 2209 \r\nL 2766 2266 \r\nQ 2766 2663 2505 2880 \r\nQ 2244 3097 1772 3097 \r\nQ 1472 3097 1187 3025 \r\nQ 903 2953 641 2809 \r\nL 641 3341 \r\nQ 956 3463 1253 3523 \r\nQ 1550 3584 1831 3584 \r\nQ 2591 3584 2966 3190 \r\nQ 3341 2797 3341 1997 \r\nz\r\n\" id=\"DejaVuSans-61\" transform=\"scale(0.015625)\"/>\r\n        <path d=\"M 3513 2113 \r\nL 3513 0 \r\nL 2938 0 \r\nL 2938 2094 \r\nQ 2938 2591 2744 2837 \r\nQ 2550 3084 2163 3084 \r\nQ 1697 3084 1428 2787 \r\nQ 1159 2491 1159 1978 \r\nL 1159 0 \r\nL 581 0 \r\nL 581 3500 \r\nL 1159 3500 \r\nL 1159 2956 \r\nQ 1366 3272 1645 3428 \r\nQ 1925 3584 2291 3584 \r\nQ 2894 3584 3203 3211 \r\nQ 3513 2838 3513 2113 \r\nz\r\n\" id=\"DejaVuSans-6e\" transform=\"scale(0.015625)\"/>\r\n       </defs>\r\n       <use xlink:href=\"#DejaVuSans-4a\"/>\r\n       <use x=\"29.492188\" xlink:href=\"#DejaVuSans-61\"/>\r\n       <use x=\"90.771484\" xlink:href=\"#DejaVuSans-6e\"/>\r\n      </g>\r\n      <!-- 2022 -->\r\n      <g transform=\"translate(22.579687 250.43625)scale(0.1 -0.1)\">\r\n       <defs>\r\n        <path d=\"M 1228 531 \r\nL 3431 531 \r\nL 3431 0 \r\nL 469 0 \r\nL 469 531 \r\nQ 828 903 1448 1529 \r\nQ 2069 2156 2228 2338 \r\nQ 2531 2678 2651 2914 \r\nQ 2772 3150 2772 3378 \r\nQ 2772 3750 2511 3984 \r\nQ 2250 4219 1831 4219 \r\nQ 1534 4219 1204 4116 \r\nQ 875 4013 500 3803 \r\nL 500 4441 \r\nQ 881 4594 1212 4672 \r\nQ 1544 4750 1819 4750 \r\nQ 2544 4750 2975 4387 \r\nQ 3406 4025 3406 3419 \r\nQ 3406 3131 3298 2873 \r\nQ 3191 2616 2906 2266 \r\nQ 2828 2175 2409 1742 \r\nQ 1991 1309 1228 531 \r\nz\r\n\" id=\"DejaVuSans-32\" transform=\"scale(0.015625)\"/>\r\n        <path d=\"M 2034 4250 \r\nQ 1547 4250 1301 3770 \r\nQ 1056 3291 1056 2328 \r\nQ 1056 1369 1301 889 \r\nQ 1547 409 2034 409 \r\nQ 2525 409 2770 889 \r\nQ 3016 1369 3016 2328 \r\nQ 3016 3291 2770 3770 \r\nQ 2525 4250 2034 4250 \r\nz\r\nM 2034 4750 \r\nQ 2819 4750 3233 4129 \r\nQ 3647 3509 3647 2328 \r\nQ 3647 1150 3233 529 \r\nQ 2819 -91 2034 -91 \r\nQ 1250 -91 836 529 \r\nQ 422 1150 422 2328 \r\nQ 422 3509 836 4129 \r\nQ 1250 4750 2034 4750 \r\nz\r\n\" id=\"DejaVuSans-30\" transform=\"scale(0.015625)\"/>\r\n       </defs>\r\n       <use xlink:href=\"#DejaVuSans-32\"/>\r\n       <use x=\"63.623047\" xlink:href=\"#DejaVuSans-30\"/>\r\n       <use x=\"127.246094\" xlink:href=\"#DejaVuSans-32\"/>\r\n       <use x=\"190.869141\" xlink:href=\"#DejaVuSans-32\"/>\r\n      </g>\r\n     </g>\r\n    </g>\r\n    <g id=\"xtick_2\">\r\n     <g id=\"line2d_2\">\r\n      <g>\r\n       <use style=\"stroke:#000000;stroke-width:0.8;\" x=\"157.629012\" xlink:href=\"#m388c948441\" y=\"224.64\"/>\r\n      </g>\r\n     </g>\r\n     <g id=\"text_2\">\r\n      <!-- Jan -->\r\n      <g transform=\"translate(149.921199 239.238438)scale(0.1 -0.1)\">\r\n       <use xlink:href=\"#DejaVuSans-4a\"/>\r\n       <use x=\"29.492188\" xlink:href=\"#DejaVuSans-61\"/>\r\n       <use x=\"90.771484\" xlink:href=\"#DejaVuSans-6e\"/>\r\n      </g>\r\n      <!-- 2023 -->\r\n      <g transform=\"translate(144.904012 250.43625)scale(0.1 -0.1)\">\r\n       <defs>\r\n        <path d=\"M 2597 2516 \r\nQ 3050 2419 3304 2112 \r\nQ 3559 1806 3559 1356 \r\nQ 3559 666 3084 287 \r\nQ 2609 -91 1734 -91 \r\nQ 1441 -91 1130 -33 \r\nQ 819 25 488 141 \r\nL 488 750 \r\nQ 750 597 1062 519 \r\nQ 1375 441 1716 441 \r\nQ 2309 441 2620 675 \r\nQ 2931 909 2931 1356 \r\nQ 2931 1769 2642 2001 \r\nQ 2353 2234 1838 2234 \r\nL 1294 2234 \r\nL 1294 2753 \r\nL 1863 2753 \r\nQ 2328 2753 2575 2939 \r\nQ 2822 3125 2822 3475 \r\nQ 2822 3834 2567 4026 \r\nQ 2313 4219 1838 4219 \r\nQ 1578 4219 1281 4162 \r\nQ 984 4106 628 3988 \r\nL 628 4550 \r\nQ 988 4650 1302 4700 \r\nQ 1616 4750 1894 4750 \r\nQ 2613 4750 3031 4423 \r\nQ 3450 4097 3450 3541 \r\nQ 3450 3153 3228 2886 \r\nQ 3006 2619 2597 2516 \r\nz\r\n\" id=\"DejaVuSans-33\" transform=\"scale(0.015625)\"/>\r\n       </defs>\r\n       <use xlink:href=\"#DejaVuSans-32\"/>\r\n       <use x=\"63.623047\" xlink:href=\"#DejaVuSans-30\"/>\r\n       <use x=\"127.246094\" xlink:href=\"#DejaVuSans-32\"/>\r\n       <use x=\"190.869141\" xlink:href=\"#DejaVuSans-33\"/>\r\n      </g>\r\n     </g>\r\n    </g>\r\n    <g id=\"xtick_3\">\r\n     <g id=\"line2d_3\">\r\n      <g>\r\n       <use style=\"stroke:#000000;stroke-width:0.8;\" x=\"279.953336\" xlink:href=\"#m388c948441\" y=\"224.64\"/>\r\n      </g>\r\n     </g>\r\n     <g id=\"text_3\">\r\n      <!-- Jan -->\r\n      <g transform=\"translate(272.245524 239.238438)scale(0.1 -0.1)\">\r\n       <use xlink:href=\"#DejaVuSans-4a\"/>\r\n       <use x=\"29.492188\" xlink:href=\"#DejaVuSans-61\"/>\r\n       <use x=\"90.771484\" xlink:href=\"#DejaVuSans-6e\"/>\r\n      </g>\r\n      <!-- 2024 -->\r\n      <g transform=\"translate(267.228336 250.43625)scale(0.1 -0.1)\">\r\n       <defs>\r\n        <path d=\"M 2419 4116 \r\nL 825 1625 \r\nL 2419 1625 \r\nL 2419 4116 \r\nz\r\nM 2253 4666 \r\nL 3047 4666 \r\nL 3047 1625 \r\nL 3713 1625 \r\nL 3713 1100 \r\nL 3047 1100 \r\nL 3047 0 \r\nL 2419 0 \r\nL 2419 1100 \r\nL 313 1100 \r\nL 313 1709 \r\nL 2253 4666 \r\nz\r\n\" id=\"DejaVuSans-34\" transform=\"scale(0.015625)\"/>\r\n       </defs>\r\n       <use xlink:href=\"#DejaVuSans-32\"/>\r\n       <use x=\"63.623047\" xlink:href=\"#DejaVuSans-30\"/>\r\n       <use x=\"127.246094\" xlink:href=\"#DejaVuSans-32\"/>\r\n       <use x=\"190.869141\" xlink:href=\"#DejaVuSans-34\"/>\r\n      </g>\r\n     </g>\r\n    </g>\r\n    <g id=\"xtick_4\">\r\n     <g id=\"line2d_4\">\r\n      <g>\r\n       <use style=\"stroke:#000000;stroke-width:0.8;\" x=\"370.104688\" xlink:href=\"#m388c948441\" y=\"224.64\"/>\r\n      </g>\r\n     </g>\r\n    </g>\r\n    <g id=\"xtick_5\">\r\n     <g id=\"line2d_5\">\r\n      <defs>\r\n       <path d=\"M 0 0 \r\nL 0 2 \r\n\" id=\"mcf6cab9d5f\" style=\"stroke:#000000;stroke-width:0.6;\"/>\r\n      </defs>\r\n      <g>\r\n       <use style=\"stroke:#000000;stroke-width:0.6;\" x=\"45.693877\" xlink:href=\"#mcf6cab9d5f\" y=\"224.64\"/>\r\n      </g>\r\n     </g>\r\n    </g>\r\n    <g id=\"xtick_6\">\r\n     <g id=\"line2d_6\">\r\n      <g>\r\n       <use style=\"stroke:#000000;stroke-width:0.6;\" x=\"55.07766\" xlink:href=\"#mcf6cab9d5f\" y=\"224.64\"/>\r\n      </g>\r\n     </g>\r\n    </g>\r\n    <g id=\"xtick_7\">\r\n     <g id=\"line2d_7\">\r\n      <g>\r\n       <use style=\"stroke:#000000;stroke-width:0.6;\" x=\"65.46685\" xlink:href=\"#mcf6cab9d5f\" y=\"224.64\"/>\r\n      </g>\r\n     </g>\r\n    </g>\r\n    <g id=\"xtick_8\">\r\n     <g id=\"line2d_8\">\r\n      <g>\r\n       <use style=\"stroke:#000000;stroke-width:0.6;\" x=\"75.520904\" xlink:href=\"#mcf6cab9d5f\" y=\"224.64\"/>\r\n      </g>\r\n     </g>\r\n    </g>\r\n    <g id=\"xtick_9\">\r\n     <g id=\"line2d_9\">\r\n      <g>\r\n       <use style=\"stroke:#000000;stroke-width:0.6;\" x=\"85.910093\" xlink:href=\"#mcf6cab9d5f\" y=\"224.64\"/>\r\n      </g>\r\n     </g>\r\n    </g>\r\n    <g id=\"xtick_10\">\r\n     <g id=\"line2d_10\">\r\n      <g>\r\n       <use style=\"stroke:#000000;stroke-width:0.6;\" x=\"95.964147\" xlink:href=\"#mcf6cab9d5f\" y=\"224.64\"/>\r\n      </g>\r\n     </g>\r\n     <g id=\"text_4\">\r\n      <!-- Jul -->\r\n      <g transform=\"translate(89.931334 237.638438)scale(0.1 -0.1)\">\r\n       <defs>\r\n        <path d=\"M 544 1381 \r\nL 544 3500 \r\nL 1119 3500 \r\nL 1119 1403 \r\nQ 1119 906 1312 657 \r\nQ 1506 409 1894 409 \r\nQ 2359 409 2629 706 \r\nQ 2900 1003 2900 1516 \r\nL 2900 3500 \r\nL 3475 3500 \r\nL 3475 0 \r\nL 2900 0 \r\nL 2900 538 \r\nQ 2691 219 2414 64 \r\nQ 2138 -91 1772 -91 \r\nQ 1169 -91 856 284 \r\nQ 544 659 544 1381 \r\nz\r\nM 1991 3584 \r\nL 1991 3584 \r\nz\r\n\" id=\"DejaVuSans-75\" transform=\"scale(0.015625)\"/>\r\n        <path d=\"M 603 4863 \r\nL 1178 4863 \r\nL 1178 0 \r\nL 603 0 \r\nL 603 4863 \r\nz\r\n\" id=\"DejaVuSans-6c\" transform=\"scale(0.015625)\"/>\r\n       </defs>\r\n       <use xlink:href=\"#DejaVuSans-4a\"/>\r\n       <use x=\"29.492188\" xlink:href=\"#DejaVuSans-75\"/>\r\n       <use x=\"92.871094\" xlink:href=\"#DejaVuSans-6c\"/>\r\n      </g>\r\n     </g>\r\n    </g>\r\n    <g id=\"xtick_11\">\r\n     <g id=\"line2d_11\">\r\n      <g>\r\n       <use style=\"stroke:#000000;stroke-width:0.6;\" x=\"106.353336\" xlink:href=\"#mcf6cab9d5f\" y=\"224.64\"/>\r\n      </g>\r\n     </g>\r\n    </g>\r\n    <g id=\"xtick_12\">\r\n     <g id=\"line2d_12\">\r\n      <g>\r\n       <use style=\"stroke:#000000;stroke-width:0.6;\" x=\"116.742525\" xlink:href=\"#mcf6cab9d5f\" y=\"224.64\"/>\r\n      </g>\r\n     </g>\r\n    </g>\r\n    <g id=\"xtick_13\">\r\n     <g id=\"line2d_13\">\r\n      <g>\r\n       <use style=\"stroke:#000000;stroke-width:0.6;\" x=\"126.796579\" xlink:href=\"#mcf6cab9d5f\" y=\"224.64\"/>\r\n      </g>\r\n     </g>\r\n    </g>\r\n    <g id=\"xtick_14\">\r\n     <g id=\"line2d_14\">\r\n      <g>\r\n       <use style=\"stroke:#000000;stroke-width:0.6;\" x=\"137.185769\" xlink:href=\"#mcf6cab9d5f\" y=\"224.64\"/>\r\n      </g>\r\n     </g>\r\n    </g>\r\n    <g id=\"xtick_15\">\r\n     <g id=\"line2d_15\">\r\n      <g>\r\n       <use style=\"stroke:#000000;stroke-width:0.6;\" x=\"147.239823\" xlink:href=\"#mcf6cab9d5f\" y=\"224.64\"/>\r\n      </g>\r\n     </g>\r\n    </g>\r\n    <g id=\"xtick_16\">\r\n     <g id=\"line2d_16\">\r\n      <g>\r\n       <use style=\"stroke:#000000;stroke-width:0.6;\" x=\"168.018201\" xlink:href=\"#mcf6cab9d5f\" y=\"224.64\"/>\r\n      </g>\r\n     </g>\r\n    </g>\r\n    <g id=\"xtick_17\">\r\n     <g id=\"line2d_17\">\r\n      <g>\r\n       <use style=\"stroke:#000000;stroke-width:0.6;\" x=\"177.401985\" xlink:href=\"#mcf6cab9d5f\" y=\"224.64\"/>\r\n      </g>\r\n     </g>\r\n    </g>\r\n    <g id=\"xtick_18\">\r\n     <g id=\"line2d_18\">\r\n      <g>\r\n       <use style=\"stroke:#000000;stroke-width:0.6;\" x=\"187.791174\" xlink:href=\"#mcf6cab9d5f\" y=\"224.64\"/>\r\n      </g>\r\n     </g>\r\n    </g>\r\n    <g id=\"xtick_19\">\r\n     <g id=\"line2d_19\">\r\n      <g>\r\n       <use style=\"stroke:#000000;stroke-width:0.6;\" x=\"197.845228\" xlink:href=\"#mcf6cab9d5f\" y=\"224.64\"/>\r\n      </g>\r\n     </g>\r\n    </g>\r\n    <g id=\"xtick_20\">\r\n     <g id=\"line2d_20\">\r\n      <g>\r\n       <use style=\"stroke:#000000;stroke-width:0.6;\" x=\"208.234417\" xlink:href=\"#mcf6cab9d5f\" y=\"224.64\"/>\r\n      </g>\r\n     </g>\r\n    </g>\r\n    <g id=\"xtick_21\">\r\n     <g id=\"line2d_21\">\r\n      <g>\r\n       <use style=\"stroke:#000000;stroke-width:0.6;\" x=\"218.288471\" xlink:href=\"#mcf6cab9d5f\" y=\"224.64\"/>\r\n      </g>\r\n     </g>\r\n     <g id=\"text_5\">\r\n      <!-- Jul -->\r\n      <g transform=\"translate(212.255659 237.638438)scale(0.1 -0.1)\">\r\n       <use xlink:href=\"#DejaVuSans-4a\"/>\r\n       <use x=\"29.492188\" xlink:href=\"#DejaVuSans-75\"/>\r\n       <use x=\"92.871094\" xlink:href=\"#DejaVuSans-6c\"/>\r\n      </g>\r\n     </g>\r\n    </g>\r\n    <g id=\"xtick_22\">\r\n     <g id=\"line2d_22\">\r\n      <g>\r\n       <use style=\"stroke:#000000;stroke-width:0.6;\" x=\"228.67766\" xlink:href=\"#mcf6cab9d5f\" y=\"224.64\"/>\r\n      </g>\r\n     </g>\r\n    </g>\r\n    <g id=\"xtick_23\">\r\n     <g id=\"line2d_23\">\r\n      <g>\r\n       <use style=\"stroke:#000000;stroke-width:0.6;\" x=\"239.06685\" xlink:href=\"#mcf6cab9d5f\" y=\"224.64\"/>\r\n      </g>\r\n     </g>\r\n    </g>\r\n    <g id=\"xtick_24\">\r\n     <g id=\"line2d_24\">\r\n      <g>\r\n       <use style=\"stroke:#000000;stroke-width:0.6;\" x=\"249.120904\" xlink:href=\"#mcf6cab9d5f\" y=\"224.64\"/>\r\n      </g>\r\n     </g>\r\n    </g>\r\n    <g id=\"xtick_25\">\r\n     <g id=\"line2d_25\">\r\n      <g>\r\n       <use style=\"stroke:#000000;stroke-width:0.6;\" x=\"259.510093\" xlink:href=\"#mcf6cab9d5f\" y=\"224.64\"/>\r\n      </g>\r\n     </g>\r\n    </g>\r\n    <g id=\"xtick_26\">\r\n     <g id=\"line2d_26\">\r\n      <g>\r\n       <use style=\"stroke:#000000;stroke-width:0.6;\" x=\"269.564147\" xlink:href=\"#mcf6cab9d5f\" y=\"224.64\"/>\r\n      </g>\r\n     </g>\r\n    </g>\r\n    <g id=\"xtick_27\">\r\n     <g id=\"line2d_27\">\r\n      <g>\r\n       <use style=\"stroke:#000000;stroke-width:0.6;\" x=\"290.342525\" xlink:href=\"#mcf6cab9d5f\" y=\"224.64\"/>\r\n      </g>\r\n     </g>\r\n    </g>\r\n    <g id=\"xtick_28\">\r\n     <g id=\"line2d_28\">\r\n      <g>\r\n       <use style=\"stroke:#000000;stroke-width:0.6;\" x=\"300.061444\" xlink:href=\"#mcf6cab9d5f\" y=\"224.64\"/>\r\n      </g>\r\n     </g>\r\n    </g>\r\n    <g id=\"xtick_29\">\r\n     <g id=\"line2d_29\">\r\n      <g>\r\n       <use style=\"stroke:#000000;stroke-width:0.6;\" x=\"310.450633\" xlink:href=\"#mcf6cab9d5f\" y=\"224.64\"/>\r\n      </g>\r\n     </g>\r\n    </g>\r\n    <g id=\"xtick_30\">\r\n     <g id=\"line2d_30\">\r\n      <g>\r\n       <use style=\"stroke:#000000;stroke-width:0.6;\" x=\"320.504687\" xlink:href=\"#mcf6cab9d5f\" y=\"224.64\"/>\r\n      </g>\r\n     </g>\r\n    </g>\r\n    <g id=\"xtick_31\">\r\n     <g id=\"line2d_31\">\r\n      <g>\r\n       <use style=\"stroke:#000000;stroke-width:0.6;\" x=\"330.893877\" xlink:href=\"#mcf6cab9d5f\" y=\"224.64\"/>\r\n      </g>\r\n     </g>\r\n    </g>\r\n    <g id=\"xtick_32\">\r\n     <g id=\"line2d_32\">\r\n      <g>\r\n       <use style=\"stroke:#000000;stroke-width:0.6;\" x=\"340.947931\" xlink:href=\"#mcf6cab9d5f\" y=\"224.64\"/>\r\n      </g>\r\n     </g>\r\n     <g id=\"text_6\">\r\n      <!-- Jul -->\r\n      <g transform=\"translate(334.915118 237.638438)scale(0.1 -0.1)\">\r\n       <use xlink:href=\"#DejaVuSans-4a\"/>\r\n       <use x=\"29.492188\" xlink:href=\"#DejaVuSans-75\"/>\r\n       <use x=\"92.871094\" xlink:href=\"#DejaVuSans-6c\"/>\r\n      </g>\r\n     </g>\r\n    </g>\r\n    <g id=\"xtick_33\">\r\n     <g id=\"line2d_33\">\r\n      <g>\r\n       <use style=\"stroke:#000000;stroke-width:0.6;\" x=\"351.33712\" xlink:href=\"#mcf6cab9d5f\" y=\"224.64\"/>\r\n      </g>\r\n     </g>\r\n    </g>\r\n    <g id=\"xtick_34\">\r\n     <g id=\"line2d_34\">\r\n      <g>\r\n       <use style=\"stroke:#000000;stroke-width:0.6;\" x=\"361.726309\" xlink:href=\"#mcf6cab9d5f\" y=\"224.64\"/>\r\n      </g>\r\n     </g>\r\n    </g>\r\n   </g>\r\n   <g id=\"matplotlib.axis_2\">\r\n    <g id=\"ytick_1\">\r\n     <g id=\"line2d_35\">\r\n      <defs>\r\n       <path d=\"M 0 0 \r\nL -3.5 0 \r\n\" id=\"mfe93c1a187\" style=\"stroke:#000000;stroke-width:0.8;\"/>\r\n      </defs>\r\n      <g>\r\n       <use style=\"stroke:#000000;stroke-width:0.8;\" x=\"35.304688\" xlink:href=\"#mfe93c1a187\" y=\"203.144659\"/>\r\n      </g>\r\n     </g>\r\n     <g id=\"text_7\">\r\n      <!-- −15 -->\r\n      <g transform=\"translate(7.2 206.943878)scale(0.1 -0.1)\">\r\n       <defs>\r\n        <path d=\"M 678 2272 \r\nL 4684 2272 \r\nL 4684 1741 \r\nL 678 1741 \r\nL 678 2272 \r\nz\r\n\" id=\"DejaVuSans-2212\" transform=\"scale(0.015625)\"/>\r\n        <path d=\"M 794 531 \r\nL 1825 531 \r\nL 1825 4091 \r\nL 703 3866 \r\nL 703 4441 \r\nL 1819 4666 \r\nL 2450 4666 \r\nL 2450 531 \r\nL 3481 531 \r\nL 3481 0 \r\nL 794 0 \r\nL 794 531 \r\nz\r\n\" id=\"DejaVuSans-31\" transform=\"scale(0.015625)\"/>\r\n        <path d=\"M 691 4666 \r\nL 3169 4666 \r\nL 3169 4134 \r\nL 1269 4134 \r\nL 1269 2991 \r\nQ 1406 3038 1543 3061 \r\nQ 1681 3084 1819 3084 \r\nQ 2600 3084 3056 2656 \r\nQ 3513 2228 3513 1497 \r\nQ 3513 744 3044 326 \r\nQ 2575 -91 1722 -91 \r\nQ 1428 -91 1123 -41 \r\nQ 819 9 494 109 \r\nL 494 744 \r\nQ 775 591 1075 516 \r\nQ 1375 441 1709 441 \r\nQ 2250 441 2565 725 \r\nQ 2881 1009 2881 1497 \r\nQ 2881 1984 2565 2268 \r\nQ 2250 2553 1709 2553 \r\nQ 1456 2553 1204 2497 \r\nQ 953 2441 691 2322 \r\nL 691 4666 \r\nz\r\n\" id=\"DejaVuSans-35\" transform=\"scale(0.015625)\"/>\r\n       </defs>\r\n       <use xlink:href=\"#DejaVuSans-2212\"/>\r\n       <use x=\"83.789062\" xlink:href=\"#DejaVuSans-31\"/>\r\n       <use x=\"147.412109\" xlink:href=\"#DejaVuSans-35\"/>\r\n      </g>\r\n     </g>\r\n    </g>\r\n    <g id=\"ytick_2\">\r\n     <g id=\"line2d_36\">\r\n      <g>\r\n       <use style=\"stroke:#000000;stroke-width:0.8;\" x=\"35.304688\" xlink:href=\"#mfe93c1a187\" y=\"176.285055\"/>\r\n      </g>\r\n     </g>\r\n     <g id=\"text_8\">\r\n      <!-- −10 -->\r\n      <g transform=\"translate(7.2 180.084273)scale(0.1 -0.1)\">\r\n       <use xlink:href=\"#DejaVuSans-2212\"/>\r\n       <use x=\"83.789062\" xlink:href=\"#DejaVuSans-31\"/>\r\n       <use x=\"147.412109\" xlink:href=\"#DejaVuSans-30\"/>\r\n      </g>\r\n     </g>\r\n    </g>\r\n    <g id=\"ytick_3\">\r\n     <g id=\"line2d_37\">\r\n      <g>\r\n       <use style=\"stroke:#000000;stroke-width:0.8;\" x=\"35.304688\" xlink:href=\"#mfe93c1a187\" y=\"149.42545\"/>\r\n      </g>\r\n     </g>\r\n     <g id=\"text_9\">\r\n      <!-- −5 -->\r\n      <g transform=\"translate(13.5625 153.224669)scale(0.1 -0.1)\">\r\n       <use xlink:href=\"#DejaVuSans-2212\"/>\r\n       <use x=\"83.789062\" xlink:href=\"#DejaVuSans-35\"/>\r\n      </g>\r\n     </g>\r\n    </g>\r\n    <g id=\"ytick_4\">\r\n     <g id=\"line2d_38\">\r\n      <g>\r\n       <use style=\"stroke:#000000;stroke-width:0.8;\" x=\"35.304688\" xlink:href=\"#mfe93c1a187\" y=\"122.565845\"/>\r\n      </g>\r\n     </g>\r\n     <g id=\"text_10\">\r\n      <!-- 0 -->\r\n      <g transform=\"translate(21.942188 126.365064)scale(0.1 -0.1)\">\r\n       <use xlink:href=\"#DejaVuSans-30\"/>\r\n      </g>\r\n     </g>\r\n    </g>\r\n    <g id=\"ytick_5\">\r\n     <g id=\"line2d_39\">\r\n      <g>\r\n       <use style=\"stroke:#000000;stroke-width:0.8;\" x=\"35.304688\" xlink:href=\"#mfe93c1a187\" y=\"95.70624\"/>\r\n      </g>\r\n     </g>\r\n     <g id=\"text_11\">\r\n      <!-- 5 -->\r\n      <g transform=\"translate(21.942188 99.505459)scale(0.1 -0.1)\">\r\n       <use xlink:href=\"#DejaVuSans-35\"/>\r\n      </g>\r\n     </g>\r\n    </g>\r\n    <g id=\"ytick_6\">\r\n     <g id=\"line2d_40\">\r\n      <g>\r\n       <use style=\"stroke:#000000;stroke-width:0.8;\" x=\"35.304688\" xlink:href=\"#mfe93c1a187\" y=\"68.846636\"/>\r\n      </g>\r\n     </g>\r\n     <g id=\"text_12\">\r\n      <!-- 10 -->\r\n      <g transform=\"translate(15.579688 72.645854)scale(0.1 -0.1)\">\r\n       <use xlink:href=\"#DejaVuSans-31\"/>\r\n       <use x=\"63.623047\" xlink:href=\"#DejaVuSans-30\"/>\r\n      </g>\r\n     </g>\r\n    </g>\r\n    <g id=\"ytick_7\">\r\n     <g id=\"line2d_41\">\r\n      <g>\r\n       <use style=\"stroke:#000000;stroke-width:0.8;\" x=\"35.304688\" xlink:href=\"#mfe93c1a187\" y=\"41.987031\"/>\r\n      </g>\r\n     </g>\r\n     <g id=\"text_13\">\r\n      <!-- 15 -->\r\n      <g transform=\"translate(15.579688 45.78625)scale(0.1 -0.1)\">\r\n       <use xlink:href=\"#DejaVuSans-31\"/>\r\n       <use x=\"63.623047\" xlink:href=\"#DejaVuSans-35\"/>\r\n      </g>\r\n     </g>\r\n    </g>\r\n    <g id=\"ytick_8\">\r\n     <g id=\"line2d_42\">\r\n      <g>\r\n       <use style=\"stroke:#000000;stroke-width:0.8;\" x=\"35.304688\" xlink:href=\"#mfe93c1a187\" y=\"15.127426\"/>\r\n      </g>\r\n     </g>\r\n     <g id=\"text_14\">\r\n      <!-- 20 -->\r\n      <g transform=\"translate(15.579688 18.926645)scale(0.1 -0.1)\">\r\n       <use xlink:href=\"#DejaVuSans-32\"/>\r\n       <use x=\"63.623047\" xlink:href=\"#DejaVuSans-30\"/>\r\n      </g>\r\n     </g>\r\n    </g>\r\n   </g>\r\n   <g id=\"line2d_43\">\r\n    <path clip-path=\"url(#p65e3dc80c5)\" d=\"M 35.304688 130.201114 \r\nL 35.639823 129.559961 \r\nL 35.974958 130.217127 \r\nL 36.310093 132.302542 \r\nL 36.645228 130.987227 \r\nL 36.980363 130.99189 \r\nL 37.315498 137.117948 \r\nL 37.650633 137.646335 \r\nL 37.985769 140.10183 \r\nL 38.320904 138.450014 \r\nL 38.656039 128.171425 \r\nL 38.991174 129.783406 \r\nL 39.996579 108.19766 \r\nL 40.331715 107.884951 \r\nL 40.66685 106.978271 \r\nL 41.001985 103.22298 \r\nL 41.33712 96.373351 \r\nL 41.672255 96.939269 \r\nL 42.00739 96.799805 \r\nL 42.342525 98.805255 \r\nL 42.67766 97.224329 \r\nL 43.012796 102.917465 \r\nL 43.347931 105.320563 \r\nL 43.683066 103.804847 \r\nL 44.018201 107.240673 \r\nL 45.023606 87.518973 \r\nL 45.693877 78.943853 \r\nL 46.029012 68.993506 \r\nL 46.699282 66.567789 \r\nL 47.034417 63.446443 \r\nL 47.369552 62.785264 \r\nL 48.374958 53.584549 \r\nL 48.710093 65.271315 \r\nL 49.380363 48.207273 \r\nL 50.050633 55.251407 \r\nL 50.385769 60.291466 \r\nL 50.720904 56.230029 \r\nL 51.056039 63.853411 \r\nL 51.391174 59.039232 \r\nL 51.726309 57.911235 \r\nL 52.061444 62.999241 \r\nL 52.731715 76.116664 \r\nL 53.06685 80.456484 \r\nL 53.401985 71.997447 \r\nL 53.73712 80.194749 \r\nL 54.40739 62.778961 \r\nL 54.742525 63.464056 \r\nL 55.747931 60.090447 \r\nL 56.083066 63.306099 \r\nL 56.418201 59.555203 \r\nL 56.753336 58.264192 \r\nL 57.088471 48.664444 \r\nL 57.423606 46.192051 \r\nL 57.758742 48.623156 \r\nL 58.093877 49.534768 \r\nL 58.429012 59.454299 \r\nL 58.764147 60.295675 \r\nL 59.099282 59.53085 \r\nL 59.434417 64.64327 \r\nL 59.769552 55.840295 \r\nL 60.104688 41.477654 \r\nL 60.774958 36.68563 \r\nL 61.110093 37.099289 \r\nL 61.445228 33.608618 \r\nL 61.780363 41.198199 \r\nL 62.115498 40.26185 \r\nL 62.450633 35.533393 \r\nL 62.785769 56.623018 \r\nL 63.120904 66.432518 \r\nL 63.456039 59.362393 \r\nL 63.791174 62.720405 \r\nL 64.126309 63.54724 \r\nL 64.461444 66.739028 \r\nL 65.131715 59.569267 \r\nL 65.46685 58.812584 \r\nL 65.801985 59.877609 \r\nL 66.13712 53.574012 \r\nL 66.80739 64.130046 \r\nL 67.142525 60.397732 \r\nL 67.47766 66.270267 \r\nL 67.812796 65.73715 \r\nL 68.147931 64.026313 \r\nL 68.483066 61.502418 \r\nL 68.818201 61.804 \r\nL 69.153336 59.618717 \r\nL 69.488471 56.544278 \r\nL 69.823606 57.659606 \r\nL 70.158742 55.377959 \r\nL 70.493877 57.036573 \r\nL 70.829012 48.721819 \r\nL 71.164147 44.734741 \r\nL 71.499282 55.107379 \r\nL 71.834417 54.725357 \r\nL 72.169552 47.392994 \r\nL 72.504687 48.277592 \r\nL 72.839823 46.079393 \r\nL 73.174958 55.337292 \r\nL 73.510093 58.120683 \r\nL 73.845228 44.680933 \r\nL 74.180363 39.686806 \r\nL 74.515498 42.439676 \r\nL 74.850633 48.125749 \r\nL 75.185769 43.055093 \r\nL 75.520904 43.784906 \r\nL 76.191174 27.727799 \r\nL 76.526309 23.541514 \r\nL 76.861444 25.720744 \r\nL 77.196579 22.464126 \r\nL 77.531715 17.279935 \r\nL 77.86685 17.083636 \r\nL 78.201985 22.718064 \r\nL 78.53712 22.647232 \r\nL 78.872255 25.988238 \r\nL 79.20739 30.961443 \r\nL 79.542525 41.989312 \r\nL 80.212796 50.920297 \r\nL 80.547931 48.636918 \r\nL 80.883066 49.99234 \r\nL 81.218201 48.272697 \r\nL 81.553336 39.589823 \r\nL 81.888471 39.803949 \r\nL 82.223606 42.437015 \r\nL 82.558742 54.841017 \r\nL 82.893877 53.964154 \r\nL 83.229012 52.516029 \r\nL 83.564147 47.699357 \r\nL 84.234417 50.308468 \r\nL 84.569552 54.362331 \r\nL 84.904688 49.055862 \r\nL 85.239823 48.606771 \r\nL 85.574958 46.951107 \r\nL 85.910093 45.873687 \r\nL 86.245228 43.454162 \r\nL 86.580363 52.202871 \r\nL 86.915498 38.294784 \r\nL 87.250633 40.265541 \r\nL 88.256039 26.282735 \r\nL 88.591174 24.676069 \r\nL 89.261444 18.447556 \r\nL 89.931715 24.454578 \r\nL 90.26685 21.320849 \r\nL 90.601985 34.214982 \r\nL 90.93712 26.951757 \r\nL 91.272255 27.722153 \r\nL 91.60739 32.091358 \r\nL 91.942525 33.68192 \r\nL 92.27766 33.005634 \r\nL 92.612796 30.693563 \r\nL 92.947931 37.9063 \r\nL 93.283066 51.048885 \r\nL 93.618201 57.915874 \r\nL 93.953336 52.165071 \r\nL 94.288471 58.678947 \r\nL 94.623606 58.707874 \r\nL 94.958742 62.919312 \r\nL 95.293877 75.649294 \r\nL 95.964147 65.913943 \r\nL 96.634417 62.875836 \r\nL 96.969552 64.589378 \r\nL 97.304688 62.761871 \r\nL 97.639823 74.963798 \r\nL 98.310093 81.913839 \r\nL 98.645228 81.615841 \r\nL 98.980363 84.5802 \r\nL 99.315498 80.355821 \r\nL 99.650633 84.21073 \r\nL 100.320904 96.096232 \r\nL 100.656039 95.523214 \r\nL 100.991174 102.922683 \r\nL 101.326309 103.570533 \r\nL 101.661444 109.908814 \r\nL 101.996579 109.538217 \r\nL 102.331715 105.050249 \r\nL 102.66685 92.864477 \r\nL 103.001985 87.005878 \r\nL 103.33712 90.933404 \r\nL 103.672255 86.381595 \r\nL 104.00739 91.158251 \r\nL 104.342525 98.648866 \r\nL 104.67766 92.511927 \r\nL 105.012796 98.355622 \r\nL 105.347931 84.326752 \r\nL 105.683066 92.735431 \r\nL 106.353336 103.399594 \r\nL 106.688471 107.244006 \r\nL 107.023606 115.193509 \r\nL 107.358742 115.386907 \r\nL 107.693877 115.709882 \r\nL 108.029012 117.042069 \r\nL 108.699282 113.994701 \r\nL 109.034417 115.102495 \r\nL 109.369552 101.28154 \r\nL 109.704687 98.050776 \r\nL 110.039823 96.504629 \r\nL 110.710093 91.64889 \r\nL 111.380363 100.938029 \r\nL 111.715498 100.788312 \r\nL 112.050633 101.226846 \r\nL 112.385769 103.027263 \r\nL 112.720904 102.570161 \r\nL 113.056039 94.374245 \r\nL 113.391174 95.981588 \r\nL 113.726309 94.011854 \r\nL 114.061444 96.211594 \r\nL 114.731715 103.261989 \r\nL 115.06685 105.111784 \r\nL 115.401985 104.04625 \r\nL 115.73712 105.67555 \r\nL 116.072255 102.140722 \r\nL 116.40739 96.278529 \r\nL 116.742525 105.550193 \r\nL 117.07766 106.866429 \r\nL 117.412796 111.156458 \r\nL 117.747931 105.253141 \r\nL 118.083066 106.775741 \r\nL 118.418201 110.324855 \r\nL 118.753336 110.586283 \r\nL 119.088471 110.103212 \r\nL 119.423606 107.937772 \r\nL 119.758742 107.725209 \r\nL 120.093877 117.324524 \r\nL 120.429012 114.507258 \r\nL 120.764147 124.722686 \r\nL 121.099282 125.112073 \r\nL 121.434417 135.903198 \r\nL 121.769552 133.620072 \r\nL 122.104688 138.591902 \r\nL 122.439823 134.682273 \r\nL 122.774958 136.692535 \r\nL 123.110093 134.880976 \r\nL 123.445228 130.391932 \r\nL 123.780363 132.194095 \r\nL 124.115498 125.642075 \r\nL 124.450633 130.069615 \r\nL 124.785769 132.650373 \r\nL 125.120904 131.948414 \r\nL 125.456039 132.361058 \r\nL 125.791174 130.536759 \r\nL 126.126309 129.742745 \r\nL 126.461444 137.150342 \r\nL 126.796579 133.24249 \r\nL 127.131715 131.880376 \r\nL 127.46685 124.213216 \r\nL 127.801985 122.979501 \r\nL 128.13712 116.170984 \r\nL 128.472255 116.7575 \r\nL 128.80739 117.61965 \r\nL 129.47766 127.553138 \r\nL 129.812796 126.463234 \r\nL 130.147931 130.325438 \r\nL 130.483066 131.16332 \r\nL 130.818201 117.790989 \r\nL 131.153336 128.20647 \r\nL 131.488471 128.181215 \r\nL 131.823606 127.595381 \r\nL 132.158742 135.989173 \r\nL 132.493877 140.982827 \r\nL 132.829012 130.736701 \r\nL 133.164147 134.255747 \r\nL 133.499282 132.228127 \r\nL 133.834417 141.364965 \r\nL 134.169552 142.058447 \r\nL 134.504687 136.530384 \r\nL 134.839823 137.692748 \r\nL 135.174958 135.057916 \r\nL 135.510093 135.47639 \r\nL 135.845228 137.353758 \r\nL 136.180363 144.493129 \r\nL 136.515498 143.053539 \r\nL 136.850633 147.835131 \r\nL 137.185769 148.00667 \r\nL 137.520904 153.122611 \r\nL 137.856039 160.897085 \r\nL 138.191174 156.216733 \r\nL 138.526309 156.56282 \r\nL 138.861444 157.364796 \r\nL 139.196579 156.754452 \r\nL 139.531715 152.809473 \r\nL 140.201985 161.561237 \r\nL 140.53712 167.930542 \r\nL 140.872255 169.841534 \r\nL 141.20739 174.469023 \r\nL 141.542525 176.029039 \r\nL 141.87766 180.966377 \r\nL 142.212796 179.950102 \r\nL 142.547931 180.416591 \r\nL 142.883066 179.174995 \r\nL 143.553336 190.546021 \r\nL 143.888471 194.705662 \r\nL 144.223606 191.394199 \r\nL 144.558742 181.160368 \r\nL 144.893877 178.090669 \r\nL 145.564147 186.366834 \r\nL 145.899282 198.311558 \r\nL 146.234417 201.555955 \r\nL 146.569552 201.66025 \r\nL 146.904688 202.70417 \r\nL 147.239823 194.128089 \r\nL 147.574958 193.918456 \r\nL 147.910093 193.369318 \r\nL 148.245228 184.935043 \r\nL 148.580363 183.131612 \r\nL 148.915498 192.404036 \r\nL 149.250633 188.477222 \r\nL 149.585769 187.682239 \r\nL 149.920904 192.127903 \r\nL 150.256039 192.5508 \r\nL 150.591174 186.479229 \r\nL 150.926309 186.937922 \r\nL 151.261444 189.168317 \r\nL 151.596579 189.040856 \r\nL 151.931715 184.672283 \r\nL 152.601985 190.743322 \r\nL 152.93712 191.098507 \r\nL 153.272255 197.036934 \r\nL 153.60739 197.559365 \r\nL 153.942525 211.853932 \r\nL 154.27766 214.756364 \r\nL 154.612796 211.613807 \r\nL 154.947931 205.785173 \r\nL 155.283066 205.25138 \r\nL 155.618201 201.840584 \r\nL 155.953336 192.014888 \r\nL 156.288471 192.467846 \r\nL 156.623606 185.427817 \r\nL 156.958742 193.731891 \r\nL 157.293877 188.149667 \r\nL 157.629012 191.13146 \r\nL 157.964147 191.303055 \r\nL 158.299282 177.688224 \r\nL 158.634417 183.384923 \r\nL 159.304688 197.302975 \r\nL 159.639823 185.742285 \r\nL 159.974958 185.204894 \r\nL 160.310093 177.602496 \r\nL 160.645228 183.901984 \r\nL 160.980363 185.138698 \r\nL 161.315498 181.397665 \r\nL 161.650633 181.227195 \r\nL 161.985769 176.679517 \r\nL 162.320904 174.083108 \r\nL 162.991174 162.141312 \r\nL 163.326309 163.213067 \r\nL 163.661444 158.622482 \r\nL 163.996579 164.789125 \r\nL 164.331715 163.948118 \r\nL 164.66685 159.636158 \r\nL 165.001985 149.009437 \r\nL 165.33712 150.6954 \r\nL 165.672255 153.72517 \r\nL 166.00739 150.807673 \r\nL 166.342525 156.412601 \r\nL 166.67766 154.619746 \r\nL 167.012796 143.746172 \r\nL 167.347931 139.289275 \r\nL 167.683066 132.430142 \r\nL 168.018201 128.902126 \r\nL 168.353336 119.59726 \r\nL 168.688471 116.880276 \r\nL 169.023606 120.461314 \r\nL 169.358742 127.653718 \r\nL 169.693877 128.695177 \r\nL 170.029012 122.657338 \r\nL 170.364147 123.793268 \r\nL 170.699282 122.596653 \r\nL 171.034417 128.186245 \r\nL 171.369552 131.269464 \r\nL 171.704687 126.539648 \r\nL 172.039823 124.493408 \r\nL 172.374958 125.018628 \r\nL 172.710093 119.298925 \r\nL 173.380363 101.981584 \r\nL 174.050633 98.113248 \r\nL 174.385769 94.116626 \r\nL 174.720904 95.081098 \r\nL 175.056039 92.321155 \r\nL 175.391174 106.181229 \r\nL 175.726309 102.253434 \r\nL 176.061444 103.612304 \r\nL 176.396579 108.773229 \r\nL 176.731715 102.752341 \r\nL 177.06685 107.797688 \r\nL 177.401985 105.012553 \r\nL 177.73712 104.579339 \r\nL 178.072255 112.718531 \r\nL 178.40739 113.97496 \r\nL 179.07766 132.823556 \r\nL 179.412796 138.831672 \r\nL 179.747931 139.3032 \r\nL 180.083066 144.288531 \r\nL 180.418201 141.140313 \r\nL 180.753336 150.262047 \r\nL 181.423606 158.475901 \r\nL 181.758742 156.163536 \r\nL 182.429012 161.892256 \r\nL 182.764147 174.639513 \r\nL 183.099282 175.857993 \r\nL 183.434417 177.894739 \r\nL 183.769552 172.265423 \r\nL 184.104688 171.955602 \r\nL 184.439823 166.434185 \r\nL 185.110093 160.396419 \r\nL 185.445228 165.624439 \r\nL 186.115498 145.253919 \r\nL 186.450633 144.372792 \r\nL 186.785769 144.168412 \r\nL 187.120904 154.610557 \r\nL 187.456039 159.754287 \r\nL 187.791174 160.374357 \r\nL 188.126309 158.781583 \r\nL 188.461444 162.859011 \r\nL 188.796579 160.324489 \r\nL 189.46685 141.69758 \r\nL 189.801985 140.316616 \r\nL 190.13712 147.775321 \r\nL 190.472255 145.287112 \r\nL 190.80739 145.924603 \r\nL 191.142525 147.828209 \r\nL 191.47766 149.021134 \r\nL 191.812796 149.636693 \r\nL 192.147931 152.894895 \r\nL 192.483066 152.087767 \r\nL 192.818201 159.181005 \r\nL 193.488471 164.576971 \r\nL 193.823606 162.890528 \r\nL 194.158742 157.18591 \r\nL 194.493877 154.610221 \r\nL 194.829012 162.263635 \r\nL 195.499282 169.137379 \r\nL 195.834417 169.168853 \r\nL 196.169552 176.342043 \r\nL 196.504687 178.806784 \r\nL 196.839823 180.156837 \r\nL 197.174958 180.310379 \r\nL 197.510093 181.421313 \r\nL 197.845228 180.804034 \r\nL 198.180363 183.000552 \r\nL 198.515498 167.788774 \r\nL 198.850633 158.47292 \r\nL 199.185769 157.325255 \r\nL 199.520904 159.627093 \r\nL 199.856039 160.578484 \r\nL 200.191174 160.170539 \r\nL 200.526309 161.23553 \r\nL 200.861444 155.906393 \r\nL 201.196579 158.267467 \r\nL 201.531715 147.486258 \r\nL 201.86685 151.954634 \r\nL 202.201985 148.771774 \r\nL 202.53712 148.202412 \r\nL 202.872255 143.157821 \r\nL 203.20739 144.482183 \r\nL 203.542525 135.84713 \r\nL 203.87766 122.790026 \r\nL 204.212796 120.91736 \r\nL 204.547931 126.190627 \r\nL 204.883066 127.119579 \r\nL 205.218201 122.952933 \r\nL 205.553336 120.26006 \r\nL 205.888471 122.168338 \r\nL 206.223606 126.087451 \r\nL 206.558742 128.530734 \r\nL 206.893877 134.439187 \r\nL 207.229012 128.797163 \r\nL 207.564147 131.333929 \r\nL 207.899282 135.577412 \r\nL 208.234417 146.266561 \r\nL 208.569552 152.631901 \r\nL 208.904688 142.137393 \r\nL 209.239823 143.054459 \r\nL 209.574958 137.460469 \r\nL 209.910093 145.065149 \r\nL 210.245228 143.646447 \r\nL 210.580363 154.507356 \r\nL 210.915498 142.325239 \r\nL 211.250633 137.940049 \r\nL 211.920904 132.420346 \r\nL 212.256039 137.940716 \r\nL 212.591174 136.924644 \r\nL 212.926309 139.056743 \r\nL 213.261444 148.588163 \r\nL 213.596579 149.844736 \r\nL 213.931715 149.89817 \r\nL 214.601985 140.567773 \r\nL 214.93712 131.938997 \r\nL 215.272255 130.182441 \r\nL 215.60739 127.117035 \r\nL 215.942525 127.742849 \r\nL 216.612796 118.324028 \r\nL 216.947931 118.797759 \r\nL 217.283066 120.291071 \r\nL 217.618201 118.655102 \r\nL 217.953336 110.405482 \r\nL 218.288471 107.04344 \r\nL 218.623606 106.146409 \r\nL 219.293877 92.485565 \r\nL 219.629012 92.187702 \r\nL 219.964147 77.385242 \r\nL 220.299282 71.269173 \r\nL 220.634417 70.2466 \r\nL 220.969552 70.253713 \r\nL 221.304688 69.349391 \r\nL 221.639823 70.343191 \r\nL 221.974958 64.589576 \r\nL 222.310093 66.574898 \r\nL 222.645228 55.876553 \r\nL 222.980363 60.935886 \r\nL 223.315498 54.118271 \r\nL 223.650633 49.93707 \r\nL 223.985769 47.57203 \r\nL 224.320904 52.540159 \r\nL 224.656039 61.81086 \r\nL 224.991174 65.177173 \r\nL 225.326309 69.696149 \r\nL 225.661444 77.619339 \r\nL 225.996579 75.016063 \r\nL 226.66685 66.834762 \r\nL 227.001985 67.8209 \r\nL 227.33712 80.060185 \r\nL 227.672255 84.102147 \r\nL 228.00739 78.341248 \r\nL 228.342525 77.576303 \r\nL 228.67766 82.742781 \r\nL 229.012796 80.53406 \r\nL 229.347931 70.365553 \r\nL 229.683066 71.235554 \r\nL 230.018201 83.210513 \r\nL 230.353336 83.710202 \r\nL 230.688471 91.668539 \r\nL 231.023606 95.107297 \r\nL 231.358742 100.680813 \r\nL 232.029012 96.017236 \r\nL 232.699282 110.427284 \r\nL 233.034417 111.907342 \r\nL 233.369552 114.92518 \r\nL 233.704687 114.806405 \r\nL 234.039823 115.803041 \r\nL 234.374958 108.582953 \r\nL 234.710093 120.426808 \r\nL 235.045228 121.197196 \r\nL 235.380363 127.572322 \r\nL 235.715498 127.070633 \r\nL 236.385769 135.504519 \r\nL 236.720904 134.757601 \r\nL 237.056039 136.044677 \r\nL 237.391174 131.947587 \r\nL 237.726309 139.458028 \r\nL 238.061444 139.155298 \r\nL 238.396579 142.515144 \r\nL 238.731715 133.47918 \r\nL 239.06685 130.939087 \r\nL 239.401985 131.987197 \r\nL 239.73712 127.358814 \r\nL 240.40739 110.19215 \r\nL 240.742525 123.683305 \r\nL 241.412796 130.577498 \r\nL 241.747931 128.410661 \r\nL 242.083066 129.66072 \r\nL 242.418201 128.320991 \r\nL 242.753336 131.381298 \r\nL 243.088471 119.33194 \r\nL 243.423606 121.165665 \r\nL 243.758742 114.065078 \r\nL 244.093877 109.355344 \r\nL 244.429012 94.60984 \r\nL 244.764147 94.733184 \r\nL 245.099282 95.270757 \r\nL 245.434417 89.494815 \r\nL 246.104688 86.75431 \r\nL 246.439823 84.103921 \r\nL 246.774958 80.21181 \r\nL 247.110093 81.175154 \r\nL 247.445228 92.556062 \r\nL 247.780363 91.341606 \r\nL 248.115498 88.797504 \r\nL 248.450633 91.182791 \r\nL 248.785769 90.200406 \r\nL 249.456039 93.610351 \r\nL 249.791174 90.232568 \r\nL 250.126309 100.030657 \r\nL 250.461444 95.593483 \r\nL 250.796579 96.660026 \r\nL 251.46685 107.901551 \r\nL 251.801985 103.151589 \r\nL 252.13712 109.481251 \r\nL 252.472255 104.777754 \r\nL 252.80739 101.978966 \r\nL 253.142525 100.256312 \r\nL 253.47766 91.881175 \r\nL 253.812796 90.243125 \r\nL 254.147931 91.829225 \r\nL 254.483066 91.561627 \r\nL 254.818201 93.245264 \r\nL 255.153336 88.257194 \r\nL 255.823606 82.506009 \r\nL 256.158742 90.709851 \r\nL 256.493877 92.011648 \r\nL 256.829012 94.274318 \r\nL 257.164147 89.222116 \r\nL 257.499282 91.883909 \r\nL 257.834417 96.331229 \r\nL 258.504687 115.664788 \r\nL 258.839823 112.414383 \r\nL 259.510093 130.164918 \r\nL 259.845228 141.274638 \r\nL 260.180363 141.828762 \r\nL 260.515498 144.608161 \r\nL 260.850633 146.040654 \r\nL 261.520904 146.177169 \r\nL 261.856039 153.971072 \r\nL 262.191174 153.78792 \r\nL 262.526309 143.997887 \r\nL 263.196579 150.199225 \r\nL 263.531715 160.979423 \r\nL 264.201985 153.36223 \r\nL 264.53712 151.063819 \r\nL 264.872255 157.050254 \r\nL 265.20739 145.030777 \r\nL 265.542525 148.151645 \r\nL 266.547931 116.316359 \r\nL 266.883066 117.737619 \r\nL 267.553336 127.922924 \r\nL 267.888471 127.110112 \r\nL 268.223606 128.171183 \r\nL 268.558742 131.694986 \r\nL 268.893877 129.467819 \r\nL 269.229012 131.159273 \r\nL 269.564147 126.436115 \r\nL 269.899282 132.10817 \r\nL 270.234417 144.147042 \r\nL 270.569552 141.348442 \r\nL 270.904688 131.890881 \r\nL 271.574958 140.025796 \r\nL 271.910093 138.559993 \r\nL 272.245228 133.229858 \r\nL 272.915498 140.703739 \r\nL 273.250633 140.145369 \r\nL 273.585769 138.808722 \r\nL 273.920904 145.831536 \r\nL 274.256039 146.464883 \r\nL 274.926309 133.741176 \r\nL 275.261444 135.053064 \r\nL 275.596579 129.812091 \r\nL 275.931715 130.688544 \r\nL 276.26685 136.956248 \r\nL 276.601985 134.475729 \r\nL 276.93712 127.990559 \r\nL 277.60739 131.661876 \r\nL 277.942525 125.21409 \r\nL 278.27766 130.889245 \r\nL 278.612796 131.902395 \r\nL 278.947931 141.314074 \r\nL 279.283066 142.580319 \r\nL 279.953336 152.564073 \r\nL 280.288471 141.789385 \r\nL 280.623606 139.370178 \r\nL 280.958742 139.693987 \r\nL 281.293877 139.418521 \r\nL 281.629012 128.277554 \r\nL 281.964147 127.693126 \r\nL 282.299282 125.375165 \r\nL 282.634417 135.446391 \r\nL 282.969552 126.087625 \r\nL 283.304688 129.433351 \r\nL 283.639823 139.198746 \r\nL 284.310093 123.914874 \r\nL 284.645228 130.338811 \r\nL 285.315498 121.441059 \r\nL 285.650633 121.964723 \r\nL 285.985769 118.91943 \r\nL 286.320904 117.85949 \r\nL 286.656039 122.288358 \r\nL 286.991174 121.540177 \r\nL 287.326309 128.138029 \r\nL 287.661444 128.09403 \r\nL 287.996579 132.791985 \r\nL 288.331715 130.894958 \r\nL 288.66685 136.920393 \r\nL 289.001985 145.471873 \r\nL 289.33712 138.383913 \r\nL 289.672255 139.089762 \r\nL 290.00739 136.374799 \r\nL 290.342525 139.761129 \r\nL 290.67766 140.640079 \r\nL 291.012796 142.96063 \r\nL 291.347931 140.56871 \r\nL 291.683066 142.383769 \r\nL 292.018201 143.37516 \r\nL 292.353336 139.674735 \r\nL 292.688471 149.538271 \r\nL 293.023606 147.184133 \r\nL 293.358742 146.004995 \r\nL 293.693877 142.527253 \r\nL 294.699282 155.097144 \r\nL 295.034417 148.305292 \r\nL 295.369552 152.225429 \r\nL 295.704687 146.905038 \r\nL 296.374958 150.758631 \r\nL 296.710093 159.847452 \r\nL 297.045228 161.874639 \r\nL 297.380363 166.560376 \r\nL 297.715498 166.256793 \r\nL 298.050633 168.643032 \r\nL 298.385769 168.284772 \r\nL 298.720904 170.871679 \r\nL 299.056039 170.359578 \r\nL 299.391174 168.270634 \r\nL 299.726309 171.972959 \r\nL 300.061444 164.818578 \r\nL 300.396579 168.677369 \r\nL 301.06685 163.133385 \r\nL 301.401985 169.341818 \r\nL 301.73712 170.430991 \r\nL 302.072255 163.931957 \r\nL 302.40739 161.095513 \r\nL 302.742525 167.27341 \r\nL 303.07766 167.552171 \r\nL 303.412796 160.705434 \r\nL 303.747931 158.176075 \r\nL 304.083066 161.51437 \r\nL 304.418201 173.955646 \r\nL 305.088471 165.104014 \r\nL 305.423606 167.971134 \r\nL 305.758742 169.469005 \r\nL 306.093877 167.857964 \r\nL 306.429012 169.70911 \r\nL 306.764147 175.706492 \r\nL 307.099282 183.723552 \r\nL 307.434417 179.587258 \r\nL 307.769552 186.156131 \r\nL 308.104688 180.535101 \r\nL 308.774958 161.41392 \r\nL 309.110093 163.724677 \r\nL 309.445228 156.665078 \r\nL 310.115498 168.18717 \r\nL 310.450633 161.750142 \r\nL 310.785769 159.542318 \r\nL 311.120904 149.432199 \r\nL 311.456039 157.797329 \r\nL 311.791174 169.977218 \r\nL 312.126309 169.501859 \r\nL 312.461444 172.59322 \r\nL 312.796579 169.738824 \r\nL 313.131715 170.419661 \r\nL 313.46685 170.247171 \r\nL 313.801985 169.26979 \r\nL 314.13712 161.849443 \r\nL 314.472255 149.89931 \r\nL 314.80739 150.648359 \r\nL 315.142525 149.954585 \r\nL 315.47766 150.72827 \r\nL 315.812796 156.750009 \r\nL 316.483066 153.60134 \r\nL 316.818201 153.325254 \r\nL 317.153336 148.842472 \r\nL 317.488471 147.654135 \r\nL 317.823606 147.591552 \r\nL 318.158742 149.249118 \r\nL 318.493877 144.609998 \r\nL 318.829012 138.054622 \r\nL 319.164147 135.720494 \r\nL 319.499282 138.826338 \r\nL 319.834417 151.333531 \r\nL 320.169552 152.063278 \r\nL 320.504687 140.866956 \r\nL 320.839823 134.71609 \r\nL 321.174958 141.492718 \r\nL 321.510093 143.830087 \r\nL 321.845228 152.743338 \r\nL 322.180363 156.611191 \r\nL 322.515498 155.465045 \r\nL 322.850633 150.077627 \r\nL 323.520904 150.658565 \r\nL 323.856039 154.412678 \r\nL 324.191174 150.643349 \r\nL 324.526309 149.909052 \r\nL 325.531715 142.106509 \r\nL 326.201985 151.839183 \r\nL 326.53712 152.349388 \r\nL 326.872255 142.549038 \r\nL 327.20739 139.595984 \r\nL 327.542525 135.6018 \r\nL 327.87766 135.605148 \r\nL 328.212796 138.291501 \r\nL 328.547931 145.60361 \r\nL 328.883066 147.128349 \r\nL 329.553336 140.557343 \r\nL 329.888471 142.804451 \r\nL 330.223606 137.584632 \r\nL 330.558742 134.827669 \r\nL 330.893877 134.394574 \r\nL 331.229012 128.220535 \r\nL 331.564147 133.398908 \r\nL 331.899282 141.245577 \r\nL 332.234417 139.969325 \r\nL 332.569552 139.328243 \r\nL 332.904688 145.439382 \r\nL 333.239823 156.707583 \r\nL 333.574958 147.051778 \r\nL 333.910093 150.966806 \r\nL 334.245228 150.671991 \r\nL 334.580363 152.095431 \r\nL 334.915498 148.726159 \r\nL 335.250633 158.975012 \r\nL 335.920904 142.704105 \r\nL 336.256039 149.831605 \r\nL 336.591174 146.720932 \r\nL 336.926309 146.726943 \r\nL 337.261444 153.556492 \r\nL 337.596579 162.727038 \r\nL 337.931715 160.191461 \r\nL 338.26685 152.386894 \r\nL 338.601985 148.116043 \r\nL 338.93712 147.643482 \r\nL 339.272255 145.297899 \r\nL 339.60739 146.853264 \r\nL 339.942525 151.139353 \r\nL 340.27766 151.421119 \r\nL 340.612796 147.676484 \r\nL 340.947931 153.520684 \r\nL 341.283066 143.866578 \r\nL 341.618201 143.586269 \r\nL 341.953336 144.985521 \r\nL 342.288471 144.434705 \r\nL 342.623606 136.830472 \r\nL 342.958742 137.871824 \r\nL 343.293877 137.324046 \r\nL 343.629012 144.334557 \r\nL 343.964147 134.075516 \r\nL 344.969552 144.27972 \r\nL 345.304688 140.151003 \r\nL 345.639823 150.8855 \r\nL 345.974958 149.288199 \r\nL 346.310093 142.062385 \r\nL 346.645228 139.325633 \r\nL 346.980363 134.025648 \r\nL 347.315498 136.815218 \r\nL 347.650633 137.927972 \r\nL 347.985769 135.422989 \r\nL 348.320904 131.921939 \r\nL 348.656039 123.215125 \r\nL 348.991174 127.368175 \r\nL 349.326309 118.089278 \r\nL 349.661444 118.752425 \r\nL 349.996579 116.172391 \r\nL 350.331715 122.775165 \r\nL 350.66685 119.117998 \r\nL 351.001985 123.590175 \r\nL 351.33712 113.1565 \r\nL 351.672255 113.470459 \r\nL 352.00739 109.274642 \r\nL 352.342525 113.96158 \r\nL 352.67766 114.919933 \r\nL 353.012796 115.202967 \r\nL 353.347931 120.546568 \r\nL 353.683066 121.447931 \r\nL 354.018201 121.152394 \r\nL 354.353336 126.612107 \r\nL 354.688471 138.88844 \r\nL 355.693877 153.044871 \r\nL 356.029012 153.517581 \r\nL 356.364147 147.541808 \r\nL 356.699282 149.576388 \r\nL 357.034417 137.945532 \r\nL 357.369552 145.421586 \r\nL 357.704687 145.274378 \r\nL 358.039823 137.849123 \r\nL 358.710093 128.655541 \r\nL 359.045228 128.937839 \r\nL 359.380363 120.456036 \r\nL 359.715498 124.171918 \r\nL 360.385769 116.426173 \r\nL 360.720904 121.141414 \r\nL 361.056039 112.513413 \r\nL 361.726309 129.158043 \r\nL 362.061444 131.766408 \r\nL 362.396579 128.69938 \r\nL 362.731715 139.479868 \r\nL 363.73712 153.31148 \r\nL 364.072255 152.842742 \r\nL 364.742525 162.291572 \r\nL 365.07766 161.067926 \r\nL 365.412796 159.208278 \r\nL 365.747931 161.808282 \r\nL 366.083066 157.412943 \r\nL 366.418201 155.116083 \r\nL 366.753336 148.168625 \r\nL 367.423606 141.495588 \r\nL 367.758742 140.895937 \r\nL 368.093877 145.642655 \r\nL 368.429012 145.716887 \r\nL 369.099282 149.563063 \r\nL 369.434417 145.749387 \r\nL 369.769552 145.582003 \r\nL 370.104688 144.237418 \r\nL 370.104688 144.237418 \r\n\" style=\"fill:none;stroke:#1f77b4;stroke-linecap:square;stroke-width:1.5;\"/>\r\n   </g>\r\n   <g id=\"patch_3\">\r\n    <path d=\"M 35.304688 224.64 \r\nL 35.304688 7.2 \r\n\" style=\"fill:none;stroke:#000000;stroke-linecap:square;stroke-linejoin:miter;stroke-width:0.8;\"/>\r\n   </g>\r\n   <g id=\"patch_4\">\r\n    <path d=\"M 370.104688 224.64 \r\nL 370.104688 7.2 \r\n\" style=\"fill:none;stroke:#000000;stroke-linecap:square;stroke-linejoin:miter;stroke-width:0.8;\"/>\r\n   </g>\r\n   <g id=\"patch_5\">\r\n    <path d=\"M 35.304688 224.64 \r\nL 370.104688 224.64 \r\n\" style=\"fill:none;stroke:#000000;stroke-linecap:square;stroke-linejoin:miter;stroke-width:0.8;\"/>\r\n   </g>\r\n   <g id=\"patch_6\">\r\n    <path d=\"M 35.304688 7.2 \r\nL 370.104688 7.2 \r\n\" style=\"fill:none;stroke:#000000;stroke-linecap:square;stroke-linejoin:miter;stroke-width:0.8;\"/>\r\n   </g>\r\n  </g>\r\n </g>\r\n <defs>\r\n  <clipPath id=\"p65e3dc80c5\">\r\n   <rect height=\"217.44\" width=\"334.8\" x=\"35.304688\" y=\"7.2\"/>\r\n  </clipPath>\r\n </defs>\r\n</svg>\r\n",
      "text/plain": [
       "<Figure size 432x288 with 1 Axes>"
      ]
     },
     "metadata": {
      "needs_background": "light"
     },
     "output_type": "display_data"
    }
   ],
   "source": [
    "ts_cumsum = ts.cumsum()\n",
    "ts_cumsum.plot()"
   ]
  },
  {
   "cell_type": "markdown",
   "metadata": {},
   "source": [
    "If running under Jupyter Notebook, the plot will appear on `plot()`. Otherwise use `matplotlib.pyplot.show` to show it of `matplotlin.pyplot.savefig` to write it into a file."
   ]
  },
  {
   "cell_type": "code",
   "execution_count": 98,
   "metadata": {},
   "outputs": [],
   "source": [
    "plt.show()"
   ]
  },
  {
   "cell_type": "markdown",
   "metadata": {},
   "source": [
    "On a DataFrame, the `plot()` method is a convenience to plot all of the columns with labels."
   ]
  },
  {
   "cell_type": "code",
   "execution_count": 99,
   "metadata": {},
   "outputs": [
    {
     "data": {
      "text/plain": [
       "<matplotlib.legend.Legend at 0x231641a6910>"
      ]
     },
     "execution_count": 99,
     "metadata": {},
     "output_type": "execute_result"
    },
    {
     "data": {
      "text/plain": [
       "<Figure size 432x288 with 0 Axes>"
      ]
     },
     "metadata": {},
     "output_type": "display_data"
    },
    {
     "data": {
      "image/png": "[encoded data removed]",
      "image/svg+xml": "<?xml version=\"1.0\" encoding=\"utf-8\" standalone=\"no\"?>\r\n<!DOCTYPE svg PUBLIC \"-//W3C//DTD SVG 1.1//EN\"\r\n  \"http://www.w3.org/Graphics/SVG/1.1/DTD/svg11.dtd\">\r\n<svg height=\"259.715937pt\" version=\"1.1\" viewBox=\"0 0 377.304688 259.715937\" width=\"377.304688pt\" xmlns=\"http://www.w3.org/2000/svg\" xmlns:xlink=\"http://www.w3.org/1999/xlink\">\r\n <metadata>\r\n  <rdf:RDF xmlns:cc=\"http://creativecommons.org/ns#\" xmlns:dc=\"http://purl.org/dc/elements/1.1/\" xmlns:rdf=\"http://www.w3.org/1999/02/22-rdf-syntax-ns#\">\r\n   <cc:Work>\r\n    <dc:type rdf:resource=\"http://purl.org/dc/dcmitype/StillImage\"/>\r\n    <dc:date>2022-03-20T16:00:12.097322</dc:date>\r\n    <dc:format>image/svg+xml</dc:format>\r\n    <dc:creator>\r\n     <cc:Agent>\r\n      <dc:title>Matplotlib v3.4.3, https://matplotlib.org/</dc:title>\r\n     </cc:Agent>\r\n    </dc:creator>\r\n   </cc:Work>\r\n  </rdf:RDF>\r\n </metadata>\r\n <defs>\r\n  <style type=\"text/css\">*{stroke-linecap:butt;stroke-linejoin:round;}</style>\r\n </defs>\r\n <g id=\"figure_1\">\r\n  <g id=\"patch_1\">\r\n   <path d=\"M 0 259.715937 \r\nL 377.304688 259.715937 \r\nL 377.304688 0 \r\nL 0 0 \r\nz\r\n\" style=\"fill:none;\"/>\r\n  </g>\r\n  <g id=\"axes_1\">\r\n   <g id=\"patch_2\">\r\n    <path d=\"M 35.304688 224.64 \r\nL 370.104688 224.64 \r\nL 370.104688 7.2 \r\nL 35.304688 7.2 \r\nz\r\n\" style=\"fill:#ffffff;\"/>\r\n   </g>\r\n   <g id=\"matplotlib.axis_1\">\r\n    <g id=\"xtick_1\">\r\n     <g id=\"line2d_1\">\r\n      <defs>\r\n       <path d=\"M 0 0 \r\nL 0 3.5 \r\n\" id=\"m531cd6d059\" style=\"stroke:#000000;stroke-width:0.8;\"/>\r\n      </defs>\r\n      <g>\r\n       <use style=\"stroke:#000000;stroke-width:0.8;\" x=\"35.304688\" xlink:href=\"#m531cd6d059\" y=\"224.64\"/>\r\n      </g>\r\n     </g>\r\n     <g id=\"text_1\">\r\n      <!-- Jan -->\r\n      <g transform=\"translate(27.596875 239.238438)scale(0.1 -0.1)\">\r\n       <defs>\r\n        <path d=\"M 628 4666 \r\nL 1259 4666 \r\nL 1259 325 \r\nQ 1259 -519 939 -900 \r\nQ 619 -1281 -91 -1281 \r\nL -331 -1281 \r\nL -331 -750 \r\nL -134 -750 \r\nQ 284 -750 456 -515 \r\nQ 628 -281 628 325 \r\nL 628 4666 \r\nz\r\n\" id=\"DejaVuSans-4a\" transform=\"scale(0.015625)\"/>\r\n        <path d=\"M 2194 1759 \r\nQ 1497 1759 1228 1600 \r\nQ 959 1441 959 1056 \r\nQ 959 750 1161 570 \r\nQ 1363 391 1709 391 \r\nQ 2188 391 2477 730 \r\nQ 2766 1069 2766 1631 \r\nL 2766 1759 \r\nL 2194 1759 \r\nz\r\nM 3341 1997 \r\nL 3341 0 \r\nL 2766 0 \r\nL 2766 531 \r\nQ 2569 213 2275 61 \r\nQ 1981 -91 1556 -91 \r\nQ 1019 -91 701 211 \r\nQ 384 513 384 1019 \r\nQ 384 1609 779 1909 \r\nQ 1175 2209 1959 2209 \r\nL 2766 2209 \r\nL 2766 2266 \r\nQ 2766 2663 2505 2880 \r\nQ 2244 3097 1772 3097 \r\nQ 1472 3097 1187 3025 \r\nQ 903 2953 641 2809 \r\nL 641 3341 \r\nQ 956 3463 1253 3523 \r\nQ 1550 3584 1831 3584 \r\nQ 2591 3584 2966 3190 \r\nQ 3341 2797 3341 1997 \r\nz\r\n\" id=\"DejaVuSans-61\" transform=\"scale(0.015625)\"/>\r\n        <path d=\"M 3513 2113 \r\nL 3513 0 \r\nL 2938 0 \r\nL 2938 2094 \r\nQ 2938 2591 2744 2837 \r\nQ 2550 3084 2163 3084 \r\nQ 1697 3084 1428 2787 \r\nQ 1159 2491 1159 1978 \r\nL 1159 0 \r\nL 581 0 \r\nL 581 3500 \r\nL 1159 3500 \r\nL 1159 2956 \r\nQ 1366 3272 1645 3428 \r\nQ 1925 3584 2291 3584 \r\nQ 2894 3584 3203 3211 \r\nQ 3513 2838 3513 2113 \r\nz\r\n\" id=\"DejaVuSans-6e\" transform=\"scale(0.015625)\"/>\r\n       </defs>\r\n       <use xlink:href=\"#DejaVuSans-4a\"/>\r\n       <use x=\"29.492188\" xlink:href=\"#DejaVuSans-61\"/>\r\n       <use x=\"90.771484\" xlink:href=\"#DejaVuSans-6e\"/>\r\n      </g>\r\n      <!-- 2022 -->\r\n      <g transform=\"translate(22.579687 250.43625)scale(0.1 -0.1)\">\r\n       <defs>\r\n        <path d=\"M 1228 531 \r\nL 3431 531 \r\nL 3431 0 \r\nL 469 0 \r\nL 469 531 \r\nQ 828 903 1448 1529 \r\nQ 2069 2156 2228 2338 \r\nQ 2531 2678 2651 2914 \r\nQ 2772 3150 2772 3378 \r\nQ 2772 3750 2511 3984 \r\nQ 2250 4219 1831 4219 \r\nQ 1534 4219 1204 4116 \r\nQ 875 4013 500 3803 \r\nL 500 4441 \r\nQ 881 4594 1212 4672 \r\nQ 1544 4750 1819 4750 \r\nQ 2544 4750 2975 4387 \r\nQ 3406 4025 3406 3419 \r\nQ 3406 3131 3298 2873 \r\nQ 3191 2616 2906 2266 \r\nQ 2828 2175 2409 1742 \r\nQ 1991 1309 1228 531 \r\nz\r\n\" id=\"DejaVuSans-32\" transform=\"scale(0.015625)\"/>\r\n        <path d=\"M 2034 4250 \r\nQ 1547 4250 1301 3770 \r\nQ 1056 3291 1056 2328 \r\nQ 1056 1369 1301 889 \r\nQ 1547 409 2034 409 \r\nQ 2525 409 2770 889 \r\nQ 3016 1369 3016 2328 \r\nQ 3016 3291 2770 3770 \r\nQ 2525 4250 2034 4250 \r\nz\r\nM 2034 4750 \r\nQ 2819 4750 3233 4129 \r\nQ 3647 3509 3647 2328 \r\nQ 3647 1150 3233 529 \r\nQ 2819 -91 2034 -91 \r\nQ 1250 -91 836 529 \r\nQ 422 1150 422 2328 \r\nQ 422 3509 836 4129 \r\nQ 1250 4750 2034 4750 \r\nz\r\n\" id=\"DejaVuSans-30\" transform=\"scale(0.015625)\"/>\r\n       </defs>\r\n       <use xlink:href=\"#DejaVuSans-32\"/>\r\n       <use x=\"63.623047\" xlink:href=\"#DejaVuSans-30\"/>\r\n       <use x=\"127.246094\" xlink:href=\"#DejaVuSans-32\"/>\r\n       <use x=\"190.869141\" xlink:href=\"#DejaVuSans-32\"/>\r\n      </g>\r\n     </g>\r\n    </g>\r\n    <g id=\"xtick_2\">\r\n     <g id=\"line2d_2\">\r\n      <g>\r\n       <use style=\"stroke:#000000;stroke-width:0.8;\" x=\"157.629012\" xlink:href=\"#m531cd6d059\" y=\"224.64\"/>\r\n      </g>\r\n     </g>\r\n     <g id=\"text_2\">\r\n      <!-- Jan -->\r\n      <g transform=\"translate(149.921199 239.238438)scale(0.1 -0.1)\">\r\n       <use xlink:href=\"#DejaVuSans-4a\"/>\r\n       <use x=\"29.492188\" xlink:href=\"#DejaVuSans-61\"/>\r\n       <use x=\"90.771484\" xlink:href=\"#DejaVuSans-6e\"/>\r\n      </g>\r\n      <!-- 2023 -->\r\n      <g transform=\"translate(144.904012 250.43625)scale(0.1 -0.1)\">\r\n       <defs>\r\n        <path d=\"M 2597 2516 \r\nQ 3050 2419 3304 2112 \r\nQ 3559 1806 3559 1356 \r\nQ 3559 666 3084 287 \r\nQ 2609 -91 1734 -91 \r\nQ 1441 -91 1130 -33 \r\nQ 819 25 488 141 \r\nL 488 750 \r\nQ 750 597 1062 519 \r\nQ 1375 441 1716 441 \r\nQ 2309 441 2620 675 \r\nQ 2931 909 2931 1356 \r\nQ 2931 1769 2642 2001 \r\nQ 2353 2234 1838 2234 \r\nL 1294 2234 \r\nL 1294 2753 \r\nL 1863 2753 \r\nQ 2328 2753 2575 2939 \r\nQ 2822 3125 2822 3475 \r\nQ 2822 3834 2567 4026 \r\nQ 2313 4219 1838 4219 \r\nQ 1578 4219 1281 4162 \r\nQ 984 4106 628 3988 \r\nL 628 4550 \r\nQ 988 4650 1302 4700 \r\nQ 1616 4750 1894 4750 \r\nQ 2613 4750 3031 4423 \r\nQ 3450 4097 3450 3541 \r\nQ 3450 3153 3228 2886 \r\nQ 3006 2619 2597 2516 \r\nz\r\n\" id=\"DejaVuSans-33\" transform=\"scale(0.015625)\"/>\r\n       </defs>\r\n       <use xlink:href=\"#DejaVuSans-32\"/>\r\n       <use x=\"63.623047\" xlink:href=\"#DejaVuSans-30\"/>\r\n       <use x=\"127.246094\" xlink:href=\"#DejaVuSans-32\"/>\r\n       <use x=\"190.869141\" xlink:href=\"#DejaVuSans-33\"/>\r\n      </g>\r\n     </g>\r\n    </g>\r\n    <g id=\"xtick_3\">\r\n     <g id=\"line2d_3\">\r\n      <g>\r\n       <use style=\"stroke:#000000;stroke-width:0.8;\" x=\"279.953336\" xlink:href=\"#m531cd6d059\" y=\"224.64\"/>\r\n      </g>\r\n     </g>\r\n     <g id=\"text_3\">\r\n      <!-- Jan -->\r\n      <g transform=\"translate(272.245524 239.238438)scale(0.1 -0.1)\">\r\n       <use xlink:href=\"#DejaVuSans-4a\"/>\r\n       <use x=\"29.492188\" xlink:href=\"#DejaVuSans-61\"/>\r\n       <use x=\"90.771484\" xlink:href=\"#DejaVuSans-6e\"/>\r\n      </g>\r\n      <!-- 2024 -->\r\n      <g transform=\"translate(267.228336 250.43625)scale(0.1 -0.1)\">\r\n       <defs>\r\n        <path d=\"M 2419 4116 \r\nL 825 1625 \r\nL 2419 1625 \r\nL 2419 4116 \r\nz\r\nM 2253 4666 \r\nL 3047 4666 \r\nL 3047 1625 \r\nL 3713 1625 \r\nL 3713 1100 \r\nL 3047 1100 \r\nL 3047 0 \r\nL 2419 0 \r\nL 2419 1100 \r\nL 313 1100 \r\nL 313 1709 \r\nL 2253 4666 \r\nz\r\n\" id=\"DejaVuSans-34\" transform=\"scale(0.015625)\"/>\r\n       </defs>\r\n       <use xlink:href=\"#DejaVuSans-32\"/>\r\n       <use x=\"63.623047\" xlink:href=\"#DejaVuSans-30\"/>\r\n       <use x=\"127.246094\" xlink:href=\"#DejaVuSans-32\"/>\r\n       <use x=\"190.869141\" xlink:href=\"#DejaVuSans-34\"/>\r\n      </g>\r\n     </g>\r\n    </g>\r\n    <g id=\"xtick_4\">\r\n     <g id=\"line2d_4\">\r\n      <g>\r\n       <use style=\"stroke:#000000;stroke-width:0.8;\" x=\"370.104688\" xlink:href=\"#m531cd6d059\" y=\"224.64\"/>\r\n      </g>\r\n     </g>\r\n    </g>\r\n    <g id=\"xtick_5\">\r\n     <g id=\"line2d_5\">\r\n      <defs>\r\n       <path d=\"M 0 0 \r\nL 0 2 \r\n\" id=\"m3313b46dff\" style=\"stroke:#000000;stroke-width:0.6;\"/>\r\n      </defs>\r\n      <g>\r\n       <use style=\"stroke:#000000;stroke-width:0.6;\" x=\"45.693877\" xlink:href=\"#m3313b46dff\" y=\"224.64\"/>\r\n      </g>\r\n     </g>\r\n    </g>\r\n    <g id=\"xtick_6\">\r\n     <g id=\"line2d_6\">\r\n      <g>\r\n       <use style=\"stroke:#000000;stroke-width:0.6;\" x=\"55.07766\" xlink:href=\"#m3313b46dff\" y=\"224.64\"/>\r\n      </g>\r\n     </g>\r\n    </g>\r\n    <g id=\"xtick_7\">\r\n     <g id=\"line2d_7\">\r\n      <g>\r\n       <use style=\"stroke:#000000;stroke-width:0.6;\" x=\"65.46685\" xlink:href=\"#m3313b46dff\" y=\"224.64\"/>\r\n      </g>\r\n     </g>\r\n    </g>\r\n    <g id=\"xtick_8\">\r\n     <g id=\"line2d_8\">\r\n      <g>\r\n       <use style=\"stroke:#000000;stroke-width:0.6;\" x=\"75.520904\" xlink:href=\"#m3313b46dff\" y=\"224.64\"/>\r\n      </g>\r\n     </g>\r\n    </g>\r\n    <g id=\"xtick_9\">\r\n     <g id=\"line2d_9\">\r\n      <g>\r\n       <use style=\"stroke:#000000;stroke-width:0.6;\" x=\"85.910093\" xlink:href=\"#m3313b46dff\" y=\"224.64\"/>\r\n      </g>\r\n     </g>\r\n    </g>\r\n    <g id=\"xtick_10\">\r\n     <g id=\"line2d_10\">\r\n      <g>\r\n       <use style=\"stroke:#000000;stroke-width:0.6;\" x=\"95.964147\" xlink:href=\"#m3313b46dff\" y=\"224.64\"/>\r\n      </g>\r\n     </g>\r\n     <g id=\"text_4\">\r\n      <!-- Jul -->\r\n      <g transform=\"translate(89.931334 237.638438)scale(0.1 -0.1)\">\r\n       <defs>\r\n        <path d=\"M 544 1381 \r\nL 544 3500 \r\nL 1119 3500 \r\nL 1119 1403 \r\nQ 1119 906 1312 657 \r\nQ 1506 409 1894 409 \r\nQ 2359 409 2629 706 \r\nQ 2900 1003 2900 1516 \r\nL 2900 3500 \r\nL 3475 3500 \r\nL 3475 0 \r\nL 2900 0 \r\nL 2900 538 \r\nQ 2691 219 2414 64 \r\nQ 2138 -91 1772 -91 \r\nQ 1169 -91 856 284 \r\nQ 544 659 544 1381 \r\nz\r\nM 1991 3584 \r\nL 1991 3584 \r\nz\r\n\" id=\"DejaVuSans-75\" transform=\"scale(0.015625)\"/>\r\n        <path d=\"M 603 4863 \r\nL 1178 4863 \r\nL 1178 0 \r\nL 603 0 \r\nL 603 4863 \r\nz\r\n\" id=\"DejaVuSans-6c\" transform=\"scale(0.015625)\"/>\r\n       </defs>\r\n       <use xlink:href=\"#DejaVuSans-4a\"/>\r\n       <use x=\"29.492188\" xlink:href=\"#DejaVuSans-75\"/>\r\n       <use x=\"92.871094\" xlink:href=\"#DejaVuSans-6c\"/>\r\n      </g>\r\n     </g>\r\n    </g>\r\n    <g id=\"xtick_11\">\r\n     <g id=\"line2d_11\">\r\n      <g>\r\n       <use style=\"stroke:#000000;stroke-width:0.6;\" x=\"106.353336\" xlink:href=\"#m3313b46dff\" y=\"224.64\"/>\r\n      </g>\r\n     </g>\r\n    </g>\r\n    <g id=\"xtick_12\">\r\n     <g id=\"line2d_12\">\r\n      <g>\r\n       <use style=\"stroke:#000000;stroke-width:0.6;\" x=\"116.742525\" xlink:href=\"#m3313b46dff\" y=\"224.64\"/>\r\n      </g>\r\n     </g>\r\n    </g>\r\n    <g id=\"xtick_13\">\r\n     <g id=\"line2d_13\">\r\n      <g>\r\n       <use style=\"stroke:#000000;stroke-width:0.6;\" x=\"126.796579\" xlink:href=\"#m3313b46dff\" y=\"224.64\"/>\r\n      </g>\r\n     </g>\r\n    </g>\r\n    <g id=\"xtick_14\">\r\n     <g id=\"line2d_14\">\r\n      <g>\r\n       <use style=\"stroke:#000000;stroke-width:0.6;\" x=\"137.185769\" xlink:href=\"#m3313b46dff\" y=\"224.64\"/>\r\n      </g>\r\n     </g>\r\n    </g>\r\n    <g id=\"xtick_15\">\r\n     <g id=\"line2d_15\">\r\n      <g>\r\n       <use style=\"stroke:#000000;stroke-width:0.6;\" x=\"147.239823\" xlink:href=\"#m3313b46dff\" y=\"224.64\"/>\r\n      </g>\r\n     </g>\r\n    </g>\r\n    <g id=\"xtick_16\">\r\n     <g id=\"line2d_16\">\r\n      <g>\r\n       <use style=\"stroke:#000000;stroke-width:0.6;\" x=\"168.018201\" xlink:href=\"#m3313b46dff\" y=\"224.64\"/>\r\n      </g>\r\n     </g>\r\n    </g>\r\n    <g id=\"xtick_17\">\r\n     <g id=\"line2d_17\">\r\n      <g>\r\n       <use style=\"stroke:#000000;stroke-width:0.6;\" x=\"177.401985\" xlink:href=\"#m3313b46dff\" y=\"224.64\"/>\r\n      </g>\r\n     </g>\r\n    </g>\r\n    <g id=\"xtick_18\">\r\n     <g id=\"line2d_18\">\r\n      <g>\r\n       <use style=\"stroke:#000000;stroke-width:0.6;\" x=\"187.791174\" xlink:href=\"#m3313b46dff\" y=\"224.64\"/>\r\n      </g>\r\n     </g>\r\n    </g>\r\n    <g id=\"xtick_19\">\r\n     <g id=\"line2d_19\">\r\n      <g>\r\n       <use style=\"stroke:#000000;stroke-width:0.6;\" x=\"197.845228\" xlink:href=\"#m3313b46dff\" y=\"224.64\"/>\r\n      </g>\r\n     </g>\r\n    </g>\r\n    <g id=\"xtick_20\">\r\n     <g id=\"line2d_20\">\r\n      <g>\r\n       <use style=\"stroke:#000000;stroke-width:0.6;\" x=\"208.234417\" xlink:href=\"#m3313b46dff\" y=\"224.64\"/>\r\n      </g>\r\n     </g>\r\n    </g>\r\n    <g id=\"xtick_21\">\r\n     <g id=\"line2d_21\">\r\n      <g>\r\n       <use style=\"stroke:#000000;stroke-width:0.6;\" x=\"218.288471\" xlink:href=\"#m3313b46dff\" y=\"224.64\"/>\r\n      </g>\r\n     </g>\r\n     <g id=\"text_5\">\r\n      <!-- Jul -->\r\n      <g transform=\"translate(212.255659 237.638438)scale(0.1 -0.1)\">\r\n       <use xlink:href=\"#DejaVuSans-4a\"/>\r\n       <use x=\"29.492188\" xlink:href=\"#DejaVuSans-75\"/>\r\n       <use x=\"92.871094\" xlink:href=\"#DejaVuSans-6c\"/>\r\n      </g>\r\n     </g>\r\n    </g>\r\n    <g id=\"xtick_22\">\r\n     <g id=\"line2d_22\">\r\n      <g>\r\n       <use style=\"stroke:#000000;stroke-width:0.6;\" x=\"228.67766\" xlink:href=\"#m3313b46dff\" y=\"224.64\"/>\r\n      </g>\r\n     </g>\r\n    </g>\r\n    <g id=\"xtick_23\">\r\n     <g id=\"line2d_23\">\r\n      <g>\r\n       <use style=\"stroke:#000000;stroke-width:0.6;\" x=\"239.06685\" xlink:href=\"#m3313b46dff\" y=\"224.64\"/>\r\n      </g>\r\n     </g>\r\n    </g>\r\n    <g id=\"xtick_24\">\r\n     <g id=\"line2d_24\">\r\n      <g>\r\n       <use style=\"stroke:#000000;stroke-width:0.6;\" x=\"249.120904\" xlink:href=\"#m3313b46dff\" y=\"224.64\"/>\r\n      </g>\r\n     </g>\r\n    </g>\r\n    <g id=\"xtick_25\">\r\n     <g id=\"line2d_25\">\r\n      <g>\r\n       <use style=\"stroke:#000000;stroke-width:0.6;\" x=\"259.510093\" xlink:href=\"#m3313b46dff\" y=\"224.64\"/>\r\n      </g>\r\n     </g>\r\n    </g>\r\n    <g id=\"xtick_26\">\r\n     <g id=\"line2d_26\">\r\n      <g>\r\n       <use style=\"stroke:#000000;stroke-width:0.6;\" x=\"269.564147\" xlink:href=\"#m3313b46dff\" y=\"224.64\"/>\r\n      </g>\r\n     </g>\r\n    </g>\r\n    <g id=\"xtick_27\">\r\n     <g id=\"line2d_27\">\r\n      <g>\r\n       <use style=\"stroke:#000000;stroke-width:0.6;\" x=\"290.342525\" xlink:href=\"#m3313b46dff\" y=\"224.64\"/>\r\n      </g>\r\n     </g>\r\n    </g>\r\n    <g id=\"xtick_28\">\r\n     <g id=\"line2d_28\">\r\n      <g>\r\n       <use style=\"stroke:#000000;stroke-width:0.6;\" x=\"300.061444\" xlink:href=\"#m3313b46dff\" y=\"224.64\"/>\r\n      </g>\r\n     </g>\r\n    </g>\r\n    <g id=\"xtick_29\">\r\n     <g id=\"line2d_29\">\r\n      <g>\r\n       <use style=\"stroke:#000000;stroke-width:0.6;\" x=\"310.450633\" xlink:href=\"#m3313b46dff\" y=\"224.64\"/>\r\n      </g>\r\n     </g>\r\n    </g>\r\n    <g id=\"xtick_30\">\r\n     <g id=\"line2d_30\">\r\n      <g>\r\n       <use style=\"stroke:#000000;stroke-width:0.6;\" x=\"320.504687\" xlink:href=\"#m3313b46dff\" y=\"224.64\"/>\r\n      </g>\r\n     </g>\r\n    </g>\r\n    <g id=\"xtick_31\">\r\n     <g id=\"line2d_31\">\r\n      <g>\r\n       <use style=\"stroke:#000000;stroke-width:0.6;\" x=\"330.893877\" xlink:href=\"#m3313b46dff\" y=\"224.64\"/>\r\n      </g>\r\n     </g>\r\n    </g>\r\n    <g id=\"xtick_32\">\r\n     <g id=\"line2d_32\">\r\n      <g>\r\n       <use style=\"stroke:#000000;stroke-width:0.6;\" x=\"340.947931\" xlink:href=\"#m3313b46dff\" y=\"224.64\"/>\r\n      </g>\r\n     </g>\r\n     <g id=\"text_6\">\r\n      <!-- Jul -->\r\n      <g transform=\"translate(334.915118 237.638438)scale(0.1 -0.1)\">\r\n       <use xlink:href=\"#DejaVuSans-4a\"/>\r\n       <use x=\"29.492188\" xlink:href=\"#DejaVuSans-75\"/>\r\n       <use x=\"92.871094\" xlink:href=\"#DejaVuSans-6c\"/>\r\n      </g>\r\n     </g>\r\n    </g>\r\n    <g id=\"xtick_33\">\r\n     <g id=\"line2d_33\">\r\n      <g>\r\n       <use style=\"stroke:#000000;stroke-width:0.6;\" x=\"351.33712\" xlink:href=\"#m3313b46dff\" y=\"224.64\"/>\r\n      </g>\r\n     </g>\r\n    </g>\r\n    <g id=\"xtick_34\">\r\n     <g id=\"line2d_34\">\r\n      <g>\r\n       <use style=\"stroke:#000000;stroke-width:0.6;\" x=\"361.726309\" xlink:href=\"#m3313b46dff\" y=\"224.64\"/>\r\n      </g>\r\n     </g>\r\n    </g>\r\n   </g>\r\n   <g id=\"matplotlib.axis_2\">\r\n    <g id=\"ytick_1\">\r\n     <g id=\"line2d_35\">\r\n      <defs>\r\n       <path d=\"M 0 0 \r\nL -3.5 0 \r\n\" id=\"me558e5f05c\" style=\"stroke:#000000;stroke-width:0.8;\"/>\r\n      </defs>\r\n      <g>\r\n       <use style=\"stroke:#000000;stroke-width:0.8;\" x=\"35.304688\" xlink:href=\"#me558e5f05c\" y=\"195.205404\"/>\r\n      </g>\r\n     </g>\r\n     <g id=\"text_7\">\r\n      <!-- −80 -->\r\n      <g transform=\"translate(7.2 199.004623)scale(0.1 -0.1)\">\r\n       <defs>\r\n        <path d=\"M 678 2272 \r\nL 4684 2272 \r\nL 4684 1741 \r\nL 678 1741 \r\nL 678 2272 \r\nz\r\n\" id=\"DejaVuSans-2212\" transform=\"scale(0.015625)\"/>\r\n        <path d=\"M 2034 2216 \r\nQ 1584 2216 1326 1975 \r\nQ 1069 1734 1069 1313 \r\nQ 1069 891 1326 650 \r\nQ 1584 409 2034 409 \r\nQ 2484 409 2743 651 \r\nQ 3003 894 3003 1313 \r\nQ 3003 1734 2745 1975 \r\nQ 2488 2216 2034 2216 \r\nz\r\nM 1403 2484 \r\nQ 997 2584 770 2862 \r\nQ 544 3141 544 3541 \r\nQ 544 4100 942 4425 \r\nQ 1341 4750 2034 4750 \r\nQ 2731 4750 3128 4425 \r\nQ 3525 4100 3525 3541 \r\nQ 3525 3141 3298 2862 \r\nQ 3072 2584 2669 2484 \r\nQ 3125 2378 3379 2068 \r\nQ 3634 1759 3634 1313 \r\nQ 3634 634 3220 271 \r\nQ 2806 -91 2034 -91 \r\nQ 1263 -91 848 271 \r\nQ 434 634 434 1313 \r\nQ 434 1759 690 2068 \r\nQ 947 2378 1403 2484 \r\nz\r\nM 1172 3481 \r\nQ 1172 3119 1398 2916 \r\nQ 1625 2713 2034 2713 \r\nQ 2441 2713 2670 2916 \r\nQ 2900 3119 2900 3481 \r\nQ 2900 3844 2670 4047 \r\nQ 2441 4250 2034 4250 \r\nQ 1625 4250 1398 4047 \r\nQ 1172 3844 1172 3481 \r\nz\r\n\" id=\"DejaVuSans-38\" transform=\"scale(0.015625)\"/>\r\n       </defs>\r\n       <use xlink:href=\"#DejaVuSans-2212\"/>\r\n       <use x=\"83.789062\" xlink:href=\"#DejaVuSans-38\"/>\r\n       <use x=\"147.412109\" xlink:href=\"#DejaVuSans-30\"/>\r\n      </g>\r\n     </g>\r\n    </g>\r\n    <g id=\"ytick_2\">\r\n     <g id=\"line2d_36\">\r\n      <g>\r\n       <use style=\"stroke:#000000;stroke-width:0.8;\" x=\"35.304688\" xlink:href=\"#me558e5f05c\" y=\"158.88093\"/>\r\n      </g>\r\n     </g>\r\n     <g id=\"text_8\">\r\n      <!-- −60 -->\r\n      <g transform=\"translate(7.2 162.680149)scale(0.1 -0.1)\">\r\n       <defs>\r\n        <path d=\"M 2113 2584 \r\nQ 1688 2584 1439 2293 \r\nQ 1191 2003 1191 1497 \r\nQ 1191 994 1439 701 \r\nQ 1688 409 2113 409 \r\nQ 2538 409 2786 701 \r\nQ 3034 994 3034 1497 \r\nQ 3034 2003 2786 2293 \r\nQ 2538 2584 2113 2584 \r\nz\r\nM 3366 4563 \r\nL 3366 3988 \r\nQ 3128 4100 2886 4159 \r\nQ 2644 4219 2406 4219 \r\nQ 1781 4219 1451 3797 \r\nQ 1122 3375 1075 2522 \r\nQ 1259 2794 1537 2939 \r\nQ 1816 3084 2150 3084 \r\nQ 2853 3084 3261 2657 \r\nQ 3669 2231 3669 1497 \r\nQ 3669 778 3244 343 \r\nQ 2819 -91 2113 -91 \r\nQ 1303 -91 875 529 \r\nQ 447 1150 447 2328 \r\nQ 447 3434 972 4092 \r\nQ 1497 4750 2381 4750 \r\nQ 2619 4750 2861 4703 \r\nQ 3103 4656 3366 4563 \r\nz\r\n\" id=\"DejaVuSans-36\" transform=\"scale(0.015625)\"/>\r\n       </defs>\r\n       <use xlink:href=\"#DejaVuSans-2212\"/>\r\n       <use x=\"83.789062\" xlink:href=\"#DejaVuSans-36\"/>\r\n       <use x=\"147.412109\" xlink:href=\"#DejaVuSans-30\"/>\r\n      </g>\r\n     </g>\r\n    </g>\r\n    <g id=\"ytick_3\">\r\n     <g id=\"line2d_37\">\r\n      <g>\r\n       <use style=\"stroke:#000000;stroke-width:0.8;\" x=\"35.304688\" xlink:href=\"#me558e5f05c\" y=\"122.556457\"/>\r\n      </g>\r\n     </g>\r\n     <g id=\"text_9\">\r\n      <!-- −40 -->\r\n      <g transform=\"translate(7.2 126.355675)scale(0.1 -0.1)\">\r\n       <use xlink:href=\"#DejaVuSans-2212\"/>\r\n       <use x=\"83.789062\" xlink:href=\"#DejaVuSans-34\"/>\r\n       <use x=\"147.412109\" xlink:href=\"#DejaVuSans-30\"/>\r\n      </g>\r\n     </g>\r\n    </g>\r\n    <g id=\"ytick_4\">\r\n     <g id=\"line2d_38\">\r\n      <g>\r\n       <use style=\"stroke:#000000;stroke-width:0.8;\" x=\"35.304688\" xlink:href=\"#me558e5f05c\" y=\"86.231983\"/>\r\n      </g>\r\n     </g>\r\n     <g id=\"text_10\">\r\n      <!-- −20 -->\r\n      <g transform=\"translate(7.2 90.031201)scale(0.1 -0.1)\">\r\n       <use xlink:href=\"#DejaVuSans-2212\"/>\r\n       <use x=\"83.789062\" xlink:href=\"#DejaVuSans-32\"/>\r\n       <use x=\"147.412109\" xlink:href=\"#DejaVuSans-30\"/>\r\n      </g>\r\n     </g>\r\n    </g>\r\n    <g id=\"ytick_5\">\r\n     <g id=\"line2d_39\">\r\n      <g>\r\n       <use style=\"stroke:#000000;stroke-width:0.8;\" x=\"35.304688\" xlink:href=\"#me558e5f05c\" y=\"49.907509\"/>\r\n      </g>\r\n     </g>\r\n     <g id=\"text_11\">\r\n      <!-- 0 -->\r\n      <g transform=\"translate(21.942188 53.706727)scale(0.1 -0.1)\">\r\n       <use xlink:href=\"#DejaVuSans-30\"/>\r\n      </g>\r\n     </g>\r\n    </g>\r\n    <g id=\"ytick_6\">\r\n     <g id=\"line2d_40\">\r\n      <g>\r\n       <use style=\"stroke:#000000;stroke-width:0.8;\" x=\"35.304688\" xlink:href=\"#me558e5f05c\" y=\"13.583035\"/>\r\n      </g>\r\n     </g>\r\n     <g id=\"text_12\">\r\n      <!-- 20 -->\r\n      <g transform=\"translate(15.579688 17.382253)scale(0.1 -0.1)\">\r\n       <use xlink:href=\"#DejaVuSans-32\"/>\r\n       <use x=\"63.623047\" xlink:href=\"#DejaVuSans-30\"/>\r\n      </g>\r\n     </g>\r\n    </g>\r\n   </g>\r\n   <g id=\"line2d_41\">\r\n    <path clip-path=\"url(#pd2703c3700)\" d=\"M 35.304688 47.205088 \r\nL 35.639823 44.727389 \r\nL 35.974958 45.885385 \r\nL 36.310093 45.110958 \r\nL 36.645228 48.64268 \r\nL 37.315498 51.132628 \r\nL 37.650633 48.411484 \r\nL 37.985769 48.784926 \r\nL 38.320904 47.702509 \r\nL 38.656039 48.367784 \r\nL 39.326309 53.860868 \r\nL 39.661444 56.060921 \r\nL 40.331715 50.849681 \r\nL 40.66685 50.421565 \r\nL 41.001985 52.630734 \r\nL 41.33712 50.87094 \r\nL 41.672255 51.163251 \r\nL 42.342525 44.590072 \r\nL 42.67766 44.90646 \r\nL 43.012796 45.705121 \r\nL 43.347931 48.003042 \r\nL 43.683066 46.48159 \r\nL 44.018201 48.017822 \r\nL 44.353336 47.785021 \r\nL 44.688471 47.727742 \r\nL 45.023606 46.387308 \r\nL 45.358742 44.42657 \r\nL 45.693877 44.60073 \r\nL 46.029012 42.659603 \r\nL 46.699282 40.019894 \r\nL 47.369552 44.036282 \r\nL 47.704687 43.175013 \r\nL 48.039823 41.284944 \r\nL 48.374958 42.722029 \r\nL 48.710093 42.404105 \r\nL 49.045228 43.334807 \r\nL 49.380363 41.261331 \r\nL 49.715498 42.280763 \r\nL 50.050633 41.867316 \r\nL 50.385769 44.761063 \r\nL 50.720904 43.951695 \r\nL 51.056039 41.885831 \r\nL 51.391174 40.974564 \r\nL 51.726309 42.685689 \r\nL 52.061444 45.05144 \r\nL 52.396579 45.688082 \r\nL 52.731715 45.128068 \r\nL 53.401985 47.114477 \r\nL 53.73712 48.801926 \r\nL 54.072255 48.91795 \r\nL 54.40739 53.004597 \r\nL 54.742525 55.312094 \r\nL 55.07766 55.712556 \r\nL 55.412796 54.076091 \r\nL 55.747931 56.967574 \r\nL 56.083066 55.902959 \r\nL 56.418201 53.024437 \r\nL 56.753336 52.579617 \r\nL 57.423606 58.133162 \r\nL 57.758742 59.096393 \r\nL 58.093877 57.430115 \r\nL 58.429012 57.599269 \r\nL 58.764147 62.119236 \r\nL 59.099282 62.169702 \r\nL 59.434417 61.202759 \r\nL 60.104688 66.551919 \r\nL 60.439823 67.405575 \r\nL 60.774958 68.87508 \r\nL 61.110093 68.205228 \r\nL 61.445228 69.164857 \r\nL 61.780363 67.707295 \r\nL 62.450633 70.180124 \r\nL 62.785769 70.278132 \r\nL 63.791174 64.775721 \r\nL 64.126309 64.41577 \r\nL 64.461444 62.294066 \r\nL 64.796579 65.194304 \r\nL 65.131715 65.204596 \r\nL 65.46685 66.677564 \r\nL 65.801985 66.652258 \r\nL 66.13712 67.815193 \r\nL 66.472255 68.118973 \r\nL 66.80739 69.010357 \r\nL 67.142525 70.605529 \r\nL 67.812796 65.599541 \r\nL 68.147931 65.002144 \r\nL 68.818201 62.345809 \r\nL 69.153336 65.808761 \r\nL 69.488471 65.811688 \r\nL 69.823606 67.058583 \r\nL 70.158742 65.332184 \r\nL 70.493877 64.992505 \r\nL 70.829012 67.451127 \r\nL 71.164147 68.695317 \r\nL 71.834417 67.337748 \r\nL 72.169552 68.853395 \r\nL 72.504687 69.800012 \r\nL 72.839823 69.771996 \r\nL 73.174958 70.133257 \r\nL 73.510093 71.409541 \r\nL 73.845228 69.456686 \r\nL 74.180363 70.887817 \r\nL 74.515498 71.227221 \r\nL 75.185769 66.895609 \r\nL 75.520904 67.540105 \r\nL 76.191174 71.332687 \r\nL 76.526309 71.197554 \r\nL 76.861444 69.330759 \r\nL 77.196579 66.374924 \r\nL 77.531715 66.643394 \r\nL 77.86685 66.655262 \r\nL 78.53712 62.832948 \r\nL 78.872255 62.257599 \r\nL 79.20739 61.314572 \r\nL 79.542525 59.535604 \r\nL 80.212796 63.216048 \r\nL 80.883066 64.193321 \r\nL 81.218201 61.750899 \r\nL 81.553336 66.226034 \r\nL 81.888471 68.005014 \r\nL 82.223606 69.102964 \r\nL 82.558742 68.061502 \r\nL 82.893877 70.102887 \r\nL 83.229012 69.510292 \r\nL 83.564147 70.144608 \r\nL 83.899282 68.358866 \r\nL 84.234417 68.197921 \r\nL 84.569552 66.75743 \r\nL 84.904688 68.476339 \r\nL 85.574958 69.093731 \r\nL 85.910093 69.024603 \r\nL 86.245228 66.88127 \r\nL 86.580363 66.082099 \r\nL 86.915498 67.43099 \r\nL 87.250633 66.231862 \r\nL 87.585769 67.240471 \r\nL 87.920904 69.789473 \r\nL 88.256039 69.925535 \r\nL 88.591174 65.176894 \r\nL 88.926309 65.287084 \r\nL 89.596579 64.420387 \r\nL 89.931715 63.55468 \r\nL 90.26685 65.402335 \r\nL 90.601985 66.286402 \r\nL 90.93712 68.583364 \r\nL 91.60739 67.946733 \r\nL 91.942525 65.079786 \r\nL 92.612796 64.400541 \r\nL 92.947931 62.33072 \r\nL 93.953336 65.763479 \r\nL 94.288471 65.275365 \r\nL 94.623606 67.690245 \r\nL 94.958742 67.432936 \r\nL 95.293877 67.860679 \r\nL 95.629012 67.533814 \r\nL 95.964147 66.40905 \r\nL 96.299282 64.682243 \r\nL 96.634417 67.507453 \r\nL 96.969552 69.254631 \r\nL 97.304688 67.656157 \r\nL 97.974958 72.121846 \r\nL 98.310093 72.617601 \r\nL 98.645228 74.064691 \r\nL 98.980363 77.758732 \r\nL 99.315498 78.500701 \r\nL 99.985769 81.809215 \r\nL 100.320904 80.33625 \r\nL 100.991174 81.617534 \r\nL 101.661444 88.886386 \r\nL 101.996579 89.64337 \r\nL 102.331715 87.82823 \r\nL 102.66685 87.922436 \r\nL 103.33712 89.88007 \r\nL 103.672255 88.311337 \r\nL 104.00739 88.321496 \r\nL 104.342525 88.997898 \r\nL 105.012796 91.546712 \r\nL 105.347931 90.700185 \r\nL 105.683066 92.196991 \r\nL 106.018201 88.386994 \r\nL 106.353336 87.085284 \r\nL 106.688471 87.834325 \r\nL 107.023606 89.063897 \r\nL 107.358742 85.030264 \r\nL 107.693877 86.073828 \r\nL 108.029012 84.649634 \r\nL 108.364147 86.275386 \r\nL 108.699282 87.040824 \r\nL 109.369552 82.245332 \r\nL 109.704687 82.382076 \r\nL 110.039823 83.376564 \r\nL 110.374958 85.230858 \r\nL 110.710093 84.618712 \r\nL 111.045228 83.546268 \r\nL 111.380363 85.59522 \r\nL 111.715498 86.514095 \r\nL 112.050633 86.25721 \r\nL 112.385769 87.265705 \r\nL 112.720904 89.944135 \r\nL 113.056039 88.745678 \r\nL 113.391174 86.280199 \r\nL 113.726309 86.004216 \r\nL 114.061444 88.328 \r\nL 114.396579 88.355359 \r\nL 114.731715 88.809467 \r\nL 115.06685 86.859481 \r\nL 115.401985 88.693509 \r\nL 115.73712 88.422326 \r\nL 116.40739 83.817386 \r\nL 116.742525 83.546309 \r\nL 117.07766 83.713352 \r\nL 117.412796 86.034849 \r\nL 117.747931 85.761303 \r\nL 118.083066 85.873253 \r\nL 118.418201 85.180814 \r\nL 118.753336 85.286713 \r\nL 119.423606 79.751184 \r\nL 119.758742 79.969521 \r\nL 120.093877 79.028919 \r\nL 120.429012 77.270121 \r\nL 120.764147 77.091286 \r\nL 121.099282 77.125543 \r\nL 121.434417 78.304975 \r\nL 121.769552 78.106778 \r\nL 122.104688 76.586689 \r\nL 122.439823 80.524992 \r\nL 123.110093 74.322117 \r\nL 123.445228 77.008673 \r\nL 123.780363 73.423606 \r\nL 124.115498 76.354447 \r\nL 124.450633 78.125093 \r\nL 125.120904 79.899407 \r\nL 125.456039 80.794147 \r\nL 125.791174 79.19895 \r\nL 126.126309 81.724365 \r\nL 126.461444 82.695223 \r\nL 126.796579 84.826742 \r\nL 127.131715 86.008703 \r\nL 127.46685 86.621038 \r\nL 127.801985 85.081802 \r\nL 128.13712 85.299718 \r\nL 128.472255 84.514401 \r\nL 128.80739 82.566712 \r\nL 129.142525 86.11767 \r\nL 129.47766 87.468167 \r\nL 129.812796 86.741414 \r\nL 130.147931 88.519898 \r\nL 130.483066 88.791733 \r\nL 131.153336 91.115952 \r\nL 131.488471 92.049505 \r\nL 131.823606 95.201117 \r\nL 132.158742 95.620101 \r\nL 132.493877 95.764112 \r\nL 132.829012 91.773127 \r\nL 133.164147 91.416519 \r\nL 133.499282 94.145013 \r\nL 133.834417 98.324465 \r\nL 134.169552 98.245758 \r\nL 134.504687 99.742624 \r\nL 134.839823 99.349166 \r\nL 135.174958 99.508492 \r\nL 135.510093 97.387974 \r\nL 135.845228 96.744272 \r\nL 136.180363 98.532561 \r\nL 136.850633 102.690798 \r\nL 137.185769 99.76799 \r\nL 137.520904 99.115317 \r\nL 137.856039 96.768555 \r\nL 138.191174 100.192837 \r\nL 138.526309 98.206529 \r\nL 138.861444 96.952276 \r\nL 139.196579 96.238837 \r\nL 139.531715 98.990133 \r\nL 139.86685 99.754484 \r\nL 140.201985 98.954196 \r\nL 140.53712 96.846879 \r\nL 140.872255 97.684403 \r\nL 141.20739 95.974492 \r\nL 141.87766 94.890957 \r\nL 142.212796 97.702985 \r\nL 142.547931 98.916512 \r\nL 142.883066 98.746336 \r\nL 143.218201 100.52419 \r\nL 143.553336 97.762919 \r\nL 143.888471 100.879253 \r\nL 144.223606 101.068968 \r\nL 144.558742 99.499787 \r\nL 144.893877 96.083698 \r\nL 145.899282 100.256873 \r\nL 146.234417 98.36852 \r\nL 146.569552 98.24561 \r\nL 146.904688 99.365125 \r\nL 147.239823 96.866585 \r\nL 147.574958 99.657622 \r\nL 147.910093 99.110992 \r\nL 148.245228 101.565001 \r\nL 148.580363 102.255 \r\nL 148.915498 99.975969 \r\nL 149.250633 98.474655 \r\nL 149.920904 103.562382 \r\nL 150.256039 102.014052 \r\nL 150.591174 103.191401 \r\nL 150.926309 102.382821 \r\nL 151.261444 102.369536 \r\nL 151.596579 101.885295 \r\nL 151.931715 99.75601 \r\nL 152.26685 98.418046 \r\nL 152.601985 97.662957 \r\nL 153.272255 101.199229 \r\nL 153.60739 99.514379 \r\nL 153.942525 100.393302 \r\nL 154.27766 100.402145 \r\nL 154.612796 98.413358 \r\nL 154.947931 99.06851 \r\nL 155.283066 100.872769 \r\nL 155.618201 100.296434 \r\nL 155.953336 100.626328 \r\nL 156.288471 101.147339 \r\nL 156.623606 100.972841 \r\nL 156.958742 101.528634 \r\nL 157.293877 103.472516 \r\nL 157.629012 106.105761 \r\nL 157.964147 103.953387 \r\nL 158.299282 105.794505 \r\nL 158.634417 108.678377 \r\nL 158.969552 106.070332 \r\nL 159.304688 106.371859 \r\nL 159.639823 105.110261 \r\nL 159.974958 104.329019 \r\nL 160.310093 104.743522 \r\nL 160.645228 102.838171 \r\nL 160.980363 102.623597 \r\nL 161.315498 100.978094 \r\nL 161.650633 100.396366 \r\nL 161.985769 100.835867 \r\nL 162.320904 99.086671 \r\nL 162.656039 99.328764 \r\nL 163.326309 93.433061 \r\nL 163.661444 99.390078 \r\nL 163.996579 99.053508 \r\nL 164.331715 94.932981 \r\nL 164.66685 94.804157 \r\nL 165.001985 97.295809 \r\nL 165.33712 97.479904 \r\nL 165.672255 95.917057 \r\nL 166.00739 94.954274 \r\nL 166.342525 96.189364 \r\nL 166.67766 99.158461 \r\nL 167.012796 99.461005 \r\nL 167.347931 97.756022 \r\nL 167.683066 96.725211 \r\nL 168.018201 97.1928 \r\nL 168.353336 100.439693 \r\nL 168.688471 100.268531 \r\nL 169.023606 99.189188 \r\nL 169.358742 99.390867 \r\nL 169.693877 101.610056 \r\nL 170.029012 105.184424 \r\nL 170.364147 106.098928 \r\nL 170.699282 105.635025 \r\nL 171.034417 102.848938 \r\nL 171.369552 102.368707 \r\nL 172.039823 99.924476 \r\nL 172.374958 103.625726 \r\nL 172.710093 101.838362 \r\nL 173.045228 103.586971 \r\nL 173.380363 103.353561 \r\nL 173.715498 103.701743 \r\nL 174.050633 103.399669 \r\nL 174.385769 105.518682 \r\nL 174.720904 109.587012 \r\nL 175.056039 112.266979 \r\nL 175.391174 112.704819 \r\nL 175.726309 109.36679 \r\nL 176.396579 117.436504 \r\nL 176.731715 118.343301 \r\nL 177.06685 117.355926 \r\nL 177.401985 117.59937 \r\nL 177.73712 114.680761 \r\nL 178.40739 116.943317 \r\nL 178.742525 120.372394 \r\nL 179.07766 120.082023 \r\nL 179.412796 120.385253 \r\nL 179.747931 119.946379 \r\nL 180.083066 121.012319 \r\nL 180.418201 122.823357 \r\nL 180.753336 123.025081 \r\nL 181.088471 124.481919 \r\nL 181.423606 123.27506 \r\nL 182.093877 128.522253 \r\nL 182.429012 130.869959 \r\nL 182.764147 132.171782 \r\nL 183.099282 132.556447 \r\nL 183.434417 134.271842 \r\nL 183.769552 133.935435 \r\nL 184.104688 135.143719 \r\nL 184.439823 135.035149 \r\nL 184.774958 133.881473 \r\nL 185.110093 135.321277 \r\nL 185.445228 137.696331 \r\nL 185.780363 138.530019 \r\nL 186.115498 140.272692 \r\nL 186.450633 138.182927 \r\nL 186.785769 140.71832 \r\nL 187.120904 141.233228 \r\nL 187.456039 142.683424 \r\nL 187.791174 141.857835 \r\nL 188.126309 143.591467 \r\nL 188.461444 143.471265 \r\nL 188.796579 144.009334 \r\nL 189.131715 139.301925 \r\nL 189.46685 140.022944 \r\nL 189.801985 134.792575 \r\nL 190.13712 134.976997 \r\nL 190.80739 141.06742 \r\nL 191.142525 139.119199 \r\nL 191.47766 141.245422 \r\nL 191.812796 139.862652 \r\nL 192.147931 138.974329 \r\nL 192.483066 135.623779 \r\nL 192.818201 133.786864 \r\nL 193.153336 136.086787 \r\nL 193.488471 133.570318 \r\nL 193.823606 136.382002 \r\nL 194.158742 135.020834 \r\nL 194.493877 137.070707 \r\nL 194.829012 138.257799 \r\nL 195.164147 136.777214 \r\nL 195.499282 137.001526 \r\nL 195.834417 135.344071 \r\nL 196.169552 134.761165 \r\nL 196.504687 132.93965 \r\nL 196.839823 134.093584 \r\nL 197.174958 133.802826 \r\nL 197.510093 132.604283 \r\nL 197.845228 133.370942 \r\nL 198.180363 132.911484 \r\nL 198.515498 130.556809 \r\nL 198.850633 129.022133 \r\nL 199.185769 131.31514 \r\nL 199.520904 132.351101 \r\nL 199.856039 132.277266 \r\nL 200.191174 131.63237 \r\nL 200.526309 128.698478 \r\nL 200.861444 128.924649 \r\nL 201.196579 129.359865 \r\nL 201.531715 131.42307 \r\nL 201.86685 130.732256 \r\nL 202.201985 128.878066 \r\nL 202.53712 127.704753 \r\nL 203.20739 128.660802 \r\nL 203.542525 127.512012 \r\nL 203.87766 123.282853 \r\nL 204.212796 121.752948 \r\nL 204.547931 123.943364 \r\nL 204.883066 125.053999 \r\nL 205.218201 123.631318 \r\nL 205.553336 124.267752 \r\nL 205.888471 126.775506 \r\nL 206.223606 126.104062 \r\nL 206.893877 127.830081 \r\nL 207.229012 126.861662 \r\nL 207.564147 126.621343 \r\nL 207.899282 125.931744 \r\nL 208.234417 122.231166 \r\nL 208.569552 121.487914 \r\nL 208.904688 120.121025 \r\nL 209.239823 120.917232 \r\nL 209.574958 121.234978 \r\nL 209.910093 120.954247 \r\nL 210.580363 115.930995 \r\nL 210.915498 115.477594 \r\nL 211.250633 113.647623 \r\nL 211.585769 112.804179 \r\nL 211.920904 115.812313 \r\nL 212.256039 115.482292 \r\nL 212.591174 116.961717 \r\nL 212.926309 117.170711 \r\nL 213.261444 116.117336 \r\nL 213.596579 118.307619 \r\nL 213.931715 117.376454 \r\nL 214.26685 117.040504 \r\nL 214.601985 120.965087 \r\nL 214.93712 122.465638 \r\nL 215.272255 119.207522 \r\nL 215.60739 118.941314 \r\nL 215.942525 119.467616 \r\nL 216.27766 120.443291 \r\nL 216.612796 118.661013 \r\nL 216.947931 121.367306 \r\nL 217.283066 125.602501 \r\nL 217.618201 126.525131 \r\nL 217.953336 125.796922 \r\nL 218.623606 122.489172 \r\nL 218.958742 122.609072 \r\nL 219.293877 119.60661 \r\nL 219.629012 120.889796 \r\nL 219.964147 121.587459 \r\nL 220.299282 120.762958 \r\nL 220.634417 120.610988 \r\nL 220.969552 122.943255 \r\nL 221.304688 126.139402 \r\nL 221.639823 126.158055 \r\nL 221.974958 127.554781 \r\nL 222.310093 128.44646 \r\nL 222.645228 126.47828 \r\nL 223.650633 132.973668 \r\nL 223.985769 132.582824 \r\nL 224.320904 130.424002 \r\nL 224.656039 130.937737 \r\nL 224.991174 134.013505 \r\nL 225.326309 133.376159 \r\nL 225.661444 130.814076 \r\nL 225.996579 131.939481 \r\nL 226.331715 134.161122 \r\nL 226.66685 132.899178 \r\nL 227.33712 135.518221 \r\nL 227.672255 134.577286 \r\nL 228.00739 138.23149 \r\nL 228.342525 137.511375 \r\nL 228.67766 137.846162 \r\nL 229.012796 136.081191 \r\nL 230.018201 139.941847 \r\nL 230.353336 139.536732 \r\nL 230.688471 139.618125 \r\nL 231.023606 135.245354 \r\nL 231.358742 135.011676 \r\nL 231.693877 133.66319 \r\nL 232.364147 134.643825 \r\nL 232.699282 133.105376 \r\nL 233.034417 130.77277 \r\nL 233.369552 131.172134 \r\nL 233.704687 132.378364 \r\nL 234.039823 136.300086 \r\nL 234.374958 137.132963 \r\nL 234.710093 136.178804 \r\nL 235.045228 139.137214 \r\nL 235.715498 140.324168 \r\nL 236.050633 137.18338 \r\nL 236.385769 138.909618 \r\nL 237.056039 134.329878 \r\nL 237.726309 129.222376 \r\nL 238.061444 128.64201 \r\nL 238.396579 127.388353 \r\nL 238.731715 127.037735 \r\nL 239.06685 127.347899 \r\nL 239.401985 130.045636 \r\nL 239.73712 129.273086 \r\nL 240.072255 126.873473 \r\nL 240.40739 129.714072 \r\nL 240.742525 133.62203 \r\nL 241.07766 134.438533 \r\nL 241.412796 135.943967 \r\nL 241.747931 135.525634 \r\nL 242.083066 135.748554 \r\nL 242.753336 138.389191 \r\nL 243.088471 138.359727 \r\nL 243.423606 139.453216 \r\nL 243.758742 139.322684 \r\nL 244.093877 137.163723 \r\nL 244.764147 140.64376 \r\nL 245.434417 142.575432 \r\nL 245.769552 142.307684 \r\nL 246.104688 143.019894 \r\nL 246.439823 142.557341 \r\nL 246.774958 143.312865 \r\nL 247.110093 142.05646 \r\nL 247.445228 143.694065 \r\nL 247.780363 141.326483 \r\nL 248.115498 143.514525 \r\nL 249.120904 152.494082 \r\nL 249.456039 151.531116 \r\nL 249.791174 149.753353 \r\nL 250.126309 151.803056 \r\nL 250.461444 150.732836 \r\nL 251.131715 154.723442 \r\nL 251.46685 155.41112 \r\nL 251.801985 155.403255 \r\nL 252.13712 154.500686 \r\nL 252.472255 152.523772 \r\nL 252.80739 153.242873 \r\nL 253.142525 153.059366 \r\nL 253.47766 152.304183 \r\nL 253.812796 154.59233 \r\nL 254.147931 150.936073 \r\nL 254.483066 150.47118 \r\nL 254.818201 148.54568 \r\nL 255.153336 148.998287 \r\nL 255.488471 148.758958 \r\nL 255.823606 148.809169 \r\nL 256.158742 147.832928 \r\nL 256.493877 149.280729 \r\nL 257.164147 146.588631 \r\nL 257.499282 147.242531 \r\nL 257.834417 148.995456 \r\nL 258.169552 152.203725 \r\nL 258.504687 150.945344 \r\nL 258.839823 151.696924 \r\nL 259.174958 148.638155 \r\nL 259.510093 149.181938 \r\nL 260.850633 154.432267 \r\nL 261.185769 154.156367 \r\nL 261.856039 160.928157 \r\nL 262.191174 160.507108 \r\nL 262.526309 160.557191 \r\nL 262.861444 163.682449 \r\nL 263.196579 162.423786 \r\nL 263.531715 161.74348 \r\nL 263.86685 158.749072 \r\nL 264.201985 154.585805 \r\nL 264.53712 154.951691 \r\nL 264.872255 153.841932 \r\nL 265.20739 154.515368 \r\nL 265.542525 153.9305 \r\nL 265.87766 153.88514 \r\nL 266.547931 151.768001 \r\nL 266.883066 153.345267 \r\nL 267.218201 153.481734 \r\nL 267.553336 152.061639 \r\nL 267.888471 151.47269 \r\nL 268.223606 149.812083 \r\nL 268.558742 148.719341 \r\nL 268.893877 149.414637 \r\nL 269.229012 147.810448 \r\nL 269.564147 148.358144 \r\nL 270.569552 140.034126 \r\nL 270.904688 141.278417 \r\nL 271.239823 141.93219 \r\nL 271.574958 143.505218 \r\nL 272.245228 139.798096 \r\nL 272.580363 139.926274 \r\nL 273.250633 137.983521 \r\nL 273.585769 137.840299 \r\nL 273.920904 135.871135 \r\nL 274.256039 138.122247 \r\nL 274.591174 135.398127 \r\nL 274.926309 137.779026 \r\nL 275.261444 136.935467 \r\nL 275.931715 132.577775 \r\nL 276.26685 130.946909 \r\nL 276.601985 131.947999 \r\nL 276.93712 132.256309 \r\nL 277.272255 131.713343 \r\nL 277.60739 130.325922 \r\nL 277.942525 126.616687 \r\nL 278.27766 125.823579 \r\nL 278.612796 130.327657 \r\nL 279.953336 128.463421 \r\nL 280.288471 127.61673 \r\nL 280.623606 129.320449 \r\nL 280.958742 129.337093 \r\nL 281.293877 129.943726 \r\nL 281.629012 126.336889 \r\nL 281.964147 129.048457 \r\nL 282.299282 126.343212 \r\nL 282.634417 125.139398 \r\nL 282.969552 126.541183 \r\nL 283.304688 125.357827 \r\nL 283.639823 122.733041 \r\nL 283.974958 121.625662 \r\nL 284.310093 121.514858 \r\nL 284.645228 120.845984 \r\nL 284.980363 121.084759 \r\nL 285.315498 121.695489 \r\nL 285.985769 117.36189 \r\nL 286.320904 116.207419 \r\nL 286.656039 116.01513 \r\nL 286.991174 117.869757 \r\nL 287.326309 117.707035 \r\nL 287.661444 119.105117 \r\nL 287.996579 117.310544 \r\nL 288.331715 121.22263 \r\nL 289.001985 125.516671 \r\nL 289.33712 126.902945 \r\nL 289.672255 125.319181 \r\nL 290.342525 127.924936 \r\nL 291.012796 127.186552 \r\nL 291.347931 127.4459 \r\nL 291.683066 127.021834 \r\nL 292.018201 127.196345 \r\nL 292.353336 127.52422 \r\nL 292.688471 126.658797 \r\nL 293.023606 130.813603 \r\nL 293.358742 131.872963 \r\nL 293.693877 127.207406 \r\nL 294.029012 127.191186 \r\nL 294.364147 128.593933 \r\nL 295.034417 134.441036 \r\nL 295.369552 137.825392 \r\nL 295.704687 135.912518 \r\nL 296.039823 135.865488 \r\nL 296.374958 137.67913 \r\nL 296.710093 137.635426 \r\nL 297.045228 138.009136 \r\nL 297.380363 136.964424 \r\nL 297.715498 137.886262 \r\nL 298.050633 136.642085 \r\nL 298.385769 136.160237 \r\nL 298.720904 136.285861 \r\nL 299.056039 137.624787 \r\nL 299.391174 141.361724 \r\nL 299.726309 140.246467 \r\nL 300.061444 138.349701 \r\nL 300.396579 140.793182 \r\nL 301.06685 137.386577 \r\nL 301.401985 137.749798 \r\nL 301.73712 138.454252 \r\nL 302.072255 142.008414 \r\nL 302.40739 143.624199 \r\nL 302.742525 142.864123 \r\nL 303.412796 139.270157 \r\nL 303.747931 142.600384 \r\nL 304.083066 143.489561 \r\nL 304.418201 141.955808 \r\nL 304.753336 142.033726 \r\nL 305.088471 141.664628 \r\nL 305.423606 142.503371 \r\nL 305.758742 141.963437 \r\nL 306.093877 139.819034 \r\nL 306.429012 143.84571 \r\nL 306.764147 143.546839 \r\nL 307.099282 145.501027 \r\nL 307.434417 146.41477 \r\nL 307.769552 146.370035 \r\nL 308.104688 146.904207 \r\nL 308.439823 148.203163 \r\nL 308.774958 150.21365 \r\nL 309.110093 151.186453 \r\nL 309.445228 150.612737 \r\nL 309.780363 154.070528 \r\nL 310.115498 151.792562 \r\nL 310.450633 152.905635 \r\nL 310.785769 152.092305 \r\nL 311.456039 154.04861 \r\nL 311.791174 152.839866 \r\nL 312.126309 152.189102 \r\nL 312.461444 154.474041 \r\nL 312.796579 153.768609 \r\nL 313.131715 155.037253 \r\nL 313.46685 159.893171 \r\nL 313.801985 159.367375 \r\nL 314.13712 158.198099 \r\nL 314.472255 160.764246 \r\nL 314.80739 159.920188 \r\nL 315.142525 161.851683 \r\nL 315.47766 164.776165 \r\nL 315.812796 164.519436 \r\nL 316.147931 164.594931 \r\nL 316.483066 163.175106 \r\nL 316.818201 162.768668 \r\nL 317.488471 166.871433 \r\nL 318.158742 166.67215 \r\nL 318.493877 165.677746 \r\nL 318.829012 166.945145 \r\nL 319.164147 166.925098 \r\nL 319.834417 172.636908 \r\nL 320.169552 172.639281 \r\nL 320.504687 170.704904 \r\nL 321.174958 165.553807 \r\nL 321.510093 165.837289 \r\nL 321.845228 166.323695 \r\nL 322.180363 165.938819 \r\nL 322.850633 167.358648 \r\nL 323.520904 167.616477 \r\nL 323.856039 164.2478 \r\nL 324.191174 164.655689 \r\nL 324.526309 167.740634 \r\nL 324.861444 169.328417 \r\nL 325.196579 171.97822 \r\nL 325.531715 171.640239 \r\nL 325.86685 170.960054 \r\nL 326.201985 168.080369 \r\nL 326.53712 169.793576 \r\nL 326.872255 167.888873 \r\nL 327.20739 167.758683 \r\nL 327.542525 169.749281 \r\nL 327.87766 168.037139 \r\nL 328.212796 165.381591 \r\nL 328.547931 166.135103 \r\nL 328.883066 165.762141 \r\nL 329.218201 164.050013 \r\nL 329.553336 165.982012 \r\nL 330.893877 176.96281 \r\nL 331.229012 181.004595 \r\nL 331.564147 182.372306 \r\nL 331.899282 184.340033 \r\nL 332.234417 182.676797 \r\nL 332.569552 181.776337 \r\nL 332.904688 181.712908 \r\nL 333.239823 181.1169 \r\nL 333.574958 182.000225 \r\nL 333.910093 183.616407 \r\nL 334.245228 182.187972 \r\nL 334.580363 183.708263 \r\nL 335.250633 182.50741 \r\nL 335.585769 179.467681 \r\nL 335.920904 179.159543 \r\nL 336.256039 176.765699 \r\nL 336.591174 178.251454 \r\nL 336.926309 178.220781 \r\nL 337.261444 177.086398 \r\nL 337.596579 177.924754 \r\nL 337.931715 176.747081 \r\nL 338.26685 178.459045 \r\nL 338.93712 183.508375 \r\nL 339.272255 183.302554 \r\nL 339.60739 184.776385 \r\nL 339.942525 185.273528 \r\nL 340.27766 181.651179 \r\nL 340.612796 183.220704 \r\nL 340.947931 181.545649 \r\nL 341.283066 183.708237 \r\nL 341.618201 181.728067 \r\nL 341.953336 181.37498 \r\nL 342.288471 182.997209 \r\nL 342.623606 182.918885 \r\nL 342.958742 185.35683 \r\nL 343.293877 185.359637 \r\nL 343.629012 187.352293 \r\nL 343.964147 190.204511 \r\nL 344.634417 189.236217 \r\nL 345.639823 186.580129 \r\nL 345.974958 183.010855 \r\nL 346.310093 186.178602 \r\nL 346.645228 187.872899 \r\nL 346.980363 188.800177 \r\nL 347.315498 189.103983 \r\nL 347.650633 194.142401 \r\nL 348.320904 196.977598 \r\nL 348.656039 195.496511 \r\nL 348.991174 193.112079 \r\nL 349.326309 193.513123 \r\nL 349.996579 191.472112 \r\nL 350.331715 192.507946 \r\nL 350.66685 192.155008 \r\nL 351.001985 192.258294 \r\nL 351.33712 193.982622 \r\nL 351.672255 194.301304 \r\nL 352.00739 195.334082 \r\nL 352.342525 194.958329 \r\nL 352.67766 195.176724 \r\nL 353.012796 196.677746 \r\nL 353.347931 199.55983 \r\nL 353.683066 197.327864 \r\nL 354.018201 196.769697 \r\nL 354.353336 197.496134 \r\nL 355.023606 200.238141 \r\nL 355.358742 201.645905 \r\nL 355.693877 201.703813 \r\nL 356.029012 200.608709 \r\nL 356.364147 201.09434 \r\nL 356.699282 200.121506 \r\nL 357.369552 196.917553 \r\nL 358.039823 201.4267 \r\nL 358.374958 197.374277 \r\nL 358.710093 196.781444 \r\nL 359.045228 200.117812 \r\nL 359.380363 197.972358 \r\nL 359.715498 199.064485 \r\nL 360.050633 199.033456 \r\nL 360.720904 201.15387 \r\nL 361.056039 203.004784 \r\nL 361.391174 207.261824 \r\nL 361.726309 207.002335 \r\nL 362.061444 207.69929 \r\nL 362.396579 211.49855 \r\nL 362.731715 210.894612 \r\nL 363.401985 213.276904 \r\nL 363.73712 213.083793 \r\nL 364.072255 214.700003 \r\nL 364.40739 214.756364 \r\nL 364.742525 213.713188 \r\nL 365.07766 213.30364 \r\nL 365.412796 212.670412 \r\nL 365.747931 213.787819 \r\nL 366.083066 210.618815 \r\nL 366.418201 210.467735 \r\nL 366.753336 209.164999 \r\nL 367.088471 207.184365 \r\nL 367.423606 210.531946 \r\nL 367.758742 209.913252 \r\nL 368.093877 210.587719 \r\nL 368.429012 208.404361 \r\nL 368.764147 209.599758 \r\nL 369.099282 204.325537 \r\nL 369.434417 204.442518 \r\nL 370.104688 204.136331 \r\nL 370.104688 204.136331 \r\n\" style=\"fill:none;stroke:#1f77b4;stroke-linecap:square;stroke-width:1.5;\"/>\r\n   </g>\r\n   <g id=\"line2d_42\">\r\n    <path clip-path=\"url(#pd2703c3700)\" d=\"M 35.304688 47.918095 \r\nL 35.639823 47.602483 \r\nL 35.974958 48.387307 \r\nL 36.310093 43.814537 \r\nL 36.645228 43.852531 \r\nL 36.980363 47.239257 \r\nL 37.315498 46.338219 \r\nL 37.650633 44.167888 \r\nL 37.985769 43.186873 \r\nL 38.320904 44.676197 \r\nL 38.656039 45.238718 \r\nL 38.991174 47.802134 \r\nL 39.326309 45.20404 \r\nL 39.661444 45.418789 \r\nL 39.996579 48.372602 \r\nL 40.331715 49.705057 \r\nL 40.66685 46.860367 \r\nL 41.001985 48.451963 \r\nL 41.33712 48.253524 \r\nL 41.672255 50.881488 \r\nL 42.00739 50.777099 \r\nL 42.342525 49.988902 \r\nL 42.67766 52.405769 \r\nL 43.012796 53.70368 \r\nL 43.347931 53.280905 \r\nL 43.683066 59.077268 \r\nL 44.018201 60.729554 \r\nL 44.353336 64.699858 \r\nL 44.688471 64.545229 \r\nL 45.023606 66.042504 \r\nL 45.358742 65.092095 \r\nL 45.693877 67.49751 \r\nL 46.364147 60.40555 \r\nL 46.699282 60.837135 \r\nL 47.034417 62.356546 \r\nL 47.369552 64.567223 \r\nL 48.039823 64.11787 \r\nL 48.374958 62.928345 \r\nL 48.710093 65.773223 \r\nL 49.045228 66.22679 \r\nL 49.380363 65.782171 \r\nL 49.715498 66.041258 \r\nL 50.050633 63.561396 \r\nL 50.385769 62.599039 \r\nL 50.720904 60.816518 \r\nL 51.056039 64.270072 \r\nL 52.396579 70.163479 \r\nL 52.731715 69.066743 \r\nL 53.06685 70.360375 \r\nL 53.401985 71.14531 \r\nL 53.73712 73.439103 \r\nL 54.072255 70.383341 \r\nL 54.40739 68.691553 \r\nL 54.742525 67.752021 \r\nL 55.07766 70.262336 \r\nL 55.412796 67.48391 \r\nL 56.418201 70.952336 \r\nL 56.753336 67.203629 \r\nL 57.088471 67.364473 \r\nL 57.423606 66.675146 \r\nL 57.758742 67.457578 \r\nL 58.093877 66.225391 \r\nL 58.429012 68.213973 \r\nL 58.764147 66.533164 \r\nL 59.099282 61.736381 \r\nL 59.769552 64.790011 \r\nL 60.104688 66.546521 \r\nL 60.439823 69.275924 \r\nL 60.774958 67.596794 \r\nL 61.110093 67.409648 \r\nL 61.445228 64.959365 \r\nL 61.780363 64.91973 \r\nL 62.115498 64.690314 \r\nL 62.450633 63.98169 \r\nL 62.785769 64.400855 \r\nL 63.120904 62.759463 \r\nL 63.456039 62.995188 \r\nL 63.791174 63.048727 \r\nL 64.126309 63.77686 \r\nL 64.461444 62.85085 \r\nL 64.796579 60.972752 \r\nL 65.131715 61.407686 \r\nL 65.46685 60.761731 \r\nL 65.801985 60.89644 \r\nL 66.13712 60.109672 \r\nL 66.472255 60.316963 \r\nL 66.80739 59.824023 \r\nL 67.142525 63.969195 \r\nL 67.47766 64.521836 \r\nL 68.147931 60.096778 \r\nL 68.483066 60.252059 \r\nL 68.818201 60.729835 \r\nL 69.153336 59.19935 \r\nL 69.488471 58.831588 \r\nL 69.823606 57.321503 \r\nL 70.158742 59.191776 \r\nL 70.493877 58.333797 \r\nL 70.829012 57.986996 \r\nL 71.164147 59.54645 \r\nL 71.499282 60.190164 \r\nL 71.834417 60.086724 \r\nL 72.169552 55.74658 \r\nL 72.504687 54.678118 \r\nL 72.839823 55.595797 \r\nL 73.174958 55.906161 \r\nL 73.510093 54.279938 \r\nL 73.845228 56.323926 \r\nL 74.180363 57.103526 \r\nL 74.850633 57.019947 \r\nL 75.185769 57.547529 \r\nL 75.520904 55.481462 \r\nL 75.856039 54.978113 \r\nL 76.191174 53.661977 \r\nL 76.861444 52.036487 \r\nL 77.531715 55.153666 \r\nL 77.86685 52.876982 \r\nL 78.201985 53.254882 \r\nL 78.53712 52.693641 \r\nL 78.872255 52.683146 \r\nL 79.20739 50.176974 \r\nL 79.542525 49.849123 \r\nL 79.87766 50.15681 \r\nL 80.212796 52.763711 \r\nL 80.547931 53.914379 \r\nL 80.883066 52.604499 \r\nL 81.218201 52.906427 \r\nL 81.553336 53.474324 \r\nL 81.888471 51.347608 \r\nL 82.223606 53.715863 \r\nL 82.558742 52.727291 \r\nL 82.893877 50.987832 \r\nL 83.229012 54.429179 \r\nL 83.564147 52.409855 \r\nL 84.234417 55.286543 \r\nL 84.569552 52.652488 \r\nL 85.239823 53.080908 \r\nL 85.574958 54.412379 \r\nL 85.910093 54.582975 \r\nL 86.245228 53.705139 \r\nL 86.580363 54.395246 \r\nL 86.915498 52.609827 \r\nL 87.250633 52.471257 \r\nL 87.585769 52.066333 \r\nL 87.920904 53.02597 \r\nL 88.256039 52.588011 \r\nL 88.591174 53.212633 \r\nL 88.926309 53.192492 \r\nL 89.261444 53.981111 \r\nL 89.596579 57.191817 \r\nL 89.931715 57.237439 \r\nL 90.26685 57.799665 \r\nL 90.601985 59.81958 \r\nL 90.93712 60.161009 \r\nL 91.272255 56.259324 \r\nL 91.60739 55.997362 \r\nL 91.942525 56.926604 \r\nL 92.27766 57.447675 \r\nL 92.612796 57.129195 \r\nL 93.283066 60.462498 \r\nL 93.618201 60.52688 \r\nL 93.953336 56.866974 \r\nL 94.288471 55.369387 \r\nL 94.623606 56.436385 \r\nL 94.958742 56.947611 \r\nL 95.293877 60.927826 \r\nL 95.629012 60.290789 \r\nL 96.634417 55.677581 \r\nL 96.969552 55.202162 \r\nL 97.304688 58.691554 \r\nL 97.974958 57.732724 \r\nL 98.310093 61.470283 \r\nL 98.645228 60.356886 \r\nL 98.980363 62.269135 \r\nL 99.650633 59.490497 \r\nL 99.985769 59.053211 \r\nL 100.320904 57.078401 \r\nL 100.991174 58.3471 \r\nL 101.326309 60.148957 \r\nL 101.661444 60.199827 \r\nL 101.996579 58.942194 \r\nL 102.331715 59.297987 \r\nL 102.66685 59.227882 \r\nL 103.001985 58.575523 \r\nL 103.33712 61.387895 \r\nL 103.672255 61.91169 \r\nL 104.00739 63.815604 \r\nL 104.342525 64.947165 \r\nL 104.67766 67.973861 \r\nL 105.347931 69.767797 \r\nL 105.683066 68.366966 \r\nL 106.353336 67.984762 \r\nL 107.023606 65.578873 \r\nL 107.358742 61.481021 \r\nL 107.693877 60.907544 \r\nL 108.029012 63.700206 \r\nL 108.364147 59.972449 \r\nL 108.699282 61.774842 \r\nL 109.704687 58.112461 \r\nL 110.039823 57.797983 \r\nL 110.374958 55.208079 \r\nL 110.710093 55.244068 \r\nL 111.045228 57.965826 \r\nL 111.380363 59.010342 \r\nL 111.715498 56.22941 \r\nL 112.385769 57.5806 \r\nL 112.720904 56.664841 \r\nL 113.056039 54.001477 \r\nL 113.391174 56.107276 \r\nL 114.061444 63.32093 \r\nL 115.06685 59.082975 \r\nL 115.401985 58.405245 \r\nL 115.73712 55.906423 \r\nL 116.072255 58.078272 \r\nL 116.742525 55.163873 \r\nL 117.07766 55.199198 \r\nL 117.412796 58.912326 \r\nL 117.747931 60.232864 \r\nL 118.083066 62.150372 \r\nL 118.418201 61.536446 \r\nL 118.753336 60.592094 \r\nL 119.088471 61.301566 \r\nL 119.423606 59.976574 \r\nL 119.758742 62.786608 \r\nL 120.093877 62.165269 \r\nL 120.429012 65.186099 \r\nL 120.764147 64.697973 \r\nL 121.099282 66.864997 \r\nL 121.434417 66.737015 \r\nL 121.769552 64.607315 \r\nL 122.104688 64.778902 \r\nL 122.774958 64.09269 \r\nL 123.110093 65.196951 \r\nL 123.445228 63.713534 \r\nL 123.780363 64.283434 \r\nL 124.115498 67.475122 \r\nL 124.450633 65.96895 \r\nL 124.785769 66.80202 \r\nL 125.456039 65.608076 \r\nL 125.791174 68.905103 \r\nL 126.126309 68.10114 \r\nL 126.461444 66.895457 \r\nL 126.796579 69.659895 \r\nL 127.131715 71.416463 \r\nL 127.46685 71.085626 \r\nL 127.801985 72.538365 \r\nL 128.13712 71.622263 \r\nL 128.472255 65.665779 \r\nL 129.142525 68.589752 \r\nL 129.47766 68.398702 \r\nL 129.812796 67.841628 \r\nL 130.147931 69.301806 \r\nL 130.483066 69.125224 \r\nL 130.818201 72.14059 \r\nL 131.153336 72.627933 \r\nL 131.488471 73.925145 \r\nL 131.823606 69.959178 \r\nL 132.158742 69.294574 \r\nL 133.164147 76.776054 \r\nL 133.499282 76.597948 \r\nL 133.834417 78.954628 \r\nL 134.504687 77.590145 \r\nL 134.839823 81.133565 \r\nL 135.174958 79.685973 \r\nL 135.510093 79.776226 \r\nL 135.845228 81.501744 \r\nL 136.515498 77.871881 \r\nL 136.850633 76.732191 \r\nL 137.185769 76.086597 \r\nL 137.520904 77.359384 \r\nL 137.856039 77.200609 \r\nL 138.191174 76.580174 \r\nL 138.861444 78.460318 \r\nL 139.196579 80.341525 \r\nL 139.531715 80.335443 \r\nL 139.86685 80.476063 \r\nL 140.201985 82.987702 \r\nL 140.53712 80.700357 \r\nL 140.872255 82.504378 \r\nL 141.20739 83.276959 \r\nL 141.542525 82.151136 \r\nL 141.87766 83.480578 \r\nL 142.212796 83.626555 \r\nL 142.547931 85.713901 \r\nL 142.883066 86.734953 \r\nL 143.553336 79.492331 \r\nL 143.888471 78.655307 \r\nL 144.558742 74.447945 \r\nL 144.893877 73.541917 \r\nL 145.229012 71.127097 \r\nL 145.564147 73.195439 \r\nL 145.899282 70.592871 \r\nL 146.234417 66.791622 \r\nL 146.569552 67.177043 \r\nL 146.904688 69.053741 \r\nL 148.245228 63.215354 \r\nL 148.915498 64.261271 \r\nL 149.250633 65.329641 \r\nL 149.585769 65.409847 \r\nL 149.920904 66.505972 \r\nL 150.256039 66.442617 \r\nL 150.926309 69.304672 \r\nL 151.261444 68.137436 \r\nL 151.931715 67.696436 \r\nL 152.26685 65.808526 \r\nL 152.601985 70.760802 \r\nL 152.93712 73.434225 \r\nL 153.272255 72.149727 \r\nL 153.60739 72.082862 \r\nL 153.942525 74.801488 \r\nL 154.27766 76.318908 \r\nL 154.612796 77.283041 \r\nL 154.947931 75.800701 \r\nL 155.283066 72.469502 \r\nL 155.618201 74.732482 \r\nL 155.953336 74.664175 \r\nL 156.288471 74.84233 \r\nL 156.623606 73.938057 \r\nL 156.958742 72.224791 \r\nL 157.293877 72.707427 \r\nL 157.629012 72.769746 \r\nL 158.299282 71.465116 \r\nL 158.634417 71.307619 \r\nL 158.969552 70.803477 \r\nL 159.304688 74.544771 \r\nL 159.639823 75.878691 \r\nL 159.974958 76.407715 \r\nL 160.310093 77.210172 \r\nL 160.645228 75.346695 \r\nL 160.980363 75.503343 \r\nL 161.650633 77.38321 \r\nL 161.985769 82.688314 \r\nL 162.320904 80.827694 \r\nL 162.656039 80.622713 \r\nL 162.991174 79.733135 \r\nL 163.326309 80.508145 \r\nL 163.996579 77.99182 \r\nL 164.331715 78.107095 \r\nL 164.66685 77.297441 \r\nL 165.001985 75.997475 \r\nL 165.33712 76.434069 \r\nL 165.672255 80.034535 \r\nL 166.00739 78.579257 \r\nL 166.342525 81.777695 \r\nL 167.012796 79.928361 \r\nL 167.347931 80.856115 \r\nL 167.683066 78.623278 \r\nL 168.018201 79.256499 \r\nL 168.353336 77.450744 \r\nL 168.688471 77.253933 \r\nL 169.023606 76.606756 \r\nL 169.358742 77.64149 \r\nL 169.693877 77.857 \r\nL 170.029012 77.00141 \r\nL 170.364147 79.140407 \r\nL 170.699282 82.220355 \r\nL 171.034417 83.288922 \r\nL 171.369552 79.996099 \r\nL 171.704687 78.761464 \r\nL 172.039823 79.355901 \r\nL 172.374958 78.878815 \r\nL 173.380363 83.17348 \r\nL 173.715498 81.166639 \r\nL 174.050633 82.203097 \r\nL 174.385769 82.648927 \r\nL 175.056039 85.892304 \r\nL 175.391174 90.436767 \r\nL 175.726309 90.156742 \r\nL 176.061444 92.970643 \r\nL 176.396579 90.797134 \r\nL 176.731715 93.353968 \r\nL 177.06685 94.753924 \r\nL 177.401985 95.433343 \r\nL 177.73712 93.847982 \r\nL 178.072255 97.507255 \r\nL 178.742525 93.349012 \r\nL 179.07766 96.316478 \r\nL 179.412796 96.479412 \r\nL 179.747931 96.389977 \r\nL 180.083066 95.899864 \r\nL 180.418201 94.158827 \r\nL 180.753336 96.329289 \r\nL 181.088471 96.359872 \r\nL 181.423606 96.69029 \r\nL 181.758742 94.330728 \r\nL 182.764147 97.197027 \r\nL 183.099282 95.835074 \r\nL 183.434417 98.086898 \r\nL 183.769552 97.273353 \r\nL 184.104688 98.41941 \r\nL 184.439823 101.309237 \r\nL 185.110093 98.207255 \r\nL 185.445228 102.946838 \r\nL 185.780363 102.658223 \r\nL 186.115498 102.151168 \r\nL 186.450633 101.19323 \r\nL 186.785769 99.89156 \r\nL 187.120904 99.186396 \r\nL 187.456039 96.378333 \r\nL 187.791174 96.447811 \r\nL 188.126309 97.061447 \r\nL 188.461444 97.150448 \r\nL 188.796579 96.753031 \r\nL 189.131715 94.714776 \r\nL 189.46685 91.864787 \r\nL 189.801985 93.755083 \r\nL 190.13712 91.83114 \r\nL 190.472255 93.069222 \r\nL 190.80739 92.621695 \r\nL 191.142525 92.439144 \r\nL 191.47766 92.665349 \r\nL 191.812796 94.013161 \r\nL 192.147931 96.156937 \r\nL 192.483066 93.319418 \r\nL 192.818201 92.314032 \r\nL 193.153336 92.5633 \r\nL 193.488471 92.238112 \r\nL 194.158742 88.570263 \r\nL 194.493877 88.545644 \r\nL 194.829012 90.023563 \r\nL 195.164147 89.772978 \r\nL 195.499282 88.366862 \r\nL 195.834417 91.30852 \r\nL 196.169552 88.969201 \r\nL 196.504687 88.321456 \r\nL 196.839823 90.081089 \r\nL 197.845228 93.84469 \r\nL 198.180363 91.467796 \r\nL 198.515498 92.577552 \r\nL 198.850633 88.202831 \r\nL 199.185769 88.300628 \r\nL 199.520904 88.986378 \r\nL 199.856039 86.842342 \r\nL 200.191174 86.316915 \r\nL 200.526309 88.298365 \r\nL 200.861444 87.681485 \r\nL 201.531715 85.571324 \r\nL 201.86685 83.64001 \r\nL 202.201985 83.997468 \r\nL 203.20739 89.20071 \r\nL 203.542525 88.405906 \r\nL 203.87766 88.719193 \r\nL 204.212796 87.966754 \r\nL 204.547931 88.717678 \r\nL 205.218201 86.879125 \r\nL 205.553336 85.92938 \r\nL 205.888471 83.450268 \r\nL 206.223606 88.363301 \r\nL 206.558742 85.221197 \r\nL 206.893877 85.742537 \r\nL 207.229012 82.879512 \r\nL 207.564147 81.780589 \r\nL 207.899282 83.441938 \r\nL 208.234417 83.373241 \r\nL 208.569552 81.570165 \r\nL 208.904688 80.478939 \r\nL 209.239823 80.43937 \r\nL 209.574958 77.778929 \r\nL 209.910093 77.232408 \r\nL 210.245228 75.941243 \r\nL 210.580363 76.568676 \r\nL 210.915498 77.675865 \r\nL 211.250633 79.637136 \r\nL 211.585769 79.878241 \r\nL 211.920904 82.125922 \r\nL 212.256039 83.576533 \r\nL 212.591174 85.842512 \r\nL 212.926309 84.461335 \r\nL 213.596579 77.690748 \r\nL 213.931715 78.602316 \r\nL 214.601985 76.129887 \r\nL 214.93712 77.06506 \r\nL 215.272255 76.431908 \r\nL 215.60739 79.468562 \r\nL 215.942525 80.948149 \r\nL 216.27766 81.187286 \r\nL 216.612796 80.572447 \r\nL 216.947931 78.114733 \r\nL 217.283066 76.508075 \r\nL 217.618201 78.518686 \r\nL 217.953336 76.747146 \r\nL 218.288471 78.253054 \r\nL 218.623606 75.339736 \r\nL 219.293877 74.711811 \r\nL 219.629012 75.219769 \r\nL 219.964147 78.141023 \r\nL 220.299282 78.015125 \r\nL 220.634417 79.170591 \r\nL 220.969552 78.87173 \r\nL 221.304688 77.246781 \r\nL 221.639823 79.860933 \r\nL 221.974958 77.391285 \r\nL 222.645228 80.848346 \r\nL 222.980363 78.64695 \r\nL 223.315498 74.664345 \r\nL 223.650633 78.353914 \r\nL 223.985769 79.492945 \r\nL 224.320904 80.079225 \r\nL 224.656039 79.12037 \r\nL 224.991174 80.417307 \r\nL 225.326309 79.175793 \r\nL 225.661444 78.968315 \r\nL 226.331715 82.17496 \r\nL 226.66685 81.766148 \r\nL 227.001985 81.996946 \r\nL 227.33712 82.374184 \r\nL 227.672255 83.009298 \r\nL 228.00739 82.509467 \r\nL 228.342525 82.804647 \r\nL 228.67766 81.678021 \r\nL 229.347931 78.793603 \r\nL 229.683066 79.209609 \r\nL 230.018201 80.040377 \r\nL 230.353336 84.024518 \r\nL 230.688471 84.570772 \r\nL 231.023606 82.106297 \r\nL 231.358742 81.409346 \r\nL 231.693877 83.028779 \r\nL 232.029012 80.856905 \r\nL 232.364147 74.873264 \r\nL 232.699282 75.485154 \r\nL 233.034417 76.608323 \r\nL 233.369552 78.194502 \r\nL 233.704687 77.027634 \r\nL 234.039823 76.379981 \r\nL 234.710093 81.107047 \r\nL 235.045228 78.7035 \r\nL 235.380363 75.167239 \r\nL 235.715498 75.045706 \r\nL 236.050633 75.068102 \r\nL 236.385769 74.534294 \r\nL 236.720904 73.213397 \r\nL 237.056039 74.91288 \r\nL 237.391174 73.107339 \r\nL 237.726309 71.988297 \r\nL 238.061444 73.630312 \r\nL 238.396579 72.482467 \r\nL 238.731715 73.361614 \r\nL 239.06685 72.238392 \r\nL 239.401985 75.6617 \r\nL 239.73712 76.3704 \r\nL 240.072255 79.177316 \r\nL 240.40739 76.385978 \r\nL 240.742525 79.190727 \r\nL 241.07766 76.047523 \r\nL 241.412796 71.494301 \r\nL 241.747931 71.676175 \r\nL 242.083066 70.795214 \r\nL 242.418201 73.390214 \r\nL 242.753336 74.499983 \r\nL 243.088471 75.040792 \r\nL 243.423606 76.86917 \r\nL 243.758742 76.450016 \r\nL 244.093877 77.600692 \r\nL 244.429012 77.464625 \r\nL 244.764147 76.920835 \r\nL 245.099282 78.088556 \r\nL 245.434417 78.843747 \r\nL 245.769552 77.264999 \r\nL 246.104688 75.087554 \r\nL 246.439823 76.096183 \r\nL 246.774958 74.641267 \r\nL 247.110093 75.815607 \r\nL 247.445228 79.199093 \r\nL 248.115498 75.39175 \r\nL 248.450633 76.07616 \r\nL 248.785769 73.494378 \r\nL 249.120904 75.111968 \r\nL 249.456039 76.022856 \r\nL 249.791174 78.494641 \r\nL 250.126309 79.964245 \r\nL 250.461444 78.875331 \r\nL 250.796579 78.631048 \r\nL 251.131715 78.767598 \r\nL 251.46685 79.499448 \r\nL 251.801985 82.658199 \r\nL 252.13712 79.629666 \r\nL 252.472255 80.730187 \r\nL 252.80739 76.869727 \r\nL 253.142525 76.621477 \r\nL 253.47766 74.045857 \r\nL 253.812796 76.478334 \r\nL 254.147931 75.012256 \r\nL 254.483066 77.029796 \r\nL 255.488471 72.02777 \r\nL 255.823606 71.928267 \r\nL 256.158742 75.202112 \r\nL 256.829012 78.829493 \r\nL 257.499282 82.292637 \r\nL 258.504687 78.097233 \r\nL 258.839823 79.453539 \r\nL 259.174958 80.147546 \r\nL 259.510093 77.30728 \r\nL 259.845228 75.806761 \r\nL 260.180363 75.660471 \r\nL 260.515498 74.192357 \r\nL 260.850633 74.269214 \r\nL 261.185769 74.691725 \r\nL 261.520904 73.07084 \r\nL 261.856039 72.944715 \r\nL 262.191174 77.150927 \r\nL 262.526309 77.56919 \r\nL 262.861444 76.872758 \r\nL 263.531715 73.84323 \r\nL 263.86685 71.51682 \r\nL 264.201985 71.796903 \r\nL 264.53712 71.158514 \r\nL 264.872255 72.466389 \r\nL 265.20739 72.297731 \r\nL 265.542525 70.5575 \r\nL 265.87766 70.928414 \r\nL 266.212796 69.731045 \r\nL 266.547931 70.382213 \r\nL 267.218201 67.167633 \r\nL 267.888471 74.184733 \r\nL 268.223606 74.151443 \r\nL 268.558742 74.309353 \r\nL 268.893877 75.209851 \r\nL 269.229012 74.196203 \r\nL 269.564147 77.681707 \r\nL 269.899282 78.602875 \r\nL 270.234417 78.975063 \r\nL 270.569552 81.871891 \r\nL 270.904688 81.056865 \r\nL 271.239823 80.633604 \r\nL 271.910093 80.882274 \r\nL 272.245228 79.805019 \r\nL 272.580363 77.641112 \r\nL 272.915498 76.395056 \r\nL 273.250633 73.160075 \r\nL 273.920904 69.119074 \r\nL 274.256039 71.259559 \r\nL 274.591174 70.410046 \r\nL 274.926309 68.731054 \r\nL 275.261444 68.974631 \r\nL 275.596579 69.815661 \r\nL 275.931715 68.354398 \r\nL 276.26685 68.9815 \r\nL 276.601985 68.662188 \r\nL 276.93712 68.553044 \r\nL 277.272255 69.956496 \r\nL 277.60739 70.263343 \r\nL 277.942525 68.898375 \r\nL 278.27766 71.926954 \r\nL 278.612796 71.102341 \r\nL 278.947931 74.587743 \r\nL 279.618201 72.315403 \r\nL 279.953336 73.974008 \r\nL 280.623606 71.424303 \r\nL 280.958742 71.227849 \r\nL 281.293877 71.319676 \r\nL 281.629012 69.339004 \r\nL 281.964147 66.342385 \r\nL 282.299282 66.959271 \r\nL 282.634417 67.980699 \r\nL 282.969552 67.239561 \r\nL 283.304688 63.955261 \r\nL 283.639823 67.012826 \r\nL 283.974958 68.049919 \r\nL 284.310093 65.192312 \r\nL 284.645228 64.088168 \r\nL 284.980363 64.018677 \r\nL 285.650633 66.734241 \r\nL 285.985769 65.003647 \r\nL 286.320904 65.716584 \r\nL 286.656039 65.980991 \r\nL 286.991174 63.983062 \r\nL 287.326309 64.538456 \r\nL 287.661444 65.529437 \r\nL 287.996579 63.406229 \r\nL 288.331715 64.201195 \r\nL 288.66685 64.430144 \r\nL 289.001985 63.260172 \r\nL 289.672255 58.592836 \r\nL 290.00739 62.703859 \r\nL 290.342525 65.358467 \r\nL 290.67766 69.084309 \r\nL 291.012796 69.841739 \r\nL 291.347931 65.169664 \r\nL 291.683066 64.721481 \r\nL 292.018201 68.00636 \r\nL 292.353336 66.82015 \r\nL 292.688471 66.686685 \r\nL 293.023606 64.775483 \r\nL 293.358742 63.682655 \r\nL 293.693877 62.026483 \r\nL 294.364147 64.045641 \r\nL 294.699282 63.752505 \r\nL 295.034417 65.609788 \r\nL 295.369552 69.299281 \r\nL 296.039823 66.796057 \r\nL 296.374958 67.185295 \r\nL 296.710093 69.404751 \r\nL 297.045228 69.995088 \r\nL 297.380363 71.420685 \r\nL 297.715498 71.16502 \r\nL 298.050633 68.708748 \r\nL 298.720904 69.396331 \r\nL 299.056039 67.074112 \r\nL 299.391174 69.222439 \r\nL 299.726309 68.059345 \r\nL 300.061444 67.74622 \r\nL 300.396579 70.176223 \r\nL 300.731715 71.196953 \r\nL 301.06685 73.036934 \r\nL 301.401985 71.375973 \r\nL 301.73712 70.989739 \r\nL 302.072255 70.954804 \r\nL 302.40739 72.170279 \r\nL 302.742525 71.008923 \r\nL 303.07766 66.565797 \r\nL 303.412796 68.362702 \r\nL 303.747931 66.985512 \r\nL 304.753336 74.098634 \r\nL 305.088471 75.59917 \r\nL 305.423606 73.096018 \r\nL 306.093877 75.327453 \r\nL 306.764147 72.894738 \r\nL 307.099282 73.208599 \r\nL 307.434417 73.887631 \r\nL 307.769552 75.253589 \r\nL 308.439823 76.148591 \r\nL 308.774958 72.942525 \r\nL 309.110093 73.478325 \r\nL 309.445228 71.437534 \r\nL 309.780363 67.482553 \r\nL 310.115498 66.534722 \r\nL 310.785769 69.480979 \r\nL 311.120904 70.552867 \r\nL 311.456039 70.709189 \r\nL 311.791174 69.824245 \r\nL 312.461444 71.809087 \r\nL 312.796579 74.984597 \r\nL 313.131715 72.701221 \r\nL 313.46685 73.162921 \r\nL 313.801985 71.885343 \r\nL 314.13712 74.30509 \r\nL 314.472255 75.279781 \r\nL 314.80739 76.848551 \r\nL 315.142525 79.72256 \r\nL 315.47766 78.744339 \r\nL 315.812796 79.150614 \r\nL 316.147931 81.505475 \r\nL 316.483066 79.619421 \r\nL 316.818201 80.625733 \r\nL 317.153336 77.161191 \r\nL 317.488471 79.943441 \r\nL 317.823606 79.904081 \r\nL 318.158742 78.107894 \r\nL 318.493877 78.41526 \r\nL 318.829012 79.271605 \r\nL 319.164147 78.826757 \r\nL 319.499282 78.754397 \r\nL 319.834417 79.096999 \r\nL 320.504687 85.04185 \r\nL 320.839823 83.964469 \r\nL 321.174958 86.525974 \r\nL 321.510093 85.149873 \r\nL 321.845228 85.498965 \r\nL 322.180363 85.468958 \r\nL 323.185769 77.480565 \r\nL 323.856039 78.07621 \r\nL 324.191174 76.433626 \r\nL 324.526309 77.711744 \r\nL 325.531715 71.307498 \r\nL 325.86685 73.13721 \r\nL 326.201985 72.564781 \r\nL 326.53712 72.919795 \r\nL 326.872255 72.989963 \r\nL 327.20739 74.95735 \r\nL 327.542525 71.874186 \r\nL 327.87766 71.308774 \r\nL 328.212796 69.056448 \r\nL 328.547931 70.45548 \r\nL 328.883066 71.16514 \r\nL 329.553336 76.164963 \r\nL 330.223606 70.901703 \r\nL 330.558742 72.517431 \r\nL 330.893877 70.693216 \r\nL 331.229012 71.990989 \r\nL 331.564147 70.465221 \r\nL 331.899282 70.676107 \r\nL 332.234417 72.599429 \r\nL 332.569552 72.889955 \r\nL 333.239823 78.373204 \r\nL 333.574958 79.004006 \r\nL 333.910093 77.826233 \r\nL 334.245228 79.269975 \r\nL 334.580363 79.305067 \r\nL 334.915498 76.050734 \r\nL 335.250633 74.96222 \r\nL 335.585769 75.828077 \r\nL 335.920904 75.869173 \r\nL 336.256039 76.961238 \r\nL 336.591174 75.845825 \r\nL 337.261444 76.986592 \r\nL 337.596579 76.632288 \r\nL 338.26685 82.578228 \r\nL 338.601985 82.209658 \r\nL 338.93712 84.151632 \r\nL 339.272255 84.671945 \r\nL 339.60739 85.409552 \r\nL 339.942525 86.999628 \r\nL 340.27766 85.307195 \r\nL 340.612796 85.892666 \r\nL 340.947931 84.768691 \r\nL 341.618201 84.062065 \r\nL 342.623606 89.161536 \r\nL 342.958742 88.653169 \r\nL 343.293877 89.797961 \r\nL 343.629012 91.408068 \r\nL 344.299282 92.580422 \r\nL 344.634417 94.75699 \r\nL 344.969552 96.194356 \r\nL 345.304688 92.619918 \r\nL 345.639823 94.304294 \r\nL 345.974958 95.260906 \r\nL 346.645228 91.120073 \r\nL 346.980363 95.058041 \r\nL 347.315498 95.944272 \r\nL 347.650633 95.24276 \r\nL 347.985769 91.285399 \r\nL 348.320904 91.529695 \r\nL 349.661444 89.008819 \r\nL 349.996579 90.669283 \r\nL 350.331715 91.462529 \r\nL 350.66685 93.322357 \r\nL 351.001985 89.469089 \r\nL 351.33712 90.808385 \r\nL 351.672255 90.340193 \r\nL 352.00739 92.528989 \r\nL 352.342525 90.636697 \r\nL 353.012796 88.613954 \r\nL 353.347931 93.702856 \r\nL 353.683066 95.087523 \r\nL 354.018201 93.871826 \r\nL 354.353336 94.72925 \r\nL 354.688471 92.640354 \r\nL 355.023606 92.080376 \r\nL 355.358742 92.631876 \r\nL 355.693877 90.316402 \r\nL 356.029012 92.274678 \r\nL 356.364147 92.047176 \r\nL 356.699282 93.938804 \r\nL 357.369552 92.242443 \r\nL 357.704687 95.183954 \r\nL 358.039823 90.844215 \r\nL 358.374958 91.858072 \r\nL 358.710093 91.099834 \r\nL 359.380363 93.342338 \r\nL 359.715498 93.7167 \r\nL 360.050633 94.633539 \r\nL 360.385769 97.938321 \r\nL 360.720904 99.152806 \r\nL 361.391174 99.773575 \r\nL 361.726309 98.847216 \r\nL 362.061444 99.643016 \r\nL 362.396579 99.542914 \r\nL 362.731715 100.75236 \r\nL 363.06685 99.962622 \r\nL 363.73712 101.20759 \r\nL 364.072255 99.750696 \r\nL 364.40739 97.302568 \r\nL 364.742525 96.345364 \r\nL 365.07766 91.296615 \r\nL 365.412796 88.553642 \r\nL 365.747931 89.692844 \r\nL 366.083066 89.390091 \r\nL 366.418201 88.195127 \r\nL 366.753336 90.729592 \r\nL 367.088471 91.400482 \r\nL 367.423606 91.1775 \r\nL 367.758742 87.632797 \r\nL 368.093877 86.096168 \r\nL 368.429012 86.128789 \r\nL 368.764147 87.357544 \r\nL 369.099282 85.859114 \r\nL 369.434417 87.436053 \r\nL 369.769552 87.441 \r\nL 370.104688 88.425695 \r\nL 370.104688 88.425695 \r\n\" style=\"fill:none;stroke:#ff7f0e;stroke-linecap:square;stroke-width:1.5;\"/>\r\n   </g>\r\n   <g id=\"line2d_43\">\r\n    <path clip-path=\"url(#pd2703c3700)\" d=\"M 35.304688 48.181037 \r\nL 35.639823 49.333517 \r\nL 35.974958 49.496352 \r\nL 36.645228 52.025813 \r\nL 36.980363 51.655362 \r\nL 37.315498 52.75862 \r\nL 37.650633 53.185531 \r\nL 38.320904 51.344872 \r\nL 38.656039 51.961362 \r\nL 38.991174 50.828077 \r\nL 39.326309 50.228006 \r\nL 39.661444 54.035748 \r\nL 39.996579 52.733978 \r\nL 40.331715 52.14184 \r\nL 41.001985 53.638774 \r\nL 41.33712 50.399219 \r\nL 41.672255 53.515348 \r\nL 42.00739 53.819155 \r\nL 42.342525 52.236918 \r\nL 42.67766 49.05343 \r\nL 43.012796 51.012199 \r\nL 44.018201 54.266603 \r\nL 44.688471 54.061876 \r\nL 45.023606 53.79017 \r\nL 45.358742 52.523227 \r\nL 46.364147 46.778696 \r\nL 46.699282 45.614052 \r\nL 47.034417 45.246365 \r\nL 47.369552 43.201604 \r\nL 47.704687 44.024707 \r\nL 48.039823 43.365038 \r\nL 48.374958 40.651997 \r\nL 48.710093 39.409905 \r\nL 49.380363 40.852941 \r\nL 49.715498 38.107926 \r\nL 50.050633 36.856456 \r\nL 50.385769 38.576159 \r\nL 51.056039 44.192492 \r\nL 51.726309 44.388482 \r\nL 52.061444 44.335437 \r\nL 52.396579 47.127708 \r\nL 52.731715 51.339867 \r\nL 53.06685 50.336451 \r\nL 53.401985 52.338177 \r\nL 53.73712 52.859537 \r\nL 54.072255 53.596793 \r\nL 54.40739 56.523263 \r\nL 54.742525 55.406877 \r\nL 55.07766 53.328988 \r\nL 55.412796 52.676552 \r\nL 55.747931 55.653628 \r\nL 56.083066 55.155034 \r\nL 56.418201 57.74695 \r\nL 56.753336 57.098152 \r\nL 57.088471 59.465711 \r\nL 57.423606 59.277181 \r\nL 58.093877 57.611041 \r\nL 58.429012 55.250318 \r\nL 59.099282 56.564033 \r\nL 59.434417 55.408894 \r\nL 60.104688 55.579414 \r\nL 60.439823 52.088438 \r\nL 60.774958 53.128493 \r\nL 61.110093 52.886868 \r\nL 61.445228 54.831886 \r\nL 61.780363 54.786115 \r\nL 62.115498 55.852249 \r\nL 62.450633 52.602627 \r\nL 62.785769 50.84033 \r\nL 63.120904 48.257911 \r\nL 63.456039 44.380902 \r\nL 63.791174 42.413888 \r\nL 64.126309 44.061616 \r\nL 64.461444 43.259366 \r\nL 64.796579 41.083905 \r\nL 65.131715 39.746355 \r\nL 65.46685 39.904969 \r\nL 65.801985 42.230335 \r\nL 66.472255 41.158258 \r\nL 66.80739 43.64721 \r\nL 67.142525 42.610353 \r\nL 67.47766 43.954757 \r\nL 67.812796 44.830706 \r\nL 68.147931 45.343324 \r\nL 68.483066 46.11917 \r\nL 68.818201 45.738918 \r\nL 69.153336 43.813686 \r\nL 69.488471 46.306212 \r\nL 69.823606 45.119068 \r\nL 70.158742 44.856954 \r\nL 70.493877 46.974732 \r\nL 70.829012 46.351574 \r\nL 71.834417 39.034631 \r\nL 72.169552 39.871833 \r\nL 72.504687 42.348014 \r\nL 72.839823 42.425064 \r\nL 73.174958 48.689789 \r\nL 73.510093 51.132776 \r\nL 73.845228 50.249778 \r\nL 74.180363 49.038915 \r\nL 74.850633 45.122681 \r\nL 75.185769 47.018212 \r\nL 75.520904 46.095471 \r\nL 75.856039 44.099407 \r\nL 76.191174 43.698759 \r\nL 76.526309 41.830587 \r\nL 77.196579 41.375534 \r\nL 77.531715 43.047732 \r\nL 77.86685 43.383741 \r\nL 78.201985 46.09091 \r\nL 78.53712 42.25523 \r\nL 78.872255 43.993288 \r\nL 79.20739 44.273745 \r\nL 79.542525 41.365466 \r\nL 79.87766 42.493494 \r\nL 80.212796 42.815441 \r\nL 80.547931 40.98657 \r\nL 80.883066 38.077265 \r\nL 81.218201 41.577231 \r\nL 81.553336 42.438934 \r\nL 81.888471 40.669305 \r\nL 82.223606 37.475094 \r\nL 82.558742 36.795881 \r\nL 82.893877 36.905496 \r\nL 83.229012 36.31546 \r\nL 83.899282 33.217675 \r\nL 84.234417 33.318641 \r\nL 84.569552 31.69064 \r\nL 84.904688 32.429295 \r\nL 85.239823 31.169118 \r\nL 85.574958 32.150546 \r\nL 85.910093 28.897265 \r\nL 86.245228 28.257385 \r\nL 86.580363 26.3176 \r\nL 86.915498 27.104053 \r\nL 87.250633 26.354581 \r\nL 87.585769 26.413089 \r\nL 87.920904 26.109764 \r\nL 88.256039 27.51701 \r\nL 88.591174 26.397512 \r\nL 88.926309 22.74978 \r\nL 89.261444 23.791473 \r\nL 89.596579 23.84609 \r\nL 89.931715 23.737281 \r\nL 90.601985 25.315125 \r\nL 90.93712 24.573912 \r\nL 91.272255 21.077954 \r\nL 91.60739 19.541959 \r\nL 91.942525 19.937652 \r\nL 92.27766 17.683134 \r\nL 92.612796 17.083636 \r\nL 92.947931 20.019957 \r\nL 93.283066 20.488498 \r\nL 93.618201 19.927667 \r\nL 93.953336 20.917883 \r\nL 94.288471 21.529505 \r\nL 94.623606 23.822042 \r\nL 94.958742 24.063553 \r\nL 95.293877 29.148466 \r\nL 95.629012 28.30451 \r\nL 95.964147 28.074375 \r\nL 96.299282 26.399958 \r\nL 96.634417 27.276685 \r\nL 96.969552 27.739497 \r\nL 97.304688 27.310339 \r\nL 97.639823 27.683341 \r\nL 97.974958 27.587229 \r\nL 98.310093 28.838506 \r\nL 98.645228 29.372611 \r\nL 98.980363 28.259901 \r\nL 99.315498 29.678059 \r\nL 99.650633 33.323143 \r\nL 99.985769 33.260296 \r\nL 100.320904 31.530027 \r\nL 100.656039 26.99414 \r\nL 100.991174 27.143569 \r\nL 101.326309 27.789912 \r\nL 101.661444 25.914571 \r\nL 101.996579 27.415042 \r\nL 102.331715 26.961098 \r\nL 102.66685 26.219293 \r\nL 103.001985 26.556029 \r\nL 103.672255 30.688578 \r\nL 104.00739 31.025171 \r\nL 104.342525 28.071522 \r\nL 104.67766 30.412285 \r\nL 105.012796 31.95947 \r\nL 105.347931 32.911611 \r\nL 105.683066 32.267857 \r\nL 106.353336 38.589541 \r\nL 106.688471 38.973366 \r\nL 107.023606 44.69967 \r\nL 107.693877 41.365485 \r\nL 108.029012 44.105789 \r\nL 108.364147 45.050209 \r\nL 108.699282 49.232275 \r\nL 109.034417 48.553234 \r\nL 109.369552 47.187964 \r\nL 109.704687 49.488208 \r\nL 110.039823 49.356752 \r\nL 110.374958 49.46735 \r\nL 110.710093 49.23676 \r\nL 111.045228 51.78069 \r\nL 111.380363 52.562993 \r\nL 111.715498 51.633481 \r\nL 112.050633 49.411221 \r\nL 112.720904 50.4238 \r\nL 113.056039 50.302113 \r\nL 113.391174 51.324381 \r\nL 113.726309 50.778614 \r\nL 114.061444 49.228996 \r\nL 114.396579 46.815268 \r\nL 114.731715 47.348144 \r\nL 115.06685 46.432959 \r\nL 115.401985 47.101894 \r\nL 115.73712 49.55654 \r\nL 116.072255 50.306463 \r\nL 116.742525 54.650239 \r\nL 117.07766 54.991209 \r\nL 117.412796 54.73748 \r\nL 117.747931 53.196279 \r\nL 118.083066 54.321597 \r\nL 118.418201 53.666906 \r\nL 118.753336 54.022438 \r\nL 119.088471 55.16584 \r\nL 119.423606 57.227387 \r\nL 119.758742 61.192372 \r\nL 120.093877 61.071385 \r\nL 121.434417 51.00436 \r\nL 121.769552 50.268169 \r\nL 122.104688 52.562221 \r\nL 122.439823 48.765177 \r\nL 122.774958 48.26532 \r\nL 123.110093 46.593786 \r\nL 123.445228 44.07052 \r\nL 123.780363 44.604268 \r\nL 124.115498 45.896478 \r\nL 124.450633 44.494685 \r\nL 125.120904 46.113421 \r\nL 125.791174 48.21696 \r\nL 126.126309 47.878707 \r\nL 126.461444 47.104904 \r\nL 126.796579 49.625435 \r\nL 127.131715 47.981458 \r\nL 127.46685 51.227534 \r\nL 127.801985 51.456656 \r\nL 128.13712 51.389636 \r\nL 128.472255 50.25394 \r\nL 128.80739 51.149095 \r\nL 129.142525 50.87151 \r\nL 129.47766 50.220678 \r\nL 129.812796 50.181693 \r\nL 130.147931 51.495965 \r\nL 130.483066 50.048561 \r\nL 130.818201 49.227926 \r\nL 131.153336 49.659017 \r\nL 131.488471 48.480373 \r\nL 131.823606 46.040971 \r\nL 132.158742 50.661839 \r\nL 132.493877 52.014217 \r\nL 132.829012 52.443674 \r\nL 133.164147 53.490683 \r\nL 133.499282 54.014013 \r\nL 133.834417 55.624457 \r\nL 134.169552 51.898796 \r\nL 134.504687 51.056717 \r\nL 134.839823 53.198243 \r\nL 135.510093 51.303664 \r\nL 135.845228 49.006039 \r\nL 136.180363 45.479073 \r\nL 136.515498 43.766003 \r\nL 136.850633 46.027888 \r\nL 137.185769 45.316273 \r\nL 137.520904 48.789985 \r\nL 137.856039 50.895675 \r\nL 138.191174 54.964209 \r\nL 138.526309 54.712242 \r\nL 138.861444 53.748147 \r\nL 139.196579 55.421431 \r\nL 139.86685 55.118757 \r\nL 140.201985 55.72915 \r\nL 140.53712 55.666926 \r\nL 140.872255 55.042675 \r\nL 141.20739 52.488183 \r\nL 141.542525 48.714499 \r\nL 141.87766 49.698072 \r\nL 142.212796 50.163658 \r\nL 142.547931 49.856264 \r\nL 142.883066 48.94479 \r\nL 143.218201 50.269522 \r\nL 143.888471 54.229067 \r\nL 144.223606 53.673294 \r\nL 144.558742 54.818597 \r\nL 145.229012 51.143305 \r\nL 145.899282 48.379776 \r\nL 146.234417 49.479122 \r\nL 146.569552 46.642883 \r\nL 146.904688 46.116085 \r\nL 147.574958 42.276679 \r\nL 147.910093 40.651785 \r\nL 148.245228 44.350564 \r\nL 148.580363 43.611313 \r\nL 148.915498 43.964254 \r\nL 149.250633 44.825461 \r\nL 149.585769 46.441962 \r\nL 149.920904 47.191337 \r\nL 150.256039 45.489463 \r\nL 150.926309 48.375679 \r\nL 151.261444 46.383878 \r\nL 151.931715 47.110137 \r\nL 152.26685 46.052126 \r\nL 152.93712 49.663879 \r\nL 153.272255 49.358679 \r\nL 153.60739 50.253218 \r\nL 153.942525 50.167447 \r\nL 154.27766 46.617057 \r\nL 154.612796 47.507477 \r\nL 154.947931 46.989219 \r\nL 155.283066 43.690673 \r\nL 155.618201 42.781576 \r\nL 155.953336 44.725899 \r\nL 156.288471 44.630469 \r\nL 156.623606 45.528602 \r\nL 156.958742 47.719754 \r\nL 157.293877 47.359952 \r\nL 157.629012 46.342346 \r\nL 158.299282 45.634416 \r\nL 158.634417 43.171387 \r\nL 158.969552 42.948151 \r\nL 159.639823 48.438672 \r\nL 159.974958 48.402896 \r\nL 160.310093 48.207425 \r\nL 160.645228 45.564348 \r\nL 160.980363 46.835931 \r\nL 161.315498 46.916406 \r\nL 161.650633 45.403952 \r\nL 161.985769 43.060553 \r\nL 162.320904 41.796528 \r\nL 162.656039 41.260719 \r\nL 162.991174 43.154149 \r\nL 163.326309 43.900244 \r\nL 163.661444 44.261678 \r\nL 163.996579 47.0039 \r\nL 164.331715 43.591744 \r\nL 164.66685 42.886251 \r\nL 165.001985 42.864169 \r\nL 165.33712 43.87788 \r\nL 165.672255 41.27075 \r\nL 166.00739 40.963906 \r\nL 166.342525 40.24436 \r\nL 166.67766 38.731267 \r\nL 167.012796 38.057139 \r\nL 167.347931 38.173334 \r\nL 167.683066 41.028314 \r\nL 168.018201 41.434727 \r\nL 168.688471 44.333286 \r\nL 169.023606 45.305839 \r\nL 169.358742 46.93614 \r\nL 169.693877 49.405634 \r\nL 170.029012 47.169372 \r\nL 170.364147 46.458638 \r\nL 170.699282 46.051875 \r\nL 171.034417 46.954997 \r\nL 171.704687 54.519358 \r\nL 172.039823 54.549858 \r\nL 172.374958 52.693058 \r\nL 172.710093 53.514629 \r\nL 173.045228 53.489511 \r\nL 173.380363 54.002812 \r\nL 173.715498 56.178408 \r\nL 174.050633 55.77829 \r\nL 174.385769 55.846138 \r\nL 174.720904 52.81009 \r\nL 175.056039 53.617305 \r\nL 175.391174 50.904044 \r\nL 175.726309 52.999816 \r\nL 176.061444 52.543028 \r\nL 176.396579 53.701432 \r\nL 176.731715 48.757831 \r\nL 177.06685 51.660658 \r\nL 177.401985 52.205851 \r\nL 177.73712 53.187439 \r\nL 178.072255 53.358148 \r\nL 178.40739 52.840531 \r\nL 178.742525 54.174353 \r\nL 179.07766 54.182105 \r\nL 179.412796 55.19908 \r\nL 179.747931 57.301176 \r\nL 180.083066 56.603575 \r\nL 180.418201 54.626391 \r\nL 181.088471 56.336593 \r\nL 181.423606 59.296672 \r\nL 182.093877 60.823221 \r\nL 182.429012 60.780641 \r\nL 182.764147 61.796193 \r\nL 183.099282 61.041666 \r\nL 183.434417 63.521385 \r\nL 183.769552 61.281258 \r\nL 184.104688 61.344749 \r\nL 184.439823 62.933 \r\nL 184.774958 62.767888 \r\nL 185.110093 64.069816 \r\nL 185.445228 64.868645 \r\nL 185.780363 62.891249 \r\nL 186.115498 63.133152 \r\nL 186.450633 65.265523 \r\nL 186.785769 64.195853 \r\nL 187.120904 64.836676 \r\nL 187.456039 64.403615 \r\nL 187.791174 65.689392 \r\nL 188.126309 64.199271 \r\nL 188.796579 64.693559 \r\nL 189.131715 64.402526 \r\nL 189.46685 67.944685 \r\nL 189.801985 67.062519 \r\nL 190.13712 70.977109 \r\nL 190.472255 71.054121 \r\nL 190.80739 71.424005 \r\nL 191.47766 73.568963 \r\nL 191.812796 73.960071 \r\nL 192.147931 73.353233 \r\nL 192.483066 74.419897 \r\nL 192.818201 73.177113 \r\nL 193.153336 72.459662 \r\nL 193.488471 76.37122 \r\nL 193.823606 76.544977 \r\nL 194.493877 73.097709 \r\nL 195.164147 75.81642 \r\nL 195.499282 78.093645 \r\nL 195.834417 83.839912 \r\nL 196.169552 83.471246 \r\nL 196.504687 81.998756 \r\nL 196.839823 81.304276 \r\nL 197.174958 80.176345 \r\nL 197.510093 81.267198 \r\nL 197.845228 81.397458 \r\nL 198.180363 81.657334 \r\nL 198.515498 84.593432 \r\nL 198.850633 84.221131 \r\nL 199.185769 87.051621 \r\nL 199.520904 87.861837 \r\nL 199.856039 87.895338 \r\nL 200.191174 90.683887 \r\nL 200.526309 90.164204 \r\nL 200.861444 90.119997 \r\nL 201.196579 91.488205 \r\nL 201.531715 88.359584 \r\nL 201.86685 86.641995 \r\nL 202.201985 89.523157 \r\nL 202.53712 88.743232 \r\nL 202.872255 91.6276 \r\nL 203.20739 89.989971 \r\nL 203.542525 90.132954 \r\nL 203.87766 86.534727 \r\nL 204.212796 84.553137 \r\nL 204.547931 84.526491 \r\nL 204.883066 84.260097 \r\nL 205.218201 85.973607 \r\nL 205.888471 87.546123 \r\nL 206.223606 87.478179 \r\nL 206.558742 88.448761 \r\nL 206.893877 87.333437 \r\nL 207.229012 86.953685 \r\nL 207.564147 89.339225 \r\nL 207.899282 87.887536 \r\nL 208.234417 91.3178 \r\nL 208.569552 92.876108 \r\nL 209.239823 91.58213 \r\nL 209.574958 92.911342 \r\nL 209.910093 94.980087 \r\nL 210.245228 93.381238 \r\nL 210.580363 96.863552 \r\nL 210.915498 95.916207 \r\nL 211.250633 93.36817 \r\nL 211.920904 94.352739 \r\nL 212.256039 94.530432 \r\nL 212.591174 92.823079 \r\nL 212.926309 92.457422 \r\nL 213.596579 89.582529 \r\nL 213.931715 91.81067 \r\nL 214.26685 92.012322 \r\nL 214.601985 93.170541 \r\nL 214.93712 92.573886 \r\nL 215.272255 93.683637 \r\nL 215.60739 95.491197 \r\nL 215.942525 98.922893 \r\nL 216.27766 99.938007 \r\nL 216.612796 101.60296 \r\nL 216.947931 102.314686 \r\nL 217.618201 97.647186 \r\nL 217.953336 96.521319 \r\nL 218.288471 97.736457 \r\nL 218.623606 95.571467 \r\nL 218.958742 96.705883 \r\nL 219.293877 98.64241 \r\nL 219.629012 99.599482 \r\nL 220.634417 93.430554 \r\nL 220.969552 93.905902 \r\nL 221.639823 93.882359 \r\nL 221.974958 94.524855 \r\nL 222.645228 93.018678 \r\nL 222.980363 94.022539 \r\nL 223.315498 92.946036 \r\nL 223.650633 91.334608 \r\nL 223.985769 94.160403 \r\nL 224.320904 92.347334 \r\nL 224.991174 93.965733 \r\nL 225.661444 90.250077 \r\nL 226.331715 89.001309 \r\nL 227.001985 95.795762 \r\nL 227.33712 95.796194 \r\nL 227.672255 97.126187 \r\nL 228.00739 99.142942 \r\nL 228.342525 100.138473 \r\nL 228.67766 99.914884 \r\nL 229.012796 98.12305 \r\nL 229.347931 98.780844 \r\nL 229.683066 98.198984 \r\nL 230.018201 96.229063 \r\nL 230.353336 96.253088 \r\nL 230.688471 96.892162 \r\nL 231.023606 96.723288 \r\nL 231.358742 96.28599 \r\nL 231.693877 98.867822 \r\nL 232.029012 99.749286 \r\nL 232.364147 97.794261 \r\nL 233.034417 95.848419 \r\nL 233.369552 95.902494 \r\nL 233.704687 92.852449 \r\nL 234.374958 89.591192 \r\nL 234.710093 92.88382 \r\nL 235.045228 90.042627 \r\nL 235.380363 89.645994 \r\nL 235.715498 89.444435 \r\nL 236.050633 88.222197 \r\nL 236.385769 85.312507 \r\nL 236.720904 83.385869 \r\nL 237.056039 84.473492 \r\nL 237.391174 86.649638 \r\nL 237.726309 87.890407 \r\nL 238.396579 85.914376 \r\nL 238.731715 86.704245 \r\nL 239.06685 91.030852 \r\nL 239.401985 93.096867 \r\nL 239.73712 97.618769 \r\nL 240.40739 92.95127 \r\nL 240.742525 95.101265 \r\nL 241.07766 94.339835 \r\nL 241.412796 92.742664 \r\nL 241.747931 93.564308 \r\nL 242.083066 91.116001 \r\nL 242.418201 89.616491 \r\nL 242.753336 88.652891 \r\nL 243.088471 88.728294 \r\nL 243.423606 89.514176 \r\nL 243.758742 89.597947 \r\nL 244.093877 91.773755 \r\nL 244.429012 90.648426 \r\nL 244.764147 87.656725 \r\nL 245.099282 90.107966 \r\nL 245.434417 89.493326 \r\nL 245.769552 90.886213 \r\nL 246.104688 87.748177 \r\nL 246.439823 89.41669 \r\nL 246.774958 88.539051 \r\nL 247.110093 91.45948 \r\nL 247.445228 88.87174 \r\nL 248.115498 82.236468 \r\nL 248.450633 80.870837 \r\nL 248.785769 82.927011 \r\nL 249.120904 87.048749 \r\nL 249.456039 88.039113 \r\nL 249.791174 87.16189 \r\nL 250.126309 87.664443 \r\nL 250.461444 86.207947 \r\nL 250.796579 86.06923 \r\nL 251.131715 87.985508 \r\nL 251.46685 86.479631 \r\nL 251.801985 86.082372 \r\nL 252.13712 87.331535 \r\nL 252.472255 90.384218 \r\nL 252.80739 88.89972 \r\nL 253.142525 91.453784 \r\nL 253.47766 91.153576 \r\nL 253.812796 91.828336 \r\nL 254.147931 94.295456 \r\nL 254.483066 94.027778 \r\nL 254.818201 97.627873 \r\nL 255.153336 97.002205 \r\nL 255.488471 97.828276 \r\nL 255.823606 97.163349 \r\nL 256.158742 95.823401 \r\nL 256.493877 92.558052 \r\nL 256.829012 91.288594 \r\nL 257.164147 91.230108 \r\nL 257.499282 90.169787 \r\nL 257.834417 88.465941 \r\nL 258.504687 93.054322 \r\nL 258.839823 92.636201 \r\nL 259.174958 91.949461 \r\nL 259.510093 92.040985 \r\nL 259.845228 93.176834 \r\nL 260.180363 93.582942 \r\nL 260.515498 92.781571 \r\nL 260.850633 93.873499 \r\nL 261.185769 91.258065 \r\nL 261.520904 89.771534 \r\nL 261.856039 89.123531 \r\nL 262.191174 91.25026 \r\nL 262.526309 89.549348 \r\nL 262.861444 91.238748 \r\nL 263.196579 89.742429 \r\nL 263.86685 84.724601 \r\nL 264.53712 81.693337 \r\nL 264.872255 85.976947 \r\nL 265.542525 91.964843 \r\nL 266.212796 89.639377 \r\nL 266.547931 91.45488 \r\nL 266.883066 91.337549 \r\nL 267.553336 90.609586 \r\nL 267.888471 90.435178 \r\nL 268.223606 89.660011 \r\nL 268.558742 87.746411 \r\nL 268.893877 86.545994 \r\nL 269.229012 87.68976 \r\nL 269.899282 88.246178 \r\nL 270.234417 87.880726 \r\nL 270.569552 86.755927 \r\nL 270.904688 89.175925 \r\nL 271.239823 89.090379 \r\nL 271.574958 88.105 \r\nL 271.910093 88.480667 \r\nL 272.245228 87.743603 \r\nL 272.580363 88.579602 \r\nL 272.915498 90.428094 \r\nL 273.250633 91.322721 \r\nL 273.585769 88.75788 \r\nL 273.920904 91.874626 \r\nL 274.591174 86.087478 \r\nL 274.926309 85.075121 \r\nL 275.261444 86.383395 \r\nL 275.931715 86.088525 \r\nL 276.601985 84.055661 \r\nL 277.272255 83.342855 \r\nL 277.942525 79.174963 \r\nL 278.27766 82.733838 \r\nL 278.612796 79.396137 \r\nL 278.947931 79.649104 \r\nL 279.283066 78.881922 \r\nL 279.618201 78.809483 \r\nL 280.288471 74.487966 \r\nL 280.623606 76.177888 \r\nL 280.958742 76.588392 \r\nL 281.629012 70.934843 \r\nL 281.964147 71.981921 \r\nL 282.634417 68.677496 \r\nL 282.969552 69.898177 \r\nL 283.304688 68.828094 \r\nL 283.639823 67.058606 \r\nL 283.974958 67.31369 \r\nL 284.310093 68.048068 \r\nL 284.645228 63.588248 \r\nL 284.980363 64.422852 \r\nL 285.315498 63.448219 \r\nL 285.650633 64.076674 \r\nL 285.985769 63.727944 \r\nL 286.320904 64.6846 \r\nL 286.656039 66.936595 \r\nL 286.991174 64.439528 \r\nL 287.326309 64.14507 \r\nL 287.996579 67.15176 \r\nL 288.331715 67.083841 \r\nL 288.66685 66.203533 \r\nL 289.001985 68.255588 \r\nL 289.33712 71.533098 \r\nL 290.00739 67.732805 \r\nL 290.342525 67.130665 \r\nL 290.67766 68.413451 \r\nL 291.012796 67.266589 \r\nL 291.683066 62.900033 \r\nL 292.018201 64.345527 \r\nL 292.353336 64.837451 \r\nL 292.688471 66.025064 \r\nL 293.023606 69.071181 \r\nL 293.358742 69.293768 \r\nL 293.693877 73.145894 \r\nL 294.029012 72.384273 \r\nL 294.364147 70.683925 \r\nL 294.699282 70.076143 \r\nL 295.034417 68.12343 \r\nL 295.369552 69.348732 \r\nL 295.704687 73.416035 \r\nL 296.039823 73.678637 \r\nL 296.374958 72.29508 \r\nL 296.710093 71.923143 \r\nL 297.045228 72.551557 \r\nL 297.380363 73.694654 \r\nL 297.715498 74.31472 \r\nL 298.050633 71.908756 \r\nL 298.720904 77.241448 \r\nL 299.391174 77.698379 \r\nL 299.726309 79.715313 \r\nL 300.061444 79.285303 \r\nL 300.396579 83.481405 \r\nL 301.73712 90.756147 \r\nL 302.072255 90.357615 \r\nL 302.742525 91.924455 \r\nL 303.07766 88.039901 \r\nL 303.412796 89.129786 \r\nL 303.747931 85.83753 \r\nL 304.083066 85.976463 \r\nL 304.418201 85.485436 \r\nL 304.753336 84.694702 \r\nL 305.088471 84.565314 \r\nL 305.423606 82.088644 \r\nL 305.758742 84.040765 \r\nL 306.093877 80.944111 \r\nL 306.429012 80.141394 \r\nL 306.764147 78.653349 \r\nL 307.099282 81.796401 \r\nL 307.434417 83.654905 \r\nL 307.769552 83.361596 \r\nL 308.104688 82.174417 \r\nL 308.439823 81.436522 \r\nL 308.774958 85.263035 \r\nL 309.110093 86.730157 \r\nL 309.445228 86.18373 \r\nL 309.780363 83.968545 \r\nL 310.115498 80.966858 \r\nL 310.450633 80.799437 \r\nL 310.785769 81.082788 \r\nL 311.120904 81.678951 \r\nL 311.456039 81.535036 \r\nL 311.791174 79.11697 \r\nL 312.126309 78.993313 \r\nL 312.461444 78.220577 \r\nL 312.796579 78.22697 \r\nL 313.46685 80.637312 \r\nL 313.801985 82.634581 \r\nL 314.13712 81.887151 \r\nL 314.472255 79.726794 \r\nL 314.80739 80.236243 \r\nL 315.142525 83.311088 \r\nL 315.47766 84.348296 \r\nL 315.812796 87.403424 \r\nL 316.147931 87.829721 \r\nL 316.818201 91.188146 \r\nL 317.153336 92.112655 \r\nL 317.488471 93.638485 \r\nL 317.823606 93.225072 \r\nL 318.158742 95.928405 \r\nL 318.493877 93.889361 \r\nL 318.829012 93.045259 \r\nL 319.164147 92.780022 \r\nL 319.499282 89.918794 \r\nL 319.834417 88.263376 \r\nL 320.169552 87.363937 \r\nL 320.839823 90.983321 \r\nL 321.174958 93.961779 \r\nL 321.845228 93.369676 \r\nL 322.180363 89.319697 \r\nL 322.515498 89.830699 \r\nL 322.850633 89.176544 \r\nL 323.185769 89.735486 \r\nL 323.520904 88.149619 \r\nL 323.856039 88.73247 \r\nL 324.191174 87.667315 \r\nL 324.861444 91.172313 \r\nL 325.196579 93.205125 \r\nL 325.531715 89.479271 \r\nL 325.86685 93.275516 \r\nL 326.201985 93.965982 \r\nL 326.53712 90.343921 \r\nL 326.872255 90.349436 \r\nL 327.542525 96.246151 \r\nL 327.87766 97.972819 \r\nL 328.212796 100.7626 \r\nL 328.547931 100.877256 \r\nL 328.883066 100.728957 \r\nL 329.553336 101.788582 \r\nL 329.888471 100.360049 \r\nL 330.223606 102.966905 \r\nL 330.558742 100.25325 \r\nL 330.893877 98.707489 \r\nL 331.229012 98.67912 \r\nL 331.564147 99.914116 \r\nL 331.899282 100.30269 \r\nL 332.234417 97.289267 \r\nL 332.569552 99.684653 \r\nL 332.904688 98.469095 \r\nL 333.239823 99.715435 \r\nL 333.574958 99.646751 \r\nL 333.910093 102.921809 \r\nL 334.245228 103.562535 \r\nL 334.915498 109.316639 \r\nL 335.250633 108.907261 \r\nL 335.585769 112.995534 \r\nL 335.920904 115.453627 \r\nL 336.256039 115.507806 \r\nL 336.926309 117.76666 \r\nL 337.261444 120.788274 \r\nL 337.596579 120.866888 \r\nL 337.931715 123.510121 \r\nL 338.26685 120.751546 \r\nL 338.601985 119.073323 \r\nL 338.93712 116.635198 \r\nL 339.272255 116.315196 \r\nL 339.60739 117.040722 \r\nL 339.942525 115.480982 \r\nL 340.27766 113.360777 \r\nL 340.612796 114.444992 \r\nL 340.947931 114.57656 \r\nL 341.283066 113.322948 \r\nL 341.618201 114.46246 \r\nL 341.953336 112.926938 \r\nL 342.288471 108.894886 \r\nL 342.623606 108.394673 \r\nL 342.958742 106.646634 \r\nL 343.293877 108.652895 \r\nL 343.629012 106.73672 \r\nL 343.964147 105.983981 \r\nL 344.299282 104.615427 \r\nL 344.969552 110.178212 \r\nL 345.304688 111.824135 \r\nL 345.639823 111.736665 \r\nL 345.974958 106.443664 \r\nL 346.310093 107.426108 \r\nL 346.645228 106.746001 \r\nL 346.980363 105.555322 \r\nL 347.315498 104.897574 \r\nL 347.650633 102.709661 \r\nL 347.985769 105.436351 \r\nL 348.656039 103.307241 \r\nL 348.991174 101.12661 \r\nL 349.326309 102.969909 \r\nL 349.661444 99.195137 \r\nL 349.996579 97.42619 \r\nL 350.331715 97.109865 \r\nL 350.66685 98.421158 \r\nL 351.001985 100.516648 \r\nL 351.33712 100.71183 \r\nL 351.672255 102.240952 \r\nL 352.00739 100.953945 \r\nL 352.342525 100.988813 \r\nL 352.67766 100.795534 \r\nL 353.012796 96.190993 \r\nL 353.347931 96.123904 \r\nL 353.683066 95.237263 \r\nL 354.018201 95.156416 \r\nL 354.353336 96.709635 \r\nL 354.688471 96.913173 \r\nL 355.023606 95.715322 \r\nL 355.358742 95.273559 \r\nL 356.029012 97.304154 \r\nL 356.364147 99.423543 \r\nL 356.699282 97.382221 \r\nL 357.034417 93.551267 \r\nL 357.369552 91.967843 \r\nL 357.704687 94.863073 \r\nL 358.039823 95.671779 \r\nL 358.374958 93.111013 \r\nL 358.710093 92.825949 \r\nL 359.045228 92.927442 \r\nL 359.380363 91.522167 \r\nL 359.715498 91.524668 \r\nL 360.050633 89.461941 \r\nL 360.385769 88.237308 \r\nL 360.720904 87.636102 \r\nL 361.056039 85.037207 \r\nL 361.391174 85.489611 \r\nL 361.726309 84.287577 \r\nL 362.061444 81.131439 \r\nL 362.396579 83.419339 \r\nL 363.06685 79.7584 \r\nL 363.401985 82.533541 \r\nL 363.73712 78.549789 \r\nL 364.072255 79.352919 \r\nL 364.40739 75.645488 \r\nL 364.742525 78.617429 \r\nL 365.07766 80.110492 \r\nL 365.412796 78.733307 \r\nL 365.747931 78.898676 \r\nL 366.083066 76.99409 \r\nL 366.418201 78.702067 \r\nL 366.753336 76.181924 \r\nL 367.423606 72.616808 \r\nL 367.758742 74.643916 \r\nL 368.093877 78.885345 \r\nL 368.429012 76.762086 \r\nL 368.764147 76.852011 \r\nL 369.099282 75.739853 \r\nL 369.434417 72.928859 \r\nL 369.769552 74.430817 \r\nL 370.104688 72.664611 \r\nL 370.104688 72.664611 \r\n\" style=\"fill:none;stroke:#2ca02c;stroke-linecap:square;stroke-width:1.5;\"/>\r\n   </g>\r\n   <g id=\"line2d_44\">\r\n    <path clip-path=\"url(#pd2703c3700)\" d=\"M 35.304688 50.08559 \r\nL 35.639823 50.732741 \r\nL 35.974958 51.775096 \r\nL 36.310093 51.839027 \r\nL 36.645228 52.509457 \r\nL 36.980363 52.111702 \r\nL 37.315498 55.931922 \r\nL 37.650633 52.784216 \r\nL 38.656039 54.259894 \r\nL 38.991174 53.695843 \r\nL 39.326309 52.341222 \r\nL 39.661444 54.939499 \r\nL 39.996579 53.378465 \r\nL 40.66685 57.038314 \r\nL 41.001985 58.127353 \r\nL 41.33712 57.974679 \r\nL 41.672255 57.344217 \r\nL 42.00739 58.737946 \r\nL 42.342525 59.580229 \r\nL 42.67766 58.704817 \r\nL 43.012796 58.27173 \r\nL 43.347931 58.974926 \r\nL 43.683066 58.341222 \r\nL 44.018201 59.511572 \r\nL 44.353336 57.377633 \r\nL 45.358742 54.776301 \r\nL 45.693877 53.188398 \r\nL 46.029012 55.207662 \r\nL 46.364147 55.623028 \r\nL 46.699282 55.824008 \r\nL 47.034417 56.342695 \r\nL 47.369552 55.998342 \r\nL 47.704687 59.066281 \r\nL 48.039823 59.17343 \r\nL 48.374958 58.560953 \r\nL 48.710093 55.771656 \r\nL 49.045228 55.820515 \r\nL 49.380363 58.141993 \r\nL 49.715498 58.735198 \r\nL 50.050633 58.391159 \r\nL 50.385769 58.283282 \r\nL 50.720904 57.093116 \r\nL 51.391174 59.511684 \r\nL 51.726309 57.014778 \r\nL 52.061444 55.700944 \r\nL 52.731715 61.103319 \r\nL 53.06685 61.519306 \r\nL 53.401985 65.275341 \r\nL 53.73712 66.309104 \r\nL 54.072255 65.628227 \r\nL 54.40739 65.399767 \r\nL 54.742525 64.863752 \r\nL 55.07766 63.901728 \r\nL 55.747931 58.625674 \r\nL 56.083066 59.418373 \r\nL 56.418201 61.660599 \r\nL 56.753336 60.465972 \r\nL 57.088471 57.595411 \r\nL 57.423606 57.051455 \r\nL 57.758742 55.336745 \r\nL 58.429012 58.948178 \r\nL 58.764147 58.415824 \r\nL 59.099282 60.416033 \r\nL 59.434417 63.622397 \r\nL 59.769552 64.57616 \r\nL 60.104688 69.316947 \r\nL 60.439823 65.728703 \r\nL 60.774958 66.021086 \r\nL 61.110093 65.476806 \r\nL 61.780363 59.424772 \r\nL 62.115498 60.062407 \r\nL 62.450633 58.558936 \r\nL 62.785769 60.707519 \r\nL 63.120904 59.952283 \r\nL 63.456039 60.078309 \r\nL 63.791174 58.959127 \r\nL 64.126309 61.404409 \r\nL 64.461444 61.856426 \r\nL 64.796579 62.909112 \r\nL 65.131715 67.842439 \r\nL 65.46685 67.394172 \r\nL 65.801985 69.868795 \r\nL 66.13712 65.593041 \r\nL 66.472255 66.667319 \r\nL 66.80739 63.553896 \r\nL 67.142525 64.10403 \r\nL 67.47766 65.005796 \r\nL 67.812796 66.737537 \r\nL 68.483066 67.424988 \r\nL 68.818201 66.211747 \r\nL 69.488471 65.388925 \r\nL 69.823606 66.355524 \r\nL 70.158742 66.736895 \r\nL 70.493877 68.29119 \r\nL 70.829012 67.789268 \r\nL 71.164147 65.88655 \r\nL 71.499282 68.268537 \r\nL 71.834417 68.659532 \r\nL 72.169552 68.756928 \r\nL 72.504687 71.173711 \r\nL 72.839823 70.642959 \r\nL 73.174958 71.360025 \r\nL 73.510093 70.957826 \r\nL 73.845228 69.615202 \r\nL 74.515498 71.037202 \r\nL 74.850633 66.916568 \r\nL 75.185769 71.199035 \r\nL 75.520904 69.158889 \r\nL 75.856039 68.377339 \r\nL 76.191174 64.708853 \r\nL 76.526309 65.078964 \r\nL 76.861444 62.896071 \r\nL 77.196579 63.250743 \r\nL 77.531715 61.289128 \r\nL 77.86685 61.341042 \r\nL 78.201985 60.624325 \r\nL 78.53712 60.631309 \r\nL 78.872255 59.596867 \r\nL 79.20739 59.866294 \r\nL 79.542525 57.701931 \r\nL 79.87766 54.801784 \r\nL 80.212796 54.998149 \r\nL 80.547931 51.352421 \r\nL 80.883066 52.498353 \r\nL 81.218201 52.89839 \r\nL 81.888471 51.524438 \r\nL 82.223606 52.810831 \r\nL 82.558742 51.984979 \r\nL 82.893877 53.303345 \r\nL 83.229012 55.972992 \r\nL 83.899282 54.235012 \r\nL 84.234417 56.095429 \r\nL 84.569552 54.161784 \r\nL 85.574958 45.277329 \r\nL 85.910093 46.642465 \r\nL 86.245228 46.695293 \r\nL 87.250633 53.070463 \r\nL 87.585769 51.195929 \r\nL 88.256039 53.752154 \r\nL 88.591174 52.284594 \r\nL 89.261444 53.792707 \r\nL 89.596579 55.359724 \r\nL 89.931715 53.305303 \r\nL 90.26685 54.086604 \r\nL 90.601985 59.045658 \r\nL 90.93712 56.811657 \r\nL 91.272255 56.32279 \r\nL 91.60739 57.400107 \r\nL 91.942525 56.516317 \r\nL 92.27766 56.967332 \r\nL 92.612796 57.764114 \r\nL 92.947931 57.906793 \r\nL 93.283066 55.682774 \r\nL 93.618201 55.690445 \r\nL 93.953336 56.041106 \r\nL 94.288471 57.141477 \r\nL 94.623606 61.367483 \r\nL 94.958742 62.312588 \r\nL 95.293877 60.758399 \r\nL 95.629012 62.402973 \r\nL 95.964147 61.933141 \r\nL 96.634417 68.353979 \r\nL 96.969552 67.787258 \r\nL 97.304688 68.478268 \r\nL 97.639823 68.446423 \r\nL 97.974958 70.521659 \r\nL 98.310093 70.798086 \r\nL 98.645228 70.653366 \r\nL 98.980363 69.827891 \r\nL 99.315498 68.271939 \r\nL 99.650633 70.511111 \r\nL 99.985769 69.875629 \r\nL 100.320904 71.567826 \r\nL 100.656039 72.339607 \r\nL 100.991174 71.108956 \r\nL 101.326309 65.848685 \r\nL 101.661444 66.226841 \r\nL 101.996579 66.260111 \r\nL 102.331715 67.580803 \r\nL 102.66685 69.623383 \r\nL 103.001985 72.52412 \r\nL 103.33712 73.502301 \r\nL 103.672255 73.699952 \r\nL 104.342525 76.091698 \r\nL 104.67766 73.783604 \r\nL 105.347931 73.397229 \r\nL 106.018201 74.935834 \r\nL 106.353336 77.19597 \r\nL 107.023606 78.751442 \r\nL 107.358742 80.70547 \r\nL 107.693877 84.706868 \r\nL 108.029012 82.478212 \r\nL 108.364147 84.987439 \r\nL 108.699282 83.755967 \r\nL 109.034417 81.740581 \r\nL 109.704687 83.879181 \r\nL 110.039823 84.066862 \r\nL 110.374958 85.170896 \r\nL 111.045228 86.339383 \r\nL 111.380363 84.786231 \r\nL 111.715498 82.309012 \r\nL 112.385769 88.905825 \r\nL 112.720904 88.2629 \r\nL 113.056039 84.038998 \r\nL 113.391174 84.112475 \r\nL 113.726309 83.93666 \r\nL 114.061444 83.627241 \r\nL 114.396579 81.456248 \r\nL 115.06685 81.284675 \r\nL 115.401985 77.875106 \r\nL 115.73712 80.441994 \r\nL 116.072255 81.787447 \r\nL 116.40739 84.558581 \r\nL 116.742525 83.997018 \r\nL 117.07766 84.900891 \r\nL 117.412796 81.863812 \r\nL 117.747931 82.826101 \r\nL 118.083066 85.396435 \r\nL 118.418201 86.642499 \r\nL 119.423606 81.590596 \r\nL 119.758742 81.890597 \r\nL 120.429012 79.515171 \r\nL 121.099282 81.640941 \r\nL 121.434417 83.968413 \r\nL 121.769552 83.336761 \r\nL 122.104688 84.877175 \r\nL 122.439823 83.887867 \r\nL 122.774958 84.806418 \r\nL 123.110093 82.418319 \r\nL 123.445228 81.786923 \r\nL 123.780363 82.430005 \r\nL 124.115498 84.62258 \r\nL 124.450633 83.604592 \r\nL 125.456039 82.767808 \r\nL 125.791174 82.642579 \r\nL 126.126309 81.323026 \r\nL 126.796579 85.198865 \r\nL 127.131715 86.117576 \r\nL 127.46685 88.186647 \r\nL 127.801985 87.210883 \r\nL 128.13712 87.113175 \r\nL 129.47766 81.421369 \r\nL 129.812796 81.992456 \r\nL 130.147931 79.67965 \r\nL 130.483066 78.396742 \r\nL 130.818201 78.576097 \r\nL 131.153336 82.891013 \r\nL 131.488471 83.128771 \r\nL 131.823606 83.752483 \r\nL 132.158742 86.809666 \r\nL 132.493877 88.058366 \r\nL 132.829012 89.858007 \r\nL 133.164147 88.795819 \r\nL 133.499282 90.194008 \r\nL 133.834417 88.078412 \r\nL 134.169552 88.16284 \r\nL 134.504687 85.300562 \r\nL 134.839823 86.953979 \r\nL 135.174958 84.083811 \r\nL 135.510093 83.126219 \r\nL 135.845228 86.08008 \r\nL 136.180363 84.452432 \r\nL 136.515498 83.80077 \r\nL 136.850633 83.651763 \r\nL 137.185769 84.079235 \r\nL 137.520904 83.051156 \r\nL 137.856039 79.21875 \r\nL 138.191174 80.755143 \r\nL 138.861444 79.941267 \r\nL 139.196579 80.160829 \r\nL 139.531715 78.591244 \r\nL 139.86685 78.775971 \r\nL 140.201985 78.307289 \r\nL 140.53712 78.209164 \r\nL 140.872255 79.93918 \r\nL 141.20739 80.312088 \r\nL 141.542525 79.092183 \r\nL 141.87766 82.027966 \r\nL 142.212796 81.647071 \r\nL 142.547931 83.109762 \r\nL 142.883066 83.073737 \r\nL 143.218201 78.930432 \r\nL 143.553336 78.377964 \r\nL 144.223606 76.241203 \r\nL 144.558742 76.134417 \r\nL 144.893877 76.658106 \r\nL 145.229012 74.6082 \r\nL 145.899282 76.788058 \r\nL 146.234417 74.850421 \r\nL 146.569552 75.233418 \r\nL 146.904688 76.019408 \r\nL 147.239823 75.58813 \r\nL 147.574958 77.541074 \r\nL 147.910093 80.37693 \r\nL 148.245228 79.600827 \r\nL 148.580363 81.161212 \r\nL 148.915498 81.467664 \r\nL 149.250633 80.96358 \r\nL 149.920904 76.334609 \r\nL 150.256039 76.55482 \r\nL 150.591174 78.463135 \r\nL 150.926309 78.085893 \r\nL 151.261444 74.491514 \r\nL 151.596579 73.702238 \r\nL 151.931715 73.366783 \r\nL 152.26685 72.740594 \r\nL 152.601985 73.979914 \r\nL 152.93712 74.725494 \r\nL 153.272255 73.04636 \r\nL 153.60739 72.608973 \r\nL 153.942525 70.648031 \r\nL 154.27766 70.634477 \r\nL 154.612796 67.95647 \r\nL 154.947931 64.310855 \r\nL 155.283066 65.760963 \r\nL 155.618201 63.691029 \r\nL 155.953336 58.402342 \r\nL 156.288471 58.065522 \r\nL 156.623606 56.064419 \r\nL 156.958742 56.556883 \r\nL 157.293877 58.492151 \r\nL 157.629012 57.338127 \r\nL 157.964147 55.259811 \r\nL 158.299282 54.980482 \r\nL 158.634417 52.487093 \r\nL 158.969552 53.972381 \r\nL 159.304688 54.764384 \r\nL 159.639823 55.137592 \r\nL 159.974958 54.134127 \r\nL 160.310093 58.563412 \r\nL 160.645228 56.802212 \r\nL 160.980363 57.959946 \r\nL 161.315498 56.62218 \r\nL 161.650633 59.87421 \r\nL 161.985769 58.50879 \r\nL 162.320904 57.685687 \r\nL 162.656039 57.860085 \r\nL 162.991174 59.548263 \r\nL 163.326309 64.307093 \r\nL 163.661444 64.31893 \r\nL 163.996579 64.968959 \r\nL 164.331715 64.811247 \r\nL 164.66685 64.249967 \r\nL 165.33712 64.58457 \r\nL 165.672255 62.536759 \r\nL 166.00739 58.937185 \r\nL 166.342525 57.785581 \r\nL 166.67766 59.899312 \r\nL 167.012796 60.962015 \r\nL 167.347931 61.583742 \r\nL 167.683066 59.179862 \r\nL 168.018201 59.72129 \r\nL 168.353336 61.377157 \r\nL 169.023606 60.646133 \r\nL 169.358742 63.155562 \r\nL 169.693877 63.797661 \r\nL 170.364147 61.902449 \r\nL 170.699282 62.453868 \r\nL 171.034417 62.245095 \r\nL 171.369552 64.716454 \r\nL 172.039823 59.383694 \r\nL 172.374958 59.676301 \r\nL 172.710093 59.421924 \r\nL 173.380363 53.514963 \r\nL 173.715498 54.897009 \r\nL 174.050633 55.347709 \r\nL 174.385769 57.977727 \r\nL 174.720904 56.276006 \r\nL 175.056039 55.904941 \r\nL 175.391174 54.606109 \r\nL 175.726309 55.233651 \r\nL 176.061444 57.441498 \r\nL 176.396579 56.57861 \r\nL 176.731715 58.986173 \r\nL 177.06685 57.481225 \r\nL 177.401985 57.822862 \r\nL 177.73712 60.319039 \r\nL 178.072255 60.623444 \r\nL 178.40739 62.546502 \r\nL 179.07766 59.855904 \r\nL 179.412796 56.794006 \r\nL 179.747931 58.198983 \r\nL 180.083066 54.710949 \r\nL 180.418201 56.757327 \r\nL 180.753336 54.169745 \r\nL 181.088471 53.18347 \r\nL 181.423606 53.23652 \r\nL 182.093877 51.049397 \r\nL 182.429012 49.227976 \r\nL 182.764147 48.582886 \r\nL 183.099282 49.799274 \r\nL 183.434417 48.430165 \r\nL 184.104688 51.695057 \r\nL 184.439823 48.586306 \r\nL 184.774958 49.298916 \r\nL 185.110093 49.55369 \r\nL 185.445228 52.37512 \r\nL 185.780363 51.545563 \r\nL 186.115498 50.255635 \r\nL 186.450633 47.30363 \r\nL 186.785769 48.364836 \r\nL 187.120904 46.397298 \r\nL 187.456039 46.958849 \r\nL 187.791174 49.632945 \r\nL 188.126309 50.508923 \r\nL 188.461444 47.827834 \r\nL 188.796579 49.368099 \r\nL 189.131715 54.354421 \r\nL 189.801985 57.631971 \r\nL 190.13712 60.442059 \r\nL 190.472255 61.679791 \r\nL 190.80739 60.711055 \r\nL 191.142525 62.391891 \r\nL 191.47766 62.055996 \r\nL 192.147931 60.14966 \r\nL 192.818201 61.786885 \r\nL 193.153336 59.168086 \r\nL 193.488471 59.095828 \r\nL 194.158742 58.422907 \r\nL 194.829012 57.2184 \r\nL 195.164147 57.752186 \r\nL 195.499282 55.481983 \r\nL 196.169552 54.184233 \r\nL 196.504687 55.551414 \r\nL 196.839823 60.571393 \r\nL 197.174958 60.725259 \r\nL 197.510093 61.583492 \r\nL 197.845228 61.506487 \r\nL 198.180363 62.365516 \r\nL 198.515498 61.996325 \r\nL 198.850633 59.071386 \r\nL 199.185769 58.468494 \r\nL 199.520904 58.872349 \r\nL 199.856039 58.009125 \r\nL 200.526309 60.849381 \r\nL 200.861444 60.199185 \r\nL 201.196579 58.769252 \r\nL 201.531715 61.176693 \r\nL 202.201985 59.506783 \r\nL 202.872255 54.928171 \r\nL 203.20739 54.301353 \r\nL 203.542525 52.705002 \r\nL 203.87766 53.173961 \r\nL 204.212796 52.985579 \r\nL 204.547931 53.335633 \r\nL 204.883066 54.746176 \r\nL 205.218201 51.569799 \r\nL 205.553336 53.623865 \r\nL 206.223606 51.759561 \r\nL 206.558742 52.317384 \r\nL 206.893877 52.611004 \r\nL 207.229012 53.47617 \r\nL 207.564147 55.6877 \r\nL 207.899282 55.760644 \r\nL 208.234417 58.185112 \r\nL 208.569552 56.014399 \r\nL 208.904688 55.575351 \r\nL 209.239823 57.398556 \r\nL 209.910093 58.255417 \r\nL 210.245228 58.859828 \r\nL 210.580363 59.787056 \r\nL 210.915498 61.855993 \r\nL 211.250633 61.124228 \r\nL 211.585769 61.045638 \r\nL 211.920904 61.794751 \r\nL 212.256039 60.554756 \r\nL 212.591174 60.591392 \r\nL 212.926309 61.016642 \r\nL 213.931715 65.557915 \r\nL 214.26685 62.643751 \r\nL 214.601985 64.005719 \r\nL 214.93712 63.731289 \r\nL 215.60739 68.483934 \r\nL 215.942525 66.767692 \r\nL 216.27766 67.484531 \r\nL 216.612796 65.964901 \r\nL 216.947931 68.205158 \r\nL 217.283066 67.319686 \r\nL 217.618201 64.861343 \r\nL 217.953336 64.25202 \r\nL 218.288471 66.387839 \r\nL 218.623606 66.216161 \r\nL 219.293877 72.561607 \r\nL 219.964147 76.465013 \r\nL 220.299282 75.746858 \r\nL 220.969552 73.522714 \r\nL 221.304688 74.740011 \r\nL 221.639823 78.774618 \r\nL 221.974958 77.96829 \r\nL 222.310093 76.462384 \r\nL 222.645228 78.235257 \r\nL 222.980363 78.263438 \r\nL 223.315498 76.451409 \r\nL 223.650633 73.392576 \r\nL 223.985769 73.313045 \r\nL 224.320904 72.721211 \r\nL 224.656039 73.186853 \r\nL 225.326309 69.347549 \r\nL 225.661444 69.238709 \r\nL 225.996579 69.849989 \r\nL 226.66685 68.259566 \r\nL 227.33712 70.386293 \r\nL 228.00739 67.540751 \r\nL 228.342525 64.117437 \r\nL 228.67766 66.410031 \r\nL 229.012796 67.00793 \r\nL 229.347931 69.514069 \r\nL 229.683066 70.735966 \r\nL 230.018201 73.877626 \r\nL 230.353336 72.197845 \r\nL 230.688471 71.2289 \r\nL 231.023606 72.216615 \r\nL 231.693877 71.866999 \r\nL 232.029012 74.41294 \r\nL 232.364147 72.15567 \r\nL 233.034417 73.56915 \r\nL 233.369552 71.617712 \r\nL 233.704687 70.953766 \r\nL 234.039823 69.482781 \r\nL 234.374958 69.546756 \r\nL 234.710093 67.850811 \r\nL 235.715498 74.557134 \r\nL 236.050633 76.068731 \r\nL 236.385769 74.064354 \r\nL 237.391174 78.229527 \r\nL 237.726309 76.238305 \r\nL 238.061444 78.105749 \r\nL 238.396579 77.677503 \r\nL 238.731715 78.021226 \r\nL 239.06685 74.544787 \r\nL 239.401985 75.265153 \r\nL 239.73712 75.067567 \r\nL 240.072255 76.911605 \r\nL 240.40739 75.81412 \r\nL 240.742525 78.485612 \r\nL 241.07766 77.954771 \r\nL 241.412796 80.031652 \r\nL 241.747931 80.583113 \r\nL 242.083066 82.396579 \r\nL 242.418201 82.353174 \r\nL 242.753336 80.012206 \r\nL 243.088471 80.79914 \r\nL 243.423606 78.672856 \r\nL 243.758742 78.432843 \r\nL 244.093877 77.253332 \r\nL 244.429012 76.905108 \r\nL 244.764147 80.441776 \r\nL 245.099282 78.884139 \r\nL 245.434417 80.214196 \r\nL 245.769552 80.36213 \r\nL 246.104688 77.878558 \r\nL 246.774958 78.802081 \r\nL 247.110093 82.056795 \r\nL 247.445228 82.638415 \r\nL 247.780363 83.749858 \r\nL 248.115498 84.455263 \r\nL 248.450633 82.241281 \r\nL 249.120904 79.745107 \r\nL 249.456039 79.298251 \r\nL 249.791174 80.076701 \r\nL 250.126309 81.326321 \r\nL 250.461444 79.118965 \r\nL 251.131715 82.542318 \r\nL 251.46685 80.319275 \r\nL 251.801985 81.377676 \r\nL 252.13712 81.956409 \r\nL 252.472255 82.90098 \r\nL 252.80739 84.334196 \r\nL 253.142525 81.859895 \r\nL 253.812796 81.350409 \r\nL 254.147931 84.083082 \r\nL 254.483066 83.811824 \r\nL 254.818201 84.64353 \r\nL 255.153336 88.62744 \r\nL 255.823606 88.247546 \r\nL 256.158742 86.971609 \r\nL 256.493877 86.361948 \r\nL 256.829012 85.414464 \r\nL 257.164147 85.226188 \r\nL 257.834417 80.798691 \r\nL 258.169552 78.978704 \r\nL 258.504687 79.185066 \r\nL 258.839823 78.151774 \r\nL 259.174958 75.42102 \r\nL 259.845228 77.816306 \r\nL 260.515498 73.17084 \r\nL 260.850633 71.170116 \r\nL 261.185769 70.472569 \r\nL 261.520904 72.979946 \r\nL 261.856039 71.787268 \r\nL 262.526309 75.02746 \r\nL 262.861444 73.406755 \r\nL 263.196579 69.27171 \r\nL 263.531715 72.316958 \r\nL 263.86685 70.936113 \r\nL 264.201985 67.675737 \r\nL 264.53712 66.784366 \r\nL 264.872255 67.812066 \r\nL 265.20739 66.492588 \r\nL 265.542525 67.736951 \r\nL 265.87766 67.846996 \r\nL 266.212796 65.953907 \r\nL 266.547931 65.486277 \r\nL 266.883066 62.612598 \r\nL 267.218201 62.022303 \r\nL 267.553336 60.212199 \r\nL 267.888471 56.542288 \r\nL 268.223606 57.435965 \r\nL 268.558742 57.769876 \r\nL 268.893877 54.033174 \r\nL 269.229012 52.239174 \r\nL 269.899282 52.259423 \r\nL 270.234417 54.320893 \r\nL 270.569552 49.726996 \r\nL 270.904688 49.288128 \r\nL 271.239823 49.615801 \r\nL 271.574958 51.295525 \r\nL 271.910093 53.758762 \r\nL 272.245228 53.967221 \r\nL 272.580363 51.80964 \r\nL 272.915498 51.487099 \r\nL 273.250633 51.69866 \r\nL 273.585769 50.562845 \r\nL 273.920904 48.692606 \r\nL 274.256039 48.743449 \r\nL 274.591174 50.287224 \r\nL 274.926309 49.482087 \r\nL 275.261444 50.2291 \r\nL 275.596579 47.354035 \r\nL 275.931715 46.129442 \r\nL 276.26685 44.188133 \r\nL 276.601985 43.151086 \r\nL 276.93712 43.187206 \r\nL 277.272255 41.106138 \r\nL 277.60739 43.255972 \r\nL 277.942525 43.625109 \r\nL 278.27766 41.449286 \r\nL 278.947931 35.352463 \r\nL 279.283066 36.716095 \r\nL 279.618201 35.39529 \r\nL 279.953336 35.088637 \r\nL 280.288471 35.734748 \r\nL 280.623606 37.562955 \r\nL 280.958742 33.462742 \r\nL 281.293877 32.678222 \r\nL 281.629012 30.792458 \r\nL 281.964147 31.901386 \r\nL 282.634417 32.792795 \r\nL 282.969552 29.047998 \r\nL 283.304688 27.97277 \r\nL 283.974958 30.399395 \r\nL 284.310093 29.578951 \r\nL 284.645228 32.03131 \r\nL 284.980363 30.915322 \r\nL 285.650633 36.857935 \r\nL 285.985769 35.123039 \r\nL 286.320904 36.443391 \r\nL 286.656039 35.518909 \r\nL 286.991174 33.566035 \r\nL 287.326309 37.120976 \r\nL 287.661444 39.198525 \r\nL 287.996579 37.975421 \r\nL 288.331715 38.323434 \r\nL 288.66685 36.784355 \r\nL 289.001985 39.847128 \r\nL 289.672255 37.839695 \r\nL 290.00739 34.061465 \r\nL 290.67766 30.828139 \r\nL 291.012796 35.017679 \r\nL 291.347931 36.194849 \r\nL 291.683066 34.418791 \r\nL 292.018201 35.67119 \r\nL 292.353336 36.250454 \r\nL 292.688471 36.169941 \r\nL 293.023606 34.602771 \r\nL 293.358742 35.69085 \r\nL 293.693877 37.646209 \r\nL 294.029012 34.681225 \r\nL 294.364147 35.486297 \r\nL 294.699282 37.548795 \r\nL 295.034417 38.243751 \r\nL 295.369552 40.130132 \r\nL 295.704687 40.783297 \r\nL 296.039823 39.72433 \r\nL 296.374958 40.966672 \r\nL 296.710093 43.710979 \r\nL 297.045228 40.687852 \r\nL 297.380363 41.221655 \r\nL 297.715498 41.051279 \r\nL 298.050633 40.253784 \r\nL 298.385769 43.487148 \r\nL 298.720904 43.608137 \r\nL 299.056039 43.956212 \r\nL 299.391174 40.481057 \r\nL 300.061444 39.639599 \r\nL 300.396579 40.200235 \r\nL 300.731715 41.074077 \r\nL 301.06685 39.948536 \r\nL 301.401985 37.976336 \r\nL 301.73712 38.988495 \r\nL 302.072255 36.1279 \r\nL 302.40739 34.426312 \r\nL 302.742525 34.699722 \r\nL 303.07766 34.588634 \r\nL 303.412796 33.021854 \r\nL 303.747931 32.756531 \r\nL 304.083066 30.333894 \r\nL 304.418201 29.711681 \r\nL 304.753336 27.523305 \r\nL 305.088471 26.152484 \r\nL 305.423606 27.269101 \r\nL 305.758742 22.81339 \r\nL 306.093877 24.244269 \r\nL 306.429012 23.004948 \r\nL 306.764147 21.280411 \r\nL 307.099282 24.034064 \r\nL 307.434417 22.572095 \r\nL 308.104688 29.393293 \r\nL 308.774958 23.043332 \r\nL 309.110093 23.346097 \r\nL 309.445228 24.826121 \r\nL 309.780363 24.071082 \r\nL 310.115498 24.356264 \r\nL 310.450633 23.12008 \r\nL 310.785769 25.661685 \r\nL 311.120904 23.445984 \r\nL 311.456039 23.287366 \r\nL 311.791174 20.543746 \r\nL 312.461444 22.93986 \r\nL 312.796579 24.027623 \r\nL 313.131715 26.041869 \r\nL 313.46685 24.849921 \r\nL 313.801985 25.567669 \r\nL 314.13712 25.259898 \r\nL 314.472255 27.700224 \r\nL 314.80739 28.098463 \r\nL 315.142525 28.256208 \r\nL 315.47766 28.924813 \r\nL 315.812796 29.075584 \r\nL 316.483066 28.190804 \r\nL 316.818201 30.139505 \r\nL 317.153336 29.929175 \r\nL 317.488471 28.008509 \r\nL 317.823606 32.479699 \r\nL 318.158742 38.491017 \r\nL 318.829012 42.781088 \r\nL 319.164147 44.698325 \r\nL 319.499282 42.745464 \r\nL 319.834417 44.780761 \r\nL 320.169552 42.794763 \r\nL 320.839823 45.457743 \r\nL 321.174958 45.615594 \r\nL 321.510093 43.556166 \r\nL 322.180363 47.416911 \r\nL 322.850633 44.218093 \r\nL 323.185769 46.719192 \r\nL 323.520904 47.871715 \r\nL 323.856039 46.500553 \r\nL 324.191174 46.89296 \r\nL 324.526309 46.510367 \r\nL 325.196579 42.803746 \r\nL 325.531715 42.018351 \r\nL 325.86685 42.726079 \r\nL 326.201985 44.119751 \r\nL 326.53712 42.769641 \r\nL 326.872255 43.753698 \r\nL 327.20739 44.343311 \r\nL 327.542525 45.369704 \r\nL 328.212796 52.278414 \r\nL 328.547931 53.806817 \r\nL 328.883066 52.328482 \r\nL 329.218201 54.635004 \r\nL 329.553336 56.032556 \r\nL 329.888471 55.341316 \r\nL 330.223606 56.218581 \r\nL 330.558742 55.0366 \r\nL 330.893877 56.536495 \r\nL 331.564147 54.725923 \r\nL 331.899282 54.897357 \r\nL 332.234417 54.714188 \r\nL 332.569552 53.23155 \r\nL 332.904688 50.468283 \r\nL 333.239823 50.514862 \r\nL 333.574958 49.333568 \r\nL 334.245228 51.952193 \r\nL 334.580363 51.987389 \r\nL 334.915498 52.413447 \r\nL 335.250633 53.638197 \r\nL 335.585769 53.624943 \r\nL 335.920904 56.898607 \r\nL 336.256039 56.271314 \r\nL 336.591174 58.031868 \r\nL 336.926309 58.717847 \r\nL 337.261444 57.258265 \r\nL 337.596579 56.835209 \r\nL 338.26685 50.942904 \r\nL 338.601985 52.441888 \r\nL 338.93712 52.503923 \r\nL 339.272255 52.869692 \r\nL 339.60739 53.624606 \r\nL 340.27766 59.588104 \r\nL 340.612796 60.903002 \r\nL 340.947931 60.913573 \r\nL 341.283066 57.874599 \r\nL 341.618201 57.139592 \r\nL 341.953336 57.450865 \r\nL 342.288471 56.589005 \r\nL 342.623606 56.309828 \r\nL 342.958742 57.872063 \r\nL 343.293877 58.332774 \r\nL 343.629012 62.157308 \r\nL 343.964147 60.501065 \r\nL 344.634417 55.787824 \r\nL 344.969552 58.304763 \r\nL 345.304688 55.738122 \r\nL 345.639823 57.590203 \r\nL 345.974958 56.630018 \r\nL 346.310093 58.654765 \r\nL 346.645228 56.114062 \r\nL 346.980363 55.274749 \r\nL 347.315498 53.606481 \r\nL 347.650633 53.853669 \r\nL 347.985769 52.591333 \r\nL 348.320904 49.626305 \r\nL 348.656039 50.006382 \r\nL 348.991174 51.649662 \r\nL 349.326309 52.274346 \r\nL 349.661444 52.580381 \r\nL 349.996579 51.613192 \r\nL 351.001985 60.036005 \r\nL 351.33712 61.210809 \r\nL 351.672255 61.389601 \r\nL 352.00739 59.508053 \r\nL 352.342525 62.500386 \r\nL 352.67766 62.112515 \r\nL 353.012796 64.562628 \r\nL 353.347931 61.458817 \r\nL 353.683066 60.203115 \r\nL 354.018201 61.705288 \r\nL 354.688471 55.997393 \r\nL 355.023606 57.71762 \r\nL 355.693877 62.546775 \r\nL 356.029012 63.361178 \r\nL 356.699282 69.686774 \r\nL 357.034417 69.974795 \r\nL 357.369552 67.62336 \r\nL 357.704687 67.803788 \r\nL 358.039823 68.436459 \r\nL 358.374958 68.360914 \r\nL 358.710093 65.614827 \r\nL 359.045228 63.924198 \r\nL 359.380363 65.650785 \r\nL 359.715498 62.988365 \r\nL 360.050633 63.065925 \r\nL 360.385769 63.790852 \r\nL 360.720904 64.13341 \r\nL 361.056039 64.802179 \r\nL 361.391174 64.548148 \r\nL 362.061444 60.097566 \r\nL 362.396579 60.852817 \r\nL 362.731715 60.980967 \r\nL 363.06685 58.217351 \r\nL 363.401985 56.924111 \r\nL 363.73712 58.79377 \r\nL 364.072255 59.951415 \r\nL 364.40739 59.184423 \r\nL 364.742525 60.202066 \r\nL 365.07766 59.176164 \r\nL 365.412796 59.983516 \r\nL 365.747931 57.545888 \r\nL 366.418201 61.330995 \r\nL 366.753336 59.603014 \r\nL 367.088471 56.433609 \r\nL 367.423606 54.484177 \r\nL 367.758742 57.223603 \r\nL 368.093877 56.42928 \r\nL 368.429012 56.775436 \r\nL 368.764147 56.097318 \r\nL 369.099282 55.89677 \r\nL 369.434417 54.277015 \r\nL 369.769552 51.937698 \r\nL 370.104688 52.935048 \r\nL 370.104688 52.935048 \r\n\" style=\"fill:none;stroke:#d62728;stroke-linecap:square;stroke-width:1.5;\"/>\r\n   </g>\r\n   <g id=\"patch_3\">\r\n    <path d=\"M 35.304688 224.64 \r\nL 35.304688 7.2 \r\n\" style=\"fill:none;stroke:#000000;stroke-linecap:square;stroke-linejoin:miter;stroke-width:0.8;\"/>\r\n   </g>\r\n   <g id=\"patch_4\">\r\n    <path d=\"M 370.104688 224.64 \r\nL 370.104688 7.2 \r\n\" style=\"fill:none;stroke:#000000;stroke-linecap:square;stroke-linejoin:miter;stroke-width:0.8;\"/>\r\n   </g>\r\n   <g id=\"patch_5\">\r\n    <path d=\"M 35.304688 224.64 \r\nL 370.104688 224.64 \r\n\" style=\"fill:none;stroke:#000000;stroke-linecap:square;stroke-linejoin:miter;stroke-width:0.8;\"/>\r\n   </g>\r\n   <g id=\"patch_6\">\r\n    <path d=\"M 35.304688 7.2 \r\nL 370.104688 7.2 \r\n\" style=\"fill:none;stroke:#000000;stroke-linecap:square;stroke-linejoin:miter;stroke-width:0.8;\"/>\r\n   </g>\r\n   <g id=\"legend_1\">\r\n    <g id=\"patch_7\">\r\n     <path d=\"M 42.304688 219.64 \r\nL 82.004688 219.64 \r\nQ 84.004688 219.64 84.004688 217.64 \r\nL 84.004688 159.9275 \r\nQ 84.004688 157.9275 82.004688 157.9275 \r\nL 42.304688 157.9275 \r\nQ 40.304688 157.9275 40.304688 159.9275 \r\nL 40.304688 217.64 \r\nQ 40.304688 219.64 42.304688 219.64 \r\nz\r\n\" style=\"fill:#ffffff;opacity:0.8;stroke:#cccccc;stroke-linejoin:miter;\"/>\r\n    </g>\r\n    <g id=\"line2d_45\">\r\n     <path d=\"M 44.304688 166.025937 \r\nL 64.304688 166.025937 \r\n\" style=\"fill:none;stroke:#1f77b4;stroke-linecap:square;stroke-width:1.5;\"/>\r\n    </g>\r\n    <g id=\"line2d_46\"/>\r\n    <g id=\"text_13\">\r\n     <!-- A -->\r\n     <g transform=\"translate(72.304688 169.525937)scale(0.1 -0.1)\">\r\n      <defs>\r\n       <path d=\"M 2188 4044 \r\nL 1331 1722 \r\nL 3047 1722 \r\nL 2188 4044 \r\nz\r\nM 1831 4666 \r\nL 2547 4666 \r\nL 4325 0 \r\nL 3669 0 \r\nL 3244 1197 \r\nL 1141 1197 \r\nL 716 0 \r\nL 50 0 \r\nL 1831 4666 \r\nz\r\n\" id=\"DejaVuSans-41\" transform=\"scale(0.015625)\"/>\r\n      </defs>\r\n      <use xlink:href=\"#DejaVuSans-41\"/>\r\n     </g>\r\n    </g>\r\n    <g id=\"line2d_47\">\r\n     <path d=\"M 44.304688 180.704062 \r\nL 64.304688 180.704062 \r\n\" style=\"fill:none;stroke:#ff7f0e;stroke-linecap:square;stroke-width:1.5;\"/>\r\n    </g>\r\n    <g id=\"line2d_48\"/>\r\n    <g id=\"text_14\">\r\n     <!-- B -->\r\n     <g transform=\"translate(72.304688 184.204062)scale(0.1 -0.1)\">\r\n      <defs>\r\n       <path d=\"M 1259 2228 \r\nL 1259 519 \r\nL 2272 519 \r\nQ 2781 519 3026 730 \r\nQ 3272 941 3272 1375 \r\nQ 3272 1813 3026 2020 \r\nQ 2781 2228 2272 2228 \r\nL 1259 2228 \r\nz\r\nM 1259 4147 \r\nL 1259 2741 \r\nL 2194 2741 \r\nQ 2656 2741 2882 2914 \r\nQ 3109 3088 3109 3444 \r\nQ 3109 3797 2882 3972 \r\nQ 2656 4147 2194 4147 \r\nL 1259 4147 \r\nz\r\nM 628 4666 \r\nL 2241 4666 \r\nQ 2963 4666 3353 4366 \r\nQ 3744 4066 3744 3513 \r\nQ 3744 3084 3544 2831 \r\nQ 3344 2578 2956 2516 \r\nQ 3422 2416 3680 2098 \r\nQ 3938 1781 3938 1306 \r\nQ 3938 681 3513 340 \r\nQ 3088 0 2303 0 \r\nL 628 0 \r\nL 628 4666 \r\nz\r\n\" id=\"DejaVuSans-42\" transform=\"scale(0.015625)\"/>\r\n      </defs>\r\n      <use xlink:href=\"#DejaVuSans-42\"/>\r\n     </g>\r\n    </g>\r\n    <g id=\"line2d_49\">\r\n     <path d=\"M 44.304688 195.382187 \r\nL 64.304688 195.382187 \r\n\" style=\"fill:none;stroke:#2ca02c;stroke-linecap:square;stroke-width:1.5;\"/>\r\n    </g>\r\n    <g id=\"line2d_50\"/>\r\n    <g id=\"text_15\">\r\n     <!-- C -->\r\n     <g transform=\"translate(72.304688 198.882187)scale(0.1 -0.1)\">\r\n      <defs>\r\n       <path d=\"M 4122 4306 \r\nL 4122 3641 \r\nQ 3803 3938 3442 4084 \r\nQ 3081 4231 2675 4231 \r\nQ 1875 4231 1450 3742 \r\nQ 1025 3253 1025 2328 \r\nQ 1025 1406 1450 917 \r\nQ 1875 428 2675 428 \r\nQ 3081 428 3442 575 \r\nQ 3803 722 4122 1019 \r\nL 4122 359 \r\nQ 3791 134 3420 21 \r\nQ 3050 -91 2638 -91 \r\nQ 1578 -91 968 557 \r\nQ 359 1206 359 2328 \r\nQ 359 3453 968 4101 \r\nQ 1578 4750 2638 4750 \r\nQ 3056 4750 3426 4639 \r\nQ 3797 4528 4122 4306 \r\nz\r\n\" id=\"DejaVuSans-43\" transform=\"scale(0.015625)\"/>\r\n      </defs>\r\n      <use xlink:href=\"#DejaVuSans-43\"/>\r\n     </g>\r\n    </g>\r\n    <g id=\"line2d_51\">\r\n     <path d=\"M 44.304688 210.060313 \r\nL 64.304688 210.060313 \r\n\" style=\"fill:none;stroke:#d62728;stroke-linecap:square;stroke-width:1.5;\"/>\r\n    </g>\r\n    <g id=\"line2d_52\"/>\r\n    <g id=\"text_16\">\r\n     <!-- D -->\r\n     <g transform=\"translate(72.304688 213.560313)scale(0.1 -0.1)\">\r\n      <defs>\r\n       <path d=\"M 1259 4147 \r\nL 1259 519 \r\nL 2022 519 \r\nQ 2988 519 3436 956 \r\nQ 3884 1394 3884 2338 \r\nQ 3884 3275 3436 3711 \r\nQ 2988 4147 2022 4147 \r\nL 1259 4147 \r\nz\r\nM 628 4666 \r\nL 1925 4666 \r\nQ 3281 4666 3915 4102 \r\nQ 4550 3538 4550 2338 \r\nQ 4550 1131 3912 565 \r\nQ 3275 0 1925 0 \r\nL 628 0 \r\nL 628 4666 \r\nz\r\n\" id=\"DejaVuSans-44\" transform=\"scale(0.015625)\"/>\r\n      </defs>\r\n      <use xlink:href=\"#DejaVuSans-44\"/>\r\n     </g>\r\n    </g>\r\n   </g>\r\n  </g>\r\n </g>\r\n <defs>\r\n  <clipPath id=\"pd2703c3700\">\r\n   <rect height=\"217.44\" width=\"334.8\" x=\"35.304688\" y=\"7.2\"/>\r\n  </clipPath>\r\n </defs>\r\n</svg>\r\n",
      "text/plain": [
       "<Figure size 432x288 with 1 Axes>"
      ]
     },
     "metadata": {
      "needs_background": "light"
     },
     "output_type": "display_data"
    }
   ],
   "source": [
    "df = pd.DataFrame(\n",
    "    np.random.randn(1000, 4),\n",
    "    index=ts.index,\n",
    "    columns=list(\"ABCD\")\n",
    ")\n",
    "df = df.cumsum()\n",
    "plt.figure()\n",
    "df.plot()\n",
    "plt.legend(loc=\"best\")"
   ]
  },
  {
   "cell_type": "markdown",
   "metadata": {},
   "source": [
    "## Getting data in/out\n",
    "\n",
    "### CSV\n",
    "\n",
    "#### Writing to a .csv file"
   ]
  },
  {
   "cell_type": "code",
   "execution_count": 101,
   "metadata": {},
   "outputs": [],
   "source": [
    "df.to_csv(\"files/foo.csv\")"
   ]
  },
  {
   "cell_type": "markdown",
   "metadata": {},
   "source": [
    "#### Reading from a .csv file"
   ]
  },
  {
   "cell_type": "code",
   "execution_count": 102,
   "metadata": {},
   "outputs": [
    {
     "data": {
      "text/html": [
       "<div>\n",
       "<style scoped>\n",
       "    .dataframe tbody tr th:only-of-type {\n",
       "        vertical-align: middle;\n",
       "    }\n",
       "\n",
       "    .dataframe tbody tr th {\n",
       "        vertical-align: top;\n",
       "    }\n",
       "\n",
       "    .dataframe thead th {\n",
       "        text-align: right;\n",
       "    }\n",
       "</style>\n",
       "<table border=\"1\" class=\"dataframe\">\n",
       "  <thead>\n",
       "    <tr style=\"text-align: right;\">\n",
       "      <th></th>\n",
       "      <th>Unnamed: 0</th>\n",
       "      <th>A</th>\n",
       "      <th>B</th>\n",
       "      <th>C</th>\n",
       "      <th>D</th>\n",
       "    </tr>\n",
       "  </thead>\n",
       "  <tbody>\n",
       "    <tr>\n",
       "      <th>0</th>\n",
       "      <td>2022-01-01</td>\n",
       "      <td>1.487934</td>\n",
       "      <td>1.095357</td>\n",
       "      <td>0.950583</td>\n",
       "      <td>-0.098050</td>\n",
       "    </tr>\n",
       "    <tr>\n",
       "      <th>1</th>\n",
       "      <td>2022-01-02</td>\n",
       "      <td>2.852137</td>\n",
       "      <td>1.269131</td>\n",
       "      <td>0.316036</td>\n",
       "      <td>-0.454367</td>\n",
       "    </tr>\n",
       "    <tr>\n",
       "      <th>2</th>\n",
       "      <td>2022-01-03</td>\n",
       "      <td>2.214553</td>\n",
       "      <td>0.837012</td>\n",
       "      <td>0.226380</td>\n",
       "      <td>-1.028280</td>\n",
       "    </tr>\n",
       "    <tr>\n",
       "      <th>3</th>\n",
       "      <td>2022-01-04</td>\n",
       "      <td>2.640947</td>\n",
       "      <td>3.354747</td>\n",
       "      <td>-0.490154</td>\n",
       "      <td>-1.063480</td>\n",
       "    </tr>\n",
       "    <tr>\n",
       "      <th>4</th>\n",
       "      <td>2022-01-05</td>\n",
       "      <td>0.696406</td>\n",
       "      <td>3.333828</td>\n",
       "      <td>-1.166323</td>\n",
       "      <td>-1.432614</td>\n",
       "    </tr>\n",
       "    <tr>\n",
       "      <th>...</th>\n",
       "      <td>...</td>\n",
       "      <td>...</td>\n",
       "      <td>...</td>\n",
       "      <td>...</td>\n",
       "      <td>...</td>\n",
       "    </tr>\n",
       "    <tr>\n",
       "      <th>995</th>\n",
       "      <td>2024-09-22</td>\n",
       "      <td>-87.925430</td>\n",
       "      <td>-20.619726</td>\n",
       "      <td>-14.835454</td>\n",
       "      <td>-3.408065</td>\n",
       "    </tr>\n",
       "    <tr>\n",
       "      <th>996</th>\n",
       "      <td>2024-09-23</td>\n",
       "      <td>-85.021481</td>\n",
       "      <td>-19.794701</td>\n",
       "      <td>-14.223107</td>\n",
       "      <td>-3.297645</td>\n",
       "    </tr>\n",
       "    <tr>\n",
       "      <th>997</th>\n",
       "      <td>2024-09-24</td>\n",
       "      <td>-85.085890</td>\n",
       "      <td>-20.662952</td>\n",
       "      <td>-12.675394</td>\n",
       "      <td>-2.405819</td>\n",
       "    </tr>\n",
       "    <tr>\n",
       "      <th>998</th>\n",
       "      <td>2024-09-25</td>\n",
       "      <td>-84.987709</td>\n",
       "      <td>-20.665676</td>\n",
       "      <td>-13.502361</td>\n",
       "      <td>-1.117808</td>\n",
       "    </tr>\n",
       "    <tr>\n",
       "      <th>999</th>\n",
       "      <td>2024-09-26</td>\n",
       "      <td>-84.917305</td>\n",
       "      <td>-21.207843</td>\n",
       "      <td>-12.529900</td>\n",
       "      <td>-1.666942</td>\n",
       "    </tr>\n",
       "  </tbody>\n",
       "</table>\n",
       "<p>1000 rows × 5 columns</p>\n",
       "</div>"
      ],
      "text/plain": [
       "     Unnamed: 0          A          B          C         D\n",
       "0    2022-01-01   1.487934   1.095357   0.950583 -0.098050\n",
       "1    2022-01-02   2.852137   1.269131   0.316036 -0.454367\n",
       "2    2022-01-03   2.214553   0.837012   0.226380 -1.028280\n",
       "3    2022-01-04   2.640947   3.354747  -0.490154 -1.063480\n",
       "4    2022-01-05   0.696406   3.333828  -1.166323 -1.432614\n",
       "..          ...        ...        ...        ...       ...\n",
       "995  2024-09-22 -87.925430 -20.619726 -14.835454 -3.408065\n",
       "996  2024-09-23 -85.021481 -19.794701 -14.223107 -3.297645\n",
       "997  2024-09-24 -85.085890 -20.662952 -12.675394 -2.405819\n",
       "998  2024-09-25 -84.987709 -20.665676 -13.502361 -1.117808\n",
       "999  2024-09-26 -84.917305 -21.207843 -12.529900 -1.666942\n",
       "\n",
       "[1000 rows x 5 columns]"
      ]
     },
     "execution_count": 102,
     "metadata": {},
     "output_type": "execute_result"
    }
   ],
   "source": [
    "pd.read_csv(\"files/foo.csv\")"
   ]
  },
  {
   "cell_type": "markdown",
   "metadata": {},
   "source": [
    "### HDF5\n",
    "\n",
    "Reading and writing to HDF5Stores."
   ]
  },
  {
   "cell_type": "markdown",
   "metadata": {},
   "source": [
    "#### Writing to a HDF5 Store."
   ]
  },
  {
   "cell_type": "code",
   "execution_count": 103,
   "metadata": {},
   "outputs": [],
   "source": [
    "# !pip install tables\n",
    "df.to_hdf(\"files/foo.h5\", \"df\")"
   ]
  },
  {
   "cell_type": "markdown",
   "metadata": {},
   "source": [
    "#### Reading from HDF5 Store."
   ]
  },
  {
   "cell_type": "code",
   "execution_count": 104,
   "metadata": {},
   "outputs": [
    {
     "data": {
      "text/html": [
       "<div>\n",
       "<style scoped>\n",
       "    .dataframe tbody tr th:only-of-type {\n",
       "        vertical-align: middle;\n",
       "    }\n",
       "\n",
       "    .dataframe tbody tr th {\n",
       "        vertical-align: top;\n",
       "    }\n",
       "\n",
       "    .dataframe thead th {\n",
       "        text-align: right;\n",
       "    }\n",
       "</style>\n",
       "<table border=\"1\" class=\"dataframe\">\n",
       "  <thead>\n",
       "    <tr style=\"text-align: right;\">\n",
       "      <th></th>\n",
       "      <th>A</th>\n",
       "      <th>B</th>\n",
       "      <th>C</th>\n",
       "      <th>D</th>\n",
       "    </tr>\n",
       "  </thead>\n",
       "  <tbody>\n",
       "    <tr>\n",
       "      <th>2022-01-01</th>\n",
       "      <td>1.487934</td>\n",
       "      <td>1.095357</td>\n",
       "      <td>0.950583</td>\n",
       "      <td>-0.098050</td>\n",
       "    </tr>\n",
       "    <tr>\n",
       "      <th>2022-01-02</th>\n",
       "      <td>2.852137</td>\n",
       "      <td>1.269131</td>\n",
       "      <td>0.316036</td>\n",
       "      <td>-0.454367</td>\n",
       "    </tr>\n",
       "    <tr>\n",
       "      <th>2022-01-03</th>\n",
       "      <td>2.214553</td>\n",
       "      <td>0.837012</td>\n",
       "      <td>0.226380</td>\n",
       "      <td>-1.028280</td>\n",
       "    </tr>\n",
       "    <tr>\n",
       "      <th>2022-01-04</th>\n",
       "      <td>2.640947</td>\n",
       "      <td>3.354747</td>\n",
       "      <td>-0.490154</td>\n",
       "      <td>-1.063480</td>\n",
       "    </tr>\n",
       "    <tr>\n",
       "      <th>2022-01-05</th>\n",
       "      <td>0.696406</td>\n",
       "      <td>3.333828</td>\n",
       "      <td>-1.166323</td>\n",
       "      <td>-1.432614</td>\n",
       "    </tr>\n",
       "    <tr>\n",
       "      <th>...</th>\n",
       "      <td>...</td>\n",
       "      <td>...</td>\n",
       "      <td>...</td>\n",
       "      <td>...</td>\n",
       "    </tr>\n",
       "    <tr>\n",
       "      <th>2024-09-22</th>\n",
       "      <td>-87.925430</td>\n",
       "      <td>-20.619726</td>\n",
       "      <td>-14.835454</td>\n",
       "      <td>-3.408065</td>\n",
       "    </tr>\n",
       "    <tr>\n",
       "      <th>2024-09-23</th>\n",
       "      <td>-85.021481</td>\n",
       "      <td>-19.794701</td>\n",
       "      <td>-14.223107</td>\n",
       "      <td>-3.297645</td>\n",
       "    </tr>\n",
       "    <tr>\n",
       "      <th>2024-09-24</th>\n",
       "      <td>-85.085890</td>\n",
       "      <td>-20.662952</td>\n",
       "      <td>-12.675394</td>\n",
       "      <td>-2.405819</td>\n",
       "    </tr>\n",
       "    <tr>\n",
       "      <th>2024-09-25</th>\n",
       "      <td>-84.987709</td>\n",
       "      <td>-20.665676</td>\n",
       "      <td>-13.502361</td>\n",
       "      <td>-1.117808</td>\n",
       "    </tr>\n",
       "    <tr>\n",
       "      <th>2024-09-26</th>\n",
       "      <td>-84.917305</td>\n",
       "      <td>-21.207843</td>\n",
       "      <td>-12.529900</td>\n",
       "      <td>-1.666942</td>\n",
       "    </tr>\n",
       "  </tbody>\n",
       "</table>\n",
       "<p>1000 rows × 4 columns</p>\n",
       "</div>"
      ],
      "text/plain": [
       "                    A          B          C         D\n",
       "2022-01-01   1.487934   1.095357   0.950583 -0.098050\n",
       "2022-01-02   2.852137   1.269131   0.316036 -0.454367\n",
       "2022-01-03   2.214553   0.837012   0.226380 -1.028280\n",
       "2022-01-04   2.640947   3.354747  -0.490154 -1.063480\n",
       "2022-01-05   0.696406   3.333828  -1.166323 -1.432614\n",
       "...               ...        ...        ...       ...\n",
       "2024-09-22 -87.925430 -20.619726 -14.835454 -3.408065\n",
       "2024-09-23 -85.021481 -19.794701 -14.223107 -3.297645\n",
       "2024-09-24 -85.085890 -20.662952 -12.675394 -2.405819\n",
       "2024-09-25 -84.987709 -20.665676 -13.502361 -1.117808\n",
       "2024-09-26 -84.917305 -21.207843 -12.529900 -1.666942\n",
       "\n",
       "[1000 rows x 4 columns]"
      ]
     },
     "execution_count": 104,
     "metadata": {},
     "output_type": "execute_result"
    }
   ],
   "source": [
    "pd.read_hdf(\"files/foo.h5\", \"df\")"
   ]
  },
  {
   "cell_type": "markdown",
   "metadata": {},
   "source": [
    "### Excel\n",
    "\n",
    "Reading and writing to MS Excel."
   ]
  },
  {
   "cell_type": "markdown",
   "metadata": {},
   "source": [
    "#### Writing to an excel file"
   ]
  },
  {
   "cell_type": "code",
   "execution_count": 105,
   "metadata": {},
   "outputs": [],
   "source": [
    "df.to_excel(\"files/foo.xlsx\", sheet_name=\"Sheet1\")"
   ]
  },
  {
   "cell_type": "markdown",
   "metadata": {},
   "source": [
    "#### Reading from an excel file."
   ]
  },
  {
   "cell_type": "code",
   "execution_count": 106,
   "metadata": {},
   "outputs": [
    {
     "data": {
      "text/html": [
       "<div>\n",
       "<style scoped>\n",
       "    .dataframe tbody tr th:only-of-type {\n",
       "        vertical-align: middle;\n",
       "    }\n",
       "\n",
       "    .dataframe tbody tr th {\n",
       "        vertical-align: top;\n",
       "    }\n",
       "\n",
       "    .dataframe thead th {\n",
       "        text-align: right;\n",
       "    }\n",
       "</style>\n",
       "<table border=\"1\" class=\"dataframe\">\n",
       "  <thead>\n",
       "    <tr style=\"text-align: right;\">\n",
       "      <th></th>\n",
       "      <th>Unnamed: 0</th>\n",
       "      <th>A</th>\n",
       "      <th>B</th>\n",
       "      <th>C</th>\n",
       "      <th>D</th>\n",
       "    </tr>\n",
       "  </thead>\n",
       "  <tbody>\n",
       "    <tr>\n",
       "      <th>0</th>\n",
       "      <td>2022-01-01</td>\n",
       "      <td>1.487934</td>\n",
       "      <td>1.095357</td>\n",
       "      <td>0.950583</td>\n",
       "      <td>-0.098050</td>\n",
       "    </tr>\n",
       "    <tr>\n",
       "      <th>1</th>\n",
       "      <td>2022-01-02</td>\n",
       "      <td>2.852137</td>\n",
       "      <td>1.269131</td>\n",
       "      <td>0.316036</td>\n",
       "      <td>-0.454367</td>\n",
       "    </tr>\n",
       "    <tr>\n",
       "      <th>2</th>\n",
       "      <td>2022-01-03</td>\n",
       "      <td>2.214553</td>\n",
       "      <td>0.837012</td>\n",
       "      <td>0.226380</td>\n",
       "      <td>-1.028280</td>\n",
       "    </tr>\n",
       "    <tr>\n",
       "      <th>3</th>\n",
       "      <td>2022-01-04</td>\n",
       "      <td>2.640947</td>\n",
       "      <td>3.354747</td>\n",
       "      <td>-0.490154</td>\n",
       "      <td>-1.063480</td>\n",
       "    </tr>\n",
       "    <tr>\n",
       "      <th>4</th>\n",
       "      <td>2022-01-05</td>\n",
       "      <td>0.696406</td>\n",
       "      <td>3.333828</td>\n",
       "      <td>-1.166323</td>\n",
       "      <td>-1.432614</td>\n",
       "    </tr>\n",
       "    <tr>\n",
       "      <th>...</th>\n",
       "      <td>...</td>\n",
       "      <td>...</td>\n",
       "      <td>...</td>\n",
       "      <td>...</td>\n",
       "      <td>...</td>\n",
       "    </tr>\n",
       "    <tr>\n",
       "      <th>995</th>\n",
       "      <td>2024-09-22</td>\n",
       "      <td>-87.925430</td>\n",
       "      <td>-20.619726</td>\n",
       "      <td>-14.835454</td>\n",
       "      <td>-3.408065</td>\n",
       "    </tr>\n",
       "    <tr>\n",
       "      <th>996</th>\n",
       "      <td>2024-09-23</td>\n",
       "      <td>-85.021481</td>\n",
       "      <td>-19.794701</td>\n",
       "      <td>-14.223107</td>\n",
       "      <td>-3.297645</td>\n",
       "    </tr>\n",
       "    <tr>\n",
       "      <th>997</th>\n",
       "      <td>2024-09-24</td>\n",
       "      <td>-85.085890</td>\n",
       "      <td>-20.662952</td>\n",
       "      <td>-12.675394</td>\n",
       "      <td>-2.405819</td>\n",
       "    </tr>\n",
       "    <tr>\n",
       "      <th>998</th>\n",
       "      <td>2024-09-25</td>\n",
       "      <td>-84.987709</td>\n",
       "      <td>-20.665676</td>\n",
       "      <td>-13.502361</td>\n",
       "      <td>-1.117808</td>\n",
       "    </tr>\n",
       "    <tr>\n",
       "      <th>999</th>\n",
       "      <td>2024-09-26</td>\n",
       "      <td>-84.917305</td>\n",
       "      <td>-21.207843</td>\n",
       "      <td>-12.529900</td>\n",
       "      <td>-1.666942</td>\n",
       "    </tr>\n",
       "  </tbody>\n",
       "</table>\n",
       "<p>1000 rows × 5 columns</p>\n",
       "</div>"
      ],
      "text/plain": [
       "    Unnamed: 0          A          B          C         D\n",
       "0   2022-01-01   1.487934   1.095357   0.950583 -0.098050\n",
       "1   2022-01-02   2.852137   1.269131   0.316036 -0.454367\n",
       "2   2022-01-03   2.214553   0.837012   0.226380 -1.028280\n",
       "3   2022-01-04   2.640947   3.354747  -0.490154 -1.063480\n",
       "4   2022-01-05   0.696406   3.333828  -1.166323 -1.432614\n",
       "..         ...        ...        ...        ...       ...\n",
       "995 2024-09-22 -87.925430 -20.619726 -14.835454 -3.408065\n",
       "996 2024-09-23 -85.021481 -19.794701 -14.223107 -3.297645\n",
       "997 2024-09-24 -85.085890 -20.662952 -12.675394 -2.405819\n",
       "998 2024-09-25 -84.987709 -20.665676 -13.502361 -1.117808\n",
       "999 2024-09-26 -84.917305 -21.207843 -12.529900 -1.666942\n",
       "\n",
       "[1000 rows x 5 columns]"
      ]
     },
     "execution_count": 106,
     "metadata": {},
     "output_type": "execute_result"
    }
   ],
   "source": [
    "pd.read_excel(\"files/foo.xlsx\", \"Sheet1\", index_col=None, na_values=[\"NA\"])"
   ]
  }
 ],
 "metadata": {
  "interpreter": {
   "hash": "2647ea34e536f865ab67ff9ddee7fd78773d956cec0cab53c79b32cd10da5d83"
  },
  "kernelspec": {
   "display_name": "Python 3.9.10 64-bit",
   "language": "python",
   "name": "python3"
  },
  "language_info": {
   "codemirror_mode": {
    "name": "ipython",
    "version": 3
   },
   "file_extension": ".py",
   "mimetype": "text/x-python",
   "name": "python",
   "nbconvert_exporter": "python",
   "pygments_lexer": "ipython3",
   "version": "3.9.10"
  },
  "orig_nbformat": 4
 },
 "nbformat": 4,
 "nbformat_minor": 2
}
