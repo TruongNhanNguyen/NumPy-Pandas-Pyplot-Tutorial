{
 "cells": [
  {
   "cell_type": "markdown",
   "metadata": {},
   "source": [
    "# PANDAS TUTORIAL (QUICK TOUR-10 MINUTES)"
   ]
  },
  {
   "cell_type": "markdown",
   "metadata": {},
   "source": [
    "This is a short introduction to `pandas`, geared mainly for new users.\n",
    "\n",
    "Customarily, we import as follow:"
   ]
  },
  {
   "cell_type": "code",
   "execution_count": 1,
   "metadata": {},
   "outputs": [],
   "source": [
    "import numpy as np\n",
    "import pandas as pd"
   ]
  },
  {
   "cell_type": "markdown",
   "metadata": {},
   "source": [
    "## Object Creation"
   ]
  },
  {
   "cell_type": "markdown",
   "metadata": {},
   "source": [
    "Creating a **Series** by passing a list of values, letting `pandas` create a default integer index."
   ]
  },
  {
   "cell_type": "code",
   "execution_count": 2,
   "metadata": {},
   "outputs": [
    {
     "data": {
      "text/plain": [
       "0     1.0\n",
       "1     2.0\n",
       "2    -7.0\n",
       "3    10.0\n",
       "4     NaN\n",
       "5     8.0\n",
       "6    11.0\n",
       "dtype: float64"
      ]
     },
     "execution_count": 2,
     "metadata": {},
     "output_type": "execute_result"
    }
   ],
   "source": [
    "s = pd.Series([1, 2, -7, 10, np.nan, 8, 11])\n",
    "s"
   ]
  },
  {
   "cell_type": "markdown",
   "metadata": {},
   "source": [
    "Creating a **DataFrame** by passing a `NumPy` array, with datetime index and labeled columns."
   ]
  },
  {
   "cell_type": "code",
   "execution_count": 3,
   "metadata": {},
   "outputs": [
    {
     "data": {
      "text/plain": [
       "DatetimeIndex(['2022-03-19', '2022-03-20', '2022-03-21', '2022-03-22',\n",
       "               '2022-03-23', '2022-03-24', '2022-03-25'],\n",
       "              dtype='datetime64[ns]', freq='D')"
      ]
     },
     "execution_count": 3,
     "metadata": {},
     "output_type": "execute_result"
    }
   ],
   "source": [
    "dates = pd.date_range(\"20220319\", periods=7)\n",
    "dates"
   ]
  },
  {
   "cell_type": "code",
   "execution_count": 4,
   "metadata": {},
   "outputs": [
    {
     "data": {
      "text/html": [
       "<div>\n",
       "<style scoped>\n",
       "    .dataframe tbody tr th:only-of-type {\n",
       "        vertical-align: middle;\n",
       "    }\n",
       "\n",
       "    .dataframe tbody tr th {\n",
       "        vertical-align: top;\n",
       "    }\n",
       "\n",
       "    .dataframe thead th {\n",
       "        text-align: right;\n",
       "    }\n",
       "</style>\n",
       "<table border=\"1\" class=\"dataframe\">\n",
       "  <thead>\n",
       "    <tr style=\"text-align: right;\">\n",
       "      <th></th>\n",
       "      <th>A</th>\n",
       "      <th>B</th>\n",
       "      <th>C</th>\n",
       "      <th>D</th>\n",
       "    </tr>\n",
       "  </thead>\n",
       "  <tbody>\n",
       "    <tr>\n",
       "      <th>2022-03-19</th>\n",
       "      <td>-1.299912</td>\n",
       "      <td>1.056522</td>\n",
       "      <td>-1.076645</td>\n",
       "      <td>0.466803</td>\n",
       "    </tr>\n",
       "    <tr>\n",
       "      <th>2022-03-20</th>\n",
       "      <td>2.247550</td>\n",
       "      <td>1.768945</td>\n",
       "      <td>2.341640</td>\n",
       "      <td>-0.397978</td>\n",
       "    </tr>\n",
       "    <tr>\n",
       "      <th>2022-03-21</th>\n",
       "      <td>-0.097541</td>\n",
       "      <td>-1.231248</td>\n",
       "      <td>-1.128851</td>\n",
       "      <td>1.201296</td>\n",
       "    </tr>\n",
       "    <tr>\n",
       "      <th>2022-03-22</th>\n",
       "      <td>0.113084</td>\n",
       "      <td>-1.615147</td>\n",
       "      <td>-1.426360</td>\n",
       "      <td>-1.542553</td>\n",
       "    </tr>\n",
       "    <tr>\n",
       "      <th>2022-03-23</th>\n",
       "      <td>-0.281581</td>\n",
       "      <td>-1.005752</td>\n",
       "      <td>0.425680</td>\n",
       "      <td>-0.536633</td>\n",
       "    </tr>\n",
       "    <tr>\n",
       "      <th>2022-03-24</th>\n",
       "      <td>0.335880</td>\n",
       "      <td>-0.216900</td>\n",
       "      <td>-1.314780</td>\n",
       "      <td>1.476533</td>\n",
       "    </tr>\n",
       "    <tr>\n",
       "      <th>2022-03-25</th>\n",
       "      <td>0.094517</td>\n",
       "      <td>-1.106857</td>\n",
       "      <td>0.803023</td>\n",
       "      <td>-0.085245</td>\n",
       "    </tr>\n",
       "  </tbody>\n",
       "</table>\n",
       "</div>"
      ],
      "text/plain": [
       "                   A         B         C         D\n",
       "2022-03-19 -1.299912  1.056522 -1.076645  0.466803\n",
       "2022-03-20  2.247550  1.768945  2.341640 -0.397978\n",
       "2022-03-21 -0.097541 -1.231248 -1.128851  1.201296\n",
       "2022-03-22  0.113084 -1.615147 -1.426360 -1.542553\n",
       "2022-03-23 -0.281581 -1.005752  0.425680 -0.536633\n",
       "2022-03-24  0.335880 -0.216900 -1.314780  1.476533\n",
       "2022-03-25  0.094517 -1.106857  0.803023 -0.085245"
      ]
     },
     "execution_count": 4,
     "metadata": {},
     "output_type": "execute_result"
    }
   ],
   "source": [
    "df = pd.DataFrame(np.random.randn(7, 4), index=dates, columns=list(\"ABCD\"))\n",
    "df"
   ]
  },
  {
   "cell_type": "markdown",
   "metadata": {},
   "source": [
    "Create a **DataFrame** by passing a *dictionary* of objects that can be converted into a series-like structure."
   ]
  },
  {
   "cell_type": "code",
   "execution_count": 5,
   "metadata": {},
   "outputs": [
    {
     "data": {
      "text/html": [
       "<div>\n",
       "<style scoped>\n",
       "    .dataframe tbody tr th:only-of-type {\n",
       "        vertical-align: middle;\n",
       "    }\n",
       "\n",
       "    .dataframe tbody tr th {\n",
       "        vertical-align: top;\n",
       "    }\n",
       "\n",
       "    .dataframe thead th {\n",
       "        text-align: right;\n",
       "    }\n",
       "</style>\n",
       "<table border=\"1\" class=\"dataframe\">\n",
       "  <thead>\n",
       "    <tr style=\"text-align: right;\">\n",
       "      <th></th>\n",
       "      <th>A</th>\n",
       "      <th>B</th>\n",
       "      <th>C</th>\n",
       "      <th>D</th>\n",
       "      <th>E</th>\n",
       "      <th>F</th>\n",
       "    </tr>\n",
       "  </thead>\n",
       "  <tbody>\n",
       "    <tr>\n",
       "      <th>0</th>\n",
       "      <td>1.5</td>\n",
       "      <td>2022-03-19</td>\n",
       "      <td>1.0</td>\n",
       "      <td>5</td>\n",
       "      <td>test</td>\n",
       "      <td>foo</td>\n",
       "    </tr>\n",
       "    <tr>\n",
       "      <th>1</th>\n",
       "      <td>1.5</td>\n",
       "      <td>2022-03-19</td>\n",
       "      <td>1.0</td>\n",
       "      <td>5</td>\n",
       "      <td>train</td>\n",
       "      <td>foo</td>\n",
       "    </tr>\n",
       "    <tr>\n",
       "      <th>2</th>\n",
       "      <td>1.5</td>\n",
       "      <td>2022-03-19</td>\n",
       "      <td>1.0</td>\n",
       "      <td>5</td>\n",
       "      <td>test</td>\n",
       "      <td>foo</td>\n",
       "    </tr>\n",
       "    <tr>\n",
       "      <th>3</th>\n",
       "      <td>1.5</td>\n",
       "      <td>2022-03-19</td>\n",
       "      <td>1.0</td>\n",
       "      <td>5</td>\n",
       "      <td>train</td>\n",
       "      <td>foo</td>\n",
       "    </tr>\n",
       "  </tbody>\n",
       "</table>\n",
       "</div>"
      ],
      "text/plain": [
       "     A          B    C  D      E    F\n",
       "0  1.5 2022-03-19  1.0  5   test  foo\n",
       "1  1.5 2022-03-19  1.0  5  train  foo\n",
       "2  1.5 2022-03-19  1.0  5   test  foo\n",
       "3  1.5 2022-03-19  1.0  5  train  foo"
      ]
     },
     "execution_count": 5,
     "metadata": {},
     "output_type": "execute_result"
    }
   ],
   "source": [
    "df2 = pd.DataFrame(\n",
    "    {\n",
    "        \"A\": 1.5,\n",
    "        \"B\": pd.Timestamp(\"20220319\"),\n",
    "        \"C\": pd.Series(1, index=list(range(4)), dtype=np.float32),\n",
    "        \"D\": np.array([5] * 4, dtype=np.int32),\n",
    "        \"E\": pd.Categorical([\"test\", \"train\", \"test\", \"train\"]),\n",
    "        \"F\": \"foo\",\n",
    "    }\n",
    ")\n",
    "df2"
   ]
  },
  {
   "cell_type": "markdown",
   "metadata": {},
   "source": [
    "The columns of the resulting **DataFrame** have different `dtypes`."
   ]
  },
  {
   "cell_type": "code",
   "execution_count": 6,
   "metadata": {},
   "outputs": [
    {
     "data": {
      "text/plain": [
       "A           float64\n",
       "B    datetime64[ns]\n",
       "C           float32\n",
       "D             int32\n",
       "E          category\n",
       "F            object\n",
       "dtype: object"
      ]
     },
     "execution_count": 6,
     "metadata": {},
     "output_type": "execute_result"
    }
   ],
   "source": [
    "df2.dtypes"
   ]
  },
  {
   "cell_type": "markdown",
   "metadata": {},
   "source": [
    "## Viewing data"
   ]
  },
  {
   "cell_type": "markdown",
   "metadata": {},
   "source": [
    "Here is how to view the top and bottom rows of the frame."
   ]
  },
  {
   "cell_type": "code",
   "execution_count": 7,
   "metadata": {},
   "outputs": [
    {
     "data": {
      "text/html": [
       "<div>\n",
       "<style scoped>\n",
       "    .dataframe tbody tr th:only-of-type {\n",
       "        vertical-align: middle;\n",
       "    }\n",
       "\n",
       "    .dataframe tbody tr th {\n",
       "        vertical-align: top;\n",
       "    }\n",
       "\n",
       "    .dataframe thead th {\n",
       "        text-align: right;\n",
       "    }\n",
       "</style>\n",
       "<table border=\"1\" class=\"dataframe\">\n",
       "  <thead>\n",
       "    <tr style=\"text-align: right;\">\n",
       "      <th></th>\n",
       "      <th>A</th>\n",
       "      <th>B</th>\n",
       "      <th>C</th>\n",
       "      <th>D</th>\n",
       "    </tr>\n",
       "  </thead>\n",
       "  <tbody>\n",
       "    <tr>\n",
       "      <th>2022-03-19</th>\n",
       "      <td>-1.299912</td>\n",
       "      <td>1.056522</td>\n",
       "      <td>-1.076645</td>\n",
       "      <td>0.466803</td>\n",
       "    </tr>\n",
       "    <tr>\n",
       "      <th>2022-03-20</th>\n",
       "      <td>2.247550</td>\n",
       "      <td>1.768945</td>\n",
       "      <td>2.341640</td>\n",
       "      <td>-0.397978</td>\n",
       "    </tr>\n",
       "    <tr>\n",
       "      <th>2022-03-21</th>\n",
       "      <td>-0.097541</td>\n",
       "      <td>-1.231248</td>\n",
       "      <td>-1.128851</td>\n",
       "      <td>1.201296</td>\n",
       "    </tr>\n",
       "    <tr>\n",
       "      <th>2022-03-22</th>\n",
       "      <td>0.113084</td>\n",
       "      <td>-1.615147</td>\n",
       "      <td>-1.426360</td>\n",
       "      <td>-1.542553</td>\n",
       "    </tr>\n",
       "    <tr>\n",
       "      <th>2022-03-23</th>\n",
       "      <td>-0.281581</td>\n",
       "      <td>-1.005752</td>\n",
       "      <td>0.425680</td>\n",
       "      <td>-0.536633</td>\n",
       "    </tr>\n",
       "  </tbody>\n",
       "</table>\n",
       "</div>"
      ],
      "text/plain": [
       "                   A         B         C         D\n",
       "2022-03-19 -1.299912  1.056522 -1.076645  0.466803\n",
       "2022-03-20  2.247550  1.768945  2.341640 -0.397978\n",
       "2022-03-21 -0.097541 -1.231248 -1.128851  1.201296\n",
       "2022-03-22  0.113084 -1.615147 -1.426360 -1.542553\n",
       "2022-03-23 -0.281581 -1.005752  0.425680 -0.536633"
      ]
     },
     "execution_count": 7,
     "metadata": {},
     "output_type": "execute_result"
    }
   ],
   "source": [
    "df.head()"
   ]
  },
  {
   "cell_type": "code",
   "execution_count": 8,
   "metadata": {},
   "outputs": [
    {
     "data": {
      "text/html": [
       "<div>\n",
       "<style scoped>\n",
       "    .dataframe tbody tr th:only-of-type {\n",
       "        vertical-align: middle;\n",
       "    }\n",
       "\n",
       "    .dataframe tbody tr th {\n",
       "        vertical-align: top;\n",
       "    }\n",
       "\n",
       "    .dataframe thead th {\n",
       "        text-align: right;\n",
       "    }\n",
       "</style>\n",
       "<table border=\"1\" class=\"dataframe\">\n",
       "  <thead>\n",
       "    <tr style=\"text-align: right;\">\n",
       "      <th></th>\n",
       "      <th>A</th>\n",
       "      <th>B</th>\n",
       "      <th>C</th>\n",
       "      <th>D</th>\n",
       "    </tr>\n",
       "  </thead>\n",
       "  <tbody>\n",
       "    <tr>\n",
       "      <th>2022-03-21</th>\n",
       "      <td>-0.097541</td>\n",
       "      <td>-1.231248</td>\n",
       "      <td>-1.128851</td>\n",
       "      <td>1.201296</td>\n",
       "    </tr>\n",
       "    <tr>\n",
       "      <th>2022-03-22</th>\n",
       "      <td>0.113084</td>\n",
       "      <td>-1.615147</td>\n",
       "      <td>-1.426360</td>\n",
       "      <td>-1.542553</td>\n",
       "    </tr>\n",
       "    <tr>\n",
       "      <th>2022-03-23</th>\n",
       "      <td>-0.281581</td>\n",
       "      <td>-1.005752</td>\n",
       "      <td>0.425680</td>\n",
       "      <td>-0.536633</td>\n",
       "    </tr>\n",
       "    <tr>\n",
       "      <th>2022-03-24</th>\n",
       "      <td>0.335880</td>\n",
       "      <td>-0.216900</td>\n",
       "      <td>-1.314780</td>\n",
       "      <td>1.476533</td>\n",
       "    </tr>\n",
       "    <tr>\n",
       "      <th>2022-03-25</th>\n",
       "      <td>0.094517</td>\n",
       "      <td>-1.106857</td>\n",
       "      <td>0.803023</td>\n",
       "      <td>-0.085245</td>\n",
       "    </tr>\n",
       "  </tbody>\n",
       "</table>\n",
       "</div>"
      ],
      "text/plain": [
       "                   A         B         C         D\n",
       "2022-03-21 -0.097541 -1.231248 -1.128851  1.201296\n",
       "2022-03-22  0.113084 -1.615147 -1.426360 -1.542553\n",
       "2022-03-23 -0.281581 -1.005752  0.425680 -0.536633\n",
       "2022-03-24  0.335880 -0.216900 -1.314780  1.476533\n",
       "2022-03-25  0.094517 -1.106857  0.803023 -0.085245"
      ]
     },
     "execution_count": 8,
     "metadata": {},
     "output_type": "execute_result"
    }
   ],
   "source": [
    "df.tail()"
   ]
  },
  {
   "cell_type": "markdown",
   "metadata": {},
   "source": [
    "> You can pass arguments to the `head()` or `tail()` functions to display a specified number of rows."
   ]
  },
  {
   "cell_type": "code",
   "execution_count": 9,
   "metadata": {},
   "outputs": [
    {
     "data": {
      "text/html": [
       "<div>\n",
       "<style scoped>\n",
       "    .dataframe tbody tr th:only-of-type {\n",
       "        vertical-align: middle;\n",
       "    }\n",
       "\n",
       "    .dataframe tbody tr th {\n",
       "        vertical-align: top;\n",
       "    }\n",
       "\n",
       "    .dataframe thead th {\n",
       "        text-align: right;\n",
       "    }\n",
       "</style>\n",
       "<table border=\"1\" class=\"dataframe\">\n",
       "  <thead>\n",
       "    <tr style=\"text-align: right;\">\n",
       "      <th></th>\n",
       "      <th>A</th>\n",
       "      <th>B</th>\n",
       "      <th>C</th>\n",
       "      <th>D</th>\n",
       "    </tr>\n",
       "  </thead>\n",
       "  <tbody>\n",
       "    <tr>\n",
       "      <th>2022-03-19</th>\n",
       "      <td>-1.299912</td>\n",
       "      <td>1.056522</td>\n",
       "      <td>-1.076645</td>\n",
       "      <td>0.466803</td>\n",
       "    </tr>\n",
       "    <tr>\n",
       "      <th>2022-03-20</th>\n",
       "      <td>2.247550</td>\n",
       "      <td>1.768945</td>\n",
       "      <td>2.341640</td>\n",
       "      <td>-0.397978</td>\n",
       "    </tr>\n",
       "  </tbody>\n",
       "</table>\n",
       "</div>"
      ],
      "text/plain": [
       "                   A         B         C         D\n",
       "2022-03-19 -1.299912  1.056522 -1.076645  0.466803\n",
       "2022-03-20  2.247550  1.768945  2.341640 -0.397978"
      ]
     },
     "execution_count": 9,
     "metadata": {},
     "output_type": "execute_result"
    }
   ],
   "source": [
    "df.head(2)"
   ]
  },
  {
   "cell_type": "markdown",
   "metadata": {},
   "source": [
    "Display the index, columns."
   ]
  },
  {
   "cell_type": "code",
   "execution_count": 10,
   "metadata": {},
   "outputs": [
    {
     "data": {
      "text/plain": [
       "DatetimeIndex(['2022-03-19', '2022-03-20', '2022-03-21', '2022-03-22',\n",
       "               '2022-03-23', '2022-03-24', '2022-03-25'],\n",
       "              dtype='datetime64[ns]', freq='D')"
      ]
     },
     "execution_count": 10,
     "metadata": {},
     "output_type": "execute_result"
    }
   ],
   "source": [
    "df.index"
   ]
  },
  {
   "cell_type": "code",
   "execution_count": 11,
   "metadata": {},
   "outputs": [
    {
     "data": {
      "text/plain": [
       "Index(['A', 'B', 'C', 'D'], dtype='object')"
      ]
     },
     "execution_count": 11,
     "metadata": {},
     "output_type": "execute_result"
    }
   ],
   "source": [
    "df.columns"
   ]
  },
  {
   "cell_type": "markdown",
   "metadata": {},
   "source": [
    "> `DataFrame.to_numpy()` gives a `NumPy` representation of the underlying data. Note that this can be an expensive operation when your `DataFrame` has columns with *different* data types, which comes down to a fundamental difference between pandas and `NumPy`: `NumPy` arrays have one dtype for the entire array, while pandas DataFrames have one dtype per column. When you call `DataFrame.to_numpy()`, pandas will find the `NumPy` dtype that can hold all of the dtypes in the `DataFrame`. This may end up being object, which requires casting every value to a Python object."
   ]
  },
  {
   "cell_type": "markdown",
   "metadata": {},
   "source": [
    "For `df`, our **DataFrame** of all floating-point values, `DataFrame.to_numpy()` is fast and doesn't require copying data"
   ]
  },
  {
   "cell_type": "code",
   "execution_count": 12,
   "metadata": {},
   "outputs": [
    {
     "data": {
      "text/plain": [
       "array([[-1.29991182,  1.05652237, -1.07664479,  0.46680348],\n",
       "       [ 2.24754951,  1.76894483,  2.34164033, -0.3979778 ],\n",
       "       [-0.0975406 , -1.23124752, -1.12885146,  1.20129552],\n",
       "       [ 0.11308365, -1.61514685, -1.42636034, -1.54255323],\n",
       "       [-0.28158075, -1.00575157,  0.4256803 , -0.53663316],\n",
       "       [ 0.33588024, -0.21689986, -1.31478007,  1.4765326 ],\n",
       "       [ 0.09451741, -1.10685727,  0.80302258, -0.08524493]])"
      ]
     },
     "execution_count": 12,
     "metadata": {},
     "output_type": "execute_result"
    }
   ],
   "source": [
    "df.to_numpy()"
   ]
  },
  {
   "cell_type": "markdown",
   "metadata": {},
   "source": [
    "For `df2`, the **DataFrame** with multiply `dtypes`, `DataFrame.to_numpy()` is relative expensive."
   ]
  },
  {
   "cell_type": "code",
   "execution_count": 13,
   "metadata": {},
   "outputs": [
    {
     "data": {
      "text/plain": [
       "array([[1.5, Timestamp('2022-03-19 00:00:00'), 1.0, 5, 'test', 'foo'],\n",
       "       [1.5, Timestamp('2022-03-19 00:00:00'), 1.0, 5, 'train', 'foo'],\n",
       "       [1.5, Timestamp('2022-03-19 00:00:00'), 1.0, 5, 'test', 'foo'],\n",
       "       [1.5, Timestamp('2022-03-19 00:00:00'), 1.0, 5, 'train', 'foo']],\n",
       "      dtype=object)"
      ]
     },
     "execution_count": 13,
     "metadata": {},
     "output_type": "execute_result"
    }
   ],
   "source": [
    "df2.to_numpy()"
   ]
  },
  {
   "cell_type": "markdown",
   "metadata": {},
   "source": [
    "`describe()` shows a quick statistic summary of your data."
   ]
  },
  {
   "cell_type": "code",
   "execution_count": 14,
   "metadata": {},
   "outputs": [
    {
     "data": {
      "text/html": [
       "<div>\n",
       "<style scoped>\n",
       "    .dataframe tbody tr th:only-of-type {\n",
       "        vertical-align: middle;\n",
       "    }\n",
       "\n",
       "    .dataframe tbody tr th {\n",
       "        vertical-align: top;\n",
       "    }\n",
       "\n",
       "    .dataframe thead th {\n",
       "        text-align: right;\n",
       "    }\n",
       "</style>\n",
       "<table border=\"1\" class=\"dataframe\">\n",
       "  <thead>\n",
       "    <tr style=\"text-align: right;\">\n",
       "      <th></th>\n",
       "      <th>A</th>\n",
       "      <th>B</th>\n",
       "      <th>C</th>\n",
       "      <th>D</th>\n",
       "    </tr>\n",
       "  </thead>\n",
       "  <tbody>\n",
       "    <tr>\n",
       "      <th>count</th>\n",
       "      <td>7.000000</td>\n",
       "      <td>7.000000</td>\n",
       "      <td>7.000000</td>\n",
       "      <td>7.000000</td>\n",
       "    </tr>\n",
       "    <tr>\n",
       "      <th>mean</th>\n",
       "      <td>0.158857</td>\n",
       "      <td>-0.335777</td>\n",
       "      <td>-0.196613</td>\n",
       "      <td>0.083175</td>\n",
       "    </tr>\n",
       "    <tr>\n",
       "      <th>std</th>\n",
       "      <td>1.063637</td>\n",
       "      <td>1.282223</td>\n",
       "      <td>1.428014</td>\n",
       "      <td>1.050860</td>\n",
       "    </tr>\n",
       "    <tr>\n",
       "      <th>min</th>\n",
       "      <td>-1.299912</td>\n",
       "      <td>-1.615147</td>\n",
       "      <td>-1.426360</td>\n",
       "      <td>-1.542553</td>\n",
       "    </tr>\n",
       "    <tr>\n",
       "      <th>25%</th>\n",
       "      <td>-0.189561</td>\n",
       "      <td>-1.169052</td>\n",
       "      <td>-1.221816</td>\n",
       "      <td>-0.467305</td>\n",
       "    </tr>\n",
       "    <tr>\n",
       "      <th>50%</th>\n",
       "      <td>0.094517</td>\n",
       "      <td>-1.005752</td>\n",
       "      <td>-1.076645</td>\n",
       "      <td>-0.085245</td>\n",
       "    </tr>\n",
       "    <tr>\n",
       "      <th>75%</th>\n",
       "      <td>0.224482</td>\n",
       "      <td>0.419811</td>\n",
       "      <td>0.614351</td>\n",
       "      <td>0.834050</td>\n",
       "    </tr>\n",
       "    <tr>\n",
       "      <th>max</th>\n",
       "      <td>2.247550</td>\n",
       "      <td>1.768945</td>\n",
       "      <td>2.341640</td>\n",
       "      <td>1.476533</td>\n",
       "    </tr>\n",
       "  </tbody>\n",
       "</table>\n",
       "</div>"
      ],
      "text/plain": [
       "              A         B         C         D\n",
       "count  7.000000  7.000000  7.000000  7.000000\n",
       "mean   0.158857 -0.335777 -0.196613  0.083175\n",
       "std    1.063637  1.282223  1.428014  1.050860\n",
       "min   -1.299912 -1.615147 -1.426360 -1.542553\n",
       "25%   -0.189561 -1.169052 -1.221816 -0.467305\n",
       "50%    0.094517 -1.005752 -1.076645 -0.085245\n",
       "75%    0.224482  0.419811  0.614351  0.834050\n",
       "max    2.247550  1.768945  2.341640  1.476533"
      ]
     },
     "execution_count": 14,
     "metadata": {},
     "output_type": "execute_result"
    }
   ],
   "source": [
    "df.describe()"
   ]
  },
  {
   "cell_type": "code",
   "execution_count": 15,
   "metadata": {},
   "outputs": [
    {
     "data": {
      "text/html": [
       "<div>\n",
       "<style scoped>\n",
       "    .dataframe tbody tr th:only-of-type {\n",
       "        vertical-align: middle;\n",
       "    }\n",
       "\n",
       "    .dataframe tbody tr th {\n",
       "        vertical-align: top;\n",
       "    }\n",
       "\n",
       "    .dataframe thead th {\n",
       "        text-align: right;\n",
       "    }\n",
       "</style>\n",
       "<table border=\"1\" class=\"dataframe\">\n",
       "  <thead>\n",
       "    <tr style=\"text-align: right;\">\n",
       "      <th></th>\n",
       "      <th>A</th>\n",
       "      <th>C</th>\n",
       "      <th>D</th>\n",
       "    </tr>\n",
       "  </thead>\n",
       "  <tbody>\n",
       "    <tr>\n",
       "      <th>count</th>\n",
       "      <td>4.0</td>\n",
       "      <td>4.0</td>\n",
       "      <td>4.0</td>\n",
       "    </tr>\n",
       "    <tr>\n",
       "      <th>mean</th>\n",
       "      <td>1.5</td>\n",
       "      <td>1.0</td>\n",
       "      <td>5.0</td>\n",
       "    </tr>\n",
       "    <tr>\n",
       "      <th>std</th>\n",
       "      <td>0.0</td>\n",
       "      <td>0.0</td>\n",
       "      <td>0.0</td>\n",
       "    </tr>\n",
       "    <tr>\n",
       "      <th>min</th>\n",
       "      <td>1.5</td>\n",
       "      <td>1.0</td>\n",
       "      <td>5.0</td>\n",
       "    </tr>\n",
       "    <tr>\n",
       "      <th>25%</th>\n",
       "      <td>1.5</td>\n",
       "      <td>1.0</td>\n",
       "      <td>5.0</td>\n",
       "    </tr>\n",
       "    <tr>\n",
       "      <th>50%</th>\n",
       "      <td>1.5</td>\n",
       "      <td>1.0</td>\n",
       "      <td>5.0</td>\n",
       "    </tr>\n",
       "    <tr>\n",
       "      <th>75%</th>\n",
       "      <td>1.5</td>\n",
       "      <td>1.0</td>\n",
       "      <td>5.0</td>\n",
       "    </tr>\n",
       "    <tr>\n",
       "      <th>max</th>\n",
       "      <td>1.5</td>\n",
       "      <td>1.0</td>\n",
       "      <td>5.0</td>\n",
       "    </tr>\n",
       "  </tbody>\n",
       "</table>\n",
       "</div>"
      ],
      "text/plain": [
       "         A    C    D\n",
       "count  4.0  4.0  4.0\n",
       "mean   1.5  1.0  5.0\n",
       "std    0.0  0.0  0.0\n",
       "min    1.5  1.0  5.0\n",
       "25%    1.5  1.0  5.0\n",
       "50%    1.5  1.0  5.0\n",
       "75%    1.5  1.0  5.0\n",
       "max    1.5  1.0  5.0"
      ]
     },
     "execution_count": 15,
     "metadata": {},
     "output_type": "execute_result"
    }
   ],
   "source": [
    "df2.describe()"
   ]
  },
  {
   "cell_type": "markdown",
   "metadata": {},
   "source": [
    "Transposing your data."
   ]
  },
  {
   "cell_type": "code",
   "execution_count": 16,
   "metadata": {},
   "outputs": [
    {
     "data": {
      "text/html": [
       "<div>\n",
       "<style scoped>\n",
       "    .dataframe tbody tr th:only-of-type {\n",
       "        vertical-align: middle;\n",
       "    }\n",
       "\n",
       "    .dataframe tbody tr th {\n",
       "        vertical-align: top;\n",
       "    }\n",
       "\n",
       "    .dataframe thead th {\n",
       "        text-align: right;\n",
       "    }\n",
       "</style>\n",
       "<table border=\"1\" class=\"dataframe\">\n",
       "  <thead>\n",
       "    <tr style=\"text-align: right;\">\n",
       "      <th></th>\n",
       "      <th>2022-03-19</th>\n",
       "      <th>2022-03-20</th>\n",
       "      <th>2022-03-21</th>\n",
       "      <th>2022-03-22</th>\n",
       "      <th>2022-03-23</th>\n",
       "      <th>2022-03-24</th>\n",
       "      <th>2022-03-25</th>\n",
       "    </tr>\n",
       "  </thead>\n",
       "  <tbody>\n",
       "    <tr>\n",
       "      <th>A</th>\n",
       "      <td>-1.299912</td>\n",
       "      <td>2.247550</td>\n",
       "      <td>-0.097541</td>\n",
       "      <td>0.113084</td>\n",
       "      <td>-0.281581</td>\n",
       "      <td>0.335880</td>\n",
       "      <td>0.094517</td>\n",
       "    </tr>\n",
       "    <tr>\n",
       "      <th>B</th>\n",
       "      <td>1.056522</td>\n",
       "      <td>1.768945</td>\n",
       "      <td>-1.231248</td>\n",
       "      <td>-1.615147</td>\n",
       "      <td>-1.005752</td>\n",
       "      <td>-0.216900</td>\n",
       "      <td>-1.106857</td>\n",
       "    </tr>\n",
       "    <tr>\n",
       "      <th>C</th>\n",
       "      <td>-1.076645</td>\n",
       "      <td>2.341640</td>\n",
       "      <td>-1.128851</td>\n",
       "      <td>-1.426360</td>\n",
       "      <td>0.425680</td>\n",
       "      <td>-1.314780</td>\n",
       "      <td>0.803023</td>\n",
       "    </tr>\n",
       "    <tr>\n",
       "      <th>D</th>\n",
       "      <td>0.466803</td>\n",
       "      <td>-0.397978</td>\n",
       "      <td>1.201296</td>\n",
       "      <td>-1.542553</td>\n",
       "      <td>-0.536633</td>\n",
       "      <td>1.476533</td>\n",
       "      <td>-0.085245</td>\n",
       "    </tr>\n",
       "  </tbody>\n",
       "</table>\n",
       "</div>"
      ],
      "text/plain": [
       "   2022-03-19  2022-03-20  2022-03-21  2022-03-22  2022-03-23  2022-03-24  \\\n",
       "A   -1.299912    2.247550   -0.097541    0.113084   -0.281581    0.335880   \n",
       "B    1.056522    1.768945   -1.231248   -1.615147   -1.005752   -0.216900   \n",
       "C   -1.076645    2.341640   -1.128851   -1.426360    0.425680   -1.314780   \n",
       "D    0.466803   -0.397978    1.201296   -1.542553   -0.536633    1.476533   \n",
       "\n",
       "   2022-03-25  \n",
       "A    0.094517  \n",
       "B   -1.106857  \n",
       "C    0.803023  \n",
       "D   -0.085245  "
      ]
     },
     "execution_count": 16,
     "metadata": {},
     "output_type": "execute_result"
    }
   ],
   "source": [
    "df.T"
   ]
  },
  {
   "cell_type": "markdown",
   "metadata": {},
   "source": [
    "Sorting by an **axis**"
   ]
  },
  {
   "cell_type": "code",
   "execution_count": 17,
   "metadata": {},
   "outputs": [
    {
     "data": {
      "text/html": [
       "<div>\n",
       "<style scoped>\n",
       "    .dataframe tbody tr th:only-of-type {\n",
       "        vertical-align: middle;\n",
       "    }\n",
       "\n",
       "    .dataframe tbody tr th {\n",
       "        vertical-align: top;\n",
       "    }\n",
       "\n",
       "    .dataframe thead th {\n",
       "        text-align: right;\n",
       "    }\n",
       "</style>\n",
       "<table border=\"1\" class=\"dataframe\">\n",
       "  <thead>\n",
       "    <tr style=\"text-align: right;\">\n",
       "      <th></th>\n",
       "      <th>A</th>\n",
       "      <th>B</th>\n",
       "      <th>C</th>\n",
       "      <th>D</th>\n",
       "    </tr>\n",
       "  </thead>\n",
       "  <tbody>\n",
       "    <tr>\n",
       "      <th>2022-03-25</th>\n",
       "      <td>0.094517</td>\n",
       "      <td>-1.106857</td>\n",
       "      <td>0.803023</td>\n",
       "      <td>-0.085245</td>\n",
       "    </tr>\n",
       "    <tr>\n",
       "      <th>2022-03-24</th>\n",
       "      <td>0.335880</td>\n",
       "      <td>-0.216900</td>\n",
       "      <td>-1.314780</td>\n",
       "      <td>1.476533</td>\n",
       "    </tr>\n",
       "    <tr>\n",
       "      <th>2022-03-23</th>\n",
       "      <td>-0.281581</td>\n",
       "      <td>-1.005752</td>\n",
       "      <td>0.425680</td>\n",
       "      <td>-0.536633</td>\n",
       "    </tr>\n",
       "    <tr>\n",
       "      <th>2022-03-22</th>\n",
       "      <td>0.113084</td>\n",
       "      <td>-1.615147</td>\n",
       "      <td>-1.426360</td>\n",
       "      <td>-1.542553</td>\n",
       "    </tr>\n",
       "    <tr>\n",
       "      <th>2022-03-21</th>\n",
       "      <td>-0.097541</td>\n",
       "      <td>-1.231248</td>\n",
       "      <td>-1.128851</td>\n",
       "      <td>1.201296</td>\n",
       "    </tr>\n",
       "    <tr>\n",
       "      <th>2022-03-20</th>\n",
       "      <td>2.247550</td>\n",
       "      <td>1.768945</td>\n",
       "      <td>2.341640</td>\n",
       "      <td>-0.397978</td>\n",
       "    </tr>\n",
       "    <tr>\n",
       "      <th>2022-03-19</th>\n",
       "      <td>-1.299912</td>\n",
       "      <td>1.056522</td>\n",
       "      <td>-1.076645</td>\n",
       "      <td>0.466803</td>\n",
       "    </tr>\n",
       "  </tbody>\n",
       "</table>\n",
       "</div>"
      ],
      "text/plain": [
       "                   A         B         C         D\n",
       "2022-03-25  0.094517 -1.106857  0.803023 -0.085245\n",
       "2022-03-24  0.335880 -0.216900 -1.314780  1.476533\n",
       "2022-03-23 -0.281581 -1.005752  0.425680 -0.536633\n",
       "2022-03-22  0.113084 -1.615147 -1.426360 -1.542553\n",
       "2022-03-21 -0.097541 -1.231248 -1.128851  1.201296\n",
       "2022-03-20  2.247550  1.768945  2.341640 -0.397978\n",
       "2022-03-19 -1.299912  1.056522 -1.076645  0.466803"
      ]
     },
     "execution_count": 17,
     "metadata": {},
     "output_type": "execute_result"
    }
   ],
   "source": [
    "df.sort_index(axis=0, ascending=False)"
   ]
  },
  {
   "cell_type": "code",
   "execution_count": 18,
   "metadata": {},
   "outputs": [
    {
     "data": {
      "text/html": [
       "<div>\n",
       "<style scoped>\n",
       "    .dataframe tbody tr th:only-of-type {\n",
       "        vertical-align: middle;\n",
       "    }\n",
       "\n",
       "    .dataframe tbody tr th {\n",
       "        vertical-align: top;\n",
       "    }\n",
       "\n",
       "    .dataframe thead th {\n",
       "        text-align: right;\n",
       "    }\n",
       "</style>\n",
       "<table border=\"1\" class=\"dataframe\">\n",
       "  <thead>\n",
       "    <tr style=\"text-align: right;\">\n",
       "      <th></th>\n",
       "      <th>D</th>\n",
       "      <th>C</th>\n",
       "      <th>B</th>\n",
       "      <th>A</th>\n",
       "    </tr>\n",
       "  </thead>\n",
       "  <tbody>\n",
       "    <tr>\n",
       "      <th>2022-03-19</th>\n",
       "      <td>0.466803</td>\n",
       "      <td>-1.076645</td>\n",
       "      <td>1.056522</td>\n",
       "      <td>-1.299912</td>\n",
       "    </tr>\n",
       "    <tr>\n",
       "      <th>2022-03-20</th>\n",
       "      <td>-0.397978</td>\n",
       "      <td>2.341640</td>\n",
       "      <td>1.768945</td>\n",
       "      <td>2.247550</td>\n",
       "    </tr>\n",
       "    <tr>\n",
       "      <th>2022-03-21</th>\n",
       "      <td>1.201296</td>\n",
       "      <td>-1.128851</td>\n",
       "      <td>-1.231248</td>\n",
       "      <td>-0.097541</td>\n",
       "    </tr>\n",
       "    <tr>\n",
       "      <th>2022-03-22</th>\n",
       "      <td>-1.542553</td>\n",
       "      <td>-1.426360</td>\n",
       "      <td>-1.615147</td>\n",
       "      <td>0.113084</td>\n",
       "    </tr>\n",
       "    <tr>\n",
       "      <th>2022-03-23</th>\n",
       "      <td>-0.536633</td>\n",
       "      <td>0.425680</td>\n",
       "      <td>-1.005752</td>\n",
       "      <td>-0.281581</td>\n",
       "    </tr>\n",
       "    <tr>\n",
       "      <th>2022-03-24</th>\n",
       "      <td>1.476533</td>\n",
       "      <td>-1.314780</td>\n",
       "      <td>-0.216900</td>\n",
       "      <td>0.335880</td>\n",
       "    </tr>\n",
       "    <tr>\n",
       "      <th>2022-03-25</th>\n",
       "      <td>-0.085245</td>\n",
       "      <td>0.803023</td>\n",
       "      <td>-1.106857</td>\n",
       "      <td>0.094517</td>\n",
       "    </tr>\n",
       "  </tbody>\n",
       "</table>\n",
       "</div>"
      ],
      "text/plain": [
       "                   D         C         B         A\n",
       "2022-03-19  0.466803 -1.076645  1.056522 -1.299912\n",
       "2022-03-20 -0.397978  2.341640  1.768945  2.247550\n",
       "2022-03-21  1.201296 -1.128851 -1.231248 -0.097541\n",
       "2022-03-22 -1.542553 -1.426360 -1.615147  0.113084\n",
       "2022-03-23 -0.536633  0.425680 -1.005752 -0.281581\n",
       "2022-03-24  1.476533 -1.314780 -0.216900  0.335880\n",
       "2022-03-25 -0.085245  0.803023 -1.106857  0.094517"
      ]
     },
     "execution_count": 18,
     "metadata": {},
     "output_type": "execute_result"
    }
   ],
   "source": [
    "df.sort_index(axis=1, ascending=False)\n"
   ]
  },
  {
   "cell_type": "markdown",
   "metadata": {},
   "source": [
    "Sorting by values."
   ]
  },
  {
   "cell_type": "code",
   "execution_count": 19,
   "metadata": {},
   "outputs": [
    {
     "data": {
      "text/html": [
       "<div>\n",
       "<style scoped>\n",
       "    .dataframe tbody tr th:only-of-type {\n",
       "        vertical-align: middle;\n",
       "    }\n",
       "\n",
       "    .dataframe tbody tr th {\n",
       "        vertical-align: top;\n",
       "    }\n",
       "\n",
       "    .dataframe thead th {\n",
       "        text-align: right;\n",
       "    }\n",
       "</style>\n",
       "<table border=\"1\" class=\"dataframe\">\n",
       "  <thead>\n",
       "    <tr style=\"text-align: right;\">\n",
       "      <th></th>\n",
       "      <th>A</th>\n",
       "      <th>B</th>\n",
       "      <th>C</th>\n",
       "      <th>D</th>\n",
       "    </tr>\n",
       "  </thead>\n",
       "  <tbody>\n",
       "    <tr>\n",
       "      <th>2022-03-22</th>\n",
       "      <td>0.113084</td>\n",
       "      <td>-1.615147</td>\n",
       "      <td>-1.426360</td>\n",
       "      <td>-1.542553</td>\n",
       "    </tr>\n",
       "    <tr>\n",
       "      <th>2022-03-21</th>\n",
       "      <td>-0.097541</td>\n",
       "      <td>-1.231248</td>\n",
       "      <td>-1.128851</td>\n",
       "      <td>1.201296</td>\n",
       "    </tr>\n",
       "    <tr>\n",
       "      <th>2022-03-25</th>\n",
       "      <td>0.094517</td>\n",
       "      <td>-1.106857</td>\n",
       "      <td>0.803023</td>\n",
       "      <td>-0.085245</td>\n",
       "    </tr>\n",
       "    <tr>\n",
       "      <th>2022-03-23</th>\n",
       "      <td>-0.281581</td>\n",
       "      <td>-1.005752</td>\n",
       "      <td>0.425680</td>\n",
       "      <td>-0.536633</td>\n",
       "    </tr>\n",
       "    <tr>\n",
       "      <th>2022-03-24</th>\n",
       "      <td>0.335880</td>\n",
       "      <td>-0.216900</td>\n",
       "      <td>-1.314780</td>\n",
       "      <td>1.476533</td>\n",
       "    </tr>\n",
       "    <tr>\n",
       "      <th>2022-03-19</th>\n",
       "      <td>-1.299912</td>\n",
       "      <td>1.056522</td>\n",
       "      <td>-1.076645</td>\n",
       "      <td>0.466803</td>\n",
       "    </tr>\n",
       "    <tr>\n",
       "      <th>2022-03-20</th>\n",
       "      <td>2.247550</td>\n",
       "      <td>1.768945</td>\n",
       "      <td>2.341640</td>\n",
       "      <td>-0.397978</td>\n",
       "    </tr>\n",
       "  </tbody>\n",
       "</table>\n",
       "</div>"
      ],
      "text/plain": [
       "                   A         B         C         D\n",
       "2022-03-22  0.113084 -1.615147 -1.426360 -1.542553\n",
       "2022-03-21 -0.097541 -1.231248 -1.128851  1.201296\n",
       "2022-03-25  0.094517 -1.106857  0.803023 -0.085245\n",
       "2022-03-23 -0.281581 -1.005752  0.425680 -0.536633\n",
       "2022-03-24  0.335880 -0.216900 -1.314780  1.476533\n",
       "2022-03-19 -1.299912  1.056522 -1.076645  0.466803\n",
       "2022-03-20  2.247550  1.768945  2.341640 -0.397978"
      ]
     },
     "execution_count": 19,
     "metadata": {},
     "output_type": "execute_result"
    }
   ],
   "source": [
    "df.sort_values(by=\"B\")"
   ]
  },
  {
   "cell_type": "markdown",
   "metadata": {},
   "source": [
    "## Selection"
   ]
  },
  {
   "cell_type": "markdown",
   "metadata": {},
   "source": [
    "### Getting"
   ]
  },
  {
   "cell_type": "markdown",
   "metadata": {},
   "source": [
    "Selecting a single column, which yeild a `Series`, equivalent to `df.A`."
   ]
  },
  {
   "cell_type": "code",
   "execution_count": 20,
   "metadata": {},
   "outputs": [
    {
     "name": "stdout",
     "output_type": "stream",
     "text": [
      "df.A\n",
      "2022-03-19   -1.299912\n",
      "2022-03-20    2.247550\n",
      "2022-03-21   -0.097541\n",
      "2022-03-22    0.113084\n",
      "2022-03-23   -0.281581\n",
      "2022-03-24    0.335880\n",
      "2022-03-25    0.094517\n",
      "Freq: D, Name: A, dtype: float64\n",
      "==============================\n",
      "df[\"A\"]\n",
      "2022-03-19   -1.299912\n",
      "2022-03-20    2.247550\n",
      "2022-03-21   -0.097541\n",
      "2022-03-22    0.113084\n",
      "2022-03-23   -0.281581\n",
      "2022-03-24    0.335880\n",
      "2022-03-25    0.094517\n",
      "Freq: D, Name: A, dtype: float64\n"
     ]
    }
   ],
   "source": [
    "print(\"df.A\", df.A, sep=\"\\n\")\n",
    "print(\"=\"*30)\n",
    "print(\"df[\\\"A\\\"]\", df[\"A\"], sep=\"\\n\")"
   ]
  },
  {
   "cell_type": "markdown",
   "metadata": {},
   "source": [
    "Selecting via `[]`, which slicing the rows."
   ]
  },
  {
   "cell_type": "code",
   "execution_count": 21,
   "metadata": {},
   "outputs": [
    {
     "data": {
      "text/html": [
       "<div>\n",
       "<style scoped>\n",
       "    .dataframe tbody tr th:only-of-type {\n",
       "        vertical-align: middle;\n",
       "    }\n",
       "\n",
       "    .dataframe tbody tr th {\n",
       "        vertical-align: top;\n",
       "    }\n",
       "\n",
       "    .dataframe thead th {\n",
       "        text-align: right;\n",
       "    }\n",
       "</style>\n",
       "<table border=\"1\" class=\"dataframe\">\n",
       "  <thead>\n",
       "    <tr style=\"text-align: right;\">\n",
       "      <th></th>\n",
       "      <th>A</th>\n",
       "      <th>B</th>\n",
       "      <th>C</th>\n",
       "      <th>D</th>\n",
       "    </tr>\n",
       "  </thead>\n",
       "  <tbody>\n",
       "    <tr>\n",
       "      <th>2022-03-19</th>\n",
       "      <td>-1.299912</td>\n",
       "      <td>1.056522</td>\n",
       "      <td>-1.076645</td>\n",
       "      <td>0.466803</td>\n",
       "    </tr>\n",
       "    <tr>\n",
       "      <th>2022-03-20</th>\n",
       "      <td>2.247550</td>\n",
       "      <td>1.768945</td>\n",
       "      <td>2.341640</td>\n",
       "      <td>-0.397978</td>\n",
       "    </tr>\n",
       "    <tr>\n",
       "      <th>2022-03-21</th>\n",
       "      <td>-0.097541</td>\n",
       "      <td>-1.231248</td>\n",
       "      <td>-1.128851</td>\n",
       "      <td>1.201296</td>\n",
       "    </tr>\n",
       "  </tbody>\n",
       "</table>\n",
       "</div>"
      ],
      "text/plain": [
       "                   A         B         C         D\n",
       "2022-03-19 -1.299912  1.056522 -1.076645  0.466803\n",
       "2022-03-20  2.247550  1.768945  2.341640 -0.397978\n",
       "2022-03-21 -0.097541 -1.231248 -1.128851  1.201296"
      ]
     },
     "execution_count": 21,
     "metadata": {},
     "output_type": "execute_result"
    }
   ],
   "source": [
    "df[0:3]"
   ]
  },
  {
   "cell_type": "code",
   "execution_count": 22,
   "metadata": {},
   "outputs": [
    {
     "data": {
      "text/html": [
       "<div>\n",
       "<style scoped>\n",
       "    .dataframe tbody tr th:only-of-type {\n",
       "        vertical-align: middle;\n",
       "    }\n",
       "\n",
       "    .dataframe tbody tr th {\n",
       "        vertical-align: top;\n",
       "    }\n",
       "\n",
       "    .dataframe thead th {\n",
       "        text-align: right;\n",
       "    }\n",
       "</style>\n",
       "<table border=\"1\" class=\"dataframe\">\n",
       "  <thead>\n",
       "    <tr style=\"text-align: right;\">\n",
       "      <th></th>\n",
       "      <th>A</th>\n",
       "      <th>B</th>\n",
       "      <th>C</th>\n",
       "      <th>D</th>\n",
       "    </tr>\n",
       "  </thead>\n",
       "  <tbody>\n",
       "    <tr>\n",
       "      <th>2022-03-19</th>\n",
       "      <td>-1.299912</td>\n",
       "      <td>1.056522</td>\n",
       "      <td>-1.076645</td>\n",
       "      <td>0.466803</td>\n",
       "    </tr>\n",
       "    <tr>\n",
       "      <th>2022-03-20</th>\n",
       "      <td>2.247550</td>\n",
       "      <td>1.768945</td>\n",
       "      <td>2.341640</td>\n",
       "      <td>-0.397978</td>\n",
       "    </tr>\n",
       "    <tr>\n",
       "      <th>2022-03-21</th>\n",
       "      <td>-0.097541</td>\n",
       "      <td>-1.231248</td>\n",
       "      <td>-1.128851</td>\n",
       "      <td>1.201296</td>\n",
       "    </tr>\n",
       "  </tbody>\n",
       "</table>\n",
       "</div>"
      ],
      "text/plain": [
       "                   A         B         C         D\n",
       "2022-03-19 -1.299912  1.056522 -1.076645  0.466803\n",
       "2022-03-20  2.247550  1.768945  2.341640 -0.397978\n",
       "2022-03-21 -0.097541 -1.231248 -1.128851  1.201296"
      ]
     },
     "execution_count": 22,
     "metadata": {},
     "output_type": "execute_result"
    }
   ],
   "source": [
    "df[\"20220319\":\"20220321\"]"
   ]
  },
  {
   "cell_type": "markdown",
   "metadata": {},
   "source": [
    "## Selection by label"
   ]
  },
  {
   "cell_type": "markdown",
   "metadata": {},
   "source": [
    "For getting a cross section using a label."
   ]
  },
  {
   "cell_type": "code",
   "execution_count": 23,
   "metadata": {},
   "outputs": [
    {
     "data": {
      "text/plain": [
       "A   -1.299912\n",
       "B    1.056522\n",
       "C   -1.076645\n",
       "D    0.466803\n",
       "Name: 2022-03-19 00:00:00, dtype: float64"
      ]
     },
     "execution_count": 23,
     "metadata": {},
     "output_type": "execute_result"
    }
   ],
   "source": [
    "df.loc[dates[0]]"
   ]
  },
  {
   "cell_type": "markdown",
   "metadata": {},
   "source": [
    "Selecting on a multi-axis by label."
   ]
  },
  {
   "cell_type": "code",
   "execution_count": 24,
   "metadata": {},
   "outputs": [
    {
     "data": {
      "text/html": [
       "<div>\n",
       "<style scoped>\n",
       "    .dataframe tbody tr th:only-of-type {\n",
       "        vertical-align: middle;\n",
       "    }\n",
       "\n",
       "    .dataframe tbody tr th {\n",
       "        vertical-align: top;\n",
       "    }\n",
       "\n",
       "    .dataframe thead th {\n",
       "        text-align: right;\n",
       "    }\n",
       "</style>\n",
       "<table border=\"1\" class=\"dataframe\">\n",
       "  <thead>\n",
       "    <tr style=\"text-align: right;\">\n",
       "      <th></th>\n",
       "      <th>A</th>\n",
       "      <th>B</th>\n",
       "    </tr>\n",
       "  </thead>\n",
       "  <tbody>\n",
       "    <tr>\n",
       "      <th>2022-03-19</th>\n",
       "      <td>-1.299912</td>\n",
       "      <td>1.056522</td>\n",
       "    </tr>\n",
       "    <tr>\n",
       "      <th>2022-03-20</th>\n",
       "      <td>2.247550</td>\n",
       "      <td>1.768945</td>\n",
       "    </tr>\n",
       "    <tr>\n",
       "      <th>2022-03-21</th>\n",
       "      <td>-0.097541</td>\n",
       "      <td>-1.231248</td>\n",
       "    </tr>\n",
       "    <tr>\n",
       "      <th>2022-03-22</th>\n",
       "      <td>0.113084</td>\n",
       "      <td>-1.615147</td>\n",
       "    </tr>\n",
       "    <tr>\n",
       "      <th>2022-03-23</th>\n",
       "      <td>-0.281581</td>\n",
       "      <td>-1.005752</td>\n",
       "    </tr>\n",
       "    <tr>\n",
       "      <th>2022-03-24</th>\n",
       "      <td>0.335880</td>\n",
       "      <td>-0.216900</td>\n",
       "    </tr>\n",
       "    <tr>\n",
       "      <th>2022-03-25</th>\n",
       "      <td>0.094517</td>\n",
       "      <td>-1.106857</td>\n",
       "    </tr>\n",
       "  </tbody>\n",
       "</table>\n",
       "</div>"
      ],
      "text/plain": [
       "                   A         B\n",
       "2022-03-19 -1.299912  1.056522\n",
       "2022-03-20  2.247550  1.768945\n",
       "2022-03-21 -0.097541 -1.231248\n",
       "2022-03-22  0.113084 -1.615147\n",
       "2022-03-23 -0.281581 -1.005752\n",
       "2022-03-24  0.335880 -0.216900\n",
       "2022-03-25  0.094517 -1.106857"
      ]
     },
     "execution_count": 24,
     "metadata": {},
     "output_type": "execute_result"
    }
   ],
   "source": [
    "df.loc[:, [\"A\", \"B\"]]"
   ]
  },
  {
   "cell_type": "markdown",
   "metadata": {},
   "source": [
    "Showing label slicing, both endpoints are included."
   ]
  },
  {
   "cell_type": "code",
   "execution_count": 25,
   "metadata": {},
   "outputs": [
    {
     "data": {
      "text/html": [
       "<div>\n",
       "<style scoped>\n",
       "    .dataframe tbody tr th:only-of-type {\n",
       "        vertical-align: middle;\n",
       "    }\n",
       "\n",
       "    .dataframe tbody tr th {\n",
       "        vertical-align: top;\n",
       "    }\n",
       "\n",
       "    .dataframe thead th {\n",
       "        text-align: right;\n",
       "    }\n",
       "</style>\n",
       "<table border=\"1\" class=\"dataframe\">\n",
       "  <thead>\n",
       "    <tr style=\"text-align: right;\">\n",
       "      <th></th>\n",
       "      <th>C</th>\n",
       "      <th>D</th>\n",
       "    </tr>\n",
       "  </thead>\n",
       "  <tbody>\n",
       "    <tr>\n",
       "      <th>2022-03-19</th>\n",
       "      <td>-1.076645</td>\n",
       "      <td>0.466803</td>\n",
       "    </tr>\n",
       "    <tr>\n",
       "      <th>2022-03-20</th>\n",
       "      <td>2.341640</td>\n",
       "      <td>-0.397978</td>\n",
       "    </tr>\n",
       "    <tr>\n",
       "      <th>2022-03-21</th>\n",
       "      <td>-1.128851</td>\n",
       "      <td>1.201296</td>\n",
       "    </tr>\n",
       "  </tbody>\n",
       "</table>\n",
       "</div>"
      ],
      "text/plain": [
       "                   C         D\n",
       "2022-03-19 -1.076645  0.466803\n",
       "2022-03-20  2.341640 -0.397978\n",
       "2022-03-21 -1.128851  1.201296"
      ]
     },
     "execution_count": 25,
     "metadata": {},
     "output_type": "execute_result"
    }
   ],
   "source": [
    "df.loc[\"20220319\":\"20220321\", [\"C\", \"D\"]]"
   ]
  },
  {
   "cell_type": "markdown",
   "metadata": {},
   "source": [
    "Reduction in the dimensions of returned object."
   ]
  },
  {
   "cell_type": "code",
   "execution_count": 26,
   "metadata": {},
   "outputs": [
    {
     "data": {
      "text/plain": [
       "B   -0.21690\n",
       "C   -1.31478\n",
       "Name: 2022-03-24 00:00:00, dtype: float64"
      ]
     },
     "execution_count": 26,
     "metadata": {},
     "output_type": "execute_result"
    }
   ],
   "source": [
    "df.loc[\"20220324\", [\"B\", \"C\"]]"
   ]
  },
  {
   "cell_type": "markdown",
   "metadata": {},
   "source": [
    "For getting a scalar value."
   ]
  },
  {
   "cell_type": "code",
   "execution_count": 27,
   "metadata": {},
   "outputs": [
    {
     "data": {
      "text/plain": [
       "2.2475495110971644"
      ]
     },
     "execution_count": 27,
     "metadata": {},
     "output_type": "execute_result"
    }
   ],
   "source": [
    "df.loc[dates[1], \"A\"]"
   ]
  },
  {
   "cell_type": "markdown",
   "metadata": {},
   "source": [
    "For getting fast access to a scalar (equivalent to the prior method)."
   ]
  },
  {
   "cell_type": "code",
   "execution_count": 28,
   "metadata": {},
   "outputs": [
    {
     "data": {
      "text/plain": [
       "2.2475495110971644"
      ]
     },
     "execution_count": 28,
     "metadata": {},
     "output_type": "execute_result"
    }
   ],
   "source": [
    "df.at[dates[1], \"A\"]"
   ]
  },
  {
   "cell_type": "markdown",
   "metadata": {},
   "source": [
    "## Selection by position"
   ]
  },
  {
   "cell_type": "markdown",
   "metadata": {},
   "source": [
    "Select via the position of the passed integers."
   ]
  },
  {
   "cell_type": "code",
   "execution_count": 29,
   "metadata": {},
   "outputs": [
    {
     "data": {
      "text/plain": [
       "A    0.113084\n",
       "B   -1.615147\n",
       "C   -1.426360\n",
       "D   -1.542553\n",
       "Name: 2022-03-22 00:00:00, dtype: float64"
      ]
     },
     "execution_count": 29,
     "metadata": {},
     "output_type": "execute_result"
    }
   ],
   "source": [
    "df.iloc[3]\n",
    "# equivalent to df.loc[dates[3]]"
   ]
  },
  {
   "cell_type": "markdown",
   "metadata": {},
   "source": [
    "By integer slices, acting similar to `Numpy/Python`."
   ]
  },
  {
   "cell_type": "code",
   "execution_count": 30,
   "metadata": {},
   "outputs": [
    {
     "data": {
      "text/html": [
       "<div>\n",
       "<style scoped>\n",
       "    .dataframe tbody tr th:only-of-type {\n",
       "        vertical-align: middle;\n",
       "    }\n",
       "\n",
       "    .dataframe tbody tr th {\n",
       "        vertical-align: top;\n",
       "    }\n",
       "\n",
       "    .dataframe thead th {\n",
       "        text-align: right;\n",
       "    }\n",
       "</style>\n",
       "<table border=\"1\" class=\"dataframe\">\n",
       "  <thead>\n",
       "    <tr style=\"text-align: right;\">\n",
       "      <th></th>\n",
       "      <th>A</th>\n",
       "      <th>B</th>\n",
       "    </tr>\n",
       "  </thead>\n",
       "  <tbody>\n",
       "    <tr>\n",
       "      <th>2022-03-22</th>\n",
       "      <td>0.113084</td>\n",
       "      <td>-1.615147</td>\n",
       "    </tr>\n",
       "    <tr>\n",
       "      <th>2022-03-23</th>\n",
       "      <td>-0.281581</td>\n",
       "      <td>-1.005752</td>\n",
       "    </tr>\n",
       "  </tbody>\n",
       "</table>\n",
       "</div>"
      ],
      "text/plain": [
       "                   A         B\n",
       "2022-03-22  0.113084 -1.615147\n",
       "2022-03-23 -0.281581 -1.005752"
      ]
     },
     "execution_count": 30,
     "metadata": {},
     "output_type": "execute_result"
    }
   ],
   "source": [
    "df.iloc[3:5, 0:2]\n",
    "# equivalent to df.loc[\"20220322\":\"20220323\", [\"A\", \"B\"]]"
   ]
  },
  {
   "cell_type": "markdown",
   "metadata": {},
   "source": [
    "By list of integer position locations, similar to the `Numpy/Python` style."
   ]
  },
  {
   "cell_type": "code",
   "execution_count": 31,
   "metadata": {},
   "outputs": [
    {
     "data": {
      "text/html": [
       "<div>\n",
       "<style scoped>\n",
       "    .dataframe tbody tr th:only-of-type {\n",
       "        vertical-align: middle;\n",
       "    }\n",
       "\n",
       "    .dataframe tbody tr th {\n",
       "        vertical-align: top;\n",
       "    }\n",
       "\n",
       "    .dataframe thead th {\n",
       "        text-align: right;\n",
       "    }\n",
       "</style>\n",
       "<table border=\"1\" class=\"dataframe\">\n",
       "  <thead>\n",
       "    <tr style=\"text-align: right;\">\n",
       "      <th></th>\n",
       "      <th>A</th>\n",
       "      <th>C</th>\n",
       "    </tr>\n",
       "  </thead>\n",
       "  <tbody>\n",
       "    <tr>\n",
       "      <th>2022-03-20</th>\n",
       "      <td>2.247550</td>\n",
       "      <td>2.341640</td>\n",
       "    </tr>\n",
       "    <tr>\n",
       "      <th>2022-03-21</th>\n",
       "      <td>-0.097541</td>\n",
       "      <td>-1.128851</td>\n",
       "    </tr>\n",
       "    <tr>\n",
       "      <th>2022-03-23</th>\n",
       "      <td>-0.281581</td>\n",
       "      <td>0.425680</td>\n",
       "    </tr>\n",
       "  </tbody>\n",
       "</table>\n",
       "</div>"
      ],
      "text/plain": [
       "                   A         C\n",
       "2022-03-20  2.247550  2.341640\n",
       "2022-03-21 -0.097541 -1.128851\n",
       "2022-03-23 -0.281581  0.425680"
      ]
     },
     "execution_count": 31,
     "metadata": {},
     "output_type": "execute_result"
    }
   ],
   "source": [
    "df.iloc[[1, 2, 4], [0, 2]]\n",
    "# equivalent to df.loc[\"20220320\":\"20220323\", [\"B\", \"C\"]]"
   ]
  },
  {
   "cell_type": "markdown",
   "metadata": {},
   "source": [
    "For slicing rows explicitly."
   ]
  },
  {
   "cell_type": "code",
   "execution_count": 32,
   "metadata": {},
   "outputs": [
    {
     "data": {
      "text/html": [
       "<div>\n",
       "<style scoped>\n",
       "    .dataframe tbody tr th:only-of-type {\n",
       "        vertical-align: middle;\n",
       "    }\n",
       "\n",
       "    .dataframe tbody tr th {\n",
       "        vertical-align: top;\n",
       "    }\n",
       "\n",
       "    .dataframe thead th {\n",
       "        text-align: right;\n",
       "    }\n",
       "</style>\n",
       "<table border=\"1\" class=\"dataframe\">\n",
       "  <thead>\n",
       "    <tr style=\"text-align: right;\">\n",
       "      <th></th>\n",
       "      <th>A</th>\n",
       "      <th>B</th>\n",
       "      <th>C</th>\n",
       "      <th>D</th>\n",
       "    </tr>\n",
       "  </thead>\n",
       "  <tbody>\n",
       "    <tr>\n",
       "      <th>2022-03-20</th>\n",
       "      <td>2.247550</td>\n",
       "      <td>1.768945</td>\n",
       "      <td>2.341640</td>\n",
       "      <td>-0.397978</td>\n",
       "    </tr>\n",
       "    <tr>\n",
       "      <th>2022-03-21</th>\n",
       "      <td>-0.097541</td>\n",
       "      <td>-1.231248</td>\n",
       "      <td>-1.128851</td>\n",
       "      <td>1.201296</td>\n",
       "    </tr>\n",
       "  </tbody>\n",
       "</table>\n",
       "</div>"
      ],
      "text/plain": [
       "                   A         B         C         D\n",
       "2022-03-20  2.247550  1.768945  2.341640 -0.397978\n",
       "2022-03-21 -0.097541 -1.231248 -1.128851  1.201296"
      ]
     },
     "execution_count": 32,
     "metadata": {},
     "output_type": "execute_result"
    }
   ],
   "source": [
    "df.iloc[1:3, :]"
   ]
  },
  {
   "cell_type": "markdown",
   "metadata": {},
   "source": [
    "For slicing columns explicitly."
   ]
  },
  {
   "cell_type": "code",
   "execution_count": 33,
   "metadata": {},
   "outputs": [
    {
     "data": {
      "text/html": [
       "<div>\n",
       "<style scoped>\n",
       "    .dataframe tbody tr th:only-of-type {\n",
       "        vertical-align: middle;\n",
       "    }\n",
       "\n",
       "    .dataframe tbody tr th {\n",
       "        vertical-align: top;\n",
       "    }\n",
       "\n",
       "    .dataframe thead th {\n",
       "        text-align: right;\n",
       "    }\n",
       "</style>\n",
       "<table border=\"1\" class=\"dataframe\">\n",
       "  <thead>\n",
       "    <tr style=\"text-align: right;\">\n",
       "      <th></th>\n",
       "      <th>B</th>\n",
       "      <th>C</th>\n",
       "    </tr>\n",
       "  </thead>\n",
       "  <tbody>\n",
       "    <tr>\n",
       "      <th>2022-03-19</th>\n",
       "      <td>1.056522</td>\n",
       "      <td>-1.076645</td>\n",
       "    </tr>\n",
       "    <tr>\n",
       "      <th>2022-03-20</th>\n",
       "      <td>1.768945</td>\n",
       "      <td>2.341640</td>\n",
       "    </tr>\n",
       "    <tr>\n",
       "      <th>2022-03-21</th>\n",
       "      <td>-1.231248</td>\n",
       "      <td>-1.128851</td>\n",
       "    </tr>\n",
       "    <tr>\n",
       "      <th>2022-03-22</th>\n",
       "      <td>-1.615147</td>\n",
       "      <td>-1.426360</td>\n",
       "    </tr>\n",
       "    <tr>\n",
       "      <th>2022-03-23</th>\n",
       "      <td>-1.005752</td>\n",
       "      <td>0.425680</td>\n",
       "    </tr>\n",
       "    <tr>\n",
       "      <th>2022-03-24</th>\n",
       "      <td>-0.216900</td>\n",
       "      <td>-1.314780</td>\n",
       "    </tr>\n",
       "    <tr>\n",
       "      <th>2022-03-25</th>\n",
       "      <td>-1.106857</td>\n",
       "      <td>0.803023</td>\n",
       "    </tr>\n",
       "  </tbody>\n",
       "</table>\n",
       "</div>"
      ],
      "text/plain": [
       "                   B         C\n",
       "2022-03-19  1.056522 -1.076645\n",
       "2022-03-20  1.768945  2.341640\n",
       "2022-03-21 -1.231248 -1.128851\n",
       "2022-03-22 -1.615147 -1.426360\n",
       "2022-03-23 -1.005752  0.425680\n",
       "2022-03-24 -0.216900 -1.314780\n",
       "2022-03-25 -1.106857  0.803023"
      ]
     },
     "execution_count": 33,
     "metadata": {},
     "output_type": "execute_result"
    }
   ],
   "source": [
    "df.iloc[:, 1:3]"
   ]
  },
  {
   "cell_type": "markdown",
   "metadata": {},
   "source": [
    "For getting a value explicitly."
   ]
  },
  {
   "cell_type": "code",
   "execution_count": 34,
   "metadata": {},
   "outputs": [
    {
     "data": {
      "text/plain": [
       "1.7689448270483046"
      ]
     },
     "execution_count": 34,
     "metadata": {},
     "output_type": "execute_result"
    }
   ],
   "source": [
    "df.iloc[1, 1]"
   ]
  },
  {
   "cell_type": "markdown",
   "metadata": {},
   "source": [
    "For getting fast access to a scalar (equivalent to the prior method)."
   ]
  },
  {
   "cell_type": "code",
   "execution_count": 35,
   "metadata": {},
   "outputs": [
    {
     "data": {
      "text/plain": [
       "1.7689448270483046"
      ]
     },
     "execution_count": 35,
     "metadata": {},
     "output_type": "execute_result"
    }
   ],
   "source": [
    "df.iat[1, 1]"
   ]
  },
  {
   "cell_type": "markdown",
   "metadata": {},
   "source": [
    "## Boolean indexing"
   ]
  },
  {
   "cell_type": "markdown",
   "metadata": {},
   "source": [
    "Using a single column's values to select data."
   ]
  },
  {
   "cell_type": "code",
   "execution_count": 36,
   "metadata": {},
   "outputs": [
    {
     "data": {
      "text/html": [
       "<div>\n",
       "<style scoped>\n",
       "    .dataframe tbody tr th:only-of-type {\n",
       "        vertical-align: middle;\n",
       "    }\n",
       "\n",
       "    .dataframe tbody tr th {\n",
       "        vertical-align: top;\n",
       "    }\n",
       "\n",
       "    .dataframe thead th {\n",
       "        text-align: right;\n",
       "    }\n",
       "</style>\n",
       "<table border=\"1\" class=\"dataframe\">\n",
       "  <thead>\n",
       "    <tr style=\"text-align: right;\">\n",
       "      <th></th>\n",
       "      <th>A</th>\n",
       "      <th>B</th>\n",
       "      <th>C</th>\n",
       "      <th>D</th>\n",
       "    </tr>\n",
       "  </thead>\n",
       "  <tbody>\n",
       "    <tr>\n",
       "      <th>2022-03-20</th>\n",
       "      <td>2.247550</td>\n",
       "      <td>1.768945</td>\n",
       "      <td>2.341640</td>\n",
       "      <td>-0.397978</td>\n",
       "    </tr>\n",
       "    <tr>\n",
       "      <th>2022-03-22</th>\n",
       "      <td>0.113084</td>\n",
       "      <td>-1.615147</td>\n",
       "      <td>-1.426360</td>\n",
       "      <td>-1.542553</td>\n",
       "    </tr>\n",
       "    <tr>\n",
       "      <th>2022-03-24</th>\n",
       "      <td>0.335880</td>\n",
       "      <td>-0.216900</td>\n",
       "      <td>-1.314780</td>\n",
       "      <td>1.476533</td>\n",
       "    </tr>\n",
       "    <tr>\n",
       "      <th>2022-03-25</th>\n",
       "      <td>0.094517</td>\n",
       "      <td>-1.106857</td>\n",
       "      <td>0.803023</td>\n",
       "      <td>-0.085245</td>\n",
       "    </tr>\n",
       "  </tbody>\n",
       "</table>\n",
       "</div>"
      ],
      "text/plain": [
       "                   A         B         C         D\n",
       "2022-03-20  2.247550  1.768945  2.341640 -0.397978\n",
       "2022-03-22  0.113084 -1.615147 -1.426360 -1.542553\n",
       "2022-03-24  0.335880 -0.216900 -1.314780  1.476533\n",
       "2022-03-25  0.094517 -1.106857  0.803023 -0.085245"
      ]
     },
     "execution_count": 36,
     "metadata": {},
     "output_type": "execute_result"
    }
   ],
   "source": [
    "df[df[\"A\"] > 0]"
   ]
  },
  {
   "cell_type": "markdown",
   "metadata": {},
   "source": [
    "Selecting values from a **DataFrame** where a boolean condition is met."
   ]
  },
  {
   "cell_type": "code",
   "execution_count": 37,
   "metadata": {},
   "outputs": [
    {
     "data": {
      "text/html": [
       "<div>\n",
       "<style scoped>\n",
       "    .dataframe tbody tr th:only-of-type {\n",
       "        vertical-align: middle;\n",
       "    }\n",
       "\n",
       "    .dataframe tbody tr th {\n",
       "        vertical-align: top;\n",
       "    }\n",
       "\n",
       "    .dataframe thead th {\n",
       "        text-align: right;\n",
       "    }\n",
       "</style>\n",
       "<table border=\"1\" class=\"dataframe\">\n",
       "  <thead>\n",
       "    <tr style=\"text-align: right;\">\n",
       "      <th></th>\n",
       "      <th>A</th>\n",
       "      <th>B</th>\n",
       "      <th>C</th>\n",
       "      <th>D</th>\n",
       "    </tr>\n",
       "  </thead>\n",
       "  <tbody>\n",
       "    <tr>\n",
       "      <th>2022-03-19</th>\n",
       "      <td>NaN</td>\n",
       "      <td>1.056522</td>\n",
       "      <td>NaN</td>\n",
       "      <td>0.466803</td>\n",
       "    </tr>\n",
       "    <tr>\n",
       "      <th>2022-03-20</th>\n",
       "      <td>2.247550</td>\n",
       "      <td>1.768945</td>\n",
       "      <td>2.341640</td>\n",
       "      <td>NaN</td>\n",
       "    </tr>\n",
       "    <tr>\n",
       "      <th>2022-03-21</th>\n",
       "      <td>NaN</td>\n",
       "      <td>NaN</td>\n",
       "      <td>NaN</td>\n",
       "      <td>1.201296</td>\n",
       "    </tr>\n",
       "    <tr>\n",
       "      <th>2022-03-22</th>\n",
       "      <td>0.113084</td>\n",
       "      <td>NaN</td>\n",
       "      <td>NaN</td>\n",
       "      <td>NaN</td>\n",
       "    </tr>\n",
       "    <tr>\n",
       "      <th>2022-03-23</th>\n",
       "      <td>NaN</td>\n",
       "      <td>NaN</td>\n",
       "      <td>0.425680</td>\n",
       "      <td>NaN</td>\n",
       "    </tr>\n",
       "    <tr>\n",
       "      <th>2022-03-24</th>\n",
       "      <td>0.335880</td>\n",
       "      <td>NaN</td>\n",
       "      <td>NaN</td>\n",
       "      <td>1.476533</td>\n",
       "    </tr>\n",
       "    <tr>\n",
       "      <th>2022-03-25</th>\n",
       "      <td>0.094517</td>\n",
       "      <td>NaN</td>\n",
       "      <td>0.803023</td>\n",
       "      <td>NaN</td>\n",
       "    </tr>\n",
       "  </tbody>\n",
       "</table>\n",
       "</div>"
      ],
      "text/plain": [
       "                   A         B         C         D\n",
       "2022-03-19       NaN  1.056522       NaN  0.466803\n",
       "2022-03-20  2.247550  1.768945  2.341640       NaN\n",
       "2022-03-21       NaN       NaN       NaN  1.201296\n",
       "2022-03-22  0.113084       NaN       NaN       NaN\n",
       "2022-03-23       NaN       NaN  0.425680       NaN\n",
       "2022-03-24  0.335880       NaN       NaN  1.476533\n",
       "2022-03-25  0.094517       NaN  0.803023       NaN"
      ]
     },
     "execution_count": 37,
     "metadata": {},
     "output_type": "execute_result"
    }
   ],
   "source": [
    "df[df > 0]"
   ]
  },
  {
   "cell_type": "markdown",
   "metadata": {},
   "source": [
    "Using `isin()` method for filtering."
   ]
  },
  {
   "cell_type": "code",
   "execution_count": 38,
   "metadata": {},
   "outputs": [
    {
     "data": {
      "text/html": [
       "<div>\n",
       "<style scoped>\n",
       "    .dataframe tbody tr th:only-of-type {\n",
       "        vertical-align: middle;\n",
       "    }\n",
       "\n",
       "    .dataframe tbody tr th {\n",
       "        vertical-align: top;\n",
       "    }\n",
       "\n",
       "    .dataframe thead th {\n",
       "        text-align: right;\n",
       "    }\n",
       "</style>\n",
       "<table border=\"1\" class=\"dataframe\">\n",
       "  <thead>\n",
       "    <tr style=\"text-align: right;\">\n",
       "      <th></th>\n",
       "      <th>A</th>\n",
       "      <th>B</th>\n",
       "      <th>C</th>\n",
       "      <th>D</th>\n",
       "      <th>E</th>\n",
       "    </tr>\n",
       "  </thead>\n",
       "  <tbody>\n",
       "    <tr>\n",
       "      <th>2022-03-19</th>\n",
       "      <td>-1.299912</td>\n",
       "      <td>1.056522</td>\n",
       "      <td>-1.076645</td>\n",
       "      <td>0.466803</td>\n",
       "      <td>one</td>\n",
       "    </tr>\n",
       "    <tr>\n",
       "      <th>2022-03-20</th>\n",
       "      <td>2.247550</td>\n",
       "      <td>1.768945</td>\n",
       "      <td>2.341640</td>\n",
       "      <td>-0.397978</td>\n",
       "      <td>two</td>\n",
       "    </tr>\n",
       "    <tr>\n",
       "      <th>2022-03-21</th>\n",
       "      <td>-0.097541</td>\n",
       "      <td>-1.231248</td>\n",
       "      <td>-1.128851</td>\n",
       "      <td>1.201296</td>\n",
       "      <td>three</td>\n",
       "    </tr>\n",
       "    <tr>\n",
       "      <th>2022-03-22</th>\n",
       "      <td>0.113084</td>\n",
       "      <td>-1.615147</td>\n",
       "      <td>-1.426360</td>\n",
       "      <td>-1.542553</td>\n",
       "      <td>four</td>\n",
       "    </tr>\n",
       "    <tr>\n",
       "      <th>2022-03-23</th>\n",
       "      <td>-0.281581</td>\n",
       "      <td>-1.005752</td>\n",
       "      <td>0.425680</td>\n",
       "      <td>-0.536633</td>\n",
       "      <td>five</td>\n",
       "    </tr>\n",
       "    <tr>\n",
       "      <th>2022-03-24</th>\n",
       "      <td>0.335880</td>\n",
       "      <td>-0.216900</td>\n",
       "      <td>-1.314780</td>\n",
       "      <td>1.476533</td>\n",
       "      <td>six</td>\n",
       "    </tr>\n",
       "    <tr>\n",
       "      <th>2022-03-25</th>\n",
       "      <td>0.094517</td>\n",
       "      <td>-1.106857</td>\n",
       "      <td>0.803023</td>\n",
       "      <td>-0.085245</td>\n",
       "      <td>seven</td>\n",
       "    </tr>\n",
       "  </tbody>\n",
       "</table>\n",
       "</div>"
      ],
      "text/plain": [
       "                   A         B         C         D      E\n",
       "2022-03-19 -1.299912  1.056522 -1.076645  0.466803    one\n",
       "2022-03-20  2.247550  1.768945  2.341640 -0.397978    two\n",
       "2022-03-21 -0.097541 -1.231248 -1.128851  1.201296  three\n",
       "2022-03-22  0.113084 -1.615147 -1.426360 -1.542553   four\n",
       "2022-03-23 -0.281581 -1.005752  0.425680 -0.536633   five\n",
       "2022-03-24  0.335880 -0.216900 -1.314780  1.476533    six\n",
       "2022-03-25  0.094517 -1.106857  0.803023 -0.085245  seven"
      ]
     },
     "execution_count": 38,
     "metadata": {},
     "output_type": "execute_result"
    }
   ],
   "source": [
    "df_copy = df.copy()\n",
    "df_copy[\"E\"] = [\"one\", \"two\", \"three\", \"four\", \"five\", \"six\", \"seven\"]\n",
    "df_copy"
   ]
  },
  {
   "cell_type": "code",
   "execution_count": 39,
   "metadata": {},
   "outputs": [
    {
     "data": {
      "text/html": [
       "<div>\n",
       "<style scoped>\n",
       "    .dataframe tbody tr th:only-of-type {\n",
       "        vertical-align: middle;\n",
       "    }\n",
       "\n",
       "    .dataframe tbody tr th {\n",
       "        vertical-align: top;\n",
       "    }\n",
       "\n",
       "    .dataframe thead th {\n",
       "        text-align: right;\n",
       "    }\n",
       "</style>\n",
       "<table border=\"1\" class=\"dataframe\">\n",
       "  <thead>\n",
       "    <tr style=\"text-align: right;\">\n",
       "      <th></th>\n",
       "      <th>A</th>\n",
       "      <th>B</th>\n",
       "      <th>C</th>\n",
       "      <th>D</th>\n",
       "      <th>E</th>\n",
       "    </tr>\n",
       "  </thead>\n",
       "  <tbody>\n",
       "    <tr>\n",
       "      <th>2022-03-21</th>\n",
       "      <td>-0.097541</td>\n",
       "      <td>-1.231248</td>\n",
       "      <td>-1.128851</td>\n",
       "      <td>1.201296</td>\n",
       "      <td>three</td>\n",
       "    </tr>\n",
       "    <tr>\n",
       "      <th>2022-03-24</th>\n",
       "      <td>0.335880</td>\n",
       "      <td>-0.216900</td>\n",
       "      <td>-1.314780</td>\n",
       "      <td>1.476533</td>\n",
       "      <td>six</td>\n",
       "    </tr>\n",
       "  </tbody>\n",
       "</table>\n",
       "</div>"
      ],
      "text/plain": [
       "                   A         B         C         D      E\n",
       "2022-03-21 -0.097541 -1.231248 -1.128851  1.201296  three\n",
       "2022-03-24  0.335880 -0.216900 -1.314780  1.476533    six"
      ]
     },
     "execution_count": 39,
     "metadata": {},
     "output_type": "execute_result"
    }
   ],
   "source": [
    "df_copy[df_copy[\"E\"].isin([\"three\", \"six\"])]"
   ]
  },
  {
   "cell_type": "markdown",
   "metadata": {},
   "source": [
    "## Setting"
   ]
  },
  {
   "cell_type": "markdown",
   "metadata": {},
   "source": [
    "Setting a new column automatically aligns the data by the indexes."
   ]
  },
  {
   "cell_type": "code",
   "execution_count": 40,
   "metadata": {},
   "outputs": [
    {
     "data": {
      "text/plain": [
       "2022-03-19    1\n",
       "2022-03-20    2\n",
       "2022-03-21    3\n",
       "2022-03-22    4\n",
       "2022-03-23    5\n",
       "2022-03-24    6\n",
       "2022-03-25    7\n",
       "Freq: D, dtype: int64"
      ]
     },
     "execution_count": 40,
     "metadata": {},
     "output_type": "execute_result"
    }
   ],
   "source": [
    "s1 = pd.Series(list(range(1, 8)), index=pd.date_range(\"20220319\", periods=7))\n",
    "s1"
   ]
  },
  {
   "cell_type": "code",
   "execution_count": 41,
   "metadata": {},
   "outputs": [
    {
     "data": {
      "text/html": [
       "<div>\n",
       "<style scoped>\n",
       "    .dataframe tbody tr th:only-of-type {\n",
       "        vertical-align: middle;\n",
       "    }\n",
       "\n",
       "    .dataframe tbody tr th {\n",
       "        vertical-align: top;\n",
       "    }\n",
       "\n",
       "    .dataframe thead th {\n",
       "        text-align: right;\n",
       "    }\n",
       "</style>\n",
       "<table border=\"1\" class=\"dataframe\">\n",
       "  <thead>\n",
       "    <tr style=\"text-align: right;\">\n",
       "      <th></th>\n",
       "      <th>A</th>\n",
       "      <th>B</th>\n",
       "      <th>C</th>\n",
       "      <th>D</th>\n",
       "      <th>F</th>\n",
       "    </tr>\n",
       "  </thead>\n",
       "  <tbody>\n",
       "    <tr>\n",
       "      <th>2022-03-19</th>\n",
       "      <td>-1.299912</td>\n",
       "      <td>1.056522</td>\n",
       "      <td>-1.076645</td>\n",
       "      <td>0.466803</td>\n",
       "      <td>1</td>\n",
       "    </tr>\n",
       "    <tr>\n",
       "      <th>2022-03-20</th>\n",
       "      <td>2.247550</td>\n",
       "      <td>1.768945</td>\n",
       "      <td>2.341640</td>\n",
       "      <td>-0.397978</td>\n",
       "      <td>2</td>\n",
       "    </tr>\n",
       "    <tr>\n",
       "      <th>2022-03-21</th>\n",
       "      <td>-0.097541</td>\n",
       "      <td>-1.231248</td>\n",
       "      <td>-1.128851</td>\n",
       "      <td>1.201296</td>\n",
       "      <td>3</td>\n",
       "    </tr>\n",
       "    <tr>\n",
       "      <th>2022-03-22</th>\n",
       "      <td>0.113084</td>\n",
       "      <td>-1.615147</td>\n",
       "      <td>-1.426360</td>\n",
       "      <td>-1.542553</td>\n",
       "      <td>4</td>\n",
       "    </tr>\n",
       "    <tr>\n",
       "      <th>2022-03-23</th>\n",
       "      <td>-0.281581</td>\n",
       "      <td>-1.005752</td>\n",
       "      <td>0.425680</td>\n",
       "      <td>-0.536633</td>\n",
       "      <td>5</td>\n",
       "    </tr>\n",
       "    <tr>\n",
       "      <th>2022-03-24</th>\n",
       "      <td>0.335880</td>\n",
       "      <td>-0.216900</td>\n",
       "      <td>-1.314780</td>\n",
       "      <td>1.476533</td>\n",
       "      <td>6</td>\n",
       "    </tr>\n",
       "    <tr>\n",
       "      <th>2022-03-25</th>\n",
       "      <td>0.094517</td>\n",
       "      <td>-1.106857</td>\n",
       "      <td>0.803023</td>\n",
       "      <td>-0.085245</td>\n",
       "      <td>7</td>\n",
       "    </tr>\n",
       "  </tbody>\n",
       "</table>\n",
       "</div>"
      ],
      "text/plain": [
       "                   A         B         C         D  F\n",
       "2022-03-19 -1.299912  1.056522 -1.076645  0.466803  1\n",
       "2022-03-20  2.247550  1.768945  2.341640 -0.397978  2\n",
       "2022-03-21 -0.097541 -1.231248 -1.128851  1.201296  3\n",
       "2022-03-22  0.113084 -1.615147 -1.426360 -1.542553  4\n",
       "2022-03-23 -0.281581 -1.005752  0.425680 -0.536633  5\n",
       "2022-03-24  0.335880 -0.216900 -1.314780  1.476533  6\n",
       "2022-03-25  0.094517 -1.106857  0.803023 -0.085245  7"
      ]
     },
     "execution_count": 41,
     "metadata": {},
     "output_type": "execute_result"
    }
   ],
   "source": [
    "df[\"F\"] = s1\n",
    "df"
   ]
  },
  {
   "cell_type": "markdown",
   "metadata": {},
   "source": [
    "Setting values by label."
   ]
  },
  {
   "cell_type": "code",
   "execution_count": 42,
   "metadata": {},
   "outputs": [
    {
     "data": {
      "text/html": [
       "<div>\n",
       "<style scoped>\n",
       "    .dataframe tbody tr th:only-of-type {\n",
       "        vertical-align: middle;\n",
       "    }\n",
       "\n",
       "    .dataframe tbody tr th {\n",
       "        vertical-align: top;\n",
       "    }\n",
       "\n",
       "    .dataframe thead th {\n",
       "        text-align: right;\n",
       "    }\n",
       "</style>\n",
       "<table border=\"1\" class=\"dataframe\">\n",
       "  <thead>\n",
       "    <tr style=\"text-align: right;\">\n",
       "      <th></th>\n",
       "      <th>A</th>\n",
       "      <th>B</th>\n",
       "      <th>C</th>\n",
       "      <th>D</th>\n",
       "      <th>F</th>\n",
       "    </tr>\n",
       "  </thead>\n",
       "  <tbody>\n",
       "    <tr>\n",
       "      <th>2022-03-19</th>\n",
       "      <td>0.000000</td>\n",
       "      <td>1.056522</td>\n",
       "      <td>-1.076645</td>\n",
       "      <td>0.466803</td>\n",
       "      <td>1</td>\n",
       "    </tr>\n",
       "    <tr>\n",
       "      <th>2022-03-20</th>\n",
       "      <td>2.247550</td>\n",
       "      <td>1.768945</td>\n",
       "      <td>2.341640</td>\n",
       "      <td>-0.397978</td>\n",
       "      <td>2</td>\n",
       "    </tr>\n",
       "    <tr>\n",
       "      <th>2022-03-21</th>\n",
       "      <td>-0.097541</td>\n",
       "      <td>-1.231248</td>\n",
       "      <td>-1.128851</td>\n",
       "      <td>1.201296</td>\n",
       "      <td>3</td>\n",
       "    </tr>\n",
       "    <tr>\n",
       "      <th>2022-03-22</th>\n",
       "      <td>0.113084</td>\n",
       "      <td>-1.615147</td>\n",
       "      <td>-1.426360</td>\n",
       "      <td>-1.542553</td>\n",
       "      <td>4</td>\n",
       "    </tr>\n",
       "    <tr>\n",
       "      <th>2022-03-23</th>\n",
       "      <td>-0.281581</td>\n",
       "      <td>-1.005752</td>\n",
       "      <td>0.425680</td>\n",
       "      <td>-0.536633</td>\n",
       "      <td>5</td>\n",
       "    </tr>\n",
       "    <tr>\n",
       "      <th>2022-03-24</th>\n",
       "      <td>0.335880</td>\n",
       "      <td>-0.216900</td>\n",
       "      <td>-1.314780</td>\n",
       "      <td>1.476533</td>\n",
       "      <td>6</td>\n",
       "    </tr>\n",
       "    <tr>\n",
       "      <th>2022-03-25</th>\n",
       "      <td>0.094517</td>\n",
       "      <td>-1.106857</td>\n",
       "      <td>0.803023</td>\n",
       "      <td>-0.085245</td>\n",
       "      <td>7</td>\n",
       "    </tr>\n",
       "  </tbody>\n",
       "</table>\n",
       "</div>"
      ],
      "text/plain": [
       "                   A         B         C         D  F\n",
       "2022-03-19  0.000000  1.056522 -1.076645  0.466803  1\n",
       "2022-03-20  2.247550  1.768945  2.341640 -0.397978  2\n",
       "2022-03-21 -0.097541 -1.231248 -1.128851  1.201296  3\n",
       "2022-03-22  0.113084 -1.615147 -1.426360 -1.542553  4\n",
       "2022-03-23 -0.281581 -1.005752  0.425680 -0.536633  5\n",
       "2022-03-24  0.335880 -0.216900 -1.314780  1.476533  6\n",
       "2022-03-25  0.094517 -1.106857  0.803023 -0.085245  7"
      ]
     },
     "execution_count": 42,
     "metadata": {},
     "output_type": "execute_result"
    }
   ],
   "source": [
    "df.at[dates[0], \"A\"] = 0\n",
    "df"
   ]
  },
  {
   "cell_type": "markdown",
   "metadata": {},
   "source": [
    "Setting values by position."
   ]
  },
  {
   "cell_type": "code",
   "execution_count": 43,
   "metadata": {},
   "outputs": [
    {
     "data": {
      "text/html": [
       "<div>\n",
       "<style scoped>\n",
       "    .dataframe tbody tr th:only-of-type {\n",
       "        vertical-align: middle;\n",
       "    }\n",
       "\n",
       "    .dataframe tbody tr th {\n",
       "        vertical-align: top;\n",
       "    }\n",
       "\n",
       "    .dataframe thead th {\n",
       "        text-align: right;\n",
       "    }\n",
       "</style>\n",
       "<table border=\"1\" class=\"dataframe\">\n",
       "  <thead>\n",
       "    <tr style=\"text-align: right;\">\n",
       "      <th></th>\n",
       "      <th>A</th>\n",
       "      <th>B</th>\n",
       "      <th>C</th>\n",
       "      <th>D</th>\n",
       "      <th>F</th>\n",
       "    </tr>\n",
       "  </thead>\n",
       "  <tbody>\n",
       "    <tr>\n",
       "      <th>2022-03-19</th>\n",
       "      <td>0.000000</td>\n",
       "      <td>1.000000</td>\n",
       "      <td>-1.076645</td>\n",
       "      <td>0.466803</td>\n",
       "      <td>1</td>\n",
       "    </tr>\n",
       "    <tr>\n",
       "      <th>2022-03-20</th>\n",
       "      <td>2.247550</td>\n",
       "      <td>1.768945</td>\n",
       "      <td>2.341640</td>\n",
       "      <td>-0.397978</td>\n",
       "      <td>2</td>\n",
       "    </tr>\n",
       "    <tr>\n",
       "      <th>2022-03-21</th>\n",
       "      <td>-0.097541</td>\n",
       "      <td>-1.231248</td>\n",
       "      <td>-1.128851</td>\n",
       "      <td>1.201296</td>\n",
       "      <td>3</td>\n",
       "    </tr>\n",
       "    <tr>\n",
       "      <th>2022-03-22</th>\n",
       "      <td>0.113084</td>\n",
       "      <td>-1.615147</td>\n",
       "      <td>-1.426360</td>\n",
       "      <td>-1.542553</td>\n",
       "      <td>4</td>\n",
       "    </tr>\n",
       "    <tr>\n",
       "      <th>2022-03-23</th>\n",
       "      <td>-0.281581</td>\n",
       "      <td>-1.005752</td>\n",
       "      <td>0.425680</td>\n",
       "      <td>-0.536633</td>\n",
       "      <td>5</td>\n",
       "    </tr>\n",
       "    <tr>\n",
       "      <th>2022-03-24</th>\n",
       "      <td>0.335880</td>\n",
       "      <td>-0.216900</td>\n",
       "      <td>-1.314780</td>\n",
       "      <td>1.476533</td>\n",
       "      <td>6</td>\n",
       "    </tr>\n",
       "    <tr>\n",
       "      <th>2022-03-25</th>\n",
       "      <td>0.094517</td>\n",
       "      <td>-1.106857</td>\n",
       "      <td>0.803023</td>\n",
       "      <td>-0.085245</td>\n",
       "      <td>7</td>\n",
       "    </tr>\n",
       "  </tbody>\n",
       "</table>\n",
       "</div>"
      ],
      "text/plain": [
       "                   A         B         C         D  F\n",
       "2022-03-19  0.000000  1.000000 -1.076645  0.466803  1\n",
       "2022-03-20  2.247550  1.768945  2.341640 -0.397978  2\n",
       "2022-03-21 -0.097541 -1.231248 -1.128851  1.201296  3\n",
       "2022-03-22  0.113084 -1.615147 -1.426360 -1.542553  4\n",
       "2022-03-23 -0.281581 -1.005752  0.425680 -0.536633  5\n",
       "2022-03-24  0.335880 -0.216900 -1.314780  1.476533  6\n",
       "2022-03-25  0.094517 -1.106857  0.803023 -0.085245  7"
      ]
     },
     "execution_count": 43,
     "metadata": {},
     "output_type": "execute_result"
    }
   ],
   "source": [
    "df.iat[0, 1] = 1\n",
    "df"
   ]
  },
  {
   "cell_type": "markdown",
   "metadata": {},
   "source": [
    "Setting by assigning with a `Numpy` array"
   ]
  },
  {
   "cell_type": "code",
   "execution_count": 44,
   "metadata": {},
   "outputs": [
    {
     "data": {
      "text/html": [
       "<div>\n",
       "<style scoped>\n",
       "    .dataframe tbody tr th:only-of-type {\n",
       "        vertical-align: middle;\n",
       "    }\n",
       "\n",
       "    .dataframe tbody tr th {\n",
       "        vertical-align: top;\n",
       "    }\n",
       "\n",
       "    .dataframe thead th {\n",
       "        text-align: right;\n",
       "    }\n",
       "</style>\n",
       "<table border=\"1\" class=\"dataframe\">\n",
       "  <thead>\n",
       "    <tr style=\"text-align: right;\">\n",
       "      <th></th>\n",
       "      <th>A</th>\n",
       "      <th>B</th>\n",
       "      <th>C</th>\n",
       "      <th>D</th>\n",
       "      <th>F</th>\n",
       "    </tr>\n",
       "  </thead>\n",
       "  <tbody>\n",
       "    <tr>\n",
       "      <th>2022-03-19</th>\n",
       "      <td>0.000000</td>\n",
       "      <td>1.000000</td>\n",
       "      <td>-1.076645</td>\n",
       "      <td>35</td>\n",
       "      <td>1</td>\n",
       "    </tr>\n",
       "    <tr>\n",
       "      <th>2022-03-20</th>\n",
       "      <td>2.247550</td>\n",
       "      <td>1.768945</td>\n",
       "      <td>2.341640</td>\n",
       "      <td>35</td>\n",
       "      <td>2</td>\n",
       "    </tr>\n",
       "    <tr>\n",
       "      <th>2022-03-21</th>\n",
       "      <td>-0.097541</td>\n",
       "      <td>-1.231248</td>\n",
       "      <td>-1.128851</td>\n",
       "      <td>35</td>\n",
       "      <td>3</td>\n",
       "    </tr>\n",
       "    <tr>\n",
       "      <th>2022-03-22</th>\n",
       "      <td>0.113084</td>\n",
       "      <td>-1.615147</td>\n",
       "      <td>-1.426360</td>\n",
       "      <td>35</td>\n",
       "      <td>4</td>\n",
       "    </tr>\n",
       "    <tr>\n",
       "      <th>2022-03-23</th>\n",
       "      <td>-0.281581</td>\n",
       "      <td>-1.005752</td>\n",
       "      <td>0.425680</td>\n",
       "      <td>35</td>\n",
       "      <td>5</td>\n",
       "    </tr>\n",
       "    <tr>\n",
       "      <th>2022-03-24</th>\n",
       "      <td>0.335880</td>\n",
       "      <td>-0.216900</td>\n",
       "      <td>-1.314780</td>\n",
       "      <td>35</td>\n",
       "      <td>6</td>\n",
       "    </tr>\n",
       "    <tr>\n",
       "      <th>2022-03-25</th>\n",
       "      <td>0.094517</td>\n",
       "      <td>-1.106857</td>\n",
       "      <td>0.803023</td>\n",
       "      <td>35</td>\n",
       "      <td>7</td>\n",
       "    </tr>\n",
       "  </tbody>\n",
       "</table>\n",
       "</div>"
      ],
      "text/plain": [
       "                   A         B         C   D  F\n",
       "2022-03-19  0.000000  1.000000 -1.076645  35  1\n",
       "2022-03-20  2.247550  1.768945  2.341640  35  2\n",
       "2022-03-21 -0.097541 -1.231248 -1.128851  35  3\n",
       "2022-03-22  0.113084 -1.615147 -1.426360  35  4\n",
       "2022-03-23 -0.281581 -1.005752  0.425680  35  5\n",
       "2022-03-24  0.335880 -0.216900 -1.314780  35  6\n",
       "2022-03-25  0.094517 -1.106857  0.803023  35  7"
      ]
     },
     "execution_count": 44,
     "metadata": {},
     "output_type": "execute_result"
    }
   ],
   "source": [
    "df.loc[:, \"D\"] = np.array(5 * len(df))\n",
    "df"
   ]
  },
  {
   "cell_type": "markdown",
   "metadata": {},
   "source": [
    "## Missing data"
   ]
  },
  {
   "cell_type": "markdown",
   "metadata": {},
   "source": [
    "`Pandas` primarily uses the value `np.nan` to represent missing data. It is by default not included in computation.\n",
    "\n",
    "Reindexing allows you to change/add/delete the index on a sepecified axis. This returns a copy of data."
   ]
  },
  {
   "cell_type": "code",
   "execution_count": 45,
   "metadata": {},
   "outputs": [
    {
     "data": {
      "text/html": [
       "<div>\n",
       "<style scoped>\n",
       "    .dataframe tbody tr th:only-of-type {\n",
       "        vertical-align: middle;\n",
       "    }\n",
       "\n",
       "    .dataframe tbody tr th {\n",
       "        vertical-align: top;\n",
       "    }\n",
       "\n",
       "    .dataframe thead th {\n",
       "        text-align: right;\n",
       "    }\n",
       "</style>\n",
       "<table border=\"1\" class=\"dataframe\">\n",
       "  <thead>\n",
       "    <tr style=\"text-align: right;\">\n",
       "      <th></th>\n",
       "      <th>A</th>\n",
       "      <th>B</th>\n",
       "      <th>C</th>\n",
       "      <th>D</th>\n",
       "      <th>F</th>\n",
       "      <th>E</th>\n",
       "    </tr>\n",
       "  </thead>\n",
       "  <tbody>\n",
       "    <tr>\n",
       "      <th>2022-03-19</th>\n",
       "      <td>0.000000</td>\n",
       "      <td>1.000000</td>\n",
       "      <td>-1.076645</td>\n",
       "      <td>35</td>\n",
       "      <td>1</td>\n",
       "      <td>1.0</td>\n",
       "    </tr>\n",
       "    <tr>\n",
       "      <th>2022-03-20</th>\n",
       "      <td>2.247550</td>\n",
       "      <td>1.768945</td>\n",
       "      <td>2.341640</td>\n",
       "      <td>35</td>\n",
       "      <td>2</td>\n",
       "      <td>1.0</td>\n",
       "    </tr>\n",
       "    <tr>\n",
       "      <th>2022-03-21</th>\n",
       "      <td>-0.097541</td>\n",
       "      <td>-1.231248</td>\n",
       "      <td>-1.128851</td>\n",
       "      <td>35</td>\n",
       "      <td>3</td>\n",
       "      <td>NaN</td>\n",
       "    </tr>\n",
       "    <tr>\n",
       "      <th>2022-03-22</th>\n",
       "      <td>0.113084</td>\n",
       "      <td>-1.615147</td>\n",
       "      <td>-1.426360</td>\n",
       "      <td>35</td>\n",
       "      <td>4</td>\n",
       "      <td>NaN</td>\n",
       "    </tr>\n",
       "  </tbody>\n",
       "</table>\n",
       "</div>"
      ],
      "text/plain": [
       "                   A         B         C   D  F    E\n",
       "2022-03-19  0.000000  1.000000 -1.076645  35  1  1.0\n",
       "2022-03-20  2.247550  1.768945  2.341640  35  2  1.0\n",
       "2022-03-21 -0.097541 -1.231248 -1.128851  35  3  NaN\n",
       "2022-03-22  0.113084 -1.615147 -1.426360  35  4  NaN"
      ]
     },
     "execution_count": 45,
     "metadata": {},
     "output_type": "execute_result"
    }
   ],
   "source": [
    "df1 = df.reindex(index=dates[0:4], columns=list(df.columns) + [\"E\"])\n",
    "df1.loc[dates[0]:dates[1], \"E\"] = 1\n",
    "df1"
   ]
  },
  {
   "cell_type": "markdown",
   "metadata": {},
   "source": [
    "To drop any rows that have missing data."
   ]
  },
  {
   "cell_type": "code",
   "execution_count": 46,
   "metadata": {},
   "outputs": [
    {
     "data": {
      "text/html": [
       "<div>\n",
       "<style scoped>\n",
       "    .dataframe tbody tr th:only-of-type {\n",
       "        vertical-align: middle;\n",
       "    }\n",
       "\n",
       "    .dataframe tbody tr th {\n",
       "        vertical-align: top;\n",
       "    }\n",
       "\n",
       "    .dataframe thead th {\n",
       "        text-align: right;\n",
       "    }\n",
       "</style>\n",
       "<table border=\"1\" class=\"dataframe\">\n",
       "  <thead>\n",
       "    <tr style=\"text-align: right;\">\n",
       "      <th></th>\n",
       "      <th>A</th>\n",
       "      <th>B</th>\n",
       "      <th>C</th>\n",
       "      <th>D</th>\n",
       "      <th>F</th>\n",
       "      <th>E</th>\n",
       "    </tr>\n",
       "  </thead>\n",
       "  <tbody>\n",
       "    <tr>\n",
       "      <th>2022-03-19</th>\n",
       "      <td>0.00000</td>\n",
       "      <td>1.000000</td>\n",
       "      <td>-1.076645</td>\n",
       "      <td>35</td>\n",
       "      <td>1</td>\n",
       "      <td>1.0</td>\n",
       "    </tr>\n",
       "    <tr>\n",
       "      <th>2022-03-20</th>\n",
       "      <td>2.24755</td>\n",
       "      <td>1.768945</td>\n",
       "      <td>2.341640</td>\n",
       "      <td>35</td>\n",
       "      <td>2</td>\n",
       "      <td>1.0</td>\n",
       "    </tr>\n",
       "  </tbody>\n",
       "</table>\n",
       "</div>"
      ],
      "text/plain": [
       "                  A         B         C   D  F    E\n",
       "2022-03-19  0.00000  1.000000 -1.076645  35  1  1.0\n",
       "2022-03-20  2.24755  1.768945  2.341640  35  2  1.0"
      ]
     },
     "execution_count": 46,
     "metadata": {},
     "output_type": "execute_result"
    }
   ],
   "source": [
    "df1.dropna(how=\"any\")"
   ]
  },
  {
   "cell_type": "markdown",
   "metadata": {},
   "source": [
    "Filling missing data."
   ]
  },
  {
   "cell_type": "code",
   "execution_count": 47,
   "metadata": {},
   "outputs": [
    {
     "data": {
      "text/html": [
       "<div>\n",
       "<style scoped>\n",
       "    .dataframe tbody tr th:only-of-type {\n",
       "        vertical-align: middle;\n",
       "    }\n",
       "\n",
       "    .dataframe tbody tr th {\n",
       "        vertical-align: top;\n",
       "    }\n",
       "\n",
       "    .dataframe thead th {\n",
       "        text-align: right;\n",
       "    }\n",
       "</style>\n",
       "<table border=\"1\" class=\"dataframe\">\n",
       "  <thead>\n",
       "    <tr style=\"text-align: right;\">\n",
       "      <th></th>\n",
       "      <th>A</th>\n",
       "      <th>B</th>\n",
       "      <th>C</th>\n",
       "      <th>D</th>\n",
       "      <th>F</th>\n",
       "      <th>E</th>\n",
       "    </tr>\n",
       "  </thead>\n",
       "  <tbody>\n",
       "    <tr>\n",
       "      <th>2022-03-19</th>\n",
       "      <td>0.000000</td>\n",
       "      <td>1.000000</td>\n",
       "      <td>-1.076645</td>\n",
       "      <td>35</td>\n",
       "      <td>1</td>\n",
       "      <td>1.0</td>\n",
       "    </tr>\n",
       "    <tr>\n",
       "      <th>2022-03-20</th>\n",
       "      <td>2.247550</td>\n",
       "      <td>1.768945</td>\n",
       "      <td>2.341640</td>\n",
       "      <td>35</td>\n",
       "      <td>2</td>\n",
       "      <td>1.0</td>\n",
       "    </tr>\n",
       "    <tr>\n",
       "      <th>2022-03-21</th>\n",
       "      <td>-0.097541</td>\n",
       "      <td>-1.231248</td>\n",
       "      <td>-1.128851</td>\n",
       "      <td>35</td>\n",
       "      <td>3</td>\n",
       "      <td>3.0</td>\n",
       "    </tr>\n",
       "    <tr>\n",
       "      <th>2022-03-22</th>\n",
       "      <td>0.113084</td>\n",
       "      <td>-1.615147</td>\n",
       "      <td>-1.426360</td>\n",
       "      <td>35</td>\n",
       "      <td>4</td>\n",
       "      <td>3.0</td>\n",
       "    </tr>\n",
       "  </tbody>\n",
       "</table>\n",
       "</div>"
      ],
      "text/plain": [
       "                   A         B         C   D  F    E\n",
       "2022-03-19  0.000000  1.000000 -1.076645  35  1  1.0\n",
       "2022-03-20  2.247550  1.768945  2.341640  35  2  1.0\n",
       "2022-03-21 -0.097541 -1.231248 -1.128851  35  3  3.0\n",
       "2022-03-22  0.113084 -1.615147 -1.426360  35  4  3.0"
      ]
     },
     "execution_count": 47,
     "metadata": {},
     "output_type": "execute_result"
    }
   ],
   "source": [
    "df1.fillna(value=3)"
   ]
  },
  {
   "cell_type": "markdown",
   "metadata": {},
   "source": [
    "To get the boolean mask where values are `nan`."
   ]
  },
  {
   "cell_type": "code",
   "execution_count": 48,
   "metadata": {},
   "outputs": [
    {
     "data": {
      "text/html": [
       "<div>\n",
       "<style scoped>\n",
       "    .dataframe tbody tr th:only-of-type {\n",
       "        vertical-align: middle;\n",
       "    }\n",
       "\n",
       "    .dataframe tbody tr th {\n",
       "        vertical-align: top;\n",
       "    }\n",
       "\n",
       "    .dataframe thead th {\n",
       "        text-align: right;\n",
       "    }\n",
       "</style>\n",
       "<table border=\"1\" class=\"dataframe\">\n",
       "  <thead>\n",
       "    <tr style=\"text-align: right;\">\n",
       "      <th></th>\n",
       "      <th>A</th>\n",
       "      <th>B</th>\n",
       "      <th>C</th>\n",
       "      <th>D</th>\n",
       "      <th>F</th>\n",
       "      <th>E</th>\n",
       "    </tr>\n",
       "  </thead>\n",
       "  <tbody>\n",
       "    <tr>\n",
       "      <th>2022-03-19</th>\n",
       "      <td>False</td>\n",
       "      <td>False</td>\n",
       "      <td>False</td>\n",
       "      <td>False</td>\n",
       "      <td>False</td>\n",
       "      <td>False</td>\n",
       "    </tr>\n",
       "    <tr>\n",
       "      <th>2022-03-20</th>\n",
       "      <td>False</td>\n",
       "      <td>False</td>\n",
       "      <td>False</td>\n",
       "      <td>False</td>\n",
       "      <td>False</td>\n",
       "      <td>False</td>\n",
       "    </tr>\n",
       "    <tr>\n",
       "      <th>2022-03-21</th>\n",
       "      <td>False</td>\n",
       "      <td>False</td>\n",
       "      <td>False</td>\n",
       "      <td>False</td>\n",
       "      <td>False</td>\n",
       "      <td>True</td>\n",
       "    </tr>\n",
       "    <tr>\n",
       "      <th>2022-03-22</th>\n",
       "      <td>False</td>\n",
       "      <td>False</td>\n",
       "      <td>False</td>\n",
       "      <td>False</td>\n",
       "      <td>False</td>\n",
       "      <td>True</td>\n",
       "    </tr>\n",
       "  </tbody>\n",
       "</table>\n",
       "</div>"
      ],
      "text/plain": [
       "                A      B      C      D      F      E\n",
       "2022-03-19  False  False  False  False  False  False\n",
       "2022-03-20  False  False  False  False  False  False\n",
       "2022-03-21  False  False  False  False  False   True\n",
       "2022-03-22  False  False  False  False  False   True"
      ]
     },
     "execution_count": 48,
     "metadata": {},
     "output_type": "execute_result"
    }
   ],
   "source": [
    "pd.isna(df1)"
   ]
  },
  {
   "cell_type": "markdown",
   "metadata": {},
   "source": [
    "## Operations"
   ]
  },
  {
   "cell_type": "markdown",
   "metadata": {},
   "source": [
    "### Stats"
   ]
  },
  {
   "cell_type": "markdown",
   "metadata": {},
   "source": [
    "Operations in general *exclude* missing data.\n",
    "\n",
    "Perform a descriptive statistic."
   ]
  },
  {
   "cell_type": "code",
   "execution_count": 49,
   "metadata": {},
   "outputs": [
    {
     "data": {
      "text/plain": [
       "A     0.344558\n",
       "B    -0.343851\n",
       "C    -0.196613\n",
       "D    35.000000\n",
       "F     4.000000\n",
       "dtype: float64"
      ]
     },
     "execution_count": 49,
     "metadata": {},
     "output_type": "execute_result"
    }
   ],
   "source": [
    "df.mean()"
   ]
  },
  {
   "cell_type": "markdown",
   "metadata": {},
   "source": [
    "Same operation on the other axis."
   ]
  },
  {
   "cell_type": "code",
   "execution_count": 50,
   "metadata": {},
   "outputs": [
    {
     "data": {
      "text/plain": [
       "2022-03-19    7.184671\n",
       "2022-03-20    8.671627\n",
       "2022-03-21    7.108472\n",
       "2022-03-22    7.214315\n",
       "2022-03-23    7.827670\n",
       "2022-03-24    7.960840\n",
       "2022-03-25    8.358137\n",
       "Freq: D, dtype: float64"
      ]
     },
     "execution_count": 50,
     "metadata": {},
     "output_type": "execute_result"
    }
   ],
   "source": [
    "df.mean(1)"
   ]
  },
  {
   "cell_type": "markdown",
   "metadata": {},
   "source": [
    "Operation with objects that have different dismensionality and need alignment. In addition, `pandas` automatically broadcast along the specified dimension."
   ]
  },
  {
   "cell_type": "code",
   "execution_count": 51,
   "metadata": {},
   "outputs": [
    {
     "data": {
      "text/plain": [
       "2022-03-19    NaN\n",
       "2022-03-20    NaN\n",
       "2022-03-21    1.0\n",
       "2022-03-22    3.0\n",
       "2022-03-23    5.0\n",
       "2022-03-24    NaN\n",
       "2022-03-25    6.0\n",
       "Freq: D, dtype: float64"
      ]
     },
     "execution_count": 51,
     "metadata": {},
     "output_type": "execute_result"
    }
   ],
   "source": [
    "s = pd.Series([1, 3, 5, np.nan, 6, 8, 11], index=dates).shift(2)\n",
    "s"
   ]
  },
  {
   "cell_type": "code",
   "execution_count": 52,
   "metadata": {},
   "outputs": [
    {
     "data": {
      "text/html": [
       "<div>\n",
       "<style scoped>\n",
       "    .dataframe tbody tr th:only-of-type {\n",
       "        vertical-align: middle;\n",
       "    }\n",
       "\n",
       "    .dataframe tbody tr th {\n",
       "        vertical-align: top;\n",
       "    }\n",
       "\n",
       "    .dataframe thead th {\n",
       "        text-align: right;\n",
       "    }\n",
       "</style>\n",
       "<table border=\"1\" class=\"dataframe\">\n",
       "  <thead>\n",
       "    <tr style=\"text-align: right;\">\n",
       "      <th></th>\n",
       "      <th>A</th>\n",
       "      <th>B</th>\n",
       "      <th>C</th>\n",
       "      <th>D</th>\n",
       "      <th>F</th>\n",
       "    </tr>\n",
       "  </thead>\n",
       "  <tbody>\n",
       "    <tr>\n",
       "      <th>2022-03-19</th>\n",
       "      <td>NaN</td>\n",
       "      <td>NaN</td>\n",
       "      <td>NaN</td>\n",
       "      <td>NaN</td>\n",
       "      <td>NaN</td>\n",
       "    </tr>\n",
       "    <tr>\n",
       "      <th>2022-03-20</th>\n",
       "      <td>NaN</td>\n",
       "      <td>NaN</td>\n",
       "      <td>NaN</td>\n",
       "      <td>NaN</td>\n",
       "      <td>NaN</td>\n",
       "    </tr>\n",
       "    <tr>\n",
       "      <th>2022-03-21</th>\n",
       "      <td>-1.097541</td>\n",
       "      <td>-2.231248</td>\n",
       "      <td>-2.128851</td>\n",
       "      <td>34.0</td>\n",
       "      <td>2.0</td>\n",
       "    </tr>\n",
       "    <tr>\n",
       "      <th>2022-03-22</th>\n",
       "      <td>-2.886916</td>\n",
       "      <td>-4.615147</td>\n",
       "      <td>-4.426360</td>\n",
       "      <td>32.0</td>\n",
       "      <td>1.0</td>\n",
       "    </tr>\n",
       "    <tr>\n",
       "      <th>2022-03-23</th>\n",
       "      <td>-5.281581</td>\n",
       "      <td>-6.005752</td>\n",
       "      <td>-4.574320</td>\n",
       "      <td>30.0</td>\n",
       "      <td>0.0</td>\n",
       "    </tr>\n",
       "    <tr>\n",
       "      <th>2022-03-24</th>\n",
       "      <td>NaN</td>\n",
       "      <td>NaN</td>\n",
       "      <td>NaN</td>\n",
       "      <td>NaN</td>\n",
       "      <td>NaN</td>\n",
       "    </tr>\n",
       "    <tr>\n",
       "      <th>2022-03-25</th>\n",
       "      <td>-5.905483</td>\n",
       "      <td>-7.106857</td>\n",
       "      <td>-5.196977</td>\n",
       "      <td>29.0</td>\n",
       "      <td>1.0</td>\n",
       "    </tr>\n",
       "  </tbody>\n",
       "</table>\n",
       "</div>"
      ],
      "text/plain": [
       "                   A         B         C     D    F\n",
       "2022-03-19       NaN       NaN       NaN   NaN  NaN\n",
       "2022-03-20       NaN       NaN       NaN   NaN  NaN\n",
       "2022-03-21 -1.097541 -2.231248 -2.128851  34.0  2.0\n",
       "2022-03-22 -2.886916 -4.615147 -4.426360  32.0  1.0\n",
       "2022-03-23 -5.281581 -6.005752 -4.574320  30.0  0.0\n",
       "2022-03-24       NaN       NaN       NaN   NaN  NaN\n",
       "2022-03-25 -5.905483 -7.106857 -5.196977  29.0  1.0"
      ]
     },
     "execution_count": 52,
     "metadata": {},
     "output_type": "execute_result"
    }
   ],
   "source": [
    "df.sub(s, axis=\"index\")"
   ]
  },
  {
   "cell_type": "markdown",
   "metadata": {},
   "source": [
    "### Apply"
   ]
  },
  {
   "cell_type": "markdown",
   "metadata": {},
   "source": [
    "Applying functions to the data."
   ]
  },
  {
   "cell_type": "code",
   "execution_count": 53,
   "metadata": {},
   "outputs": [
    {
     "data": {
      "text/html": [
       "<div>\n",
       "<style scoped>\n",
       "    .dataframe tbody tr th:only-of-type {\n",
       "        vertical-align: middle;\n",
       "    }\n",
       "\n",
       "    .dataframe tbody tr th {\n",
       "        vertical-align: top;\n",
       "    }\n",
       "\n",
       "    .dataframe thead th {\n",
       "        text-align: right;\n",
       "    }\n",
       "</style>\n",
       "<table border=\"1\" class=\"dataframe\">\n",
       "  <thead>\n",
       "    <tr style=\"text-align: right;\">\n",
       "      <th></th>\n",
       "      <th>A</th>\n",
       "      <th>B</th>\n",
       "      <th>C</th>\n",
       "      <th>D</th>\n",
       "      <th>F</th>\n",
       "    </tr>\n",
       "  </thead>\n",
       "  <tbody>\n",
       "    <tr>\n",
       "      <th>2022-03-19</th>\n",
       "      <td>0.000000</td>\n",
       "      <td>1.000000</td>\n",
       "      <td>-1.076645</td>\n",
       "      <td>35</td>\n",
       "      <td>1</td>\n",
       "    </tr>\n",
       "    <tr>\n",
       "      <th>2022-03-20</th>\n",
       "      <td>2.247550</td>\n",
       "      <td>1.768945</td>\n",
       "      <td>2.341640</td>\n",
       "      <td>35</td>\n",
       "      <td>2</td>\n",
       "    </tr>\n",
       "    <tr>\n",
       "      <th>2022-03-21</th>\n",
       "      <td>-0.097541</td>\n",
       "      <td>-1.231248</td>\n",
       "      <td>-1.128851</td>\n",
       "      <td>35</td>\n",
       "      <td>3</td>\n",
       "    </tr>\n",
       "    <tr>\n",
       "      <th>2022-03-22</th>\n",
       "      <td>0.113084</td>\n",
       "      <td>-1.615147</td>\n",
       "      <td>-1.426360</td>\n",
       "      <td>35</td>\n",
       "      <td>4</td>\n",
       "    </tr>\n",
       "    <tr>\n",
       "      <th>2022-03-23</th>\n",
       "      <td>-0.281581</td>\n",
       "      <td>-1.005752</td>\n",
       "      <td>0.425680</td>\n",
       "      <td>35</td>\n",
       "      <td>5</td>\n",
       "    </tr>\n",
       "    <tr>\n",
       "      <th>2022-03-24</th>\n",
       "      <td>0.335880</td>\n",
       "      <td>-0.216900</td>\n",
       "      <td>-1.314780</td>\n",
       "      <td>35</td>\n",
       "      <td>6</td>\n",
       "    </tr>\n",
       "    <tr>\n",
       "      <th>2022-03-25</th>\n",
       "      <td>0.094517</td>\n",
       "      <td>-1.106857</td>\n",
       "      <td>0.803023</td>\n",
       "      <td>35</td>\n",
       "      <td>7</td>\n",
       "    </tr>\n",
       "  </tbody>\n",
       "</table>\n",
       "</div>"
      ],
      "text/plain": [
       "                   A         B         C   D  F\n",
       "2022-03-19  0.000000  1.000000 -1.076645  35  1\n",
       "2022-03-20  2.247550  1.768945  2.341640  35  2\n",
       "2022-03-21 -0.097541 -1.231248 -1.128851  35  3\n",
       "2022-03-22  0.113084 -1.615147 -1.426360  35  4\n",
       "2022-03-23 -0.281581 -1.005752  0.425680  35  5\n",
       "2022-03-24  0.335880 -0.216900 -1.314780  35  6\n",
       "2022-03-25  0.094517 -1.106857  0.803023  35  7"
      ]
     },
     "execution_count": 53,
     "metadata": {},
     "output_type": "execute_result"
    }
   ],
   "source": [
    "df"
   ]
  },
  {
   "cell_type": "code",
   "execution_count": 54,
   "metadata": {},
   "outputs": [
    {
     "data": {
      "text/html": [
       "<div>\n",
       "<style scoped>\n",
       "    .dataframe tbody tr th:only-of-type {\n",
       "        vertical-align: middle;\n",
       "    }\n",
       "\n",
       "    .dataframe tbody tr th {\n",
       "        vertical-align: top;\n",
       "    }\n",
       "\n",
       "    .dataframe thead th {\n",
       "        text-align: right;\n",
       "    }\n",
       "</style>\n",
       "<table border=\"1\" class=\"dataframe\">\n",
       "  <thead>\n",
       "    <tr style=\"text-align: right;\">\n",
       "      <th></th>\n",
       "      <th>A</th>\n",
       "      <th>B</th>\n",
       "      <th>C</th>\n",
       "      <th>D</th>\n",
       "      <th>F</th>\n",
       "    </tr>\n",
       "  </thead>\n",
       "  <tbody>\n",
       "    <tr>\n",
       "      <th>2022-03-19</th>\n",
       "      <td>0.000000</td>\n",
       "      <td>1.000000</td>\n",
       "      <td>-1.076645</td>\n",
       "      <td>35</td>\n",
       "      <td>1</td>\n",
       "    </tr>\n",
       "    <tr>\n",
       "      <th>2022-03-20</th>\n",
       "      <td>2.247550</td>\n",
       "      <td>2.768945</td>\n",
       "      <td>1.264996</td>\n",
       "      <td>70</td>\n",
       "      <td>3</td>\n",
       "    </tr>\n",
       "    <tr>\n",
       "      <th>2022-03-21</th>\n",
       "      <td>2.150009</td>\n",
       "      <td>1.537697</td>\n",
       "      <td>0.136144</td>\n",
       "      <td>105</td>\n",
       "      <td>6</td>\n",
       "    </tr>\n",
       "    <tr>\n",
       "      <th>2022-03-22</th>\n",
       "      <td>2.263093</td>\n",
       "      <td>-0.077450</td>\n",
       "      <td>-1.290216</td>\n",
       "      <td>140</td>\n",
       "      <td>10</td>\n",
       "    </tr>\n",
       "    <tr>\n",
       "      <th>2022-03-23</th>\n",
       "      <td>1.981512</td>\n",
       "      <td>-1.083201</td>\n",
       "      <td>-0.864536</td>\n",
       "      <td>175</td>\n",
       "      <td>15</td>\n",
       "    </tr>\n",
       "    <tr>\n",
       "      <th>2022-03-24</th>\n",
       "      <td>2.317392</td>\n",
       "      <td>-1.300101</td>\n",
       "      <td>-2.179316</td>\n",
       "      <td>210</td>\n",
       "      <td>21</td>\n",
       "    </tr>\n",
       "    <tr>\n",
       "      <th>2022-03-25</th>\n",
       "      <td>2.411909</td>\n",
       "      <td>-2.406958</td>\n",
       "      <td>-1.376293</td>\n",
       "      <td>245</td>\n",
       "      <td>28</td>\n",
       "    </tr>\n",
       "  </tbody>\n",
       "</table>\n",
       "</div>"
      ],
      "text/plain": [
       "                   A         B         C    D   F\n",
       "2022-03-19  0.000000  1.000000 -1.076645   35   1\n",
       "2022-03-20  2.247550  2.768945  1.264996   70   3\n",
       "2022-03-21  2.150009  1.537697  0.136144  105   6\n",
       "2022-03-22  2.263093 -0.077450 -1.290216  140  10\n",
       "2022-03-23  1.981512 -1.083201 -0.864536  175  15\n",
       "2022-03-24  2.317392 -1.300101 -2.179316  210  21\n",
       "2022-03-25  2.411909 -2.406958 -1.376293  245  28"
      ]
     },
     "execution_count": 54,
     "metadata": {},
     "output_type": "execute_result"
    }
   ],
   "source": [
    "df.apply(np.cumsum)\n",
    "# equivalent to df.apply(np.cumsum, axis=0)"
   ]
  },
  {
   "cell_type": "code",
   "execution_count": 55,
   "metadata": {},
   "outputs": [
    {
     "data": {
      "text/html": [
       "<div>\n",
       "<style scoped>\n",
       "    .dataframe tbody tr th:only-of-type {\n",
       "        vertical-align: middle;\n",
       "    }\n",
       "\n",
       "    .dataframe tbody tr th {\n",
       "        vertical-align: top;\n",
       "    }\n",
       "\n",
       "    .dataframe thead th {\n",
       "        text-align: right;\n",
       "    }\n",
       "</style>\n",
       "<table border=\"1\" class=\"dataframe\">\n",
       "  <thead>\n",
       "    <tr style=\"text-align: right;\">\n",
       "      <th></th>\n",
       "      <th>A</th>\n",
       "      <th>B</th>\n",
       "      <th>C</th>\n",
       "      <th>D</th>\n",
       "      <th>F</th>\n",
       "    </tr>\n",
       "  </thead>\n",
       "  <tbody>\n",
       "    <tr>\n",
       "      <th>2022-03-19</th>\n",
       "      <td>0.000000</td>\n",
       "      <td>1.000000</td>\n",
       "      <td>-0.076645</td>\n",
       "      <td>34.923355</td>\n",
       "      <td>35.923355</td>\n",
       "    </tr>\n",
       "    <tr>\n",
       "      <th>2022-03-20</th>\n",
       "      <td>2.247550</td>\n",
       "      <td>4.016494</td>\n",
       "      <td>6.358135</td>\n",
       "      <td>41.358135</td>\n",
       "      <td>43.358135</td>\n",
       "    </tr>\n",
       "    <tr>\n",
       "      <th>2022-03-21</th>\n",
       "      <td>-0.097541</td>\n",
       "      <td>-1.328788</td>\n",
       "      <td>-2.457640</td>\n",
       "      <td>32.542360</td>\n",
       "      <td>35.542360</td>\n",
       "    </tr>\n",
       "    <tr>\n",
       "      <th>2022-03-22</th>\n",
       "      <td>0.113084</td>\n",
       "      <td>-1.502063</td>\n",
       "      <td>-2.928424</td>\n",
       "      <td>32.071576</td>\n",
       "      <td>36.071576</td>\n",
       "    </tr>\n",
       "    <tr>\n",
       "      <th>2022-03-23</th>\n",
       "      <td>-0.281581</td>\n",
       "      <td>-1.287332</td>\n",
       "      <td>-0.861652</td>\n",
       "      <td>34.138348</td>\n",
       "      <td>39.138348</td>\n",
       "    </tr>\n",
       "    <tr>\n",
       "      <th>2022-03-24</th>\n",
       "      <td>0.335880</td>\n",
       "      <td>0.118980</td>\n",
       "      <td>-1.195800</td>\n",
       "      <td>33.804200</td>\n",
       "      <td>39.804200</td>\n",
       "    </tr>\n",
       "    <tr>\n",
       "      <th>2022-03-25</th>\n",
       "      <td>0.094517</td>\n",
       "      <td>-1.012340</td>\n",
       "      <td>-0.209317</td>\n",
       "      <td>34.790683</td>\n",
       "      <td>41.790683</td>\n",
       "    </tr>\n",
       "  </tbody>\n",
       "</table>\n",
       "</div>"
      ],
      "text/plain": [
       "                   A         B         C          D          F\n",
       "2022-03-19  0.000000  1.000000 -0.076645  34.923355  35.923355\n",
       "2022-03-20  2.247550  4.016494  6.358135  41.358135  43.358135\n",
       "2022-03-21 -0.097541 -1.328788 -2.457640  32.542360  35.542360\n",
       "2022-03-22  0.113084 -1.502063 -2.928424  32.071576  36.071576\n",
       "2022-03-23 -0.281581 -1.287332 -0.861652  34.138348  39.138348\n",
       "2022-03-24  0.335880  0.118980 -1.195800  33.804200  39.804200\n",
       "2022-03-25  0.094517 -1.012340 -0.209317  34.790683  41.790683"
      ]
     },
     "execution_count": 55,
     "metadata": {},
     "output_type": "execute_result"
    }
   ],
   "source": [
    "df.apply(np.cumsum, axis=1)"
   ]
  },
  {
   "cell_type": "code",
   "execution_count": 56,
   "metadata": {},
   "outputs": [
    {
     "data": {
      "text/plain": [
       "A    2.529130\n",
       "B    3.384092\n",
       "C    3.768001\n",
       "D    0.000000\n",
       "F    6.000000\n",
       "dtype: float64"
      ]
     },
     "execution_count": 56,
     "metadata": {},
     "output_type": "execute_result"
    }
   ],
   "source": [
    "df.apply(lambda x: x.max() - x.min())"
   ]
  },
  {
   "cell_type": "code",
   "execution_count": 57,
   "metadata": {},
   "outputs": [
    {
     "data": {
      "text/plain": [
       "2022-03-19    36.076645\n",
       "2022-03-20    33.231055\n",
       "2022-03-21    36.231248\n",
       "2022-03-22    36.615147\n",
       "2022-03-23    36.005752\n",
       "2022-03-24    36.314780\n",
       "2022-03-25    36.106857\n",
       "Freq: D, dtype: float64"
      ]
     },
     "execution_count": 57,
     "metadata": {},
     "output_type": "execute_result"
    }
   ],
   "source": [
    "df.apply(lambda x: x.max() - x.min(), axis=1)"
   ]
  },
  {
   "cell_type": "markdown",
   "metadata": {},
   "source": [
    "### Histogramming"
   ]
  },
  {
   "cell_type": "code",
   "execution_count": 58,
   "metadata": {},
   "outputs": [
    {
     "data": {
      "text/plain": [
       "0    4\n",
       "1    5\n",
       "2    2\n",
       "3    0\n",
       "4    5\n",
       "5    1\n",
       "6    2\n",
       "7    4\n",
       "8    3\n",
       "9    3\n",
       "dtype: int32"
      ]
     },
     "execution_count": 58,
     "metadata": {},
     "output_type": "execute_result"
    }
   ],
   "source": [
    "s = pd.Series(np.random.randint(0, 7, size=10))\n",
    "s"
   ]
  },
  {
   "cell_type": "code",
   "execution_count": 59,
   "metadata": {},
   "outputs": [
    {
     "data": {
      "text/plain": [
       "4    2\n",
       "5    2\n",
       "2    2\n",
       "3    2\n",
       "0    1\n",
       "1    1\n",
       "dtype: int64"
      ]
     },
     "execution_count": 59,
     "metadata": {},
     "output_type": "execute_result"
    }
   ],
   "source": [
    "s.value_counts()"
   ]
  },
  {
   "cell_type": "markdown",
   "metadata": {},
   "source": [
    "### String methods"
   ]
  },
  {
   "cell_type": "markdown",
   "metadata": {},
   "source": [
    "Series is equipped with a set of string processing methods in the `str` attribute that make it easy to operate on each element of the array, as in the code snippet below. Note that pattern-matching in `str` generally uses **regular expressions** by default (and in some cases always uses them)."
   ]
  },
  {
   "cell_type": "code",
   "execution_count": 60,
   "metadata": {},
   "outputs": [
    {
     "data": {
      "text/plain": [
       "0       A\n",
       "1       B\n",
       "2       C\n",
       "3       D\n",
       "4    Aaba\n",
       "5    Baca\n",
       "6     NaN\n",
       "7    CABA\n",
       "8     dog\n",
       "9     cat\n",
       "dtype: object"
      ]
     },
     "execution_count": 60,
     "metadata": {},
     "output_type": "execute_result"
    }
   ],
   "source": [
    "s = pd.Series([\"A\", \"B\", \"C\", \"D\", \"Aaba\", \"Baca\", np.nan, \"CABA\", \"dog\", \"cat\"])\n",
    "s"
   ]
  },
  {
   "cell_type": "code",
   "execution_count": 61,
   "metadata": {},
   "outputs": [
    {
     "data": {
      "text/plain": [
       "0       a\n",
       "1       b\n",
       "2       c\n",
       "3       d\n",
       "4    aaba\n",
       "5    baca\n",
       "6     NaN\n",
       "7    caba\n",
       "8     dog\n",
       "9     cat\n",
       "dtype: object"
      ]
     },
     "execution_count": 61,
     "metadata": {},
     "output_type": "execute_result"
    }
   ],
   "source": [
    "s.str.lower()"
   ]
  },
  {
   "cell_type": "markdown",
   "metadata": {},
   "source": [
    "### Merge"
   ]
  },
  {
   "cell_type": "markdown",
   "metadata": {},
   "source": [
    "#### Concat"
   ]
  },
  {
   "cell_type": "markdown",
   "metadata": {},
   "source": [
    "`Pandas` provides various facilities for easily combining together `Series` and `DataFrame` objects with various kinds of set logic for the indexes and relational algebra functionality in the case of join/merge-type operations.\n",
    "\n",
    "Concatenating pandas objects together with `concat()`."
   ]
  },
  {
   "cell_type": "code",
   "execution_count": 62,
   "metadata": {},
   "outputs": [
    {
     "data": {
      "text/html": [
       "<div>\n",
       "<style scoped>\n",
       "    .dataframe tbody tr th:only-of-type {\n",
       "        vertical-align: middle;\n",
       "    }\n",
       "\n",
       "    .dataframe tbody tr th {\n",
       "        vertical-align: top;\n",
       "    }\n",
       "\n",
       "    .dataframe thead th {\n",
       "        text-align: right;\n",
       "    }\n",
       "</style>\n",
       "<table border=\"1\" class=\"dataframe\">\n",
       "  <thead>\n",
       "    <tr style=\"text-align: right;\">\n",
       "      <th></th>\n",
       "      <th>0</th>\n",
       "      <th>1</th>\n",
       "      <th>2</th>\n",
       "      <th>3</th>\n",
       "    </tr>\n",
       "  </thead>\n",
       "  <tbody>\n",
       "    <tr>\n",
       "      <th>0</th>\n",
       "      <td>0.608874</td>\n",
       "      <td>-0.295739</td>\n",
       "      <td>1.042462</td>\n",
       "      <td>-0.144377</td>\n",
       "    </tr>\n",
       "    <tr>\n",
       "      <th>1</th>\n",
       "      <td>-1.122242</td>\n",
       "      <td>-0.117644</td>\n",
       "      <td>0.415494</td>\n",
       "      <td>2.089991</td>\n",
       "    </tr>\n",
       "    <tr>\n",
       "      <th>2</th>\n",
       "      <td>0.331973</td>\n",
       "      <td>0.764023</td>\n",
       "      <td>-0.855869</td>\n",
       "      <td>-0.019506</td>\n",
       "    </tr>\n",
       "    <tr>\n",
       "      <th>3</th>\n",
       "      <td>0.948393</td>\n",
       "      <td>-0.200770</td>\n",
       "      <td>1.019016</td>\n",
       "      <td>-0.431637</td>\n",
       "    </tr>\n",
       "    <tr>\n",
       "      <th>4</th>\n",
       "      <td>-0.128560</td>\n",
       "      <td>-0.051102</td>\n",
       "      <td>-0.459288</td>\n",
       "      <td>-0.094672</td>\n",
       "    </tr>\n",
       "    <tr>\n",
       "      <th>5</th>\n",
       "      <td>0.154880</td>\n",
       "      <td>1.022545</td>\n",
       "      <td>-0.270891</td>\n",
       "      <td>0.358761</td>\n",
       "    </tr>\n",
       "    <tr>\n",
       "      <th>6</th>\n",
       "      <td>-0.095041</td>\n",
       "      <td>0.351336</td>\n",
       "      <td>-0.417210</td>\n",
       "      <td>-0.594708</td>\n",
       "    </tr>\n",
       "    <tr>\n",
       "      <th>7</th>\n",
       "      <td>-1.508503</td>\n",
       "      <td>0.232908</td>\n",
       "      <td>-1.905934</td>\n",
       "      <td>-1.272292</td>\n",
       "    </tr>\n",
       "    <tr>\n",
       "      <th>8</th>\n",
       "      <td>0.171530</td>\n",
       "      <td>-0.103335</td>\n",
       "      <td>0.321266</td>\n",
       "      <td>-0.516655</td>\n",
       "    </tr>\n",
       "    <tr>\n",
       "      <th>9</th>\n",
       "      <td>-0.769405</td>\n",
       "      <td>-1.191565</td>\n",
       "      <td>0.494300</td>\n",
       "      <td>-0.825565</td>\n",
       "    </tr>\n",
       "  </tbody>\n",
       "</table>\n",
       "</div>"
      ],
      "text/plain": [
       "          0         1         2         3\n",
       "0  0.608874 -0.295739  1.042462 -0.144377\n",
       "1 -1.122242 -0.117644  0.415494  2.089991\n",
       "2  0.331973  0.764023 -0.855869 -0.019506\n",
       "3  0.948393 -0.200770  1.019016 -0.431637\n",
       "4 -0.128560 -0.051102 -0.459288 -0.094672\n",
       "5  0.154880  1.022545 -0.270891  0.358761\n",
       "6 -0.095041  0.351336 -0.417210 -0.594708\n",
       "7 -1.508503  0.232908 -1.905934 -1.272292\n",
       "8  0.171530 -0.103335  0.321266 -0.516655\n",
       "9 -0.769405 -1.191565  0.494300 -0.825565"
      ]
     },
     "execution_count": 62,
     "metadata": {},
     "output_type": "execute_result"
    }
   ],
   "source": [
    "df = pd.DataFrame(np.random.randn(10, 4))\n",
    "df"
   ]
  },
  {
   "cell_type": "code",
   "execution_count": 63,
   "metadata": {},
   "outputs": [
    {
     "data": {
      "text/plain": [
       "[          0         1         2         3\n",
       " 0  0.608874 -0.295739  1.042462 -0.144377\n",
       " 1 -1.122242 -0.117644  0.415494  2.089991\n",
       " 2  0.331973  0.764023 -0.855869 -0.019506,\n",
       "           0         1         2         3\n",
       " 3  0.948393 -0.200770  1.019016 -0.431637\n",
       " 4 -0.128560 -0.051102 -0.459288 -0.094672\n",
       " 5  0.154880  1.022545 -0.270891  0.358761\n",
       " 6 -0.095041  0.351336 -0.417210 -0.594708,\n",
       "           0         1         2         3\n",
       " 7 -1.508503  0.232908 -1.905934 -1.272292\n",
       " 8  0.171530 -0.103335  0.321266 -0.516655\n",
       " 9 -0.769405 -1.191565  0.494300 -0.825565]"
      ]
     },
     "execution_count": 63,
     "metadata": {},
     "output_type": "execute_result"
    }
   ],
   "source": [
    "# break it into pieces\n",
    "pieces = [df[:3], df[3:7], df[7:]]\n",
    "pieces"
   ]
  },
  {
   "cell_type": "code",
   "execution_count": 64,
   "metadata": {},
   "outputs": [
    {
     "data": {
      "text/html": [
       "<div>\n",
       "<style scoped>\n",
       "    .dataframe tbody tr th:only-of-type {\n",
       "        vertical-align: middle;\n",
       "    }\n",
       "\n",
       "    .dataframe tbody tr th {\n",
       "        vertical-align: top;\n",
       "    }\n",
       "\n",
       "    .dataframe thead th {\n",
       "        text-align: right;\n",
       "    }\n",
       "</style>\n",
       "<table border=\"1\" class=\"dataframe\">\n",
       "  <thead>\n",
       "    <tr style=\"text-align: right;\">\n",
       "      <th></th>\n",
       "      <th>0</th>\n",
       "      <th>1</th>\n",
       "      <th>2</th>\n",
       "      <th>3</th>\n",
       "    </tr>\n",
       "  </thead>\n",
       "  <tbody>\n",
       "    <tr>\n",
       "      <th>0</th>\n",
       "      <td>0.608874</td>\n",
       "      <td>-0.295739</td>\n",
       "      <td>1.042462</td>\n",
       "      <td>-0.144377</td>\n",
       "    </tr>\n",
       "    <tr>\n",
       "      <th>1</th>\n",
       "      <td>-1.122242</td>\n",
       "      <td>-0.117644</td>\n",
       "      <td>0.415494</td>\n",
       "      <td>2.089991</td>\n",
       "    </tr>\n",
       "    <tr>\n",
       "      <th>2</th>\n",
       "      <td>0.331973</td>\n",
       "      <td>0.764023</td>\n",
       "      <td>-0.855869</td>\n",
       "      <td>-0.019506</td>\n",
       "    </tr>\n",
       "    <tr>\n",
       "      <th>3</th>\n",
       "      <td>0.948393</td>\n",
       "      <td>-0.200770</td>\n",
       "      <td>1.019016</td>\n",
       "      <td>-0.431637</td>\n",
       "    </tr>\n",
       "    <tr>\n",
       "      <th>4</th>\n",
       "      <td>-0.128560</td>\n",
       "      <td>-0.051102</td>\n",
       "      <td>-0.459288</td>\n",
       "      <td>-0.094672</td>\n",
       "    </tr>\n",
       "    <tr>\n",
       "      <th>5</th>\n",
       "      <td>0.154880</td>\n",
       "      <td>1.022545</td>\n",
       "      <td>-0.270891</td>\n",
       "      <td>0.358761</td>\n",
       "    </tr>\n",
       "    <tr>\n",
       "      <th>6</th>\n",
       "      <td>-0.095041</td>\n",
       "      <td>0.351336</td>\n",
       "      <td>-0.417210</td>\n",
       "      <td>-0.594708</td>\n",
       "    </tr>\n",
       "    <tr>\n",
       "      <th>7</th>\n",
       "      <td>-1.508503</td>\n",
       "      <td>0.232908</td>\n",
       "      <td>-1.905934</td>\n",
       "      <td>-1.272292</td>\n",
       "    </tr>\n",
       "    <tr>\n",
       "      <th>8</th>\n",
       "      <td>0.171530</td>\n",
       "      <td>-0.103335</td>\n",
       "      <td>0.321266</td>\n",
       "      <td>-0.516655</td>\n",
       "    </tr>\n",
       "    <tr>\n",
       "      <th>9</th>\n",
       "      <td>-0.769405</td>\n",
       "      <td>-1.191565</td>\n",
       "      <td>0.494300</td>\n",
       "      <td>-0.825565</td>\n",
       "    </tr>\n",
       "  </tbody>\n",
       "</table>\n",
       "</div>"
      ],
      "text/plain": [
       "          0         1         2         3\n",
       "0  0.608874 -0.295739  1.042462 -0.144377\n",
       "1 -1.122242 -0.117644  0.415494  2.089991\n",
       "2  0.331973  0.764023 -0.855869 -0.019506\n",
       "3  0.948393 -0.200770  1.019016 -0.431637\n",
       "4 -0.128560 -0.051102 -0.459288 -0.094672\n",
       "5  0.154880  1.022545 -0.270891  0.358761\n",
       "6 -0.095041  0.351336 -0.417210 -0.594708\n",
       "7 -1.508503  0.232908 -1.905934 -1.272292\n",
       "8  0.171530 -0.103335  0.321266 -0.516655\n",
       "9 -0.769405 -1.191565  0.494300 -0.825565"
      ]
     },
     "execution_count": 64,
     "metadata": {},
     "output_type": "execute_result"
    }
   ],
   "source": [
    "pd.concat(pieces)"
   ]
  },
  {
   "cell_type": "markdown",
   "metadata": {},
   "source": [
    "> Adding a column to a `DataFrame` is relatively fast. However, adding a row requires a copy, and may be expensive. I recommend passing a pre-built list of records to the `DataFrame` constructor instead of building a `DataFrame` by iteratively appending records to it."
   ]
  },
  {
   "cell_type": "markdown",
   "metadata": {},
   "source": [
    "### Join"
   ]
  },
  {
   "cell_type": "markdown",
   "metadata": {},
   "source": [
    "SQL style merges."
   ]
  },
  {
   "cell_type": "code",
   "execution_count": 65,
   "metadata": {},
   "outputs": [],
   "source": [
    "left = pd.DataFrame(\n",
    "    {\n",
    "        \"keys\": [\"foo\", \"bar\"],\n",
    "        \"lval\": [1, 2]\n",
    "    }\n",
    ")\n",
    "right = pd.DataFrame(\n",
    "    {\n",
    "        \"keys\": [\"foo\", \"bar\"],\n",
    "        \"rval\": [4, 5]\n",
    "    }\n",
    ")"
   ]
  },
  {
   "cell_type": "code",
   "execution_count": 66,
   "metadata": {},
   "outputs": [
    {
     "data": {
      "text/html": [
       "<div>\n",
       "<style scoped>\n",
       "    .dataframe tbody tr th:only-of-type {\n",
       "        vertical-align: middle;\n",
       "    }\n",
       "\n",
       "    .dataframe tbody tr th {\n",
       "        vertical-align: top;\n",
       "    }\n",
       "\n",
       "    .dataframe thead th {\n",
       "        text-align: right;\n",
       "    }\n",
       "</style>\n",
       "<table border=\"1\" class=\"dataframe\">\n",
       "  <thead>\n",
       "    <tr style=\"text-align: right;\">\n",
       "      <th></th>\n",
       "      <th>keys</th>\n",
       "      <th>lval</th>\n",
       "    </tr>\n",
       "  </thead>\n",
       "  <tbody>\n",
       "    <tr>\n",
       "      <th>0</th>\n",
       "      <td>foo</td>\n",
       "      <td>1</td>\n",
       "    </tr>\n",
       "    <tr>\n",
       "      <th>1</th>\n",
       "      <td>bar</td>\n",
       "      <td>2</td>\n",
       "    </tr>\n",
       "  </tbody>\n",
       "</table>\n",
       "</div>"
      ],
      "text/plain": [
       "  keys  lval\n",
       "0  foo     1\n",
       "1  bar     2"
      ]
     },
     "execution_count": 66,
     "metadata": {},
     "output_type": "execute_result"
    }
   ],
   "source": [
    "left"
   ]
  },
  {
   "cell_type": "code",
   "execution_count": 67,
   "metadata": {},
   "outputs": [
    {
     "data": {
      "text/html": [
       "<div>\n",
       "<style scoped>\n",
       "    .dataframe tbody tr th:only-of-type {\n",
       "        vertical-align: middle;\n",
       "    }\n",
       "\n",
       "    .dataframe tbody tr th {\n",
       "        vertical-align: top;\n",
       "    }\n",
       "\n",
       "    .dataframe thead th {\n",
       "        text-align: right;\n",
       "    }\n",
       "</style>\n",
       "<table border=\"1\" class=\"dataframe\">\n",
       "  <thead>\n",
       "    <tr style=\"text-align: right;\">\n",
       "      <th></th>\n",
       "      <th>keys</th>\n",
       "      <th>rval</th>\n",
       "    </tr>\n",
       "  </thead>\n",
       "  <tbody>\n",
       "    <tr>\n",
       "      <th>0</th>\n",
       "      <td>foo</td>\n",
       "      <td>4</td>\n",
       "    </tr>\n",
       "    <tr>\n",
       "      <th>1</th>\n",
       "      <td>bar</td>\n",
       "      <td>5</td>\n",
       "    </tr>\n",
       "  </tbody>\n",
       "</table>\n",
       "</div>"
      ],
      "text/plain": [
       "  keys  rval\n",
       "0  foo     4\n",
       "1  bar     5"
      ]
     },
     "execution_count": 67,
     "metadata": {},
     "output_type": "execute_result"
    }
   ],
   "source": [
    "right"
   ]
  },
  {
   "cell_type": "code",
   "execution_count": 68,
   "metadata": {},
   "outputs": [
    {
     "data": {
      "text/html": [
       "<div>\n",
       "<style scoped>\n",
       "    .dataframe tbody tr th:only-of-type {\n",
       "        vertical-align: middle;\n",
       "    }\n",
       "\n",
       "    .dataframe tbody tr th {\n",
       "        vertical-align: top;\n",
       "    }\n",
       "\n",
       "    .dataframe thead th {\n",
       "        text-align: right;\n",
       "    }\n",
       "</style>\n",
       "<table border=\"1\" class=\"dataframe\">\n",
       "  <thead>\n",
       "    <tr style=\"text-align: right;\">\n",
       "      <th></th>\n",
       "      <th>keys</th>\n",
       "      <th>lval</th>\n",
       "      <th>rval</th>\n",
       "    </tr>\n",
       "  </thead>\n",
       "  <tbody>\n",
       "    <tr>\n",
       "      <th>0</th>\n",
       "      <td>foo</td>\n",
       "      <td>1</td>\n",
       "      <td>4</td>\n",
       "    </tr>\n",
       "    <tr>\n",
       "      <th>1</th>\n",
       "      <td>bar</td>\n",
       "      <td>2</td>\n",
       "      <td>5</td>\n",
       "    </tr>\n",
       "  </tbody>\n",
       "</table>\n",
       "</div>"
      ],
      "text/plain": [
       "  keys  lval  rval\n",
       "0  foo     1     4\n",
       "1  bar     2     5"
      ]
     },
     "execution_count": 68,
     "metadata": {},
     "output_type": "execute_result"
    }
   ],
   "source": [
    "pd.merge(left, right, on=\"keys\")"
   ]
  },
  {
   "cell_type": "markdown",
   "metadata": {},
   "source": [
    "## Grouping"
   ]
  },
  {
   "cell_type": "markdown",
   "metadata": {},
   "source": [
    "By \"grouping\" we are refering to a process involving one ore more of the following steps:\n",
    "\n",
    "- **Splitting** the data into groups based on some criteria.\n",
    "- **Applying** a function to each group independently\n",
    "- **Combining** the results into a data structure"
   ]
  },
  {
   "cell_type": "code",
   "execution_count": 69,
   "metadata": {},
   "outputs": [
    {
     "data": {
      "text/html": [
       "<div>\n",
       "<style scoped>\n",
       "    .dataframe tbody tr th:only-of-type {\n",
       "        vertical-align: middle;\n",
       "    }\n",
       "\n",
       "    .dataframe tbody tr th {\n",
       "        vertical-align: top;\n",
       "    }\n",
       "\n",
       "    .dataframe thead th {\n",
       "        text-align: right;\n",
       "    }\n",
       "</style>\n",
       "<table border=\"1\" class=\"dataframe\">\n",
       "  <thead>\n",
       "    <tr style=\"text-align: right;\">\n",
       "      <th></th>\n",
       "      <th>A</th>\n",
       "      <th>B</th>\n",
       "      <th>C</th>\n",
       "      <th>D</th>\n",
       "    </tr>\n",
       "  </thead>\n",
       "  <tbody>\n",
       "    <tr>\n",
       "      <th>0</th>\n",
       "      <td>foo</td>\n",
       "      <td>one</td>\n",
       "      <td>0.185108</td>\n",
       "      <td>0.448642</td>\n",
       "    </tr>\n",
       "    <tr>\n",
       "      <th>1</th>\n",
       "      <td>bar</td>\n",
       "      <td>one</td>\n",
       "      <td>0.356552</td>\n",
       "      <td>-0.057975</td>\n",
       "    </tr>\n",
       "    <tr>\n",
       "      <th>2</th>\n",
       "      <td>foo</td>\n",
       "      <td>two</td>\n",
       "      <td>1.064241</td>\n",
       "      <td>-0.315436</td>\n",
       "    </tr>\n",
       "    <tr>\n",
       "      <th>3</th>\n",
       "      <td>bar</td>\n",
       "      <td>three</td>\n",
       "      <td>-0.336938</td>\n",
       "      <td>-1.813477</td>\n",
       "    </tr>\n",
       "    <tr>\n",
       "      <th>4</th>\n",
       "      <td>foo</td>\n",
       "      <td>two</td>\n",
       "      <td>-0.447772</td>\n",
       "      <td>-0.821081</td>\n",
       "    </tr>\n",
       "    <tr>\n",
       "      <th>5</th>\n",
       "      <td>bar</td>\n",
       "      <td>two</td>\n",
       "      <td>0.120010</td>\n",
       "      <td>-1.558723</td>\n",
       "    </tr>\n",
       "    <tr>\n",
       "      <th>6</th>\n",
       "      <td>foo</td>\n",
       "      <td>one</td>\n",
       "      <td>-0.208676</td>\n",
       "      <td>0.067615</td>\n",
       "    </tr>\n",
       "    <tr>\n",
       "      <th>7</th>\n",
       "      <td>foo</td>\n",
       "      <td>three</td>\n",
       "      <td>1.851218</td>\n",
       "      <td>-0.542687</td>\n",
       "    </tr>\n",
       "  </tbody>\n",
       "</table>\n",
       "</div>"
      ],
      "text/plain": [
       "     A      B         C         D\n",
       "0  foo    one  0.185108  0.448642\n",
       "1  bar    one  0.356552 -0.057975\n",
       "2  foo    two  1.064241 -0.315436\n",
       "3  bar  three -0.336938 -1.813477\n",
       "4  foo    two -0.447772 -0.821081\n",
       "5  bar    two  0.120010 -1.558723\n",
       "6  foo    one -0.208676  0.067615\n",
       "7  foo  three  1.851218 -0.542687"
      ]
     },
     "execution_count": 69,
     "metadata": {},
     "output_type": "execute_result"
    }
   ],
   "source": [
    "df = pd.DataFrame(\n",
    "    {\n",
    "        \"A\": [\"foo\", \"bar\", \"foo\", \"bar\", \"foo\", \"bar\", \"foo\", \"foo\"],\n",
    "        \"B\": [\"one\", \"one\", \"two\", \"three\", \"two\", \"two\", \"one\", \"three\"],\n",
    "        \"C\": np.random.randn(8),\n",
    "        \"D\": np.random.randn(8),\n",
    "    }\n",
    ")\n",
    "df"
   ]
  },
  {
   "cell_type": "markdown",
   "metadata": {},
   "source": [
    "Grouping and then applying the `sum()` function to the resulting group."
   ]
  },
  {
   "cell_type": "code",
   "execution_count": 70,
   "metadata": {},
   "outputs": [
    {
     "data": {
      "text/html": [
       "<div>\n",
       "<style scoped>\n",
       "    .dataframe tbody tr th:only-of-type {\n",
       "        vertical-align: middle;\n",
       "    }\n",
       "\n",
       "    .dataframe tbody tr th {\n",
       "        vertical-align: top;\n",
       "    }\n",
       "\n",
       "    .dataframe thead th {\n",
       "        text-align: right;\n",
       "    }\n",
       "</style>\n",
       "<table border=\"1\" class=\"dataframe\">\n",
       "  <thead>\n",
       "    <tr style=\"text-align: right;\">\n",
       "      <th></th>\n",
       "      <th>C</th>\n",
       "      <th>D</th>\n",
       "    </tr>\n",
       "    <tr>\n",
       "      <th>A</th>\n",
       "      <th></th>\n",
       "      <th></th>\n",
       "    </tr>\n",
       "  </thead>\n",
       "  <tbody>\n",
       "    <tr>\n",
       "      <th>bar</th>\n",
       "      <td>0.139624</td>\n",
       "      <td>-3.430175</td>\n",
       "    </tr>\n",
       "    <tr>\n",
       "      <th>foo</th>\n",
       "      <td>2.444120</td>\n",
       "      <td>-1.162947</td>\n",
       "    </tr>\n",
       "  </tbody>\n",
       "</table>\n",
       "</div>"
      ],
      "text/plain": [
       "            C         D\n",
       "A                      \n",
       "bar  0.139624 -3.430175\n",
       "foo  2.444120 -1.162947"
      ]
     },
     "execution_count": 70,
     "metadata": {},
     "output_type": "execute_result"
    }
   ],
   "source": [
    "df.groupby(\"A\").sum()"
   ]
  },
  {
   "cell_type": "markdown",
   "metadata": {},
   "source": [
    "Grouping by multiple columns forms a hierarchical index, and again we can apply the `sum()` function."
   ]
  },
  {
   "cell_type": "code",
   "execution_count": 71,
   "metadata": {},
   "outputs": [
    {
     "data": {
      "text/html": [
       "<div>\n",
       "<style scoped>\n",
       "    .dataframe tbody tr th:only-of-type {\n",
       "        vertical-align: middle;\n",
       "    }\n",
       "\n",
       "    .dataframe tbody tr th {\n",
       "        vertical-align: top;\n",
       "    }\n",
       "\n",
       "    .dataframe thead th {\n",
       "        text-align: right;\n",
       "    }\n",
       "</style>\n",
       "<table border=\"1\" class=\"dataframe\">\n",
       "  <thead>\n",
       "    <tr style=\"text-align: right;\">\n",
       "      <th></th>\n",
       "      <th></th>\n",
       "      <th>C</th>\n",
       "      <th>D</th>\n",
       "    </tr>\n",
       "    <tr>\n",
       "      <th>A</th>\n",
       "      <th>B</th>\n",
       "      <th></th>\n",
       "      <th></th>\n",
       "    </tr>\n",
       "  </thead>\n",
       "  <tbody>\n",
       "    <tr>\n",
       "      <th rowspan=\"3\" valign=\"top\">bar</th>\n",
       "      <th>one</th>\n",
       "      <td>0.356552</td>\n",
       "      <td>-0.057975</td>\n",
       "    </tr>\n",
       "    <tr>\n",
       "      <th>three</th>\n",
       "      <td>-0.336938</td>\n",
       "      <td>-1.813477</td>\n",
       "    </tr>\n",
       "    <tr>\n",
       "      <th>two</th>\n",
       "      <td>0.120010</td>\n",
       "      <td>-1.558723</td>\n",
       "    </tr>\n",
       "    <tr>\n",
       "      <th rowspan=\"3\" valign=\"top\">foo</th>\n",
       "      <th>one</th>\n",
       "      <td>-0.023567</td>\n",
       "      <td>0.516257</td>\n",
       "    </tr>\n",
       "    <tr>\n",
       "      <th>three</th>\n",
       "      <td>1.851218</td>\n",
       "      <td>-0.542687</td>\n",
       "    </tr>\n",
       "    <tr>\n",
       "      <th>two</th>\n",
       "      <td>0.616469</td>\n",
       "      <td>-1.136517</td>\n",
       "    </tr>\n",
       "  </tbody>\n",
       "</table>\n",
       "</div>"
      ],
      "text/plain": [
       "                  C         D\n",
       "A   B                        \n",
       "bar one    0.356552 -0.057975\n",
       "    three -0.336938 -1.813477\n",
       "    two    0.120010 -1.558723\n",
       "foo one   -0.023567  0.516257\n",
       "    three  1.851218 -0.542687\n",
       "    two    0.616469 -1.136517"
      ]
     },
     "execution_count": 71,
     "metadata": {},
     "output_type": "execute_result"
    }
   ],
   "source": [
    "df.groupby([\"A\", \"B\"]).sum()"
   ]
  },
  {
   "cell_type": "markdown",
   "metadata": {},
   "source": [
    "## Reshaping"
   ]
  },
  {
   "cell_type": "markdown",
   "metadata": {},
   "source": [
    "### Stack"
   ]
  },
  {
   "cell_type": "code",
   "execution_count": 72,
   "metadata": {},
   "outputs": [
    {
     "data": {
      "text/html": [
       "<div>\n",
       "<style scoped>\n",
       "    .dataframe tbody tr th:only-of-type {\n",
       "        vertical-align: middle;\n",
       "    }\n",
       "\n",
       "    .dataframe tbody tr th {\n",
       "        vertical-align: top;\n",
       "    }\n",
       "\n",
       "    .dataframe thead th {\n",
       "        text-align: right;\n",
       "    }\n",
       "</style>\n",
       "<table border=\"1\" class=\"dataframe\">\n",
       "  <thead>\n",
       "    <tr style=\"text-align: right;\">\n",
       "      <th></th>\n",
       "      <th></th>\n",
       "      <th>A</th>\n",
       "      <th>B</th>\n",
       "    </tr>\n",
       "    <tr>\n",
       "      <th>first</th>\n",
       "      <th>second</th>\n",
       "      <th></th>\n",
       "      <th></th>\n",
       "    </tr>\n",
       "  </thead>\n",
       "  <tbody>\n",
       "    <tr>\n",
       "      <th rowspan=\"2\" valign=\"top\">bar</th>\n",
       "      <th>one</th>\n",
       "      <td>0.889171</td>\n",
       "      <td>-0.216110</td>\n",
       "    </tr>\n",
       "    <tr>\n",
       "      <th>two</th>\n",
       "      <td>-0.365090</td>\n",
       "      <td>0.512332</td>\n",
       "    </tr>\n",
       "    <tr>\n",
       "      <th rowspan=\"2\" valign=\"top\">baz</th>\n",
       "      <th>one</th>\n",
       "      <td>0.877687</td>\n",
       "      <td>-0.475296</td>\n",
       "    </tr>\n",
       "    <tr>\n",
       "      <th>two</th>\n",
       "      <td>-1.204370</td>\n",
       "      <td>0.268744</td>\n",
       "    </tr>\n",
       "    <tr>\n",
       "      <th rowspan=\"2\" valign=\"top\">foo</th>\n",
       "      <th>one</th>\n",
       "      <td>-1.150758</td>\n",
       "      <td>-1.381399</td>\n",
       "    </tr>\n",
       "    <tr>\n",
       "      <th>two</th>\n",
       "      <td>-2.431595</td>\n",
       "      <td>0.652907</td>\n",
       "    </tr>\n",
       "    <tr>\n",
       "      <th rowspan=\"2\" valign=\"top\">qux</th>\n",
       "      <th>one</th>\n",
       "      <td>0.176582</td>\n",
       "      <td>-0.129757</td>\n",
       "    </tr>\n",
       "    <tr>\n",
       "      <th>two</th>\n",
       "      <td>-1.450637</td>\n",
       "      <td>-1.267461</td>\n",
       "    </tr>\n",
       "  </tbody>\n",
       "</table>\n",
       "</div>"
      ],
      "text/plain": [
       "                     A         B\n",
       "first second                    \n",
       "bar   one     0.889171 -0.216110\n",
       "      two    -0.365090  0.512332\n",
       "baz   one     0.877687 -0.475296\n",
       "      two    -1.204370  0.268744\n",
       "foo   one    -1.150758 -1.381399\n",
       "      two    -2.431595  0.652907\n",
       "qux   one     0.176582 -0.129757\n",
       "      two    -1.450637 -1.267461"
      ]
     },
     "execution_count": 72,
     "metadata": {},
     "output_type": "execute_result"
    }
   ],
   "source": [
    "tuples = list(\n",
    "    zip(\n",
    "        *[\n",
    "            [\"bar\", \"bar\", \"baz\", \"baz\", \"foo\", \"foo\", \"qux\", \"qux\"],\n",
    "            [\"one\", \"two\", \"one\", \"two\", \"one\", \"two\", \"one\", \"two\"],\n",
    "        ]\n",
    "    )\n",
    ")\n",
    "index = pd.MultiIndex.from_tuples(tuples, names=[\"first\", \"second\"])\n",
    "df = pd.DataFrame(np.random.randn(8, 2), index=index, columns=[\"A\", \"B\"])\n",
    "df"
   ]
  },
  {
   "cell_type": "markdown",
   "metadata": {},
   "source": [
    "The `stack()` method \"compress\" a level in the **DataFrame's** columns."
   ]
  },
  {
   "cell_type": "code",
   "execution_count": 73,
   "metadata": {},
   "outputs": [
    {
     "data": {
      "text/html": [
       "<div>\n",
       "<style scoped>\n",
       "    .dataframe tbody tr th:only-of-type {\n",
       "        vertical-align: middle;\n",
       "    }\n",
       "\n",
       "    .dataframe tbody tr th {\n",
       "        vertical-align: top;\n",
       "    }\n",
       "\n",
       "    .dataframe thead th {\n",
       "        text-align: right;\n",
       "    }\n",
       "</style>\n",
       "<table border=\"1\" class=\"dataframe\">\n",
       "  <thead>\n",
       "    <tr style=\"text-align: right;\">\n",
       "      <th></th>\n",
       "      <th></th>\n",
       "      <th>A</th>\n",
       "      <th>B</th>\n",
       "    </tr>\n",
       "    <tr>\n",
       "      <th>first</th>\n",
       "      <th>second</th>\n",
       "      <th></th>\n",
       "      <th></th>\n",
       "    </tr>\n",
       "  </thead>\n",
       "  <tbody>\n",
       "    <tr>\n",
       "      <th rowspan=\"2\" valign=\"top\">bar</th>\n",
       "      <th>one</th>\n",
       "      <td>0.889171</td>\n",
       "      <td>-0.216110</td>\n",
       "    </tr>\n",
       "    <tr>\n",
       "      <th>two</th>\n",
       "      <td>-0.365090</td>\n",
       "      <td>0.512332</td>\n",
       "    </tr>\n",
       "    <tr>\n",
       "      <th rowspan=\"2\" valign=\"top\">baz</th>\n",
       "      <th>one</th>\n",
       "      <td>0.877687</td>\n",
       "      <td>-0.475296</td>\n",
       "    </tr>\n",
       "    <tr>\n",
       "      <th>two</th>\n",
       "      <td>-1.204370</td>\n",
       "      <td>0.268744</td>\n",
       "    </tr>\n",
       "  </tbody>\n",
       "</table>\n",
       "</div>"
      ],
      "text/plain": [
       "                     A         B\n",
       "first second                    \n",
       "bar   one     0.889171 -0.216110\n",
       "      two    -0.365090  0.512332\n",
       "baz   one     0.877687 -0.475296\n",
       "      two    -1.204370  0.268744"
      ]
     },
     "execution_count": 73,
     "metadata": {},
     "output_type": "execute_result"
    }
   ],
   "source": [
    "df2 = df[:4]\n",
    "df2"
   ]
  },
  {
   "cell_type": "code",
   "execution_count": 74,
   "metadata": {},
   "outputs": [
    {
     "data": {
      "text/plain": [
       "first  second   \n",
       "bar    one     A    0.889171\n",
       "               B   -0.216110\n",
       "       two     A   -0.365090\n",
       "               B    0.512332\n",
       "baz    one     A    0.877687\n",
       "               B   -0.475296\n",
       "       two     A   -1.204370\n",
       "               B    0.268744\n",
       "dtype: float64"
      ]
     },
     "execution_count": 74,
     "metadata": {},
     "output_type": "execute_result"
    }
   ],
   "source": [
    "stacked = df2.stack()\n",
    "stacked"
   ]
  },
  {
   "cell_type": "markdown",
   "metadata": {},
   "source": [
    "With a \"stacked\" DataFrame or Series (having a `MultiIndex` as the `Index`), the inverse operation of `stack()` is `unstack()`, which by default unstacks the **last level**."
   ]
  },
  {
   "cell_type": "code",
   "execution_count": 75,
   "metadata": {},
   "outputs": [
    {
     "data": {
      "text/html": [
       "<div>\n",
       "<style scoped>\n",
       "    .dataframe tbody tr th:only-of-type {\n",
       "        vertical-align: middle;\n",
       "    }\n",
       "\n",
       "    .dataframe tbody tr th {\n",
       "        vertical-align: top;\n",
       "    }\n",
       "\n",
       "    .dataframe thead th {\n",
       "        text-align: right;\n",
       "    }\n",
       "</style>\n",
       "<table border=\"1\" class=\"dataframe\">\n",
       "  <thead>\n",
       "    <tr style=\"text-align: right;\">\n",
       "      <th></th>\n",
       "      <th></th>\n",
       "      <th>A</th>\n",
       "      <th>B</th>\n",
       "    </tr>\n",
       "    <tr>\n",
       "      <th>first</th>\n",
       "      <th>second</th>\n",
       "      <th></th>\n",
       "      <th></th>\n",
       "    </tr>\n",
       "  </thead>\n",
       "  <tbody>\n",
       "    <tr>\n",
       "      <th rowspan=\"2\" valign=\"top\">bar</th>\n",
       "      <th>one</th>\n",
       "      <td>0.889171</td>\n",
       "      <td>-0.216110</td>\n",
       "    </tr>\n",
       "    <tr>\n",
       "      <th>two</th>\n",
       "      <td>-0.365090</td>\n",
       "      <td>0.512332</td>\n",
       "    </tr>\n",
       "    <tr>\n",
       "      <th rowspan=\"2\" valign=\"top\">baz</th>\n",
       "      <th>one</th>\n",
       "      <td>0.877687</td>\n",
       "      <td>-0.475296</td>\n",
       "    </tr>\n",
       "    <tr>\n",
       "      <th>two</th>\n",
       "      <td>-1.204370</td>\n",
       "      <td>0.268744</td>\n",
       "    </tr>\n",
       "  </tbody>\n",
       "</table>\n",
       "</div>"
      ],
      "text/plain": [
       "                     A         B\n",
       "first second                    \n",
       "bar   one     0.889171 -0.216110\n",
       "      two    -0.365090  0.512332\n",
       "baz   one     0.877687 -0.475296\n",
       "      two    -1.204370  0.268744"
      ]
     },
     "execution_count": 75,
     "metadata": {},
     "output_type": "execute_result"
    }
   ],
   "source": [
    "stacked.unstack()"
   ]
  },
  {
   "cell_type": "code",
   "execution_count": 76,
   "metadata": {},
   "outputs": [
    {
     "data": {
      "text/html": [
       "<div>\n",
       "<style scoped>\n",
       "    .dataframe tbody tr th:only-of-type {\n",
       "        vertical-align: middle;\n",
       "    }\n",
       "\n",
       "    .dataframe tbody tr th {\n",
       "        vertical-align: top;\n",
       "    }\n",
       "\n",
       "    .dataframe thead th {\n",
       "        text-align: right;\n",
       "    }\n",
       "</style>\n",
       "<table border=\"1\" class=\"dataframe\">\n",
       "  <thead>\n",
       "    <tr style=\"text-align: right;\">\n",
       "      <th></th>\n",
       "      <th>second</th>\n",
       "      <th>one</th>\n",
       "      <th>two</th>\n",
       "    </tr>\n",
       "    <tr>\n",
       "      <th>first</th>\n",
       "      <th></th>\n",
       "      <th></th>\n",
       "      <th></th>\n",
       "    </tr>\n",
       "  </thead>\n",
       "  <tbody>\n",
       "    <tr>\n",
       "      <th rowspan=\"2\" valign=\"top\">bar</th>\n",
       "      <th>A</th>\n",
       "      <td>0.889171</td>\n",
       "      <td>-0.365090</td>\n",
       "    </tr>\n",
       "    <tr>\n",
       "      <th>B</th>\n",
       "      <td>-0.216110</td>\n",
       "      <td>0.512332</td>\n",
       "    </tr>\n",
       "    <tr>\n",
       "      <th rowspan=\"2\" valign=\"top\">baz</th>\n",
       "      <th>A</th>\n",
       "      <td>0.877687</td>\n",
       "      <td>-1.204370</td>\n",
       "    </tr>\n",
       "    <tr>\n",
       "      <th>B</th>\n",
       "      <td>-0.475296</td>\n",
       "      <td>0.268744</td>\n",
       "    </tr>\n",
       "  </tbody>\n",
       "</table>\n",
       "</div>"
      ],
      "text/plain": [
       "second        one       two\n",
       "first                      \n",
       "bar   A  0.889171 -0.365090\n",
       "      B -0.216110  0.512332\n",
       "baz   A  0.877687 -1.204370\n",
       "      B -0.475296  0.268744"
      ]
     },
     "execution_count": 76,
     "metadata": {},
     "output_type": "execute_result"
    }
   ],
   "source": [
    "stacked.unstack(1)"
   ]
  },
  {
   "cell_type": "code",
   "execution_count": 77,
   "metadata": {},
   "outputs": [
    {
     "data": {
      "text/html": [
       "<div>\n",
       "<style scoped>\n",
       "    .dataframe tbody tr th:only-of-type {\n",
       "        vertical-align: middle;\n",
       "    }\n",
       "\n",
       "    .dataframe tbody tr th {\n",
       "        vertical-align: top;\n",
       "    }\n",
       "\n",
       "    .dataframe thead th {\n",
       "        text-align: right;\n",
       "    }\n",
       "</style>\n",
       "<table border=\"1\" class=\"dataframe\">\n",
       "  <thead>\n",
       "    <tr style=\"text-align: right;\">\n",
       "      <th></th>\n",
       "      <th>first</th>\n",
       "      <th>bar</th>\n",
       "      <th>baz</th>\n",
       "    </tr>\n",
       "    <tr>\n",
       "      <th>second</th>\n",
       "      <th></th>\n",
       "      <th></th>\n",
       "      <th></th>\n",
       "    </tr>\n",
       "  </thead>\n",
       "  <tbody>\n",
       "    <tr>\n",
       "      <th rowspan=\"2\" valign=\"top\">one</th>\n",
       "      <th>A</th>\n",
       "      <td>0.889171</td>\n",
       "      <td>0.877687</td>\n",
       "    </tr>\n",
       "    <tr>\n",
       "      <th>B</th>\n",
       "      <td>-0.216110</td>\n",
       "      <td>-0.475296</td>\n",
       "    </tr>\n",
       "    <tr>\n",
       "      <th rowspan=\"2\" valign=\"top\">two</th>\n",
       "      <th>A</th>\n",
       "      <td>-0.365090</td>\n",
       "      <td>-1.204370</td>\n",
       "    </tr>\n",
       "    <tr>\n",
       "      <th>B</th>\n",
       "      <td>0.512332</td>\n",
       "      <td>0.268744</td>\n",
       "    </tr>\n",
       "  </tbody>\n",
       "</table>\n",
       "</div>"
      ],
      "text/plain": [
       "first          bar       baz\n",
       "second                      \n",
       "one    A  0.889171  0.877687\n",
       "       B -0.216110 -0.475296\n",
       "two    A -0.365090 -1.204370\n",
       "       B  0.512332  0.268744"
      ]
     },
     "execution_count": 77,
     "metadata": {},
     "output_type": "execute_result"
    }
   ],
   "source": [
    "stacked.unstack(0)"
   ]
  },
  {
   "cell_type": "markdown",
   "metadata": {},
   "source": [
    "## Pivot tables"
   ]
  },
  {
   "cell_type": "code",
   "execution_count": 78,
   "metadata": {},
   "outputs": [
    {
     "data": {
      "text/html": [
       "<div>\n",
       "<style scoped>\n",
       "    .dataframe tbody tr th:only-of-type {\n",
       "        vertical-align: middle;\n",
       "    }\n",
       "\n",
       "    .dataframe tbody tr th {\n",
       "        vertical-align: top;\n",
       "    }\n",
       "\n",
       "    .dataframe thead th {\n",
       "        text-align: right;\n",
       "    }\n",
       "</style>\n",
       "<table border=\"1\" class=\"dataframe\">\n",
       "  <thead>\n",
       "    <tr style=\"text-align: right;\">\n",
       "      <th></th>\n",
       "      <th>A</th>\n",
       "      <th>B</th>\n",
       "      <th>C</th>\n",
       "      <th>D</th>\n",
       "      <th>E</th>\n",
       "    </tr>\n",
       "  </thead>\n",
       "  <tbody>\n",
       "    <tr>\n",
       "      <th>0</th>\n",
       "      <td>one</td>\n",
       "      <td>A</td>\n",
       "      <td>foo</td>\n",
       "      <td>0.418111</td>\n",
       "      <td>-0.172354</td>\n",
       "    </tr>\n",
       "    <tr>\n",
       "      <th>1</th>\n",
       "      <td>one</td>\n",
       "      <td>B</td>\n",
       "      <td>foo</td>\n",
       "      <td>0.813615</td>\n",
       "      <td>-0.387821</td>\n",
       "    </tr>\n",
       "    <tr>\n",
       "      <th>2</th>\n",
       "      <td>two</td>\n",
       "      <td>C</td>\n",
       "      <td>foo</td>\n",
       "      <td>-1.181350</td>\n",
       "      <td>-0.562904</td>\n",
       "    </tr>\n",
       "    <tr>\n",
       "      <th>3</th>\n",
       "      <td>three</td>\n",
       "      <td>A</td>\n",
       "      <td>bar</td>\n",
       "      <td>0.202245</td>\n",
       "      <td>-0.989492</td>\n",
       "    </tr>\n",
       "    <tr>\n",
       "      <th>4</th>\n",
       "      <td>one</td>\n",
       "      <td>B</td>\n",
       "      <td>bar</td>\n",
       "      <td>1.258790</td>\n",
       "      <td>-0.761319</td>\n",
       "    </tr>\n",
       "    <tr>\n",
       "      <th>5</th>\n",
       "      <td>one</td>\n",
       "      <td>C</td>\n",
       "      <td>bar</td>\n",
       "      <td>-0.668076</td>\n",
       "      <td>-0.391269</td>\n",
       "    </tr>\n",
       "    <tr>\n",
       "      <th>6</th>\n",
       "      <td>two</td>\n",
       "      <td>A</td>\n",
       "      <td>foo</td>\n",
       "      <td>1.047215</td>\n",
       "      <td>-0.184055</td>\n",
       "    </tr>\n",
       "    <tr>\n",
       "      <th>7</th>\n",
       "      <td>three</td>\n",
       "      <td>B</td>\n",
       "      <td>foo</td>\n",
       "      <td>-0.614525</td>\n",
       "      <td>-0.799499</td>\n",
       "    </tr>\n",
       "    <tr>\n",
       "      <th>8</th>\n",
       "      <td>one</td>\n",
       "      <td>C</td>\n",
       "      <td>foo</td>\n",
       "      <td>0.855003</td>\n",
       "      <td>-1.361845</td>\n",
       "    </tr>\n",
       "    <tr>\n",
       "      <th>9</th>\n",
       "      <td>one</td>\n",
       "      <td>A</td>\n",
       "      <td>bar</td>\n",
       "      <td>1.239553</td>\n",
       "      <td>1.156581</td>\n",
       "    </tr>\n",
       "    <tr>\n",
       "      <th>10</th>\n",
       "      <td>two</td>\n",
       "      <td>B</td>\n",
       "      <td>bar</td>\n",
       "      <td>1.050113</td>\n",
       "      <td>-1.395087</td>\n",
       "    </tr>\n",
       "    <tr>\n",
       "      <th>11</th>\n",
       "      <td>three</td>\n",
       "      <td>C</td>\n",
       "      <td>bar</td>\n",
       "      <td>0.567421</td>\n",
       "      <td>0.601950</td>\n",
       "    </tr>\n",
       "  </tbody>\n",
       "</table>\n",
       "</div>"
      ],
      "text/plain": [
       "        A  B    C         D         E\n",
       "0     one  A  foo  0.418111 -0.172354\n",
       "1     one  B  foo  0.813615 -0.387821\n",
       "2     two  C  foo -1.181350 -0.562904\n",
       "3   three  A  bar  0.202245 -0.989492\n",
       "4     one  B  bar  1.258790 -0.761319\n",
       "5     one  C  bar -0.668076 -0.391269\n",
       "6     two  A  foo  1.047215 -0.184055\n",
       "7   three  B  foo -0.614525 -0.799499\n",
       "8     one  C  foo  0.855003 -1.361845\n",
       "9     one  A  bar  1.239553  1.156581\n",
       "10    two  B  bar  1.050113 -1.395087\n",
       "11  three  C  bar  0.567421  0.601950"
      ]
     },
     "execution_count": 78,
     "metadata": {},
     "output_type": "execute_result"
    }
   ],
   "source": [
    "df = pd.DataFrame(\n",
    "    {\n",
    "        \"A\": [\"one\", \"one\", \"two\", \"three\"] * 3,\n",
    "        \"B\": [\"A\", \"B\", \"C\"] * 4,\n",
    "        \"C\": [\"foo\", \"foo\", \"foo\", \"bar\", \"bar\", \"bar\"] * 2,\n",
    "        \"D\": np.random.randn(12),\n",
    "        \"E\": np.random.randn(12),\n",
    "    }\n",
    ")\n",
    "\n",
    "df"
   ]
  },
  {
   "cell_type": "markdown",
   "metadata": {},
   "source": [
    "We can produce pivot tables from this data very easily."
   ]
  },
  {
   "cell_type": "code",
   "execution_count": 79,
   "metadata": {},
   "outputs": [
    {
     "data": {
      "text/html": [
       "<div>\n",
       "<style scoped>\n",
       "    .dataframe tbody tr th:only-of-type {\n",
       "        vertical-align: middle;\n",
       "    }\n",
       "\n",
       "    .dataframe tbody tr th {\n",
       "        vertical-align: top;\n",
       "    }\n",
       "\n",
       "    .dataframe thead th {\n",
       "        text-align: right;\n",
       "    }\n",
       "</style>\n",
       "<table border=\"1\" class=\"dataframe\">\n",
       "  <thead>\n",
       "    <tr style=\"text-align: right;\">\n",
       "      <th></th>\n",
       "      <th>C</th>\n",
       "      <th>bar</th>\n",
       "      <th>foo</th>\n",
       "    </tr>\n",
       "    <tr>\n",
       "      <th>A</th>\n",
       "      <th>B</th>\n",
       "      <th></th>\n",
       "      <th></th>\n",
       "    </tr>\n",
       "  </thead>\n",
       "  <tbody>\n",
       "    <tr>\n",
       "      <th rowspan=\"3\" valign=\"top\">one</th>\n",
       "      <th>A</th>\n",
       "      <td>1.239553</td>\n",
       "      <td>0.418111</td>\n",
       "    </tr>\n",
       "    <tr>\n",
       "      <th>B</th>\n",
       "      <td>1.258790</td>\n",
       "      <td>0.813615</td>\n",
       "    </tr>\n",
       "    <tr>\n",
       "      <th>C</th>\n",
       "      <td>-0.668076</td>\n",
       "      <td>0.855003</td>\n",
       "    </tr>\n",
       "    <tr>\n",
       "      <th rowspan=\"3\" valign=\"top\">three</th>\n",
       "      <th>A</th>\n",
       "      <td>0.202245</td>\n",
       "      <td>NaN</td>\n",
       "    </tr>\n",
       "    <tr>\n",
       "      <th>B</th>\n",
       "      <td>NaN</td>\n",
       "      <td>-0.614525</td>\n",
       "    </tr>\n",
       "    <tr>\n",
       "      <th>C</th>\n",
       "      <td>0.567421</td>\n",
       "      <td>NaN</td>\n",
       "    </tr>\n",
       "    <tr>\n",
       "      <th rowspan=\"3\" valign=\"top\">two</th>\n",
       "      <th>A</th>\n",
       "      <td>NaN</td>\n",
       "      <td>1.047215</td>\n",
       "    </tr>\n",
       "    <tr>\n",
       "      <th>B</th>\n",
       "      <td>1.050113</td>\n",
       "      <td>NaN</td>\n",
       "    </tr>\n",
       "    <tr>\n",
       "      <th>C</th>\n",
       "      <td>NaN</td>\n",
       "      <td>-1.181350</td>\n",
       "    </tr>\n",
       "  </tbody>\n",
       "</table>\n",
       "</div>"
      ],
      "text/plain": [
       "C             bar       foo\n",
       "A     B                    \n",
       "one   A  1.239553  0.418111\n",
       "      B  1.258790  0.813615\n",
       "      C -0.668076  0.855003\n",
       "three A  0.202245       NaN\n",
       "      B       NaN -0.614525\n",
       "      C  0.567421       NaN\n",
       "two   A       NaN  1.047215\n",
       "      B  1.050113       NaN\n",
       "      C       NaN -1.181350"
      ]
     },
     "execution_count": 79,
     "metadata": {},
     "output_type": "execute_result"
    }
   ],
   "source": [
    "pd.pivot_table(df, values=\"D\", index=[\"A\", \"B\"], columns=\"C\")"
   ]
  },
  {
   "cell_type": "markdown",
   "metadata": {},
   "source": [
    "## Time series"
   ]
  },
  {
   "cell_type": "markdown",
   "metadata": {},
   "source": [
    "`Pandas` has simple, powerful, and efficient functionality for performing resampling operations during frequency conversion (e.g., converting secondly data into 5-minutely data). This is extremely common in, but not limited to, financial applications."
   ]
  },
  {
   "cell_type": "code",
   "execution_count": 80,
   "metadata": {},
   "outputs": [
    {
     "data": {
      "text/plain": [
       "2022-01-01 00:00:00    474\n",
       "2022-01-01 00:00:01     98\n",
       "2022-01-01 00:00:02    335\n",
       "2022-01-01 00:00:03    418\n",
       "2022-01-01 00:00:04    197\n",
       "                      ... \n",
       "2022-01-01 00:01:35    147\n",
       "2022-01-01 00:01:36    432\n",
       "2022-01-01 00:01:37    249\n",
       "2022-01-01 00:01:38    461\n",
       "2022-01-01 00:01:39    253\n",
       "Freq: S, Length: 100, dtype: int32"
      ]
     },
     "execution_count": 80,
     "metadata": {},
     "output_type": "execute_result"
    }
   ],
   "source": [
    "rng = pd.date_range(\"1/1/2022\", periods=100, freq=\"S\")\n",
    "ts = pd.Series(np.random.randint(0, 500, len(rng)), index=rng)\n",
    "ts"
   ]
  },
  {
   "cell_type": "code",
   "execution_count": 81,
   "metadata": {},
   "outputs": [
    {
     "data": {
      "text/plain": [
       "2022-01-01    25745\n",
       "Freq: 5T, dtype: int32"
      ]
     },
     "execution_count": 81,
     "metadata": {},
     "output_type": "execute_result"
    }
   ],
   "source": [
    "ts.resample(\"5Min\").sum()"
   ]
  },
  {
   "cell_type": "markdown",
   "metadata": {},
   "source": [
    "Time zone representation"
   ]
  },
  {
   "cell_type": "code",
   "execution_count": 82,
   "metadata": {},
   "outputs": [
    {
     "data": {
      "text/plain": [
       "2022-01-01    2.701669\n",
       "2022-01-02   -0.687032\n",
       "2022-01-03   -0.277675\n",
       "2022-01-04    0.654908\n",
       "2022-01-05    0.895077\n",
       "Freq: D, dtype: float64"
      ]
     },
     "execution_count": 82,
     "metadata": {},
     "output_type": "execute_result"
    }
   ],
   "source": [
    "rng = pd.date_range(\"1/1/2022 00:00\", periods=5, freq=\"D\")\n",
    "ts = pd.Series(np.random.randn(len(rng)), rng)\n",
    "ts"
   ]
  },
  {
   "cell_type": "code",
   "execution_count": 83,
   "metadata": {},
   "outputs": [
    {
     "data": {
      "text/plain": [
       "2022-01-01 00:00:00+00:00    2.701669\n",
       "2022-01-02 00:00:00+00:00   -0.687032\n",
       "2022-01-03 00:00:00+00:00   -0.277675\n",
       "2022-01-04 00:00:00+00:00    0.654908\n",
       "2022-01-05 00:00:00+00:00    0.895077\n",
       "Freq: D, dtype: float64"
      ]
     },
     "execution_count": 83,
     "metadata": {},
     "output_type": "execute_result"
    }
   ],
   "source": [
    "ts_utc = ts.tz_localize(\"UTC\")\n",
    "ts_utc"
   ]
  },
  {
   "cell_type": "markdown",
   "metadata": {},
   "source": [
    "Converting to another time zone."
   ]
  },
  {
   "cell_type": "code",
   "execution_count": 84,
   "metadata": {},
   "outputs": [
    {
     "data": {
      "text/plain": [
       "2021-12-31 19:00:00-05:00    2.701669\n",
       "2022-01-01 19:00:00-05:00   -0.687032\n",
       "2022-01-02 19:00:00-05:00   -0.277675\n",
       "2022-01-03 19:00:00-05:00    0.654908\n",
       "2022-01-04 19:00:00-05:00    0.895077\n",
       "Freq: D, dtype: float64"
      ]
     },
     "execution_count": 84,
     "metadata": {},
     "output_type": "execute_result"
    }
   ],
   "source": [
    "ts_utc.tz_convert(\"US/Eastern\")"
   ]
  },
  {
   "cell_type": "markdown",
   "metadata": {},
   "source": [
    "Converting between time span representations."
   ]
  },
  {
   "cell_type": "code",
   "execution_count": 85,
   "metadata": {},
   "outputs": [
    {
     "data": {
      "text/plain": [
       "2022-01-31    0.399960\n",
       "2022-02-28    0.571664\n",
       "2022-03-31    0.518811\n",
       "2022-04-30   -0.362813\n",
       "2022-05-31   -1.017430\n",
       "Freq: M, dtype: float64"
      ]
     },
     "execution_count": 85,
     "metadata": {},
     "output_type": "execute_result"
    }
   ],
   "source": [
    "rng = pd.date_range(\"1/1/2022\", periods=5, freq=\"M\")\n",
    "ts = pd.Series(np.random.randn(len(rng)), index=rng)\n",
    "ts"
   ]
  },
  {
   "cell_type": "code",
   "execution_count": 86,
   "metadata": {},
   "outputs": [
    {
     "data": {
      "text/plain": [
       "2022-01    0.399960\n",
       "2022-02    0.571664\n",
       "2022-03    0.518811\n",
       "2022-04   -0.362813\n",
       "2022-05   -1.017430\n",
       "Freq: M, dtype: float64"
      ]
     },
     "execution_count": 86,
     "metadata": {},
     "output_type": "execute_result"
    }
   ],
   "source": [
    "ps = ts.to_period()\n",
    "ps"
   ]
  },
  {
   "cell_type": "code",
   "execution_count": 87,
   "metadata": {},
   "outputs": [
    {
     "data": {
      "text/plain": [
       "2022-01-01    0.399960\n",
       "2022-02-01    0.571664\n",
       "2022-03-01    0.518811\n",
       "2022-04-01   -0.362813\n",
       "2022-05-01   -1.017430\n",
       "Freq: MS, dtype: float64"
      ]
     },
     "execution_count": 87,
     "metadata": {},
     "output_type": "execute_result"
    }
   ],
   "source": [
    "ps.to_timestamp()"
   ]
  },
  {
   "cell_type": "markdown",
   "metadata": {},
   "source": [
    "Converting between period and timestamp enables some convenients arithmetic functions to be used. In the following example, I convert a quarterly frequency with year ending in November to 9am of the end of the month following the quarter end."
   ]
  },
  {
   "cell_type": "code",
   "execution_count": 88,
   "metadata": {},
   "outputs": [
    {
     "data": {
      "text/plain": [
       "1990-03-01 09:00    1.802292\n",
       "1990-06-01 09:00    0.212232\n",
       "1990-09-01 09:00    0.884692\n",
       "1990-12-01 09:00   -0.282546\n",
       "1991-03-01 09:00   -1.770092\n",
       "Freq: H, dtype: float64"
      ]
     },
     "execution_count": 88,
     "metadata": {},
     "output_type": "execute_result"
    }
   ],
   "source": [
    "prng = pd.period_range(\"1990Q1\", \"2000Q4\", freq=\"Q-NOV\")\n",
    "ts = pd.Series(np.random.randn(len(prng)), prng)\n",
    "ts.index = (prng.asfreq(\"M\", \"e\") + 1).asfreq(\"H\", \"s\") + 9\n",
    "ts.head()"
   ]
  },
  {
   "cell_type": "markdown",
   "metadata": {},
   "source": [
    "## Categoricals"
   ]
  },
  {
   "cell_type": "markdown",
   "metadata": {},
   "source": [
    "`Pandas` can include categorical data in a **DataFrame**."
   ]
  },
  {
   "cell_type": "code",
   "execution_count": 89,
   "metadata": {},
   "outputs": [],
   "source": [
    "df = pd.DataFrame(\n",
    "    {\n",
    "        \"id\": list(range(1, 7, 1)),\n",
    "        \"raw_grade\": [\"a\", \"a\", \"b\", \"a\", \"a\", \"e\"],\n",
    "    }\n",
    ")"
   ]
  },
  {
   "cell_type": "markdown",
   "metadata": {},
   "source": [
    "Converting the grades to a categorical data type."
   ]
  },
  {
   "cell_type": "code",
   "execution_count": 90,
   "metadata": {},
   "outputs": [
    {
     "data": {
      "text/plain": [
       "0    a\n",
       "1    a\n",
       "2    b\n",
       "3    a\n",
       "4    a\n",
       "5    e\n",
       "Name: grade, dtype: category\n",
       "Categories (3, object): ['a', 'b', 'e']"
      ]
     },
     "execution_count": 90,
     "metadata": {},
     "output_type": "execute_result"
    }
   ],
   "source": [
    "df[\"grade\"] = df[\"raw_grade\"].astype(\"category\")\n",
    "df[\"grade\"]"
   ]
  },
  {
   "cell_type": "markdown",
   "metadata": {},
   "source": [
    "Rename the categories to more meaningful names (assigning to `Series.cat.categories()` is in place!)."
   ]
  },
  {
   "cell_type": "code",
   "execution_count": 91,
   "metadata": {},
   "outputs": [
    {
     "data": {
      "text/plain": [
       "0    very good\n",
       "1    very good\n",
       "2         good\n",
       "3    very good\n",
       "4    very good\n",
       "5     very bad\n",
       "Name: grade, dtype: category\n",
       "Categories (3, object): ['very good', 'good', 'very bad']"
      ]
     },
     "execution_count": 91,
     "metadata": {},
     "output_type": "execute_result"
    }
   ],
   "source": [
    "df[\"grade\"].cat.categories = [\"very good\", \"good\", \"very bad\"]\n",
    "df[\"grade\"]"
   ]
  },
  {
   "cell_type": "markdown",
   "metadata": {},
   "source": [
    "Reorder the categories and simultaneously add the missing categories (methods under `Series.cat()` return a new `Series` by default)."
   ]
  },
  {
   "cell_type": "code",
   "execution_count": 92,
   "metadata": {},
   "outputs": [
    {
     "data": {
      "text/plain": [
       "0    very good\n",
       "1    very good\n",
       "2         good\n",
       "3    very good\n",
       "4    very good\n",
       "5     very bad\n",
       "Name: grade, dtype: category\n",
       "Categories (5, object): ['very bad', 'bad', 'medium', 'good', 'very good']"
      ]
     },
     "execution_count": 92,
     "metadata": {},
     "output_type": "execute_result"
    }
   ],
   "source": [
    "df[\"grade\"] = df[\"grade\"].cat.set_categories(\n",
    "    [\"very bad\", \"bad\", \"medium\", \"good\", \"very good\"]\n",
    ")\n",
    "df[\"grade\"]"
   ]
  },
  {
   "cell_type": "markdown",
   "metadata": {},
   "source": [
    "Sorting in per order in the categories, not lexical order."
   ]
  },
  {
   "cell_type": "code",
   "execution_count": 93,
   "metadata": {},
   "outputs": [
    {
     "data": {
      "text/html": [
       "<div>\n",
       "<style scoped>\n",
       "    .dataframe tbody tr th:only-of-type {\n",
       "        vertical-align: middle;\n",
       "    }\n",
       "\n",
       "    .dataframe tbody tr th {\n",
       "        vertical-align: top;\n",
       "    }\n",
       "\n",
       "    .dataframe thead th {\n",
       "        text-align: right;\n",
       "    }\n",
       "</style>\n",
       "<table border=\"1\" class=\"dataframe\">\n",
       "  <thead>\n",
       "    <tr style=\"text-align: right;\">\n",
       "      <th></th>\n",
       "      <th>id</th>\n",
       "      <th>raw_grade</th>\n",
       "      <th>grade</th>\n",
       "    </tr>\n",
       "  </thead>\n",
       "  <tbody>\n",
       "    <tr>\n",
       "      <th>0</th>\n",
       "      <td>1</td>\n",
       "      <td>a</td>\n",
       "      <td>very good</td>\n",
       "    </tr>\n",
       "    <tr>\n",
       "      <th>1</th>\n",
       "      <td>2</td>\n",
       "      <td>a</td>\n",
       "      <td>very good</td>\n",
       "    </tr>\n",
       "    <tr>\n",
       "      <th>3</th>\n",
       "      <td>4</td>\n",
       "      <td>a</td>\n",
       "      <td>very good</td>\n",
       "    </tr>\n",
       "    <tr>\n",
       "      <th>4</th>\n",
       "      <td>5</td>\n",
       "      <td>a</td>\n",
       "      <td>very good</td>\n",
       "    </tr>\n",
       "    <tr>\n",
       "      <th>2</th>\n",
       "      <td>3</td>\n",
       "      <td>b</td>\n",
       "      <td>good</td>\n",
       "    </tr>\n",
       "    <tr>\n",
       "      <th>5</th>\n",
       "      <td>6</td>\n",
       "      <td>e</td>\n",
       "      <td>very bad</td>\n",
       "    </tr>\n",
       "  </tbody>\n",
       "</table>\n",
       "</div>"
      ],
      "text/plain": [
       "   id raw_grade      grade\n",
       "0   1         a  very good\n",
       "1   2         a  very good\n",
       "3   4         a  very good\n",
       "4   5         a  very good\n",
       "2   3         b       good\n",
       "5   6         e   very bad"
      ]
     },
     "execution_count": 93,
     "metadata": {},
     "output_type": "execute_result"
    }
   ],
   "source": [
    "df.sort_values(by=\"grade\", ascending=False)"
   ]
  },
  {
   "cell_type": "markdown",
   "metadata": {},
   "source": [
    "Grouping by a categorical column also shows empty categories."
   ]
  },
  {
   "cell_type": "code",
   "execution_count": 94,
   "metadata": {},
   "outputs": [
    {
     "data": {
      "text/plain": [
       "grade\n",
       "very bad     1\n",
       "bad          0\n",
       "medium       0\n",
       "good         1\n",
       "very good    4\n",
       "dtype: int64"
      ]
     },
     "execution_count": 94,
     "metadata": {},
     "output_type": "execute_result"
    }
   ],
   "source": [
    "df.groupby(\"grade\").size()"
   ]
  },
  {
   "cell_type": "markdown",
   "metadata": {},
   "source": [
    "## Plotting"
   ]
  },
  {
   "cell_type": "markdown",
   "metadata": {},
   "source": [
    "We use the standard convention for referencing the matplotlib API."
   ]
  },
  {
   "cell_type": "code",
   "execution_count": 95,
   "metadata": {},
   "outputs": [],
   "source": [
    "import matplotlib.pyplot as plt\n",
    "plt.close(\"all\")"
   ]
  },
  {
   "cell_type": "markdown",
   "metadata": {},
   "source": [
    "The `close()` method is used to close a figure window."
   ]
  },
  {
   "cell_type": "code",
   "execution_count": 96,
   "metadata": {},
   "outputs": [
    {
     "data": {
      "text/plain": [
       "<AxesSubplot:>"
      ]
     },
     "execution_count": 96,
     "metadata": {},
     "output_type": "execute_result"
    },
    {
     "data": {
      "image/png": "[encoded data removed]",
      "image/svg+xml": "<?xml version=\"1.0\" encoding=\"utf-8\" standalone=\"no\"?>\n<!DOCTYPE svg PUBLIC \"-//W3C//DTD SVG 1.1//EN\"\n  \"http://www.w3.org/Graphics/SVG/1.1/DTD/svg11.dtd\">\n<svg xmlns:xlink=\"http://www.w3.org/1999/xlink\" width=\"370.942188pt\" height=\"259.715937pt\" viewBox=\"0 0 370.942188 259.715937\" xmlns=\"http://www.w3.org/2000/svg\" version=\"1.1\">\n <metadata>\n  <rdf:RDF xmlns:dc=\"http://purl.org/dc/elements/1.1/\" xmlns:cc=\"http://creativecommons.org/ns#\" xmlns:rdf=\"http://www.w3.org/1999/02/22-rdf-syntax-ns#\">\n   <cc:Work>\n    <dc:type rdf:resource=\"http://purl.org/dc/dcmitype/StillImage\"/>\n    <dc:date>2022-05-11T08:32:18.859501</dc:date>\n    <dc:format>image/svg+xml</dc:format>\n    <dc:creator>\n     <cc:Agent>\n      <dc:title>Matplotlib v3.5.1, https://matplotlib.org/</dc:title>\n     </cc:Agent>\n    </dc:creator>\n   </cc:Work>\n  </rdf:RDF>\n </metadata>\n <defs>\n  <style type=\"text/css\">*{stroke-linejoin: round; stroke-linecap: butt}</style>\n </defs>\n <g id=\"figure_1\">\n  <g id=\"patch_1\">\n   <path d=\"M 0 259.715937 \nL 370.942188 259.715937 \nL 370.942188 0 \nL 0 0 \nL 0 259.715937 \nz\n\" style=\"fill: none\"/>\n  </g>\n  <g id=\"axes_1\">\n   <g id=\"patch_2\">\n    <path d=\"M 28.942188 224.64 \nL 363.742188 224.64 \nL 363.742188 7.2 \nL 28.942188 7.2 \nz\n\" style=\"fill: #ffffff\"/>\n   </g>\n   <g id=\"matplotlib.axis_1\">\n    <g id=\"xtick_1\">\n     <g id=\"line2d_1\">\n      <defs>\n       <path id=\"me95153045b\" d=\"M 0 0 \nL 0 3.5 \n\" style=\"stroke: #000000; stroke-width: 0.8\"/>\n      </defs>\n      <g>\n       <use xlink:href=\"#me95153045b\" x=\"28.942187\" y=\"224.64\" style=\"stroke: #000000; stroke-width: 0.8\"/>\n      </g>\n     </g>\n     <g id=\"text_1\">\n      <!-- Jan -->\n      <g transform=\"translate(21.234375 239.238438)scale(0.1 -0.1)\">\n       <defs>\n        <path id=\"DejaVuSans-4a\" d=\"M 628 4666 \nL 1259 4666 \nL 1259 325 \nQ 1259 -519 939 -900 \nQ 619 -1281 -91 -1281 \nL -331 -1281 \nL -331 -750 \nL -134 -750 \nQ 284 -750 456 -515 \nQ 628 -281 628 325 \nL 628 4666 \nz\n\" transform=\"scale(0.015625)\"/>\n        <path id=\"DejaVuSans-61\" d=\"M 2194 1759 \nQ 1497 1759 1228 1600 \nQ 959 1441 959 1056 \nQ 959 750 1161 570 \nQ 1363 391 1709 391 \nQ 2188 391 2477 730 \nQ 2766 1069 2766 1631 \nL 2766 1759 \nL 2194 1759 \nz\nM 3341 1997 \nL 3341 0 \nL 2766 0 \nL 2766 531 \nQ 2569 213 2275 61 \nQ 1981 -91 1556 -91 \nQ 1019 -91 701 211 \nQ 384 513 384 1019 \nQ 384 1609 779 1909 \nQ 1175 2209 1959 2209 \nL 2766 2209 \nL 2766 2266 \nQ 2766 2663 2505 2880 \nQ 2244 3097 1772 3097 \nQ 1472 3097 1187 3025 \nQ 903 2953 641 2809 \nL 641 3341 \nQ 956 3463 1253 3523 \nQ 1550 3584 1831 3584 \nQ 2591 3584 2966 3190 \nQ 3341 2797 3341 1997 \nz\n\" transform=\"scale(0.015625)\"/>\n        <path id=\"DejaVuSans-6e\" d=\"M 3513 2113 \nL 3513 0 \nL 2938 0 \nL 2938 2094 \nQ 2938 2591 2744 2837 \nQ 2550 3084 2163 3084 \nQ 1697 3084 1428 2787 \nQ 1159 2491 1159 1978 \nL 1159 0 \nL 581 0 \nL 581 3500 \nL 1159 3500 \nL 1159 2956 \nQ 1366 3272 1645 3428 \nQ 1925 3584 2291 3584 \nQ 2894 3584 3203 3211 \nQ 3513 2838 3513 2113 \nz\n\" transform=\"scale(0.015625)\"/>\n       </defs>\n       <use xlink:href=\"#DejaVuSans-4a\"/>\n       <use xlink:href=\"#DejaVuSans-61\" x=\"29.492188\"/>\n       <use xlink:href=\"#DejaVuSans-6e\" x=\"90.771484\"/>\n      </g>\n      <!-- 2022 -->\n      <g transform=\"translate(16.217187 250.43625)scale(0.1 -0.1)\">\n       <defs>\n        <path id=\"DejaVuSans-32\" d=\"M 1228 531 \nL 3431 531 \nL 3431 0 \nL 469 0 \nL 469 531 \nQ 828 903 1448 1529 \nQ 2069 2156 2228 2338 \nQ 2531 2678 2651 2914 \nQ 2772 3150 2772 3378 \nQ 2772 3750 2511 3984 \nQ 2250 4219 1831 4219 \nQ 1534 4219 1204 4116 \nQ 875 4013 500 3803 \nL 500 4441 \nQ 881 4594 1212 4672 \nQ 1544 4750 1819 4750 \nQ 2544 4750 2975 4387 \nQ 3406 4025 3406 3419 \nQ 3406 3131 3298 2873 \nQ 3191 2616 2906 2266 \nQ 2828 2175 2409 1742 \nQ 1991 1309 1228 531 \nz\n\" transform=\"scale(0.015625)\"/>\n        <path id=\"DejaVuSans-30\" d=\"M 2034 4250 \nQ 1547 4250 1301 3770 \nQ 1056 3291 1056 2328 \nQ 1056 1369 1301 889 \nQ 1547 409 2034 409 \nQ 2525 409 2770 889 \nQ 3016 1369 3016 2328 \nQ 3016 3291 2770 3770 \nQ 2525 4250 2034 4250 \nz\nM 2034 4750 \nQ 2819 4750 3233 4129 \nQ 3647 3509 3647 2328 \nQ 3647 1150 3233 529 \nQ 2819 -91 2034 -91 \nQ 1250 -91 836 529 \nQ 422 1150 422 2328 \nQ 422 3509 836 4129 \nQ 1250 4750 2034 4750 \nz\n\" transform=\"scale(0.015625)\"/>\n       </defs>\n       <use xlink:href=\"#DejaVuSans-32\"/>\n       <use xlink:href=\"#DejaVuSans-30\" x=\"63.623047\"/>\n       <use xlink:href=\"#DejaVuSans-32\" x=\"127.246094\"/>\n       <use xlink:href=\"#DejaVuSans-32\" x=\"190.869141\"/>\n      </g>\n     </g>\n    </g>\n    <g id=\"xtick_2\">\n     <g id=\"line2d_2\">\n      <g>\n       <use xlink:href=\"#me95153045b\" x=\"151.266512\" y=\"224.64\" style=\"stroke: #000000; stroke-width: 0.8\"/>\n      </g>\n     </g>\n     <g id=\"text_2\">\n      <!-- Jan -->\n      <g transform=\"translate(143.558699 239.238438)scale(0.1 -0.1)\">\n       <use xlink:href=\"#DejaVuSans-4a\"/>\n       <use xlink:href=\"#DejaVuSans-61\" x=\"29.492188\"/>\n       <use xlink:href=\"#DejaVuSans-6e\" x=\"90.771484\"/>\n      </g>\n      <!-- 2023 -->\n      <g transform=\"translate(138.541512 250.43625)scale(0.1 -0.1)\">\n       <defs>\n        <path id=\"DejaVuSans-33\" d=\"M 2597 2516 \nQ 3050 2419 3304 2112 \nQ 3559 1806 3559 1356 \nQ 3559 666 3084 287 \nQ 2609 -91 1734 -91 \nQ 1441 -91 1130 -33 \nQ 819 25 488 141 \nL 488 750 \nQ 750 597 1062 519 \nQ 1375 441 1716 441 \nQ 2309 441 2620 675 \nQ 2931 909 2931 1356 \nQ 2931 1769 2642 2001 \nQ 2353 2234 1838 2234 \nL 1294 2234 \nL 1294 2753 \nL 1863 2753 \nQ 2328 2753 2575 2939 \nQ 2822 3125 2822 3475 \nQ 2822 3834 2567 4026 \nQ 2313 4219 1838 4219 \nQ 1578 4219 1281 4162 \nQ 984 4106 628 3988 \nL 628 4550 \nQ 988 4650 1302 4700 \nQ 1616 4750 1894 4750 \nQ 2613 4750 3031 4423 \nQ 3450 4097 3450 3541 \nQ 3450 3153 3228 2886 \nQ 3006 2619 2597 2516 \nz\n\" transform=\"scale(0.015625)\"/>\n       </defs>\n       <use xlink:href=\"#DejaVuSans-32\"/>\n       <use xlink:href=\"#DejaVuSans-30\" x=\"63.623047\"/>\n       <use xlink:href=\"#DejaVuSans-32\" x=\"127.246094\"/>\n       <use xlink:href=\"#DejaVuSans-33\" x=\"190.869141\"/>\n      </g>\n     </g>\n    </g>\n    <g id=\"xtick_3\">\n     <g id=\"line2d_3\">\n      <g>\n       <use xlink:href=\"#me95153045b\" x=\"273.590836\" y=\"224.64\" style=\"stroke: #000000; stroke-width: 0.8\"/>\n      </g>\n     </g>\n     <g id=\"text_3\">\n      <!-- Jan -->\n      <g transform=\"translate(265.883024 239.238438)scale(0.1 -0.1)\">\n       <use xlink:href=\"#DejaVuSans-4a\"/>\n       <use xlink:href=\"#DejaVuSans-61\" x=\"29.492188\"/>\n       <use xlink:href=\"#DejaVuSans-6e\" x=\"90.771484\"/>\n      </g>\n      <!-- 2024 -->\n      <g transform=\"translate(260.865836 250.43625)scale(0.1 -0.1)\">\n       <defs>\n        <path id=\"DejaVuSans-34\" d=\"M 2419 4116 \nL 825 1625 \nL 2419 1625 \nL 2419 4116 \nz\nM 2253 4666 \nL 3047 4666 \nL 3047 1625 \nL 3713 1625 \nL 3713 1100 \nL 3047 1100 \nL 3047 0 \nL 2419 0 \nL 2419 1100 \nL 313 1100 \nL 313 1709 \nL 2253 4666 \nz\n\" transform=\"scale(0.015625)\"/>\n       </defs>\n       <use xlink:href=\"#DejaVuSans-32\"/>\n       <use xlink:href=\"#DejaVuSans-30\" x=\"63.623047\"/>\n       <use xlink:href=\"#DejaVuSans-32\" x=\"127.246094\"/>\n       <use xlink:href=\"#DejaVuSans-34\" x=\"190.869141\"/>\n      </g>\n     </g>\n    </g>\n    <g id=\"xtick_4\">\n     <g id=\"line2d_4\">\n      <g>\n       <use xlink:href=\"#me95153045b\" x=\"363.742188\" y=\"224.64\" style=\"stroke: #000000; stroke-width: 0.8\"/>\n      </g>\n     </g>\n    </g>\n    <g id=\"xtick_5\">\n     <g id=\"line2d_5\">\n      <defs>\n       <path id=\"meb19826684\" d=\"M 0 0 \nL 0 2 \n\" style=\"stroke: #000000; stroke-width: 0.6\"/>\n      </defs>\n      <g>\n       <use xlink:href=\"#meb19826684\" x=\"39.331377\" y=\"224.64\" style=\"stroke: #000000; stroke-width: 0.6\"/>\n      </g>\n     </g>\n    </g>\n    <g id=\"xtick_6\">\n     <g id=\"line2d_6\">\n      <g>\n       <use xlink:href=\"#meb19826684\" x=\"48.71516\" y=\"224.64\" style=\"stroke: #000000; stroke-width: 0.6\"/>\n      </g>\n     </g>\n    </g>\n    <g id=\"xtick_7\">\n     <g id=\"line2d_7\">\n      <g>\n       <use xlink:href=\"#meb19826684\" x=\"59.10435\" y=\"224.64\" style=\"stroke: #000000; stroke-width: 0.6\"/>\n      </g>\n     </g>\n    </g>\n    <g id=\"xtick_8\">\n     <g id=\"line2d_8\">\n      <g>\n       <use xlink:href=\"#meb19826684\" x=\"69.158404\" y=\"224.64\" style=\"stroke: #000000; stroke-width: 0.6\"/>\n      </g>\n     </g>\n    </g>\n    <g id=\"xtick_9\">\n     <g id=\"line2d_9\">\n      <g>\n       <use xlink:href=\"#meb19826684\" x=\"79.547593\" y=\"224.64\" style=\"stroke: #000000; stroke-width: 0.6\"/>\n      </g>\n     </g>\n    </g>\n    <g id=\"xtick_10\">\n     <g id=\"line2d_10\">\n      <g>\n       <use xlink:href=\"#meb19826684\" x=\"89.601647\" y=\"224.64\" style=\"stroke: #000000; stroke-width: 0.6\"/>\n      </g>\n     </g>\n     <g id=\"text_4\">\n      <!-- Jul -->\n      <g transform=\"translate(83.568834 237.638438)scale(0.1 -0.1)\">\n       <defs>\n        <path id=\"DejaVuSans-75\" d=\"M 544 1381 \nL 544 3500 \nL 1119 3500 \nL 1119 1403 \nQ 1119 906 1312 657 \nQ 1506 409 1894 409 \nQ 2359 409 2629 706 \nQ 2900 1003 2900 1516 \nL 2900 3500 \nL 3475 3500 \nL 3475 0 \nL 2900 0 \nL 2900 538 \nQ 2691 219 2414 64 \nQ 2138 -91 1772 -91 \nQ 1169 -91 856 284 \nQ 544 659 544 1381 \nz\nM 1991 3584 \nL 1991 3584 \nz\n\" transform=\"scale(0.015625)\"/>\n        <path id=\"DejaVuSans-6c\" d=\"M 603 4863 \nL 1178 4863 \nL 1178 0 \nL 603 0 \nL 603 4863 \nz\n\" transform=\"scale(0.015625)\"/>\n       </defs>\n       <use xlink:href=\"#DejaVuSans-4a\"/>\n       <use xlink:href=\"#DejaVuSans-75\" x=\"29.492188\"/>\n       <use xlink:href=\"#DejaVuSans-6c\" x=\"92.871094\"/>\n      </g>\n     </g>\n    </g>\n    <g id=\"xtick_11\">\n     <g id=\"line2d_11\">\n      <g>\n       <use xlink:href=\"#meb19826684\" x=\"99.990836\" y=\"224.64\" style=\"stroke: #000000; stroke-width: 0.6\"/>\n      </g>\n     </g>\n    </g>\n    <g id=\"xtick_12\">\n     <g id=\"line2d_12\">\n      <g>\n       <use xlink:href=\"#meb19826684\" x=\"110.380025\" y=\"224.64\" style=\"stroke: #000000; stroke-width: 0.6\"/>\n      </g>\n     </g>\n    </g>\n    <g id=\"xtick_13\">\n     <g id=\"line2d_13\">\n      <g>\n       <use xlink:href=\"#meb19826684\" x=\"120.434079\" y=\"224.64\" style=\"stroke: #000000; stroke-width: 0.6\"/>\n      </g>\n     </g>\n    </g>\n    <g id=\"xtick_14\">\n     <g id=\"line2d_14\">\n      <g>\n       <use xlink:href=\"#meb19826684\" x=\"130.823269\" y=\"224.64\" style=\"stroke: #000000; stroke-width: 0.6\"/>\n      </g>\n     </g>\n    </g>\n    <g id=\"xtick_15\">\n     <g id=\"line2d_15\">\n      <g>\n       <use xlink:href=\"#meb19826684\" x=\"140.877323\" y=\"224.64\" style=\"stroke: #000000; stroke-width: 0.6\"/>\n      </g>\n     </g>\n    </g>\n    <g id=\"xtick_16\">\n     <g id=\"line2d_16\">\n      <g>\n       <use xlink:href=\"#meb19826684\" x=\"161.655701\" y=\"224.64\" style=\"stroke: #000000; stroke-width: 0.6\"/>\n      </g>\n     </g>\n    </g>\n    <g id=\"xtick_17\">\n     <g id=\"line2d_17\">\n      <g>\n       <use xlink:href=\"#meb19826684\" x=\"171.039485\" y=\"224.64\" style=\"stroke: #000000; stroke-width: 0.6\"/>\n      </g>\n     </g>\n    </g>\n    <g id=\"xtick_18\">\n     <g id=\"line2d_18\">\n      <g>\n       <use xlink:href=\"#meb19826684\" x=\"181.428674\" y=\"224.64\" style=\"stroke: #000000; stroke-width: 0.6\"/>\n      </g>\n     </g>\n    </g>\n    <g id=\"xtick_19\">\n     <g id=\"line2d_19\">\n      <g>\n       <use xlink:href=\"#meb19826684\" x=\"191.482728\" y=\"224.64\" style=\"stroke: #000000; stroke-width: 0.6\"/>\n      </g>\n     </g>\n    </g>\n    <g id=\"xtick_20\">\n     <g id=\"line2d_20\">\n      <g>\n       <use xlink:href=\"#meb19826684\" x=\"201.871917\" y=\"224.64\" style=\"stroke: #000000; stroke-width: 0.6\"/>\n      </g>\n     </g>\n    </g>\n    <g id=\"xtick_21\">\n     <g id=\"line2d_21\">\n      <g>\n       <use xlink:href=\"#meb19826684\" x=\"211.925971\" y=\"224.64\" style=\"stroke: #000000; stroke-width: 0.6\"/>\n      </g>\n     </g>\n     <g id=\"text_5\">\n      <!-- Jul -->\n      <g transform=\"translate(205.893159 237.638438)scale(0.1 -0.1)\">\n       <use xlink:href=\"#DejaVuSans-4a\"/>\n       <use xlink:href=\"#DejaVuSans-75\" x=\"29.492188\"/>\n       <use xlink:href=\"#DejaVuSans-6c\" x=\"92.871094\"/>\n      </g>\n     </g>\n    </g>\n    <g id=\"xtick_22\">\n     <g id=\"line2d_22\">\n      <g>\n       <use xlink:href=\"#meb19826684\" x=\"222.31516\" y=\"224.64\" style=\"stroke: #000000; stroke-width: 0.6\"/>\n      </g>\n     </g>\n    </g>\n    <g id=\"xtick_23\">\n     <g id=\"line2d_23\">\n      <g>\n       <use xlink:href=\"#meb19826684\" x=\"232.70435\" y=\"224.64\" style=\"stroke: #000000; stroke-width: 0.6\"/>\n      </g>\n     </g>\n    </g>\n    <g id=\"xtick_24\">\n     <g id=\"line2d_24\">\n      <g>\n       <use xlink:href=\"#meb19826684\" x=\"242.758404\" y=\"224.64\" style=\"stroke: #000000; stroke-width: 0.6\"/>\n      </g>\n     </g>\n    </g>\n    <g id=\"xtick_25\">\n     <g id=\"line2d_25\">\n      <g>\n       <use xlink:href=\"#meb19826684\" x=\"253.147593\" y=\"224.64\" style=\"stroke: #000000; stroke-width: 0.6\"/>\n      </g>\n     </g>\n    </g>\n    <g id=\"xtick_26\">\n     <g id=\"line2d_26\">\n      <g>\n       <use xlink:href=\"#meb19826684\" x=\"263.201647\" y=\"224.64\" style=\"stroke: #000000; stroke-width: 0.6\"/>\n      </g>\n     </g>\n    </g>\n    <g id=\"xtick_27\">\n     <g id=\"line2d_27\">\n      <g>\n       <use xlink:href=\"#meb19826684\" x=\"283.980025\" y=\"224.64\" style=\"stroke: #000000; stroke-width: 0.6\"/>\n      </g>\n     </g>\n    </g>\n    <g id=\"xtick_28\">\n     <g id=\"line2d_28\">\n      <g>\n       <use xlink:href=\"#meb19826684\" x=\"293.698944\" y=\"224.64\" style=\"stroke: #000000; stroke-width: 0.6\"/>\n      </g>\n     </g>\n    </g>\n    <g id=\"xtick_29\">\n     <g id=\"line2d_29\">\n      <g>\n       <use xlink:href=\"#meb19826684\" x=\"304.088133\" y=\"224.64\" style=\"stroke: #000000; stroke-width: 0.6\"/>\n      </g>\n     </g>\n    </g>\n    <g id=\"xtick_30\">\n     <g id=\"line2d_30\">\n      <g>\n       <use xlink:href=\"#meb19826684\" x=\"314.142187\" y=\"224.64\" style=\"stroke: #000000; stroke-width: 0.6\"/>\n      </g>\n     </g>\n    </g>\n    <g id=\"xtick_31\">\n     <g id=\"line2d_31\">\n      <g>\n       <use xlink:href=\"#meb19826684\" x=\"324.531377\" y=\"224.64\" style=\"stroke: #000000; stroke-width: 0.6\"/>\n      </g>\n     </g>\n    </g>\n    <g id=\"xtick_32\">\n     <g id=\"line2d_32\">\n      <g>\n       <use xlink:href=\"#meb19826684\" x=\"334.585431\" y=\"224.64\" style=\"stroke: #000000; stroke-width: 0.6\"/>\n      </g>\n     </g>\n     <g id=\"text_6\">\n      <!-- Jul -->\n      <g transform=\"translate(328.552618 237.638438)scale(0.1 -0.1)\">\n       <use xlink:href=\"#DejaVuSans-4a\"/>\n       <use xlink:href=\"#DejaVuSans-75\" x=\"29.492188\"/>\n       <use xlink:href=\"#DejaVuSans-6c\" x=\"92.871094\"/>\n      </g>\n     </g>\n    </g>\n    <g id=\"xtick_33\">\n     <g id=\"line2d_33\">\n      <g>\n       <use xlink:href=\"#meb19826684\" x=\"344.97462\" y=\"224.64\" style=\"stroke: #000000; stroke-width: 0.6\"/>\n      </g>\n     </g>\n    </g>\n    <g id=\"xtick_34\">\n     <g id=\"line2d_34\">\n      <g>\n       <use xlink:href=\"#meb19826684\" x=\"355.363809\" y=\"224.64\" style=\"stroke: #000000; stroke-width: 0.6\"/>\n      </g>\n     </g>\n    </g>\n   </g>\n   <g id=\"matplotlib.axis_2\">\n    <g id=\"ytick_1\">\n     <g id=\"line2d_35\">\n      <defs>\n       <path id=\"m1cd053ab97\" d=\"M 0 0 \nL -3.5 0 \n\" style=\"stroke: #000000; stroke-width: 0.8\"/>\n      </defs>\n      <g>\n       <use xlink:href=\"#m1cd053ab97\" x=\"28.942188\" y=\"208.463132\" style=\"stroke: #000000; stroke-width: 0.8\"/>\n      </g>\n     </g>\n     <g id=\"text_7\">\n      <!-- −3 -->\n      <g transform=\"translate(7.2 212.262351)scale(0.1 -0.1)\">\n       <defs>\n        <path id=\"DejaVuSans-2212\" d=\"M 678 2272 \nL 4684 2272 \nL 4684 1741 \nL 678 1741 \nL 678 2272 \nz\n\" transform=\"scale(0.015625)\"/>\n       </defs>\n       <use xlink:href=\"#DejaVuSans-2212\"/>\n       <use xlink:href=\"#DejaVuSans-33\" x=\"83.789062\"/>\n      </g>\n     </g>\n    </g>\n    <g id=\"ytick_2\">\n     <g id=\"line2d_36\">\n      <g>\n       <use xlink:href=\"#m1cd053ab97\" x=\"28.942188\" y=\"176.839774\" style=\"stroke: #000000; stroke-width: 0.8\"/>\n      </g>\n     </g>\n     <g id=\"text_8\">\n      <!-- −2 -->\n      <g transform=\"translate(7.2 180.638993)scale(0.1 -0.1)\">\n       <use xlink:href=\"#DejaVuSans-2212\"/>\n       <use xlink:href=\"#DejaVuSans-32\" x=\"83.789062\"/>\n      </g>\n     </g>\n    </g>\n    <g id=\"ytick_3\">\n     <g id=\"line2d_37\">\n      <g>\n       <use xlink:href=\"#m1cd053ab97\" x=\"28.942188\" y=\"145.216417\" style=\"stroke: #000000; stroke-width: 0.8\"/>\n      </g>\n     </g>\n     <g id=\"text_9\">\n      <!-- −1 -->\n      <g transform=\"translate(7.2 149.015636)scale(0.1 -0.1)\">\n       <defs>\n        <path id=\"DejaVuSans-31\" d=\"M 794 531 \nL 1825 531 \nL 1825 4091 \nL 703 3866 \nL 703 4441 \nL 1819 4666 \nL 2450 4666 \nL 2450 531 \nL 3481 531 \nL 3481 0 \nL 794 0 \nL 794 531 \nz\n\" transform=\"scale(0.015625)\"/>\n       </defs>\n       <use xlink:href=\"#DejaVuSans-2212\"/>\n       <use xlink:href=\"#DejaVuSans-31\" x=\"83.789062\"/>\n      </g>\n     </g>\n    </g>\n    <g id=\"ytick_4\">\n     <g id=\"line2d_38\">\n      <g>\n       <use xlink:href=\"#m1cd053ab97\" x=\"28.942188\" y=\"113.593059\" style=\"stroke: #000000; stroke-width: 0.8\"/>\n      </g>\n     </g>\n     <g id=\"text_10\">\n      <!-- 0 -->\n      <g transform=\"translate(15.579688 117.392278)scale(0.1 -0.1)\">\n       <use xlink:href=\"#DejaVuSans-30\"/>\n      </g>\n     </g>\n    </g>\n    <g id=\"ytick_5\">\n     <g id=\"line2d_39\">\n      <g>\n       <use xlink:href=\"#m1cd053ab97\" x=\"28.942188\" y=\"81.969702\" style=\"stroke: #000000; stroke-width: 0.8\"/>\n      </g>\n     </g>\n     <g id=\"text_11\">\n      <!-- 1 -->\n      <g transform=\"translate(15.579688 85.76892)scale(0.1 -0.1)\">\n       <use xlink:href=\"#DejaVuSans-31\"/>\n      </g>\n     </g>\n    </g>\n    <g id=\"ytick_6\">\n     <g id=\"line2d_40\">\n      <g>\n       <use xlink:href=\"#m1cd053ab97\" x=\"28.942188\" y=\"50.346344\" style=\"stroke: #000000; stroke-width: 0.8\"/>\n      </g>\n     </g>\n     <g id=\"text_12\">\n      <!-- 2 -->\n      <g transform=\"translate(15.579688 54.145563)scale(0.1 -0.1)\">\n       <use xlink:href=\"#DejaVuSans-32\"/>\n      </g>\n     </g>\n    </g>\n    <g id=\"ytick_7\">\n     <g id=\"line2d_41\">\n      <g>\n       <use xlink:href=\"#m1cd053ab97\" x=\"28.942188\" y=\"18.722986\" style=\"stroke: #000000; stroke-width: 0.8\"/>\n      </g>\n     </g>\n     <g id=\"text_13\">\n      <!-- 3 -->\n      <g transform=\"translate(15.579688 22.522205)scale(0.1 -0.1)\">\n       <use xlink:href=\"#DejaVuSans-33\"/>\n      </g>\n     </g>\n    </g>\n   </g>\n   <g id=\"line2d_42\">\n    <path d=\"M 28.942187 156.575867 \nL 29.277323 116.913319 \nL 29.612458 95.631445 \nL 29.947593 109.131672 \nL 30.282728 132.099947 \nL 30.617863 117.51706 \nL 30.952998 125.639468 \nL 31.288133 167.741899 \nL 31.958404 117.742506 \nL 32.293539 147.566476 \nL 32.628674 122.910764 \nL 32.963809 120.680088 \nL 33.298944 109.972038 \nL 33.634079 111.194029 \nL 34.30435 66.12036 \nL 34.639485 161.248419 \nL 34.97462 90.986209 \nL 35.309755 88.898173 \nL 35.64489 127.126909 \nL 35.980025 69.837408 \nL 36.31516 70.092364 \nL 36.650296 130.763892 \nL 36.985431 96.028659 \nL 37.320566 138.828559 \nL 37.655701 85.944817 \nL 37.990836 103.112291 \nL 38.325971 81.067742 \nL 38.661106 191.232122 \nL 39.331377 87.943015 \nL 39.666512 168.364468 \nL 40.001647 86.702436 \nL 40.336782 92.35796 \nL 40.671917 61.921604 \nL 41.342187 109.267597 \nL 41.677323 78.753225 \nL 42.012458 105.093591 \nL 42.347593 121.864119 \nL 42.682728 110.954594 \nL 43.017863 103.829691 \nL 43.352998 160.191184 \nL 43.688133 167.589107 \nL 44.023269 87.494838 \nL 44.358404 88.312994 \nL 44.693539 119.812817 \nL 45.363809 80.959804 \nL 45.698944 135.425952 \nL 46.369215 154.701997 \nL 46.70435 85.156185 \nL 47.039485 110.266997 \nL 47.37462 156.167455 \nL 48.380025 91.319099 \nL 48.71516 120.4887 \nL 49.050296 79.997293 \nL 49.385431 123.847358 \nL 49.720566 59.54491 \nL 50.055701 110.889221 \nL 50.725971 133.455159 \nL 51.061106 40.14404 \nL 51.396242 98.452261 \nL 51.731377 104.278663 \nL 52.066512 131.636577 \nL 52.401647 131.945546 \nL 52.736782 168.510562 \nL 53.071917 109.080587 \nL 53.407052 120.406797 \nL 53.742188 137.260786 \nL 54.077323 107.791996 \nL 54.412458 133.593206 \nL 54.747593 109.757496 \nL 55.082728 110.942997 \nL 55.417863 87.656494 \nL 55.752998 92.496284 \nL 56.088133 116.014353 \nL 56.423269 111.700015 \nL 56.758404 121.300636 \nL 57.093539 135.857225 \nL 57.428674 102.653787 \nL 57.763809 156.431276 \nL 58.098944 91.13533 \nL 58.434079 187.872365 \nL 58.769215 160.650898 \nL 59.10435 68.489018 \nL 59.439485 130.729559 \nL 59.77462 111.785698 \nL 60.109755 181.515063 \nL 60.44489 65.846353 \nL 60.780025 115.558915 \nL 61.11516 138.905711 \nL 61.450296 114.442584 \nL 61.785431 160.963473 \nL 62.120566 134.386072 \nL 62.455701 139.953567 \nL 63.125971 73.955796 \nL 63.461106 80.435931 \nL 63.796242 64.833767 \nL 64.131377 97.657305 \nL 64.466512 82.648503 \nL 64.801647 103.251885 \nL 65.136782 93.205872 \nL 65.807052 147.024746 \nL 66.142187 92.825411 \nL 66.477323 99.697715 \nL 67.147593 123.589758 \nL 67.482728 100.121551 \nL 67.817863 131.040174 \nL 68.152998 93.743455 \nL 68.488133 92.522582 \nL 68.823269 96.860459 \nL 69.158404 68.682811 \nL 69.493539 85.571506 \nL 69.828674 193.583941 \nL 70.163809 148.15048 \nL 70.498944 139.946664 \nL 70.834079 68.568169 \nL 71.169215 112.647067 \nL 71.50435 96.42723 \nL 71.839485 99.468875 \nL 72.17462 88.790577 \nL 72.509755 141.144039 \nL 72.84489 146.889314 \nL 73.180025 142.060854 \nL 73.850296 78.985729 \nL 74.520566 121.871708 \nL 74.855701 119.267256 \nL 75.190836 125.914894 \nL 75.525971 98.693733 \nL 75.861106 112.598467 \nL 76.196242 70.502637 \nL 76.531377 188.780179 \nL 76.866512 131.485571 \nL 77.201647 118.878202 \nL 77.536782 154.436505 \nL 77.871917 121.54698 \nL 78.877323 73.479308 \nL 79.212458 112.066042 \nL 79.547593 119.814224 \nL 79.882728 109.970576 \nL 80.217863 108.342764 \nL 80.552998 125.688293 \nL 80.888133 128.953307 \nL 81.223269 142.319141 \nL 81.558404 136.830626 \nL 81.893539 144.663451 \nL 82.228674 146.343574 \nL 82.563809 86.676343 \nL 82.898944 104.287931 \nL 83.234079 136.31414 \nL 83.569215 42.300843 \nL 83.90435 92.573073 \nL 84.239485 174.403914 \nL 84.57462 126.193817 \nL 84.909755 127.488967 \nL 85.24489 95.222224 \nL 85.580025 88.412523 \nL 85.91516 145.79121 \nL 86.250296 131.122058 \nL 86.585431 106.099856 \nL 86.920566 95.265327 \nL 87.255701 95.993848 \nL 87.590836 107.415712 \nL 87.925971 152.226365 \nL 88.261106 140.370925 \nL 88.596242 90.830334 \nL 88.931377 102.463417 \nL 89.266512 165.70485 \nL 89.601647 128.199728 \nL 89.936782 110.179312 \nL 90.271917 119.445472 \nL 90.607052 120.050841 \nL 91.277323 90.543373 \nL 91.612458 61.068688 \nL 91.947593 96.289938 \nL 92.282728 151.717304 \nL 92.617863 80.720808 \nL 92.952998 118.896519 \nL 93.288133 125.798231 \nL 93.623269 115.116994 \nL 93.958404 108.294801 \nL 94.293539 104.377309 \nL 94.628674 181.086854 \nL 94.963809 67.27901 \nL 95.298944 108.724614 \nL 95.969215 138.927322 \nL 96.30435 87.639759 \nL 96.639485 89.358991 \nL 96.97462 115.831851 \nL 97.309755 176.807762 \nL 97.64489 88.66132 \nL 97.980025 108.200911 \nL 98.31516 113.524277 \nL 98.650296 70.022124 \nL 98.985431 131.039177 \nL 99.320566 102.238791 \nL 99.655701 188.298677 \nL 100.325971 111.873919 \nL 100.661106 72.656011 \nL 100.996242 112.452425 \nL 101.331377 95.342786 \nL 101.666512 133.226756 \nL 102.001647 81.72364 \nL 102.336782 101.145992 \nL 102.671917 92.778585 \nL 103.007052 106.140964 \nL 103.342187 143.044661 \nL 103.677323 154.053999 \nL 104.012458 108.495644 \nL 104.347593 119.956264 \nL 104.682728 165.622796 \nL 105.017863 69.37375 \nL 105.352998 87.768841 \nL 105.688133 157.431543 \nL 106.023269 112.352977 \nL 106.693539 154.530709 \nL 107.028674 155.323329 \nL 107.363809 61.980129 \nL 107.698944 129.797481 \nL 108.034079 125.524089 \nL 108.369215 180.39132 \nL 108.70435 91.077259 \nL 109.039485 105.50868 \nL 109.37462 91.654398 \nL 109.709755 108.219341 \nL 110.04489 102.062663 \nL 110.380025 139.925859 \nL 110.71516 101.969166 \nL 111.050296 144.181499 \nL 111.385431 116.099902 \nL 111.720566 129.206996 \nL 112.055701 82.865313 \nL 112.390836 99.646809 \nL 112.725971 149.733448 \nL 113.061106 110.934945 \nL 113.396242 130.286064 \nL 113.731377 161.052865 \nL 114.066512 133.96964 \nL 114.401647 68.629456 \nL 114.736782 143.465507 \nL 115.071917 156.255815 \nL 115.407052 86.204127 \nL 115.742188 124.602393 \nL 116.077323 86.683393 \nL 116.412458 86.873863 \nL 116.747593 95.354307 \nL 117.082728 80.384845 \nL 117.417863 94.97717 \nL 117.752998 147.371072 \nL 118.088133 99.454859 \nL 118.423269 82.139577 \nL 119.093539 103.020441 \nL 119.428674 99.937078 \nL 119.763809 117.343079 \nL 120.098944 90.62354 \nL 120.434079 165.682925 \nL 120.769215 91.753811 \nL 121.10435 169.774295 \nL 121.439485 130.443534 \nL 121.77462 107.305231 \nL 122.109755 131.200325 \nL 122.44489 163.255721 \nL 122.780025 138.071144 \nL 123.11516 98.306141 \nL 123.785431 124.535727 \nL 124.120566 114.555095 \nL 124.455701 71.474302 \nL 124.790836 76.630615 \nL 125.125971 114.560254 \nL 125.461106 165.356818 \nL 125.796242 89.592759 \nL 126.131377 65.370965 \nL 126.466512 66.181303 \nL 126.801647 207.719227 \nL 127.136782 152.67304 \nL 127.471917 120.038533 \nL 127.807052 153.226926 \nL 128.142187 97.795011 \nL 128.477323 68.540297 \nL 128.812458 121.028012 \nL 129.147593 130.82702 \nL 129.482728 148.98323 \nL 129.817863 106.184898 \nL 130.152998 119.11825 \nL 130.488133 101.51153 \nL 130.823269 109.619013 \nL 131.158404 82.705122 \nL 131.493539 114.326351 \nL 131.828674 81.147727 \nL 132.163809 83.948371 \nL 132.498944 111.261092 \nL 132.834079 92.297249 \nL 133.169215 115.373387 \nL 133.50435 88.034609 \nL 133.839485 94.295791 \nL 134.17462 113.383929 \nL 134.509755 140.272692 \nL 134.84489 135.910846 \nL 135.180025 108.444727 \nL 135.51516 167.091666 \nL 135.850296 145.163051 \nL 136.185431 82.145574 \nL 136.520566 169.777559 \nL 136.855701 149.726613 \nL 137.190836 50.495081 \nL 137.525971 147.702646 \nL 137.861106 117.01173 \nL 138.196242 120.173729 \nL 138.531377 174.040667 \nL 138.866512 115.343113 \nL 139.201647 86.898648 \nL 139.536782 109.415871 \nL 139.871917 153.282451 \nL 140.207052 142.465281 \nL 140.542188 153.247154 \nL 140.877323 75.991225 \nL 141.212458 92.214582 \nL 141.547593 162.793483 \nL 141.882728 42.876403 \nL 142.217863 102.104912 \nL 142.552998 124.716236 \nL 142.888133 120.12633 \nL 143.223269 120.904697 \nL 144.228674 162.540285 \nL 144.563809 63.681461 \nL 145.234079 154.764482 \nL 145.569215 79.488594 \nL 145.90435 112.838738 \nL 146.239485 68.829019 \nL 146.57462 138.035703 \nL 146.909755 79.785488 \nL 147.24489 115.87034 \nL 147.580025 88.199435 \nL 147.91516 113.989355 \nL 148.250296 111.898637 \nL 148.585431 182.971242 \nL 148.920566 120.102564 \nL 149.255701 117.154361 \nL 149.590836 80.117289 \nL 149.925971 167.214434 \nL 150.261106 169.092705 \nL 150.596242 102.032881 \nL 150.931377 155.90568 \nL 151.266512 87.709315 \nL 151.601647 99.675814 \nL 151.936782 103.223001 \nL 152.607052 130.098435 \nL 152.942187 85.343493 \nL 153.277323 125.844741 \nL 153.612458 87.022715 \nL 153.947593 66.158093 \nL 154.282728 26.508188 \nL 154.617863 145.712197 \nL 154.952998 161.339319 \nL 155.288133 83.75276 \nL 155.958404 143.755012 \nL 156.293539 90.074437 \nL 156.963809 127.612219 \nL 157.298944 109.532376 \nL 157.634079 180.393049 \nL 157.969215 176.450875 \nL 158.30435 111.353257 \nL 158.639485 86.325909 \nL 158.97462 161.015222 \nL 159.64489 61.349439 \nL 159.980025 151.08957 \nL 160.31516 131.578797 \nL 160.650296 78.21992 \nL 160.985431 191.718816 \nL 161.320566 82.763801 \nL 161.655701 78.834303 \nL 161.990836 171.530673 \nL 162.325971 111.248958 \nL 162.661106 132.597498 \nL 162.996242 112.658277 \nL 163.331377 124.280015 \nL 163.666512 62.050314 \nL 164.336782 138.745902 \nL 164.671917 85.881591 \nL 165.007052 127.444464 \nL 165.342187 74.382978 \nL 165.677323 122.728014 \nL 166.012458 33.79586 \nL 166.347593 109.146086 \nL 166.682728 113.414102 \nL 167.017863 76.319744 \nL 167.352998 184.173813 \nL 167.688133 88.270266 \nL 168.023269 70.209274 \nL 168.693539 212.888169 \nL 169.028674 133.488248 \nL 169.363809 115.376803 \nL 169.698944 73.816487 \nL 170.034079 93.458197 \nL 170.369215 140.392365 \nL 170.70435 95.633948 \nL 171.039485 107.77412 \nL 171.37462 103.260882 \nL 171.709755 93.063122 \nL 172.04489 172.482684 \nL 172.380025 33.060285 \nL 172.71516 90.256861 \nL 173.050296 64.576465 \nL 173.385431 170.442614 \nL 173.720566 123.713285 \nL 174.055701 156.219849 \nL 174.390836 125.21574 \nL 174.725971 178.006447 \nL 175.061106 101.890124 \nL 175.396242 129.266051 \nL 175.731377 46.002568 \nL 176.066512 111.675199 \nL 176.401647 71.019424 \nL 176.736782 106.177097 \nL 177.071917 122.296715 \nL 177.407052 187.144694 \nL 177.742188 109.648964 \nL 178.077323 116.818964 \nL 178.412458 159.728258 \nL 178.747593 53.790575 \nL 179.082728 160.528648 \nL 179.417863 131.826045 \nL 179.752998 154.761944 \nL 180.088133 93.279433 \nL 180.423269 113.254666 \nL 180.758404 109.728875 \nL 181.093539 160.718233 \nL 181.428674 79.314982 \nL 181.763809 128.6589 \nL 182.098944 95.65994 \nL 182.434079 120.984411 \nL 182.769215 76.371753 \nL 183.10435 112.021902 \nL 183.439485 162.800465 \nL 183.77462 71.127016 \nL 184.109755 114.16856 \nL 184.44489 121.78743 \nL 184.780025 118.385197 \nL 185.11516 132.676527 \nL 185.450296 83.261681 \nL 185.785431 113.037364 \nL 186.120566 117.917632 \nL 186.455701 131.99312 \nL 186.790836 95.013554 \nL 187.125971 155.289737 \nL 187.461106 101.684058 \nL 187.796242 151.712283 \nL 188.131377 90.517138 \nL 188.466512 89.51081 \nL 188.801647 135.943317 \nL 189.136782 73.712909 \nL 189.471917 92.132981 \nL 189.807052 121.201019 \nL 190.142187 108.10949 \nL 190.477323 146.979276 \nL 190.812458 40.433203 \nL 191.147593 25.745799 \nL 191.482728 186.909966 \nL 191.817863 124.641847 \nL 192.152998 109.519207 \nL 192.488133 105.661325 \nL 192.823269 120.328709 \nL 193.158404 158.5753 \nL 193.493539 214.756364 \nL 193.828674 81.975182 \nL 194.163809 75.478249 \nL 194.498944 197.452608 \nL 194.834079 130.006188 \nL 195.169215 121.322567 \nL 195.50435 131.910789 \nL 195.839485 104.661425 \nL 196.17462 115.365157 \nL 196.509755 136.267907 \nL 197.180025 119.271419 \nL 197.51516 125.35077 \nL 197.850296 104.250441 \nL 198.185431 101.147703 \nL 198.520566 150.872839 \nL 198.855701 122.542602 \nL 199.190836 120.346581 \nL 199.525971 123.319465 \nL 200.196242 92.081915 \nL 200.531377 121.295034 \nL 200.866512 71.127097 \nL 201.201647 169.555507 \nL 201.536782 102.203601 \nL 201.871917 157.696521 \nL 202.207052 58.658051 \nL 202.542188 141.671373 \nL 202.877323 87.969549 \nL 203.212458 132.898754 \nL 203.547593 54.649214 \nL 203.882728 118.33961 \nL 204.217863 49.429221 \nL 204.552998 123.911158 \nL 204.888133 97.689958 \nL 205.223269 169.874619 \nL 205.558404 115.081984 \nL 206.228674 105.685015 \nL 206.563809 80.743369 \nL 206.898944 152.325281 \nL 207.234079 131.056833 \nL 207.569215 79.045984 \nL 207.90435 132.325722 \nL 208.239485 98.323073 \nL 208.57462 158.873205 \nL 208.909755 138.011868 \nL 209.24489 79.6444 \nL 209.580025 161.723962 \nL 209.91516 160.179925 \nL 210.250296 127.639418 \nL 210.585431 135.482308 \nL 210.920566 54.786415 \nL 211.255701 157.324737 \nL 211.590836 122.357463 \nL 211.925971 115.768402 \nL 212.261106 156.95033 \nL 212.596242 102.46644 \nL 212.931377 84.329997 \nL 213.266512 97.963818 \nL 213.936782 149.629002 \nL 214.271917 163.494829 \nL 214.607052 30.230454 \nL 214.942187 95.6887 \nL 215.277323 69.298386 \nL 215.612458 140.46038 \nL 215.947593 164.63742 \nL 216.282728 95.054629 \nL 216.617863 82.324236 \nL 216.952998 43.503305 \nL 217.623269 131.809967 \nL 217.958404 138.88375 \nL 218.293539 163.079551 \nL 218.628674 108.705686 \nL 218.963809 91.611433 \nL 219.298944 97.597436 \nL 219.634079 82.069043 \nL 219.969215 84.958664 \nL 220.30435 117.32038 \nL 220.639485 111.484672 \nL 220.97462 77.075289 \nL 221.309755 119.429078 \nL 221.64489 131.956131 \nL 221.980025 159.40746 \nL 222.31516 114.533625 \nL 222.650296 146.533272 \nL 222.985431 148.30023 \nL 223.320566 98.872684 \nL 223.655701 181.159789 \nL 224.325971 65.824413 \nL 224.661106 155.711093 \nL 224.996242 150.469569 \nL 225.331377 58.14921 \nL 226.001647 125.416082 \nL 226.336782 108.394199 \nL 226.671917 109.034888 \nL 227.007052 110.128619 \nL 227.342187 52.249205 \nL 227.677323 99.628117 \nL 228.012458 103.183036 \nL 228.347593 139.262837 \nL 228.682728 136.699462 \nL 229.017863 99.219675 \nL 229.352998 107.854788 \nL 229.688133 119.835156 \nL 230.023269 109.404634 \nL 230.358404 126.799293 \nL 230.693539 73.376578 \nL 231.028674 117.894338 \nL 231.363809 59.686809 \nL 231.698944 106.399467 \nL 232.034079 130.090407 \nL 232.369215 137.556127 \nL 232.70435 114.480117 \nL 233.039485 112.91564 \nL 233.37462 89.169855 \nL 233.709755 95.594653 \nL 234.04489 81.068222 \nL 234.380025 80.414919 \nL 234.71516 153.1637 \nL 235.385431 81.896151 \nL 235.720566 135.87267 \nL 236.055701 120.379698 \nL 236.390836 62.26247 \nL 236.725971 105.278925 \nL 237.061106 109.503527 \nL 237.396242 158.167913 \nL 237.731377 112.292855 \nL 238.736782 153.489711 \nL 239.071917 113.825604 \nL 239.742188 89.604631 \nL 240.412458 130.016839 \nL 240.747593 181.718579 \nL 241.082728 167.646493 \nL 241.417863 114.515789 \nL 241.752998 116.077641 \nL 242.088133 137.370893 \nL 242.423269 89.198128 \nL 242.758404 157.371852 \nL 243.093539 124.372457 \nL 243.428674 121.337319 \nL 244.098944 44.317977 \nL 244.434079 92.181843 \nL 244.769215 109.769995 \nL 245.10435 146.710163 \nL 245.439485 139.01337 \nL 245.77462 139.074794 \nL 246.44489 106.336531 \nL 246.780025 105.992025 \nL 247.11516 156.913377 \nL 247.450296 93.534356 \nL 247.785431 106.598994 \nL 248.120566 96.319674 \nL 248.455701 130.991374 \nL 248.790836 114.494724 \nL 249.125971 106.210484 \nL 249.461106 116.090356 \nL 249.796242 120.961145 \nL 250.131377 64.971655 \nL 250.466512 102.141377 \nL 250.801647 152.491363 \nL 251.136782 92.668541 \nL 251.471917 113.087514 \nL 251.807052 152.332541 \nL 252.142187 123.709853 \nL 252.477323 177.067661 \nL 253.147593 46.143487 \nL 253.482728 56.862405 \nL 253.817863 83.132815 \nL 254.152998 97.360418 \nL 254.488133 159.048496 \nL 254.823269 106.14598 \nL 255.158404 123.648843 \nL 255.493539 77.512394 \nL 255.828674 119.475923 \nL 256.163809 178.532115 \nL 256.834079 76.24819 \nL 257.169215 80.445186 \nL 257.50435 106.812406 \nL 257.839485 108.970214 \nL 258.17462 93.461339 \nL 258.509755 95.354126 \nL 258.84489 103.899845 \nL 259.180025 125.875688 \nL 259.51516 71.876981 \nL 259.850296 42.256942 \nL 260.185431 148.057038 \nL 260.520566 77.292718 \nL 260.855701 98.019391 \nL 261.190836 74.359321 \nL 261.525971 67.912638 \nL 261.861106 92.687586 \nL 262.196242 158.888128 \nL 262.531377 149.356847 \nL 262.866512 122.491853 \nL 263.201647 118.450897 \nL 263.536782 139.635051 \nL 263.871917 106.207147 \nL 264.207052 166.299618 \nL 264.542188 109.819784 \nL 264.877323 137.094751 \nL 265.212458 120.700527 \nL 265.547593 80.859552 \nL 265.882728 71.215589 \nL 266.217863 78.880434 \nL 266.552998 106.751021 \nL 266.888133 89.938462 \nL 267.223269 54.239087 \nL 267.558404 127.707965 \nL 267.893539 57.149453 \nL 268.228674 106.052989 \nL 268.898944 138.180605 \nL 269.569215 115.327542 \nL 269.90435 114.615415 \nL 270.239485 153.253732 \nL 270.57462 94.60036 \nL 270.909755 149.529498 \nL 271.24489 145.186937 \nL 271.580025 122.627897 \nL 271.91516 69.292017 \nL 272.250296 158.018395 \nL 272.585431 182.167441 \nL 272.920566 94.617497 \nL 273.255701 99.831604 \nL 273.590836 75.171817 \nL 273.925971 136.389942 \nL 274.261106 98.028539 \nL 274.596242 169.682158 \nL 274.931377 151.080169 \nL 275.266512 91.524964 \nL 275.601647 97.871212 \nL 275.936782 60.80536 \nL 276.942187 145.613418 \nL 277.277323 154.267718 \nL 277.612458 111.575134 \nL 277.947593 182.096509 \nL 278.282728 111.911017 \nL 278.617863 93.397195 \nL 279.288133 155.914611 \nL 280.293539 78.890941 \nL 280.628674 124.845669 \nL 280.963809 137.830209 \nL 281.298944 111.062891 \nL 281.634079 93.253838 \nL 281.969215 104.127233 \nL 282.30435 105.682944 \nL 282.639485 103.507598 \nL 282.97462 105.825613 \nL 283.309755 122.692467 \nL 283.64489 17.083636 \nL 283.980025 46.314542 \nL 284.31516 126.088126 \nL 284.650296 120.671365 \nL 284.985431 132.613525 \nL 285.320566 120.922357 \nL 285.655701 139.939124 \nL 286.325971 79.418118 \nL 286.996242 162.728646 \nL 287.666512 134.449851 \nL 288.001647 52.152701 \nL 288.336782 121.599907 \nL 288.671917 157.962956 \nL 289.007052 94.207238 \nL 289.342187 103.016688 \nL 289.677323 93.666391 \nL 290.012458 133.218051 \nL 290.347593 119.37776 \nL 290.682728 164.458778 \nL 291.017863 73.108618 \nL 291.352998 89.646058 \nL 291.688133 61.046567 \nL 292.023269 72.3912 \nL 292.358404 135.925855 \nL 292.693539 118.855544 \nL 293.028674 136.275106 \nL 293.363809 125.615938 \nL 293.698944 212.376123 \nL 294.034079 70.553229 \nL 294.369215 99.293971 \nL 294.70435 115.466657 \nL 295.039485 137.54016 \nL 295.37462 96.688957 \nL 295.709755 137.445478 \nL 296.04489 90.293637 \nL 296.380025 133.089421 \nL 296.71516 101.149228 \nL 297.050296 89.234468 \nL 297.385431 164.472672 \nL 298.055701 31.988887 \nL 298.390836 81.545199 \nL 298.725971 71.10882 \nL 299.061106 127.837185 \nL 299.396242 135.365761 \nL 299.731377 109.432242 \nL 300.066512 155.910961 \nL 300.401647 112.479677 \nL 300.736782 131.724237 \nL 301.071917 77.057977 \nL 301.407052 60.019656 \nL 301.742188 88.880551 \nL 302.077323 155.473647 \nL 302.412458 126.468065 \nL 302.747593 111.691545 \nL 303.082728 162.890247 \nL 303.417863 157.003624 \nL 303.752998 167.130943 \nL 304.088133 155.694085 \nL 304.423269 117.470174 \nL 304.758404 131.281778 \nL 305.093539 109.362712 \nL 305.428674 138.997838 \nL 306.098944 87.356691 \nL 306.434079 137.673214 \nL 307.10435 164.084724 \nL 307.439485 77.017168 \nL 308.109755 146.333976 \nL 308.44489 148.69869 \nL 308.780025 70.425328 \nL 309.11516 71.71105 \nL 309.450296 110.846317 \nL 309.785431 119.778361 \nL 310.120566 114.902913 \nL 310.455701 33.03497 \nL 310.790836 85.849326 \nL 311.125971 71.867127 \nL 311.796242 161.438738 \nL 312.131377 131.251485 \nL 312.466512 73.223887 \nL 312.801647 134.811604 \nL 313.136782 37.245354 \nL 313.471917 99.940152 \nL 313.807052 121.006474 \nL 314.142187 97.074708 \nL 314.477323 119.724023 \nL 314.812458 127.565455 \nL 315.147593 121.379591 \nL 315.482728 122.3417 \nL 315.817863 104.188351 \nL 316.152998 135.322163 \nL 316.488133 135.447511 \nL 316.823269 135.042809 \nL 317.158404 96.074489 \nL 317.493539 98.231588 \nL 317.828674 156.030623 \nL 318.163809 144.241532 \nL 318.834079 92.606087 \nL 319.169215 78.683476 \nL 319.50435 45.004027 \nL 319.839485 125.909703 \nL 320.17462 108.484099 \nL 320.509755 114.543661 \nL 320.84489 90.556117 \nL 321.180025 103.325767 \nL 321.51516 96.762302 \nL 321.850296 76.177474 \nL 322.185431 126.48534 \nL 322.855701 148.450217 \nL 323.190836 133.957109 \nL 323.525971 95.575976 \nL 323.861106 124.382849 \nL 324.196242 141.376671 \nL 324.531377 164.894848 \nL 324.866512 147.673807 \nL 325.201647 95.307899 \nL 325.536782 173.011634 \nL 325.871917 63.093766 \nL 326.207052 129.225946 \nL 326.542188 129.235095 \nL 326.877323 91.228753 \nL 327.212458 132.810816 \nL 327.547593 94.59164 \nL 328.217863 136.817853 \nL 328.552998 75.944186 \nL 328.888133 54.83465 \nL 329.223269 115.588003 \nL 329.558404 155.393974 \nL 329.893539 51.291374 \nL 330.228674 95.918678 \nL 330.563809 45.62298 \nL 330.898944 113.514363 \nL 331.569215 89.069294 \nL 331.90435 94.460806 \nL 332.239485 128.3409 \nL 332.57462 72.079149 \nL 332.909755 170.185453 \nL 333.580025 67.340751 \nL 333.91516 89.337417 \nL 334.250296 138.39965 \nL 334.585431 124.700309 \nL 334.920566 118.235148 \nL 335.255701 79.107618 \nL 335.590836 144.207474 \nL 335.925971 78.569512 \nL 336.261106 81.393236 \nL 336.596242 164.44473 \nL 336.931377 123.64041 \nL 337.266512 96.813676 \nL 337.601647 98.652976 \nL 337.936782 87.078976 \nL 338.271917 112.709758 \nL 338.607052 53.196154 \nL 338.942187 161.266798 \nL 339.277323 197.937751 \nL 339.612458 114.689264 \nL 340.282728 107.898364 \nL 340.617863 151.498295 \nL 340.952998 67.241685 \nL 341.288133 138.076917 \nL 341.623269 94.089758 \nL 341.958404 76.265113 \nL 342.293539 89.198797 \nL 342.628674 79.40365 \nL 342.963809 74.516739 \nL 343.298944 95.941221 \nL 343.634079 156.296454 \nL 343.969215 167.171384 \nL 344.30435 168.039174 \nL 344.639485 99.704337 \nL 344.97462 148.618389 \nL 345.309755 96.064529 \nL 345.64489 134.068686 \nL 345.980025 139.143107 \nL 346.31516 97.470644 \nL 346.650296 103.552516 \nL 346.985431 65.158187 \nL 347.320566 122.138093 \nL 347.655701 82.209644 \nL 347.990836 118.529677 \nL 348.325971 93.858948 \nL 348.661106 101.919634 \nL 348.996242 86.465527 \nL 349.331377 142.068095 \nL 349.666512 72.73886 \nL 350.001647 139.585335 \nL 350.336782 47.439371 \nL 350.671917 85.877235 \nL 351.342187 130.03697 \nL 351.677323 109.520766 \nL 352.012458 50.304444 \nL 352.347593 121.922723 \nL 352.682728 87.963798 \nL 353.017863 108.118153 \nL 353.352998 157.77505 \nL 353.688133 171.231111 \nL 354.023269 117.80374 \nL 354.358404 152.079715 \nL 354.693539 133.529825 \nL 355.028674 103.26045 \nL 355.363809 43.57944 \nL 356.034079 119.909108 \nL 356.369215 133.639628 \nL 356.70435 130.029674 \nL 357.039485 106.904492 \nL 357.37462 133.72952 \nL 357.709755 57.782352 \nL 358.04489 145.242272 \nL 358.380025 122.105829 \nL 358.71516 78.880757 \nL 359.050296 119.222588 \nL 359.720566 93.572225 \nL 360.055701 84.309835 \nL 360.390836 134.395315 \nL 360.725971 112.275665 \nL 361.061106 157.89433 \nL 361.396242 98.151544 \nL 361.731377 138.132407 \nL 362.066512 76.359244 \nL 362.401647 169.524978 \nL 362.736782 111.296001 \nL 363.071917 141.898244 \nL 363.407052 136.049408 \nL 363.742188 114.393951 \nL 363.742188 114.393951 \n\" clip-path=\"url(#p0d03d1342c)\" style=\"fill: none; stroke: #1f77b4; stroke-width: 1.5; stroke-linecap: square\"/>\n   </g>\n   <g id=\"patch_3\">\n    <path d=\"M 28.942188 224.64 \nL 28.942188 7.2 \n\" style=\"fill: none; stroke: #000000; stroke-width: 0.8; stroke-linejoin: miter; stroke-linecap: square\"/>\n   </g>\n   <g id=\"patch_4\">\n    <path d=\"M 363.742188 224.64 \nL 363.742188 7.2 \n\" style=\"fill: none; stroke: #000000; stroke-width: 0.8; stroke-linejoin: miter; stroke-linecap: square\"/>\n   </g>\n   <g id=\"patch_5\">\n    <path d=\"M 28.942187 224.64 \nL 363.742188 224.64 \n\" style=\"fill: none; stroke: #000000; stroke-width: 0.8; stroke-linejoin: miter; stroke-linecap: square\"/>\n   </g>\n   <g id=\"patch_6\">\n    <path d=\"M 28.942187 7.2 \nL 363.742188 7.2 \n\" style=\"fill: none; stroke: #000000; stroke-width: 0.8; stroke-linejoin: miter; stroke-linecap: square\"/>\n   </g>\n  </g>\n </g>\n <defs>\n  <clipPath id=\"p0d03d1342c\">\n   <rect x=\"28.942188\" y=\"7.2\" width=\"334.8\" height=\"217.44\"/>\n  </clipPath>\n </defs>\n</svg>\n",
      "text/plain": [
       "<Figure size 432x288 with 1 Axes>"
      ]
     },
     "metadata": {
      "needs_background": "light"
     },
     "output_type": "display_data"
    }
   ],
   "source": [
    "ts = pd.Series(np.random.randn(1000), index=pd.date_range(\"1/1/2022\", periods=1000))\n",
    "ts.plot()"
   ]
  },
  {
   "cell_type": "code",
   "execution_count": 97,
   "metadata": {},
   "outputs": [
    {
     "data": {
      "text/plain": [
       "<AxesSubplot:>"
      ]
     },
     "execution_count": 97,
     "metadata": {},
     "output_type": "execute_result"
    },
    {
     "data": {
      "image/png": "[encoded data removed]",
      "image/svg+xml": "<?xml version=\"1.0\" encoding=\"utf-8\" standalone=\"no\"?>\n<!DOCTYPE svg PUBLIC \"-//W3C//DTD SVG 1.1//EN\"\n  \"http://www.w3.org/Graphics/SVG/1.1/DTD/svg11.dtd\">\n<svg xmlns:xlink=\"http://www.w3.org/1999/xlink\" width=\"377.304688pt\" height=\"259.715937pt\" viewBox=\"0 0 377.304688 259.715937\" xmlns=\"http://www.w3.org/2000/svg\" version=\"1.1\">\n <metadata>\n  <rdf:RDF xmlns:dc=\"http://purl.org/dc/elements/1.1/\" xmlns:cc=\"http://creativecommons.org/ns#\" xmlns:rdf=\"http://www.w3.org/1999/02/22-rdf-syntax-ns#\">\n   <cc:Work>\n    <dc:type rdf:resource=\"http://purl.org/dc/dcmitype/StillImage\"/>\n    <dc:date>2022-05-11T08:32:20.507504</dc:date>\n    <dc:format>image/svg+xml</dc:format>\n    <dc:creator>\n     <cc:Agent>\n      <dc:title>Matplotlib v3.5.1, https://matplotlib.org/</dc:title>\n     </cc:Agent>\n    </dc:creator>\n   </cc:Work>\n  </rdf:RDF>\n </metadata>\n <defs>\n  <style type=\"text/css\">*{stroke-linejoin: round; stroke-linecap: butt}</style>\n </defs>\n <g id=\"figure_1\">\n  <g id=\"patch_1\">\n   <path d=\"M 0 259.715937 \nL 377.304688 259.715937 \nL 377.304688 0 \nL 0 0 \nL 0 259.715937 \nz\n\" style=\"fill: none\"/>\n  </g>\n  <g id=\"axes_1\">\n   <g id=\"patch_2\">\n    <path d=\"M 35.304688 224.64 \nL 370.104688 224.64 \nL 370.104688 7.2 \nL 35.304688 7.2 \nz\n\" style=\"fill: #ffffff\"/>\n   </g>\n   <g id=\"matplotlib.axis_1\">\n    <g id=\"xtick_1\">\n     <g id=\"line2d_1\">\n      <defs>\n       <path id=\"m024b65e36f\" d=\"M 0 0 \nL 0 3.5 \n\" style=\"stroke: #000000; stroke-width: 0.8\"/>\n      </defs>\n      <g>\n       <use xlink:href=\"#m024b65e36f\" x=\"35.304688\" y=\"224.64\" style=\"stroke: #000000; stroke-width: 0.8\"/>\n      </g>\n     </g>\n     <g id=\"text_1\">\n      <!-- Jan -->\n      <g transform=\"translate(27.596875 239.238438)scale(0.1 -0.1)\">\n       <defs>\n        <path id=\"DejaVuSans-4a\" d=\"M 628 4666 \nL 1259 4666 \nL 1259 325 \nQ 1259 -519 939 -900 \nQ 619 -1281 -91 -1281 \nL -331 -1281 \nL -331 -750 \nL -134 -750 \nQ 284 -750 456 -515 \nQ 628 -281 628 325 \nL 628 4666 \nz\n\" transform=\"scale(0.015625)\"/>\n        <path id=\"DejaVuSans-61\" d=\"M 2194 1759 \nQ 1497 1759 1228 1600 \nQ 959 1441 959 1056 \nQ 959 750 1161 570 \nQ 1363 391 1709 391 \nQ 2188 391 2477 730 \nQ 2766 1069 2766 1631 \nL 2766 1759 \nL 2194 1759 \nz\nM 3341 1997 \nL 3341 0 \nL 2766 0 \nL 2766 531 \nQ 2569 213 2275 61 \nQ 1981 -91 1556 -91 \nQ 1019 -91 701 211 \nQ 384 513 384 1019 \nQ 384 1609 779 1909 \nQ 1175 2209 1959 2209 \nL 2766 2209 \nL 2766 2266 \nQ 2766 2663 2505 2880 \nQ 2244 3097 1772 3097 \nQ 1472 3097 1187 3025 \nQ 903 2953 641 2809 \nL 641 3341 \nQ 956 3463 1253 3523 \nQ 1550 3584 1831 3584 \nQ 2591 3584 2966 3190 \nQ 3341 2797 3341 1997 \nz\n\" transform=\"scale(0.015625)\"/>\n        <path id=\"DejaVuSans-6e\" d=\"M 3513 2113 \nL 3513 0 \nL 2938 0 \nL 2938 2094 \nQ 2938 2591 2744 2837 \nQ 2550 3084 2163 3084 \nQ 1697 3084 1428 2787 \nQ 1159 2491 1159 1978 \nL 1159 0 \nL 581 0 \nL 581 3500 \nL 1159 3500 \nL 1159 2956 \nQ 1366 3272 1645 3428 \nQ 1925 3584 2291 3584 \nQ 2894 3584 3203 3211 \nQ 3513 2838 3513 2113 \nz\n\" transform=\"scale(0.015625)\"/>\n       </defs>\n       <use xlink:href=\"#DejaVuSans-4a\"/>\n       <use xlink:href=\"#DejaVuSans-61\" x=\"29.492188\"/>\n       <use xlink:href=\"#DejaVuSans-6e\" x=\"90.771484\"/>\n      </g>\n      <!-- 2022 -->\n      <g transform=\"translate(22.579687 250.43625)scale(0.1 -0.1)\">\n       <defs>\n        <path id=\"DejaVuSans-32\" d=\"M 1228 531 \nL 3431 531 \nL 3431 0 \nL 469 0 \nL 469 531 \nQ 828 903 1448 1529 \nQ 2069 2156 2228 2338 \nQ 2531 2678 2651 2914 \nQ 2772 3150 2772 3378 \nQ 2772 3750 2511 3984 \nQ 2250 4219 1831 4219 \nQ 1534 4219 1204 4116 \nQ 875 4013 500 3803 \nL 500 4441 \nQ 881 4594 1212 4672 \nQ 1544 4750 1819 4750 \nQ 2544 4750 2975 4387 \nQ 3406 4025 3406 3419 \nQ 3406 3131 3298 2873 \nQ 3191 2616 2906 2266 \nQ 2828 2175 2409 1742 \nQ 1991 1309 1228 531 \nz\n\" transform=\"scale(0.015625)\"/>\n        <path id=\"DejaVuSans-30\" d=\"M 2034 4250 \nQ 1547 4250 1301 3770 \nQ 1056 3291 1056 2328 \nQ 1056 1369 1301 889 \nQ 1547 409 2034 409 \nQ 2525 409 2770 889 \nQ 3016 1369 3016 2328 \nQ 3016 3291 2770 3770 \nQ 2525 4250 2034 4250 \nz\nM 2034 4750 \nQ 2819 4750 3233 4129 \nQ 3647 3509 3647 2328 \nQ 3647 1150 3233 529 \nQ 2819 -91 2034 -91 \nQ 1250 -91 836 529 \nQ 422 1150 422 2328 \nQ 422 3509 836 4129 \nQ 1250 4750 2034 4750 \nz\n\" transform=\"scale(0.015625)\"/>\n       </defs>\n       <use xlink:href=\"#DejaVuSans-32\"/>\n       <use xlink:href=\"#DejaVuSans-30\" x=\"63.623047\"/>\n       <use xlink:href=\"#DejaVuSans-32\" x=\"127.246094\"/>\n       <use xlink:href=\"#DejaVuSans-32\" x=\"190.869141\"/>\n      </g>\n     </g>\n    </g>\n    <g id=\"xtick_2\">\n     <g id=\"line2d_2\">\n      <g>\n       <use xlink:href=\"#m024b65e36f\" x=\"157.629012\" y=\"224.64\" style=\"stroke: #000000; stroke-width: 0.8\"/>\n      </g>\n     </g>\n     <g id=\"text_2\">\n      <!-- Jan -->\n      <g transform=\"translate(149.921199 239.238438)scale(0.1 -0.1)\">\n       <use xlink:href=\"#DejaVuSans-4a\"/>\n       <use xlink:href=\"#DejaVuSans-61\" x=\"29.492188\"/>\n       <use xlink:href=\"#DejaVuSans-6e\" x=\"90.771484\"/>\n      </g>\n      <!-- 2023 -->\n      <g transform=\"translate(144.904012 250.43625)scale(0.1 -0.1)\">\n       <defs>\n        <path id=\"DejaVuSans-33\" d=\"M 2597 2516 \nQ 3050 2419 3304 2112 \nQ 3559 1806 3559 1356 \nQ 3559 666 3084 287 \nQ 2609 -91 1734 -91 \nQ 1441 -91 1130 -33 \nQ 819 25 488 141 \nL 488 750 \nQ 750 597 1062 519 \nQ 1375 441 1716 441 \nQ 2309 441 2620 675 \nQ 2931 909 2931 1356 \nQ 2931 1769 2642 2001 \nQ 2353 2234 1838 2234 \nL 1294 2234 \nL 1294 2753 \nL 1863 2753 \nQ 2328 2753 2575 2939 \nQ 2822 3125 2822 3475 \nQ 2822 3834 2567 4026 \nQ 2313 4219 1838 4219 \nQ 1578 4219 1281 4162 \nQ 984 4106 628 3988 \nL 628 4550 \nQ 988 4650 1302 4700 \nQ 1616 4750 1894 4750 \nQ 2613 4750 3031 4423 \nQ 3450 4097 3450 3541 \nQ 3450 3153 3228 2886 \nQ 3006 2619 2597 2516 \nz\n\" transform=\"scale(0.015625)\"/>\n       </defs>\n       <use xlink:href=\"#DejaVuSans-32\"/>\n       <use xlink:href=\"#DejaVuSans-30\" x=\"63.623047\"/>\n       <use xlink:href=\"#DejaVuSans-32\" x=\"127.246094\"/>\n       <use xlink:href=\"#DejaVuSans-33\" x=\"190.869141\"/>\n      </g>\n     </g>\n    </g>\n    <g id=\"xtick_3\">\n     <g id=\"line2d_3\">\n      <g>\n       <use xlink:href=\"#m024b65e36f\" x=\"279.953336\" y=\"224.64\" style=\"stroke: #000000; stroke-width: 0.8\"/>\n      </g>\n     </g>\n     <g id=\"text_3\">\n      <!-- Jan -->\n      <g transform=\"translate(272.245524 239.238438)scale(0.1 -0.1)\">\n       <use xlink:href=\"#DejaVuSans-4a\"/>\n       <use xlink:href=\"#DejaVuSans-61\" x=\"29.492188\"/>\n       <use xlink:href=\"#DejaVuSans-6e\" x=\"90.771484\"/>\n      </g>\n      <!-- 2024 -->\n      <g transform=\"translate(267.228336 250.43625)scale(0.1 -0.1)\">\n       <defs>\n        <path id=\"DejaVuSans-34\" d=\"M 2419 4116 \nL 825 1625 \nL 2419 1625 \nL 2419 4116 \nz\nM 2253 4666 \nL 3047 4666 \nL 3047 1625 \nL 3713 1625 \nL 3713 1100 \nL 3047 1100 \nL 3047 0 \nL 2419 0 \nL 2419 1100 \nL 313 1100 \nL 313 1709 \nL 2253 4666 \nz\n\" transform=\"scale(0.015625)\"/>\n       </defs>\n       <use xlink:href=\"#DejaVuSans-32\"/>\n       <use xlink:href=\"#DejaVuSans-30\" x=\"63.623047\"/>\n       <use xlink:href=\"#DejaVuSans-32\" x=\"127.246094\"/>\n       <use xlink:href=\"#DejaVuSans-34\" x=\"190.869141\"/>\n      </g>\n     </g>\n    </g>\n    <g id=\"xtick_4\">\n     <g id=\"line2d_4\">\n      <g>\n       <use xlink:href=\"#m024b65e36f\" x=\"370.104688\" y=\"224.64\" style=\"stroke: #000000; stroke-width: 0.8\"/>\n      </g>\n     </g>\n    </g>\n    <g id=\"xtick_5\">\n     <g id=\"line2d_5\">\n      <defs>\n       <path id=\"mb9e28a7374\" d=\"M 0 0 \nL 0 2 \n\" style=\"stroke: #000000; stroke-width: 0.6\"/>\n      </defs>\n      <g>\n       <use xlink:href=\"#mb9e28a7374\" x=\"45.693877\" y=\"224.64\" style=\"stroke: #000000; stroke-width: 0.6\"/>\n      </g>\n     </g>\n    </g>\n    <g id=\"xtick_6\">\n     <g id=\"line2d_6\">\n      <g>\n       <use xlink:href=\"#mb9e28a7374\" x=\"55.07766\" y=\"224.64\" style=\"stroke: #000000; stroke-width: 0.6\"/>\n      </g>\n     </g>\n    </g>\n    <g id=\"xtick_7\">\n     <g id=\"line2d_7\">\n      <g>\n       <use xlink:href=\"#mb9e28a7374\" x=\"65.46685\" y=\"224.64\" style=\"stroke: #000000; stroke-width: 0.6\"/>\n      </g>\n     </g>\n    </g>\n    <g id=\"xtick_8\">\n     <g id=\"line2d_8\">\n      <g>\n       <use xlink:href=\"#mb9e28a7374\" x=\"75.520904\" y=\"224.64\" style=\"stroke: #000000; stroke-width: 0.6\"/>\n      </g>\n     </g>\n    </g>\n    <g id=\"xtick_9\">\n     <g id=\"line2d_9\">\n      <g>\n       <use xlink:href=\"#mb9e28a7374\" x=\"85.910093\" y=\"224.64\" style=\"stroke: #000000; stroke-width: 0.6\"/>\n      </g>\n     </g>\n    </g>\n    <g id=\"xtick_10\">\n     <g id=\"line2d_10\">\n      <g>\n       <use xlink:href=\"#mb9e28a7374\" x=\"95.964147\" y=\"224.64\" style=\"stroke: #000000; stroke-width: 0.6\"/>\n      </g>\n     </g>\n     <g id=\"text_4\">\n      <!-- Jul -->\n      <g transform=\"translate(89.931334 237.638438)scale(0.1 -0.1)\">\n       <defs>\n        <path id=\"DejaVuSans-75\" d=\"M 544 1381 \nL 544 3500 \nL 1119 3500 \nL 1119 1403 \nQ 1119 906 1312 657 \nQ 1506 409 1894 409 \nQ 2359 409 2629 706 \nQ 2900 1003 2900 1516 \nL 2900 3500 \nL 3475 3500 \nL 3475 0 \nL 2900 0 \nL 2900 538 \nQ 2691 219 2414 64 \nQ 2138 -91 1772 -91 \nQ 1169 -91 856 284 \nQ 544 659 544 1381 \nz\nM 1991 3584 \nL 1991 3584 \nz\n\" transform=\"scale(0.015625)\"/>\n        <path id=\"DejaVuSans-6c\" d=\"M 603 4863 \nL 1178 4863 \nL 1178 0 \nL 603 0 \nL 603 4863 \nz\n\" transform=\"scale(0.015625)\"/>\n       </defs>\n       <use xlink:href=\"#DejaVuSans-4a\"/>\n       <use xlink:href=\"#DejaVuSans-75\" x=\"29.492188\"/>\n       <use xlink:href=\"#DejaVuSans-6c\" x=\"92.871094\"/>\n      </g>\n     </g>\n    </g>\n    <g id=\"xtick_11\">\n     <g id=\"line2d_11\">\n      <g>\n       <use xlink:href=\"#mb9e28a7374\" x=\"106.353336\" y=\"224.64\" style=\"stroke: #000000; stroke-width: 0.6\"/>\n      </g>\n     </g>\n    </g>\n    <g id=\"xtick_12\">\n     <g id=\"line2d_12\">\n      <g>\n       <use xlink:href=\"#mb9e28a7374\" x=\"116.742525\" y=\"224.64\" style=\"stroke: #000000; stroke-width: 0.6\"/>\n      </g>\n     </g>\n    </g>\n    <g id=\"xtick_13\">\n     <g id=\"line2d_13\">\n      <g>\n       <use xlink:href=\"#mb9e28a7374\" x=\"126.796579\" y=\"224.64\" style=\"stroke: #000000; stroke-width: 0.6\"/>\n      </g>\n     </g>\n    </g>\n    <g id=\"xtick_14\">\n     <g id=\"line2d_14\">\n      <g>\n       <use xlink:href=\"#mb9e28a7374\" x=\"137.185769\" y=\"224.64\" style=\"stroke: #000000; stroke-width: 0.6\"/>\n      </g>\n     </g>\n    </g>\n    <g id=\"xtick_15\">\n     <g id=\"line2d_15\">\n      <g>\n       <use xlink:href=\"#mb9e28a7374\" x=\"147.239823\" y=\"224.64\" style=\"stroke: #000000; stroke-width: 0.6\"/>\n      </g>\n     </g>\n    </g>\n    <g id=\"xtick_16\">\n     <g id=\"line2d_16\">\n      <g>\n       <use xlink:href=\"#mb9e28a7374\" x=\"168.018201\" y=\"224.64\" style=\"stroke: #000000; stroke-width: 0.6\"/>\n      </g>\n     </g>\n    </g>\n    <g id=\"xtick_17\">\n     <g id=\"line2d_17\">\n      <g>\n       <use xlink:href=\"#mb9e28a7374\" x=\"177.401985\" y=\"224.64\" style=\"stroke: #000000; stroke-width: 0.6\"/>\n      </g>\n     </g>\n    </g>\n    <g id=\"xtick_18\">\n     <g id=\"line2d_18\">\n      <g>\n       <use xlink:href=\"#mb9e28a7374\" x=\"187.791174\" y=\"224.64\" style=\"stroke: #000000; stroke-width: 0.6\"/>\n      </g>\n     </g>\n    </g>\n    <g id=\"xtick_19\">\n     <g id=\"line2d_19\">\n      <g>\n       <use xlink:href=\"#mb9e28a7374\" x=\"197.845228\" y=\"224.64\" style=\"stroke: #000000; stroke-width: 0.6\"/>\n      </g>\n     </g>\n    </g>\n    <g id=\"xtick_20\">\n     <g id=\"line2d_20\">\n      <g>\n       <use xlink:href=\"#mb9e28a7374\" x=\"208.234417\" y=\"224.64\" style=\"stroke: #000000; stroke-width: 0.6\"/>\n      </g>\n     </g>\n    </g>\n    <g id=\"xtick_21\">\n     <g id=\"line2d_21\">\n      <g>\n       <use xlink:href=\"#mb9e28a7374\" x=\"218.288471\" y=\"224.64\" style=\"stroke: #000000; stroke-width: 0.6\"/>\n      </g>\n     </g>\n     <g id=\"text_5\">\n      <!-- Jul -->\n      <g transform=\"translate(212.255659 237.638438)scale(0.1 -0.1)\">\n       <use xlink:href=\"#DejaVuSans-4a\"/>\n       <use xlink:href=\"#DejaVuSans-75\" x=\"29.492188\"/>\n       <use xlink:href=\"#DejaVuSans-6c\" x=\"92.871094\"/>\n      </g>\n     </g>\n    </g>\n    <g id=\"xtick_22\">\n     <g id=\"line2d_22\">\n      <g>\n       <use xlink:href=\"#mb9e28a7374\" x=\"228.67766\" y=\"224.64\" style=\"stroke: #000000; stroke-width: 0.6\"/>\n      </g>\n     </g>\n    </g>\n    <g id=\"xtick_23\">\n     <g id=\"line2d_23\">\n      <g>\n       <use xlink:href=\"#mb9e28a7374\" x=\"239.06685\" y=\"224.64\" style=\"stroke: #000000; stroke-width: 0.6\"/>\n      </g>\n     </g>\n    </g>\n    <g id=\"xtick_24\">\n     <g id=\"line2d_24\">\n      <g>\n       <use xlink:href=\"#mb9e28a7374\" x=\"249.120904\" y=\"224.64\" style=\"stroke: #000000; stroke-width: 0.6\"/>\n      </g>\n     </g>\n    </g>\n    <g id=\"xtick_25\">\n     <g id=\"line2d_25\">\n      <g>\n       <use xlink:href=\"#mb9e28a7374\" x=\"259.510093\" y=\"224.64\" style=\"stroke: #000000; stroke-width: 0.6\"/>\n      </g>\n     </g>\n    </g>\n    <g id=\"xtick_26\">\n     <g id=\"line2d_26\">\n      <g>\n       <use xlink:href=\"#mb9e28a7374\" x=\"269.564147\" y=\"224.64\" style=\"stroke: #000000; stroke-width: 0.6\"/>\n      </g>\n     </g>\n    </g>\n    <g id=\"xtick_27\">\n     <g id=\"line2d_27\">\n      <g>\n       <use xlink:href=\"#mb9e28a7374\" x=\"290.342525\" y=\"224.64\" style=\"stroke: #000000; stroke-width: 0.6\"/>\n      </g>\n     </g>\n    </g>\n    <g id=\"xtick_28\">\n     <g id=\"line2d_28\">\n      <g>\n       <use xlink:href=\"#mb9e28a7374\" x=\"300.061444\" y=\"224.64\" style=\"stroke: #000000; stroke-width: 0.6\"/>\n      </g>\n     </g>\n    </g>\n    <g id=\"xtick_29\">\n     <g id=\"line2d_29\">\n      <g>\n       <use xlink:href=\"#mb9e28a7374\" x=\"310.450633\" y=\"224.64\" style=\"stroke: #000000; stroke-width: 0.6\"/>\n      </g>\n     </g>\n    </g>\n    <g id=\"xtick_30\">\n     <g id=\"line2d_30\">\n      <g>\n       <use xlink:href=\"#mb9e28a7374\" x=\"320.504687\" y=\"224.64\" style=\"stroke: #000000; stroke-width: 0.6\"/>\n      </g>\n     </g>\n    </g>\n    <g id=\"xtick_31\">\n     <g id=\"line2d_31\">\n      <g>\n       <use xlink:href=\"#mb9e28a7374\" x=\"330.893877\" y=\"224.64\" style=\"stroke: #000000; stroke-width: 0.6\"/>\n      </g>\n     </g>\n    </g>\n    <g id=\"xtick_32\">\n     <g id=\"line2d_32\">\n      <g>\n       <use xlink:href=\"#mb9e28a7374\" x=\"340.947931\" y=\"224.64\" style=\"stroke: #000000; stroke-width: 0.6\"/>\n      </g>\n     </g>\n     <g id=\"text_6\">\n      <!-- Jul -->\n      <g transform=\"translate(334.915118 237.638438)scale(0.1 -0.1)\">\n       <use xlink:href=\"#DejaVuSans-4a\"/>\n       <use xlink:href=\"#DejaVuSans-75\" x=\"29.492188\"/>\n       <use xlink:href=\"#DejaVuSans-6c\" x=\"92.871094\"/>\n      </g>\n     </g>\n    </g>\n    <g id=\"xtick_33\">\n     <g id=\"line2d_33\">\n      <g>\n       <use xlink:href=\"#mb9e28a7374\" x=\"351.33712\" y=\"224.64\" style=\"stroke: #000000; stroke-width: 0.6\"/>\n      </g>\n     </g>\n    </g>\n    <g id=\"xtick_34\">\n     <g id=\"line2d_34\">\n      <g>\n       <use xlink:href=\"#mb9e28a7374\" x=\"361.726309\" y=\"224.64\" style=\"stroke: #000000; stroke-width: 0.6\"/>\n      </g>\n     </g>\n    </g>\n   </g>\n   <g id=\"matplotlib.axis_2\">\n    <g id=\"ytick_1\">\n     <g id=\"line2d_35\">\n      <defs>\n       <path id=\"m5c1a8b0fe5\" d=\"M 0 0 \nL -3.5 0 \n\" style=\"stroke: #000000; stroke-width: 0.8\"/>\n      </defs>\n      <g>\n       <use xlink:href=\"#m5c1a8b0fe5\" x=\"35.304688\" y=\"208.000304\" style=\"stroke: #000000; stroke-width: 0.8\"/>\n      </g>\n     </g>\n     <g id=\"text_7\">\n      <!-- −35 -->\n      <g transform=\"translate(7.2 211.799523)scale(0.1 -0.1)\">\n       <defs>\n        <path id=\"DejaVuSans-2212\" d=\"M 678 2272 \nL 4684 2272 \nL 4684 1741 \nL 678 1741 \nL 678 2272 \nz\n\" transform=\"scale(0.015625)\"/>\n        <path id=\"DejaVuSans-35\" d=\"M 691 4666 \nL 3169 4666 \nL 3169 4134 \nL 1269 4134 \nL 1269 2991 \nQ 1406 3038 1543 3061 \nQ 1681 3084 1819 3084 \nQ 2600 3084 3056 2656 \nQ 3513 2228 3513 1497 \nQ 3513 744 3044 326 \nQ 2575 -91 1722 -91 \nQ 1428 -91 1123 -41 \nQ 819 9 494 109 \nL 494 744 \nQ 775 591 1075 516 \nQ 1375 441 1709 441 \nQ 2250 441 2565 725 \nQ 2881 1009 2881 1497 \nQ 2881 1984 2565 2268 \nQ 2250 2553 1709 2553 \nQ 1456 2553 1204 2497 \nQ 953 2441 691 2322 \nL 691 4666 \nz\n\" transform=\"scale(0.015625)\"/>\n       </defs>\n       <use xlink:href=\"#DejaVuSans-2212\"/>\n       <use xlink:href=\"#DejaVuSans-33\" x=\"83.789062\"/>\n       <use xlink:href=\"#DejaVuSans-35\" x=\"147.412109\"/>\n      </g>\n     </g>\n    </g>\n    <g id=\"ytick_2\">\n     <g id=\"line2d_36\">\n      <g>\n       <use xlink:href=\"#m5c1a8b0fe5\" x=\"35.304688\" y=\"182.708916\" style=\"stroke: #000000; stroke-width: 0.8\"/>\n      </g>\n     </g>\n     <g id=\"text_8\">\n      <!-- −30 -->\n      <g transform=\"translate(7.2 186.508135)scale(0.1 -0.1)\">\n       <use xlink:href=\"#DejaVuSans-2212\"/>\n       <use xlink:href=\"#DejaVuSans-33\" x=\"83.789062\"/>\n       <use xlink:href=\"#DejaVuSans-30\" x=\"147.412109\"/>\n      </g>\n     </g>\n    </g>\n    <g id=\"ytick_3\">\n     <g id=\"line2d_37\">\n      <g>\n       <use xlink:href=\"#m5c1a8b0fe5\" x=\"35.304688\" y=\"157.417528\" style=\"stroke: #000000; stroke-width: 0.8\"/>\n      </g>\n     </g>\n     <g id=\"text_9\">\n      <!-- −25 -->\n      <g transform=\"translate(7.2 161.216747)scale(0.1 -0.1)\">\n       <use xlink:href=\"#DejaVuSans-2212\"/>\n       <use xlink:href=\"#DejaVuSans-32\" x=\"83.789062\"/>\n       <use xlink:href=\"#DejaVuSans-35\" x=\"147.412109\"/>\n      </g>\n     </g>\n    </g>\n    <g id=\"ytick_4\">\n     <g id=\"line2d_38\">\n      <g>\n       <use xlink:href=\"#m5c1a8b0fe5\" x=\"35.304688\" y=\"132.12614\" style=\"stroke: #000000; stroke-width: 0.8\"/>\n      </g>\n     </g>\n     <g id=\"text_10\">\n      <!-- −20 -->\n      <g transform=\"translate(7.2 135.925359)scale(0.1 -0.1)\">\n       <use xlink:href=\"#DejaVuSans-2212\"/>\n       <use xlink:href=\"#DejaVuSans-32\" x=\"83.789062\"/>\n       <use xlink:href=\"#DejaVuSans-30\" x=\"147.412109\"/>\n      </g>\n     </g>\n    </g>\n    <g id=\"ytick_5\">\n     <g id=\"line2d_39\">\n      <g>\n       <use xlink:href=\"#m5c1a8b0fe5\" x=\"35.304688\" y=\"106.834752\" style=\"stroke: #000000; stroke-width: 0.8\"/>\n      </g>\n     </g>\n     <g id=\"text_11\">\n      <!-- −15 -->\n      <g transform=\"translate(7.2 110.633971)scale(0.1 -0.1)\">\n       <defs>\n        <path id=\"DejaVuSans-31\" d=\"M 794 531 \nL 1825 531 \nL 1825 4091 \nL 703 3866 \nL 703 4441 \nL 1819 4666 \nL 2450 4666 \nL 2450 531 \nL 3481 531 \nL 3481 0 \nL 794 0 \nL 794 531 \nz\n\" transform=\"scale(0.015625)\"/>\n       </defs>\n       <use xlink:href=\"#DejaVuSans-2212\"/>\n       <use xlink:href=\"#DejaVuSans-31\" x=\"83.789062\"/>\n       <use xlink:href=\"#DejaVuSans-35\" x=\"147.412109\"/>\n      </g>\n     </g>\n    </g>\n    <g id=\"ytick_6\">\n     <g id=\"line2d_40\">\n      <g>\n       <use xlink:href=\"#m5c1a8b0fe5\" x=\"35.304688\" y=\"81.543364\" style=\"stroke: #000000; stroke-width: 0.8\"/>\n      </g>\n     </g>\n     <g id=\"text_12\">\n      <!-- −10 -->\n      <g transform=\"translate(7.2 85.342583)scale(0.1 -0.1)\">\n       <use xlink:href=\"#DejaVuSans-2212\"/>\n       <use xlink:href=\"#DejaVuSans-31\" x=\"83.789062\"/>\n       <use xlink:href=\"#DejaVuSans-30\" x=\"147.412109\"/>\n      </g>\n     </g>\n    </g>\n    <g id=\"ytick_7\">\n     <g id=\"line2d_41\">\n      <g>\n       <use xlink:href=\"#m5c1a8b0fe5\" x=\"35.304688\" y=\"56.251976\" style=\"stroke: #000000; stroke-width: 0.8\"/>\n      </g>\n     </g>\n     <g id=\"text_13\">\n      <!-- −5 -->\n      <g transform=\"translate(13.5625 60.051195)scale(0.1 -0.1)\">\n       <use xlink:href=\"#DejaVuSans-2212\"/>\n       <use xlink:href=\"#DejaVuSans-35\" x=\"83.789062\"/>\n      </g>\n     </g>\n    </g>\n    <g id=\"ytick_8\">\n     <g id=\"line2d_42\">\n      <g>\n       <use xlink:href=\"#m5c1a8b0fe5\" x=\"35.304688\" y=\"30.960588\" style=\"stroke: #000000; stroke-width: 0.8\"/>\n      </g>\n     </g>\n     <g id=\"text_14\">\n      <!-- 0 -->\n      <g transform=\"translate(21.942188 34.759807)scale(0.1 -0.1)\">\n       <use xlink:href=\"#DejaVuSans-30\"/>\n      </g>\n     </g>\n    </g>\n   </g>\n   <g id=\"line2d_43\">\n    <path d=\"M 35.304688 37.835853 \nL 35.639823 38.366942 \nL 35.974958 35.493912 \nL 36.310093 34.780296 \nL 36.645228 37.740544 \nL 36.980363 38.368203 \nL 37.315498 40.295073 \nL 37.650633 48.956388 \nL 37.985769 53.529277 \nL 38.320904 54.192997 \nL 38.656039 59.627176 \nL 39.326309 62.251176 \nL 39.996579 61.288246 \nL 40.331715 57.477751 \nL 40.66685 49.88431 \nL 41.001985 57.506968 \nL 41.672255 49.940874 \nL 42.00739 52.105665 \nL 42.67766 38.148677 \nL 43.012796 40.895218 \nL 43.347931 38.085725 \nL 43.683066 42.12224 \nL 44.018201 37.699797 \nL 44.353336 36.023358 \nL 44.688471 30.820809 \nL 45.023606 43.239475 \nL 45.358742 48.467198 \nL 45.693877 44.364375 \nL 46.029012 53.125272 \nL 46.699282 45.427378 \nL 47.034417 37.16233 \nL 47.369552 32.150785 \nL 47.704687 31.458911 \nL 48.039823 25.886146 \nL 48.374958 24.526623 \nL 48.710093 25.849611 \nL 49.045228 25.427578 \nL 49.380363 23.86589 \nL 50.050633 39.956314 \nL 50.720904 31.73816 \nL 51.056039 32.733034 \nL 51.391174 30.826468 \nL 51.726309 25.606654 \nL 52.061444 29.098909 \nL 52.396579 33.930165 \nL 52.731715 40.505697 \nL 53.06685 35.95711 \nL 53.401985 35.425093 \nL 53.73712 42.235032 \nL 54.072255 45.33271 \nL 54.40739 43.602086 \nL 54.742525 40.039281 \nL 55.07766 41.142265 \nL 55.412796 35.768493 \nL 55.747931 37.408707 \nL 56.083066 28.763498 \nL 56.418201 28.331009 \nL 56.753336 29.566772 \nL 57.088471 32.743792 \nL 57.423606 20.995339 \nL 57.758742 18.57351 \nL 58.093877 17.083636 \nL 58.764147 22.905317 \nL 59.099282 31.689583 \nL 59.434417 30.967796 \nL 59.769552 32.057679 \nL 60.104688 35.843423 \nL 60.439823 34.915521 \nL 60.774958 38.114621 \nL 61.445228 37.07722 \nL 62.115498 29.554057 \nL 62.450633 29.941352 \nL 62.785769 29.638552 \nL 63.120904 30.871408 \nL 63.456039 34.432647 \nL 63.791174 32.682869 \nL 64.126309 39.535006 \nL 64.461444 35.942806 \nL 64.796579 47.824067 \nL 65.131715 55.351149 \nL 65.46685 48.136584 \nL 65.801985 50.877633 \nL 66.13712 50.588539 \nL 66.472255 61.452925 \nL 66.80739 53.815655 \nL 67.142525 54.130102 \nL 67.47766 58.178958 \nL 67.812796 58.314842 \nL 68.147931 65.891922 \nL 68.818201 73.434309 \nL 69.153336 71.715379 \nL 70.158742 52.2724 \nL 70.493877 49.723415 \nL 70.829012 44.773714 \nL 71.164147 43.119603 \nL 71.499282 39.858595 \nL 71.834417 41.129625 \nL 72.169552 46.477152 \nL 72.839823 40.932673 \nL 73.174958 40.945453 \nL 73.510093 42.544463 \nL 73.845228 40.389644 \nL 74.180363 43.180377 \nL 75.185769 33.958609 \nL 75.520904 26.775042 \nL 75.856039 22.292886 \nL 76.191174 35.087735 \nL 76.861444 44.830688 \nL 77.196579 37.628784 \nL 77.531715 37.477469 \nL 78.53712 28.505259 \nL 79.542525 42.791541 \nL 79.87766 42.707505 \nL 80.212796 37.17193 \nL 80.547931 35.283395 \nL 81.553336 39.486131 \nL 81.888471 37.102927 \nL 82.223606 36.943838 \nL 82.558742 30.051359 \nL 82.893877 42.077828 \nL 83.229012 44.939804 \nL 83.564147 45.785183 \nL 83.899282 52.318249 \nL 84.234417 53.590509 \nL 84.569552 52.181707 \nL 84.904688 47.475745 \nL 85.239823 41.059396 \nL 85.574958 40.815144 \nL 85.910093 41.810243 \nL 86.245228 41.230813 \nL 86.580363 40.391008 \nL 87.250633 44.782618 \nL 88.591174 63.302803 \nL 88.926309 58.997371 \nL 89.261444 57.50898 \nL 89.596579 61.143304 \nL 89.931715 49.73984 \nL 90.26685 46.377612 \nL 90.601985 56.104542 \nL 91.272255 60.342786 \nL 91.60739 57.4043 \nL 91.942525 53.376577 \nL 92.27766 58.526795 \nL 92.612796 61.330625 \nL 92.947931 60.132059 \nL 93.618201 54.385406 \nL 93.953336 53.397316 \nL 94.623606 63.860084 \nL 94.958742 60.219099 \nL 95.293877 58.43887 \nL 95.629012 66.774351 \nL 95.964147 69.110744 \nL 96.299282 68.564702 \nL 96.969552 70.533765 \nL 97.304688 69.213561 \nL 97.639823 65.526676 \nL 97.974958 57.1252 \nL 98.310093 54.3575 \nL 98.645228 60.455619 \nL 98.980363 55.197576 \nL 99.315498 56.045885 \nL 99.650633 57.998149 \nL 99.985769 58.241908 \nL 100.320904 57.394432 \nL 100.656039 55.920337 \nL 100.991174 66.716229 \nL 101.326309 59.308119 \nL 101.661444 58.529392 \nL 101.996579 60.019136 \nL 102.331715 64.071449 \nL 103.001985 56.043786 \nL 103.33712 56.40189 \nL 103.672255 66.513324 \nL 104.00739 62.525397 \nL 104.342525 61.662902 \nL 104.67766 61.6519 \nL 105.012796 54.682562 \nL 105.347931 57.473135 \nL 105.683066 55.656976 \nL 106.018201 67.606427 \nL 106.353336 74.181902 \nL 106.688471 73.906919 \nL 107.023606 67.358881 \nL 107.358742 67.176432 \nL 107.693877 64.257231 \nL 108.029012 67.397716 \nL 108.364147 62.30008 \nL 108.699282 60.309123 \nL 109.034417 56.979768 \nL 109.369552 55.787777 \nL 109.704687 60.498674 \nL 110.039823 66.970557 \nL 110.374958 66.155205 \nL 110.710093 67.173025 \nL 111.045228 75.495381 \nL 111.380363 68.422332 \nL 111.715498 64.29165 \nL 112.050633 71.303784 \nL 112.385769 71.105428 \nL 112.720904 74.451401 \nL 113.391174 87.674452 \nL 113.726309 79.418766 \nL 114.396579 83.919139 \nL 114.731715 94.603778 \nL 115.06685 91.002289 \nL 115.401985 89.709162 \nL 115.73712 86.199989 \nL 116.072255 85.340442 \nL 116.40739 83.49611 \nL 116.742525 87.708143 \nL 117.07766 85.848856 \nL 117.412796 90.741595 \nL 117.747931 91.142574 \nL 118.083066 93.640083 \nL 118.418201 88.725062 \nL 118.753336 86.494306 \nL 119.088471 92.2751 \nL 119.423606 91.849924 \nL 119.758742 94.520035 \nL 120.093877 102.111413 \nL 120.429012 105.370725 \nL 120.764147 98.178624 \nL 121.099282 102.956837 \nL 121.434417 109.780909 \nL 121.769552 105.399944 \nL 122.104688 107.160929 \nL 123.445228 90.353646 \nL 123.780363 87.375963 \nL 124.115498 92.778886 \nL 124.450633 90.517427 \nL 125.120904 82.03497 \nL 125.791174 78.159513 \nL 126.126309 78.759343 \nL 126.461444 75.08528 \nL 126.796579 83.417254 \nL 127.131715 79.923983 \nL 127.46685 88.910387 \nL 127.801985 91.605685 \nL 128.13712 90.599923 \nL 128.472255 93.416273 \nL 128.80739 101.360007 \nL 129.142525 105.27537 \nL 129.47766 102.830169 \nL 129.812796 102.384786 \nL 130.147931 104.135108 \nL 130.483066 104.288989 \nL 131.153336 91.639647 \nL 131.488471 91.794353 \nL 131.823606 100.074166 \nL 132.158742 96.235225 \nL 132.829012 80.938223 \nL 133.164147 95.994066 \nL 133.499282 102.245059 \nL 133.834417 103.276037 \nL 134.169552 109.615627 \nL 134.504687 107.088668 \nL 134.839823 99.882306 \nL 135.174958 101.071555 \nL 135.510093 103.828193 \nL 135.845228 109.488987 \nL 136.180363 108.304023 \nL 136.515498 109.187799 \nL 136.850633 107.255312 \nL 137.185769 106.619648 \nL 137.520904 101.679003 \nL 137.856039 101.796296 \nL 138.526309 91.864759 \nL 138.861444 91.491752 \nL 139.196579 88.085405 \nL 139.531715 88.370175 \nL 140.201985 81.195331 \nL 140.53712 81.161879 \nL 141.20739 88.999205 \nL 141.542525 88.17571 \nL 141.87766 96.733017 \nL 142.212796 101.782759 \nL 142.547931 96.752613 \nL 142.883066 105.739539 \nL 143.218201 111.51924 \nL 143.553336 101.426476 \nL 143.888471 106.882435 \nL 144.223606 107.429265 \nL 144.558742 108.481868 \nL 144.893877 118.150695 \nL 145.229012 118.430623 \nL 145.564147 114.160749 \nL 145.899282 113.492592 \nL 146.904688 130.802111 \nL 147.239823 124.787553 \nL 147.574958 121.367983 \nL 147.910093 129.23778 \nL 148.245228 117.926379 \nL 148.580363 116.088806 \nL 148.915498 117.868 \nL 149.585769 120.082547 \nL 149.920904 123.272473 \nL 150.256039 128.858734 \nL 150.591174 136.688031 \nL 150.926309 128.704479 \nL 151.261444 129.388504 \nL 151.596579 135.974031 \nL 151.931715 130.518891 \nL 152.26685 130.398234 \nL 152.601985 123.238054 \nL 152.93712 127.147748 \nL 153.272255 121.740097 \nL 153.60739 122.104357 \nL 153.942525 118.042549 \nL 154.27766 118.105938 \nL 154.612796 117.834909 \nL 154.947931 128.932216 \nL 155.283066 129.973436 \nL 155.618201 130.54308 \nL 155.953336 125.188502 \nL 156.623606 142.642829 \nL 156.958742 140.793734 \nL 157.293877 147.5618 \nL 157.629012 143.421596 \nL 158.299282 139.536748 \nL 158.634417 140.228988 \nL 158.969552 142.869086 \nL 159.304688 138.35046 \nL 159.639823 140.310163 \nL 159.974958 136.060134 \nL 160.310093 128.472729 \nL 160.645228 114.543169 \nL 160.980363 119.680749 \nL 161.315498 127.317947 \nL 161.650633 122.544876 \nL 161.985769 122.797547 \nL 162.320904 127.622067 \nL 162.656039 123.860173 \nL 162.991174 123.052555 \nL 163.326309 125.294974 \nL 163.661444 124.645452 \nL 164.331715 145.384716 \nL 164.66685 145.026451 \nL 165.001985 140.664966 \nL 165.33712 148.250323 \nL 165.672255 148.182639 \nL 166.00739 139.826071 \nL 166.342525 145.823782 \nL 166.67766 148.70067 \nL 167.012796 143.042601 \nL 167.347931 155.539116 \nL 168.018201 145.048061 \nL 168.353336 154.315405 \nL 168.688471 153.940457 \nL 169.023606 156.98029 \nL 169.358742 156.830768 \nL 169.693877 158.540188 \nL 170.029012 150.295727 \nL 170.364147 147.693439 \nL 170.699282 151.716733 \nL 171.034417 147.284177 \nL 171.369552 149.499763 \nL 171.704687 143.22796 \nL 172.039823 144.689131 \nL 172.374958 131.925262 \nL 172.710093 131.213952 \nL 173.045228 131.185327 \nL 173.380363 125.223317 \nL 173.715498 136.51298 \nL 174.050633 132.462501 \nL 174.385769 125.523098 \nL 174.720904 129.818855 \nL 175.056039 145.701489 \nL 175.391174 148.883801 \nL 175.726309 149.169118 \nL 176.061444 142.806702 \nL 176.396579 139.586053 \nL 176.731715 143.872706 \nL 177.06685 141.000077 \nL 177.401985 140.069315 \nL 177.73712 138.416644 \nL 178.072255 135.132801 \nL 178.40739 144.552423 \nL 178.742525 131.670896 \nL 179.07766 127.938182 \nL 179.412796 120.097789 \nL 179.747931 129.191094 \nL 180.083066 130.809863 \nL 180.418201 137.628182 \nL 180.753336 139.487274 \nL 181.088471 149.790443 \nL 181.423606 147.918514 \nL 181.758742 150.425469 \nL 182.093877 139.61411 \nL 182.429012 139.307341 \nL 182.764147 132.497524 \nL 183.099282 131.311313 \nL 183.434417 132.703496 \nL 183.769552 144.468363 \nL 184.104688 143.837489 \nL 184.439823 144.353485 \nL 184.774958 151.732988 \nL 185.110093 142.167351 \nL 185.445228 149.674878 \nL 185.780363 152.591314 \nL 186.115498 159.176436 \nL 186.450633 155.927193 \nL 186.785769 155.873066 \nL 187.120904 155.254975 \nL 187.456039 162.792827 \nL 187.791174 157.309917 \nL 188.126309 159.719756 \nL 188.461444 156.851285 \nL 188.796579 158.03356 \nL 189.131715 152.079869 \nL 189.46685 151.828556 \nL 189.801985 159.69947 \nL 190.13712 152.906863 \nL 190.472255 152.998917 \nL 190.80739 154.309638 \nL 191.142525 155.076159 \nL 191.47766 158.128633 \nL 191.812796 153.277012 \nL 192.147931 153.188126 \nL 192.483066 153.879858 \nL 192.818201 156.823019 \nL 193.153336 153.851156 \nL 193.488471 160.520699 \nL 193.823606 158.615809 \nL 194.158742 164.713125 \nL 194.829012 157.169995 \nL 195.164147 160.745004 \nL 195.499282 154.366021 \nL 195.834417 150.933399 \nL 196.169552 152.150322 \nL 196.504687 151.273204 \nL 196.839823 156.613457 \nL 197.510093 130.85975 \nL 197.845228 142.587071 \nL 198.180363 144.354367 \nL 198.515498 143.702739 \nL 198.850633 142.434028 \nL 199.185769 143.511421 \nL 199.520904 150.706503 \nL 199.856039 166.887962 \nL 200.526309 155.733951 \nL 200.861444 169.147608 \nL 201.196579 171.772951 \nL 201.531715 173.009316 \nL 201.86685 175.939307 \nL 202.201985 174.510658 \nL 202.53712 174.794112 \nL 202.872255 178.421041 \nL 203.20739 180.811947 \nL 203.542525 181.720223 \nL 203.87766 183.600914 \nL 204.547931 180.115844 \nL 204.883066 186.078888 \nL 205.888471 190.146429 \nL 206.223606 188.744892 \nL 206.558742 185.304102 \nL 206.893877 186.536062 \nL 207.229012 179.743468 \nL 207.564147 188.694877 \nL 207.899282 186.873089 \nL 208.234417 193.927608 \nL 208.569552 185.140542 \nL 208.904688 189.631776 \nL 209.239823 185.533197 \nL 209.574958 188.621217 \nL 209.910093 179.192922 \nL 210.245228 179.952151 \nL 210.580363 169.688899 \nL 210.915498 171.339318 \nL 211.250633 168.795556 \nL 211.585769 177.798008 \nL 211.920904 178.036167 \nL 212.256039 177.49345 \nL 212.591174 176.228528 \nL 212.926309 170.974094 \nL 213.261444 177.169462 \nL 213.596579 179.962859 \nL 213.931715 174.436922 \nL 214.26685 177.433283 \nL 214.601985 174.99079 \nL 214.93712 182.233523 \nL 215.272255 186.139406 \nL 215.60739 180.709187 \nL 216.27766 195.859658 \nL 216.612796 198.106427 \nL 216.947931 201.607697 \nL 217.283066 192.201348 \nL 217.618201 199.196398 \nL 217.953336 200.598298 \nL 218.288471 200.946253 \nL 218.623606 207.881415 \nL 218.958742 206.101669 \nL 219.293877 201.42093 \nL 219.629012 198.920973 \nL 219.964147 201.010296 \nL 220.299282 206.774384 \nL 220.634417 214.756364 \nL 220.969552 201.422195 \nL 221.304688 198.558323 \nL 221.639823 191.47322 \nL 221.974958 195.770752 \nL 222.310093 203.935493 \nL 222.645228 200.9702 \nL 222.980363 195.968631 \nL 223.315498 184.757506 \nL 223.650633 179.940607 \nL 223.985769 182.854471 \nL 224.320904 186.899814 \nL 224.656039 194.815369 \nL 224.991174 194.033615 \nL 225.996579 182.91662 \nL 226.331715 178.336439 \nL 226.66685 178.932638 \nL 227.001985 178.595393 \nL 227.33712 172.754235 \nL 227.672255 173.687729 \nL 228.00739 176.624973 \nL 228.342525 183.953162 \nL 228.67766 184.103609 \nL 229.347931 194.924069 \nL 229.683066 192.569488 \nL 230.018201 203.377046 \nL 230.353336 204.096299 \nL 230.688471 196.455521 \nL 231.358742 209.091002 \nL 231.693877 200.222545 \nL 232.029012 197.278128 \nL 232.364147 199.169266 \nL 233.034417 197.608591 \nL 233.369552 197.054441 \nL 233.704687 187.242256 \nL 234.374958 183.343386 \nL 235.045228 191.145324 \nL 235.380363 188.846246 \nL 235.715498 187.928387 \nL 236.050633 188.926834 \nL 236.385769 188.25688 \nL 236.720904 190.369268 \nL 237.056039 183.936487 \nL 237.391174 184.624493 \nL 237.726309 176.001981 \nL 238.061444 174.851338 \nL 238.396579 177.490152 \nL 238.731715 181.323137 \nL 239.06685 181.465025 \nL 239.401985 181.35667 \nL 240.40739 169.368697 \nL 240.742525 164.061726 \nL 241.07766 170.391202 \nL 241.412796 171.00117 \nL 241.747931 165.931128 \nL 242.083066 169.494837 \nL 242.418201 170.580386 \nL 242.753336 162.369861 \nL 243.088471 161.039983 \nL 243.423606 160.385847 \nL 243.758742 167.515766 \nL 244.093877 167.307794 \nL 244.429012 169.329482 \nL 244.764147 172.855697 \nL 245.099282 179.23732 \nL 245.434417 179.274516 \nL 245.769552 177.520925 \nL 246.104688 173.683883 \nL 246.439823 173.596152 \nL 246.774958 176.223199 \nL 247.445228 195.766192 \nL 247.780363 195.913786 \nL 248.115498 196.311205 \nL 248.450633 200.11456 \nL 248.785769 196.212497 \nL 249.120904 203.215084 \nL 249.791174 206.178014 \nL 250.126309 200.876643 \nL 250.461444 189.795828 \nL 250.796579 186.371021 \nL 251.131715 185.759507 \nL 251.801985 195.122792 \nL 252.13712 199.198693 \nL 252.472255 200.916755 \nL 253.142525 198.540231 \nL 253.47766 205.469482 \nL 253.812796 202.261015 \nL 254.147931 201.142288 \nL 254.483066 198.379343 \nL 254.818201 201.162271 \nL 255.153336 201.306495 \nL 255.488471 200.125624 \nL 255.823606 200.525076 \nL 256.158742 201.70363 \nL 256.493877 193.926449 \nL 256.829012 192.094709 \nL 257.164147 198.316642 \nL 257.499282 194.969685 \nL 257.834417 194.888821 \nL 258.169552 201.08535 \nL 258.504687 202.70357 \nL 258.839823 212.856576 \nL 259.174958 211.545912 \nL 259.845228 191.682807 \nL 260.180363 186.810574 \nL 260.515498 184.214101 \nL 260.850633 191.484873 \nL 261.185769 190.293684 \nL 261.520904 191.902145 \nL 261.856039 186.130904 \nL 262.191174 187.07189 \nL 262.526309 197.459142 \nL 262.861444 199.788457 \nL 263.531715 188.512872 \nL 264.201985 186.688838 \nL 264.872255 180.551305 \nL 265.20739 179.000838 \nL 265.542525 180.965492 \nL 265.87766 174.292845 \nL 266.212796 162.882358 \nL 266.547931 168.395004 \nL 266.883066 162.588625 \nL 267.218201 160.097557 \nL 268.223606 143.1713 \nL 268.893877 156.136976 \nL 269.229012 157.560372 \nL 269.564147 158.337402 \nL 269.899282 162.502918 \nL 270.234417 161.321513 \nL 270.569552 169.75213 \nL 270.904688 169.14858 \nL 271.239823 172.907766 \nL 271.574958 174.044633 \nL 272.245228 162.030343 \nL 272.580363 156.477926 \nL 272.915498 155.383515 \nL 273.250633 151.599871 \nL 273.585769 142.105975 \nL 273.920904 144.363709 \nL 274.256039 135.335337 \nL 274.591174 134.129274 \nL 274.926309 135.708975 \nL 275.261444 139.641848 \nL 275.596579 141.703113 \nL 276.26685 142.14408 \nL 276.601985 148.487957 \nL 276.93712 145.450001 \nL 277.60739 156.251735 \nL 277.942525 157.696892 \nL 278.27766 150.61077 \nL 278.612796 157.716773 \nL 278.947931 168.685509 \nL 279.618201 163.449098 \nL 279.953336 157.303472 \nL 280.288471 160.949921 \nL 280.623606 158.460317 \nL 281.293877 173.428191 \nL 281.964147 167.383544 \nL 282.299282 158.939949 \nL 282.634417 155.419346 \nL 282.969552 155.296602 \nL 283.639823 166.924449 \nL 283.974958 166.601674 \nL 284.310093 177.559064 \nL 284.645228 177.290015 \nL 284.980363 174.059609 \nL 285.315498 175.552045 \nL 285.650633 182.32154 \nL 285.985769 184.634692 \nL 286.320904 182.486839 \nL 286.656039 176.936102 \nL 286.991174 178.736 \nL 287.326309 182.612825 \nL 287.661444 182.208115 \nL 287.996579 178.954779 \nL 289.33712 173.319789 \nL 289.672255 174.775274 \nL 290.342525 148.576763 \nL 290.67766 150.575397 \nL 291.012796 151.7076 \nL 291.347931 154.749996 \nL 291.683066 155.922346 \nL 292.018201 160.1365 \nL 292.353336 158.716254 \nL 292.688471 153.249841 \nL 293.023606 154.423738 \nL 293.693877 167.726744 \nL 294.029012 171.062868 \nL 294.364147 161.235246 \nL 294.699282 162.515973 \nL 295.034417 169.613108 \nL 295.369552 166.512272 \nL 295.704687 164.82054 \nL 296.039823 161.633193 \nL 296.374958 164.772286 \nL 296.710093 165.697571 \nL 297.045228 173.833738 \nL 297.380363 167.358096 \nL 297.715498 163.527681 \nL 298.385769 148.532272 \nL 298.720904 152.104489 \nL 299.056039 152.946243 \nL 299.391174 156.574324 \nL 299.726309 158.49743 \nL 300.061444 174.29816 \nL 300.396579 167.413774 \nL 300.731715 165.12658 \nL 301.06685 165.426269 \nL 301.401985 169.2567 \nL 301.73712 166.552824 \nL 302.072255 170.36811 \nL 302.40739 166.641278 \nL 302.742525 169.759796 \nL 303.07766 167.769357 \nL 303.412796 163.873107 \nL 303.747931 172.011496 \nL 304.083066 169.893214 \nL 304.418201 156.840313 \nL 305.088471 144.918617 \nL 305.423606 147.19702 \nL 305.758742 150.679647 \nL 306.093877 150.014108 \nL 306.429012 156.783019 \nL 306.764147 156.60493 \nL 307.099282 159.505081 \nL 307.434417 153.661154 \nL 307.769552 145.091882 \nL 308.104688 141.139022 \nL 308.439823 147.837983 \nL 308.774958 149.897389 \nL 309.110093 149.593235 \nL 310.450633 179.720008 \nL 310.785769 180.340167 \nL 311.120904 183.169545 \nL 311.456039 182.492885 \nL 311.791174 186.556477 \nL 312.126309 185.687999 \nL 312.461444 181.491391 \nL 312.796579 185.343104 \nL 313.131715 191.393969 \nL 313.46685 199.470305 \nL 313.801985 193.619851 \nL 314.13712 193.482919 \nL 314.80739 204.335235 \nL 315.47766 190.731202 \nL 315.812796 190.29185 \nL 316.147931 191.281212 \nL 316.483066 191.490728 \nL 316.818201 178.605152 \nL 317.153336 174.167436 \nL 317.488471 167.493212 \nL 317.823606 167.154024 \nL 318.158742 174.807124 \nL 318.493877 177.631657 \nL 318.829012 171.174453 \nL 319.164147 174.568441 \nL 319.499282 162.356332 \nL 319.834417 160.172497 \nL 320.169552 161.358301 \nL 320.504687 158.716127 \nL 320.839823 159.696799 \nL 321.174958 161.931737 \nL 321.845228 164.576601 \nL 322.180363 163.072282 \nL 323.185769 173.474609 \nL 323.856039 168.21532 \nL 324.526309 179.905713 \nL 324.861444 180.521786 \nL 325.196579 177.16484 \nL 325.531715 171.580918 \nL 325.86685 160.609838 \nL 326.201985 162.579933 \nL 326.53712 161.762735 \nL 326.872255 161.914787 \nL 327.20739 158.22994 \nL 327.542525 156.587647 \nL 327.87766 153.895503 \nL 328.212796 147.910736 \nL 328.547931 149.972906 \nL 328.883066 154.064696 \nL 329.218201 159.640233 \nL 329.553336 162.897541 \nL 329.888471 160.015639 \nL 330.223606 161.741507 \nL 330.558742 166.185603 \nL 330.893877 174.391521 \nL 331.229012 179.842868 \nL 331.564147 176.918086 \nL 331.899282 186.422315 \nL 332.234417 178.344759 \nL 332.904688 183.347303 \nL 333.239823 179.770047 \nL 333.574958 182.844001 \nL 333.910093 179.804651 \nL 334.245228 179.994144 \nL 334.580363 183.709039 \nL 334.915498 177.686957 \nL 335.250633 168.288324 \nL 335.585769 168.607423 \nL 335.920904 175.29364 \nL 336.256039 165.328246 \nL 336.591174 162.50116 \nL 336.926309 151.629085 \nL 337.261444 151.616497 \nL 337.596579 149.837025 \nL 338.26685 142.854077 \nL 338.601985 145.213051 \nL 338.93712 138.572741 \nL 339.272255 147.624912 \nL 339.60739 148.381784 \nL 339.942525 140.983549 \nL 340.27766 137.103766 \nL 340.612796 141.071676 \nL 340.947931 142.848323 \nL 341.283066 143.590843 \nL 341.618201 138.074764 \nL 341.953336 142.971657 \nL 342.623606 132.219021 \nL 342.958742 140.352941 \nL 343.293877 141.960053 \nL 343.964147 136.886403 \nL 344.299282 132.645373 \nL 344.634417 132.504086 \nL 344.969552 122.843368 \nL 345.304688 130.468966 \nL 345.639823 143.960224 \nL 345.974958 144.135566 \nL 346.310093 143.786638 \nL 346.645228 142.87575 \nL 346.980363 148.938838 \nL 347.315498 141.524758 \nL 347.650633 145.441045 \nL 347.985769 142.321417 \nL 348.320904 136.350668 \nL 348.656039 132.448712 \nL 349.326309 120.729577 \nL 349.661444 117.906098 \nL 350.331715 133.306729 \nL 350.66685 142.015594 \nL 351.001985 139.79404 \nL 351.33712 145.396476 \nL 351.672255 142.59272 \nL 352.342525 149.954704 \nL 352.67766 147.375861 \nL 353.012796 145.769838 \nL 353.347931 138.022494 \nL 353.683066 139.389305 \nL 354.018201 134.369407 \nL 354.353336 135.159038 \nL 354.688471 132.002491 \nL 355.023606 130.135282 \nL 355.358742 125.796129 \nL 355.693877 130.35082 \nL 356.029012 123.816034 \nL 356.364147 127.973598 \nL 356.699282 117.392062 \nL 357.034417 112.958809 \nL 357.369552 112.278715 \nL 357.704687 114.908982 \nL 358.039823 114.257603 \nL 358.374958 104.134346 \nL 358.710093 105.466708 \nL 359.045228 101.367209 \nL 359.380363 100.491476 \nL 360.050633 116.777984 \nL 360.385769 117.451498 \nL 360.720904 123.607587 \nL 361.056039 126.796549 \nL 361.391174 125.143808 \nL 361.726309 113.944861 \nL 362.061444 109.76389 \nL 362.396579 110.774166 \nL 363.06685 116.609792 \nL 363.401985 115.53993 \nL 363.73712 118.760834 \nL 364.072255 109.833697 \nL 364.40739 114.89611 \nL 364.742525 116.25776 \nL 365.07766 110.705394 \nL 365.412796 111.605859 \nL 365.747931 110.067314 \nL 366.083066 106.864904 \nL 366.418201 102.18094 \nL 366.753336 105.508341 \nL 367.088471 105.297618 \nL 367.423606 112.383777 \nL 367.758742 109.913847 \nL 368.093877 113.83901 \nL 368.429012 107.883318 \nL 368.764147 116.829844 \nL 369.099282 116.46242 \nL 369.769552 124.581923 \nL 370.104688 124.710028 \nL 370.104688 124.710028 \n\" clip-path=\"url(#p882506d942)\" style=\"fill: none; stroke: #1f77b4; stroke-width: 1.5; stroke-linecap: square\"/>\n   </g>\n   <g id=\"patch_3\">\n    <path d=\"M 35.304688 224.64 \nL 35.304688 7.2 \n\" style=\"fill: none; stroke: #000000; stroke-width: 0.8; stroke-linejoin: miter; stroke-linecap: square\"/>\n   </g>\n   <g id=\"patch_4\">\n    <path d=\"M 370.104688 224.64 \nL 370.104688 7.2 \n\" style=\"fill: none; stroke: #000000; stroke-width: 0.8; stroke-linejoin: miter; stroke-linecap: square\"/>\n   </g>\n   <g id=\"patch_5\">\n    <path d=\"M 35.304688 224.64 \nL 370.104688 224.64 \n\" style=\"fill: none; stroke: #000000; stroke-width: 0.8; stroke-linejoin: miter; stroke-linecap: square\"/>\n   </g>\n   <g id=\"patch_6\">\n    <path d=\"M 35.304688 7.2 \nL 370.104688 7.2 \n\" style=\"fill: none; stroke: #000000; stroke-width: 0.8; stroke-linejoin: miter; stroke-linecap: square\"/>\n   </g>\n  </g>\n </g>\n <defs>\n  <clipPath id=\"p882506d942\">\n   <rect x=\"35.304688\" y=\"7.2\" width=\"334.8\" height=\"217.44\"/>\n  </clipPath>\n </defs>\n</svg>\n",
      "text/plain": [
       "<Figure size 432x288 with 1 Axes>"
      ]
     },
     "metadata": {
      "needs_background": "light"
     },
     "output_type": "display_data"
    }
   ],
   "source": [
    "ts_cumsum = ts.cumsum()\n",
    "ts_cumsum.plot()"
   ]
  },
  {
   "cell_type": "markdown",
   "metadata": {},
   "source": [
    "If running under Jupyter Notebook, the plot will appear on `plot()`. Otherwise use `matplotlib.pyplot.show` to show it of `matplotlin.pyplot.savefig` to write it into a file."
   ]
  },
  {
   "cell_type": "code",
   "execution_count": 98,
   "metadata": {},
   "outputs": [],
   "source": [
    "plt.show()"
   ]
  },
  {
   "cell_type": "markdown",
   "metadata": {},
   "source": [
    "On a DataFrame, the `plot()` method is a convenience to plot all of the columns with labels."
   ]
  },
  {
   "cell_type": "code",
   "execution_count": 99,
   "metadata": {},
   "outputs": [
    {
     "data": {
      "text/plain": [
       "<matplotlib.legend.Legend at 0x1cde3832af0>"
      ]
     },
     "execution_count": 99,
     "metadata": {},
     "output_type": "execute_result"
    },
    {
     "data": {
      "text/plain": [
       "<Figure size 432x288 with 0 Axes>"
      ]
     },
     "metadata": {},
     "output_type": "display_data"
    },
    {
     "data": {
      "image/png": "[encoded data removed]",
      "image/svg+xml": "<?xml version=\"1.0\" encoding=\"utf-8\" standalone=\"no\"?>\n<!DOCTYPE svg PUBLIC \"-//W3C//DTD SVG 1.1//EN\"\n  \"http://www.w3.org/Graphics/SVG/1.1/DTD/svg11.dtd\">\n<svg xmlns:xlink=\"http://www.w3.org/1999/xlink\" width=\"377.304688pt\" height=\"259.715937pt\" viewBox=\"0 0 377.304688 259.715937\" xmlns=\"http://www.w3.org/2000/svg\" version=\"1.1\">\n <metadata>\n  <rdf:RDF xmlns:dc=\"http://purl.org/dc/elements/1.1/\" xmlns:cc=\"http://creativecommons.org/ns#\" xmlns:rdf=\"http://www.w3.org/1999/02/22-rdf-syntax-ns#\">\n   <cc:Work>\n    <dc:type rdf:resource=\"http://purl.org/dc/dcmitype/StillImage\"/>\n    <dc:date>2022-05-11T08:32:22.211500</dc:date>\n    <dc:format>image/svg+xml</dc:format>\n    <dc:creator>\n     <cc:Agent>\n      <dc:title>Matplotlib v3.5.1, https://matplotlib.org/</dc:title>\n     </cc:Agent>\n    </dc:creator>\n   </cc:Work>\n  </rdf:RDF>\n </metadata>\n <defs>\n  <style type=\"text/css\">*{stroke-linejoin: round; stroke-linecap: butt}</style>\n </defs>\n <g id=\"figure_1\">\n  <g id=\"patch_1\">\n   <path d=\"M 0 259.715937 \nL 377.304688 259.715937 \nL 377.304688 0 \nL 0 0 \nL 0 259.715937 \nz\n\" style=\"fill: none\"/>\n  </g>\n  <g id=\"axes_1\">\n   <g id=\"patch_2\">\n    <path d=\"M 35.304688 224.64 \nL 370.104688 224.64 \nL 370.104688 7.2 \nL 35.304688 7.2 \nz\n\" style=\"fill: #ffffff\"/>\n   </g>\n   <g id=\"matplotlib.axis_1\">\n    <g id=\"xtick_1\">\n     <g id=\"line2d_1\">\n      <defs>\n       <path id=\"mf119a2ed4e\" d=\"M 0 0 \nL 0 3.5 \n\" style=\"stroke: #000000; stroke-width: 0.8\"/>\n      </defs>\n      <g>\n       <use xlink:href=\"#mf119a2ed4e\" x=\"35.304688\" y=\"224.64\" style=\"stroke: #000000; stroke-width: 0.8\"/>\n      </g>\n     </g>\n     <g id=\"text_1\">\n      <!-- Jan -->\n      <g transform=\"translate(27.596875 239.238438)scale(0.1 -0.1)\">\n       <defs>\n        <path id=\"DejaVuSans-4a\" d=\"M 628 4666 \nL 1259 4666 \nL 1259 325 \nQ 1259 -519 939 -900 \nQ 619 -1281 -91 -1281 \nL -331 -1281 \nL -331 -750 \nL -134 -750 \nQ 284 -750 456 -515 \nQ 628 -281 628 325 \nL 628 4666 \nz\n\" transform=\"scale(0.015625)\"/>\n        <path id=\"DejaVuSans-61\" d=\"M 2194 1759 \nQ 1497 1759 1228 1600 \nQ 959 1441 959 1056 \nQ 959 750 1161 570 \nQ 1363 391 1709 391 \nQ 2188 391 2477 730 \nQ 2766 1069 2766 1631 \nL 2766 1759 \nL 2194 1759 \nz\nM 3341 1997 \nL 3341 0 \nL 2766 0 \nL 2766 531 \nQ 2569 213 2275 61 \nQ 1981 -91 1556 -91 \nQ 1019 -91 701 211 \nQ 384 513 384 1019 \nQ 384 1609 779 1909 \nQ 1175 2209 1959 2209 \nL 2766 2209 \nL 2766 2266 \nQ 2766 2663 2505 2880 \nQ 2244 3097 1772 3097 \nQ 1472 3097 1187 3025 \nQ 903 2953 641 2809 \nL 641 3341 \nQ 956 3463 1253 3523 \nQ 1550 3584 1831 3584 \nQ 2591 3584 2966 3190 \nQ 3341 2797 3341 1997 \nz\n\" transform=\"scale(0.015625)\"/>\n        <path id=\"DejaVuSans-6e\" d=\"M 3513 2113 \nL 3513 0 \nL 2938 0 \nL 2938 2094 \nQ 2938 2591 2744 2837 \nQ 2550 3084 2163 3084 \nQ 1697 3084 1428 2787 \nQ 1159 2491 1159 1978 \nL 1159 0 \nL 581 0 \nL 581 3500 \nL 1159 3500 \nL 1159 2956 \nQ 1366 3272 1645 3428 \nQ 1925 3584 2291 3584 \nQ 2894 3584 3203 3211 \nQ 3513 2838 3513 2113 \nz\n\" transform=\"scale(0.015625)\"/>\n       </defs>\n       <use xlink:href=\"#DejaVuSans-4a\"/>\n       <use xlink:href=\"#DejaVuSans-61\" x=\"29.492188\"/>\n       <use xlink:href=\"#DejaVuSans-6e\" x=\"90.771484\"/>\n      </g>\n      <!-- 2022 -->\n      <g transform=\"translate(22.579687 250.43625)scale(0.1 -0.1)\">\n       <defs>\n        <path id=\"DejaVuSans-32\" d=\"M 1228 531 \nL 3431 531 \nL 3431 0 \nL 469 0 \nL 469 531 \nQ 828 903 1448 1529 \nQ 2069 2156 2228 2338 \nQ 2531 2678 2651 2914 \nQ 2772 3150 2772 3378 \nQ 2772 3750 2511 3984 \nQ 2250 4219 1831 4219 \nQ 1534 4219 1204 4116 \nQ 875 4013 500 3803 \nL 500 4441 \nQ 881 4594 1212 4672 \nQ 1544 4750 1819 4750 \nQ 2544 4750 2975 4387 \nQ 3406 4025 3406 3419 \nQ 3406 3131 3298 2873 \nQ 3191 2616 2906 2266 \nQ 2828 2175 2409 1742 \nQ 1991 1309 1228 531 \nz\n\" transform=\"scale(0.015625)\"/>\n        <path id=\"DejaVuSans-30\" d=\"M 2034 4250 \nQ 1547 4250 1301 3770 \nQ 1056 3291 1056 2328 \nQ 1056 1369 1301 889 \nQ 1547 409 2034 409 \nQ 2525 409 2770 889 \nQ 3016 1369 3016 2328 \nQ 3016 3291 2770 3770 \nQ 2525 4250 2034 4250 \nz\nM 2034 4750 \nQ 2819 4750 3233 4129 \nQ 3647 3509 3647 2328 \nQ 3647 1150 3233 529 \nQ 2819 -91 2034 -91 \nQ 1250 -91 836 529 \nQ 422 1150 422 2328 \nQ 422 3509 836 4129 \nQ 1250 4750 2034 4750 \nz\n\" transform=\"scale(0.015625)\"/>\n       </defs>\n       <use xlink:href=\"#DejaVuSans-32\"/>\n       <use xlink:href=\"#DejaVuSans-30\" x=\"63.623047\"/>\n       <use xlink:href=\"#DejaVuSans-32\" x=\"127.246094\"/>\n       <use xlink:href=\"#DejaVuSans-32\" x=\"190.869141\"/>\n      </g>\n     </g>\n    </g>\n    <g id=\"xtick_2\">\n     <g id=\"line2d_2\">\n      <g>\n       <use xlink:href=\"#mf119a2ed4e\" x=\"157.629012\" y=\"224.64\" style=\"stroke: #000000; stroke-width: 0.8\"/>\n      </g>\n     </g>\n     <g id=\"text_2\">\n      <!-- Jan -->\n      <g transform=\"translate(149.921199 239.238438)scale(0.1 -0.1)\">\n       <use xlink:href=\"#DejaVuSans-4a\"/>\n       <use xlink:href=\"#DejaVuSans-61\" x=\"29.492188\"/>\n       <use xlink:href=\"#DejaVuSans-6e\" x=\"90.771484\"/>\n      </g>\n      <!-- 2023 -->\n      <g transform=\"translate(144.904012 250.43625)scale(0.1 -0.1)\">\n       <defs>\n        <path id=\"DejaVuSans-33\" d=\"M 2597 2516 \nQ 3050 2419 3304 2112 \nQ 3559 1806 3559 1356 \nQ 3559 666 3084 287 \nQ 2609 -91 1734 -91 \nQ 1441 -91 1130 -33 \nQ 819 25 488 141 \nL 488 750 \nQ 750 597 1062 519 \nQ 1375 441 1716 441 \nQ 2309 441 2620 675 \nQ 2931 909 2931 1356 \nQ 2931 1769 2642 2001 \nQ 2353 2234 1838 2234 \nL 1294 2234 \nL 1294 2753 \nL 1863 2753 \nQ 2328 2753 2575 2939 \nQ 2822 3125 2822 3475 \nQ 2822 3834 2567 4026 \nQ 2313 4219 1838 4219 \nQ 1578 4219 1281 4162 \nQ 984 4106 628 3988 \nL 628 4550 \nQ 988 4650 1302 4700 \nQ 1616 4750 1894 4750 \nQ 2613 4750 3031 4423 \nQ 3450 4097 3450 3541 \nQ 3450 3153 3228 2886 \nQ 3006 2619 2597 2516 \nz\n\" transform=\"scale(0.015625)\"/>\n       </defs>\n       <use xlink:href=\"#DejaVuSans-32\"/>\n       <use xlink:href=\"#DejaVuSans-30\" x=\"63.623047\"/>\n       <use xlink:href=\"#DejaVuSans-32\" x=\"127.246094\"/>\n       <use xlink:href=\"#DejaVuSans-33\" x=\"190.869141\"/>\n      </g>\n     </g>\n    </g>\n    <g id=\"xtick_3\">\n     <g id=\"line2d_3\">\n      <g>\n       <use xlink:href=\"#mf119a2ed4e\" x=\"279.953336\" y=\"224.64\" style=\"stroke: #000000; stroke-width: 0.8\"/>\n      </g>\n     </g>\n     <g id=\"text_3\">\n      <!-- Jan -->\n      <g transform=\"translate(272.245524 239.238438)scale(0.1 -0.1)\">\n       <use xlink:href=\"#DejaVuSans-4a\"/>\n       <use xlink:href=\"#DejaVuSans-61\" x=\"29.492188\"/>\n       <use xlink:href=\"#DejaVuSans-6e\" x=\"90.771484\"/>\n      </g>\n      <!-- 2024 -->\n      <g transform=\"translate(267.228336 250.43625)scale(0.1 -0.1)\">\n       <defs>\n        <path id=\"DejaVuSans-34\" d=\"M 2419 4116 \nL 825 1625 \nL 2419 1625 \nL 2419 4116 \nz\nM 2253 4666 \nL 3047 4666 \nL 3047 1625 \nL 3713 1625 \nL 3713 1100 \nL 3047 1100 \nL 3047 0 \nL 2419 0 \nL 2419 1100 \nL 313 1100 \nL 313 1709 \nL 2253 4666 \nz\n\" transform=\"scale(0.015625)\"/>\n       </defs>\n       <use xlink:href=\"#DejaVuSans-32\"/>\n       <use xlink:href=\"#DejaVuSans-30\" x=\"63.623047\"/>\n       <use xlink:href=\"#DejaVuSans-32\" x=\"127.246094\"/>\n       <use xlink:href=\"#DejaVuSans-34\" x=\"190.869141\"/>\n      </g>\n     </g>\n    </g>\n    <g id=\"xtick_4\">\n     <g id=\"line2d_4\">\n      <g>\n       <use xlink:href=\"#mf119a2ed4e\" x=\"370.104688\" y=\"224.64\" style=\"stroke: #000000; stroke-width: 0.8\"/>\n      </g>\n     </g>\n    </g>\n    <g id=\"xtick_5\">\n     <g id=\"line2d_5\">\n      <defs>\n       <path id=\"m7b5e605d0c\" d=\"M 0 0 \nL 0 2 \n\" style=\"stroke: #000000; stroke-width: 0.6\"/>\n      </defs>\n      <g>\n       <use xlink:href=\"#m7b5e605d0c\" x=\"45.693877\" y=\"224.64\" style=\"stroke: #000000; stroke-width: 0.6\"/>\n      </g>\n     </g>\n    </g>\n    <g id=\"xtick_6\">\n     <g id=\"line2d_6\">\n      <g>\n       <use xlink:href=\"#m7b5e605d0c\" x=\"55.07766\" y=\"224.64\" style=\"stroke: #000000; stroke-width: 0.6\"/>\n      </g>\n     </g>\n    </g>\n    <g id=\"xtick_7\">\n     <g id=\"line2d_7\">\n      <g>\n       <use xlink:href=\"#m7b5e605d0c\" x=\"65.46685\" y=\"224.64\" style=\"stroke: #000000; stroke-width: 0.6\"/>\n      </g>\n     </g>\n    </g>\n    <g id=\"xtick_8\">\n     <g id=\"line2d_8\">\n      <g>\n       <use xlink:href=\"#m7b5e605d0c\" x=\"75.520904\" y=\"224.64\" style=\"stroke: #000000; stroke-width: 0.6\"/>\n      </g>\n     </g>\n    </g>\n    <g id=\"xtick_9\">\n     <g id=\"line2d_9\">\n      <g>\n       <use xlink:href=\"#m7b5e605d0c\" x=\"85.910093\" y=\"224.64\" style=\"stroke: #000000; stroke-width: 0.6\"/>\n      </g>\n     </g>\n    </g>\n    <g id=\"xtick_10\">\n     <g id=\"line2d_10\">\n      <g>\n       <use xlink:href=\"#m7b5e605d0c\" x=\"95.964147\" y=\"224.64\" style=\"stroke: #000000; stroke-width: 0.6\"/>\n      </g>\n     </g>\n     <g id=\"text_4\">\n      <!-- Jul -->\n      <g transform=\"translate(89.931334 237.638438)scale(0.1 -0.1)\">\n       <defs>\n        <path id=\"DejaVuSans-75\" d=\"M 544 1381 \nL 544 3500 \nL 1119 3500 \nL 1119 1403 \nQ 1119 906 1312 657 \nQ 1506 409 1894 409 \nQ 2359 409 2629 706 \nQ 2900 1003 2900 1516 \nL 2900 3500 \nL 3475 3500 \nL 3475 0 \nL 2900 0 \nL 2900 538 \nQ 2691 219 2414 64 \nQ 2138 -91 1772 -91 \nQ 1169 -91 856 284 \nQ 544 659 544 1381 \nz\nM 1991 3584 \nL 1991 3584 \nz\n\" transform=\"scale(0.015625)\"/>\n        <path id=\"DejaVuSans-6c\" d=\"M 603 4863 \nL 1178 4863 \nL 1178 0 \nL 603 0 \nL 603 4863 \nz\n\" transform=\"scale(0.015625)\"/>\n       </defs>\n       <use xlink:href=\"#DejaVuSans-4a\"/>\n       <use xlink:href=\"#DejaVuSans-75\" x=\"29.492188\"/>\n       <use xlink:href=\"#DejaVuSans-6c\" x=\"92.871094\"/>\n      </g>\n     </g>\n    </g>\n    <g id=\"xtick_11\">\n     <g id=\"line2d_11\">\n      <g>\n       <use xlink:href=\"#m7b5e605d0c\" x=\"106.353336\" y=\"224.64\" style=\"stroke: #000000; stroke-width: 0.6\"/>\n      </g>\n     </g>\n    </g>\n    <g id=\"xtick_12\">\n     <g id=\"line2d_12\">\n      <g>\n       <use xlink:href=\"#m7b5e605d0c\" x=\"116.742525\" y=\"224.64\" style=\"stroke: #000000; stroke-width: 0.6\"/>\n      </g>\n     </g>\n    </g>\n    <g id=\"xtick_13\">\n     <g id=\"line2d_13\">\n      <g>\n       <use xlink:href=\"#m7b5e605d0c\" x=\"126.796579\" y=\"224.64\" style=\"stroke: #000000; stroke-width: 0.6\"/>\n      </g>\n     </g>\n    </g>\n    <g id=\"xtick_14\">\n     <g id=\"line2d_14\">\n      <g>\n       <use xlink:href=\"#m7b5e605d0c\" x=\"137.185769\" y=\"224.64\" style=\"stroke: #000000; stroke-width: 0.6\"/>\n      </g>\n     </g>\n    </g>\n    <g id=\"xtick_15\">\n     <g id=\"line2d_15\">\n      <g>\n       <use xlink:href=\"#m7b5e605d0c\" x=\"147.239823\" y=\"224.64\" style=\"stroke: #000000; stroke-width: 0.6\"/>\n      </g>\n     </g>\n    </g>\n    <g id=\"xtick_16\">\n     <g id=\"line2d_16\">\n      <g>\n       <use xlink:href=\"#m7b5e605d0c\" x=\"168.018201\" y=\"224.64\" style=\"stroke: #000000; stroke-width: 0.6\"/>\n      </g>\n     </g>\n    </g>\n    <g id=\"xtick_17\">\n     <g id=\"line2d_17\">\n      <g>\n       <use xlink:href=\"#m7b5e605d0c\" x=\"177.401985\" y=\"224.64\" style=\"stroke: #000000; stroke-width: 0.6\"/>\n      </g>\n     </g>\n    </g>\n    <g id=\"xtick_18\">\n     <g id=\"line2d_18\">\n      <g>\n       <use xlink:href=\"#m7b5e605d0c\" x=\"187.791174\" y=\"224.64\" style=\"stroke: #000000; stroke-width: 0.6\"/>\n      </g>\n     </g>\n    </g>\n    <g id=\"xtick_19\">\n     <g id=\"line2d_19\">\n      <g>\n       <use xlink:href=\"#m7b5e605d0c\" x=\"197.845228\" y=\"224.64\" style=\"stroke: #000000; stroke-width: 0.6\"/>\n      </g>\n     </g>\n    </g>\n    <g id=\"xtick_20\">\n     <g id=\"line2d_20\">\n      <g>\n       <use xlink:href=\"#m7b5e605d0c\" x=\"208.234417\" y=\"224.64\" style=\"stroke: #000000; stroke-width: 0.6\"/>\n      </g>\n     </g>\n    </g>\n    <g id=\"xtick_21\">\n     <g id=\"line2d_21\">\n      <g>\n       <use xlink:href=\"#m7b5e605d0c\" x=\"218.288471\" y=\"224.64\" style=\"stroke: #000000; stroke-width: 0.6\"/>\n      </g>\n     </g>\n     <g id=\"text_5\">\n      <!-- Jul -->\n      <g transform=\"translate(212.255659 237.638438)scale(0.1 -0.1)\">\n       <use xlink:href=\"#DejaVuSans-4a\"/>\n       <use xlink:href=\"#DejaVuSans-75\" x=\"29.492188\"/>\n       <use xlink:href=\"#DejaVuSans-6c\" x=\"92.871094\"/>\n      </g>\n     </g>\n    </g>\n    <g id=\"xtick_22\">\n     <g id=\"line2d_22\">\n      <g>\n       <use xlink:href=\"#m7b5e605d0c\" x=\"228.67766\" y=\"224.64\" style=\"stroke: #000000; stroke-width: 0.6\"/>\n      </g>\n     </g>\n    </g>\n    <g id=\"xtick_23\">\n     <g id=\"line2d_23\">\n      <g>\n       <use xlink:href=\"#m7b5e605d0c\" x=\"239.06685\" y=\"224.64\" style=\"stroke: #000000; stroke-width: 0.6\"/>\n      </g>\n     </g>\n    </g>\n    <g id=\"xtick_24\">\n     <g id=\"line2d_24\">\n      <g>\n       <use xlink:href=\"#m7b5e605d0c\" x=\"249.120904\" y=\"224.64\" style=\"stroke: #000000; stroke-width: 0.6\"/>\n      </g>\n     </g>\n    </g>\n    <g id=\"xtick_25\">\n     <g id=\"line2d_25\">\n      <g>\n       <use xlink:href=\"#m7b5e605d0c\" x=\"259.510093\" y=\"224.64\" style=\"stroke: #000000; stroke-width: 0.6\"/>\n      </g>\n     </g>\n    </g>\n    <g id=\"xtick_26\">\n     <g id=\"line2d_26\">\n      <g>\n       <use xlink:href=\"#m7b5e605d0c\" x=\"269.564147\" y=\"224.64\" style=\"stroke: #000000; stroke-width: 0.6\"/>\n      </g>\n     </g>\n    </g>\n    <g id=\"xtick_27\">\n     <g id=\"line2d_27\">\n      <g>\n       <use xlink:href=\"#m7b5e605d0c\" x=\"290.342525\" y=\"224.64\" style=\"stroke: #000000; stroke-width: 0.6\"/>\n      </g>\n     </g>\n    </g>\n    <g id=\"xtick_28\">\n     <g id=\"line2d_28\">\n      <g>\n       <use xlink:href=\"#m7b5e605d0c\" x=\"300.061444\" y=\"224.64\" style=\"stroke: #000000; stroke-width: 0.6\"/>\n      </g>\n     </g>\n    </g>\n    <g id=\"xtick_29\">\n     <g id=\"line2d_29\">\n      <g>\n       <use xlink:href=\"#m7b5e605d0c\" x=\"310.450633\" y=\"224.64\" style=\"stroke: #000000; stroke-width: 0.6\"/>\n      </g>\n     </g>\n    </g>\n    <g id=\"xtick_30\">\n     <g id=\"line2d_30\">\n      <g>\n       <use xlink:href=\"#m7b5e605d0c\" x=\"320.504687\" y=\"224.64\" style=\"stroke: #000000; stroke-width: 0.6\"/>\n      </g>\n     </g>\n    </g>\n    <g id=\"xtick_31\">\n     <g id=\"line2d_31\">\n      <g>\n       <use xlink:href=\"#m7b5e605d0c\" x=\"330.893877\" y=\"224.64\" style=\"stroke: #000000; stroke-width: 0.6\"/>\n      </g>\n     </g>\n    </g>\n    <g id=\"xtick_32\">\n     <g id=\"line2d_32\">\n      <g>\n       <use xlink:href=\"#m7b5e605d0c\" x=\"340.947931\" y=\"224.64\" style=\"stroke: #000000; stroke-width: 0.6\"/>\n      </g>\n     </g>\n     <g id=\"text_6\">\n      <!-- Jul -->\n      <g transform=\"translate(334.915118 237.638438)scale(0.1 -0.1)\">\n       <use xlink:href=\"#DejaVuSans-4a\"/>\n       <use xlink:href=\"#DejaVuSans-75\" x=\"29.492188\"/>\n       <use xlink:href=\"#DejaVuSans-6c\" x=\"92.871094\"/>\n      </g>\n     </g>\n    </g>\n    <g id=\"xtick_33\">\n     <g id=\"line2d_33\">\n      <g>\n       <use xlink:href=\"#m7b5e605d0c\" x=\"351.33712\" y=\"224.64\" style=\"stroke: #000000; stroke-width: 0.6\"/>\n      </g>\n     </g>\n    </g>\n    <g id=\"xtick_34\">\n     <g id=\"line2d_34\">\n      <g>\n       <use xlink:href=\"#m7b5e605d0c\" x=\"361.726309\" y=\"224.64\" style=\"stroke: #000000; stroke-width: 0.6\"/>\n      </g>\n     </g>\n    </g>\n   </g>\n   <g id=\"matplotlib.axis_2\">\n    <g id=\"ytick_1\">\n     <g id=\"line2d_35\">\n      <defs>\n       <path id=\"m3322b55f8e\" d=\"M 0 0 \nL -3.5 0 \n\" style=\"stroke: #000000; stroke-width: 0.8\"/>\n      </defs>\n      <g>\n       <use xlink:href=\"#m3322b55f8e\" x=\"35.304688\" y=\"222.32546\" style=\"stroke: #000000; stroke-width: 0.8\"/>\n      </g>\n     </g>\n     <g id=\"text_7\">\n      <!-- −60 -->\n      <g transform=\"translate(7.2 226.124679)scale(0.1 -0.1)\">\n       <defs>\n        <path id=\"DejaVuSans-2212\" d=\"M 678 2272 \nL 4684 2272 \nL 4684 1741 \nL 678 1741 \nL 678 2272 \nz\n\" transform=\"scale(0.015625)\"/>\n        <path id=\"DejaVuSans-36\" d=\"M 2113 2584 \nQ 1688 2584 1439 2293 \nQ 1191 2003 1191 1497 \nQ 1191 994 1439 701 \nQ 1688 409 2113 409 \nQ 2538 409 2786 701 \nQ 3034 994 3034 1497 \nQ 3034 2003 2786 2293 \nQ 2538 2584 2113 2584 \nz\nM 3366 4563 \nL 3366 3988 \nQ 3128 4100 2886 4159 \nQ 2644 4219 2406 4219 \nQ 1781 4219 1451 3797 \nQ 1122 3375 1075 2522 \nQ 1259 2794 1537 2939 \nQ 1816 3084 2150 3084 \nQ 2853 3084 3261 2657 \nQ 3669 2231 3669 1497 \nQ 3669 778 3244 343 \nQ 2819 -91 2113 -91 \nQ 1303 -91 875 529 \nQ 447 1150 447 2328 \nQ 447 3434 972 4092 \nQ 1497 4750 2381 4750 \nQ 2619 4750 2861 4703 \nQ 3103 4656 3366 4563 \nz\n\" transform=\"scale(0.015625)\"/>\n       </defs>\n       <use xlink:href=\"#DejaVuSans-2212\"/>\n       <use xlink:href=\"#DejaVuSans-36\" x=\"83.789062\"/>\n       <use xlink:href=\"#DejaVuSans-30\" x=\"147.412109\"/>\n      </g>\n     </g>\n    </g>\n    <g id=\"ytick_2\">\n     <g id=\"line2d_36\">\n      <g>\n       <use xlink:href=\"#m3322b55f8e\" x=\"35.304688\" y=\"178.797043\" style=\"stroke: #000000; stroke-width: 0.8\"/>\n      </g>\n     </g>\n     <g id=\"text_8\">\n      <!-- −40 -->\n      <g transform=\"translate(7.2 182.596262)scale(0.1 -0.1)\">\n       <use xlink:href=\"#DejaVuSans-2212\"/>\n       <use xlink:href=\"#DejaVuSans-34\" x=\"83.789062\"/>\n       <use xlink:href=\"#DejaVuSans-30\" x=\"147.412109\"/>\n      </g>\n     </g>\n    </g>\n    <g id=\"ytick_3\">\n     <g id=\"line2d_37\">\n      <g>\n       <use xlink:href=\"#m3322b55f8e\" x=\"35.304688\" y=\"135.268626\" style=\"stroke: #000000; stroke-width: 0.8\"/>\n      </g>\n     </g>\n     <g id=\"text_9\">\n      <!-- −20 -->\n      <g transform=\"translate(7.2 139.067845)scale(0.1 -0.1)\">\n       <use xlink:href=\"#DejaVuSans-2212\"/>\n       <use xlink:href=\"#DejaVuSans-32\" x=\"83.789062\"/>\n       <use xlink:href=\"#DejaVuSans-30\" x=\"147.412109\"/>\n      </g>\n     </g>\n    </g>\n    <g id=\"ytick_4\">\n     <g id=\"line2d_38\">\n      <g>\n       <use xlink:href=\"#m3322b55f8e\" x=\"35.304688\" y=\"91.74021\" style=\"stroke: #000000; stroke-width: 0.8\"/>\n      </g>\n     </g>\n     <g id=\"text_10\">\n      <!-- 0 -->\n      <g transform=\"translate(21.942188 95.539428)scale(0.1 -0.1)\">\n       <use xlink:href=\"#DejaVuSans-30\"/>\n      </g>\n     </g>\n    </g>\n    <g id=\"ytick_5\">\n     <g id=\"line2d_39\">\n      <g>\n       <use xlink:href=\"#m3322b55f8e\" x=\"35.304688\" y=\"48.211793\" style=\"stroke: #000000; stroke-width: 0.8\"/>\n      </g>\n     </g>\n     <g id=\"text_11\">\n      <!-- 20 -->\n      <g transform=\"translate(15.579688 52.011012)scale(0.1 -0.1)\">\n       <use xlink:href=\"#DejaVuSans-32\"/>\n       <use xlink:href=\"#DejaVuSans-30\" x=\"63.623047\"/>\n      </g>\n     </g>\n    </g>\n   </g>\n   <g id=\"line2d_40\">\n    <path d=\"M 35.304688 90.019269 \nL 35.639823 88.399209 \nL 35.974958 89.074116 \nL 36.310093 87.157498 \nL 36.645228 87.498442 \nL 36.980363 86.008951 \nL 37.650633 88.16059 \nL 37.985769 85.050502 \nL 38.320904 84.275435 \nL 38.656039 83.975714 \nL 38.991174 84.447909 \nL 39.326309 80.134271 \nL 39.661444 79.913012 \nL 39.996579 82.341777 \nL 40.331715 81.185821 \nL 40.66685 82.587757 \nL 41.001985 84.809269 \nL 41.33712 85.140277 \nL 41.672255 86.057355 \nL 42.00739 85.058114 \nL 42.342525 89.676802 \nL 42.67766 89.575175 \nL 43.012796 90.482128 \nL 43.347931 92.158278 \nL 44.353336 103.726214 \nL 44.688471 103.167826 \nL 45.023606 104.928759 \nL 45.358742 100.23464 \nL 45.693877 98.631568 \nL 46.029012 99.732961 \nL 46.364147 98.213208 \nL 47.034417 96.132243 \nL 47.369552 96.027322 \nL 47.704687 94.648558 \nL 48.374958 98.763716 \nL 48.710093 97.440281 \nL 49.045228 98.267059 \nL 49.380363 100.151076 \nL 49.715498 99.63242 \nL 50.050633 100.262725 \nL 50.385769 102.6711 \nL 50.720904 102.847979 \nL 51.726309 99.640225 \nL 52.061444 99.619153 \nL 52.396579 96.955891 \nL 52.731715 98.970862 \nL 53.06685 97.247683 \nL 53.401985 96.72986 \nL 53.73712 96.677668 \nL 54.072255 101.784638 \nL 54.40739 100.901993 \nL 54.742525 102.810891 \nL 55.07766 102.970507 \nL 55.412796 100.583391 \nL 55.747931 103.667641 \nL 56.083066 98.965735 \nL 56.418201 97.59347 \nL 56.753336 93.254703 \nL 57.088471 96.501493 \nL 57.423606 96.853698 \nL 57.758742 96.910687 \nL 58.093877 98.256814 \nL 58.429012 94.210091 \nL 58.764147 94.647788 \nL 59.434417 90.743761 \nL 59.769552 93.478402 \nL 60.104688 93.869246 \nL 60.439823 94.530493 \nL 60.774958 93.141674 \nL 61.445228 87.135928 \nL 61.780363 88.028294 \nL 62.115498 88.014503 \nL 62.450633 86.371184 \nL 62.785769 87.936696 \nL 63.120904 87.15909 \nL 63.456039 85.162088 \nL 63.791174 86.86478 \nL 64.126309 87.525276 \nL 64.461444 88.878975 \nL 64.796579 89.202611 \nL 65.131715 89.119775 \nL 65.801985 92.321878 \nL 66.13712 87.927282 \nL 66.472255 87.462386 \nL 66.80739 89.178662 \nL 67.142525 88.777884 \nL 67.47766 86.872129 \nL 67.812796 86.856395 \nL 68.147931 83.090094 \nL 68.483066 82.010589 \nL 68.818201 77.740235 \nL 69.153336 75.140208 \nL 69.488471 74.649789 \nL 69.823606 79.904799 \nL 70.158742 81.277256 \nL 70.493877 83.834801 \nL 70.829012 85.00209 \nL 71.164147 85.266393 \nL 71.499282 85.121256 \nL 72.169552 79.763752 \nL 72.504687 79.410647 \nL 72.839823 81.145835 \nL 73.174958 80.225166 \nL 73.510093 80.08066 \nL 73.845228 78.142284 \nL 74.180363 79.2374 \nL 74.515498 78.418008 \nL 74.850633 85.041797 \nL 75.185769 85.589991 \nL 75.520904 88.895272 \nL 75.856039 85.706652 \nL 76.191174 84.662569 \nL 76.526309 85.269597 \nL 76.861444 84.942713 \nL 77.531715 79.920173 \nL 77.86685 79.29642 \nL 78.201985 80.693819 \nL 78.53712 74.353114 \nL 78.872255 72.864821 \nL 79.20739 72.138669 \nL 79.542525 70.727096 \nL 79.87766 71.193113 \nL 80.212796 75.685577 \nL 80.547931 76.924159 \nL 81.218201 81.041291 \nL 81.553336 79.390896 \nL 82.223606 82.221184 \nL 82.558742 82.318037 \nL 82.893877 86.480819 \nL 83.229012 86.554041 \nL 83.564147 90.400013 \nL 83.899282 87.424089 \nL 84.569552 84.578754 \nL 84.904688 85.554953 \nL 85.239823 84.714993 \nL 85.574958 85.536625 \nL 85.910093 83.892896 \nL 86.245228 81.446302 \nL 86.580363 85.150828 \nL 86.915498 86.256626 \nL 87.250633 86.645771 \nL 87.585769 88.084211 \nL 88.256039 85.104106 \nL 88.591174 87.040175 \nL 88.926309 87.584084 \nL 89.261444 86.913888 \nL 89.596579 88.019772 \nL 89.931715 86.228741 \nL 90.26685 81.65388 \nL 90.601985 80.37444 \nL 90.93712 78.349415 \nL 91.272255 78.545193 \nL 91.942525 81.155151 \nL 92.27766 81.134469 \nL 92.612796 84.212844 \nL 92.947931 84.305246 \nL 93.283066 82.356792 \nL 93.618201 82.427159 \nL 93.953336 80.415231 \nL 94.288471 77.186948 \nL 94.623606 78.88448 \nL 94.958742 79.123241 \nL 95.293877 78.57602 \nL 95.629012 76.345688 \nL 95.964147 72.984229 \nL 96.299282 72.109861 \nL 96.634417 73.159196 \nL 96.969552 72.633988 \nL 97.304688 72.429279 \nL 97.639823 67.849828 \nL 97.974958 69.876232 \nL 98.310093 68.618734 \nL 98.645228 66.22572 \nL 98.980363 65.226079 \nL 99.315498 68.132566 \nL 99.985769 72.070792 \nL 100.320904 71.492401 \nL 100.656039 69.52937 \nL 100.991174 72.700794 \nL 101.326309 70.74905 \nL 101.661444 69.703045 \nL 101.996579 73.468217 \nL 102.331715 71.35735 \nL 103.672255 80.335303 \nL 104.00739 77.776541 \nL 104.342525 76.8107 \nL 105.012796 71.912631 \nL 105.347931 73.810521 \nL 105.683066 77.391205 \nL 106.018201 76.010489 \nL 106.353336 77.762981 \nL 106.688471 74.535541 \nL 107.023606 75.634955 \nL 107.693877 72.92093 \nL 108.029012 75.03518 \nL 108.364147 78.150504 \nL 108.699282 75.411002 \nL 109.034417 71.28932 \nL 109.369552 73.437436 \nL 109.704687 77.088552 \nL 111.045228 85.856526 \nL 111.380363 85.486811 \nL 111.715498 85.687904 \nL 112.050633 85.403552 \nL 112.385769 89.806956 \nL 112.720904 90.675212 \nL 113.056039 89.086554 \nL 113.391174 88.7007 \nL 113.726309 94.502481 \nL 114.061444 94.746446 \nL 114.396579 97.44673 \nL 114.731715 98.963199 \nL 115.06685 102.471908 \nL 115.401985 98.06132 \nL 115.73712 99.202053 \nL 116.072255 98.083491 \nL 116.40739 98.937961 \nL 116.742525 102.631435 \nL 117.07766 101.378434 \nL 117.412796 100.879948 \nL 118.083066 96.212242 \nL 118.418201 92.266623 \nL 118.753336 92.915962 \nL 119.088471 90.983197 \nL 119.423606 93.153172 \nL 119.758742 91.492883 \nL 120.429012 97.095859 \nL 120.764147 97.018493 \nL 121.099282 97.097958 \nL 121.434417 98.122488 \nL 121.769552 98.315464 \nL 122.104688 99.623985 \nL 122.439823 102.713004 \nL 122.774958 100.887785 \nL 123.110093 102.463991 \nL 123.445228 102.288543 \nL 124.115498 103.291521 \nL 124.785769 105.688216 \nL 125.120904 105.936319 \nL 125.456039 103.427262 \nL 125.791174 107.006543 \nL 126.461444 104.601701 \nL 126.796579 102.444941 \nL 127.131715 99.178189 \nL 127.801985 97.900352 \nL 128.13712 96.981181 \nL 128.472255 93.608442 \nL 128.80739 98.584473 \nL 129.142525 101.353879 \nL 129.47766 106.974114 \nL 129.812796 107.716294 \nL 130.147931 107.704746 \nL 130.483066 109.995874 \nL 130.818201 109.552027 \nL 131.153336 106.78545 \nL 131.823606 110.968633 \nL 132.158742 111.331438 \nL 132.493877 107.733136 \nL 132.829012 109.686645 \nL 133.164147 106.756965 \nL 133.499282 109.291631 \nL 133.834417 109.872284 \nL 134.169552 110.925949 \nL 134.504687 110.683395 \nL 134.839823 111.045898 \nL 135.510093 116.660025 \nL 135.845228 117.373046 \nL 136.180363 123.137061 \nL 136.515498 124.413343 \nL 136.850633 124.657343 \nL 137.185769 126.267752 \nL 137.856039 131.055564 \nL 138.191174 129.021219 \nL 138.861444 126.351666 \nL 139.196579 127.60454 \nL 139.531715 127.836467 \nL 140.201985 124.422129 \nL 140.872255 126.557041 \nL 141.20739 125.975248 \nL 141.87766 126.802099 \nL 142.547931 128.66955 \nL 142.883066 127.763149 \nL 143.218201 125.510783 \nL 143.553336 125.572802 \nL 143.888471 127.130183 \nL 144.223606 130.000518 \nL 144.558742 130.947887 \nL 144.893877 130.368167 \nL 145.229012 128.317369 \nL 145.564147 129.107123 \nL 145.899282 128.536884 \nL 146.569552 129.718829 \nL 146.904688 133.372856 \nL 147.574958 136.896633 \nL 147.910093 133.695539 \nL 148.245228 132.448809 \nL 148.580363 130.411974 \nL 148.915498 133.36357 \nL 149.250633 128.587621 \nL 149.585769 127.447003 \nL 149.920904 124.766423 \nL 150.591174 131.787226 \nL 150.926309 129.9918 \nL 151.261444 127.430267 \nL 151.596579 127.817205 \nL 151.931715 127.672345 \nL 152.26685 126.272267 \nL 152.601985 124.290829 \nL 152.93712 123.171409 \nL 153.272255 121.041262 \nL 153.60739 123.368973 \nL 153.942525 123.700451 \nL 154.27766 124.774299 \nL 154.612796 127.521326 \nL 154.947931 129.192596 \nL 155.618201 126.433862 \nL 156.623606 127.582787 \nL 156.958742 128.769049 \nL 157.293877 128.534634 \nL 157.629012 129.657937 \nL 158.299282 127.02547 \nL 158.969552 129.719647 \nL 159.304688 128.410123 \nL 159.639823 127.671342 \nL 159.974958 128.671316 \nL 160.310093 131.682589 \nL 160.980363 126.100855 \nL 161.650633 129.686659 \nL 161.985769 130.518209 \nL 162.320904 134.169131 \nL 162.656039 133.329173 \nL 162.991174 135.517236 \nL 163.326309 133.075158 \nL 163.661444 128.881756 \nL 163.996579 130.901962 \nL 164.331715 134.086388 \nL 164.66685 131.240625 \nL 165.001985 134.814991 \nL 165.33712 135.834734 \nL 165.672255 134.786057 \nL 166.00739 135.998073 \nL 166.342525 135.17166 \nL 166.67766 136.123103 \nL 167.012796 136.718145 \nL 167.347931 135.997976 \nL 167.683066 137.496566 \nL 168.353336 134.623385 \nL 168.688471 135.477432 \nL 169.023606 132.1668 \nL 169.358742 133.638422 \nL 169.693877 130.379171 \nL 170.364147 130.753378 \nL 170.699282 129.481032 \nL 171.034417 130.41124 \nL 171.369552 132.528475 \nL 171.704687 128.943806 \nL 172.039823 128.265821 \nL 172.374958 134.227458 \nL 172.710093 134.869394 \nL 173.045228 132.512546 \nL 173.380363 131.378942 \nL 173.715498 130.895684 \nL 174.050633 129.294777 \nL 174.385769 128.345612 \nL 175.056039 129.497759 \nL 175.391174 125.576316 \nL 175.726309 124.342022 \nL 176.061444 127.511269 \nL 176.731715 131.142924 \nL 177.06685 131.558348 \nL 177.401985 129.180982 \nL 177.73712 129.103778 \nL 178.072255 130.301765 \nL 178.742525 126.38424 \nL 179.07766 125.704358 \nL 179.412796 129.547071 \nL 179.747931 125.7224 \nL 180.083066 125.673655 \nL 180.418201 127.045786 \nL 180.753336 129.194827 \nL 181.423606 127.185888 \nL 181.758742 128.280402 \nL 182.093877 127.256868 \nL 182.429012 127.085694 \nL 182.764147 129.267791 \nL 183.434417 124.673033 \nL 184.104688 128.019367 \nL 184.439823 123.609705 \nL 184.774958 123.85105 \nL 185.110093 126.312108 \nL 185.445228 126.136151 \nL 186.115498 129.759128 \nL 186.450633 123.244397 \nL 186.785769 122.828454 \nL 187.120904 124.320268 \nL 187.456039 124.863044 \nL 187.791174 122.134826 \nL 188.126309 124.42239 \nL 188.461444 123.441618 \nL 188.796579 127.741826 \nL 189.131715 128.427715 \nL 189.46685 128.760889 \nL 189.801985 128.635873 \nL 190.13712 128.223783 \nL 190.472255 128.590322 \nL 190.80739 130.798934 \nL 191.142525 130.321539 \nL 191.47766 132.605665 \nL 191.812796 135.724324 \nL 192.147931 134.493086 \nL 192.483066 132.036211 \nL 192.818201 132.755249 \nL 193.153336 132.529729 \nL 193.488471 131.502244 \nL 193.823606 132.473526 \nL 194.158742 136.987681 \nL 194.493877 139.841004 \nL 194.829012 140.30344 \nL 195.164147 138.864542 \nL 195.499282 141.126435 \nL 195.834417 144.193954 \nL 196.169552 146.130163 \nL 196.504687 145.880602 \nL 196.839823 147.088724 \nL 197.174958 141.07649 \nL 197.510093 139.090168 \nL 197.845228 141.403444 \nL 198.515498 132.563519 \nL 198.850633 131.172956 \nL 199.185769 130.941209 \nL 199.856039 128.495655 \nL 200.191174 129.604324 \nL 200.526309 128.550859 \nL 200.861444 131.486834 \nL 201.196579 128.102956 \nL 201.531715 128.133022 \nL 201.86685 130.431896 \nL 202.201985 131.835889 \nL 202.53712 132.630408 \nL 202.872255 130.079643 \nL 203.20739 129.761184 \nL 203.542525 130.384509 \nL 203.87766 132.625713 \nL 204.212796 130.916763 \nL 204.547931 130.792553 \nL 204.883066 128.762835 \nL 205.218201 124.83789 \nL 205.553336 125.720847 \nL 205.888471 122.353887 \nL 206.558742 121.159371 \nL 206.893877 119.254298 \nL 207.229012 122.640912 \nL 207.564147 121.486884 \nL 207.899282 124.803101 \nL 208.234417 123.03807 \nL 208.569552 119.994572 \nL 208.904688 123.918065 \nL 209.239823 122.505546 \nL 209.574958 122.865723 \nL 209.910093 124.303713 \nL 210.245228 125.241467 \nL 210.580363 124.622731 \nL 210.915498 123.112477 \nL 211.250633 124.049244 \nL 211.585769 126.316655 \nL 211.920904 125.563989 \nL 212.256039 129.613729 \nL 212.591174 130.956229 \nL 212.926309 129.318892 \nL 213.596579 133.193187 \nL 213.931715 133.297886 \nL 214.26685 132.303379 \nL 214.601985 129.488477 \nL 214.93712 130.724881 \nL 216.27766 127.083045 \nL 216.947931 120.541194 \nL 217.283066 120.04973 \nL 217.618201 124.197172 \nL 218.288471 114.463048 \nL 218.958742 116.594581 \nL 219.293877 119.548434 \nL 219.629012 119.94606 \nL 219.964147 116.294238 \nL 220.299282 117.90991 \nL 220.969552 119.079519 \nL 221.304688 119.077394 \nL 221.639823 118.701528 \nL 221.974958 118.110008 \nL 222.310093 118.022191 \nL 222.645228 118.129857 \nL 222.980363 119.628799 \nL 223.315498 117.496763 \nL 223.650633 118.103701 \nL 223.985769 116.421325 \nL 224.320904 117.343052 \nL 224.656039 119.114197 \nL 224.991174 119.764106 \nL 225.326309 118.293467 \nL 225.661444 119.603212 \nL 225.996579 118.435795 \nL 226.331715 119.961846 \nL 226.66685 119.987194 \nL 227.33712 122.712049 \nL 227.672255 120.659596 \nL 228.00739 120.045487 \nL 228.342525 121.439211 \nL 228.67766 124.009305 \nL 229.012796 121.324123 \nL 229.347931 120.982579 \nL 230.018201 117.57734 \nL 230.353336 122.796562 \nL 231.358742 124.648232 \nL 231.693877 122.490477 \nL 232.029012 123.325258 \nL 232.699282 119.894265 \nL 233.369552 110.425664 \nL 234.039823 118.089146 \nL 234.710093 113.653365 \nL 235.045228 115.351853 \nL 235.380363 115.831367 \nL 235.715498 113.903564 \nL 236.050633 113.239337 \nL 237.056039 120.200897 \nL 237.391174 116.983426 \nL 237.726309 118.96094 \nL 238.061444 115.63611 \nL 238.396579 118.70178 \nL 238.731715 120.255369 \nL 239.06685 119.894672 \nL 239.401985 119.101586 \nL 239.73712 121.84876 \nL 240.072255 121.015347 \nL 240.40739 123.299719 \nL 240.742525 121.734001 \nL 241.07766 123.339702 \nL 241.412796 120.017258 \nL 241.747931 122.238533 \nL 242.083066 126.022738 \nL 242.418201 127.320237 \nL 242.753336 124.443884 \nL 243.088471 119.35266 \nL 243.423606 117.996568 \nL 243.758742 117.896708 \nL 244.429012 120.407955 \nL 244.764147 119.126673 \nL 245.099282 121.235023 \nL 245.434417 121.869896 \nL 245.769552 118.564874 \nL 246.104688 118.845698 \nL 246.439823 122.113159 \nL 246.774958 122.420009 \nL 247.110093 125.883645 \nL 247.445228 122.818381 \nL 247.780363 117.922582 \nL 248.450633 120.371651 \nL 248.785769 124.414271 \nL 249.120904 125.12323 \nL 249.456039 123.381672 \nL 249.791174 123.473708 \nL 250.126309 121.576256 \nL 250.461444 120.805658 \nL 250.796579 121.167505 \nL 251.131715 123.409567 \nL 251.46685 122.20688 \nL 251.801985 122.147284 \nL 252.13712 122.839593 \nL 252.472255 125.588889 \nL 252.80739 125.958497 \nL 253.142525 125.97568 \nL 253.47766 124.102902 \nL 253.812796 123.109993 \nL 254.147931 119.947586 \nL 254.483066 120.686718 \nL 254.818201 119.504972 \nL 255.153336 124.235779 \nL 255.488471 126.023898 \nL 255.823606 126.908168 \nL 256.158742 126.320768 \nL 256.493877 124.688655 \nL 256.829012 125.57655 \nL 257.164147 120.609862 \nL 257.499282 123.428693 \nL 257.834417 124.862281 \nL 258.169552 122.02342 \nL 258.504687 121.828584 \nL 258.839823 124.200169 \nL 259.174958 128.588735 \nL 259.510093 127.66614 \nL 259.845228 129.039795 \nL 260.180363 131.98201 \nL 260.515498 130.867426 \nL 260.850633 134.459764 \nL 261.520904 135.347085 \nL 261.856039 136.853007 \nL 262.191174 137.407344 \nL 262.861444 142.668002 \nL 263.196579 142.366536 \nL 263.531715 145.44616 \nL 263.86685 145.975302 \nL 264.201985 147.688468 \nL 264.53712 145.00344 \nL 264.872255 145.062708 \nL 265.20739 145.801326 \nL 265.542525 144.797138 \nL 265.87766 144.725249 \nL 266.212796 148.175284 \nL 266.547931 144.550929 \nL 266.883066 145.274762 \nL 267.218201 144.536065 \nL 267.553336 145.773718 \nL 267.888471 141.148397 \nL 268.223606 145.917702 \nL 268.558742 147.23945 \nL 268.893877 146.312752 \nL 269.229012 149.589569 \nL 269.564147 146.836686 \nL 269.899282 146.888293 \nL 270.234417 144.65541 \nL 270.569552 145.335583 \nL 270.904688 140.773927 \nL 271.239823 141.220193 \nL 271.574958 145.698972 \nL 271.910093 142.827444 \nL 272.245228 145.098394 \nL 272.580363 144.481738 \nL 272.915498 141.891628 \nL 273.250633 142.679202 \nL 273.585769 140.344584 \nL 273.920904 136.178079 \nL 274.256039 135.89132 \nL 274.591174 132.360226 \nL 274.926309 133.18667 \nL 275.261444 132.277194 \nL 275.931715 128.793659 \nL 276.26685 129.874887 \nL 276.601985 127.391071 \nL 276.93712 125.8126 \nL 277.272255 125.768204 \nL 277.60739 126.517689 \nL 277.942525 129.841598 \nL 278.612796 127.079188 \nL 278.947931 127.648929 \nL 279.283066 127.037078 \nL 279.618201 127.344438 \nL 279.953336 131.070701 \nL 280.288471 131.651182 \nL 280.623606 133.008588 \nL 280.958742 131.63974 \nL 281.629012 137.887471 \nL 281.964147 137.030309 \nL 282.299282 139.417259 \nL 282.634417 140.614091 \nL 282.969552 139.411245 \nL 283.304688 140.29063 \nL 283.639823 143.000158 \nL 283.974958 141.902703 \nL 284.310093 141.742485 \nL 284.980363 146.983562 \nL 285.315498 147.918484 \nL 285.650633 150.655284 \nL 285.985769 149.141813 \nL 286.320904 150.345983 \nL 286.656039 149.28145 \nL 286.991174 149.442441 \nL 287.326309 152.94922 \nL 287.661444 153.185888 \nL 287.996579 154.401852 \nL 288.66685 150.873229 \nL 289.001985 149.848528 \nL 289.33712 151.492579 \nL 290.00739 152.824428 \nL 290.342525 155.370557 \nL 290.67766 155.860144 \nL 291.012796 154.798842 \nL 291.347931 151.451645 \nL 291.683066 150.638289 \nL 292.018201 152.515481 \nL 292.353336 152.246157 \nL 293.023606 146.286103 \nL 293.358742 150.50882 \nL 293.693877 145.875053 \nL 294.029012 149.256785 \nL 294.364147 147.439126 \nL 294.699282 146.545279 \nL 295.034417 144.664501 \nL 295.369552 141.579575 \nL 295.704687 142.723224 \nL 296.039823 142.941909 \nL 296.374958 143.900998 \nL 296.710093 143.181846 \nL 297.045228 139.98403 \nL 297.380363 138.23024 \nL 297.715498 137.190075 \nL 298.050633 139.788066 \nL 298.385769 135.919472 \nL 299.056039 132.054625 \nL 299.391174 132.698531 \nL 299.726309 134.76715 \nL 300.061444 134.980831 \nL 300.396579 135.689081 \nL 301.06685 134.875419 \nL 301.401985 131.261006 \nL 301.73712 131.086005 \nL 302.072255 129.148859 \nL 302.40739 128.45292 \nL 302.742525 125.76982 \nL 303.07766 120.965046 \nL 303.412796 121.412659 \nL 303.747931 119.044207 \nL 304.083066 120.309829 \nL 304.418201 122.840039 \nL 304.753336 121.203544 \nL 305.088471 120.685844 \nL 305.423606 120.593989 \nL 305.758742 121.017048 \nL 306.093877 119.091752 \nL 306.429012 120.542088 \nL 306.764147 120.554476 \nL 307.099282 122.818982 \nL 307.434417 122.854139 \nL 307.769552 119.136981 \nL 308.104688 119.097019 \nL 308.439823 121.104359 \nL 309.445228 128.567036 \nL 309.780363 125.383018 \nL 310.115498 125.127183 \nL 310.450633 124.115504 \nL 310.785769 124.599755 \nL 311.120904 126.665334 \nL 311.456039 124.609083 \nL 311.791174 125.585828 \nL 312.126309 124.582506 \nL 312.461444 127.080193 \nL 312.796579 132.052225 \nL 313.131715 131.960517 \nL 313.46685 130.47818 \nL 313.801985 133.909028 \nL 314.13712 133.587361 \nL 314.472255 130.831902 \nL 314.80739 131.944871 \nL 315.142525 129.28725 \nL 315.47766 128.114678 \nL 315.812796 128.667059 \nL 317.153336 116.616234 \nL 317.488471 116.818122 \nL 317.823606 117.350173 \nL 318.158742 121.377766 \nL 318.493877 123.255822 \nL 319.164147 124.021727 \nL 319.499282 121.394244 \nL 319.834417 121.838955 \nL 320.169552 117.000855 \nL 320.504687 116.405661 \nL 320.839823 116.702319 \nL 321.174958 120.37167 \nL 321.510093 122.393694 \nL 321.845228 126.964581 \nL 322.180363 130.001117 \nL 322.515498 126.294571 \nL 322.850633 127.319057 \nL 323.185769 131.218305 \nL 323.520904 129.10651 \nL 323.856039 129.256487 \nL 324.191174 131.276632 \nL 324.526309 131.009949 \nL 324.861444 131.692447 \nL 325.196579 134.087649 \nL 325.531715 131.416556 \nL 325.86685 130.234914 \nL 326.201985 136.905121 \nL 326.53712 133.800744 \nL 326.872255 133.007776 \nL 327.20739 135.951945 \nL 327.542525 134.195012 \nL 327.87766 135.626923 \nL 328.212796 132.222629 \nL 328.547931 133.115436 \nL 329.553336 141.445434 \nL 329.888471 140.637191 \nL 330.223606 140.528776 \nL 330.558742 141.653539 \nL 330.893877 141.321977 \nL 331.229012 143.543535 \nL 331.564147 143.330112 \nL 332.234417 143.438144 \nL 332.569552 144.414868 \nL 332.904688 140.208173 \nL 333.239823 139.417197 \nL 333.574958 139.538358 \nL 333.910093 138.461921 \nL 334.245228 139.9041 \nL 334.580363 139.52016 \nL 334.915498 142.699774 \nL 335.250633 142.367308 \nL 335.585769 145.993099 \nL 335.920904 145.440708 \nL 336.256039 149.570134 \nL 336.591174 148.705449 \nL 336.926309 148.94243 \nL 337.261444 148.980415 \nL 337.596579 148.203967 \nL 337.931715 150.461359 \nL 338.26685 149.69331 \nL 338.601985 147.761897 \nL 338.93712 147.265686 \nL 339.272255 147.78943 \nL 339.60739 150.431014 \nL 339.942525 149.050934 \nL 340.27766 143.513593 \nL 340.612796 146.641034 \nL 340.947931 144.653907 \nL 341.283066 143.775996 \nL 341.618201 146.481366 \nL 342.288471 147.157558 \nL 342.623606 146.763802 \nL 342.958742 149.719443 \nL 343.293877 148.202498 \nL 343.629012 148.676532 \nL 343.964147 147.286494 \nL 344.299282 148.395233 \nL 344.634417 147.787734 \nL 344.969552 150.258504 \nL 345.304688 149.699048 \nL 345.639823 150.848589 \nL 345.974958 149.550475 \nL 346.310093 151.613298 \nL 346.645228 145.223973 \nL 346.980363 144.366851 \nL 347.315498 145.385948 \nL 347.650633 145.274578 \nL 347.985769 144.045535 \nL 348.320904 141.87264 \nL 348.656039 142.796638 \nL 348.991174 142.334802 \nL 349.326309 141.143704 \nL 349.661444 140.612042 \nL 350.331715 143.039566 \nL 350.66685 142.395491 \nL 351.001985 144.592045 \nL 351.33712 144.17337 \nL 351.672255 144.729332 \nL 352.00739 148.221184 \nL 352.342525 150.527758 \nL 352.67766 154.215637 \nL 353.012796 152.630542 \nL 353.347931 154.047941 \nL 353.683066 154.596655 \nL 354.018201 153.279594 \nL 354.353336 155.845984 \nL 354.688471 155.999498 \nL 355.023606 155.790554 \nL 355.358742 154.508549 \nL 355.693877 153.800606 \nL 356.364147 151.28554 \nL 356.699282 155.107363 \nL 358.039823 146.99004 \nL 358.374958 149.035695 \nL 358.710093 145.645531 \nL 359.045228 147.451971 \nL 359.380363 147.173485 \nL 359.715498 149.49869 \nL 360.385769 150.821001 \nL 360.720904 150.201162 \nL 361.056039 151.027903 \nL 361.391174 150.115117 \nL 361.726309 149.686311 \nL 362.061444 155.483209 \nL 362.396579 156.658049 \nL 363.06685 150.82862 \nL 363.401985 150.015293 \nL 363.73712 146.785697 \nL 364.072255 148.272434 \nL 364.40739 148.162714 \nL 364.742525 147.08914 \nL 365.07766 148.91089 \nL 365.412796 145.240335 \nL 365.747931 142.798621 \nL 366.418201 147.039029 \nL 366.753336 149.921916 \nL 367.088471 149.051125 \nL 367.423606 150.502555 \nL 367.758742 153.933258 \nL 368.429012 149.45327 \nL 368.764147 152.475428 \nL 369.099282 151.647654 \nL 369.769552 149.042114 \nL 370.104688 147.367441 \nL 370.104688 147.367441 \n\" clip-path=\"url(#pee32624cf6)\" style=\"fill: none; stroke: #1f77b4; stroke-width: 1.5; stroke-linecap: square\"/>\n   </g>\n   <g id=\"line2d_41\">\n    <path d=\"M 35.304688 92.509955 \nL 36.310093 81.927955 \nL 36.645228 80.460839 \nL 36.980363 83.956735 \nL 37.315498 85.101146 \nL 37.650633 84.901151 \nL 37.985769 89.434157 \nL 38.320904 86.482454 \nL 38.656039 82.059793 \nL 38.991174 83.871894 \nL 39.326309 84.881385 \nL 39.661444 83.129435 \nL 39.996579 82.193622 \nL 40.331715 82.776601 \nL 40.66685 82.485841 \nL 41.001985 79.278454 \nL 41.33712 77.38464 \nL 41.672255 76.849709 \nL 42.00739 74.671901 \nL 42.342525 78.377887 \nL 43.012796 80.799302 \nL 43.347931 82.176163 \nL 43.683066 79.351147 \nL 44.018201 82.076811 \nL 44.353336 80.86265 \nL 44.688471 78.006968 \nL 45.358742 75.833588 \nL 45.693877 76.504369 \nL 46.364147 71.674976 \nL 46.699282 74.783463 \nL 47.034417 73.507582 \nL 47.369552 70.251579 \nL 47.704687 70.080319 \nL 48.039823 72.572189 \nL 48.374958 70.623664 \nL 48.710093 74.619039 \nL 49.045228 74.238347 \nL 49.380363 75.578492 \nL 49.715498 73.200929 \nL 50.050633 74.872186 \nL 50.385769 75.436766 \nL 50.720904 74.526947 \nL 51.056039 74.105883 \nL 51.391174 80.083856 \nL 51.726309 74.131972 \nL 52.061444 71.6174 \nL 52.396579 74.294603 \nL 52.731715 72.305377 \nL 53.401985 71.388637 \nL 53.73712 73.281767 \nL 54.072255 71.559286 \nL 54.40739 68.630457 \nL 54.742525 67.421755 \nL 55.07766 67.612766 \nL 55.412796 64.539546 \nL 55.747931 65.276032 \nL 56.083066 62.922833 \nL 56.418201 66.437607 \nL 56.753336 66.004896 \nL 57.088471 66.612723 \nL 57.423606 68.244031 \nL 57.758742 63.459571 \nL 58.093877 60.936612 \nL 58.429012 65.160594 \nL 58.764147 67.738363 \nL 59.099282 66.881333 \nL 59.769552 71.688105 \nL 60.104688 69.515233 \nL 60.439823 69.683693 \nL 60.774958 68.58202 \nL 61.110093 66.518059 \nL 61.445228 62.769768 \nL 61.780363 64.035226 \nL 62.115498 66.236789 \nL 62.450633 65.837448 \nL 62.785769 63.718451 \nL 63.120904 59.401129 \nL 63.456039 61.557339 \nL 63.791174 55.416009 \nL 64.126309 55.388968 \nL 64.461444 55.915905 \nL 64.796579 55.472535 \nL 65.131715 55.711258 \nL 65.46685 52.293477 \nL 65.801985 54.809439 \nL 66.13712 58.408377 \nL 66.80739 63.013279 \nL 67.142525 63.257692 \nL 67.47766 64.485678 \nL 68.147931 63.49271 \nL 68.483066 66.018093 \nL 68.818201 66.674566 \nL 69.153336 64.330678 \nL 69.823606 62.234735 \nL 70.158742 62.753812 \nL 70.493877 62.971425 \nL 71.164147 66.9361 \nL 71.499282 65.36151 \nL 71.834417 65.833282 \nL 72.169552 65.991753 \nL 72.504687 67.203109 \nL 72.839823 77.297315 \nL 73.174958 77.509024 \nL 73.510093 80.449359 \nL 73.845228 84.550411 \nL 74.180363 82.757857 \nL 74.515498 83.703463 \nL 75.185769 82.426115 \nL 75.520904 87.287784 \nL 75.856039 88.625786 \nL 76.191174 85.214548 \nL 76.526309 84.695224 \nL 76.861444 85.78234 \nL 77.196579 86.324208 \nL 77.86685 82.703196 \nL 78.201985 83.36485 \nL 78.53712 79.692841 \nL 78.872255 81.283815 \nL 79.20739 78.989558 \nL 79.542525 79.711458 \nL 79.87766 79.371153 \nL 80.212796 78.291368 \nL 80.547931 78.295832 \nL 80.883066 78.031082 \nL 81.218201 81.140496 \nL 81.553336 78.64519 \nL 81.888471 78.221938 \nL 82.558742 79.87189 \nL 82.893877 82.550532 \nL 83.229012 81.797671 \nL 83.564147 81.609992 \nL 83.899282 83.277091 \nL 84.234417 82.608791 \nL 84.569552 83.219602 \nL 85.239823 89.249089 \nL 85.574958 87.733282 \nL 85.910093 87.013951 \nL 86.245228 87.289859 \nL 86.915498 83.72086 \nL 87.250633 82.555627 \nL 87.585769 82.940284 \nL 87.920904 80.453263 \nL 88.256039 79.128171 \nL 88.591174 78.902873 \nL 88.926309 76.529888 \nL 89.261444 77.210035 \nL 89.596579 80.826045 \nL 90.26685 79.084349 \nL 90.93712 83.437835 \nL 91.60739 81.207375 \nL 91.942525 83.435203 \nL 92.947931 79.487699 \nL 93.283066 78.666517 \nL 93.618201 75.680262 \nL 93.953336 77.048225 \nL 94.288471 74.836924 \nL 94.958742 73.550744 \nL 95.293877 74.642157 \nL 95.629012 73.02236 \nL 95.964147 73.345104 \nL 96.634417 74.940969 \nL 96.969552 72.373682 \nL 97.304688 73.163381 \nL 97.639823 71.704117 \nL 98.310093 76.582747 \nL 98.645228 79.427833 \nL 99.315498 75.67403 \nL 100.320904 79.758601 \nL 100.656039 78.197565 \nL 100.991174 78.669882 \nL 101.326309 81.653457 \nL 101.661444 77.273579 \nL 101.996579 78.588098 \nL 102.331715 78.044151 \nL 102.66685 78.889299 \nL 103.001985 84.018399 \nL 103.33712 82.966639 \nL 103.672255 81.425481 \nL 104.00739 82.995669 \nL 104.342525 76.447993 \nL 104.67766 76.028296 \nL 105.012796 78.648339 \nL 105.347931 78.83024 \nL 105.683066 80.35871 \nL 106.018201 80.210872 \nL 106.353336 81.340925 \nL 106.688471 81.077774 \nL 107.023606 81.699661 \nL 107.358742 79.723933 \nL 107.693877 73.823192 \nL 108.029012 76.031362 \nL 108.364147 74.598369 \nL 108.699282 75.553125 \nL 109.034417 75.049625 \nL 109.369552 78.367169 \nL 110.039823 80.132027 \nL 110.374958 81.445735 \nL 110.710093 81.194875 \nL 111.045228 80.029447 \nL 111.380363 77.892646 \nL 111.715498 80.579338 \nL 112.050633 79.191181 \nL 112.385769 73.234971 \nL 112.720904 77.676862 \nL 113.056039 79.830663 \nL 113.391174 77.98718 \nL 113.726309 75.342519 \nL 114.061444 77.839632 \nL 114.396579 76.140617 \nL 114.731715 76.503348 \nL 115.06685 79.145116 \nL 115.401985 78.527881 \nL 116.742525 71.560138 \nL 117.07766 75.747473 \nL 117.412796 73.657181 \nL 117.747931 72.874635 \nL 118.083066 72.376645 \nL 118.418201 73.682754 \nL 118.753336 71.03398 \nL 119.088471 70.667456 \nL 119.423606 69.568477 \nL 119.758742 65.222653 \nL 120.093877 65.065079 \nL 120.429012 64.136468 \nL 120.764147 61.23868 \nL 121.099282 63.298927 \nL 121.434417 61.737262 \nL 121.769552 54.810509 \nL 122.104688 52.177759 \nL 122.439823 50.872659 \nL 122.774958 50.215312 \nL 123.110093 53.268265 \nL 123.445228 54.939121 \nL 123.780363 51.962874 \nL 124.115498 54.260155 \nL 124.450633 53.861244 \nL 124.785769 50.913964 \nL 125.120904 49.494497 \nL 125.456039 51.16801 \nL 125.791174 54.770664 \nL 126.126309 53.861663 \nL 126.461444 57.663941 \nL 126.796579 57.781449 \nL 127.131715 62.427344 \nL 127.46685 61.631749 \nL 127.801985 64.857908 \nL 128.13712 64.938975 \nL 128.472255 68.591919 \nL 128.80739 64.972721 \nL 129.142525 65.541972 \nL 129.47766 62.460151 \nL 129.812796 60.568181 \nL 130.483066 65.95093 \nL 130.818201 63.094571 \nL 131.153336 61.712076 \nL 131.488471 58.181904 \nL 131.823606 57.785118 \nL 132.158742 59.840413 \nL 132.493877 58.851013 \nL 132.829012 57.192823 \nL 133.164147 58.634815 \nL 133.499282 59.381273 \nL 134.504687 65.03069 \nL 134.839823 61.72436 \nL 135.174958 63.599032 \nL 135.510093 63.95217 \nL 135.845228 66.219898 \nL 136.180363 65.31283 \nL 136.515498 66.624156 \nL 136.850633 66.884645 \nL 137.185769 62.702994 \nL 137.520904 62.560233 \nL 137.856039 61.363764 \nL 138.191174 60.599886 \nL 138.526309 60.991606 \nL 138.861444 59.868608 \nL 139.196579 62.229646 \nL 139.531715 60.643867 \nL 139.86685 60.373542 \nL 140.201985 61.257671 \nL 140.53712 61.626061 \nL 140.872255 64.908422 \nL 141.20739 64.842855 \nL 141.542525 65.557808 \nL 141.87766 68.062995 \nL 142.212796 69.552445 \nL 142.547931 69.348143 \nL 142.883066 69.79331 \nL 143.218201 72.861106 \nL 143.553336 74.141252 \nL 143.888471 72.064248 \nL 144.223606 71.704411 \nL 144.558742 69.667531 \nL 144.893877 70.667927 \nL 145.229012 72.672826 \nL 145.564147 71.043007 \nL 145.899282 70.8931 \nL 146.234417 66.977729 \nL 146.569552 65.116339 \nL 146.904688 64.564271 \nL 147.239823 65.191024 \nL 147.574958 60.22264 \nL 147.910093 60.598498 \nL 148.245228 65.672011 \nL 148.580363 62.810718 \nL 149.585769 70.041593 \nL 149.920904 70.143196 \nL 150.256039 73.044195 \nL 150.591174 73.763912 \nL 150.926309 72.932324 \nL 151.261444 72.477459 \nL 151.596579 70.279488 \nL 151.931715 69.600706 \nL 152.601985 71.369701 \nL 153.272255 69.365971 \nL 154.27766 74.682104 \nL 154.612796 77.445196 \nL 154.947931 78.870614 \nL 155.283066 76.085024 \nL 155.618201 77.096049 \nL 155.953336 74.568507 \nL 156.623606 77.550957 \nL 156.958742 77.528206 \nL 157.293877 77.686346 \nL 157.629012 78.566979 \nL 157.964147 72.116926 \nL 158.299282 72.303897 \nL 158.969552 67.252756 \nL 159.639823 72.923134 \nL 159.974958 73.686503 \nL 160.310093 75.544644 \nL 160.645228 73.584722 \nL 160.980363 74.318287 \nL 161.315498 76.150013 \nL 161.650633 75.535399 \nL 162.320904 77.823889 \nL 162.656039 80.248466 \nL 162.991174 80.346378 \nL 163.326309 79.156931 \nL 163.661444 81.279815 \nL 163.996579 78.881516 \nL 164.331715 79.064957 \nL 164.66685 80.139774 \nL 165.001985 81.634069 \nL 165.33712 81.433655 \nL 165.672255 84.846355 \nL 166.00739 84.570388 \nL 166.342525 81.993165 \nL 166.67766 83.228676 \nL 167.012796 83.62192 \nL 167.347931 82.852655 \nL 167.683066 86.837105 \nL 168.018201 89.39916 \nL 168.353336 89.096856 \nL 168.688471 87.260939 \nL 169.023606 88.046915 \nL 169.358742 89.940738 \nL 169.693877 88.920936 \nL 170.029012 84.371235 \nL 170.364147 84.197383 \nL 170.699282 88.218822 \nL 171.034417 88.598797 \nL 172.374958 83.073818 \nL 172.710093 83.780918 \nL 173.045228 86.904498 \nL 173.380363 86.553632 \nL 173.715498 86.013494 \nL 174.050633 86.686215 \nL 174.385769 79.866725 \nL 174.720904 76.401767 \nL 175.056039 76.687757 \nL 175.391174 76.505658 \nL 175.726309 73.51833 \nL 176.061444 75.600975 \nL 176.396579 75.240885 \nL 176.731715 76.905783 \nL 177.06685 77.299788 \nL 177.73712 83.842835 \nL 178.072255 84.54724 \nL 178.40739 81.07762 \nL 178.742525 82.166645 \nL 179.07766 79.338406 \nL 179.747931 82.283372 \nL 180.083066 82.196148 \nL 180.418201 78.240782 \nL 180.753336 78.409565 \nL 181.758742 75.532537 \nL 182.093877 74.065655 \nL 182.429012 73.120584 \nL 183.099282 73.114005 \nL 183.434417 75.939747 \nL 183.769552 76.561593 \nL 184.104688 75.03639 \nL 184.439823 74.867958 \nL 184.774958 76.39673 \nL 185.110093 76.927483 \nL 185.445228 75.632544 \nL 185.780363 75.319157 \nL 186.115498 77.542691 \nL 186.450633 78.598957 \nL 186.785769 79.200516 \nL 187.120904 79.345937 \nL 188.461444 87.170309 \nL 188.796579 84.092729 \nL 189.131715 84.935416 \nL 189.46685 82.749875 \nL 189.801985 83.670881 \nL 190.472255 90.607545 \nL 190.80739 94.558736 \nL 191.142525 94.531598 \nL 191.47766 93.056967 \nL 191.812796 92.77994 \nL 192.147931 92.092537 \nL 192.818201 89.757339 \nL 193.153336 92.288305 \nL 193.488471 93.918628 \nL 194.158742 88.210703 \nL 194.493877 88.167381 \nL 194.829012 83.846949 \nL 195.499282 83.950041 \nL 195.834417 83.037104 \nL 196.169552 84.378239 \nL 196.504687 81.781428 \nL 196.839823 80.114075 \nL 197.174958 82.911851 \nL 197.510093 81.534647 \nL 198.180363 88.241821 \nL 198.515498 88.053265 \nL 198.850633 91.940775 \nL 199.185769 94.114155 \nL 199.520904 94.431694 \nL 199.856039 97.474641 \nL 200.526309 93.74778 \nL 200.861444 93.819987 \nL 201.196579 90.714556 \nL 201.86685 88.647582 \nL 202.201985 89.535459 \nL 202.872255 86.434775 \nL 203.542525 85.125803 \nL 203.87766 81.832271 \nL 204.212796 81.350118 \nL 204.547931 83.956031 \nL 204.883066 82.797667 \nL 205.218201 80.253447 \nL 205.888471 86.220003 \nL 206.223606 85.151422 \nL 206.558742 85.544533 \nL 206.893877 86.248877 \nL 207.229012 84.147201 \nL 207.564147 86.620263 \nL 207.899282 87.200436 \nL 208.234417 90.40088 \nL 208.569552 89.311987 \nL 209.239823 91.659063 \nL 209.574958 92.123268 \nL 209.910093 93.925041 \nL 210.580363 91.803689 \nL 210.915498 96.748798 \nL 211.250633 95.728796 \nL 211.585769 99.741777 \nL 211.920904 96.129263 \nL 212.591174 101.303299 \nL 212.926309 102.147824 \nL 213.261444 99.399891 \nL 213.596579 97.77669 \nL 213.931715 99.528833 \nL 214.26685 101.971544 \nL 214.93712 95.767539 \nL 215.272255 96.524978 \nL 215.60739 99.840311 \nL 215.942525 98.797576 \nL 216.27766 94.452714 \nL 216.612796 96.021276 \nL 216.947931 94.929855 \nL 217.283066 94.688421 \nL 217.618201 94.01883 \nL 217.953336 94.147095 \nL 218.288471 93.30371 \nL 218.623606 91.917581 \nL 218.958742 91.994942 \nL 219.293877 93.630789 \nL 219.629012 98.050748 \nL 219.964147 97.219794 \nL 220.299282 99.164564 \nL 220.634417 98.460931 \nL 220.969552 93.7755 \nL 221.304688 91.131207 \nL 221.974958 88.29091 \nL 222.310093 87.841576 \nL 222.645228 88.439729 \nL 222.980363 84.839032 \nL 223.315498 79.926952 \nL 224.320904 75.586439 \nL 224.656039 75.247639 \nL 224.991174 77.102952 \nL 225.326309 74.796816 \nL 225.661444 75.812616 \nL 225.996579 79.760459 \nL 226.331715 78.218944 \nL 226.66685 80.203547 \nL 227.001985 78.768634 \nL 227.33712 78.956233 \nL 227.672255 75.173133 \nL 228.67766 80.590997 \nL 229.347931 77.628479 \nL 229.683066 76.175208 \nL 230.018201 73.214144 \nL 230.688471 75.468171 \nL 231.023606 74.037835 \nL 231.358742 75.64463 \nL 231.693877 74.081508 \nL 232.029012 75.707884 \nL 232.699282 74.546189 \nL 233.034417 79.723302 \nL 233.369552 78.664082 \nL 233.704687 80.122557 \nL 234.374958 80.409649 \nL 234.710093 76.792157 \nL 235.045228 78.587928 \nL 235.380363 78.267878 \nL 236.385769 87.820353 \nL 236.720904 85.617161 \nL 237.056039 88.586951 \nL 237.391174 87.028878 \nL 237.726309 87.056541 \nL 238.061444 88.445377 \nL 238.396579 88.276319 \nL 238.731715 90.83017 \nL 239.06685 88.49323 \nL 239.401985 88.119458 \nL 239.73712 87.166671 \nL 240.072255 84.638656 \nL 240.40739 83.765318 \nL 240.742525 83.39081 \nL 241.07766 86.8421 \nL 241.412796 85.191321 \nL 241.747931 87.439597 \nL 242.083066 87.197883 \nL 242.753336 79.45453 \nL 243.088471 81.70535 \nL 243.423606 80.290231 \nL 243.758742 80.883712 \nL 244.093877 80.697504 \nL 244.429012 79.373463 \nL 244.764147 79.693525 \nL 245.099282 81.515001 \nL 245.434417 81.122626 \nL 245.769552 81.749778 \nL 246.104688 79.009137 \nL 246.439823 79.220761 \nL 246.774958 77.669123 \nL 247.110093 77.197742 \nL 247.780363 81.94357 \nL 248.115498 83.10094 \nL 248.450633 81.362389 \nL 248.785769 78.858326 \nL 249.120904 80.655008 \nL 249.456039 83.072856 \nL 249.791174 81.008626 \nL 250.126309 82.307163 \nL 250.461444 80.187119 \nL 250.796579 77.214783 \nL 251.131715 77.647263 \nL 251.801985 69.091862 \nL 252.13712 70.071186 \nL 252.472255 69.383298 \nL 252.80739 69.420085 \nL 253.142525 68.076125 \nL 253.47766 66.178041 \nL 254.147931 63.942528 \nL 254.483066 63.547606 \nL 254.818201 62.017385 \nL 255.153336 58.419596 \nL 255.823606 62.368468 \nL 256.158742 65.296631 \nL 256.493877 66.91091 \nL 256.829012 66.725196 \nL 257.164147 68.649331 \nL 257.499282 69.517275 \nL 257.834417 68.145964 \nL 258.839823 72.747166 \nL 259.174958 75.65974 \nL 259.510093 77.350391 \nL 259.845228 72.954526 \nL 260.180363 75.211831 \nL 260.515498 78.514356 \nL 260.850633 77.501734 \nL 261.185769 75.795611 \nL 261.520904 76.367906 \nL 261.856039 78.550589 \nL 262.191174 76.870488 \nL 262.526309 76.124187 \nL 263.196579 73.512416 \nL 263.531715 74.238331 \nL 263.86685 73.189583 \nL 264.201985 73.594137 \nL 264.53712 70.597684 \nL 264.872255 72.585194 \nL 265.20739 70.398709 \nL 265.542525 71.13868 \nL 265.87766 73.481699 \nL 266.212796 74.962057 \nL 266.547931 73.512437 \nL 266.883066 77.383156 \nL 267.218201 79.230473 \nL 267.553336 77.152644 \nL 267.888471 77.824858 \nL 268.223606 81.470866 \nL 268.558742 78.117186 \nL 268.893877 81.674852 \nL 269.229012 86.752364 \nL 269.564147 88.494147 \nL 269.899282 86.404385 \nL 270.569552 83.249789 \nL 270.904688 85.971972 \nL 271.574958 82.79804 \nL 271.910093 82.284257 \nL 272.245228 83.11212 \nL 272.580363 81.804943 \nL 272.915498 82.466915 \nL 273.250633 86.135848 \nL 273.585769 86.60687 \nL 273.920904 89.477267 \nL 274.256039 89.082259 \nL 274.591174 85.582765 \nL 274.926309 86.311403 \nL 275.261444 82.682853 \nL 275.596579 83.450695 \nL 275.931715 82.58722 \nL 276.26685 78.287821 \nL 276.93712 74.085957 \nL 277.272255 66.972727 \nL 277.60739 65.992828 \nL 277.942525 64.575694 \nL 278.27766 63.829146 \nL 278.612796 62.25969 \nL 278.947931 62.477491 \nL 279.283066 59.54736 \nL 279.618201 59.355683 \nL 279.953336 62.539634 \nL 280.288471 62.781286 \nL 280.623606 66.494454 \nL 280.958742 66.800994 \nL 281.293877 67.331603 \nL 281.629012 64.969897 \nL 281.964147 66.803387 \nL 282.299282 64.55193 \nL 282.634417 64.600685 \nL 282.969552 67.315291 \nL 283.304688 67.439365 \nL 283.639823 71.852654 \nL 283.974958 68.974011 \nL 284.310093 69.165855 \nL 284.645228 68.94271 \nL 284.980363 71.365566 \nL 285.315498 74.717876 \nL 285.650633 73.839604 \nL 285.985769 70.51494 \nL 286.320904 70.424328 \nL 286.991174 73.532054 \nL 287.326309 70.879806 \nL 287.661444 73.476405 \nL 287.996579 71.168721 \nL 288.66685 73.322337 \nL 289.001985 72.896195 \nL 289.33712 71.801378 \nL 289.672255 73.324937 \nL 290.342525 78.608163 \nL 290.67766 77.990194 \nL 291.012796 84.288875 \nL 291.347931 83.554258 \nL 291.683066 85.3221 \nL 292.018201 82.73722 \nL 292.688471 84.05058 \nL 293.023606 79.480857 \nL 293.358742 76.646402 \nL 293.693877 77.37963 \nL 294.029012 77.360651 \nL 294.364147 73.278626 \nL 294.699282 66.571199 \nL 295.034417 68.098984 \nL 295.369552 64.95735 \nL 295.704687 65.750196 \nL 296.039823 64.944905 \nL 296.374958 63.720523 \nL 296.710093 64.633306 \nL 297.045228 65.094777 \nL 297.380363 68.164214 \nL 297.715498 67.754347 \nL 298.050633 67.715761 \nL 298.385769 66.793377 \nL 298.720904 64.750802 \nL 299.056039 66.815634 \nL 299.391174 65.909918 \nL 300.061444 68.084789 \nL 300.396579 67.664698 \nL 300.731715 70.554834 \nL 301.401985 73.895127 \nL 301.73712 74.822844 \nL 302.072255 73.181914 \nL 302.40739 75.04529 \nL 302.742525 73.824311 \nL 303.07766 76.360857 \nL 303.412796 77.709335 \nL 303.747931 79.986586 \nL 304.083066 79.887281 \nL 304.418201 78.208817 \nL 304.753336 78.234647 \nL 305.088471 78.839927 \nL 305.758742 78.586214 \nL 306.093877 79.84636 \nL 306.429012 79.906595 \nL 306.764147 75.346449 \nL 307.099282 76.653226 \nL 307.434417 75.064207 \nL 308.439823 77.692379 \nL 308.774958 79.754562 \nL 309.110093 77.506796 \nL 309.445228 78.318015 \nL 309.780363 76.128442 \nL 310.115498 77.871131 \nL 310.450633 76.656085 \nL 310.785769 76.020636 \nL 311.120904 78.327206 \nL 311.456039 74.148014 \nL 311.791174 77.770995 \nL 312.461444 76.916315 \nL 312.796579 72.687134 \nL 313.131715 72.469005 \nL 313.46685 73.26511 \nL 313.801985 72.766796 \nL 314.472255 71.160504 \nL 314.80739 68.56031 \nL 315.142525 72.592486 \nL 315.47766 78.009157 \nL 315.812796 79.317335 \nL 316.147931 77.880747 \nL 316.483066 80.957523 \nL 316.818201 80.718947 \nL 317.488471 83.07303 \nL 317.823606 81.828798 \nL 318.158742 83.185637 \nL 318.493877 81.774615 \nL 318.829012 87.981515 \nL 319.164147 87.875351 \nL 319.499282 87.946613 \nL 319.834417 85.710755 \nL 320.169552 86.81824 \nL 320.504687 85.575197 \nL 320.839823 84.761393 \nL 321.174958 83.185084 \nL 322.180363 77.268879 \nL 323.185769 71.551201 \nL 323.520904 69.109355 \nL 323.856039 69.617119 \nL 324.191174 69.743854 \nL 324.526309 69.079093 \nL 324.861444 69.088666 \nL 325.196579 64.307465 \nL 325.531715 65.060321 \nL 325.86685 66.907856 \nL 326.201985 70.69202 \nL 326.53712 70.169497 \nL 326.872255 71.230689 \nL 327.20739 68.703666 \nL 327.542525 69.585528 \nL 327.87766 63.462911 \nL 328.212796 64.596318 \nL 328.547931 67.480746 \nL 328.883066 66.429871 \nL 329.218201 66.743775 \nL 329.553336 66.456756 \nL 329.888471 65.71448 \nL 330.223606 67.339591 \nL 330.558742 65.238051 \nL 330.893877 65.880723 \nL 331.229012 67.272661 \nL 331.564147 67.727191 \nL 331.899282 62.0769 \nL 332.234417 62.169303 \nL 332.569552 61.87386 \nL 332.904688 62.100488 \nL 333.239823 61.210961 \nL 333.910093 60.340717 \nL 334.245228 61.938102 \nL 334.580363 59.192829 \nL 334.915498 60.20319 \nL 335.250633 57.113991 \nL 335.585769 49.772889 \nL 336.591174 45.24213 \nL 337.261444 49.293272 \nL 337.596579 48.778359 \nL 337.931715 46.304436 \nL 338.26685 47.54329 \nL 338.601985 47.248041 \nL 338.93712 51.58029 \nL 339.272255 51.278865 \nL 339.60739 51.88188 \nL 339.942525 53.955338 \nL 340.27766 54.503895 \nL 340.612796 57.116271 \nL 340.947931 58.554547 \nL 341.283066 59.314368 \nL 341.618201 54.962269 \nL 341.953336 53.718577 \nL 342.288471 53.46408 \nL 342.623606 54.559957 \nL 342.958742 51.602351 \nL 343.293877 53.389935 \nL 343.629012 53.625767 \nL 343.964147 52.918854 \nL 344.299282 50.935704 \nL 344.634417 47.710624 \nL 344.969552 47.333328 \nL 345.304688 44.646448 \nL 345.639823 46.65675 \nL 346.310093 42.478349 \nL 346.645228 42.108112 \nL 346.980363 42.45115 \nL 347.315498 39.566087 \nL 347.650633 37.711613 \nL 348.320904 41.589146 \nL 348.656039 41.095823 \nL 348.991174 38.611618 \nL 349.326309 38.757117 \nL 349.661444 37.556843 \nL 349.996579 38.706613 \nL 350.331715 40.871227 \nL 351.001985 35.16065 \nL 351.33712 34.837766 \nL 351.672255 34.903811 \nL 352.00739 36.466839 \nL 352.342525 35.641967 \nL 352.67766 36.351895 \nL 353.012796 37.723592 \nL 353.347931 38.528647 \nL 353.683066 36.360069 \nL 354.018201 37.090751 \nL 354.353336 36.608996 \nL 354.688471 37.193674 \nL 355.023606 39.176936 \nL 355.358742 43.535123 \nL 355.693877 40.793085 \nL 356.029012 40.353476 \nL 356.364147 39.482794 \nL 356.699282 39.684625 \nL 357.034417 38.28892 \nL 357.369552 37.751345 \nL 357.704687 37.947518 \nL 358.039823 38.476159 \nL 358.374958 43.12017 \nL 358.710093 44.226328 \nL 359.045228 44.482488 \nL 359.380363 42.865036 \nL 359.715498 46.628207 \nL 360.050633 45.035696 \nL 360.385769 44.546901 \nL 360.720904 39.592804 \nL 361.056039 40.051727 \nL 361.391174 39.263562 \nL 361.726309 40.874147 \nL 362.061444 40.060233 \nL 362.396579 39.626792 \nL 362.731715 38.892654 \nL 363.06685 38.961106 \nL 363.401985 34.158437 \nL 363.73712 32.020396 \nL 364.072255 28.064658 \nL 364.40739 29.942589 \nL 364.742525 28.873804 \nL 365.07766 25.53209 \nL 365.412796 26.338343 \nL 365.747931 23.053564 \nL 366.083066 22.562205 \nL 366.418201 22.77709 \nL 366.753336 23.577667 \nL 367.088471 23.056775 \nL 367.423606 25.514261 \nL 367.758742 26.206231 \nL 368.093877 29.022081 \nL 368.429012 29.605789 \nL 368.764147 28.759582 \nL 369.099282 30.564252 \nL 369.769552 31.857432 \nL 370.104688 30.968567 \nL 370.104688 30.968567 \n\" clip-path=\"url(#pee32624cf6)\" style=\"fill: none; stroke: #ff7f0e; stroke-width: 1.5; stroke-linecap: square\"/>\n   </g>\n   <g id=\"line2d_42\">\n    <path d=\"M 35.304688 92.780101 \nL 35.639823 91.798458 \nL 35.974958 94.556565 \nL 36.310093 92.930419 \nL 36.645228 93.174435 \nL 37.315498 96.141498 \nL 37.650633 96.082845 \nL 37.985769 97.002202 \nL 38.320904 95.773147 \nL 38.656039 94.973471 \nL 38.991174 94.9187 \nL 39.326309 94.194935 \nL 39.661444 91.159222 \nL 39.996579 90.739857 \nL 40.66685 93.036233 \nL 41.672255 85.872013 \nL 42.00739 88.16112 \nL 42.342525 87.450007 \nL 42.67766 85.758685 \nL 43.012796 86.299762 \nL 43.347931 89.307717 \nL 43.683066 90.567459 \nL 44.018201 90.788369 \nL 44.353336 93.330067 \nL 44.688471 98.149454 \nL 45.358742 102.048837 \nL 45.693877 102.563276 \nL 46.029012 96.142386 \nL 46.364147 102.31232 \nL 47.034417 100.980014 \nL 47.369552 104.386993 \nL 47.704687 104.258368 \nL 48.039823 105.910664 \nL 48.374958 104.268341 \nL 49.045228 106.076386 \nL 49.380363 110.006953 \nL 49.715498 109.953802 \nL 50.385769 102.017034 \nL 50.720904 103.515654 \nL 51.056039 100.579342 \nL 51.391174 100.660447 \nL 51.726309 101.036129 \nL 52.061444 100.247085 \nL 52.396579 102.313036 \nL 53.401985 98.151697 \nL 53.73712 98.262807 \nL 54.072255 99.463926 \nL 54.40739 102.580343 \nL 55.07766 96.48882 \nL 55.412796 97.135946 \nL 55.747931 96.621983 \nL 56.083066 92.165875 \nL 56.418201 92.492548 \nL 56.753336 89.43637 \nL 57.088471 93.425078 \nL 57.758742 95.993038 \nL 58.093877 95.20411 \nL 58.429012 93.891152 \nL 58.764147 96.391753 \nL 59.099282 95.323591 \nL 59.434417 92.982766 \nL 60.104688 91.486044 \nL 60.439823 92.846791 \nL 61.110093 93.522296 \nL 61.445228 92.275793 \nL 61.780363 91.933204 \nL 62.115498 92.466312 \nL 62.450633 96.000024 \nL 62.785769 97.184346 \nL 63.120904 96.364461 \nL 63.456039 98.653822 \nL 64.461444 101.997663 \nL 64.796579 100.411409 \nL 65.131715 101.606407 \nL 65.46685 99.390712 \nL 65.801985 100.580411 \nL 66.13712 96.044807 \nL 66.472255 94.221237 \nL 66.80739 97.112358 \nL 67.142525 93.355642 \nL 67.47766 92.35508 \nL 67.812796 95.149372 \nL 68.147931 93.76461 \nL 68.483066 96.210154 \nL 68.818201 92.663677 \nL 69.153336 93.710952 \nL 69.488471 92.006942 \nL 69.823606 94.517379 \nL 70.158742 95.136524 \nL 70.829012 99.580951 \nL 71.164147 100.277362 \nL 71.499282 99.378183 \nL 71.834417 97.948981 \nL 72.169552 97.186321 \nL 72.504687 96.912774 \nL 72.839823 96.365302 \nL 73.174958 96.996773 \nL 73.510093 97.311961 \nL 73.845228 95.65497 \nL 74.180363 95.850706 \nL 74.515498 92.247187 \nL 74.850633 94.046132 \nL 75.520904 86.321931 \nL 75.856039 85.772449 \nL 76.191174 83.664199 \nL 76.526309 87.685523 \nL 76.861444 86.256278 \nL 77.196579 86.340632 \nL 77.86685 80.187217 \nL 78.201985 81.943066 \nL 78.53712 82.99641 \nL 78.872255 83.3523 \nL 79.542525 82.65593 \nL 80.212796 82.820039 \nL 80.547931 85.133472 \nL 80.883066 84.738172 \nL 81.218201 84.767417 \nL 81.553336 86.974069 \nL 81.888471 86.834403 \nL 82.223606 89.937774 \nL 82.558742 91.462784 \nL 82.893877 94.263477 \nL 83.229012 95.811221 \nL 83.564147 94.147708 \nL 83.899282 95.324751 \nL 84.234417 95.02751 \nL 84.569552 96.701469 \nL 85.239823 92.666386 \nL 85.574958 91.750003 \nL 85.910093 91.436229 \nL 86.915498 87.532218 \nL 87.250633 87.933465 \nL 87.585769 87.867728 \nL 87.920904 89.107875 \nL 88.256039 86.995369 \nL 88.591174 87.508179 \nL 88.926309 86.773732 \nL 89.261444 85.483841 \nL 89.596579 86.708452 \nL 89.931715 86.264767 \nL 90.26685 87.709608 \nL 90.601985 85.7767 \nL 90.93712 87.875197 \nL 91.60739 88.381381 \nL 91.942525 86.734884 \nL 92.27766 84.449269 \nL 92.612796 86.833685 \nL 92.947931 91.250033 \nL 93.283066 93.955752 \nL 93.618201 91.900067 \nL 93.953336 92.037257 \nL 94.288471 91.380056 \nL 94.623606 89.543901 \nL 94.958742 91.738172 \nL 95.293877 88.766755 \nL 95.629012 87.657849 \nL 95.964147 83.339248 \nL 96.299282 83.724661 \nL 96.634417 81.985508 \nL 97.304688 81.267395 \nL 97.639823 78.327268 \nL 97.974958 78.006339 \nL 98.310093 77.11332 \nL 98.645228 75.670933 \nL 98.980363 77.661297 \nL 99.315498 80.519179 \nL 99.650633 74.342827 \nL 99.985769 70.366907 \nL 100.320904 70.696012 \nL 100.656039 70.296312 \nL 100.991174 66.411676 \nL 101.326309 67.951352 \nL 101.661444 71.596296 \nL 101.996579 70.489966 \nL 102.331715 71.15566 \nL 102.66685 69.377313 \nL 103.001985 68.275068 \nL 103.33712 68.721203 \nL 103.672255 70.461456 \nL 104.00739 70.163004 \nL 104.342525 68.018732 \nL 105.012796 77.621905 \nL 105.347931 77.994277 \nL 106.018201 74.487812 \nL 106.353336 76.029382 \nL 106.688471 70.672628 \nL 107.023606 73.477631 \nL 107.358742 72.162597 \nL 107.693877 73.999031 \nL 108.029012 76.473334 \nL 108.364147 77.024721 \nL 108.699282 79.627697 \nL 109.034417 79.198771 \nL 109.369552 82.288169 \nL 109.704687 81.361303 \nL 110.039823 83.827911 \nL 111.045228 76.284661 \nL 111.380363 78.118402 \nL 111.715498 82.043254 \nL 112.050633 83.11779 \nL 112.385769 86.292448 \nL 112.720904 86.548152 \nL 113.056039 83.848906 \nL 113.391174 83.974641 \nL 113.726309 82.221873 \nL 114.061444 78.897063 \nL 114.396579 78.894452 \nL 115.73712 69.503071 \nL 116.072255 71.601322 \nL 116.40739 72.348365 \nL 116.742525 73.512152 \nL 117.07766 71.81508 \nL 117.412796 73.496901 \nL 117.747931 71.071964 \nL 118.083066 72.638805 \nL 118.418201 77.166838 \nL 118.753336 76.03764 \nL 119.423606 82.118986 \nL 119.758742 81.203626 \nL 120.093877 83.949074 \nL 120.429012 80.795064 \nL 120.764147 81.638294 \nL 121.099282 81.44203 \nL 121.434417 83.080671 \nL 121.769552 83.205128 \nL 122.104688 81.832071 \nL 122.439823 83.668984 \nL 122.774958 84.071104 \nL 123.445228 82.074735 \nL 124.115498 86.529111 \nL 124.450633 87.7258 \nL 124.785769 85.691111 \nL 125.120904 86.09498 \nL 125.456039 85.647948 \nL 125.791174 87.931862 \nL 126.126309 84.41795 \nL 126.461444 84.172662 \nL 126.796579 85.388847 \nL 127.131715 85.148741 \nL 127.46685 89.574714 \nL 127.801985 91.488988 \nL 128.472255 89.053098 \nL 128.80739 86.339622 \nL 129.142525 85.725595 \nL 129.47766 87.446998 \nL 129.812796 92.080806 \nL 130.147931 92.696863 \nL 130.483066 89.017464 \nL 130.818201 93.314559 \nL 131.153336 94.534589 \nL 131.488471 91.475813 \nL 131.823606 95.245068 \nL 132.158742 93.697076 \nL 132.493877 97.582073 \nL 132.829012 95.01656 \nL 133.499282 92.72691 \nL 133.834417 92.606623 \nL 134.169552 92.753781 \nL 134.504687 91.837352 \nL 134.839823 93.468781 \nL 135.174958 92.485775 \nL 135.510093 91.062374 \nL 135.845228 88.475379 \nL 136.180363 88.03507 \nL 136.850633 86.089181 \nL 137.185769 86.473385 \nL 137.520904 85.974797 \nL 137.856039 86.829576 \nL 138.191174 86.753052 \nL 138.526309 88.561908 \nL 138.861444 91.030684 \nL 139.196579 91.154817 \nL 139.531715 88.117118 \nL 139.86685 89.564325 \nL 140.201985 87.887686 \nL 140.53712 87.564468 \nL 140.872255 85.818704 \nL 141.20739 85.539547 \nL 141.542525 80.715504 \nL 141.87766 80.900704 \nL 142.212796 79.43519 \nL 142.547931 81.29861 \nL 142.883066 81.945525 \nL 143.218201 85.117952 \nL 143.553336 84.966986 \nL 143.888471 86.948149 \nL 144.223606 86.637307 \nL 144.558742 88.600455 \nL 144.893877 88.529654 \nL 145.229012 90.76594 \nL 145.564147 90.484838 \nL 145.899282 84.083561 \nL 146.234417 84.820203 \nL 146.569552 79.830351 \nL 146.904688 81.09859 \nL 147.239823 80.872026 \nL 147.574958 80.201445 \nL 147.910093 75.774898 \nL 148.245228 79.957638 \nL 148.580363 76.56616 \nL 148.915498 74.812883 \nL 149.250633 75.232507 \nL 149.585769 74.526637 \nL 149.920904 76.446332 \nL 150.256039 76.249112 \nL 150.591174 74.423949 \nL 150.926309 73.246281 \nL 151.261444 70.198792 \nL 151.596579 70.677736 \nL 151.931715 70.191377 \nL 152.26685 67.332841 \nL 152.601985 63.019727 \nL 152.93712 65.461302 \nL 153.272255 62.015482 \nL 153.60739 60.848628 \nL 153.942525 57.710984 \nL 154.27766 61.936505 \nL 154.612796 61.30429 \nL 154.947931 57.404221 \nL 155.283066 58.448137 \nL 155.618201 61.284049 \nL 155.953336 62.732797 \nL 156.623606 67.304507 \nL 156.958742 67.8168 \nL 157.629012 69.56507 \nL 157.964147 68.442047 \nL 158.299282 69.915257 \nL 158.969552 67.66512 \nL 159.304688 68.088504 \nL 159.639823 69.229023 \nL 159.974958 66.700287 \nL 160.310093 67.632629 \nL 160.645228 67.532682 \nL 160.980363 68.389575 \nL 161.315498 67.670576 \nL 161.650633 65.540529 \nL 161.985769 65.454156 \nL 162.320904 65.503094 \nL 162.656039 65.18869 \nL 162.991174 63.048983 \nL 163.326309 63.439172 \nL 163.661444 62.251177 \nL 163.996579 62.777353 \nL 164.331715 64.113261 \nL 164.66685 62.083556 \nL 165.001985 62.512579 \nL 165.33712 65.234755 \nL 165.672255 65.403422 \nL 166.00739 65.900672 \nL 166.342525 65.121193 \nL 166.67766 65.107349 \nL 167.012796 63.373641 \nL 167.347931 60.289824 \nL 167.683066 60.025792 \nL 168.018201 60.401286 \nL 168.353336 61.31939 \nL 169.023606 58.350255 \nL 169.693877 60.376649 \nL 170.029012 59.295047 \nL 170.364147 57.445457 \nL 170.699282 54.953969 \nL 171.034417 53.639993 \nL 171.369552 58.215841 \nL 171.704687 56.182346 \nL 172.039823 59.295996 \nL 172.374958 59.314806 \nL 172.710093 62.223563 \nL 173.045228 61.924315 \nL 173.380363 59.838029 \nL 173.715498 63.734274 \nL 174.385769 59.294892 \nL 174.720904 55.253126 \nL 175.056039 56.810882 \nL 175.391174 55.272864 \nL 176.061444 49.018713 \nL 176.396579 48.450233 \nL 176.731715 46.661222 \nL 177.06685 48.048557 \nL 177.401985 47.572242 \nL 177.73712 49.595019 \nL 178.40739 57.802018 \nL 178.742525 57.244746 \nL 179.07766 60.100023 \nL 179.412796 58.778284 \nL 179.747931 59.00944 \nL 180.083066 58.322375 \nL 180.418201 52.976459 \nL 180.753336 52.056775 \nL 181.088471 52.165811 \nL 181.423606 51.905329 \nL 181.758742 53.977686 \nL 182.093877 51.577088 \nL 182.429012 50.403441 \nL 182.764147 48.690852 \nL 183.099282 49.89484 \nL 183.434417 47.599948 \nL 183.769552 48.384797 \nL 184.104688 43.958031 \nL 184.439823 44.304291 \nL 184.774958 44.378897 \nL 185.445228 37.483733 \nL 185.780363 37.923855 \nL 186.115498 36.617968 \nL 186.450633 39.471426 \nL 186.785769 39.312528 \nL 187.120904 34.184755 \nL 187.791174 32.172289 \nL 188.796579 26.403343 \nL 189.46685 22.803436 \nL 189.801985 21.63652 \nL 190.13712 21.44144 \nL 190.472255 26.446701 \nL 190.80739 29.13626 \nL 191.47766 25.557723 \nL 191.812796 25.564412 \nL 192.483066 29.361227 \nL 192.818201 31.194961 \nL 193.153336 35.211126 \nL 193.488471 34.603413 \nL 193.823606 35.993607 \nL 194.158742 38.033464 \nL 194.493877 38.189702 \nL 194.829012 39.110848 \nL 195.164147 37.479018 \nL 195.499282 40.828801 \nL 195.834417 40.322122 \nL 196.169552 41.596772 \nL 196.504687 41.893889 \nL 196.839823 38.69421 \nL 197.174958 38.224553 \nL 197.510093 39.431235 \nL 197.845228 41.810996 \nL 198.180363 46.681931 \nL 198.515498 47.943007 \nL 199.185769 53.331538 \nL 199.520904 51.983729 \nL 199.856039 54.580368 \nL 200.191174 60.198726 \nL 200.526309 59.191431 \nL 200.861444 60.561131 \nL 201.196579 62.740407 \nL 201.531715 67.349042 \nL 201.86685 67.662535 \nL 202.201985 66.15923 \nL 202.53712 68.128105 \nL 203.20739 73.684607 \nL 203.87766 72.705189 \nL 204.212796 76.961804 \nL 204.547931 78.463045 \nL 204.883066 78.135122 \nL 205.218201 79.984216 \nL 205.553336 81.039877 \nL 205.888471 78.038592 \nL 206.223606 77.498919 \nL 206.558742 74.799157 \nL 206.893877 74.513303 \nL 207.229012 75.91733 \nL 207.564147 74.351885 \nL 207.899282 74.186366 \nL 208.234417 69.258014 \nL 208.569552 73.315524 \nL 208.904688 72.461775 \nL 209.239823 67.222087 \nL 209.574958 64.055739 \nL 209.910093 64.385686 \nL 210.245228 63.385432 \nL 210.915498 63.959185 \nL 211.250633 65.430669 \nL 211.585769 68.486297 \nL 211.920904 70.019222 \nL 212.256039 73.661847 \nL 212.591174 75.405433 \nL 213.261444 72.513962 \nL 213.596579 71.645541 \nL 213.931715 74.933708 \nL 214.26685 76.08943 \nL 214.601985 72.112469 \nL 214.93712 73.741701 \nL 215.272255 74.54335 \nL 215.60739 72.244304 \nL 215.942525 71.856291 \nL 216.27766 70.22653 \nL 216.612796 69.981717 \nL 217.283066 63.158436 \nL 217.618201 61.64088 \nL 218.288471 67.171045 \nL 218.623606 68.239615 \nL 218.958742 67.534295 \nL 219.293877 68.332072 \nL 219.629012 66.997936 \nL 219.964147 67.801345 \nL 220.299282 71.722131 \nL 220.634417 72.697633 \nL 220.969552 73.006645 \nL 221.304688 74.974354 \nL 221.639823 73.814411 \nL 221.974958 74.68109 \nL 222.310093 73.525013 \nL 222.645228 73.51557 \nL 222.980363 72.011732 \nL 223.315498 72.087384 \nL 223.650633 71.895116 \nL 223.985769 76.752305 \nL 224.320904 75.85281 \nL 224.656039 74.332445 \nL 224.991174 75.950045 \nL 225.326309 74.927522 \nL 225.661444 76.150875 \nL 225.996579 74.166216 \nL 226.331715 72.86106 \nL 226.66685 73.453591 \nL 227.001985 74.342661 \nL 227.33712 76.94661 \nL 227.672255 76.692547 \nL 228.00739 78.053869 \nL 228.342525 72.680842 \nL 228.67766 71.242667 \nL 229.012796 73.270072 \nL 229.347931 73.540465 \nL 229.683066 77.664077 \nL 230.018201 77.452339 \nL 230.353336 79.479961 \nL 230.688471 79.031028 \nL 231.023606 76.988207 \nL 231.358742 75.734829 \nL 231.693877 73.301237 \nL 232.029012 75.784175 \nL 232.364147 71.931613 \nL 232.699282 70.426589 \nL 233.034417 67.312758 \nL 233.369552 71.023371 \nL 233.704687 72.463031 \nL 234.039823 76.3071 \nL 234.374958 75.970197 \nL 234.710093 73.114702 \nL 235.045228 71.41097 \nL 235.380363 70.629644 \nL 235.715498 66.490974 \nL 236.050633 64.533997 \nL 236.385769 63.810732 \nL 236.720904 63.549705 \nL 237.056039 64.159691 \nL 237.391174 62.004952 \nL 237.726309 63.956317 \nL 238.061444 60.293347 \nL 238.396579 59.060073 \nL 238.731715 60.343549 \nL 239.06685 58.367568 \nL 239.401985 57.302867 \nL 239.73712 57.561332 \nL 240.072255 57.58967 \nL 240.40739 56.875622 \nL 240.742525 56.595021 \nL 241.07766 57.457917 \nL 241.747931 52.590766 \nL 242.083066 54.317056 \nL 242.418201 51.852579 \nL 243.423606 47.43669 \nL 243.758742 46.491843 \nL 244.429012 48.952749 \nL 244.764147 52.244398 \nL 245.099282 52.160565 \nL 245.434417 50.540065 \nL 245.769552 55.369066 \nL 246.104688 55.38314 \nL 246.439823 55.912002 \nL 247.110093 53.428585 \nL 247.445228 51.154684 \nL 248.115498 48.572653 \nL 248.450633 48.500704 \nL 248.785769 49.108556 \nL 249.120904 48.699872 \nL 249.456039 48.857335 \nL 249.791174 48.587971 \nL 250.126309 51.110025 \nL 250.461444 44.968492 \nL 250.796579 43.58351 \nL 251.131715 46.328074 \nL 251.46685 44.393158 \nL 251.801985 41.42945 \nL 252.13712 40.134288 \nL 252.472255 39.764299 \nL 252.80739 40.630244 \nL 253.142525 38.951827 \nL 253.47766 39.92344 \nL 253.812796 39.088855 \nL 254.147931 39.147901 \nL 254.483066 35.335966 \nL 254.818201 39.206101 \nL 255.153336 39.420174 \nL 255.488471 32.579491 \nL 256.158742 36.116017 \nL 256.493877 33.451511 \nL 256.829012 33.5962 \nL 257.164147 34.362489 \nL 257.499282 33.519827 \nL 258.169552 27.232727 \nL 258.504687 25.7371 \nL 258.839823 26.172796 \nL 259.174958 24.510865 \nL 259.510093 20.321307 \nL 259.845228 20.366434 \nL 260.180363 20.633677 \nL 260.515498 17.86933 \nL 260.850633 21.045203 \nL 261.185769 19.601065 \nL 261.520904 22.323746 \nL 261.856039 21.73695 \nL 262.191174 22.839963 \nL 262.526309 23.189486 \nL 262.861444 25.698775 \nL 263.531715 17.083636 \nL 263.86685 19.129444 \nL 264.201985 23.034984 \nL 264.53712 22.010729 \nL 264.872255 25.45727 \nL 265.20739 25.052576 \nL 265.542525 26.304526 \nL 265.87766 25.363579 \nL 266.212796 23.960708 \nL 266.547931 29.319463 \nL 266.883066 28.548548 \nL 267.553336 24.171472 \nL 267.888471 24.109076 \nL 268.223606 24.482832 \nL 268.558742 25.106132 \nL 268.893877 23.914601 \nL 269.564147 20.261779 \nL 269.899282 20.286488 \nL 270.234417 24.303933 \nL 270.569552 21.546962 \nL 270.904688 20.381859 \nL 271.239823 22.24826 \nL 271.574958 25.96644 \nL 271.910093 26.128111 \nL 272.245228 26.519694 \nL 272.915498 30.809986 \nL 273.250633 31.382992 \nL 273.585769 30.98258 \nL 273.920904 30.905481 \nL 274.256039 33.713724 \nL 274.591174 35.463628 \nL 274.926309 35.71724 \nL 275.261444 37.131705 \nL 275.596579 36.667105 \nL 275.931715 37.609688 \nL 276.26685 37.181908 \nL 276.601985 35.506022 \nL 276.93712 35.078235 \nL 277.272255 34.302382 \nL 277.60739 33.978824 \nL 277.942525 36.662303 \nL 278.27766 32.607803 \nL 278.612796 32.6173 \nL 278.947931 30.611056 \nL 279.618201 35.267885 \nL 279.953336 36.239027 \nL 280.288471 39.264561 \nL 280.623606 40.017966 \nL 280.958742 36.674453 \nL 281.293877 37.749122 \nL 281.629012 35.076188 \nL 281.964147 39.03991 \nL 282.299282 40.14763 \nL 282.634417 41.672135 \nL 282.969552 45.074522 \nL 283.304688 42.204974 \nL 283.639823 46.732333 \nL 283.974958 47.751571 \nL 284.310093 46.654529 \nL 284.980363 50.934505 \nL 285.315498 48.94479 \nL 285.650633 52.356937 \nL 285.985769 49.896311 \nL 286.320904 49.35916 \nL 286.656039 53.051999 \nL 286.991174 53.846354 \nL 287.661444 51.653859 \nL 287.996579 51.617502 \nL 288.66685 46.68036 \nL 289.001985 46.431352 \nL 289.33712 45.488002 \nL 289.672255 46.960859 \nL 290.00739 48.998135 \nL 290.342525 47.361743 \nL 291.012796 54.750258 \nL 291.347931 55.405562 \nL 291.683066 52.003743 \nL 293.358742 61.812977 \nL 294.029012 56.620177 \nL 294.364147 55.175947 \nL 294.699282 51.646086 \nL 295.034417 50.998346 \nL 295.369552 49.999443 \nL 295.704687 50.247977 \nL 296.039823 52.313934 \nL 296.374958 50.542638 \nL 296.710093 49.509096 \nL 297.045228 48.872888 \nL 297.380363 47.706348 \nL 297.715498 51.191386 \nL 298.050633 51.289568 \nL 298.720904 52.641765 \nL 299.391174 47.425403 \nL 299.726309 50.040279 \nL 300.061444 49.949096 \nL 300.731715 47.844432 \nL 301.06685 47.229819 \nL 301.401985 49.366025 \nL 301.73712 49.730904 \nL 302.072255 51.257523 \nL 302.40739 52.262428 \nL 302.742525 49.032301 \nL 303.07766 43.990353 \nL 303.412796 40.800444 \nL 303.747931 40.107142 \nL 304.083066 36.545958 \nL 304.418201 40.373713 \nL 304.753336 36.845232 \nL 305.423606 39.021144 \nL 305.758742 44.402411 \nL 306.093877 42.176936 \nL 306.429012 41.548274 \nL 306.764147 41.580605 \nL 307.099282 38.709561 \nL 307.769552 44.126129 \nL 308.104688 45.488906 \nL 308.439823 43.942099 \nL 308.774958 41.147908 \nL 309.110093 44.897981 \nL 309.445228 43.927678 \nL 309.780363 48.673085 \nL 310.115498 47.09268 \nL 310.450633 47.802041 \nL 310.785769 47.299215 \nL 311.120904 45.597582 \nL 311.456039 45.249539 \nL 311.791174 44.573916 \nL 312.126309 41.860842 \nL 312.461444 42.592034 \nL 313.131715 38.046847 \nL 313.46685 38.552424 \nL 313.801985 41.297151 \nL 314.472255 39.464706 \nL 314.80739 42.905416 \nL 315.142525 49.5596 \nL 315.47766 51.641682 \nL 315.812796 51.657883 \nL 316.147931 48.730687 \nL 316.483066 49.015915 \nL 316.818201 48.044814 \nL 317.153336 49.989919 \nL 317.488471 49.969541 \nL 317.823606 46.130628 \nL 318.158742 44.489447 \nL 318.829012 45.40959 \nL 319.164147 41.52092 \nL 319.499282 39.364306 \nL 319.834417 41.025751 \nL 320.169552 41.376519 \nL 320.504687 45.573611 \nL 320.839823 39.756275 \nL 321.174958 41.433542 \nL 321.510093 40.484071 \nL 321.845228 36.201894 \nL 322.180363 37.43266 \nL 322.515498 40.168605 \nL 322.850633 40.42961 \nL 323.185769 41.074067 \nL 323.520904 39.134046 \nL 323.856039 38.706267 \nL 324.526309 36.468809 \nL 324.861444 37.036073 \nL 325.196579 37.096919 \nL 325.531715 42.271013 \nL 325.86685 42.702074 \nL 326.201985 41.870998 \nL 326.53712 45.934327 \nL 326.872255 45.727276 \nL 327.20739 44.971409 \nL 327.87766 54.400981 \nL 328.212796 54.459013 \nL 328.547931 55.628287 \nL 328.883066 47.511973 \nL 329.218201 48.105037 \nL 329.553336 47.364067 \nL 329.888471 50.591034 \nL 330.223606 48.349119 \nL 330.558742 49.612116 \nL 330.893877 48.738696 \nL 331.229012 47.284351 \nL 331.564147 45.103049 \nL 331.899282 41.41328 \nL 332.234417 40.407097 \nL 332.569552 41.402067 \nL 332.904688 41.907038 \nL 333.239823 39.41028 \nL 333.574958 41.808742 \nL 333.910093 42.358342 \nL 334.580363 45.079083 \nL 334.915498 46.504148 \nL 335.585769 43.879547 \nL 335.920904 44.279068 \nL 336.256039 45.404746 \nL 336.591174 44.465812 \nL 337.596579 49.328771 \nL 337.931715 47.975622 \nL 338.26685 45.222319 \nL 338.601985 45.23646 \nL 338.93712 43.527207 \nL 339.272255 44.501443 \nL 339.60739 43.817468 \nL 339.942525 49.868457 \nL 340.27766 50.83783 \nL 340.612796 49.919147 \nL 340.947931 53.957854 \nL 341.283066 54.07594 \nL 341.618201 55.173069 \nL 341.953336 58.265375 \nL 342.288471 59.098802 \nL 342.623606 62.617896 \nL 342.958742 59.895127 \nL 343.293877 58.967907 \nL 343.964147 54.308212 \nL 344.299282 51.935032 \nL 344.634417 53.752363 \nL 344.969552 53.078366 \nL 345.304688 56.61414 \nL 345.974958 53.770644 \nL 346.310093 54.060974 \nL 346.645228 56.512455 \nL 347.315498 55.235092 \nL 347.650633 50.196811 \nL 347.985769 49.440957 \nL 348.320904 46.040291 \nL 348.656039 48.970867 \nL 348.991174 50.013765 \nL 349.326309 48.369753 \nL 349.996579 55.157458 \nL 350.331715 54.684238 \nL 350.66685 54.612047 \nL 351.672255 61.438393 \nL 352.342525 56.334048 \nL 352.67766 57.21847 \nL 353.012796 54.569111 \nL 353.347931 53.1598 \nL 353.683066 54.530025 \nL 354.018201 54.973156 \nL 354.353336 53.108015 \nL 354.688471 53.400993 \nL 355.023606 53.877163 \nL 355.358742 53.452692 \nL 355.693877 56.557895 \nL 356.029012 57.717203 \nL 356.364147 56.969982 \nL 356.699282 56.531202 \nL 357.034417 56.378156 \nL 357.369552 55.585044 \nL 357.704687 52.382648 \nL 358.039823 52.114965 \nL 358.374958 52.39646 \nL 358.710093 55.097953 \nL 359.045228 55.108495 \nL 359.715498 58.90379 \nL 360.050633 58.104195 \nL 360.385769 58.84313 \nL 360.720904 58.043411 \nL 361.056039 61.213459 \nL 361.391174 59.083172 \nL 361.726309 58.037931 \nL 362.061444 61.871079 \nL 362.396579 62.594217 \nL 362.731715 61.14394 \nL 363.06685 65.532258 \nL 363.401985 65.7421 \nL 363.73712 66.153145 \nL 364.072255 65.968006 \nL 364.40739 67.602186 \nL 364.742525 68.026946 \nL 365.07766 71.048051 \nL 365.412796 67.24836 \nL 365.747931 71.207863 \nL 366.083066 71.758278 \nL 366.418201 71.164968 \nL 366.753336 73.984321 \nL 367.088471 74.489054 \nL 367.423606 74.459563 \nL 367.758742 76.977424 \nL 368.429012 79.440747 \nL 368.764147 78.310166 \nL 369.099282 77.96672 \nL 369.434417 77.198626 \nL 369.769552 76.152548 \nL 370.104688 75.693133 \nL 370.104688 75.693133 \n\" clip-path=\"url(#pee32624cf6)\" style=\"fill: none; stroke: #2ca02c; stroke-width: 1.5; stroke-linecap: square\"/>\n   </g>\n   <g id=\"line2d_43\">\n    <path d=\"M 35.304688 88.575415 \nL 35.974958 85.194832 \nL 36.310093 86.654794 \nL 36.645228 86.974417 \nL 36.980363 85.89884 \nL 37.315498 87.140627 \nL 37.650633 84.21902 \nL 37.985769 83.229337 \nL 38.320904 83.848744 \nL 38.656039 83.262452 \nL 38.991174 84.926094 \nL 39.326309 87.591516 \nL 39.661444 87.811101 \nL 39.996579 86.578095 \nL 40.331715 85.985361 \nL 40.66685 86.745512 \nL 41.001985 89.705203 \nL 41.33712 88.925042 \nL 42.00739 89.393614 \nL 42.342525 90.360327 \nL 42.67766 90.347022 \nL 43.012796 88.571733 \nL 43.347931 89.347509 \nL 43.683066 92.025957 \nL 44.018201 92.005829 \nL 44.353336 92.137221 \nL 44.688471 95.196392 \nL 45.023606 97.111784 \nL 45.358742 98.220893 \nL 45.693877 96.304304 \nL 46.029012 96.821352 \nL 46.364147 97.910848 \nL 46.699282 96.966356 \nL 47.034417 96.858967 \nL 47.369552 97.801478 \nL 47.704687 96.813735 \nL 48.039823 96.999373 \nL 48.374958 96.364913 \nL 49.045228 100.016538 \nL 49.380363 99.595977 \nL 50.050633 96.609297 \nL 50.720904 97.926682 \nL 51.056039 95.34701 \nL 51.391174 90.851632 \nL 51.726309 90.304703 \nL 52.061444 85.449059 \nL 52.396579 87.827358 \nL 52.731715 80.683513 \nL 53.06685 81.773119 \nL 53.401985 81.001498 \nL 53.73712 77.931769 \nL 54.072255 78.476509 \nL 54.40739 81.429763 \nL 54.742525 81.235667 \nL 55.07766 79.478731 \nL 55.412796 83.474646 \nL 55.747931 82.164678 \nL 56.418201 77.714689 \nL 56.753336 78.06039 \nL 57.088471 74.3563 \nL 57.423606 77.73701 \nL 57.758742 79.773134 \nL 58.093877 73.27476 \nL 58.429012 71.757148 \nL 58.764147 71.398688 \nL 59.099282 70.846601 \nL 59.434417 73.139305 \nL 59.769552 70.011502 \nL 60.104688 69.729882 \nL 60.439823 66.924868 \nL 60.774958 70.893941 \nL 61.445228 70.783196 \nL 61.780363 69.078087 \nL 62.115498 65.906856 \nL 62.785769 68.125852 \nL 63.120904 70.133353 \nL 63.456039 72.831567 \nL 64.126309 70.774925 \nL 64.461444 69.519255 \nL 64.796579 69.169871 \nL 65.131715 66.05147 \nL 65.46685 65.588889 \nL 66.13712 67.016061 \nL 66.472255 67.429383 \nL 66.80739 69.58009 \nL 67.142525 68.964761 \nL 67.47766 71.496203 \nL 67.812796 71.712865 \nL 68.147931 71.120051 \nL 68.483066 71.664364 \nL 68.818201 69.398493 \nL 69.153336 71.752234 \nL 69.488471 71.078232 \nL 70.158742 74.81643 \nL 70.493877 75.495807 \nL 71.164147 73.908454 \nL 72.169552 86.654518 \nL 72.504687 87.281124 \nL 72.839823 89.654771 \nL 73.174958 90.54942 \nL 73.510093 89.538714 \nL 73.845228 96.033477 \nL 74.515498 91.203513 \nL 74.850633 92.275065 \nL 75.185769 91.863905 \nL 75.520904 87.697401 \nL 75.856039 87.660165 \nL 76.191174 86.608502 \nL 76.526309 86.81565 \nL 76.861444 84.144718 \nL 77.196579 84.684128 \nL 77.531715 84.626698 \nL 77.86685 83.909573 \nL 78.872255 90.640852 \nL 79.20739 91.11936 \nL 79.542525 94.215186 \nL 79.87766 92.83225 \nL 80.212796 98.422103 \nL 80.547931 99.970149 \nL 80.883066 99.740669 \nL 81.218201 98.58957 \nL 82.223606 104.190588 \nL 82.558742 103.25504 \nL 82.893877 104.955439 \nL 83.229012 105.250585 \nL 83.564147 107.40501 \nL 83.899282 108.267499 \nL 84.234417 107.165086 \nL 84.904688 106.45125 \nL 85.239823 104.423718 \nL 85.574958 103.241934 \nL 85.910093 100.738169 \nL 86.245228 99.452308 \nL 86.580363 101.981329 \nL 86.915498 98.085479 \nL 87.250633 98.505714 \nL 87.585769 101.191568 \nL 87.920904 101.10899 \nL 88.256039 97.995394 \nL 88.591174 97.133948 \nL 88.926309 101.442727 \nL 89.261444 102.054161 \nL 89.596579 103.745676 \nL 89.931715 106.434638 \nL 90.26685 105.231244 \nL 90.601985 105.038647 \nL 90.93712 105.116211 \nL 91.272255 102.084715 \nL 91.60739 101.37207 \nL 91.942525 100.230363 \nL 92.27766 103.463362 \nL 92.612796 108.355882 \nL 92.947931 109.085934 \nL 93.283066 110.96625 \nL 93.618201 110.741328 \nL 93.953336 110.939906 \nL 94.623606 116.990822 \nL 95.293877 118.004813 \nL 95.629012 120.168429 \nL 95.964147 118.089824 \nL 96.299282 114.470416 \nL 96.634417 115.675088 \nL 96.969552 116.462755 \nL 97.304688 113.628139 \nL 97.974958 115.424025 \nL 98.310093 117.560412 \nL 98.645228 114.06234 \nL 98.980363 113.382573 \nL 99.315498 115.871808 \nL 99.650633 120.238714 \nL 99.985769 120.39279 \nL 100.320904 121.488183 \nL 100.656039 123.396406 \nL 101.326309 122.958423 \nL 101.661444 117.952526 \nL 102.331715 122.833562 \nL 102.66685 123.450748 \nL 103.001985 124.45004 \nL 103.672255 130.547716 \nL 104.342525 133.480678 \nL 104.67766 131.416791 \nL 105.012796 133.027691 \nL 105.347931 132.670994 \nL 105.683066 133.068445 \nL 106.018201 135.960835 \nL 106.353336 134.534783 \nL 106.688471 133.692656 \nL 107.023606 134.613601 \nL 107.358742 134.524197 \nL 107.693877 133.918929 \nL 108.029012 136.140304 \nL 108.364147 137.228948 \nL 108.699282 135.787455 \nL 109.369552 134.920415 \nL 109.704687 136.865634 \nL 110.039823 138.028231 \nL 110.374958 138.439849 \nL 110.710093 138.565566 \nL 111.045228 140.943226 \nL 111.380363 140.694077 \nL 112.050633 139.106698 \nL 112.385769 139.265793 \nL 112.720904 139.917976 \nL 113.056039 139.449592 \nL 113.391174 139.537999 \nL 113.726309 138.478061 \nL 114.396579 144.642948 \nL 114.731715 144.751704 \nL 115.06685 141.667902 \nL 115.401985 140.933694 \nL 115.73712 141.948043 \nL 116.072255 140.926321 \nL 116.40739 142.239797 \nL 116.742525 141.379949 \nL 117.07766 137.71873 \nL 117.412796 136.046258 \nL 117.747931 139.680051 \nL 118.083066 141.981619 \nL 118.418201 141.807056 \nL 118.753336 137.216033 \nL 119.088471 138.770674 \nL 119.423606 137.12646 \nL 119.758742 136.973011 \nL 120.093877 139.106616 \nL 120.429012 139.324654 \nL 121.099282 138.454445 \nL 121.434417 138.652166 \nL 122.104688 138.057377 \nL 122.439823 137.292689 \nL 122.774958 137.393837 \nL 123.110093 137.625814 \nL 123.445228 139.813923 \nL 123.780363 138.455275 \nL 124.115498 139.17892 \nL 124.785769 150.213181 \nL 125.456039 147.344656 \nL 125.791174 147.516208 \nL 126.126309 150.375723 \nL 126.461444 150.929837 \nL 126.796579 150.014986 \nL 127.131715 148.574815 \nL 127.46685 150.583781 \nL 127.801985 145.851934 \nL 128.13712 146.67391 \nL 128.472255 149.016036 \nL 128.80739 148.690992 \nL 129.142525 150.707421 \nL 129.47766 155.283375 \nL 129.812796 157.681441 \nL 130.147931 155.728879 \nL 130.483066 155.683919 \nL 130.818201 156.389457 \nL 131.153336 159.408066 \nL 131.823606 157.093478 \nL 132.158742 157.013918 \nL 132.493877 156.561724 \nL 132.829012 157.132714 \nL 133.164147 158.060814 \nL 133.499282 157.18822 \nL 133.834417 158.519109 \nL 134.169552 157.251034 \nL 134.504687 158.594341 \nL 134.839823 158.566195 \nL 135.174958 161.995283 \nL 135.510093 162.483525 \nL 135.845228 161.986191 \nL 136.180363 162.351552 \nL 136.515498 162.980129 \nL 136.850633 160.581306 \nL 137.520904 162.729298 \nL 137.856039 161.97679 \nL 138.191174 160.431827 \nL 138.526309 162.110796 \nL 138.861444 161.14776 \nL 139.196579 162.79758 \nL 139.531715 163.801574 \nL 139.86685 165.737572 \nL 140.201985 163.699959 \nL 140.53712 163.240597 \nL 140.872255 163.485867 \nL 141.87766 158.04599 \nL 142.212796 154.127063 \nL 142.547931 158.92223 \nL 142.883066 158.915873 \nL 143.218201 160.217091 \nL 143.553336 158.067079 \nL 143.888471 158.13211 \nL 144.223606 158.038093 \nL 144.558742 157.087498 \nL 144.893877 158.841796 \nL 145.229012 159.217539 \nL 145.564147 161.009034 \nL 146.234417 160.223575 \nL 146.569552 158.773348 \nL 146.904688 160.218455 \nL 147.239823 163.36764 \nL 147.574958 163.414447 \nL 147.910093 164.491689 \nL 148.245228 168.94688 \nL 148.580363 170.133303 \nL 148.915498 172.537011 \nL 149.250633 172.145932 \nL 149.585769 172.181093 \nL 149.920904 170.848728 \nL 150.591174 174.75513 \nL 150.926309 179.238875 \nL 151.261444 174.921285 \nL 151.596579 175.849972 \nL 151.931715 175.380488 \nL 152.26685 178.005094 \nL 152.601985 174.078377 \nL 152.93712 171.491415 \nL 153.272255 173.852371 \nL 153.60739 177.216998 \nL 153.942525 177.558947 \nL 154.27766 178.80039 \nL 154.612796 177.466194 \nL 154.947931 173.444609 \nL 155.618201 170.8525 \nL 155.953336 172.702851 \nL 156.288471 171.339771 \nL 157.293877 178.089338 \nL 157.629012 179.029853 \nL 158.299282 176.956715 \nL 158.634417 178.454427 \nL 158.969552 181.505815 \nL 159.639823 177.269082 \nL 159.974958 176.726226 \nL 160.310093 177.900481 \nL 160.645228 175.94327 \nL 160.980363 175.064546 \nL 161.315498 177.596369 \nL 161.650633 177.339109 \nL 161.985769 175.8073 \nL 162.320904 173.398091 \nL 162.656039 176.157593 \nL 162.991174 176.963777 \nL 163.326309 179.784129 \nL 163.661444 177.980169 \nL 163.996579 182.727852 \nL 164.331715 184.515952 \nL 164.66685 183.219725 \nL 165.001985 184.657635 \nL 165.33712 181.626732 \nL 166.00739 180.943127 \nL 166.67766 184.257939 \nL 167.012796 184.394101 \nL 167.683066 187.533413 \nL 168.018201 186.63359 \nL 168.353336 182.645773 \nL 168.688471 182.428368 \nL 169.023606 181.956445 \nL 169.358742 180.009114 \nL 169.693877 181.866218 \nL 170.029012 180.618729 \nL 170.364147 182.023073 \nL 170.699282 181.445864 \nL 171.034417 182.583988 \nL 171.369552 186.715448 \nL 171.704687 187.418434 \nL 172.039823 182.491727 \nL 172.374958 181.297514 \nL 172.710093 182.810423 \nL 173.045228 182.958328 \nL 173.380363 181.167844 \nL 173.715498 184.679984 \nL 174.385769 188.81329 \nL 174.720904 187.9977 \nL 175.056039 186.469582 \nL 175.391174 189.242759 \nL 176.061444 196.968922 \nL 176.396579 196.18441 \nL 176.731715 200.01168 \nL 177.06685 201.113977 \nL 177.401985 199.832657 \nL 177.73712 200.474405 \nL 178.072255 201.473264 \nL 178.40739 200.550276 \nL 178.742525 198.827047 \nL 179.07766 198.481738 \nL 179.412796 202.047966 \nL 179.747931 201.223258 \nL 180.083066 204.717246 \nL 180.418201 209.745098 \nL 180.753336 211.070484 \nL 181.088471 211.031652 \nL 182.093877 214.411775 \nL 182.429012 214.756364 \nL 182.764147 212.901728 \nL 183.099282 209.497269 \nL 183.434417 209.435724 \nL 183.769552 208.578152 \nL 184.439823 204.817061 \nL 184.774958 205.272668 \nL 185.110093 203.284333 \nL 185.445228 204.978142 \nL 185.780363 202.842027 \nL 186.450633 203.740831 \nL 186.785769 201.562654 \nL 187.120904 204.354242 \nL 187.456039 203.872514 \nL 187.791174 200.464262 \nL 188.126309 195.598378 \nL 188.461444 195.696315 \nL 188.796579 194.855196 \nL 189.131715 195.491042 \nL 189.46685 194.002665 \nL 189.801985 199.131358 \nL 190.13712 200.535098 \nL 190.472255 204.204772 \nL 191.142525 200.22945 \nL 191.47766 200.301046 \nL 191.812796 196.246835 \nL 192.147931 193.997453 \nL 192.818201 196.777853 \nL 193.153336 197.77842 \nL 193.488471 197.94111 \nL 193.823606 194.460677 \nL 194.158742 195.688936 \nL 194.493877 196.042224 \nL 194.829012 196.926248 \nL 195.164147 195.434015 \nL 195.499282 192.971594 \nL 195.834417 194.051272 \nL 196.169552 197.346636 \nL 196.504687 196.996964 \nL 196.839823 194.237695 \nL 197.174958 193.505554 \nL 197.510093 196.075047 \nL 197.845228 190.124499 \nL 198.180363 190.209037 \nL 198.515498 189.412177 \nL 198.850633 191.61447 \nL 199.185769 188.598419 \nL 199.520904 189.213722 \nL 199.856039 187.198165 \nL 200.191174 187.685299 \nL 200.526309 187.478852 \nL 200.861444 190.95261 \nL 201.196579 189.808332 \nL 201.531715 189.071692 \nL 201.86685 188.862632 \nL 202.201985 189.672381 \nL 202.53712 188.265027 \nL 202.872255 192.370452 \nL 203.542525 191.487262 \nL 203.87766 192.736393 \nL 204.212796 193.272591 \nL 204.547931 194.425222 \nL 205.218201 204.240243 \nL 205.553336 204.944023 \nL 206.223606 202.086218 \nL 206.558742 207.008476 \nL 206.893877 209.061654 \nL 207.564147 205.608166 \nL 207.899282 199.235937 \nL 208.234417 198.280077 \nL 208.569552 195.918213 \nL 208.904688 197.084448 \nL 209.239823 199.74123 \nL 209.574958 200.092916 \nL 209.910093 199.341054 \nL 210.245228 199.334087 \nL 210.580363 198.02227 \nL 210.915498 198.807707 \nL 211.585769 202.303004 \nL 211.920904 199.579705 \nL 212.256039 204.487385 \nL 212.591174 202.43568 \nL 212.926309 205.4339 \nL 213.261444 204.451078 \nL 213.596579 199.815337 \nL 213.931715 198.995148 \nL 214.26685 199.013846 \nL 214.601985 200.563804 \nL 215.272255 191.046374 \nL 215.60739 192.181059 \nL 215.942525 192.75955 \nL 216.27766 191.703369 \nL 216.612796 194.612117 \nL 216.947931 189.647446 \nL 217.283066 190.62049 \nL 217.953336 193.594616 \nL 218.288471 193.031817 \nL 218.623606 194.928661 \nL 219.629012 191.510681 \nL 219.964147 189.852034 \nL 220.299282 189.86348 \nL 220.969552 193.036752 \nL 221.639823 190.609828 \nL 221.974958 193.92001 \nL 222.310093 190.033553 \nL 222.645228 189.252111 \nL 222.980363 186.732944 \nL 223.315498 187.886402 \nL 223.650633 188.260215 \nL 223.985769 186.933436 \nL 224.320904 192.725616 \nL 224.656039 191.973213 \nL 224.991174 192.07814 \nL 225.326309 195.135094 \nL 225.661444 194.236345 \nL 226.331715 190.923331 \nL 226.66685 192.52577 \nL 227.001985 191.446551 \nL 227.33712 197.402019 \nL 227.672255 196.150688 \nL 228.00739 197.844475 \nL 229.012796 194.450781 \nL 229.347931 195.228954 \nL 229.683066 199.38889 \nL 230.018201 200.233983 \nL 230.353336 204.572981 \nL 230.688471 204.417889 \nL 231.023606 202.721222 \nL 231.358742 201.921959 \nL 231.693877 202.477495 \nL 232.029012 203.419284 \nL 232.364147 206.337215 \nL 232.699282 205.722003 \nL 233.034417 209.33487 \nL 233.369552 209.408824 \nL 233.704687 211.391912 \nL 234.039823 211.54043 \nL 234.710093 206.8381 \nL 235.045228 207.299623 \nL 235.380363 206.868067 \nL 235.715498 204.515445 \nL 236.050633 203.212069 \nL 237.056039 196.910887 \nL 237.391174 197.795247 \nL 237.726309 197.07676 \nL 238.731715 206.731282 \nL 239.06685 207.273361 \nL 239.401985 206.62774 \nL 239.73712 208.379654 \nL 240.072255 206.853706 \nL 240.40739 206.713827 \nL 240.742525 208.383186 \nL 241.07766 207.148567 \nL 241.412796 204.879336 \nL 241.747931 201.230794 \nL 242.083066 198.927064 \nL 242.418201 195.846735 \nL 242.753336 194.930129 \nL 243.088471 194.523997 \nL 243.423606 197.139911 \nL 243.758742 195.668191 \nL 244.093877 196.75743 \nL 244.764147 193.59498 \nL 245.099282 194.278539 \nL 245.434417 194.229099 \nL 245.769552 192.268283 \nL 246.104688 194.283555 \nL 247.110093 190.221625 \nL 247.445228 193.247337 \nL 247.780363 190.226229 \nL 248.115498 191.597117 \nL 248.450633 194.572059 \nL 248.785769 195.973922 \nL 249.120904 195.393801 \nL 249.456039 195.867615 \nL 249.791174 198.995609 \nL 250.126309 199.350521 \nL 250.461444 195.885505 \nL 250.796579 196.397462 \nL 251.46685 192.118348 \nL 251.801985 192.32501 \nL 252.13712 189.590684 \nL 252.472255 193.458391 \nL 253.142525 194.42184 \nL 253.47766 191.726138 \nL 253.812796 187.345759 \nL 254.147931 184.504323 \nL 254.818201 181.996046 \nL 255.153336 179.575185 \nL 255.488471 180.780015 \nL 255.823606 181.026246 \nL 256.158742 181.622437 \nL 256.493877 180.785515 \nL 256.829012 181.718037 \nL 257.164147 183.188186 \nL 257.499282 180.846222 \nL 257.834417 180.593996 \nL 258.169552 179.184642 \nL 258.504687 181.349428 \nL 258.839823 181.202525 \nL 259.174958 178.02938 \nL 259.510093 177.348572 \nL 259.845228 177.31102 \nL 260.180363 180.860807 \nL 260.515498 180.536793 \nL 260.850633 180.62153 \nL 261.185769 179.004017 \nL 261.520904 178.181748 \nL 262.526309 171.397185 \nL 262.861444 172.126047 \nL 263.196579 171.719812 \nL 263.531715 172.172001 \nL 263.86685 169.033474 \nL 264.201985 168.988231 \nL 264.53712 168.590362 \nL 265.20739 159.478804 \nL 265.542525 160.619608 \nL 265.87766 162.786693 \nL 266.212796 161.515491 \nL 266.547931 157.107971 \nL 266.883066 162.013151 \nL 267.553336 159.994541 \nL 267.888471 160.964687 \nL 268.558742 159.264979 \nL 268.893877 157.047137 \nL 269.229012 158.237097 \nL 269.564147 158.636473 \nL 269.899282 161.476929 \nL 270.234417 155.442603 \nL 270.569552 159.788737 \nL 270.904688 165.824221 \nL 271.239823 164.182587 \nL 271.574958 168.168948 \nL 271.910093 167.978167 \nL 272.245228 168.138417 \nL 272.915498 174.351779 \nL 273.250633 168.594743 \nL 273.585769 168.932724 \nL 273.920904 170.348798 \nL 274.256039 168.996662 \nL 274.591174 170.448203 \nL 274.926309 170.686088 \nL 275.261444 169.568162 \nL 275.596579 167.344875 \nL 276.26685 167.302227 \nL 276.601985 171.531467 \nL 276.93712 168.171991 \nL 277.272255 167.191859 \nL 277.60739 166.622677 \nL 278.27766 170.241908 \nL 278.612796 169.755702 \nL 278.947931 168.736816 \nL 279.618201 168.914265 \nL 279.953336 171.166534 \nL 280.288471 167.761008 \nL 280.623606 166.629419 \nL 280.958742 168.387465 \nL 281.293877 167.391436 \nL 281.629012 169.108694 \nL 281.964147 172.507816 \nL 282.299282 171.164738 \nL 282.634417 172.755051 \nL 282.969552 172.461468 \nL 283.304688 173.569548 \nL 283.639823 168.61564 \nL 283.974958 166.309855 \nL 284.310093 167.216425 \nL 284.645228 164.622133 \nL 284.980363 167.776475 \nL 285.985769 166.220412 \nL 286.320904 166.337448 \nL 286.991174 167.642121 \nL 287.326309 170.248257 \nL 287.996579 168.226063 \nL 288.66685 164.959242 \nL 289.001985 165.263638 \nL 289.33712 163.68909 \nL 289.672255 165.214246 \nL 290.342525 161.353374 \nL 290.67766 164.74695 \nL 291.012796 164.704664 \nL 291.347931 165.48521 \nL 291.683066 166.595451 \nL 292.018201 163.678887 \nL 292.353336 165.699534 \nL 292.688471 162.64107 \nL 293.023606 166.088633 \nL 293.358742 167.644685 \nL 293.693877 165.292469 \nL 294.029012 165.661579 \nL 294.364147 167.480282 \nL 294.699282 165.412381 \nL 295.034417 167.246846 \nL 295.369552 166.056181 \nL 295.704687 165.285416 \nL 296.374958 157.141066 \nL 296.710093 158.854926 \nL 297.045228 155.154489 \nL 297.380363 158.547898 \nL 297.715498 157.370742 \nL 298.050633 161.28457 \nL 298.385769 161.530319 \nL 298.720904 162.406445 \nL 300.061444 160.430852 \nL 300.396579 159.444766 \nL 300.731715 162.855435 \nL 301.06685 163.834893 \nL 301.401985 164.299275 \nL 301.73712 163.308156 \nL 302.072255 160.143368 \nL 302.40739 162.083669 \nL 302.742525 165.767996 \nL 303.07766 160.477708 \nL 303.412796 159.023182 \nL 303.747931 162.580579 \nL 304.083066 162.730631 \nL 304.418201 165.466892 \nL 304.753336 162.639875 \nL 305.088471 158.333691 \nL 305.423606 161.540026 \nL 305.758742 160.946758 \nL 306.429012 164.293691 \nL 306.764147 162.07109 \nL 307.099282 161.012063 \nL 307.434417 159.553588 \nL 308.104688 161.773893 \nL 308.439823 164.9733 \nL 308.774958 162.996025 \nL 309.110093 162.931405 \nL 309.445228 164.54207 \nL 309.780363 164.262447 \nL 310.115498 161.482017 \nL 310.450633 162.504201 \nL 310.785769 160.401578 \nL 311.120904 156.975695 \nL 311.456039 159.209671 \nL 311.791174 155.24366 \nL 312.126309 157.472918 \nL 312.461444 157.427502 \nL 312.796579 161.337846 \nL 313.131715 162.319938 \nL 313.46685 161.671758 \nL 313.801985 163.933949 \nL 314.13712 160.94945 \nL 314.472255 156.356622 \nL 314.80739 159.25266 \nL 315.47766 153.058636 \nL 316.147931 155.763424 \nL 316.483066 152.002565 \nL 316.818201 154.772921 \nL 317.153336 154.425408 \nL 317.488471 149.457851 \nL 317.823606 150.726245 \nL 318.158742 150.371959 \nL 318.493877 153.248721 \nL 318.829012 152.830867 \nL 319.164147 151.233492 \nL 319.499282 145.354641 \nL 319.834417 150.216416 \nL 320.169552 146.708441 \nL 320.504687 147.143881 \nL 320.839823 146.376996 \nL 321.174958 145.203258 \nL 321.510093 141.488561 \nL 321.845228 140.678559 \nL 322.180363 142.271712 \nL 322.515498 140.097612 \nL 322.850633 142.087788 \nL 323.185769 145.032923 \nL 323.520904 146.409086 \nL 323.856039 146.475899 \nL 324.191174 145.891098 \nL 324.526309 149.230251 \nL 324.861444 150.667365 \nL 325.196579 149.822847 \nL 325.531715 150.069604 \nL 326.201985 160.961719 \nL 326.53712 157.062171 \nL 326.872255 155.711892 \nL 327.20739 153.655254 \nL 327.542525 152.76203 \nL 327.87766 154.591996 \nL 328.212796 155.32016 \nL 328.883066 154.773333 \nL 329.218201 152.511464 \nL 329.553336 153.845734 \nL 329.888471 153.72607 \nL 330.893877 149.97867 \nL 332.234417 147.707852 \nL 332.569552 147.37878 \nL 332.904688 149.455197 \nL 333.239823 149.820368 \nL 333.574958 151.341895 \nL 334.245228 148.710488 \nL 334.580363 149.116482 \nL 334.915498 146.61786 \nL 335.250633 146.744877 \nL 335.920904 155.172764 \nL 336.256039 154.32208 \nL 336.591174 154.158662 \nL 336.926309 153.851259 \nL 337.261444 151.579692 \nL 337.596579 156.762459 \nL 337.931715 154.363662 \nL 338.93712 163.659058 \nL 339.272255 164.063874 \nL 339.60739 162.982303 \nL 339.942525 164.646804 \nL 340.27766 167.741041 \nL 340.612796 167.112318 \nL 340.947931 163.873948 \nL 341.283066 162.716503 \nL 341.618201 164.630624 \nL 341.953336 163.160955 \nL 342.288471 163.5952 \nL 342.623606 165.269183 \nL 342.958742 164.249229 \nL 343.629012 168.328173 \nL 344.299282 167.45073 \nL 344.634417 168.876533 \nL 344.969552 164.277408 \nL 345.304688 166.660202 \nL 345.974958 164.907279 \nL 346.310093 165.734995 \nL 346.645228 168.304634 \nL 346.980363 169.480891 \nL 347.315498 166.516656 \nL 347.650633 165.623733 \nL 347.985769 165.87499 \nL 348.320904 161.471166 \nL 348.656039 161.737988 \nL 348.991174 165.351632 \nL 349.326309 170.94569 \nL 349.661444 167.562028 \nL 349.996579 169.521519 \nL 350.331715 166.561792 \nL 350.66685 166.659146 \nL 351.001985 166.898805 \nL 351.33712 170.30608 \nL 351.672255 169.435218 \nL 352.00739 166.858583 \nL 352.342525 165.805553 \nL 352.67766 165.318819 \nL 353.012796 163.403778 \nL 353.347931 164.948442 \nL 354.018201 163.330047 \nL 354.353336 163.868523 \nL 354.688471 163.702167 \nL 355.358742 159.457676 \nL 355.693877 161.276431 \nL 356.029012 161.182159 \nL 356.364147 158.79769 \nL 356.699282 157.468118 \nL 357.034417 159.030899 \nL 357.369552 157.432817 \nL 357.704687 154.373093 \nL 358.039823 152.40425 \nL 358.374958 154.873015 \nL 358.710093 154.447827 \nL 359.045228 151.125823 \nL 359.380363 152.045606 \nL 359.715498 153.668147 \nL 360.050633 152.942876 \nL 360.385769 156.303876 \nL 360.720904 157.635561 \nL 361.056039 156.282508 \nL 361.391174 157.154763 \nL 361.726309 151.064961 \nL 362.061444 148.87416 \nL 362.396579 147.723104 \nL 362.731715 150.870628 \nL 363.06685 150.785904 \nL 363.401985 152.755129 \nL 363.73712 156.230234 \nL 364.072255 158.064274 \nL 364.40739 155.981404 \nL 365.07766 156.41923 \nL 365.412796 152.582588 \nL 366.418201 159.328989 \nL 366.753336 160.042456 \nL 367.088471 162.530316 \nL 367.423606 160.754531 \nL 367.758742 160.563142 \nL 368.093877 163.46192 \nL 368.429012 161.257837 \nL 368.764147 161.668901 \nL 369.099282 159.471517 \nL 369.434417 160.180006 \nL 369.769552 157.271334 \nL 370.104688 157.450648 \nL 370.104688 157.450648 \n\" clip-path=\"url(#pee32624cf6)\" style=\"fill: none; stroke: #d62728; stroke-width: 1.5; stroke-linecap: square\"/>\n   </g>\n   <g id=\"patch_3\">\n    <path d=\"M 35.304688 224.64 \nL 35.304688 7.2 \n\" style=\"fill: none; stroke: #000000; stroke-width: 0.8; stroke-linejoin: miter; stroke-linecap: square\"/>\n   </g>\n   <g id=\"patch_4\">\n    <path d=\"M 370.104688 224.64 \nL 370.104688 7.2 \n\" style=\"fill: none; stroke: #000000; stroke-width: 0.8; stroke-linejoin: miter; stroke-linecap: square\"/>\n   </g>\n   <g id=\"patch_5\">\n    <path d=\"M 35.304688 224.64 \nL 370.104688 224.64 \n\" style=\"fill: none; stroke: #000000; stroke-width: 0.8; stroke-linejoin: miter; stroke-linecap: square\"/>\n   </g>\n   <g id=\"patch_6\">\n    <path d=\"M 35.304688 7.2 \nL 370.104688 7.2 \n\" style=\"fill: none; stroke: #000000; stroke-width: 0.8; stroke-linejoin: miter; stroke-linecap: square\"/>\n   </g>\n   <g id=\"legend_1\">\n    <g id=\"patch_7\">\n     <path d=\"M 42.304688 219.64 \nL 82.004688 219.64 \nQ 84.004688 219.64 84.004688 217.64 \nL 84.004688 159.9275 \nQ 84.004688 157.9275 82.004688 157.9275 \nL 42.304688 157.9275 \nQ 40.304688 157.9275 40.304688 159.9275 \nL 40.304688 217.64 \nQ 40.304688 219.64 42.304688 219.64 \nz\n\" style=\"fill: #ffffff; opacity: 0.8; stroke: #cccccc; stroke-linejoin: miter\"/>\n    </g>\n    <g id=\"line2d_44\">\n     <path d=\"M 44.304688 166.025937 \nL 54.304688 166.025937 \nL 64.304688 166.025937 \n\" style=\"fill: none; stroke: #1f77b4; stroke-width: 1.5; stroke-linecap: square\"/>\n    </g>\n    <g id=\"text_12\">\n     <!-- A -->\n     <g transform=\"translate(72.304688 169.525937)scale(0.1 -0.1)\">\n      <defs>\n       <path id=\"DejaVuSans-41\" d=\"M 2188 4044 \nL 1331 1722 \nL 3047 1722 \nL 2188 4044 \nz\nM 1831 4666 \nL 2547 4666 \nL 4325 0 \nL 3669 0 \nL 3244 1197 \nL 1141 1197 \nL 716 0 \nL 50 0 \nL 1831 4666 \nz\n\" transform=\"scale(0.015625)\"/>\n      </defs>\n      <use xlink:href=\"#DejaVuSans-41\"/>\n     </g>\n    </g>\n    <g id=\"line2d_45\">\n     <path d=\"M 44.304688 180.704062 \nL 54.304688 180.704062 \nL 64.304688 180.704062 \n\" style=\"fill: none; stroke: #ff7f0e; stroke-width: 1.5; stroke-linecap: square\"/>\n    </g>\n    <g id=\"text_13\">\n     <!-- B -->\n     <g transform=\"translate(72.304688 184.204062)scale(0.1 -0.1)\">\n      <defs>\n       <path id=\"DejaVuSans-42\" d=\"M 1259 2228 \nL 1259 519 \nL 2272 519 \nQ 2781 519 3026 730 \nQ 3272 941 3272 1375 \nQ 3272 1813 3026 2020 \nQ 2781 2228 2272 2228 \nL 1259 2228 \nz\nM 1259 4147 \nL 1259 2741 \nL 2194 2741 \nQ 2656 2741 2882 2914 \nQ 3109 3088 3109 3444 \nQ 3109 3797 2882 3972 \nQ 2656 4147 2194 4147 \nL 1259 4147 \nz\nM 628 4666 \nL 2241 4666 \nQ 2963 4666 3353 4366 \nQ 3744 4066 3744 3513 \nQ 3744 3084 3544 2831 \nQ 3344 2578 2956 2516 \nQ 3422 2416 3680 2098 \nQ 3938 1781 3938 1306 \nQ 3938 681 3513 340 \nQ 3088 0 2303 0 \nL 628 0 \nL 628 4666 \nz\n\" transform=\"scale(0.015625)\"/>\n      </defs>\n      <use xlink:href=\"#DejaVuSans-42\"/>\n     </g>\n    </g>\n    <g id=\"line2d_46\">\n     <path d=\"M 44.304688 195.382187 \nL 54.304688 195.382187 \nL 64.304688 195.382187 \n\" style=\"fill: none; stroke: #2ca02c; stroke-width: 1.5; stroke-linecap: square\"/>\n    </g>\n    <g id=\"text_14\">\n     <!-- C -->\n     <g transform=\"translate(72.304688 198.882187)scale(0.1 -0.1)\">\n      <defs>\n       <path id=\"DejaVuSans-43\" d=\"M 4122 4306 \nL 4122 3641 \nQ 3803 3938 3442 4084 \nQ 3081 4231 2675 4231 \nQ 1875 4231 1450 3742 \nQ 1025 3253 1025 2328 \nQ 1025 1406 1450 917 \nQ 1875 428 2675 428 \nQ 3081 428 3442 575 \nQ 3803 722 4122 1019 \nL 4122 359 \nQ 3791 134 3420 21 \nQ 3050 -91 2638 -91 \nQ 1578 -91 968 557 \nQ 359 1206 359 2328 \nQ 359 3453 968 4101 \nQ 1578 4750 2638 4750 \nQ 3056 4750 3426 4639 \nQ 3797 4528 4122 4306 \nz\n\" transform=\"scale(0.015625)\"/>\n      </defs>\n      <use xlink:href=\"#DejaVuSans-43\"/>\n     </g>\n    </g>\n    <g id=\"line2d_47\">\n     <path d=\"M 44.304688 210.060313 \nL 54.304688 210.060313 \nL 64.304688 210.060313 \n\" style=\"fill: none; stroke: #d62728; stroke-width: 1.5; stroke-linecap: square\"/>\n    </g>\n    <g id=\"text_15\">\n     <!-- D -->\n     <g transform=\"translate(72.304688 213.560313)scale(0.1 -0.1)\">\n      <defs>\n       <path id=\"DejaVuSans-44\" d=\"M 1259 4147 \nL 1259 519 \nL 2022 519 \nQ 2988 519 3436 956 \nQ 3884 1394 3884 2338 \nQ 3884 3275 3436 3711 \nQ 2988 4147 2022 4147 \nL 1259 4147 \nz\nM 628 4666 \nL 1925 4666 \nQ 3281 4666 3915 4102 \nQ 4550 3538 4550 2338 \nQ 4550 1131 3912 565 \nQ 3275 0 1925 0 \nL 628 0 \nL 628 4666 \nz\n\" transform=\"scale(0.015625)\"/>\n      </defs>\n      <use xlink:href=\"#DejaVuSans-44\"/>\n     </g>\n    </g>\n   </g>\n  </g>\n </g>\n <defs>\n  <clipPath id=\"pee32624cf6\">\n   <rect x=\"35.304688\" y=\"7.2\" width=\"334.8\" height=\"217.44\"/>\n  </clipPath>\n </defs>\n</svg>\n",
      "text/plain": [
       "<Figure size 432x288 with 1 Axes>"
      ]
     },
     "metadata": {
      "needs_background": "light"
     },
     "output_type": "display_data"
    }
   ],
   "source": [
    "df = pd.DataFrame(\n",
    "    np.random.randn(1000, 4),\n",
    "    index=ts.index,\n",
    "    columns=list(\"ABCD\")\n",
    ")\n",
    "df = df.cumsum()\n",
    "plt.figure()\n",
    "df.plot()\n",
    "plt.legend(loc=\"best\")"
   ]
  },
  {
   "cell_type": "markdown",
   "metadata": {},
   "source": [
    "## Getting data in/out\n",
    "\n",
    "### CSV\n",
    "\n",
    "#### Writing to a .csv file"
   ]
  },
  {
   "cell_type": "code",
   "execution_count": 100,
   "metadata": {},
   "outputs": [],
   "source": [
    "df.to_csv(\"./docs/files/foo.csv\")"
   ]
  },
  {
   "cell_type": "markdown",
   "metadata": {},
   "source": [
    "#### Reading from a .csv file"
   ]
  },
  {
   "cell_type": "code",
   "execution_count": 101,
   "metadata": {},
   "outputs": [
    {
     "data": {
      "text/html": [
       "<div>\n",
       "<style scoped>\n",
       "    .dataframe tbody tr th:only-of-type {\n",
       "        vertical-align: middle;\n",
       "    }\n",
       "\n",
       "    .dataframe tbody tr th {\n",
       "        vertical-align: top;\n",
       "    }\n",
       "\n",
       "    .dataframe thead th {\n",
       "        text-align: right;\n",
       "    }\n",
       "</style>\n",
       "<table border=\"1\" class=\"dataframe\">\n",
       "  <thead>\n",
       "    <tr style=\"text-align: right;\">\n",
       "      <th></th>\n",
       "      <th>Unnamed: 0</th>\n",
       "      <th>A</th>\n",
       "      <th>B</th>\n",
       "      <th>C</th>\n",
       "      <th>D</th>\n",
       "    </tr>\n",
       "  </thead>\n",
       "  <tbody>\n",
       "    <tr>\n",
       "      <th>0</th>\n",
       "      <td>2022-01-01</td>\n",
       "      <td>0.790720</td>\n",
       "      <td>-0.353675</td>\n",
       "      <td>-0.477799</td>\n",
       "      <td>1.454128</td>\n",
       "    </tr>\n",
       "    <tr>\n",
       "      <th>1</th>\n",
       "      <td>2022-01-02</td>\n",
       "      <td>1.535089</td>\n",
       "      <td>1.273300</td>\n",
       "      <td>-0.026764</td>\n",
       "      <td>2.186900</td>\n",
       "    </tr>\n",
       "    <tr>\n",
       "      <th>2</th>\n",
       "      <td>2022-01-03</td>\n",
       "      <td>1.224990</td>\n",
       "      <td>2.772115</td>\n",
       "      <td>-1.294031</td>\n",
       "      <td>3.007405</td>\n",
       "    </tr>\n",
       "    <tr>\n",
       "      <th>3</th>\n",
       "      <td>2022-01-04</td>\n",
       "      <td>2.105619</td>\n",
       "      <td>4.508436</td>\n",
       "      <td>-0.546866</td>\n",
       "      <td>2.336596</td>\n",
       "    </tr>\n",
       "    <tr>\n",
       "      <th>4</th>\n",
       "      <td>2022-01-05</td>\n",
       "      <td>1.948965</td>\n",
       "      <td>5.182532</td>\n",
       "      <td>-0.658983</td>\n",
       "      <td>2.189739</td>\n",
       "    </tr>\n",
       "    <tr>\n",
       "      <th>...</th>\n",
       "      <td>...</td>\n",
       "      <td>...</td>\n",
       "      <td>...</td>\n",
       "      <td>...</td>\n",
       "      <td>...</td>\n",
       "    </tr>\n",
       "    <tr>\n",
       "      <th>995</th>\n",
       "      <td>2024-09-22</td>\n",
       "      <td>-27.906008</td>\n",
       "      <td>28.937707</td>\n",
       "      <td>6.170702</td>\n",
       "      <td>-32.130133</td>\n",
       "    </tr>\n",
       "    <tr>\n",
       "      <th>996</th>\n",
       "      <td>2024-09-23</td>\n",
       "      <td>-27.525671</td>\n",
       "      <td>28.108515</td>\n",
       "      <td>6.328505</td>\n",
       "      <td>-31.120501</td>\n",
       "    </tr>\n",
       "    <tr>\n",
       "      <th>997</th>\n",
       "      <td>2024-09-24</td>\n",
       "      <td>-26.977391</td>\n",
       "      <td>27.749624</td>\n",
       "      <td>6.681421</td>\n",
       "      <td>-31.446031</td>\n",
       "    </tr>\n",
       "    <tr>\n",
       "      <th>998</th>\n",
       "      <td>2024-09-25</td>\n",
       "      <td>-26.328504</td>\n",
       "      <td>27.514338</td>\n",
       "      <td>7.162062</td>\n",
       "      <td>-30.109583</td>\n",
       "    </tr>\n",
       "    <tr>\n",
       "      <th>999</th>\n",
       "      <td>2024-09-26</td>\n",
       "      <td>-25.559042</td>\n",
       "      <td>27.922744</td>\n",
       "      <td>7.373150</td>\n",
       "      <td>-30.191973</td>\n",
       "    </tr>\n",
       "  </tbody>\n",
       "</table>\n",
       "<p>1000 rows × 5 columns</p>\n",
       "</div>"
      ],
      "text/plain": [
       "     Unnamed: 0          A          B         C          D\n",
       "0    2022-01-01   0.790720  -0.353675 -0.477799   1.454128\n",
       "1    2022-01-02   1.535089   1.273300 -0.026764   2.186900\n",
       "2    2022-01-03   1.224990   2.772115 -1.294031   3.007405\n",
       "3    2022-01-04   2.105619   4.508436 -0.546866   2.336596\n",
       "4    2022-01-05   1.948965   5.182532 -0.658983   2.189739\n",
       "..          ...        ...        ...       ...        ...\n",
       "995  2024-09-22 -27.906008  28.937707  6.170702 -32.130133\n",
       "996  2024-09-23 -27.525671  28.108515  6.328505 -31.120501\n",
       "997  2024-09-24 -26.977391  27.749624  6.681421 -31.446031\n",
       "998  2024-09-25 -26.328504  27.514338  7.162062 -30.109583\n",
       "999  2024-09-26 -25.559042  27.922744  7.373150 -30.191973\n",
       "\n",
       "[1000 rows x 5 columns]"
      ]
     },
     "execution_count": 101,
     "metadata": {},
     "output_type": "execute_result"
    }
   ],
   "source": [
    "pd.read_csv(\"./docs/files/foo.csv\")"
   ]
  },
  {
   "cell_type": "markdown",
   "metadata": {},
   "source": [
    "### HDF5\n",
    "\n",
    "Reading and writing to HDF5Stores."
   ]
  },
  {
   "cell_type": "markdown",
   "metadata": {},
   "source": [
    "#### Writing to a HDF5 Store."
   ]
  },
  {
   "cell_type": "code",
   "execution_count": 102,
   "metadata": {},
   "outputs": [],
   "source": [
    "df.to_hdf(\"./docs/files/foo.h5\", \"df\")"
   ]
  },
  {
   "cell_type": "markdown",
   "metadata": {},
   "source": [
    "#### Reading from HDF5 Store."
   ]
  },
  {
   "cell_type": "code",
   "execution_count": 103,
   "metadata": {},
   "outputs": [
    {
     "data": {
      "text/html": [
       "<div>\n",
       "<style scoped>\n",
       "    .dataframe tbody tr th:only-of-type {\n",
       "        vertical-align: middle;\n",
       "    }\n",
       "\n",
       "    .dataframe tbody tr th {\n",
       "        vertical-align: top;\n",
       "    }\n",
       "\n",
       "    .dataframe thead th {\n",
       "        text-align: right;\n",
       "    }\n",
       "</style>\n",
       "<table border=\"1\" class=\"dataframe\">\n",
       "  <thead>\n",
       "    <tr style=\"text-align: right;\">\n",
       "      <th></th>\n",
       "      <th>A</th>\n",
       "      <th>B</th>\n",
       "      <th>C</th>\n",
       "      <th>D</th>\n",
       "    </tr>\n",
       "  </thead>\n",
       "  <tbody>\n",
       "    <tr>\n",
       "      <th>2022-01-01</th>\n",
       "      <td>0.790720</td>\n",
       "      <td>-0.353675</td>\n",
       "      <td>-0.477799</td>\n",
       "      <td>1.454128</td>\n",
       "    </tr>\n",
       "    <tr>\n",
       "      <th>2022-01-02</th>\n",
       "      <td>1.535089</td>\n",
       "      <td>1.273300</td>\n",
       "      <td>-0.026764</td>\n",
       "      <td>2.186900</td>\n",
       "    </tr>\n",
       "    <tr>\n",
       "      <th>2022-01-03</th>\n",
       "      <td>1.224990</td>\n",
       "      <td>2.772115</td>\n",
       "      <td>-1.294031</td>\n",
       "      <td>3.007405</td>\n",
       "    </tr>\n",
       "    <tr>\n",
       "      <th>2022-01-04</th>\n",
       "      <td>2.105619</td>\n",
       "      <td>4.508436</td>\n",
       "      <td>-0.546866</td>\n",
       "      <td>2.336596</td>\n",
       "    </tr>\n",
       "    <tr>\n",
       "      <th>2022-01-05</th>\n",
       "      <td>1.948965</td>\n",
       "      <td>5.182532</td>\n",
       "      <td>-0.658983</td>\n",
       "      <td>2.189739</td>\n",
       "    </tr>\n",
       "    <tr>\n",
       "      <th>...</th>\n",
       "      <td>...</td>\n",
       "      <td>...</td>\n",
       "      <td>...</td>\n",
       "      <td>...</td>\n",
       "    </tr>\n",
       "    <tr>\n",
       "      <th>2024-09-22</th>\n",
       "      <td>-27.906008</td>\n",
       "      <td>28.937707</td>\n",
       "      <td>6.170702</td>\n",
       "      <td>-32.130133</td>\n",
       "    </tr>\n",
       "    <tr>\n",
       "      <th>2024-09-23</th>\n",
       "      <td>-27.525671</td>\n",
       "      <td>28.108515</td>\n",
       "      <td>6.328505</td>\n",
       "      <td>-31.120501</td>\n",
       "    </tr>\n",
       "    <tr>\n",
       "      <th>2024-09-24</th>\n",
       "      <td>-26.977391</td>\n",
       "      <td>27.749624</td>\n",
       "      <td>6.681421</td>\n",
       "      <td>-31.446031</td>\n",
       "    </tr>\n",
       "    <tr>\n",
       "      <th>2024-09-25</th>\n",
       "      <td>-26.328504</td>\n",
       "      <td>27.514338</td>\n",
       "      <td>7.162062</td>\n",
       "      <td>-30.109583</td>\n",
       "    </tr>\n",
       "    <tr>\n",
       "      <th>2024-09-26</th>\n",
       "      <td>-25.559042</td>\n",
       "      <td>27.922744</td>\n",
       "      <td>7.373150</td>\n",
       "      <td>-30.191973</td>\n",
       "    </tr>\n",
       "  </tbody>\n",
       "</table>\n",
       "<p>1000 rows × 4 columns</p>\n",
       "</div>"
      ],
      "text/plain": [
       "                    A          B         C          D\n",
       "2022-01-01   0.790720  -0.353675 -0.477799   1.454128\n",
       "2022-01-02   1.535089   1.273300 -0.026764   2.186900\n",
       "2022-01-03   1.224990   2.772115 -1.294031   3.007405\n",
       "2022-01-04   2.105619   4.508436 -0.546866   2.336596\n",
       "2022-01-05   1.948965   5.182532 -0.658983   2.189739\n",
       "...               ...        ...       ...        ...\n",
       "2024-09-22 -27.906008  28.937707  6.170702 -32.130133\n",
       "2024-09-23 -27.525671  28.108515  6.328505 -31.120501\n",
       "2024-09-24 -26.977391  27.749624  6.681421 -31.446031\n",
       "2024-09-25 -26.328504  27.514338  7.162062 -30.109583\n",
       "2024-09-26 -25.559042  27.922744  7.373150 -30.191973\n",
       "\n",
       "[1000 rows x 4 columns]"
      ]
     },
     "execution_count": 103,
     "metadata": {},
     "output_type": "execute_result"
    }
   ],
   "source": [
    "pd.read_hdf(\"./docs/files/foo.h5\", \"df\")"
   ]
  },
  {
   "cell_type": "markdown",
   "metadata": {},
   "source": [
    "### Excel\n",
    "\n",
    "Reading and writing to MS Excel."
   ]
  },
  {
   "cell_type": "markdown",
   "metadata": {},
   "source": [
    "#### Writing to an excel file"
   ]
  },
  {
   "cell_type": "code",
   "execution_count": 104,
   "metadata": {},
   "outputs": [],
   "source": [
    "df.to_excel(\"./docs/files/foo.xlsx\", sheet_name=\"Sheet1\")"
   ]
  },
  {
   "cell_type": "markdown",
   "metadata": {},
   "source": [
    "#### Reading from an excel file."
   ]
  },
  {
   "cell_type": "code",
   "execution_count": 105,
   "metadata": {},
   "outputs": [
    {
     "data": {
      "text/html": [
       "<div>\n",
       "<style scoped>\n",
       "    .dataframe tbody tr th:only-of-type {\n",
       "        vertical-align: middle;\n",
       "    }\n",
       "\n",
       "    .dataframe tbody tr th {\n",
       "        vertical-align: top;\n",
       "    }\n",
       "\n",
       "    .dataframe thead th {\n",
       "        text-align: right;\n",
       "    }\n",
       "</style>\n",
       "<table border=\"1\" class=\"dataframe\">\n",
       "  <thead>\n",
       "    <tr style=\"text-align: right;\">\n",
       "      <th></th>\n",
       "      <th>Unnamed: 0</th>\n",
       "      <th>A</th>\n",
       "      <th>B</th>\n",
       "      <th>C</th>\n",
       "      <th>D</th>\n",
       "    </tr>\n",
       "  </thead>\n",
       "  <tbody>\n",
       "    <tr>\n",
       "      <th>0</th>\n",
       "      <td>2022-01-01</td>\n",
       "      <td>0.790720</td>\n",
       "      <td>-0.353675</td>\n",
       "      <td>-0.477799</td>\n",
       "      <td>1.454128</td>\n",
       "    </tr>\n",
       "    <tr>\n",
       "      <th>1</th>\n",
       "      <td>2022-01-02</td>\n",
       "      <td>1.535089</td>\n",
       "      <td>1.273300</td>\n",
       "      <td>-0.026764</td>\n",
       "      <td>2.186900</td>\n",
       "    </tr>\n",
       "    <tr>\n",
       "      <th>2</th>\n",
       "      <td>2022-01-03</td>\n",
       "      <td>1.224990</td>\n",
       "      <td>2.772115</td>\n",
       "      <td>-1.294031</td>\n",
       "      <td>3.007405</td>\n",
       "    </tr>\n",
       "    <tr>\n",
       "      <th>3</th>\n",
       "      <td>2022-01-04</td>\n",
       "      <td>2.105619</td>\n",
       "      <td>4.508436</td>\n",
       "      <td>-0.546866</td>\n",
       "      <td>2.336596</td>\n",
       "    </tr>\n",
       "    <tr>\n",
       "      <th>4</th>\n",
       "      <td>2022-01-05</td>\n",
       "      <td>1.948965</td>\n",
       "      <td>5.182532</td>\n",
       "      <td>-0.658983</td>\n",
       "      <td>2.189739</td>\n",
       "    </tr>\n",
       "    <tr>\n",
       "      <th>...</th>\n",
       "      <td>...</td>\n",
       "      <td>...</td>\n",
       "      <td>...</td>\n",
       "      <td>...</td>\n",
       "      <td>...</td>\n",
       "    </tr>\n",
       "    <tr>\n",
       "      <th>995</th>\n",
       "      <td>2024-09-22</td>\n",
       "      <td>-27.906008</td>\n",
       "      <td>28.937707</td>\n",
       "      <td>6.170702</td>\n",
       "      <td>-32.130133</td>\n",
       "    </tr>\n",
       "    <tr>\n",
       "      <th>996</th>\n",
       "      <td>2024-09-23</td>\n",
       "      <td>-27.525671</td>\n",
       "      <td>28.108515</td>\n",
       "      <td>6.328505</td>\n",
       "      <td>-31.120501</td>\n",
       "    </tr>\n",
       "    <tr>\n",
       "      <th>997</th>\n",
       "      <td>2024-09-24</td>\n",
       "      <td>-26.977391</td>\n",
       "      <td>27.749624</td>\n",
       "      <td>6.681421</td>\n",
       "      <td>-31.446031</td>\n",
       "    </tr>\n",
       "    <tr>\n",
       "      <th>998</th>\n",
       "      <td>2024-09-25</td>\n",
       "      <td>-26.328504</td>\n",
       "      <td>27.514338</td>\n",
       "      <td>7.162062</td>\n",
       "      <td>-30.109583</td>\n",
       "    </tr>\n",
       "    <tr>\n",
       "      <th>999</th>\n",
       "      <td>2024-09-26</td>\n",
       "      <td>-25.559042</td>\n",
       "      <td>27.922744</td>\n",
       "      <td>7.373150</td>\n",
       "      <td>-30.191973</td>\n",
       "    </tr>\n",
       "  </tbody>\n",
       "</table>\n",
       "<p>1000 rows × 5 columns</p>\n",
       "</div>"
      ],
      "text/plain": [
       "    Unnamed: 0          A          B         C          D\n",
       "0   2022-01-01   0.790720  -0.353675 -0.477799   1.454128\n",
       "1   2022-01-02   1.535089   1.273300 -0.026764   2.186900\n",
       "2   2022-01-03   1.224990   2.772115 -1.294031   3.007405\n",
       "3   2022-01-04   2.105619   4.508436 -0.546866   2.336596\n",
       "4   2022-01-05   1.948965   5.182532 -0.658983   2.189739\n",
       "..         ...        ...        ...       ...        ...\n",
       "995 2024-09-22 -27.906008  28.937707  6.170702 -32.130133\n",
       "996 2024-09-23 -27.525671  28.108515  6.328505 -31.120501\n",
       "997 2024-09-24 -26.977391  27.749624  6.681421 -31.446031\n",
       "998 2024-09-25 -26.328504  27.514338  7.162062 -30.109583\n",
       "999 2024-09-26 -25.559042  27.922744  7.373150 -30.191973\n",
       "\n",
       "[1000 rows x 5 columns]"
      ]
     },
     "execution_count": 105,
     "metadata": {},
     "output_type": "execute_result"
    }
   ],
   "source": [
    "pd.read_excel(\"./docs/files/foo.xlsx\", \"Sheet1\", index_col=None, na_values=[\"NA\"])"
   ]
  }
 ],
 "metadata": {
  "interpreter": {
   "hash": "580bc6988fae55470f1f7fef33c7383d25c249a87cfdcbee8acb15c82c1b4515"
  },
  "kernelspec": {
   "display_name": "Python 3.9.12 ('venv': venv)",
   "language": "python",
   "name": "python3"
  },
  "language_info": {
   "codemirror_mode": {
    "name": "ipython",
    "version": 3
   },
   "file_extension": ".py",
   "mimetype": "text/x-python",
   "name": "python",
   "nbconvert_exporter": "python",
   "pygments_lexer": "ipython3",
   "version": "3.9.12"
  },
  "orig_nbformat": 4
 },
 "nbformat": 4,
 "nbformat_minor": 2
}
