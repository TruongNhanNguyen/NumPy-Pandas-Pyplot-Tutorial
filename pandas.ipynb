{
 "cells": [
  {
   "cell_type": "markdown",
   "metadata": {},
   "source": [
    "# PANDAS TUTORIAL (QUICK TOUR-10 MINUTES)"
   ]
  },
  {
   "cell_type": "markdown",
   "metadata": {},
   "source": [
    "This is a short introduction to `pandas`, geared mainly for new users.\n",
    "\n",
    "Customarily, we import as follow:"
   ]
  },
  {
   "cell_type": "code",
   "execution_count": 107,
   "metadata": {},
   "outputs": [],
   "source": [
    "import numpy as np\n",
    "import pandas as pd"
   ]
  },
  {
   "cell_type": "markdown",
   "metadata": {},
   "source": [
    "## Object Creation"
   ]
  },
  {
   "cell_type": "markdown",
   "metadata": {},
   "source": [
    "Creating a **Series** by passing a list of values, letting `pandas` create a default integer index."
   ]
  },
  {
   "cell_type": "code",
   "execution_count": 108,
   "metadata": {},
   "outputs": [
    {
     "data": {
      "text/plain": [
       "0     1.0\n",
       "1     2.0\n",
       "2    -7.0\n",
       "3    10.0\n",
       "4     NaN\n",
       "5     8.0\n",
       "6    11.0\n",
       "dtype: float64"
      ]
     },
     "execution_count": 108,
     "metadata": {},
     "output_type": "execute_result"
    }
   ],
   "source": [
    "s = pd.Series([1, 2, -7, 10, np.nan, 8, 11])\n",
    "s"
   ]
  },
  {
   "cell_type": "markdown",
   "metadata": {},
   "source": [
    "Creating a **DataFrame** by passing a `NumPy` array, with datetime index and labeled columns."
   ]
  },
  {
   "cell_type": "code",
   "execution_count": 109,
   "metadata": {},
   "outputs": [
    {
     "data": {
      "text/plain": [
       "DatetimeIndex(['2022-03-19', '2022-03-20', '2022-03-21', '2022-03-22',\n",
       "               '2022-03-23', '2022-03-24', '2022-03-25'],\n",
       "              dtype='datetime64[ns]', freq='D')"
      ]
     },
     "execution_count": 109,
     "metadata": {},
     "output_type": "execute_result"
    }
   ],
   "source": [
    "dates = pd.date_range(\"20220319\", periods=7)\n",
    "dates"
   ]
  },
  {
   "cell_type": "code",
   "execution_count": 110,
   "metadata": {},
   "outputs": [
    {
     "data": {
      "text/html": [
       "<div>\n",
       "<style scoped>\n",
       "    .dataframe tbody tr th:only-of-type {\n",
       "        vertical-align: middle;\n",
       "    }\n",
       "\n",
       "    .dataframe tbody tr th {\n",
       "        vertical-align: top;\n",
       "    }\n",
       "\n",
       "    .dataframe thead th {\n",
       "        text-align: right;\n",
       "    }\n",
       "</style>\n",
       "<table border=\"1\" class=\"dataframe\">\n",
       "  <thead>\n",
       "    <tr style=\"text-align: right;\">\n",
       "      <th></th>\n",
       "      <th>A</th>\n",
       "      <th>B</th>\n",
       "      <th>C</th>\n",
       "      <th>D</th>\n",
       "    </tr>\n",
       "  </thead>\n",
       "  <tbody>\n",
       "    <tr>\n",
       "      <th>2022-03-19</th>\n",
       "      <td>-0.515323</td>\n",
       "      <td>-0.117625</td>\n",
       "      <td>0.255849</td>\n",
       "      <td>-0.013784</td>\n",
       "    </tr>\n",
       "    <tr>\n",
       "      <th>2022-03-20</th>\n",
       "      <td>-0.157914</td>\n",
       "      <td>-1.135307</td>\n",
       "      <td>0.013720</td>\n",
       "      <td>0.355476</td>\n",
       "    </tr>\n",
       "    <tr>\n",
       "      <th>2022-03-21</th>\n",
       "      <td>-0.070382</td>\n",
       "      <td>-1.606999</td>\n",
       "      <td>-1.131948</td>\n",
       "      <td>0.763082</td>\n",
       "    </tr>\n",
       "    <tr>\n",
       "      <th>2022-03-22</th>\n",
       "      <td>0.604471</td>\n",
       "      <td>0.920926</td>\n",
       "      <td>0.975100</td>\n",
       "      <td>-0.398424</td>\n",
       "    </tr>\n",
       "    <tr>\n",
       "      <th>2022-03-23</th>\n",
       "      <td>1.475891</td>\n",
       "      <td>0.314021</td>\n",
       "      <td>-0.731804</td>\n",
       "      <td>-0.738141</td>\n",
       "    </tr>\n",
       "    <tr>\n",
       "      <th>2022-03-24</th>\n",
       "      <td>-0.483649</td>\n",
       "      <td>-0.066489</td>\n",
       "      <td>0.443614</td>\n",
       "      <td>-0.085938</td>\n",
       "    </tr>\n",
       "    <tr>\n",
       "      <th>2022-03-25</th>\n",
       "      <td>-0.644857</td>\n",
       "      <td>-0.987596</td>\n",
       "      <td>-0.714965</td>\n",
       "      <td>-0.142812</td>\n",
       "    </tr>\n",
       "  </tbody>\n",
       "</table>\n",
       "</div>"
      ],
      "text/plain": [
       "                   A         B         C         D\n",
       "2022-03-19 -0.515323 -0.117625  0.255849 -0.013784\n",
       "2022-03-20 -0.157914 -1.135307  0.013720  0.355476\n",
       "2022-03-21 -0.070382 -1.606999 -1.131948  0.763082\n",
       "2022-03-22  0.604471  0.920926  0.975100 -0.398424\n",
       "2022-03-23  1.475891  0.314021 -0.731804 -0.738141\n",
       "2022-03-24 -0.483649 -0.066489  0.443614 -0.085938\n",
       "2022-03-25 -0.644857 -0.987596 -0.714965 -0.142812"
      ]
     },
     "execution_count": 110,
     "metadata": {},
     "output_type": "execute_result"
    }
   ],
   "source": [
    "df = pd.DataFrame(np.random.randn(7, 4), index=dates, columns=list(\"ABCD\"))\n",
    "df"
   ]
  },
  {
   "cell_type": "markdown",
   "metadata": {},
   "source": [
    "Create a **DataFrame** by passing a *dictionary* of objects that can be converted into a series-like structure."
   ]
  },
  {
   "cell_type": "code",
   "execution_count": 111,
   "metadata": {},
   "outputs": [
    {
     "data": {
      "text/html": [
       "<div>\n",
       "<style scoped>\n",
       "    .dataframe tbody tr th:only-of-type {\n",
       "        vertical-align: middle;\n",
       "    }\n",
       "\n",
       "    .dataframe tbody tr th {\n",
       "        vertical-align: top;\n",
       "    }\n",
       "\n",
       "    .dataframe thead th {\n",
       "        text-align: right;\n",
       "    }\n",
       "</style>\n",
       "<table border=\"1\" class=\"dataframe\">\n",
       "  <thead>\n",
       "    <tr style=\"text-align: right;\">\n",
       "      <th></th>\n",
       "      <th>A</th>\n",
       "      <th>B</th>\n",
       "      <th>C</th>\n",
       "      <th>D</th>\n",
       "      <th>E</th>\n",
       "      <th>F</th>\n",
       "    </tr>\n",
       "  </thead>\n",
       "  <tbody>\n",
       "    <tr>\n",
       "      <th>0</th>\n",
       "      <td>1.5</td>\n",
       "      <td>2022-03-19</td>\n",
       "      <td>1.0</td>\n",
       "      <td>5</td>\n",
       "      <td>test</td>\n",
       "      <td>foo</td>\n",
       "    </tr>\n",
       "    <tr>\n",
       "      <th>1</th>\n",
       "      <td>1.5</td>\n",
       "      <td>2022-03-19</td>\n",
       "      <td>1.0</td>\n",
       "      <td>5</td>\n",
       "      <td>train</td>\n",
       "      <td>foo</td>\n",
       "    </tr>\n",
       "    <tr>\n",
       "      <th>2</th>\n",
       "      <td>1.5</td>\n",
       "      <td>2022-03-19</td>\n",
       "      <td>1.0</td>\n",
       "      <td>5</td>\n",
       "      <td>test</td>\n",
       "      <td>foo</td>\n",
       "    </tr>\n",
       "    <tr>\n",
       "      <th>3</th>\n",
       "      <td>1.5</td>\n",
       "      <td>2022-03-19</td>\n",
       "      <td>1.0</td>\n",
       "      <td>5</td>\n",
       "      <td>train</td>\n",
       "      <td>foo</td>\n",
       "    </tr>\n",
       "  </tbody>\n",
       "</table>\n",
       "</div>"
      ],
      "text/plain": [
       "     A          B    C  D      E    F\n",
       "0  1.5 2022-03-19  1.0  5   test  foo\n",
       "1  1.5 2022-03-19  1.0  5  train  foo\n",
       "2  1.5 2022-03-19  1.0  5   test  foo\n",
       "3  1.5 2022-03-19  1.0  5  train  foo"
      ]
     },
     "execution_count": 111,
     "metadata": {},
     "output_type": "execute_result"
    }
   ],
   "source": [
    "df2 = pd.DataFrame(\n",
    "    {\n",
    "        \"A\": 1.5,\n",
    "        \"B\": pd.Timestamp(\"20220319\"),\n",
    "        \"C\": pd.Series(1, index=list(range(4)), dtype=np.float32),\n",
    "        \"D\": np.array([5] * 4, dtype=np.int32),\n",
    "        \"E\": pd.Categorical([\"test\", \"train\", \"test\", \"train\"]),\n",
    "        \"F\": \"foo\",\n",
    "    }\n",
    ")\n",
    "df2"
   ]
  },
  {
   "cell_type": "markdown",
   "metadata": {},
   "source": [
    "The columns of the resulting **DataFrame** have different `dtypes`."
   ]
  },
  {
   "cell_type": "code",
   "execution_count": 112,
   "metadata": {},
   "outputs": [
    {
     "data": {
      "text/plain": [
       "A           float64\n",
       "B    datetime64[ns]\n",
       "C           float32\n",
       "D             int32\n",
       "E          category\n",
       "F            object\n",
       "dtype: object"
      ]
     },
     "execution_count": 112,
     "metadata": {},
     "output_type": "execute_result"
    }
   ],
   "source": [
    "df2.dtypes"
   ]
  },
  {
   "cell_type": "markdown",
   "metadata": {},
   "source": [
    "## Viewing data"
   ]
  },
  {
   "cell_type": "markdown",
   "metadata": {},
   "source": [
    "Here is how to view the top and bottom rows of the frame."
   ]
  },
  {
   "cell_type": "code",
   "execution_count": 113,
   "metadata": {},
   "outputs": [
    {
     "data": {
      "text/html": [
       "<div>\n",
       "<style scoped>\n",
       "    .dataframe tbody tr th:only-of-type {\n",
       "        vertical-align: middle;\n",
       "    }\n",
       "\n",
       "    .dataframe tbody tr th {\n",
       "        vertical-align: top;\n",
       "    }\n",
       "\n",
       "    .dataframe thead th {\n",
       "        text-align: right;\n",
       "    }\n",
       "</style>\n",
       "<table border=\"1\" class=\"dataframe\">\n",
       "  <thead>\n",
       "    <tr style=\"text-align: right;\">\n",
       "      <th></th>\n",
       "      <th>A</th>\n",
       "      <th>B</th>\n",
       "      <th>C</th>\n",
       "      <th>D</th>\n",
       "    </tr>\n",
       "  </thead>\n",
       "  <tbody>\n",
       "    <tr>\n",
       "      <th>2022-03-19</th>\n",
       "      <td>-0.515323</td>\n",
       "      <td>-0.117625</td>\n",
       "      <td>0.255849</td>\n",
       "      <td>-0.013784</td>\n",
       "    </tr>\n",
       "    <tr>\n",
       "      <th>2022-03-20</th>\n",
       "      <td>-0.157914</td>\n",
       "      <td>-1.135307</td>\n",
       "      <td>0.013720</td>\n",
       "      <td>0.355476</td>\n",
       "    </tr>\n",
       "    <tr>\n",
       "      <th>2022-03-21</th>\n",
       "      <td>-0.070382</td>\n",
       "      <td>-1.606999</td>\n",
       "      <td>-1.131948</td>\n",
       "      <td>0.763082</td>\n",
       "    </tr>\n",
       "    <tr>\n",
       "      <th>2022-03-22</th>\n",
       "      <td>0.604471</td>\n",
       "      <td>0.920926</td>\n",
       "      <td>0.975100</td>\n",
       "      <td>-0.398424</td>\n",
       "    </tr>\n",
       "    <tr>\n",
       "      <th>2022-03-23</th>\n",
       "      <td>1.475891</td>\n",
       "      <td>0.314021</td>\n",
       "      <td>-0.731804</td>\n",
       "      <td>-0.738141</td>\n",
       "    </tr>\n",
       "  </tbody>\n",
       "</table>\n",
       "</div>"
      ],
      "text/plain": [
       "                   A         B         C         D\n",
       "2022-03-19 -0.515323 -0.117625  0.255849 -0.013784\n",
       "2022-03-20 -0.157914 -1.135307  0.013720  0.355476\n",
       "2022-03-21 -0.070382 -1.606999 -1.131948  0.763082\n",
       "2022-03-22  0.604471  0.920926  0.975100 -0.398424\n",
       "2022-03-23  1.475891  0.314021 -0.731804 -0.738141"
      ]
     },
     "execution_count": 113,
     "metadata": {},
     "output_type": "execute_result"
    }
   ],
   "source": [
    "df.head()"
   ]
  },
  {
   "cell_type": "code",
   "execution_count": 114,
   "metadata": {},
   "outputs": [
    {
     "data": {
      "text/html": [
       "<div>\n",
       "<style scoped>\n",
       "    .dataframe tbody tr th:only-of-type {\n",
       "        vertical-align: middle;\n",
       "    }\n",
       "\n",
       "    .dataframe tbody tr th {\n",
       "        vertical-align: top;\n",
       "    }\n",
       "\n",
       "    .dataframe thead th {\n",
       "        text-align: right;\n",
       "    }\n",
       "</style>\n",
       "<table border=\"1\" class=\"dataframe\">\n",
       "  <thead>\n",
       "    <tr style=\"text-align: right;\">\n",
       "      <th></th>\n",
       "      <th>A</th>\n",
       "      <th>B</th>\n",
       "      <th>C</th>\n",
       "      <th>D</th>\n",
       "    </tr>\n",
       "  </thead>\n",
       "  <tbody>\n",
       "    <tr>\n",
       "      <th>2022-03-21</th>\n",
       "      <td>-0.070382</td>\n",
       "      <td>-1.606999</td>\n",
       "      <td>-1.131948</td>\n",
       "      <td>0.763082</td>\n",
       "    </tr>\n",
       "    <tr>\n",
       "      <th>2022-03-22</th>\n",
       "      <td>0.604471</td>\n",
       "      <td>0.920926</td>\n",
       "      <td>0.975100</td>\n",
       "      <td>-0.398424</td>\n",
       "    </tr>\n",
       "    <tr>\n",
       "      <th>2022-03-23</th>\n",
       "      <td>1.475891</td>\n",
       "      <td>0.314021</td>\n",
       "      <td>-0.731804</td>\n",
       "      <td>-0.738141</td>\n",
       "    </tr>\n",
       "    <tr>\n",
       "      <th>2022-03-24</th>\n",
       "      <td>-0.483649</td>\n",
       "      <td>-0.066489</td>\n",
       "      <td>0.443614</td>\n",
       "      <td>-0.085938</td>\n",
       "    </tr>\n",
       "    <tr>\n",
       "      <th>2022-03-25</th>\n",
       "      <td>-0.644857</td>\n",
       "      <td>-0.987596</td>\n",
       "      <td>-0.714965</td>\n",
       "      <td>-0.142812</td>\n",
       "    </tr>\n",
       "  </tbody>\n",
       "</table>\n",
       "</div>"
      ],
      "text/plain": [
       "                   A         B         C         D\n",
       "2022-03-21 -0.070382 -1.606999 -1.131948  0.763082\n",
       "2022-03-22  0.604471  0.920926  0.975100 -0.398424\n",
       "2022-03-23  1.475891  0.314021 -0.731804 -0.738141\n",
       "2022-03-24 -0.483649 -0.066489  0.443614 -0.085938\n",
       "2022-03-25 -0.644857 -0.987596 -0.714965 -0.142812"
      ]
     },
     "execution_count": 114,
     "metadata": {},
     "output_type": "execute_result"
    }
   ],
   "source": [
    "df.tail()"
   ]
  },
  {
   "cell_type": "markdown",
   "metadata": {},
   "source": [
    "> You can pass arguments to the `head()` or `tail()` functions to display a specified number of rows."
   ]
  },
  {
   "cell_type": "code",
   "execution_count": 115,
   "metadata": {},
   "outputs": [
    {
     "data": {
      "text/html": [
       "<div>\n",
       "<style scoped>\n",
       "    .dataframe tbody tr th:only-of-type {\n",
       "        vertical-align: middle;\n",
       "    }\n",
       "\n",
       "    .dataframe tbody tr th {\n",
       "        vertical-align: top;\n",
       "    }\n",
       "\n",
       "    .dataframe thead th {\n",
       "        text-align: right;\n",
       "    }\n",
       "</style>\n",
       "<table border=\"1\" class=\"dataframe\">\n",
       "  <thead>\n",
       "    <tr style=\"text-align: right;\">\n",
       "      <th></th>\n",
       "      <th>A</th>\n",
       "      <th>B</th>\n",
       "      <th>C</th>\n",
       "      <th>D</th>\n",
       "    </tr>\n",
       "  </thead>\n",
       "  <tbody>\n",
       "    <tr>\n",
       "      <th>2022-03-19</th>\n",
       "      <td>-0.515323</td>\n",
       "      <td>-0.117625</td>\n",
       "      <td>0.255849</td>\n",
       "      <td>-0.013784</td>\n",
       "    </tr>\n",
       "    <tr>\n",
       "      <th>2022-03-20</th>\n",
       "      <td>-0.157914</td>\n",
       "      <td>-1.135307</td>\n",
       "      <td>0.013720</td>\n",
       "      <td>0.355476</td>\n",
       "    </tr>\n",
       "  </tbody>\n",
       "</table>\n",
       "</div>"
      ],
      "text/plain": [
       "                   A         B         C         D\n",
       "2022-03-19 -0.515323 -0.117625  0.255849 -0.013784\n",
       "2022-03-20 -0.157914 -1.135307  0.013720  0.355476"
      ]
     },
     "execution_count": 115,
     "metadata": {},
     "output_type": "execute_result"
    }
   ],
   "source": [
    "df.head(2)"
   ]
  },
  {
   "cell_type": "markdown",
   "metadata": {},
   "source": [
    "Display the index, columns."
   ]
  },
  {
   "cell_type": "code",
   "execution_count": 116,
   "metadata": {},
   "outputs": [
    {
     "data": {
      "text/plain": [
       "DatetimeIndex(['2022-03-19', '2022-03-20', '2022-03-21', '2022-03-22',\n",
       "               '2022-03-23', '2022-03-24', '2022-03-25'],\n",
       "              dtype='datetime64[ns]', freq='D')"
      ]
     },
     "execution_count": 116,
     "metadata": {},
     "output_type": "execute_result"
    }
   ],
   "source": [
    "df.index"
   ]
  },
  {
   "cell_type": "code",
   "execution_count": 117,
   "metadata": {},
   "outputs": [
    {
     "data": {
      "text/plain": [
       "Index(['A', 'B', 'C', 'D'], dtype='object')"
      ]
     },
     "execution_count": 117,
     "metadata": {},
     "output_type": "execute_result"
    }
   ],
   "source": [
    "df.columns"
   ]
  },
  {
   "cell_type": "markdown",
   "metadata": {},
   "source": [
    "> `DataFrame.to_numpy()` gives a `NumPy` representation of the underlying data. Note that this can be an expensive operation when your `DataFrame` has columns with *different* data types, which comes down to a fundamental difference between pandas and `NumPy`: `NumPy` arrays have one dtype for the entire array, while pandas DataFrames have one dtype per column. When you call `DataFrame.to_numpy()`, pandas will find the `NumPy` dtype that can hold all of the dtypes in the `DataFrame`. This may end up being object, which requires casting every value to a Python object."
   ]
  },
  {
   "cell_type": "markdown",
   "metadata": {},
   "source": [
    "For `df`, our **DataFrame** of all floating-point values, `DataFrame.to_numpy()` is fast and doesn't require copying data"
   ]
  },
  {
   "cell_type": "code",
   "execution_count": 118,
   "metadata": {},
   "outputs": [
    {
     "data": {
      "text/plain": [
       "array([[-0.51532324, -0.11762457,  0.25584928, -0.01378376],\n",
       "       [-0.15791377, -1.13530685,  0.01372006,  0.35547585],\n",
       "       [-0.07038159, -1.60699854, -1.13194806,  0.7630816 ],\n",
       "       [ 0.60447144,  0.92092564,  0.97509996, -0.39842433],\n",
       "       [ 1.47589092,  0.31402138, -0.73180392, -0.73814064],\n",
       "       [-0.48364879, -0.06648916,  0.44361405, -0.08593759],\n",
       "       [-0.64485726, -0.9875961 , -0.71496501, -0.14281208]])"
      ]
     },
     "execution_count": 118,
     "metadata": {},
     "output_type": "execute_result"
    }
   ],
   "source": [
    "df.to_numpy()"
   ]
  },
  {
   "cell_type": "markdown",
   "metadata": {},
   "source": [
    "For `df2`, the **DataFrame** with multiply `dtypes`, `DataFrame.to_numpy()` is relative expensive."
   ]
  },
  {
   "cell_type": "code",
   "execution_count": 119,
   "metadata": {},
   "outputs": [
    {
     "data": {
      "text/plain": [
       "array([[1.5, Timestamp('2022-03-19 00:00:00'), 1.0, 5, 'test', 'foo'],\n",
       "       [1.5, Timestamp('2022-03-19 00:00:00'), 1.0, 5, 'train', 'foo'],\n",
       "       [1.5, Timestamp('2022-03-19 00:00:00'), 1.0, 5, 'test', 'foo'],\n",
       "       [1.5, Timestamp('2022-03-19 00:00:00'), 1.0, 5, 'train', 'foo']],\n",
       "      dtype=object)"
      ]
     },
     "execution_count": 119,
     "metadata": {},
     "output_type": "execute_result"
    }
   ],
   "source": [
    "df2.to_numpy()"
   ]
  },
  {
   "cell_type": "markdown",
   "metadata": {},
   "source": [
    "`describe()` shows a quick statistic summary of your data."
   ]
  },
  {
   "cell_type": "code",
   "execution_count": 120,
   "metadata": {},
   "outputs": [
    {
     "data": {
      "text/html": [
       "<div>\n",
       "<style scoped>\n",
       "    .dataframe tbody tr th:only-of-type {\n",
       "        vertical-align: middle;\n",
       "    }\n",
       "\n",
       "    .dataframe tbody tr th {\n",
       "        vertical-align: top;\n",
       "    }\n",
       "\n",
       "    .dataframe thead th {\n",
       "        text-align: right;\n",
       "    }\n",
       "</style>\n",
       "<table border=\"1\" class=\"dataframe\">\n",
       "  <thead>\n",
       "    <tr style=\"text-align: right;\">\n",
       "      <th></th>\n",
       "      <th>A</th>\n",
       "      <th>B</th>\n",
       "      <th>C</th>\n",
       "      <th>D</th>\n",
       "    </tr>\n",
       "  </thead>\n",
       "  <tbody>\n",
       "    <tr>\n",
       "      <th>count</th>\n",
       "      <td>7.000000</td>\n",
       "      <td>7.000000</td>\n",
       "      <td>7.000000</td>\n",
       "      <td>7.000000</td>\n",
       "    </tr>\n",
       "    <tr>\n",
       "      <th>mean</th>\n",
       "      <td>0.029748</td>\n",
       "      <td>-0.382724</td>\n",
       "      <td>-0.127205</td>\n",
       "      <td>-0.037220</td>\n",
       "    </tr>\n",
       "    <tr>\n",
       "      <th>std</th>\n",
       "      <td>0.761867</td>\n",
       "      <td>0.893153</td>\n",
       "      <td>0.755867</td>\n",
       "      <td>0.488283</td>\n",
       "    </tr>\n",
       "    <tr>\n",
       "      <th>min</th>\n",
       "      <td>-0.644857</td>\n",
       "      <td>-1.606999</td>\n",
       "      <td>-1.131948</td>\n",
       "      <td>-0.738141</td>\n",
       "    </tr>\n",
       "    <tr>\n",
       "      <th>25%</th>\n",
       "      <td>-0.499486</td>\n",
       "      <td>-1.061451</td>\n",
       "      <td>-0.723384</td>\n",
       "      <td>-0.270618</td>\n",
       "    </tr>\n",
       "    <tr>\n",
       "      <th>50%</th>\n",
       "      <td>-0.157914</td>\n",
       "      <td>-0.117625</td>\n",
       "      <td>0.013720</td>\n",
       "      <td>-0.085938</td>\n",
       "    </tr>\n",
       "    <tr>\n",
       "      <th>75%</th>\n",
       "      <td>0.267045</td>\n",
       "      <td>0.123766</td>\n",
       "      <td>0.349732</td>\n",
       "      <td>0.170846</td>\n",
       "    </tr>\n",
       "    <tr>\n",
       "      <th>max</th>\n",
       "      <td>1.475891</td>\n",
       "      <td>0.920926</td>\n",
       "      <td>0.975100</td>\n",
       "      <td>0.763082</td>\n",
       "    </tr>\n",
       "  </tbody>\n",
       "</table>\n",
       "</div>"
      ],
      "text/plain": [
       "              A         B         C         D\n",
       "count  7.000000  7.000000  7.000000  7.000000\n",
       "mean   0.029748 -0.382724 -0.127205 -0.037220\n",
       "std    0.761867  0.893153  0.755867  0.488283\n",
       "min   -0.644857 -1.606999 -1.131948 -0.738141\n",
       "25%   -0.499486 -1.061451 -0.723384 -0.270618\n",
       "50%   -0.157914 -0.117625  0.013720 -0.085938\n",
       "75%    0.267045  0.123766  0.349732  0.170846\n",
       "max    1.475891  0.920926  0.975100  0.763082"
      ]
     },
     "execution_count": 120,
     "metadata": {},
     "output_type": "execute_result"
    }
   ],
   "source": [
    "df.describe()"
   ]
  },
  {
   "cell_type": "code",
   "execution_count": 121,
   "metadata": {},
   "outputs": [
    {
     "data": {
      "text/html": [
       "<div>\n",
       "<style scoped>\n",
       "    .dataframe tbody tr th:only-of-type {\n",
       "        vertical-align: middle;\n",
       "    }\n",
       "\n",
       "    .dataframe tbody tr th {\n",
       "        vertical-align: top;\n",
       "    }\n",
       "\n",
       "    .dataframe thead th {\n",
       "        text-align: right;\n",
       "    }\n",
       "</style>\n",
       "<table border=\"1\" class=\"dataframe\">\n",
       "  <thead>\n",
       "    <tr style=\"text-align: right;\">\n",
       "      <th></th>\n",
       "      <th>A</th>\n",
       "      <th>C</th>\n",
       "      <th>D</th>\n",
       "    </tr>\n",
       "  </thead>\n",
       "  <tbody>\n",
       "    <tr>\n",
       "      <th>count</th>\n",
       "      <td>4.0</td>\n",
       "      <td>4.0</td>\n",
       "      <td>4.0</td>\n",
       "    </tr>\n",
       "    <tr>\n",
       "      <th>mean</th>\n",
       "      <td>1.5</td>\n",
       "      <td>1.0</td>\n",
       "      <td>5.0</td>\n",
       "    </tr>\n",
       "    <tr>\n",
       "      <th>std</th>\n",
       "      <td>0.0</td>\n",
       "      <td>0.0</td>\n",
       "      <td>0.0</td>\n",
       "    </tr>\n",
       "    <tr>\n",
       "      <th>min</th>\n",
       "      <td>1.5</td>\n",
       "      <td>1.0</td>\n",
       "      <td>5.0</td>\n",
       "    </tr>\n",
       "    <tr>\n",
       "      <th>25%</th>\n",
       "      <td>1.5</td>\n",
       "      <td>1.0</td>\n",
       "      <td>5.0</td>\n",
       "    </tr>\n",
       "    <tr>\n",
       "      <th>50%</th>\n",
       "      <td>1.5</td>\n",
       "      <td>1.0</td>\n",
       "      <td>5.0</td>\n",
       "    </tr>\n",
       "    <tr>\n",
       "      <th>75%</th>\n",
       "      <td>1.5</td>\n",
       "      <td>1.0</td>\n",
       "      <td>5.0</td>\n",
       "    </tr>\n",
       "    <tr>\n",
       "      <th>max</th>\n",
       "      <td>1.5</td>\n",
       "      <td>1.0</td>\n",
       "      <td>5.0</td>\n",
       "    </tr>\n",
       "  </tbody>\n",
       "</table>\n",
       "</div>"
      ],
      "text/plain": [
       "         A    C    D\n",
       "count  4.0  4.0  4.0\n",
       "mean   1.5  1.0  5.0\n",
       "std    0.0  0.0  0.0\n",
       "min    1.5  1.0  5.0\n",
       "25%    1.5  1.0  5.0\n",
       "50%    1.5  1.0  5.0\n",
       "75%    1.5  1.0  5.0\n",
       "max    1.5  1.0  5.0"
      ]
     },
     "execution_count": 121,
     "metadata": {},
     "output_type": "execute_result"
    }
   ],
   "source": [
    "df2.describe()"
   ]
  },
  {
   "cell_type": "markdown",
   "metadata": {},
   "source": [
    "Transposing your data."
   ]
  },
  {
   "cell_type": "code",
   "execution_count": 122,
   "metadata": {},
   "outputs": [
    {
     "data": {
      "text/html": [
       "<div>\n",
       "<style scoped>\n",
       "    .dataframe tbody tr th:only-of-type {\n",
       "        vertical-align: middle;\n",
       "    }\n",
       "\n",
       "    .dataframe tbody tr th {\n",
       "        vertical-align: top;\n",
       "    }\n",
       "\n",
       "    .dataframe thead th {\n",
       "        text-align: right;\n",
       "    }\n",
       "</style>\n",
       "<table border=\"1\" class=\"dataframe\">\n",
       "  <thead>\n",
       "    <tr style=\"text-align: right;\">\n",
       "      <th></th>\n",
       "      <th>2022-03-19</th>\n",
       "      <th>2022-03-20</th>\n",
       "      <th>2022-03-21</th>\n",
       "      <th>2022-03-22</th>\n",
       "      <th>2022-03-23</th>\n",
       "      <th>2022-03-24</th>\n",
       "      <th>2022-03-25</th>\n",
       "    </tr>\n",
       "  </thead>\n",
       "  <tbody>\n",
       "    <tr>\n",
       "      <th>A</th>\n",
       "      <td>-0.515323</td>\n",
       "      <td>-0.157914</td>\n",
       "      <td>-0.070382</td>\n",
       "      <td>0.604471</td>\n",
       "      <td>1.475891</td>\n",
       "      <td>-0.483649</td>\n",
       "      <td>-0.644857</td>\n",
       "    </tr>\n",
       "    <tr>\n",
       "      <th>B</th>\n",
       "      <td>-0.117625</td>\n",
       "      <td>-1.135307</td>\n",
       "      <td>-1.606999</td>\n",
       "      <td>0.920926</td>\n",
       "      <td>0.314021</td>\n",
       "      <td>-0.066489</td>\n",
       "      <td>-0.987596</td>\n",
       "    </tr>\n",
       "    <tr>\n",
       "      <th>C</th>\n",
       "      <td>0.255849</td>\n",
       "      <td>0.013720</td>\n",
       "      <td>-1.131948</td>\n",
       "      <td>0.975100</td>\n",
       "      <td>-0.731804</td>\n",
       "      <td>0.443614</td>\n",
       "      <td>-0.714965</td>\n",
       "    </tr>\n",
       "    <tr>\n",
       "      <th>D</th>\n",
       "      <td>-0.013784</td>\n",
       "      <td>0.355476</td>\n",
       "      <td>0.763082</td>\n",
       "      <td>-0.398424</td>\n",
       "      <td>-0.738141</td>\n",
       "      <td>-0.085938</td>\n",
       "      <td>-0.142812</td>\n",
       "    </tr>\n",
       "  </tbody>\n",
       "</table>\n",
       "</div>"
      ],
      "text/plain": [
       "   2022-03-19  2022-03-20  2022-03-21  2022-03-22  2022-03-23  2022-03-24  \\\n",
       "A   -0.515323   -0.157914   -0.070382    0.604471    1.475891   -0.483649   \n",
       "B   -0.117625   -1.135307   -1.606999    0.920926    0.314021   -0.066489   \n",
       "C    0.255849    0.013720   -1.131948    0.975100   -0.731804    0.443614   \n",
       "D   -0.013784    0.355476    0.763082   -0.398424   -0.738141   -0.085938   \n",
       "\n",
       "   2022-03-25  \n",
       "A   -0.644857  \n",
       "B   -0.987596  \n",
       "C   -0.714965  \n",
       "D   -0.142812  "
      ]
     },
     "execution_count": 122,
     "metadata": {},
     "output_type": "execute_result"
    }
   ],
   "source": [
    "df.T"
   ]
  },
  {
   "cell_type": "markdown",
   "metadata": {},
   "source": [
    "Sorting by an **axis**"
   ]
  },
  {
   "cell_type": "code",
   "execution_count": 123,
   "metadata": {},
   "outputs": [
    {
     "data": {
      "text/html": [
       "<div>\n",
       "<style scoped>\n",
       "    .dataframe tbody tr th:only-of-type {\n",
       "        vertical-align: middle;\n",
       "    }\n",
       "\n",
       "    .dataframe tbody tr th {\n",
       "        vertical-align: top;\n",
       "    }\n",
       "\n",
       "    .dataframe thead th {\n",
       "        text-align: right;\n",
       "    }\n",
       "</style>\n",
       "<table border=\"1\" class=\"dataframe\">\n",
       "  <thead>\n",
       "    <tr style=\"text-align: right;\">\n",
       "      <th></th>\n",
       "      <th>A</th>\n",
       "      <th>B</th>\n",
       "      <th>C</th>\n",
       "      <th>D</th>\n",
       "    </tr>\n",
       "  </thead>\n",
       "  <tbody>\n",
       "    <tr>\n",
       "      <th>2022-03-25</th>\n",
       "      <td>-0.644857</td>\n",
       "      <td>-0.987596</td>\n",
       "      <td>-0.714965</td>\n",
       "      <td>-0.142812</td>\n",
       "    </tr>\n",
       "    <tr>\n",
       "      <th>2022-03-24</th>\n",
       "      <td>-0.483649</td>\n",
       "      <td>-0.066489</td>\n",
       "      <td>0.443614</td>\n",
       "      <td>-0.085938</td>\n",
       "    </tr>\n",
       "    <tr>\n",
       "      <th>2022-03-23</th>\n",
       "      <td>1.475891</td>\n",
       "      <td>0.314021</td>\n",
       "      <td>-0.731804</td>\n",
       "      <td>-0.738141</td>\n",
       "    </tr>\n",
       "    <tr>\n",
       "      <th>2022-03-22</th>\n",
       "      <td>0.604471</td>\n",
       "      <td>0.920926</td>\n",
       "      <td>0.975100</td>\n",
       "      <td>-0.398424</td>\n",
       "    </tr>\n",
       "    <tr>\n",
       "      <th>2022-03-21</th>\n",
       "      <td>-0.070382</td>\n",
       "      <td>-1.606999</td>\n",
       "      <td>-1.131948</td>\n",
       "      <td>0.763082</td>\n",
       "    </tr>\n",
       "    <tr>\n",
       "      <th>2022-03-20</th>\n",
       "      <td>-0.157914</td>\n",
       "      <td>-1.135307</td>\n",
       "      <td>0.013720</td>\n",
       "      <td>0.355476</td>\n",
       "    </tr>\n",
       "    <tr>\n",
       "      <th>2022-03-19</th>\n",
       "      <td>-0.515323</td>\n",
       "      <td>-0.117625</td>\n",
       "      <td>0.255849</td>\n",
       "      <td>-0.013784</td>\n",
       "    </tr>\n",
       "  </tbody>\n",
       "</table>\n",
       "</div>"
      ],
      "text/plain": [
       "                   A         B         C         D\n",
       "2022-03-25 -0.644857 -0.987596 -0.714965 -0.142812\n",
       "2022-03-24 -0.483649 -0.066489  0.443614 -0.085938\n",
       "2022-03-23  1.475891  0.314021 -0.731804 -0.738141\n",
       "2022-03-22  0.604471  0.920926  0.975100 -0.398424\n",
       "2022-03-21 -0.070382 -1.606999 -1.131948  0.763082\n",
       "2022-03-20 -0.157914 -1.135307  0.013720  0.355476\n",
       "2022-03-19 -0.515323 -0.117625  0.255849 -0.013784"
      ]
     },
     "execution_count": 123,
     "metadata": {},
     "output_type": "execute_result"
    }
   ],
   "source": [
    "df.sort_index(axis=0, ascending=False)"
   ]
  },
  {
   "cell_type": "code",
   "execution_count": 124,
   "metadata": {},
   "outputs": [
    {
     "data": {
      "text/html": [
       "<div>\n",
       "<style scoped>\n",
       "    .dataframe tbody tr th:only-of-type {\n",
       "        vertical-align: middle;\n",
       "    }\n",
       "\n",
       "    .dataframe tbody tr th {\n",
       "        vertical-align: top;\n",
       "    }\n",
       "\n",
       "    .dataframe thead th {\n",
       "        text-align: right;\n",
       "    }\n",
       "</style>\n",
       "<table border=\"1\" class=\"dataframe\">\n",
       "  <thead>\n",
       "    <tr style=\"text-align: right;\">\n",
       "      <th></th>\n",
       "      <th>D</th>\n",
       "      <th>C</th>\n",
       "      <th>B</th>\n",
       "      <th>A</th>\n",
       "    </tr>\n",
       "  </thead>\n",
       "  <tbody>\n",
       "    <tr>\n",
       "      <th>2022-03-19</th>\n",
       "      <td>-0.013784</td>\n",
       "      <td>0.255849</td>\n",
       "      <td>-0.117625</td>\n",
       "      <td>-0.515323</td>\n",
       "    </tr>\n",
       "    <tr>\n",
       "      <th>2022-03-20</th>\n",
       "      <td>0.355476</td>\n",
       "      <td>0.013720</td>\n",
       "      <td>-1.135307</td>\n",
       "      <td>-0.157914</td>\n",
       "    </tr>\n",
       "    <tr>\n",
       "      <th>2022-03-21</th>\n",
       "      <td>0.763082</td>\n",
       "      <td>-1.131948</td>\n",
       "      <td>-1.606999</td>\n",
       "      <td>-0.070382</td>\n",
       "    </tr>\n",
       "    <tr>\n",
       "      <th>2022-03-22</th>\n",
       "      <td>-0.398424</td>\n",
       "      <td>0.975100</td>\n",
       "      <td>0.920926</td>\n",
       "      <td>0.604471</td>\n",
       "    </tr>\n",
       "    <tr>\n",
       "      <th>2022-03-23</th>\n",
       "      <td>-0.738141</td>\n",
       "      <td>-0.731804</td>\n",
       "      <td>0.314021</td>\n",
       "      <td>1.475891</td>\n",
       "    </tr>\n",
       "    <tr>\n",
       "      <th>2022-03-24</th>\n",
       "      <td>-0.085938</td>\n",
       "      <td>0.443614</td>\n",
       "      <td>-0.066489</td>\n",
       "      <td>-0.483649</td>\n",
       "    </tr>\n",
       "    <tr>\n",
       "      <th>2022-03-25</th>\n",
       "      <td>-0.142812</td>\n",
       "      <td>-0.714965</td>\n",
       "      <td>-0.987596</td>\n",
       "      <td>-0.644857</td>\n",
       "    </tr>\n",
       "  </tbody>\n",
       "</table>\n",
       "</div>"
      ],
      "text/plain": [
       "                   D         C         B         A\n",
       "2022-03-19 -0.013784  0.255849 -0.117625 -0.515323\n",
       "2022-03-20  0.355476  0.013720 -1.135307 -0.157914\n",
       "2022-03-21  0.763082 -1.131948 -1.606999 -0.070382\n",
       "2022-03-22 -0.398424  0.975100  0.920926  0.604471\n",
       "2022-03-23 -0.738141 -0.731804  0.314021  1.475891\n",
       "2022-03-24 -0.085938  0.443614 -0.066489 -0.483649\n",
       "2022-03-25 -0.142812 -0.714965 -0.987596 -0.644857"
      ]
     },
     "execution_count": 124,
     "metadata": {},
     "output_type": "execute_result"
    }
   ],
   "source": [
    "df.sort_index(axis=1, ascending=False)\n"
   ]
  },
  {
   "cell_type": "markdown",
   "metadata": {},
   "source": [
    "Sorting by values."
   ]
  },
  {
   "cell_type": "code",
   "execution_count": 125,
   "metadata": {},
   "outputs": [
    {
     "data": {
      "text/html": [
       "<div>\n",
       "<style scoped>\n",
       "    .dataframe tbody tr th:only-of-type {\n",
       "        vertical-align: middle;\n",
       "    }\n",
       "\n",
       "    .dataframe tbody tr th {\n",
       "        vertical-align: top;\n",
       "    }\n",
       "\n",
       "    .dataframe thead th {\n",
       "        text-align: right;\n",
       "    }\n",
       "</style>\n",
       "<table border=\"1\" class=\"dataframe\">\n",
       "  <thead>\n",
       "    <tr style=\"text-align: right;\">\n",
       "      <th></th>\n",
       "      <th>A</th>\n",
       "      <th>B</th>\n",
       "      <th>C</th>\n",
       "      <th>D</th>\n",
       "    </tr>\n",
       "  </thead>\n",
       "  <tbody>\n",
       "    <tr>\n",
       "      <th>2022-03-21</th>\n",
       "      <td>-0.070382</td>\n",
       "      <td>-1.606999</td>\n",
       "      <td>-1.131948</td>\n",
       "      <td>0.763082</td>\n",
       "    </tr>\n",
       "    <tr>\n",
       "      <th>2022-03-20</th>\n",
       "      <td>-0.157914</td>\n",
       "      <td>-1.135307</td>\n",
       "      <td>0.013720</td>\n",
       "      <td>0.355476</td>\n",
       "    </tr>\n",
       "    <tr>\n",
       "      <th>2022-03-25</th>\n",
       "      <td>-0.644857</td>\n",
       "      <td>-0.987596</td>\n",
       "      <td>-0.714965</td>\n",
       "      <td>-0.142812</td>\n",
       "    </tr>\n",
       "    <tr>\n",
       "      <th>2022-03-19</th>\n",
       "      <td>-0.515323</td>\n",
       "      <td>-0.117625</td>\n",
       "      <td>0.255849</td>\n",
       "      <td>-0.013784</td>\n",
       "    </tr>\n",
       "    <tr>\n",
       "      <th>2022-03-24</th>\n",
       "      <td>-0.483649</td>\n",
       "      <td>-0.066489</td>\n",
       "      <td>0.443614</td>\n",
       "      <td>-0.085938</td>\n",
       "    </tr>\n",
       "    <tr>\n",
       "      <th>2022-03-23</th>\n",
       "      <td>1.475891</td>\n",
       "      <td>0.314021</td>\n",
       "      <td>-0.731804</td>\n",
       "      <td>-0.738141</td>\n",
       "    </tr>\n",
       "    <tr>\n",
       "      <th>2022-03-22</th>\n",
       "      <td>0.604471</td>\n",
       "      <td>0.920926</td>\n",
       "      <td>0.975100</td>\n",
       "      <td>-0.398424</td>\n",
       "    </tr>\n",
       "  </tbody>\n",
       "</table>\n",
       "</div>"
      ],
      "text/plain": [
       "                   A         B         C         D\n",
       "2022-03-21 -0.070382 -1.606999 -1.131948  0.763082\n",
       "2022-03-20 -0.157914 -1.135307  0.013720  0.355476\n",
       "2022-03-25 -0.644857 -0.987596 -0.714965 -0.142812\n",
       "2022-03-19 -0.515323 -0.117625  0.255849 -0.013784\n",
       "2022-03-24 -0.483649 -0.066489  0.443614 -0.085938\n",
       "2022-03-23  1.475891  0.314021 -0.731804 -0.738141\n",
       "2022-03-22  0.604471  0.920926  0.975100 -0.398424"
      ]
     },
     "execution_count": 125,
     "metadata": {},
     "output_type": "execute_result"
    }
   ],
   "source": [
    "df.sort_values(by=\"B\")"
   ]
  },
  {
   "cell_type": "markdown",
   "metadata": {},
   "source": [
    "## Selection"
   ]
  },
  {
   "cell_type": "markdown",
   "metadata": {},
   "source": [
    "### Getting"
   ]
  },
  {
   "cell_type": "markdown",
   "metadata": {},
   "source": [
    "Selecting a single column, which yeild a `Series`, equivalent to `df.A`."
   ]
  },
  {
   "cell_type": "code",
   "execution_count": 126,
   "metadata": {},
   "outputs": [
    {
     "name": "stdout",
     "output_type": "stream",
     "text": [
      "df.A\n",
      "2022-03-19   -0.515323\n",
      "2022-03-20   -0.157914\n",
      "2022-03-21   -0.070382\n",
      "2022-03-22    0.604471\n",
      "2022-03-23    1.475891\n",
      "2022-03-24   -0.483649\n",
      "2022-03-25   -0.644857\n",
      "Freq: D, Name: A, dtype: float64\n",
      "==============================\n",
      "df[\"A\"]\n",
      "2022-03-19   -0.515323\n",
      "2022-03-20   -0.157914\n",
      "2022-03-21   -0.070382\n",
      "2022-03-22    0.604471\n",
      "2022-03-23    1.475891\n",
      "2022-03-24   -0.483649\n",
      "2022-03-25   -0.644857\n",
      "Freq: D, Name: A, dtype: float64\n"
     ]
    }
   ],
   "source": [
    "print(\"df.A\", df.A, sep=\"\\n\")\n",
    "print(\"=\"*30)\n",
    "print(\"df[\\\"A\\\"]\", df[\"A\"], sep=\"\\n\")"
   ]
  },
  {
   "cell_type": "markdown",
   "metadata": {},
   "source": [
    "Selecting via `[]`, which slicing the rows."
   ]
  },
  {
   "cell_type": "code",
   "execution_count": 127,
   "metadata": {},
   "outputs": [
    {
     "data": {
      "text/html": [
       "<div>\n",
       "<style scoped>\n",
       "    .dataframe tbody tr th:only-of-type {\n",
       "        vertical-align: middle;\n",
       "    }\n",
       "\n",
       "    .dataframe tbody tr th {\n",
       "        vertical-align: top;\n",
       "    }\n",
       "\n",
       "    .dataframe thead th {\n",
       "        text-align: right;\n",
       "    }\n",
       "</style>\n",
       "<table border=\"1\" class=\"dataframe\">\n",
       "  <thead>\n",
       "    <tr style=\"text-align: right;\">\n",
       "      <th></th>\n",
       "      <th>A</th>\n",
       "      <th>B</th>\n",
       "      <th>C</th>\n",
       "      <th>D</th>\n",
       "    </tr>\n",
       "  </thead>\n",
       "  <tbody>\n",
       "    <tr>\n",
       "      <th>2022-03-19</th>\n",
       "      <td>-0.515323</td>\n",
       "      <td>-0.117625</td>\n",
       "      <td>0.255849</td>\n",
       "      <td>-0.013784</td>\n",
       "    </tr>\n",
       "    <tr>\n",
       "      <th>2022-03-20</th>\n",
       "      <td>-0.157914</td>\n",
       "      <td>-1.135307</td>\n",
       "      <td>0.013720</td>\n",
       "      <td>0.355476</td>\n",
       "    </tr>\n",
       "    <tr>\n",
       "      <th>2022-03-21</th>\n",
       "      <td>-0.070382</td>\n",
       "      <td>-1.606999</td>\n",
       "      <td>-1.131948</td>\n",
       "      <td>0.763082</td>\n",
       "    </tr>\n",
       "  </tbody>\n",
       "</table>\n",
       "</div>"
      ],
      "text/plain": [
       "                   A         B         C         D\n",
       "2022-03-19 -0.515323 -0.117625  0.255849 -0.013784\n",
       "2022-03-20 -0.157914 -1.135307  0.013720  0.355476\n",
       "2022-03-21 -0.070382 -1.606999 -1.131948  0.763082"
      ]
     },
     "execution_count": 127,
     "metadata": {},
     "output_type": "execute_result"
    }
   ],
   "source": [
    "df[0:3]"
   ]
  },
  {
   "cell_type": "code",
   "execution_count": 128,
   "metadata": {},
   "outputs": [
    {
     "data": {
      "text/html": [
       "<div>\n",
       "<style scoped>\n",
       "    .dataframe tbody tr th:only-of-type {\n",
       "        vertical-align: middle;\n",
       "    }\n",
       "\n",
       "    .dataframe tbody tr th {\n",
       "        vertical-align: top;\n",
       "    }\n",
       "\n",
       "    .dataframe thead th {\n",
       "        text-align: right;\n",
       "    }\n",
       "</style>\n",
       "<table border=\"1\" class=\"dataframe\">\n",
       "  <thead>\n",
       "    <tr style=\"text-align: right;\">\n",
       "      <th></th>\n",
       "      <th>A</th>\n",
       "      <th>B</th>\n",
       "      <th>C</th>\n",
       "      <th>D</th>\n",
       "    </tr>\n",
       "  </thead>\n",
       "  <tbody>\n",
       "    <tr>\n",
       "      <th>2022-03-19</th>\n",
       "      <td>-0.515323</td>\n",
       "      <td>-0.117625</td>\n",
       "      <td>0.255849</td>\n",
       "      <td>-0.013784</td>\n",
       "    </tr>\n",
       "    <tr>\n",
       "      <th>2022-03-20</th>\n",
       "      <td>-0.157914</td>\n",
       "      <td>-1.135307</td>\n",
       "      <td>0.013720</td>\n",
       "      <td>0.355476</td>\n",
       "    </tr>\n",
       "    <tr>\n",
       "      <th>2022-03-21</th>\n",
       "      <td>-0.070382</td>\n",
       "      <td>-1.606999</td>\n",
       "      <td>-1.131948</td>\n",
       "      <td>0.763082</td>\n",
       "    </tr>\n",
       "  </tbody>\n",
       "</table>\n",
       "</div>"
      ],
      "text/plain": [
       "                   A         B         C         D\n",
       "2022-03-19 -0.515323 -0.117625  0.255849 -0.013784\n",
       "2022-03-20 -0.157914 -1.135307  0.013720  0.355476\n",
       "2022-03-21 -0.070382 -1.606999 -1.131948  0.763082"
      ]
     },
     "execution_count": 128,
     "metadata": {},
     "output_type": "execute_result"
    }
   ],
   "source": [
    "df[\"20220319\":\"20220321\"]"
   ]
  },
  {
   "cell_type": "markdown",
   "metadata": {},
   "source": [
    "## Selection by label"
   ]
  },
  {
   "cell_type": "markdown",
   "metadata": {},
   "source": [
    "For getting a cross section using a label."
   ]
  },
  {
   "cell_type": "code",
   "execution_count": 129,
   "metadata": {},
   "outputs": [
    {
     "data": {
      "text/plain": [
       "A   -0.515323\n",
       "B   -0.117625\n",
       "C    0.255849\n",
       "D   -0.013784\n",
       "Name: 2022-03-19 00:00:00, dtype: float64"
      ]
     },
     "execution_count": 129,
     "metadata": {},
     "output_type": "execute_result"
    }
   ],
   "source": [
    "df.loc[dates[0]]"
   ]
  },
  {
   "cell_type": "markdown",
   "metadata": {},
   "source": [
    "Selecting on a multi-axis by label."
   ]
  },
  {
   "cell_type": "code",
   "execution_count": 130,
   "metadata": {},
   "outputs": [
    {
     "data": {
      "text/html": [
       "<div>\n",
       "<style scoped>\n",
       "    .dataframe tbody tr th:only-of-type {\n",
       "        vertical-align: middle;\n",
       "    }\n",
       "\n",
       "    .dataframe tbody tr th {\n",
       "        vertical-align: top;\n",
       "    }\n",
       "\n",
       "    .dataframe thead th {\n",
       "        text-align: right;\n",
       "    }\n",
       "</style>\n",
       "<table border=\"1\" class=\"dataframe\">\n",
       "  <thead>\n",
       "    <tr style=\"text-align: right;\">\n",
       "      <th></th>\n",
       "      <th>A</th>\n",
       "      <th>B</th>\n",
       "    </tr>\n",
       "  </thead>\n",
       "  <tbody>\n",
       "    <tr>\n",
       "      <th>2022-03-19</th>\n",
       "      <td>-0.515323</td>\n",
       "      <td>-0.117625</td>\n",
       "    </tr>\n",
       "    <tr>\n",
       "      <th>2022-03-20</th>\n",
       "      <td>-0.157914</td>\n",
       "      <td>-1.135307</td>\n",
       "    </tr>\n",
       "    <tr>\n",
       "      <th>2022-03-21</th>\n",
       "      <td>-0.070382</td>\n",
       "      <td>-1.606999</td>\n",
       "    </tr>\n",
       "    <tr>\n",
       "      <th>2022-03-22</th>\n",
       "      <td>0.604471</td>\n",
       "      <td>0.920926</td>\n",
       "    </tr>\n",
       "    <tr>\n",
       "      <th>2022-03-23</th>\n",
       "      <td>1.475891</td>\n",
       "      <td>0.314021</td>\n",
       "    </tr>\n",
       "    <tr>\n",
       "      <th>2022-03-24</th>\n",
       "      <td>-0.483649</td>\n",
       "      <td>-0.066489</td>\n",
       "    </tr>\n",
       "    <tr>\n",
       "      <th>2022-03-25</th>\n",
       "      <td>-0.644857</td>\n",
       "      <td>-0.987596</td>\n",
       "    </tr>\n",
       "  </tbody>\n",
       "</table>\n",
       "</div>"
      ],
      "text/plain": [
       "                   A         B\n",
       "2022-03-19 -0.515323 -0.117625\n",
       "2022-03-20 -0.157914 -1.135307\n",
       "2022-03-21 -0.070382 -1.606999\n",
       "2022-03-22  0.604471  0.920926\n",
       "2022-03-23  1.475891  0.314021\n",
       "2022-03-24 -0.483649 -0.066489\n",
       "2022-03-25 -0.644857 -0.987596"
      ]
     },
     "execution_count": 130,
     "metadata": {},
     "output_type": "execute_result"
    }
   ],
   "source": [
    "df.loc[:, [\"A\", \"B\"]]"
   ]
  },
  {
   "cell_type": "markdown",
   "metadata": {},
   "source": [
    "Showing label slicing, both endpoints are included."
   ]
  },
  {
   "cell_type": "code",
   "execution_count": 131,
   "metadata": {},
   "outputs": [
    {
     "data": {
      "text/html": [
       "<div>\n",
       "<style scoped>\n",
       "    .dataframe tbody tr th:only-of-type {\n",
       "        vertical-align: middle;\n",
       "    }\n",
       "\n",
       "    .dataframe tbody tr th {\n",
       "        vertical-align: top;\n",
       "    }\n",
       "\n",
       "    .dataframe thead th {\n",
       "        text-align: right;\n",
       "    }\n",
       "</style>\n",
       "<table border=\"1\" class=\"dataframe\">\n",
       "  <thead>\n",
       "    <tr style=\"text-align: right;\">\n",
       "      <th></th>\n",
       "      <th>C</th>\n",
       "      <th>D</th>\n",
       "    </tr>\n",
       "  </thead>\n",
       "  <tbody>\n",
       "    <tr>\n",
       "      <th>2022-03-19</th>\n",
       "      <td>0.255849</td>\n",
       "      <td>-0.013784</td>\n",
       "    </tr>\n",
       "    <tr>\n",
       "      <th>2022-03-20</th>\n",
       "      <td>0.013720</td>\n",
       "      <td>0.355476</td>\n",
       "    </tr>\n",
       "    <tr>\n",
       "      <th>2022-03-21</th>\n",
       "      <td>-1.131948</td>\n",
       "      <td>0.763082</td>\n",
       "    </tr>\n",
       "  </tbody>\n",
       "</table>\n",
       "</div>"
      ],
      "text/plain": [
       "                   C         D\n",
       "2022-03-19  0.255849 -0.013784\n",
       "2022-03-20  0.013720  0.355476\n",
       "2022-03-21 -1.131948  0.763082"
      ]
     },
     "execution_count": 131,
     "metadata": {},
     "output_type": "execute_result"
    }
   ],
   "source": [
    "df.loc[\"20220319\":\"20220321\", [\"C\", \"D\"]]"
   ]
  },
  {
   "cell_type": "markdown",
   "metadata": {},
   "source": [
    "Reduction in the dimensions of returned object."
   ]
  },
  {
   "cell_type": "code",
   "execution_count": 132,
   "metadata": {},
   "outputs": [
    {
     "data": {
      "text/plain": [
       "B   -0.066489\n",
       "C    0.443614\n",
       "Name: 2022-03-24 00:00:00, dtype: float64"
      ]
     },
     "execution_count": 132,
     "metadata": {},
     "output_type": "execute_result"
    }
   ],
   "source": [
    "df.loc[\"20220324\", [\"B\", \"C\"]]"
   ]
  },
  {
   "cell_type": "markdown",
   "metadata": {},
   "source": [
    "For getting a scalar value."
   ]
  },
  {
   "cell_type": "code",
   "execution_count": 133,
   "metadata": {},
   "outputs": [
    {
     "data": {
      "text/plain": [
       "-0.1579137678823654"
      ]
     },
     "execution_count": 133,
     "metadata": {},
     "output_type": "execute_result"
    }
   ],
   "source": [
    "df.loc[dates[1], \"A\"]"
   ]
  },
  {
   "cell_type": "markdown",
   "metadata": {},
   "source": [
    "For getting fast access to a scalar (equivalent to the prior method)."
   ]
  },
  {
   "cell_type": "code",
   "execution_count": 134,
   "metadata": {},
   "outputs": [
    {
     "data": {
      "text/plain": [
       "-0.1579137678823654"
      ]
     },
     "execution_count": 134,
     "metadata": {},
     "output_type": "execute_result"
    }
   ],
   "source": [
    "df.at[dates[1], \"A\"]"
   ]
  },
  {
   "cell_type": "markdown",
   "metadata": {},
   "source": [
    "## Selection by position"
   ]
  },
  {
   "cell_type": "markdown",
   "metadata": {},
   "source": [
    "Select via the position of the passed integers."
   ]
  },
  {
   "cell_type": "code",
   "execution_count": 135,
   "metadata": {},
   "outputs": [
    {
     "data": {
      "text/plain": [
       "A    0.604471\n",
       "B    0.920926\n",
       "C    0.975100\n",
       "D   -0.398424\n",
       "Name: 2022-03-22 00:00:00, dtype: float64"
      ]
     },
     "execution_count": 135,
     "metadata": {},
     "output_type": "execute_result"
    }
   ],
   "source": [
    "df.iloc[3]\n",
    "# equivalent to df.loc[dates[3]]"
   ]
  },
  {
   "cell_type": "markdown",
   "metadata": {},
   "source": [
    "By integer slices, acting similar to `Numpy/Python`."
   ]
  },
  {
   "cell_type": "code",
   "execution_count": 136,
   "metadata": {},
   "outputs": [
    {
     "data": {
      "text/html": [
       "<div>\n",
       "<style scoped>\n",
       "    .dataframe tbody tr th:only-of-type {\n",
       "        vertical-align: middle;\n",
       "    }\n",
       "\n",
       "    .dataframe tbody tr th {\n",
       "        vertical-align: top;\n",
       "    }\n",
       "\n",
       "    .dataframe thead th {\n",
       "        text-align: right;\n",
       "    }\n",
       "</style>\n",
       "<table border=\"1\" class=\"dataframe\">\n",
       "  <thead>\n",
       "    <tr style=\"text-align: right;\">\n",
       "      <th></th>\n",
       "      <th>A</th>\n",
       "      <th>B</th>\n",
       "    </tr>\n",
       "  </thead>\n",
       "  <tbody>\n",
       "    <tr>\n",
       "      <th>2022-03-22</th>\n",
       "      <td>0.604471</td>\n",
       "      <td>0.920926</td>\n",
       "    </tr>\n",
       "    <tr>\n",
       "      <th>2022-03-23</th>\n",
       "      <td>1.475891</td>\n",
       "      <td>0.314021</td>\n",
       "    </tr>\n",
       "  </tbody>\n",
       "</table>\n",
       "</div>"
      ],
      "text/plain": [
       "                   A         B\n",
       "2022-03-22  0.604471  0.920926\n",
       "2022-03-23  1.475891  0.314021"
      ]
     },
     "execution_count": 136,
     "metadata": {},
     "output_type": "execute_result"
    }
   ],
   "source": [
    "df.iloc[3:5, 0:2]\n",
    "# equivalent to df.loc[\"20220322\":\"20220323\", [\"A\", \"B\"]]"
   ]
  },
  {
   "cell_type": "markdown",
   "metadata": {},
   "source": [
    "By list of integer position locations, similar to the `Numpy/Python` style."
   ]
  },
  {
   "cell_type": "code",
   "execution_count": 137,
   "metadata": {},
   "outputs": [
    {
     "data": {
      "text/html": [
       "<div>\n",
       "<style scoped>\n",
       "    .dataframe tbody tr th:only-of-type {\n",
       "        vertical-align: middle;\n",
       "    }\n",
       "\n",
       "    .dataframe tbody tr th {\n",
       "        vertical-align: top;\n",
       "    }\n",
       "\n",
       "    .dataframe thead th {\n",
       "        text-align: right;\n",
       "    }\n",
       "</style>\n",
       "<table border=\"1\" class=\"dataframe\">\n",
       "  <thead>\n",
       "    <tr style=\"text-align: right;\">\n",
       "      <th></th>\n",
       "      <th>A</th>\n",
       "      <th>C</th>\n",
       "    </tr>\n",
       "  </thead>\n",
       "  <tbody>\n",
       "    <tr>\n",
       "      <th>2022-03-20</th>\n",
       "      <td>-0.157914</td>\n",
       "      <td>0.013720</td>\n",
       "    </tr>\n",
       "    <tr>\n",
       "      <th>2022-03-21</th>\n",
       "      <td>-0.070382</td>\n",
       "      <td>-1.131948</td>\n",
       "    </tr>\n",
       "    <tr>\n",
       "      <th>2022-03-23</th>\n",
       "      <td>1.475891</td>\n",
       "      <td>-0.731804</td>\n",
       "    </tr>\n",
       "  </tbody>\n",
       "</table>\n",
       "</div>"
      ],
      "text/plain": [
       "                   A         C\n",
       "2022-03-20 -0.157914  0.013720\n",
       "2022-03-21 -0.070382 -1.131948\n",
       "2022-03-23  1.475891 -0.731804"
      ]
     },
     "execution_count": 137,
     "metadata": {},
     "output_type": "execute_result"
    }
   ],
   "source": [
    "df.iloc[[1, 2, 4], [0, 2]]\n",
    "# equivalent to df.loc[\"20220320\":\"20220323\", [\"B\", \"C\"]]"
   ]
  },
  {
   "cell_type": "markdown",
   "metadata": {},
   "source": [
    "For slicing rows explicitly."
   ]
  },
  {
   "cell_type": "code",
   "execution_count": 138,
   "metadata": {},
   "outputs": [
    {
     "data": {
      "text/html": [
       "<div>\n",
       "<style scoped>\n",
       "    .dataframe tbody tr th:only-of-type {\n",
       "        vertical-align: middle;\n",
       "    }\n",
       "\n",
       "    .dataframe tbody tr th {\n",
       "        vertical-align: top;\n",
       "    }\n",
       "\n",
       "    .dataframe thead th {\n",
       "        text-align: right;\n",
       "    }\n",
       "</style>\n",
       "<table border=\"1\" class=\"dataframe\">\n",
       "  <thead>\n",
       "    <tr style=\"text-align: right;\">\n",
       "      <th></th>\n",
       "      <th>A</th>\n",
       "      <th>B</th>\n",
       "      <th>C</th>\n",
       "      <th>D</th>\n",
       "    </tr>\n",
       "  </thead>\n",
       "  <tbody>\n",
       "    <tr>\n",
       "      <th>2022-03-20</th>\n",
       "      <td>-0.157914</td>\n",
       "      <td>-1.135307</td>\n",
       "      <td>0.013720</td>\n",
       "      <td>0.355476</td>\n",
       "    </tr>\n",
       "    <tr>\n",
       "      <th>2022-03-21</th>\n",
       "      <td>-0.070382</td>\n",
       "      <td>-1.606999</td>\n",
       "      <td>-1.131948</td>\n",
       "      <td>0.763082</td>\n",
       "    </tr>\n",
       "  </tbody>\n",
       "</table>\n",
       "</div>"
      ],
      "text/plain": [
       "                   A         B         C         D\n",
       "2022-03-20 -0.157914 -1.135307  0.013720  0.355476\n",
       "2022-03-21 -0.070382 -1.606999 -1.131948  0.763082"
      ]
     },
     "execution_count": 138,
     "metadata": {},
     "output_type": "execute_result"
    }
   ],
   "source": [
    "df.iloc[1:3, :]"
   ]
  },
  {
   "cell_type": "markdown",
   "metadata": {},
   "source": [
    "For slicing columns explicitly."
   ]
  },
  {
   "cell_type": "code",
   "execution_count": 139,
   "metadata": {},
   "outputs": [
    {
     "data": {
      "text/html": [
       "<div>\n",
       "<style scoped>\n",
       "    .dataframe tbody tr th:only-of-type {\n",
       "        vertical-align: middle;\n",
       "    }\n",
       "\n",
       "    .dataframe tbody tr th {\n",
       "        vertical-align: top;\n",
       "    }\n",
       "\n",
       "    .dataframe thead th {\n",
       "        text-align: right;\n",
       "    }\n",
       "</style>\n",
       "<table border=\"1\" class=\"dataframe\">\n",
       "  <thead>\n",
       "    <tr style=\"text-align: right;\">\n",
       "      <th></th>\n",
       "      <th>B</th>\n",
       "      <th>C</th>\n",
       "    </tr>\n",
       "  </thead>\n",
       "  <tbody>\n",
       "    <tr>\n",
       "      <th>2022-03-19</th>\n",
       "      <td>-0.117625</td>\n",
       "      <td>0.255849</td>\n",
       "    </tr>\n",
       "    <tr>\n",
       "      <th>2022-03-20</th>\n",
       "      <td>-1.135307</td>\n",
       "      <td>0.013720</td>\n",
       "    </tr>\n",
       "    <tr>\n",
       "      <th>2022-03-21</th>\n",
       "      <td>-1.606999</td>\n",
       "      <td>-1.131948</td>\n",
       "    </tr>\n",
       "    <tr>\n",
       "      <th>2022-03-22</th>\n",
       "      <td>0.920926</td>\n",
       "      <td>0.975100</td>\n",
       "    </tr>\n",
       "    <tr>\n",
       "      <th>2022-03-23</th>\n",
       "      <td>0.314021</td>\n",
       "      <td>-0.731804</td>\n",
       "    </tr>\n",
       "    <tr>\n",
       "      <th>2022-03-24</th>\n",
       "      <td>-0.066489</td>\n",
       "      <td>0.443614</td>\n",
       "    </tr>\n",
       "    <tr>\n",
       "      <th>2022-03-25</th>\n",
       "      <td>-0.987596</td>\n",
       "      <td>-0.714965</td>\n",
       "    </tr>\n",
       "  </tbody>\n",
       "</table>\n",
       "</div>"
      ],
      "text/plain": [
       "                   B         C\n",
       "2022-03-19 -0.117625  0.255849\n",
       "2022-03-20 -1.135307  0.013720\n",
       "2022-03-21 -1.606999 -1.131948\n",
       "2022-03-22  0.920926  0.975100\n",
       "2022-03-23  0.314021 -0.731804\n",
       "2022-03-24 -0.066489  0.443614\n",
       "2022-03-25 -0.987596 -0.714965"
      ]
     },
     "execution_count": 139,
     "metadata": {},
     "output_type": "execute_result"
    }
   ],
   "source": [
    "df.iloc[:, 1:3]"
   ]
  },
  {
   "cell_type": "markdown",
   "metadata": {},
   "source": [
    "For getting a value explicitly."
   ]
  },
  {
   "cell_type": "code",
   "execution_count": 140,
   "metadata": {},
   "outputs": [
    {
     "data": {
      "text/plain": [
       "-1.1353068476541337"
      ]
     },
     "execution_count": 140,
     "metadata": {},
     "output_type": "execute_result"
    }
   ],
   "source": [
    "df.iloc[1, 1]"
   ]
  },
  {
   "cell_type": "markdown",
   "metadata": {},
   "source": [
    "For getting fast access to a scalar (equivalent to the prior method)."
   ]
  },
  {
   "cell_type": "code",
   "execution_count": 141,
   "metadata": {},
   "outputs": [
    {
     "data": {
      "text/plain": [
       "-1.1353068476541337"
      ]
     },
     "execution_count": 141,
     "metadata": {},
     "output_type": "execute_result"
    }
   ],
   "source": [
    "df.iat[1, 1]"
   ]
  },
  {
   "cell_type": "markdown",
   "metadata": {},
   "source": [
    "## Boolean indexing"
   ]
  },
  {
   "cell_type": "markdown",
   "metadata": {},
   "source": [
    "Using a single column's values to select data."
   ]
  },
  {
   "cell_type": "code",
   "execution_count": 142,
   "metadata": {},
   "outputs": [
    {
     "data": {
      "text/html": [
       "<div>\n",
       "<style scoped>\n",
       "    .dataframe tbody tr th:only-of-type {\n",
       "        vertical-align: middle;\n",
       "    }\n",
       "\n",
       "    .dataframe tbody tr th {\n",
       "        vertical-align: top;\n",
       "    }\n",
       "\n",
       "    .dataframe thead th {\n",
       "        text-align: right;\n",
       "    }\n",
       "</style>\n",
       "<table border=\"1\" class=\"dataframe\">\n",
       "  <thead>\n",
       "    <tr style=\"text-align: right;\">\n",
       "      <th></th>\n",
       "      <th>A</th>\n",
       "      <th>B</th>\n",
       "      <th>C</th>\n",
       "      <th>D</th>\n",
       "    </tr>\n",
       "  </thead>\n",
       "  <tbody>\n",
       "    <tr>\n",
       "      <th>2022-03-22</th>\n",
       "      <td>0.604471</td>\n",
       "      <td>0.920926</td>\n",
       "      <td>0.975100</td>\n",
       "      <td>-0.398424</td>\n",
       "    </tr>\n",
       "    <tr>\n",
       "      <th>2022-03-23</th>\n",
       "      <td>1.475891</td>\n",
       "      <td>0.314021</td>\n",
       "      <td>-0.731804</td>\n",
       "      <td>-0.738141</td>\n",
       "    </tr>\n",
       "  </tbody>\n",
       "</table>\n",
       "</div>"
      ],
      "text/plain": [
       "                   A         B         C         D\n",
       "2022-03-22  0.604471  0.920926  0.975100 -0.398424\n",
       "2022-03-23  1.475891  0.314021 -0.731804 -0.738141"
      ]
     },
     "execution_count": 142,
     "metadata": {},
     "output_type": "execute_result"
    }
   ],
   "source": [
    "df[df[\"A\"] > 0]"
   ]
  },
  {
   "cell_type": "markdown",
   "metadata": {},
   "source": [
    "Selecting values from a **DataFrame** where a boolean condition is met."
   ]
  },
  {
   "cell_type": "code",
   "execution_count": 143,
   "metadata": {},
   "outputs": [
    {
     "data": {
      "text/html": [
       "<div>\n",
       "<style scoped>\n",
       "    .dataframe tbody tr th:only-of-type {\n",
       "        vertical-align: middle;\n",
       "    }\n",
       "\n",
       "    .dataframe tbody tr th {\n",
       "        vertical-align: top;\n",
       "    }\n",
       "\n",
       "    .dataframe thead th {\n",
       "        text-align: right;\n",
       "    }\n",
       "</style>\n",
       "<table border=\"1\" class=\"dataframe\">\n",
       "  <thead>\n",
       "    <tr style=\"text-align: right;\">\n",
       "      <th></th>\n",
       "      <th>A</th>\n",
       "      <th>B</th>\n",
       "      <th>C</th>\n",
       "      <th>D</th>\n",
       "    </tr>\n",
       "  </thead>\n",
       "  <tbody>\n",
       "    <tr>\n",
       "      <th>2022-03-19</th>\n",
       "      <td>NaN</td>\n",
       "      <td>NaN</td>\n",
       "      <td>0.255849</td>\n",
       "      <td>NaN</td>\n",
       "    </tr>\n",
       "    <tr>\n",
       "      <th>2022-03-20</th>\n",
       "      <td>NaN</td>\n",
       "      <td>NaN</td>\n",
       "      <td>0.013720</td>\n",
       "      <td>0.355476</td>\n",
       "    </tr>\n",
       "    <tr>\n",
       "      <th>2022-03-21</th>\n",
       "      <td>NaN</td>\n",
       "      <td>NaN</td>\n",
       "      <td>NaN</td>\n",
       "      <td>0.763082</td>\n",
       "    </tr>\n",
       "    <tr>\n",
       "      <th>2022-03-22</th>\n",
       "      <td>0.604471</td>\n",
       "      <td>0.920926</td>\n",
       "      <td>0.975100</td>\n",
       "      <td>NaN</td>\n",
       "    </tr>\n",
       "    <tr>\n",
       "      <th>2022-03-23</th>\n",
       "      <td>1.475891</td>\n",
       "      <td>0.314021</td>\n",
       "      <td>NaN</td>\n",
       "      <td>NaN</td>\n",
       "    </tr>\n",
       "    <tr>\n",
       "      <th>2022-03-24</th>\n",
       "      <td>NaN</td>\n",
       "      <td>NaN</td>\n",
       "      <td>0.443614</td>\n",
       "      <td>NaN</td>\n",
       "    </tr>\n",
       "    <tr>\n",
       "      <th>2022-03-25</th>\n",
       "      <td>NaN</td>\n",
       "      <td>NaN</td>\n",
       "      <td>NaN</td>\n",
       "      <td>NaN</td>\n",
       "    </tr>\n",
       "  </tbody>\n",
       "</table>\n",
       "</div>"
      ],
      "text/plain": [
       "                   A         B         C         D\n",
       "2022-03-19       NaN       NaN  0.255849       NaN\n",
       "2022-03-20       NaN       NaN  0.013720  0.355476\n",
       "2022-03-21       NaN       NaN       NaN  0.763082\n",
       "2022-03-22  0.604471  0.920926  0.975100       NaN\n",
       "2022-03-23  1.475891  0.314021       NaN       NaN\n",
       "2022-03-24       NaN       NaN  0.443614       NaN\n",
       "2022-03-25       NaN       NaN       NaN       NaN"
      ]
     },
     "execution_count": 143,
     "metadata": {},
     "output_type": "execute_result"
    }
   ],
   "source": [
    "df[df > 0]"
   ]
  },
  {
   "cell_type": "markdown",
   "metadata": {},
   "source": [
    "Using `isin()` method for filtering."
   ]
  },
  {
   "cell_type": "code",
   "execution_count": 144,
   "metadata": {},
   "outputs": [
    {
     "data": {
      "text/html": [
       "<div>\n",
       "<style scoped>\n",
       "    .dataframe tbody tr th:only-of-type {\n",
       "        vertical-align: middle;\n",
       "    }\n",
       "\n",
       "    .dataframe tbody tr th {\n",
       "        vertical-align: top;\n",
       "    }\n",
       "\n",
       "    .dataframe thead th {\n",
       "        text-align: right;\n",
       "    }\n",
       "</style>\n",
       "<table border=\"1\" class=\"dataframe\">\n",
       "  <thead>\n",
       "    <tr style=\"text-align: right;\">\n",
       "      <th></th>\n",
       "      <th>A</th>\n",
       "      <th>B</th>\n",
       "      <th>C</th>\n",
       "      <th>D</th>\n",
       "      <th>E</th>\n",
       "    </tr>\n",
       "  </thead>\n",
       "  <tbody>\n",
       "    <tr>\n",
       "      <th>2022-03-19</th>\n",
       "      <td>-0.515323</td>\n",
       "      <td>-0.117625</td>\n",
       "      <td>0.255849</td>\n",
       "      <td>-0.013784</td>\n",
       "      <td>one</td>\n",
       "    </tr>\n",
       "    <tr>\n",
       "      <th>2022-03-20</th>\n",
       "      <td>-0.157914</td>\n",
       "      <td>-1.135307</td>\n",
       "      <td>0.013720</td>\n",
       "      <td>0.355476</td>\n",
       "      <td>two</td>\n",
       "    </tr>\n",
       "    <tr>\n",
       "      <th>2022-03-21</th>\n",
       "      <td>-0.070382</td>\n",
       "      <td>-1.606999</td>\n",
       "      <td>-1.131948</td>\n",
       "      <td>0.763082</td>\n",
       "      <td>three</td>\n",
       "    </tr>\n",
       "    <tr>\n",
       "      <th>2022-03-22</th>\n",
       "      <td>0.604471</td>\n",
       "      <td>0.920926</td>\n",
       "      <td>0.975100</td>\n",
       "      <td>-0.398424</td>\n",
       "      <td>four</td>\n",
       "    </tr>\n",
       "    <tr>\n",
       "      <th>2022-03-23</th>\n",
       "      <td>1.475891</td>\n",
       "      <td>0.314021</td>\n",
       "      <td>-0.731804</td>\n",
       "      <td>-0.738141</td>\n",
       "      <td>five</td>\n",
       "    </tr>\n",
       "    <tr>\n",
       "      <th>2022-03-24</th>\n",
       "      <td>-0.483649</td>\n",
       "      <td>-0.066489</td>\n",
       "      <td>0.443614</td>\n",
       "      <td>-0.085938</td>\n",
       "      <td>six</td>\n",
       "    </tr>\n",
       "    <tr>\n",
       "      <th>2022-03-25</th>\n",
       "      <td>-0.644857</td>\n",
       "      <td>-0.987596</td>\n",
       "      <td>-0.714965</td>\n",
       "      <td>-0.142812</td>\n",
       "      <td>seven</td>\n",
       "    </tr>\n",
       "  </tbody>\n",
       "</table>\n",
       "</div>"
      ],
      "text/plain": [
       "                   A         B         C         D      E\n",
       "2022-03-19 -0.515323 -0.117625  0.255849 -0.013784    one\n",
       "2022-03-20 -0.157914 -1.135307  0.013720  0.355476    two\n",
       "2022-03-21 -0.070382 -1.606999 -1.131948  0.763082  three\n",
       "2022-03-22  0.604471  0.920926  0.975100 -0.398424   four\n",
       "2022-03-23  1.475891  0.314021 -0.731804 -0.738141   five\n",
       "2022-03-24 -0.483649 -0.066489  0.443614 -0.085938    six\n",
       "2022-03-25 -0.644857 -0.987596 -0.714965 -0.142812  seven"
      ]
     },
     "execution_count": 144,
     "metadata": {},
     "output_type": "execute_result"
    }
   ],
   "source": [
    "df_copy = df.copy()\n",
    "df_copy[\"E\"] = [\"one\", \"two\", \"three\", \"four\", \"five\", \"six\", \"seven\"]\n",
    "df_copy"
   ]
  },
  {
   "cell_type": "code",
   "execution_count": 145,
   "metadata": {},
   "outputs": [
    {
     "data": {
      "text/html": [
       "<div>\n",
       "<style scoped>\n",
       "    .dataframe tbody tr th:only-of-type {\n",
       "        vertical-align: middle;\n",
       "    }\n",
       "\n",
       "    .dataframe tbody tr th {\n",
       "        vertical-align: top;\n",
       "    }\n",
       "\n",
       "    .dataframe thead th {\n",
       "        text-align: right;\n",
       "    }\n",
       "</style>\n",
       "<table border=\"1\" class=\"dataframe\">\n",
       "  <thead>\n",
       "    <tr style=\"text-align: right;\">\n",
       "      <th></th>\n",
       "      <th>A</th>\n",
       "      <th>B</th>\n",
       "      <th>C</th>\n",
       "      <th>D</th>\n",
       "      <th>E</th>\n",
       "    </tr>\n",
       "  </thead>\n",
       "  <tbody>\n",
       "    <tr>\n",
       "      <th>2022-03-21</th>\n",
       "      <td>-0.070382</td>\n",
       "      <td>-1.606999</td>\n",
       "      <td>-1.131948</td>\n",
       "      <td>0.763082</td>\n",
       "      <td>three</td>\n",
       "    </tr>\n",
       "    <tr>\n",
       "      <th>2022-03-24</th>\n",
       "      <td>-0.483649</td>\n",
       "      <td>-0.066489</td>\n",
       "      <td>0.443614</td>\n",
       "      <td>-0.085938</td>\n",
       "      <td>six</td>\n",
       "    </tr>\n",
       "  </tbody>\n",
       "</table>\n",
       "</div>"
      ],
      "text/plain": [
       "                   A         B         C         D      E\n",
       "2022-03-21 -0.070382 -1.606999 -1.131948  0.763082  three\n",
       "2022-03-24 -0.483649 -0.066489  0.443614 -0.085938    six"
      ]
     },
     "execution_count": 145,
     "metadata": {},
     "output_type": "execute_result"
    }
   ],
   "source": [
    "df_copy[df_copy[\"E\"].isin([\"three\", \"six\"])]"
   ]
  },
  {
   "cell_type": "markdown",
   "metadata": {},
   "source": [
    "## Setting"
   ]
  },
  {
   "cell_type": "markdown",
   "metadata": {},
   "source": [
    "Setting a new column automatically aligns the data by the indexes."
   ]
  },
  {
   "cell_type": "code",
   "execution_count": 146,
   "metadata": {},
   "outputs": [
    {
     "data": {
      "text/plain": [
       "2022-03-19    1\n",
       "2022-03-20    2\n",
       "2022-03-21    3\n",
       "2022-03-22    4\n",
       "2022-03-23    5\n",
       "2022-03-24    6\n",
       "2022-03-25    7\n",
       "Freq: D, dtype: int64"
      ]
     },
     "execution_count": 146,
     "metadata": {},
     "output_type": "execute_result"
    }
   ],
   "source": [
    "s1 = pd.Series(list(range(1, 8)), index=pd.date_range(\"20220319\", periods=7))\n",
    "s1"
   ]
  },
  {
   "cell_type": "code",
   "execution_count": 147,
   "metadata": {},
   "outputs": [
    {
     "data": {
      "text/html": [
       "<div>\n",
       "<style scoped>\n",
       "    .dataframe tbody tr th:only-of-type {\n",
       "        vertical-align: middle;\n",
       "    }\n",
       "\n",
       "    .dataframe tbody tr th {\n",
       "        vertical-align: top;\n",
       "    }\n",
       "\n",
       "    .dataframe thead th {\n",
       "        text-align: right;\n",
       "    }\n",
       "</style>\n",
       "<table border=\"1\" class=\"dataframe\">\n",
       "  <thead>\n",
       "    <tr style=\"text-align: right;\">\n",
       "      <th></th>\n",
       "      <th>A</th>\n",
       "      <th>B</th>\n",
       "      <th>C</th>\n",
       "      <th>D</th>\n",
       "      <th>F</th>\n",
       "    </tr>\n",
       "  </thead>\n",
       "  <tbody>\n",
       "    <tr>\n",
       "      <th>2022-03-19</th>\n",
       "      <td>-0.515323</td>\n",
       "      <td>-0.117625</td>\n",
       "      <td>0.255849</td>\n",
       "      <td>-0.013784</td>\n",
       "      <td>1</td>\n",
       "    </tr>\n",
       "    <tr>\n",
       "      <th>2022-03-20</th>\n",
       "      <td>-0.157914</td>\n",
       "      <td>-1.135307</td>\n",
       "      <td>0.013720</td>\n",
       "      <td>0.355476</td>\n",
       "      <td>2</td>\n",
       "    </tr>\n",
       "    <tr>\n",
       "      <th>2022-03-21</th>\n",
       "      <td>-0.070382</td>\n",
       "      <td>-1.606999</td>\n",
       "      <td>-1.131948</td>\n",
       "      <td>0.763082</td>\n",
       "      <td>3</td>\n",
       "    </tr>\n",
       "    <tr>\n",
       "      <th>2022-03-22</th>\n",
       "      <td>0.604471</td>\n",
       "      <td>0.920926</td>\n",
       "      <td>0.975100</td>\n",
       "      <td>-0.398424</td>\n",
       "      <td>4</td>\n",
       "    </tr>\n",
       "    <tr>\n",
       "      <th>2022-03-23</th>\n",
       "      <td>1.475891</td>\n",
       "      <td>0.314021</td>\n",
       "      <td>-0.731804</td>\n",
       "      <td>-0.738141</td>\n",
       "      <td>5</td>\n",
       "    </tr>\n",
       "    <tr>\n",
       "      <th>2022-03-24</th>\n",
       "      <td>-0.483649</td>\n",
       "      <td>-0.066489</td>\n",
       "      <td>0.443614</td>\n",
       "      <td>-0.085938</td>\n",
       "      <td>6</td>\n",
       "    </tr>\n",
       "    <tr>\n",
       "      <th>2022-03-25</th>\n",
       "      <td>-0.644857</td>\n",
       "      <td>-0.987596</td>\n",
       "      <td>-0.714965</td>\n",
       "      <td>-0.142812</td>\n",
       "      <td>7</td>\n",
       "    </tr>\n",
       "  </tbody>\n",
       "</table>\n",
       "</div>"
      ],
      "text/plain": [
       "                   A         B         C         D  F\n",
       "2022-03-19 -0.515323 -0.117625  0.255849 -0.013784  1\n",
       "2022-03-20 -0.157914 -1.135307  0.013720  0.355476  2\n",
       "2022-03-21 -0.070382 -1.606999 -1.131948  0.763082  3\n",
       "2022-03-22  0.604471  0.920926  0.975100 -0.398424  4\n",
       "2022-03-23  1.475891  0.314021 -0.731804 -0.738141  5\n",
       "2022-03-24 -0.483649 -0.066489  0.443614 -0.085938  6\n",
       "2022-03-25 -0.644857 -0.987596 -0.714965 -0.142812  7"
      ]
     },
     "execution_count": 147,
     "metadata": {},
     "output_type": "execute_result"
    }
   ],
   "source": [
    "df[\"F\"] = s1\n",
    "df"
   ]
  },
  {
   "cell_type": "markdown",
   "metadata": {},
   "source": [
    "Setting values by label."
   ]
  },
  {
   "cell_type": "code",
   "execution_count": 148,
   "metadata": {},
   "outputs": [
    {
     "data": {
      "text/html": [
       "<div>\n",
       "<style scoped>\n",
       "    .dataframe tbody tr th:only-of-type {\n",
       "        vertical-align: middle;\n",
       "    }\n",
       "\n",
       "    .dataframe tbody tr th {\n",
       "        vertical-align: top;\n",
       "    }\n",
       "\n",
       "    .dataframe thead th {\n",
       "        text-align: right;\n",
       "    }\n",
       "</style>\n",
       "<table border=\"1\" class=\"dataframe\">\n",
       "  <thead>\n",
       "    <tr style=\"text-align: right;\">\n",
       "      <th></th>\n",
       "      <th>A</th>\n",
       "      <th>B</th>\n",
       "      <th>C</th>\n",
       "      <th>D</th>\n",
       "      <th>F</th>\n",
       "    </tr>\n",
       "  </thead>\n",
       "  <tbody>\n",
       "    <tr>\n",
       "      <th>2022-03-19</th>\n",
       "      <td>0.000000</td>\n",
       "      <td>-0.117625</td>\n",
       "      <td>0.255849</td>\n",
       "      <td>-0.013784</td>\n",
       "      <td>1</td>\n",
       "    </tr>\n",
       "    <tr>\n",
       "      <th>2022-03-20</th>\n",
       "      <td>-0.157914</td>\n",
       "      <td>-1.135307</td>\n",
       "      <td>0.013720</td>\n",
       "      <td>0.355476</td>\n",
       "      <td>2</td>\n",
       "    </tr>\n",
       "    <tr>\n",
       "      <th>2022-03-21</th>\n",
       "      <td>-0.070382</td>\n",
       "      <td>-1.606999</td>\n",
       "      <td>-1.131948</td>\n",
       "      <td>0.763082</td>\n",
       "      <td>3</td>\n",
       "    </tr>\n",
       "    <tr>\n",
       "      <th>2022-03-22</th>\n",
       "      <td>0.604471</td>\n",
       "      <td>0.920926</td>\n",
       "      <td>0.975100</td>\n",
       "      <td>-0.398424</td>\n",
       "      <td>4</td>\n",
       "    </tr>\n",
       "    <tr>\n",
       "      <th>2022-03-23</th>\n",
       "      <td>1.475891</td>\n",
       "      <td>0.314021</td>\n",
       "      <td>-0.731804</td>\n",
       "      <td>-0.738141</td>\n",
       "      <td>5</td>\n",
       "    </tr>\n",
       "    <tr>\n",
       "      <th>2022-03-24</th>\n",
       "      <td>-0.483649</td>\n",
       "      <td>-0.066489</td>\n",
       "      <td>0.443614</td>\n",
       "      <td>-0.085938</td>\n",
       "      <td>6</td>\n",
       "    </tr>\n",
       "    <tr>\n",
       "      <th>2022-03-25</th>\n",
       "      <td>-0.644857</td>\n",
       "      <td>-0.987596</td>\n",
       "      <td>-0.714965</td>\n",
       "      <td>-0.142812</td>\n",
       "      <td>7</td>\n",
       "    </tr>\n",
       "  </tbody>\n",
       "</table>\n",
       "</div>"
      ],
      "text/plain": [
       "                   A         B         C         D  F\n",
       "2022-03-19  0.000000 -0.117625  0.255849 -0.013784  1\n",
       "2022-03-20 -0.157914 -1.135307  0.013720  0.355476  2\n",
       "2022-03-21 -0.070382 -1.606999 -1.131948  0.763082  3\n",
       "2022-03-22  0.604471  0.920926  0.975100 -0.398424  4\n",
       "2022-03-23  1.475891  0.314021 -0.731804 -0.738141  5\n",
       "2022-03-24 -0.483649 -0.066489  0.443614 -0.085938  6\n",
       "2022-03-25 -0.644857 -0.987596 -0.714965 -0.142812  7"
      ]
     },
     "execution_count": 148,
     "metadata": {},
     "output_type": "execute_result"
    }
   ],
   "source": [
    "df.at[dates[0], \"A\"] = 0\n",
    "df"
   ]
  },
  {
   "cell_type": "markdown",
   "metadata": {},
   "source": [
    "Setting values by position."
   ]
  },
  {
   "cell_type": "code",
   "execution_count": 149,
   "metadata": {},
   "outputs": [
    {
     "data": {
      "text/html": [
       "<div>\n",
       "<style scoped>\n",
       "    .dataframe tbody tr th:only-of-type {\n",
       "        vertical-align: middle;\n",
       "    }\n",
       "\n",
       "    .dataframe tbody tr th {\n",
       "        vertical-align: top;\n",
       "    }\n",
       "\n",
       "    .dataframe thead th {\n",
       "        text-align: right;\n",
       "    }\n",
       "</style>\n",
       "<table border=\"1\" class=\"dataframe\">\n",
       "  <thead>\n",
       "    <tr style=\"text-align: right;\">\n",
       "      <th></th>\n",
       "      <th>A</th>\n",
       "      <th>B</th>\n",
       "      <th>C</th>\n",
       "      <th>D</th>\n",
       "      <th>F</th>\n",
       "    </tr>\n",
       "  </thead>\n",
       "  <tbody>\n",
       "    <tr>\n",
       "      <th>2022-03-19</th>\n",
       "      <td>0.000000</td>\n",
       "      <td>1.000000</td>\n",
       "      <td>0.255849</td>\n",
       "      <td>-0.013784</td>\n",
       "      <td>1</td>\n",
       "    </tr>\n",
       "    <tr>\n",
       "      <th>2022-03-20</th>\n",
       "      <td>-0.157914</td>\n",
       "      <td>-1.135307</td>\n",
       "      <td>0.013720</td>\n",
       "      <td>0.355476</td>\n",
       "      <td>2</td>\n",
       "    </tr>\n",
       "    <tr>\n",
       "      <th>2022-03-21</th>\n",
       "      <td>-0.070382</td>\n",
       "      <td>-1.606999</td>\n",
       "      <td>-1.131948</td>\n",
       "      <td>0.763082</td>\n",
       "      <td>3</td>\n",
       "    </tr>\n",
       "    <tr>\n",
       "      <th>2022-03-22</th>\n",
       "      <td>0.604471</td>\n",
       "      <td>0.920926</td>\n",
       "      <td>0.975100</td>\n",
       "      <td>-0.398424</td>\n",
       "      <td>4</td>\n",
       "    </tr>\n",
       "    <tr>\n",
       "      <th>2022-03-23</th>\n",
       "      <td>1.475891</td>\n",
       "      <td>0.314021</td>\n",
       "      <td>-0.731804</td>\n",
       "      <td>-0.738141</td>\n",
       "      <td>5</td>\n",
       "    </tr>\n",
       "    <tr>\n",
       "      <th>2022-03-24</th>\n",
       "      <td>-0.483649</td>\n",
       "      <td>-0.066489</td>\n",
       "      <td>0.443614</td>\n",
       "      <td>-0.085938</td>\n",
       "      <td>6</td>\n",
       "    </tr>\n",
       "    <tr>\n",
       "      <th>2022-03-25</th>\n",
       "      <td>-0.644857</td>\n",
       "      <td>-0.987596</td>\n",
       "      <td>-0.714965</td>\n",
       "      <td>-0.142812</td>\n",
       "      <td>7</td>\n",
       "    </tr>\n",
       "  </tbody>\n",
       "</table>\n",
       "</div>"
      ],
      "text/plain": [
       "                   A         B         C         D  F\n",
       "2022-03-19  0.000000  1.000000  0.255849 -0.013784  1\n",
       "2022-03-20 -0.157914 -1.135307  0.013720  0.355476  2\n",
       "2022-03-21 -0.070382 -1.606999 -1.131948  0.763082  3\n",
       "2022-03-22  0.604471  0.920926  0.975100 -0.398424  4\n",
       "2022-03-23  1.475891  0.314021 -0.731804 -0.738141  5\n",
       "2022-03-24 -0.483649 -0.066489  0.443614 -0.085938  6\n",
       "2022-03-25 -0.644857 -0.987596 -0.714965 -0.142812  7"
      ]
     },
     "execution_count": 149,
     "metadata": {},
     "output_type": "execute_result"
    }
   ],
   "source": [
    "df.iat[0, 1] = 1\n",
    "df"
   ]
  },
  {
   "cell_type": "markdown",
   "metadata": {},
   "source": [
    "Setting by assigning with a `Numpy` array"
   ]
  },
  {
   "cell_type": "code",
   "execution_count": 150,
   "metadata": {},
   "outputs": [
    {
     "data": {
      "text/html": [
       "<div>\n",
       "<style scoped>\n",
       "    .dataframe tbody tr th:only-of-type {\n",
       "        vertical-align: middle;\n",
       "    }\n",
       "\n",
       "    .dataframe tbody tr th {\n",
       "        vertical-align: top;\n",
       "    }\n",
       "\n",
       "    .dataframe thead th {\n",
       "        text-align: right;\n",
       "    }\n",
       "</style>\n",
       "<table border=\"1\" class=\"dataframe\">\n",
       "  <thead>\n",
       "    <tr style=\"text-align: right;\">\n",
       "      <th></th>\n",
       "      <th>A</th>\n",
       "      <th>B</th>\n",
       "      <th>C</th>\n",
       "      <th>D</th>\n",
       "      <th>F</th>\n",
       "    </tr>\n",
       "  </thead>\n",
       "  <tbody>\n",
       "    <tr>\n",
       "      <th>2022-03-19</th>\n",
       "      <td>0.000000</td>\n",
       "      <td>1.000000</td>\n",
       "      <td>0.255849</td>\n",
       "      <td>35</td>\n",
       "      <td>1</td>\n",
       "    </tr>\n",
       "    <tr>\n",
       "      <th>2022-03-20</th>\n",
       "      <td>-0.157914</td>\n",
       "      <td>-1.135307</td>\n",
       "      <td>0.013720</td>\n",
       "      <td>35</td>\n",
       "      <td>2</td>\n",
       "    </tr>\n",
       "    <tr>\n",
       "      <th>2022-03-21</th>\n",
       "      <td>-0.070382</td>\n",
       "      <td>-1.606999</td>\n",
       "      <td>-1.131948</td>\n",
       "      <td>35</td>\n",
       "      <td>3</td>\n",
       "    </tr>\n",
       "    <tr>\n",
       "      <th>2022-03-22</th>\n",
       "      <td>0.604471</td>\n",
       "      <td>0.920926</td>\n",
       "      <td>0.975100</td>\n",
       "      <td>35</td>\n",
       "      <td>4</td>\n",
       "    </tr>\n",
       "    <tr>\n",
       "      <th>2022-03-23</th>\n",
       "      <td>1.475891</td>\n",
       "      <td>0.314021</td>\n",
       "      <td>-0.731804</td>\n",
       "      <td>35</td>\n",
       "      <td>5</td>\n",
       "    </tr>\n",
       "    <tr>\n",
       "      <th>2022-03-24</th>\n",
       "      <td>-0.483649</td>\n",
       "      <td>-0.066489</td>\n",
       "      <td>0.443614</td>\n",
       "      <td>35</td>\n",
       "      <td>6</td>\n",
       "    </tr>\n",
       "    <tr>\n",
       "      <th>2022-03-25</th>\n",
       "      <td>-0.644857</td>\n",
       "      <td>-0.987596</td>\n",
       "      <td>-0.714965</td>\n",
       "      <td>35</td>\n",
       "      <td>7</td>\n",
       "    </tr>\n",
       "  </tbody>\n",
       "</table>\n",
       "</div>"
      ],
      "text/plain": [
       "                   A         B         C   D  F\n",
       "2022-03-19  0.000000  1.000000  0.255849  35  1\n",
       "2022-03-20 -0.157914 -1.135307  0.013720  35  2\n",
       "2022-03-21 -0.070382 -1.606999 -1.131948  35  3\n",
       "2022-03-22  0.604471  0.920926  0.975100  35  4\n",
       "2022-03-23  1.475891  0.314021 -0.731804  35  5\n",
       "2022-03-24 -0.483649 -0.066489  0.443614  35  6\n",
       "2022-03-25 -0.644857 -0.987596 -0.714965  35  7"
      ]
     },
     "execution_count": 150,
     "metadata": {},
     "output_type": "execute_result"
    }
   ],
   "source": [
    "df.loc[:, \"D\"] = np.array(5 * len(df))\n",
    "df"
   ]
  },
  {
   "cell_type": "markdown",
   "metadata": {},
   "source": [
    "## Missing data"
   ]
  },
  {
   "cell_type": "markdown",
   "metadata": {},
   "source": [
    "`Pandas` primarily uses the value `np.nan` to represent missing data. It is by default not included in computation.\n",
    "\n",
    "Reindexing allows you to change/add/delete the index on a sepecified axis. This returns a copy of data."
   ]
  },
  {
   "cell_type": "code",
   "execution_count": 151,
   "metadata": {},
   "outputs": [
    {
     "data": {
      "text/html": [
       "<div>\n",
       "<style scoped>\n",
       "    .dataframe tbody tr th:only-of-type {\n",
       "        vertical-align: middle;\n",
       "    }\n",
       "\n",
       "    .dataframe tbody tr th {\n",
       "        vertical-align: top;\n",
       "    }\n",
       "\n",
       "    .dataframe thead th {\n",
       "        text-align: right;\n",
       "    }\n",
       "</style>\n",
       "<table border=\"1\" class=\"dataframe\">\n",
       "  <thead>\n",
       "    <tr style=\"text-align: right;\">\n",
       "      <th></th>\n",
       "      <th>A</th>\n",
       "      <th>B</th>\n",
       "      <th>C</th>\n",
       "      <th>D</th>\n",
       "      <th>F</th>\n",
       "      <th>E</th>\n",
       "    </tr>\n",
       "  </thead>\n",
       "  <tbody>\n",
       "    <tr>\n",
       "      <th>2022-03-19</th>\n",
       "      <td>0.000000</td>\n",
       "      <td>1.000000</td>\n",
       "      <td>0.255849</td>\n",
       "      <td>35</td>\n",
       "      <td>1</td>\n",
       "      <td>1.0</td>\n",
       "    </tr>\n",
       "    <tr>\n",
       "      <th>2022-03-20</th>\n",
       "      <td>-0.157914</td>\n",
       "      <td>-1.135307</td>\n",
       "      <td>0.013720</td>\n",
       "      <td>35</td>\n",
       "      <td>2</td>\n",
       "      <td>1.0</td>\n",
       "    </tr>\n",
       "    <tr>\n",
       "      <th>2022-03-21</th>\n",
       "      <td>-0.070382</td>\n",
       "      <td>-1.606999</td>\n",
       "      <td>-1.131948</td>\n",
       "      <td>35</td>\n",
       "      <td>3</td>\n",
       "      <td>NaN</td>\n",
       "    </tr>\n",
       "    <tr>\n",
       "      <th>2022-03-22</th>\n",
       "      <td>0.604471</td>\n",
       "      <td>0.920926</td>\n",
       "      <td>0.975100</td>\n",
       "      <td>35</td>\n",
       "      <td>4</td>\n",
       "      <td>NaN</td>\n",
       "    </tr>\n",
       "  </tbody>\n",
       "</table>\n",
       "</div>"
      ],
      "text/plain": [
       "                   A         B         C   D  F    E\n",
       "2022-03-19  0.000000  1.000000  0.255849  35  1  1.0\n",
       "2022-03-20 -0.157914 -1.135307  0.013720  35  2  1.0\n",
       "2022-03-21 -0.070382 -1.606999 -1.131948  35  3  NaN\n",
       "2022-03-22  0.604471  0.920926  0.975100  35  4  NaN"
      ]
     },
     "execution_count": 151,
     "metadata": {},
     "output_type": "execute_result"
    }
   ],
   "source": [
    "df1 = df.reindex(index=dates[0:4], columns=list(df.columns) + [\"E\"])\n",
    "df1.loc[dates[0]:dates[1], \"E\"] = 1\n",
    "df1"
   ]
  },
  {
   "cell_type": "markdown",
   "metadata": {},
   "source": [
    "To drop any rows that have missing data."
   ]
  },
  {
   "cell_type": "code",
   "execution_count": 152,
   "metadata": {},
   "outputs": [
    {
     "data": {
      "text/html": [
       "<div>\n",
       "<style scoped>\n",
       "    .dataframe tbody tr th:only-of-type {\n",
       "        vertical-align: middle;\n",
       "    }\n",
       "\n",
       "    .dataframe tbody tr th {\n",
       "        vertical-align: top;\n",
       "    }\n",
       "\n",
       "    .dataframe thead th {\n",
       "        text-align: right;\n",
       "    }\n",
       "</style>\n",
       "<table border=\"1\" class=\"dataframe\">\n",
       "  <thead>\n",
       "    <tr style=\"text-align: right;\">\n",
       "      <th></th>\n",
       "      <th>A</th>\n",
       "      <th>B</th>\n",
       "      <th>C</th>\n",
       "      <th>D</th>\n",
       "      <th>F</th>\n",
       "      <th>E</th>\n",
       "    </tr>\n",
       "  </thead>\n",
       "  <tbody>\n",
       "    <tr>\n",
       "      <th>2022-03-19</th>\n",
       "      <td>0.000000</td>\n",
       "      <td>1.000000</td>\n",
       "      <td>0.255849</td>\n",
       "      <td>35</td>\n",
       "      <td>1</td>\n",
       "      <td>1.0</td>\n",
       "    </tr>\n",
       "    <tr>\n",
       "      <th>2022-03-20</th>\n",
       "      <td>-0.157914</td>\n",
       "      <td>-1.135307</td>\n",
       "      <td>0.013720</td>\n",
       "      <td>35</td>\n",
       "      <td>2</td>\n",
       "      <td>1.0</td>\n",
       "    </tr>\n",
       "  </tbody>\n",
       "</table>\n",
       "</div>"
      ],
      "text/plain": [
       "                   A         B         C   D  F    E\n",
       "2022-03-19  0.000000  1.000000  0.255849  35  1  1.0\n",
       "2022-03-20 -0.157914 -1.135307  0.013720  35  2  1.0"
      ]
     },
     "execution_count": 152,
     "metadata": {},
     "output_type": "execute_result"
    }
   ],
   "source": [
    "df1.dropna(how=\"any\")"
   ]
  },
  {
   "cell_type": "markdown",
   "metadata": {},
   "source": [
    "Filling missing data."
   ]
  },
  {
   "cell_type": "code",
   "execution_count": 153,
   "metadata": {},
   "outputs": [
    {
     "data": {
      "text/html": [
       "<div>\n",
       "<style scoped>\n",
       "    .dataframe tbody tr th:only-of-type {\n",
       "        vertical-align: middle;\n",
       "    }\n",
       "\n",
       "    .dataframe tbody tr th {\n",
       "        vertical-align: top;\n",
       "    }\n",
       "\n",
       "    .dataframe thead th {\n",
       "        text-align: right;\n",
       "    }\n",
       "</style>\n",
       "<table border=\"1\" class=\"dataframe\">\n",
       "  <thead>\n",
       "    <tr style=\"text-align: right;\">\n",
       "      <th></th>\n",
       "      <th>A</th>\n",
       "      <th>B</th>\n",
       "      <th>C</th>\n",
       "      <th>D</th>\n",
       "      <th>F</th>\n",
       "      <th>E</th>\n",
       "    </tr>\n",
       "  </thead>\n",
       "  <tbody>\n",
       "    <tr>\n",
       "      <th>2022-03-19</th>\n",
       "      <td>0.000000</td>\n",
       "      <td>1.000000</td>\n",
       "      <td>0.255849</td>\n",
       "      <td>35</td>\n",
       "      <td>1</td>\n",
       "      <td>1.0</td>\n",
       "    </tr>\n",
       "    <tr>\n",
       "      <th>2022-03-20</th>\n",
       "      <td>-0.157914</td>\n",
       "      <td>-1.135307</td>\n",
       "      <td>0.013720</td>\n",
       "      <td>35</td>\n",
       "      <td>2</td>\n",
       "      <td>1.0</td>\n",
       "    </tr>\n",
       "    <tr>\n",
       "      <th>2022-03-21</th>\n",
       "      <td>-0.070382</td>\n",
       "      <td>-1.606999</td>\n",
       "      <td>-1.131948</td>\n",
       "      <td>35</td>\n",
       "      <td>3</td>\n",
       "      <td>3.0</td>\n",
       "    </tr>\n",
       "    <tr>\n",
       "      <th>2022-03-22</th>\n",
       "      <td>0.604471</td>\n",
       "      <td>0.920926</td>\n",
       "      <td>0.975100</td>\n",
       "      <td>35</td>\n",
       "      <td>4</td>\n",
       "      <td>3.0</td>\n",
       "    </tr>\n",
       "  </tbody>\n",
       "</table>\n",
       "</div>"
      ],
      "text/plain": [
       "                   A         B         C   D  F    E\n",
       "2022-03-19  0.000000  1.000000  0.255849  35  1  1.0\n",
       "2022-03-20 -0.157914 -1.135307  0.013720  35  2  1.0\n",
       "2022-03-21 -0.070382 -1.606999 -1.131948  35  3  3.0\n",
       "2022-03-22  0.604471  0.920926  0.975100  35  4  3.0"
      ]
     },
     "execution_count": 153,
     "metadata": {},
     "output_type": "execute_result"
    }
   ],
   "source": [
    "df1.fillna(value=3)"
   ]
  },
  {
   "cell_type": "markdown",
   "metadata": {},
   "source": [
    "To get the boolean mask where values are `nan`."
   ]
  },
  {
   "cell_type": "code",
   "execution_count": 154,
   "metadata": {},
   "outputs": [
    {
     "data": {
      "text/html": [
       "<div>\n",
       "<style scoped>\n",
       "    .dataframe tbody tr th:only-of-type {\n",
       "        vertical-align: middle;\n",
       "    }\n",
       "\n",
       "    .dataframe tbody tr th {\n",
       "        vertical-align: top;\n",
       "    }\n",
       "\n",
       "    .dataframe thead th {\n",
       "        text-align: right;\n",
       "    }\n",
       "</style>\n",
       "<table border=\"1\" class=\"dataframe\">\n",
       "  <thead>\n",
       "    <tr style=\"text-align: right;\">\n",
       "      <th></th>\n",
       "      <th>A</th>\n",
       "      <th>B</th>\n",
       "      <th>C</th>\n",
       "      <th>D</th>\n",
       "      <th>F</th>\n",
       "      <th>E</th>\n",
       "    </tr>\n",
       "  </thead>\n",
       "  <tbody>\n",
       "    <tr>\n",
       "      <th>2022-03-19</th>\n",
       "      <td>False</td>\n",
       "      <td>False</td>\n",
       "      <td>False</td>\n",
       "      <td>False</td>\n",
       "      <td>False</td>\n",
       "      <td>False</td>\n",
       "    </tr>\n",
       "    <tr>\n",
       "      <th>2022-03-20</th>\n",
       "      <td>False</td>\n",
       "      <td>False</td>\n",
       "      <td>False</td>\n",
       "      <td>False</td>\n",
       "      <td>False</td>\n",
       "      <td>False</td>\n",
       "    </tr>\n",
       "    <tr>\n",
       "      <th>2022-03-21</th>\n",
       "      <td>False</td>\n",
       "      <td>False</td>\n",
       "      <td>False</td>\n",
       "      <td>False</td>\n",
       "      <td>False</td>\n",
       "      <td>True</td>\n",
       "    </tr>\n",
       "    <tr>\n",
       "      <th>2022-03-22</th>\n",
       "      <td>False</td>\n",
       "      <td>False</td>\n",
       "      <td>False</td>\n",
       "      <td>False</td>\n",
       "      <td>False</td>\n",
       "      <td>True</td>\n",
       "    </tr>\n",
       "  </tbody>\n",
       "</table>\n",
       "</div>"
      ],
      "text/plain": [
       "                A      B      C      D      F      E\n",
       "2022-03-19  False  False  False  False  False  False\n",
       "2022-03-20  False  False  False  False  False  False\n",
       "2022-03-21  False  False  False  False  False   True\n",
       "2022-03-22  False  False  False  False  False   True"
      ]
     },
     "execution_count": 154,
     "metadata": {},
     "output_type": "execute_result"
    }
   ],
   "source": [
    "pd.isna(df1)"
   ]
  },
  {
   "cell_type": "markdown",
   "metadata": {},
   "source": [
    "## Operations"
   ]
  },
  {
   "cell_type": "markdown",
   "metadata": {},
   "source": [
    "### Stats"
   ]
  },
  {
   "cell_type": "markdown",
   "metadata": {},
   "source": [
    "Operations in general *exclude* missing data.\n",
    "\n",
    "Perform a descriptive statistic."
   ]
  },
  {
   "cell_type": "code",
   "execution_count": 155,
   "metadata": {},
   "outputs": [
    {
     "data": {
      "text/plain": [
       "A     0.103366\n",
       "B    -0.223063\n",
       "C    -0.127205\n",
       "D    35.000000\n",
       "F     4.000000\n",
       "dtype: float64"
      ]
     },
     "execution_count": 155,
     "metadata": {},
     "output_type": "execute_result"
    }
   ],
   "source": [
    "df.mean()"
   ]
  },
  {
   "cell_type": "markdown",
   "metadata": {},
   "source": [
    "Same operation on the other axis."
   ]
  },
  {
   "cell_type": "code",
   "execution_count": 156,
   "metadata": {},
   "outputs": [
    {
     "data": {
      "text/plain": [
       "2022-03-19    7.451170\n",
       "2022-03-20    7.144100\n",
       "2022-03-21    7.038134\n",
       "2022-03-22    8.300099\n",
       "2022-03-23    8.211622\n",
       "2022-03-24    8.178695\n",
       "2022-03-25    7.930516\n",
       "Freq: D, dtype: float64"
      ]
     },
     "execution_count": 156,
     "metadata": {},
     "output_type": "execute_result"
    }
   ],
   "source": [
    "df.mean(1)"
   ]
  },
  {
   "cell_type": "markdown",
   "metadata": {},
   "source": [
    "Operation with objects that have different dismensionality and need alignment. In addition, `pandas` automatically broadcast along the specified dimension."
   ]
  },
  {
   "cell_type": "code",
   "execution_count": 157,
   "metadata": {},
   "outputs": [
    {
     "data": {
      "text/plain": [
       "2022-03-19    NaN\n",
       "2022-03-20    NaN\n",
       "2022-03-21    1.0\n",
       "2022-03-22    3.0\n",
       "2022-03-23    5.0\n",
       "2022-03-24    NaN\n",
       "2022-03-25    6.0\n",
       "Freq: D, dtype: float64"
      ]
     },
     "execution_count": 157,
     "metadata": {},
     "output_type": "execute_result"
    }
   ],
   "source": [
    "s = pd.Series([1, 3, 5, np.nan, 6, 8, 11], index=dates).shift(2)\n",
    "s"
   ]
  },
  {
   "cell_type": "code",
   "execution_count": 158,
   "metadata": {},
   "outputs": [
    {
     "data": {
      "text/html": [
       "<div>\n",
       "<style scoped>\n",
       "    .dataframe tbody tr th:only-of-type {\n",
       "        vertical-align: middle;\n",
       "    }\n",
       "\n",
       "    .dataframe tbody tr th {\n",
       "        vertical-align: top;\n",
       "    }\n",
       "\n",
       "    .dataframe thead th {\n",
       "        text-align: right;\n",
       "    }\n",
       "</style>\n",
       "<table border=\"1\" class=\"dataframe\">\n",
       "  <thead>\n",
       "    <tr style=\"text-align: right;\">\n",
       "      <th></th>\n",
       "      <th>A</th>\n",
       "      <th>B</th>\n",
       "      <th>C</th>\n",
       "      <th>D</th>\n",
       "      <th>F</th>\n",
       "    </tr>\n",
       "  </thead>\n",
       "  <tbody>\n",
       "    <tr>\n",
       "      <th>2022-03-19</th>\n",
       "      <td>NaN</td>\n",
       "      <td>NaN</td>\n",
       "      <td>NaN</td>\n",
       "      <td>NaN</td>\n",
       "      <td>NaN</td>\n",
       "    </tr>\n",
       "    <tr>\n",
       "      <th>2022-03-20</th>\n",
       "      <td>NaN</td>\n",
       "      <td>NaN</td>\n",
       "      <td>NaN</td>\n",
       "      <td>NaN</td>\n",
       "      <td>NaN</td>\n",
       "    </tr>\n",
       "    <tr>\n",
       "      <th>2022-03-21</th>\n",
       "      <td>-1.070382</td>\n",
       "      <td>-2.606999</td>\n",
       "      <td>-2.131948</td>\n",
       "      <td>34.0</td>\n",
       "      <td>2.0</td>\n",
       "    </tr>\n",
       "    <tr>\n",
       "      <th>2022-03-22</th>\n",
       "      <td>-2.395529</td>\n",
       "      <td>-2.079074</td>\n",
       "      <td>-2.024900</td>\n",
       "      <td>32.0</td>\n",
       "      <td>1.0</td>\n",
       "    </tr>\n",
       "    <tr>\n",
       "      <th>2022-03-23</th>\n",
       "      <td>-3.524109</td>\n",
       "      <td>-4.685979</td>\n",
       "      <td>-5.731804</td>\n",
       "      <td>30.0</td>\n",
       "      <td>0.0</td>\n",
       "    </tr>\n",
       "    <tr>\n",
       "      <th>2022-03-24</th>\n",
       "      <td>NaN</td>\n",
       "      <td>NaN</td>\n",
       "      <td>NaN</td>\n",
       "      <td>NaN</td>\n",
       "      <td>NaN</td>\n",
       "    </tr>\n",
       "    <tr>\n",
       "      <th>2022-03-25</th>\n",
       "      <td>-6.644857</td>\n",
       "      <td>-6.987596</td>\n",
       "      <td>-6.714965</td>\n",
       "      <td>29.0</td>\n",
       "      <td>1.0</td>\n",
       "    </tr>\n",
       "  </tbody>\n",
       "</table>\n",
       "</div>"
      ],
      "text/plain": [
       "                   A         B         C     D    F\n",
       "2022-03-19       NaN       NaN       NaN   NaN  NaN\n",
       "2022-03-20       NaN       NaN       NaN   NaN  NaN\n",
       "2022-03-21 -1.070382 -2.606999 -2.131948  34.0  2.0\n",
       "2022-03-22 -2.395529 -2.079074 -2.024900  32.0  1.0\n",
       "2022-03-23 -3.524109 -4.685979 -5.731804  30.0  0.0\n",
       "2022-03-24       NaN       NaN       NaN   NaN  NaN\n",
       "2022-03-25 -6.644857 -6.987596 -6.714965  29.0  1.0"
      ]
     },
     "execution_count": 158,
     "metadata": {},
     "output_type": "execute_result"
    }
   ],
   "source": [
    "df.sub(s, axis=\"index\")"
   ]
  },
  {
   "cell_type": "markdown",
   "metadata": {},
   "source": [
    "### Apply"
   ]
  },
  {
   "cell_type": "markdown",
   "metadata": {},
   "source": [
    "Applying functions to the data."
   ]
  },
  {
   "cell_type": "code",
   "execution_count": 159,
   "metadata": {},
   "outputs": [
    {
     "data": {
      "text/html": [
       "<div>\n",
       "<style scoped>\n",
       "    .dataframe tbody tr th:only-of-type {\n",
       "        vertical-align: middle;\n",
       "    }\n",
       "\n",
       "    .dataframe tbody tr th {\n",
       "        vertical-align: top;\n",
       "    }\n",
       "\n",
       "    .dataframe thead th {\n",
       "        text-align: right;\n",
       "    }\n",
       "</style>\n",
       "<table border=\"1\" class=\"dataframe\">\n",
       "  <thead>\n",
       "    <tr style=\"text-align: right;\">\n",
       "      <th></th>\n",
       "      <th>A</th>\n",
       "      <th>B</th>\n",
       "      <th>C</th>\n",
       "      <th>D</th>\n",
       "      <th>F</th>\n",
       "    </tr>\n",
       "  </thead>\n",
       "  <tbody>\n",
       "    <tr>\n",
       "      <th>2022-03-19</th>\n",
       "      <td>0.000000</td>\n",
       "      <td>1.000000</td>\n",
       "      <td>0.255849</td>\n",
       "      <td>35</td>\n",
       "      <td>1</td>\n",
       "    </tr>\n",
       "    <tr>\n",
       "      <th>2022-03-20</th>\n",
       "      <td>-0.157914</td>\n",
       "      <td>-1.135307</td>\n",
       "      <td>0.013720</td>\n",
       "      <td>35</td>\n",
       "      <td>2</td>\n",
       "    </tr>\n",
       "    <tr>\n",
       "      <th>2022-03-21</th>\n",
       "      <td>-0.070382</td>\n",
       "      <td>-1.606999</td>\n",
       "      <td>-1.131948</td>\n",
       "      <td>35</td>\n",
       "      <td>3</td>\n",
       "    </tr>\n",
       "    <tr>\n",
       "      <th>2022-03-22</th>\n",
       "      <td>0.604471</td>\n",
       "      <td>0.920926</td>\n",
       "      <td>0.975100</td>\n",
       "      <td>35</td>\n",
       "      <td>4</td>\n",
       "    </tr>\n",
       "    <tr>\n",
       "      <th>2022-03-23</th>\n",
       "      <td>1.475891</td>\n",
       "      <td>0.314021</td>\n",
       "      <td>-0.731804</td>\n",
       "      <td>35</td>\n",
       "      <td>5</td>\n",
       "    </tr>\n",
       "    <tr>\n",
       "      <th>2022-03-24</th>\n",
       "      <td>-0.483649</td>\n",
       "      <td>-0.066489</td>\n",
       "      <td>0.443614</td>\n",
       "      <td>35</td>\n",
       "      <td>6</td>\n",
       "    </tr>\n",
       "    <tr>\n",
       "      <th>2022-03-25</th>\n",
       "      <td>-0.644857</td>\n",
       "      <td>-0.987596</td>\n",
       "      <td>-0.714965</td>\n",
       "      <td>35</td>\n",
       "      <td>7</td>\n",
       "    </tr>\n",
       "  </tbody>\n",
       "</table>\n",
       "</div>"
      ],
      "text/plain": [
       "                   A         B         C   D  F\n",
       "2022-03-19  0.000000  1.000000  0.255849  35  1\n",
       "2022-03-20 -0.157914 -1.135307  0.013720  35  2\n",
       "2022-03-21 -0.070382 -1.606999 -1.131948  35  3\n",
       "2022-03-22  0.604471  0.920926  0.975100  35  4\n",
       "2022-03-23  1.475891  0.314021 -0.731804  35  5\n",
       "2022-03-24 -0.483649 -0.066489  0.443614  35  6\n",
       "2022-03-25 -0.644857 -0.987596 -0.714965  35  7"
      ]
     },
     "execution_count": 159,
     "metadata": {},
     "output_type": "execute_result"
    }
   ],
   "source": [
    "df"
   ]
  },
  {
   "cell_type": "code",
   "execution_count": 160,
   "metadata": {},
   "outputs": [
    {
     "data": {
      "text/html": [
       "<div>\n",
       "<style scoped>\n",
       "    .dataframe tbody tr th:only-of-type {\n",
       "        vertical-align: middle;\n",
       "    }\n",
       "\n",
       "    .dataframe tbody tr th {\n",
       "        vertical-align: top;\n",
       "    }\n",
       "\n",
       "    .dataframe thead th {\n",
       "        text-align: right;\n",
       "    }\n",
       "</style>\n",
       "<table border=\"1\" class=\"dataframe\">\n",
       "  <thead>\n",
       "    <tr style=\"text-align: right;\">\n",
       "      <th></th>\n",
       "      <th>A</th>\n",
       "      <th>B</th>\n",
       "      <th>C</th>\n",
       "      <th>D</th>\n",
       "      <th>F</th>\n",
       "    </tr>\n",
       "  </thead>\n",
       "  <tbody>\n",
       "    <tr>\n",
       "      <th>2022-03-19</th>\n",
       "      <td>0.000000</td>\n",
       "      <td>1.000000</td>\n",
       "      <td>0.255849</td>\n",
       "      <td>35</td>\n",
       "      <td>1</td>\n",
       "    </tr>\n",
       "    <tr>\n",
       "      <th>2022-03-20</th>\n",
       "      <td>-0.157914</td>\n",
       "      <td>-0.135307</td>\n",
       "      <td>0.269569</td>\n",
       "      <td>70</td>\n",
       "      <td>3</td>\n",
       "    </tr>\n",
       "    <tr>\n",
       "      <th>2022-03-21</th>\n",
       "      <td>-0.228295</td>\n",
       "      <td>-1.742305</td>\n",
       "      <td>-0.862379</td>\n",
       "      <td>105</td>\n",
       "      <td>6</td>\n",
       "    </tr>\n",
       "    <tr>\n",
       "      <th>2022-03-22</th>\n",
       "      <td>0.376176</td>\n",
       "      <td>-0.821380</td>\n",
       "      <td>0.112721</td>\n",
       "      <td>140</td>\n",
       "      <td>10</td>\n",
       "    </tr>\n",
       "    <tr>\n",
       "      <th>2022-03-23</th>\n",
       "      <td>1.852067</td>\n",
       "      <td>-0.507358</td>\n",
       "      <td>-0.619083</td>\n",
       "      <td>175</td>\n",
       "      <td>15</td>\n",
       "    </tr>\n",
       "    <tr>\n",
       "      <th>2022-03-24</th>\n",
       "      <td>1.368418</td>\n",
       "      <td>-0.573848</td>\n",
       "      <td>-0.175469</td>\n",
       "      <td>210</td>\n",
       "      <td>21</td>\n",
       "    </tr>\n",
       "    <tr>\n",
       "      <th>2022-03-25</th>\n",
       "      <td>0.723561</td>\n",
       "      <td>-1.561444</td>\n",
       "      <td>-0.890434</td>\n",
       "      <td>245</td>\n",
       "      <td>28</td>\n",
       "    </tr>\n",
       "  </tbody>\n",
       "</table>\n",
       "</div>"
      ],
      "text/plain": [
       "                   A         B         C    D   F\n",
       "2022-03-19  0.000000  1.000000  0.255849   35   1\n",
       "2022-03-20 -0.157914 -0.135307  0.269569   70   3\n",
       "2022-03-21 -0.228295 -1.742305 -0.862379  105   6\n",
       "2022-03-22  0.376176 -0.821380  0.112721  140  10\n",
       "2022-03-23  1.852067 -0.507358 -0.619083  175  15\n",
       "2022-03-24  1.368418 -0.573848 -0.175469  210  21\n",
       "2022-03-25  0.723561 -1.561444 -0.890434  245  28"
      ]
     },
     "execution_count": 160,
     "metadata": {},
     "output_type": "execute_result"
    }
   ],
   "source": [
    "df.apply(np.cumsum)\n",
    "# equivalent to df.apply(np.cumsum, axis=0)"
   ]
  },
  {
   "cell_type": "code",
   "execution_count": 161,
   "metadata": {},
   "outputs": [
    {
     "data": {
      "text/html": [
       "<div>\n",
       "<style scoped>\n",
       "    .dataframe tbody tr th:only-of-type {\n",
       "        vertical-align: middle;\n",
       "    }\n",
       "\n",
       "    .dataframe tbody tr th {\n",
       "        vertical-align: top;\n",
       "    }\n",
       "\n",
       "    .dataframe thead th {\n",
       "        text-align: right;\n",
       "    }\n",
       "</style>\n",
       "<table border=\"1\" class=\"dataframe\">\n",
       "  <thead>\n",
       "    <tr style=\"text-align: right;\">\n",
       "      <th></th>\n",
       "      <th>A</th>\n",
       "      <th>B</th>\n",
       "      <th>C</th>\n",
       "      <th>D</th>\n",
       "      <th>F</th>\n",
       "    </tr>\n",
       "  </thead>\n",
       "  <tbody>\n",
       "    <tr>\n",
       "      <th>2022-03-19</th>\n",
       "      <td>0.000000</td>\n",
       "      <td>1.000000</td>\n",
       "      <td>1.255849</td>\n",
       "      <td>36.255849</td>\n",
       "      <td>37.255849</td>\n",
       "    </tr>\n",
       "    <tr>\n",
       "      <th>2022-03-20</th>\n",
       "      <td>-0.157914</td>\n",
       "      <td>-1.293221</td>\n",
       "      <td>-1.279501</td>\n",
       "      <td>33.720499</td>\n",
       "      <td>35.720499</td>\n",
       "    </tr>\n",
       "    <tr>\n",
       "      <th>2022-03-21</th>\n",
       "      <td>-0.070382</td>\n",
       "      <td>-1.677380</td>\n",
       "      <td>-2.809328</td>\n",
       "      <td>32.190672</td>\n",
       "      <td>35.190672</td>\n",
       "    </tr>\n",
       "    <tr>\n",
       "      <th>2022-03-22</th>\n",
       "      <td>0.604471</td>\n",
       "      <td>1.525397</td>\n",
       "      <td>2.500497</td>\n",
       "      <td>37.500497</td>\n",
       "      <td>41.500497</td>\n",
       "    </tr>\n",
       "    <tr>\n",
       "      <th>2022-03-23</th>\n",
       "      <td>1.475891</td>\n",
       "      <td>1.789912</td>\n",
       "      <td>1.058108</td>\n",
       "      <td>36.058108</td>\n",
       "      <td>41.058108</td>\n",
       "    </tr>\n",
       "    <tr>\n",
       "      <th>2022-03-24</th>\n",
       "      <td>-0.483649</td>\n",
       "      <td>-0.550138</td>\n",
       "      <td>-0.106524</td>\n",
       "      <td>34.893476</td>\n",
       "      <td>40.893476</td>\n",
       "    </tr>\n",
       "    <tr>\n",
       "      <th>2022-03-25</th>\n",
       "      <td>-0.644857</td>\n",
       "      <td>-1.632453</td>\n",
       "      <td>-2.347418</td>\n",
       "      <td>32.652582</td>\n",
       "      <td>39.652582</td>\n",
       "    </tr>\n",
       "  </tbody>\n",
       "</table>\n",
       "</div>"
      ],
      "text/plain": [
       "                   A         B         C          D          F\n",
       "2022-03-19  0.000000  1.000000  1.255849  36.255849  37.255849\n",
       "2022-03-20 -0.157914 -1.293221 -1.279501  33.720499  35.720499\n",
       "2022-03-21 -0.070382 -1.677380 -2.809328  32.190672  35.190672\n",
       "2022-03-22  0.604471  1.525397  2.500497  37.500497  41.500497\n",
       "2022-03-23  1.475891  1.789912  1.058108  36.058108  41.058108\n",
       "2022-03-24 -0.483649 -0.550138 -0.106524  34.893476  40.893476\n",
       "2022-03-25 -0.644857 -1.632453 -2.347418  32.652582  39.652582"
      ]
     },
     "execution_count": 161,
     "metadata": {},
     "output_type": "execute_result"
    }
   ],
   "source": [
    "df.apply(np.cumsum, axis=1)"
   ]
  },
  {
   "cell_type": "code",
   "execution_count": 162,
   "metadata": {},
   "outputs": [
    {
     "data": {
      "text/plain": [
       "A    2.120748\n",
       "B    2.606999\n",
       "C    2.107048\n",
       "D    0.000000\n",
       "F    6.000000\n",
       "dtype: float64"
      ]
     },
     "execution_count": 162,
     "metadata": {},
     "output_type": "execute_result"
    }
   ],
   "source": [
    "df.apply(lambda x: x.max() - x.min())"
   ]
  },
  {
   "cell_type": "code",
   "execution_count": 163,
   "metadata": {},
   "outputs": [
    {
     "data": {
      "text/plain": [
       "2022-03-19    35.000000\n",
       "2022-03-20    36.135307\n",
       "2022-03-21    36.606999\n",
       "2022-03-22    34.395529\n",
       "2022-03-23    35.731804\n",
       "2022-03-24    35.483649\n",
       "2022-03-25    35.987596\n",
       "Freq: D, dtype: float64"
      ]
     },
     "execution_count": 163,
     "metadata": {},
     "output_type": "execute_result"
    }
   ],
   "source": [
    "df.apply(lambda x: x.max() - x.min(), axis=1)"
   ]
  },
  {
   "cell_type": "markdown",
   "metadata": {},
   "source": [
    "### Histogramming"
   ]
  },
  {
   "cell_type": "code",
   "execution_count": 164,
   "metadata": {},
   "outputs": [
    {
     "data": {
      "text/plain": [
       "0    2\n",
       "1    0\n",
       "2    0\n",
       "3    2\n",
       "4    0\n",
       "5    3\n",
       "6    2\n",
       "7    6\n",
       "8    1\n",
       "9    5\n",
       "dtype: int32"
      ]
     },
     "execution_count": 164,
     "metadata": {},
     "output_type": "execute_result"
    }
   ],
   "source": [
    "s = pd.Series(np.random.randint(0, 7, size=10))\n",
    "s"
   ]
  },
  {
   "cell_type": "code",
   "execution_count": 165,
   "metadata": {},
   "outputs": [
    {
     "data": {
      "text/plain": [
       "2    3\n",
       "0    3\n",
       "3    1\n",
       "6    1\n",
       "1    1\n",
       "5    1\n",
       "dtype: int64"
      ]
     },
     "execution_count": 165,
     "metadata": {},
     "output_type": "execute_result"
    }
   ],
   "source": [
    "s.value_counts()"
   ]
  },
  {
   "cell_type": "markdown",
   "metadata": {},
   "source": [
    "### String methods"
   ]
  },
  {
   "cell_type": "markdown",
   "metadata": {},
   "source": [
    "Series is equipped with a set of string processing methods in the `str` attribute that make it easy to operate on each element of the array, as in the code snippet below. Note that pattern-matching in `str` generally uses **regular expressions** by default (and in some cases always uses them)."
   ]
  },
  {
   "cell_type": "code",
   "execution_count": 166,
   "metadata": {},
   "outputs": [
    {
     "data": {
      "text/plain": [
       "0       A\n",
       "1       B\n",
       "2       C\n",
       "3       D\n",
       "4    Aaba\n",
       "5    Baca\n",
       "6     NaN\n",
       "7    CABA\n",
       "8     dog\n",
       "9     cat\n",
       "dtype: object"
      ]
     },
     "execution_count": 166,
     "metadata": {},
     "output_type": "execute_result"
    }
   ],
   "source": [
    "s = pd.Series([\"A\", \"B\", \"C\", \"D\", \"Aaba\", \"Baca\", np.nan, \"CABA\", \"dog\", \"cat\"])\n",
    "s"
   ]
  },
  {
   "cell_type": "code",
   "execution_count": 167,
   "metadata": {},
   "outputs": [
    {
     "data": {
      "text/plain": [
       "0       a\n",
       "1       b\n",
       "2       c\n",
       "3       d\n",
       "4    aaba\n",
       "5    baca\n",
       "6     NaN\n",
       "7    caba\n",
       "8     dog\n",
       "9     cat\n",
       "dtype: object"
      ]
     },
     "execution_count": 167,
     "metadata": {},
     "output_type": "execute_result"
    }
   ],
   "source": [
    "s.str.lower()"
   ]
  },
  {
   "cell_type": "markdown",
   "metadata": {},
   "source": [
    "### Merge"
   ]
  },
  {
   "cell_type": "markdown",
   "metadata": {},
   "source": [
    "#### Concat"
   ]
  },
  {
   "cell_type": "markdown",
   "metadata": {},
   "source": [
    "`Pandas` provides various facilities for easily combining together `Series` and `DataFrame` objects with various kinds of set logic for the indexes and relational algebra functionality in the case of join/merge-type operations.\n",
    "\n",
    "Concatenating pandas objects together with `concat()`."
   ]
  },
  {
   "cell_type": "code",
   "execution_count": 168,
   "metadata": {},
   "outputs": [
    {
     "data": {
      "text/html": [
       "<div>\n",
       "<style scoped>\n",
       "    .dataframe tbody tr th:only-of-type {\n",
       "        vertical-align: middle;\n",
       "    }\n",
       "\n",
       "    .dataframe tbody tr th {\n",
       "        vertical-align: top;\n",
       "    }\n",
       "\n",
       "    .dataframe thead th {\n",
       "        text-align: right;\n",
       "    }\n",
       "</style>\n",
       "<table border=\"1\" class=\"dataframe\">\n",
       "  <thead>\n",
       "    <tr style=\"text-align: right;\">\n",
       "      <th></th>\n",
       "      <th>0</th>\n",
       "      <th>1</th>\n",
       "      <th>2</th>\n",
       "      <th>3</th>\n",
       "    </tr>\n",
       "  </thead>\n",
       "  <tbody>\n",
       "    <tr>\n",
       "      <th>0</th>\n",
       "      <td>1.644019</td>\n",
       "      <td>0.795349</td>\n",
       "      <td>1.226617</td>\n",
       "      <td>-0.385275</td>\n",
       "    </tr>\n",
       "    <tr>\n",
       "      <th>1</th>\n",
       "      <td>0.851323</td>\n",
       "      <td>0.828381</td>\n",
       "      <td>0.969187</td>\n",
       "      <td>0.192276</td>\n",
       "    </tr>\n",
       "    <tr>\n",
       "      <th>2</th>\n",
       "      <td>-0.767620</td>\n",
       "      <td>0.212508</td>\n",
       "      <td>1.870244</td>\n",
       "      <td>1.098555</td>\n",
       "    </tr>\n",
       "    <tr>\n",
       "      <th>3</th>\n",
       "      <td>-0.440895</td>\n",
       "      <td>-0.450430</td>\n",
       "      <td>-0.081916</td>\n",
       "      <td>0.039626</td>\n",
       "    </tr>\n",
       "    <tr>\n",
       "      <th>4</th>\n",
       "      <td>0.268050</td>\n",
       "      <td>-1.239406</td>\n",
       "      <td>-0.494682</td>\n",
       "      <td>-2.390760</td>\n",
       "    </tr>\n",
       "    <tr>\n",
       "      <th>5</th>\n",
       "      <td>-0.268851</td>\n",
       "      <td>0.368686</td>\n",
       "      <td>-1.723679</td>\n",
       "      <td>-0.149556</td>\n",
       "    </tr>\n",
       "    <tr>\n",
       "      <th>6</th>\n",
       "      <td>0.312006</td>\n",
       "      <td>-0.680025</td>\n",
       "      <td>0.079487</td>\n",
       "      <td>-1.119986</td>\n",
       "    </tr>\n",
       "    <tr>\n",
       "      <th>7</th>\n",
       "      <td>-0.453321</td>\n",
       "      <td>0.389393</td>\n",
       "      <td>1.123806</td>\n",
       "      <td>0.285138</td>\n",
       "    </tr>\n",
       "    <tr>\n",
       "      <th>8</th>\n",
       "      <td>0.371533</td>\n",
       "      <td>-0.538792</td>\n",
       "      <td>-1.038189</td>\n",
       "      <td>-1.027961</td>\n",
       "    </tr>\n",
       "    <tr>\n",
       "      <th>9</th>\n",
       "      <td>0.363066</td>\n",
       "      <td>-1.177306</td>\n",
       "      <td>-0.739441</td>\n",
       "      <td>-0.793047</td>\n",
       "    </tr>\n",
       "  </tbody>\n",
       "</table>\n",
       "</div>"
      ],
      "text/plain": [
       "          0         1         2         3\n",
       "0  1.644019  0.795349  1.226617 -0.385275\n",
       "1  0.851323  0.828381  0.969187  0.192276\n",
       "2 -0.767620  0.212508  1.870244  1.098555\n",
       "3 -0.440895 -0.450430 -0.081916  0.039626\n",
       "4  0.268050 -1.239406 -0.494682 -2.390760\n",
       "5 -0.268851  0.368686 -1.723679 -0.149556\n",
       "6  0.312006 -0.680025  0.079487 -1.119986\n",
       "7 -0.453321  0.389393  1.123806  0.285138\n",
       "8  0.371533 -0.538792 -1.038189 -1.027961\n",
       "9  0.363066 -1.177306 -0.739441 -0.793047"
      ]
     },
     "execution_count": 168,
     "metadata": {},
     "output_type": "execute_result"
    }
   ],
   "source": [
    "df = pd.DataFrame(np.random.randn(10, 4))\n",
    "df"
   ]
  },
  {
   "cell_type": "code",
   "execution_count": 169,
   "metadata": {},
   "outputs": [
    {
     "data": {
      "text/plain": [
       "[          0         1         2         3\n",
       " 0  1.644019  0.795349  1.226617 -0.385275\n",
       " 1  0.851323  0.828381  0.969187  0.192276\n",
       " 2 -0.767620  0.212508  1.870244  1.098555,\n",
       "           0         1         2         3\n",
       " 3 -0.440895 -0.450430 -0.081916  0.039626\n",
       " 4  0.268050 -1.239406 -0.494682 -2.390760\n",
       " 5 -0.268851  0.368686 -1.723679 -0.149556\n",
       " 6  0.312006 -0.680025  0.079487 -1.119986,\n",
       "           0         1         2         3\n",
       " 7 -0.453321  0.389393  1.123806  0.285138\n",
       " 8  0.371533 -0.538792 -1.038189 -1.027961\n",
       " 9  0.363066 -1.177306 -0.739441 -0.793047]"
      ]
     },
     "execution_count": 169,
     "metadata": {},
     "output_type": "execute_result"
    }
   ],
   "source": [
    "# break it into pieces\n",
    "pieces = [df[:3], df[3:7], df[7:]]\n",
    "pieces"
   ]
  },
  {
   "cell_type": "code",
   "execution_count": 170,
   "metadata": {},
   "outputs": [
    {
     "data": {
      "text/html": [
       "<div>\n",
       "<style scoped>\n",
       "    .dataframe tbody tr th:only-of-type {\n",
       "        vertical-align: middle;\n",
       "    }\n",
       "\n",
       "    .dataframe tbody tr th {\n",
       "        vertical-align: top;\n",
       "    }\n",
       "\n",
       "    .dataframe thead th {\n",
       "        text-align: right;\n",
       "    }\n",
       "</style>\n",
       "<table border=\"1\" class=\"dataframe\">\n",
       "  <thead>\n",
       "    <tr style=\"text-align: right;\">\n",
       "      <th></th>\n",
       "      <th>0</th>\n",
       "      <th>1</th>\n",
       "      <th>2</th>\n",
       "      <th>3</th>\n",
       "    </tr>\n",
       "  </thead>\n",
       "  <tbody>\n",
       "    <tr>\n",
       "      <th>0</th>\n",
       "      <td>1.644019</td>\n",
       "      <td>0.795349</td>\n",
       "      <td>1.226617</td>\n",
       "      <td>-0.385275</td>\n",
       "    </tr>\n",
       "    <tr>\n",
       "      <th>1</th>\n",
       "      <td>0.851323</td>\n",
       "      <td>0.828381</td>\n",
       "      <td>0.969187</td>\n",
       "      <td>0.192276</td>\n",
       "    </tr>\n",
       "    <tr>\n",
       "      <th>2</th>\n",
       "      <td>-0.767620</td>\n",
       "      <td>0.212508</td>\n",
       "      <td>1.870244</td>\n",
       "      <td>1.098555</td>\n",
       "    </tr>\n",
       "    <tr>\n",
       "      <th>3</th>\n",
       "      <td>-0.440895</td>\n",
       "      <td>-0.450430</td>\n",
       "      <td>-0.081916</td>\n",
       "      <td>0.039626</td>\n",
       "    </tr>\n",
       "    <tr>\n",
       "      <th>4</th>\n",
       "      <td>0.268050</td>\n",
       "      <td>-1.239406</td>\n",
       "      <td>-0.494682</td>\n",
       "      <td>-2.390760</td>\n",
       "    </tr>\n",
       "    <tr>\n",
       "      <th>5</th>\n",
       "      <td>-0.268851</td>\n",
       "      <td>0.368686</td>\n",
       "      <td>-1.723679</td>\n",
       "      <td>-0.149556</td>\n",
       "    </tr>\n",
       "    <tr>\n",
       "      <th>6</th>\n",
       "      <td>0.312006</td>\n",
       "      <td>-0.680025</td>\n",
       "      <td>0.079487</td>\n",
       "      <td>-1.119986</td>\n",
       "    </tr>\n",
       "    <tr>\n",
       "      <th>7</th>\n",
       "      <td>-0.453321</td>\n",
       "      <td>0.389393</td>\n",
       "      <td>1.123806</td>\n",
       "      <td>0.285138</td>\n",
       "    </tr>\n",
       "    <tr>\n",
       "      <th>8</th>\n",
       "      <td>0.371533</td>\n",
       "      <td>-0.538792</td>\n",
       "      <td>-1.038189</td>\n",
       "      <td>-1.027961</td>\n",
       "    </tr>\n",
       "    <tr>\n",
       "      <th>9</th>\n",
       "      <td>0.363066</td>\n",
       "      <td>-1.177306</td>\n",
       "      <td>-0.739441</td>\n",
       "      <td>-0.793047</td>\n",
       "    </tr>\n",
       "  </tbody>\n",
       "</table>\n",
       "</div>"
      ],
      "text/plain": [
       "          0         1         2         3\n",
       "0  1.644019  0.795349  1.226617 -0.385275\n",
       "1  0.851323  0.828381  0.969187  0.192276\n",
       "2 -0.767620  0.212508  1.870244  1.098555\n",
       "3 -0.440895 -0.450430 -0.081916  0.039626\n",
       "4  0.268050 -1.239406 -0.494682 -2.390760\n",
       "5 -0.268851  0.368686 -1.723679 -0.149556\n",
       "6  0.312006 -0.680025  0.079487 -1.119986\n",
       "7 -0.453321  0.389393  1.123806  0.285138\n",
       "8  0.371533 -0.538792 -1.038189 -1.027961\n",
       "9  0.363066 -1.177306 -0.739441 -0.793047"
      ]
     },
     "execution_count": 170,
     "metadata": {},
     "output_type": "execute_result"
    }
   ],
   "source": [
    "pd.concat(pieces)"
   ]
  },
  {
   "cell_type": "markdown",
   "metadata": {},
   "source": [
    "> Adding a column to a `DataFrame` is relatively fast. However, adding a row requires a copy, and may be expensive. I recommend passing a pre-built list of records to the `DataFrame` constructor instead of building a `DataFrame` by iteratively appending records to it."
   ]
  },
  {
   "cell_type": "markdown",
   "metadata": {},
   "source": [
    "### Join"
   ]
  },
  {
   "cell_type": "markdown",
   "metadata": {},
   "source": [
    "SQL style merges."
   ]
  },
  {
   "cell_type": "code",
   "execution_count": 171,
   "metadata": {},
   "outputs": [],
   "source": [
    "left = pd.DataFrame(\n",
    "    {\n",
    "        \"keys\": [\"foo\", \"bar\"],\n",
    "        \"lval\": [1, 2]\n",
    "    }\n",
    ")\n",
    "right = pd.DataFrame(\n",
    "    {\n",
    "        \"keys\": [\"foo\", \"bar\"],\n",
    "        \"rval\": [4, 5]\n",
    "    }\n",
    ")"
   ]
  },
  {
   "cell_type": "code",
   "execution_count": 172,
   "metadata": {},
   "outputs": [
    {
     "data": {
      "text/html": [
       "<div>\n",
       "<style scoped>\n",
       "    .dataframe tbody tr th:only-of-type {\n",
       "        vertical-align: middle;\n",
       "    }\n",
       "\n",
       "    .dataframe tbody tr th {\n",
       "        vertical-align: top;\n",
       "    }\n",
       "\n",
       "    .dataframe thead th {\n",
       "        text-align: right;\n",
       "    }\n",
       "</style>\n",
       "<table border=\"1\" class=\"dataframe\">\n",
       "  <thead>\n",
       "    <tr style=\"text-align: right;\">\n",
       "      <th></th>\n",
       "      <th>keys</th>\n",
       "      <th>lval</th>\n",
       "    </tr>\n",
       "  </thead>\n",
       "  <tbody>\n",
       "    <tr>\n",
       "      <th>0</th>\n",
       "      <td>foo</td>\n",
       "      <td>1</td>\n",
       "    </tr>\n",
       "    <tr>\n",
       "      <th>1</th>\n",
       "      <td>bar</td>\n",
       "      <td>2</td>\n",
       "    </tr>\n",
       "  </tbody>\n",
       "</table>\n",
       "</div>"
      ],
      "text/plain": [
       "  keys  lval\n",
       "0  foo     1\n",
       "1  bar     2"
      ]
     },
     "execution_count": 172,
     "metadata": {},
     "output_type": "execute_result"
    }
   ],
   "source": [
    "left"
   ]
  },
  {
   "cell_type": "code",
   "execution_count": 173,
   "metadata": {},
   "outputs": [
    {
     "data": {
      "text/html": [
       "<div>\n",
       "<style scoped>\n",
       "    .dataframe tbody tr th:only-of-type {\n",
       "        vertical-align: middle;\n",
       "    }\n",
       "\n",
       "    .dataframe tbody tr th {\n",
       "        vertical-align: top;\n",
       "    }\n",
       "\n",
       "    .dataframe thead th {\n",
       "        text-align: right;\n",
       "    }\n",
       "</style>\n",
       "<table border=\"1\" class=\"dataframe\">\n",
       "  <thead>\n",
       "    <tr style=\"text-align: right;\">\n",
       "      <th></th>\n",
       "      <th>keys</th>\n",
       "      <th>rval</th>\n",
       "    </tr>\n",
       "  </thead>\n",
       "  <tbody>\n",
       "    <tr>\n",
       "      <th>0</th>\n",
       "      <td>foo</td>\n",
       "      <td>4</td>\n",
       "    </tr>\n",
       "    <tr>\n",
       "      <th>1</th>\n",
       "      <td>bar</td>\n",
       "      <td>5</td>\n",
       "    </tr>\n",
       "  </tbody>\n",
       "</table>\n",
       "</div>"
      ],
      "text/plain": [
       "  keys  rval\n",
       "0  foo     4\n",
       "1  bar     5"
      ]
     },
     "execution_count": 173,
     "metadata": {},
     "output_type": "execute_result"
    }
   ],
   "source": [
    "right"
   ]
  },
  {
   "cell_type": "code",
   "execution_count": 174,
   "metadata": {},
   "outputs": [
    {
     "data": {
      "text/html": [
       "<div>\n",
       "<style scoped>\n",
       "    .dataframe tbody tr th:only-of-type {\n",
       "        vertical-align: middle;\n",
       "    }\n",
       "\n",
       "    .dataframe tbody tr th {\n",
       "        vertical-align: top;\n",
       "    }\n",
       "\n",
       "    .dataframe thead th {\n",
       "        text-align: right;\n",
       "    }\n",
       "</style>\n",
       "<table border=\"1\" class=\"dataframe\">\n",
       "  <thead>\n",
       "    <tr style=\"text-align: right;\">\n",
       "      <th></th>\n",
       "      <th>keys</th>\n",
       "      <th>lval</th>\n",
       "      <th>rval</th>\n",
       "    </tr>\n",
       "  </thead>\n",
       "  <tbody>\n",
       "    <tr>\n",
       "      <th>0</th>\n",
       "      <td>foo</td>\n",
       "      <td>1</td>\n",
       "      <td>4</td>\n",
       "    </tr>\n",
       "    <tr>\n",
       "      <th>1</th>\n",
       "      <td>bar</td>\n",
       "      <td>2</td>\n",
       "      <td>5</td>\n",
       "    </tr>\n",
       "  </tbody>\n",
       "</table>\n",
       "</div>"
      ],
      "text/plain": [
       "  keys  lval  rval\n",
       "0  foo     1     4\n",
       "1  bar     2     5"
      ]
     },
     "execution_count": 174,
     "metadata": {},
     "output_type": "execute_result"
    }
   ],
   "source": [
    "pd.merge(left, right, on=\"keys\")"
   ]
  },
  {
   "cell_type": "markdown",
   "metadata": {},
   "source": [
    "## Grouping"
   ]
  },
  {
   "cell_type": "markdown",
   "metadata": {},
   "source": [
    "By \"grouping\" we are refering to a process involving one ore more of the following steps:\n",
    "\n",
    "- **Splitting** the data into groups based on some criteria.\n",
    "- **Applying** a function to each group independently\n",
    "- **Combining** the results into a data structure"
   ]
  },
  {
   "cell_type": "code",
   "execution_count": 175,
   "metadata": {},
   "outputs": [
    {
     "data": {
      "text/html": [
       "<div>\n",
       "<style scoped>\n",
       "    .dataframe tbody tr th:only-of-type {\n",
       "        vertical-align: middle;\n",
       "    }\n",
       "\n",
       "    .dataframe tbody tr th {\n",
       "        vertical-align: top;\n",
       "    }\n",
       "\n",
       "    .dataframe thead th {\n",
       "        text-align: right;\n",
       "    }\n",
       "</style>\n",
       "<table border=\"1\" class=\"dataframe\">\n",
       "  <thead>\n",
       "    <tr style=\"text-align: right;\">\n",
       "      <th></th>\n",
       "      <th>A</th>\n",
       "      <th>B</th>\n",
       "      <th>C</th>\n",
       "      <th>D</th>\n",
       "    </tr>\n",
       "  </thead>\n",
       "  <tbody>\n",
       "    <tr>\n",
       "      <th>0</th>\n",
       "      <td>foo</td>\n",
       "      <td>one</td>\n",
       "      <td>-1.776294</td>\n",
       "      <td>-0.826094</td>\n",
       "    </tr>\n",
       "    <tr>\n",
       "      <th>1</th>\n",
       "      <td>bar</td>\n",
       "      <td>one</td>\n",
       "      <td>-1.184311</td>\n",
       "      <td>1.880373</td>\n",
       "    </tr>\n",
       "    <tr>\n",
       "      <th>2</th>\n",
       "      <td>foo</td>\n",
       "      <td>two</td>\n",
       "      <td>1.031013</td>\n",
       "      <td>-0.149324</td>\n",
       "    </tr>\n",
       "    <tr>\n",
       "      <th>3</th>\n",
       "      <td>bar</td>\n",
       "      <td>three</td>\n",
       "      <td>-0.728510</td>\n",
       "      <td>0.610678</td>\n",
       "    </tr>\n",
       "    <tr>\n",
       "      <th>4</th>\n",
       "      <td>foo</td>\n",
       "      <td>two</td>\n",
       "      <td>0.120068</td>\n",
       "      <td>0.798684</td>\n",
       "    </tr>\n",
       "    <tr>\n",
       "      <th>5</th>\n",
       "      <td>bar</td>\n",
       "      <td>two</td>\n",
       "      <td>-0.149916</td>\n",
       "      <td>-0.094373</td>\n",
       "    </tr>\n",
       "    <tr>\n",
       "      <th>6</th>\n",
       "      <td>foo</td>\n",
       "      <td>one</td>\n",
       "      <td>0.167029</td>\n",
       "      <td>0.928485</td>\n",
       "    </tr>\n",
       "    <tr>\n",
       "      <th>7</th>\n",
       "      <td>foo</td>\n",
       "      <td>three</td>\n",
       "      <td>-0.577645</td>\n",
       "      <td>0.221407</td>\n",
       "    </tr>\n",
       "  </tbody>\n",
       "</table>\n",
       "</div>"
      ],
      "text/plain": [
       "     A      B         C         D\n",
       "0  foo    one -1.776294 -0.826094\n",
       "1  bar    one -1.184311  1.880373\n",
       "2  foo    two  1.031013 -0.149324\n",
       "3  bar  three -0.728510  0.610678\n",
       "4  foo    two  0.120068  0.798684\n",
       "5  bar    two -0.149916 -0.094373\n",
       "6  foo    one  0.167029  0.928485\n",
       "7  foo  three -0.577645  0.221407"
      ]
     },
     "execution_count": 175,
     "metadata": {},
     "output_type": "execute_result"
    }
   ],
   "source": [
    "df = pd.DataFrame(\n",
    "    {\n",
    "        \"A\": [\"foo\", \"bar\", \"foo\", \"bar\", \"foo\", \"bar\", \"foo\", \"foo\"],\n",
    "        \"B\": [\"one\", \"one\", \"two\", \"three\", \"two\", \"two\", \"one\", \"three\"],\n",
    "        \"C\": np.random.randn(8),\n",
    "        \"D\": np.random.randn(8),\n",
    "    }\n",
    ")\n",
    "df"
   ]
  },
  {
   "cell_type": "markdown",
   "metadata": {},
   "source": [
    "Grouping and then applying the `sum()` function to the resulting group."
   ]
  },
  {
   "cell_type": "code",
   "execution_count": 176,
   "metadata": {},
   "outputs": [
    {
     "data": {
      "text/html": [
       "<div>\n",
       "<style scoped>\n",
       "    .dataframe tbody tr th:only-of-type {\n",
       "        vertical-align: middle;\n",
       "    }\n",
       "\n",
       "    .dataframe tbody tr th {\n",
       "        vertical-align: top;\n",
       "    }\n",
       "\n",
       "    .dataframe thead th {\n",
       "        text-align: right;\n",
       "    }\n",
       "</style>\n",
       "<table border=\"1\" class=\"dataframe\">\n",
       "  <thead>\n",
       "    <tr style=\"text-align: right;\">\n",
       "      <th></th>\n",
       "      <th>C</th>\n",
       "      <th>D</th>\n",
       "    </tr>\n",
       "    <tr>\n",
       "      <th>A</th>\n",
       "      <th></th>\n",
       "      <th></th>\n",
       "    </tr>\n",
       "  </thead>\n",
       "  <tbody>\n",
       "    <tr>\n",
       "      <th>bar</th>\n",
       "      <td>-2.062736</td>\n",
       "      <td>2.396678</td>\n",
       "    </tr>\n",
       "    <tr>\n",
       "      <th>foo</th>\n",
       "      <td>-1.035829</td>\n",
       "      <td>0.973158</td>\n",
       "    </tr>\n",
       "  </tbody>\n",
       "</table>\n",
       "</div>"
      ],
      "text/plain": [
       "            C         D\n",
       "A                      \n",
       "bar -2.062736  2.396678\n",
       "foo -1.035829  0.973158"
      ]
     },
     "execution_count": 176,
     "metadata": {},
     "output_type": "execute_result"
    }
   ],
   "source": [
    "df.groupby(\"A\").sum()"
   ]
  },
  {
   "cell_type": "markdown",
   "metadata": {},
   "source": [
    "Grouping by multiple columns forms a hierarchical index, and again we can apply the `sum()` function."
   ]
  },
  {
   "cell_type": "code",
   "execution_count": 177,
   "metadata": {},
   "outputs": [
    {
     "data": {
      "text/html": [
       "<div>\n",
       "<style scoped>\n",
       "    .dataframe tbody tr th:only-of-type {\n",
       "        vertical-align: middle;\n",
       "    }\n",
       "\n",
       "    .dataframe tbody tr th {\n",
       "        vertical-align: top;\n",
       "    }\n",
       "\n",
       "    .dataframe thead th {\n",
       "        text-align: right;\n",
       "    }\n",
       "</style>\n",
       "<table border=\"1\" class=\"dataframe\">\n",
       "  <thead>\n",
       "    <tr style=\"text-align: right;\">\n",
       "      <th></th>\n",
       "      <th></th>\n",
       "      <th>C</th>\n",
       "      <th>D</th>\n",
       "    </tr>\n",
       "    <tr>\n",
       "      <th>A</th>\n",
       "      <th>B</th>\n",
       "      <th></th>\n",
       "      <th></th>\n",
       "    </tr>\n",
       "  </thead>\n",
       "  <tbody>\n",
       "    <tr>\n",
       "      <th rowspan=\"3\" valign=\"top\">bar</th>\n",
       "      <th>one</th>\n",
       "      <td>-1.184311</td>\n",
       "      <td>1.880373</td>\n",
       "    </tr>\n",
       "    <tr>\n",
       "      <th>three</th>\n",
       "      <td>-0.728510</td>\n",
       "      <td>0.610678</td>\n",
       "    </tr>\n",
       "    <tr>\n",
       "      <th>two</th>\n",
       "      <td>-0.149916</td>\n",
       "      <td>-0.094373</td>\n",
       "    </tr>\n",
       "    <tr>\n",
       "      <th rowspan=\"3\" valign=\"top\">foo</th>\n",
       "      <th>one</th>\n",
       "      <td>-1.609265</td>\n",
       "      <td>0.102391</td>\n",
       "    </tr>\n",
       "    <tr>\n",
       "      <th>three</th>\n",
       "      <td>-0.577645</td>\n",
       "      <td>0.221407</td>\n",
       "    </tr>\n",
       "    <tr>\n",
       "      <th>two</th>\n",
       "      <td>1.151081</td>\n",
       "      <td>0.649360</td>\n",
       "    </tr>\n",
       "  </tbody>\n",
       "</table>\n",
       "</div>"
      ],
      "text/plain": [
       "                  C         D\n",
       "A   B                        \n",
       "bar one   -1.184311  1.880373\n",
       "    three -0.728510  0.610678\n",
       "    two   -0.149916 -0.094373\n",
       "foo one   -1.609265  0.102391\n",
       "    three -0.577645  0.221407\n",
       "    two    1.151081  0.649360"
      ]
     },
     "execution_count": 177,
     "metadata": {},
     "output_type": "execute_result"
    }
   ],
   "source": [
    "df.groupby([\"A\", \"B\"]).sum()"
   ]
  },
  {
   "cell_type": "markdown",
   "metadata": {},
   "source": [
    "## Reshaping"
   ]
  },
  {
   "cell_type": "markdown",
   "metadata": {},
   "source": [
    "### Stack"
   ]
  },
  {
   "cell_type": "code",
   "execution_count": 178,
   "metadata": {},
   "outputs": [
    {
     "data": {
      "text/html": [
       "<div>\n",
       "<style scoped>\n",
       "    .dataframe tbody tr th:only-of-type {\n",
       "        vertical-align: middle;\n",
       "    }\n",
       "\n",
       "    .dataframe tbody tr th {\n",
       "        vertical-align: top;\n",
       "    }\n",
       "\n",
       "    .dataframe thead th {\n",
       "        text-align: right;\n",
       "    }\n",
       "</style>\n",
       "<table border=\"1\" class=\"dataframe\">\n",
       "  <thead>\n",
       "    <tr style=\"text-align: right;\">\n",
       "      <th></th>\n",
       "      <th></th>\n",
       "      <th>A</th>\n",
       "      <th>B</th>\n",
       "    </tr>\n",
       "    <tr>\n",
       "      <th>first</th>\n",
       "      <th>second</th>\n",
       "      <th></th>\n",
       "      <th></th>\n",
       "    </tr>\n",
       "  </thead>\n",
       "  <tbody>\n",
       "    <tr>\n",
       "      <th rowspan=\"2\" valign=\"top\">bar</th>\n",
       "      <th>one</th>\n",
       "      <td>-0.020305</td>\n",
       "      <td>-1.005324</td>\n",
       "    </tr>\n",
       "    <tr>\n",
       "      <th>two</th>\n",
       "      <td>-0.662837</td>\n",
       "      <td>-0.225721</td>\n",
       "    </tr>\n",
       "    <tr>\n",
       "      <th rowspan=\"2\" valign=\"top\">baz</th>\n",
       "      <th>one</th>\n",
       "      <td>-1.046106</td>\n",
       "      <td>-1.778550</td>\n",
       "    </tr>\n",
       "    <tr>\n",
       "      <th>two</th>\n",
       "      <td>-1.159631</td>\n",
       "      <td>2.002949</td>\n",
       "    </tr>\n",
       "    <tr>\n",
       "      <th rowspan=\"2\" valign=\"top\">foo</th>\n",
       "      <th>one</th>\n",
       "      <td>0.369859</td>\n",
       "      <td>-1.089938</td>\n",
       "    </tr>\n",
       "    <tr>\n",
       "      <th>two</th>\n",
       "      <td>1.330050</td>\n",
       "      <td>1.744394</td>\n",
       "    </tr>\n",
       "    <tr>\n",
       "      <th rowspan=\"2\" valign=\"top\">qux</th>\n",
       "      <th>one</th>\n",
       "      <td>0.599341</td>\n",
       "      <td>0.105915</td>\n",
       "    </tr>\n",
       "    <tr>\n",
       "      <th>two</th>\n",
       "      <td>0.265958</td>\n",
       "      <td>-0.590672</td>\n",
       "    </tr>\n",
       "  </tbody>\n",
       "</table>\n",
       "</div>"
      ],
      "text/plain": [
       "                     A         B\n",
       "first second                    \n",
       "bar   one    -0.020305 -1.005324\n",
       "      two    -0.662837 -0.225721\n",
       "baz   one    -1.046106 -1.778550\n",
       "      two    -1.159631  2.002949\n",
       "foo   one     0.369859 -1.089938\n",
       "      two     1.330050  1.744394\n",
       "qux   one     0.599341  0.105915\n",
       "      two     0.265958 -0.590672"
      ]
     },
     "execution_count": 178,
     "metadata": {},
     "output_type": "execute_result"
    }
   ],
   "source": [
    "tuples = list(\n",
    "    zip(\n",
    "        *[\n",
    "            [\"bar\", \"bar\", \"baz\", \"baz\", \"foo\", \"foo\", \"qux\", \"qux\"],\n",
    "            [\"one\", \"two\", \"one\", \"two\", \"one\", \"two\", \"one\", \"two\"],\n",
    "        ]\n",
    "    )\n",
    ")\n",
    "index = pd.MultiIndex.from_tuples(tuples, names=[\"first\", \"second\"])\n",
    "df = pd.DataFrame(np.random.randn(8, 2), index=index, columns=[\"A\", \"B\"])\n",
    "df"
   ]
  },
  {
   "cell_type": "markdown",
   "metadata": {},
   "source": [
    "The `stack()` method \"compress\" a level in the **DataFrame's** columns."
   ]
  },
  {
   "cell_type": "code",
   "execution_count": 179,
   "metadata": {},
   "outputs": [
    {
     "data": {
      "text/html": [
       "<div>\n",
       "<style scoped>\n",
       "    .dataframe tbody tr th:only-of-type {\n",
       "        vertical-align: middle;\n",
       "    }\n",
       "\n",
       "    .dataframe tbody tr th {\n",
       "        vertical-align: top;\n",
       "    }\n",
       "\n",
       "    .dataframe thead th {\n",
       "        text-align: right;\n",
       "    }\n",
       "</style>\n",
       "<table border=\"1\" class=\"dataframe\">\n",
       "  <thead>\n",
       "    <tr style=\"text-align: right;\">\n",
       "      <th></th>\n",
       "      <th></th>\n",
       "      <th>A</th>\n",
       "      <th>B</th>\n",
       "    </tr>\n",
       "    <tr>\n",
       "      <th>first</th>\n",
       "      <th>second</th>\n",
       "      <th></th>\n",
       "      <th></th>\n",
       "    </tr>\n",
       "  </thead>\n",
       "  <tbody>\n",
       "    <tr>\n",
       "      <th rowspan=\"2\" valign=\"top\">bar</th>\n",
       "      <th>one</th>\n",
       "      <td>-0.020305</td>\n",
       "      <td>-1.005324</td>\n",
       "    </tr>\n",
       "    <tr>\n",
       "      <th>two</th>\n",
       "      <td>-0.662837</td>\n",
       "      <td>-0.225721</td>\n",
       "    </tr>\n",
       "    <tr>\n",
       "      <th rowspan=\"2\" valign=\"top\">baz</th>\n",
       "      <th>one</th>\n",
       "      <td>-1.046106</td>\n",
       "      <td>-1.778550</td>\n",
       "    </tr>\n",
       "    <tr>\n",
       "      <th>two</th>\n",
       "      <td>-1.159631</td>\n",
       "      <td>2.002949</td>\n",
       "    </tr>\n",
       "  </tbody>\n",
       "</table>\n",
       "</div>"
      ],
      "text/plain": [
       "                     A         B\n",
       "first second                    \n",
       "bar   one    -0.020305 -1.005324\n",
       "      two    -0.662837 -0.225721\n",
       "baz   one    -1.046106 -1.778550\n",
       "      two    -1.159631  2.002949"
      ]
     },
     "execution_count": 179,
     "metadata": {},
     "output_type": "execute_result"
    }
   ],
   "source": [
    "df2 = df[:4]\n",
    "df2"
   ]
  },
  {
   "cell_type": "code",
   "execution_count": 180,
   "metadata": {},
   "outputs": [
    {
     "data": {
      "text/plain": [
       "first  second   \n",
       "bar    one     A   -0.020305\n",
       "               B   -1.005324\n",
       "       two     A   -0.662837\n",
       "               B   -0.225721\n",
       "baz    one     A   -1.046106\n",
       "               B   -1.778550\n",
       "       two     A   -1.159631\n",
       "               B    2.002949\n",
       "dtype: float64"
      ]
     },
     "execution_count": 180,
     "metadata": {},
     "output_type": "execute_result"
    }
   ],
   "source": [
    "stacked = df2.stack()\n",
    "stacked"
   ]
  },
  {
   "cell_type": "markdown",
   "metadata": {},
   "source": [
    "With a \"stacked\" DataFrame or Series (having a `MultiIndex` as the `Index`), the inverse operation of `stack()` is `unstack()`, which by default unstacks the **last level**."
   ]
  },
  {
   "cell_type": "code",
   "execution_count": 181,
   "metadata": {},
   "outputs": [
    {
     "data": {
      "text/html": [
       "<div>\n",
       "<style scoped>\n",
       "    .dataframe tbody tr th:only-of-type {\n",
       "        vertical-align: middle;\n",
       "    }\n",
       "\n",
       "    .dataframe tbody tr th {\n",
       "        vertical-align: top;\n",
       "    }\n",
       "\n",
       "    .dataframe thead th {\n",
       "        text-align: right;\n",
       "    }\n",
       "</style>\n",
       "<table border=\"1\" class=\"dataframe\">\n",
       "  <thead>\n",
       "    <tr style=\"text-align: right;\">\n",
       "      <th></th>\n",
       "      <th></th>\n",
       "      <th>A</th>\n",
       "      <th>B</th>\n",
       "    </tr>\n",
       "    <tr>\n",
       "      <th>first</th>\n",
       "      <th>second</th>\n",
       "      <th></th>\n",
       "      <th></th>\n",
       "    </tr>\n",
       "  </thead>\n",
       "  <tbody>\n",
       "    <tr>\n",
       "      <th rowspan=\"2\" valign=\"top\">bar</th>\n",
       "      <th>one</th>\n",
       "      <td>-0.020305</td>\n",
       "      <td>-1.005324</td>\n",
       "    </tr>\n",
       "    <tr>\n",
       "      <th>two</th>\n",
       "      <td>-0.662837</td>\n",
       "      <td>-0.225721</td>\n",
       "    </tr>\n",
       "    <tr>\n",
       "      <th rowspan=\"2\" valign=\"top\">baz</th>\n",
       "      <th>one</th>\n",
       "      <td>-1.046106</td>\n",
       "      <td>-1.778550</td>\n",
       "    </tr>\n",
       "    <tr>\n",
       "      <th>two</th>\n",
       "      <td>-1.159631</td>\n",
       "      <td>2.002949</td>\n",
       "    </tr>\n",
       "  </tbody>\n",
       "</table>\n",
       "</div>"
      ],
      "text/plain": [
       "                     A         B\n",
       "first second                    \n",
       "bar   one    -0.020305 -1.005324\n",
       "      two    -0.662837 -0.225721\n",
       "baz   one    -1.046106 -1.778550\n",
       "      two    -1.159631  2.002949"
      ]
     },
     "execution_count": 181,
     "metadata": {},
     "output_type": "execute_result"
    }
   ],
   "source": [
    "stacked.unstack()"
   ]
  },
  {
   "cell_type": "code",
   "execution_count": 182,
   "metadata": {},
   "outputs": [
    {
     "data": {
      "text/html": [
       "<div>\n",
       "<style scoped>\n",
       "    .dataframe tbody tr th:only-of-type {\n",
       "        vertical-align: middle;\n",
       "    }\n",
       "\n",
       "    .dataframe tbody tr th {\n",
       "        vertical-align: top;\n",
       "    }\n",
       "\n",
       "    .dataframe thead th {\n",
       "        text-align: right;\n",
       "    }\n",
       "</style>\n",
       "<table border=\"1\" class=\"dataframe\">\n",
       "  <thead>\n",
       "    <tr style=\"text-align: right;\">\n",
       "      <th></th>\n",
       "      <th>second</th>\n",
       "      <th>one</th>\n",
       "      <th>two</th>\n",
       "    </tr>\n",
       "    <tr>\n",
       "      <th>first</th>\n",
       "      <th></th>\n",
       "      <th></th>\n",
       "      <th></th>\n",
       "    </tr>\n",
       "  </thead>\n",
       "  <tbody>\n",
       "    <tr>\n",
       "      <th rowspan=\"2\" valign=\"top\">bar</th>\n",
       "      <th>A</th>\n",
       "      <td>-0.020305</td>\n",
       "      <td>-0.662837</td>\n",
       "    </tr>\n",
       "    <tr>\n",
       "      <th>B</th>\n",
       "      <td>-1.005324</td>\n",
       "      <td>-0.225721</td>\n",
       "    </tr>\n",
       "    <tr>\n",
       "      <th rowspan=\"2\" valign=\"top\">baz</th>\n",
       "      <th>A</th>\n",
       "      <td>-1.046106</td>\n",
       "      <td>-1.159631</td>\n",
       "    </tr>\n",
       "    <tr>\n",
       "      <th>B</th>\n",
       "      <td>-1.778550</td>\n",
       "      <td>2.002949</td>\n",
       "    </tr>\n",
       "  </tbody>\n",
       "</table>\n",
       "</div>"
      ],
      "text/plain": [
       "second        one       two\n",
       "first                      \n",
       "bar   A -0.020305 -0.662837\n",
       "      B -1.005324 -0.225721\n",
       "baz   A -1.046106 -1.159631\n",
       "      B -1.778550  2.002949"
      ]
     },
     "execution_count": 182,
     "metadata": {},
     "output_type": "execute_result"
    }
   ],
   "source": [
    "stacked.unstack(1)"
   ]
  },
  {
   "cell_type": "code",
   "execution_count": 183,
   "metadata": {},
   "outputs": [
    {
     "data": {
      "text/html": [
       "<div>\n",
       "<style scoped>\n",
       "    .dataframe tbody tr th:only-of-type {\n",
       "        vertical-align: middle;\n",
       "    }\n",
       "\n",
       "    .dataframe tbody tr th {\n",
       "        vertical-align: top;\n",
       "    }\n",
       "\n",
       "    .dataframe thead th {\n",
       "        text-align: right;\n",
       "    }\n",
       "</style>\n",
       "<table border=\"1\" class=\"dataframe\">\n",
       "  <thead>\n",
       "    <tr style=\"text-align: right;\">\n",
       "      <th></th>\n",
       "      <th>first</th>\n",
       "      <th>bar</th>\n",
       "      <th>baz</th>\n",
       "    </tr>\n",
       "    <tr>\n",
       "      <th>second</th>\n",
       "      <th></th>\n",
       "      <th></th>\n",
       "      <th></th>\n",
       "    </tr>\n",
       "  </thead>\n",
       "  <tbody>\n",
       "    <tr>\n",
       "      <th rowspan=\"2\" valign=\"top\">one</th>\n",
       "      <th>A</th>\n",
       "      <td>-0.020305</td>\n",
       "      <td>-1.046106</td>\n",
       "    </tr>\n",
       "    <tr>\n",
       "      <th>B</th>\n",
       "      <td>-1.005324</td>\n",
       "      <td>-1.778550</td>\n",
       "    </tr>\n",
       "    <tr>\n",
       "      <th rowspan=\"2\" valign=\"top\">two</th>\n",
       "      <th>A</th>\n",
       "      <td>-0.662837</td>\n",
       "      <td>-1.159631</td>\n",
       "    </tr>\n",
       "    <tr>\n",
       "      <th>B</th>\n",
       "      <td>-0.225721</td>\n",
       "      <td>2.002949</td>\n",
       "    </tr>\n",
       "  </tbody>\n",
       "</table>\n",
       "</div>"
      ],
      "text/plain": [
       "first          bar       baz\n",
       "second                      \n",
       "one    A -0.020305 -1.046106\n",
       "       B -1.005324 -1.778550\n",
       "two    A -0.662837 -1.159631\n",
       "       B -0.225721  2.002949"
      ]
     },
     "execution_count": 183,
     "metadata": {},
     "output_type": "execute_result"
    }
   ],
   "source": [
    "stacked.unstack(0)"
   ]
  },
  {
   "cell_type": "markdown",
   "metadata": {},
   "source": [
    "## Pivot tables"
   ]
  },
  {
   "cell_type": "code",
   "execution_count": 184,
   "metadata": {},
   "outputs": [
    {
     "data": {
      "text/html": [
       "<div>\n",
       "<style scoped>\n",
       "    .dataframe tbody tr th:only-of-type {\n",
       "        vertical-align: middle;\n",
       "    }\n",
       "\n",
       "    .dataframe tbody tr th {\n",
       "        vertical-align: top;\n",
       "    }\n",
       "\n",
       "    .dataframe thead th {\n",
       "        text-align: right;\n",
       "    }\n",
       "</style>\n",
       "<table border=\"1\" class=\"dataframe\">\n",
       "  <thead>\n",
       "    <tr style=\"text-align: right;\">\n",
       "      <th></th>\n",
       "      <th>A</th>\n",
       "      <th>B</th>\n",
       "      <th>C</th>\n",
       "      <th>D</th>\n",
       "      <th>E</th>\n",
       "    </tr>\n",
       "  </thead>\n",
       "  <tbody>\n",
       "    <tr>\n",
       "      <th>0</th>\n",
       "      <td>one</td>\n",
       "      <td>A</td>\n",
       "      <td>foo</td>\n",
       "      <td>-0.983144</td>\n",
       "      <td>0.800061</td>\n",
       "    </tr>\n",
       "    <tr>\n",
       "      <th>1</th>\n",
       "      <td>one</td>\n",
       "      <td>B</td>\n",
       "      <td>foo</td>\n",
       "      <td>1.218747</td>\n",
       "      <td>-0.080282</td>\n",
       "    </tr>\n",
       "    <tr>\n",
       "      <th>2</th>\n",
       "      <td>two</td>\n",
       "      <td>C</td>\n",
       "      <td>foo</td>\n",
       "      <td>-0.364431</td>\n",
       "      <td>0.109698</td>\n",
       "    </tr>\n",
       "    <tr>\n",
       "      <th>3</th>\n",
       "      <td>three</td>\n",
       "      <td>A</td>\n",
       "      <td>bar</td>\n",
       "      <td>-0.260875</td>\n",
       "      <td>0.123262</td>\n",
       "    </tr>\n",
       "    <tr>\n",
       "      <th>4</th>\n",
       "      <td>one</td>\n",
       "      <td>B</td>\n",
       "      <td>bar</td>\n",
       "      <td>-0.777712</td>\n",
       "      <td>-0.040786</td>\n",
       "    </tr>\n",
       "    <tr>\n",
       "      <th>5</th>\n",
       "      <td>one</td>\n",
       "      <td>C</td>\n",
       "      <td>bar</td>\n",
       "      <td>0.006261</td>\n",
       "      <td>1.302112</td>\n",
       "    </tr>\n",
       "    <tr>\n",
       "      <th>6</th>\n",
       "      <td>two</td>\n",
       "      <td>A</td>\n",
       "      <td>foo</td>\n",
       "      <td>0.705844</td>\n",
       "      <td>0.294348</td>\n",
       "    </tr>\n",
       "    <tr>\n",
       "      <th>7</th>\n",
       "      <td>three</td>\n",
       "      <td>B</td>\n",
       "      <td>foo</td>\n",
       "      <td>-1.583547</td>\n",
       "      <td>0.032330</td>\n",
       "    </tr>\n",
       "    <tr>\n",
       "      <th>8</th>\n",
       "      <td>one</td>\n",
       "      <td>C</td>\n",
       "      <td>foo</td>\n",
       "      <td>0.442467</td>\n",
       "      <td>1.139189</td>\n",
       "    </tr>\n",
       "    <tr>\n",
       "      <th>9</th>\n",
       "      <td>one</td>\n",
       "      <td>A</td>\n",
       "      <td>bar</td>\n",
       "      <td>-0.018235</td>\n",
       "      <td>0.279882</td>\n",
       "    </tr>\n",
       "    <tr>\n",
       "      <th>10</th>\n",
       "      <td>two</td>\n",
       "      <td>B</td>\n",
       "      <td>bar</td>\n",
       "      <td>1.646828</td>\n",
       "      <td>-1.281916</td>\n",
       "    </tr>\n",
       "    <tr>\n",
       "      <th>11</th>\n",
       "      <td>three</td>\n",
       "      <td>C</td>\n",
       "      <td>bar</td>\n",
       "      <td>-0.843081</td>\n",
       "      <td>-0.825278</td>\n",
       "    </tr>\n",
       "  </tbody>\n",
       "</table>\n",
       "</div>"
      ],
      "text/plain": [
       "        A  B    C         D         E\n",
       "0     one  A  foo -0.983144  0.800061\n",
       "1     one  B  foo  1.218747 -0.080282\n",
       "2     two  C  foo -0.364431  0.109698\n",
       "3   three  A  bar -0.260875  0.123262\n",
       "4     one  B  bar -0.777712 -0.040786\n",
       "5     one  C  bar  0.006261  1.302112\n",
       "6     two  A  foo  0.705844  0.294348\n",
       "7   three  B  foo -1.583547  0.032330\n",
       "8     one  C  foo  0.442467  1.139189\n",
       "9     one  A  bar -0.018235  0.279882\n",
       "10    two  B  bar  1.646828 -1.281916\n",
       "11  three  C  bar -0.843081 -0.825278"
      ]
     },
     "execution_count": 184,
     "metadata": {},
     "output_type": "execute_result"
    }
   ],
   "source": [
    "df = pd.DataFrame(\n",
    "    {\n",
    "        \"A\": [\"one\", \"one\", \"two\", \"three\"] * 3,\n",
    "        \"B\": [\"A\", \"B\", \"C\"] * 4,\n",
    "        \"C\": [\"foo\", \"foo\", \"foo\", \"bar\", \"bar\", \"bar\"] * 2,\n",
    "        \"D\": np.random.randn(12),\n",
    "        \"E\": np.random.randn(12),\n",
    "    }\n",
    ")\n",
    "\n",
    "df"
   ]
  },
  {
   "cell_type": "markdown",
   "metadata": {},
   "source": [
    "We can produce pivot tables from this data very easily."
   ]
  },
  {
   "cell_type": "code",
   "execution_count": 185,
   "metadata": {},
   "outputs": [
    {
     "data": {
      "text/html": [
       "<div>\n",
       "<style scoped>\n",
       "    .dataframe tbody tr th:only-of-type {\n",
       "        vertical-align: middle;\n",
       "    }\n",
       "\n",
       "    .dataframe tbody tr th {\n",
       "        vertical-align: top;\n",
       "    }\n",
       "\n",
       "    .dataframe thead th {\n",
       "        text-align: right;\n",
       "    }\n",
       "</style>\n",
       "<table border=\"1\" class=\"dataframe\">\n",
       "  <thead>\n",
       "    <tr style=\"text-align: right;\">\n",
       "      <th></th>\n",
       "      <th>C</th>\n",
       "      <th>bar</th>\n",
       "      <th>foo</th>\n",
       "    </tr>\n",
       "    <tr>\n",
       "      <th>A</th>\n",
       "      <th>B</th>\n",
       "      <th></th>\n",
       "      <th></th>\n",
       "    </tr>\n",
       "  </thead>\n",
       "  <tbody>\n",
       "    <tr>\n",
       "      <th rowspan=\"3\" valign=\"top\">one</th>\n",
       "      <th>A</th>\n",
       "      <td>-0.018235</td>\n",
       "      <td>-0.983144</td>\n",
       "    </tr>\n",
       "    <tr>\n",
       "      <th>B</th>\n",
       "      <td>-0.777712</td>\n",
       "      <td>1.218747</td>\n",
       "    </tr>\n",
       "    <tr>\n",
       "      <th>C</th>\n",
       "      <td>0.006261</td>\n",
       "      <td>0.442467</td>\n",
       "    </tr>\n",
       "    <tr>\n",
       "      <th rowspan=\"3\" valign=\"top\">three</th>\n",
       "      <th>A</th>\n",
       "      <td>-0.260875</td>\n",
       "      <td>NaN</td>\n",
       "    </tr>\n",
       "    <tr>\n",
       "      <th>B</th>\n",
       "      <td>NaN</td>\n",
       "      <td>-1.583547</td>\n",
       "    </tr>\n",
       "    <tr>\n",
       "      <th>C</th>\n",
       "      <td>-0.843081</td>\n",
       "      <td>NaN</td>\n",
       "    </tr>\n",
       "    <tr>\n",
       "      <th rowspan=\"3\" valign=\"top\">two</th>\n",
       "      <th>A</th>\n",
       "      <td>NaN</td>\n",
       "      <td>0.705844</td>\n",
       "    </tr>\n",
       "    <tr>\n",
       "      <th>B</th>\n",
       "      <td>1.646828</td>\n",
       "      <td>NaN</td>\n",
       "    </tr>\n",
       "    <tr>\n",
       "      <th>C</th>\n",
       "      <td>NaN</td>\n",
       "      <td>-0.364431</td>\n",
       "    </tr>\n",
       "  </tbody>\n",
       "</table>\n",
       "</div>"
      ],
      "text/plain": [
       "C             bar       foo\n",
       "A     B                    \n",
       "one   A -0.018235 -0.983144\n",
       "      B -0.777712  1.218747\n",
       "      C  0.006261  0.442467\n",
       "three A -0.260875       NaN\n",
       "      B       NaN -1.583547\n",
       "      C -0.843081       NaN\n",
       "two   A       NaN  0.705844\n",
       "      B  1.646828       NaN\n",
       "      C       NaN -0.364431"
      ]
     },
     "execution_count": 185,
     "metadata": {},
     "output_type": "execute_result"
    }
   ],
   "source": [
    "pd.pivot_table(df, values=\"D\", index=[\"A\", \"B\"], columns=\"C\")"
   ]
  },
  {
   "cell_type": "markdown",
   "metadata": {},
   "source": [
    "## Time series"
   ]
  },
  {
   "cell_type": "markdown",
   "metadata": {},
   "source": [
    "`Pandas` has simple, powerful, and efficient functionality for performing resampling operations during frequency conversion (e.g., converting secondly data into 5-minutely data). This is extremely common in, but not limited to, financial applications."
   ]
  },
  {
   "cell_type": "code",
   "execution_count": 186,
   "metadata": {},
   "outputs": [
    {
     "data": {
      "text/plain": [
       "2022-01-01 00:00:00     73\n",
       "2022-01-01 00:00:01    424\n",
       "2022-01-01 00:00:02    496\n",
       "2022-01-01 00:00:03    373\n",
       "2022-01-01 00:00:04    457\n",
       "                      ... \n",
       "2022-01-01 00:01:35      2\n",
       "2022-01-01 00:01:36    375\n",
       "2022-01-01 00:01:37    374\n",
       "2022-01-01 00:01:38    396\n",
       "2022-01-01 00:01:39    285\n",
       "Freq: S, Length: 100, dtype: int32"
      ]
     },
     "execution_count": 186,
     "metadata": {},
     "output_type": "execute_result"
    }
   ],
   "source": [
    "rng = pd.date_range(\"1/1/2022\", periods=100, freq=\"S\")\n",
    "ts = pd.Series(np.random.randint(0, 500, len(rng)), index=rng)\n",
    "ts"
   ]
  },
  {
   "cell_type": "code",
   "execution_count": 187,
   "metadata": {},
   "outputs": [
    {
     "data": {
      "text/plain": [
       "2022-01-01    27016\n",
       "Freq: 5T, dtype: int32"
      ]
     },
     "execution_count": 187,
     "metadata": {},
     "output_type": "execute_result"
    }
   ],
   "source": [
    "ts.resample(\"5Min\").sum()"
   ]
  },
  {
   "cell_type": "markdown",
   "metadata": {},
   "source": [
    "Time zone representation"
   ]
  },
  {
   "cell_type": "code",
   "execution_count": 188,
   "metadata": {},
   "outputs": [
    {
     "data": {
      "text/plain": [
       "2022-01-01    1.102308\n",
       "2022-01-02    0.877868\n",
       "2022-01-03    0.762733\n",
       "2022-01-04   -0.585427\n",
       "2022-01-05    0.819421\n",
       "Freq: D, dtype: float64"
      ]
     },
     "execution_count": 188,
     "metadata": {},
     "output_type": "execute_result"
    }
   ],
   "source": [
    "rng = pd.date_range(\"1/1/2022 00:00\", periods=5, freq=\"D\")\n",
    "ts = pd.Series(np.random.randn(len(rng)), rng)\n",
    "ts"
   ]
  },
  {
   "cell_type": "code",
   "execution_count": 189,
   "metadata": {},
   "outputs": [
    {
     "data": {
      "text/plain": [
       "2022-01-01 00:00:00+00:00    1.102308\n",
       "2022-01-02 00:00:00+00:00    0.877868\n",
       "2022-01-03 00:00:00+00:00    0.762733\n",
       "2022-01-04 00:00:00+00:00   -0.585427\n",
       "2022-01-05 00:00:00+00:00    0.819421\n",
       "Freq: D, dtype: float64"
      ]
     },
     "execution_count": 189,
     "metadata": {},
     "output_type": "execute_result"
    }
   ],
   "source": [
    "ts_utc = ts.tz_localize(\"UTC\")\n",
    "ts_utc"
   ]
  },
  {
   "cell_type": "markdown",
   "metadata": {},
   "source": [
    "Converting to another time zone."
   ]
  },
  {
   "cell_type": "code",
   "execution_count": 190,
   "metadata": {},
   "outputs": [
    {
     "data": {
      "text/plain": [
       "2021-12-31 19:00:00-05:00    1.102308\n",
       "2022-01-01 19:00:00-05:00    0.877868\n",
       "2022-01-02 19:00:00-05:00    0.762733\n",
       "2022-01-03 19:00:00-05:00   -0.585427\n",
       "2022-01-04 19:00:00-05:00    0.819421\n",
       "Freq: D, dtype: float64"
      ]
     },
     "execution_count": 190,
     "metadata": {},
     "output_type": "execute_result"
    }
   ],
   "source": [
    "ts_utc.tz_convert(\"US/Eastern\")"
   ]
  },
  {
   "cell_type": "markdown",
   "metadata": {},
   "source": [
    "Converting between time span representations."
   ]
  },
  {
   "cell_type": "code",
   "execution_count": 191,
   "metadata": {},
   "outputs": [
    {
     "data": {
      "text/plain": [
       "2022-01-31    1.379580\n",
       "2022-02-28    0.027922\n",
       "2022-03-31    1.081574\n",
       "2022-04-30   -0.670408\n",
       "2022-05-31   -0.173385\n",
       "Freq: M, dtype: float64"
      ]
     },
     "execution_count": 191,
     "metadata": {},
     "output_type": "execute_result"
    }
   ],
   "source": [
    "rng = pd.date_range(\"1/1/2022\", periods=5, freq=\"M\")\n",
    "ts = pd.Series(np.random.randn(len(rng)), index=rng)\n",
    "ts"
   ]
  },
  {
   "cell_type": "code",
   "execution_count": 192,
   "metadata": {},
   "outputs": [
    {
     "data": {
      "text/plain": [
       "2022-01    1.379580\n",
       "2022-02    0.027922\n",
       "2022-03    1.081574\n",
       "2022-04   -0.670408\n",
       "2022-05   -0.173385\n",
       "Freq: M, dtype: float64"
      ]
     },
     "execution_count": 192,
     "metadata": {},
     "output_type": "execute_result"
    }
   ],
   "source": [
    "ps = ts.to_period()\n",
    "ps"
   ]
  },
  {
   "cell_type": "code",
   "execution_count": 193,
   "metadata": {},
   "outputs": [
    {
     "data": {
      "text/plain": [
       "2022-01-01    1.379580\n",
       "2022-02-01    0.027922\n",
       "2022-03-01    1.081574\n",
       "2022-04-01   -0.670408\n",
       "2022-05-01   -0.173385\n",
       "Freq: MS, dtype: float64"
      ]
     },
     "execution_count": 193,
     "metadata": {},
     "output_type": "execute_result"
    }
   ],
   "source": [
    "ps.to_timestamp()"
   ]
  },
  {
   "cell_type": "markdown",
   "metadata": {},
   "source": [
    "Converting between period and timestamp enables some convenients arithmetic functions to be used. In the following example, I convert a quarterly frequency with year ending in November to 9am of the end of the month following the quarter end."
   ]
  },
  {
   "cell_type": "code",
   "execution_count": 194,
   "metadata": {},
   "outputs": [
    {
     "data": {
      "text/plain": [
       "1990-03-01 09:00   -0.995585\n",
       "1990-06-01 09:00    1.341796\n",
       "1990-09-01 09:00    2.624732\n",
       "1990-12-01 09:00   -0.158375\n",
       "1991-03-01 09:00    0.207265\n",
       "Freq: H, dtype: float64"
      ]
     },
     "execution_count": 194,
     "metadata": {},
     "output_type": "execute_result"
    }
   ],
   "source": [
    "prng = pd.period_range(\"1990Q1\", \"2000Q4\", freq=\"Q-NOV\")\n",
    "ts = pd.Series(np.random.randn(len(prng)), prng)\n",
    "ts.index = (prng.asfreq(\"M\", \"e\") + 1).asfreq(\"H\", \"s\") + 9\n",
    "ts.head()"
   ]
  },
  {
   "cell_type": "markdown",
   "metadata": {},
   "source": [
    "## Categoricals"
   ]
  },
  {
   "cell_type": "markdown",
   "metadata": {},
   "source": [
    "`Pandas` can include categorical data in a **DataFrame**."
   ]
  },
  {
   "cell_type": "code",
   "execution_count": 195,
   "metadata": {},
   "outputs": [],
   "source": [
    "df = pd.DataFrame(\n",
    "    {\n",
    "        \"id\": list(range(1, 7, 1)),\n",
    "        \"raw_grade\": [\"a\", \"a\", \"b\", \"a\", \"a\", \"e\"],\n",
    "    }\n",
    ")"
   ]
  },
  {
   "cell_type": "markdown",
   "metadata": {},
   "source": [
    "Converting the grades to a categorical data type."
   ]
  },
  {
   "cell_type": "code",
   "execution_count": 196,
   "metadata": {},
   "outputs": [
    {
     "data": {
      "text/plain": [
       "0    a\n",
       "1    a\n",
       "2    b\n",
       "3    a\n",
       "4    a\n",
       "5    e\n",
       "Name: grade, dtype: category\n",
       "Categories (3, object): ['a', 'b', 'e']"
      ]
     },
     "execution_count": 196,
     "metadata": {},
     "output_type": "execute_result"
    }
   ],
   "source": [
    "df[\"grade\"] = df[\"raw_grade\"].astype(\"category\")\n",
    "df[\"grade\"]"
   ]
  },
  {
   "cell_type": "markdown",
   "metadata": {},
   "source": [
    "Rename the categories to more meaningful names (assigning to `Series.cat.categories()` is in place!)."
   ]
  },
  {
   "cell_type": "code",
   "execution_count": 197,
   "metadata": {},
   "outputs": [
    {
     "data": {
      "text/plain": [
       "0    very good\n",
       "1    very good\n",
       "2         good\n",
       "3    very good\n",
       "4    very good\n",
       "5     very bad\n",
       "Name: grade, dtype: category\n",
       "Categories (3, object): ['very good', 'good', 'very bad']"
      ]
     },
     "execution_count": 197,
     "metadata": {},
     "output_type": "execute_result"
    }
   ],
   "source": [
    "df[\"grade\"].cat.categories = [\"very good\", \"good\", \"very bad\"]\n",
    "df[\"grade\"]"
   ]
  },
  {
   "cell_type": "markdown",
   "metadata": {},
   "source": [
    "Reorder the categories and simultaneously add the missing categories (methods under `Series.cat()` return a new `Series` by default)."
   ]
  },
  {
   "cell_type": "code",
   "execution_count": 198,
   "metadata": {},
   "outputs": [
    {
     "data": {
      "text/plain": [
       "0    very good\n",
       "1    very good\n",
       "2         good\n",
       "3    very good\n",
       "4    very good\n",
       "5     very bad\n",
       "Name: grade, dtype: category\n",
       "Categories (5, object): ['very bad', 'bad', 'medium', 'good', 'very good']"
      ]
     },
     "execution_count": 198,
     "metadata": {},
     "output_type": "execute_result"
    }
   ],
   "source": [
    "df[\"grade\"] = df[\"grade\"].cat.set_categories(\n",
    "    [\"very bad\", \"bad\", \"medium\", \"good\", \"very good\"]\n",
    ")\n",
    "df[\"grade\"]"
   ]
  },
  {
   "cell_type": "markdown",
   "metadata": {},
   "source": [
    "Sorting in per order in the categories, not lexical order."
   ]
  },
  {
   "cell_type": "code",
   "execution_count": 199,
   "metadata": {},
   "outputs": [
    {
     "data": {
      "text/html": [
       "<div>\n",
       "<style scoped>\n",
       "    .dataframe tbody tr th:only-of-type {\n",
       "        vertical-align: middle;\n",
       "    }\n",
       "\n",
       "    .dataframe tbody tr th {\n",
       "        vertical-align: top;\n",
       "    }\n",
       "\n",
       "    .dataframe thead th {\n",
       "        text-align: right;\n",
       "    }\n",
       "</style>\n",
       "<table border=\"1\" class=\"dataframe\">\n",
       "  <thead>\n",
       "    <tr style=\"text-align: right;\">\n",
       "      <th></th>\n",
       "      <th>id</th>\n",
       "      <th>raw_grade</th>\n",
       "      <th>grade</th>\n",
       "    </tr>\n",
       "  </thead>\n",
       "  <tbody>\n",
       "    <tr>\n",
       "      <th>0</th>\n",
       "      <td>1</td>\n",
       "      <td>a</td>\n",
       "      <td>very good</td>\n",
       "    </tr>\n",
       "    <tr>\n",
       "      <th>1</th>\n",
       "      <td>2</td>\n",
       "      <td>a</td>\n",
       "      <td>very good</td>\n",
       "    </tr>\n",
       "    <tr>\n",
       "      <th>3</th>\n",
       "      <td>4</td>\n",
       "      <td>a</td>\n",
       "      <td>very good</td>\n",
       "    </tr>\n",
       "    <tr>\n",
       "      <th>4</th>\n",
       "      <td>5</td>\n",
       "      <td>a</td>\n",
       "      <td>very good</td>\n",
       "    </tr>\n",
       "    <tr>\n",
       "      <th>2</th>\n",
       "      <td>3</td>\n",
       "      <td>b</td>\n",
       "      <td>good</td>\n",
       "    </tr>\n",
       "    <tr>\n",
       "      <th>5</th>\n",
       "      <td>6</td>\n",
       "      <td>e</td>\n",
       "      <td>very bad</td>\n",
       "    </tr>\n",
       "  </tbody>\n",
       "</table>\n",
       "</div>"
      ],
      "text/plain": [
       "   id raw_grade      grade\n",
       "0   1         a  very good\n",
       "1   2         a  very good\n",
       "3   4         a  very good\n",
       "4   5         a  very good\n",
       "2   3         b       good\n",
       "5   6         e   very bad"
      ]
     },
     "execution_count": 199,
     "metadata": {},
     "output_type": "execute_result"
    }
   ],
   "source": [
    "df.sort_values(by=\"grade\", ascending=False)"
   ]
  },
  {
   "cell_type": "markdown",
   "metadata": {},
   "source": [
    "Grouping by a categorical column also shows empty categories."
   ]
  },
  {
   "cell_type": "code",
   "execution_count": 200,
   "metadata": {},
   "outputs": [
    {
     "data": {
      "text/plain": [
       "grade\n",
       "very bad     1\n",
       "bad          0\n",
       "medium       0\n",
       "good         1\n",
       "very good    4\n",
       "dtype: int64"
      ]
     },
     "execution_count": 200,
     "metadata": {},
     "output_type": "execute_result"
    }
   ],
   "source": [
    "df.groupby(\"grade\").size()"
   ]
  },
  {
   "cell_type": "markdown",
   "metadata": {},
   "source": [
    "## Plotting"
   ]
  },
  {
   "cell_type": "markdown",
   "metadata": {},
   "source": [
    "We use the standard convention for referencing the matplotlib API."
   ]
  },
  {
   "cell_type": "code",
   "execution_count": 201,
   "metadata": {},
   "outputs": [],
   "source": [
    "import matplotlib.pyplot as plt\n",
    "plt.close(\"all\")"
   ]
  },
  {
   "cell_type": "markdown",
   "metadata": {},
   "source": [
    "The `close()` method is used to close a figure window."
   ]
  },
  {
   "cell_type": "code",
   "execution_count": 202,
   "metadata": {},
   "outputs": [
    {
     "data": {
      "text/plain": [
       "<AxesSubplot:>"
      ]
     },
     "execution_count": 202,
     "metadata": {},
     "output_type": "execute_result"
    },
    {
     "data": {
      "image/png": "[encoded data removed]",
      "image/svg+xml": "<?xml version=\"1.0\" encoding=\"utf-8\" standalone=\"no\"?>\r\n<!DOCTYPE svg PUBLIC \"-//W3C//DTD SVG 1.1//EN\"\r\n  \"http://www.w3.org/Graphics/SVG/1.1/DTD/svg11.dtd\">\r\n<svg height=\"262.339146pt\" version=\"1.1\" viewBox=\"0 0 370.942188 262.339146\" width=\"370.942188pt\" xmlns=\"http://www.w3.org/2000/svg\" xmlns:xlink=\"http://www.w3.org/1999/xlink\">\r\n <metadata>\r\n  <rdf:RDF xmlns:cc=\"http://creativecommons.org/ns#\" xmlns:dc=\"http://purl.org/dc/elements/1.1/\" xmlns:rdf=\"http://www.w3.org/1999/02/22-rdf-syntax-ns#\">\r\n   <cc:Work>\r\n    <dc:type rdf:resource=\"http://purl.org/dc/dcmitype/StillImage\"/>\r\n    <dc:date>2022-03-20T16:35:50.192909</dc:date>\r\n    <dc:format>image/svg+xml</dc:format>\r\n    <dc:creator>\r\n     <cc:Agent>\r\n      <dc:title>Matplotlib v3.4.3, https://matplotlib.org/</dc:title>\r\n     </cc:Agent>\r\n    </dc:creator>\r\n   </cc:Work>\r\n  </rdf:RDF>\r\n </metadata>\r\n <defs>\r\n  <style type=\"text/css\">*{stroke-linecap:butt;stroke-linejoin:round;}</style>\r\n </defs>\r\n <g id=\"figure_1\">\r\n  <g id=\"patch_1\">\r\n   <path d=\"M 0 262.339146 \r\nL 370.942188 262.339146 \r\nL 370.942188 0 \r\nL 0 0 \r\nz\r\n\" style=\"fill:none;\"/>\r\n  </g>\r\n  <g id=\"axes_1\">\r\n   <g id=\"patch_2\">\r\n    <path d=\"M 28.942188 227.263209 \r\nL 363.742188 227.263209 \r\nL 363.742188 9.823209 \r\nL 28.942188 9.823209 \r\nz\r\n\" style=\"fill:#ffffff;\"/>\r\n   </g>\r\n   <g id=\"matplotlib.axis_1\">\r\n    <g id=\"xtick_1\">\r\n     <g id=\"line2d_1\">\r\n      <defs>\r\n       <path d=\"M 0 0 \r\nL 0 3.5 \r\n\" id=\"m54bf851a0a\" style=\"stroke:#000000;stroke-width:0.8;\"/>\r\n      </defs>\r\n      <g>\r\n       <use style=\"stroke:#000000;stroke-width:0.8;\" x=\"28.942187\" xlink:href=\"#m54bf851a0a\" y=\"227.263209\"/>\r\n      </g>\r\n     </g>\r\n     <g id=\"text_1\">\r\n      <!-- Jan -->\r\n      <g transform=\"translate(21.234375 241.861646)scale(0.1 -0.1)\">\r\n       <defs>\r\n        <path d=\"M 628 4666 \r\nL 1259 4666 \r\nL 1259 325 \r\nQ 1259 -519 939 -900 \r\nQ 619 -1281 -91 -1281 \r\nL -331 -1281 \r\nL -331 -750 \r\nL -134 -750 \r\nQ 284 -750 456 -515 \r\nQ 628 -281 628 325 \r\nL 628 4666 \r\nz\r\n\" id=\"DejaVuSans-4a\" transform=\"scale(0.015625)\"/>\r\n        <path d=\"M 2194 1759 \r\nQ 1497 1759 1228 1600 \r\nQ 959 1441 959 1056 \r\nQ 959 750 1161 570 \r\nQ 1363 391 1709 391 \r\nQ 2188 391 2477 730 \r\nQ 2766 1069 2766 1631 \r\nL 2766 1759 \r\nL 2194 1759 \r\nz\r\nM 3341 1997 \r\nL 3341 0 \r\nL 2766 0 \r\nL 2766 531 \r\nQ 2569 213 2275 61 \r\nQ 1981 -91 1556 -91 \r\nQ 1019 -91 701 211 \r\nQ 384 513 384 1019 \r\nQ 384 1609 779 1909 \r\nQ 1175 2209 1959 2209 \r\nL 2766 2209 \r\nL 2766 2266 \r\nQ 2766 2663 2505 2880 \r\nQ 2244 3097 1772 3097 \r\nQ 1472 3097 1187 3025 \r\nQ 903 2953 641 2809 \r\nL 641 3341 \r\nQ 956 3463 1253 3523 \r\nQ 1550 3584 1831 3584 \r\nQ 2591 3584 2966 3190 \r\nQ 3341 2797 3341 1997 \r\nz\r\n\" id=\"DejaVuSans-61\" transform=\"scale(0.015625)\"/>\r\n        <path d=\"M 3513 2113 \r\nL 3513 0 \r\nL 2938 0 \r\nL 2938 2094 \r\nQ 2938 2591 2744 2837 \r\nQ 2550 3084 2163 3084 \r\nQ 1697 3084 1428 2787 \r\nQ 1159 2491 1159 1978 \r\nL 1159 0 \r\nL 581 0 \r\nL 581 3500 \r\nL 1159 3500 \r\nL 1159 2956 \r\nQ 1366 3272 1645 3428 \r\nQ 1925 3584 2291 3584 \r\nQ 2894 3584 3203 3211 \r\nQ 3513 2838 3513 2113 \r\nz\r\n\" id=\"DejaVuSans-6e\" transform=\"scale(0.015625)\"/>\r\n       </defs>\r\n       <use xlink:href=\"#DejaVuSans-4a\"/>\r\n       <use x=\"29.492188\" xlink:href=\"#DejaVuSans-61\"/>\r\n       <use x=\"90.771484\" xlink:href=\"#DejaVuSans-6e\"/>\r\n      </g>\r\n      <!-- 2022 -->\r\n      <g transform=\"translate(16.217187 253.059459)scale(0.1 -0.1)\">\r\n       <defs>\r\n        <path d=\"M 1228 531 \r\nL 3431 531 \r\nL 3431 0 \r\nL 469 0 \r\nL 469 531 \r\nQ 828 903 1448 1529 \r\nQ 2069 2156 2228 2338 \r\nQ 2531 2678 2651 2914 \r\nQ 2772 3150 2772 3378 \r\nQ 2772 3750 2511 3984 \r\nQ 2250 4219 1831 4219 \r\nQ 1534 4219 1204 4116 \r\nQ 875 4013 500 3803 \r\nL 500 4441 \r\nQ 881 4594 1212 4672 \r\nQ 1544 4750 1819 4750 \r\nQ 2544 4750 2975 4387 \r\nQ 3406 4025 3406 3419 \r\nQ 3406 3131 3298 2873 \r\nQ 3191 2616 2906 2266 \r\nQ 2828 2175 2409 1742 \r\nQ 1991 1309 1228 531 \r\nz\r\n\" id=\"DejaVuSans-32\" transform=\"scale(0.015625)\"/>\r\n        <path d=\"M 2034 4250 \r\nQ 1547 4250 1301 3770 \r\nQ 1056 3291 1056 2328 \r\nQ 1056 1369 1301 889 \r\nQ 1547 409 2034 409 \r\nQ 2525 409 2770 889 \r\nQ 3016 1369 3016 2328 \r\nQ 3016 3291 2770 3770 \r\nQ 2525 4250 2034 4250 \r\nz\r\nM 2034 4750 \r\nQ 2819 4750 3233 4129 \r\nQ 3647 3509 3647 2328 \r\nQ 3647 1150 3233 529 \r\nQ 2819 -91 2034 -91 \r\nQ 1250 -91 836 529 \r\nQ 422 1150 422 2328 \r\nQ 422 3509 836 4129 \r\nQ 1250 4750 2034 4750 \r\nz\r\n\" id=\"DejaVuSans-30\" transform=\"scale(0.015625)\"/>\r\n       </defs>\r\n       <use xlink:href=\"#DejaVuSans-32\"/>\r\n       <use x=\"63.623047\" xlink:href=\"#DejaVuSans-30\"/>\r\n       <use x=\"127.246094\" xlink:href=\"#DejaVuSans-32\"/>\r\n       <use x=\"190.869141\" xlink:href=\"#DejaVuSans-32\"/>\r\n      </g>\r\n     </g>\r\n    </g>\r\n    <g id=\"xtick_2\">\r\n     <g id=\"line2d_2\">\r\n      <g>\r\n       <use style=\"stroke:#000000;stroke-width:0.8;\" x=\"151.266512\" xlink:href=\"#m54bf851a0a\" y=\"227.263209\"/>\r\n      </g>\r\n     </g>\r\n     <g id=\"text_2\">\r\n      <!-- Jan -->\r\n      <g transform=\"translate(143.558699 241.861646)scale(0.1 -0.1)\">\r\n       <use xlink:href=\"#DejaVuSans-4a\"/>\r\n       <use x=\"29.492188\" xlink:href=\"#DejaVuSans-61\"/>\r\n       <use x=\"90.771484\" xlink:href=\"#DejaVuSans-6e\"/>\r\n      </g>\r\n      <!-- 2023 -->\r\n      <g transform=\"translate(138.541512 253.059459)scale(0.1 -0.1)\">\r\n       <defs>\r\n        <path d=\"M 2597 2516 \r\nQ 3050 2419 3304 2112 \r\nQ 3559 1806 3559 1356 \r\nQ 3559 666 3084 287 \r\nQ 2609 -91 1734 -91 \r\nQ 1441 -91 1130 -33 \r\nQ 819 25 488 141 \r\nL 488 750 \r\nQ 750 597 1062 519 \r\nQ 1375 441 1716 441 \r\nQ 2309 441 2620 675 \r\nQ 2931 909 2931 1356 \r\nQ 2931 1769 2642 2001 \r\nQ 2353 2234 1838 2234 \r\nL 1294 2234 \r\nL 1294 2753 \r\nL 1863 2753 \r\nQ 2328 2753 2575 2939 \r\nQ 2822 3125 2822 3475 \r\nQ 2822 3834 2567 4026 \r\nQ 2313 4219 1838 4219 \r\nQ 1578 4219 1281 4162 \r\nQ 984 4106 628 3988 \r\nL 628 4550 \r\nQ 988 4650 1302 4700 \r\nQ 1616 4750 1894 4750 \r\nQ 2613 4750 3031 4423 \r\nQ 3450 4097 3450 3541 \r\nQ 3450 3153 3228 2886 \r\nQ 3006 2619 2597 2516 \r\nz\r\n\" id=\"DejaVuSans-33\" transform=\"scale(0.015625)\"/>\r\n       </defs>\r\n       <use xlink:href=\"#DejaVuSans-32\"/>\r\n       <use x=\"63.623047\" xlink:href=\"#DejaVuSans-30\"/>\r\n       <use x=\"127.246094\" xlink:href=\"#DejaVuSans-32\"/>\r\n       <use x=\"190.869141\" xlink:href=\"#DejaVuSans-33\"/>\r\n      </g>\r\n     </g>\r\n    </g>\r\n    <g id=\"xtick_3\">\r\n     <g id=\"line2d_3\">\r\n      <g>\r\n       <use style=\"stroke:#000000;stroke-width:0.8;\" x=\"273.590836\" xlink:href=\"#m54bf851a0a\" y=\"227.263209\"/>\r\n      </g>\r\n     </g>\r\n     <g id=\"text_3\">\r\n      <!-- Jan -->\r\n      <g transform=\"translate(265.883024 241.861646)scale(0.1 -0.1)\">\r\n       <use xlink:href=\"#DejaVuSans-4a\"/>\r\n       <use x=\"29.492188\" xlink:href=\"#DejaVuSans-61\"/>\r\n       <use x=\"90.771484\" xlink:href=\"#DejaVuSans-6e\"/>\r\n      </g>\r\n      <!-- 2024 -->\r\n      <g transform=\"translate(260.865836 253.059459)scale(0.1 -0.1)\">\r\n       <defs>\r\n        <path d=\"M 2419 4116 \r\nL 825 1625 \r\nL 2419 1625 \r\nL 2419 4116 \r\nz\r\nM 2253 4666 \r\nL 3047 4666 \r\nL 3047 1625 \r\nL 3713 1625 \r\nL 3713 1100 \r\nL 3047 1100 \r\nL 3047 0 \r\nL 2419 0 \r\nL 2419 1100 \r\nL 313 1100 \r\nL 313 1709 \r\nL 2253 4666 \r\nz\r\n\" id=\"DejaVuSans-34\" transform=\"scale(0.015625)\"/>\r\n       </defs>\r\n       <use xlink:href=\"#DejaVuSans-32\"/>\r\n       <use x=\"63.623047\" xlink:href=\"#DejaVuSans-30\"/>\r\n       <use x=\"127.246094\" xlink:href=\"#DejaVuSans-32\"/>\r\n       <use x=\"190.869141\" xlink:href=\"#DejaVuSans-34\"/>\r\n      </g>\r\n     </g>\r\n    </g>\r\n    <g id=\"xtick_4\">\r\n     <g id=\"line2d_4\">\r\n      <g>\r\n       <use style=\"stroke:#000000;stroke-width:0.8;\" x=\"363.742188\" xlink:href=\"#m54bf851a0a\" y=\"227.263209\"/>\r\n      </g>\r\n     </g>\r\n    </g>\r\n    <g id=\"xtick_5\">\r\n     <g id=\"line2d_5\">\r\n      <defs>\r\n       <path d=\"M 0 0 \r\nL 0 2 \r\n\" id=\"mf0409a6331\" style=\"stroke:#000000;stroke-width:0.6;\"/>\r\n      </defs>\r\n      <g>\r\n       <use style=\"stroke:#000000;stroke-width:0.6;\" x=\"39.331377\" xlink:href=\"#mf0409a6331\" y=\"227.263209\"/>\r\n      </g>\r\n     </g>\r\n    </g>\r\n    <g id=\"xtick_6\">\r\n     <g id=\"line2d_6\">\r\n      <g>\r\n       <use style=\"stroke:#000000;stroke-width:0.6;\" x=\"48.71516\" xlink:href=\"#mf0409a6331\" y=\"227.263209\"/>\r\n      </g>\r\n     </g>\r\n    </g>\r\n    <g id=\"xtick_7\">\r\n     <g id=\"line2d_7\">\r\n      <g>\r\n       <use style=\"stroke:#000000;stroke-width:0.6;\" x=\"59.10435\" xlink:href=\"#mf0409a6331\" y=\"227.263209\"/>\r\n      </g>\r\n     </g>\r\n    </g>\r\n    <g id=\"xtick_8\">\r\n     <g id=\"line2d_8\">\r\n      <g>\r\n       <use style=\"stroke:#000000;stroke-width:0.6;\" x=\"69.158404\" xlink:href=\"#mf0409a6331\" y=\"227.263209\"/>\r\n      </g>\r\n     </g>\r\n    </g>\r\n    <g id=\"xtick_9\">\r\n     <g id=\"line2d_9\">\r\n      <g>\r\n       <use style=\"stroke:#000000;stroke-width:0.6;\" x=\"79.547593\" xlink:href=\"#mf0409a6331\" y=\"227.263209\"/>\r\n      </g>\r\n     </g>\r\n    </g>\r\n    <g id=\"xtick_10\">\r\n     <g id=\"line2d_10\">\r\n      <g>\r\n       <use style=\"stroke:#000000;stroke-width:0.6;\" x=\"89.601647\" xlink:href=\"#mf0409a6331\" y=\"227.263209\"/>\r\n      </g>\r\n     </g>\r\n     <g id=\"text_4\">\r\n      <!-- Jul -->\r\n      <g transform=\"translate(83.568834 240.261646)scale(0.1 -0.1)\">\r\n       <defs>\r\n        <path d=\"M 544 1381 \r\nL 544 3500 \r\nL 1119 3500 \r\nL 1119 1403 \r\nQ 1119 906 1312 657 \r\nQ 1506 409 1894 409 \r\nQ 2359 409 2629 706 \r\nQ 2900 1003 2900 1516 \r\nL 2900 3500 \r\nL 3475 3500 \r\nL 3475 0 \r\nL 2900 0 \r\nL 2900 538 \r\nQ 2691 219 2414 64 \r\nQ 2138 -91 1772 -91 \r\nQ 1169 -91 856 284 \r\nQ 544 659 544 1381 \r\nz\r\nM 1991 3584 \r\nL 1991 3584 \r\nz\r\n\" id=\"DejaVuSans-75\" transform=\"scale(0.015625)\"/>\r\n        <path d=\"M 603 4863 \r\nL 1178 4863 \r\nL 1178 0 \r\nL 603 0 \r\nL 603 4863 \r\nz\r\n\" id=\"DejaVuSans-6c\" transform=\"scale(0.015625)\"/>\r\n       </defs>\r\n       <use xlink:href=\"#DejaVuSans-4a\"/>\r\n       <use x=\"29.492188\" xlink:href=\"#DejaVuSans-75\"/>\r\n       <use x=\"92.871094\" xlink:href=\"#DejaVuSans-6c\"/>\r\n      </g>\r\n     </g>\r\n    </g>\r\n    <g id=\"xtick_11\">\r\n     <g id=\"line2d_11\">\r\n      <g>\r\n       <use style=\"stroke:#000000;stroke-width:0.6;\" x=\"99.990836\" xlink:href=\"#mf0409a6331\" y=\"227.263209\"/>\r\n      </g>\r\n     </g>\r\n    </g>\r\n    <g id=\"xtick_12\">\r\n     <g id=\"line2d_12\">\r\n      <g>\r\n       <use style=\"stroke:#000000;stroke-width:0.6;\" x=\"110.380025\" xlink:href=\"#mf0409a6331\" y=\"227.263209\"/>\r\n      </g>\r\n     </g>\r\n    </g>\r\n    <g id=\"xtick_13\">\r\n     <g id=\"line2d_13\">\r\n      <g>\r\n       <use style=\"stroke:#000000;stroke-width:0.6;\" x=\"120.434079\" xlink:href=\"#mf0409a6331\" y=\"227.263209\"/>\r\n      </g>\r\n     </g>\r\n    </g>\r\n    <g id=\"xtick_14\">\r\n     <g id=\"line2d_14\">\r\n      <g>\r\n       <use style=\"stroke:#000000;stroke-width:0.6;\" x=\"130.823269\" xlink:href=\"#mf0409a6331\" y=\"227.263209\"/>\r\n      </g>\r\n     </g>\r\n    </g>\r\n    <g id=\"xtick_15\">\r\n     <g id=\"line2d_15\">\r\n      <g>\r\n       <use style=\"stroke:#000000;stroke-width:0.6;\" x=\"140.877323\" xlink:href=\"#mf0409a6331\" y=\"227.263209\"/>\r\n      </g>\r\n     </g>\r\n    </g>\r\n    <g id=\"xtick_16\">\r\n     <g id=\"line2d_16\">\r\n      <g>\r\n       <use style=\"stroke:#000000;stroke-width:0.6;\" x=\"161.655701\" xlink:href=\"#mf0409a6331\" y=\"227.263209\"/>\r\n      </g>\r\n     </g>\r\n    </g>\r\n    <g id=\"xtick_17\">\r\n     <g id=\"line2d_17\">\r\n      <g>\r\n       <use style=\"stroke:#000000;stroke-width:0.6;\" x=\"171.039485\" xlink:href=\"#mf0409a6331\" y=\"227.263209\"/>\r\n      </g>\r\n     </g>\r\n    </g>\r\n    <g id=\"xtick_18\">\r\n     <g id=\"line2d_18\">\r\n      <g>\r\n       <use style=\"stroke:#000000;stroke-width:0.6;\" x=\"181.428674\" xlink:href=\"#mf0409a6331\" y=\"227.263209\"/>\r\n      </g>\r\n     </g>\r\n    </g>\r\n    <g id=\"xtick_19\">\r\n     <g id=\"line2d_19\">\r\n      <g>\r\n       <use style=\"stroke:#000000;stroke-width:0.6;\" x=\"191.482728\" xlink:href=\"#mf0409a6331\" y=\"227.263209\"/>\r\n      </g>\r\n     </g>\r\n    </g>\r\n    <g id=\"xtick_20\">\r\n     <g id=\"line2d_20\">\r\n      <g>\r\n       <use style=\"stroke:#000000;stroke-width:0.6;\" x=\"201.871917\" xlink:href=\"#mf0409a6331\" y=\"227.263209\"/>\r\n      </g>\r\n     </g>\r\n    </g>\r\n    <g id=\"xtick_21\">\r\n     <g id=\"line2d_21\">\r\n      <g>\r\n       <use style=\"stroke:#000000;stroke-width:0.6;\" x=\"211.925971\" xlink:href=\"#mf0409a6331\" y=\"227.263209\"/>\r\n      </g>\r\n     </g>\r\n     <g id=\"text_5\">\r\n      <!-- Jul -->\r\n      <g transform=\"translate(205.893159 240.261646)scale(0.1 -0.1)\">\r\n       <use xlink:href=\"#DejaVuSans-4a\"/>\r\n       <use x=\"29.492188\" xlink:href=\"#DejaVuSans-75\"/>\r\n       <use x=\"92.871094\" xlink:href=\"#DejaVuSans-6c\"/>\r\n      </g>\r\n     </g>\r\n    </g>\r\n    <g id=\"xtick_22\">\r\n     <g id=\"line2d_22\">\r\n      <g>\r\n       <use style=\"stroke:#000000;stroke-width:0.6;\" x=\"222.31516\" xlink:href=\"#mf0409a6331\" y=\"227.263209\"/>\r\n      </g>\r\n     </g>\r\n    </g>\r\n    <g id=\"xtick_23\">\r\n     <g id=\"line2d_23\">\r\n      <g>\r\n       <use style=\"stroke:#000000;stroke-width:0.6;\" x=\"232.70435\" xlink:href=\"#mf0409a6331\" y=\"227.263209\"/>\r\n      </g>\r\n     </g>\r\n    </g>\r\n    <g id=\"xtick_24\">\r\n     <g id=\"line2d_24\">\r\n      <g>\r\n       <use style=\"stroke:#000000;stroke-width:0.6;\" x=\"242.758404\" xlink:href=\"#mf0409a6331\" y=\"227.263209\"/>\r\n      </g>\r\n     </g>\r\n    </g>\r\n    <g id=\"xtick_25\">\r\n     <g id=\"line2d_25\">\r\n      <g>\r\n       <use style=\"stroke:#000000;stroke-width:0.6;\" x=\"253.147593\" xlink:href=\"#mf0409a6331\" y=\"227.263209\"/>\r\n      </g>\r\n     </g>\r\n    </g>\r\n    <g id=\"xtick_26\">\r\n     <g id=\"line2d_26\">\r\n      <g>\r\n       <use style=\"stroke:#000000;stroke-width:0.6;\" x=\"263.201647\" xlink:href=\"#mf0409a6331\" y=\"227.263209\"/>\r\n      </g>\r\n     </g>\r\n    </g>\r\n    <g id=\"xtick_27\">\r\n     <g id=\"line2d_27\">\r\n      <g>\r\n       <use style=\"stroke:#000000;stroke-width:0.6;\" x=\"283.980025\" xlink:href=\"#mf0409a6331\" y=\"227.263209\"/>\r\n      </g>\r\n     </g>\r\n    </g>\r\n    <g id=\"xtick_28\">\r\n     <g id=\"line2d_28\">\r\n      <g>\r\n       <use style=\"stroke:#000000;stroke-width:0.6;\" x=\"293.698944\" xlink:href=\"#mf0409a6331\" y=\"227.263209\"/>\r\n      </g>\r\n     </g>\r\n    </g>\r\n    <g id=\"xtick_29\">\r\n     <g id=\"line2d_29\">\r\n      <g>\r\n       <use style=\"stroke:#000000;stroke-width:0.6;\" x=\"304.088133\" xlink:href=\"#mf0409a6331\" y=\"227.263209\"/>\r\n      </g>\r\n     </g>\r\n    </g>\r\n    <g id=\"xtick_30\">\r\n     <g id=\"line2d_30\">\r\n      <g>\r\n       <use style=\"stroke:#000000;stroke-width:0.6;\" x=\"314.142187\" xlink:href=\"#mf0409a6331\" y=\"227.263209\"/>\r\n      </g>\r\n     </g>\r\n    </g>\r\n    <g id=\"xtick_31\">\r\n     <g id=\"line2d_31\">\r\n      <g>\r\n       <use style=\"stroke:#000000;stroke-width:0.6;\" x=\"324.531377\" xlink:href=\"#mf0409a6331\" y=\"227.263209\"/>\r\n      </g>\r\n     </g>\r\n    </g>\r\n    <g id=\"xtick_32\">\r\n     <g id=\"line2d_32\">\r\n      <g>\r\n       <use style=\"stroke:#000000;stroke-width:0.6;\" x=\"334.585431\" xlink:href=\"#mf0409a6331\" y=\"227.263209\"/>\r\n      </g>\r\n     </g>\r\n     <g id=\"text_6\">\r\n      <!-- Jul -->\r\n      <g transform=\"translate(328.552618 240.261646)scale(0.1 -0.1)\">\r\n       <use xlink:href=\"#DejaVuSans-4a\"/>\r\n       <use x=\"29.492188\" xlink:href=\"#DejaVuSans-75\"/>\r\n       <use x=\"92.871094\" xlink:href=\"#DejaVuSans-6c\"/>\r\n      </g>\r\n     </g>\r\n    </g>\r\n    <g id=\"xtick_33\">\r\n     <g id=\"line2d_33\">\r\n      <g>\r\n       <use style=\"stroke:#000000;stroke-width:0.6;\" x=\"344.97462\" xlink:href=\"#mf0409a6331\" y=\"227.263209\"/>\r\n      </g>\r\n     </g>\r\n    </g>\r\n    <g id=\"xtick_34\">\r\n     <g id=\"line2d_34\">\r\n      <g>\r\n       <use style=\"stroke:#000000;stroke-width:0.6;\" x=\"355.363809\" xlink:href=\"#mf0409a6331\" y=\"227.263209\"/>\r\n      </g>\r\n     </g>\r\n    </g>\r\n   </g>\r\n   <g id=\"matplotlib.axis_2\">\r\n    <g id=\"ytick_1\">\r\n     <g id=\"line2d_35\">\r\n      <defs>\r\n       <path d=\"M 0 0 \r\nL -3.5 0 \r\n\" id=\"m17798d3a60\" style=\"stroke:#000000;stroke-width:0.8;\"/>\r\n      </defs>\r\n      <g>\r\n       <use style=\"stroke:#000000;stroke-width:0.8;\" x=\"28.942188\" xlink:href=\"#m17798d3a60\" y=\"201.687732\"/>\r\n      </g>\r\n     </g>\r\n     <g id=\"text_7\">\r\n      <!-- −3 -->\r\n      <g transform=\"translate(7.2 205.486951)scale(0.1 -0.1)\">\r\n       <defs>\r\n        <path d=\"M 678 2272 \r\nL 4684 2272 \r\nL 4684 1741 \r\nL 678 1741 \r\nL 678 2272 \r\nz\r\n\" id=\"DejaVuSans-2212\" transform=\"scale(0.015625)\"/>\r\n       </defs>\r\n       <use xlink:href=\"#DejaVuSans-2212\"/>\r\n       <use x=\"83.789062\" xlink:href=\"#DejaVuSans-33\"/>\r\n      </g>\r\n     </g>\r\n    </g>\r\n    <g id=\"ytick_2\">\r\n     <g id=\"line2d_36\">\r\n      <g>\r\n       <use style=\"stroke:#000000;stroke-width:0.8;\" x=\"28.942188\" xlink:href=\"#m17798d3a60\" y=\"174.446516\"/>\r\n      </g>\r\n     </g>\r\n     <g id=\"text_8\">\r\n      <!-- −2 -->\r\n      <g transform=\"translate(7.2 178.245735)scale(0.1 -0.1)\">\r\n       <use xlink:href=\"#DejaVuSans-2212\"/>\r\n       <use x=\"83.789062\" xlink:href=\"#DejaVuSans-32\"/>\r\n      </g>\r\n     </g>\r\n    </g>\r\n    <g id=\"ytick_3\">\r\n     <g id=\"line2d_37\">\r\n      <g>\r\n       <use style=\"stroke:#000000;stroke-width:0.8;\" x=\"28.942188\" xlink:href=\"#m17798d3a60\" y=\"147.2053\"/>\r\n      </g>\r\n     </g>\r\n     <g id=\"text_9\">\r\n      <!-- −1 -->\r\n      <g transform=\"translate(7.2 151.004518)scale(0.1 -0.1)\">\r\n       <defs>\r\n        <path d=\"M 794 531 \r\nL 1825 531 \r\nL 1825 4091 \r\nL 703 3866 \r\nL 703 4441 \r\nL 1819 4666 \r\nL 2450 4666 \r\nL 2450 531 \r\nL 3481 531 \r\nL 3481 0 \r\nL 794 0 \r\nL 794 531 \r\nz\r\n\" id=\"DejaVuSans-31\" transform=\"scale(0.015625)\"/>\r\n       </defs>\r\n       <use xlink:href=\"#DejaVuSans-2212\"/>\r\n       <use x=\"83.789062\" xlink:href=\"#DejaVuSans-31\"/>\r\n      </g>\r\n     </g>\r\n    </g>\r\n    <g id=\"ytick_4\">\r\n     <g id=\"line2d_38\">\r\n      <g>\r\n       <use style=\"stroke:#000000;stroke-width:0.8;\" x=\"28.942188\" xlink:href=\"#m17798d3a60\" y=\"119.964083\"/>\r\n      </g>\r\n     </g>\r\n     <g id=\"text_10\">\r\n      <!-- 0 -->\r\n      <g transform=\"translate(15.579688 123.763302)scale(0.1 -0.1)\">\r\n       <use xlink:href=\"#DejaVuSans-30\"/>\r\n      </g>\r\n     </g>\r\n    </g>\r\n    <g id=\"ytick_5\">\r\n     <g id=\"line2d_39\">\r\n      <g>\r\n       <use style=\"stroke:#000000;stroke-width:0.8;\" x=\"28.942188\" xlink:href=\"#m17798d3a60\" y=\"92.722867\"/>\r\n      </g>\r\n     </g>\r\n     <g id=\"text_11\">\r\n      <!-- 1 -->\r\n      <g transform=\"translate(15.579688 96.522086)scale(0.1 -0.1)\">\r\n       <use xlink:href=\"#DejaVuSans-31\"/>\r\n      </g>\r\n     </g>\r\n    </g>\r\n    <g id=\"ytick_6\">\r\n     <g id=\"line2d_40\">\r\n      <g>\r\n       <use style=\"stroke:#000000;stroke-width:0.8;\" x=\"28.942188\" xlink:href=\"#m17798d3a60\" y=\"65.481651\"/>\r\n      </g>\r\n     </g>\r\n     <g id=\"text_12\">\r\n      <!-- 2 -->\r\n      <g transform=\"translate(15.579688 69.28087)scale(0.1 -0.1)\">\r\n       <use xlink:href=\"#DejaVuSans-32\"/>\r\n      </g>\r\n     </g>\r\n    </g>\r\n    <g id=\"ytick_7\">\r\n     <g id=\"line2d_41\">\r\n      <g>\r\n       <use style=\"stroke:#000000;stroke-width:0.8;\" x=\"28.942188\" xlink:href=\"#m17798d3a60\" y=\"38.240435\"/>\r\n      </g>\r\n     </g>\r\n     <g id=\"text_13\">\r\n      <!-- 3 -->\r\n      <g transform=\"translate(15.579688 42.039654)scale(0.1 -0.1)\">\r\n       <use xlink:href=\"#DejaVuSans-33\"/>\r\n      </g>\r\n     </g>\r\n    </g>\r\n    <g id=\"ytick_8\">\r\n     <g id=\"line2d_42\">\r\n      <g>\r\n       <use style=\"stroke:#000000;stroke-width:0.8;\" x=\"28.942188\" xlink:href=\"#m17798d3a60\" y=\"10.999219\"/>\r\n      </g>\r\n     </g>\r\n     <g id=\"text_14\">\r\n      <!-- 4 -->\r\n      <g transform=\"translate(15.579688 14.798438)scale(0.1 -0.1)\">\r\n       <use xlink:href=\"#DejaVuSans-34\"/>\r\n      </g>\r\n     </g>\r\n    </g>\r\n   </g>\r\n   <g id=\"line2d_43\">\r\n    <path clip-path=\"url(#p864b472aa4)\" d=\"M 28.942187 103.410433 \r\nL 29.277323 87.756309 \r\nL 29.612458 111.004066 \r\nL 29.947593 88.078857 \r\nL 30.282728 112.749637 \r\nL 30.617863 173.819908 \r\nL 30.952998 104.133996 \r\nL 31.288133 100.765446 \r\nL 31.623269 79.998108 \r\nL 31.958404 105.169726 \r\nL 32.293539 74.92139 \r\nL 32.963809 180.221819 \r\nL 33.298944 68.424918 \r\nL 33.634079 139.566542 \r\nL 34.30435 117.21026 \r\nL 34.639485 127.300027 \r\nL 34.97462 110.289705 \r\nL 35.309755 144.126318 \r\nL 35.64489 143.814112 \r\nL 35.980025 109.1813 \r\nL 36.31516 126.927414 \r\nL 36.650296 98.253447 \r\nL 36.985431 95.987073 \r\nL 37.320566 86.431874 \r\nL 37.655701 169.297473 \r\nL 37.990836 68.193693 \r\nL 38.325971 132.806333 \r\nL 38.661106 127.043334 \r\nL 38.996242 116.351412 \r\nL 39.331377 138.524488 \r\nL 39.666512 143.384427 \r\nL 40.001647 135.641889 \r\nL 40.671917 84.633554 \r\nL 41.007052 80.347504 \r\nL 41.342187 116.035365 \r\nL 41.677323 107.646688 \r\nL 42.012458 132.07807 \r\nL 42.347593 124.305863 \r\nL 42.682728 148.928027 \r\nL 43.017863 116.40545 \r\nL 43.352998 107.062706 \r\nL 43.688133 134.834567 \r\nL 44.023269 98.430758 \r\nL 44.358404 96.866351 \r\nL 44.693539 109.314538 \r\nL 45.028674 129.460791 \r\nL 45.363809 107.25596 \r\nL 45.698944 141.156597 \r\nL 46.034079 100.035061 \r\nL 46.369215 100.872048 \r\nL 46.70435 152.089146 \r\nL 47.039485 119.094745 \r\nL 47.37462 141.67321 \r\nL 48.04489 119.304525 \r\nL 48.380025 89.393902 \r\nL 48.71516 128.334347 \r\nL 49.050296 86.551856 \r\nL 49.385431 106.792424 \r\nL 49.720566 106.473488 \r\nL 50.055701 159.364176 \r\nL 50.390836 110.227394 \r\nL 50.725971 112.533561 \r\nL 51.061106 108.714774 \r\nL 51.396242 135.685293 \r\nL 51.731377 119.518431 \r\nL 52.066512 124.012169 \r\nL 52.401647 150.388143 \r\nL 52.736782 103.416823 \r\nL 53.071917 101.195956 \r\nL 53.407052 90.065552 \r\nL 53.742188 129.263886 \r\nL 54.077323 136.644308 \r\nL 54.412458 172.390564 \r\nL 54.747593 169.187981 \r\nL 55.082728 63.718568 \r\nL 55.752998 148.635314 \r\nL 56.088133 131.094792 \r\nL 56.423269 80.249611 \r\nL 56.758404 109.392759 \r\nL 57.093539 117.9966 \r\nL 57.763809 174.707772 \r\nL 58.434079 101.241996 \r\nL 58.769215 19.706845 \r\nL 59.439485 126.700249 \r\nL 59.77462 154.492338 \r\nL 60.109755 166.316355 \r\nL 60.44489 71.374458 \r\nL 60.780025 88.93461 \r\nL 61.11516 130.225344 \r\nL 61.450296 84.375354 \r\nL 62.455701 119.378312 \r\nL 62.790836 121.674652 \r\nL 63.125971 136.027033 \r\nL 63.461106 123.523251 \r\nL 63.796242 116.851234 \r\nL 64.131377 154.276828 \r\nL 64.466512 164.678685 \r\nL 64.801647 77.92158 \r\nL 65.471917 120.363115 \r\nL 65.807052 153.064615 \r\nL 66.142187 80.238142 \r\nL 66.477323 156.286432 \r\nL 66.812458 113.898979 \r\nL 67.147593 149.699082 \r\nL 67.482728 83.371388 \r\nL 67.817863 116.8291 \r\nL 68.152998 113.446276 \r\nL 68.488133 111.568157 \r\nL 68.823269 90.138912 \r\nL 69.493539 161.985952 \r\nL 70.163809 112.475609 \r\nL 70.834079 163.414663 \r\nL 71.169215 125.054143 \r\nL 71.50435 152.510343 \r\nL 71.839485 120.109649 \r\nL 72.17462 130.342445 \r\nL 72.509755 104.670676 \r\nL 72.84489 109.270869 \r\nL 73.180025 87.384507 \r\nL 73.51516 134.909231 \r\nL 74.185431 100.320906 \r\nL 74.520566 108.485624 \r\nL 74.855701 157.712179 \r\nL 75.190836 98.702362 \r\nL 75.525971 112.255642 \r\nL 75.861106 144.284915 \r\nL 76.196242 112.539327 \r\nL 76.531377 114.922219 \r\nL 76.866512 96.449007 \r\nL 77.201647 101.59541 \r\nL 77.536782 114.060796 \r\nL 77.871917 120.834534 \r\nL 78.207052 117.522619 \r\nL 78.542188 162.951338 \r\nL 78.877323 114.057562 \r\nL 79.212458 115.808644 \r\nL 79.547593 135.617329 \r\nL 79.882728 111.53466 \r\nL 80.217863 109.196122 \r\nL 80.552998 80.827049 \r\nL 80.888133 97.415549 \r\nL 81.558404 147.270644 \r\nL 81.893539 75.549872 \r\nL 82.228674 120.554836 \r\nL 82.563809 136.241541 \r\nL 82.898944 110.118137 \r\nL 83.234079 93.035236 \r\nL 83.569215 58.434558 \r\nL 83.90435 94.600893 \r\nL 84.239485 80.850557 \r\nL 84.909755 141.480885 \r\nL 85.24489 101.482687 \r\nL 85.580025 147.110946 \r\nL 85.91516 143.644095 \r\nL 86.250296 129.191026 \r\nL 86.585431 92.282572 \r\nL 86.920566 119.528897 \r\nL 87.255701 57.343059 \r\nL 87.590836 96.369785 \r\nL 87.925971 66.500239 \r\nL 88.261106 117.962253 \r\nL 88.596242 124.186807 \r\nL 88.931377 124.409894 \r\nL 89.266512 155.723521 \r\nL 89.936782 77.77804 \r\nL 90.271917 126.947085 \r\nL 90.607052 103.470907 \r\nL 90.942187 114.653629 \r\nL 91.277323 102.941449 \r\nL 91.612458 107.319244 \r\nL 91.947593 146.854907 \r\nL 92.282728 144.451129 \r\nL 92.617863 115.290496 \r\nL 92.952998 115.434938 \r\nL 93.288133 121.328522 \r\nL 93.623269 120.871985 \r\nL 93.958404 150.349254 \r\nL 94.293539 108.71318 \r\nL 94.628674 131.113792 \r\nL 94.963809 92.889347 \r\nL 95.298944 109.849061 \r\nL 95.634079 112.183823 \r\nL 95.969215 122.69435 \r\nL 96.30435 160.05907 \r\nL 96.639485 104.799827 \r\nL 96.97462 121.295321 \r\nL 97.309755 148.295781 \r\nL 97.64489 118.91805 \r\nL 97.980025 148.875552 \r\nL 98.31516 131.575799 \r\nL 98.650296 95.61057 \r\nL 98.985431 160.362305 \r\nL 99.320566 117.233459 \r\nL 99.655701 113.107541 \r\nL 99.990836 120.806035 \r\nL 100.325971 85.927233 \r\nL 100.661106 120.216178 \r\nL 100.996242 132.181143 \r\nL 101.331377 117.614767 \r\nL 101.666512 119.393621 \r\nL 102.001647 156.130226 \r\nL 102.336782 132.448266 \r\nL 102.671917 151.284689 \r\nL 103.007052 128.714876 \r\nL 103.342187 166.669722 \r\nL 103.677323 137.444996 \r\nL 104.012458 158.349528 \r\nL 104.347593 111.576406 \r\nL 104.682728 138.376814 \r\nL 105.017863 147.450294 \r\nL 105.352998 102.947133 \r\nL 105.688133 113.090656 \r\nL 106.023269 91.363152 \r\nL 106.358404 129.710458 \r\nL 106.693539 141.909255 \r\nL 107.028674 99.607773 \r\nL 107.363809 93.29262 \r\nL 107.698944 125.023732 \r\nL 108.034079 113.164014 \r\nL 108.369215 108.618972 \r\nL 108.70435 128.918038 \r\nL 109.039485 107.28413 \r\nL 109.37462 119.629909 \r\nL 109.709755 65.074917 \r\nL 110.04489 106.029677 \r\nL 110.380025 133.31774 \r\nL 111.050296 69.421384 \r\nL 111.385431 126.994718 \r\nL 111.720566 126.647631 \r\nL 112.055701 119.480024 \r\nL 112.390836 147.016124 \r\nL 112.725971 102.812227 \r\nL 113.061106 139.978647 \r\nL 113.396242 96.029285 \r\nL 113.731377 83.706166 \r\nL 114.066512 168.128294 \r\nL 114.401647 105.339971 \r\nL 115.071917 146.302343 \r\nL 115.407052 112.653261 \r\nL 115.742188 97.497555 \r\nL 116.077323 112.809621 \r\nL 116.412458 138.807893 \r\nL 116.747593 93.417044 \r\nL 117.082728 170.749698 \r\nL 117.417863 92.572495 \r\nL 117.752998 87.5177 \r\nL 118.088133 72.407865 \r\nL 118.423269 111.300612 \r\nL 118.758404 115.250184 \r\nL 119.093539 95.670162 \r\nL 119.428674 122.932397 \r\nL 119.763809 135.022116 \r\nL 120.098944 119.078709 \r\nL 120.434079 116.585107 \r\nL 120.769215 119.138779 \r\nL 121.10435 128.482231 \r\nL 121.439485 125.741378 \r\nL 121.77462 148.276714 \r\nL 122.109755 150.662367 \r\nL 122.780025 44.435785 \r\nL 123.11516 116.708668 \r\nL 123.450296 159.887992 \r\nL 123.785431 134.655167 \r\nL 124.120566 85.330716 \r\nL 124.455701 134.847099 \r\nL 125.125971 64.350551 \r\nL 125.461106 116.073581 \r\nL 125.796242 116.106602 \r\nL 126.131377 176.535827 \r\nL 126.466512 140.534319 \r\nL 126.801647 123.988719 \r\nL 127.136782 167.267247 \r\nL 127.471917 111.139284 \r\nL 127.807052 101.27972 \r\nL 128.142187 64.926047 \r\nL 128.477323 160.458245 \r\nL 128.812458 98.722084 \r\nL 129.147593 185.676495 \r\nL 129.482728 89.982793 \r\nL 129.817863 168.670894 \r\nL 130.152998 188.932797 \r\nL 130.488133 143.933237 \r\nL 130.823269 126.331419 \r\nL 131.158404 115.694406 \r\nL 131.493539 97.850376 \r\nL 131.828674 135.759722 \r\nL 132.834079 69.10186 \r\nL 133.169215 155.920412 \r\nL 133.50435 135.607194 \r\nL 133.839485 84.425275 \r\nL 134.17462 179.681037 \r\nL 134.509755 129.258628 \r\nL 134.84489 60.619651 \r\nL 135.180025 116.854924 \r\nL 135.51516 80.117728 \r\nL 135.850296 151.580956 \r\nL 136.185431 153.84171 \r\nL 136.520566 73.81637 \r\nL 136.855701 181.825472 \r\nL 137.190836 103.334552 \r\nL 137.525971 71.540512 \r\nL 138.196242 164.287525 \r\nL 138.866512 120.031637 \r\nL 139.201647 122.107898 \r\nL 139.536782 122.94382 \r\nL 139.871917 118.228639 \r\nL 140.207052 211.259302 \r\nL 140.542188 105.047781 \r\nL 140.877323 129.245149 \r\nL 141.212458 87.637565 \r\nL 141.547593 96.401863 \r\nL 141.882728 129.542798 \r\nL 142.217863 126.24892 \r\nL 142.552998 151.480855 \r\nL 142.888133 161.456317 \r\nL 143.223269 103.471809 \r\nL 143.558404 128.543166 \r\nL 143.893539 130.525957 \r\nL 144.228674 146.584235 \r\nL 144.898944 115.065555 \r\nL 145.234079 92.646636 \r\nL 145.569215 121.808421 \r\nL 145.90435 139.493373 \r\nL 146.239485 106.386957 \r\nL 146.57462 125.122752 \r\nL 146.909755 171.621827 \r\nL 147.24489 115.206779 \r\nL 147.580025 137.426476 \r\nL 147.91516 124.285853 \r\nL 148.250296 149.145292 \r\nL 148.585431 116.032428 \r\nL 148.920566 141.035629 \r\nL 149.255701 133.162379 \r\nL 149.590836 115.082684 \r\nL 149.925971 110.483069 \r\nL 150.261106 86.470961 \r\nL 150.596242 126.534485 \r\nL 150.931377 78.422129 \r\nL 151.266512 157.807078 \r\nL 151.601647 119.967469 \r\nL 151.936782 162.489419 \r\nL 152.271917 108.135181 \r\nL 152.607052 133.026289 \r\nL 152.942187 133.246516 \r\nL 153.277323 126.750351 \r\nL 153.612458 92.512299 \r\nL 153.947593 125.717788 \r\nL 154.282728 120.412841 \r\nL 154.952998 155.472376 \r\nL 155.288133 85.059605 \r\nL 155.623269 139.895445 \r\nL 155.958404 124.210066 \r\nL 156.293539 135.607333 \r\nL 156.628674 108.470808 \r\nL 156.963809 155.707488 \r\nL 157.298944 95.327253 \r\nL 157.634079 104.244388 \r\nL 157.969215 99.944439 \r\nL 158.30435 127.416058 \r\nL 158.639485 128.341676 \r\nL 158.97462 143.395608 \r\nL 159.309755 122.982833 \r\nL 159.64489 147.617313 \r\nL 159.980025 96.171647 \r\nL 160.31516 136.401693 \r\nL 160.650296 92.508182 \r\nL 160.985431 152.838671 \r\nL 161.320566 171.916836 \r\nL 161.655701 146.013159 \r\nL 161.990836 93.591628 \r\nL 162.325971 149.029409 \r\nL 162.661106 97.452938 \r\nL 162.996242 81.541237 \r\nL 163.666512 172.546565 \r\nL 164.001647 92.957771 \r\nL 164.336782 100.433638 \r\nL 164.671917 125.74641 \r\nL 165.007052 115.729783 \r\nL 165.342187 119.675274 \r\nL 165.677323 117.338394 \r\nL 166.012458 119.923365 \r\nL 166.347593 114.677679 \r\nL 166.682728 174.016281 \r\nL 167.017863 80.359105 \r\nL 167.352998 104.421476 \r\nL 167.688133 114.791298 \r\nL 168.023269 140.209568 \r\nL 168.358404 217.379572 \r\nL 168.693539 107.360049 \r\nL 169.028674 91.863327 \r\nL 169.363809 94.61763 \r\nL 169.698944 121.770661 \r\nL 170.034079 123.38638 \r\nL 170.369215 123.001423 \r\nL 170.70435 69.572208 \r\nL 171.039485 140.854243 \r\nL 171.37462 84.158606 \r\nL 171.709755 143.009586 \r\nL 172.04489 107.259621 \r\nL 172.380025 84.95813 \r\nL 172.71516 96.706246 \r\nL 173.050296 47.448486 \r\nL 173.385431 76.87437 \r\nL 173.720566 155.296284 \r\nL 174.055701 106.65897 \r\nL 174.390836 111.806024 \r\nL 174.725971 127.133851 \r\nL 175.061106 107.693368 \r\nL 175.396242 101.055144 \r\nL 176.066512 147.920467 \r\nL 176.401647 161.133711 \r\nL 176.736782 150.126313 \r\nL 177.071917 102.411948 \r\nL 177.407052 99.590986 \r\nL 177.742188 95.022381 \r\nL 178.077323 87.623263 \r\nL 178.412458 106.147954 \r\nL 178.747593 130.934524 \r\nL 179.082728 137.131872 \r\nL 179.417863 132.997202 \r\nL 179.752998 131.90862 \r\nL 180.088133 106.70985 \r\nL 180.423269 109.932101 \r\nL 180.758404 152.250678 \r\nL 181.093539 86.335425 \r\nL 181.428674 83.415141 \r\nL 181.763809 101.160324 \r\nL 182.098944 112.802768 \r\nL 182.434079 133.163176 \r\nL 182.769215 106.903903 \r\nL 183.10435 100.308028 \r\nL 183.77462 139.651837 \r\nL 184.109755 68.284951 \r\nL 184.44489 120.346332 \r\nL 184.780025 118.777573 \r\nL 185.11516 155.727615 \r\nL 185.785431 91.038579 \r\nL 186.120566 126.069992 \r\nL 186.455701 116.178695 \r\nL 186.790836 92.329393 \r\nL 187.125971 136.028329 \r\nL 187.461106 125.323966 \r\nL 187.796242 98.592367 \r\nL 188.131377 135.841407 \r\nL 188.466512 159.811879 \r\nL 188.801647 131.74408 \r\nL 189.136782 125.27807 \r\nL 189.471917 134.728114 \r\nL 189.807052 107.263888 \r\nL 190.142187 103.006854 \r\nL 190.477323 101.580477 \r\nL 190.812458 128.654619 \r\nL 191.147593 125.490371 \r\nL 191.482728 118.663514 \r\nL 191.817863 142.181353 \r\nL 192.152998 136.983198 \r\nL 192.488133 173.375584 \r\nL 192.823269 87.12251 \r\nL 193.158404 144.737626 \r\nL 193.493539 158.843438 \r\nL 193.828674 154.046726 \r\nL 194.163809 138.553379 \r\nL 194.498944 59.886125 \r\nL 194.834079 141.164414 \r\nL 195.169215 128.073575 \r\nL 195.50435 110.064993 \r\nL 195.839485 116.434288 \r\nL 196.17462 169.539017 \r\nL 196.509755 147.098994 \r\nL 196.84489 146.467517 \r\nL 197.180025 124.828697 \r\nL 197.51516 153.281302 \r\nL 197.850296 154.449122 \r\nL 198.185431 133.47759 \r\nL 198.520566 124.354537 \r\nL 199.190836 87.121853 \r\nL 199.525971 146.42007 \r\nL 199.861106 60.937712 \r\nL 201.201647 132.467644 \r\nL 201.536782 84.232216 \r\nL 202.207052 109.841856 \r\nL 202.542188 102.025493 \r\nL 202.877323 119.332998 \r\nL 203.212458 117.543363 \r\nL 203.547593 120.694219 \r\nL 203.882728 117.539932 \r\nL 204.217863 76.02384 \r\nL 204.552998 99.744411 \r\nL 204.888133 154.088104 \r\nL 205.223269 74.947925 \r\nL 205.893539 132.357157 \r\nL 206.228674 67.463994 \r\nL 206.563809 148.735988 \r\nL 206.898944 108.17258 \r\nL 207.234079 83.556836 \r\nL 207.569215 113.935887 \r\nL 207.90435 164.894773 \r\nL 208.57462 101.811891 \r\nL 208.909755 165.332914 \r\nL 209.24489 147.59529 \r\nL 209.580025 186.675604 \r\nL 209.91516 115.441659 \r\nL 210.250296 144.36095 \r\nL 210.585431 104.536801 \r\nL 210.920566 114.179952 \r\nL 211.255701 105.29828 \r\nL 211.590836 179.738388 \r\nL 211.925971 115.181786 \r\nL 212.261106 162.913715 \r\nL 212.596242 106.077641 \r\nL 212.931377 84.999324 \r\nL 213.266512 151.695003 \r\nL 213.601647 119.884618 \r\nL 213.936782 122.917316 \r\nL 214.271917 165.341712 \r\nL 214.607052 127.483636 \r\nL 214.942187 166.17967 \r\nL 215.612458 81.383885 \r\nL 215.947593 171.005203 \r\nL 216.282728 114.783977 \r\nL 216.617863 98.238232 \r\nL 216.952998 89.5923 \r\nL 217.288133 100.705918 \r\nL 217.623269 72.010184 \r\nL 218.293539 172.024382 \r\nL 218.628674 166.27607 \r\nL 218.963809 130.213526 \r\nL 219.298944 128.875241 \r\nL 219.634079 114.11591 \r\nL 219.969215 88.171001 \r\nL 220.30435 81.11203 \r\nL 220.639485 148.369218 \r\nL 220.97462 90.14936 \r\nL 221.309755 103.58104 \r\nL 221.64489 125.809191 \r\nL 221.980025 131.58944 \r\nL 222.31516 96.123963 \r\nL 222.650296 119.111013 \r\nL 222.985431 100.585289 \r\nL 223.320566 89.935995 \r\nL 223.655701 105.7768 \r\nL 224.325971 128.664011 \r\nL 224.661106 86.595319 \r\nL 224.996242 89.195488 \r\nL 225.331377 122.284053 \r\nL 225.666512 66.653562 \r\nL 226.001647 88.160038 \r\nL 226.336782 131.614256 \r\nL 226.671917 156.294169 \r\nL 227.007052 166.296117 \r\nL 227.342187 84.756653 \r\nL 227.677323 111.034535 \r\nL 228.347593 90.517514 \r\nL 228.682728 156.856048 \r\nL 229.017863 113.161131 \r\nL 229.352998 129.369902 \r\nL 229.688133 131.254339 \r\nL 230.023269 120.262632 \r\nL 230.358404 128.743263 \r\nL 230.693539 131.560843 \r\nL 231.028674 116.301805 \r\nL 231.363809 136.284744 \r\nL 231.698944 95.214453 \r\nL 232.034079 133.506093 \r\nL 232.369215 189.731698 \r\nL 232.70435 119.611711 \r\nL 233.039485 96.349875 \r\nL 233.37462 133.765752 \r\nL 233.709755 146.644627 \r\nL 234.04489 64.833581 \r\nL 234.380025 99.350042 \r\nL 234.71516 180.802184 \r\nL 235.050296 175.991779 \r\nL 235.385431 144.945441 \r\nL 235.720566 154.775701 \r\nL 236.055701 132.433102 \r\nL 236.390836 54.975763 \r\nL 236.725971 97.294057 \r\nL 237.061106 102.140741 \r\nL 237.396242 123.644006 \r\nL 237.731377 121.493762 \r\nL 238.066512 102.507676 \r\nL 238.401647 124.214368 \r\nL 238.736782 94.284984 \r\nL 239.071917 76.458291 \r\nL 239.407052 143.621437 \r\nL 239.742188 100.22672 \r\nL 240.077323 107.526941 \r\nL 240.412458 129.985783 \r\nL 240.747593 104.633591 \r\nL 241.082728 141.055475 \r\nL 241.417863 75.601823 \r\nL 242.088133 131.456756 \r\nL 242.423269 114.369165 \r\nL 242.758404 117.332227 \r\nL 243.093539 117.808361 \r\nL 243.428674 67.069062 \r\nL 244.098944 158.956506 \r\nL 244.434079 209.309006 \r\nL 244.769215 108.92411 \r\nL 245.10435 136.085919 \r\nL 245.439485 116.549147 \r\nL 245.77462 117.919955 \r\nL 246.109755 127.602017 \r\nL 246.44489 128.332241 \r\nL 246.780025 139.935562 \r\nL 247.450296 72.563374 \r\nL 247.785431 137.545088 \r\nL 248.120566 130.80198 \r\nL 248.455701 92.342312 \r\nL 249.125971 152.025704 \r\nL 249.796242 133.593124 \r\nL 250.131377 138.488848 \r\nL 250.466512 130.869487 \r\nL 250.801647 126.207105 \r\nL 251.136782 137.381129 \r\nL 251.471917 136.704309 \r\nL 251.807052 139.125124 \r\nL 252.142187 144.472794 \r\nL 252.812458 78.763981 \r\nL 253.147593 100.376555 \r\nL 253.482728 86.172163 \r\nL 253.817863 116.916402 \r\nL 254.152998 105.504038 \r\nL 254.488133 120.202388 \r\nL 254.823269 121.341084 \r\nL 255.158404 80.731539 \r\nL 255.828674 168.431169 \r\nL 256.163809 78.323198 \r\nL 256.498944 122.958377 \r\nL 256.834079 101.936482 \r\nL 257.169215 89.043794 \r\nL 257.50435 56.565542 \r\nL 257.839485 134.572713 \r\nL 258.17462 79.308366 \r\nL 258.509755 121.514288 \r\nL 258.84489 138.072685 \r\nL 259.180025 132.610685 \r\nL 259.51516 91.986892 \r\nL 259.850296 149.439961 \r\nL 260.520566 103.290374 \r\nL 260.855701 98.278112 \r\nL 261.190836 116.144185 \r\nL 261.525971 112.173393 \r\nL 261.861106 111.72078 \r\nL 262.196242 146.76726 \r\nL 262.531377 137.708044 \r\nL 262.866512 120.985484 \r\nL 263.201647 135.040369 \r\nL 263.536782 95.812064 \r\nL 263.871917 111.223523 \r\nL 264.207052 58.714202 \r\nL 264.542188 75.895087 \r\nL 264.877323 107.644799 \r\nL 265.212458 112.223799 \r\nL 265.547593 112.496275 \r\nL 265.882728 152.509803 \r\nL 266.217863 137.325493 \r\nL 266.552998 111.533774 \r\nL 266.888133 114.414843 \r\nL 267.223269 134.955334 \r\nL 267.558404 92.881134 \r\nL 267.893539 127.462977 \r\nL 268.228674 191.647865 \r\nL 268.563809 124.945966 \r\nL 268.898944 89.423211 \r\nL 269.234079 127.94481 \r\nL 269.569215 109.009086 \r\nL 269.90435 139.04669 \r\nL 270.239485 101.033268 \r\nL 270.57462 78.12704 \r\nL 270.909755 82.070277 \r\nL 271.24489 131.778815 \r\nL 271.580025 117.453701 \r\nL 271.91516 143.983899 \r\nL 272.250296 135.109944 \r\nL 272.585431 100.111271 \r\nL 272.920566 143.550127 \r\nL 273.255701 133.458107 \r\nL 273.590836 177.343209 \r\nL 273.925971 100.709831 \r\nL 274.261106 130.435064 \r\nL 274.596242 112.369819 \r\nL 274.931377 105.894715 \r\nL 275.266512 129.781512 \r\nL 275.601647 113.519021 \r\nL 275.936782 152.85422 \r\nL 276.271917 94.591193 \r\nL 276.607052 156.343255 \r\nL 276.942187 92.25263 \r\nL 277.277323 132.81372 \r\nL 277.612458 110.893994 \r\nL 277.947593 114.145181 \r\nL 278.282728 74.565416 \r\nL 278.617863 110.787618 \r\nL 278.952998 73.207319 \r\nL 279.288133 128.805439 \r\nL 279.623269 86.160064 \r\nL 279.958404 114.373956 \r\nL 280.293539 82.804376 \r\nL 280.628674 147.36953 \r\nL 280.963809 124.416849 \r\nL 281.298944 132.517889 \r\nL 281.634079 89.202656 \r\nL 281.969215 107.235641 \r\nL 282.30435 143.978936 \r\nL 282.639485 111.748367 \r\nL 282.97462 115.947637 \r\nL 283.309755 98.251452 \r\nL 283.64489 123.906251 \r\nL 283.980025 106.424334 \r\nL 284.31516 106.240077 \r\nL 284.650296 160.434507 \r\nL 284.985431 111.972856 \r\nL 285.320566 111.898182 \r\nL 285.655701 108.178268 \r\nL 285.990836 90.317128 \r\nL 286.325971 128.872368 \r\nL 286.996242 139.182617 \r\nL 287.331377 131.543821 \r\nL 287.666512 91.53051 \r\nL 288.001647 109.029828 \r\nL 288.336782 66.517729 \r\nL 288.671917 131.314232 \r\nL 289.007052 148.801034 \r\nL 289.342187 143.858482 \r\nL 289.677323 161.343815 \r\nL 290.012458 150.854071 \r\nL 290.347593 99.854748 \r\nL 290.682728 126.704706 \r\nL 291.017863 94.178438 \r\nL 291.352998 89.845177 \r\nL 291.688133 162.322533 \r\nL 292.023269 116.166412 \r\nL 292.358404 172.216915 \r\nL 292.693539 142.444897 \r\nL 293.028674 143.6918 \r\nL 293.363809 123.089102 \r\nL 293.698944 89.368801 \r\nL 294.369215 143.189775 \r\nL 294.70435 108.111936 \r\nL 295.039485 114.288526 \r\nL 295.37462 162.445752 \r\nL 295.709755 108.726363 \r\nL 296.04489 139.251233 \r\nL 296.380025 128.748621 \r\nL 296.71516 99.439715 \r\nL 297.050296 106.027714 \r\nL 297.385431 101.906917 \r\nL 298.055701 147.552002 \r\nL 298.390836 146.630637 \r\nL 298.725971 96.375039 \r\nL 299.061106 134.324045 \r\nL 299.396242 129.389106 \r\nL 299.731377 127.170684 \r\nL 300.066512 80.960409 \r\nL 300.401647 135.385987 \r\nL 300.736782 160.430543 \r\nL 301.071917 99.144273 \r\nL 301.407052 117.803747 \r\nL 301.742188 108.030251 \r\nL 302.077323 119.714575 \r\nL 302.412458 67.637306 \r\nL 302.747593 48.171382 \r\nL 303.082728 144.772907 \r\nL 303.417863 157.420251 \r\nL 303.752998 53.792274 \r\nL 304.088133 103.898817 \r\nL 304.423269 126.833613 \r\nL 304.758404 80.938348 \r\nL 305.093539 141.143061 \r\nL 305.428674 92.880463 \r\nL 305.763809 88.228008 \r\nL 306.098944 104.699764 \r\nL 306.434079 142.983647 \r\nL 306.769215 91.995995 \r\nL 307.10435 124.900326 \r\nL 307.439485 108.334953 \r\nL 307.77462 121.436395 \r\nL 308.109755 142.223601 \r\nL 308.44489 134.926673 \r\nL 308.780025 136.366244 \r\nL 309.11516 181.930932 \r\nL 309.450296 146.531458 \r\nL 309.785431 87.319795 \r\nL 310.120566 95.767042 \r\nL 310.455701 141.358258 \r\nL 310.790836 103.886616 \r\nL 311.125971 84.80099 \r\nL 311.461106 123.556982 \r\nL 311.796242 134.117912 \r\nL 312.131377 99.831809 \r\nL 312.466512 108.145732 \r\nL 312.801647 141.565769 \r\nL 313.136782 113.334328 \r\nL 313.471917 98.621576 \r\nL 313.807052 110.013559 \r\nL 314.142187 117.614705 \r\nL 315.147593 128.262018 \r\nL 315.482728 119.075107 \r\nL 315.817863 162.966305 \r\nL 316.152998 103.42547 \r\nL 316.488133 98.886039 \r\nL 316.823269 182.578795 \r\nL 317.493539 75.513823 \r\nL 317.828674 151.203608 \r\nL 318.163809 128.319969 \r\nL 318.498944 114.885655 \r\nL 318.834079 139.601701 \r\nL 319.169215 91.383721 \r\nL 319.50435 128.889877 \r\nL 319.839485 136.125624 \r\nL 320.84489 97.488003 \r\nL 321.180025 162.460235 \r\nL 321.51516 150.642011 \r\nL 321.850296 98.370794 \r\nL 322.185431 116.271736 \r\nL 322.520566 87.093377 \r\nL 322.855701 110.549284 \r\nL 323.190836 101.071361 \r\nL 323.525971 170.592651 \r\nL 323.861106 132.155155 \r\nL 324.196242 112.745289 \r\nL 324.531377 111.802335 \r\nL 325.536782 168.032052 \r\nL 325.871917 130.695494 \r\nL 326.207052 116.164304 \r\nL 326.542188 122.398009 \r\nL 326.877323 131.343099 \r\nL 327.547593 127.992687 \r\nL 327.882728 89.905363 \r\nL 328.552998 164.816096 \r\nL 328.888133 91.279635 \r\nL 329.223269 115.287147 \r\nL 329.558404 103.091881 \r\nL 329.893539 122.156929 \r\nL 330.228674 92.171825 \r\nL 330.563809 131.380345 \r\nL 330.898944 84.892101 \r\nL 331.234079 69.759565 \r\nL 331.90435 131.525663 \r\nL 332.239485 142.921977 \r\nL 332.57462 114.369115 \r\nL 332.909755 145.209375 \r\nL 333.24489 137.147927 \r\nL 333.580025 141.924084 \r\nL 333.91516 138.844271 \r\nL 334.250296 124.669075 \r\nL 334.585431 100.906529 \r\nL 334.920566 127.872909 \r\nL 335.255701 103.013955 \r\nL 335.590836 146.01746 \r\nL 335.925971 117.499312 \r\nL 336.261106 154.228231 \r\nL 336.596242 129.939124 \r\nL 336.931377 95.392685 \r\nL 337.601647 60.62344 \r\nL 337.936782 144.894958 \r\nL 338.271917 139.427206 \r\nL 338.607052 125.970381 \r\nL 338.942187 125.669791 \r\nL 339.277323 145.704022 \r\nL 339.612458 135.331564 \r\nL 339.947593 108.504546 \r\nL 340.282728 112.664923 \r\nL 340.617863 134.994596 \r\nL 340.952998 92.079269 \r\nL 341.288133 106.947421 \r\nL 341.958404 147.484387 \r\nL 342.293539 80.823445 \r\nL 342.628674 158.647408 \r\nL 342.963809 117.560724 \r\nL 343.298944 112.082283 \r\nL 343.634079 120.481301 \r\nL 343.969215 138.067195 \r\nL 344.30435 127.19777 \r\nL 344.639485 138.741344 \r\nL 344.97462 126.068312 \r\nL 345.309755 168.451934 \r\nL 345.980025 79.901967 \r\nL 346.31516 143.900381 \r\nL 346.650296 121.295856 \r\nL 346.985431 135.876894 \r\nL 347.320566 112.14475 \r\nL 347.990836 94.214112 \r\nL 348.325971 159.727005 \r\nL 348.661106 137.515892 \r\nL 348.996242 139.640364 \r\nL 349.331377 111.912775 \r\nL 349.666512 96.38504 \r\nL 350.001647 150.873606 \r\nL 350.336782 170.542577 \r\nL 350.671917 116.041267 \r\nL 351.007052 107.717301 \r\nL 351.342187 186.149916 \r\nL 351.677323 115.550408 \r\nL 352.012458 76.094947 \r\nL 352.682728 172.091314 \r\nL 353.017863 86.687009 \r\nL 353.352998 116.92893 \r\nL 353.688133 162.689138 \r\nL 354.023269 131.656589 \r\nL 354.358404 144.675315 \r\nL 355.028674 158.376554 \r\nL 355.363809 117.991361 \r\nL 355.698944 148.850386 \r\nL 356.369215 52.943273 \r\nL 356.70435 140.666081 \r\nL 357.039485 64.770826 \r\nL 357.37462 127.894649 \r\nL 357.709755 115.621042 \r\nL 358.04489 130.533109 \r\nL 358.380025 126.839675 \r\nL 358.71516 129.937279 \r\nL 359.050296 169.202731 \r\nL 359.385431 145.010064 \r\nL 359.720566 101.302279 \r\nL 360.055701 133.567888 \r\nL 360.390836 68.582682 \r\nL 360.725971 119.396548 \r\nL 361.061106 59.866644 \r\nL 361.396242 117.591157 \r\nL 361.731377 154.601056 \r\nL 362.066512 131.117746 \r\nL 362.401647 137.897288 \r\nL 362.736782 84.076278 \r\nL 363.407052 129.603652 \r\nL 363.742188 105.185966 \r\nL 363.742188 105.185966 \r\n\" style=\"fill:none;stroke:#1f77b4;stroke-linecap:square;stroke-width:1.5;\"/>\r\n   </g>\r\n   <g id=\"patch_3\">\r\n    <path d=\"M 28.942188 227.263209 \r\nL 28.942188 9.823209 \r\n\" style=\"fill:none;stroke:#000000;stroke-linecap:square;stroke-linejoin:miter;stroke-width:0.8;\"/>\r\n   </g>\r\n   <g id=\"patch_4\">\r\n    <path d=\"M 363.742188 227.263209 \r\nL 363.742188 9.823209 \r\n\" style=\"fill:none;stroke:#000000;stroke-linecap:square;stroke-linejoin:miter;stroke-width:0.8;\"/>\r\n   </g>\r\n   <g id=\"patch_5\">\r\n    <path d=\"M 28.942187 227.263209 \r\nL 363.742188 227.263209 \r\n\" style=\"fill:none;stroke:#000000;stroke-linecap:square;stroke-linejoin:miter;stroke-width:0.8;\"/>\r\n   </g>\r\n   <g id=\"patch_6\">\r\n    <path d=\"M 28.942187 9.823209 \r\nL 363.742188 9.823209 \r\n\" style=\"fill:none;stroke:#000000;stroke-linecap:square;stroke-linejoin:miter;stroke-width:0.8;\"/>\r\n   </g>\r\n  </g>\r\n </g>\r\n <defs>\r\n  <clipPath id=\"p864b472aa4\">\r\n   <rect height=\"217.44\" width=\"334.8\" x=\"28.942188\" y=\"9.823209\"/>\r\n  </clipPath>\r\n </defs>\r\n</svg>\r\n",
      "text/plain": [
       "<Figure size 432x288 with 1 Axes>"
      ]
     },
     "metadata": {
      "needs_background": "light"
     },
     "output_type": "display_data"
    }
   ],
   "source": [
    "ts = pd.Series(np.random.randn(1000), index=pd.date_range(\"1/1/2022\", periods=1000))\n",
    "ts.plot()"
   ]
  },
  {
   "cell_type": "code",
   "execution_count": 203,
   "metadata": {},
   "outputs": [
    {
     "data": {
      "text/plain": [
       "<AxesSubplot:>"
      ]
     },
     "execution_count": 203,
     "metadata": {},
     "output_type": "execute_result"
    },
    {
     "data": {
      "image/png": "[encoded data removed]",
      "image/svg+xml": "<?xml version=\"1.0\" encoding=\"utf-8\" standalone=\"no\"?>\r\n<!DOCTYPE svg PUBLIC \"-//W3C//DTD SVG 1.1//EN\"\r\n  \"http://www.w3.org/Graphics/SVG/1.1/DTD/svg11.dtd\">\r\n<svg height=\"259.715937pt\" version=\"1.1\" viewBox=\"0 0 370.942188 259.715937\" width=\"370.942188pt\" xmlns=\"http://www.w3.org/2000/svg\" xmlns:xlink=\"http://www.w3.org/1999/xlink\">\r\n <metadata>\r\n  <rdf:RDF xmlns:cc=\"http://creativecommons.org/ns#\" xmlns:dc=\"http://purl.org/dc/elements/1.1/\" xmlns:rdf=\"http://www.w3.org/1999/02/22-rdf-syntax-ns#\">\r\n   <cc:Work>\r\n    <dc:type rdf:resource=\"http://purl.org/dc/dcmitype/StillImage\"/>\r\n    <dc:date>2022-03-20T16:35:51.296907</dc:date>\r\n    <dc:format>image/svg+xml</dc:format>\r\n    <dc:creator>\r\n     <cc:Agent>\r\n      <dc:title>Matplotlib v3.4.3, https://matplotlib.org/</dc:title>\r\n     </cc:Agent>\r\n    </dc:creator>\r\n   </cc:Work>\r\n  </rdf:RDF>\r\n </metadata>\r\n <defs>\r\n  <style type=\"text/css\">*{stroke-linecap:butt;stroke-linejoin:round;}</style>\r\n </defs>\r\n <g id=\"figure_1\">\r\n  <g id=\"patch_1\">\r\n   <path d=\"M 0 259.715937 \r\nL 370.942188 259.715937 \r\nL 370.942188 0 \r\nL 0 0 \r\nz\r\n\" style=\"fill:none;\"/>\r\n  </g>\r\n  <g id=\"axes_1\">\r\n   <g id=\"patch_2\">\r\n    <path d=\"M 28.942188 224.64 \r\nL 363.742188 224.64 \r\nL 363.742188 7.2 \r\nL 28.942188 7.2 \r\nz\r\n\" style=\"fill:#ffffff;\"/>\r\n   </g>\r\n   <g id=\"matplotlib.axis_1\">\r\n    <g id=\"xtick_1\">\r\n     <g id=\"line2d_1\">\r\n      <defs>\r\n       <path d=\"M 0 0 \r\nL 0 3.5 \r\n\" id=\"m0c976a614b\" style=\"stroke:#000000;stroke-width:0.8;\"/>\r\n      </defs>\r\n      <g>\r\n       <use style=\"stroke:#000000;stroke-width:0.8;\" x=\"28.942187\" xlink:href=\"#m0c976a614b\" y=\"224.64\"/>\r\n      </g>\r\n     </g>\r\n     <g id=\"text_1\">\r\n      <!-- Jan -->\r\n      <g transform=\"translate(21.234375 239.238438)scale(0.1 -0.1)\">\r\n       <defs>\r\n        <path d=\"M 628 4666 \r\nL 1259 4666 \r\nL 1259 325 \r\nQ 1259 -519 939 -900 \r\nQ 619 -1281 -91 -1281 \r\nL -331 -1281 \r\nL -331 -750 \r\nL -134 -750 \r\nQ 284 -750 456 -515 \r\nQ 628 -281 628 325 \r\nL 628 4666 \r\nz\r\n\" id=\"DejaVuSans-4a\" transform=\"scale(0.015625)\"/>\r\n        <path d=\"M 2194 1759 \r\nQ 1497 1759 1228 1600 \r\nQ 959 1441 959 1056 \r\nQ 959 750 1161 570 \r\nQ 1363 391 1709 391 \r\nQ 2188 391 2477 730 \r\nQ 2766 1069 2766 1631 \r\nL 2766 1759 \r\nL 2194 1759 \r\nz\r\nM 3341 1997 \r\nL 3341 0 \r\nL 2766 0 \r\nL 2766 531 \r\nQ 2569 213 2275 61 \r\nQ 1981 -91 1556 -91 \r\nQ 1019 -91 701 211 \r\nQ 384 513 384 1019 \r\nQ 384 1609 779 1909 \r\nQ 1175 2209 1959 2209 \r\nL 2766 2209 \r\nL 2766 2266 \r\nQ 2766 2663 2505 2880 \r\nQ 2244 3097 1772 3097 \r\nQ 1472 3097 1187 3025 \r\nQ 903 2953 641 2809 \r\nL 641 3341 \r\nQ 956 3463 1253 3523 \r\nQ 1550 3584 1831 3584 \r\nQ 2591 3584 2966 3190 \r\nQ 3341 2797 3341 1997 \r\nz\r\n\" id=\"DejaVuSans-61\" transform=\"scale(0.015625)\"/>\r\n        <path d=\"M 3513 2113 \r\nL 3513 0 \r\nL 2938 0 \r\nL 2938 2094 \r\nQ 2938 2591 2744 2837 \r\nQ 2550 3084 2163 3084 \r\nQ 1697 3084 1428 2787 \r\nQ 1159 2491 1159 1978 \r\nL 1159 0 \r\nL 581 0 \r\nL 581 3500 \r\nL 1159 3500 \r\nL 1159 2956 \r\nQ 1366 3272 1645 3428 \r\nQ 1925 3584 2291 3584 \r\nQ 2894 3584 3203 3211 \r\nQ 3513 2838 3513 2113 \r\nz\r\n\" id=\"DejaVuSans-6e\" transform=\"scale(0.015625)\"/>\r\n       </defs>\r\n       <use xlink:href=\"#DejaVuSans-4a\"/>\r\n       <use x=\"29.492188\" xlink:href=\"#DejaVuSans-61\"/>\r\n       <use x=\"90.771484\" xlink:href=\"#DejaVuSans-6e\"/>\r\n      </g>\r\n      <!-- 2022 -->\r\n      <g transform=\"translate(16.217187 250.43625)scale(0.1 -0.1)\">\r\n       <defs>\r\n        <path d=\"M 1228 531 \r\nL 3431 531 \r\nL 3431 0 \r\nL 469 0 \r\nL 469 531 \r\nQ 828 903 1448 1529 \r\nQ 2069 2156 2228 2338 \r\nQ 2531 2678 2651 2914 \r\nQ 2772 3150 2772 3378 \r\nQ 2772 3750 2511 3984 \r\nQ 2250 4219 1831 4219 \r\nQ 1534 4219 1204 4116 \r\nQ 875 4013 500 3803 \r\nL 500 4441 \r\nQ 881 4594 1212 4672 \r\nQ 1544 4750 1819 4750 \r\nQ 2544 4750 2975 4387 \r\nQ 3406 4025 3406 3419 \r\nQ 3406 3131 3298 2873 \r\nQ 3191 2616 2906 2266 \r\nQ 2828 2175 2409 1742 \r\nQ 1991 1309 1228 531 \r\nz\r\n\" id=\"DejaVuSans-32\" transform=\"scale(0.015625)\"/>\r\n        <path d=\"M 2034 4250 \r\nQ 1547 4250 1301 3770 \r\nQ 1056 3291 1056 2328 \r\nQ 1056 1369 1301 889 \r\nQ 1547 409 2034 409 \r\nQ 2525 409 2770 889 \r\nQ 3016 1369 3016 2328 \r\nQ 3016 3291 2770 3770 \r\nQ 2525 4250 2034 4250 \r\nz\r\nM 2034 4750 \r\nQ 2819 4750 3233 4129 \r\nQ 3647 3509 3647 2328 \r\nQ 3647 1150 3233 529 \r\nQ 2819 -91 2034 -91 \r\nQ 1250 -91 836 529 \r\nQ 422 1150 422 2328 \r\nQ 422 3509 836 4129 \r\nQ 1250 4750 2034 4750 \r\nz\r\n\" id=\"DejaVuSans-30\" transform=\"scale(0.015625)\"/>\r\n       </defs>\r\n       <use xlink:href=\"#DejaVuSans-32\"/>\r\n       <use x=\"63.623047\" xlink:href=\"#DejaVuSans-30\"/>\r\n       <use x=\"127.246094\" xlink:href=\"#DejaVuSans-32\"/>\r\n       <use x=\"190.869141\" xlink:href=\"#DejaVuSans-32\"/>\r\n      </g>\r\n     </g>\r\n    </g>\r\n    <g id=\"xtick_2\">\r\n     <g id=\"line2d_2\">\r\n      <g>\r\n       <use style=\"stroke:#000000;stroke-width:0.8;\" x=\"151.266512\" xlink:href=\"#m0c976a614b\" y=\"224.64\"/>\r\n      </g>\r\n     </g>\r\n     <g id=\"text_2\">\r\n      <!-- Jan -->\r\n      <g transform=\"translate(143.558699 239.238438)scale(0.1 -0.1)\">\r\n       <use xlink:href=\"#DejaVuSans-4a\"/>\r\n       <use x=\"29.492188\" xlink:href=\"#DejaVuSans-61\"/>\r\n       <use x=\"90.771484\" xlink:href=\"#DejaVuSans-6e\"/>\r\n      </g>\r\n      <!-- 2023 -->\r\n      <g transform=\"translate(138.541512 250.43625)scale(0.1 -0.1)\">\r\n       <defs>\r\n        <path d=\"M 2597 2516 \r\nQ 3050 2419 3304 2112 \r\nQ 3559 1806 3559 1356 \r\nQ 3559 666 3084 287 \r\nQ 2609 -91 1734 -91 \r\nQ 1441 -91 1130 -33 \r\nQ 819 25 488 141 \r\nL 488 750 \r\nQ 750 597 1062 519 \r\nQ 1375 441 1716 441 \r\nQ 2309 441 2620 675 \r\nQ 2931 909 2931 1356 \r\nQ 2931 1769 2642 2001 \r\nQ 2353 2234 1838 2234 \r\nL 1294 2234 \r\nL 1294 2753 \r\nL 1863 2753 \r\nQ 2328 2753 2575 2939 \r\nQ 2822 3125 2822 3475 \r\nQ 2822 3834 2567 4026 \r\nQ 2313 4219 1838 4219 \r\nQ 1578 4219 1281 4162 \r\nQ 984 4106 628 3988 \r\nL 628 4550 \r\nQ 988 4650 1302 4700 \r\nQ 1616 4750 1894 4750 \r\nQ 2613 4750 3031 4423 \r\nQ 3450 4097 3450 3541 \r\nQ 3450 3153 3228 2886 \r\nQ 3006 2619 2597 2516 \r\nz\r\n\" id=\"DejaVuSans-33\" transform=\"scale(0.015625)\"/>\r\n       </defs>\r\n       <use xlink:href=\"#DejaVuSans-32\"/>\r\n       <use x=\"63.623047\" xlink:href=\"#DejaVuSans-30\"/>\r\n       <use x=\"127.246094\" xlink:href=\"#DejaVuSans-32\"/>\r\n       <use x=\"190.869141\" xlink:href=\"#DejaVuSans-33\"/>\r\n      </g>\r\n     </g>\r\n    </g>\r\n    <g id=\"xtick_3\">\r\n     <g id=\"line2d_3\">\r\n      <g>\r\n       <use style=\"stroke:#000000;stroke-width:0.8;\" x=\"273.590836\" xlink:href=\"#m0c976a614b\" y=\"224.64\"/>\r\n      </g>\r\n     </g>\r\n     <g id=\"text_3\">\r\n      <!-- Jan -->\r\n      <g transform=\"translate(265.883024 239.238438)scale(0.1 -0.1)\">\r\n       <use xlink:href=\"#DejaVuSans-4a\"/>\r\n       <use x=\"29.492188\" xlink:href=\"#DejaVuSans-61\"/>\r\n       <use x=\"90.771484\" xlink:href=\"#DejaVuSans-6e\"/>\r\n      </g>\r\n      <!-- 2024 -->\r\n      <g transform=\"translate(260.865836 250.43625)scale(0.1 -0.1)\">\r\n       <defs>\r\n        <path d=\"M 2419 4116 \r\nL 825 1625 \r\nL 2419 1625 \r\nL 2419 4116 \r\nz\r\nM 2253 4666 \r\nL 3047 4666 \r\nL 3047 1625 \r\nL 3713 1625 \r\nL 3713 1100 \r\nL 3047 1100 \r\nL 3047 0 \r\nL 2419 0 \r\nL 2419 1100 \r\nL 313 1100 \r\nL 313 1709 \r\nL 2253 4666 \r\nz\r\n\" id=\"DejaVuSans-34\" transform=\"scale(0.015625)\"/>\r\n       </defs>\r\n       <use xlink:href=\"#DejaVuSans-32\"/>\r\n       <use x=\"63.623047\" xlink:href=\"#DejaVuSans-30\"/>\r\n       <use x=\"127.246094\" xlink:href=\"#DejaVuSans-32\"/>\r\n       <use x=\"190.869141\" xlink:href=\"#DejaVuSans-34\"/>\r\n      </g>\r\n     </g>\r\n    </g>\r\n    <g id=\"xtick_4\">\r\n     <g id=\"line2d_4\">\r\n      <g>\r\n       <use style=\"stroke:#000000;stroke-width:0.8;\" x=\"363.742188\" xlink:href=\"#m0c976a614b\" y=\"224.64\"/>\r\n      </g>\r\n     </g>\r\n    </g>\r\n    <g id=\"xtick_5\">\r\n     <g id=\"line2d_5\">\r\n      <defs>\r\n       <path d=\"M 0 0 \r\nL 0 2 \r\n\" id=\"ma55cd20406\" style=\"stroke:#000000;stroke-width:0.6;\"/>\r\n      </defs>\r\n      <g>\r\n       <use style=\"stroke:#000000;stroke-width:0.6;\" x=\"39.331377\" xlink:href=\"#ma55cd20406\" y=\"224.64\"/>\r\n      </g>\r\n     </g>\r\n    </g>\r\n    <g id=\"xtick_6\">\r\n     <g id=\"line2d_6\">\r\n      <g>\r\n       <use style=\"stroke:#000000;stroke-width:0.6;\" x=\"48.71516\" xlink:href=\"#ma55cd20406\" y=\"224.64\"/>\r\n      </g>\r\n     </g>\r\n    </g>\r\n    <g id=\"xtick_7\">\r\n     <g id=\"line2d_7\">\r\n      <g>\r\n       <use style=\"stroke:#000000;stroke-width:0.6;\" x=\"59.10435\" xlink:href=\"#ma55cd20406\" y=\"224.64\"/>\r\n      </g>\r\n     </g>\r\n    </g>\r\n    <g id=\"xtick_8\">\r\n     <g id=\"line2d_8\">\r\n      <g>\r\n       <use style=\"stroke:#000000;stroke-width:0.6;\" x=\"69.158404\" xlink:href=\"#ma55cd20406\" y=\"224.64\"/>\r\n      </g>\r\n     </g>\r\n    </g>\r\n    <g id=\"xtick_9\">\r\n     <g id=\"line2d_9\">\r\n      <g>\r\n       <use style=\"stroke:#000000;stroke-width:0.6;\" x=\"79.547593\" xlink:href=\"#ma55cd20406\" y=\"224.64\"/>\r\n      </g>\r\n     </g>\r\n    </g>\r\n    <g id=\"xtick_10\">\r\n     <g id=\"line2d_10\">\r\n      <g>\r\n       <use style=\"stroke:#000000;stroke-width:0.6;\" x=\"89.601647\" xlink:href=\"#ma55cd20406\" y=\"224.64\"/>\r\n      </g>\r\n     </g>\r\n     <g id=\"text_4\">\r\n      <!-- Jul -->\r\n      <g transform=\"translate(83.568834 237.638438)scale(0.1 -0.1)\">\r\n       <defs>\r\n        <path d=\"M 544 1381 \r\nL 544 3500 \r\nL 1119 3500 \r\nL 1119 1403 \r\nQ 1119 906 1312 657 \r\nQ 1506 409 1894 409 \r\nQ 2359 409 2629 706 \r\nQ 2900 1003 2900 1516 \r\nL 2900 3500 \r\nL 3475 3500 \r\nL 3475 0 \r\nL 2900 0 \r\nL 2900 538 \r\nQ 2691 219 2414 64 \r\nQ 2138 -91 1772 -91 \r\nQ 1169 -91 856 284 \r\nQ 544 659 544 1381 \r\nz\r\nM 1991 3584 \r\nL 1991 3584 \r\nz\r\n\" id=\"DejaVuSans-75\" transform=\"scale(0.015625)\"/>\r\n        <path d=\"M 603 4863 \r\nL 1178 4863 \r\nL 1178 0 \r\nL 603 0 \r\nL 603 4863 \r\nz\r\n\" id=\"DejaVuSans-6c\" transform=\"scale(0.015625)\"/>\r\n       </defs>\r\n       <use xlink:href=\"#DejaVuSans-4a\"/>\r\n       <use x=\"29.492188\" xlink:href=\"#DejaVuSans-75\"/>\r\n       <use x=\"92.871094\" xlink:href=\"#DejaVuSans-6c\"/>\r\n      </g>\r\n     </g>\r\n    </g>\r\n    <g id=\"xtick_11\">\r\n     <g id=\"line2d_11\">\r\n      <g>\r\n       <use style=\"stroke:#000000;stroke-width:0.6;\" x=\"99.990836\" xlink:href=\"#ma55cd20406\" y=\"224.64\"/>\r\n      </g>\r\n     </g>\r\n    </g>\r\n    <g id=\"xtick_12\">\r\n     <g id=\"line2d_12\">\r\n      <g>\r\n       <use style=\"stroke:#000000;stroke-width:0.6;\" x=\"110.380025\" xlink:href=\"#ma55cd20406\" y=\"224.64\"/>\r\n      </g>\r\n     </g>\r\n    </g>\r\n    <g id=\"xtick_13\">\r\n     <g id=\"line2d_13\">\r\n      <g>\r\n       <use style=\"stroke:#000000;stroke-width:0.6;\" x=\"120.434079\" xlink:href=\"#ma55cd20406\" y=\"224.64\"/>\r\n      </g>\r\n     </g>\r\n    </g>\r\n    <g id=\"xtick_14\">\r\n     <g id=\"line2d_14\">\r\n      <g>\r\n       <use style=\"stroke:#000000;stroke-width:0.6;\" x=\"130.823269\" xlink:href=\"#ma55cd20406\" y=\"224.64\"/>\r\n      </g>\r\n     </g>\r\n    </g>\r\n    <g id=\"xtick_15\">\r\n     <g id=\"line2d_15\">\r\n      <g>\r\n       <use style=\"stroke:#000000;stroke-width:0.6;\" x=\"140.877323\" xlink:href=\"#ma55cd20406\" y=\"224.64\"/>\r\n      </g>\r\n     </g>\r\n    </g>\r\n    <g id=\"xtick_16\">\r\n     <g id=\"line2d_16\">\r\n      <g>\r\n       <use style=\"stroke:#000000;stroke-width:0.6;\" x=\"161.655701\" xlink:href=\"#ma55cd20406\" y=\"224.64\"/>\r\n      </g>\r\n     </g>\r\n    </g>\r\n    <g id=\"xtick_17\">\r\n     <g id=\"line2d_17\">\r\n      <g>\r\n       <use style=\"stroke:#000000;stroke-width:0.6;\" x=\"171.039485\" xlink:href=\"#ma55cd20406\" y=\"224.64\"/>\r\n      </g>\r\n     </g>\r\n    </g>\r\n    <g id=\"xtick_18\">\r\n     <g id=\"line2d_18\">\r\n      <g>\r\n       <use style=\"stroke:#000000;stroke-width:0.6;\" x=\"181.428674\" xlink:href=\"#ma55cd20406\" y=\"224.64\"/>\r\n      </g>\r\n     </g>\r\n    </g>\r\n    <g id=\"xtick_19\">\r\n     <g id=\"line2d_19\">\r\n      <g>\r\n       <use style=\"stroke:#000000;stroke-width:0.6;\" x=\"191.482728\" xlink:href=\"#ma55cd20406\" y=\"224.64\"/>\r\n      </g>\r\n     </g>\r\n    </g>\r\n    <g id=\"xtick_20\">\r\n     <g id=\"line2d_20\">\r\n      <g>\r\n       <use style=\"stroke:#000000;stroke-width:0.6;\" x=\"201.871917\" xlink:href=\"#ma55cd20406\" y=\"224.64\"/>\r\n      </g>\r\n     </g>\r\n    </g>\r\n    <g id=\"xtick_21\">\r\n     <g id=\"line2d_21\">\r\n      <g>\r\n       <use style=\"stroke:#000000;stroke-width:0.6;\" x=\"211.925971\" xlink:href=\"#ma55cd20406\" y=\"224.64\"/>\r\n      </g>\r\n     </g>\r\n     <g id=\"text_5\">\r\n      <!-- Jul -->\r\n      <g transform=\"translate(205.893159 237.638438)scale(0.1 -0.1)\">\r\n       <use xlink:href=\"#DejaVuSans-4a\"/>\r\n       <use x=\"29.492188\" xlink:href=\"#DejaVuSans-75\"/>\r\n       <use x=\"92.871094\" xlink:href=\"#DejaVuSans-6c\"/>\r\n      </g>\r\n     </g>\r\n    </g>\r\n    <g id=\"xtick_22\">\r\n     <g id=\"line2d_22\">\r\n      <g>\r\n       <use style=\"stroke:#000000;stroke-width:0.6;\" x=\"222.31516\" xlink:href=\"#ma55cd20406\" y=\"224.64\"/>\r\n      </g>\r\n     </g>\r\n    </g>\r\n    <g id=\"xtick_23\">\r\n     <g id=\"line2d_23\">\r\n      <g>\r\n       <use style=\"stroke:#000000;stroke-width:0.6;\" x=\"232.70435\" xlink:href=\"#ma55cd20406\" y=\"224.64\"/>\r\n      </g>\r\n     </g>\r\n    </g>\r\n    <g id=\"xtick_24\">\r\n     <g id=\"line2d_24\">\r\n      <g>\r\n       <use style=\"stroke:#000000;stroke-width:0.6;\" x=\"242.758404\" xlink:href=\"#ma55cd20406\" y=\"224.64\"/>\r\n      </g>\r\n     </g>\r\n    </g>\r\n    <g id=\"xtick_25\">\r\n     <g id=\"line2d_25\">\r\n      <g>\r\n       <use style=\"stroke:#000000;stroke-width:0.6;\" x=\"253.147593\" xlink:href=\"#ma55cd20406\" y=\"224.64\"/>\r\n      </g>\r\n     </g>\r\n    </g>\r\n    <g id=\"xtick_26\">\r\n     <g id=\"line2d_26\">\r\n      <g>\r\n       <use style=\"stroke:#000000;stroke-width:0.6;\" x=\"263.201647\" xlink:href=\"#ma55cd20406\" y=\"224.64\"/>\r\n      </g>\r\n     </g>\r\n    </g>\r\n    <g id=\"xtick_27\">\r\n     <g id=\"line2d_27\">\r\n      <g>\r\n       <use style=\"stroke:#000000;stroke-width:0.6;\" x=\"283.980025\" xlink:href=\"#ma55cd20406\" y=\"224.64\"/>\r\n      </g>\r\n     </g>\r\n    </g>\r\n    <g id=\"xtick_28\">\r\n     <g id=\"line2d_28\">\r\n      <g>\r\n       <use style=\"stroke:#000000;stroke-width:0.6;\" x=\"293.698944\" xlink:href=\"#ma55cd20406\" y=\"224.64\"/>\r\n      </g>\r\n     </g>\r\n    </g>\r\n    <g id=\"xtick_29\">\r\n     <g id=\"line2d_29\">\r\n      <g>\r\n       <use style=\"stroke:#000000;stroke-width:0.6;\" x=\"304.088133\" xlink:href=\"#ma55cd20406\" y=\"224.64\"/>\r\n      </g>\r\n     </g>\r\n    </g>\r\n    <g id=\"xtick_30\">\r\n     <g id=\"line2d_30\">\r\n      <g>\r\n       <use style=\"stroke:#000000;stroke-width:0.6;\" x=\"314.142187\" xlink:href=\"#ma55cd20406\" y=\"224.64\"/>\r\n      </g>\r\n     </g>\r\n    </g>\r\n    <g id=\"xtick_31\">\r\n     <g id=\"line2d_31\">\r\n      <g>\r\n       <use style=\"stroke:#000000;stroke-width:0.6;\" x=\"324.531377\" xlink:href=\"#ma55cd20406\" y=\"224.64\"/>\r\n      </g>\r\n     </g>\r\n    </g>\r\n    <g id=\"xtick_32\">\r\n     <g id=\"line2d_32\">\r\n      <g>\r\n       <use style=\"stroke:#000000;stroke-width:0.6;\" x=\"334.585431\" xlink:href=\"#ma55cd20406\" y=\"224.64\"/>\r\n      </g>\r\n     </g>\r\n     <g id=\"text_6\">\r\n      <!-- Jul -->\r\n      <g transform=\"translate(328.552618 237.638438)scale(0.1 -0.1)\">\r\n       <use xlink:href=\"#DejaVuSans-4a\"/>\r\n       <use x=\"29.492188\" xlink:href=\"#DejaVuSans-75\"/>\r\n       <use x=\"92.871094\" xlink:href=\"#DejaVuSans-6c\"/>\r\n      </g>\r\n     </g>\r\n    </g>\r\n    <g id=\"xtick_33\">\r\n     <g id=\"line2d_33\">\r\n      <g>\r\n       <use style=\"stroke:#000000;stroke-width:0.6;\" x=\"344.97462\" xlink:href=\"#ma55cd20406\" y=\"224.64\"/>\r\n      </g>\r\n     </g>\r\n    </g>\r\n    <g id=\"xtick_34\">\r\n     <g id=\"line2d_34\">\r\n      <g>\r\n       <use style=\"stroke:#000000;stroke-width:0.6;\" x=\"355.363809\" xlink:href=\"#ma55cd20406\" y=\"224.64\"/>\r\n      </g>\r\n     </g>\r\n    </g>\r\n   </g>\r\n   <g id=\"matplotlib.axis_2\">\r\n    <g id=\"ytick_1\">\r\n     <g id=\"line2d_35\">\r\n      <defs>\r\n       <path d=\"M 0 0 \r\nL -3.5 0 \r\n\" id=\"m4d28038782\" style=\"stroke:#000000;stroke-width:0.8;\"/>\r\n      </defs>\r\n      <g>\r\n       <use style=\"stroke:#000000;stroke-width:0.8;\" x=\"28.942188\" xlink:href=\"#m4d28038782\" y=\"224.439327\"/>\r\n      </g>\r\n     </g>\r\n     <g id=\"text_7\">\r\n      <!-- −5 -->\r\n      <g transform=\"translate(7.2 228.238545)scale(0.1 -0.1)\">\r\n       <defs>\r\n        <path d=\"M 678 2272 \r\nL 4684 2272 \r\nL 4684 1741 \r\nL 678 1741 \r\nL 678 2272 \r\nz\r\n\" id=\"DejaVuSans-2212\" transform=\"scale(0.015625)\"/>\r\n        <path d=\"M 691 4666 \r\nL 3169 4666 \r\nL 3169 4134 \r\nL 1269 4134 \r\nL 1269 2991 \r\nQ 1406 3038 1543 3061 \r\nQ 1681 3084 1819 3084 \r\nQ 2600 3084 3056 2656 \r\nQ 3513 2228 3513 1497 \r\nQ 3513 744 3044 326 \r\nQ 2575 -91 1722 -91 \r\nQ 1428 -91 1123 -41 \r\nQ 819 9 494 109 \r\nL 494 744 \r\nQ 775 591 1075 516 \r\nQ 1375 441 1709 441 \r\nQ 2250 441 2565 725 \r\nQ 2881 1009 2881 1497 \r\nQ 2881 1984 2565 2268 \r\nQ 2250 2553 1709 2553 \r\nQ 1456 2553 1204 2497 \r\nQ 953 2441 691 2322 \r\nL 691 4666 \r\nz\r\n\" id=\"DejaVuSans-35\" transform=\"scale(0.015625)\"/>\r\n       </defs>\r\n       <use xlink:href=\"#DejaVuSans-2212\"/>\r\n       <use x=\"83.789062\" xlink:href=\"#DejaVuSans-35\"/>\r\n      </g>\r\n     </g>\r\n    </g>\r\n    <g id=\"ytick_2\">\r\n     <g id=\"line2d_36\">\r\n      <g>\r\n       <use style=\"stroke:#000000;stroke-width:0.8;\" x=\"28.942188\" xlink:href=\"#m4d28038782\" y=\"186.652692\"/>\r\n      </g>\r\n     </g>\r\n     <g id=\"text_8\">\r\n      <!-- 0 -->\r\n      <g transform=\"translate(15.579688 190.451911)scale(0.1 -0.1)\">\r\n       <use xlink:href=\"#DejaVuSans-30\"/>\r\n      </g>\r\n     </g>\r\n    </g>\r\n    <g id=\"ytick_3\">\r\n     <g id=\"line2d_37\">\r\n      <g>\r\n       <use style=\"stroke:#000000;stroke-width:0.8;\" x=\"28.942188\" xlink:href=\"#m4d28038782\" y=\"148.866058\"/>\r\n      </g>\r\n     </g>\r\n     <g id=\"text_9\">\r\n      <!-- 5 -->\r\n      <g transform=\"translate(15.579688 152.665277)scale(0.1 -0.1)\">\r\n       <use xlink:href=\"#DejaVuSans-35\"/>\r\n      </g>\r\n     </g>\r\n    </g>\r\n    <g id=\"ytick_4\">\r\n     <g id=\"line2d_38\">\r\n      <g>\r\n       <use style=\"stroke:#000000;stroke-width:0.8;\" x=\"28.942188\" xlink:href=\"#m4d28038782\" y=\"111.079423\"/>\r\n      </g>\r\n     </g>\r\n     <g id=\"text_10\">\r\n      <!-- 10 -->\r\n      <g transform=\"translate(9.217188 114.878642)scale(0.1 -0.1)\">\r\n       <defs>\r\n        <path d=\"M 794 531 \r\nL 1825 531 \r\nL 1825 4091 \r\nL 703 3866 \r\nL 703 4441 \r\nL 1819 4666 \r\nL 2450 4666 \r\nL 2450 531 \r\nL 3481 531 \r\nL 3481 0 \r\nL 794 0 \r\nL 794 531 \r\nz\r\n\" id=\"DejaVuSans-31\" transform=\"scale(0.015625)\"/>\r\n       </defs>\r\n       <use xlink:href=\"#DejaVuSans-31\"/>\r\n       <use x=\"63.623047\" xlink:href=\"#DejaVuSans-30\"/>\r\n      </g>\r\n     </g>\r\n    </g>\r\n    <g id=\"ytick_5\">\r\n     <g id=\"line2d_39\">\r\n      <g>\r\n       <use style=\"stroke:#000000;stroke-width:0.8;\" x=\"28.942188\" xlink:href=\"#m4d28038782\" y=\"73.292789\"/>\r\n      </g>\r\n     </g>\r\n     <g id=\"text_11\">\r\n      <!-- 15 -->\r\n      <g transform=\"translate(9.217188 77.092008)scale(0.1 -0.1)\">\r\n       <use xlink:href=\"#DejaVuSans-31\"/>\r\n       <use x=\"63.623047\" xlink:href=\"#DejaVuSans-35\"/>\r\n      </g>\r\n     </g>\r\n    </g>\r\n    <g id=\"ytick_6\">\r\n     <g id=\"line2d_40\">\r\n      <g>\r\n       <use style=\"stroke:#000000;stroke-width:0.8;\" x=\"28.942188\" xlink:href=\"#m4d28038782\" y=\"35.506155\"/>\r\n      </g>\r\n     </g>\r\n     <g id=\"text_12\">\r\n      <!-- 20 -->\r\n      <g transform=\"translate(9.217188 39.305373)scale(0.1 -0.1)\">\r\n       <use xlink:href=\"#DejaVuSans-32\"/>\r\n       <use x=\"63.623047\" xlink:href=\"#DejaVuSans-30\"/>\r\n      </g>\r\n     </g>\r\n    </g>\r\n   </g>\r\n   <g id=\"line2d_41\">\r\n    <path clip-path=\"url(#p6185488533)\" d=\"M 28.942187 182.060337 \r\nL 29.277323 173.125175 \r\nL 29.612458 170.639464 \r\nL 29.947593 161.793784 \r\nL 30.282728 159.792334 \r\nL 30.617863 174.733153 \r\nL 31.288133 165.015396 \r\nL 31.623269 153.927934 \r\nL 31.958404 149.823646 \r\nL 32.293539 137.327788 \r\nL 32.628674 141.948989 \r\nL 32.963809 158.665842 \r\nL 33.298944 144.367717 \r\nL 33.634079 149.80588 \r\nL 33.969215 152.289443 \r\nL 34.30435 151.52547 \r\nL 34.639485 153.560626 \r\nL 34.97462 150.876736 \r\nL 35.64489 164.196419 \r\nL 35.980025 161.205032 \r\nL 36.31516 163.136817 \r\nL 36.985431 150.462035 \r\nL 37.320566 141.159445 \r\nL 37.655701 154.845638 \r\nL 37.990836 140.483365 \r\nL 38.325971 144.046095 \r\nL 38.661106 146.010038 \r\nL 38.996242 145.007802 \r\nL 40.001647 161.003583 \r\nL 40.336782 158.13287 \r\nL 41.007052 137.340854 \r\nL 41.342187 136.250939 \r\nL 41.677323 132.833816 \r\nL 42.012458 136.194509 \r\nL 42.347593 137.399016 \r\nL 42.682728 145.434267 \r\nL 43.017863 144.447022 \r\nL 43.352998 140.867889 \r\nL 43.688133 144.993296 \r\nL 44.358404 132.611635 \r\nL 44.693539 129.657212 \r\nL 45.028674 132.291812 \r\nL 45.363809 128.766293 \r\nL 45.698944 134.645573 \r\nL 46.369215 123.820253 \r\nL 46.70435 132.732469 \r\nL 47.039485 132.491295 \r\nL 47.37462 138.513895 \r\nL 47.709755 141.696186 \r\nL 48.04489 141.51321 \r\nL 48.380025 133.032353 \r\nL 48.71516 135.354453 \r\nL 49.050296 126.085148 \r\nL 49.720566 118.688438 \r\nL 50.055701 129.618911 \r\nL 51.061106 121.735528 \r\nL 51.396242 126.096946 \r\nL 51.731377 125.973312 \r\nL 52.066512 127.096342 \r\nL 52.401647 135.536661 \r\nL 53.071917 125.739377 \r\nL 53.407052 117.444851 \r\nL 53.742188 120.024826 \r\nL 54.077323 124.652296 \r\nL 54.747593 152.8524 \r\nL 55.082728 137.248627 \r\nL 55.417863 134.85252 \r\nL 55.752998 142.806566 \r\nL 56.088133 145.894475 \r\nL 56.423269 134.876786 \r\nL 56.758404 131.944062 \r\nL 57.093539 131.398238 \r\nL 57.428674 140.031502 \r\nL 57.763809 155.218634 \r\nL 58.098944 159.888257 \r\nL 58.434079 154.694328 \r\nL 58.769215 126.880712 \r\nL 59.10435 115.46849 \r\nL 59.439485 117.337255 \r\nL 59.77462 126.91617 \r\nL 60.109755 139.775334 \r\nL 60.44489 126.295478 \r\nL 60.780025 117.687203 \r\nL 61.11516 120.533908 \r\nL 61.450296 110.660793 \r\nL 61.785431 104.197125 \r\nL 62.120566 101.928291 \r\nL 62.455701 101.765785 \r\nL 62.790836 102.240335 \r\nL 63.125971 106.696559 \r\nL 63.461106 107.683952 \r\nL 63.796242 106.820378 \r\nL 64.466512 128.744343 \r\nL 64.801647 117.080806 \r\nL 65.136782 110.522321 \r\nL 65.471917 110.633021 \r\nL 65.807052 119.815854 \r\nL 66.142187 108.794983 \r\nL 66.477323 118.871621 \r\nL 66.812458 117.189024 \r\nL 67.147593 125.438182 \r\nL 67.482728 115.286544 \r\nL 67.817863 114.416829 \r\nL 68.488133 110.279423 \r\nL 68.823269 102.005249 \r\nL 69.158404 105.270354 \r\nL 69.493539 116.928166 \r\nL 69.828674 122.554582 \r\nL 70.163809 120.477111 \r\nL 70.498944 125.761197 \r\nL 70.834079 137.815366 \r\nL 71.169215 139.227463 \r\nL 71.50435 148.256529 \r\nL 71.839485 148.296912 \r\nL 72.17462 151.176103 \r\nL 72.84489 143.966829 \r\nL 73.180025 134.928521 \r\nL 73.51516 139.074641 \r\nL 73.850296 138.178048 \r\nL 74.185431 132.728588 \r\nL 74.520566 129.544204 \r\nL 74.855701 140.016376 \r\nL 75.190836 134.117896 \r\nL 75.525971 131.979401 \r\nL 75.861106 138.726547 \r\nL 76.531377 135.268026 \r\nL 77.201647 123.64853 \r\nL 77.536782 122.010825 \r\nL 77.871917 122.252308 \r\nL 78.207052 121.57499 \r\nL 78.542188 133.500623 \r\nL 79.212458 130.709208 \r\nL 79.547593 135.051771 \r\nL 80.217863 129.725984 \r\nL 80.552998 118.86849 \r\nL 80.888133 112.613018 \r\nL 81.223269 113.799299 \r\nL 81.558404 121.374754 \r\nL 81.893539 109.053252 \r\nL 82.228674 109.21714 \r\nL 82.563809 113.732873 \r\nL 82.898944 111.001386 \r\nL 83.234079 103.530717 \r\nL 83.569215 86.461041 \r\nL 83.90435 79.424721 \r\nL 84.239485 68.573748 \r\nL 84.57462 66.097921 \r\nL 84.909755 72.067167 \r\nL 85.24489 66.940011 \r\nL 85.91516 81.040531 \r\nL 86.250296 83.600292 \r\nL 86.585431 75.920818 \r\nL 86.920566 75.800087 \r\nL 87.255701 58.427605 \r\nL 87.590836 51.882015 \r\nL 87.925971 37.04994 \r\nL 88.261106 36.494587 \r\nL 88.931377 38.899434 \r\nL 89.266512 48.819907 \r\nL 89.601647 48.35755 \r\nL 89.936782 36.654192 \r\nL 90.271917 38.591434 \r\nL 90.607052 34.015855 \r\nL 90.942187 32.542615 \r\nL 91.612458 24.31219 \r\nL 92.282728 38.565568 \r\nL 92.952998 36.012522 \r\nL 93.623269 36.642921 \r\nL 93.958404 45.072452 \r\nL 94.293539 41.951197 \r\nL 94.628674 45.044378 \r\nL 94.963809 37.533236 \r\nL 95.634079 32.568682 \r\nL 95.969215 33.326119 \r\nL 96.30435 44.449372 \r\nL 96.639485 40.242465 \r\nL 96.97462 40.611781 \r\nL 97.309755 48.471632 \r\nL 97.64489 48.181438 \r\nL 97.980025 56.202131 \r\nL 98.31516 59.423482 \r\nL 98.650296 52.667269 \r\nL 98.985431 63.874646 \r\nL 99.320566 63.117109 \r\nL 99.655701 61.21495 \r\nL 99.990836 61.448526 \r\nL 100.325971 52.005937 \r\nL 100.661106 52.075874 \r\nL 100.996242 55.465162 \r\nL 101.331377 54.813408 \r\nL 101.666512 54.655149 \r\nL 102.001647 64.688452 \r\nL 102.336782 68.151845 \r\nL 102.671917 76.840886 \r\nL 103.007052 79.268553 \r\nL 103.342187 92.225749 \r\nL 103.677323 97.075348 \r\nL 104.012458 107.724335 \r\nL 104.347593 105.397404 \r\nL 104.682728 110.50551 \r\nL 105.017863 118.130804 \r\nL 105.352998 113.409919 \r\nL 105.688133 111.503076 \r\nL 106.023269 103.568533 \r\nL 106.358404 106.272397 \r\nL 106.693539 112.360482 \r\nL 107.363809 99.313918 \r\nL 107.698944 100.717578 \r\nL 108.034079 98.831086 \r\nL 108.369215 95.683697 \r\nL 108.70435 98.167725 \r\nL 109.039485 94.650021 \r\nL 109.37462 94.557313 \r\nL 109.709755 79.329822 \r\nL 110.04489 75.464104 \r\nL 110.380025 79.168709 \r\nL 110.71516 73.842192 \r\nL 111.050296 59.820509 \r\nL 111.720566 63.625132 \r\nL 112.055701 63.490843 \r\nL 112.390836 70.995688 \r\nL 112.725971 66.237377 \r\nL 113.061106 71.789868 \r\nL 113.396242 65.149815 \r\nL 113.731377 55.091052 \r\nL 114.066512 68.452889 \r\nL 114.401647 64.395831 \r\nL 114.736782 66.987725 \r\nL 115.071917 74.294552 \r\nL 115.407052 72.266365 \r\nL 115.742188 66.033644 \r\nL 116.077323 64.048835 \r\nL 116.412458 69.276532 \r\nL 116.747593 61.911785 \r\nL 117.082728 76.000858 \r\nL 117.752998 59.400457 \r\nL 118.088133 46.207291 \r\nL 118.423269 43.803849 \r\nL 118.758404 42.496108 \r\nL 119.093539 35.756427 \r\nL 119.428674 36.579903 \r\nL 119.763809 40.757341 \r\nL 120.098944 40.511718 \r\nL 120.434079 39.574314 \r\nL 120.769215 39.345356 \r\nL 121.439485 43.311234 \r\nL 122.109755 59.68219 \r\nL 122.44489 53.624616 \r\nL 122.780025 32.671365 \r\nL 123.11516 31.768239 \r\nL 123.450296 42.844031 \r\nL 123.785431 46.919668 \r\nL 124.120566 37.311592 \r\nL 124.455701 41.440476 \r\nL 124.790836 34.661548 \r\nL 125.125971 19.233102 \r\nL 125.796242 17.083636 \r\nL 126.131377 32.777912 \r\nL 126.466512 38.484559 \r\nL 126.801647 39.601083 \r\nL 127.136782 52.724046 \r\nL 127.471917 50.275849 \r\nL 127.807052 45.092385 \r\nL 128.142187 29.823594 \r\nL 128.477323 41.057587 \r\nL 128.812458 35.164578 \r\nL 129.147593 53.394681 \r\nL 129.482728 45.077196 \r\nL 129.817863 58.589562 \r\nL 130.152998 77.723036 \r\nL 130.488133 84.372619 \r\nL 130.823269 86.139061 \r\nL 131.158404 84.954557 \r\nL 131.493539 78.819716 \r\nL 131.828674 83.201782 \r\nL 132.163809 81.663767 \r\nL 132.498944 72.976827 \r\nL 132.834079 58.866501 \r\nL 133.169215 68.841597 \r\nL 133.50435 73.181348 \r\nL 133.839485 63.322082 \r\nL 134.17462 79.88891 \r\nL 134.509755 82.467426 \r\nL 134.84489 66.003943 \r\nL 135.180025 65.141392 \r\nL 135.51516 54.087116 \r\nL 136.185431 72.256765 \r\nL 136.520566 59.45435 \r\nL 136.855701 76.616093 \r\nL 137.190836 72.002686 \r\nL 137.525971 58.568897 \r\nL 137.861106 58.560077 \r\nL 138.196242 70.856398 \r\nL 138.531377 76.722892 \r\nL 138.866512 76.741633 \r\nL 139.201647 77.336375 \r\nL 139.536782 78.163021 \r\nL 139.871917 77.68157 \r\nL 140.207052 103.008919 \r\nL 140.542188 98.870801 \r\nL 140.877323 101.445578 \r\nL 141.547593 85.940783 \r\nL 141.882728 88.598134 \r\nL 142.217863 90.341689 \r\nL 142.888133 110.596032 \r\nL 143.223269 106.020703 \r\nL 143.893539 111.330836 \r\nL 144.228674 118.715865 \r\nL 144.563809 121.969994 \r\nL 144.898944 120.611032 \r\nL 145.234079 113.032556 \r\nL 145.569215 113.544217 \r\nL 145.90435 118.962082 \r\nL 146.239485 115.195481 \r\nL 146.57462 116.626612 \r\nL 146.909755 130.957634 \r\nL 147.24489 129.63785 \r\nL 147.580025 134.482311 \r\nL 147.91516 135.681267 \r\nL 148.250296 143.776792 \r\nL 148.585431 142.686062 \r\nL 148.920566 148.531783 \r\nL 149.255701 152.193288 \r\nL 149.590836 150.839078 \r\nL 149.925971 148.208831 \r\nL 150.261106 138.917084 \r\nL 150.596242 140.739862 \r\nL 150.931377 129.215188 \r\nL 151.266512 139.713687 \r\nL 151.601647 139.714626 \r\nL 151.936782 151.512112 \r\nL 152.271917 148.230508 \r\nL 152.942187 155.539104 \r\nL 153.277323 157.421768 \r\nL 153.612458 149.806024 \r\nL 153.947593 151.402232 \r\nL 154.282728 151.526727 \r\nL 154.617863 157.138935 \r\nL 154.952998 166.989735 \r\nL 155.288133 157.306446 \r\nL 155.623269 162.835855 \r\nL 155.958404 164.013786 \r\nL 156.293539 168.353576 \r\nL 156.628674 165.165082 \r\nL 156.963809 175.081108 \r\nL 157.298944 168.246296 \r\nL 157.969215 158.331398 \r\nL 158.639485 162.722876 \r\nL 158.97462 169.223309 \r\nL 159.309755 170.060778 \r\nL 159.64489 177.732407 \r\nL 159.980025 171.131849 \r\nL 160.31516 175.692012 \r\nL 160.650296 168.075126 \r\nL 160.985431 177.195277 \r\nL 161.320566 191.608141 \r\nL 161.655701 198.834741 \r\nL 161.990836 191.518428 \r\nL 162.325971 199.581804 \r\nL 162.661106 193.336705 \r\nL 162.996242 182.677343 \r\nL 163.331377 184.033227 \r\nL 163.666512 198.620791 \r\nL 164.336782 185.710446 \r\nL 164.671917 187.314594 \r\nL 165.007052 186.139904 \r\nL 165.342187 186.059781 \r\nL 165.677323 185.331356 \r\nL 166.012458 185.32006 \r\nL 166.347593 183.853492 \r\nL 166.682728 198.848789 \r\nL 167.017863 187.861476 \r\nL 167.352998 183.549607 \r\nL 167.688133 182.11456 \r\nL 168.023269 187.731113 \r\nL 168.358404 214.756364 \r\nL 168.693539 211.259721 \r\nL 169.363809 196.432261 \r\nL 169.698944 196.933446 \r\nL 170.369215 198.725495 \r\nL 170.70435 184.745653 \r\nL 171.039485 190.541054 \r\nL 171.37462 180.607808 \r\nL 171.709755 187.00115 \r\nL 172.04489 183.476646 \r\nL 172.380025 173.765206 \r\nL 172.71516 167.312958 \r\nL 173.050296 147.195498 \r\nL 173.385431 135.241441 \r\nL 173.720566 145.043389 \r\nL 174.055701 141.352251 \r\nL 174.390836 139.089021 \r\nL 174.725971 141.078077 \r\nL 175.061106 137.673904 \r\nL 175.396242 132.428138 \r\nL 175.731377 134.748822 \r\nL 176.066512 142.504553 \r\nL 176.736782 162.293616 \r\nL 177.407052 151.772303 \r\nL 178.412458 132.047935 \r\nL 178.747593 135.091382 \r\nL 179.417863 143.469794 \r\nL 179.752998 146.783478 \r\nL 180.423269 140.323357 \r\nL 180.758404 149.280386 \r\nL 181.428674 129.811539 \r\nL 181.763809 124.594952 \r\nL 182.098944 122.608242 \r\nL 182.434079 126.269968 \r\nL 182.769215 122.646779 \r\nL 183.10435 117.193747 \r\nL 183.439485 117.225501 \r\nL 183.77462 122.687327 \r\nL 184.109755 108.350372 \r\nL 184.44489 108.456416 \r\nL 184.780025 108.127251 \r\nL 185.11516 118.04886 \r\nL 185.450296 117.781213 \r\nL 185.785431 109.756627 \r\nL 186.120566 111.450544 \r\nL 186.455701 110.400392 \r\nL 186.790836 102.733906 \r\nL 187.125971 107.19049 \r\nL 187.461106 108.677442 \r\nL 187.796242 102.748446 \r\nL 188.131377 107.153174 \r\nL 188.466512 118.20785 \r\nL 188.801647 121.475886 \r\nL 189.136782 122.950105 \r\nL 189.471917 127.04598 \r\nL 189.807052 123.52266 \r\nL 190.477323 113.718316 \r\nL 190.812458 116.129266 \r\nL 191.147593 117.662383 \r\nL 191.482728 117.301576 \r\nL 192.152998 128.186632 \r\nL 192.488133 143.004186 \r\nL 192.823269 133.893193 \r\nL 193.158404 140.765932 \r\nL 193.828674 161.007233 \r\nL 194.163809 166.164322 \r\nL 194.498944 149.497344 \r\nL 194.834079 155.378793 \r\nL 195.169215 157.628549 \r\nL 195.50435 154.882318 \r\nL 195.839485 153.903073 \r\nL 196.17462 167.656276 \r\nL 196.84489 182.536761 \r\nL 197.180025 183.886314 \r\nL 197.850296 202.696187 \r\nL 198.185431 206.445138 \r\nL 198.520566 207.663149 \r\nL 198.855701 204.23675 \r\nL 199.190836 195.125575 \r\nL 199.525971 202.465062 \r\nL 200.196242 174.891832 \r\nL 200.531377 169.937214 \r\nL 200.866512 167.597429 \r\nL 201.201647 171.066198 \r\nL 201.536782 161.153373 \r\nL 201.871917 155.004493 \r\nL 202.207052 152.19636 \r\nL 202.542188 147.219791 \r\nL 202.877323 147.044713 \r\nL 203.212458 146.373151 \r\nL 203.547593 146.575707 \r\nL 203.882728 145.903193 \r\nL 204.217863 133.71318 \r\nL 204.552998 128.103787 \r\nL 204.888133 137.570559 \r\nL 205.223269 125.082063 \r\nL 205.558404 120.280193 \r\nL 205.893539 123.718311 \r\nL 206.228674 109.153604 \r\nL 206.563809 117.135578 \r\nL 206.898944 113.86435 \r\nL 207.234079 103.764159 \r\nL 207.569215 102.091802 \r\nL 207.90435 114.556587 \r\nL 208.239485 118.990455 \r\nL 208.57462 113.954628 \r\nL 208.909755 126.540964 \r\nL 209.24489 134.206483 \r\nL 209.580025 152.713761 \r\nL 209.91516 151.459139 \r\nL 210.250296 158.227379 \r\nL 210.585431 153.947503 \r\nL 210.920566 152.342855 \r\nL 211.255701 148.27423 \r\nL 211.590836 164.856969 \r\nL 211.925971 163.530252 \r\nL 212.261106 175.445447 \r\nL 212.596242 171.593035 \r\nL 212.931377 161.893023 \r\nL 213.266512 170.695895 \r\nL 213.601647 170.673849 \r\nL 213.936782 171.493143 \r\nL 214.271917 184.081919 \r\nL 214.607052 186.168012 \r\nL 214.942187 198.989256 \r\nL 215.277323 201.243977 \r\nL 215.612458 190.540961 \r\nL 215.947593 204.700917 \r\nL 216.282728 203.263839 \r\nL 216.617863 197.236598 \r\nL 216.952998 188.810781 \r\nL 217.288133 183.468132 \r\nL 217.623269 170.164641 \r\nL 217.958404 169.043291 \r\nL 218.628674 196.333978 \r\nL 219.298944 201.64956 \r\nL 219.634079 200.027145 \r\nL 220.30435 180.428593 \r\nL 220.639485 188.308817 \r\nL 220.97462 180.037542 \r\nL 221.309755 175.492516 \r\nL 221.64489 177.114081 \r\nL 221.980025 180.339217 \r\nL 222.31516 173.72543 \r\nL 222.650296 173.488769 \r\nL 222.985431 168.112656 \r\nL 223.320566 159.782187 \r\nL 223.655701 155.846315 \r\nL 223.990836 154.78087 \r\nL 224.325971 157.194426 \r\nL 224.996242 139.401278 \r\nL 225.331377 140.04489 \r\nL 225.666512 125.255351 \r\nL 226.001647 116.432192 \r\nL 226.336782 119.664212 \r\nL 227.007052 142.596546 \r\nL 227.342187 132.829212 \r\nL 227.677323 130.351954 \r\nL 228.012458 124.501654 \r\nL 228.347593 116.332513 \r\nL 228.682728 126.567174 \r\nL 229.017863 124.679882 \r\nL 229.688133 130.421439 \r\nL 230.023269 130.504263 \r\nL 230.693539 136.157008 \r\nL 231.028674 135.141009 \r\nL 231.363809 139.668728 \r\nL 231.698944 132.802623 \r\nL 232.034079 136.559481 \r\nL 232.369215 155.914589 \r\nL 232.70435 155.816833 \r\nL 233.039485 149.26572 \r\nL 233.37462 153.094613 \r\nL 233.709755 160.496397 \r\nL 234.04489 145.201954 \r\nL 234.380025 139.483154 \r\nL 235.050296 171.904358 \r\nL 235.385431 178.83475 \r\nL 235.720566 188.492276 \r\nL 236.055701 191.951463 \r\nL 236.390836 173.922239 \r\nL 237.061106 162.688467 \r\nL 237.396242 163.70936 \r\nL 237.731377 164.133727 \r\nL 238.066512 159.290927 \r\nL 238.401647 160.470051 \r\nL 238.736782 153.346091 \r\nL 239.071917 141.276604 \r\nL 239.407052 147.839687 \r\nL 239.742188 142.364098 \r\nL 240.077323 138.913754 \r\nL 240.412458 141.693999 \r\nL 240.747593 137.440975 \r\nL 241.082728 143.292202 \r\nL 241.417863 130.985112 \r\nL 241.752998 127.416339 \r\nL 242.088133 130.604665 \r\nL 242.423269 129.052509 \r\nL 243.093539 127.724327 \r\nL 243.428674 113.050057 \r\nL 243.763809 113.503883 \r\nL 244.098944 124.321259 \r\nL 244.434079 149.107553 \r\nL 244.769215 146.044815 \r\nL 245.10435 150.517376 \r\nL 245.439485 149.569995 \r\nL 245.77462 149.002908 \r\nL 246.44489 153.443358 \r\nL 246.780025 158.983896 \r\nL 247.11516 153.701173 \r\nL 247.450296 140.551149 \r\nL 247.785431 145.428515 \r\nL 248.120566 148.435192 \r\nL 248.455701 140.772291 \r\nL 248.790836 141.614889 \r\nL 249.461106 156.889333 \r\nL 249.796242 160.670336 \r\nL 250.131377 165.809523 \r\nL 250.466512 168.834928 \r\nL 250.801647 170.566883 \r\nL 251.807052 185.358583 \r\nL 252.142187 192.157851 \r\nL 252.477323 190.609113 \r\nL 252.812458 179.179277 \r\nL 253.147593 173.745255 \r\nL 253.482728 164.370616 \r\nL 253.817863 163.52512 \r\nL 254.152998 159.513578 \r\nL 254.488133 159.579689 \r\nL 254.823269 159.9617 \r\nL 255.158404 149.077709 \r\nL 255.493539 151.741797 \r\nL 255.828674 165.187658 \r\nL 256.163809 153.635538 \r\nL 256.498944 154.466223 \r\nL 256.834079 149.46496 \r\nL 257.169215 140.886976 \r\nL 257.50435 123.298792 \r\nL 257.839485 127.351555 \r\nL 258.17462 116.072744 \r\nL 258.509755 116.502805 \r\nL 259.180025 125.034991 \r\nL 259.51516 117.273488 \r\nL 259.850296 125.450761 \r\nL 260.185431 126.01772 \r\nL 260.855701 115.375881 \r\nL 261.190836 114.316155 \r\nL 261.861106 109.867964 \r\nL 262.196242 117.303768 \r\nL 262.531377 122.226343 \r\nL 262.866512 122.509702 \r\nL 263.201647 126.692204 \r\nL 263.536782 119.991889 \r\nL 263.871917 117.567061 \r\nL 264.542188 88.349232 \r\nL 264.877323 84.931585 \r\nL 265.547593 80.712518 \r\nL 265.882728 89.741434 \r\nL 266.217863 94.55788 \r\nL 266.552998 92.219122 \r\nL 266.888133 90.679638 \r\nL 267.223269 94.838548 \r\nL 267.558404 87.325128 \r\nL 267.893539 89.40549 \r\nL 268.228674 109.292186 \r\nL 268.563809 110.674272 \r\nL 268.898944 102.201546 \r\nL 269.234079 104.415579 \r\nL 269.569215 101.376416 \r\nL 269.90435 106.670361 \r\nL 270.239485 101.418527 \r\nL 270.909755 79.299393 \r\nL 271.24489 82.577066 \r\nL 271.580025 81.880629 \r\nL 271.91516 88.544267 \r\nL 272.250296 92.74607 \r\nL 272.585431 87.238453 \r\nL 272.920566 93.781752 \r\nL 273.255701 97.525298 \r\nL 273.590836 113.44356 \r\nL 273.925971 108.101997 \r\nL 274.261106 111.006883 \r\nL 274.596242 108.900062 \r\nL 274.931377 104.996903 \r\nL 275.266512 107.720478 \r\nL 275.601647 105.932473 \r\nL 275.936782 115.056938 \r\nL 276.271917 108.017926 \r\nL 276.607052 118.110328 \r\nL 276.942187 110.422546 \r\nL 277.277323 113.987325 \r\nL 277.612458 111.471078 \r\nL 277.947593 109.856783 \r\nL 278.282728 97.262171 \r\nL 278.617863 94.716412 \r\nL 278.952998 81.745033 \r\nL 279.288133 84.197824 \r\nL 279.623269 74.819828 \r\nL 279.958404 73.269001 \r\nL 280.293539 62.960061 \r\nL 280.628674 70.562949 \r\nL 280.963809 71.798247 \r\nL 281.298944 75.280955 \r\nL 281.634079 66.747043 \r\nL 281.969215 63.215886 \r\nL 282.30435 69.878147 \r\nL 282.639485 67.598922 \r\nL 282.97462 66.484669 \r\nL 283.309755 60.461096 \r\nL 283.64489 61.554742 \r\nL 284.31516 53.991163 \r\nL 284.650296 65.218569 \r\nL 285.320566 60.76396 \r\nL 285.655701 57.494309 \r\nL 285.990836 49.269576 \r\nL 286.325971 51.740935 \r\nL 287.331377 64.328359 \r\nL 287.666512 56.440246 \r\nL 288.001647 53.406837 \r\nL 288.336782 38.579615 \r\nL 288.671917 41.728402 \r\nL 289.677323 67.836935 \r\nL 290.012458 76.406513 \r\nL 290.347593 70.827731 \r\nL 290.682728 72.697731 \r\nL 291.352998 57.18855 \r\nL 291.688133 68.939737 \r\nL 292.023269 67.886178 \r\nL 292.358404 82.38229 \r\nL 293.028674 95.201577 \r\nL 293.363809 96.068528 \r\nL 293.698944 87.580707 \r\nL 294.034079 87.616951 \r\nL 294.369215 94.060281 \r\nL 294.70435 90.772228 \r\nL 295.039485 89.197701 \r\nL 295.37462 100.983072 \r\nL 295.709755 97.865476 \r\nL 296.04489 103.216165 \r\nL 296.380025 105.653194 \r\nL 297.050296 96.093009 \r\nL 297.385431 91.083544 \r\nL 297.720566 92.142574 \r\nL 298.390836 107.193987 \r\nL 298.725971 100.649854 \r\nL 299.061106 104.633631 \r\nL 299.731377 109.247618 \r\nL 300.066512 98.42712 \r\nL 300.401647 102.705504 \r\nL 300.736782 113.931811 \r\nL 301.071917 108.155927 \r\nL 301.407052 107.5566 \r\nL 301.742188 104.245886 \r\nL 302.077323 104.176667 \r\nL 302.412458 89.660041 \r\nL 302.747593 69.743129 \r\nL 303.082728 76.625655 \r\nL 303.417863 87.016839 \r\nL 303.752998 68.659289 \r\nL 304.088133 64.202422 \r\nL 304.423269 66.108184 \r\nL 304.758404 55.281566 \r\nL 305.093539 61.157092 \r\nL 306.098944 40.604517 \r\nL 306.434079 46.990663 \r\nL 306.769215 39.231685 \r\nL 307.10435 40.60111 \r\nL 307.439485 37.374927 \r\nL 307.77462 37.783379 \r\nL 308.44489 48.10963 \r\nL 308.780025 52.659959 \r\nL 309.11516 69.850958 \r\nL 309.450296 77.221346 \r\nL 310.120566 61.452281 \r\nL 310.455701 67.387507 \r\nL 310.790836 62.927256 \r\nL 311.125971 53.172222 \r\nL 311.461106 54.168973 \r\nL 311.796242 58.095563 \r\nL 312.131377 52.510417 \r\nL 312.466512 49.23174 \r\nL 312.801647 55.224534 \r\nL 313.136782 53.385291 \r\nL 313.471917 47.464398 \r\nL 313.807052 44.703899 \r\nL 314.142187 44.052128 \r\nL 314.477323 44.445932 \r\nL 314.812458 45.738203 \r\nL 315.147593 48.040237 \r\nL 315.482728 47.793615 \r\nL 315.817863 59.723399 \r\nL 316.488133 49.287691 \r\nL 316.823269 66.658422 \r\nL 317.158404 70.578337 \r\nL 317.493539 58.246834 \r\nL 317.828674 66.913381 \r\nL 318.163809 69.231492 \r\nL 318.498944 67.822622 \r\nL 318.834079 73.270539 \r\nL 319.169215 65.341703 \r\nL 319.50435 67.817919 \r\nL 319.839485 72.301494 \r\nL 320.17462 73.495401 \r\nL 320.509755 71.379177 \r\nL 320.84489 65.143806 \r\nL 321.51516 85.443943 \r\nL 321.850296 79.453478 \r\nL 322.185431 78.429138 \r\nL 322.520566 69.310064 \r\nL 322.855701 66.698187 \r\nL 323.190836 61.45692 \r\nL 323.525971 75.502425 \r\nL 323.861106 78.884503 \r\nL 324.531377 74.617594 \r\nL 324.866512 78.052818 \r\nL 325.201647 85.831696 \r\nL 325.536782 99.166833 \r\nL 325.871917 102.143968 \r\nL 326.207052 101.089824 \r\nL 326.542188 101.765049 \r\nL 327.212458 107.623967 \r\nL 327.547593 109.851283 \r\nL 327.882728 101.512317 \r\nL 328.217863 104.481604 \r\nL 328.552998 116.924563 \r\nL 328.888133 108.966851 \r\nL 329.223269 107.669363 \r\nL 329.558404 102.988634 \r\nL 329.893539 103.596979 \r\nL 330.228674 95.886781 \r\nL 330.563809 99.053909 \r\nL 330.898944 89.324151 \r\nL 331.234079 75.396287 \r\nL 331.569215 70.643492 \r\nL 331.90435 73.850935 \r\nL 332.239485 80.219972 \r\nL 332.57462 78.667801 \r\nL 333.24489 90.438599 \r\nL 333.91516 101.768587 \r\nL 334.250296 103.073858 \r\nL 334.585431 97.786863 \r\nL 334.920566 99.980949 \r\nL 335.255701 95.278602 \r\nL 335.590836 102.506395 \r\nL 335.925971 101.822612 \r\nL 336.261106 111.328258 \r\nL 336.596242 114.095559 \r\nL 336.931377 107.2789 \r\nL 337.266512 95.670207 \r\nL 337.601647 79.207776 \r\nL 338.271917 91.52367 \r\nL 338.942187 94.772844 \r\nL 339.277323 101.913683 \r\nL 339.612458 106.176968 \r\nL 339.947593 102.997834 \r\nL 340.282728 100.972883 \r\nL 340.617863 105.142686 \r\nL 340.952998 97.40681 \r\nL 341.288133 93.795695 \r\nL 341.623269 96.389645 \r\nL 341.958404 104.024397 \r\nL 342.293539 93.165902 \r\nL 342.628674 103.897528 \r\nL 342.963809 103.230782 \r\nL 343.298944 101.044193 \r\nL 343.634079 101.187681 \r\nL 343.969215 106.209891 \r\nL 344.30435 108.216679 \r\nL 344.639485 113.425914 \r\nL 344.97462 115.119364 \r\nL 345.309755 128.570986 \r\nL 345.64489 127.475762 \r\nL 345.980025 116.361629 \r\nL 346.31516 123.002097 \r\nL 346.650296 123.371561 \r\nL 346.985431 127.786133 \r\nL 347.320566 125.616873 \r\nL 347.655701 121.178752 \r\nL 347.990836 114.035131 \r\nL 348.325971 125.066261 \r\nL 348.996242 135.394171 \r\nL 349.331377 133.160557 \r\nL 349.666512 126.619199 \r\nL 350.001647 135.194197 \r\nL 350.336782 149.22581 \r\nL 350.671917 148.137532 \r\nL 351.007052 144.739999 \r\nL 351.342187 163.101439 \r\nL 351.677323 161.876986 \r\nL 352.012458 149.7067 \r\nL 352.347593 152.952654 \r\nL 352.682728 167.413922 \r\nL 353.017863 158.182112 \r\nL 353.352998 157.340092 \r\nL 353.688133 169.192984 \r\nL 354.023269 172.436749 \r\nL 354.693539 188.119788 \r\nL 355.028674 198.776273 \r\nL 355.363809 198.228995 \r\nL 355.698944 206.242706 \r\nL 356.034079 201.58535 \r\nL 356.369215 182.992268 \r\nL 356.70435 188.735468 \r\nL 357.039485 173.423615 \r\nL 357.37462 175.623733 \r\nL 357.709755 174.418875 \r\nL 358.04489 177.350961 \r\nL 358.380025 179.258405 \r\nL 358.71516 182.025194 \r\nL 359.050296 195.685104 \r\nL 359.385431 202.633423 \r\nL 359.720566 197.456218 \r\nL 360.055701 201.23022 \r\nL 360.390836 186.975862 \r\nL 360.725971 186.818414 \r\nL 361.061106 170.146031 \r\nL 361.396242 169.487728 \r\nL 361.731377 179.096804 \r\nL 362.066512 182.191081 \r\nL 362.401647 187.166156 \r\nL 362.736782 177.210071 \r\nL 363.071917 174.08531 \r\nL 363.407052 176.759544 \r\nL 363.742188 172.659761 \r\nL 363.742188 172.659761 \r\n\" style=\"fill:none;stroke:#1f77b4;stroke-linecap:square;stroke-width:1.5;\"/>\r\n   </g>\r\n   <g id=\"patch_3\">\r\n    <path d=\"M 28.942188 224.64 \r\nL 28.942188 7.2 \r\n\" style=\"fill:none;stroke:#000000;stroke-linecap:square;stroke-linejoin:miter;stroke-width:0.8;\"/>\r\n   </g>\r\n   <g id=\"patch_4\">\r\n    <path d=\"M 363.742188 224.64 \r\nL 363.742188 7.2 \r\n\" style=\"fill:none;stroke:#000000;stroke-linecap:square;stroke-linejoin:miter;stroke-width:0.8;\"/>\r\n   </g>\r\n   <g id=\"patch_5\">\r\n    <path d=\"M 28.942187 224.64 \r\nL 363.742188 224.64 \r\n\" style=\"fill:none;stroke:#000000;stroke-linecap:square;stroke-linejoin:miter;stroke-width:0.8;\"/>\r\n   </g>\r\n   <g id=\"patch_6\">\r\n    <path d=\"M 28.942187 7.2 \r\nL 363.742188 7.2 \r\n\" style=\"fill:none;stroke:#000000;stroke-linecap:square;stroke-linejoin:miter;stroke-width:0.8;\"/>\r\n   </g>\r\n  </g>\r\n </g>\r\n <defs>\r\n  <clipPath id=\"p6185488533\">\r\n   <rect height=\"217.44\" width=\"334.8\" x=\"28.942188\" y=\"7.2\"/>\r\n  </clipPath>\r\n </defs>\r\n</svg>\r\n",
      "text/plain": [
       "<Figure size 432x288 with 1 Axes>"
      ]
     },
     "metadata": {
      "needs_background": "light"
     },
     "output_type": "display_data"
    }
   ],
   "source": [
    "ts_cumsum = ts.cumsum()\n",
    "ts_cumsum.plot()"
   ]
  },
  {
   "cell_type": "markdown",
   "metadata": {},
   "source": [
    "If running under Jupyter Notebook, the plot will appear on `plot()`. Otherwise use `matplotlib.pyplot.show` to show it of `matplotlin.pyplot.savefig` to write it into a file."
   ]
  },
  {
   "cell_type": "code",
   "execution_count": 204,
   "metadata": {},
   "outputs": [],
   "source": [
    "plt.show()"
   ]
  },
  {
   "cell_type": "markdown",
   "metadata": {},
   "source": [
    "On a DataFrame, the `plot()` method is a convenience to plot all of the columns with labels."
   ]
  },
  {
   "cell_type": "code",
   "execution_count": 205,
   "metadata": {},
   "outputs": [
    {
     "data": {
      "text/plain": [
       "<matplotlib.legend.Legend at 0x2316611b400>"
      ]
     },
     "execution_count": 205,
     "metadata": {},
     "output_type": "execute_result"
    },
    {
     "data": {
      "text/plain": [
       "<Figure size 432x288 with 0 Axes>"
      ]
     },
     "metadata": {},
     "output_type": "display_data"
    },
    {
     "data": {
      "image/png": "[encoded data removed]",
      "image/svg+xml": "<?xml version=\"1.0\" encoding=\"utf-8\" standalone=\"no\"?>\r\n<!DOCTYPE svg PUBLIC \"-//W3C//DTD SVG 1.1//EN\"\r\n  \"http://www.w3.org/Graphics/SVG/1.1/DTD/svg11.dtd\">\r\n<svg height=\"259.715937pt\" version=\"1.1\" viewBox=\"0 0 377.304688 259.715937\" width=\"377.304688pt\" xmlns=\"http://www.w3.org/2000/svg\" xmlns:xlink=\"http://www.w3.org/1999/xlink\">\r\n <metadata>\r\n  <rdf:RDF xmlns:cc=\"http://creativecommons.org/ns#\" xmlns:dc=\"http://purl.org/dc/elements/1.1/\" xmlns:rdf=\"http://www.w3.org/1999/02/22-rdf-syntax-ns#\">\r\n   <cc:Work>\r\n    <dc:type rdf:resource=\"http://purl.org/dc/dcmitype/StillImage\"/>\r\n    <dc:date>2022-03-20T16:35:53.960908</dc:date>\r\n    <dc:format>image/svg+xml</dc:format>\r\n    <dc:creator>\r\n     <cc:Agent>\r\n      <dc:title>Matplotlib v3.4.3, https://matplotlib.org/</dc:title>\r\n     </cc:Agent>\r\n    </dc:creator>\r\n   </cc:Work>\r\n  </rdf:RDF>\r\n </metadata>\r\n <defs>\r\n  <style type=\"text/css\">*{stroke-linecap:butt;stroke-linejoin:round;}</style>\r\n </defs>\r\n <g id=\"figure_1\">\r\n  <g id=\"patch_1\">\r\n   <path d=\"M 0 259.715937 \r\nL 377.304688 259.715937 \r\nL 377.304688 0 \r\nL 0 0 \r\nz\r\n\" style=\"fill:none;\"/>\r\n  </g>\r\n  <g id=\"axes_1\">\r\n   <g id=\"patch_2\">\r\n    <path d=\"M 35.304688 224.64 \r\nL 370.104688 224.64 \r\nL 370.104688 7.2 \r\nL 35.304688 7.2 \r\nz\r\n\" style=\"fill:#ffffff;\"/>\r\n   </g>\r\n   <g id=\"matplotlib.axis_1\">\r\n    <g id=\"xtick_1\">\r\n     <g id=\"line2d_1\">\r\n      <defs>\r\n       <path d=\"M 0 0 \r\nL 0 3.5 \r\n\" id=\"m1da4be78ec\" style=\"stroke:#000000;stroke-width:0.8;\"/>\r\n      </defs>\r\n      <g>\r\n       <use style=\"stroke:#000000;stroke-width:0.8;\" x=\"35.304688\" xlink:href=\"#m1da4be78ec\" y=\"224.64\"/>\r\n      </g>\r\n     </g>\r\n     <g id=\"text_1\">\r\n      <!-- Jan -->\r\n      <g transform=\"translate(27.596875 239.238438)scale(0.1 -0.1)\">\r\n       <defs>\r\n        <path d=\"M 628 4666 \r\nL 1259 4666 \r\nL 1259 325 \r\nQ 1259 -519 939 -900 \r\nQ 619 -1281 -91 -1281 \r\nL -331 -1281 \r\nL -331 -750 \r\nL -134 -750 \r\nQ 284 -750 456 -515 \r\nQ 628 -281 628 325 \r\nL 628 4666 \r\nz\r\n\" id=\"DejaVuSans-4a\" transform=\"scale(0.015625)\"/>\r\n        <path d=\"M 2194 1759 \r\nQ 1497 1759 1228 1600 \r\nQ 959 1441 959 1056 \r\nQ 959 750 1161 570 \r\nQ 1363 391 1709 391 \r\nQ 2188 391 2477 730 \r\nQ 2766 1069 2766 1631 \r\nL 2766 1759 \r\nL 2194 1759 \r\nz\r\nM 3341 1997 \r\nL 3341 0 \r\nL 2766 0 \r\nL 2766 531 \r\nQ 2569 213 2275 61 \r\nQ 1981 -91 1556 -91 \r\nQ 1019 -91 701 211 \r\nQ 384 513 384 1019 \r\nQ 384 1609 779 1909 \r\nQ 1175 2209 1959 2209 \r\nL 2766 2209 \r\nL 2766 2266 \r\nQ 2766 2663 2505 2880 \r\nQ 2244 3097 1772 3097 \r\nQ 1472 3097 1187 3025 \r\nQ 903 2953 641 2809 \r\nL 641 3341 \r\nQ 956 3463 1253 3523 \r\nQ 1550 3584 1831 3584 \r\nQ 2591 3584 2966 3190 \r\nQ 3341 2797 3341 1997 \r\nz\r\n\" id=\"DejaVuSans-61\" transform=\"scale(0.015625)\"/>\r\n        <path d=\"M 3513 2113 \r\nL 3513 0 \r\nL 2938 0 \r\nL 2938 2094 \r\nQ 2938 2591 2744 2837 \r\nQ 2550 3084 2163 3084 \r\nQ 1697 3084 1428 2787 \r\nQ 1159 2491 1159 1978 \r\nL 1159 0 \r\nL 581 0 \r\nL 581 3500 \r\nL 1159 3500 \r\nL 1159 2956 \r\nQ 1366 3272 1645 3428 \r\nQ 1925 3584 2291 3584 \r\nQ 2894 3584 3203 3211 \r\nQ 3513 2838 3513 2113 \r\nz\r\n\" id=\"DejaVuSans-6e\" transform=\"scale(0.015625)\"/>\r\n       </defs>\r\n       <use xlink:href=\"#DejaVuSans-4a\"/>\r\n       <use x=\"29.492188\" xlink:href=\"#DejaVuSans-61\"/>\r\n       <use x=\"90.771484\" xlink:href=\"#DejaVuSans-6e\"/>\r\n      </g>\r\n      <!-- 2022 -->\r\n      <g transform=\"translate(22.579687 250.43625)scale(0.1 -0.1)\">\r\n       <defs>\r\n        <path d=\"M 1228 531 \r\nL 3431 531 \r\nL 3431 0 \r\nL 469 0 \r\nL 469 531 \r\nQ 828 903 1448 1529 \r\nQ 2069 2156 2228 2338 \r\nQ 2531 2678 2651 2914 \r\nQ 2772 3150 2772 3378 \r\nQ 2772 3750 2511 3984 \r\nQ 2250 4219 1831 4219 \r\nQ 1534 4219 1204 4116 \r\nQ 875 4013 500 3803 \r\nL 500 4441 \r\nQ 881 4594 1212 4672 \r\nQ 1544 4750 1819 4750 \r\nQ 2544 4750 2975 4387 \r\nQ 3406 4025 3406 3419 \r\nQ 3406 3131 3298 2873 \r\nQ 3191 2616 2906 2266 \r\nQ 2828 2175 2409 1742 \r\nQ 1991 1309 1228 531 \r\nz\r\n\" id=\"DejaVuSans-32\" transform=\"scale(0.015625)\"/>\r\n        <path d=\"M 2034 4250 \r\nQ 1547 4250 1301 3770 \r\nQ 1056 3291 1056 2328 \r\nQ 1056 1369 1301 889 \r\nQ 1547 409 2034 409 \r\nQ 2525 409 2770 889 \r\nQ 3016 1369 3016 2328 \r\nQ 3016 3291 2770 3770 \r\nQ 2525 4250 2034 4250 \r\nz\r\nM 2034 4750 \r\nQ 2819 4750 3233 4129 \r\nQ 3647 3509 3647 2328 \r\nQ 3647 1150 3233 529 \r\nQ 2819 -91 2034 -91 \r\nQ 1250 -91 836 529 \r\nQ 422 1150 422 2328 \r\nQ 422 3509 836 4129 \r\nQ 1250 4750 2034 4750 \r\nz\r\n\" id=\"DejaVuSans-30\" transform=\"scale(0.015625)\"/>\r\n       </defs>\r\n       <use xlink:href=\"#DejaVuSans-32\"/>\r\n       <use x=\"63.623047\" xlink:href=\"#DejaVuSans-30\"/>\r\n       <use x=\"127.246094\" xlink:href=\"#DejaVuSans-32\"/>\r\n       <use x=\"190.869141\" xlink:href=\"#DejaVuSans-32\"/>\r\n      </g>\r\n     </g>\r\n    </g>\r\n    <g id=\"xtick_2\">\r\n     <g id=\"line2d_2\">\r\n      <g>\r\n       <use style=\"stroke:#000000;stroke-width:0.8;\" x=\"157.629012\" xlink:href=\"#m1da4be78ec\" y=\"224.64\"/>\r\n      </g>\r\n     </g>\r\n     <g id=\"text_2\">\r\n      <!-- Jan -->\r\n      <g transform=\"translate(149.921199 239.238438)scale(0.1 -0.1)\">\r\n       <use xlink:href=\"#DejaVuSans-4a\"/>\r\n       <use x=\"29.492188\" xlink:href=\"#DejaVuSans-61\"/>\r\n       <use x=\"90.771484\" xlink:href=\"#DejaVuSans-6e\"/>\r\n      </g>\r\n      <!-- 2023 -->\r\n      <g transform=\"translate(144.904012 250.43625)scale(0.1 -0.1)\">\r\n       <defs>\r\n        <path d=\"M 2597 2516 \r\nQ 3050 2419 3304 2112 \r\nQ 3559 1806 3559 1356 \r\nQ 3559 666 3084 287 \r\nQ 2609 -91 1734 -91 \r\nQ 1441 -91 1130 -33 \r\nQ 819 25 488 141 \r\nL 488 750 \r\nQ 750 597 1062 519 \r\nQ 1375 441 1716 441 \r\nQ 2309 441 2620 675 \r\nQ 2931 909 2931 1356 \r\nQ 2931 1769 2642 2001 \r\nQ 2353 2234 1838 2234 \r\nL 1294 2234 \r\nL 1294 2753 \r\nL 1863 2753 \r\nQ 2328 2753 2575 2939 \r\nQ 2822 3125 2822 3475 \r\nQ 2822 3834 2567 4026 \r\nQ 2313 4219 1838 4219 \r\nQ 1578 4219 1281 4162 \r\nQ 984 4106 628 3988 \r\nL 628 4550 \r\nQ 988 4650 1302 4700 \r\nQ 1616 4750 1894 4750 \r\nQ 2613 4750 3031 4423 \r\nQ 3450 4097 3450 3541 \r\nQ 3450 3153 3228 2886 \r\nQ 3006 2619 2597 2516 \r\nz\r\n\" id=\"DejaVuSans-33\" transform=\"scale(0.015625)\"/>\r\n       </defs>\r\n       <use xlink:href=\"#DejaVuSans-32\"/>\r\n       <use x=\"63.623047\" xlink:href=\"#DejaVuSans-30\"/>\r\n       <use x=\"127.246094\" xlink:href=\"#DejaVuSans-32\"/>\r\n       <use x=\"190.869141\" xlink:href=\"#DejaVuSans-33\"/>\r\n      </g>\r\n     </g>\r\n    </g>\r\n    <g id=\"xtick_3\">\r\n     <g id=\"line2d_3\">\r\n      <g>\r\n       <use style=\"stroke:#000000;stroke-width:0.8;\" x=\"279.953336\" xlink:href=\"#m1da4be78ec\" y=\"224.64\"/>\r\n      </g>\r\n     </g>\r\n     <g id=\"text_3\">\r\n      <!-- Jan -->\r\n      <g transform=\"translate(272.245524 239.238438)scale(0.1 -0.1)\">\r\n       <use xlink:href=\"#DejaVuSans-4a\"/>\r\n       <use x=\"29.492188\" xlink:href=\"#DejaVuSans-61\"/>\r\n       <use x=\"90.771484\" xlink:href=\"#DejaVuSans-6e\"/>\r\n      </g>\r\n      <!-- 2024 -->\r\n      <g transform=\"translate(267.228336 250.43625)scale(0.1 -0.1)\">\r\n       <defs>\r\n        <path d=\"M 2419 4116 \r\nL 825 1625 \r\nL 2419 1625 \r\nL 2419 4116 \r\nz\r\nM 2253 4666 \r\nL 3047 4666 \r\nL 3047 1625 \r\nL 3713 1625 \r\nL 3713 1100 \r\nL 3047 1100 \r\nL 3047 0 \r\nL 2419 0 \r\nL 2419 1100 \r\nL 313 1100 \r\nL 313 1709 \r\nL 2253 4666 \r\nz\r\n\" id=\"DejaVuSans-34\" transform=\"scale(0.015625)\"/>\r\n       </defs>\r\n       <use xlink:href=\"#DejaVuSans-32\"/>\r\n       <use x=\"63.623047\" xlink:href=\"#DejaVuSans-30\"/>\r\n       <use x=\"127.246094\" xlink:href=\"#DejaVuSans-32\"/>\r\n       <use x=\"190.869141\" xlink:href=\"#DejaVuSans-34\"/>\r\n      </g>\r\n     </g>\r\n    </g>\r\n    <g id=\"xtick_4\">\r\n     <g id=\"line2d_4\">\r\n      <g>\r\n       <use style=\"stroke:#000000;stroke-width:0.8;\" x=\"370.104688\" xlink:href=\"#m1da4be78ec\" y=\"224.64\"/>\r\n      </g>\r\n     </g>\r\n    </g>\r\n    <g id=\"xtick_5\">\r\n     <g id=\"line2d_5\">\r\n      <defs>\r\n       <path d=\"M 0 0 \r\nL 0 2 \r\n\" id=\"medfca2e2b7\" style=\"stroke:#000000;stroke-width:0.6;\"/>\r\n      </defs>\r\n      <g>\r\n       <use style=\"stroke:#000000;stroke-width:0.6;\" x=\"45.693877\" xlink:href=\"#medfca2e2b7\" y=\"224.64\"/>\r\n      </g>\r\n     </g>\r\n    </g>\r\n    <g id=\"xtick_6\">\r\n     <g id=\"line2d_6\">\r\n      <g>\r\n       <use style=\"stroke:#000000;stroke-width:0.6;\" x=\"55.07766\" xlink:href=\"#medfca2e2b7\" y=\"224.64\"/>\r\n      </g>\r\n     </g>\r\n    </g>\r\n    <g id=\"xtick_7\">\r\n     <g id=\"line2d_7\">\r\n      <g>\r\n       <use style=\"stroke:#000000;stroke-width:0.6;\" x=\"65.46685\" xlink:href=\"#medfca2e2b7\" y=\"224.64\"/>\r\n      </g>\r\n     </g>\r\n    </g>\r\n    <g id=\"xtick_8\">\r\n     <g id=\"line2d_8\">\r\n      <g>\r\n       <use style=\"stroke:#000000;stroke-width:0.6;\" x=\"75.520904\" xlink:href=\"#medfca2e2b7\" y=\"224.64\"/>\r\n      </g>\r\n     </g>\r\n    </g>\r\n    <g id=\"xtick_9\">\r\n     <g id=\"line2d_9\">\r\n      <g>\r\n       <use style=\"stroke:#000000;stroke-width:0.6;\" x=\"85.910093\" xlink:href=\"#medfca2e2b7\" y=\"224.64\"/>\r\n      </g>\r\n     </g>\r\n    </g>\r\n    <g id=\"xtick_10\">\r\n     <g id=\"line2d_10\">\r\n      <g>\r\n       <use style=\"stroke:#000000;stroke-width:0.6;\" x=\"95.964147\" xlink:href=\"#medfca2e2b7\" y=\"224.64\"/>\r\n      </g>\r\n     </g>\r\n     <g id=\"text_4\">\r\n      <!-- Jul -->\r\n      <g transform=\"translate(89.931334 237.638438)scale(0.1 -0.1)\">\r\n       <defs>\r\n        <path d=\"M 544 1381 \r\nL 544 3500 \r\nL 1119 3500 \r\nL 1119 1403 \r\nQ 1119 906 1312 657 \r\nQ 1506 409 1894 409 \r\nQ 2359 409 2629 706 \r\nQ 2900 1003 2900 1516 \r\nL 2900 3500 \r\nL 3475 3500 \r\nL 3475 0 \r\nL 2900 0 \r\nL 2900 538 \r\nQ 2691 219 2414 64 \r\nQ 2138 -91 1772 -91 \r\nQ 1169 -91 856 284 \r\nQ 544 659 544 1381 \r\nz\r\nM 1991 3584 \r\nL 1991 3584 \r\nz\r\n\" id=\"DejaVuSans-75\" transform=\"scale(0.015625)\"/>\r\n        <path d=\"M 603 4863 \r\nL 1178 4863 \r\nL 1178 0 \r\nL 603 0 \r\nL 603 4863 \r\nz\r\n\" id=\"DejaVuSans-6c\" transform=\"scale(0.015625)\"/>\r\n       </defs>\r\n       <use xlink:href=\"#DejaVuSans-4a\"/>\r\n       <use x=\"29.492188\" xlink:href=\"#DejaVuSans-75\"/>\r\n       <use x=\"92.871094\" xlink:href=\"#DejaVuSans-6c\"/>\r\n      </g>\r\n     </g>\r\n    </g>\r\n    <g id=\"xtick_11\">\r\n     <g id=\"line2d_11\">\r\n      <g>\r\n       <use style=\"stroke:#000000;stroke-width:0.6;\" x=\"106.353336\" xlink:href=\"#medfca2e2b7\" y=\"224.64\"/>\r\n      </g>\r\n     </g>\r\n    </g>\r\n    <g id=\"xtick_12\">\r\n     <g id=\"line2d_12\">\r\n      <g>\r\n       <use style=\"stroke:#000000;stroke-width:0.6;\" x=\"116.742525\" xlink:href=\"#medfca2e2b7\" y=\"224.64\"/>\r\n      </g>\r\n     </g>\r\n    </g>\r\n    <g id=\"xtick_13\">\r\n     <g id=\"line2d_13\">\r\n      <g>\r\n       <use style=\"stroke:#000000;stroke-width:0.6;\" x=\"126.796579\" xlink:href=\"#medfca2e2b7\" y=\"224.64\"/>\r\n      </g>\r\n     </g>\r\n    </g>\r\n    <g id=\"xtick_14\">\r\n     <g id=\"line2d_14\">\r\n      <g>\r\n       <use style=\"stroke:#000000;stroke-width:0.6;\" x=\"137.185769\" xlink:href=\"#medfca2e2b7\" y=\"224.64\"/>\r\n      </g>\r\n     </g>\r\n    </g>\r\n    <g id=\"xtick_15\">\r\n     <g id=\"line2d_15\">\r\n      <g>\r\n       <use style=\"stroke:#000000;stroke-width:0.6;\" x=\"147.239823\" xlink:href=\"#medfca2e2b7\" y=\"224.64\"/>\r\n      </g>\r\n     </g>\r\n    </g>\r\n    <g id=\"xtick_16\">\r\n     <g id=\"line2d_16\">\r\n      <g>\r\n       <use style=\"stroke:#000000;stroke-width:0.6;\" x=\"168.018201\" xlink:href=\"#medfca2e2b7\" y=\"224.64\"/>\r\n      </g>\r\n     </g>\r\n    </g>\r\n    <g id=\"xtick_17\">\r\n     <g id=\"line2d_17\">\r\n      <g>\r\n       <use style=\"stroke:#000000;stroke-width:0.6;\" x=\"177.401985\" xlink:href=\"#medfca2e2b7\" y=\"224.64\"/>\r\n      </g>\r\n     </g>\r\n    </g>\r\n    <g id=\"xtick_18\">\r\n     <g id=\"line2d_18\">\r\n      <g>\r\n       <use style=\"stroke:#000000;stroke-width:0.6;\" x=\"187.791174\" xlink:href=\"#medfca2e2b7\" y=\"224.64\"/>\r\n      </g>\r\n     </g>\r\n    </g>\r\n    <g id=\"xtick_19\">\r\n     <g id=\"line2d_19\">\r\n      <g>\r\n       <use style=\"stroke:#000000;stroke-width:0.6;\" x=\"197.845228\" xlink:href=\"#medfca2e2b7\" y=\"224.64\"/>\r\n      </g>\r\n     </g>\r\n    </g>\r\n    <g id=\"xtick_20\">\r\n     <g id=\"line2d_20\">\r\n      <g>\r\n       <use style=\"stroke:#000000;stroke-width:0.6;\" x=\"208.234417\" xlink:href=\"#medfca2e2b7\" y=\"224.64\"/>\r\n      </g>\r\n     </g>\r\n    </g>\r\n    <g id=\"xtick_21\">\r\n     <g id=\"line2d_21\">\r\n      <g>\r\n       <use style=\"stroke:#000000;stroke-width:0.6;\" x=\"218.288471\" xlink:href=\"#medfca2e2b7\" y=\"224.64\"/>\r\n      </g>\r\n     </g>\r\n     <g id=\"text_5\">\r\n      <!-- Jul -->\r\n      <g transform=\"translate(212.255659 237.638438)scale(0.1 -0.1)\">\r\n       <use xlink:href=\"#DejaVuSans-4a\"/>\r\n       <use x=\"29.492188\" xlink:href=\"#DejaVuSans-75\"/>\r\n       <use x=\"92.871094\" xlink:href=\"#DejaVuSans-6c\"/>\r\n      </g>\r\n     </g>\r\n    </g>\r\n    <g id=\"xtick_22\">\r\n     <g id=\"line2d_22\">\r\n      <g>\r\n       <use style=\"stroke:#000000;stroke-width:0.6;\" x=\"228.67766\" xlink:href=\"#medfca2e2b7\" y=\"224.64\"/>\r\n      </g>\r\n     </g>\r\n    </g>\r\n    <g id=\"xtick_23\">\r\n     <g id=\"line2d_23\">\r\n      <g>\r\n       <use style=\"stroke:#000000;stroke-width:0.6;\" x=\"239.06685\" xlink:href=\"#medfca2e2b7\" y=\"224.64\"/>\r\n      </g>\r\n     </g>\r\n    </g>\r\n    <g id=\"xtick_24\">\r\n     <g id=\"line2d_24\">\r\n      <g>\r\n       <use style=\"stroke:#000000;stroke-width:0.6;\" x=\"249.120904\" xlink:href=\"#medfca2e2b7\" y=\"224.64\"/>\r\n      </g>\r\n     </g>\r\n    </g>\r\n    <g id=\"xtick_25\">\r\n     <g id=\"line2d_25\">\r\n      <g>\r\n       <use style=\"stroke:#000000;stroke-width:0.6;\" x=\"259.510093\" xlink:href=\"#medfca2e2b7\" y=\"224.64\"/>\r\n      </g>\r\n     </g>\r\n    </g>\r\n    <g id=\"xtick_26\">\r\n     <g id=\"line2d_26\">\r\n      <g>\r\n       <use style=\"stroke:#000000;stroke-width:0.6;\" x=\"269.564147\" xlink:href=\"#medfca2e2b7\" y=\"224.64\"/>\r\n      </g>\r\n     </g>\r\n    </g>\r\n    <g id=\"xtick_27\">\r\n     <g id=\"line2d_27\">\r\n      <g>\r\n       <use style=\"stroke:#000000;stroke-width:0.6;\" x=\"290.342525\" xlink:href=\"#medfca2e2b7\" y=\"224.64\"/>\r\n      </g>\r\n     </g>\r\n    </g>\r\n    <g id=\"xtick_28\">\r\n     <g id=\"line2d_28\">\r\n      <g>\r\n       <use style=\"stroke:#000000;stroke-width:0.6;\" x=\"300.061444\" xlink:href=\"#medfca2e2b7\" y=\"224.64\"/>\r\n      </g>\r\n     </g>\r\n    </g>\r\n    <g id=\"xtick_29\">\r\n     <g id=\"line2d_29\">\r\n      <g>\r\n       <use style=\"stroke:#000000;stroke-width:0.6;\" x=\"310.450633\" xlink:href=\"#medfca2e2b7\" y=\"224.64\"/>\r\n      </g>\r\n     </g>\r\n    </g>\r\n    <g id=\"xtick_30\">\r\n     <g id=\"line2d_30\">\r\n      <g>\r\n       <use style=\"stroke:#000000;stroke-width:0.6;\" x=\"320.504687\" xlink:href=\"#medfca2e2b7\" y=\"224.64\"/>\r\n      </g>\r\n     </g>\r\n    </g>\r\n    <g id=\"xtick_31\">\r\n     <g id=\"line2d_31\">\r\n      <g>\r\n       <use style=\"stroke:#000000;stroke-width:0.6;\" x=\"330.893877\" xlink:href=\"#medfca2e2b7\" y=\"224.64\"/>\r\n      </g>\r\n     </g>\r\n    </g>\r\n    <g id=\"xtick_32\">\r\n     <g id=\"line2d_32\">\r\n      <g>\r\n       <use style=\"stroke:#000000;stroke-width:0.6;\" x=\"340.947931\" xlink:href=\"#medfca2e2b7\" y=\"224.64\"/>\r\n      </g>\r\n     </g>\r\n     <g id=\"text_6\">\r\n      <!-- Jul -->\r\n      <g transform=\"translate(334.915118 237.638438)scale(0.1 -0.1)\">\r\n       <use xlink:href=\"#DejaVuSans-4a\"/>\r\n       <use x=\"29.492188\" xlink:href=\"#DejaVuSans-75\"/>\r\n       <use x=\"92.871094\" xlink:href=\"#DejaVuSans-6c\"/>\r\n      </g>\r\n     </g>\r\n    </g>\r\n    <g id=\"xtick_33\">\r\n     <g id=\"line2d_33\">\r\n      <g>\r\n       <use style=\"stroke:#000000;stroke-width:0.6;\" x=\"351.33712\" xlink:href=\"#medfca2e2b7\" y=\"224.64\"/>\r\n      </g>\r\n     </g>\r\n    </g>\r\n    <g id=\"xtick_34\">\r\n     <g id=\"line2d_34\">\r\n      <g>\r\n       <use style=\"stroke:#000000;stroke-width:0.6;\" x=\"361.726309\" xlink:href=\"#medfca2e2b7\" y=\"224.64\"/>\r\n      </g>\r\n     </g>\r\n    </g>\r\n   </g>\r\n   <g id=\"matplotlib.axis_2\">\r\n    <g id=\"ytick_1\">\r\n     <g id=\"line2d_35\">\r\n      <defs>\r\n       <path d=\"M 0 0 \r\nL -3.5 0 \r\n\" id=\"m8c95c17f24\" style=\"stroke:#000000;stroke-width:0.8;\"/>\r\n      </defs>\r\n      <g>\r\n       <use style=\"stroke:#000000;stroke-width:0.8;\" x=\"35.304688\" xlink:href=\"#m8c95c17f24\" y=\"224.011359\"/>\r\n      </g>\r\n     </g>\r\n     <g id=\"text_7\">\r\n      <!-- −40 -->\r\n      <g transform=\"translate(7.2 227.810578)scale(0.1 -0.1)\">\r\n       <defs>\r\n        <path d=\"M 678 2272 \r\nL 4684 2272 \r\nL 4684 1741 \r\nL 678 1741 \r\nL 678 2272 \r\nz\r\n\" id=\"DejaVuSans-2212\" transform=\"scale(0.015625)\"/>\r\n       </defs>\r\n       <use xlink:href=\"#DejaVuSans-2212\"/>\r\n       <use x=\"83.789062\" xlink:href=\"#DejaVuSans-34\"/>\r\n       <use x=\"147.412109\" xlink:href=\"#DejaVuSans-30\"/>\r\n      </g>\r\n     </g>\r\n    </g>\r\n    <g id=\"ytick_2\">\r\n     <g id=\"line2d_36\">\r\n      <g>\r\n       <use style=\"stroke:#000000;stroke-width:0.8;\" x=\"35.304688\" xlink:href=\"#m8c95c17f24\" y=\"195.253363\"/>\r\n      </g>\r\n     </g>\r\n     <g id=\"text_8\">\r\n      <!-- −30 -->\r\n      <g transform=\"translate(7.2 199.052581)scale(0.1 -0.1)\">\r\n       <use xlink:href=\"#DejaVuSans-2212\"/>\r\n       <use x=\"83.789062\" xlink:href=\"#DejaVuSans-33\"/>\r\n       <use x=\"147.412109\" xlink:href=\"#DejaVuSans-30\"/>\r\n      </g>\r\n     </g>\r\n    </g>\r\n    <g id=\"ytick_3\">\r\n     <g id=\"line2d_37\">\r\n      <g>\r\n       <use style=\"stroke:#000000;stroke-width:0.8;\" x=\"35.304688\" xlink:href=\"#m8c95c17f24\" y=\"166.495366\"/>\r\n      </g>\r\n     </g>\r\n     <g id=\"text_9\">\r\n      <!-- −20 -->\r\n      <g transform=\"translate(7.2 170.294585)scale(0.1 -0.1)\">\r\n       <use xlink:href=\"#DejaVuSans-2212\"/>\r\n       <use x=\"83.789062\" xlink:href=\"#DejaVuSans-32\"/>\r\n       <use x=\"147.412109\" xlink:href=\"#DejaVuSans-30\"/>\r\n      </g>\r\n     </g>\r\n    </g>\r\n    <g id=\"ytick_4\">\r\n     <g id=\"line2d_38\">\r\n      <g>\r\n       <use style=\"stroke:#000000;stroke-width:0.8;\" x=\"35.304688\" xlink:href=\"#m8c95c17f24\" y=\"137.737369\"/>\r\n      </g>\r\n     </g>\r\n     <g id=\"text_10\">\r\n      <!-- −10 -->\r\n      <g transform=\"translate(7.2 141.536588)scale(0.1 -0.1)\">\r\n       <defs>\r\n        <path d=\"M 794 531 \r\nL 1825 531 \r\nL 1825 4091 \r\nL 703 3866 \r\nL 703 4441 \r\nL 1819 4666 \r\nL 2450 4666 \r\nL 2450 531 \r\nL 3481 531 \r\nL 3481 0 \r\nL 794 0 \r\nL 794 531 \r\nz\r\n\" id=\"DejaVuSans-31\" transform=\"scale(0.015625)\"/>\r\n       </defs>\r\n       <use xlink:href=\"#DejaVuSans-2212\"/>\r\n       <use x=\"83.789062\" xlink:href=\"#DejaVuSans-31\"/>\r\n       <use x=\"147.412109\" xlink:href=\"#DejaVuSans-30\"/>\r\n      </g>\r\n     </g>\r\n    </g>\r\n    <g id=\"ytick_5\">\r\n     <g id=\"line2d_39\">\r\n      <g>\r\n       <use style=\"stroke:#000000;stroke-width:0.8;\" x=\"35.304688\" xlink:href=\"#m8c95c17f24\" y=\"108.979373\"/>\r\n      </g>\r\n     </g>\r\n     <g id=\"text_11\">\r\n      <!-- 0 -->\r\n      <g transform=\"translate(21.942188 112.778591)scale(0.1 -0.1)\">\r\n       <use xlink:href=\"#DejaVuSans-30\"/>\r\n      </g>\r\n     </g>\r\n    </g>\r\n    <g id=\"ytick_6\">\r\n     <g id=\"line2d_40\">\r\n      <g>\r\n       <use style=\"stroke:#000000;stroke-width:0.8;\" x=\"35.304688\" xlink:href=\"#m8c95c17f24\" y=\"80.221376\"/>\r\n      </g>\r\n     </g>\r\n     <g id=\"text_12\">\r\n      <!-- 10 -->\r\n      <g transform=\"translate(15.579688 84.020595)scale(0.1 -0.1)\">\r\n       <use xlink:href=\"#DejaVuSans-31\"/>\r\n       <use x=\"63.623047\" xlink:href=\"#DejaVuSans-30\"/>\r\n      </g>\r\n     </g>\r\n    </g>\r\n    <g id=\"ytick_7\">\r\n     <g id=\"line2d_41\">\r\n      <g>\r\n       <use style=\"stroke:#000000;stroke-width:0.8;\" x=\"35.304688\" xlink:href=\"#m8c95c17f24\" y=\"51.463379\"/>\r\n      </g>\r\n     </g>\r\n     <g id=\"text_13\">\r\n      <!-- 20 -->\r\n      <g transform=\"translate(15.579688 55.262598)scale(0.1 -0.1)\">\r\n       <use xlink:href=\"#DejaVuSans-32\"/>\r\n       <use x=\"63.623047\" xlink:href=\"#DejaVuSans-30\"/>\r\n      </g>\r\n     </g>\r\n    </g>\r\n    <g id=\"ytick_8\">\r\n     <g id=\"line2d_42\">\r\n      <g>\r\n       <use style=\"stroke:#000000;stroke-width:0.8;\" x=\"35.304688\" xlink:href=\"#m8c95c17f24\" y=\"22.705383\"/>\r\n      </g>\r\n     </g>\r\n     <g id=\"text_14\">\r\n      <!-- 30 -->\r\n      <g transform=\"translate(15.579688 26.504601)scale(0.1 -0.1)\">\r\n       <use xlink:href=\"#DejaVuSans-33\"/>\r\n       <use x=\"63.623047\" xlink:href=\"#DejaVuSans-30\"/>\r\n      </g>\r\n     </g>\r\n    </g>\r\n   </g>\r\n   <g id=\"line2d_43\">\r\n    <path clip-path=\"url(#p5e84b2f083)\" d=\"M 35.304688 110.399444 \r\nL 35.639823 109.513596 \r\nL 35.974958 108.074247 \r\nL 36.310093 110.735385 \r\nL 36.645228 110.712018 \r\nL 36.980363 104.425532 \r\nL 37.315498 103.532925 \r\nL 37.650633 100.114848 \r\nL 37.985769 103.650137 \r\nL 38.320904 103.744862 \r\nL 38.656039 104.674726 \r\nL 39.326309 115.746598 \r\nL 39.661444 117.780545 \r\nL 39.996579 121.294991 \r\nL 40.331715 121.01661 \r\nL 40.66685 120.405179 \r\nL 41.001985 120.034688 \r\nL 41.33712 120.22447 \r\nL 41.672255 122.15289 \r\nL 42.00739 117.827515 \r\nL 42.342525 116.048704 \r\nL 42.67766 115.041093 \r\nL 43.012796 116.552621 \r\nL 43.683066 114.053185 \r\nL 44.018201 113.793405 \r\nL 44.353336 116.600384 \r\nL 44.688471 114.40028 \r\nL 45.023606 108.986298 \r\nL 45.358742 108.312349 \r\nL 45.693877 106.050793 \r\nL 46.364147 104.656479 \r\nL 46.699282 102.041085 \r\nL 47.034417 101.373666 \r\nL 47.704687 96.998235 \r\nL 48.374958 90.044212 \r\nL 48.710093 90.151312 \r\nL 49.045228 92.649473 \r\nL 49.380363 85.429709 \r\nL 50.050633 83.867161 \r\nL 50.385769 79.97846 \r\nL 50.720904 78.907805 \r\nL 51.056039 79.269264 \r\nL 51.726309 74.422878 \r\nL 52.061444 72.908771 \r\nL 52.396579 67.901378 \r\nL 52.731715 66.021701 \r\nL 53.06685 67.243611 \r\nL 53.401985 67.235704 \r\nL 53.73712 68.543105 \r\nL 54.072255 68.840724 \r\nL 54.40739 74.949721 \r\nL 54.742525 75.121513 \r\nL 55.412796 76.992944 \r\nL 55.747931 81.126523 \r\nL 56.418201 82.202202 \r\nL 56.753336 81.091913 \r\nL 57.088471 74.994756 \r\nL 57.423606 78.499381 \r\nL 57.758742 88.627266 \r\nL 58.093877 88.720913 \r\nL 58.429012 91.710624 \r\nL 58.764147 91.256738 \r\nL 59.434417 92.53476 \r\nL 60.104688 84.922408 \r\nL 60.439823 84.980414 \r\nL 60.774958 85.419519 \r\nL 61.110093 86.984148 \r\nL 61.445228 93.857811 \r\nL 61.780363 91.609972 \r\nL 62.115498 85.388357 \r\nL 62.450633 85.594352 \r\nL 62.785769 86.286094 \r\nL 63.120904 84.074947 \r\nL 63.456039 88.310853 \r\nL 63.791174 83.913952 \r\nL 64.126309 87.035625 \r\nL 64.461444 87.159384 \r\nL 64.796579 84.598874 \r\nL 65.131715 83.285682 \r\nL 65.46685 87.761494 \r\nL 66.13712 80.58905 \r\nL 66.472255 81.097178 \r\nL 66.80739 79.922086 \r\nL 67.142525 83.896846 \r\nL 67.47766 82.308915 \r\nL 67.812796 85.606721 \r\nL 68.147931 86.576592 \r\nL 68.483066 86.364623 \r\nL 68.818201 90.483447 \r\nL 69.153336 88.549091 \r\nL 69.488471 90.867295 \r\nL 69.823606 94.71804 \r\nL 70.158742 93.349398 \r\nL 70.493877 90.431197 \r\nL 70.829012 91.836483 \r\nL 71.164147 90.452714 \r\nL 71.499282 87.983576 \r\nL 71.834417 87.165178 \r\nL 72.169552 89.8609 \r\nL 72.504687 86.306486 \r\nL 72.839823 86.923994 \r\nL 73.174958 91.753132 \r\nL 73.510093 92.187822 \r\nL 73.845228 91.593789 \r\nL 74.180363 92.179701 \r\nL 74.515498 91.668513 \r\nL 74.850633 85.810122 \r\nL 75.185769 87.90596 \r\nL 75.520904 90.742926 \r\nL 76.191174 92.729083 \r\nL 76.526309 87.434359 \r\nL 76.861444 92.37526 \r\nL 77.531715 93.428085 \r\nL 77.86685 95.050919 \r\nL 78.201985 94.625908 \r\nL 78.53712 93.249611 \r\nL 79.20739 87.328358 \r\nL 79.87766 87.700094 \r\nL 80.212796 85.427203 \r\nL 80.547931 84.838972 \r\nL 80.883066 85.481031 \r\nL 81.218201 84.673439 \r\nL 81.553336 79.680125 \r\nL 81.888471 81.986845 \r\nL 82.223606 82.129847 \r\nL 82.558742 85.847412 \r\nL 82.893877 81.064401 \r\nL 83.229012 81.355995 \r\nL 83.564147 84.7112 \r\nL 83.899282 84.830286 \r\nL 84.234417 80.517076 \r\nL 84.569552 79.905136 \r\nL 84.904688 82.85687 \r\nL 85.239823 81.576776 \r\nL 85.910093 82.675337 \r\nL 86.245228 78.710191 \r\nL 86.580363 73.235838 \r\nL 87.250633 77.323522 \r\nL 87.585769 82.675726 \r\nL 87.920904 84.36785 \r\nL 88.256039 89.621699 \r\nL 88.591174 86.621336 \r\nL 88.926309 88.785154 \r\nL 89.261444 88.878321 \r\nL 89.596579 87.368462 \r\nL 89.931715 90.916481 \r\nL 90.26685 83.707163 \r\nL 90.601985 83.753851 \r\nL 90.93712 82.579589 \r\nL 91.272255 82.079398 \r\nL 91.60739 81.029908 \r\nL 91.942525 84.171551 \r\nL 92.27766 83.880515 \r\nL 92.612796 86.957128 \r\nL 93.283066 88.320009 \r\nL 93.618201 88.913893 \r\nL 93.953336 88.288129 \r\nL 94.288471 88.52226 \r\nL 94.623606 85.916855 \r\nL 94.958742 89.311953 \r\nL 95.293877 84.160268 \r\nL 95.629012 83.800598 \r\nL 95.964147 80.189995 \r\nL 96.299282 81.04342 \r\nL 96.634417 80.27108 \r\nL 96.969552 84.292864 \r\nL 97.304688 85.336506 \r\nL 97.639823 85.618904 \r\nL 97.974958 83.544007 \r\nL 98.310093 85.49025 \r\nL 98.645228 82.905327 \r\nL 98.980363 86.736763 \r\nL 99.315498 80.35277 \r\nL 99.650633 79.743353 \r\nL 99.985769 71.915757 \r\nL 100.320904 80.349854 \r\nL 100.656039 83.847946 \r\nL 100.991174 85.689434 \r\nL 101.326309 82.634994 \r\nL 101.661444 83.611589 \r\nL 101.996579 78.925625 \r\nL 102.331715 77.654111 \r\nL 103.001985 65.928251 \r\nL 103.33712 67.311436 \r\nL 103.672255 60.281705 \r\nL 104.00739 64.342319 \r\nL 104.342525 65.179419 \r\nL 104.67766 64.743436 \r\nL 105.012796 59.241765 \r\nL 105.347931 59.195889 \r\nL 105.683066 65.364265 \r\nL 106.018201 65.738206 \r\nL 106.353336 66.867756 \r\nL 106.688471 67.535214 \r\nL 107.023606 65.045868 \r\nL 107.693877 69.459644 \r\nL 108.364147 76.143955 \r\nL 108.699282 75.544548 \r\nL 109.034417 74.076782 \r\nL 109.369552 75.956509 \r\nL 109.704687 71.144444 \r\nL 110.039823 68.149717 \r\nL 110.374958 66.615235 \r\nL 110.710093 67.856594 \r\nL 111.045228 67.832696 \r\nL 111.380363 70.758576 \r\nL 111.715498 69.650832 \r\nL 112.050633 69.955006 \r\nL 112.385769 67.743437 \r\nL 112.720904 69.97839 \r\nL 113.056039 74.420391 \r\nL 113.391174 77.378669 \r\nL 113.726309 75.610996 \r\nL 114.061444 74.918066 \r\nL 114.731715 72.80572 \r\nL 115.06685 68.0968 \r\nL 115.401985 70.171037 \r\nL 115.73712 66.243442 \r\nL 116.072255 69.543708 \r\nL 116.742525 72.210804 \r\nL 117.07766 77.012584 \r\nL 117.412796 74.700654 \r\nL 117.747931 80.251484 \r\nL 118.083066 79.390227 \r\nL 118.418201 81.192258 \r\nL 118.753336 82.041172 \r\nL 119.088471 80.773947 \r\nL 119.423606 84.166575 \r\nL 119.758742 76.799821 \r\nL 120.093877 81.946983 \r\nL 120.429012 81.000329 \r\nL 120.764147 81.667298 \r\nL 121.099282 78.91958 \r\nL 121.434417 78.576274 \r\nL 121.769552 73.201502 \r\nL 122.774958 79.44466 \r\nL 123.110093 80.464392 \r\nL 123.780363 70.809247 \r\nL 124.450633 72.617071 \r\nL 124.785769 71.494872 \r\nL 125.120904 68.000672 \r\nL 125.456039 67.233503 \r\nL 125.791174 65.536563 \r\nL 126.126309 61.043437 \r\nL 126.796579 61.561686 \r\nL 127.46685 59.545057 \r\nL 127.801985 59.095083 \r\nL 128.13712 53.503548 \r\nL 128.472255 51.867034 \r\nL 129.142525 54.155747 \r\nL 129.47766 53.744589 \r\nL 130.147931 59.381225 \r\nL 130.483066 58.616929 \r\nL 130.818201 57.235559 \r\nL 131.153336 58.607934 \r\nL 131.488471 55.676272 \r\nL 131.823606 64.622179 \r\nL 132.158742 66.168313 \r\nL 132.493877 59.440768 \r\nL 132.829012 56.28024 \r\nL 133.164147 60.929291 \r\nL 133.499282 62.397632 \r\nL 133.834417 65.77301 \r\nL 134.169552 65.164601 \r\nL 134.504687 66.475274 \r\nL 134.839823 63.628573 \r\nL 135.174958 59.217003 \r\nL 135.510093 59.167569 \r\nL 135.845228 59.721761 \r\nL 136.180363 67.321556 \r\nL 136.515498 67.785712 \r\nL 136.850633 67.348385 \r\nL 137.185769 69.868697 \r\nL 137.856039 78.870719 \r\nL 138.191174 79.274708 \r\nL 138.526309 76.385429 \r\nL 138.861444 80.400471 \r\nL 139.196579 80.935793 \r\nL 139.86685 72.106119 \r\nL 140.201985 72.554857 \r\nL 140.872255 67.998659 \r\nL 141.20739 67.687713 \r\nL 141.542525 64.599655 \r\nL 141.87766 70.882959 \r\nL 142.212796 73.339615 \r\nL 142.547931 70.123647 \r\nL 142.883066 64.37385 \r\nL 143.218201 64.601742 \r\nL 143.553336 67.182742 \r\nL 143.888471 68.176967 \r\nL 144.223606 73.738522 \r\nL 144.558742 75.776678 \r\nL 144.893877 72.95276 \r\nL 145.229012 72.428781 \r\nL 145.564147 72.679489 \r\nL 145.899282 78.577467 \r\nL 146.234417 76.824515 \r\nL 146.569552 76.400883 \r\nL 147.239823 80.858208 \r\nL 147.574958 78.88629 \r\nL 147.910093 77.862315 \r\nL 148.580363 71.453192 \r\nL 148.915498 79.687154 \r\nL 149.250633 77.228341 \r\nL 149.585769 78.075209 \r\nL 149.920904 78.369656 \r\nL 150.256039 78.234222 \r\nL 150.591174 75.675777 \r\nL 150.926309 76.075978 \r\nL 151.261444 76.655968 \r\nL 151.596579 79.341945 \r\nL 152.26685 86.979187 \r\nL 152.601985 87.172365 \r\nL 152.93712 86.130954 \r\nL 153.272255 87.847054 \r\nL 153.60739 86.558085 \r\nL 153.942525 88.353591 \r\nL 154.27766 87.633502 \r\nL 154.612796 87.4922 \r\nL 155.283066 83.719008 \r\nL 155.618201 83.118735 \r\nL 156.288471 79.991515 \r\nL 156.623606 79.650731 \r\nL 156.958742 81.143387 \r\nL 157.293877 83.613452 \r\nL 157.629012 92.849525 \r\nL 157.964147 92.936428 \r\nL 158.299282 91.562943 \r\nL 158.634417 91.182678 \r\nL 158.969552 91.54785 \r\nL 159.304688 90.391439 \r\nL 159.639823 88.466036 \r\nL 159.974958 88.072936 \r\nL 160.310093 88.826774 \r\nL 160.645228 85.370767 \r\nL 160.980363 85.878749 \r\nL 161.315498 84.29523 \r\nL 161.650633 88.768062 \r\nL 161.985769 87.606536 \r\nL 162.320904 80.071741 \r\nL 162.656039 76.268862 \r\nL 162.991174 70.090006 \r\nL 163.326309 69.934781 \r\nL 163.661444 74.305141 \r\nL 163.996579 72.742551 \r\nL 164.331715 74.505596 \r\nL 164.66685 75.564589 \r\nL 165.001985 76.17678 \r\nL 165.33712 81.05137 \r\nL 166.00739 85.411549 \r\nL 166.342525 84.274669 \r\nL 166.67766 82.135069 \r\nL 167.012796 78.927321 \r\nL 167.347931 79.063875 \r\nL 167.683066 71.226514 \r\nL 168.018201 77.926072 \r\nL 168.353336 73.348791 \r\nL 168.688471 75.260289 \r\nL 169.023606 75.190681 \r\nL 169.358742 72.40175 \r\nL 169.693877 78.589881 \r\nL 170.029012 77.959562 \r\nL 170.364147 80.06457 \r\nL 170.699282 75.598509 \r\nL 171.034417 76.672951 \r\nL 171.369552 79.762834 \r\nL 171.704687 81.335523 \r\nL 172.039823 77.159692 \r\nL 172.374958 74.515427 \r\nL 173.045228 77.010821 \r\nL 173.715498 89.187911 \r\nL 174.050633 89.52029 \r\nL 174.385769 86.889568 \r\nL 174.720904 88.172263 \r\nL 175.056039 88.422395 \r\nL 175.391174 86.155977 \r\nL 175.726309 88.952591 \r\nL 176.061444 89.429155 \r\nL 176.396579 88.399832 \r\nL 176.731715 81.448679 \r\nL 177.06685 82.739407 \r\nL 177.401985 85.435551 \r\nL 177.73712 83.722462 \r\nL 178.072255 85.972786 \r\nL 178.40739 84.602352 \r\nL 178.742525 81.442533 \r\nL 179.07766 76.541422 \r\nL 179.412796 75.885573 \r\nL 179.747931 74.856493 \r\nL 180.083066 75.988458 \r\nL 180.418201 78.291469 \r\nL 180.753336 83.861375 \r\nL 181.423606 85.506576 \r\nL 181.758742 93.853462 \r\nL 182.093877 93.504649 \r\nL 182.429012 91.099532 \r\nL 182.764147 90.362894 \r\nL 183.099282 85.756309 \r\nL 183.434417 87.441331 \r\nL 184.439823 94.803763 \r\nL 184.774958 92.749342 \r\nL 185.110093 87.727193 \r\nL 185.445228 90.925893 \r\nL 185.780363 88.460215 \r\nL 186.115498 89.447863 \r\nL 186.450633 90.819657 \r\nL 186.785769 88.366291 \r\nL 187.120904 90.750808 \r\nL 187.456039 90.272423 \r\nL 187.791174 95.72099 \r\nL 188.126309 92.032449 \r\nL 188.461444 92.581936 \r\nL 188.796579 94.009083 \r\nL 189.46685 87.89544 \r\nL 189.801985 86.827657 \r\nL 190.13712 81.888787 \r\nL 190.472255 87.378101 \r\nL 191.47766 97.922745 \r\nL 191.812796 97.961531 \r\nL 192.147931 100.239438 \r\nL 192.483066 96.137144 \r\nL 192.818201 97.138268 \r\nL 193.153336 99.148821 \r\nL 193.488471 102.350984 \r\nL 193.823606 103.798865 \r\nL 194.158742 102.421867 \r\nL 194.493877 93.900639 \r\nL 194.829012 88.926531 \r\nL 195.834417 84.222359 \r\nL 196.169552 86.525112 \r\nL 196.504687 84.937369 \r\nL 196.839823 84.147695 \r\nL 197.174958 84.316356 \r\nL 197.510093 78.814531 \r\nL 197.845228 79.151444 \r\nL 198.180363 77.70224 \r\nL 198.850633 68.466123 \r\nL 199.185769 74.422411 \r\nL 199.520904 73.084487 \r\nL 199.856039 65.429815 \r\nL 200.191174 65.062685 \r\nL 200.526309 58.395985 \r\nL 200.861444 58.677073 \r\nL 201.196579 58.156012 \r\nL 201.86685 54.111435 \r\nL 202.201985 53.900212 \r\nL 202.53712 58.47043 \r\nL 202.872255 60.383375 \r\nL 203.20739 61.427105 \r\nL 203.542525 60.417608 \r\nL 203.87766 61.350576 \r\nL 204.212796 59.932572 \r\nL 204.547931 60.229745 \r\nL 204.883066 62.434333 \r\nL 205.218201 59.693539 \r\nL 205.553336 58.327743 \r\nL 205.888471 63.405768 \r\nL 206.223606 65.240843 \r\nL 206.558742 67.955798 \r\nL 206.893877 73.660238 \r\nL 207.229012 76.592565 \r\nL 207.564147 76.90355 \r\nL 207.899282 79.155344 \r\nL 208.234417 82.757087 \r\nL 208.569552 89.035512 \r\nL 209.239823 92.929946 \r\nL 209.574958 88.549997 \r\nL 209.910093 87.316498 \r\nL 210.245228 85.351442 \r\nL 210.915498 90.301345 \r\nL 211.250633 98.319201 \r\nL 211.585769 96.380951 \r\nL 212.256039 98.597766 \r\nL 212.926309 98.382444 \r\nL 213.261444 96.787944 \r\nL 213.596579 93.759656 \r\nL 213.931715 93.592884 \r\nL 214.26685 92.729664 \r\nL 214.601985 93.607804 \r\nL 214.93712 90.072563 \r\nL 215.272255 90.98674 \r\nL 215.60739 91.245511 \r\nL 215.942525 94.245471 \r\nL 216.27766 90.630112 \r\nL 216.612796 88.65293 \r\nL 216.947931 91.108561 \r\nL 217.283066 89.82813 \r\nL 217.618201 96.964953 \r\nL 217.953336 98.489386 \r\nL 218.288471 99.387358 \r\nL 218.623606 99.007348 \r\nL 218.958742 99.936811 \r\nL 219.293877 104.201941 \r\nL 219.964147 94.783037 \r\nL 220.299282 95.028505 \r\nL 220.634417 96.455959 \r\nL 220.969552 99.099077 \r\nL 221.304688 100.024841 \r\nL 221.639823 99.223211 \r\nL 221.974958 100.516776 \r\nL 222.310093 103.011709 \r\nL 222.645228 101.494017 \r\nL 222.980363 96.78409 \r\nL 223.315498 101.633466 \r\nL 223.985769 101.646825 \r\nL 224.320904 99.242952 \r\nL 224.656039 101.120837 \r\nL 224.991174 99.028619 \r\nL 225.326309 101.156887 \r\nL 225.661444 100.411 \r\nL 225.996579 100.708418 \r\nL 226.331715 103.746429 \r\nL 226.66685 104.110281 \r\nL 227.001985 106.167782 \r\nL 227.33712 106.9253 \r\nL 227.672255 104.887083 \r\nL 228.00739 99.111349 \r\nL 228.67766 103.70528 \r\nL 229.012796 106.389385 \r\nL 229.683066 115.00721 \r\nL 230.018201 116.263639 \r\nL 230.353336 109.13349 \r\nL 230.688471 107.212795 \r\nL 231.023606 107.440817 \r\nL 231.358742 110.928756 \r\nL 231.693877 109.671306 \r\nL 232.029012 107.745978 \r\nL 232.364147 109.142664 \r\nL 232.699282 106.965184 \r\nL 233.034417 103.217532 \r\nL 233.369552 104.787786 \r\nL 233.704687 102.926103 \r\nL 234.039823 102.922341 \r\nL 234.374958 100.034014 \r\nL 235.045228 108.076948 \r\nL 235.380363 107.928689 \r\nL 235.715498 104.76712 \r\nL 236.050633 106.026794 \r\nL 236.385769 105.942933 \r\nL 236.720904 110.377019 \r\nL 237.056039 111.433801 \r\nL 237.391174 108.618712 \r\nL 237.726309 108.078924 \r\nL 238.061444 105.537816 \r\nL 238.396579 106.854946 \r\nL 238.731715 111.197067 \r\nL 239.06685 110.534998 \r\nL 239.401985 111.185021 \r\nL 240.072255 119.70618 \r\nL 240.40739 121.045456 \r\nL 240.742525 117.346535 \r\nL 241.412796 123.537373 \r\nL 241.747931 127.01671 \r\nL 242.083066 126.697979 \r\nL 242.418201 120.42115 \r\nL 243.088471 113.94169 \r\nL 243.758742 123.009668 \r\nL 244.093877 121.10326 \r\nL 244.429012 118.505201 \r\nL 244.764147 111.358617 \r\nL 245.099282 110.007721 \r\nL 245.434417 110.885143 \r\nL 245.769552 114.808352 \r\nL 246.104688 117.153428 \r\nL 246.439823 115.560194 \r\nL 246.774958 115.672485 \r\nL 247.110093 115.354229 \r\nL 247.445228 113.485983 \r\nL 248.115498 111.957732 \r\nL 248.450633 113.512698 \r\nL 249.120904 111.149244 \r\nL 249.456039 114.600471 \r\nL 249.791174 120.975063 \r\nL 250.126309 119.939296 \r\nL 250.461444 113.324884 \r\nL 250.796579 115.686462 \r\nL 251.131715 113.303188 \r\nL 251.46685 112.193061 \r\nL 251.801985 113.577557 \r\nL 252.13712 112.08429 \r\nL 253.142525 103.656169 \r\nL 253.47766 106.346159 \r\nL 253.812796 110.968027 \r\nL 254.483066 124.065682 \r\nL 254.818201 127.236087 \r\nL 255.153336 125.371215 \r\nL 255.488471 121.937757 \r\nL 255.823606 122.127778 \r\nL 256.158742 119.486692 \r\nL 256.493877 121.127015 \r\nL 256.829012 123.817521 \r\nL 257.164147 117.852038 \r\nL 257.499282 124.031206 \r\nL 257.834417 126.619778 \r\nL 258.169552 131.38059 \r\nL 258.504687 132.121561 \r\nL 258.839823 131.136794 \r\nL 259.510093 139.277907 \r\nL 259.845228 141.692036 \r\nL 260.180363 142.702514 \r\nL 260.515498 145.473993 \r\nL 260.850633 145.587022 \r\nL 261.185769 143.181863 \r\nL 261.520904 142.291062 \r\nL 261.856039 143.174498 \r\nL 262.191174 142.344884 \r\nL 262.526309 137.631043 \r\nL 262.861444 136.755098 \r\nL 263.531715 141.136496 \r\nL 263.86685 136.2918 \r\nL 264.201985 137.823172 \r\nL 264.53712 136.684637 \r\nL 265.20739 133.618003 \r\nL 265.542525 129.119154 \r\nL 265.87766 131.680894 \r\nL 266.212796 135.2789 \r\nL 266.547931 136.229989 \r\nL 266.883066 138.257614 \r\nL 267.218201 139.53488 \r\nL 267.553336 139.262848 \r\nL 267.888471 141.579915 \r\nL 268.223606 145.651874 \r\nL 268.558742 146.768318 \r\nL 268.893877 146.580852 \r\nL 269.229012 145.179123 \r\nL 269.564147 146.226662 \r\nL 269.899282 148.202694 \r\nL 270.234417 153.008395 \r\nL 270.569552 151.333889 \r\nL 270.904688 151.029448 \r\nL 271.574958 145.467601 \r\nL 271.910093 145.39293 \r\nL 272.245228 141.824345 \r\nL 272.580363 143.350028 \r\nL 272.915498 145.557727 \r\nL 273.250633 150.406422 \r\nL 273.585769 158.543947 \r\nL 273.920904 160.132828 \r\nL 274.256039 160.302512 \r\nL 274.591174 156.870072 \r\nL 275.261444 168.134199 \r\nL 275.596579 171.973825 \r\nL 275.931715 170.972677 \r\nL 276.26685 169.543964 \r\nL 276.601985 169.701128 \r\nL 276.93712 172.396341 \r\nL 277.60739 172.07997 \r\nL 278.27766 167.289821 \r\nL 278.612796 167.346851 \r\nL 278.947931 166.072668 \r\nL 279.283066 167.281112 \r\nL 279.618201 166.620162 \r\nL 279.953336 165.465315 \r\nL 280.288471 168.257689 \r\nL 280.623606 168.171583 \r\nL 280.958742 169.962077 \r\nL 281.293877 168.563821 \r\nL 281.629012 170.778935 \r\nL 281.964147 169.841745 \r\nL 282.634417 165.18966 \r\nL 282.969552 165.852102 \r\nL 283.304688 163.924975 \r\nL 283.639823 163.617865 \r\nL 283.974958 168.30236 \r\nL 284.310093 167.588573 \r\nL 284.645228 169.669452 \r\nL 284.980363 173.233806 \r\nL 285.315498 174.098717 \r\nL 285.650633 174.396037 \r\nL 285.985769 172.789545 \r\nL 286.320904 172.639618 \r\nL 286.656039 167.320384 \r\nL 286.991174 170.055455 \r\nL 287.326309 169.299229 \r\nL 287.996579 162.456435 \r\nL 288.331715 160.558009 \r\nL 288.66685 162.367726 \r\nL 289.33712 170.266187 \r\nL 289.672255 169.176558 \r\nL 290.00739 169.41574 \r\nL 290.342525 170.500173 \r\nL 290.67766 171.004521 \r\nL 291.012796 166.338055 \r\nL 291.347931 167.105965 \r\nL 291.683066 170.419202 \r\nL 292.018201 172.032027 \r\nL 292.353336 168.924099 \r\nL 292.688471 171.850634 \r\nL 293.023606 176.452937 \r\nL 293.358742 172.807099 \r\nL 293.693877 175.563753 \r\nL 294.699282 169.932555 \r\nL 295.034417 174.521961 \r\nL 295.704687 170.529785 \r\nL 296.039823 173.411666 \r\nL 296.374958 174.147505 \r\nL 296.710093 170.876587 \r\nL 297.045228 171.101116 \r\nL 297.380363 175.905978 \r\nL 297.715498 176.429122 \r\nL 298.385769 172.548252 \r\nL 298.720904 173.205731 \r\nL 299.056039 171.122064 \r\nL 299.391174 167.78469 \r\nL 299.726309 168.408717 \r\nL 300.061444 169.301285 \r\nL 300.396579 173.292225 \r\nL 300.731715 170.813106 \r\nL 301.06685 172.241406 \r\nL 301.401985 169.554091 \r\nL 301.73712 171.031581 \r\nL 302.072255 166.827039 \r\nL 302.40739 167.09521 \r\nL 302.742525 164.364982 \r\nL 303.07766 167.677281 \r\nL 303.412796 163.685814 \r\nL 303.747931 166.894229 \r\nL 304.418201 160.579445 \r\nL 304.753336 162.418681 \r\nL 305.088471 166.80151 \r\nL 305.423606 158.611352 \r\nL 305.758742 159.051654 \r\nL 306.093877 158.271809 \r\nL 306.429012 158.570216 \r\nL 306.764147 160.589359 \r\nL 307.099282 160.039681 \r\nL 307.434417 162.490051 \r\nL 307.769552 159.909251 \r\nL 308.104688 160.814077 \r\nL 308.774958 166.257589 \r\nL 309.110093 166.870377 \r\nL 309.445228 166.059689 \r\nL 309.780363 168.570578 \r\nL 310.450633 164.233357 \r\nL 311.120904 165.779558 \r\nL 311.456039 164.926759 \r\nL 311.791174 166.695515 \r\nL 312.126309 165.140141 \r\nL 312.461444 167.555888 \r\nL 312.796579 163.730704 \r\nL 313.131715 164.528121 \r\nL 313.46685 165.784495 \r\nL 313.801985 165.0359 \r\nL 314.472255 171.581798 \r\nL 314.80739 171.664297 \r\nL 315.142525 171.400842 \r\nL 315.47766 173.389051 \r\nL 315.812796 171.425762 \r\nL 316.147931 176.705268 \r\nL 316.483066 178.396199 \r\nL 316.818201 183.2538 \r\nL 317.153336 185.575755 \r\nL 317.488471 184.55742 \r\nL 317.823606 187.218436 \r\nL 318.493877 184.071553 \r\nL 318.829012 186.542303 \r\nL 319.499282 182.281063 \r\nL 319.834417 182.101749 \r\nL 320.169552 182.948995 \r\nL 320.504687 188.019859 \r\nL 320.839823 187.858758 \r\nL 321.174958 185.462114 \r\nL 321.510093 189.257748 \r\nL 321.845228 188.839189 \r\nL 322.180363 183.969734 \r\nL 322.515498 187.067308 \r\nL 322.850633 181.742973 \r\nL 323.185769 185.330258 \r\nL 323.520904 183.126746 \r\nL 323.856039 184.533005 \r\nL 324.191174 185.262604 \r\nL 324.526309 181.621917 \r\nL 324.861444 179.952833 \r\nL 325.196579 180.99747 \r\nL 325.531715 187.590916 \r\nL 325.86685 187.662156 \r\nL 326.201985 187.475629 \r\nL 326.53712 188.275996 \r\nL 326.872255 192.987052 \r\nL 327.20739 187.514051 \r\nL 327.87766 180.214284 \r\nL 328.212796 179.413568 \r\nL 328.547931 180.670773 \r\nL 328.883066 188.173688 \r\nL 329.218201 191.801461 \r\nL 329.553336 185.844021 \r\nL 329.888471 188.909084 \r\nL 330.223606 186.533339 \r\nL 330.558742 190.430997 \r\nL 330.893877 192.397606 \r\nL 331.564147 191.553741 \r\nL 331.899282 193.725216 \r\nL 332.234417 194.926651 \r\nL 332.569552 193.74702 \r\nL 333.239823 196.306851 \r\nL 333.574958 192.710168 \r\nL 333.910093 192.903208 \r\nL 334.245228 192.338264 \r\nL 334.580363 193.562322 \r\nL 335.250633 197.769139 \r\nL 335.585769 197.708087 \r\nL 335.920904 200.472732 \r\nL 336.256039 202.05884 \r\nL 336.591174 198.528389 \r\nL 337.261444 194.190251 \r\nL 337.596579 196.249176 \r\nL 337.931715 200.49359 \r\nL 338.26685 201.894696 \r\nL 338.601985 197.420659 \r\nL 338.93712 200.365692 \r\nL 339.272255 205.278683 \r\nL 339.942525 209.356805 \r\nL 340.27766 207.634797 \r\nL 340.612796 205.140215 \r\nL 340.947931 205.874342 \r\nL 341.283066 205.899576 \r\nL 341.618201 209.058937 \r\nL 341.953336 207.705843 \r\nL 342.623606 203.222812 \r\nL 342.958742 202.286969 \r\nL 343.293877 205.444239 \r\nL 343.964147 194.46051 \r\nL 344.299282 192.567055 \r\nL 344.634417 191.630271 \r\nL 344.969552 192.272748 \r\nL 345.304688 193.604346 \r\nL 345.639823 191.813411 \r\nL 345.974958 187.878585 \r\nL 346.310093 191.063234 \r\nL 346.645228 191.593017 \r\nL 347.315498 195.781375 \r\nL 347.650633 195.319395 \r\nL 347.985769 197.582934 \r\nL 348.320904 195.898008 \r\nL 348.991174 198.539461 \r\nL 349.661444 203.15747 \r\nL 349.996579 199.344138 \r\nL 350.331715 203.515956 \r\nL 350.66685 204.590698 \r\nL 351.001985 199.679997 \r\nL 351.33712 199.343576 \r\nL 351.672255 197.236115 \r\nL 352.00739 192.42398 \r\nL 352.342525 192.489344 \r\nL 352.67766 192.057038 \r\nL 353.012796 195.110849 \r\nL 353.683066 196.372005 \r\nL 354.018201 191.843268 \r\nL 354.688471 197.738072 \r\nL 355.023606 195.932914 \r\nL 355.358742 199.190429 \r\nL 356.029012 208.369064 \r\nL 356.364147 207.655383 \r\nL 356.699282 208.23674 \r\nL 357.034417 214.756364 \r\nL 357.369552 214.731913 \r\nL 357.704687 212.487321 \r\nL 358.039823 206.85538 \r\nL 358.374958 208.303402 \r\nL 359.045228 201.75824 \r\nL 359.380363 196.920389 \r\nL 359.715498 199.40524 \r\nL 360.050633 197.422061 \r\nL 360.720904 200.625066 \r\nL 361.056039 200.352094 \r\nL 361.391174 198.597416 \r\nL 361.726309 192.567333 \r\nL 362.061444 191.549595 \r\nL 362.731715 194.207095 \r\nL 363.401985 191.987561 \r\nL 363.73712 191.431327 \r\nL 364.072255 192.853303 \r\nL 364.40739 193.453237 \r\nL 364.742525 194.825957 \r\nL 365.07766 193.304354 \r\nL 365.412796 195.443263 \r\nL 365.747931 194.223855 \r\nL 366.083066 192.542552 \r\nL 366.418201 198.845942 \r\nL 366.753336 197.152979 \r\nL 367.088471 199.556662 \r\nL 367.758742 200.388288 \r\nL 368.093877 206.417431 \r\nL 368.429012 204.465878 \r\nL 368.764147 207.090177 \r\nL 369.099282 206.221383 \r\nL 369.434417 203.433091 \r\nL 369.769552 204.137545 \r\nL 370.104688 208.318205 \r\nL 370.104688 208.318205 \r\n\" style=\"fill:none;stroke:#1f77b4;stroke-linecap:square;stroke-width:1.5;\"/>\r\n   </g>\r\n   <g id=\"line2d_44\">\r\n    <path clip-path=\"url(#p5e84b2f083)\" d=\"M 35.304688 109.963449 \r\nL 36.310093 102.152655 \r\nL 36.645228 106.89814 \r\nL 36.980363 108.293374 \r\nL 37.650633 113.84372 \r\nL 37.985769 114.174218 \r\nL 38.320904 116.415609 \r\nL 38.656039 114.056964 \r\nL 38.991174 115.015119 \r\nL 39.996579 121.439022 \r\nL 40.331715 120.705605 \r\nL 40.66685 123.604505 \r\nL 41.001985 123.925531 \r\nL 41.33712 121.338073 \r\nL 41.672255 125.46448 \r\nL 43.347931 107.696602 \r\nL 43.683066 109.986065 \r\nL 44.353336 106.555673 \r\nL 44.688471 109.954915 \r\nL 45.023606 110.421213 \r\nL 45.358742 110.413383 \r\nL 45.693877 106.050462 \r\nL 46.029012 103.709246 \r\nL 46.364147 98.282571 \r\nL 46.699282 99.760666 \r\nL 47.034417 97.837418 \r\nL 47.369552 99.162223 \r\nL 47.704687 98.880286 \r\nL 48.039823 99.162209 \r\nL 48.374958 101.364841 \r\nL 48.710093 98.091668 \r\nL 49.045228 92.221407 \r\nL 49.380363 92.98193 \r\nL 49.715498 93.348473 \r\nL 50.050633 95.855105 \r\nL 50.385769 96.598902 \r\nL 50.720904 99.614772 \r\nL 51.056039 99.16784 \r\nL 51.391174 101.242113 \r\nL 51.726309 100.708126 \r\nL 52.061444 102.036813 \r\nL 52.396579 100.553826 \r\nL 52.731715 104.074341 \r\nL 53.06685 103.463692 \r\nL 53.401985 103.228673 \r\nL 53.73712 106.443635 \r\nL 54.072255 104.848637 \r\nL 54.40739 106.096632 \r\nL 54.742525 104.643142 \r\nL 55.07766 105.394973 \r\nL 55.412796 102.422433 \r\nL 55.747931 102.540672 \r\nL 56.083066 104.222872 \r\nL 56.418201 107.780809 \r\nL 56.753336 107.248741 \r\nL 57.088471 107.578069 \r\nL 57.423606 109.653831 \r\nL 57.758742 109.097132 \r\nL 58.093877 111.201426 \r\nL 58.429012 110.991923 \r\nL 58.764147 112.118133 \r\nL 59.099282 115.88163 \r\nL 59.434417 113.786697 \r\nL 59.769552 118.054219 \r\nL 60.104688 117.86083 \r\nL 60.439823 118.932052 \r\nL 60.774958 118.382075 \r\nL 61.445228 120.730185 \r\nL 61.780363 115.168945 \r\nL 62.115498 113.764135 \r\nL 62.450633 111.359516 \r\nL 62.785769 109.795017 \r\nL 63.120904 106.956521 \r\nL 63.456039 106.176349 \r\nL 63.791174 107.014036 \r\nL 64.461444 104.686843 \r\nL 65.131715 100.949141 \r\nL 65.46685 104.658154 \r\nL 65.801985 104.902659 \r\nL 66.13712 104.110094 \r\nL 66.472255 105.871155 \r\nL 66.80739 103.398002 \r\nL 67.812796 108.516619 \r\nL 68.147931 103.701162 \r\nL 68.483066 107.610167 \r\nL 68.818201 102.827417 \r\nL 69.153336 101.130093 \r\nL 69.488471 104.272712 \r\nL 69.823606 106.289115 \r\nL 70.158742 106.107229 \r\nL 70.493877 105.793523 \r\nL 70.829012 108.082638 \r\nL 71.164147 108.535655 \r\nL 71.499282 109.226857 \r\nL 71.834417 106.766047 \r\nL 72.169552 106.383486 \r\nL 72.504687 103.981347 \r\nL 72.839823 105.881314 \r\nL 73.174958 110.1366 \r\nL 73.510093 107.656711 \r\nL 73.845228 107.654215 \r\nL 74.180363 112.207347 \r\nL 74.515498 106.508397 \r\nL 74.850633 107.069711 \r\nL 75.185769 112.425733 \r\nL 75.520904 110.157586 \r\nL 75.856039 111.246444 \r\nL 76.191174 110.163439 \r\nL 76.526309 112.373984 \r\nL 76.861444 112.772853 \r\nL 77.196579 110.474804 \r\nL 77.531715 111.855637 \r\nL 77.86685 114.527819 \r\nL 78.201985 118.974169 \r\nL 78.53712 116.322057 \r\nL 78.872255 110.938175 \r\nL 79.20739 116.108934 \r\nL 79.542525 116.529752 \r\nL 79.87766 117.224619 \r\nL 80.212796 116.029063 \r\nL 80.547931 113.763579 \r\nL 80.883066 112.878742 \r\nL 81.218201 114.875441 \r\nL 81.553336 115.942716 \r\nL 81.888471 114.95111 \r\nL 82.223606 115.837899 \r\nL 82.558742 117.41325 \r\nL 82.893877 121.352249 \r\nL 83.229012 122.485734 \r\nL 83.564147 125.543419 \r\nL 83.899282 127.316916 \r\nL 84.234417 127.084504 \r\nL 84.569552 124.942971 \r\nL 84.904688 130.177195 \r\nL 85.239823 131.377828 \r\nL 85.574958 133.350918 \r\nL 85.910093 129.034037 \r\nL 86.245228 127.340297 \r\nL 86.580363 128.647008 \r\nL 86.915498 129.127445 \r\nL 87.250633 133.479204 \r\nL 87.585769 133.967701 \r\nL 87.920904 133.972923 \r\nL 88.256039 131.756089 \r\nL 88.591174 128.37556 \r\nL 88.926309 129.345246 \r\nL 89.261444 126.916309 \r\nL 89.596579 128.208811 \r\nL 89.931715 130.292685 \r\nL 90.26685 127.464571 \r\nL 90.601985 130.076307 \r\nL 90.93712 129.141015 \r\nL 91.272255 129.055411 \r\nL 91.942525 132.946278 \r\nL 92.27766 129.0323 \r\nL 92.612796 127.200009 \r\nL 92.947931 127.679185 \r\nL 93.283066 130.180255 \r\nL 93.618201 129.86012 \r\nL 94.288471 126.131191 \r\nL 94.623606 130.655022 \r\nL 94.958742 131.114464 \r\nL 95.293877 133.647003 \r\nL 95.629012 131.826637 \r\nL 95.964147 130.900722 \r\nL 96.299282 129.477636 \r\nL 96.969552 127.894941 \r\nL 97.304688 124.038903 \r\nL 97.639823 123.550923 \r\nL 97.974958 123.280747 \r\nL 98.310093 125.369366 \r\nL 98.645228 126.465497 \r\nL 98.980363 119.648524 \r\nL 99.315498 115.120662 \r\nL 99.650633 117.830902 \r\nL 99.985769 117.178507 \r\nL 100.320904 117.081211 \r\nL 100.656039 115.146319 \r\nL 100.991174 110.796385 \r\nL 101.326309 109.869389 \r\nL 101.661444 110.959541 \r\nL 101.996579 113.896649 \r\nL 102.66685 117.272186 \r\nL 103.001985 115.532875 \r\nL 103.33712 113.104752 \r\nL 103.672255 115.880957 \r\nL 104.00739 120.441386 \r\nL 104.342525 122.455438 \r\nL 104.67766 120.446226 \r\nL 105.012796 121.77657 \r\nL 105.347931 120.893002 \r\nL 106.018201 117.07457 \r\nL 106.353336 117.575889 \r\nL 106.688471 121.78005 \r\nL 107.023606 122.431103 \r\nL 107.358742 125.668368 \r\nL 107.693877 124.331923 \r\nL 108.029012 124.89284 \r\nL 108.364147 122.037775 \r\nL 108.699282 120.292661 \r\nL 109.034417 121.250104 \r\nL 109.369552 120.581307 \r\nL 109.704687 111.073534 \r\nL 110.039823 109.911602 \r\nL 110.374958 108.115928 \r\nL 110.710093 107.613679 \r\nL 111.045228 109.291733 \r\nL 111.380363 112.291144 \r\nL 111.715498 109.605666 \r\nL 112.050633 104.809975 \r\nL 112.385769 103.960982 \r\nL 112.720904 104.356242 \r\nL 113.056039 100.818703 \r\nL 113.391174 102.413938 \r\nL 113.726309 100.501845 \r\nL 114.061444 100.430289 \r\nL 114.396579 102.79914 \r\nL 114.731715 101.908858 \r\nL 115.06685 104.580393 \r\nL 115.401985 104.243182 \r\nL 115.73712 104.738437 \r\nL 116.072255 108.498092 \r\nL 116.40739 109.099738 \r\nL 116.742525 108.727933 \r\nL 117.07766 112.492233 \r\nL 117.412796 114.483866 \r\nL 118.083066 106.192831 \r\nL 118.418201 104.064039 \r\nL 118.753336 106.046226 \r\nL 119.088471 111.825502 \r\nL 119.423606 114.214899 \r\nL 119.758742 111.978013 \r\nL 120.093877 113.12593 \r\nL 120.429012 118.285845 \r\nL 121.099282 121.950143 \r\nL 121.434417 117.88511 \r\nL 121.769552 117.227608 \r\nL 122.104688 119.506417 \r\nL 122.439823 119.801731 \r\nL 122.774958 124.726509 \r\nL 123.110093 124.099555 \r\nL 123.445228 125.609991 \r\nL 123.780363 126.450811 \r\nL 124.115498 125.386774 \r\nL 124.450633 127.832474 \r\nL 124.785769 124.827144 \r\nL 125.456039 123.043686 \r\nL 126.126309 121.302014 \r\nL 126.796579 130.594627 \r\nL 127.131715 131.697289 \r\nL 127.46685 129.343845 \r\nL 127.801985 133.607044 \r\nL 128.13712 132.310902 \r\nL 128.472255 135.684427 \r\nL 128.80739 134.2039 \r\nL 129.142525 135.884752 \r\nL 129.812796 146.633736 \r\nL 130.483066 156.913613 \r\nL 130.818201 158.900208 \r\nL 131.153336 156.388923 \r\nL 131.488471 156.702668 \r\nL 132.158742 161.45338 \r\nL 132.493877 165.278078 \r\nL 132.829012 166.042208 \r\nL 133.164147 163.909693 \r\nL 133.499282 167.865449 \r\nL 133.834417 167.983185 \r\nL 134.169552 165.708824 \r\nL 134.839823 169.234592 \r\nL 135.174958 169.665191 \r\nL 135.845228 167.962729 \r\nL 136.180363 164.205028 \r\nL 136.515498 169.832417 \r\nL 136.850633 173.459936 \r\nL 137.185769 173.516605 \r\nL 137.856039 175.763569 \r\nL 138.191174 181.823879 \r\nL 138.861444 180.988789 \r\nL 139.196579 176.815244 \r\nL 139.531715 181.42027 \r\nL 140.201985 175.30304 \r\nL 140.53712 177.02568 \r\nL 141.20739 177.94864 \r\nL 141.542525 176.307601 \r\nL 141.87766 176.234774 \r\nL 142.212796 173.636262 \r\nL 142.547931 173.662147 \r\nL 143.218201 177.979418 \r\nL 143.553336 181.811813 \r\nL 143.888471 180.16521 \r\nL 144.223606 183.719365 \r\nL 144.558742 182.694505 \r\nL 144.893877 179.618557 \r\nL 145.229012 182.685059 \r\nL 145.564147 182.052805 \r\nL 145.899282 181.987433 \r\nL 146.234417 187.10128 \r\nL 146.904688 185.782106 \r\nL 147.239823 186.970195 \r\nL 147.910093 181.663145 \r\nL 148.245228 183.027596 \r\nL 148.580363 181.974641 \r\nL 149.250633 177.893584 \r\nL 149.585769 178.906862 \r\nL 149.920904 178.484606 \r\nL 150.256039 179.798258 \r\nL 150.926309 181.463616 \r\nL 151.261444 184.684193 \r\nL 151.596579 184.788073 \r\nL 151.931715 185.920342 \r\nL 152.26685 185.420392 \r\nL 152.601985 186.066684 \r\nL 152.93712 184.578802 \r\nL 153.272255 186.538856 \r\nL 153.60739 184.767133 \r\nL 153.942525 184.017123 \r\nL 154.27766 184.493209 \r\nL 154.612796 183.334922 \r\nL 155.283066 177.874827 \r\nL 155.618201 178.048135 \r\nL 155.953336 176.593438 \r\nL 156.288471 178.736698 \r\nL 156.623606 178.22386 \r\nL 156.958742 177.918001 \r\nL 157.293877 174.051126 \r\nL 157.629012 181.00477 \r\nL 157.964147 184.194177 \r\nL 158.299282 183.456919 \r\nL 158.634417 182.104277 \r\nL 158.969552 186.510741 \r\nL 159.639823 185.926435 \r\nL 160.310093 185.642333 \r\nL 160.645228 186.276843 \r\nL 160.980363 185.098164 \r\nL 161.315498 183.506787 \r\nL 161.650633 179.604763 \r\nL 161.985769 179.495804 \r\nL 162.320904 176.138531 \r\nL 162.656039 178.840191 \r\nL 163.326309 180.44817 \r\nL 163.661444 182.223237 \r\nL 163.996579 181.13719 \r\nL 164.331715 178.28102 \r\nL 165.001985 182.530634 \r\nL 165.33712 181.003909 \r\nL 165.672255 180.068489 \r\nL 166.00739 176.710703 \r\nL 166.342525 177.884221 \r\nL 166.67766 182.354376 \r\nL 167.012796 181.753084 \r\nL 167.347931 182.632284 \r\nL 167.683066 183.856502 \r\nL 168.018201 178.583552 \r\nL 168.353336 183.514679 \r\nL 168.688471 184.835744 \r\nL 169.023606 187.936493 \r\nL 169.358742 188.233069 \r\nL 169.693877 189.139261 \r\nL 170.364147 180.263595 \r\nL 170.699282 183.20954 \r\nL 171.034417 188.315883 \r\nL 171.704687 182.312667 \r\nL 172.039823 184.212307 \r\nL 172.374958 187.765191 \r\nL 173.045228 185.789705 \r\nL 173.380363 183.89772 \r\nL 173.715498 187.042319 \r\nL 174.050633 187.302712 \r\nL 174.385769 184.117083 \r\nL 174.720904 182.626897 \r\nL 175.056039 174.298805 \r\nL 175.391174 173.590106 \r\nL 175.726309 170.466272 \r\nL 176.061444 170.491821 \r\nL 176.396579 172.942204 \r\nL 176.731715 174.539515 \r\nL 177.06685 172.13584 \r\nL 177.401985 170.915466 \r\nL 177.73712 170.794033 \r\nL 178.072255 174.602367 \r\nL 178.40739 176.889407 \r\nL 178.742525 175.441547 \r\nL 179.07766 175.429101 \r\nL 179.412796 174.193114 \r\nL 179.747931 177.8776 \r\nL 180.083066 177.157674 \r\nL 180.753336 186.421253 \r\nL 181.423606 188.956109 \r\nL 181.758742 187.616375 \r\nL 182.093877 186.884235 \r\nL 182.429012 188.049156 \r\nL 182.764147 181.720662 \r\nL 183.099282 181.411609 \r\nL 183.434417 183.494915 \r\nL 183.769552 181.941358 \r\nL 184.439823 180.659778 \r\nL 184.774958 183.932252 \r\nL 185.445228 181.261049 \r\nL 185.780363 177.433026 \r\nL 186.115498 177.303595 \r\nL 186.785769 182.797801 \r\nL 187.120904 187.318886 \r\nL 187.456039 184.876546 \r\nL 187.791174 188.791536 \r\nL 188.126309 190.777249 \r\nL 188.461444 189.873042 \r\nL 188.796579 182.553026 \r\nL 189.131715 181.272198 \r\nL 189.46685 177.826358 \r\nL 189.801985 172.378618 \r\nL 190.13712 172.651497 \r\nL 190.472255 174.441614 \r\nL 190.80739 173.45128 \r\nL 191.142525 175.032117 \r\nL 191.47766 173.984197 \r\nL 191.812796 176.699512 \r\nL 192.147931 175.902678 \r\nL 192.483066 177.580905 \r\nL 192.818201 174.732176 \r\nL 193.153336 175.379965 \r\nL 193.488471 176.855137 \r\nL 193.823606 181.754079 \r\nL 194.158742 182.830516 \r\nL 194.493877 180.686386 \r\nL 194.829012 180.036304 \r\nL 195.164147 181.128604 \r\nL 195.499282 180.874084 \r\nL 196.169552 175.843459 \r\nL 196.504687 175.368935 \r\nL 196.839823 175.472727 \r\nL 197.510093 167.920515 \r\nL 197.845228 166.481005 \r\nL 198.180363 168.255606 \r\nL 198.515498 166.652096 \r\nL 198.850633 165.936543 \r\nL 199.185769 166.053198 \r\nL 199.520904 170.761804 \r\nL 199.856039 170.849808 \r\nL 200.191174 173.143399 \r\nL 200.526309 172.232371 \r\nL 200.861444 170.895812 \r\nL 202.201985 178.403715 \r\nL 202.53712 176.328476 \r\nL 202.872255 179.597245 \r\nL 203.20739 175.973994 \r\nL 203.542525 180.065625 \r\nL 204.212796 175.826088 \r\nL 204.547931 176.072111 \r\nL 204.883066 175.454164 \r\nL 205.218201 175.490917 \r\nL 205.553336 180.169624 \r\nL 205.888471 174.821695 \r\nL 206.223606 179.21642 \r\nL 206.893877 173.013473 \r\nL 207.229012 172.62922 \r\nL 207.564147 169.357512 \r\nL 207.899282 170.953748 \r\nL 208.234417 174.559899 \r\nL 208.569552 173.418863 \r\nL 209.239823 166.190026 \r\nL 209.574958 166.737667 \r\nL 209.910093 162.870123 \r\nL 210.245228 162.88737 \r\nL 210.915498 156.652754 \r\nL 211.250633 157.835376 \r\nL 211.585769 160.597412 \r\nL 211.920904 162.328654 \r\nL 212.256039 160.37934 \r\nL 212.591174 159.900666 \r\nL 212.926309 160.704154 \r\nL 213.261444 160.699858 \r\nL 213.596579 163.575252 \r\nL 213.931715 164.356005 \r\nL 214.26685 164.785943 \r\nL 214.601985 166.953213 \r\nL 214.93712 171.84412 \r\nL 215.272255 169.035912 \r\nL 215.60739 169.131269 \r\nL 215.942525 168.062538 \r\nL 216.27766 167.474545 \r\nL 216.612796 164.385772 \r\nL 216.947931 164.913668 \r\nL 217.283066 164.023959 \r\nL 217.618201 164.911529 \r\nL 217.953336 167.867184 \r\nL 218.288471 169.33662 \r\nL 218.623606 168.312615 \r\nL 218.958742 166.924288 \r\nL 219.293877 163.410206 \r\nL 219.629012 163.2033 \r\nL 219.964147 163.565609 \r\nL 220.299282 162.332965 \r\nL 220.634417 162.729614 \r\nL 220.969552 165.605385 \r\nL 221.304688 166.737285 \r\nL 221.639823 169.776466 \r\nL 221.974958 170.175979 \r\nL 222.310093 173.332962 \r\nL 222.645228 172.228894 \r\nL 222.980363 172.568084 \r\nL 223.315498 166.048752 \r\nL 223.650633 170.518088 \r\nL 223.985769 166.886546 \r\nL 224.320904 165.646275 \r\nL 224.991174 158.66391 \r\nL 225.326309 163.038669 \r\nL 225.661444 160.107673 \r\nL 225.996579 160.424216 \r\nL 226.331715 156.350783 \r\nL 226.66685 156.991713 \r\nL 227.001985 154.754657 \r\nL 227.33712 149.328106 \r\nL 228.00739 146.310007 \r\nL 228.342525 152.986743 \r\nL 228.67766 148.987538 \r\nL 229.012796 151.724254 \r\nL 229.347931 147.499044 \r\nL 229.683066 147.765097 \r\nL 230.018201 142.881554 \r\nL 230.353336 143.034996 \r\nL 230.688471 141.297814 \r\nL 231.023606 138.685292 \r\nL 231.358742 140.740142 \r\nL 232.029012 135.652595 \r\nL 232.364147 135.850896 \r\nL 232.699282 130.316986 \r\nL 233.369552 135.729206 \r\nL 233.704687 136.732668 \r\nL 234.039823 135.491346 \r\nL 234.374958 137.430229 \r\nL 234.710093 138.63085 \r\nL 235.045228 140.380454 \r\nL 235.380363 145.270591 \r\nL 235.715498 144.260205 \r\nL 236.050633 145.849546 \r\nL 236.385769 146.115897 \r\nL 236.720904 150.392409 \r\nL 237.056039 149.482992 \r\nL 237.391174 152.707837 \r\nL 237.726309 153.91321 \r\nL 238.061444 151.839234 \r\nL 238.396579 147.153178 \r\nL 238.731715 146.168507 \r\nL 239.06685 147.915172 \r\nL 239.401985 151.52183 \r\nL 239.73712 150.796004 \r\nL 240.072255 153.837493 \r\nL 240.40739 154.766805 \r\nL 240.742525 150.325854 \r\nL 241.07766 151.759195 \r\nL 241.412796 151.393799 \r\nL 242.083066 142.599525 \r\nL 242.418201 142.671332 \r\nL 242.753336 140.903188 \r\nL 243.088471 143.230776 \r\nL 243.423606 142.274788 \r\nL 243.758742 143.020787 \r\nL 244.093877 140.613009 \r\nL 244.429012 146.66556 \r\nL 244.764147 154.875931 \r\nL 245.099282 153.048155 \r\nL 245.434417 155.307587 \r\nL 245.769552 155.25735 \r\nL 246.104688 158.009046 \r\nL 246.439823 158.548418 \r\nL 246.774958 167.66607 \r\nL 247.110093 166.462087 \r\nL 247.445228 168.590987 \r\nL 247.780363 167.533469 \r\nL 248.115498 166.975035 \r\nL 248.450633 164.079554 \r\nL 249.456039 177.752035 \r\nL 249.791174 179.682721 \r\nL 250.126309 177.633923 \r\nL 250.796579 171.00873 \r\nL 251.131715 169.220667 \r\nL 251.46685 164.236291 \r\nL 251.801985 170.897576 \r\nL 252.13712 167.784417 \r\nL 252.472255 166.698162 \r\nL 252.80739 164.16729 \r\nL 253.142525 165.439379 \r\nL 253.47766 167.744817 \r\nL 253.812796 167.601302 \r\nL 254.147931 165.323419 \r\nL 254.483066 167.9386 \r\nL 254.818201 168.120495 \r\nL 255.153336 163.063436 \r\nL 255.488471 167.102982 \r\nL 255.823606 162.666205 \r\nL 256.158742 160.126721 \r\nL 256.493877 161.483957 \r\nL 256.829012 156.778489 \r\nL 257.164147 157.939436 \r\nL 257.499282 157.489367 \r\nL 257.834417 154.988054 \r\nL 258.169552 155.050319 \r\nL 258.504687 152.373001 \r\nL 259.174958 163.862452 \r\nL 259.510093 161.77105 \r\nL 259.845228 164.354911 \r\nL 260.180363 164.058941 \r\nL 260.515498 158.270252 \r\nL 260.850633 159.045143 \r\nL 261.185769 156.170493 \r\nL 261.520904 156.48489 \r\nL 261.856039 158.013912 \r\nL 262.191174 157.810909 \r\nL 262.526309 158.240289 \r\nL 263.196579 155.866225 \r\nL 263.531715 156.867659 \r\nL 263.86685 155.797561 \r\nL 264.201985 155.638183 \r\nL 264.872255 151.419142 \r\nL 265.20739 150.173507 \r\nL 265.542525 150.969596 \r\nL 265.87766 154.873012 \r\nL 266.212796 151.458026 \r\nL 266.547931 153.102186 \r\nL 267.218201 149.74552 \r\nL 267.553336 150.293678 \r\nL 267.888471 153.771743 \r\nL 268.223606 155.301829 \r\nL 268.558742 157.441608 \r\nL 268.893877 161.139858 \r\nL 269.229012 159.506056 \r\nL 269.564147 159.44022 \r\nL 270.234417 168.384191 \r\nL 270.904688 172.412867 \r\nL 271.239823 173.354395 \r\nL 271.574958 172.184107 \r\nL 272.245228 180.302742 \r\nL 272.580363 185.721086 \r\nL 272.915498 184.067264 \r\nL 273.585769 185.058358 \r\nL 273.920904 184.665966 \r\nL 274.256039 187.528878 \r\nL 274.591174 185.784817 \r\nL 274.926309 182.64396 \r\nL 275.261444 187.875674 \r\nL 275.596579 189.659886 \r\nL 275.931715 190.190919 \r\nL 276.26685 190.035614 \r\nL 276.601985 187.828575 \r\nL 276.93712 188.786147 \r\nL 277.272255 187.337515 \r\nL 277.60739 186.389837 \r\nL 277.942525 186.762232 \r\nL 278.27766 188.502349 \r\nL 278.947931 180.812292 \r\nL 279.283066 179.811589 \r\nL 279.953336 184.901684 \r\nL 280.288471 185.954283 \r\nL 280.623606 188.528965 \r\nL 281.293877 180.240869 \r\nL 281.629012 186.871487 \r\nL 281.964147 187.152458 \r\nL 282.299282 185.610421 \r\nL 282.969552 180.91941 \r\nL 283.304688 183.826959 \r\nL 283.639823 182.303607 \r\nL 283.974958 184.2688 \r\nL 284.645228 177.343218 \r\nL 284.980363 177.915527 \r\nL 285.315498 180.332925 \r\nL 285.650633 179.876132 \r\nL 285.985769 180.349828 \r\nL 286.656039 189.747421 \r\nL 286.991174 189.776011 \r\nL 287.326309 187.800699 \r\nL 287.661444 189.548355 \r\nL 287.996579 190.27229 \r\nL 288.331715 190.341736 \r\nL 288.66685 196.157514 \r\nL 289.33712 198.198312 \r\nL 290.00739 191.822621 \r\nL 290.342525 185.477616 \r\nL 290.67766 182.889598 \r\nL 291.012796 183.329251 \r\nL 291.347931 176.257008 \r\nL 292.018201 187.310393 \r\nL 292.353336 189.795411 \r\nL 292.688471 190.866445 \r\nL 293.023606 192.737512 \r\nL 293.693877 191.864295 \r\nL 294.699282 196.170957 \r\nL 295.034417 195.773841 \r\nL 295.369552 191.914018 \r\nL 295.704687 196.896887 \r\nL 296.710093 191.561292 \r\nL 297.380363 188.219545 \r\nL 297.715498 181.685148 \r\nL 298.050633 180.632039 \r\nL 298.385769 182.177591 \r\nL 299.056039 176.281484 \r\nL 299.391174 180.344389 \r\nL 299.726309 178.373319 \r\nL 300.061444 179.851883 \r\nL 300.396579 178.722603 \r\nL 300.731715 176.7695 \r\nL 301.06685 178.746673 \r\nL 301.401985 183.905135 \r\nL 301.73712 184.596933 \r\nL 302.072255 183.51762 \r\nL 302.40739 185.867388 \r\nL 303.07766 175.026433 \r\nL 303.412796 175.002964 \r\nL 303.747931 174.395292 \r\nL 304.418201 171.516154 \r\nL 305.088471 173.960056 \r\nL 305.423606 173.563098 \r\nL 305.758742 174.197707 \r\nL 306.093877 172.4009 \r\nL 306.429012 175.279782 \r\nL 306.764147 173.65314 \r\nL 307.099282 170.925755 \r\nL 307.434417 172.037457 \r\nL 307.769552 168.133017 \r\nL 308.104688 167.856661 \r\nL 308.439823 164.890821 \r\nL 308.774958 165.86502 \r\nL 309.110093 168.077207 \r\nL 309.445228 177.783106 \r\nL 310.115498 183.099806 \r\nL 310.785769 179.347058 \r\nL 311.120904 183.609442 \r\nL 311.791174 180.792917 \r\nL 312.126309 179.150852 \r\nL 312.461444 179.645 \r\nL 312.796579 176.595235 \r\nL 313.131715 175.345989 \r\nL 313.46685 175.269997 \r\nL 313.801985 173.6328 \r\nL 314.472255 179.284136 \r\nL 314.80739 175.062241 \r\nL 315.142525 175.115412 \r\nL 315.47766 175.486527 \r\nL 315.812796 174.228793 \r\nL 316.147931 176.99739 \r\nL 316.483066 167.635978 \r\nL 316.818201 166.095198 \r\nL 317.153336 166.912698 \r\nL 317.488471 165.442015 \r\nL 317.823606 165.467204 \r\nL 318.158742 166.098602 \r\nL 318.493877 163.075105 \r\nL 318.829012 167.352197 \r\nL 319.164147 164.668988 \r\nL 319.499282 165.987423 \r\nL 319.834417 164.07041 \r\nL 320.169552 170.951982 \r\nL 320.504687 169.263053 \r\nL 320.839823 168.805519 \r\nL 321.174958 164.531448 \r\nL 321.510093 163.336704 \r\nL 321.845228 162.9366 \r\nL 322.180363 163.494067 \r\nL 322.515498 165.405439 \r\nL 322.850633 164.669109 \r\nL 323.185769 162.930308 \r\nL 323.520904 163.381195 \r\nL 323.856039 164.596557 \r\nL 324.191174 167.25051 \r\nL 324.526309 165.046429 \r\nL 324.861444 164.133089 \r\nL 325.196579 157.578727 \r\nL 325.531715 160.281873 \r\nL 325.86685 161.970444 \r\nL 326.201985 161.763834 \r\nL 326.53712 161.036134 \r\nL 326.872255 161.596955 \r\nL 327.20739 158.345857 \r\nL 327.542525 160.900082 \r\nL 327.87766 158.638208 \r\nL 328.547931 163.364949 \r\nL 328.883066 162.575095 \r\nL 329.218201 160.136563 \r\nL 329.553336 161.371859 \r\nL 329.888471 161.374202 \r\nL 330.223606 159.636143 \r\nL 330.558742 161.689423 \r\nL 330.893877 164.766163 \r\nL 331.229012 160.893113 \r\nL 331.564147 160.934392 \r\nL 331.899282 162.374781 \r\nL 332.234417 162.402748 \r\nL 332.569552 163.907279 \r\nL 332.904688 159.038901 \r\nL 333.239823 160.161293 \r\nL 333.574958 158.410759 \r\nL 333.910093 157.498958 \r\nL 334.245228 157.420393 \r\nL 334.580363 157.636126 \r\nL 335.250633 152.270298 \r\nL 335.585769 156.6449 \r\nL 335.920904 153.993776 \r\nL 336.591174 146.656028 \r\nL 336.926309 152.436393 \r\nL 337.261444 150.973762 \r\nL 337.596579 141.944723 \r\nL 337.931715 143.678635 \r\nL 338.26685 141.939173 \r\nL 338.601985 141.822916 \r\nL 338.93712 142.697136 \r\nL 339.272255 145.174627 \r\nL 339.60739 145.310855 \r\nL 340.27766 144.924246 \r\nL 340.612796 143.372689 \r\nL 340.947931 144.101114 \r\nL 341.283066 141.567289 \r\nL 341.618201 142.195098 \r\nL 341.953336 144.523689 \r\nL 342.288471 143.315114 \r\nL 342.958742 152.959303 \r\nL 343.293877 157.583426 \r\nL 343.629012 159.040494 \r\nL 343.964147 162.154421 \r\nL 344.299282 161.437404 \r\nL 344.634417 161.773395 \r\nL 344.969552 163.277213 \r\nL 345.639823 158.633369 \r\nL 345.974958 158.117536 \r\nL 346.310093 161.175811 \r\nL 346.645228 158.834562 \r\nL 346.980363 158.875394 \r\nL 347.315498 158.502182 \r\nL 347.650633 159.069184 \r\nL 347.985769 161.514736 \r\nL 348.320904 163.084994 \r\nL 348.991174 152.727064 \r\nL 349.326309 151.320553 \r\nL 349.661444 147.293714 \r\nL 349.996579 150.338154 \r\nL 350.331715 148.30197 \r\nL 350.66685 147.343627 \r\nL 351.001985 143.373502 \r\nL 351.33712 141.446117 \r\nL 351.672255 137.738338 \r\nL 352.00739 137.386455 \r\nL 352.342525 139.053325 \r\nL 352.67766 138.850095 \r\nL 353.347931 133.398851 \r\nL 353.683066 135.256235 \r\nL 354.353336 139.547249 \r\nL 354.688471 140.507917 \r\nL 355.023606 145.341849 \r\nL 355.358742 143.169728 \r\nL 355.693877 142.10287 \r\nL 356.029012 142.774128 \r\nL 356.364147 145.634413 \r\nL 356.699282 146.161471 \r\nL 357.034417 142.384254 \r\nL 357.369552 145.661369 \r\nL 358.039823 149.42517 \r\nL 358.374958 153.002486 \r\nL 358.710093 149.237859 \r\nL 359.380363 152.356324 \r\nL 359.715498 149.488903 \r\nL 360.050633 148.989963 \r\nL 360.385769 148.72414 \r\nL 360.720904 148.736146 \r\nL 361.391174 146.378924 \r\nL 361.726309 147.017941 \r\nL 362.061444 142.601829 \r\nL 362.731715 138.790275 \r\nL 363.06685 141.335197 \r\nL 363.73712 143.59582 \r\nL 364.072255 143.272859 \r\nL 364.40739 145.357113 \r\nL 364.742525 148.53848 \r\nL 365.07766 146.171756 \r\nL 365.412796 140.430725 \r\nL 365.747931 139.361335 \r\nL 366.083066 136.552778 \r\nL 366.418201 137.940166 \r\nL 366.753336 137.192906 \r\nL 367.088471 138.010861 \r\nL 367.423606 136.404501 \r\nL 367.758742 133.458204 \r\nL 368.093877 136.523001 \r\nL 368.429012 131.020383 \r\nL 368.764147 132.214905 \r\nL 369.099282 131.248644 \r\nL 369.434417 132.350937 \r\nL 369.769552 135.702389 \r\nL 370.104688 134.210791 \r\nL 370.104688 134.210791 \r\n\" style=\"fill:none;stroke:#ff7f0e;stroke-linecap:square;stroke-width:1.5;\"/>\r\n   </g>\r\n   <g id=\"line2d_45\">\r\n    <path clip-path=\"url(#p5e84b2f083)\" d=\"M 35.304688 118.082992 \r\nL 35.639823 115.918256 \r\nL 35.974958 115.350572 \r\nL 36.310093 115.772888 \r\nL 36.645228 111.060236 \r\nL 36.980363 108.987431 \r\nL 37.315498 110.84836 \r\nL 37.650633 110.194224 \r\nL 37.985769 112.202549 \r\nL 38.320904 111.48351 \r\nL 38.656039 108.354141 \r\nL 38.991174 108.692152 \r\nL 39.326309 108.49561 \r\nL 39.996579 104.049503 \r\nL 40.66685 107.286498 \r\nL 41.001985 105.733515 \r\nL 41.33712 102.313424 \r\nL 42.00739 99.370475 \r\nL 42.342525 97.272956 \r\nL 42.67766 94.057909 \r\nL 43.012796 96.56658 \r\nL 43.683066 93.598171 \r\nL 44.018201 88.609598 \r\nL 44.353336 87.577037 \r\nL 45.023606 84.650297 \r\nL 45.358742 83.126194 \r\nL 45.693877 82.571863 \r\nL 46.029012 85.356092 \r\nL 46.364147 85.347656 \r\nL 46.699282 84.557121 \r\nL 47.034417 82.646438 \r\nL 47.704687 74.599979 \r\nL 48.039823 74.087204 \r\nL 48.374958 75.342452 \r\nL 48.710093 78.668387 \r\nL 49.045228 76.522653 \r\nL 49.380363 78.131258 \r\nL 49.715498 78.148992 \r\nL 50.050633 81.038414 \r\nL 50.385769 82.826597 \r\nL 50.720904 81.961771 \r\nL 51.056039 81.769561 \r\nL 51.391174 85.697979 \r\nL 51.726309 83.417857 \r\nL 52.061444 83.381058 \r\nL 52.396579 87.259308 \r\nL 52.731715 86.627643 \r\nL 53.06685 90.693882 \r\nL 53.401985 92.787356 \r\nL 53.73712 98.655025 \r\nL 54.072255 100.677849 \r\nL 54.40739 101.803679 \r\nL 54.742525 100.060543 \r\nL 55.07766 104.72048 \r\nL 55.412796 111.410424 \r\nL 55.747931 109.588925 \r\nL 56.753336 118.273836 \r\nL 57.088471 117.629144 \r\nL 57.423606 115.222728 \r\nL 57.758742 113.825289 \r\nL 58.764147 120.522574 \r\nL 59.099282 121.907579 \r\nL 59.434417 126.349788 \r\nL 59.769552 126.282444 \r\nL 60.104688 125.422352 \r\nL 60.439823 123.047055 \r\nL 61.110093 126.361951 \r\nL 61.445228 129.977218 \r\nL 61.780363 125.135383 \r\nL 62.115498 124.798389 \r\nL 62.450633 126.223102 \r\nL 63.120904 124.224944 \r\nL 63.456039 125.517678 \r\nL 63.791174 130.860168 \r\nL 64.126309 128.379205 \r\nL 64.461444 129.653364 \r\nL 64.796579 127.711844 \r\nL 65.131715 123.978412 \r\nL 65.46685 121.995587 \r\nL 65.801985 121.45339 \r\nL 66.472255 113.832374 \r\nL 66.80739 113.995967 \r\nL 67.142525 109.70095 \r\nL 67.47766 108.013566 \r\nL 67.812796 109.294709 \r\nL 68.147931 106.673836 \r\nL 68.483066 106.178745 \r\nL 68.818201 103.156865 \r\nL 69.153336 105.507229 \r\nL 69.488471 100.729493 \r\nL 69.823606 101.338122 \r\nL 70.158742 98.917824 \r\nL 70.493877 100.140002 \r\nL 70.829012 102.635341 \r\nL 71.164147 102.050279 \r\nL 71.499282 99.766503 \r\nL 71.834417 98.309709 \r\nL 72.504687 98.798929 \r\nL 72.839823 100.291112 \r\nL 73.174958 100.308546 \r\nL 73.510093 101.403778 \r\nL 73.845228 106.991233 \r\nL 74.180363 103.831467 \r\nL 74.515498 102.57665 \r\nL 74.850633 106.282177 \r\nL 75.185769 106.175643 \r\nL 75.520904 104.813401 \r\nL 75.856039 101.277557 \r\nL 76.191174 102.152504 \r\nL 76.526309 102.063051 \r\nL 76.861444 97.888145 \r\nL 77.196579 99.425424 \r\nL 77.531715 98.122876 \r\nL 77.86685 92.625403 \r\nL 78.201985 93.72355 \r\nL 78.53712 92.54453 \r\nL 78.872255 94.158687 \r\nL 79.20739 96.762486 \r\nL 79.542525 91.35095 \r\nL 79.87766 90.324999 \r\nL 80.212796 86.848633 \r\nL 80.547931 84.949988 \r\nL 80.883066 87.621638 \r\nL 81.553336 74.378227 \r\nL 81.888471 80.134068 \r\nL 82.223606 74.431895 \r\nL 82.558742 76.698878 \r\nL 82.893877 74.188727 \r\nL 83.229012 73.826172 \r\nL 83.564147 73.984443 \r\nL 83.899282 79.109515 \r\nL 84.234417 80.640288 \r\nL 84.904688 78.584089 \r\nL 85.239823 86.849996 \r\nL 85.574958 88.91217 \r\nL 85.910093 89.198051 \r\nL 86.245228 90.391889 \r\nL 86.580363 89.5943 \r\nL 86.915498 94.072868 \r\nL 87.250633 90.9073 \r\nL 87.585769 92.116047 \r\nL 87.920904 95.224438 \r\nL 88.256039 94.693712 \r\nL 88.591174 94.774618 \r\nL 88.926309 91.899192 \r\nL 89.261444 92.085058 \r\nL 89.596579 89.813515 \r\nL 89.931715 88.321296 \r\nL 90.26685 88.680061 \r\nL 90.601985 87.904098 \r\nL 90.93712 87.720036 \r\nL 91.272255 85.740819 \r\nL 91.60739 87.237846 \r\nL 92.27766 83.851082 \r\nL 92.612796 85.215244 \r\nL 92.947931 83.524786 \r\nL 93.618201 87.539996 \r\nL 94.288471 84.865312 \r\nL 94.958742 89.144659 \r\nL 95.293877 88.936652 \r\nL 95.629012 90.66353 \r\nL 95.964147 84.546453 \r\nL 96.299282 84.901383 \r\nL 96.634417 84.137147 \r\nL 96.969552 82.898109 \r\nL 97.304688 85.658194 \r\nL 97.639823 84.31437 \r\nL 97.974958 81.9346 \r\nL 98.310093 77.836455 \r\nL 99.315498 87.921078 \r\nL 99.650633 83.714605 \r\nL 99.985769 82.936714 \r\nL 100.320904 77.469997 \r\nL 100.656039 79.418338 \r\nL 100.991174 76.128573 \r\nL 101.326309 75.634228 \r\nL 101.661444 80.180028 \r\nL 101.996579 80.156639 \r\nL 102.66685 84.491755 \r\nL 103.001985 82.381933 \r\nL 103.33712 81.611192 \r\nL 103.672255 82.678922 \r\nL 104.00739 84.930002 \r\nL 104.342525 84.000427 \r\nL 104.67766 83.83291 \r\nL 105.012796 84.127633 \r\nL 105.347931 84.651601 \r\nL 105.683066 87.953129 \r\nL 106.018201 84.241133 \r\nL 106.353336 86.001477 \r\nL 106.688471 85.661572 \r\nL 107.693877 95.930945 \r\nL 108.029012 96.999909 \r\nL 108.364147 95.074973 \r\nL 108.699282 96.665161 \r\nL 109.034417 95.889871 \r\nL 109.369552 96.408523 \r\nL 110.374958 91.945316 \r\nL 110.710093 93.086638 \r\nL 111.045228 95.667955 \r\nL 111.380363 96.666419 \r\nL 111.715498 96.078344 \r\nL 112.050633 95.054792 \r\nL 112.385769 88.284157 \r\nL 113.056039 87.070659 \r\nL 113.391174 86.193188 \r\nL 113.726309 86.085227 \r\nL 114.396579 91.257243 \r\nL 114.731715 87.222 \r\nL 115.06685 88.416229 \r\nL 115.401985 91.79837 \r\nL 115.73712 93.277332 \r\nL 116.072255 96.899783 \r\nL 116.40739 103.947563 \r\nL 116.742525 106.278527 \r\nL 117.07766 106.825508 \r\nL 117.412796 106.871456 \r\nL 117.747931 107.322499 \r\nL 118.083066 105.423754 \r\nL 118.418201 107.335426 \r\nL 118.753336 105.099185 \r\nL 119.088471 105.944734 \r\nL 119.423606 104.862809 \r\nL 119.758742 102.235992 \r\nL 120.093877 102.11566 \r\nL 120.429012 101.354504 \r\nL 120.764147 97.633365 \r\nL 121.099282 97.25746 \r\nL 121.434417 97.66463 \r\nL 121.769552 97.724043 \r\nL 122.104688 99.921686 \r\nL 122.439823 98.925417 \r\nL 122.774958 97.534051 \r\nL 123.110093 98.656124 \r\nL 124.115498 94.210963 \r\nL 124.450633 93.597718 \r\nL 124.785769 94.985439 \r\nL 125.120904 92.073482 \r\nL 125.456039 91.433138 \r\nL 125.791174 93.498735 \r\nL 126.126309 96.684547 \r\nL 126.796579 100.321807 \r\nL 127.131715 102.749256 \r\nL 127.46685 100.804329 \r\nL 127.801985 96.025906 \r\nL 128.472255 97.245818 \r\nL 128.80739 93.676412 \r\nL 129.142525 92.824448 \r\nL 129.47766 93.402891 \r\nL 129.812796 90.905904 \r\nL 130.147931 85.815148 \r\nL 130.483066 88.287402 \r\nL 130.818201 88.062812 \r\nL 131.153336 81.523237 \r\nL 131.488471 83.453943 \r\nL 131.823606 86.198776 \r\nL 132.158742 84.121311 \r\nL 132.493877 84.463096 \r\nL 132.829012 87.136187 \r\nL 133.164147 88.522678 \r\nL 133.499282 82.833269 \r\nL 133.834417 80.197244 \r\nL 134.504687 70.323786 \r\nL 135.174958 74.694495 \r\nL 135.510093 69.311893 \r\nL 135.845228 70.684487 \r\nL 136.180363 73.782783 \r\nL 136.515498 68.586883 \r\nL 136.850633 72.591707 \r\nL 137.185769 74.638386 \r\nL 137.520904 73.086643 \r\nL 137.856039 77.679884 \r\nL 138.191174 77.260848 \r\nL 138.526309 79.195504 \r\nL 138.861444 77.074621 \r\nL 139.196579 83.805975 \r\nL 139.531715 83.988851 \r\nL 140.201985 75.372626 \r\nL 140.53712 76.120768 \r\nL 140.872255 81.216207 \r\nL 141.20739 76.754199 \r\nL 141.542525 74.182939 \r\nL 141.87766 75.055396 \r\nL 142.212796 77.785544 \r\nL 142.547931 78.817763 \r\nL 142.883066 75.128174 \r\nL 143.218201 78.436812 \r\nL 143.553336 78.153881 \r\nL 143.888471 75.983312 \r\nL 144.223606 70.041623 \r\nL 144.558742 73.069558 \r\nL 144.893877 77.466889 \r\nL 145.229012 72.001549 \r\nL 145.564147 77.036709 \r\nL 145.899282 76.829084 \r\nL 146.234417 76.242414 \r\nL 146.569552 72.063638 \r\nL 147.239823 80.178568 \r\nL 147.574958 81.281413 \r\nL 147.910093 81.022079 \r\nL 148.245228 77.992313 \r\nL 148.580363 78.820905 \r\nL 149.250633 74.191133 \r\nL 149.585769 77.083011 \r\nL 149.920904 75.421807 \r\nL 150.256039 72.387664 \r\nL 150.591174 74.928535 \r\nL 150.926309 78.35546 \r\nL 151.261444 74.82102 \r\nL 151.596579 76.835363 \r\nL 152.26685 71.019849 \r\nL 152.601985 74.204972 \r\nL 152.93712 74.561205 \r\nL 153.272255 77.374014 \r\nL 153.60739 75.407113 \r\nL 153.942525 80.713279 \r\nL 154.27766 83.929152 \r\nL 154.612796 85.560322 \r\nL 154.947931 85.901477 \r\nL 155.283066 82.723747 \r\nL 155.618201 77.439649 \r\nL 155.953336 78.839768 \r\nL 156.288471 78.358197 \r\nL 156.958742 82.260942 \r\nL 157.964147 88.172126 \r\nL 158.299282 88.579364 \r\nL 158.634417 94.279516 \r\nL 158.969552 93.821238 \r\nL 159.304688 94.582062 \r\nL 159.639823 95.780753 \r\nL 159.974958 88.49403 \r\nL 160.310093 85.18927 \r\nL 160.645228 80.77335 \r\nL 161.650633 74.251148 \r\nL 161.985769 70.731044 \r\nL 162.320904 71.770416 \r\nL 162.656039 74.793722 \r\nL 163.326309 73.839145 \r\nL 163.661444 71.622975 \r\nL 163.996579 71.742803 \r\nL 164.331715 70.435691 \r\nL 164.66685 71.883944 \r\nL 165.001985 71.865052 \r\nL 165.33712 70.657499 \r\nL 165.672255 71.59562 \r\nL 166.00739 71.547893 \r\nL 166.342525 73.555671 \r\nL 166.67766 73.509779 \r\nL 167.012796 74.832806 \r\nL 167.347931 74.409958 \r\nL 167.683066 68.915115 \r\nL 168.353336 62.54733 \r\nL 168.688471 61.281954 \r\nL 169.358742 60.080173 \r\nL 169.693877 64.671018 \r\nL 170.364147 58.493618 \r\nL 170.699282 51.302389 \r\nL 171.034417 54.810209 \r\nL 171.369552 56.278407 \r\nL 171.704687 58.833456 \r\nL 172.039823 51.526709 \r\nL 172.374958 48.825487 \r\nL 172.710093 49.687868 \r\nL 173.045228 51.806142 \r\nL 173.715498 52.86387 \r\nL 174.050633 54.28504 \r\nL 174.385769 52.607922 \r\nL 174.720904 49.909087 \r\nL 175.056039 49.318471 \r\nL 175.391174 51.495007 \r\nL 175.726309 56.57274 \r\nL 176.061444 54.97362 \r\nL 176.396579 56.771012 \r\nL 176.731715 55.433308 \r\nL 177.06685 56.020326 \r\nL 177.401985 58.557304 \r\nL 177.73712 59.11626 \r\nL 178.072255 57.987126 \r\nL 178.742525 64.651273 \r\nL 179.07766 64.936292 \r\nL 179.412796 61.783068 \r\nL 179.747931 61.76782 \r\nL 180.083066 64.977632 \r\nL 180.418201 67.029132 \r\nL 180.753336 66.744116 \r\nL 181.088471 63.475404 \r\nL 181.423606 66.143426 \r\nL 181.758742 65.683579 \r\nL 182.093877 67.051332 \r\nL 182.429012 69.517218 \r\nL 183.099282 64.670421 \r\nL 183.434417 65.834399 \r\nL 183.769552 63.601706 \r\nL 184.774958 74.163067 \r\nL 185.110093 76.009112 \r\nL 185.780363 84.307539 \r\nL 186.115498 77.817897 \r\nL 186.450633 78.654264 \r\nL 186.785769 77.087923 \r\nL 187.120904 77.762742 \r\nL 187.456039 71.099283 \r\nL 187.791174 71.555641 \r\nL 188.126309 68.779207 \r\nL 188.461444 69.766479 \r\nL 188.796579 64.061033 \r\nL 189.131715 64.658369 \r\nL 189.46685 61.89115 \r\nL 190.13712 66.032228 \r\nL 190.472255 61.428365 \r\nL 190.80739 66.7688 \r\nL 191.142525 69.240522 \r\nL 191.47766 63.039685 \r\nL 191.812796 68.330293 \r\nL 192.147931 67.015116 \r\nL 192.483066 67.592593 \r\nL 192.818201 73.901357 \r\nL 193.153336 70.839189 \r\nL 193.488471 65.984427 \r\nL 193.823606 64.914327 \r\nL 194.158742 64.880502 \r\nL 194.493877 61.849497 \r\nL 194.829012 61.810175 \r\nL 195.164147 61.030648 \r\nL 195.499282 59.149777 \r\nL 195.834417 61.995574 \r\nL 196.169552 59.578219 \r\nL 196.504687 59.774822 \r\nL 196.839823 57.803773 \r\nL 197.174958 60.175397 \r\nL 197.510093 59.453688 \r\nL 198.180363 63.698897 \r\nL 198.515498 64.687969 \r\nL 198.850633 61.905544 \r\nL 199.185769 60.895227 \r\nL 199.520904 56.493056 \r\nL 199.856039 58.328635 \r\nL 200.191174 55.41 \r\nL 200.526309 54.23574 \r\nL 200.861444 55.559779 \r\nL 201.196579 58.889431 \r\nL 201.531715 58.305102 \r\nL 201.86685 61.499066 \r\nL 202.201985 60.252503 \r\nL 202.53712 63.128391 \r\nL 202.872255 60.965548 \r\nL 203.20739 61.996177 \r\nL 203.542525 65.597771 \r\nL 203.87766 63.507097 \r\nL 204.212796 62.91798 \r\nL 204.547931 63.218982 \r\nL 204.883066 67.940721 \r\nL 205.218201 68.182945 \r\nL 205.553336 64.515019 \r\nL 205.888471 62.110754 \r\nL 206.223606 60.858927 \r\nL 206.558742 64.621197 \r\nL 206.893877 63.618602 \r\nL 207.564147 59.770961 \r\nL 207.899282 59.28024 \r\nL 208.234417 60.582729 \r\nL 208.569552 60.577434 \r\nL 208.904688 65.331032 \r\nL 209.239823 66.396042 \r\nL 209.574958 63.677158 \r\nL 209.910093 63.214487 \r\nL 210.245228 57.193297 \r\nL 210.580363 56.58429 \r\nL 210.915498 57.404211 \r\nL 211.250633 55.298299 \r\nL 211.585769 56.286298 \r\nL 211.920904 53.252674 \r\nL 212.256039 52.247017 \r\nL 212.926309 58.556143 \r\nL 213.261444 57.624322 \r\nL 213.596579 55.021607 \r\nL 213.931715 54.756389 \r\nL 214.26685 52.477555 \r\nL 214.93712 50.080707 \r\nL 215.60739 53.48311 \r\nL 215.942525 57.955901 \r\nL 216.27766 56.336251 \r\nL 216.612796 56.441257 \r\nL 217.283066 58.248735 \r\nL 217.618201 57.817402 \r\nL 217.953336 59.684817 \r\nL 218.288471 58.378123 \r\nL 218.623606 61.317426 \r\nL 219.293877 57.732811 \r\nL 219.629012 57.561621 \r\nL 219.964147 59.119975 \r\nL 220.299282 62.721229 \r\nL 220.634417 61.538605 \r\nL 220.969552 59.652465 \r\nL 221.304688 58.966232 \r\nL 221.639823 60.001362 \r\nL 221.974958 62.106872 \r\nL 222.310093 61.020058 \r\nL 222.645228 55.662555 \r\nL 222.980363 56.687417 \r\nL 223.315498 56.489029 \r\nL 223.985769 52.824649 \r\nL 224.320904 52.905385 \r\nL 224.656039 53.649293 \r\nL 224.991174 52.498992 \r\nL 225.326309 48.986845 \r\nL 225.661444 49.394014 \r\nL 225.996579 46.975618 \r\nL 226.331715 43.552832 \r\nL 226.66685 42.233804 \r\nL 227.001985 45.817479 \r\nL 227.33712 45.757657 \r\nL 227.672255 45.210496 \r\nL 228.00739 49.47143 \r\nL 228.342525 51.910169 \r\nL 228.67766 52.966745 \r\nL 229.012796 50.455369 \r\nL 230.018201 37.992762 \r\nL 230.353336 36.91382 \r\nL 230.688471 36.292594 \r\nL 231.023606 35.088233 \r\nL 231.358742 33.257706 \r\nL 231.693877 40.464214 \r\nL 232.029012 33.29979 \r\nL 232.699282 30.085912 \r\nL 233.034417 30.44747 \r\nL 233.369552 24.846948 \r\nL 233.704687 25.604661 \r\nL 234.039823 22.600239 \r\nL 234.374958 29.495978 \r\nL 234.710093 29.329157 \r\nL 235.045228 28.92297 \r\nL 235.380363 29.615244 \r\nL 235.715498 25.368977 \r\nL 236.050633 24.688217 \r\nL 236.385769 29.076411 \r\nL 236.720904 27.870103 \r\nL 237.056039 27.523227 \r\nL 237.391174 30.46759 \r\nL 237.726309 27.418205 \r\nL 238.061444 28.003116 \r\nL 238.731715 31.408701 \r\nL 239.06685 31.644141 \r\nL 239.73712 29.539075 \r\nL 240.072255 22.71733 \r\nL 240.742525 24.861401 \r\nL 241.07766 24.665231 \r\nL 241.412796 24.303587 \r\nL 241.747931 25.30646 \r\nL 242.418201 20.009153 \r\nL 242.753336 17.083636 \r\nL 243.088471 23.557443 \r\nL 243.423606 26.966472 \r\nL 243.758742 25.873234 \r\nL 244.093877 22.845368 \r\nL 244.429012 21.296289 \r\nL 244.764147 18.012617 \r\nL 245.099282 17.447162 \r\nL 245.434417 20.23639 \r\nL 245.769552 19.472515 \r\nL 246.104688 20.755716 \r\nL 246.439823 23.210371 \r\nL 246.774958 21.471391 \r\nL 247.445228 28.74197 \r\nL 247.780363 29.120712 \r\nL 248.115498 27.507345 \r\nL 248.450633 30.835561 \r\nL 249.120904 27.566234 \r\nL 249.456039 27.477454 \r\nL 249.791174 28.445775 \r\nL 250.126309 31.745941 \r\nL 250.461444 33.06519 \r\nL 251.131715 30.500413 \r\nL 251.46685 26.978342 \r\nL 251.801985 30.793204 \r\nL 252.472255 31.971986 \r\nL 252.80739 33.038216 \r\nL 253.142525 30.880645 \r\nL 253.47766 32.957765 \r\nL 253.812796 32.011305 \r\nL 254.147931 33.162409 \r\nL 254.483066 30.031953 \r\nL 254.818201 29.037498 \r\nL 255.153336 29.693098 \r\nL 255.488471 31.306741 \r\nL 255.823606 37.434105 \r\nL 256.158742 33.630682 \r\nL 256.493877 33.731149 \r\nL 256.829012 34.031882 \r\nL 257.164147 32.187449 \r\nL 257.499282 34.217244 \r\nL 257.834417 35.443324 \r\nL 258.169552 38.657108 \r\nL 258.504687 37.7734 \r\nL 258.839823 36.069039 \r\nL 259.174958 36.762372 \r\nL 259.510093 34.563871 \r\nL 259.845228 30.647687 \r\nL 260.180363 31.349114 \r\nL 260.515498 26.931361 \r\nL 260.850633 30.998855 \r\nL 261.185769 37.470758 \r\nL 261.520904 38.859168 \r\nL 261.856039 41.644964 \r\nL 262.191174 34.744224 \r\nL 262.526309 33.83476 \r\nL 262.861444 35.006094 \r\nL 263.531715 30.493081 \r\nL 263.86685 35.187404 \r\nL 264.201985 33.73913 \r\nL 264.53712 36.339188 \r\nL 264.872255 39.944894 \r\nL 265.20739 39.595894 \r\nL 265.542525 39.424548 \r\nL 265.87766 40.230339 \r\nL 266.212796 36.992508 \r\nL 266.547931 39.781376 \r\nL 266.883066 45.460019 \r\nL 267.218201 42.79644 \r\nL 267.553336 39.083781 \r\nL 267.888471 33.259269 \r\nL 268.223606 32.392865 \r\nL 268.558742 35.385321 \r\nL 269.229012 34.620415 \r\nL 269.564147 40.306743 \r\nL 269.899282 39.593704 \r\nL 270.569552 41.008479 \r\nL 271.239823 44.240867 \r\nL 271.574958 43.692915 \r\nL 271.910093 43.900056 \r\nL 272.245228 45.574512 \r\nL 272.580363 46.609005 \r\nL 273.250633 52.599109 \r\nL 273.585769 51.940085 \r\nL 273.920904 50.28627 \r\nL 274.256039 50.430757 \r\nL 274.926309 57.829338 \r\nL 275.261444 53.212935 \r\nL 275.596579 55.96143 \r\nL 275.931715 54.793442 \r\nL 276.26685 50.354692 \r\nL 276.601985 51.865627 \r\nL 276.93712 51.775028 \r\nL 277.272255 48.921203 \r\nL 277.942525 41.88516 \r\nL 278.947931 46.372189 \r\nL 279.283066 53.207409 \r\nL 279.953336 46.537461 \r\nL 280.288471 50.36994 \r\nL 280.623606 49.686976 \r\nL 280.958742 49.629988 \r\nL 281.293877 50.843825 \r\nL 281.629012 48.88072 \r\nL 281.964147 51.79999 \r\nL 282.299282 51.464111 \r\nL 282.634417 54.946206 \r\nL 282.969552 57.035241 \r\nL 283.639823 53.176514 \r\nL 283.974958 54.444295 \r\nL 284.310093 62.105151 \r\nL 284.645228 64.362859 \r\nL 284.980363 62.212254 \r\nL 285.315498 62.515245 \r\nL 285.650633 65.381906 \r\nL 285.985769 62.651931 \r\nL 286.320904 68.37542 \r\nL 286.991174 71.926942 \r\nL 287.326309 70.500147 \r\nL 288.331715 64.122057 \r\nL 288.66685 63.776612 \r\nL 289.001985 64.840798 \r\nL 289.33712 63.279552 \r\nL 289.672255 60.716891 \r\nL 290.00739 61.883514 \r\nL 290.342525 65.785638 \r\nL 290.67766 67.599249 \r\nL 291.012796 65.81339 \r\nL 291.347931 66.551027 \r\nL 291.683066 69.266327 \r\nL 292.018201 76.127732 \r\nL 292.353336 74.733577 \r\nL 293.023606 67.923116 \r\nL 293.358742 67.607638 \r\nL 293.693877 68.891888 \r\nL 294.029012 69.518998 \r\nL 294.364147 69.451154 \r\nL 294.699282 67.917916 \r\nL 295.034417 69.566697 \r\nL 295.369552 66.539367 \r\nL 295.704687 64.991007 \r\nL 296.039823 62.489125 \r\nL 296.374958 67.147105 \r\nL 296.710093 65.050295 \r\nL 297.045228 65.186671 \r\nL 297.380363 68.714895 \r\nL 298.050633 70.281365 \r\nL 298.385769 66.872092 \r\nL 299.056039 69.152082 \r\nL 299.391174 75.147521 \r\nL 300.061444 81.62008 \r\nL 300.396579 76.427072 \r\nL 300.731715 79.156406 \r\nL 301.06685 77.579206 \r\nL 301.401985 75.030853 \r\nL 301.73712 78.267935 \r\nL 302.072255 83.978773 \r\nL 302.40739 86.12033 \r\nL 302.742525 85.240067 \r\nL 303.07766 80.689394 \r\nL 303.412796 81.959345 \r\nL 304.083066 88.95111 \r\nL 304.418201 85.589191 \r\nL 304.753336 86.441867 \r\nL 305.088471 91.870876 \r\nL 305.423606 84.348167 \r\nL 305.758742 84.39665 \r\nL 306.429012 81.380905 \r\nL 306.764147 78.414582 \r\nL 307.099282 81.032659 \r\nL 307.434417 86.139575 \r\nL 307.769552 85.951892 \r\nL 308.104688 87.197709 \r\nL 308.439823 81.078892 \r\nL 309.445228 85.984944 \r\nL 309.780363 83.180941 \r\nL 310.450633 92.347258 \r\nL 310.785769 91.523348 \r\nL 311.120904 95.820409 \r\nL 311.791174 90.966141 \r\nL 312.126309 92.495772 \r\nL 312.461444 92.520378 \r\nL 312.796579 91.206659 \r\nL 313.46685 86.89848 \r\nL 313.801985 89.456155 \r\nL 314.13712 88.447777 \r\nL 314.472255 88.10158 \r\nL 314.80739 82.974684 \r\nL 315.142525 82.465663 \r\nL 315.47766 80.339838 \r\nL 315.812796 79.380198 \r\nL 316.483066 74.428191 \r\nL 316.818201 72.856119 \r\nL 317.153336 75.442504 \r\nL 317.488471 74.845931 \r\nL 318.158742 68.50028 \r\nL 318.493877 69.232822 \r\nL 318.829012 66.523858 \r\nL 319.164147 65.142611 \r\nL 319.499282 69.291925 \r\nL 319.834417 71.878891 \r\nL 320.169552 76.729837 \r\nL 320.504687 75.749274 \r\nL 321.174958 79.770304 \r\nL 321.510093 78.318926 \r\nL 321.845228 79.909017 \r\nL 322.180363 80.649158 \r\nL 322.515498 77.783688 \r\nL 322.850633 80.949552 \r\nL 323.185769 78.068326 \r\nL 323.520904 78.767246 \r\nL 323.856039 77.480932 \r\nL 324.191174 79.089186 \r\nL 324.861444 73.864668 \r\nL 325.196579 76.491463 \r\nL 325.531715 80.765203 \r\nL 325.86685 81.872619 \r\nL 326.201985 80.419237 \r\nL 326.53712 80.474728 \r\nL 327.20739 72.796183 \r\nL 327.542525 77.467478 \r\nL 327.87766 72.387165 \r\nL 328.212796 70.994987 \r\nL 328.547931 66.548796 \r\nL 328.883066 67.050254 \r\nL 329.218201 68.065715 \r\nL 329.553336 65.932085 \r\nL 329.888471 73.320243 \r\nL 330.223606 76.106344 \r\nL 330.558742 76.510568 \r\nL 330.893877 76.075735 \r\nL 331.229012 76.576977 \r\nL 331.564147 77.582069 \r\nL 331.899282 75.593791 \r\nL 332.569552 78.85236 \r\nL 332.904688 79.628758 \r\nL 334.245228 66.750361 \r\nL 334.580363 67.928582 \r\nL 334.915498 65.68821 \r\nL 335.585769 60.212278 \r\nL 335.920904 59.644028 \r\nL 336.256039 59.744729 \r\nL 336.591174 58.881326 \r\nL 336.926309 54.830557 \r\nL 337.261444 57.996649 \r\nL 337.596579 57.1682 \r\nL 337.931715 54.544413 \r\nL 338.26685 55.575067 \r\nL 338.601985 60.502143 \r\nL 338.93712 58.439941 \r\nL 339.272255 59.806959 \r\nL 339.60739 57.623312 \r\nL 339.942525 60.177707 \r\nL 340.27766 63.847305 \r\nL 340.612796 63.481051 \r\nL 340.947931 61.602595 \r\nL 341.283066 65.132342 \r\nL 341.618201 65.025363 \r\nL 341.953336 63.304867 \r\nL 342.288471 62.279878 \r\nL 342.623606 63.050038 \r\nL 343.293877 66.584236 \r\nL 343.629012 67.67058 \r\nL 343.964147 71.216109 \r\nL 344.299282 64.990849 \r\nL 344.634417 64.46341 \r\nL 344.969552 67.986743 \r\nL 345.304688 65.453482 \r\nL 345.639823 60.049842 \r\nL 345.974958 61.427499 \r\nL 346.310093 54.462238 \r\nL 346.645228 56.252506 \r\nL 346.980363 55.31019 \r\nL 347.650633 61.075913 \r\nL 347.985769 58.184388 \r\nL 348.991174 54.573455 \r\nL 349.661444 62.177403 \r\nL 349.996579 60.398051 \r\nL 350.331715 62.343772 \r\nL 350.66685 60.774875 \r\nL 351.001985 61.071587 \r\nL 351.33712 58.994114 \r\nL 351.672255 62.4597 \r\nL 352.00739 61.067481 \r\nL 352.342525 65.19562 \r\nL 352.67766 65.53033 \r\nL 353.012796 59.224157 \r\nL 353.347931 62.201098 \r\nL 353.683066 63.626091 \r\nL 354.018201 60.623012 \r\nL 354.353336 62.750353 \r\nL 354.688471 56.776725 \r\nL 355.023606 48.381234 \r\nL 355.358742 49.510969 \r\nL 355.693877 51.950238 \r\nL 356.029012 48.766573 \r\nL 356.364147 49.698339 \r\nL 356.699282 48.052443 \r\nL 357.034417 45.738421 \r\nL 357.369552 51.590636 \r\nL 357.704687 51.238655 \r\nL 358.039823 54.172021 \r\nL 358.710093 50.236129 \r\nL 359.045228 51.274784 \r\nL 359.380363 57.035802 \r\nL 359.715498 58.679577 \r\nL 360.050633 58.657827 \r\nL 360.385769 58.480414 \r\nL 360.720904 53.239464 \r\nL 361.056039 58.385059 \r\nL 361.726309 63.971812 \r\nL 362.061444 69.486725 \r\nL 362.396579 68.645932 \r\nL 362.731715 65.973982 \r\nL 363.06685 67.68602 \r\nL 363.401985 59.270005 \r\nL 363.73712 56.567007 \r\nL 364.072255 57.262565 \r\nL 364.742525 50.966959 \r\nL 365.07766 55.609427 \r\nL 365.412796 53.399479 \r\nL 365.747931 46.535752 \r\nL 366.083066 47.269809 \r\nL 366.418201 50.701284 \r\nL 366.753336 47.432662 \r\nL 367.088471 47.018592 \r\nL 367.423606 49.095609 \r\nL 367.758742 54.937899 \r\nL 368.093877 55.98568 \r\nL 368.429012 54.727361 \r\nL 369.099282 57.21175 \r\nL 369.434417 59.533448 \r\nL 369.769552 59.761896 \r\nL 370.104688 57.33545 \r\nL 370.104688 57.33545 \r\n\" style=\"fill:none;stroke:#2ca02c;stroke-linecap:square;stroke-width:1.5;\"/>\r\n   </g>\r\n   <g id=\"line2d_46\">\r\n    <path clip-path=\"url(#p5e84b2f083)\" d=\"M 35.304688 109.823408 \r\nL 35.639823 112.999348 \r\nL 35.974958 110.044876 \r\nL 36.310093 111.102138 \r\nL 36.645228 108.979107 \r\nL 36.980363 111.142265 \r\nL 37.315498 109.669148 \r\nL 37.650633 109.1154 \r\nL 38.320904 114.87092 \r\nL 38.656039 114.396547 \r\nL 38.991174 113.297217 \r\nL 39.326309 113.461032 \r\nL 39.661444 112.463221 \r\nL 39.996579 115.282027 \r\nL 40.331715 112.1773 \r\nL 40.66685 111.20487 \r\nL 41.001985 106.325618 \r\nL 41.33712 103.318728 \r\nL 41.672255 103.080662 \r\nL 42.00739 103.140259 \r\nL 42.342525 101.533606 \r\nL 42.67766 102.198721 \r\nL 43.012796 104.601382 \r\nL 43.347931 103.073629 \r\nL 44.018201 109.155505 \r\nL 44.353336 105.744513 \r\nL 44.688471 105.501587 \r\nL 45.023606 106.008815 \r\nL 45.358742 103.138317 \r\nL 45.693877 105.249156 \r\nL 46.029012 106.593942 \r\nL 46.364147 106.713137 \r\nL 46.699282 107.887423 \r\nL 47.034417 109.780791 \r\nL 47.369552 108.791451 \r\nL 47.704687 110.887551 \r\nL 48.039823 117.680725 \r\nL 48.374958 118.788369 \r\nL 48.710093 119.27362 \r\nL 49.045228 120.660026 \r\nL 49.380363 123.654238 \r\nL 49.715498 120.343409 \r\nL 50.050633 118.428554 \r\nL 50.720904 116.960507 \r\nL 51.056039 116.949244 \r\nL 52.396579 111.183527 \r\nL 52.731715 115.841281 \r\nL 53.06685 114.840428 \r\nL 53.401985 112.185578 \r\nL 53.73712 107.391683 \r\nL 54.072255 108.25916 \r\nL 54.40739 106.282907 \r\nL 54.742525 109.197635 \r\nL 55.07766 113.578299 \r\nL 55.412796 108.867645 \r\nL 55.747931 109.638465 \r\nL 56.083066 114.524983 \r\nL 56.418201 110.910316 \r\nL 56.753336 110.970139 \r\nL 57.088471 112.68182 \r\nL 57.423606 113.246116 \r\nL 57.758742 112.526473 \r\nL 58.093877 112.336803 \r\nL 58.429012 114.071713 \r\nL 58.764147 114.182047 \r\nL 59.099282 115.412626 \r\nL 59.434417 114.714609 \r\nL 59.769552 111.32794 \r\nL 60.104688 111.856215 \r\nL 60.439823 112.021817 \r\nL 60.774958 110.206413 \r\nL 61.445228 113.833834 \r\nL 62.115498 103.884872 \r\nL 62.450633 106.35255 \r\nL 62.785769 103.83232 \r\nL 63.120904 102.851507 \r\nL 63.456039 107.6673 \r\nL 63.791174 107.876595 \r\nL 64.126309 106.571146 \r\nL 64.461444 103.769088 \r\nL 64.796579 108.005378 \r\nL 65.131715 108.634974 \r\nL 65.46685 111.514922 \r\nL 65.801985 105.089066 \r\nL 66.13712 108.429012 \r\nL 66.472255 110.178085 \r\nL 67.142525 115.879027 \r\nL 67.812796 104.746101 \r\nL 68.147931 101.266228 \r\nL 68.483066 100.168835 \r\nL 68.818201 100.440865 \r\nL 69.153336 100.438006 \r\nL 69.488471 97.677796 \r\nL 70.158742 88.741823 \r\nL 70.829012 83.176549 \r\nL 71.164147 86.057996 \r\nL 71.499282 85.807484 \r\nL 71.834417 83.544545 \r\nL 72.169552 87.774838 \r\nL 72.504687 88.203647 \r\nL 72.839823 91.042547 \r\nL 73.174958 96.755715 \r\nL 73.510093 98.244318 \r\nL 73.845228 96.687496 \r\nL 74.180363 94.125086 \r\nL 74.515498 90.480413 \r\nL 74.850633 95.108872 \r\nL 75.185769 97.719236 \r\nL 75.520904 96.174678 \r\nL 75.856039 94.054788 \r\nL 76.191174 95.929816 \r\nL 76.526309 99.482193 \r\nL 76.861444 101.006015 \r\nL 77.196579 100.57321 \r\nL 77.531715 102.071562 \r\nL 78.872255 85.121259 \r\nL 79.20739 88.151927 \r\nL 79.542525 92.522928 \r\nL 79.87766 91.89035 \r\nL 80.212796 90.099769 \r\nL 80.547931 85.484154 \r\nL 80.883066 85.471758 \r\nL 81.218201 88.508237 \r\nL 81.553336 80.539693 \r\nL 81.888471 77.070048 \r\nL 82.223606 70.271135 \r\nL 82.558742 67.936286 \r\nL 82.893877 68.887623 \r\nL 83.229012 76.018873 \r\nL 83.564147 76.414601 \r\nL 83.899282 72.862112 \r\nL 84.234417 67.631892 \r\nL 84.569552 65.229197 \r\nL 84.904688 64.314684 \r\nL 85.239823 64.532149 \r\nL 85.574958 65.328175 \r\nL 85.910093 62.201524 \r\nL 86.245228 61.245699 \r\nL 86.580363 59.608839 \r\nL 86.915498 63.281739 \r\nL 87.250633 65.082102 \r\nL 87.585769 67.545449 \r\nL 88.256039 73.82584 \r\nL 88.591174 74.844338 \r\nL 88.926309 78.609 \r\nL 89.261444 78.691217 \r\nL 89.596579 81.348931 \r\nL 89.931715 80.510073 \r\nL 90.26685 79.141912 \r\nL 90.601985 82.364888 \r\nL 90.93712 81.29883 \r\nL 91.272255 80.948555 \r\nL 91.942525 84.061121 \r\nL 92.27766 88.406028 \r\nL 92.612796 86.614245 \r\nL 93.618201 93.672724 \r\nL 93.953336 94.922757 \r\nL 94.288471 98.604778 \r\nL 94.623606 94.63829 \r\nL 95.293877 97.693442 \r\nL 95.629012 97.271564 \r\nL 95.964147 98.688285 \r\nL 96.299282 95.517018 \r\nL 96.969552 98.791957 \r\nL 97.304688 101.065855 \r\nL 97.639823 105.171457 \r\nL 97.974958 99.469076 \r\nL 98.310093 99.383954 \r\nL 98.645228 97.880064 \r\nL 98.980363 103.475548 \r\nL 99.315498 105.502951 \r\nL 99.650633 104.088951 \r\nL 99.985769 103.5193 \r\nL 100.320904 103.768145 \r\nL 100.656039 103.799505 \r\nL 100.991174 105.307891 \r\nL 101.326309 103.181669 \r\nL 101.661444 104.071114 \r\nL 101.996579 103.702527 \r\nL 102.331715 103.674781 \r\nL 102.66685 108.039891 \r\nL 103.001985 103.884794 \r\nL 103.672255 99.392137 \r\nL 104.00739 98.22261 \r\nL 104.342525 98.785503 \r\nL 105.012796 93.731925 \r\nL 105.347931 95.490965 \r\nL 106.018201 101.800373 \r\nL 106.353336 103.214894 \r\nL 106.688471 110.13393 \r\nL 107.023606 106.583447 \r\nL 107.358742 107.149743 \r\nL 107.693877 106.880363 \r\nL 108.364147 112.879398 \r\nL 108.699282 110.454319 \r\nL 109.034417 110.235823 \r\nL 109.369552 114.459273 \r\nL 109.704687 116.888949 \r\nL 110.039823 114.550963 \r\nL 110.374958 121.54373 \r\nL 110.710093 122.161302 \r\nL 111.045228 119.457485 \r\nL 111.380363 121.152139 \r\nL 111.715498 121.82788 \r\nL 112.050633 120.99768 \r\nL 112.385769 123.442578 \r\nL 112.720904 121.021752 \r\nL 113.056039 121.843685 \r\nL 113.391174 121.291562 \r\nL 113.726309 117.462986 \r\nL 114.061444 117.836776 \r\nL 114.396579 119.886268 \r\nL 114.731715 123.827028 \r\nL 115.06685 125.148814 \r\nL 115.73712 117.423683 \r\nL 116.072255 119.040711 \r\nL 116.40739 124.607431 \r\nL 116.742525 125.490595 \r\nL 117.412796 119.275153 \r\nL 117.747931 118.798113 \r\nL 118.418201 127.034865 \r\nL 118.753336 124.277475 \r\nL 119.423606 113.907588 \r\nL 119.758742 117.513959 \r\nL 120.429012 115.997602 \r\nL 120.764147 120.462366 \r\nL 121.099282 119.750702 \r\nL 121.434417 115.228482 \r\nL 121.769552 114.053336 \r\nL 122.104688 121.106183 \r\nL 122.439823 123.278112 \r\nL 122.774958 120.756891 \r\nL 123.110093 120.49993 \r\nL 123.445228 119.593249 \r\nL 123.780363 117.839224 \r\nL 124.115498 120.468262 \r\nL 124.785769 123.149862 \r\nL 125.120904 122.120835 \r\nL 125.456039 124.611129 \r\nL 125.791174 118.671151 \r\nL 126.796579 107.691659 \r\nL 127.46685 110.884785 \r\nL 127.801985 106.370712 \r\nL 128.13712 105.120135 \r\nL 128.472255 107.188918 \r\nL 129.142525 101.210347 \r\nL 129.47766 95.125492 \r\nL 129.812796 100.385539 \r\nL 130.147931 99.751264 \r\nL 130.483066 102.576492 \r\nL 130.818201 94.386262 \r\nL 131.153336 94.169469 \r\nL 131.488471 98.550478 \r\nL 131.823606 94.954139 \r\nL 132.158742 94.062822 \r\nL 132.493877 95.245067 \r\nL 132.829012 94.825048 \r\nL 133.164147 95.728893 \r\nL 133.499282 94.954152 \r\nL 134.169552 89.305892 \r\nL 134.504687 90.48625 \r\nL 134.839823 94.254627 \r\nL 135.510093 90.04234 \r\nL 135.845228 93.07432 \r\nL 136.515498 89.254613 \r\nL 136.850633 92.367079 \r\nL 137.185769 87.08669 \r\nL 137.856039 84.370807 \r\nL 138.191174 86.476475 \r\nL 138.526309 90.180171 \r\nL 138.861444 91.987065 \r\nL 139.196579 89.737044 \r\nL 139.531715 89.271885 \r\nL 139.86685 90.766164 \r\nL 140.201985 90.117706 \r\nL 140.53712 85.896378 \r\nL 140.872255 87.426989 \r\nL 141.20739 85.931094 \r\nL 141.542525 86.668436 \r\nL 141.87766 90.508062 \r\nL 142.212796 87.735515 \r\nL 142.547931 89.105337 \r\nL 142.883066 88.291301 \r\nL 143.218201 87.152394 \r\nL 143.553336 89.969712 \r\nL 143.888471 90.678374 \r\nL 144.223606 86.268548 \r\nL 144.558742 87.60166 \r\nL 144.893877 84.628435 \r\nL 145.229012 87.354473 \r\nL 145.899282 81.700383 \r\nL 146.569552 89.742439 \r\nL 146.904688 86.502174 \r\nL 147.574958 74.59862 \r\nL 147.910093 69.943641 \r\nL 148.245228 73.860463 \r\nL 148.580363 68.755344 \r\nL 148.915498 73.138291 \r\nL 149.250633 66.0661 \r\nL 149.585769 62.533045 \r\nL 149.920904 62.074238 \r\nL 150.256039 62.81442 \r\nL 150.591174 60.945226 \r\nL 150.926309 59.801086 \r\nL 151.261444 60.40705 \r\nL 151.596579 57.104278 \r\nL 151.931715 57.931471 \r\nL 152.26685 56.800711 \r\nL 152.601985 52.773692 \r\nL 152.93712 54.699155 \r\nL 153.60739 49.937729 \r\nL 153.942525 50.933311 \r\nL 154.27766 45.625654 \r\nL 154.612796 46.154956 \r\nL 154.947931 44.783871 \r\nL 155.283066 41.615707 \r\nL 155.618201 45.08748 \r\nL 155.953336 45.642609 \r\nL 156.288471 49.043937 \r\nL 156.623606 50.311095 \r\nL 156.958742 50.857831 \r\nL 157.293877 48.521691 \r\nL 157.629012 50.491325 \r\nL 157.964147 51.055814 \r\nL 158.299282 53.902171 \r\nL 158.634417 52.80076 \r\nL 158.969552 52.183801 \r\nL 159.974958 38.830691 \r\nL 160.310093 39.688489 \r\nL 160.980363 36.540179 \r\nL 161.315498 33.769614 \r\nL 161.650633 33.606695 \r\nL 161.985769 33.98099 \r\nL 162.320904 35.158294 \r\nL 162.656039 38.642214 \r\nL 162.991174 37.460667 \r\nL 163.326309 33.615882 \r\nL 163.661444 36.380165 \r\nL 164.331715 44.160129 \r\nL 164.66685 41.357829 \r\nL 165.001985 41.683637 \r\nL 165.33712 38.434379 \r\nL 165.672255 39.850422 \r\nL 166.00739 39.174756 \r\nL 166.342525 41.346585 \r\nL 166.67766 45.950056 \r\nL 167.012796 44.347206 \r\nL 167.347931 47.334883 \r\nL 167.683066 47.080754 \r\nL 168.018201 44.970757 \r\nL 168.353336 46.014592 \r\nL 168.688471 40.684066 \r\nL 169.023606 42.727529 \r\nL 169.358742 36.973327 \r\nL 169.693877 36.722535 \r\nL 170.029012 37.332944 \r\nL 170.364147 37.653094 \r\nL 170.699282 36.678721 \r\nL 171.034417 41.092414 \r\nL 171.369552 42.911049 \r\nL 171.704687 39.898819 \r\nL 172.039823 40.310607 \r\nL 172.374958 43.18066 \r\nL 172.710093 40.912142 \r\nL 173.045228 42.237217 \r\nL 173.380363 39.678835 \r\nL 173.715498 39.97884 \r\nL 174.050633 38.967105 \r\nL 174.385769 41.065797 \r\nL 174.720904 40.4594 \r\nL 175.056039 40.573047 \r\nL 175.391174 39.512223 \r\nL 175.726309 43.014852 \r\nL 176.061444 41.054941 \r\nL 176.396579 38.08375 \r\nL 176.731715 39.644551 \r\nL 177.06685 37.624828 \r\nL 177.401985 39.876239 \r\nL 177.73712 40.416828 \r\nL 178.072255 41.425753 \r\nL 178.40739 40.234083 \r\nL 179.07766 43.470052 \r\nL 179.412796 46.605254 \r\nL 179.747931 45.128558 \r\nL 180.418201 51.85481 \r\nL 180.753336 51.201065 \r\nL 181.423606 55.551499 \r\nL 181.758742 56.448361 \r\nL 182.429012 47.683149 \r\nL 182.764147 51.511706 \r\nL 183.434417 46.842138 \r\nL 183.769552 48.311059 \r\nL 184.104688 45.921757 \r\nL 184.439823 46.583012 \r\nL 184.774958 45.757559 \r\nL 185.110093 50.271215 \r\nL 185.445228 46.606657 \r\nL 185.780363 50.254699 \r\nL 186.115498 51.681169 \r\nL 186.450633 51.42741 \r\nL 187.120904 43.459476 \r\nL 187.456039 46.444075 \r\nL 187.791174 44.193034 \r\nL 188.126309 45.577105 \r\nL 188.461444 38.755868 \r\nL 189.46685 46.364251 \r\nL 189.801985 42.81947 \r\nL 190.13712 46.272825 \r\nL 190.472255 46.088497 \r\nL 190.80739 48.049268 \r\nL 191.142525 50.835085 \r\nL 191.47766 50.411277 \r\nL 191.812796 46.898067 \r\nL 192.147931 46.447393 \r\nL 192.483066 44.18875 \r\nL 192.818201 43.123128 \r\nL 193.153336 44.83639 \r\nL 193.488471 44.450278 \r\nL 193.823606 45.254141 \r\nL 194.493877 43.179745 \r\nL 194.829012 47.595671 \r\nL 195.164147 48.478072 \r\nL 195.499282 51.573229 \r\nL 195.834417 52.429205 \r\nL 196.169552 57.940201 \r\nL 196.504687 52.915216 \r\nL 196.839823 55.772069 \r\nL 197.174958 61.630162 \r\nL 197.510093 63.007429 \r\nL 197.845228 66.927789 \r\nL 198.180363 73.438771 \r\nL 198.515498 77.343722 \r\nL 198.850633 75.592228 \r\nL 199.185769 78.22381 \r\nL 200.191174 66.59083 \r\nL 200.526309 73.736386 \r\nL 200.861444 74.056499 \r\nL 201.196579 74.852451 \r\nL 201.531715 76.419491 \r\nL 201.86685 79.689162 \r\nL 202.201985 75.442809 \r\nL 202.53712 76.259894 \r\nL 202.872255 78.922482 \r\nL 203.20739 73.841415 \r\nL 203.542525 76.338987 \r\nL 203.87766 75.731531 \r\nL 204.212796 74.503974 \r\nL 204.547931 76.721662 \r\nL 204.883066 76.898016 \r\nL 205.218201 74.173779 \r\nL 205.553336 77.174 \r\nL 206.558742 77.071096 \r\nL 206.893877 76.602532 \r\nL 207.229012 74.317585 \r\nL 207.564147 76.448937 \r\nL 207.899282 75.103566 \r\nL 208.234417 77.639424 \r\nL 208.569552 77.841208 \r\nL 208.904688 76.683238 \r\nL 209.574958 67.720493 \r\nL 209.910093 75.178766 \r\nL 210.245228 78.478421 \r\nL 210.580363 77.398869 \r\nL 210.915498 74.535382 \r\nL 211.250633 73.929851 \r\nL 211.585769 72.111966 \r\nL 211.920904 68.815258 \r\nL 212.256039 68.218366 \r\nL 212.591174 62.828628 \r\nL 212.926309 64.546788 \r\nL 213.261444 61.168814 \r\nL 213.596579 65.716113 \r\nL 213.931715 65.259047 \r\nL 214.26685 68.768328 \r\nL 214.601985 68.435248 \r\nL 214.93712 68.98452 \r\nL 215.272255 69.996669 \r\nL 215.60739 68.775783 \r\nL 215.942525 66.588363 \r\nL 216.612796 69.594447 \r\nL 216.947931 69.163457 \r\nL 217.283066 68.257099 \r\nL 217.618201 73.455561 \r\nL 217.953336 69.623008 \r\nL 218.288471 67.507219 \r\nL 218.623606 63.020657 \r\nL 218.958742 68.457153 \r\nL 219.293877 69.545501 \r\nL 219.629012 72.66783 \r\nL 219.964147 69.629416 \r\nL 220.299282 72.294597 \r\nL 220.634417 71.644893 \r\nL 220.969552 72.60452 \r\nL 221.304688 77.222315 \r\nL 221.639823 77.937964 \r\nL 221.974958 73.128177 \r\nL 222.310093 73.297007 \r\nL 222.645228 71.960363 \r\nL 222.980363 71.608375 \r\nL 223.315498 67.802609 \r\nL 223.650633 66.706778 \r\nL 223.985769 66.944055 \r\nL 224.320904 68.499979 \r\nL 224.656039 65.483435 \r\nL 224.991174 65.296324 \r\nL 225.326309 66.138432 \r\nL 225.996579 62.080463 \r\nL 226.331715 64.746894 \r\nL 226.66685 63.797205 \r\nL 227.33712 69.185739 \r\nL 228.00739 62.91479 \r\nL 228.342525 63.078474 \r\nL 228.67766 71.003738 \r\nL 229.012796 71.692894 \r\nL 229.347931 75.994652 \r\nL 229.683066 75.635161 \r\nL 230.018201 73.252098 \r\nL 230.353336 73.006271 \r\nL 230.688471 70.964804 \r\nL 231.023606 70.302892 \r\nL 231.358742 70.114403 \r\nL 232.029012 75.015062 \r\nL 232.364147 73.376393 \r\nL 232.699282 76.704654 \r\nL 233.034417 71.979204 \r\nL 233.369552 72.543796 \r\nL 233.704687 77.961296 \r\nL 234.039823 76.731604 \r\nL 234.374958 73.403619 \r\nL 234.710093 71.361392 \r\nL 235.045228 74.01765 \r\nL 235.380363 74.27638 \r\nL 236.050633 65.906896 \r\nL 236.385769 67.988956 \r\nL 236.720904 68.102324 \r\nL 237.056039 68.912641 \r\nL 237.391174 65.843078 \r\nL 237.726309 69.026729 \r\nL 238.061444 69.518087 \r\nL 238.396579 65.90537 \r\nL 238.731715 64.397579 \r\nL 239.06685 65.955018 \r\nL 239.401985 63.36345 \r\nL 239.73712 65.533713 \r\nL 240.072255 62.348254 \r\nL 240.40739 65.986127 \r\nL 240.742525 62.540316 \r\nL 241.07766 62.904098 \r\nL 241.412796 61.527648 \r\nL 241.747931 58.449385 \r\nL 242.083066 54.181646 \r\nL 242.418201 51.764126 \r\nL 242.753336 50.995214 \r\nL 243.088471 54.356128 \r\nL 243.423606 54.915264 \r\nL 243.758742 55.801582 \r\nL 244.093877 54.344284 \r\nL 244.429012 50.901214 \r\nL 244.764147 50.220555 \r\nL 245.099282 51.50116 \r\nL 245.434417 52.235716 \r\nL 245.769552 49.609559 \r\nL 246.104688 50.419478 \r\nL 246.439823 53.071645 \r\nL 246.774958 51.749944 \r\nL 247.110093 53.204573 \r\nL 247.445228 55.994766 \r\nL 247.780363 59.836776 \r\nL 248.115498 62.129521 \r\nL 249.456039 49.562566 \r\nL 249.791174 54.567173 \r\nL 250.126309 55.124342 \r\nL 250.461444 51.09302 \r\nL 250.796579 49.680004 \r\nL 251.131715 50.932574 \r\nL 251.46685 48.881169 \r\nL 251.801985 48.543264 \r\nL 252.13712 47.592046 \r\nL 252.80739 44.28509 \r\nL 253.142525 45.39352 \r\nL 253.47766 41.142254 \r\nL 253.812796 40.465022 \r\nL 254.147931 43.762364 \r\nL 254.483066 39.448767 \r\nL 254.818201 41.877397 \r\nL 255.488471 41.139606 \r\nL 255.823606 47.823658 \r\nL 256.158742 48.677165 \r\nL 256.493877 52.922494 \r\nL 256.829012 52.90906 \r\nL 257.164147 53.236352 \r\nL 257.499282 47.737852 \r\nL 257.834417 46.827267 \r\nL 258.169552 51.294062 \r\nL 258.504687 51.306694 \r\nL 258.839823 48.171312 \r\nL 259.174958 47.325225 \r\nL 259.510093 45.343802 \r\nL 259.845228 45.873069 \r\nL 260.180363 49.738834 \r\nL 260.515498 52.056784 \r\nL 260.850633 53.424209 \r\nL 261.185769 52.937626 \r\nL 261.520904 53.244491 \r\nL 261.856039 49.803292 \r\nL 262.191174 47.826594 \r\nL 262.526309 48.53024 \r\nL 262.861444 48.626796 \r\nL 263.196579 47.650254 \r\nL 263.86685 42.005796 \r\nL 264.201985 44.951832 \r\nL 264.53712 48.998536 \r\nL 264.872255 46.884645 \r\nL 265.20739 49.173703 \r\nL 265.542525 48.055553 \r\nL 265.87766 40.544135 \r\nL 266.212796 40.049353 \r\nL 266.547931 36.409627 \r\nL 266.883066 36.499376 \r\nL 267.218201 30.874699 \r\nL 267.888471 30.322726 \r\nL 268.223606 29.717072 \r\nL 268.558742 27.746748 \r\nL 268.893877 24.351979 \r\nL 269.229012 23.095936 \r\nL 269.564147 22.375043 \r\nL 269.899282 22.441854 \r\nL 270.234417 21.764701 \r\nL 270.569552 26.562466 \r\nL 270.904688 29.479318 \r\nL 271.239823 28.84833 \r\nL 272.245228 36.111848 \r\nL 272.580363 36.769759 \r\nL 272.915498 38.351152 \r\nL 273.250633 42.585246 \r\nL 273.585769 42.536964 \r\nL 273.920904 41.957212 \r\nL 274.591174 36.203675 \r\nL 274.926309 36.233657 \r\nL 275.261444 33.935757 \r\nL 275.596579 28.582733 \r\nL 276.93712 45.960531 \r\nL 277.60739 38.230493 \r\nL 277.942525 43.200111 \r\nL 278.27766 38.220033 \r\nL 278.612796 41.19738 \r\nL 278.947931 46.507319 \r\nL 279.283066 46.407732 \r\nL 279.953336 42.075281 \r\nL 280.288471 37.652302 \r\nL 280.623606 42.044636 \r\nL 280.958742 42.118456 \r\nL 281.293877 35.961801 \r\nL 281.629012 38.192136 \r\nL 281.964147 37.764467 \r\nL 282.299282 35.036596 \r\nL 282.634417 37.091501 \r\nL 282.969552 37.186101 \r\nL 283.304688 37.720398 \r\nL 283.639823 43.143595 \r\nL 283.974958 40.332841 \r\nL 284.310093 44.942087 \r\nL 284.980363 36.544428 \r\nL 285.650633 40.170272 \r\nL 285.985769 42.528298 \r\nL 286.320904 38.661293 \r\nL 286.656039 32.750043 \r\nL 286.991174 35.932479 \r\nL 287.326309 36.859067 \r\nL 287.661444 34.741474 \r\nL 287.996579 34.530798 \r\nL 288.331715 37.112046 \r\nL 288.66685 35.686941 \r\nL 289.33712 41.100427 \r\nL 290.00739 42.129338 \r\nL 290.67766 40.482233 \r\nL 291.012796 41.474763 \r\nL 291.347931 43.851195 \r\nL 291.683066 44.236843 \r\nL 292.018201 38.558133 \r\nL 292.688471 42.928519 \r\nL 293.023606 39.522456 \r\nL 293.358742 43.345017 \r\nL 293.693877 39.649186 \r\nL 294.029012 37.294519 \r\nL 294.364147 39.455731 \r\nL 295.034417 40.133446 \r\nL 295.369552 43.70226 \r\nL 295.704687 42.969649 \r\nL 296.039823 42.57335 \r\nL 296.374958 43.912942 \r\nL 296.710093 42.936223 \r\nL 297.045228 43.803068 \r\nL 297.380363 44.087428 \r\nL 297.715498 41.626933 \r\nL 298.050633 41.855159 \r\nL 298.385769 34.94131 \r\nL 298.720904 33.712133 \r\nL 299.056039 36.526948 \r\nL 299.391174 36.080132 \r\nL 299.726309 36.963222 \r\nL 300.061444 38.687782 \r\nL 300.396579 43.437782 \r\nL 300.731715 45.490979 \r\nL 301.06685 45.746426 \r\nL 301.73712 51.108107 \r\nL 302.072255 52.762507 \r\nL 302.40739 51.482369 \r\nL 302.742525 51.929572 \r\nL 303.07766 49.699044 \r\nL 303.412796 50.991489 \r\nL 303.747931 48.240104 \r\nL 304.083066 48.292802 \r\nL 304.418201 47.950701 \r\nL 304.753336 52.787706 \r\nL 305.088471 51.811892 \r\nL 305.423606 56.075925 \r\nL 305.758742 53.34175 \r\nL 306.093877 53.711292 \r\nL 306.429012 53.032326 \r\nL 306.764147 44.238833 \r\nL 307.434417 50.801466 \r\nL 307.769552 46.445137 \r\nL 308.104688 47.613943 \r\nL 308.439823 42.296281 \r\nL 308.774958 43.918497 \r\nL 309.110093 43.280309 \r\nL 309.445228 47.767709 \r\nL 309.780363 43.670569 \r\nL 310.115498 36.614209 \r\nL 310.450633 36.350207 \r\nL 310.785769 35.944491 \r\nL 311.120904 35.323899 \r\nL 311.456039 31.539812 \r\nL 311.791174 34.52329 \r\nL 312.126309 33.328257 \r\nL 312.461444 36.296965 \r\nL 312.796579 40.824004 \r\nL 313.801985 48.591954 \r\nL 314.13712 48.264693 \r\nL 314.472255 53.08839 \r\nL 315.142525 56.408792 \r\nL 315.47766 56.158938 \r\nL 315.812796 57.08432 \r\nL 316.147931 54.852418 \r\nL 316.483066 59.258835 \r\nL 316.818201 59.862295 \r\nL 317.153336 58.742559 \r\nL 317.488471 54.434313 \r\nL 317.823606 59.238448 \r\nL 318.158742 58.583945 \r\nL 318.493877 57.015589 \r\nL 318.829012 57.426917 \r\nL 319.164147 59.909543 \r\nL 319.834417 53.189093 \r\nL 320.169552 51.720588 \r\nL 320.504687 52.401669 \r\nL 320.839823 50.259511 \r\nL 321.174958 52.360973 \r\nL 321.510093 52.851498 \r\nL 322.180363 50.546947 \r\nL 323.185769 62.522632 \r\nL 323.520904 66.542809 \r\nL 323.856039 68.345713 \r\nL 324.191174 70.905904 \r\nL 324.526309 67.298354 \r\nL 324.861444 76.32739 \r\nL 325.196579 75.574424 \r\nL 325.531715 74.103701 \r\nL 325.86685 73.956752 \r\nL 326.53712 69.182545 \r\nL 326.872255 71.707091 \r\nL 327.20739 72.681368 \r\nL 327.87766 77.726337 \r\nL 328.212796 76.402344 \r\nL 328.547931 77.733936 \r\nL 328.883066 77.951091 \r\nL 329.218201 73.456709 \r\nL 329.553336 76.9341 \r\nL 329.888471 79.211861 \r\nL 330.223606 79.380431 \r\nL 330.893877 79.261625 \r\nL 331.229012 78.748207 \r\nL 331.899282 79.321362 \r\nL 332.569552 77.302627 \r\nL 332.904688 75.290813 \r\nL 333.239823 72.580201 \r\nL 333.574958 75.585755 \r\nL 333.910093 69.906746 \r\nL 334.245228 71.236889 \r\nL 334.580363 68.508747 \r\nL 334.915498 69.558369 \r\nL 335.250633 66.42643 \r\nL 335.585769 66.380679 \r\nL 335.920904 60.83588 \r\nL 336.256039 61.413962 \r\nL 336.591174 57.635538 \r\nL 336.926309 57.657155 \r\nL 337.596579 51.014167 \r\nL 337.931715 51.3715 \r\nL 338.26685 49.030589 \r\nL 338.601985 48.91355 \r\nL 339.272255 59.28232 \r\nL 339.60739 56.98467 \r\nL 339.942525 57.005998 \r\nL 340.27766 61.467839 \r\nL 340.612796 61.491034 \r\nL 340.947931 60.748027 \r\nL 341.283066 55.919773 \r\nL 341.618201 57.940897 \r\nL 341.953336 61.281816 \r\nL 342.288471 60.128989 \r\nL 342.623606 56.787323 \r\nL 342.958742 58.893071 \r\nL 343.293877 58.158741 \r\nL 343.629012 54.427954 \r\nL 343.964147 53.778014 \r\nL 344.299282 50.817767 \r\nL 344.634417 50.838346 \r\nL 344.969552 50.02698 \r\nL 345.304688 50.77207 \r\nL 345.639823 48.338349 \r\nL 345.974958 48.963826 \r\nL 346.310093 47.267469 \r\nL 346.645228 47.451834 \r\nL 346.980363 44.758161 \r\nL 347.315498 48.899422 \r\nL 347.650633 50.19812 \r\nL 347.985769 48.808832 \r\nL 348.320904 46.251918 \r\nL 348.656039 42.347954 \r\nL 348.991174 42.976314 \r\nL 349.661444 42.154108 \r\nL 349.996579 44.548835 \r\nL 350.331715 44.19717 \r\nL 350.66685 42.75524 \r\nL 351.001985 42.641529 \r\nL 351.33712 44.90266 \r\nL 351.672255 41.717873 \r\nL 352.00739 46.113371 \r\nL 352.342525 52.100848 \r\nL 352.67766 47.706139 \r\nL 353.347931 46.06685 \r\nL 353.683066 44.620608 \r\nL 354.018201 45.709743 \r\nL 354.353336 46.196866 \r\nL 354.688471 49.178126 \r\nL 355.023606 48.67401 \r\nL 355.358742 49.105435 \r\nL 355.693877 49.781424 \r\nL 356.029012 56.316331 \r\nL 356.364147 51.779701 \r\nL 356.699282 58.465585 \r\nL 357.034417 59.126169 \r\nL 358.039823 66.449264 \r\nL 358.710093 67.725455 \r\nL 359.045228 72.623407 \r\nL 359.380363 74.586897 \r\nL 359.715498 71.132936 \r\nL 360.385769 70.35317 \r\nL 361.056039 77.774557 \r\nL 361.391174 75.05468 \r\nL 361.726309 68.598602 \r\nL 362.061444 70.801819 \r\nL 362.396579 68.874682 \r\nL 362.731715 62.975089 \r\nL 363.06685 63.595477 \r\nL 363.401985 65.516862 \r\nL 363.73712 68.680518 \r\nL 364.072255 69.698008 \r\nL 364.40739 70.342464 \r\nL 364.742525 69.566691 \r\nL 365.07766 74.75923 \r\nL 365.412796 85.156877 \r\nL 365.747931 85.705194 \r\nL 366.083066 87.563682 \r\nL 366.753336 82.372114 \r\nL 367.088471 82.999312 \r\nL 367.423606 81.672331 \r\nL 367.758742 81.025982 \r\nL 368.093877 84.419591 \r\nL 368.429012 85.752931 \r\nL 368.764147 85.128673 \r\nL 369.099282 81.493031 \r\nL 369.434417 79.193536 \r\nL 369.769552 75.716032 \r\nL 370.104688 76.028506 \r\nL 370.104688 76.028506 \r\n\" style=\"fill:none;stroke:#d62728;stroke-linecap:square;stroke-width:1.5;\"/>\r\n   </g>\r\n   <g id=\"patch_3\">\r\n    <path d=\"M 35.304688 224.64 \r\nL 35.304688 7.2 \r\n\" style=\"fill:none;stroke:#000000;stroke-linecap:square;stroke-linejoin:miter;stroke-width:0.8;\"/>\r\n   </g>\r\n   <g id=\"patch_4\">\r\n    <path d=\"M 370.104688 224.64 \r\nL 370.104688 7.2 \r\n\" style=\"fill:none;stroke:#000000;stroke-linecap:square;stroke-linejoin:miter;stroke-width:0.8;\"/>\r\n   </g>\r\n   <g id=\"patch_5\">\r\n    <path d=\"M 35.304688 224.64 \r\nL 370.104688 224.64 \r\n\" style=\"fill:none;stroke:#000000;stroke-linecap:square;stroke-linejoin:miter;stroke-width:0.8;\"/>\r\n   </g>\r\n   <g id=\"patch_6\">\r\n    <path d=\"M 35.304688 7.2 \r\nL 370.104688 7.2 \r\n\" style=\"fill:none;stroke:#000000;stroke-linecap:square;stroke-linejoin:miter;stroke-width:0.8;\"/>\r\n   </g>\r\n   <g id=\"legend_1\">\r\n    <g id=\"patch_7\">\r\n     <path d=\"M 42.304688 219.64 \r\nL 82.004688 219.64 \r\nQ 84.004688 219.64 84.004688 217.64 \r\nL 84.004688 159.9275 \r\nQ 84.004688 157.9275 82.004688 157.9275 \r\nL 42.304688 157.9275 \r\nQ 40.304688 157.9275 40.304688 159.9275 \r\nL 40.304688 217.64 \r\nQ 40.304688 219.64 42.304688 219.64 \r\nz\r\n\" style=\"fill:#ffffff;opacity:0.8;stroke:#cccccc;stroke-linejoin:miter;\"/>\r\n    </g>\r\n    <g id=\"line2d_47\">\r\n     <path d=\"M 44.304688 166.025937 \r\nL 64.304688 166.025937 \r\n\" style=\"fill:none;stroke:#1f77b4;stroke-linecap:square;stroke-width:1.5;\"/>\r\n    </g>\r\n    <g id=\"line2d_48\"/>\r\n    <g id=\"text_15\">\r\n     <!-- A -->\r\n     <g transform=\"translate(72.304688 169.525937)scale(0.1 -0.1)\">\r\n      <defs>\r\n       <path d=\"M 2188 4044 \r\nL 1331 1722 \r\nL 3047 1722 \r\nL 2188 4044 \r\nz\r\nM 1831 4666 \r\nL 2547 4666 \r\nL 4325 0 \r\nL 3669 0 \r\nL 3244 1197 \r\nL 1141 1197 \r\nL 716 0 \r\nL 50 0 \r\nL 1831 4666 \r\nz\r\n\" id=\"DejaVuSans-41\" transform=\"scale(0.015625)\"/>\r\n      </defs>\r\n      <use xlink:href=\"#DejaVuSans-41\"/>\r\n     </g>\r\n    </g>\r\n    <g id=\"line2d_49\">\r\n     <path d=\"M 44.304688 180.704062 \r\nL 64.304688 180.704062 \r\n\" style=\"fill:none;stroke:#ff7f0e;stroke-linecap:square;stroke-width:1.5;\"/>\r\n    </g>\r\n    <g id=\"line2d_50\"/>\r\n    <g id=\"text_16\">\r\n     <!-- B -->\r\n     <g transform=\"translate(72.304688 184.204062)scale(0.1 -0.1)\">\r\n      <defs>\r\n       <path d=\"M 1259 2228 \r\nL 1259 519 \r\nL 2272 519 \r\nQ 2781 519 3026 730 \r\nQ 3272 941 3272 1375 \r\nQ 3272 1813 3026 2020 \r\nQ 2781 2228 2272 2228 \r\nL 1259 2228 \r\nz\r\nM 1259 4147 \r\nL 1259 2741 \r\nL 2194 2741 \r\nQ 2656 2741 2882 2914 \r\nQ 3109 3088 3109 3444 \r\nQ 3109 3797 2882 3972 \r\nQ 2656 4147 2194 4147 \r\nL 1259 4147 \r\nz\r\nM 628 4666 \r\nL 2241 4666 \r\nQ 2963 4666 3353 4366 \r\nQ 3744 4066 3744 3513 \r\nQ 3744 3084 3544 2831 \r\nQ 3344 2578 2956 2516 \r\nQ 3422 2416 3680 2098 \r\nQ 3938 1781 3938 1306 \r\nQ 3938 681 3513 340 \r\nQ 3088 0 2303 0 \r\nL 628 0 \r\nL 628 4666 \r\nz\r\n\" id=\"DejaVuSans-42\" transform=\"scale(0.015625)\"/>\r\n      </defs>\r\n      <use xlink:href=\"#DejaVuSans-42\"/>\r\n     </g>\r\n    </g>\r\n    <g id=\"line2d_51\">\r\n     <path d=\"M 44.304688 195.382187 \r\nL 64.304688 195.382187 \r\n\" style=\"fill:none;stroke:#2ca02c;stroke-linecap:square;stroke-width:1.5;\"/>\r\n    </g>\r\n    <g id=\"line2d_52\"/>\r\n    <g id=\"text_17\">\r\n     <!-- C -->\r\n     <g transform=\"translate(72.304688 198.882187)scale(0.1 -0.1)\">\r\n      <defs>\r\n       <path d=\"M 4122 4306 \r\nL 4122 3641 \r\nQ 3803 3938 3442 4084 \r\nQ 3081 4231 2675 4231 \r\nQ 1875 4231 1450 3742 \r\nQ 1025 3253 1025 2328 \r\nQ 1025 1406 1450 917 \r\nQ 1875 428 2675 428 \r\nQ 3081 428 3442 575 \r\nQ 3803 722 4122 1019 \r\nL 4122 359 \r\nQ 3791 134 3420 21 \r\nQ 3050 -91 2638 -91 \r\nQ 1578 -91 968 557 \r\nQ 359 1206 359 2328 \r\nQ 359 3453 968 4101 \r\nQ 1578 4750 2638 4750 \r\nQ 3056 4750 3426 4639 \r\nQ 3797 4528 4122 4306 \r\nz\r\n\" id=\"DejaVuSans-43\" transform=\"scale(0.015625)\"/>\r\n      </defs>\r\n      <use xlink:href=\"#DejaVuSans-43\"/>\r\n     </g>\r\n    </g>\r\n    <g id=\"line2d_53\">\r\n     <path d=\"M 44.304688 210.060313 \r\nL 64.304688 210.060313 \r\n\" style=\"fill:none;stroke:#d62728;stroke-linecap:square;stroke-width:1.5;\"/>\r\n    </g>\r\n    <g id=\"line2d_54\"/>\r\n    <g id=\"text_18\">\r\n     <!-- D -->\r\n     <g transform=\"translate(72.304688 213.560313)scale(0.1 -0.1)\">\r\n      <defs>\r\n       <path d=\"M 1259 4147 \r\nL 1259 519 \r\nL 2022 519 \r\nQ 2988 519 3436 956 \r\nQ 3884 1394 3884 2338 \r\nQ 3884 3275 3436 3711 \r\nQ 2988 4147 2022 4147 \r\nL 1259 4147 \r\nz\r\nM 628 4666 \r\nL 1925 4666 \r\nQ 3281 4666 3915 4102 \r\nQ 4550 3538 4550 2338 \r\nQ 4550 1131 3912 565 \r\nQ 3275 0 1925 0 \r\nL 628 0 \r\nL 628 4666 \r\nz\r\n\" id=\"DejaVuSans-44\" transform=\"scale(0.015625)\"/>\r\n      </defs>\r\n      <use xlink:href=\"#DejaVuSans-44\"/>\r\n     </g>\r\n    </g>\r\n   </g>\r\n  </g>\r\n </g>\r\n <defs>\r\n  <clipPath id=\"p5e84b2f083\">\r\n   <rect height=\"217.44\" width=\"334.8\" x=\"35.304688\" y=\"7.2\"/>\r\n  </clipPath>\r\n </defs>\r\n</svg>\r\n",
      "text/plain": [
       "<Figure size 432x288 with 1 Axes>"
      ]
     },
     "metadata": {
      "needs_background": "light"
     },
     "output_type": "display_data"
    }
   ],
   "source": [
    "df = pd.DataFrame(\n",
    "    np.random.randn(1000, 4),\n",
    "    index=ts.index,\n",
    "    columns=list(\"ABCD\")\n",
    ")\n",
    "df = df.cumsum()\n",
    "plt.figure()\n",
    "df.plot()\n",
    "plt.legend(loc=\"best\")"
   ]
  },
  {
   "cell_type": "markdown",
   "metadata": {},
   "source": [
    "## Getting data in/out\n",
    "\n",
    "### CSV\n",
    "\n",
    "#### Writing to a .csv file"
   ]
  },
  {
   "cell_type": "code",
   "execution_count": 206,
   "metadata": {},
   "outputs": [],
   "source": [
    "df.to_csv(\"files/foo.csv\")"
   ]
  },
  {
   "cell_type": "markdown",
   "metadata": {},
   "source": [
    "#### Reading from a .csv file"
   ]
  },
  {
   "cell_type": "code",
   "execution_count": 207,
   "metadata": {},
   "outputs": [
    {
     "data": {
      "text/html": [
       "<div>\n",
       "<style scoped>\n",
       "    .dataframe tbody tr th:only-of-type {\n",
       "        vertical-align: middle;\n",
       "    }\n",
       "\n",
       "    .dataframe tbody tr th {\n",
       "        vertical-align: top;\n",
       "    }\n",
       "\n",
       "    .dataframe thead th {\n",
       "        text-align: right;\n",
       "    }\n",
       "</style>\n",
       "<table border=\"1\" class=\"dataframe\">\n",
       "  <thead>\n",
       "    <tr style=\"text-align: right;\">\n",
       "      <th></th>\n",
       "      <th>Unnamed: 0</th>\n",
       "      <th>A</th>\n",
       "      <th>B</th>\n",
       "      <th>C</th>\n",
       "      <th>D</th>\n",
       "    </tr>\n",
       "  </thead>\n",
       "  <tbody>\n",
       "    <tr>\n",
       "      <th>0</th>\n",
       "      <td>2022-01-01</td>\n",
       "      <td>-0.493801</td>\n",
       "      <td>-0.342192</td>\n",
       "      <td>-3.165596</td>\n",
       "      <td>-0.293496</td>\n",
       "    </tr>\n",
       "    <tr>\n",
       "      <th>1</th>\n",
       "      <td>2022-01-02</td>\n",
       "      <td>-0.185765</td>\n",
       "      <td>0.622015</td>\n",
       "      <td>-2.412853</td>\n",
       "      <td>-1.397863</td>\n",
       "    </tr>\n",
       "    <tr>\n",
       "      <th>2</th>\n",
       "      <td>2022-01-03</td>\n",
       "      <td>0.314739</td>\n",
       "      <td>1.496308</td>\n",
       "      <td>-2.215453</td>\n",
       "      <td>-0.370507</td>\n",
       "    </tr>\n",
       "    <tr>\n",
       "      <th>3</th>\n",
       "      <td>2022-01-04</td>\n",
       "      <td>-0.610617</td>\n",
       "      <td>2.373850</td>\n",
       "      <td>-2.362305</td>\n",
       "      <td>-0.738148</td>\n",
       "    </tr>\n",
       "    <tr>\n",
       "      <th>4</th>\n",
       "      <td>2022-01-05</td>\n",
       "      <td>-0.602492</td>\n",
       "      <td>0.723706</td>\n",
       "      <td>-0.723577</td>\n",
       "      <td>0.000092</td>\n",
       "    </tr>\n",
       "    <tr>\n",
       "      <th>...</th>\n",
       "      <td>...</td>\n",
       "      <td>...</td>\n",
       "      <td>...</td>\n",
       "      <td>...</td>\n",
       "      <td>...</td>\n",
       "    </tr>\n",
       "    <tr>\n",
       "      <th>995</th>\n",
       "      <td>2024-09-22</td>\n",
       "      <td>-34.116008</td>\n",
       "      <td>-8.079677</td>\n",
       "      <td>18.441085</td>\n",
       "      <td>8.293589</td>\n",
       "    </tr>\n",
       "    <tr>\n",
       "      <th>996</th>\n",
       "      <td>2024-09-23</td>\n",
       "      <td>-33.813903</td>\n",
       "      <td>-7.743680</td>\n",
       "      <td>18.001123</td>\n",
       "      <td>9.557808</td>\n",
       "    </tr>\n",
       "    <tr>\n",
       "      <th>997</th>\n",
       "      <td>2024-09-24</td>\n",
       "      <td>-32.844332</td>\n",
       "      <td>-8.126979</td>\n",
       "      <td>17.193800</td>\n",
       "      <td>10.357410</td>\n",
       "    </tr>\n",
       "    <tr>\n",
       "      <th>998</th>\n",
       "      <td>2024-09-25</td>\n",
       "      <td>-33.089291</td>\n",
       "      <td>-9.292378</td>\n",
       "      <td>17.114362</td>\n",
       "      <td>11.566640</td>\n",
       "    </tr>\n",
       "    <tr>\n",
       "      <th>999</th>\n",
       "      <td>2024-09-26</td>\n",
       "      <td>-34.543029</td>\n",
       "      <td>-8.773705</td>\n",
       "      <td>17.958109</td>\n",
       "      <td>11.457984</td>\n",
       "    </tr>\n",
       "  </tbody>\n",
       "</table>\n",
       "<p>1000 rows × 5 columns</p>\n",
       "</div>"
      ],
      "text/plain": [
       "     Unnamed: 0          A         B          C          D\n",
       "0    2022-01-01  -0.493801 -0.342192  -3.165596  -0.293496\n",
       "1    2022-01-02  -0.185765  0.622015  -2.412853  -1.397863\n",
       "2    2022-01-03   0.314739  1.496308  -2.215453  -0.370507\n",
       "3    2022-01-04  -0.610617  2.373850  -2.362305  -0.738148\n",
       "4    2022-01-05  -0.602492  0.723706  -0.723577   0.000092\n",
       "..          ...        ...       ...        ...        ...\n",
       "995  2024-09-22 -34.116008 -8.079677  18.441085   8.293589\n",
       "996  2024-09-23 -33.813903 -7.743680  18.001123   9.557808\n",
       "997  2024-09-24 -32.844332 -8.126979  17.193800  10.357410\n",
       "998  2024-09-25 -33.089291 -9.292378  17.114362  11.566640\n",
       "999  2024-09-26 -34.543029 -8.773705  17.958109  11.457984\n",
       "\n",
       "[1000 rows x 5 columns]"
      ]
     },
     "execution_count": 207,
     "metadata": {},
     "output_type": "execute_result"
    }
   ],
   "source": [
    "pd.read_csv(\"files/foo.csv\")"
   ]
  },
  {
   "cell_type": "markdown",
   "metadata": {},
   "source": [
    "### HDF5\n",
    "\n",
    "Reading and writing to HDF5Stores."
   ]
  },
  {
   "cell_type": "markdown",
   "metadata": {},
   "source": [
    "#### Writing to a HDF5 Store."
   ]
  },
  {
   "cell_type": "code",
   "execution_count": 208,
   "metadata": {},
   "outputs": [],
   "source": [
    "# !pip install tables\n",
    "df.to_hdf(\"files/foo.h5\", \"df\")"
   ]
  },
  {
   "cell_type": "markdown",
   "metadata": {},
   "source": [
    "#### Reading from HDF5 Store."
   ]
  },
  {
   "cell_type": "code",
   "execution_count": 209,
   "metadata": {},
   "outputs": [
    {
     "data": {
      "text/html": [
       "<div>\n",
       "<style scoped>\n",
       "    .dataframe tbody tr th:only-of-type {\n",
       "        vertical-align: middle;\n",
       "    }\n",
       "\n",
       "    .dataframe tbody tr th {\n",
       "        vertical-align: top;\n",
       "    }\n",
       "\n",
       "    .dataframe thead th {\n",
       "        text-align: right;\n",
       "    }\n",
       "</style>\n",
       "<table border=\"1\" class=\"dataframe\">\n",
       "  <thead>\n",
       "    <tr style=\"text-align: right;\">\n",
       "      <th></th>\n",
       "      <th>A</th>\n",
       "      <th>B</th>\n",
       "      <th>C</th>\n",
       "      <th>D</th>\n",
       "    </tr>\n",
       "  </thead>\n",
       "  <tbody>\n",
       "    <tr>\n",
       "      <th>2022-01-01</th>\n",
       "      <td>-0.493801</td>\n",
       "      <td>-0.342192</td>\n",
       "      <td>-3.165596</td>\n",
       "      <td>-0.293496</td>\n",
       "    </tr>\n",
       "    <tr>\n",
       "      <th>2022-01-02</th>\n",
       "      <td>-0.185765</td>\n",
       "      <td>0.622015</td>\n",
       "      <td>-2.412853</td>\n",
       "      <td>-1.397863</td>\n",
       "    </tr>\n",
       "    <tr>\n",
       "      <th>2022-01-03</th>\n",
       "      <td>0.314739</td>\n",
       "      <td>1.496308</td>\n",
       "      <td>-2.215453</td>\n",
       "      <td>-0.370507</td>\n",
       "    </tr>\n",
       "    <tr>\n",
       "      <th>2022-01-04</th>\n",
       "      <td>-0.610617</td>\n",
       "      <td>2.373850</td>\n",
       "      <td>-2.362305</td>\n",
       "      <td>-0.738148</td>\n",
       "    </tr>\n",
       "    <tr>\n",
       "      <th>2022-01-05</th>\n",
       "      <td>-0.602492</td>\n",
       "      <td>0.723706</td>\n",
       "      <td>-0.723577</td>\n",
       "      <td>0.000092</td>\n",
       "    </tr>\n",
       "    <tr>\n",
       "      <th>...</th>\n",
       "      <td>...</td>\n",
       "      <td>...</td>\n",
       "      <td>...</td>\n",
       "      <td>...</td>\n",
       "    </tr>\n",
       "    <tr>\n",
       "      <th>2024-09-22</th>\n",
       "      <td>-34.116008</td>\n",
       "      <td>-8.079677</td>\n",
       "      <td>18.441085</td>\n",
       "      <td>8.293589</td>\n",
       "    </tr>\n",
       "    <tr>\n",
       "      <th>2024-09-23</th>\n",
       "      <td>-33.813903</td>\n",
       "      <td>-7.743680</td>\n",
       "      <td>18.001123</td>\n",
       "      <td>9.557808</td>\n",
       "    </tr>\n",
       "    <tr>\n",
       "      <th>2024-09-24</th>\n",
       "      <td>-32.844332</td>\n",
       "      <td>-8.126979</td>\n",
       "      <td>17.193800</td>\n",
       "      <td>10.357410</td>\n",
       "    </tr>\n",
       "    <tr>\n",
       "      <th>2024-09-25</th>\n",
       "      <td>-33.089291</td>\n",
       "      <td>-9.292378</td>\n",
       "      <td>17.114362</td>\n",
       "      <td>11.566640</td>\n",
       "    </tr>\n",
       "    <tr>\n",
       "      <th>2024-09-26</th>\n",
       "      <td>-34.543029</td>\n",
       "      <td>-8.773705</td>\n",
       "      <td>17.958109</td>\n",
       "      <td>11.457984</td>\n",
       "    </tr>\n",
       "  </tbody>\n",
       "</table>\n",
       "<p>1000 rows × 4 columns</p>\n",
       "</div>"
      ],
      "text/plain": [
       "                    A         B          C          D\n",
       "2022-01-01  -0.493801 -0.342192  -3.165596  -0.293496\n",
       "2022-01-02  -0.185765  0.622015  -2.412853  -1.397863\n",
       "2022-01-03   0.314739  1.496308  -2.215453  -0.370507\n",
       "2022-01-04  -0.610617  2.373850  -2.362305  -0.738148\n",
       "2022-01-05  -0.602492  0.723706  -0.723577   0.000092\n",
       "...               ...       ...        ...        ...\n",
       "2024-09-22 -34.116008 -8.079677  18.441085   8.293589\n",
       "2024-09-23 -33.813903 -7.743680  18.001123   9.557808\n",
       "2024-09-24 -32.844332 -8.126979  17.193800  10.357410\n",
       "2024-09-25 -33.089291 -9.292378  17.114362  11.566640\n",
       "2024-09-26 -34.543029 -8.773705  17.958109  11.457984\n",
       "\n",
       "[1000 rows x 4 columns]"
      ]
     },
     "execution_count": 209,
     "metadata": {},
     "output_type": "execute_result"
    }
   ],
   "source": [
    "pd.read_hdf(\"files/foo.h5\", \"df\")"
   ]
  },
  {
   "cell_type": "markdown",
   "metadata": {},
   "source": [
    "### Excel\n",
    "\n",
    "Reading and writing to MS Excel."
   ]
  },
  {
   "cell_type": "markdown",
   "metadata": {},
   "source": [
    "#### Writing to an excel file"
   ]
  },
  {
   "cell_type": "code",
   "execution_count": 210,
   "metadata": {},
   "outputs": [],
   "source": [
    "df.to_excel(\"files/foo.xlsx\", sheet_name=\"Sheet1\")"
   ]
  },
  {
   "cell_type": "markdown",
   "metadata": {},
   "source": [
    "#### Reading from an excel file."
   ]
  },
  {
   "cell_type": "code",
   "execution_count": 211,
   "metadata": {},
   "outputs": [
    {
     "data": {
      "text/html": [
       "<div>\n",
       "<style scoped>\n",
       "    .dataframe tbody tr th:only-of-type {\n",
       "        vertical-align: middle;\n",
       "    }\n",
       "\n",
       "    .dataframe tbody tr th {\n",
       "        vertical-align: top;\n",
       "    }\n",
       "\n",
       "    .dataframe thead th {\n",
       "        text-align: right;\n",
       "    }\n",
       "</style>\n",
       "<table border=\"1\" class=\"dataframe\">\n",
       "  <thead>\n",
       "    <tr style=\"text-align: right;\">\n",
       "      <th></th>\n",
       "      <th>Unnamed: 0</th>\n",
       "      <th>A</th>\n",
       "      <th>B</th>\n",
       "      <th>C</th>\n",
       "      <th>D</th>\n",
       "    </tr>\n",
       "  </thead>\n",
       "  <tbody>\n",
       "    <tr>\n",
       "      <th>0</th>\n",
       "      <td>2022-01-01</td>\n",
       "      <td>-0.493801</td>\n",
       "      <td>-0.342192</td>\n",
       "      <td>-3.165596</td>\n",
       "      <td>-0.293496</td>\n",
       "    </tr>\n",
       "    <tr>\n",
       "      <th>1</th>\n",
       "      <td>2022-01-02</td>\n",
       "      <td>-0.185765</td>\n",
       "      <td>0.622015</td>\n",
       "      <td>-2.412853</td>\n",
       "      <td>-1.397863</td>\n",
       "    </tr>\n",
       "    <tr>\n",
       "      <th>2</th>\n",
       "      <td>2022-01-03</td>\n",
       "      <td>0.314739</td>\n",
       "      <td>1.496308</td>\n",
       "      <td>-2.215453</td>\n",
       "      <td>-0.370507</td>\n",
       "    </tr>\n",
       "    <tr>\n",
       "      <th>3</th>\n",
       "      <td>2022-01-04</td>\n",
       "      <td>-0.610617</td>\n",
       "      <td>2.373850</td>\n",
       "      <td>-2.362305</td>\n",
       "      <td>-0.738148</td>\n",
       "    </tr>\n",
       "    <tr>\n",
       "      <th>4</th>\n",
       "      <td>2022-01-05</td>\n",
       "      <td>-0.602492</td>\n",
       "      <td>0.723706</td>\n",
       "      <td>-0.723577</td>\n",
       "      <td>0.000092</td>\n",
       "    </tr>\n",
       "    <tr>\n",
       "      <th>...</th>\n",
       "      <td>...</td>\n",
       "      <td>...</td>\n",
       "      <td>...</td>\n",
       "      <td>...</td>\n",
       "      <td>...</td>\n",
       "    </tr>\n",
       "    <tr>\n",
       "      <th>995</th>\n",
       "      <td>2024-09-22</td>\n",
       "      <td>-34.116008</td>\n",
       "      <td>-8.079677</td>\n",
       "      <td>18.441085</td>\n",
       "      <td>8.293589</td>\n",
       "    </tr>\n",
       "    <tr>\n",
       "      <th>996</th>\n",
       "      <td>2024-09-23</td>\n",
       "      <td>-33.813903</td>\n",
       "      <td>-7.743680</td>\n",
       "      <td>18.001123</td>\n",
       "      <td>9.557808</td>\n",
       "    </tr>\n",
       "    <tr>\n",
       "      <th>997</th>\n",
       "      <td>2024-09-24</td>\n",
       "      <td>-32.844332</td>\n",
       "      <td>-8.126979</td>\n",
       "      <td>17.193800</td>\n",
       "      <td>10.357410</td>\n",
       "    </tr>\n",
       "    <tr>\n",
       "      <th>998</th>\n",
       "      <td>2024-09-25</td>\n",
       "      <td>-33.089291</td>\n",
       "      <td>-9.292378</td>\n",
       "      <td>17.114362</td>\n",
       "      <td>11.566640</td>\n",
       "    </tr>\n",
       "    <tr>\n",
       "      <th>999</th>\n",
       "      <td>2024-09-26</td>\n",
       "      <td>-34.543029</td>\n",
       "      <td>-8.773705</td>\n",
       "      <td>17.958109</td>\n",
       "      <td>11.457984</td>\n",
       "    </tr>\n",
       "  </tbody>\n",
       "</table>\n",
       "<p>1000 rows × 5 columns</p>\n",
       "</div>"
      ],
      "text/plain": [
       "    Unnamed: 0          A         B          C          D\n",
       "0   2022-01-01  -0.493801 -0.342192  -3.165596  -0.293496\n",
       "1   2022-01-02  -0.185765  0.622015  -2.412853  -1.397863\n",
       "2   2022-01-03   0.314739  1.496308  -2.215453  -0.370507\n",
       "3   2022-01-04  -0.610617  2.373850  -2.362305  -0.738148\n",
       "4   2022-01-05  -0.602492  0.723706  -0.723577   0.000092\n",
       "..         ...        ...       ...        ...        ...\n",
       "995 2024-09-22 -34.116008 -8.079677  18.441085   8.293589\n",
       "996 2024-09-23 -33.813903 -7.743680  18.001123   9.557808\n",
       "997 2024-09-24 -32.844332 -8.126979  17.193800  10.357410\n",
       "998 2024-09-25 -33.089291 -9.292378  17.114362  11.566640\n",
       "999 2024-09-26 -34.543029 -8.773705  17.958109  11.457984\n",
       "\n",
       "[1000 rows x 5 columns]"
      ]
     },
     "execution_count": 211,
     "metadata": {},
     "output_type": "execute_result"
    }
   ],
   "source": [
    "pd.read_excel(\"files/foo.xlsx\", \"Sheet1\", index_col=None, na_values=[\"NA\"])"
   ]
  }
 ],
 "metadata": {
  "interpreter": {
   "hash": "2647ea34e536f865ab67ff9ddee7fd78773d956cec0cab53c79b32cd10da5d83"
  },
  "kernelspec": {
   "display_name": "Python 3.9.10 64-bit",
   "language": "python",
   "name": "python3"
  },
  "language_info": {
   "codemirror_mode": {
    "name": "ipython",
    "version": 3
   },
   "file_extension": ".py",
   "mimetype": "text/x-python",
   "name": "python",
   "nbconvert_exporter": "python",
   "pygments_lexer": "ipython3",
   "version": "3.9.10"
  },
  "orig_nbformat": 4
 },
 "nbformat": 4,
 "nbformat_minor": 2
}
