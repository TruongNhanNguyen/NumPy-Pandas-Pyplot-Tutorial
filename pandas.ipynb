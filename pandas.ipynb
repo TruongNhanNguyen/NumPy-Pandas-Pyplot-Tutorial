{
 "cells": [
  {
   "cell_type": "markdown",
   "metadata": {},
   "source": [
    "# PANDAS TUTORIAL (QUICK TOUR-10 MINUTES)"
   ]
  },
  {
   "cell_type": "markdown",
   "metadata": {},
   "source": [
    "This is a short introduction to `pandas`, geared mainly for new users.\n",
    "\n",
    "Customarily, we import as follow:"
   ]
  },
  {
   "cell_type": "code",
   "execution_count": 1,
   "metadata": {},
   "outputs": [],
   "source": [
    "import numpy as np\n",
    "import pandas as pd"
   ]
  },
  {
   "cell_type": "markdown",
   "metadata": {},
   "source": [
    "## Object Creation"
   ]
  },
  {
   "cell_type": "markdown",
   "metadata": {},
   "source": [
    "Creating a **Series** by passing a list of values, letting `pandas` create a default integer index."
   ]
  },
  {
   "cell_type": "code",
   "execution_count": 2,
   "metadata": {},
   "outputs": [
    {
     "data": {
      "text/plain": [
       "0     1.0\n",
       "1     2.0\n",
       "2    -7.0\n",
       "3    10.0\n",
       "4     NaN\n",
       "5     8.0\n",
       "6    11.0\n",
       "dtype: float64"
      ]
     },
     "execution_count": 2,
     "metadata": {},
     "output_type": "execute_result"
    }
   ],
   "source": [
    "s = pd.Series([1, 2, -7, 10, np.nan, 8, 11])\n",
    "s"
   ]
  },
  {
   "cell_type": "markdown",
   "metadata": {},
   "source": [
    "Creating a **DataFrame** by passing a `NumPy` array, with datetime index and labeled columns."
   ]
  },
  {
   "cell_type": "code",
   "execution_count": 3,
   "metadata": {},
   "outputs": [
    {
     "data": {
      "text/plain": [
       "DatetimeIndex(['2022-03-19', '2022-03-20', '2022-03-21', '2022-03-22',\n",
       "               '2022-03-23', '2022-03-24', '2022-03-25'],\n",
       "              dtype='datetime64[ns]', freq='D')"
      ]
     },
     "execution_count": 3,
     "metadata": {},
     "output_type": "execute_result"
    }
   ],
   "source": [
    "dates = pd.date_range(\"20220319\", periods=7)\n",
    "dates"
   ]
  },
  {
   "cell_type": "code",
   "execution_count": 4,
   "metadata": {},
   "outputs": [
    {
     "data": {
      "text/html": [
       "<div>\n",
       "<style scoped>\n",
       "    .dataframe tbody tr th:only-of-type {\n",
       "        vertical-align: middle;\n",
       "    }\n",
       "\n",
       "    .dataframe tbody tr th {\n",
       "        vertical-align: top;\n",
       "    }\n",
       "\n",
       "    .dataframe thead th {\n",
       "        text-align: right;\n",
       "    }\n",
       "</style>\n",
       "<table border=\"1\" class=\"dataframe\">\n",
       "  <thead>\n",
       "    <tr style=\"text-align: right;\">\n",
       "      <th></th>\n",
       "      <th>A</th>\n",
       "      <th>B</th>\n",
       "      <th>C</th>\n",
       "      <th>D</th>\n",
       "    </tr>\n",
       "  </thead>\n",
       "  <tbody>\n",
       "    <tr>\n",
       "      <th>2022-03-19</th>\n",
       "      <td>0.228181</td>\n",
       "      <td>0.411725</td>\n",
       "      <td>-0.888684</td>\n",
       "      <td>-0.907902</td>\n",
       "    </tr>\n",
       "    <tr>\n",
       "      <th>2022-03-20</th>\n",
       "      <td>-1.676719</td>\n",
       "      <td>1.090258</td>\n",
       "      <td>-1.966077</td>\n",
       "      <td>0.909066</td>\n",
       "    </tr>\n",
       "    <tr>\n",
       "      <th>2022-03-21</th>\n",
       "      <td>0.244249</td>\n",
       "      <td>-0.256577</td>\n",
       "      <td>-0.099083</td>\n",
       "      <td>-0.169163</td>\n",
       "    </tr>\n",
       "    <tr>\n",
       "      <th>2022-03-22</th>\n",
       "      <td>1.776478</td>\n",
       "      <td>0.235238</td>\n",
       "      <td>-0.093981</td>\n",
       "      <td>0.867664</td>\n",
       "    </tr>\n",
       "    <tr>\n",
       "      <th>2022-03-23</th>\n",
       "      <td>-0.185076</td>\n",
       "      <td>-0.964747</td>\n",
       "      <td>-0.542850</td>\n",
       "      <td>-0.283645</td>\n",
       "    </tr>\n",
       "    <tr>\n",
       "      <th>2022-03-24</th>\n",
       "      <td>-0.216682</td>\n",
       "      <td>0.182571</td>\n",
       "      <td>0.885816</td>\n",
       "      <td>-0.151794</td>\n",
       "    </tr>\n",
       "    <tr>\n",
       "      <th>2022-03-25</th>\n",
       "      <td>0.624784</td>\n",
       "      <td>-0.974044</td>\n",
       "      <td>1.100455</td>\n",
       "      <td>0.893449</td>\n",
       "    </tr>\n",
       "  </tbody>\n",
       "</table>\n",
       "</div>"
      ],
      "text/plain": [
       "                   A         B         C         D\n",
       "2022-03-19  0.228181  0.411725 -0.888684 -0.907902\n",
       "2022-03-20 -1.676719  1.090258 -1.966077  0.909066\n",
       "2022-03-21  0.244249 -0.256577 -0.099083 -0.169163\n",
       "2022-03-22  1.776478  0.235238 -0.093981  0.867664\n",
       "2022-03-23 -0.185076 -0.964747 -0.542850 -0.283645\n",
       "2022-03-24 -0.216682  0.182571  0.885816 -0.151794\n",
       "2022-03-25  0.624784 -0.974044  1.100455  0.893449"
      ]
     },
     "execution_count": 4,
     "metadata": {},
     "output_type": "execute_result"
    }
   ],
   "source": [
    "df = pd.DataFrame(np.random.randn(7, 4), index=dates, columns=list(\"ABCD\"))\n",
    "df"
   ]
  },
  {
   "cell_type": "markdown",
   "metadata": {},
   "source": [
    "Create a **DataFrame** by passing a *dictionary* of objects that can be converted into a series-like structure."
   ]
  },
  {
   "cell_type": "code",
   "execution_count": 5,
   "metadata": {},
   "outputs": [
    {
     "data": {
      "text/html": [
       "<div>\n",
       "<style scoped>\n",
       "    .dataframe tbody tr th:only-of-type {\n",
       "        vertical-align: middle;\n",
       "    }\n",
       "\n",
       "    .dataframe tbody tr th {\n",
       "        vertical-align: top;\n",
       "    }\n",
       "\n",
       "    .dataframe thead th {\n",
       "        text-align: right;\n",
       "    }\n",
       "</style>\n",
       "<table border=\"1\" class=\"dataframe\">\n",
       "  <thead>\n",
       "    <tr style=\"text-align: right;\">\n",
       "      <th></th>\n",
       "      <th>A</th>\n",
       "      <th>B</th>\n",
       "      <th>C</th>\n",
       "      <th>D</th>\n",
       "      <th>E</th>\n",
       "      <th>F</th>\n",
       "    </tr>\n",
       "  </thead>\n",
       "  <tbody>\n",
       "    <tr>\n",
       "      <th>0</th>\n",
       "      <td>1.5</td>\n",
       "      <td>2022-03-19</td>\n",
       "      <td>1.0</td>\n",
       "      <td>5</td>\n",
       "      <td>test</td>\n",
       "      <td>foo</td>\n",
       "    </tr>\n",
       "    <tr>\n",
       "      <th>1</th>\n",
       "      <td>1.5</td>\n",
       "      <td>2022-03-19</td>\n",
       "      <td>1.0</td>\n",
       "      <td>5</td>\n",
       "      <td>train</td>\n",
       "      <td>foo</td>\n",
       "    </tr>\n",
       "    <tr>\n",
       "      <th>2</th>\n",
       "      <td>1.5</td>\n",
       "      <td>2022-03-19</td>\n",
       "      <td>1.0</td>\n",
       "      <td>5</td>\n",
       "      <td>test</td>\n",
       "      <td>foo</td>\n",
       "    </tr>\n",
       "    <tr>\n",
       "      <th>3</th>\n",
       "      <td>1.5</td>\n",
       "      <td>2022-03-19</td>\n",
       "      <td>1.0</td>\n",
       "      <td>5</td>\n",
       "      <td>train</td>\n",
       "      <td>foo</td>\n",
       "    </tr>\n",
       "  </tbody>\n",
       "</table>\n",
       "</div>"
      ],
      "text/plain": [
       "     A          B    C  D      E    F\n",
       "0  1.5 2022-03-19  1.0  5   test  foo\n",
       "1  1.5 2022-03-19  1.0  5  train  foo\n",
       "2  1.5 2022-03-19  1.0  5   test  foo\n",
       "3  1.5 2022-03-19  1.0  5  train  foo"
      ]
     },
     "execution_count": 5,
     "metadata": {},
     "output_type": "execute_result"
    }
   ],
   "source": [
    "df2 = pd.DataFrame(\n",
    "    {\n",
    "        \"A\": 1.5,\n",
    "        \"B\": pd.Timestamp(\"20220319\"),\n",
    "        \"C\": pd.Series(1, index=list(range(4)), dtype=np.float32),\n",
    "        \"D\": np.array([5] * 4, dtype=np.int32),\n",
    "        \"E\": pd.Categorical([\"test\", \"train\", \"test\", \"train\"]),\n",
    "        \"F\": \"foo\",\n",
    "    }\n",
    ")\n",
    "df2"
   ]
  },
  {
   "cell_type": "markdown",
   "metadata": {},
   "source": [
    "The columns of the resulting **DataFrame** have different `dtypes`."
   ]
  },
  {
   "cell_type": "code",
   "execution_count": 6,
   "metadata": {},
   "outputs": [
    {
     "data": {
      "text/plain": [
       "A           float64\n",
       "B    datetime64[ns]\n",
       "C           float32\n",
       "D             int32\n",
       "E          category\n",
       "F            object\n",
       "dtype: object"
      ]
     },
     "execution_count": 6,
     "metadata": {},
     "output_type": "execute_result"
    }
   ],
   "source": [
    "df2.dtypes"
   ]
  },
  {
   "cell_type": "markdown",
   "metadata": {},
   "source": [
    "## Viewing data"
   ]
  },
  {
   "cell_type": "markdown",
   "metadata": {},
   "source": [
    "Here is how to view the top and bottom rows of the frame."
   ]
  },
  {
   "cell_type": "code",
   "execution_count": 7,
   "metadata": {},
   "outputs": [
    {
     "data": {
      "text/html": [
       "<div>\n",
       "<style scoped>\n",
       "    .dataframe tbody tr th:only-of-type {\n",
       "        vertical-align: middle;\n",
       "    }\n",
       "\n",
       "    .dataframe tbody tr th {\n",
       "        vertical-align: top;\n",
       "    }\n",
       "\n",
       "    .dataframe thead th {\n",
       "        text-align: right;\n",
       "    }\n",
       "</style>\n",
       "<table border=\"1\" class=\"dataframe\">\n",
       "  <thead>\n",
       "    <tr style=\"text-align: right;\">\n",
       "      <th></th>\n",
       "      <th>A</th>\n",
       "      <th>B</th>\n",
       "      <th>C</th>\n",
       "      <th>D</th>\n",
       "    </tr>\n",
       "  </thead>\n",
       "  <tbody>\n",
       "    <tr>\n",
       "      <th>2022-03-19</th>\n",
       "      <td>0.228181</td>\n",
       "      <td>0.411725</td>\n",
       "      <td>-0.888684</td>\n",
       "      <td>-0.907902</td>\n",
       "    </tr>\n",
       "    <tr>\n",
       "      <th>2022-03-20</th>\n",
       "      <td>-1.676719</td>\n",
       "      <td>1.090258</td>\n",
       "      <td>-1.966077</td>\n",
       "      <td>0.909066</td>\n",
       "    </tr>\n",
       "    <tr>\n",
       "      <th>2022-03-21</th>\n",
       "      <td>0.244249</td>\n",
       "      <td>-0.256577</td>\n",
       "      <td>-0.099083</td>\n",
       "      <td>-0.169163</td>\n",
       "    </tr>\n",
       "    <tr>\n",
       "      <th>2022-03-22</th>\n",
       "      <td>1.776478</td>\n",
       "      <td>0.235238</td>\n",
       "      <td>-0.093981</td>\n",
       "      <td>0.867664</td>\n",
       "    </tr>\n",
       "    <tr>\n",
       "      <th>2022-03-23</th>\n",
       "      <td>-0.185076</td>\n",
       "      <td>-0.964747</td>\n",
       "      <td>-0.542850</td>\n",
       "      <td>-0.283645</td>\n",
       "    </tr>\n",
       "  </tbody>\n",
       "</table>\n",
       "</div>"
      ],
      "text/plain": [
       "                   A         B         C         D\n",
       "2022-03-19  0.228181  0.411725 -0.888684 -0.907902\n",
       "2022-03-20 -1.676719  1.090258 -1.966077  0.909066\n",
       "2022-03-21  0.244249 -0.256577 -0.099083 -0.169163\n",
       "2022-03-22  1.776478  0.235238 -0.093981  0.867664\n",
       "2022-03-23 -0.185076 -0.964747 -0.542850 -0.283645"
      ]
     },
     "execution_count": 7,
     "metadata": {},
     "output_type": "execute_result"
    }
   ],
   "source": [
    "df.head()"
   ]
  },
  {
   "cell_type": "code",
   "execution_count": 8,
   "metadata": {},
   "outputs": [
    {
     "data": {
      "text/html": [
       "<div>\n",
       "<style scoped>\n",
       "    .dataframe tbody tr th:only-of-type {\n",
       "        vertical-align: middle;\n",
       "    }\n",
       "\n",
       "    .dataframe tbody tr th {\n",
       "        vertical-align: top;\n",
       "    }\n",
       "\n",
       "    .dataframe thead th {\n",
       "        text-align: right;\n",
       "    }\n",
       "</style>\n",
       "<table border=\"1\" class=\"dataframe\">\n",
       "  <thead>\n",
       "    <tr style=\"text-align: right;\">\n",
       "      <th></th>\n",
       "      <th>A</th>\n",
       "      <th>B</th>\n",
       "      <th>C</th>\n",
       "      <th>D</th>\n",
       "    </tr>\n",
       "  </thead>\n",
       "  <tbody>\n",
       "    <tr>\n",
       "      <th>2022-03-21</th>\n",
       "      <td>0.244249</td>\n",
       "      <td>-0.256577</td>\n",
       "      <td>-0.099083</td>\n",
       "      <td>-0.169163</td>\n",
       "    </tr>\n",
       "    <tr>\n",
       "      <th>2022-03-22</th>\n",
       "      <td>1.776478</td>\n",
       "      <td>0.235238</td>\n",
       "      <td>-0.093981</td>\n",
       "      <td>0.867664</td>\n",
       "    </tr>\n",
       "    <tr>\n",
       "      <th>2022-03-23</th>\n",
       "      <td>-0.185076</td>\n",
       "      <td>-0.964747</td>\n",
       "      <td>-0.542850</td>\n",
       "      <td>-0.283645</td>\n",
       "    </tr>\n",
       "    <tr>\n",
       "      <th>2022-03-24</th>\n",
       "      <td>-0.216682</td>\n",
       "      <td>0.182571</td>\n",
       "      <td>0.885816</td>\n",
       "      <td>-0.151794</td>\n",
       "    </tr>\n",
       "    <tr>\n",
       "      <th>2022-03-25</th>\n",
       "      <td>0.624784</td>\n",
       "      <td>-0.974044</td>\n",
       "      <td>1.100455</td>\n",
       "      <td>0.893449</td>\n",
       "    </tr>\n",
       "  </tbody>\n",
       "</table>\n",
       "</div>"
      ],
      "text/plain": [
       "                   A         B         C         D\n",
       "2022-03-21  0.244249 -0.256577 -0.099083 -0.169163\n",
       "2022-03-22  1.776478  0.235238 -0.093981  0.867664\n",
       "2022-03-23 -0.185076 -0.964747 -0.542850 -0.283645\n",
       "2022-03-24 -0.216682  0.182571  0.885816 -0.151794\n",
       "2022-03-25  0.624784 -0.974044  1.100455  0.893449"
      ]
     },
     "execution_count": 8,
     "metadata": {},
     "output_type": "execute_result"
    }
   ],
   "source": [
    "df.tail()"
   ]
  },
  {
   "cell_type": "markdown",
   "metadata": {},
   "source": [
    "> You can pass arguments to the `head()` or `tail()` functions to display a specified number of rows."
   ]
  },
  {
   "cell_type": "code",
   "execution_count": 9,
   "metadata": {},
   "outputs": [
    {
     "data": {
      "text/html": [
       "<div>\n",
       "<style scoped>\n",
       "    .dataframe tbody tr th:only-of-type {\n",
       "        vertical-align: middle;\n",
       "    }\n",
       "\n",
       "    .dataframe tbody tr th {\n",
       "        vertical-align: top;\n",
       "    }\n",
       "\n",
       "    .dataframe thead th {\n",
       "        text-align: right;\n",
       "    }\n",
       "</style>\n",
       "<table border=\"1\" class=\"dataframe\">\n",
       "  <thead>\n",
       "    <tr style=\"text-align: right;\">\n",
       "      <th></th>\n",
       "      <th>A</th>\n",
       "      <th>B</th>\n",
       "      <th>C</th>\n",
       "      <th>D</th>\n",
       "    </tr>\n",
       "  </thead>\n",
       "  <tbody>\n",
       "    <tr>\n",
       "      <th>2022-03-19</th>\n",
       "      <td>0.228181</td>\n",
       "      <td>0.411725</td>\n",
       "      <td>-0.888684</td>\n",
       "      <td>-0.907902</td>\n",
       "    </tr>\n",
       "    <tr>\n",
       "      <th>2022-03-20</th>\n",
       "      <td>-1.676719</td>\n",
       "      <td>1.090258</td>\n",
       "      <td>-1.966077</td>\n",
       "      <td>0.909066</td>\n",
       "    </tr>\n",
       "  </tbody>\n",
       "</table>\n",
       "</div>"
      ],
      "text/plain": [
       "                   A         B         C         D\n",
       "2022-03-19  0.228181  0.411725 -0.888684 -0.907902\n",
       "2022-03-20 -1.676719  1.090258 -1.966077  0.909066"
      ]
     },
     "execution_count": 9,
     "metadata": {},
     "output_type": "execute_result"
    }
   ],
   "source": [
    "df.head(2)"
   ]
  },
  {
   "cell_type": "markdown",
   "metadata": {},
   "source": [
    "Display the index, columns."
   ]
  },
  {
   "cell_type": "code",
   "execution_count": 10,
   "metadata": {},
   "outputs": [
    {
     "data": {
      "text/plain": [
       "DatetimeIndex(['2022-03-19', '2022-03-20', '2022-03-21', '2022-03-22',\n",
       "               '2022-03-23', '2022-03-24', '2022-03-25'],\n",
       "              dtype='datetime64[ns]', freq='D')"
      ]
     },
     "execution_count": 10,
     "metadata": {},
     "output_type": "execute_result"
    }
   ],
   "source": [
    "df.index"
   ]
  },
  {
   "cell_type": "code",
   "execution_count": 11,
   "metadata": {},
   "outputs": [
    {
     "data": {
      "text/plain": [
       "Index(['A', 'B', 'C', 'D'], dtype='object')"
      ]
     },
     "execution_count": 11,
     "metadata": {},
     "output_type": "execute_result"
    }
   ],
   "source": [
    "df.columns"
   ]
  },
  {
   "cell_type": "markdown",
   "metadata": {},
   "source": [
    "> `DataFrame.to_numpy()` gives a `NumPy` representation of the underlying data. Note that this can be an expensive operation when your `DataFrame` has columns with *different* data types, which comes down to a fundamental difference between pandas and `NumPy`: `NumPy` arrays have one dtype for the entire array, while pandas DataFrames have one dtype per column. When you call `DataFrame.to_numpy()`, pandas will find the `NumPy` dtype that can hold all of the dtypes in the `DataFrame`. This may end up being object, which requires casting every value to a Python object."
   ]
  },
  {
   "cell_type": "markdown",
   "metadata": {},
   "source": [
    "For `df`, our **DataFrame** of all floating-point values, `DataFrame.to_numpy()` is fast and doesn't require copying data"
   ]
  },
  {
   "cell_type": "code",
   "execution_count": 12,
   "metadata": {},
   "outputs": [
    {
     "data": {
      "text/plain": [
       "array([[ 0.22818121,  0.41172466, -0.88868392, -0.90790186],\n",
       "       [-1.67671899,  1.09025807, -1.96607677,  0.90906625],\n",
       "       [ 0.24424891, -0.2565773 , -0.09908294, -0.16916329],\n",
       "       [ 1.77647805,  0.23523834, -0.09398143,  0.86766426],\n",
       "       [-0.18507631, -0.96474687, -0.54284961, -0.28364508],\n",
       "       [-0.21668238,  0.18257144,  0.88581603, -0.15179394],\n",
       "       [ 0.62478439, -0.97404414,  1.10045518,  0.893449  ]])"
      ]
     },
     "execution_count": 12,
     "metadata": {},
     "output_type": "execute_result"
    }
   ],
   "source": [
    "df.to_numpy()"
   ]
  },
  {
   "cell_type": "markdown",
   "metadata": {},
   "source": [
    "For `df2`, the **DataFrame** with multiply `dtypes`, `DataFrame.to_numpy()` is relative expensive."
   ]
  },
  {
   "cell_type": "code",
   "execution_count": 13,
   "metadata": {},
   "outputs": [
    {
     "data": {
      "text/plain": [
       "array([[1.5, Timestamp('2022-03-19 00:00:00'), 1.0, 5, 'test', 'foo'],\n",
       "       [1.5, Timestamp('2022-03-19 00:00:00'), 1.0, 5, 'train', 'foo'],\n",
       "       [1.5, Timestamp('2022-03-19 00:00:00'), 1.0, 5, 'test', 'foo'],\n",
       "       [1.5, Timestamp('2022-03-19 00:00:00'), 1.0, 5, 'train', 'foo']],\n",
       "      dtype=object)"
      ]
     },
     "execution_count": 13,
     "metadata": {},
     "output_type": "execute_result"
    }
   ],
   "source": [
    "df2.to_numpy()"
   ]
  },
  {
   "cell_type": "markdown",
   "metadata": {},
   "source": [
    "`describe()` shows a quick statistic summary of your data."
   ]
  },
  {
   "cell_type": "code",
   "execution_count": 14,
   "metadata": {},
   "outputs": [
    {
     "data": {
      "text/html": [
       "<div>\n",
       "<style scoped>\n",
       "    .dataframe tbody tr th:only-of-type {\n",
       "        vertical-align: middle;\n",
       "    }\n",
       "\n",
       "    .dataframe tbody tr th {\n",
       "        vertical-align: top;\n",
       "    }\n",
       "\n",
       "    .dataframe thead th {\n",
       "        text-align: right;\n",
       "    }\n",
       "</style>\n",
       "<table border=\"1\" class=\"dataframe\">\n",
       "  <thead>\n",
       "    <tr style=\"text-align: right;\">\n",
       "      <th></th>\n",
       "      <th>A</th>\n",
       "      <th>B</th>\n",
       "      <th>C</th>\n",
       "      <th>D</th>\n",
       "    </tr>\n",
       "  </thead>\n",
       "  <tbody>\n",
       "    <tr>\n",
       "      <th>count</th>\n",
       "      <td>7.000000</td>\n",
       "      <td>7.000000</td>\n",
       "      <td>7.000000</td>\n",
       "      <td>7.000000</td>\n",
       "    </tr>\n",
       "    <tr>\n",
       "      <th>mean</th>\n",
       "      <td>0.113602</td>\n",
       "      <td>-0.039368</td>\n",
       "      <td>-0.229200</td>\n",
       "      <td>0.165382</td>\n",
       "    </tr>\n",
       "    <tr>\n",
       "      <th>std</th>\n",
       "      <td>1.037642</td>\n",
       "      <td>0.750703</td>\n",
       "      <td>1.048530</td>\n",
       "      <td>0.723698</td>\n",
       "    </tr>\n",
       "    <tr>\n",
       "      <th>min</th>\n",
       "      <td>-1.676719</td>\n",
       "      <td>-0.974044</td>\n",
       "      <td>-1.966077</td>\n",
       "      <td>-0.907902</td>\n",
       "    </tr>\n",
       "    <tr>\n",
       "      <th>25%</th>\n",
       "      <td>-0.200879</td>\n",
       "      <td>-0.610662</td>\n",
       "      <td>-0.715767</td>\n",
       "      <td>-0.226404</td>\n",
       "    </tr>\n",
       "    <tr>\n",
       "      <th>50%</th>\n",
       "      <td>0.228181</td>\n",
       "      <td>0.182571</td>\n",
       "      <td>-0.099083</td>\n",
       "      <td>-0.151794</td>\n",
       "    </tr>\n",
       "    <tr>\n",
       "      <th>75%</th>\n",
       "      <td>0.434517</td>\n",
       "      <td>0.323481</td>\n",
       "      <td>0.395917</td>\n",
       "      <td>0.880557</td>\n",
       "    </tr>\n",
       "    <tr>\n",
       "      <th>max</th>\n",
       "      <td>1.776478</td>\n",
       "      <td>1.090258</td>\n",
       "      <td>1.100455</td>\n",
       "      <td>0.909066</td>\n",
       "    </tr>\n",
       "  </tbody>\n",
       "</table>\n",
       "</div>"
      ],
      "text/plain": [
       "              A         B         C         D\n",
       "count  7.000000  7.000000  7.000000  7.000000\n",
       "mean   0.113602 -0.039368 -0.229200  0.165382\n",
       "std    1.037642  0.750703  1.048530  0.723698\n",
       "min   -1.676719 -0.974044 -1.966077 -0.907902\n",
       "25%   -0.200879 -0.610662 -0.715767 -0.226404\n",
       "50%    0.228181  0.182571 -0.099083 -0.151794\n",
       "75%    0.434517  0.323481  0.395917  0.880557\n",
       "max    1.776478  1.090258  1.100455  0.909066"
      ]
     },
     "execution_count": 14,
     "metadata": {},
     "output_type": "execute_result"
    }
   ],
   "source": [
    "df.describe()"
   ]
  },
  {
   "cell_type": "code",
   "execution_count": 15,
   "metadata": {},
   "outputs": [
    {
     "data": {
      "text/html": [
       "<div>\n",
       "<style scoped>\n",
       "    .dataframe tbody tr th:only-of-type {\n",
       "        vertical-align: middle;\n",
       "    }\n",
       "\n",
       "    .dataframe tbody tr th {\n",
       "        vertical-align: top;\n",
       "    }\n",
       "\n",
       "    .dataframe thead th {\n",
       "        text-align: right;\n",
       "    }\n",
       "</style>\n",
       "<table border=\"1\" class=\"dataframe\">\n",
       "  <thead>\n",
       "    <tr style=\"text-align: right;\">\n",
       "      <th></th>\n",
       "      <th>A</th>\n",
       "      <th>C</th>\n",
       "      <th>D</th>\n",
       "    </tr>\n",
       "  </thead>\n",
       "  <tbody>\n",
       "    <tr>\n",
       "      <th>count</th>\n",
       "      <td>4.0</td>\n",
       "      <td>4.0</td>\n",
       "      <td>4.0</td>\n",
       "    </tr>\n",
       "    <tr>\n",
       "      <th>mean</th>\n",
       "      <td>1.5</td>\n",
       "      <td>1.0</td>\n",
       "      <td>5.0</td>\n",
       "    </tr>\n",
       "    <tr>\n",
       "      <th>std</th>\n",
       "      <td>0.0</td>\n",
       "      <td>0.0</td>\n",
       "      <td>0.0</td>\n",
       "    </tr>\n",
       "    <tr>\n",
       "      <th>min</th>\n",
       "      <td>1.5</td>\n",
       "      <td>1.0</td>\n",
       "      <td>5.0</td>\n",
       "    </tr>\n",
       "    <tr>\n",
       "      <th>25%</th>\n",
       "      <td>1.5</td>\n",
       "      <td>1.0</td>\n",
       "      <td>5.0</td>\n",
       "    </tr>\n",
       "    <tr>\n",
       "      <th>50%</th>\n",
       "      <td>1.5</td>\n",
       "      <td>1.0</td>\n",
       "      <td>5.0</td>\n",
       "    </tr>\n",
       "    <tr>\n",
       "      <th>75%</th>\n",
       "      <td>1.5</td>\n",
       "      <td>1.0</td>\n",
       "      <td>5.0</td>\n",
       "    </tr>\n",
       "    <tr>\n",
       "      <th>max</th>\n",
       "      <td>1.5</td>\n",
       "      <td>1.0</td>\n",
       "      <td>5.0</td>\n",
       "    </tr>\n",
       "  </tbody>\n",
       "</table>\n",
       "</div>"
      ],
      "text/plain": [
       "         A    C    D\n",
       "count  4.0  4.0  4.0\n",
       "mean   1.5  1.0  5.0\n",
       "std    0.0  0.0  0.0\n",
       "min    1.5  1.0  5.0\n",
       "25%    1.5  1.0  5.0\n",
       "50%    1.5  1.0  5.0\n",
       "75%    1.5  1.0  5.0\n",
       "max    1.5  1.0  5.0"
      ]
     },
     "execution_count": 15,
     "metadata": {},
     "output_type": "execute_result"
    }
   ],
   "source": [
    "df2.describe()"
   ]
  },
  {
   "cell_type": "markdown",
   "metadata": {},
   "source": [
    "Transposing your data."
   ]
  },
  {
   "cell_type": "code",
   "execution_count": 16,
   "metadata": {},
   "outputs": [
    {
     "data": {
      "text/html": [
       "<div>\n",
       "<style scoped>\n",
       "    .dataframe tbody tr th:only-of-type {\n",
       "        vertical-align: middle;\n",
       "    }\n",
       "\n",
       "    .dataframe tbody tr th {\n",
       "        vertical-align: top;\n",
       "    }\n",
       "\n",
       "    .dataframe thead th {\n",
       "        text-align: right;\n",
       "    }\n",
       "</style>\n",
       "<table border=\"1\" class=\"dataframe\">\n",
       "  <thead>\n",
       "    <tr style=\"text-align: right;\">\n",
       "      <th></th>\n",
       "      <th>2022-03-19</th>\n",
       "      <th>2022-03-20</th>\n",
       "      <th>2022-03-21</th>\n",
       "      <th>2022-03-22</th>\n",
       "      <th>2022-03-23</th>\n",
       "      <th>2022-03-24</th>\n",
       "      <th>2022-03-25</th>\n",
       "    </tr>\n",
       "  </thead>\n",
       "  <tbody>\n",
       "    <tr>\n",
       "      <th>A</th>\n",
       "      <td>0.228181</td>\n",
       "      <td>-1.676719</td>\n",
       "      <td>0.244249</td>\n",
       "      <td>1.776478</td>\n",
       "      <td>-0.185076</td>\n",
       "      <td>-0.216682</td>\n",
       "      <td>0.624784</td>\n",
       "    </tr>\n",
       "    <tr>\n",
       "      <th>B</th>\n",
       "      <td>0.411725</td>\n",
       "      <td>1.090258</td>\n",
       "      <td>-0.256577</td>\n",
       "      <td>0.235238</td>\n",
       "      <td>-0.964747</td>\n",
       "      <td>0.182571</td>\n",
       "      <td>-0.974044</td>\n",
       "    </tr>\n",
       "    <tr>\n",
       "      <th>C</th>\n",
       "      <td>-0.888684</td>\n",
       "      <td>-1.966077</td>\n",
       "      <td>-0.099083</td>\n",
       "      <td>-0.093981</td>\n",
       "      <td>-0.542850</td>\n",
       "      <td>0.885816</td>\n",
       "      <td>1.100455</td>\n",
       "    </tr>\n",
       "    <tr>\n",
       "      <th>D</th>\n",
       "      <td>-0.907902</td>\n",
       "      <td>0.909066</td>\n",
       "      <td>-0.169163</td>\n",
       "      <td>0.867664</td>\n",
       "      <td>-0.283645</td>\n",
       "      <td>-0.151794</td>\n",
       "      <td>0.893449</td>\n",
       "    </tr>\n",
       "  </tbody>\n",
       "</table>\n",
       "</div>"
      ],
      "text/plain": [
       "   2022-03-19  2022-03-20  2022-03-21  2022-03-22  2022-03-23  2022-03-24  \\\n",
       "A    0.228181   -1.676719    0.244249    1.776478   -0.185076   -0.216682   \n",
       "B    0.411725    1.090258   -0.256577    0.235238   -0.964747    0.182571   \n",
       "C   -0.888684   -1.966077   -0.099083   -0.093981   -0.542850    0.885816   \n",
       "D   -0.907902    0.909066   -0.169163    0.867664   -0.283645   -0.151794   \n",
       "\n",
       "   2022-03-25  \n",
       "A    0.624784  \n",
       "B   -0.974044  \n",
       "C    1.100455  \n",
       "D    0.893449  "
      ]
     },
     "execution_count": 16,
     "metadata": {},
     "output_type": "execute_result"
    }
   ],
   "source": [
    "df.T"
   ]
  },
  {
   "cell_type": "markdown",
   "metadata": {},
   "source": [
    "Sorting by an **axis**"
   ]
  },
  {
   "cell_type": "code",
   "execution_count": 17,
   "metadata": {},
   "outputs": [
    {
     "data": {
      "text/html": [
       "<div>\n",
       "<style scoped>\n",
       "    .dataframe tbody tr th:only-of-type {\n",
       "        vertical-align: middle;\n",
       "    }\n",
       "\n",
       "    .dataframe tbody tr th {\n",
       "        vertical-align: top;\n",
       "    }\n",
       "\n",
       "    .dataframe thead th {\n",
       "        text-align: right;\n",
       "    }\n",
       "</style>\n",
       "<table border=\"1\" class=\"dataframe\">\n",
       "  <thead>\n",
       "    <tr style=\"text-align: right;\">\n",
       "      <th></th>\n",
       "      <th>A</th>\n",
       "      <th>B</th>\n",
       "      <th>C</th>\n",
       "      <th>D</th>\n",
       "    </tr>\n",
       "  </thead>\n",
       "  <tbody>\n",
       "    <tr>\n",
       "      <th>2022-03-25</th>\n",
       "      <td>0.624784</td>\n",
       "      <td>-0.974044</td>\n",
       "      <td>1.100455</td>\n",
       "      <td>0.893449</td>\n",
       "    </tr>\n",
       "    <tr>\n",
       "      <th>2022-03-24</th>\n",
       "      <td>-0.216682</td>\n",
       "      <td>0.182571</td>\n",
       "      <td>0.885816</td>\n",
       "      <td>-0.151794</td>\n",
       "    </tr>\n",
       "    <tr>\n",
       "      <th>2022-03-23</th>\n",
       "      <td>-0.185076</td>\n",
       "      <td>-0.964747</td>\n",
       "      <td>-0.542850</td>\n",
       "      <td>-0.283645</td>\n",
       "    </tr>\n",
       "    <tr>\n",
       "      <th>2022-03-22</th>\n",
       "      <td>1.776478</td>\n",
       "      <td>0.235238</td>\n",
       "      <td>-0.093981</td>\n",
       "      <td>0.867664</td>\n",
       "    </tr>\n",
       "    <tr>\n",
       "      <th>2022-03-21</th>\n",
       "      <td>0.244249</td>\n",
       "      <td>-0.256577</td>\n",
       "      <td>-0.099083</td>\n",
       "      <td>-0.169163</td>\n",
       "    </tr>\n",
       "    <tr>\n",
       "      <th>2022-03-20</th>\n",
       "      <td>-1.676719</td>\n",
       "      <td>1.090258</td>\n",
       "      <td>-1.966077</td>\n",
       "      <td>0.909066</td>\n",
       "    </tr>\n",
       "    <tr>\n",
       "      <th>2022-03-19</th>\n",
       "      <td>0.228181</td>\n",
       "      <td>0.411725</td>\n",
       "      <td>-0.888684</td>\n",
       "      <td>-0.907902</td>\n",
       "    </tr>\n",
       "  </tbody>\n",
       "</table>\n",
       "</div>"
      ],
      "text/plain": [
       "                   A         B         C         D\n",
       "2022-03-25  0.624784 -0.974044  1.100455  0.893449\n",
       "2022-03-24 -0.216682  0.182571  0.885816 -0.151794\n",
       "2022-03-23 -0.185076 -0.964747 -0.542850 -0.283645\n",
       "2022-03-22  1.776478  0.235238 -0.093981  0.867664\n",
       "2022-03-21  0.244249 -0.256577 -0.099083 -0.169163\n",
       "2022-03-20 -1.676719  1.090258 -1.966077  0.909066\n",
       "2022-03-19  0.228181  0.411725 -0.888684 -0.907902"
      ]
     },
     "execution_count": 17,
     "metadata": {},
     "output_type": "execute_result"
    }
   ],
   "source": [
    "df.sort_index(axis=0, ascending=False)"
   ]
  },
  {
   "cell_type": "code",
   "execution_count": 18,
   "metadata": {},
   "outputs": [
    {
     "data": {
      "text/html": [
       "<div>\n",
       "<style scoped>\n",
       "    .dataframe tbody tr th:only-of-type {\n",
       "        vertical-align: middle;\n",
       "    }\n",
       "\n",
       "    .dataframe tbody tr th {\n",
       "        vertical-align: top;\n",
       "    }\n",
       "\n",
       "    .dataframe thead th {\n",
       "        text-align: right;\n",
       "    }\n",
       "</style>\n",
       "<table border=\"1\" class=\"dataframe\">\n",
       "  <thead>\n",
       "    <tr style=\"text-align: right;\">\n",
       "      <th></th>\n",
       "      <th>D</th>\n",
       "      <th>C</th>\n",
       "      <th>B</th>\n",
       "      <th>A</th>\n",
       "    </tr>\n",
       "  </thead>\n",
       "  <tbody>\n",
       "    <tr>\n",
       "      <th>2022-03-19</th>\n",
       "      <td>-0.907902</td>\n",
       "      <td>-0.888684</td>\n",
       "      <td>0.411725</td>\n",
       "      <td>0.228181</td>\n",
       "    </tr>\n",
       "    <tr>\n",
       "      <th>2022-03-20</th>\n",
       "      <td>0.909066</td>\n",
       "      <td>-1.966077</td>\n",
       "      <td>1.090258</td>\n",
       "      <td>-1.676719</td>\n",
       "    </tr>\n",
       "    <tr>\n",
       "      <th>2022-03-21</th>\n",
       "      <td>-0.169163</td>\n",
       "      <td>-0.099083</td>\n",
       "      <td>-0.256577</td>\n",
       "      <td>0.244249</td>\n",
       "    </tr>\n",
       "    <tr>\n",
       "      <th>2022-03-22</th>\n",
       "      <td>0.867664</td>\n",
       "      <td>-0.093981</td>\n",
       "      <td>0.235238</td>\n",
       "      <td>1.776478</td>\n",
       "    </tr>\n",
       "    <tr>\n",
       "      <th>2022-03-23</th>\n",
       "      <td>-0.283645</td>\n",
       "      <td>-0.542850</td>\n",
       "      <td>-0.964747</td>\n",
       "      <td>-0.185076</td>\n",
       "    </tr>\n",
       "    <tr>\n",
       "      <th>2022-03-24</th>\n",
       "      <td>-0.151794</td>\n",
       "      <td>0.885816</td>\n",
       "      <td>0.182571</td>\n",
       "      <td>-0.216682</td>\n",
       "    </tr>\n",
       "    <tr>\n",
       "      <th>2022-03-25</th>\n",
       "      <td>0.893449</td>\n",
       "      <td>1.100455</td>\n",
       "      <td>-0.974044</td>\n",
       "      <td>0.624784</td>\n",
       "    </tr>\n",
       "  </tbody>\n",
       "</table>\n",
       "</div>"
      ],
      "text/plain": [
       "                   D         C         B         A\n",
       "2022-03-19 -0.907902 -0.888684  0.411725  0.228181\n",
       "2022-03-20  0.909066 -1.966077  1.090258 -1.676719\n",
       "2022-03-21 -0.169163 -0.099083 -0.256577  0.244249\n",
       "2022-03-22  0.867664 -0.093981  0.235238  1.776478\n",
       "2022-03-23 -0.283645 -0.542850 -0.964747 -0.185076\n",
       "2022-03-24 -0.151794  0.885816  0.182571 -0.216682\n",
       "2022-03-25  0.893449  1.100455 -0.974044  0.624784"
      ]
     },
     "execution_count": 18,
     "metadata": {},
     "output_type": "execute_result"
    }
   ],
   "source": [
    "df.sort_index(axis=1, ascending=False)\n"
   ]
  },
  {
   "cell_type": "markdown",
   "metadata": {},
   "source": [
    "Sorting by values."
   ]
  },
  {
   "cell_type": "code",
   "execution_count": 19,
   "metadata": {},
   "outputs": [
    {
     "data": {
      "text/html": [
       "<div>\n",
       "<style scoped>\n",
       "    .dataframe tbody tr th:only-of-type {\n",
       "        vertical-align: middle;\n",
       "    }\n",
       "\n",
       "    .dataframe tbody tr th {\n",
       "        vertical-align: top;\n",
       "    }\n",
       "\n",
       "    .dataframe thead th {\n",
       "        text-align: right;\n",
       "    }\n",
       "</style>\n",
       "<table border=\"1\" class=\"dataframe\">\n",
       "  <thead>\n",
       "    <tr style=\"text-align: right;\">\n",
       "      <th></th>\n",
       "      <th>A</th>\n",
       "      <th>B</th>\n",
       "      <th>C</th>\n",
       "      <th>D</th>\n",
       "    </tr>\n",
       "  </thead>\n",
       "  <tbody>\n",
       "    <tr>\n",
       "      <th>2022-03-25</th>\n",
       "      <td>0.624784</td>\n",
       "      <td>-0.974044</td>\n",
       "      <td>1.100455</td>\n",
       "      <td>0.893449</td>\n",
       "    </tr>\n",
       "    <tr>\n",
       "      <th>2022-03-23</th>\n",
       "      <td>-0.185076</td>\n",
       "      <td>-0.964747</td>\n",
       "      <td>-0.542850</td>\n",
       "      <td>-0.283645</td>\n",
       "    </tr>\n",
       "    <tr>\n",
       "      <th>2022-03-21</th>\n",
       "      <td>0.244249</td>\n",
       "      <td>-0.256577</td>\n",
       "      <td>-0.099083</td>\n",
       "      <td>-0.169163</td>\n",
       "    </tr>\n",
       "    <tr>\n",
       "      <th>2022-03-24</th>\n",
       "      <td>-0.216682</td>\n",
       "      <td>0.182571</td>\n",
       "      <td>0.885816</td>\n",
       "      <td>-0.151794</td>\n",
       "    </tr>\n",
       "    <tr>\n",
       "      <th>2022-03-22</th>\n",
       "      <td>1.776478</td>\n",
       "      <td>0.235238</td>\n",
       "      <td>-0.093981</td>\n",
       "      <td>0.867664</td>\n",
       "    </tr>\n",
       "    <tr>\n",
       "      <th>2022-03-19</th>\n",
       "      <td>0.228181</td>\n",
       "      <td>0.411725</td>\n",
       "      <td>-0.888684</td>\n",
       "      <td>-0.907902</td>\n",
       "    </tr>\n",
       "    <tr>\n",
       "      <th>2022-03-20</th>\n",
       "      <td>-1.676719</td>\n",
       "      <td>1.090258</td>\n",
       "      <td>-1.966077</td>\n",
       "      <td>0.909066</td>\n",
       "    </tr>\n",
       "  </tbody>\n",
       "</table>\n",
       "</div>"
      ],
      "text/plain": [
       "                   A         B         C         D\n",
       "2022-03-25  0.624784 -0.974044  1.100455  0.893449\n",
       "2022-03-23 -0.185076 -0.964747 -0.542850 -0.283645\n",
       "2022-03-21  0.244249 -0.256577 -0.099083 -0.169163\n",
       "2022-03-24 -0.216682  0.182571  0.885816 -0.151794\n",
       "2022-03-22  1.776478  0.235238 -0.093981  0.867664\n",
       "2022-03-19  0.228181  0.411725 -0.888684 -0.907902\n",
       "2022-03-20 -1.676719  1.090258 -1.966077  0.909066"
      ]
     },
     "execution_count": 19,
     "metadata": {},
     "output_type": "execute_result"
    }
   ],
   "source": [
    "df.sort_values(by=\"B\")"
   ]
  },
  {
   "cell_type": "markdown",
   "metadata": {},
   "source": [
    "## Selection"
   ]
  },
  {
   "cell_type": "markdown",
   "metadata": {},
   "source": [
    "### Getting"
   ]
  },
  {
   "cell_type": "markdown",
   "metadata": {},
   "source": [
    "Selecting a single column, which yeild a `Series`, equivalent to `df.A`."
   ]
  },
  {
   "cell_type": "code",
   "execution_count": 20,
   "metadata": {},
   "outputs": [
    {
     "name": "stdout",
     "output_type": "stream",
     "text": [
      "df.A\n",
      "2022-03-19    0.228181\n",
      "2022-03-20   -1.676719\n",
      "2022-03-21    0.244249\n",
      "2022-03-22    1.776478\n",
      "2022-03-23   -0.185076\n",
      "2022-03-24   -0.216682\n",
      "2022-03-25    0.624784\n",
      "Freq: D, Name: A, dtype: float64\n",
      "==============================\n",
      "df[\"A\"]\n",
      "2022-03-19    0.228181\n",
      "2022-03-20   -1.676719\n",
      "2022-03-21    0.244249\n",
      "2022-03-22    1.776478\n",
      "2022-03-23   -0.185076\n",
      "2022-03-24   -0.216682\n",
      "2022-03-25    0.624784\n",
      "Freq: D, Name: A, dtype: float64\n"
     ]
    }
   ],
   "source": [
    "print(\"df.A\", df.A, sep=\"\\n\")\n",
    "print(\"=\"*30)\n",
    "print(\"df[\\\"A\\\"]\", df[\"A\"], sep=\"\\n\")"
   ]
  },
  {
   "cell_type": "markdown",
   "metadata": {},
   "source": [
    "Selecting via `[]`, which slicing the rows."
   ]
  },
  {
   "cell_type": "code",
   "execution_count": 21,
   "metadata": {},
   "outputs": [
    {
     "data": {
      "text/html": [
       "<div>\n",
       "<style scoped>\n",
       "    .dataframe tbody tr th:only-of-type {\n",
       "        vertical-align: middle;\n",
       "    }\n",
       "\n",
       "    .dataframe tbody tr th {\n",
       "        vertical-align: top;\n",
       "    }\n",
       "\n",
       "    .dataframe thead th {\n",
       "        text-align: right;\n",
       "    }\n",
       "</style>\n",
       "<table border=\"1\" class=\"dataframe\">\n",
       "  <thead>\n",
       "    <tr style=\"text-align: right;\">\n",
       "      <th></th>\n",
       "      <th>A</th>\n",
       "      <th>B</th>\n",
       "      <th>C</th>\n",
       "      <th>D</th>\n",
       "    </tr>\n",
       "  </thead>\n",
       "  <tbody>\n",
       "    <tr>\n",
       "      <th>2022-03-19</th>\n",
       "      <td>0.228181</td>\n",
       "      <td>0.411725</td>\n",
       "      <td>-0.888684</td>\n",
       "      <td>-0.907902</td>\n",
       "    </tr>\n",
       "    <tr>\n",
       "      <th>2022-03-20</th>\n",
       "      <td>-1.676719</td>\n",
       "      <td>1.090258</td>\n",
       "      <td>-1.966077</td>\n",
       "      <td>0.909066</td>\n",
       "    </tr>\n",
       "    <tr>\n",
       "      <th>2022-03-21</th>\n",
       "      <td>0.244249</td>\n",
       "      <td>-0.256577</td>\n",
       "      <td>-0.099083</td>\n",
       "      <td>-0.169163</td>\n",
       "    </tr>\n",
       "  </tbody>\n",
       "</table>\n",
       "</div>"
      ],
      "text/plain": [
       "                   A         B         C         D\n",
       "2022-03-19  0.228181  0.411725 -0.888684 -0.907902\n",
       "2022-03-20 -1.676719  1.090258 -1.966077  0.909066\n",
       "2022-03-21  0.244249 -0.256577 -0.099083 -0.169163"
      ]
     },
     "execution_count": 21,
     "metadata": {},
     "output_type": "execute_result"
    }
   ],
   "source": [
    "df[0:3]"
   ]
  },
  {
   "cell_type": "code",
   "execution_count": 22,
   "metadata": {},
   "outputs": [
    {
     "data": {
      "text/html": [
       "<div>\n",
       "<style scoped>\n",
       "    .dataframe tbody tr th:only-of-type {\n",
       "        vertical-align: middle;\n",
       "    }\n",
       "\n",
       "    .dataframe tbody tr th {\n",
       "        vertical-align: top;\n",
       "    }\n",
       "\n",
       "    .dataframe thead th {\n",
       "        text-align: right;\n",
       "    }\n",
       "</style>\n",
       "<table border=\"1\" class=\"dataframe\">\n",
       "  <thead>\n",
       "    <tr style=\"text-align: right;\">\n",
       "      <th></th>\n",
       "      <th>A</th>\n",
       "      <th>B</th>\n",
       "      <th>C</th>\n",
       "      <th>D</th>\n",
       "    </tr>\n",
       "  </thead>\n",
       "  <tbody>\n",
       "    <tr>\n",
       "      <th>2022-03-19</th>\n",
       "      <td>0.228181</td>\n",
       "      <td>0.411725</td>\n",
       "      <td>-0.888684</td>\n",
       "      <td>-0.907902</td>\n",
       "    </tr>\n",
       "    <tr>\n",
       "      <th>2022-03-20</th>\n",
       "      <td>-1.676719</td>\n",
       "      <td>1.090258</td>\n",
       "      <td>-1.966077</td>\n",
       "      <td>0.909066</td>\n",
       "    </tr>\n",
       "    <tr>\n",
       "      <th>2022-03-21</th>\n",
       "      <td>0.244249</td>\n",
       "      <td>-0.256577</td>\n",
       "      <td>-0.099083</td>\n",
       "      <td>-0.169163</td>\n",
       "    </tr>\n",
       "  </tbody>\n",
       "</table>\n",
       "</div>"
      ],
      "text/plain": [
       "                   A         B         C         D\n",
       "2022-03-19  0.228181  0.411725 -0.888684 -0.907902\n",
       "2022-03-20 -1.676719  1.090258 -1.966077  0.909066\n",
       "2022-03-21  0.244249 -0.256577 -0.099083 -0.169163"
      ]
     },
     "execution_count": 22,
     "metadata": {},
     "output_type": "execute_result"
    }
   ],
   "source": [
    "df[\"20220319\":\"20220321\"]"
   ]
  },
  {
   "cell_type": "markdown",
   "metadata": {},
   "source": [
    "## Selection by label"
   ]
  },
  {
   "cell_type": "markdown",
   "metadata": {},
   "source": [
    "For getting a cross section using a label."
   ]
  },
  {
   "cell_type": "code",
   "execution_count": 23,
   "metadata": {},
   "outputs": [
    {
     "data": {
      "text/plain": [
       "A    0.228181\n",
       "B    0.411725\n",
       "C   -0.888684\n",
       "D   -0.907902\n",
       "Name: 2022-03-19 00:00:00, dtype: float64"
      ]
     },
     "execution_count": 23,
     "metadata": {},
     "output_type": "execute_result"
    }
   ],
   "source": [
    "df.loc[dates[0]]"
   ]
  },
  {
   "cell_type": "markdown",
   "metadata": {},
   "source": [
    "Selecting on a multi-axis by label."
   ]
  },
  {
   "cell_type": "code",
   "execution_count": 24,
   "metadata": {},
   "outputs": [
    {
     "data": {
      "text/html": [
       "<div>\n",
       "<style scoped>\n",
       "    .dataframe tbody tr th:only-of-type {\n",
       "        vertical-align: middle;\n",
       "    }\n",
       "\n",
       "    .dataframe tbody tr th {\n",
       "        vertical-align: top;\n",
       "    }\n",
       "\n",
       "    .dataframe thead th {\n",
       "        text-align: right;\n",
       "    }\n",
       "</style>\n",
       "<table border=\"1\" class=\"dataframe\">\n",
       "  <thead>\n",
       "    <tr style=\"text-align: right;\">\n",
       "      <th></th>\n",
       "      <th>A</th>\n",
       "      <th>B</th>\n",
       "    </tr>\n",
       "  </thead>\n",
       "  <tbody>\n",
       "    <tr>\n",
       "      <th>2022-03-19</th>\n",
       "      <td>0.228181</td>\n",
       "      <td>0.411725</td>\n",
       "    </tr>\n",
       "    <tr>\n",
       "      <th>2022-03-20</th>\n",
       "      <td>-1.676719</td>\n",
       "      <td>1.090258</td>\n",
       "    </tr>\n",
       "    <tr>\n",
       "      <th>2022-03-21</th>\n",
       "      <td>0.244249</td>\n",
       "      <td>-0.256577</td>\n",
       "    </tr>\n",
       "    <tr>\n",
       "      <th>2022-03-22</th>\n",
       "      <td>1.776478</td>\n",
       "      <td>0.235238</td>\n",
       "    </tr>\n",
       "    <tr>\n",
       "      <th>2022-03-23</th>\n",
       "      <td>-0.185076</td>\n",
       "      <td>-0.964747</td>\n",
       "    </tr>\n",
       "    <tr>\n",
       "      <th>2022-03-24</th>\n",
       "      <td>-0.216682</td>\n",
       "      <td>0.182571</td>\n",
       "    </tr>\n",
       "    <tr>\n",
       "      <th>2022-03-25</th>\n",
       "      <td>0.624784</td>\n",
       "      <td>-0.974044</td>\n",
       "    </tr>\n",
       "  </tbody>\n",
       "</table>\n",
       "</div>"
      ],
      "text/plain": [
       "                   A         B\n",
       "2022-03-19  0.228181  0.411725\n",
       "2022-03-20 -1.676719  1.090258\n",
       "2022-03-21  0.244249 -0.256577\n",
       "2022-03-22  1.776478  0.235238\n",
       "2022-03-23 -0.185076 -0.964747\n",
       "2022-03-24 -0.216682  0.182571\n",
       "2022-03-25  0.624784 -0.974044"
      ]
     },
     "execution_count": 24,
     "metadata": {},
     "output_type": "execute_result"
    }
   ],
   "source": [
    "df.loc[:, [\"A\", \"B\"]]"
   ]
  },
  {
   "cell_type": "markdown",
   "metadata": {},
   "source": [
    "Showing label slicing, both endpoints are included."
   ]
  },
  {
   "cell_type": "code",
   "execution_count": 25,
   "metadata": {},
   "outputs": [
    {
     "data": {
      "text/html": [
       "<div>\n",
       "<style scoped>\n",
       "    .dataframe tbody tr th:only-of-type {\n",
       "        vertical-align: middle;\n",
       "    }\n",
       "\n",
       "    .dataframe tbody tr th {\n",
       "        vertical-align: top;\n",
       "    }\n",
       "\n",
       "    .dataframe thead th {\n",
       "        text-align: right;\n",
       "    }\n",
       "</style>\n",
       "<table border=\"1\" class=\"dataframe\">\n",
       "  <thead>\n",
       "    <tr style=\"text-align: right;\">\n",
       "      <th></th>\n",
       "      <th>C</th>\n",
       "      <th>D</th>\n",
       "    </tr>\n",
       "  </thead>\n",
       "  <tbody>\n",
       "    <tr>\n",
       "      <th>2022-03-19</th>\n",
       "      <td>-0.888684</td>\n",
       "      <td>-0.907902</td>\n",
       "    </tr>\n",
       "    <tr>\n",
       "      <th>2022-03-20</th>\n",
       "      <td>-1.966077</td>\n",
       "      <td>0.909066</td>\n",
       "    </tr>\n",
       "    <tr>\n",
       "      <th>2022-03-21</th>\n",
       "      <td>-0.099083</td>\n",
       "      <td>-0.169163</td>\n",
       "    </tr>\n",
       "  </tbody>\n",
       "</table>\n",
       "</div>"
      ],
      "text/plain": [
       "                   C         D\n",
       "2022-03-19 -0.888684 -0.907902\n",
       "2022-03-20 -1.966077  0.909066\n",
       "2022-03-21 -0.099083 -0.169163"
      ]
     },
     "execution_count": 25,
     "metadata": {},
     "output_type": "execute_result"
    }
   ],
   "source": [
    "df.loc[\"20220319\":\"20220321\", [\"C\", \"D\"]]"
   ]
  },
  {
   "cell_type": "markdown",
   "metadata": {},
   "source": [
    "Reduction in the dimensions of returned object."
   ]
  },
  {
   "cell_type": "code",
   "execution_count": 26,
   "metadata": {},
   "outputs": [
    {
     "data": {
      "text/plain": [
       "B    0.182571\n",
       "C    0.885816\n",
       "Name: 2022-03-24 00:00:00, dtype: float64"
      ]
     },
     "execution_count": 26,
     "metadata": {},
     "output_type": "execute_result"
    }
   ],
   "source": [
    "df.loc[\"20220324\", [\"B\", \"C\"]]"
   ]
  },
  {
   "cell_type": "markdown",
   "metadata": {},
   "source": [
    "For getting a scalar value."
   ]
  },
  {
   "cell_type": "code",
   "execution_count": 27,
   "metadata": {},
   "outputs": [
    {
     "data": {
      "text/plain": [
       "-1.6767189854604438"
      ]
     },
     "execution_count": 27,
     "metadata": {},
     "output_type": "execute_result"
    }
   ],
   "source": [
    "df.loc[dates[1], \"A\"]"
   ]
  },
  {
   "cell_type": "markdown",
   "metadata": {},
   "source": [
    "For getting fast access to a scalar (equivalent to the prior method)."
   ]
  },
  {
   "cell_type": "code",
   "execution_count": 28,
   "metadata": {},
   "outputs": [
    {
     "data": {
      "text/plain": [
       "-1.6767189854604438"
      ]
     },
     "execution_count": 28,
     "metadata": {},
     "output_type": "execute_result"
    }
   ],
   "source": [
    "df.at[dates[1], \"A\"]"
   ]
  },
  {
   "cell_type": "markdown",
   "metadata": {},
   "source": [
    "## Selection by position"
   ]
  },
  {
   "cell_type": "markdown",
   "metadata": {},
   "source": [
    "Select via the position of the passed integers."
   ]
  },
  {
   "cell_type": "code",
   "execution_count": 29,
   "metadata": {},
   "outputs": [
    {
     "data": {
      "text/plain": [
       "A    1.776478\n",
       "B    0.235238\n",
       "C   -0.093981\n",
       "D    0.867664\n",
       "Name: 2022-03-22 00:00:00, dtype: float64"
      ]
     },
     "execution_count": 29,
     "metadata": {},
     "output_type": "execute_result"
    }
   ],
   "source": [
    "df.iloc[3]\n",
    "# equivalent to df.loc[dates[3]]"
   ]
  },
  {
   "cell_type": "markdown",
   "metadata": {},
   "source": [
    "By integer slices, acting similar to `Numpy/Python`."
   ]
  },
  {
   "cell_type": "code",
   "execution_count": 30,
   "metadata": {},
   "outputs": [
    {
     "data": {
      "text/html": [
       "<div>\n",
       "<style scoped>\n",
       "    .dataframe tbody tr th:only-of-type {\n",
       "        vertical-align: middle;\n",
       "    }\n",
       "\n",
       "    .dataframe tbody tr th {\n",
       "        vertical-align: top;\n",
       "    }\n",
       "\n",
       "    .dataframe thead th {\n",
       "        text-align: right;\n",
       "    }\n",
       "</style>\n",
       "<table border=\"1\" class=\"dataframe\">\n",
       "  <thead>\n",
       "    <tr style=\"text-align: right;\">\n",
       "      <th></th>\n",
       "      <th>A</th>\n",
       "      <th>B</th>\n",
       "    </tr>\n",
       "  </thead>\n",
       "  <tbody>\n",
       "    <tr>\n",
       "      <th>2022-03-22</th>\n",
       "      <td>1.776478</td>\n",
       "      <td>0.235238</td>\n",
       "    </tr>\n",
       "    <tr>\n",
       "      <th>2022-03-23</th>\n",
       "      <td>-0.185076</td>\n",
       "      <td>-0.964747</td>\n",
       "    </tr>\n",
       "  </tbody>\n",
       "</table>\n",
       "</div>"
      ],
      "text/plain": [
       "                   A         B\n",
       "2022-03-22  1.776478  0.235238\n",
       "2022-03-23 -0.185076 -0.964747"
      ]
     },
     "execution_count": 30,
     "metadata": {},
     "output_type": "execute_result"
    }
   ],
   "source": [
    "df.iloc[3:5, 0:2]\n",
    "# equivalent to df.loc[\"20220322\":\"20220323\", [\"A\", \"B\"]]"
   ]
  },
  {
   "cell_type": "markdown",
   "metadata": {},
   "source": [
    "By list of integer position locations, similar to the `Numpy/Python` style."
   ]
  },
  {
   "cell_type": "code",
   "execution_count": 31,
   "metadata": {},
   "outputs": [
    {
     "data": {
      "text/html": [
       "<div>\n",
       "<style scoped>\n",
       "    .dataframe tbody tr th:only-of-type {\n",
       "        vertical-align: middle;\n",
       "    }\n",
       "\n",
       "    .dataframe tbody tr th {\n",
       "        vertical-align: top;\n",
       "    }\n",
       "\n",
       "    .dataframe thead th {\n",
       "        text-align: right;\n",
       "    }\n",
       "</style>\n",
       "<table border=\"1\" class=\"dataframe\">\n",
       "  <thead>\n",
       "    <tr style=\"text-align: right;\">\n",
       "      <th></th>\n",
       "      <th>A</th>\n",
       "      <th>C</th>\n",
       "    </tr>\n",
       "  </thead>\n",
       "  <tbody>\n",
       "    <tr>\n",
       "      <th>2022-03-20</th>\n",
       "      <td>-1.676719</td>\n",
       "      <td>-1.966077</td>\n",
       "    </tr>\n",
       "    <tr>\n",
       "      <th>2022-03-21</th>\n",
       "      <td>0.244249</td>\n",
       "      <td>-0.099083</td>\n",
       "    </tr>\n",
       "    <tr>\n",
       "      <th>2022-03-23</th>\n",
       "      <td>-0.185076</td>\n",
       "      <td>-0.542850</td>\n",
       "    </tr>\n",
       "  </tbody>\n",
       "</table>\n",
       "</div>"
      ],
      "text/plain": [
       "                   A         C\n",
       "2022-03-20 -1.676719 -1.966077\n",
       "2022-03-21  0.244249 -0.099083\n",
       "2022-03-23 -0.185076 -0.542850"
      ]
     },
     "execution_count": 31,
     "metadata": {},
     "output_type": "execute_result"
    }
   ],
   "source": [
    "df.iloc[[1, 2, 4], [0, 2]]\n",
    "# equivalent to df.loc[\"20220320\":\"20220323\", [\"B\", \"C\"]]"
   ]
  },
  {
   "cell_type": "markdown",
   "metadata": {},
   "source": [
    "For slicing rows explicitly."
   ]
  },
  {
   "cell_type": "code",
   "execution_count": 32,
   "metadata": {},
   "outputs": [
    {
     "data": {
      "text/html": [
       "<div>\n",
       "<style scoped>\n",
       "    .dataframe tbody tr th:only-of-type {\n",
       "        vertical-align: middle;\n",
       "    }\n",
       "\n",
       "    .dataframe tbody tr th {\n",
       "        vertical-align: top;\n",
       "    }\n",
       "\n",
       "    .dataframe thead th {\n",
       "        text-align: right;\n",
       "    }\n",
       "</style>\n",
       "<table border=\"1\" class=\"dataframe\">\n",
       "  <thead>\n",
       "    <tr style=\"text-align: right;\">\n",
       "      <th></th>\n",
       "      <th>A</th>\n",
       "      <th>B</th>\n",
       "      <th>C</th>\n",
       "      <th>D</th>\n",
       "    </tr>\n",
       "  </thead>\n",
       "  <tbody>\n",
       "    <tr>\n",
       "      <th>2022-03-20</th>\n",
       "      <td>-1.676719</td>\n",
       "      <td>1.090258</td>\n",
       "      <td>-1.966077</td>\n",
       "      <td>0.909066</td>\n",
       "    </tr>\n",
       "    <tr>\n",
       "      <th>2022-03-21</th>\n",
       "      <td>0.244249</td>\n",
       "      <td>-0.256577</td>\n",
       "      <td>-0.099083</td>\n",
       "      <td>-0.169163</td>\n",
       "    </tr>\n",
       "  </tbody>\n",
       "</table>\n",
       "</div>"
      ],
      "text/plain": [
       "                   A         B         C         D\n",
       "2022-03-20 -1.676719  1.090258 -1.966077  0.909066\n",
       "2022-03-21  0.244249 -0.256577 -0.099083 -0.169163"
      ]
     },
     "execution_count": 32,
     "metadata": {},
     "output_type": "execute_result"
    }
   ],
   "source": [
    "df.iloc[1:3, :]"
   ]
  },
  {
   "cell_type": "markdown",
   "metadata": {},
   "source": [
    "For slicing columns explicitly."
   ]
  },
  {
   "cell_type": "code",
   "execution_count": 33,
   "metadata": {},
   "outputs": [
    {
     "data": {
      "text/html": [
       "<div>\n",
       "<style scoped>\n",
       "    .dataframe tbody tr th:only-of-type {\n",
       "        vertical-align: middle;\n",
       "    }\n",
       "\n",
       "    .dataframe tbody tr th {\n",
       "        vertical-align: top;\n",
       "    }\n",
       "\n",
       "    .dataframe thead th {\n",
       "        text-align: right;\n",
       "    }\n",
       "</style>\n",
       "<table border=\"1\" class=\"dataframe\">\n",
       "  <thead>\n",
       "    <tr style=\"text-align: right;\">\n",
       "      <th></th>\n",
       "      <th>B</th>\n",
       "      <th>C</th>\n",
       "    </tr>\n",
       "  </thead>\n",
       "  <tbody>\n",
       "    <tr>\n",
       "      <th>2022-03-19</th>\n",
       "      <td>0.411725</td>\n",
       "      <td>-0.888684</td>\n",
       "    </tr>\n",
       "    <tr>\n",
       "      <th>2022-03-20</th>\n",
       "      <td>1.090258</td>\n",
       "      <td>-1.966077</td>\n",
       "    </tr>\n",
       "    <tr>\n",
       "      <th>2022-03-21</th>\n",
       "      <td>-0.256577</td>\n",
       "      <td>-0.099083</td>\n",
       "    </tr>\n",
       "    <tr>\n",
       "      <th>2022-03-22</th>\n",
       "      <td>0.235238</td>\n",
       "      <td>-0.093981</td>\n",
       "    </tr>\n",
       "    <tr>\n",
       "      <th>2022-03-23</th>\n",
       "      <td>-0.964747</td>\n",
       "      <td>-0.542850</td>\n",
       "    </tr>\n",
       "    <tr>\n",
       "      <th>2022-03-24</th>\n",
       "      <td>0.182571</td>\n",
       "      <td>0.885816</td>\n",
       "    </tr>\n",
       "    <tr>\n",
       "      <th>2022-03-25</th>\n",
       "      <td>-0.974044</td>\n",
       "      <td>1.100455</td>\n",
       "    </tr>\n",
       "  </tbody>\n",
       "</table>\n",
       "</div>"
      ],
      "text/plain": [
       "                   B         C\n",
       "2022-03-19  0.411725 -0.888684\n",
       "2022-03-20  1.090258 -1.966077\n",
       "2022-03-21 -0.256577 -0.099083\n",
       "2022-03-22  0.235238 -0.093981\n",
       "2022-03-23 -0.964747 -0.542850\n",
       "2022-03-24  0.182571  0.885816\n",
       "2022-03-25 -0.974044  1.100455"
      ]
     },
     "execution_count": 33,
     "metadata": {},
     "output_type": "execute_result"
    }
   ],
   "source": [
    "df.iloc[:, 1:3]"
   ]
  },
  {
   "cell_type": "markdown",
   "metadata": {},
   "source": [
    "For getting a value explicitly."
   ]
  },
  {
   "cell_type": "code",
   "execution_count": 34,
   "metadata": {},
   "outputs": [
    {
     "data": {
      "text/plain": [
       "1.0902580667797517"
      ]
     },
     "execution_count": 34,
     "metadata": {},
     "output_type": "execute_result"
    }
   ],
   "source": [
    "df.iloc[1, 1]"
   ]
  },
  {
   "cell_type": "markdown",
   "metadata": {},
   "source": [
    "For getting fast access to a scalar (equivalent to the prior method)."
   ]
  },
  {
   "cell_type": "code",
   "execution_count": 35,
   "metadata": {},
   "outputs": [
    {
     "data": {
      "text/plain": [
       "1.0902580667797517"
      ]
     },
     "execution_count": 35,
     "metadata": {},
     "output_type": "execute_result"
    }
   ],
   "source": [
    "df.iat[1, 1]"
   ]
  },
  {
   "cell_type": "markdown",
   "metadata": {},
   "source": [
    "## Boolean indexing"
   ]
  },
  {
   "cell_type": "markdown",
   "metadata": {},
   "source": [
    "Using a single column's values to select data."
   ]
  },
  {
   "cell_type": "code",
   "execution_count": 36,
   "metadata": {},
   "outputs": [
    {
     "data": {
      "text/html": [
       "<div>\n",
       "<style scoped>\n",
       "    .dataframe tbody tr th:only-of-type {\n",
       "        vertical-align: middle;\n",
       "    }\n",
       "\n",
       "    .dataframe tbody tr th {\n",
       "        vertical-align: top;\n",
       "    }\n",
       "\n",
       "    .dataframe thead th {\n",
       "        text-align: right;\n",
       "    }\n",
       "</style>\n",
       "<table border=\"1\" class=\"dataframe\">\n",
       "  <thead>\n",
       "    <tr style=\"text-align: right;\">\n",
       "      <th></th>\n",
       "      <th>A</th>\n",
       "      <th>B</th>\n",
       "      <th>C</th>\n",
       "      <th>D</th>\n",
       "    </tr>\n",
       "  </thead>\n",
       "  <tbody>\n",
       "    <tr>\n",
       "      <th>2022-03-19</th>\n",
       "      <td>0.228181</td>\n",
       "      <td>0.411725</td>\n",
       "      <td>-0.888684</td>\n",
       "      <td>-0.907902</td>\n",
       "    </tr>\n",
       "    <tr>\n",
       "      <th>2022-03-21</th>\n",
       "      <td>0.244249</td>\n",
       "      <td>-0.256577</td>\n",
       "      <td>-0.099083</td>\n",
       "      <td>-0.169163</td>\n",
       "    </tr>\n",
       "    <tr>\n",
       "      <th>2022-03-22</th>\n",
       "      <td>1.776478</td>\n",
       "      <td>0.235238</td>\n",
       "      <td>-0.093981</td>\n",
       "      <td>0.867664</td>\n",
       "    </tr>\n",
       "    <tr>\n",
       "      <th>2022-03-25</th>\n",
       "      <td>0.624784</td>\n",
       "      <td>-0.974044</td>\n",
       "      <td>1.100455</td>\n",
       "      <td>0.893449</td>\n",
       "    </tr>\n",
       "  </tbody>\n",
       "</table>\n",
       "</div>"
      ],
      "text/plain": [
       "                   A         B         C         D\n",
       "2022-03-19  0.228181  0.411725 -0.888684 -0.907902\n",
       "2022-03-21  0.244249 -0.256577 -0.099083 -0.169163\n",
       "2022-03-22  1.776478  0.235238 -0.093981  0.867664\n",
       "2022-03-25  0.624784 -0.974044  1.100455  0.893449"
      ]
     },
     "execution_count": 36,
     "metadata": {},
     "output_type": "execute_result"
    }
   ],
   "source": [
    "df[df[\"A\"] > 0]"
   ]
  },
  {
   "cell_type": "markdown",
   "metadata": {},
   "source": [
    "Selecting values from a **DataFrame** where a boolean condition is met."
   ]
  },
  {
   "cell_type": "code",
   "execution_count": 37,
   "metadata": {},
   "outputs": [
    {
     "data": {
      "text/html": [
       "<div>\n",
       "<style scoped>\n",
       "    .dataframe tbody tr th:only-of-type {\n",
       "        vertical-align: middle;\n",
       "    }\n",
       "\n",
       "    .dataframe tbody tr th {\n",
       "        vertical-align: top;\n",
       "    }\n",
       "\n",
       "    .dataframe thead th {\n",
       "        text-align: right;\n",
       "    }\n",
       "</style>\n",
       "<table border=\"1\" class=\"dataframe\">\n",
       "  <thead>\n",
       "    <tr style=\"text-align: right;\">\n",
       "      <th></th>\n",
       "      <th>A</th>\n",
       "      <th>B</th>\n",
       "      <th>C</th>\n",
       "      <th>D</th>\n",
       "    </tr>\n",
       "  </thead>\n",
       "  <tbody>\n",
       "    <tr>\n",
       "      <th>2022-03-19</th>\n",
       "      <td>0.228181</td>\n",
       "      <td>0.411725</td>\n",
       "      <td>NaN</td>\n",
       "      <td>NaN</td>\n",
       "    </tr>\n",
       "    <tr>\n",
       "      <th>2022-03-20</th>\n",
       "      <td>NaN</td>\n",
       "      <td>1.090258</td>\n",
       "      <td>NaN</td>\n",
       "      <td>0.909066</td>\n",
       "    </tr>\n",
       "    <tr>\n",
       "      <th>2022-03-21</th>\n",
       "      <td>0.244249</td>\n",
       "      <td>NaN</td>\n",
       "      <td>NaN</td>\n",
       "      <td>NaN</td>\n",
       "    </tr>\n",
       "    <tr>\n",
       "      <th>2022-03-22</th>\n",
       "      <td>1.776478</td>\n",
       "      <td>0.235238</td>\n",
       "      <td>NaN</td>\n",
       "      <td>0.867664</td>\n",
       "    </tr>\n",
       "    <tr>\n",
       "      <th>2022-03-23</th>\n",
       "      <td>NaN</td>\n",
       "      <td>NaN</td>\n",
       "      <td>NaN</td>\n",
       "      <td>NaN</td>\n",
       "    </tr>\n",
       "    <tr>\n",
       "      <th>2022-03-24</th>\n",
       "      <td>NaN</td>\n",
       "      <td>0.182571</td>\n",
       "      <td>0.885816</td>\n",
       "      <td>NaN</td>\n",
       "    </tr>\n",
       "    <tr>\n",
       "      <th>2022-03-25</th>\n",
       "      <td>0.624784</td>\n",
       "      <td>NaN</td>\n",
       "      <td>1.100455</td>\n",
       "      <td>0.893449</td>\n",
       "    </tr>\n",
       "  </tbody>\n",
       "</table>\n",
       "</div>"
      ],
      "text/plain": [
       "                   A         B         C         D\n",
       "2022-03-19  0.228181  0.411725       NaN       NaN\n",
       "2022-03-20       NaN  1.090258       NaN  0.909066\n",
       "2022-03-21  0.244249       NaN       NaN       NaN\n",
       "2022-03-22  1.776478  0.235238       NaN  0.867664\n",
       "2022-03-23       NaN       NaN       NaN       NaN\n",
       "2022-03-24       NaN  0.182571  0.885816       NaN\n",
       "2022-03-25  0.624784       NaN  1.100455  0.893449"
      ]
     },
     "execution_count": 37,
     "metadata": {},
     "output_type": "execute_result"
    }
   ],
   "source": [
    "df[df > 0]"
   ]
  },
  {
   "cell_type": "markdown",
   "metadata": {},
   "source": [
    "Using `isin()` method for filtering."
   ]
  },
  {
   "cell_type": "code",
   "execution_count": 38,
   "metadata": {},
   "outputs": [
    {
     "data": {
      "text/html": [
       "<div>\n",
       "<style scoped>\n",
       "    .dataframe tbody tr th:only-of-type {\n",
       "        vertical-align: middle;\n",
       "    }\n",
       "\n",
       "    .dataframe tbody tr th {\n",
       "        vertical-align: top;\n",
       "    }\n",
       "\n",
       "    .dataframe thead th {\n",
       "        text-align: right;\n",
       "    }\n",
       "</style>\n",
       "<table border=\"1\" class=\"dataframe\">\n",
       "  <thead>\n",
       "    <tr style=\"text-align: right;\">\n",
       "      <th></th>\n",
       "      <th>A</th>\n",
       "      <th>B</th>\n",
       "      <th>C</th>\n",
       "      <th>D</th>\n",
       "      <th>E</th>\n",
       "    </tr>\n",
       "  </thead>\n",
       "  <tbody>\n",
       "    <tr>\n",
       "      <th>2022-03-19</th>\n",
       "      <td>0.228181</td>\n",
       "      <td>0.411725</td>\n",
       "      <td>-0.888684</td>\n",
       "      <td>-0.907902</td>\n",
       "      <td>one</td>\n",
       "    </tr>\n",
       "    <tr>\n",
       "      <th>2022-03-20</th>\n",
       "      <td>-1.676719</td>\n",
       "      <td>1.090258</td>\n",
       "      <td>-1.966077</td>\n",
       "      <td>0.909066</td>\n",
       "      <td>two</td>\n",
       "    </tr>\n",
       "    <tr>\n",
       "      <th>2022-03-21</th>\n",
       "      <td>0.244249</td>\n",
       "      <td>-0.256577</td>\n",
       "      <td>-0.099083</td>\n",
       "      <td>-0.169163</td>\n",
       "      <td>three</td>\n",
       "    </tr>\n",
       "    <tr>\n",
       "      <th>2022-03-22</th>\n",
       "      <td>1.776478</td>\n",
       "      <td>0.235238</td>\n",
       "      <td>-0.093981</td>\n",
       "      <td>0.867664</td>\n",
       "      <td>four</td>\n",
       "    </tr>\n",
       "    <tr>\n",
       "      <th>2022-03-23</th>\n",
       "      <td>-0.185076</td>\n",
       "      <td>-0.964747</td>\n",
       "      <td>-0.542850</td>\n",
       "      <td>-0.283645</td>\n",
       "      <td>five</td>\n",
       "    </tr>\n",
       "    <tr>\n",
       "      <th>2022-03-24</th>\n",
       "      <td>-0.216682</td>\n",
       "      <td>0.182571</td>\n",
       "      <td>0.885816</td>\n",
       "      <td>-0.151794</td>\n",
       "      <td>six</td>\n",
       "    </tr>\n",
       "    <tr>\n",
       "      <th>2022-03-25</th>\n",
       "      <td>0.624784</td>\n",
       "      <td>-0.974044</td>\n",
       "      <td>1.100455</td>\n",
       "      <td>0.893449</td>\n",
       "      <td>seven</td>\n",
       "    </tr>\n",
       "  </tbody>\n",
       "</table>\n",
       "</div>"
      ],
      "text/plain": [
       "                   A         B         C         D      E\n",
       "2022-03-19  0.228181  0.411725 -0.888684 -0.907902    one\n",
       "2022-03-20 -1.676719  1.090258 -1.966077  0.909066    two\n",
       "2022-03-21  0.244249 -0.256577 -0.099083 -0.169163  three\n",
       "2022-03-22  1.776478  0.235238 -0.093981  0.867664   four\n",
       "2022-03-23 -0.185076 -0.964747 -0.542850 -0.283645   five\n",
       "2022-03-24 -0.216682  0.182571  0.885816 -0.151794    six\n",
       "2022-03-25  0.624784 -0.974044  1.100455  0.893449  seven"
      ]
     },
     "execution_count": 38,
     "metadata": {},
     "output_type": "execute_result"
    }
   ],
   "source": [
    "df_copy = df.copy()\n",
    "df_copy[\"E\"] = [\"one\", \"two\", \"three\", \"four\", \"five\", \"six\", \"seven\"]\n",
    "df_copy"
   ]
  },
  {
   "cell_type": "code",
   "execution_count": 39,
   "metadata": {},
   "outputs": [
    {
     "data": {
      "text/html": [
       "<div>\n",
       "<style scoped>\n",
       "    .dataframe tbody tr th:only-of-type {\n",
       "        vertical-align: middle;\n",
       "    }\n",
       "\n",
       "    .dataframe tbody tr th {\n",
       "        vertical-align: top;\n",
       "    }\n",
       "\n",
       "    .dataframe thead th {\n",
       "        text-align: right;\n",
       "    }\n",
       "</style>\n",
       "<table border=\"1\" class=\"dataframe\">\n",
       "  <thead>\n",
       "    <tr style=\"text-align: right;\">\n",
       "      <th></th>\n",
       "      <th>A</th>\n",
       "      <th>B</th>\n",
       "      <th>C</th>\n",
       "      <th>D</th>\n",
       "      <th>E</th>\n",
       "    </tr>\n",
       "  </thead>\n",
       "  <tbody>\n",
       "    <tr>\n",
       "      <th>2022-03-21</th>\n",
       "      <td>0.244249</td>\n",
       "      <td>-0.256577</td>\n",
       "      <td>-0.099083</td>\n",
       "      <td>-0.169163</td>\n",
       "      <td>three</td>\n",
       "    </tr>\n",
       "    <tr>\n",
       "      <th>2022-03-24</th>\n",
       "      <td>-0.216682</td>\n",
       "      <td>0.182571</td>\n",
       "      <td>0.885816</td>\n",
       "      <td>-0.151794</td>\n",
       "      <td>six</td>\n",
       "    </tr>\n",
       "  </tbody>\n",
       "</table>\n",
       "</div>"
      ],
      "text/plain": [
       "                   A         B         C         D      E\n",
       "2022-03-21  0.244249 -0.256577 -0.099083 -0.169163  three\n",
       "2022-03-24 -0.216682  0.182571  0.885816 -0.151794    six"
      ]
     },
     "execution_count": 39,
     "metadata": {},
     "output_type": "execute_result"
    }
   ],
   "source": [
    "df_copy[df_copy[\"E\"].isin([\"three\", \"six\"])]"
   ]
  },
  {
   "cell_type": "markdown",
   "metadata": {},
   "source": [
    "## Setting"
   ]
  },
  {
   "cell_type": "markdown",
   "metadata": {},
   "source": [
    "Setting a new column automatically aligns the data by the indexes."
   ]
  },
  {
   "cell_type": "code",
   "execution_count": 40,
   "metadata": {},
   "outputs": [
    {
     "data": {
      "text/plain": [
       "2022-03-19    1\n",
       "2022-03-20    2\n",
       "2022-03-21    3\n",
       "2022-03-22    4\n",
       "2022-03-23    5\n",
       "2022-03-24    6\n",
       "2022-03-25    7\n",
       "Freq: D, dtype: int64"
      ]
     },
     "execution_count": 40,
     "metadata": {},
     "output_type": "execute_result"
    }
   ],
   "source": [
    "s1 = pd.Series(list(range(1, 8)), index=pd.date_range(\"20220319\", periods=7))\n",
    "s1"
   ]
  },
  {
   "cell_type": "code",
   "execution_count": 41,
   "metadata": {},
   "outputs": [
    {
     "data": {
      "text/html": [
       "<div>\n",
       "<style scoped>\n",
       "    .dataframe tbody tr th:only-of-type {\n",
       "        vertical-align: middle;\n",
       "    }\n",
       "\n",
       "    .dataframe tbody tr th {\n",
       "        vertical-align: top;\n",
       "    }\n",
       "\n",
       "    .dataframe thead th {\n",
       "        text-align: right;\n",
       "    }\n",
       "</style>\n",
       "<table border=\"1\" class=\"dataframe\">\n",
       "  <thead>\n",
       "    <tr style=\"text-align: right;\">\n",
       "      <th></th>\n",
       "      <th>A</th>\n",
       "      <th>B</th>\n",
       "      <th>C</th>\n",
       "      <th>D</th>\n",
       "      <th>F</th>\n",
       "    </tr>\n",
       "  </thead>\n",
       "  <tbody>\n",
       "    <tr>\n",
       "      <th>2022-03-19</th>\n",
       "      <td>0.228181</td>\n",
       "      <td>0.411725</td>\n",
       "      <td>-0.888684</td>\n",
       "      <td>-0.907902</td>\n",
       "      <td>1</td>\n",
       "    </tr>\n",
       "    <tr>\n",
       "      <th>2022-03-20</th>\n",
       "      <td>-1.676719</td>\n",
       "      <td>1.090258</td>\n",
       "      <td>-1.966077</td>\n",
       "      <td>0.909066</td>\n",
       "      <td>2</td>\n",
       "    </tr>\n",
       "    <tr>\n",
       "      <th>2022-03-21</th>\n",
       "      <td>0.244249</td>\n",
       "      <td>-0.256577</td>\n",
       "      <td>-0.099083</td>\n",
       "      <td>-0.169163</td>\n",
       "      <td>3</td>\n",
       "    </tr>\n",
       "    <tr>\n",
       "      <th>2022-03-22</th>\n",
       "      <td>1.776478</td>\n",
       "      <td>0.235238</td>\n",
       "      <td>-0.093981</td>\n",
       "      <td>0.867664</td>\n",
       "      <td>4</td>\n",
       "    </tr>\n",
       "    <tr>\n",
       "      <th>2022-03-23</th>\n",
       "      <td>-0.185076</td>\n",
       "      <td>-0.964747</td>\n",
       "      <td>-0.542850</td>\n",
       "      <td>-0.283645</td>\n",
       "      <td>5</td>\n",
       "    </tr>\n",
       "    <tr>\n",
       "      <th>2022-03-24</th>\n",
       "      <td>-0.216682</td>\n",
       "      <td>0.182571</td>\n",
       "      <td>0.885816</td>\n",
       "      <td>-0.151794</td>\n",
       "      <td>6</td>\n",
       "    </tr>\n",
       "    <tr>\n",
       "      <th>2022-03-25</th>\n",
       "      <td>0.624784</td>\n",
       "      <td>-0.974044</td>\n",
       "      <td>1.100455</td>\n",
       "      <td>0.893449</td>\n",
       "      <td>7</td>\n",
       "    </tr>\n",
       "  </tbody>\n",
       "</table>\n",
       "</div>"
      ],
      "text/plain": [
       "                   A         B         C         D  F\n",
       "2022-03-19  0.228181  0.411725 -0.888684 -0.907902  1\n",
       "2022-03-20 -1.676719  1.090258 -1.966077  0.909066  2\n",
       "2022-03-21  0.244249 -0.256577 -0.099083 -0.169163  3\n",
       "2022-03-22  1.776478  0.235238 -0.093981  0.867664  4\n",
       "2022-03-23 -0.185076 -0.964747 -0.542850 -0.283645  5\n",
       "2022-03-24 -0.216682  0.182571  0.885816 -0.151794  6\n",
       "2022-03-25  0.624784 -0.974044  1.100455  0.893449  7"
      ]
     },
     "execution_count": 41,
     "metadata": {},
     "output_type": "execute_result"
    }
   ],
   "source": [
    "df[\"F\"] = s1\n",
    "df"
   ]
  },
  {
   "cell_type": "markdown",
   "metadata": {},
   "source": [
    "Setting values by label."
   ]
  },
  {
   "cell_type": "code",
   "execution_count": 42,
   "metadata": {},
   "outputs": [
    {
     "data": {
      "text/html": [
       "<div>\n",
       "<style scoped>\n",
       "    .dataframe tbody tr th:only-of-type {\n",
       "        vertical-align: middle;\n",
       "    }\n",
       "\n",
       "    .dataframe tbody tr th {\n",
       "        vertical-align: top;\n",
       "    }\n",
       "\n",
       "    .dataframe thead th {\n",
       "        text-align: right;\n",
       "    }\n",
       "</style>\n",
       "<table border=\"1\" class=\"dataframe\">\n",
       "  <thead>\n",
       "    <tr style=\"text-align: right;\">\n",
       "      <th></th>\n",
       "      <th>A</th>\n",
       "      <th>B</th>\n",
       "      <th>C</th>\n",
       "      <th>D</th>\n",
       "      <th>F</th>\n",
       "    </tr>\n",
       "  </thead>\n",
       "  <tbody>\n",
       "    <tr>\n",
       "      <th>2022-03-19</th>\n",
       "      <td>0.000000</td>\n",
       "      <td>0.411725</td>\n",
       "      <td>-0.888684</td>\n",
       "      <td>-0.907902</td>\n",
       "      <td>1</td>\n",
       "    </tr>\n",
       "    <tr>\n",
       "      <th>2022-03-20</th>\n",
       "      <td>-1.676719</td>\n",
       "      <td>1.090258</td>\n",
       "      <td>-1.966077</td>\n",
       "      <td>0.909066</td>\n",
       "      <td>2</td>\n",
       "    </tr>\n",
       "    <tr>\n",
       "      <th>2022-03-21</th>\n",
       "      <td>0.244249</td>\n",
       "      <td>-0.256577</td>\n",
       "      <td>-0.099083</td>\n",
       "      <td>-0.169163</td>\n",
       "      <td>3</td>\n",
       "    </tr>\n",
       "    <tr>\n",
       "      <th>2022-03-22</th>\n",
       "      <td>1.776478</td>\n",
       "      <td>0.235238</td>\n",
       "      <td>-0.093981</td>\n",
       "      <td>0.867664</td>\n",
       "      <td>4</td>\n",
       "    </tr>\n",
       "    <tr>\n",
       "      <th>2022-03-23</th>\n",
       "      <td>-0.185076</td>\n",
       "      <td>-0.964747</td>\n",
       "      <td>-0.542850</td>\n",
       "      <td>-0.283645</td>\n",
       "      <td>5</td>\n",
       "    </tr>\n",
       "    <tr>\n",
       "      <th>2022-03-24</th>\n",
       "      <td>-0.216682</td>\n",
       "      <td>0.182571</td>\n",
       "      <td>0.885816</td>\n",
       "      <td>-0.151794</td>\n",
       "      <td>6</td>\n",
       "    </tr>\n",
       "    <tr>\n",
       "      <th>2022-03-25</th>\n",
       "      <td>0.624784</td>\n",
       "      <td>-0.974044</td>\n",
       "      <td>1.100455</td>\n",
       "      <td>0.893449</td>\n",
       "      <td>7</td>\n",
       "    </tr>\n",
       "  </tbody>\n",
       "</table>\n",
       "</div>"
      ],
      "text/plain": [
       "                   A         B         C         D  F\n",
       "2022-03-19  0.000000  0.411725 -0.888684 -0.907902  1\n",
       "2022-03-20 -1.676719  1.090258 -1.966077  0.909066  2\n",
       "2022-03-21  0.244249 -0.256577 -0.099083 -0.169163  3\n",
       "2022-03-22  1.776478  0.235238 -0.093981  0.867664  4\n",
       "2022-03-23 -0.185076 -0.964747 -0.542850 -0.283645  5\n",
       "2022-03-24 -0.216682  0.182571  0.885816 -0.151794  6\n",
       "2022-03-25  0.624784 -0.974044  1.100455  0.893449  7"
      ]
     },
     "execution_count": 42,
     "metadata": {},
     "output_type": "execute_result"
    }
   ],
   "source": [
    "df.at[dates[0], \"A\"] = 0\n",
    "df"
   ]
  },
  {
   "cell_type": "markdown",
   "metadata": {},
   "source": [
    "Setting values by position."
   ]
  },
  {
   "cell_type": "code",
   "execution_count": 43,
   "metadata": {},
   "outputs": [
    {
     "data": {
      "text/html": [
       "<div>\n",
       "<style scoped>\n",
       "    .dataframe tbody tr th:only-of-type {\n",
       "        vertical-align: middle;\n",
       "    }\n",
       "\n",
       "    .dataframe tbody tr th {\n",
       "        vertical-align: top;\n",
       "    }\n",
       "\n",
       "    .dataframe thead th {\n",
       "        text-align: right;\n",
       "    }\n",
       "</style>\n",
       "<table border=\"1\" class=\"dataframe\">\n",
       "  <thead>\n",
       "    <tr style=\"text-align: right;\">\n",
       "      <th></th>\n",
       "      <th>A</th>\n",
       "      <th>B</th>\n",
       "      <th>C</th>\n",
       "      <th>D</th>\n",
       "      <th>F</th>\n",
       "    </tr>\n",
       "  </thead>\n",
       "  <tbody>\n",
       "    <tr>\n",
       "      <th>2022-03-19</th>\n",
       "      <td>0.000000</td>\n",
       "      <td>1.000000</td>\n",
       "      <td>-0.888684</td>\n",
       "      <td>-0.907902</td>\n",
       "      <td>1</td>\n",
       "    </tr>\n",
       "    <tr>\n",
       "      <th>2022-03-20</th>\n",
       "      <td>-1.676719</td>\n",
       "      <td>1.090258</td>\n",
       "      <td>-1.966077</td>\n",
       "      <td>0.909066</td>\n",
       "      <td>2</td>\n",
       "    </tr>\n",
       "    <tr>\n",
       "      <th>2022-03-21</th>\n",
       "      <td>0.244249</td>\n",
       "      <td>-0.256577</td>\n",
       "      <td>-0.099083</td>\n",
       "      <td>-0.169163</td>\n",
       "      <td>3</td>\n",
       "    </tr>\n",
       "    <tr>\n",
       "      <th>2022-03-22</th>\n",
       "      <td>1.776478</td>\n",
       "      <td>0.235238</td>\n",
       "      <td>-0.093981</td>\n",
       "      <td>0.867664</td>\n",
       "      <td>4</td>\n",
       "    </tr>\n",
       "    <tr>\n",
       "      <th>2022-03-23</th>\n",
       "      <td>-0.185076</td>\n",
       "      <td>-0.964747</td>\n",
       "      <td>-0.542850</td>\n",
       "      <td>-0.283645</td>\n",
       "      <td>5</td>\n",
       "    </tr>\n",
       "    <tr>\n",
       "      <th>2022-03-24</th>\n",
       "      <td>-0.216682</td>\n",
       "      <td>0.182571</td>\n",
       "      <td>0.885816</td>\n",
       "      <td>-0.151794</td>\n",
       "      <td>6</td>\n",
       "    </tr>\n",
       "    <tr>\n",
       "      <th>2022-03-25</th>\n",
       "      <td>0.624784</td>\n",
       "      <td>-0.974044</td>\n",
       "      <td>1.100455</td>\n",
       "      <td>0.893449</td>\n",
       "      <td>7</td>\n",
       "    </tr>\n",
       "  </tbody>\n",
       "</table>\n",
       "</div>"
      ],
      "text/plain": [
       "                   A         B         C         D  F\n",
       "2022-03-19  0.000000  1.000000 -0.888684 -0.907902  1\n",
       "2022-03-20 -1.676719  1.090258 -1.966077  0.909066  2\n",
       "2022-03-21  0.244249 -0.256577 -0.099083 -0.169163  3\n",
       "2022-03-22  1.776478  0.235238 -0.093981  0.867664  4\n",
       "2022-03-23 -0.185076 -0.964747 -0.542850 -0.283645  5\n",
       "2022-03-24 -0.216682  0.182571  0.885816 -0.151794  6\n",
       "2022-03-25  0.624784 -0.974044  1.100455  0.893449  7"
      ]
     },
     "execution_count": 43,
     "metadata": {},
     "output_type": "execute_result"
    }
   ],
   "source": [
    "df.iat[0, 1] = 1\n",
    "df"
   ]
  },
  {
   "cell_type": "markdown",
   "metadata": {},
   "source": [
    "Setting by assigning with a `Numpy` array"
   ]
  },
  {
   "cell_type": "code",
   "execution_count": 44,
   "metadata": {},
   "outputs": [
    {
     "data": {
      "text/html": [
       "<div>\n",
       "<style scoped>\n",
       "    .dataframe tbody tr th:only-of-type {\n",
       "        vertical-align: middle;\n",
       "    }\n",
       "\n",
       "    .dataframe tbody tr th {\n",
       "        vertical-align: top;\n",
       "    }\n",
       "\n",
       "    .dataframe thead th {\n",
       "        text-align: right;\n",
       "    }\n",
       "</style>\n",
       "<table border=\"1\" class=\"dataframe\">\n",
       "  <thead>\n",
       "    <tr style=\"text-align: right;\">\n",
       "      <th></th>\n",
       "      <th>A</th>\n",
       "      <th>B</th>\n",
       "      <th>C</th>\n",
       "      <th>D</th>\n",
       "      <th>F</th>\n",
       "    </tr>\n",
       "  </thead>\n",
       "  <tbody>\n",
       "    <tr>\n",
       "      <th>2022-03-19</th>\n",
       "      <td>0.000000</td>\n",
       "      <td>1.000000</td>\n",
       "      <td>-0.888684</td>\n",
       "      <td>35</td>\n",
       "      <td>1</td>\n",
       "    </tr>\n",
       "    <tr>\n",
       "      <th>2022-03-20</th>\n",
       "      <td>-1.676719</td>\n",
       "      <td>1.090258</td>\n",
       "      <td>-1.966077</td>\n",
       "      <td>35</td>\n",
       "      <td>2</td>\n",
       "    </tr>\n",
       "    <tr>\n",
       "      <th>2022-03-21</th>\n",
       "      <td>0.244249</td>\n",
       "      <td>-0.256577</td>\n",
       "      <td>-0.099083</td>\n",
       "      <td>35</td>\n",
       "      <td>3</td>\n",
       "    </tr>\n",
       "    <tr>\n",
       "      <th>2022-03-22</th>\n",
       "      <td>1.776478</td>\n",
       "      <td>0.235238</td>\n",
       "      <td>-0.093981</td>\n",
       "      <td>35</td>\n",
       "      <td>4</td>\n",
       "    </tr>\n",
       "    <tr>\n",
       "      <th>2022-03-23</th>\n",
       "      <td>-0.185076</td>\n",
       "      <td>-0.964747</td>\n",
       "      <td>-0.542850</td>\n",
       "      <td>35</td>\n",
       "      <td>5</td>\n",
       "    </tr>\n",
       "    <tr>\n",
       "      <th>2022-03-24</th>\n",
       "      <td>-0.216682</td>\n",
       "      <td>0.182571</td>\n",
       "      <td>0.885816</td>\n",
       "      <td>35</td>\n",
       "      <td>6</td>\n",
       "    </tr>\n",
       "    <tr>\n",
       "      <th>2022-03-25</th>\n",
       "      <td>0.624784</td>\n",
       "      <td>-0.974044</td>\n",
       "      <td>1.100455</td>\n",
       "      <td>35</td>\n",
       "      <td>7</td>\n",
       "    </tr>\n",
       "  </tbody>\n",
       "</table>\n",
       "</div>"
      ],
      "text/plain": [
       "                   A         B         C   D  F\n",
       "2022-03-19  0.000000  1.000000 -0.888684  35  1\n",
       "2022-03-20 -1.676719  1.090258 -1.966077  35  2\n",
       "2022-03-21  0.244249 -0.256577 -0.099083  35  3\n",
       "2022-03-22  1.776478  0.235238 -0.093981  35  4\n",
       "2022-03-23 -0.185076 -0.964747 -0.542850  35  5\n",
       "2022-03-24 -0.216682  0.182571  0.885816  35  6\n",
       "2022-03-25  0.624784 -0.974044  1.100455  35  7"
      ]
     },
     "execution_count": 44,
     "metadata": {},
     "output_type": "execute_result"
    }
   ],
   "source": [
    "df.loc[:, \"D\"] = np.array(5 * len(df))\n",
    "df"
   ]
  },
  {
   "cell_type": "markdown",
   "metadata": {},
   "source": [
    "## Missing data"
   ]
  },
  {
   "cell_type": "markdown",
   "metadata": {},
   "source": [
    "`Pandas` primarily uses the value `np.nan` to represent missing data. It is by default not included in computation.\n",
    "\n",
    "Reindexing allows you to change/add/delete the index on a sepecified axis. This returns a copy of data."
   ]
  },
  {
   "cell_type": "code",
   "execution_count": 45,
   "metadata": {},
   "outputs": [
    {
     "data": {
      "text/html": [
       "<div>\n",
       "<style scoped>\n",
       "    .dataframe tbody tr th:only-of-type {\n",
       "        vertical-align: middle;\n",
       "    }\n",
       "\n",
       "    .dataframe tbody tr th {\n",
       "        vertical-align: top;\n",
       "    }\n",
       "\n",
       "    .dataframe thead th {\n",
       "        text-align: right;\n",
       "    }\n",
       "</style>\n",
       "<table border=\"1\" class=\"dataframe\">\n",
       "  <thead>\n",
       "    <tr style=\"text-align: right;\">\n",
       "      <th></th>\n",
       "      <th>A</th>\n",
       "      <th>B</th>\n",
       "      <th>C</th>\n",
       "      <th>D</th>\n",
       "      <th>F</th>\n",
       "      <th>E</th>\n",
       "    </tr>\n",
       "  </thead>\n",
       "  <tbody>\n",
       "    <tr>\n",
       "      <th>2022-03-19</th>\n",
       "      <td>0.000000</td>\n",
       "      <td>1.000000</td>\n",
       "      <td>-0.888684</td>\n",
       "      <td>35</td>\n",
       "      <td>1</td>\n",
       "      <td>1.0</td>\n",
       "    </tr>\n",
       "    <tr>\n",
       "      <th>2022-03-20</th>\n",
       "      <td>-1.676719</td>\n",
       "      <td>1.090258</td>\n",
       "      <td>-1.966077</td>\n",
       "      <td>35</td>\n",
       "      <td>2</td>\n",
       "      <td>1.0</td>\n",
       "    </tr>\n",
       "    <tr>\n",
       "      <th>2022-03-21</th>\n",
       "      <td>0.244249</td>\n",
       "      <td>-0.256577</td>\n",
       "      <td>-0.099083</td>\n",
       "      <td>35</td>\n",
       "      <td>3</td>\n",
       "      <td>NaN</td>\n",
       "    </tr>\n",
       "    <tr>\n",
       "      <th>2022-03-22</th>\n",
       "      <td>1.776478</td>\n",
       "      <td>0.235238</td>\n",
       "      <td>-0.093981</td>\n",
       "      <td>35</td>\n",
       "      <td>4</td>\n",
       "      <td>NaN</td>\n",
       "    </tr>\n",
       "  </tbody>\n",
       "</table>\n",
       "</div>"
      ],
      "text/plain": [
       "                   A         B         C   D  F    E\n",
       "2022-03-19  0.000000  1.000000 -0.888684  35  1  1.0\n",
       "2022-03-20 -1.676719  1.090258 -1.966077  35  2  1.0\n",
       "2022-03-21  0.244249 -0.256577 -0.099083  35  3  NaN\n",
       "2022-03-22  1.776478  0.235238 -0.093981  35  4  NaN"
      ]
     },
     "execution_count": 45,
     "metadata": {},
     "output_type": "execute_result"
    }
   ],
   "source": [
    "df1 = df.reindex(index=dates[0:4], columns=list(df.columns) + [\"E\"])\n",
    "df1.loc[dates[0]:dates[1], \"E\"] = 1\n",
    "df1"
   ]
  },
  {
   "cell_type": "markdown",
   "metadata": {},
   "source": [
    "To drop any rows that have missing data."
   ]
  },
  {
   "cell_type": "code",
   "execution_count": 46,
   "metadata": {},
   "outputs": [
    {
     "data": {
      "text/html": [
       "<div>\n",
       "<style scoped>\n",
       "    .dataframe tbody tr th:only-of-type {\n",
       "        vertical-align: middle;\n",
       "    }\n",
       "\n",
       "    .dataframe tbody tr th {\n",
       "        vertical-align: top;\n",
       "    }\n",
       "\n",
       "    .dataframe thead th {\n",
       "        text-align: right;\n",
       "    }\n",
       "</style>\n",
       "<table border=\"1\" class=\"dataframe\">\n",
       "  <thead>\n",
       "    <tr style=\"text-align: right;\">\n",
       "      <th></th>\n",
       "      <th>A</th>\n",
       "      <th>B</th>\n",
       "      <th>C</th>\n",
       "      <th>D</th>\n",
       "      <th>F</th>\n",
       "      <th>E</th>\n",
       "    </tr>\n",
       "  </thead>\n",
       "  <tbody>\n",
       "    <tr>\n",
       "      <th>2022-03-19</th>\n",
       "      <td>0.000000</td>\n",
       "      <td>1.000000</td>\n",
       "      <td>-0.888684</td>\n",
       "      <td>35</td>\n",
       "      <td>1</td>\n",
       "      <td>1.0</td>\n",
       "    </tr>\n",
       "    <tr>\n",
       "      <th>2022-03-20</th>\n",
       "      <td>-1.676719</td>\n",
       "      <td>1.090258</td>\n",
       "      <td>-1.966077</td>\n",
       "      <td>35</td>\n",
       "      <td>2</td>\n",
       "      <td>1.0</td>\n",
       "    </tr>\n",
       "  </tbody>\n",
       "</table>\n",
       "</div>"
      ],
      "text/plain": [
       "                   A         B         C   D  F    E\n",
       "2022-03-19  0.000000  1.000000 -0.888684  35  1  1.0\n",
       "2022-03-20 -1.676719  1.090258 -1.966077  35  2  1.0"
      ]
     },
     "execution_count": 46,
     "metadata": {},
     "output_type": "execute_result"
    }
   ],
   "source": [
    "df1.dropna(how=\"any\")"
   ]
  },
  {
   "cell_type": "markdown",
   "metadata": {},
   "source": [
    "Filling missing data."
   ]
  },
  {
   "cell_type": "code",
   "execution_count": 47,
   "metadata": {},
   "outputs": [
    {
     "data": {
      "text/html": [
       "<div>\n",
       "<style scoped>\n",
       "    .dataframe tbody tr th:only-of-type {\n",
       "        vertical-align: middle;\n",
       "    }\n",
       "\n",
       "    .dataframe tbody tr th {\n",
       "        vertical-align: top;\n",
       "    }\n",
       "\n",
       "    .dataframe thead th {\n",
       "        text-align: right;\n",
       "    }\n",
       "</style>\n",
       "<table border=\"1\" class=\"dataframe\">\n",
       "  <thead>\n",
       "    <tr style=\"text-align: right;\">\n",
       "      <th></th>\n",
       "      <th>A</th>\n",
       "      <th>B</th>\n",
       "      <th>C</th>\n",
       "      <th>D</th>\n",
       "      <th>F</th>\n",
       "      <th>E</th>\n",
       "    </tr>\n",
       "  </thead>\n",
       "  <tbody>\n",
       "    <tr>\n",
       "      <th>2022-03-19</th>\n",
       "      <td>0.000000</td>\n",
       "      <td>1.000000</td>\n",
       "      <td>-0.888684</td>\n",
       "      <td>35</td>\n",
       "      <td>1</td>\n",
       "      <td>1.0</td>\n",
       "    </tr>\n",
       "    <tr>\n",
       "      <th>2022-03-20</th>\n",
       "      <td>-1.676719</td>\n",
       "      <td>1.090258</td>\n",
       "      <td>-1.966077</td>\n",
       "      <td>35</td>\n",
       "      <td>2</td>\n",
       "      <td>1.0</td>\n",
       "    </tr>\n",
       "    <tr>\n",
       "      <th>2022-03-21</th>\n",
       "      <td>0.244249</td>\n",
       "      <td>-0.256577</td>\n",
       "      <td>-0.099083</td>\n",
       "      <td>35</td>\n",
       "      <td>3</td>\n",
       "      <td>3.0</td>\n",
       "    </tr>\n",
       "    <tr>\n",
       "      <th>2022-03-22</th>\n",
       "      <td>1.776478</td>\n",
       "      <td>0.235238</td>\n",
       "      <td>-0.093981</td>\n",
       "      <td>35</td>\n",
       "      <td>4</td>\n",
       "      <td>3.0</td>\n",
       "    </tr>\n",
       "  </tbody>\n",
       "</table>\n",
       "</div>"
      ],
      "text/plain": [
       "                   A         B         C   D  F    E\n",
       "2022-03-19  0.000000  1.000000 -0.888684  35  1  1.0\n",
       "2022-03-20 -1.676719  1.090258 -1.966077  35  2  1.0\n",
       "2022-03-21  0.244249 -0.256577 -0.099083  35  3  3.0\n",
       "2022-03-22  1.776478  0.235238 -0.093981  35  4  3.0"
      ]
     },
     "execution_count": 47,
     "metadata": {},
     "output_type": "execute_result"
    }
   ],
   "source": [
    "df1.fillna(value=3)"
   ]
  },
  {
   "cell_type": "markdown",
   "metadata": {},
   "source": [
    "To get the boolean mask where values are `nan`."
   ]
  },
  {
   "cell_type": "code",
   "execution_count": 48,
   "metadata": {},
   "outputs": [
    {
     "data": {
      "text/html": [
       "<div>\n",
       "<style scoped>\n",
       "    .dataframe tbody tr th:only-of-type {\n",
       "        vertical-align: middle;\n",
       "    }\n",
       "\n",
       "    .dataframe tbody tr th {\n",
       "        vertical-align: top;\n",
       "    }\n",
       "\n",
       "    .dataframe thead th {\n",
       "        text-align: right;\n",
       "    }\n",
       "</style>\n",
       "<table border=\"1\" class=\"dataframe\">\n",
       "  <thead>\n",
       "    <tr style=\"text-align: right;\">\n",
       "      <th></th>\n",
       "      <th>A</th>\n",
       "      <th>B</th>\n",
       "      <th>C</th>\n",
       "      <th>D</th>\n",
       "      <th>F</th>\n",
       "      <th>E</th>\n",
       "    </tr>\n",
       "  </thead>\n",
       "  <tbody>\n",
       "    <tr>\n",
       "      <th>2022-03-19</th>\n",
       "      <td>False</td>\n",
       "      <td>False</td>\n",
       "      <td>False</td>\n",
       "      <td>False</td>\n",
       "      <td>False</td>\n",
       "      <td>False</td>\n",
       "    </tr>\n",
       "    <tr>\n",
       "      <th>2022-03-20</th>\n",
       "      <td>False</td>\n",
       "      <td>False</td>\n",
       "      <td>False</td>\n",
       "      <td>False</td>\n",
       "      <td>False</td>\n",
       "      <td>False</td>\n",
       "    </tr>\n",
       "    <tr>\n",
       "      <th>2022-03-21</th>\n",
       "      <td>False</td>\n",
       "      <td>False</td>\n",
       "      <td>False</td>\n",
       "      <td>False</td>\n",
       "      <td>False</td>\n",
       "      <td>True</td>\n",
       "    </tr>\n",
       "    <tr>\n",
       "      <th>2022-03-22</th>\n",
       "      <td>False</td>\n",
       "      <td>False</td>\n",
       "      <td>False</td>\n",
       "      <td>False</td>\n",
       "      <td>False</td>\n",
       "      <td>True</td>\n",
       "    </tr>\n",
       "  </tbody>\n",
       "</table>\n",
       "</div>"
      ],
      "text/plain": [
       "                A      B      C      D      F      E\n",
       "2022-03-19  False  False  False  False  False  False\n",
       "2022-03-20  False  False  False  False  False  False\n",
       "2022-03-21  False  False  False  False  False   True\n",
       "2022-03-22  False  False  False  False  False   True"
      ]
     },
     "execution_count": 48,
     "metadata": {},
     "output_type": "execute_result"
    }
   ],
   "source": [
    "pd.isna(df1)"
   ]
  },
  {
   "cell_type": "markdown",
   "metadata": {},
   "source": [
    "## Operations"
   ]
  },
  {
   "cell_type": "markdown",
   "metadata": {},
   "source": [
    "### Stats"
   ]
  },
  {
   "cell_type": "markdown",
   "metadata": {},
   "source": [
    "Operations in general *exclude* missing data.\n",
    "\n",
    "Perform a descriptive statistic."
   ]
  },
  {
   "cell_type": "code",
   "execution_count": 49,
   "metadata": {},
   "outputs": [
    {
     "data": {
      "text/plain": [
       "A     0.081005\n",
       "B     0.044671\n",
       "C    -0.229200\n",
       "D    35.000000\n",
       "F     4.000000\n",
       "dtype: float64"
      ]
     },
     "execution_count": 49,
     "metadata": {},
     "output_type": "execute_result"
    }
   ],
   "source": [
    "df.mean()"
   ]
  },
  {
   "cell_type": "markdown",
   "metadata": {},
   "source": [
    "Same operation on the other axis."
   ]
  },
  {
   "cell_type": "code",
   "execution_count": 50,
   "metadata": {},
   "outputs": [
    {
     "data": {
      "text/plain": [
       "2022-03-19    7.222263\n",
       "2022-03-20    6.889492\n",
       "2022-03-21    7.577718\n",
       "2022-03-22    8.183547\n",
       "2022-03-23    7.661465\n",
       "2022-03-24    8.370341\n",
       "2022-03-25    8.550239\n",
       "Freq: D, dtype: float64"
      ]
     },
     "execution_count": 50,
     "metadata": {},
     "output_type": "execute_result"
    }
   ],
   "source": [
    "df.mean(1)"
   ]
  },
  {
   "cell_type": "markdown",
   "metadata": {},
   "source": [
    "Operation with objects that have different dismensionality and need alignment. In addition, `pandas` automatically broadcast along the specified dimension."
   ]
  },
  {
   "cell_type": "code",
   "execution_count": 51,
   "metadata": {},
   "outputs": [
    {
     "data": {
      "text/plain": [
       "2022-03-19    NaN\n",
       "2022-03-20    NaN\n",
       "2022-03-21    1.0\n",
       "2022-03-22    3.0\n",
       "2022-03-23    5.0\n",
       "2022-03-24    NaN\n",
       "2022-03-25    6.0\n",
       "Freq: D, dtype: float64"
      ]
     },
     "execution_count": 51,
     "metadata": {},
     "output_type": "execute_result"
    }
   ],
   "source": [
    "s = pd.Series([1, 3, 5, np.nan, 6, 8, 11], index=dates).shift(2)\n",
    "s"
   ]
  },
  {
   "cell_type": "code",
   "execution_count": 52,
   "metadata": {},
   "outputs": [
    {
     "data": {
      "text/html": [
       "<div>\n",
       "<style scoped>\n",
       "    .dataframe tbody tr th:only-of-type {\n",
       "        vertical-align: middle;\n",
       "    }\n",
       "\n",
       "    .dataframe tbody tr th {\n",
       "        vertical-align: top;\n",
       "    }\n",
       "\n",
       "    .dataframe thead th {\n",
       "        text-align: right;\n",
       "    }\n",
       "</style>\n",
       "<table border=\"1\" class=\"dataframe\">\n",
       "  <thead>\n",
       "    <tr style=\"text-align: right;\">\n",
       "      <th></th>\n",
       "      <th>A</th>\n",
       "      <th>B</th>\n",
       "      <th>C</th>\n",
       "      <th>D</th>\n",
       "      <th>F</th>\n",
       "    </tr>\n",
       "  </thead>\n",
       "  <tbody>\n",
       "    <tr>\n",
       "      <th>2022-03-19</th>\n",
       "      <td>NaN</td>\n",
       "      <td>NaN</td>\n",
       "      <td>NaN</td>\n",
       "      <td>NaN</td>\n",
       "      <td>NaN</td>\n",
       "    </tr>\n",
       "    <tr>\n",
       "      <th>2022-03-20</th>\n",
       "      <td>NaN</td>\n",
       "      <td>NaN</td>\n",
       "      <td>NaN</td>\n",
       "      <td>NaN</td>\n",
       "      <td>NaN</td>\n",
       "    </tr>\n",
       "    <tr>\n",
       "      <th>2022-03-21</th>\n",
       "      <td>-0.755751</td>\n",
       "      <td>-1.256577</td>\n",
       "      <td>-1.099083</td>\n",
       "      <td>34.0</td>\n",
       "      <td>2.0</td>\n",
       "    </tr>\n",
       "    <tr>\n",
       "      <th>2022-03-22</th>\n",
       "      <td>-1.223522</td>\n",
       "      <td>-2.764762</td>\n",
       "      <td>-3.093981</td>\n",
       "      <td>32.0</td>\n",
       "      <td>1.0</td>\n",
       "    </tr>\n",
       "    <tr>\n",
       "      <th>2022-03-23</th>\n",
       "      <td>-5.185076</td>\n",
       "      <td>-5.964747</td>\n",
       "      <td>-5.542850</td>\n",
       "      <td>30.0</td>\n",
       "      <td>0.0</td>\n",
       "    </tr>\n",
       "    <tr>\n",
       "      <th>2022-03-24</th>\n",
       "      <td>NaN</td>\n",
       "      <td>NaN</td>\n",
       "      <td>NaN</td>\n",
       "      <td>NaN</td>\n",
       "      <td>NaN</td>\n",
       "    </tr>\n",
       "    <tr>\n",
       "      <th>2022-03-25</th>\n",
       "      <td>-5.375216</td>\n",
       "      <td>-6.974044</td>\n",
       "      <td>-4.899545</td>\n",
       "      <td>29.0</td>\n",
       "      <td>1.0</td>\n",
       "    </tr>\n",
       "  </tbody>\n",
       "</table>\n",
       "</div>"
      ],
      "text/plain": [
       "                   A         B         C     D    F\n",
       "2022-03-19       NaN       NaN       NaN   NaN  NaN\n",
       "2022-03-20       NaN       NaN       NaN   NaN  NaN\n",
       "2022-03-21 -0.755751 -1.256577 -1.099083  34.0  2.0\n",
       "2022-03-22 -1.223522 -2.764762 -3.093981  32.0  1.0\n",
       "2022-03-23 -5.185076 -5.964747 -5.542850  30.0  0.0\n",
       "2022-03-24       NaN       NaN       NaN   NaN  NaN\n",
       "2022-03-25 -5.375216 -6.974044 -4.899545  29.0  1.0"
      ]
     },
     "execution_count": 52,
     "metadata": {},
     "output_type": "execute_result"
    }
   ],
   "source": [
    "df.sub(s, axis=\"index\")"
   ]
  },
  {
   "cell_type": "markdown",
   "metadata": {},
   "source": [
    "### Apply"
   ]
  },
  {
   "cell_type": "markdown",
   "metadata": {},
   "source": [
    "Applying functions to the data."
   ]
  },
  {
   "cell_type": "code",
   "execution_count": 53,
   "metadata": {},
   "outputs": [
    {
     "data": {
      "text/html": [
       "<div>\n",
       "<style scoped>\n",
       "    .dataframe tbody tr th:only-of-type {\n",
       "        vertical-align: middle;\n",
       "    }\n",
       "\n",
       "    .dataframe tbody tr th {\n",
       "        vertical-align: top;\n",
       "    }\n",
       "\n",
       "    .dataframe thead th {\n",
       "        text-align: right;\n",
       "    }\n",
       "</style>\n",
       "<table border=\"1\" class=\"dataframe\">\n",
       "  <thead>\n",
       "    <tr style=\"text-align: right;\">\n",
       "      <th></th>\n",
       "      <th>A</th>\n",
       "      <th>B</th>\n",
       "      <th>C</th>\n",
       "      <th>D</th>\n",
       "      <th>F</th>\n",
       "    </tr>\n",
       "  </thead>\n",
       "  <tbody>\n",
       "    <tr>\n",
       "      <th>2022-03-19</th>\n",
       "      <td>0.000000</td>\n",
       "      <td>1.000000</td>\n",
       "      <td>-0.888684</td>\n",
       "      <td>35</td>\n",
       "      <td>1</td>\n",
       "    </tr>\n",
       "    <tr>\n",
       "      <th>2022-03-20</th>\n",
       "      <td>-1.676719</td>\n",
       "      <td>1.090258</td>\n",
       "      <td>-1.966077</td>\n",
       "      <td>35</td>\n",
       "      <td>2</td>\n",
       "    </tr>\n",
       "    <tr>\n",
       "      <th>2022-03-21</th>\n",
       "      <td>0.244249</td>\n",
       "      <td>-0.256577</td>\n",
       "      <td>-0.099083</td>\n",
       "      <td>35</td>\n",
       "      <td>3</td>\n",
       "    </tr>\n",
       "    <tr>\n",
       "      <th>2022-03-22</th>\n",
       "      <td>1.776478</td>\n",
       "      <td>0.235238</td>\n",
       "      <td>-0.093981</td>\n",
       "      <td>35</td>\n",
       "      <td>4</td>\n",
       "    </tr>\n",
       "    <tr>\n",
       "      <th>2022-03-23</th>\n",
       "      <td>-0.185076</td>\n",
       "      <td>-0.964747</td>\n",
       "      <td>-0.542850</td>\n",
       "      <td>35</td>\n",
       "      <td>5</td>\n",
       "    </tr>\n",
       "    <tr>\n",
       "      <th>2022-03-24</th>\n",
       "      <td>-0.216682</td>\n",
       "      <td>0.182571</td>\n",
       "      <td>0.885816</td>\n",
       "      <td>35</td>\n",
       "      <td>6</td>\n",
       "    </tr>\n",
       "    <tr>\n",
       "      <th>2022-03-25</th>\n",
       "      <td>0.624784</td>\n",
       "      <td>-0.974044</td>\n",
       "      <td>1.100455</td>\n",
       "      <td>35</td>\n",
       "      <td>7</td>\n",
       "    </tr>\n",
       "  </tbody>\n",
       "</table>\n",
       "</div>"
      ],
      "text/plain": [
       "                   A         B         C   D  F\n",
       "2022-03-19  0.000000  1.000000 -0.888684  35  1\n",
       "2022-03-20 -1.676719  1.090258 -1.966077  35  2\n",
       "2022-03-21  0.244249 -0.256577 -0.099083  35  3\n",
       "2022-03-22  1.776478  0.235238 -0.093981  35  4\n",
       "2022-03-23 -0.185076 -0.964747 -0.542850  35  5\n",
       "2022-03-24 -0.216682  0.182571  0.885816  35  6\n",
       "2022-03-25  0.624784 -0.974044  1.100455  35  7"
      ]
     },
     "execution_count": 53,
     "metadata": {},
     "output_type": "execute_result"
    }
   ],
   "source": [
    "df"
   ]
  },
  {
   "cell_type": "code",
   "execution_count": 54,
   "metadata": {},
   "outputs": [
    {
     "data": {
      "text/html": [
       "<div>\n",
       "<style scoped>\n",
       "    .dataframe tbody tr th:only-of-type {\n",
       "        vertical-align: middle;\n",
       "    }\n",
       "\n",
       "    .dataframe tbody tr th {\n",
       "        vertical-align: top;\n",
       "    }\n",
       "\n",
       "    .dataframe thead th {\n",
       "        text-align: right;\n",
       "    }\n",
       "</style>\n",
       "<table border=\"1\" class=\"dataframe\">\n",
       "  <thead>\n",
       "    <tr style=\"text-align: right;\">\n",
       "      <th></th>\n",
       "      <th>A</th>\n",
       "      <th>B</th>\n",
       "      <th>C</th>\n",
       "      <th>D</th>\n",
       "      <th>F</th>\n",
       "    </tr>\n",
       "  </thead>\n",
       "  <tbody>\n",
       "    <tr>\n",
       "      <th>2022-03-19</th>\n",
       "      <td>0.000000</td>\n",
       "      <td>1.000000</td>\n",
       "      <td>-0.888684</td>\n",
       "      <td>35</td>\n",
       "      <td>1</td>\n",
       "    </tr>\n",
       "    <tr>\n",
       "      <th>2022-03-20</th>\n",
       "      <td>-1.676719</td>\n",
       "      <td>2.090258</td>\n",
       "      <td>-2.854761</td>\n",
       "      <td>70</td>\n",
       "      <td>3</td>\n",
       "    </tr>\n",
       "    <tr>\n",
       "      <th>2022-03-21</th>\n",
       "      <td>-1.432470</td>\n",
       "      <td>1.833681</td>\n",
       "      <td>-2.953844</td>\n",
       "      <td>105</td>\n",
       "      <td>6</td>\n",
       "    </tr>\n",
       "    <tr>\n",
       "      <th>2022-03-22</th>\n",
       "      <td>0.344008</td>\n",
       "      <td>2.068919</td>\n",
       "      <td>-3.047825</td>\n",
       "      <td>140</td>\n",
       "      <td>10</td>\n",
       "    </tr>\n",
       "    <tr>\n",
       "      <th>2022-03-23</th>\n",
       "      <td>0.158932</td>\n",
       "      <td>1.104172</td>\n",
       "      <td>-3.590675</td>\n",
       "      <td>175</td>\n",
       "      <td>15</td>\n",
       "    </tr>\n",
       "    <tr>\n",
       "      <th>2022-03-24</th>\n",
       "      <td>-0.057751</td>\n",
       "      <td>1.286744</td>\n",
       "      <td>-2.704859</td>\n",
       "      <td>210</td>\n",
       "      <td>21</td>\n",
       "    </tr>\n",
       "    <tr>\n",
       "      <th>2022-03-25</th>\n",
       "      <td>0.567034</td>\n",
       "      <td>0.312700</td>\n",
       "      <td>-1.604403</td>\n",
       "      <td>245</td>\n",
       "      <td>28</td>\n",
       "    </tr>\n",
       "  </tbody>\n",
       "</table>\n",
       "</div>"
      ],
      "text/plain": [
       "                   A         B         C    D   F\n",
       "2022-03-19  0.000000  1.000000 -0.888684   35   1\n",
       "2022-03-20 -1.676719  2.090258 -2.854761   70   3\n",
       "2022-03-21 -1.432470  1.833681 -2.953844  105   6\n",
       "2022-03-22  0.344008  2.068919 -3.047825  140  10\n",
       "2022-03-23  0.158932  1.104172 -3.590675  175  15\n",
       "2022-03-24 -0.057751  1.286744 -2.704859  210  21\n",
       "2022-03-25  0.567034  0.312700 -1.604403  245  28"
      ]
     },
     "execution_count": 54,
     "metadata": {},
     "output_type": "execute_result"
    }
   ],
   "source": [
    "df.apply(np.cumsum)\n",
    "# equivalent to df.apply(np.cumsum, axis=0)"
   ]
  },
  {
   "cell_type": "code",
   "execution_count": 55,
   "metadata": {},
   "outputs": [
    {
     "data": {
      "text/html": [
       "<div>\n",
       "<style scoped>\n",
       "    .dataframe tbody tr th:only-of-type {\n",
       "        vertical-align: middle;\n",
       "    }\n",
       "\n",
       "    .dataframe tbody tr th {\n",
       "        vertical-align: top;\n",
       "    }\n",
       "\n",
       "    .dataframe thead th {\n",
       "        text-align: right;\n",
       "    }\n",
       "</style>\n",
       "<table border=\"1\" class=\"dataframe\">\n",
       "  <thead>\n",
       "    <tr style=\"text-align: right;\">\n",
       "      <th></th>\n",
       "      <th>A</th>\n",
       "      <th>B</th>\n",
       "      <th>C</th>\n",
       "      <th>D</th>\n",
       "      <th>F</th>\n",
       "    </tr>\n",
       "  </thead>\n",
       "  <tbody>\n",
       "    <tr>\n",
       "      <th>2022-03-19</th>\n",
       "      <td>0.000000</td>\n",
       "      <td>1.000000</td>\n",
       "      <td>0.111316</td>\n",
       "      <td>35.111316</td>\n",
       "      <td>36.111316</td>\n",
       "    </tr>\n",
       "    <tr>\n",
       "      <th>2022-03-20</th>\n",
       "      <td>-1.676719</td>\n",
       "      <td>-0.586461</td>\n",
       "      <td>-2.552538</td>\n",
       "      <td>32.447462</td>\n",
       "      <td>34.447462</td>\n",
       "    </tr>\n",
       "    <tr>\n",
       "      <th>2022-03-21</th>\n",
       "      <td>0.244249</td>\n",
       "      <td>-0.012328</td>\n",
       "      <td>-0.111411</td>\n",
       "      <td>34.888589</td>\n",
       "      <td>37.888589</td>\n",
       "    </tr>\n",
       "    <tr>\n",
       "      <th>2022-03-22</th>\n",
       "      <td>1.776478</td>\n",
       "      <td>2.011716</td>\n",
       "      <td>1.917735</td>\n",
       "      <td>36.917735</td>\n",
       "      <td>40.917735</td>\n",
       "    </tr>\n",
       "    <tr>\n",
       "      <th>2022-03-23</th>\n",
       "      <td>-0.185076</td>\n",
       "      <td>-1.149823</td>\n",
       "      <td>-1.692673</td>\n",
       "      <td>33.307327</td>\n",
       "      <td>38.307327</td>\n",
       "    </tr>\n",
       "    <tr>\n",
       "      <th>2022-03-24</th>\n",
       "      <td>-0.216682</td>\n",
       "      <td>-0.034111</td>\n",
       "      <td>0.851705</td>\n",
       "      <td>35.851705</td>\n",
       "      <td>41.851705</td>\n",
       "    </tr>\n",
       "    <tr>\n",
       "      <th>2022-03-25</th>\n",
       "      <td>0.624784</td>\n",
       "      <td>-0.349260</td>\n",
       "      <td>0.751195</td>\n",
       "      <td>35.751195</td>\n",
       "      <td>42.751195</td>\n",
       "    </tr>\n",
       "  </tbody>\n",
       "</table>\n",
       "</div>"
      ],
      "text/plain": [
       "                   A         B         C          D          F\n",
       "2022-03-19  0.000000  1.000000  0.111316  35.111316  36.111316\n",
       "2022-03-20 -1.676719 -0.586461 -2.552538  32.447462  34.447462\n",
       "2022-03-21  0.244249 -0.012328 -0.111411  34.888589  37.888589\n",
       "2022-03-22  1.776478  2.011716  1.917735  36.917735  40.917735\n",
       "2022-03-23 -0.185076 -1.149823 -1.692673  33.307327  38.307327\n",
       "2022-03-24 -0.216682 -0.034111  0.851705  35.851705  41.851705\n",
       "2022-03-25  0.624784 -0.349260  0.751195  35.751195  42.751195"
      ]
     },
     "execution_count": 55,
     "metadata": {},
     "output_type": "execute_result"
    }
   ],
   "source": [
    "df.apply(np.cumsum, axis=1)"
   ]
  },
  {
   "cell_type": "code",
   "execution_count": 56,
   "metadata": {},
   "outputs": [
    {
     "data": {
      "text/plain": [
       "A    3.453197\n",
       "B    2.064302\n",
       "C    3.066532\n",
       "D    0.000000\n",
       "F    6.000000\n",
       "dtype: float64"
      ]
     },
     "execution_count": 56,
     "metadata": {},
     "output_type": "execute_result"
    }
   ],
   "source": [
    "df.apply(lambda x: x.max() - x.min())"
   ]
  },
  {
   "cell_type": "code",
   "execution_count": 57,
   "metadata": {},
   "outputs": [
    {
     "data": {
      "text/plain": [
       "2022-03-19    35.888684\n",
       "2022-03-20    36.966077\n",
       "2022-03-21    35.256577\n",
       "2022-03-22    35.093981\n",
       "2022-03-23    35.964747\n",
       "2022-03-24    35.216682\n",
       "2022-03-25    35.974044\n",
       "Freq: D, dtype: float64"
      ]
     },
     "execution_count": 57,
     "metadata": {},
     "output_type": "execute_result"
    }
   ],
   "source": [
    "df.apply(lambda x: x.max() - x.min(), axis=1)"
   ]
  },
  {
   "cell_type": "markdown",
   "metadata": {},
   "source": [
    "### Histogramming"
   ]
  },
  {
   "cell_type": "code",
   "execution_count": 58,
   "metadata": {},
   "outputs": [
    {
     "data": {
      "text/plain": [
       "0    6\n",
       "1    0\n",
       "2    4\n",
       "3    4\n",
       "4    1\n",
       "5    2\n",
       "6    0\n",
       "7    6\n",
       "8    1\n",
       "9    2\n",
       "dtype: int32"
      ]
     },
     "execution_count": 58,
     "metadata": {},
     "output_type": "execute_result"
    }
   ],
   "source": [
    "s = pd.Series(np.random.randint(0, 7, size=10))\n",
    "s"
   ]
  },
  {
   "cell_type": "code",
   "execution_count": 59,
   "metadata": {},
   "outputs": [
    {
     "data": {
      "text/plain": [
       "6    2\n",
       "0    2\n",
       "4    2\n",
       "1    2\n",
       "2    2\n",
       "dtype: int64"
      ]
     },
     "execution_count": 59,
     "metadata": {},
     "output_type": "execute_result"
    }
   ],
   "source": [
    "s.value_counts()"
   ]
  },
  {
   "cell_type": "markdown",
   "metadata": {},
   "source": [
    "### String methods"
   ]
  },
  {
   "cell_type": "markdown",
   "metadata": {},
   "source": [
    "Series is equipped with a set of string processing methods in the `str` attribute that make it easy to operate on each element of the array, as in the code snippet below. Note that pattern-matching in `str` generally uses **regular expressions** by default (and in some cases always uses them)."
   ]
  },
  {
   "cell_type": "code",
   "execution_count": 60,
   "metadata": {},
   "outputs": [
    {
     "data": {
      "text/plain": [
       "0       A\n",
       "1       B\n",
       "2       C\n",
       "3       D\n",
       "4    Aaba\n",
       "5    Baca\n",
       "6     NaN\n",
       "7    CABA\n",
       "8     dog\n",
       "9     cat\n",
       "dtype: object"
      ]
     },
     "execution_count": 60,
     "metadata": {},
     "output_type": "execute_result"
    }
   ],
   "source": [
    "s = pd.Series([\"A\", \"B\", \"C\", \"D\", \"Aaba\", \"Baca\", np.nan, \"CABA\", \"dog\", \"cat\"])\n",
    "s"
   ]
  },
  {
   "cell_type": "code",
   "execution_count": 61,
   "metadata": {},
   "outputs": [
    {
     "data": {
      "text/plain": [
       "0       a\n",
       "1       b\n",
       "2       c\n",
       "3       d\n",
       "4    aaba\n",
       "5    baca\n",
       "6     NaN\n",
       "7    caba\n",
       "8     dog\n",
       "9     cat\n",
       "dtype: object"
      ]
     },
     "execution_count": 61,
     "metadata": {},
     "output_type": "execute_result"
    }
   ],
   "source": [
    "s.str.lower()"
   ]
  },
  {
   "cell_type": "markdown",
   "metadata": {},
   "source": [
    "### Merge"
   ]
  },
  {
   "cell_type": "markdown",
   "metadata": {},
   "source": [
    "#### Concat"
   ]
  },
  {
   "cell_type": "markdown",
   "metadata": {},
   "source": [
    "`Pandas` provides various facilities for easily combining together `Series` and `DataFrame` objects with various kinds of set logic for the indexes and relational algebra functionality in the case of join/merge-type operations.\n",
    "\n",
    "Concatenating pandas objects together with `concat()`."
   ]
  },
  {
   "cell_type": "code",
   "execution_count": 62,
   "metadata": {},
   "outputs": [
    {
     "data": {
      "text/html": [
       "<div>\n",
       "<style scoped>\n",
       "    .dataframe tbody tr th:only-of-type {\n",
       "        vertical-align: middle;\n",
       "    }\n",
       "\n",
       "    .dataframe tbody tr th {\n",
       "        vertical-align: top;\n",
       "    }\n",
       "\n",
       "    .dataframe thead th {\n",
       "        text-align: right;\n",
       "    }\n",
       "</style>\n",
       "<table border=\"1\" class=\"dataframe\">\n",
       "  <thead>\n",
       "    <tr style=\"text-align: right;\">\n",
       "      <th></th>\n",
       "      <th>0</th>\n",
       "      <th>1</th>\n",
       "      <th>2</th>\n",
       "      <th>3</th>\n",
       "    </tr>\n",
       "  </thead>\n",
       "  <tbody>\n",
       "    <tr>\n",
       "      <th>0</th>\n",
       "      <td>-1.724109</td>\n",
       "      <td>0.411101</td>\n",
       "      <td>-0.328557</td>\n",
       "      <td>0.250358</td>\n",
       "    </tr>\n",
       "    <tr>\n",
       "      <th>1</th>\n",
       "      <td>-1.254807</td>\n",
       "      <td>1.463416</td>\n",
       "      <td>1.133394</td>\n",
       "      <td>-1.834136</td>\n",
       "    </tr>\n",
       "    <tr>\n",
       "      <th>2</th>\n",
       "      <td>-0.607070</td>\n",
       "      <td>-1.460862</td>\n",
       "      <td>-0.433120</td>\n",
       "      <td>-0.098387</td>\n",
       "    </tr>\n",
       "    <tr>\n",
       "      <th>3</th>\n",
       "      <td>-0.236818</td>\n",
       "      <td>0.420965</td>\n",
       "      <td>-0.356506</td>\n",
       "      <td>0.323899</td>\n",
       "    </tr>\n",
       "    <tr>\n",
       "      <th>4</th>\n",
       "      <td>-0.603135</td>\n",
       "      <td>1.060861</td>\n",
       "      <td>0.405774</td>\n",
       "      <td>-0.511619</td>\n",
       "    </tr>\n",
       "    <tr>\n",
       "      <th>5</th>\n",
       "      <td>-0.582767</td>\n",
       "      <td>-0.639265</td>\n",
       "      <td>-0.033607</td>\n",
       "      <td>-0.469928</td>\n",
       "    </tr>\n",
       "    <tr>\n",
       "      <th>6</th>\n",
       "      <td>-0.339338</td>\n",
       "      <td>0.181223</td>\n",
       "      <td>0.228185</td>\n",
       "      <td>0.822008</td>\n",
       "    </tr>\n",
       "    <tr>\n",
       "      <th>7</th>\n",
       "      <td>0.213306</td>\n",
       "      <td>-0.992878</td>\n",
       "      <td>0.517584</td>\n",
       "      <td>0.304642</td>\n",
       "    </tr>\n",
       "    <tr>\n",
       "      <th>8</th>\n",
       "      <td>-1.147936</td>\n",
       "      <td>-0.083162</td>\n",
       "      <td>-0.256240</td>\n",
       "      <td>0.034513</td>\n",
       "    </tr>\n",
       "    <tr>\n",
       "      <th>9</th>\n",
       "      <td>0.266978</td>\n",
       "      <td>-0.413701</td>\n",
       "      <td>0.114007</td>\n",
       "      <td>0.177897</td>\n",
       "    </tr>\n",
       "  </tbody>\n",
       "</table>\n",
       "</div>"
      ],
      "text/plain": [
       "          0         1         2         3\n",
       "0 -1.724109  0.411101 -0.328557  0.250358\n",
       "1 -1.254807  1.463416  1.133394 -1.834136\n",
       "2 -0.607070 -1.460862 -0.433120 -0.098387\n",
       "3 -0.236818  0.420965 -0.356506  0.323899\n",
       "4 -0.603135  1.060861  0.405774 -0.511619\n",
       "5 -0.582767 -0.639265 -0.033607 -0.469928\n",
       "6 -0.339338  0.181223  0.228185  0.822008\n",
       "7  0.213306 -0.992878  0.517584  0.304642\n",
       "8 -1.147936 -0.083162 -0.256240  0.034513\n",
       "9  0.266978 -0.413701  0.114007  0.177897"
      ]
     },
     "execution_count": 62,
     "metadata": {},
     "output_type": "execute_result"
    }
   ],
   "source": [
    "df = pd.DataFrame(np.random.randn(10, 4))\n",
    "df"
   ]
  },
  {
   "cell_type": "code",
   "execution_count": 63,
   "metadata": {},
   "outputs": [
    {
     "data": {
      "text/plain": [
       "[          0         1         2         3\n",
       " 0 -1.724109  0.411101 -0.328557  0.250358\n",
       " 1 -1.254807  1.463416  1.133394 -1.834136\n",
       " 2 -0.607070 -1.460862 -0.433120 -0.098387,\n",
       "           0         1         2         3\n",
       " 3 -0.236818  0.420965 -0.356506  0.323899\n",
       " 4 -0.603135  1.060861  0.405774 -0.511619\n",
       " 5 -0.582767 -0.639265 -0.033607 -0.469928\n",
       " 6 -0.339338  0.181223  0.228185  0.822008,\n",
       "           0         1         2         3\n",
       " 7  0.213306 -0.992878  0.517584  0.304642\n",
       " 8 -1.147936 -0.083162 -0.256240  0.034513\n",
       " 9  0.266978 -0.413701  0.114007  0.177897]"
      ]
     },
     "execution_count": 63,
     "metadata": {},
     "output_type": "execute_result"
    }
   ],
   "source": [
    "# break it into pieces\n",
    "pieces = [df[:3], df[3:7], df[7:]]\n",
    "pieces"
   ]
  },
  {
   "cell_type": "code",
   "execution_count": 64,
   "metadata": {},
   "outputs": [
    {
     "data": {
      "text/html": [
       "<div>\n",
       "<style scoped>\n",
       "    .dataframe tbody tr th:only-of-type {\n",
       "        vertical-align: middle;\n",
       "    }\n",
       "\n",
       "    .dataframe tbody tr th {\n",
       "        vertical-align: top;\n",
       "    }\n",
       "\n",
       "    .dataframe thead th {\n",
       "        text-align: right;\n",
       "    }\n",
       "</style>\n",
       "<table border=\"1\" class=\"dataframe\">\n",
       "  <thead>\n",
       "    <tr style=\"text-align: right;\">\n",
       "      <th></th>\n",
       "      <th>0</th>\n",
       "      <th>1</th>\n",
       "      <th>2</th>\n",
       "      <th>3</th>\n",
       "    </tr>\n",
       "  </thead>\n",
       "  <tbody>\n",
       "    <tr>\n",
       "      <th>0</th>\n",
       "      <td>-1.724109</td>\n",
       "      <td>0.411101</td>\n",
       "      <td>-0.328557</td>\n",
       "      <td>0.250358</td>\n",
       "    </tr>\n",
       "    <tr>\n",
       "      <th>1</th>\n",
       "      <td>-1.254807</td>\n",
       "      <td>1.463416</td>\n",
       "      <td>1.133394</td>\n",
       "      <td>-1.834136</td>\n",
       "    </tr>\n",
       "    <tr>\n",
       "      <th>2</th>\n",
       "      <td>-0.607070</td>\n",
       "      <td>-1.460862</td>\n",
       "      <td>-0.433120</td>\n",
       "      <td>-0.098387</td>\n",
       "    </tr>\n",
       "    <tr>\n",
       "      <th>3</th>\n",
       "      <td>-0.236818</td>\n",
       "      <td>0.420965</td>\n",
       "      <td>-0.356506</td>\n",
       "      <td>0.323899</td>\n",
       "    </tr>\n",
       "    <tr>\n",
       "      <th>4</th>\n",
       "      <td>-0.603135</td>\n",
       "      <td>1.060861</td>\n",
       "      <td>0.405774</td>\n",
       "      <td>-0.511619</td>\n",
       "    </tr>\n",
       "    <tr>\n",
       "      <th>5</th>\n",
       "      <td>-0.582767</td>\n",
       "      <td>-0.639265</td>\n",
       "      <td>-0.033607</td>\n",
       "      <td>-0.469928</td>\n",
       "    </tr>\n",
       "    <tr>\n",
       "      <th>6</th>\n",
       "      <td>-0.339338</td>\n",
       "      <td>0.181223</td>\n",
       "      <td>0.228185</td>\n",
       "      <td>0.822008</td>\n",
       "    </tr>\n",
       "    <tr>\n",
       "      <th>7</th>\n",
       "      <td>0.213306</td>\n",
       "      <td>-0.992878</td>\n",
       "      <td>0.517584</td>\n",
       "      <td>0.304642</td>\n",
       "    </tr>\n",
       "    <tr>\n",
       "      <th>8</th>\n",
       "      <td>-1.147936</td>\n",
       "      <td>-0.083162</td>\n",
       "      <td>-0.256240</td>\n",
       "      <td>0.034513</td>\n",
       "    </tr>\n",
       "    <tr>\n",
       "      <th>9</th>\n",
       "      <td>0.266978</td>\n",
       "      <td>-0.413701</td>\n",
       "      <td>0.114007</td>\n",
       "      <td>0.177897</td>\n",
       "    </tr>\n",
       "  </tbody>\n",
       "</table>\n",
       "</div>"
      ],
      "text/plain": [
       "          0         1         2         3\n",
       "0 -1.724109  0.411101 -0.328557  0.250358\n",
       "1 -1.254807  1.463416  1.133394 -1.834136\n",
       "2 -0.607070 -1.460862 -0.433120 -0.098387\n",
       "3 -0.236818  0.420965 -0.356506  0.323899\n",
       "4 -0.603135  1.060861  0.405774 -0.511619\n",
       "5 -0.582767 -0.639265 -0.033607 -0.469928\n",
       "6 -0.339338  0.181223  0.228185  0.822008\n",
       "7  0.213306 -0.992878  0.517584  0.304642\n",
       "8 -1.147936 -0.083162 -0.256240  0.034513\n",
       "9  0.266978 -0.413701  0.114007  0.177897"
      ]
     },
     "execution_count": 64,
     "metadata": {},
     "output_type": "execute_result"
    }
   ],
   "source": [
    "pd.concat(pieces)"
   ]
  },
  {
   "cell_type": "markdown",
   "metadata": {},
   "source": [
    "> Adding a column to a `DataFrame` is relatively fast. However, adding a row requires a copy, and may be expensive. I recommend passing a pre-built list of records to the `DataFrame` constructor instead of building a `DataFrame` by iteratively appending records to it."
   ]
  },
  {
   "cell_type": "markdown",
   "metadata": {},
   "source": [
    "### Join"
   ]
  },
  {
   "cell_type": "markdown",
   "metadata": {},
   "source": [
    "SQL style merges."
   ]
  },
  {
   "cell_type": "code",
   "execution_count": 65,
   "metadata": {},
   "outputs": [],
   "source": [
    "left = pd.DataFrame(\n",
    "    {\n",
    "        \"keys\": [\"foo\", \"bar\"],\n",
    "        \"lval\": [1, 2]\n",
    "    }\n",
    ")\n",
    "right = pd.DataFrame(\n",
    "    {\n",
    "        \"keys\": [\"foo\", \"bar\"],\n",
    "        \"rval\": [4, 5]\n",
    "    }\n",
    ")"
   ]
  },
  {
   "cell_type": "code",
   "execution_count": 66,
   "metadata": {},
   "outputs": [
    {
     "data": {
      "text/html": [
       "<div>\n",
       "<style scoped>\n",
       "    .dataframe tbody tr th:only-of-type {\n",
       "        vertical-align: middle;\n",
       "    }\n",
       "\n",
       "    .dataframe tbody tr th {\n",
       "        vertical-align: top;\n",
       "    }\n",
       "\n",
       "    .dataframe thead th {\n",
       "        text-align: right;\n",
       "    }\n",
       "</style>\n",
       "<table border=\"1\" class=\"dataframe\">\n",
       "  <thead>\n",
       "    <tr style=\"text-align: right;\">\n",
       "      <th></th>\n",
       "      <th>keys</th>\n",
       "      <th>lval</th>\n",
       "    </tr>\n",
       "  </thead>\n",
       "  <tbody>\n",
       "    <tr>\n",
       "      <th>0</th>\n",
       "      <td>foo</td>\n",
       "      <td>1</td>\n",
       "    </tr>\n",
       "    <tr>\n",
       "      <th>1</th>\n",
       "      <td>bar</td>\n",
       "      <td>2</td>\n",
       "    </tr>\n",
       "  </tbody>\n",
       "</table>\n",
       "</div>"
      ],
      "text/plain": [
       "  keys  lval\n",
       "0  foo     1\n",
       "1  bar     2"
      ]
     },
     "execution_count": 66,
     "metadata": {},
     "output_type": "execute_result"
    }
   ],
   "source": [
    "left"
   ]
  },
  {
   "cell_type": "code",
   "execution_count": 67,
   "metadata": {},
   "outputs": [
    {
     "data": {
      "text/html": [
       "<div>\n",
       "<style scoped>\n",
       "    .dataframe tbody tr th:only-of-type {\n",
       "        vertical-align: middle;\n",
       "    }\n",
       "\n",
       "    .dataframe tbody tr th {\n",
       "        vertical-align: top;\n",
       "    }\n",
       "\n",
       "    .dataframe thead th {\n",
       "        text-align: right;\n",
       "    }\n",
       "</style>\n",
       "<table border=\"1\" class=\"dataframe\">\n",
       "  <thead>\n",
       "    <tr style=\"text-align: right;\">\n",
       "      <th></th>\n",
       "      <th>keys</th>\n",
       "      <th>rval</th>\n",
       "    </tr>\n",
       "  </thead>\n",
       "  <tbody>\n",
       "    <tr>\n",
       "      <th>0</th>\n",
       "      <td>foo</td>\n",
       "      <td>4</td>\n",
       "    </tr>\n",
       "    <tr>\n",
       "      <th>1</th>\n",
       "      <td>bar</td>\n",
       "      <td>5</td>\n",
       "    </tr>\n",
       "  </tbody>\n",
       "</table>\n",
       "</div>"
      ],
      "text/plain": [
       "  keys  rval\n",
       "0  foo     4\n",
       "1  bar     5"
      ]
     },
     "execution_count": 67,
     "metadata": {},
     "output_type": "execute_result"
    }
   ],
   "source": [
    "right"
   ]
  },
  {
   "cell_type": "code",
   "execution_count": 68,
   "metadata": {},
   "outputs": [
    {
     "data": {
      "text/html": [
       "<div>\n",
       "<style scoped>\n",
       "    .dataframe tbody tr th:only-of-type {\n",
       "        vertical-align: middle;\n",
       "    }\n",
       "\n",
       "    .dataframe tbody tr th {\n",
       "        vertical-align: top;\n",
       "    }\n",
       "\n",
       "    .dataframe thead th {\n",
       "        text-align: right;\n",
       "    }\n",
       "</style>\n",
       "<table border=\"1\" class=\"dataframe\">\n",
       "  <thead>\n",
       "    <tr style=\"text-align: right;\">\n",
       "      <th></th>\n",
       "      <th>keys</th>\n",
       "      <th>lval</th>\n",
       "      <th>rval</th>\n",
       "    </tr>\n",
       "  </thead>\n",
       "  <tbody>\n",
       "    <tr>\n",
       "      <th>0</th>\n",
       "      <td>foo</td>\n",
       "      <td>1</td>\n",
       "      <td>4</td>\n",
       "    </tr>\n",
       "    <tr>\n",
       "      <th>1</th>\n",
       "      <td>bar</td>\n",
       "      <td>2</td>\n",
       "      <td>5</td>\n",
       "    </tr>\n",
       "  </tbody>\n",
       "</table>\n",
       "</div>"
      ],
      "text/plain": [
       "  keys  lval  rval\n",
       "0  foo     1     4\n",
       "1  bar     2     5"
      ]
     },
     "execution_count": 68,
     "metadata": {},
     "output_type": "execute_result"
    }
   ],
   "source": [
    "pd.merge(left, right, on=\"keys\")"
   ]
  },
  {
   "cell_type": "markdown",
   "metadata": {},
   "source": [
    "## Grouping"
   ]
  },
  {
   "cell_type": "markdown",
   "metadata": {},
   "source": [
    "By \"grouping\" we are refering to a process involving one ore more of the following steps:\n",
    "\n",
    "- **Splitting** the data into groups based on some criteria.\n",
    "- **Applying** a function to each group independently\n",
    "- **Combining** the results into a data structure"
   ]
  },
  {
   "cell_type": "code",
   "execution_count": 69,
   "metadata": {},
   "outputs": [
    {
     "data": {
      "text/html": [
       "<div>\n",
       "<style scoped>\n",
       "    .dataframe tbody tr th:only-of-type {\n",
       "        vertical-align: middle;\n",
       "    }\n",
       "\n",
       "    .dataframe tbody tr th {\n",
       "        vertical-align: top;\n",
       "    }\n",
       "\n",
       "    .dataframe thead th {\n",
       "        text-align: right;\n",
       "    }\n",
       "</style>\n",
       "<table border=\"1\" class=\"dataframe\">\n",
       "  <thead>\n",
       "    <tr style=\"text-align: right;\">\n",
       "      <th></th>\n",
       "      <th>A</th>\n",
       "      <th>B</th>\n",
       "      <th>C</th>\n",
       "      <th>D</th>\n",
       "    </tr>\n",
       "  </thead>\n",
       "  <tbody>\n",
       "    <tr>\n",
       "      <th>0</th>\n",
       "      <td>foo</td>\n",
       "      <td>one</td>\n",
       "      <td>0.338328</td>\n",
       "      <td>0.407254</td>\n",
       "    </tr>\n",
       "    <tr>\n",
       "      <th>1</th>\n",
       "      <td>bar</td>\n",
       "      <td>one</td>\n",
       "      <td>1.277655</td>\n",
       "      <td>0.088752</td>\n",
       "    </tr>\n",
       "    <tr>\n",
       "      <th>2</th>\n",
       "      <td>foo</td>\n",
       "      <td>two</td>\n",
       "      <td>-0.725769</td>\n",
       "      <td>1.240329</td>\n",
       "    </tr>\n",
       "    <tr>\n",
       "      <th>3</th>\n",
       "      <td>bar</td>\n",
       "      <td>three</td>\n",
       "      <td>-0.326743</td>\n",
       "      <td>-0.559055</td>\n",
       "    </tr>\n",
       "    <tr>\n",
       "      <th>4</th>\n",
       "      <td>foo</td>\n",
       "      <td>two</td>\n",
       "      <td>-0.089508</td>\n",
       "      <td>-0.495114</td>\n",
       "    </tr>\n",
       "    <tr>\n",
       "      <th>5</th>\n",
       "      <td>bar</td>\n",
       "      <td>two</td>\n",
       "      <td>-0.082540</td>\n",
       "      <td>-0.471225</td>\n",
       "    </tr>\n",
       "    <tr>\n",
       "      <th>6</th>\n",
       "      <td>foo</td>\n",
       "      <td>one</td>\n",
       "      <td>-1.126816</td>\n",
       "      <td>-0.151158</td>\n",
       "    </tr>\n",
       "    <tr>\n",
       "      <th>7</th>\n",
       "      <td>foo</td>\n",
       "      <td>three</td>\n",
       "      <td>2.010950</td>\n",
       "      <td>1.234230</td>\n",
       "    </tr>\n",
       "  </tbody>\n",
       "</table>\n",
       "</div>"
      ],
      "text/plain": [
       "     A      B         C         D\n",
       "0  foo    one  0.338328  0.407254\n",
       "1  bar    one  1.277655  0.088752\n",
       "2  foo    two -0.725769  1.240329\n",
       "3  bar  three -0.326743 -0.559055\n",
       "4  foo    two -0.089508 -0.495114\n",
       "5  bar    two -0.082540 -0.471225\n",
       "6  foo    one -1.126816 -0.151158\n",
       "7  foo  three  2.010950  1.234230"
      ]
     },
     "execution_count": 69,
     "metadata": {},
     "output_type": "execute_result"
    }
   ],
   "source": [
    "df = pd.DataFrame(\n",
    "    {\n",
    "        \"A\": [\"foo\", \"bar\", \"foo\", \"bar\", \"foo\", \"bar\", \"foo\", \"foo\"],\n",
    "        \"B\": [\"one\", \"one\", \"two\", \"three\", \"two\", \"two\", \"one\", \"three\"],\n",
    "        \"C\": np.random.randn(8),\n",
    "        \"D\": np.random.randn(8),\n",
    "    }\n",
    ")\n",
    "df"
   ]
  },
  {
   "cell_type": "markdown",
   "metadata": {},
   "source": [
    "Grouping and then applying the `sum()` function to the resulting group."
   ]
  },
  {
   "cell_type": "code",
   "execution_count": 70,
   "metadata": {},
   "outputs": [
    {
     "data": {
      "text/html": [
       "<div>\n",
       "<style scoped>\n",
       "    .dataframe tbody tr th:only-of-type {\n",
       "        vertical-align: middle;\n",
       "    }\n",
       "\n",
       "    .dataframe tbody tr th {\n",
       "        vertical-align: top;\n",
       "    }\n",
       "\n",
       "    .dataframe thead th {\n",
       "        text-align: right;\n",
       "    }\n",
       "</style>\n",
       "<table border=\"1\" class=\"dataframe\">\n",
       "  <thead>\n",
       "    <tr style=\"text-align: right;\">\n",
       "      <th></th>\n",
       "      <th>C</th>\n",
       "      <th>D</th>\n",
       "    </tr>\n",
       "    <tr>\n",
       "      <th>A</th>\n",
       "      <th></th>\n",
       "      <th></th>\n",
       "    </tr>\n",
       "  </thead>\n",
       "  <tbody>\n",
       "    <tr>\n",
       "      <th>bar</th>\n",
       "      <td>0.868371</td>\n",
       "      <td>-0.941528</td>\n",
       "    </tr>\n",
       "    <tr>\n",
       "      <th>foo</th>\n",
       "      <td>0.407185</td>\n",
       "      <td>2.235541</td>\n",
       "    </tr>\n",
       "  </tbody>\n",
       "</table>\n",
       "</div>"
      ],
      "text/plain": [
       "            C         D\n",
       "A                      \n",
       "bar  0.868371 -0.941528\n",
       "foo  0.407185  2.235541"
      ]
     },
     "execution_count": 70,
     "metadata": {},
     "output_type": "execute_result"
    }
   ],
   "source": [
    "df.groupby(\"A\").sum()"
   ]
  },
  {
   "cell_type": "markdown",
   "metadata": {},
   "source": [
    "Grouping by multiple columns forms a hierarchical index, and again we can apply the `sum()` function."
   ]
  },
  {
   "cell_type": "code",
   "execution_count": 71,
   "metadata": {},
   "outputs": [
    {
     "data": {
      "text/html": [
       "<div>\n",
       "<style scoped>\n",
       "    .dataframe tbody tr th:only-of-type {\n",
       "        vertical-align: middle;\n",
       "    }\n",
       "\n",
       "    .dataframe tbody tr th {\n",
       "        vertical-align: top;\n",
       "    }\n",
       "\n",
       "    .dataframe thead th {\n",
       "        text-align: right;\n",
       "    }\n",
       "</style>\n",
       "<table border=\"1\" class=\"dataframe\">\n",
       "  <thead>\n",
       "    <tr style=\"text-align: right;\">\n",
       "      <th></th>\n",
       "      <th></th>\n",
       "      <th>C</th>\n",
       "      <th>D</th>\n",
       "    </tr>\n",
       "    <tr>\n",
       "      <th>A</th>\n",
       "      <th>B</th>\n",
       "      <th></th>\n",
       "      <th></th>\n",
       "    </tr>\n",
       "  </thead>\n",
       "  <tbody>\n",
       "    <tr>\n",
       "      <th rowspan=\"3\" valign=\"top\">bar</th>\n",
       "      <th>one</th>\n",
       "      <td>1.277655</td>\n",
       "      <td>0.088752</td>\n",
       "    </tr>\n",
       "    <tr>\n",
       "      <th>three</th>\n",
       "      <td>-0.326743</td>\n",
       "      <td>-0.559055</td>\n",
       "    </tr>\n",
       "    <tr>\n",
       "      <th>two</th>\n",
       "      <td>-0.082540</td>\n",
       "      <td>-0.471225</td>\n",
       "    </tr>\n",
       "    <tr>\n",
       "      <th rowspan=\"3\" valign=\"top\">foo</th>\n",
       "      <th>one</th>\n",
       "      <td>-0.788489</td>\n",
       "      <td>0.256096</td>\n",
       "    </tr>\n",
       "    <tr>\n",
       "      <th>three</th>\n",
       "      <td>2.010950</td>\n",
       "      <td>1.234230</td>\n",
       "    </tr>\n",
       "    <tr>\n",
       "      <th>two</th>\n",
       "      <td>-0.815277</td>\n",
       "      <td>0.745215</td>\n",
       "    </tr>\n",
       "  </tbody>\n",
       "</table>\n",
       "</div>"
      ],
      "text/plain": [
       "                  C         D\n",
       "A   B                        \n",
       "bar one    1.277655  0.088752\n",
       "    three -0.326743 -0.559055\n",
       "    two   -0.082540 -0.471225\n",
       "foo one   -0.788489  0.256096\n",
       "    three  2.010950  1.234230\n",
       "    two   -0.815277  0.745215"
      ]
     },
     "execution_count": 71,
     "metadata": {},
     "output_type": "execute_result"
    }
   ],
   "source": [
    "df.groupby([\"A\", \"B\"]).sum()"
   ]
  },
  {
   "cell_type": "markdown",
   "metadata": {},
   "source": [
    "## Reshaping"
   ]
  },
  {
   "cell_type": "markdown",
   "metadata": {},
   "source": [
    "### Stack"
   ]
  },
  {
   "cell_type": "code",
   "execution_count": 72,
   "metadata": {},
   "outputs": [
    {
     "data": {
      "text/html": [
       "<div>\n",
       "<style scoped>\n",
       "    .dataframe tbody tr th:only-of-type {\n",
       "        vertical-align: middle;\n",
       "    }\n",
       "\n",
       "    .dataframe tbody tr th {\n",
       "        vertical-align: top;\n",
       "    }\n",
       "\n",
       "    .dataframe thead th {\n",
       "        text-align: right;\n",
       "    }\n",
       "</style>\n",
       "<table border=\"1\" class=\"dataframe\">\n",
       "  <thead>\n",
       "    <tr style=\"text-align: right;\">\n",
       "      <th></th>\n",
       "      <th></th>\n",
       "      <th>A</th>\n",
       "      <th>B</th>\n",
       "    </tr>\n",
       "    <tr>\n",
       "      <th>first</th>\n",
       "      <th>second</th>\n",
       "      <th></th>\n",
       "      <th></th>\n",
       "    </tr>\n",
       "  </thead>\n",
       "  <tbody>\n",
       "    <tr>\n",
       "      <th rowspan=\"2\" valign=\"top\">bar</th>\n",
       "      <th>one</th>\n",
       "      <td>0.530897</td>\n",
       "      <td>-0.825297</td>\n",
       "    </tr>\n",
       "    <tr>\n",
       "      <th>two</th>\n",
       "      <td>-0.296452</td>\n",
       "      <td>-0.448199</td>\n",
       "    </tr>\n",
       "    <tr>\n",
       "      <th rowspan=\"2\" valign=\"top\">baz</th>\n",
       "      <th>one</th>\n",
       "      <td>0.953647</td>\n",
       "      <td>-0.304044</td>\n",
       "    </tr>\n",
       "    <tr>\n",
       "      <th>two</th>\n",
       "      <td>-0.871343</td>\n",
       "      <td>-1.245235</td>\n",
       "    </tr>\n",
       "    <tr>\n",
       "      <th rowspan=\"2\" valign=\"top\">foo</th>\n",
       "      <th>one</th>\n",
       "      <td>-0.405061</td>\n",
       "      <td>-0.422861</td>\n",
       "    </tr>\n",
       "    <tr>\n",
       "      <th>two</th>\n",
       "      <td>-0.973405</td>\n",
       "      <td>-0.167809</td>\n",
       "    </tr>\n",
       "    <tr>\n",
       "      <th rowspan=\"2\" valign=\"top\">qux</th>\n",
       "      <th>one</th>\n",
       "      <td>0.399787</td>\n",
       "      <td>-0.243971</td>\n",
       "    </tr>\n",
       "    <tr>\n",
       "      <th>two</th>\n",
       "      <td>2.014824</td>\n",
       "      <td>-1.222681</td>\n",
       "    </tr>\n",
       "  </tbody>\n",
       "</table>\n",
       "</div>"
      ],
      "text/plain": [
       "                     A         B\n",
       "first second                    \n",
       "bar   one     0.530897 -0.825297\n",
       "      two    -0.296452 -0.448199\n",
       "baz   one     0.953647 -0.304044\n",
       "      two    -0.871343 -1.245235\n",
       "foo   one    -0.405061 -0.422861\n",
       "      two    -0.973405 -0.167809\n",
       "qux   one     0.399787 -0.243971\n",
       "      two     2.014824 -1.222681"
      ]
     },
     "execution_count": 72,
     "metadata": {},
     "output_type": "execute_result"
    }
   ],
   "source": [
    "tuples = list(\n",
    "    zip(\n",
    "        *[\n",
    "            [\"bar\", \"bar\", \"baz\", \"baz\", \"foo\", \"foo\", \"qux\", \"qux\"],\n",
    "            [\"one\", \"two\", \"one\", \"two\", \"one\", \"two\", \"one\", \"two\"],\n",
    "        ]\n",
    "    )\n",
    ")\n",
    "index = pd.MultiIndex.from_tuples(tuples, names=[\"first\", \"second\"])\n",
    "df = pd.DataFrame(np.random.randn(8, 2), index=index, columns=[\"A\", \"B\"])\n",
    "df"
   ]
  },
  {
   "cell_type": "markdown",
   "metadata": {},
   "source": [
    "The `stack()` method \"compress\" a level in the **DataFrame's** columns."
   ]
  },
  {
   "cell_type": "code",
   "execution_count": 73,
   "metadata": {},
   "outputs": [
    {
     "data": {
      "text/html": [
       "<div>\n",
       "<style scoped>\n",
       "    .dataframe tbody tr th:only-of-type {\n",
       "        vertical-align: middle;\n",
       "    }\n",
       "\n",
       "    .dataframe tbody tr th {\n",
       "        vertical-align: top;\n",
       "    }\n",
       "\n",
       "    .dataframe thead th {\n",
       "        text-align: right;\n",
       "    }\n",
       "</style>\n",
       "<table border=\"1\" class=\"dataframe\">\n",
       "  <thead>\n",
       "    <tr style=\"text-align: right;\">\n",
       "      <th></th>\n",
       "      <th></th>\n",
       "      <th>A</th>\n",
       "      <th>B</th>\n",
       "    </tr>\n",
       "    <tr>\n",
       "      <th>first</th>\n",
       "      <th>second</th>\n",
       "      <th></th>\n",
       "      <th></th>\n",
       "    </tr>\n",
       "  </thead>\n",
       "  <tbody>\n",
       "    <tr>\n",
       "      <th rowspan=\"2\" valign=\"top\">bar</th>\n",
       "      <th>one</th>\n",
       "      <td>0.530897</td>\n",
       "      <td>-0.825297</td>\n",
       "    </tr>\n",
       "    <tr>\n",
       "      <th>two</th>\n",
       "      <td>-0.296452</td>\n",
       "      <td>-0.448199</td>\n",
       "    </tr>\n",
       "    <tr>\n",
       "      <th rowspan=\"2\" valign=\"top\">baz</th>\n",
       "      <th>one</th>\n",
       "      <td>0.953647</td>\n",
       "      <td>-0.304044</td>\n",
       "    </tr>\n",
       "    <tr>\n",
       "      <th>two</th>\n",
       "      <td>-0.871343</td>\n",
       "      <td>-1.245235</td>\n",
       "    </tr>\n",
       "  </tbody>\n",
       "</table>\n",
       "</div>"
      ],
      "text/plain": [
       "                     A         B\n",
       "first second                    \n",
       "bar   one     0.530897 -0.825297\n",
       "      two    -0.296452 -0.448199\n",
       "baz   one     0.953647 -0.304044\n",
       "      two    -0.871343 -1.245235"
      ]
     },
     "execution_count": 73,
     "metadata": {},
     "output_type": "execute_result"
    }
   ],
   "source": [
    "df2 = df[:4]\n",
    "df2"
   ]
  },
  {
   "cell_type": "code",
   "execution_count": 74,
   "metadata": {},
   "outputs": [
    {
     "data": {
      "text/plain": [
       "first  second   \n",
       "bar    one     A    0.530897\n",
       "               B   -0.825297\n",
       "       two     A   -0.296452\n",
       "               B   -0.448199\n",
       "baz    one     A    0.953647\n",
       "               B   -0.304044\n",
       "       two     A   -0.871343\n",
       "               B   -1.245235\n",
       "dtype: float64"
      ]
     },
     "execution_count": 74,
     "metadata": {},
     "output_type": "execute_result"
    }
   ],
   "source": [
    "stacked = df2.stack()\n",
    "stacked"
   ]
  },
  {
   "cell_type": "markdown",
   "metadata": {},
   "source": [
    "With a \"stacked\" DataFrame or Series (having a `MultiIndex` as the `Index`), the inverse operation of `stack()` is `unstack()`, which by default unstacks the **last level**."
   ]
  },
  {
   "cell_type": "code",
   "execution_count": 75,
   "metadata": {},
   "outputs": [
    {
     "data": {
      "text/html": [
       "<div>\n",
       "<style scoped>\n",
       "    .dataframe tbody tr th:only-of-type {\n",
       "        vertical-align: middle;\n",
       "    }\n",
       "\n",
       "    .dataframe tbody tr th {\n",
       "        vertical-align: top;\n",
       "    }\n",
       "\n",
       "    .dataframe thead th {\n",
       "        text-align: right;\n",
       "    }\n",
       "</style>\n",
       "<table border=\"1\" class=\"dataframe\">\n",
       "  <thead>\n",
       "    <tr style=\"text-align: right;\">\n",
       "      <th></th>\n",
       "      <th></th>\n",
       "      <th>A</th>\n",
       "      <th>B</th>\n",
       "    </tr>\n",
       "    <tr>\n",
       "      <th>first</th>\n",
       "      <th>second</th>\n",
       "      <th></th>\n",
       "      <th></th>\n",
       "    </tr>\n",
       "  </thead>\n",
       "  <tbody>\n",
       "    <tr>\n",
       "      <th rowspan=\"2\" valign=\"top\">bar</th>\n",
       "      <th>one</th>\n",
       "      <td>0.530897</td>\n",
       "      <td>-0.825297</td>\n",
       "    </tr>\n",
       "    <tr>\n",
       "      <th>two</th>\n",
       "      <td>-0.296452</td>\n",
       "      <td>-0.448199</td>\n",
       "    </tr>\n",
       "    <tr>\n",
       "      <th rowspan=\"2\" valign=\"top\">baz</th>\n",
       "      <th>one</th>\n",
       "      <td>0.953647</td>\n",
       "      <td>-0.304044</td>\n",
       "    </tr>\n",
       "    <tr>\n",
       "      <th>two</th>\n",
       "      <td>-0.871343</td>\n",
       "      <td>-1.245235</td>\n",
       "    </tr>\n",
       "  </tbody>\n",
       "</table>\n",
       "</div>"
      ],
      "text/plain": [
       "                     A         B\n",
       "first second                    \n",
       "bar   one     0.530897 -0.825297\n",
       "      two    -0.296452 -0.448199\n",
       "baz   one     0.953647 -0.304044\n",
       "      two    -0.871343 -1.245235"
      ]
     },
     "execution_count": 75,
     "metadata": {},
     "output_type": "execute_result"
    }
   ],
   "source": [
    "stacked.unstack()"
   ]
  },
  {
   "cell_type": "code",
   "execution_count": 76,
   "metadata": {},
   "outputs": [
    {
     "data": {
      "text/html": [
       "<div>\n",
       "<style scoped>\n",
       "    .dataframe tbody tr th:only-of-type {\n",
       "        vertical-align: middle;\n",
       "    }\n",
       "\n",
       "    .dataframe tbody tr th {\n",
       "        vertical-align: top;\n",
       "    }\n",
       "\n",
       "    .dataframe thead th {\n",
       "        text-align: right;\n",
       "    }\n",
       "</style>\n",
       "<table border=\"1\" class=\"dataframe\">\n",
       "  <thead>\n",
       "    <tr style=\"text-align: right;\">\n",
       "      <th></th>\n",
       "      <th>second</th>\n",
       "      <th>one</th>\n",
       "      <th>two</th>\n",
       "    </tr>\n",
       "    <tr>\n",
       "      <th>first</th>\n",
       "      <th></th>\n",
       "      <th></th>\n",
       "      <th></th>\n",
       "    </tr>\n",
       "  </thead>\n",
       "  <tbody>\n",
       "    <tr>\n",
       "      <th rowspan=\"2\" valign=\"top\">bar</th>\n",
       "      <th>A</th>\n",
       "      <td>0.530897</td>\n",
       "      <td>-0.296452</td>\n",
       "    </tr>\n",
       "    <tr>\n",
       "      <th>B</th>\n",
       "      <td>-0.825297</td>\n",
       "      <td>-0.448199</td>\n",
       "    </tr>\n",
       "    <tr>\n",
       "      <th rowspan=\"2\" valign=\"top\">baz</th>\n",
       "      <th>A</th>\n",
       "      <td>0.953647</td>\n",
       "      <td>-0.871343</td>\n",
       "    </tr>\n",
       "    <tr>\n",
       "      <th>B</th>\n",
       "      <td>-0.304044</td>\n",
       "      <td>-1.245235</td>\n",
       "    </tr>\n",
       "  </tbody>\n",
       "</table>\n",
       "</div>"
      ],
      "text/plain": [
       "second        one       two\n",
       "first                      \n",
       "bar   A  0.530897 -0.296452\n",
       "      B -0.825297 -0.448199\n",
       "baz   A  0.953647 -0.871343\n",
       "      B -0.304044 -1.245235"
      ]
     },
     "execution_count": 76,
     "metadata": {},
     "output_type": "execute_result"
    }
   ],
   "source": [
    "stacked.unstack(1)"
   ]
  },
  {
   "cell_type": "code",
   "execution_count": 77,
   "metadata": {},
   "outputs": [
    {
     "data": {
      "text/html": [
       "<div>\n",
       "<style scoped>\n",
       "    .dataframe tbody tr th:only-of-type {\n",
       "        vertical-align: middle;\n",
       "    }\n",
       "\n",
       "    .dataframe tbody tr th {\n",
       "        vertical-align: top;\n",
       "    }\n",
       "\n",
       "    .dataframe thead th {\n",
       "        text-align: right;\n",
       "    }\n",
       "</style>\n",
       "<table border=\"1\" class=\"dataframe\">\n",
       "  <thead>\n",
       "    <tr style=\"text-align: right;\">\n",
       "      <th></th>\n",
       "      <th>first</th>\n",
       "      <th>bar</th>\n",
       "      <th>baz</th>\n",
       "    </tr>\n",
       "    <tr>\n",
       "      <th>second</th>\n",
       "      <th></th>\n",
       "      <th></th>\n",
       "      <th></th>\n",
       "    </tr>\n",
       "  </thead>\n",
       "  <tbody>\n",
       "    <tr>\n",
       "      <th rowspan=\"2\" valign=\"top\">one</th>\n",
       "      <th>A</th>\n",
       "      <td>0.530897</td>\n",
       "      <td>0.953647</td>\n",
       "    </tr>\n",
       "    <tr>\n",
       "      <th>B</th>\n",
       "      <td>-0.825297</td>\n",
       "      <td>-0.304044</td>\n",
       "    </tr>\n",
       "    <tr>\n",
       "      <th rowspan=\"2\" valign=\"top\">two</th>\n",
       "      <th>A</th>\n",
       "      <td>-0.296452</td>\n",
       "      <td>-0.871343</td>\n",
       "    </tr>\n",
       "    <tr>\n",
       "      <th>B</th>\n",
       "      <td>-0.448199</td>\n",
       "      <td>-1.245235</td>\n",
       "    </tr>\n",
       "  </tbody>\n",
       "</table>\n",
       "</div>"
      ],
      "text/plain": [
       "first          bar       baz\n",
       "second                      \n",
       "one    A  0.530897  0.953647\n",
       "       B -0.825297 -0.304044\n",
       "two    A -0.296452 -0.871343\n",
       "       B -0.448199 -1.245235"
      ]
     },
     "execution_count": 77,
     "metadata": {},
     "output_type": "execute_result"
    }
   ],
   "source": [
    "stacked.unstack(0)"
   ]
  },
  {
   "cell_type": "markdown",
   "metadata": {},
   "source": [
    "## Pivot tables"
   ]
  },
  {
   "cell_type": "code",
   "execution_count": 78,
   "metadata": {},
   "outputs": [
    {
     "data": {
      "text/html": [
       "<div>\n",
       "<style scoped>\n",
       "    .dataframe tbody tr th:only-of-type {\n",
       "        vertical-align: middle;\n",
       "    }\n",
       "\n",
       "    .dataframe tbody tr th {\n",
       "        vertical-align: top;\n",
       "    }\n",
       "\n",
       "    .dataframe thead th {\n",
       "        text-align: right;\n",
       "    }\n",
       "</style>\n",
       "<table border=\"1\" class=\"dataframe\">\n",
       "  <thead>\n",
       "    <tr style=\"text-align: right;\">\n",
       "      <th></th>\n",
       "      <th>A</th>\n",
       "      <th>B</th>\n",
       "      <th>C</th>\n",
       "      <th>D</th>\n",
       "      <th>E</th>\n",
       "    </tr>\n",
       "  </thead>\n",
       "  <tbody>\n",
       "    <tr>\n",
       "      <th>0</th>\n",
       "      <td>one</td>\n",
       "      <td>A</td>\n",
       "      <td>foo</td>\n",
       "      <td>1.488596</td>\n",
       "      <td>-0.117750</td>\n",
       "    </tr>\n",
       "    <tr>\n",
       "      <th>1</th>\n",
       "      <td>one</td>\n",
       "      <td>B</td>\n",
       "      <td>foo</td>\n",
       "      <td>0.363735</td>\n",
       "      <td>-0.567175</td>\n",
       "    </tr>\n",
       "    <tr>\n",
       "      <th>2</th>\n",
       "      <td>two</td>\n",
       "      <td>C</td>\n",
       "      <td>foo</td>\n",
       "      <td>-1.184895</td>\n",
       "      <td>-0.880365</td>\n",
       "    </tr>\n",
       "    <tr>\n",
       "      <th>3</th>\n",
       "      <td>three</td>\n",
       "      <td>A</td>\n",
       "      <td>bar</td>\n",
       "      <td>1.710122</td>\n",
       "      <td>-0.495467</td>\n",
       "    </tr>\n",
       "    <tr>\n",
       "      <th>4</th>\n",
       "      <td>one</td>\n",
       "      <td>B</td>\n",
       "      <td>bar</td>\n",
       "      <td>1.319943</td>\n",
       "      <td>-0.564924</td>\n",
       "    </tr>\n",
       "    <tr>\n",
       "      <th>5</th>\n",
       "      <td>one</td>\n",
       "      <td>C</td>\n",
       "      <td>bar</td>\n",
       "      <td>0.061341</td>\n",
       "      <td>-0.416826</td>\n",
       "    </tr>\n",
       "    <tr>\n",
       "      <th>6</th>\n",
       "      <td>two</td>\n",
       "      <td>A</td>\n",
       "      <td>foo</td>\n",
       "      <td>-0.890777</td>\n",
       "      <td>1.249897</td>\n",
       "    </tr>\n",
       "    <tr>\n",
       "      <th>7</th>\n",
       "      <td>three</td>\n",
       "      <td>B</td>\n",
       "      <td>foo</td>\n",
       "      <td>-0.062211</td>\n",
       "      <td>-1.280127</td>\n",
       "    </tr>\n",
       "    <tr>\n",
       "      <th>8</th>\n",
       "      <td>one</td>\n",
       "      <td>C</td>\n",
       "      <td>foo</td>\n",
       "      <td>-0.786301</td>\n",
       "      <td>1.806379</td>\n",
       "    </tr>\n",
       "    <tr>\n",
       "      <th>9</th>\n",
       "      <td>one</td>\n",
       "      <td>A</td>\n",
       "      <td>bar</td>\n",
       "      <td>0.341206</td>\n",
       "      <td>-1.359112</td>\n",
       "    </tr>\n",
       "    <tr>\n",
       "      <th>10</th>\n",
       "      <td>two</td>\n",
       "      <td>B</td>\n",
       "      <td>bar</td>\n",
       "      <td>1.131091</td>\n",
       "      <td>0.694300</td>\n",
       "    </tr>\n",
       "    <tr>\n",
       "      <th>11</th>\n",
       "      <td>three</td>\n",
       "      <td>C</td>\n",
       "      <td>bar</td>\n",
       "      <td>-0.550187</td>\n",
       "      <td>-0.010789</td>\n",
       "    </tr>\n",
       "  </tbody>\n",
       "</table>\n",
       "</div>"
      ],
      "text/plain": [
       "        A  B    C         D         E\n",
       "0     one  A  foo  1.488596 -0.117750\n",
       "1     one  B  foo  0.363735 -0.567175\n",
       "2     two  C  foo -1.184895 -0.880365\n",
       "3   three  A  bar  1.710122 -0.495467\n",
       "4     one  B  bar  1.319943 -0.564924\n",
       "5     one  C  bar  0.061341 -0.416826\n",
       "6     two  A  foo -0.890777  1.249897\n",
       "7   three  B  foo -0.062211 -1.280127\n",
       "8     one  C  foo -0.786301  1.806379\n",
       "9     one  A  bar  0.341206 -1.359112\n",
       "10    two  B  bar  1.131091  0.694300\n",
       "11  three  C  bar -0.550187 -0.010789"
      ]
     },
     "execution_count": 78,
     "metadata": {},
     "output_type": "execute_result"
    }
   ],
   "source": [
    "df = pd.DataFrame(\n",
    "    {\n",
    "        \"A\": [\"one\", \"one\", \"two\", \"three\"] * 3,\n",
    "        \"B\": [\"A\", \"B\", \"C\"] * 4,\n",
    "        \"C\": [\"foo\", \"foo\", \"foo\", \"bar\", \"bar\", \"bar\"] * 2,\n",
    "        \"D\": np.random.randn(12),\n",
    "        \"E\": np.random.randn(12),\n",
    "    }\n",
    ")\n",
    "\n",
    "df"
   ]
  },
  {
   "cell_type": "markdown",
   "metadata": {},
   "source": [
    "We can produce pivot tables from this data very easily."
   ]
  },
  {
   "cell_type": "code",
   "execution_count": 79,
   "metadata": {},
   "outputs": [
    {
     "data": {
      "text/html": [
       "<div>\n",
       "<style scoped>\n",
       "    .dataframe tbody tr th:only-of-type {\n",
       "        vertical-align: middle;\n",
       "    }\n",
       "\n",
       "    .dataframe tbody tr th {\n",
       "        vertical-align: top;\n",
       "    }\n",
       "\n",
       "    .dataframe thead th {\n",
       "        text-align: right;\n",
       "    }\n",
       "</style>\n",
       "<table border=\"1\" class=\"dataframe\">\n",
       "  <thead>\n",
       "    <tr style=\"text-align: right;\">\n",
       "      <th></th>\n",
       "      <th>C</th>\n",
       "      <th>bar</th>\n",
       "      <th>foo</th>\n",
       "    </tr>\n",
       "    <tr>\n",
       "      <th>A</th>\n",
       "      <th>B</th>\n",
       "      <th></th>\n",
       "      <th></th>\n",
       "    </tr>\n",
       "  </thead>\n",
       "  <tbody>\n",
       "    <tr>\n",
       "      <th rowspan=\"3\" valign=\"top\">one</th>\n",
       "      <th>A</th>\n",
       "      <td>0.341206</td>\n",
       "      <td>1.488596</td>\n",
       "    </tr>\n",
       "    <tr>\n",
       "      <th>B</th>\n",
       "      <td>1.319943</td>\n",
       "      <td>0.363735</td>\n",
       "    </tr>\n",
       "    <tr>\n",
       "      <th>C</th>\n",
       "      <td>0.061341</td>\n",
       "      <td>-0.786301</td>\n",
       "    </tr>\n",
       "    <tr>\n",
       "      <th rowspan=\"3\" valign=\"top\">three</th>\n",
       "      <th>A</th>\n",
       "      <td>1.710122</td>\n",
       "      <td>NaN</td>\n",
       "    </tr>\n",
       "    <tr>\n",
       "      <th>B</th>\n",
       "      <td>NaN</td>\n",
       "      <td>-0.062211</td>\n",
       "    </tr>\n",
       "    <tr>\n",
       "      <th>C</th>\n",
       "      <td>-0.550187</td>\n",
       "      <td>NaN</td>\n",
       "    </tr>\n",
       "    <tr>\n",
       "      <th rowspan=\"3\" valign=\"top\">two</th>\n",
       "      <th>A</th>\n",
       "      <td>NaN</td>\n",
       "      <td>-0.890777</td>\n",
       "    </tr>\n",
       "    <tr>\n",
       "      <th>B</th>\n",
       "      <td>1.131091</td>\n",
       "      <td>NaN</td>\n",
       "    </tr>\n",
       "    <tr>\n",
       "      <th>C</th>\n",
       "      <td>NaN</td>\n",
       "      <td>-1.184895</td>\n",
       "    </tr>\n",
       "  </tbody>\n",
       "</table>\n",
       "</div>"
      ],
      "text/plain": [
       "C             bar       foo\n",
       "A     B                    \n",
       "one   A  0.341206  1.488596\n",
       "      B  1.319943  0.363735\n",
       "      C  0.061341 -0.786301\n",
       "three A  1.710122       NaN\n",
       "      B       NaN -0.062211\n",
       "      C -0.550187       NaN\n",
       "two   A       NaN -0.890777\n",
       "      B  1.131091       NaN\n",
       "      C       NaN -1.184895"
      ]
     },
     "execution_count": 79,
     "metadata": {},
     "output_type": "execute_result"
    }
   ],
   "source": [
    "pd.pivot_table(df, values=\"D\", index=[\"A\", \"B\"], columns=\"C\")"
   ]
  },
  {
   "cell_type": "markdown",
   "metadata": {},
   "source": [
    "## Time series"
   ]
  },
  {
   "cell_type": "markdown",
   "metadata": {},
   "source": [
    "`Pandas` has simple, powerful, and efficient functionality for performing resampling operations during frequency conversion (e.g., converting secondly data into 5-minutely data). This is extremely common in, but not limited to, financial applications."
   ]
  },
  {
   "cell_type": "code",
   "execution_count": 80,
   "metadata": {},
   "outputs": [
    {
     "data": {
      "text/plain": [
       "2022-01-01 00:00:00    251\n",
       "2022-01-01 00:00:01    489\n",
       "2022-01-01 00:00:02    348\n",
       "2022-01-01 00:00:03    206\n",
       "2022-01-01 00:00:04     42\n",
       "                      ... \n",
       "2022-01-01 00:01:35    408\n",
       "2022-01-01 00:01:36    126\n",
       "2022-01-01 00:01:37    483\n",
       "2022-01-01 00:01:38     24\n",
       "2022-01-01 00:01:39    144\n",
       "Freq: S, Length: 100, dtype: int32"
      ]
     },
     "execution_count": 80,
     "metadata": {},
     "output_type": "execute_result"
    }
   ],
   "source": [
    "rng = pd.date_range(\"1/1/2022\", periods=100, freq=\"S\")\n",
    "ts = pd.Series(np.random.randint(0, 500, len(rng)), index=rng)\n",
    "ts"
   ]
  },
  {
   "cell_type": "code",
   "execution_count": 81,
   "metadata": {},
   "outputs": [
    {
     "data": {
      "text/plain": [
       "2022-01-01    25972\n",
       "Freq: 5T, dtype: int32"
      ]
     },
     "execution_count": 81,
     "metadata": {},
     "output_type": "execute_result"
    }
   ],
   "source": [
    "ts.resample(\"5Min\").sum()"
   ]
  },
  {
   "cell_type": "markdown",
   "metadata": {},
   "source": [
    "Time zone representation"
   ]
  },
  {
   "cell_type": "code",
   "execution_count": 82,
   "metadata": {},
   "outputs": [
    {
     "data": {
      "text/plain": [
       "2022-01-01   -0.727610\n",
       "2022-01-02    0.653522\n",
       "2022-01-03   -0.104993\n",
       "2022-01-04   -0.798697\n",
       "2022-01-05    1.556841\n",
       "Freq: D, dtype: float64"
      ]
     },
     "execution_count": 82,
     "metadata": {},
     "output_type": "execute_result"
    }
   ],
   "source": [
    "rng = pd.date_range(\"1/1/2022 00:00\", periods=5, freq=\"D\")\n",
    "ts = pd.Series(np.random.randn(len(rng)), rng)\n",
    "ts"
   ]
  },
  {
   "cell_type": "code",
   "execution_count": 83,
   "metadata": {},
   "outputs": [
    {
     "data": {
      "text/plain": [
       "2022-01-01 00:00:00+00:00   -0.727610\n",
       "2022-01-02 00:00:00+00:00    0.653522\n",
       "2022-01-03 00:00:00+00:00   -0.104993\n",
       "2022-01-04 00:00:00+00:00   -0.798697\n",
       "2022-01-05 00:00:00+00:00    1.556841\n",
       "Freq: D, dtype: float64"
      ]
     },
     "execution_count": 83,
     "metadata": {},
     "output_type": "execute_result"
    }
   ],
   "source": [
    "ts_utc = ts.tz_localize(\"UTC\")\n",
    "ts_utc"
   ]
  },
  {
   "cell_type": "markdown",
   "metadata": {},
   "source": [
    "Converting to another time zone."
   ]
  },
  {
   "cell_type": "code",
   "execution_count": 84,
   "metadata": {},
   "outputs": [
    {
     "data": {
      "text/plain": [
       "2021-12-31 19:00:00-05:00   -0.727610\n",
       "2022-01-01 19:00:00-05:00    0.653522\n",
       "2022-01-02 19:00:00-05:00   -0.104993\n",
       "2022-01-03 19:00:00-05:00   -0.798697\n",
       "2022-01-04 19:00:00-05:00    1.556841\n",
       "Freq: D, dtype: float64"
      ]
     },
     "execution_count": 84,
     "metadata": {},
     "output_type": "execute_result"
    }
   ],
   "source": [
    "ts_utc.tz_convert(\"US/Eastern\")"
   ]
  },
  {
   "cell_type": "markdown",
   "metadata": {},
   "source": [
    "Converting between time span representations."
   ]
  },
  {
   "cell_type": "code",
   "execution_count": 85,
   "metadata": {},
   "outputs": [
    {
     "data": {
      "text/plain": [
       "2022-01-31   -0.524220\n",
       "2022-02-28   -0.768486\n",
       "2022-03-31   -1.456069\n",
       "2022-04-30   -1.391087\n",
       "2022-05-31   -0.413119\n",
       "Freq: M, dtype: float64"
      ]
     },
     "execution_count": 85,
     "metadata": {},
     "output_type": "execute_result"
    }
   ],
   "source": [
    "rng = pd.date_range(\"1/1/2022\", periods=5, freq=\"M\")\n",
    "ts = pd.Series(np.random.randn(len(rng)), index=rng)\n",
    "ts"
   ]
  },
  {
   "cell_type": "code",
   "execution_count": 86,
   "metadata": {},
   "outputs": [
    {
     "data": {
      "text/plain": [
       "2022-01   -0.524220\n",
       "2022-02   -0.768486\n",
       "2022-03   -1.456069\n",
       "2022-04   -1.391087\n",
       "2022-05   -0.413119\n",
       "Freq: M, dtype: float64"
      ]
     },
     "execution_count": 86,
     "metadata": {},
     "output_type": "execute_result"
    }
   ],
   "source": [
    "ps = ts.to_period()\n",
    "ps"
   ]
  },
  {
   "cell_type": "code",
   "execution_count": 87,
   "metadata": {},
   "outputs": [
    {
     "data": {
      "text/plain": [
       "2022-01-01   -0.524220\n",
       "2022-02-01   -0.768486\n",
       "2022-03-01   -1.456069\n",
       "2022-04-01   -1.391087\n",
       "2022-05-01   -0.413119\n",
       "Freq: MS, dtype: float64"
      ]
     },
     "execution_count": 87,
     "metadata": {},
     "output_type": "execute_result"
    }
   ],
   "source": [
    "ps.to_timestamp()"
   ]
  },
  {
   "cell_type": "markdown",
   "metadata": {},
   "source": [
    "Converting between period and timestamp enables some convenients arithmetic functions to be used. In the following example, I convert a quarterly frequency with year ending in November to 9am of the end of the month following the quarter end."
   ]
  },
  {
   "cell_type": "code",
   "execution_count": 88,
   "metadata": {},
   "outputs": [
    {
     "data": {
      "text/plain": [
       "1990-03-01 09:00    0.915812\n",
       "1990-06-01 09:00    0.924666\n",
       "1990-09-01 09:00    0.366394\n",
       "1990-12-01 09:00    0.370943\n",
       "1991-03-01 09:00    0.172963\n",
       "Freq: H, dtype: float64"
      ]
     },
     "execution_count": 88,
     "metadata": {},
     "output_type": "execute_result"
    }
   ],
   "source": [
    "prng = pd.period_range(\"1990Q1\", \"2000Q4\", freq=\"Q-NOV\")\n",
    "ts = pd.Series(np.random.randn(len(prng)), prng)\n",
    "ts.index = (prng.asfreq(\"M\", \"e\") + 1).asfreq(\"H\", \"s\") + 9\n",
    "ts.head()"
   ]
  },
  {
   "cell_type": "markdown",
   "metadata": {},
   "source": [
    "## Categoricals"
   ]
  },
  {
   "cell_type": "markdown",
   "metadata": {},
   "source": [
    "`Pandas` can include categorical data in a **DataFrame**."
   ]
  },
  {
   "cell_type": "code",
   "execution_count": 89,
   "metadata": {},
   "outputs": [],
   "source": [
    "df = pd.DataFrame(\n",
    "    {\n",
    "        \"id\": list(range(1, 7, 1)),\n",
    "        \"raw_grade\": [\"a\", \"a\", \"b\", \"a\", \"a\", \"e\"],\n",
    "    }\n",
    ")"
   ]
  },
  {
   "cell_type": "markdown",
   "metadata": {},
   "source": [
    "Converting the grades to a categorical data type."
   ]
  },
  {
   "cell_type": "code",
   "execution_count": 90,
   "metadata": {},
   "outputs": [
    {
     "data": {
      "text/plain": [
       "0    a\n",
       "1    a\n",
       "2    b\n",
       "3    a\n",
       "4    a\n",
       "5    e\n",
       "Name: grade, dtype: category\n",
       "Categories (3, object): ['a', 'b', 'e']"
      ]
     },
     "execution_count": 90,
     "metadata": {},
     "output_type": "execute_result"
    }
   ],
   "source": [
    "df[\"grade\"] = df[\"raw_grade\"].astype(\"category\")\n",
    "df[\"grade\"]"
   ]
  },
  {
   "cell_type": "markdown",
   "metadata": {},
   "source": [
    "Rename the categories to more meaningful names (assigning to `Series.cat.categories()` is in place!)."
   ]
  },
  {
   "cell_type": "code",
   "execution_count": 91,
   "metadata": {},
   "outputs": [
    {
     "data": {
      "text/plain": [
       "0    very good\n",
       "1    very good\n",
       "2         good\n",
       "3    very good\n",
       "4    very good\n",
       "5     very bad\n",
       "Name: grade, dtype: category\n",
       "Categories (3, object): ['very good', 'good', 'very bad']"
      ]
     },
     "execution_count": 91,
     "metadata": {},
     "output_type": "execute_result"
    }
   ],
   "source": [
    "df[\"grade\"].cat.categories = [\"very good\", \"good\", \"very bad\"]\n",
    "df[\"grade\"]"
   ]
  },
  {
   "cell_type": "markdown",
   "metadata": {},
   "source": [
    "Reorder the categories and simultaneously add the missing categories (methods under `Series.cat()` return a new `Series` by default)."
   ]
  },
  {
   "cell_type": "code",
   "execution_count": 92,
   "metadata": {},
   "outputs": [
    {
     "data": {
      "text/plain": [
       "0    very good\n",
       "1    very good\n",
       "2         good\n",
       "3    very good\n",
       "4    very good\n",
       "5     very bad\n",
       "Name: grade, dtype: category\n",
       "Categories (5, object): ['very bad', 'bad', 'medium', 'good', 'very good']"
      ]
     },
     "execution_count": 92,
     "metadata": {},
     "output_type": "execute_result"
    }
   ],
   "source": [
    "df[\"grade\"] = df[\"grade\"].cat.set_categories(\n",
    "    [\"very bad\", \"bad\", \"medium\", \"good\", \"very good\"]\n",
    ")\n",
    "df[\"grade\"]"
   ]
  },
  {
   "cell_type": "markdown",
   "metadata": {},
   "source": [
    "Sorting in per order in the categories, not lexical order."
   ]
  },
  {
   "cell_type": "code",
   "execution_count": 93,
   "metadata": {},
   "outputs": [
    {
     "data": {
      "text/html": [
       "<div>\n",
       "<style scoped>\n",
       "    .dataframe tbody tr th:only-of-type {\n",
       "        vertical-align: middle;\n",
       "    }\n",
       "\n",
       "    .dataframe tbody tr th {\n",
       "        vertical-align: top;\n",
       "    }\n",
       "\n",
       "    .dataframe thead th {\n",
       "        text-align: right;\n",
       "    }\n",
       "</style>\n",
       "<table border=\"1\" class=\"dataframe\">\n",
       "  <thead>\n",
       "    <tr style=\"text-align: right;\">\n",
       "      <th></th>\n",
       "      <th>id</th>\n",
       "      <th>raw_grade</th>\n",
       "      <th>grade</th>\n",
       "    </tr>\n",
       "  </thead>\n",
       "  <tbody>\n",
       "    <tr>\n",
       "      <th>0</th>\n",
       "      <td>1</td>\n",
       "      <td>a</td>\n",
       "      <td>very good</td>\n",
       "    </tr>\n",
       "    <tr>\n",
       "      <th>1</th>\n",
       "      <td>2</td>\n",
       "      <td>a</td>\n",
       "      <td>very good</td>\n",
       "    </tr>\n",
       "    <tr>\n",
       "      <th>3</th>\n",
       "      <td>4</td>\n",
       "      <td>a</td>\n",
       "      <td>very good</td>\n",
       "    </tr>\n",
       "    <tr>\n",
       "      <th>4</th>\n",
       "      <td>5</td>\n",
       "      <td>a</td>\n",
       "      <td>very good</td>\n",
       "    </tr>\n",
       "    <tr>\n",
       "      <th>2</th>\n",
       "      <td>3</td>\n",
       "      <td>b</td>\n",
       "      <td>good</td>\n",
       "    </tr>\n",
       "    <tr>\n",
       "      <th>5</th>\n",
       "      <td>6</td>\n",
       "      <td>e</td>\n",
       "      <td>very bad</td>\n",
       "    </tr>\n",
       "  </tbody>\n",
       "</table>\n",
       "</div>"
      ],
      "text/plain": [
       "   id raw_grade      grade\n",
       "0   1         a  very good\n",
       "1   2         a  very good\n",
       "3   4         a  very good\n",
       "4   5         a  very good\n",
       "2   3         b       good\n",
       "5   6         e   very bad"
      ]
     },
     "execution_count": 93,
     "metadata": {},
     "output_type": "execute_result"
    }
   ],
   "source": [
    "df.sort_values(by=\"grade\", ascending=False)"
   ]
  },
  {
   "cell_type": "markdown",
   "metadata": {},
   "source": [
    "Grouping by a categorical column also shows empty categories."
   ]
  },
  {
   "cell_type": "code",
   "execution_count": 94,
   "metadata": {},
   "outputs": [
    {
     "data": {
      "text/plain": [
       "grade\n",
       "very bad     1\n",
       "bad          0\n",
       "medium       0\n",
       "good         1\n",
       "very good    4\n",
       "dtype: int64"
      ]
     },
     "execution_count": 94,
     "metadata": {},
     "output_type": "execute_result"
    }
   ],
   "source": [
    "df.groupby(\"grade\").size()"
   ]
  },
  {
   "cell_type": "markdown",
   "metadata": {},
   "source": [
    "## Plotting"
   ]
  },
  {
   "cell_type": "markdown",
   "metadata": {},
   "source": [
    "We use the standard convention for referencing the matplotlib API."
   ]
  },
  {
   "cell_type": "code",
   "execution_count": 95,
   "metadata": {},
   "outputs": [],
   "source": [
    "import matplotlib.pyplot as plt\n",
    "plt.close(\"all\")"
   ]
  },
  {
   "cell_type": "markdown",
   "metadata": {},
   "source": [
    "The `close()` method is used to close a figure window."
   ]
  },
  {
   "cell_type": "code",
   "execution_count": 96,
   "metadata": {},
   "outputs": [
    {
     "data": {
      "text/plain": [
       "<AxesSubplot:>"
      ]
     },
     "execution_count": 96,
     "metadata": {},
     "output_type": "execute_result"
    },
    {
     "data": {
      "image/png": "[encoded data removed]",
      "image/svg+xml": "<?xml version=\"1.0\" encoding=\"utf-8\" standalone=\"no\"?>\r\n<!DOCTYPE svg PUBLIC \"-//W3C//DTD SVG 1.1//EN\"\r\n  \"http://www.w3.org/Graphics/SVG/1.1/DTD/svg11.dtd\">\r\n<svg height=\"261.935134pt\" version=\"1.1\" viewBox=\"0 0 370.942188 261.935134\" width=\"370.942188pt\" xmlns=\"http://www.w3.org/2000/svg\" xmlns:xlink=\"http://www.w3.org/1999/xlink\">\r\n <metadata>\r\n  <rdf:RDF xmlns:cc=\"http://creativecommons.org/ns#\" xmlns:dc=\"http://purl.org/dc/elements/1.1/\" xmlns:rdf=\"http://www.w3.org/1999/02/22-rdf-syntax-ns#\">\r\n   <cc:Work>\r\n    <dc:type rdf:resource=\"http://purl.org/dc/dcmitype/StillImage\"/>\r\n    <dc:date>2022-03-21T07:19:39.396919</dc:date>\r\n    <dc:format>image/svg+xml</dc:format>\r\n    <dc:creator>\r\n     <cc:Agent>\r\n      <dc:title>Matplotlib v3.4.3, https://matplotlib.org/</dc:title>\r\n     </cc:Agent>\r\n    </dc:creator>\r\n   </cc:Work>\r\n  </rdf:RDF>\r\n </metadata>\r\n <defs>\r\n  <style type=\"text/css\">*{stroke-linecap:butt;stroke-linejoin:round;}</style>\r\n </defs>\r\n <g id=\"figure_1\">\r\n  <g id=\"patch_1\">\r\n   <path d=\"M 0 261.935134 \r\nL 370.942188 261.935134 \r\nL 370.942188 0 \r\nL 0 0 \r\nz\r\n\" style=\"fill:none;\"/>\r\n  </g>\r\n  <g id=\"axes_1\">\r\n   <g id=\"patch_2\">\r\n    <path d=\"M 28.942188 226.859197 \r\nL 363.742188 226.859197 \r\nL 363.742188 9.419197 \r\nL 28.942188 9.419197 \r\nz\r\n\" style=\"fill:#ffffff;\"/>\r\n   </g>\r\n   <g id=\"matplotlib.axis_1\">\r\n    <g id=\"xtick_1\">\r\n     <g id=\"line2d_1\">\r\n      <defs>\r\n       <path d=\"M 0 0 \r\nL 0 3.5 \r\n\" id=\"m7d1fee041a\" style=\"stroke:#000000;stroke-width:0.8;\"/>\r\n      </defs>\r\n      <g>\r\n       <use style=\"stroke:#000000;stroke-width:0.8;\" x=\"28.942187\" xlink:href=\"#m7d1fee041a\" y=\"226.859197\"/>\r\n      </g>\r\n     </g>\r\n     <g id=\"text_1\">\r\n      <!-- Jan -->\r\n      <g transform=\"translate(21.234375 241.457634)scale(0.1 -0.1)\">\r\n       <defs>\r\n        <path d=\"M 628 4666 \r\nL 1259 4666 \r\nL 1259 325 \r\nQ 1259 -519 939 -900 \r\nQ 619 -1281 -91 -1281 \r\nL -331 -1281 \r\nL -331 -750 \r\nL -134 -750 \r\nQ 284 -750 456 -515 \r\nQ 628 -281 628 325 \r\nL 628 4666 \r\nz\r\n\" id=\"DejaVuSans-4a\" transform=\"scale(0.015625)\"/>\r\n        <path d=\"M 2194 1759 \r\nQ 1497 1759 1228 1600 \r\nQ 959 1441 959 1056 \r\nQ 959 750 1161 570 \r\nQ 1363 391 1709 391 \r\nQ 2188 391 2477 730 \r\nQ 2766 1069 2766 1631 \r\nL 2766 1759 \r\nL 2194 1759 \r\nz\r\nM 3341 1997 \r\nL 3341 0 \r\nL 2766 0 \r\nL 2766 531 \r\nQ 2569 213 2275 61 \r\nQ 1981 -91 1556 -91 \r\nQ 1019 -91 701 211 \r\nQ 384 513 384 1019 \r\nQ 384 1609 779 1909 \r\nQ 1175 2209 1959 2209 \r\nL 2766 2209 \r\nL 2766 2266 \r\nQ 2766 2663 2505 2880 \r\nQ 2244 3097 1772 3097 \r\nQ 1472 3097 1187 3025 \r\nQ 903 2953 641 2809 \r\nL 641 3341 \r\nQ 956 3463 1253 3523 \r\nQ 1550 3584 1831 3584 \r\nQ 2591 3584 2966 3190 \r\nQ 3341 2797 3341 1997 \r\nz\r\n\" id=\"DejaVuSans-61\" transform=\"scale(0.015625)\"/>\r\n        <path d=\"M 3513 2113 \r\nL 3513 0 \r\nL 2938 0 \r\nL 2938 2094 \r\nQ 2938 2591 2744 2837 \r\nQ 2550 3084 2163 3084 \r\nQ 1697 3084 1428 2787 \r\nQ 1159 2491 1159 1978 \r\nL 1159 0 \r\nL 581 0 \r\nL 581 3500 \r\nL 1159 3500 \r\nL 1159 2956 \r\nQ 1366 3272 1645 3428 \r\nQ 1925 3584 2291 3584 \r\nQ 2894 3584 3203 3211 \r\nQ 3513 2838 3513 2113 \r\nz\r\n\" id=\"DejaVuSans-6e\" transform=\"scale(0.015625)\"/>\r\n       </defs>\r\n       <use xlink:href=\"#DejaVuSans-4a\"/>\r\n       <use x=\"29.492188\" xlink:href=\"#DejaVuSans-61\"/>\r\n       <use x=\"90.771484\" xlink:href=\"#DejaVuSans-6e\"/>\r\n      </g>\r\n      <!-- 2022 -->\r\n      <g transform=\"translate(16.217187 252.655447)scale(0.1 -0.1)\">\r\n       <defs>\r\n        <path d=\"M 1228 531 \r\nL 3431 531 \r\nL 3431 0 \r\nL 469 0 \r\nL 469 531 \r\nQ 828 903 1448 1529 \r\nQ 2069 2156 2228 2338 \r\nQ 2531 2678 2651 2914 \r\nQ 2772 3150 2772 3378 \r\nQ 2772 3750 2511 3984 \r\nQ 2250 4219 1831 4219 \r\nQ 1534 4219 1204 4116 \r\nQ 875 4013 500 3803 \r\nL 500 4441 \r\nQ 881 4594 1212 4672 \r\nQ 1544 4750 1819 4750 \r\nQ 2544 4750 2975 4387 \r\nQ 3406 4025 3406 3419 \r\nQ 3406 3131 3298 2873 \r\nQ 3191 2616 2906 2266 \r\nQ 2828 2175 2409 1742 \r\nQ 1991 1309 1228 531 \r\nz\r\n\" id=\"DejaVuSans-32\" transform=\"scale(0.015625)\"/>\r\n        <path d=\"M 2034 4250 \r\nQ 1547 4250 1301 3770 \r\nQ 1056 3291 1056 2328 \r\nQ 1056 1369 1301 889 \r\nQ 1547 409 2034 409 \r\nQ 2525 409 2770 889 \r\nQ 3016 1369 3016 2328 \r\nQ 3016 3291 2770 3770 \r\nQ 2525 4250 2034 4250 \r\nz\r\nM 2034 4750 \r\nQ 2819 4750 3233 4129 \r\nQ 3647 3509 3647 2328 \r\nQ 3647 1150 3233 529 \r\nQ 2819 -91 2034 -91 \r\nQ 1250 -91 836 529 \r\nQ 422 1150 422 2328 \r\nQ 422 3509 836 4129 \r\nQ 1250 4750 2034 4750 \r\nz\r\n\" id=\"DejaVuSans-30\" transform=\"scale(0.015625)\"/>\r\n       </defs>\r\n       <use xlink:href=\"#DejaVuSans-32\"/>\r\n       <use x=\"63.623047\" xlink:href=\"#DejaVuSans-30\"/>\r\n       <use x=\"127.246094\" xlink:href=\"#DejaVuSans-32\"/>\r\n       <use x=\"190.869141\" xlink:href=\"#DejaVuSans-32\"/>\r\n      </g>\r\n     </g>\r\n    </g>\r\n    <g id=\"xtick_2\">\r\n     <g id=\"line2d_2\">\r\n      <g>\r\n       <use style=\"stroke:#000000;stroke-width:0.8;\" x=\"151.266512\" xlink:href=\"#m7d1fee041a\" y=\"226.859197\"/>\r\n      </g>\r\n     </g>\r\n     <g id=\"text_2\">\r\n      <!-- Jan -->\r\n      <g transform=\"translate(143.558699 241.457634)scale(0.1 -0.1)\">\r\n       <use xlink:href=\"#DejaVuSans-4a\"/>\r\n       <use x=\"29.492188\" xlink:href=\"#DejaVuSans-61\"/>\r\n       <use x=\"90.771484\" xlink:href=\"#DejaVuSans-6e\"/>\r\n      </g>\r\n      <!-- 2023 -->\r\n      <g transform=\"translate(138.541512 252.655447)scale(0.1 -0.1)\">\r\n       <defs>\r\n        <path d=\"M 2597 2516 \r\nQ 3050 2419 3304 2112 \r\nQ 3559 1806 3559 1356 \r\nQ 3559 666 3084 287 \r\nQ 2609 -91 1734 -91 \r\nQ 1441 -91 1130 -33 \r\nQ 819 25 488 141 \r\nL 488 750 \r\nQ 750 597 1062 519 \r\nQ 1375 441 1716 441 \r\nQ 2309 441 2620 675 \r\nQ 2931 909 2931 1356 \r\nQ 2931 1769 2642 2001 \r\nQ 2353 2234 1838 2234 \r\nL 1294 2234 \r\nL 1294 2753 \r\nL 1863 2753 \r\nQ 2328 2753 2575 2939 \r\nQ 2822 3125 2822 3475 \r\nQ 2822 3834 2567 4026 \r\nQ 2313 4219 1838 4219 \r\nQ 1578 4219 1281 4162 \r\nQ 984 4106 628 3988 \r\nL 628 4550 \r\nQ 988 4650 1302 4700 \r\nQ 1616 4750 1894 4750 \r\nQ 2613 4750 3031 4423 \r\nQ 3450 4097 3450 3541 \r\nQ 3450 3153 3228 2886 \r\nQ 3006 2619 2597 2516 \r\nz\r\n\" id=\"DejaVuSans-33\" transform=\"scale(0.015625)\"/>\r\n       </defs>\r\n       <use xlink:href=\"#DejaVuSans-32\"/>\r\n       <use x=\"63.623047\" xlink:href=\"#DejaVuSans-30\"/>\r\n       <use x=\"127.246094\" xlink:href=\"#DejaVuSans-32\"/>\r\n       <use x=\"190.869141\" xlink:href=\"#DejaVuSans-33\"/>\r\n      </g>\r\n     </g>\r\n    </g>\r\n    <g id=\"xtick_3\">\r\n     <g id=\"line2d_3\">\r\n      <g>\r\n       <use style=\"stroke:#000000;stroke-width:0.8;\" x=\"273.590836\" xlink:href=\"#m7d1fee041a\" y=\"226.859197\"/>\r\n      </g>\r\n     </g>\r\n     <g id=\"text_3\">\r\n      <!-- Jan -->\r\n      <g transform=\"translate(265.883024 241.457634)scale(0.1 -0.1)\">\r\n       <use xlink:href=\"#DejaVuSans-4a\"/>\r\n       <use x=\"29.492188\" xlink:href=\"#DejaVuSans-61\"/>\r\n       <use x=\"90.771484\" xlink:href=\"#DejaVuSans-6e\"/>\r\n      </g>\r\n      <!-- 2024 -->\r\n      <g transform=\"translate(260.865836 252.655447)scale(0.1 -0.1)\">\r\n       <defs>\r\n        <path d=\"M 2419 4116 \r\nL 825 1625 \r\nL 2419 1625 \r\nL 2419 4116 \r\nz\r\nM 2253 4666 \r\nL 3047 4666 \r\nL 3047 1625 \r\nL 3713 1625 \r\nL 3713 1100 \r\nL 3047 1100 \r\nL 3047 0 \r\nL 2419 0 \r\nL 2419 1100 \r\nL 313 1100 \r\nL 313 1709 \r\nL 2253 4666 \r\nz\r\n\" id=\"DejaVuSans-34\" transform=\"scale(0.015625)\"/>\r\n       </defs>\r\n       <use xlink:href=\"#DejaVuSans-32\"/>\r\n       <use x=\"63.623047\" xlink:href=\"#DejaVuSans-30\"/>\r\n       <use x=\"127.246094\" xlink:href=\"#DejaVuSans-32\"/>\r\n       <use x=\"190.869141\" xlink:href=\"#DejaVuSans-34\"/>\r\n      </g>\r\n     </g>\r\n    </g>\r\n    <g id=\"xtick_4\">\r\n     <g id=\"line2d_4\">\r\n      <g>\r\n       <use style=\"stroke:#000000;stroke-width:0.8;\" x=\"363.742188\" xlink:href=\"#m7d1fee041a\" y=\"226.859197\"/>\r\n      </g>\r\n     </g>\r\n    </g>\r\n    <g id=\"xtick_5\">\r\n     <g id=\"line2d_5\">\r\n      <defs>\r\n       <path d=\"M 0 0 \r\nL 0 2 \r\n\" id=\"m36530b15c0\" style=\"stroke:#000000;stroke-width:0.6;\"/>\r\n      </defs>\r\n      <g>\r\n       <use style=\"stroke:#000000;stroke-width:0.6;\" x=\"39.331377\" xlink:href=\"#m36530b15c0\" y=\"226.859197\"/>\r\n      </g>\r\n     </g>\r\n    </g>\r\n    <g id=\"xtick_6\">\r\n     <g id=\"line2d_6\">\r\n      <g>\r\n       <use style=\"stroke:#000000;stroke-width:0.6;\" x=\"48.71516\" xlink:href=\"#m36530b15c0\" y=\"226.859197\"/>\r\n      </g>\r\n     </g>\r\n    </g>\r\n    <g id=\"xtick_7\">\r\n     <g id=\"line2d_7\">\r\n      <g>\r\n       <use style=\"stroke:#000000;stroke-width:0.6;\" x=\"59.10435\" xlink:href=\"#m36530b15c0\" y=\"226.859197\"/>\r\n      </g>\r\n     </g>\r\n    </g>\r\n    <g id=\"xtick_8\">\r\n     <g id=\"line2d_8\">\r\n      <g>\r\n       <use style=\"stroke:#000000;stroke-width:0.6;\" x=\"69.158404\" xlink:href=\"#m36530b15c0\" y=\"226.859197\"/>\r\n      </g>\r\n     </g>\r\n    </g>\r\n    <g id=\"xtick_9\">\r\n     <g id=\"line2d_9\">\r\n      <g>\r\n       <use style=\"stroke:#000000;stroke-width:0.6;\" x=\"79.547593\" xlink:href=\"#m36530b15c0\" y=\"226.859197\"/>\r\n      </g>\r\n     </g>\r\n    </g>\r\n    <g id=\"xtick_10\">\r\n     <g id=\"line2d_10\">\r\n      <g>\r\n       <use style=\"stroke:#000000;stroke-width:0.6;\" x=\"89.601647\" xlink:href=\"#m36530b15c0\" y=\"226.859197\"/>\r\n      </g>\r\n     </g>\r\n     <g id=\"text_4\">\r\n      <!-- Jul -->\r\n      <g transform=\"translate(83.568834 239.857634)scale(0.1 -0.1)\">\r\n       <defs>\r\n        <path d=\"M 544 1381 \r\nL 544 3500 \r\nL 1119 3500 \r\nL 1119 1403 \r\nQ 1119 906 1312 657 \r\nQ 1506 409 1894 409 \r\nQ 2359 409 2629 706 \r\nQ 2900 1003 2900 1516 \r\nL 2900 3500 \r\nL 3475 3500 \r\nL 3475 0 \r\nL 2900 0 \r\nL 2900 538 \r\nQ 2691 219 2414 64 \r\nQ 2138 -91 1772 -91 \r\nQ 1169 -91 856 284 \r\nQ 544 659 544 1381 \r\nz\r\nM 1991 3584 \r\nL 1991 3584 \r\nz\r\n\" id=\"DejaVuSans-75\" transform=\"scale(0.015625)\"/>\r\n        <path d=\"M 603 4863 \r\nL 1178 4863 \r\nL 1178 0 \r\nL 603 0 \r\nL 603 4863 \r\nz\r\n\" id=\"DejaVuSans-6c\" transform=\"scale(0.015625)\"/>\r\n       </defs>\r\n       <use xlink:href=\"#DejaVuSans-4a\"/>\r\n       <use x=\"29.492188\" xlink:href=\"#DejaVuSans-75\"/>\r\n       <use x=\"92.871094\" xlink:href=\"#DejaVuSans-6c\"/>\r\n      </g>\r\n     </g>\r\n    </g>\r\n    <g id=\"xtick_11\">\r\n     <g id=\"line2d_11\">\r\n      <g>\r\n       <use style=\"stroke:#000000;stroke-width:0.6;\" x=\"99.990836\" xlink:href=\"#m36530b15c0\" y=\"226.859197\"/>\r\n      </g>\r\n     </g>\r\n    </g>\r\n    <g id=\"xtick_12\">\r\n     <g id=\"line2d_12\">\r\n      <g>\r\n       <use style=\"stroke:#000000;stroke-width:0.6;\" x=\"110.380025\" xlink:href=\"#m36530b15c0\" y=\"226.859197\"/>\r\n      </g>\r\n     </g>\r\n    </g>\r\n    <g id=\"xtick_13\">\r\n     <g id=\"line2d_13\">\r\n      <g>\r\n       <use style=\"stroke:#000000;stroke-width:0.6;\" x=\"120.434079\" xlink:href=\"#m36530b15c0\" y=\"226.859197\"/>\r\n      </g>\r\n     </g>\r\n    </g>\r\n    <g id=\"xtick_14\">\r\n     <g id=\"line2d_14\">\r\n      <g>\r\n       <use style=\"stroke:#000000;stroke-width:0.6;\" x=\"130.823269\" xlink:href=\"#m36530b15c0\" y=\"226.859197\"/>\r\n      </g>\r\n     </g>\r\n    </g>\r\n    <g id=\"xtick_15\">\r\n     <g id=\"line2d_15\">\r\n      <g>\r\n       <use style=\"stroke:#000000;stroke-width:0.6;\" x=\"140.877323\" xlink:href=\"#m36530b15c0\" y=\"226.859197\"/>\r\n      </g>\r\n     </g>\r\n    </g>\r\n    <g id=\"xtick_16\">\r\n     <g id=\"line2d_16\">\r\n      <g>\r\n       <use style=\"stroke:#000000;stroke-width:0.6;\" x=\"161.655701\" xlink:href=\"#m36530b15c0\" y=\"226.859197\"/>\r\n      </g>\r\n     </g>\r\n    </g>\r\n    <g id=\"xtick_17\">\r\n     <g id=\"line2d_17\">\r\n      <g>\r\n       <use style=\"stroke:#000000;stroke-width:0.6;\" x=\"171.039485\" xlink:href=\"#m36530b15c0\" y=\"226.859197\"/>\r\n      </g>\r\n     </g>\r\n    </g>\r\n    <g id=\"xtick_18\">\r\n     <g id=\"line2d_18\">\r\n      <g>\r\n       <use style=\"stroke:#000000;stroke-width:0.6;\" x=\"181.428674\" xlink:href=\"#m36530b15c0\" y=\"226.859197\"/>\r\n      </g>\r\n     </g>\r\n    </g>\r\n    <g id=\"xtick_19\">\r\n     <g id=\"line2d_19\">\r\n      <g>\r\n       <use style=\"stroke:#000000;stroke-width:0.6;\" x=\"191.482728\" xlink:href=\"#m36530b15c0\" y=\"226.859197\"/>\r\n      </g>\r\n     </g>\r\n    </g>\r\n    <g id=\"xtick_20\">\r\n     <g id=\"line2d_20\">\r\n      <g>\r\n       <use style=\"stroke:#000000;stroke-width:0.6;\" x=\"201.871917\" xlink:href=\"#m36530b15c0\" y=\"226.859197\"/>\r\n      </g>\r\n     </g>\r\n    </g>\r\n    <g id=\"xtick_21\">\r\n     <g id=\"line2d_21\">\r\n      <g>\r\n       <use style=\"stroke:#000000;stroke-width:0.6;\" x=\"211.925971\" xlink:href=\"#m36530b15c0\" y=\"226.859197\"/>\r\n      </g>\r\n     </g>\r\n     <g id=\"text_5\">\r\n      <!-- Jul -->\r\n      <g transform=\"translate(205.893159 239.857634)scale(0.1 -0.1)\">\r\n       <use xlink:href=\"#DejaVuSans-4a\"/>\r\n       <use x=\"29.492188\" xlink:href=\"#DejaVuSans-75\"/>\r\n       <use x=\"92.871094\" xlink:href=\"#DejaVuSans-6c\"/>\r\n      </g>\r\n     </g>\r\n    </g>\r\n    <g id=\"xtick_22\">\r\n     <g id=\"line2d_22\">\r\n      <g>\r\n       <use style=\"stroke:#000000;stroke-width:0.6;\" x=\"222.31516\" xlink:href=\"#m36530b15c0\" y=\"226.859197\"/>\r\n      </g>\r\n     </g>\r\n    </g>\r\n    <g id=\"xtick_23\">\r\n     <g id=\"line2d_23\">\r\n      <g>\r\n       <use style=\"stroke:#000000;stroke-width:0.6;\" x=\"232.70435\" xlink:href=\"#m36530b15c0\" y=\"226.859197\"/>\r\n      </g>\r\n     </g>\r\n    </g>\r\n    <g id=\"xtick_24\">\r\n     <g id=\"line2d_24\">\r\n      <g>\r\n       <use style=\"stroke:#000000;stroke-width:0.6;\" x=\"242.758404\" xlink:href=\"#m36530b15c0\" y=\"226.859197\"/>\r\n      </g>\r\n     </g>\r\n    </g>\r\n    <g id=\"xtick_25\">\r\n     <g id=\"line2d_25\">\r\n      <g>\r\n       <use style=\"stroke:#000000;stroke-width:0.6;\" x=\"253.147593\" xlink:href=\"#m36530b15c0\" y=\"226.859197\"/>\r\n      </g>\r\n     </g>\r\n    </g>\r\n    <g id=\"xtick_26\">\r\n     <g id=\"line2d_26\">\r\n      <g>\r\n       <use style=\"stroke:#000000;stroke-width:0.6;\" x=\"263.201647\" xlink:href=\"#m36530b15c0\" y=\"226.859197\"/>\r\n      </g>\r\n     </g>\r\n    </g>\r\n    <g id=\"xtick_27\">\r\n     <g id=\"line2d_27\">\r\n      <g>\r\n       <use style=\"stroke:#000000;stroke-width:0.6;\" x=\"283.980025\" xlink:href=\"#m36530b15c0\" y=\"226.859197\"/>\r\n      </g>\r\n     </g>\r\n    </g>\r\n    <g id=\"xtick_28\">\r\n     <g id=\"line2d_28\">\r\n      <g>\r\n       <use style=\"stroke:#000000;stroke-width:0.6;\" x=\"293.698944\" xlink:href=\"#m36530b15c0\" y=\"226.859197\"/>\r\n      </g>\r\n     </g>\r\n    </g>\r\n    <g id=\"xtick_29\">\r\n     <g id=\"line2d_29\">\r\n      <g>\r\n       <use style=\"stroke:#000000;stroke-width:0.6;\" x=\"304.088133\" xlink:href=\"#m36530b15c0\" y=\"226.859197\"/>\r\n      </g>\r\n     </g>\r\n    </g>\r\n    <g id=\"xtick_30\">\r\n     <g id=\"line2d_30\">\r\n      <g>\r\n       <use style=\"stroke:#000000;stroke-width:0.6;\" x=\"314.142187\" xlink:href=\"#m36530b15c0\" y=\"226.859197\"/>\r\n      </g>\r\n     </g>\r\n    </g>\r\n    <g id=\"xtick_31\">\r\n     <g id=\"line2d_31\">\r\n      <g>\r\n       <use style=\"stroke:#000000;stroke-width:0.6;\" x=\"324.531377\" xlink:href=\"#m36530b15c0\" y=\"226.859197\"/>\r\n      </g>\r\n     </g>\r\n    </g>\r\n    <g id=\"xtick_32\">\r\n     <g id=\"line2d_32\">\r\n      <g>\r\n       <use style=\"stroke:#000000;stroke-width:0.6;\" x=\"334.585431\" xlink:href=\"#m36530b15c0\" y=\"226.859197\"/>\r\n      </g>\r\n     </g>\r\n     <g id=\"text_6\">\r\n      <!-- Jul -->\r\n      <g transform=\"translate(328.552618 239.857634)scale(0.1 -0.1)\">\r\n       <use xlink:href=\"#DejaVuSans-4a\"/>\r\n       <use x=\"29.492188\" xlink:href=\"#DejaVuSans-75\"/>\r\n       <use x=\"92.871094\" xlink:href=\"#DejaVuSans-6c\"/>\r\n      </g>\r\n     </g>\r\n    </g>\r\n    <g id=\"xtick_33\">\r\n     <g id=\"line2d_33\">\r\n      <g>\r\n       <use style=\"stroke:#000000;stroke-width:0.6;\" x=\"344.97462\" xlink:href=\"#m36530b15c0\" y=\"226.859197\"/>\r\n      </g>\r\n     </g>\r\n    </g>\r\n    <g id=\"xtick_34\">\r\n     <g id=\"line2d_34\">\r\n      <g>\r\n       <use style=\"stroke:#000000;stroke-width:0.6;\" x=\"355.363809\" xlink:href=\"#m36530b15c0\" y=\"226.859197\"/>\r\n      </g>\r\n     </g>\r\n    </g>\r\n   </g>\r\n   <g id=\"matplotlib.axis_2\">\r\n    <g id=\"ytick_1\">\r\n     <g id=\"line2d_35\">\r\n      <defs>\r\n       <path d=\"M 0 0 \r\nL -3.5 0 \r\n\" id=\"me9cff18033\" style=\"stroke:#000000;stroke-width:0.8;\"/>\r\n      </defs>\r\n      <g>\r\n       <use style=\"stroke:#000000;stroke-width:0.8;\" x=\"28.942188\" xlink:href=\"#me9cff18033\" y=\"221.898184\"/>\r\n      </g>\r\n     </g>\r\n     <g id=\"text_7\">\r\n      <!-- −3 -->\r\n      <g transform=\"translate(7.2 225.697402)scale(0.1 -0.1)\">\r\n       <defs>\r\n        <path d=\"M 678 2272 \r\nL 4684 2272 \r\nL 4684 1741 \r\nL 678 1741 \r\nL 678 2272 \r\nz\r\n\" id=\"DejaVuSans-2212\" transform=\"scale(0.015625)\"/>\r\n       </defs>\r\n       <use xlink:href=\"#DejaVuSans-2212\"/>\r\n       <use x=\"83.789062\" xlink:href=\"#DejaVuSans-33\"/>\r\n      </g>\r\n     </g>\r\n    </g>\r\n    <g id=\"ytick_2\">\r\n     <g id=\"line2d_36\">\r\n      <g>\r\n       <use style=\"stroke:#000000;stroke-width:0.8;\" x=\"28.942188\" xlink:href=\"#me9cff18033\" y=\"186.748356\"/>\r\n      </g>\r\n     </g>\r\n     <g id=\"text_8\">\r\n      <!-- −2 -->\r\n      <g transform=\"translate(7.2 190.547575)scale(0.1 -0.1)\">\r\n       <use xlink:href=\"#DejaVuSans-2212\"/>\r\n       <use x=\"83.789062\" xlink:href=\"#DejaVuSans-32\"/>\r\n      </g>\r\n     </g>\r\n    </g>\r\n    <g id=\"ytick_3\">\r\n     <g id=\"line2d_37\">\r\n      <g>\r\n       <use style=\"stroke:#000000;stroke-width:0.8;\" x=\"28.942188\" xlink:href=\"#me9cff18033\" y=\"151.598529\"/>\r\n      </g>\r\n     </g>\r\n     <g id=\"text_9\">\r\n      <!-- −1 -->\r\n      <g transform=\"translate(7.2 155.397747)scale(0.1 -0.1)\">\r\n       <defs>\r\n        <path d=\"M 794 531 \r\nL 1825 531 \r\nL 1825 4091 \r\nL 703 3866 \r\nL 703 4441 \r\nL 1819 4666 \r\nL 2450 4666 \r\nL 2450 531 \r\nL 3481 531 \r\nL 3481 0 \r\nL 794 0 \r\nL 794 531 \r\nz\r\n\" id=\"DejaVuSans-31\" transform=\"scale(0.015625)\"/>\r\n       </defs>\r\n       <use xlink:href=\"#DejaVuSans-2212\"/>\r\n       <use x=\"83.789062\" xlink:href=\"#DejaVuSans-31\"/>\r\n      </g>\r\n     </g>\r\n    </g>\r\n    <g id=\"ytick_4\">\r\n     <g id=\"line2d_38\">\r\n      <g>\r\n       <use style=\"stroke:#000000;stroke-width:0.8;\" x=\"28.942188\" xlink:href=\"#me9cff18033\" y=\"116.448701\"/>\r\n      </g>\r\n     </g>\r\n     <g id=\"text_10\">\r\n      <!-- 0 -->\r\n      <g transform=\"translate(15.579688 120.24792)scale(0.1 -0.1)\">\r\n       <use xlink:href=\"#DejaVuSans-30\"/>\r\n      </g>\r\n     </g>\r\n    </g>\r\n    <g id=\"ytick_5\">\r\n     <g id=\"line2d_39\">\r\n      <g>\r\n       <use style=\"stroke:#000000;stroke-width:0.8;\" x=\"28.942188\" xlink:href=\"#me9cff18033\" y=\"81.298874\"/>\r\n      </g>\r\n     </g>\r\n     <g id=\"text_11\">\r\n      <!-- 1 -->\r\n      <g transform=\"translate(15.579688 85.098092)scale(0.1 -0.1)\">\r\n       <use xlink:href=\"#DejaVuSans-31\"/>\r\n      </g>\r\n     </g>\r\n    </g>\r\n    <g id=\"ytick_6\">\r\n     <g id=\"line2d_40\">\r\n      <g>\r\n       <use style=\"stroke:#000000;stroke-width:0.8;\" x=\"28.942188\" xlink:href=\"#me9cff18033\" y=\"46.149046\"/>\r\n      </g>\r\n     </g>\r\n     <g id=\"text_12\">\r\n      <!-- 2 -->\r\n      <g transform=\"translate(15.579688 49.948265)scale(0.1 -0.1)\">\r\n       <use xlink:href=\"#DejaVuSans-32\"/>\r\n      </g>\r\n     </g>\r\n    </g>\r\n    <g id=\"ytick_7\">\r\n     <g id=\"line2d_41\">\r\n      <g>\r\n       <use style=\"stroke:#000000;stroke-width:0.8;\" x=\"28.942188\" xlink:href=\"#me9cff18033\" y=\"10.999219\"/>\r\n      </g>\r\n     </g>\r\n     <g id=\"text_13\">\r\n      <!-- 3 -->\r\n      <g transform=\"translate(15.579688 14.798437)scale(0.1 -0.1)\">\r\n       <use xlink:href=\"#DejaVuSans-33\"/>\r\n      </g>\r\n     </g>\r\n    </g>\r\n   </g>\r\n   <g id=\"line2d_42\">\r\n    <path clip-path=\"url(#p9d1ca24612)\" d=\"M 28.942187 128.148343 \r\nL 29.277323 62.951752 \r\nL 29.612458 126.617553 \r\nL 29.947593 114.0111 \r\nL 30.282728 194.053597 \r\nL 30.617863 119.339374 \r\nL 30.952998 170.794348 \r\nL 31.288133 90.371357 \r\nL 31.623269 149.542851 \r\nL 31.958404 159.152315 \r\nL 32.293539 143.900295 \r\nL 32.628674 154.24825 \r\nL 32.963809 59.279788 \r\nL 33.298944 140.942432 \r\nL 33.634079 123.153516 \r\nL 33.969215 114.157531 \r\nL 34.30435 94.69508 \r\nL 34.639485 121.052643 \r\nL 34.97462 122.311936 \r\nL 35.309755 144.228462 \r\nL 35.64489 98.239583 \r\nL 35.980025 145.671556 \r\nL 36.31516 117.659693 \r\nL 36.650296 116.498023 \r\nL 36.985431 143.111719 \r\nL 37.320566 69.674928 \r\nL 37.655701 132.538629 \r\nL 37.990836 102.582476 \r\nL 38.325971 116.781599 \r\nL 38.661106 89.633671 \r\nL 39.331377 149.875165 \r\nL 39.666512 114.707502 \r\nL 40.001647 61.071943 \r\nL 40.336782 195.027612 \r\nL 40.671917 119.16348 \r\nL 41.007052 115.962614 \r\nL 41.342187 158.068664 \r\nL 41.677323 148.983719 \r\nL 42.012458 100.757492 \r\nL 42.347593 146.173326 \r\nL 42.682728 114.018583 \r\nL 43.017863 161.771528 \r\nL 43.352998 134.329513 \r\nL 43.688133 117.520769 \r\nL 44.023269 76.350047 \r\nL 44.358404 148.330246 \r\nL 44.693539 134.9068 \r\nL 45.028674 135.127426 \r\nL 45.363809 135.976063 \r\nL 45.698944 151.555502 \r\nL 46.034079 70.579058 \r\nL 46.70435 135.578525 \r\nL 47.039485 111.077809 \r\nL 47.37462 119.695492 \r\nL 47.709755 93.884531 \r\nL 48.04489 121.351278 \r\nL 48.380025 44.373805 \r\nL 48.71516 138.999324 \r\nL 49.050296 144.105185 \r\nL 49.385431 113.306813 \r\nL 49.720566 93.429545 \r\nL 50.055701 50.152656 \r\nL 50.390836 117.45194 \r\nL 50.725971 120.268803 \r\nL 51.061106 161.098439 \r\nL 51.396242 138.633216 \r\nL 51.731377 139.755494 \r\nL 52.066512 147.608774 \r\nL 52.401647 139.715037 \r\nL 52.736782 93.617459 \r\nL 53.071917 104.927796 \r\nL 53.407052 88.748547 \r\nL 53.742188 37.821754 \r\nL 54.077323 131.834484 \r\nL 54.412458 51.801844 \r\nL 54.747593 139.191609 \r\nL 55.082728 133.873 \r\nL 55.417863 91.700561 \r\nL 55.752998 104.874542 \r\nL 56.088133 149.478733 \r\nL 56.423269 102.246964 \r\nL 56.758404 127.210791 \r\nL 57.093539 109.965268 \r\nL 57.428674 155.449717 \r\nL 57.763809 122.880323 \r\nL 58.098944 145.972007 \r\nL 58.434079 94.94359 \r\nL 58.769215 120.929329 \r\nL 59.10435 104.828426 \r\nL 59.439485 146.74856 \r\nL 59.77462 122.80892 \r\nL 60.109755 128.128965 \r\nL 60.44489 96.968825 \r\nL 60.780025 93.791611 \r\nL 61.11516 127.042862 \r\nL 61.450296 59.420981 \r\nL 61.785431 93.613624 \r\nL 62.120566 96.988121 \r\nL 62.455701 111.136404 \r\nL 62.790836 160.455213 \r\nL 63.125971 86.070058 \r\nL 63.461106 125.188746 \r\nL 63.796242 51.927137 \r\nL 64.131377 122.985324 \r\nL 64.466512 150.598148 \r\nL 64.801647 113.840278 \r\nL 65.136782 106.183294 \r\nL 65.471917 145.963452 \r\nL 65.807052 106.388985 \r\nL 66.142187 140.498698 \r\nL 67.147593 102.952627 \r\nL 67.482728 155.654083 \r\nL 68.152998 120.89811 \r\nL 68.488133 84.969644 \r\nL 68.823269 136.741085 \r\nL 69.158404 80.753245 \r\nL 69.493539 127.564911 \r\nL 69.828674 154.218546 \r\nL 70.163809 146.138038 \r\nL 70.498944 104.024443 \r\nL 70.834079 115.976516 \r\nL 71.169215 141.156462 \r\nL 71.50435 120.70099 \r\nL 71.839485 47.723853 \r\nL 72.17462 118.540068 \r\nL 72.509755 78.39349 \r\nL 72.84489 117.347752 \r\nL 73.180025 102.281781 \r\nL 73.51516 108.072351 \r\nL 73.850296 77.403037 \r\nL 74.520566 156.903311 \r\nL 74.855701 195.490006 \r\nL 75.190836 154.077789 \r\nL 75.525971 169.794226 \r\nL 75.861106 176.214907 \r\nL 76.196242 75.611367 \r\nL 76.531377 95.754638 \r\nL 76.866512 132.580815 \r\nL 77.201647 123.337939 \r\nL 77.536782 140.473302 \r\nL 77.871917 70.298043 \r\nL 78.207052 78.725081 \r\nL 78.542188 115.054812 \r\nL 78.877323 111.821738 \r\nL 79.212458 92.546611 \r\nL 79.547593 97.642208 \r\nL 79.882728 91.607621 \r\nL 80.217863 155.822705 \r\nL 80.552998 82.731029 \r\nL 80.888133 118.925334 \r\nL 81.223269 137.912591 \r\nL 81.558404 180.289542 \r\nL 81.893539 115.409204 \r\nL 82.228674 76.319212 \r\nL 82.898944 148.940763 \r\nL 83.234079 110.60693 \r\nL 83.569215 86.007645 \r\nL 83.90435 73.534242 \r\nL 84.239485 158.719456 \r\nL 84.57462 107.060009 \r\nL 84.909755 120.194192 \r\nL 85.24489 92.323774 \r\nL 85.580025 141.001679 \r\nL 85.91516 104.456079 \r\nL 86.250296 100.577913 \r\nL 87.255701 165.053519 \r\nL 87.590836 93.772646 \r\nL 87.925971 115.18911 \r\nL 88.261106 119.723966 \r\nL 88.596242 87.353713 \r\nL 89.266512 173.893601 \r\nL 89.601647 136.978527 \r\nL 89.936782 126.346138 \r\nL 90.271917 90.731243 \r\nL 90.607052 124.510735 \r\nL 90.942187 138.653613 \r\nL 91.277323 102.694872 \r\nL 91.612458 124.024503 \r\nL 91.947593 130.051435 \r\nL 92.282728 82.88333 \r\nL 92.617863 125.038896 \r\nL 92.952998 88.803292 \r\nL 93.288133 118.30132 \r\nL 93.623269 114.591468 \r\nL 93.958404 160.161739 \r\nL 94.293539 124.91203 \r\nL 94.628674 179.309078 \r\nL 94.963809 168.584745 \r\nL 95.298944 34.395971 \r\nL 95.634079 83.668967 \r\nL 95.969215 103.652697 \r\nL 96.30435 53.698545 \r\nL 96.639485 98.56382 \r\nL 96.97462 109.620456 \r\nL 97.309755 157.141726 \r\nL 97.64489 148.572199 \r\nL 97.980025 167.448174 \r\nL 98.31516 107.913046 \r\nL 98.650296 140.61853 \r\nL 98.985431 77.585017 \r\nL 99.320566 165.908541 \r\nL 99.990836 90.929306 \r\nL 100.325971 155.396713 \r\nL 100.661106 153.224491 \r\nL 100.996242 127.500372 \r\nL 101.331377 143.198679 \r\nL 101.666512 137.382591 \r\nL 102.001647 156.103911 \r\nL 102.336782 123.219756 \r\nL 102.671917 155.310606 \r\nL 103.007052 93.104375 \r\nL 103.342187 129.677889 \r\nL 103.677323 141.98359 \r\nL 104.347593 77.227301 \r\nL 104.682728 110.70822 \r\nL 105.352998 131.235349 \r\nL 105.688133 110.504015 \r\nL 106.023269 119.291508 \r\nL 106.358404 101.528108 \r\nL 106.693539 123.808154 \r\nL 107.028674 109.162497 \r\nL 107.363809 158.569862 \r\nL 107.698944 123.145137 \r\nL 108.034079 138.714981 \r\nL 108.369215 90.056211 \r\nL 108.70435 74.145293 \r\nL 109.039485 107.900312 \r\nL 109.37462 34.905091 \r\nL 109.709755 57.528565 \r\nL 110.04489 175.006631 \r\nL 110.380025 162.560496 \r\nL 110.71516 130.868397 \r\nL 111.050296 155.81695 \r\nL 111.720566 97.737645 \r\nL 112.055701 155.95241 \r\nL 112.390836 81.036293 \r\nL 112.725971 80.928407 \r\nL 113.396242 153.516682 \r\nL 113.731377 78.347883 \r\nL 114.066512 77.927665 \r\nL 114.401647 123.88245 \r\nL 114.736782 191.703251 \r\nL 115.071917 92.047434 \r\nL 115.407052 99.963383 \r\nL 115.742188 125.629569 \r\nL 116.077323 119.709306 \r\nL 116.412458 121.452597 \r\nL 116.747593 109.557258 \r\nL 117.082728 150.614014 \r\nL 117.417863 141.508536 \r\nL 117.752998 46.434568 \r\nL 118.088133 156.896798 \r\nL 118.423269 123.255521 \r\nL 118.758404 149.955164 \r\nL 119.093539 65.71968 \r\nL 119.428674 50.321976 \r\nL 119.763809 156.369385 \r\nL 120.098944 70.663502 \r\nL 120.434079 94.748064 \r\nL 120.769215 108.687337 \r\nL 121.10435 64.308059 \r\nL 121.439485 76.567701 \r\nL 121.77462 185.168739 \r\nL 122.44489 76.268434 \r\nL 123.11516 161.391799 \r\nL 123.450296 134.895937 \r\nL 123.785431 89.193782 \r\nL 124.120566 126.336872 \r\nL 124.455701 180.476003 \r\nL 124.790836 83.819655 \r\nL 125.125971 79.642002 \r\nL 125.461106 144.402738 \r\nL 125.796242 77.053458 \r\nL 126.131377 125.767268 \r\nL 126.466512 105.546152 \r\nL 126.801647 118.728678 \r\nL 127.136782 127.325936 \r\nL 127.471917 122.417403 \r\nL 127.807052 190.962167 \r\nL 128.142187 123.424399 \r\nL 128.477323 185.192351 \r\nL 128.812458 141.524576 \r\nL 129.147593 172.94689 \r\nL 129.482728 100.387906 \r\nL 129.817863 157.30065 \r\nL 130.152998 54.261591 \r\nL 130.488133 118.4103 \r\nL 130.823269 154.00766 \r\nL 131.158404 110.275979 \r\nL 131.493539 161.611615 \r\nL 131.828674 77.33846 \r\nL 132.163809 116.53282 \r\nL 132.498944 111.537507 \r\nL 132.834079 119.993568 \r\nL 133.169215 116.716978 \r\nL 133.50435 123.139268 \r\nL 133.839485 145.192996 \r\nL 134.17462 97.158539 \r\nL 134.509755 84.881106 \r\nL 134.84489 109.087022 \r\nL 135.180025 156.590368 \r\nL 135.51516 120.925649 \r\nL 135.850296 150.606409 \r\nL 136.520566 95.767597 \r\nL 136.855701 102.281682 \r\nL 137.190836 90.915411 \r\nL 137.525971 171.174122 \r\nL 137.861106 137.569588 \r\nL 138.196242 147.008701 \r\nL 138.531377 62.957654 \r\nL 138.866512 33.554839 \r\nL 139.201647 149.199819 \r\nL 139.536782 107.528183 \r\nL 139.871917 34.916759 \r\nL 140.542188 146.560585 \r\nL 140.877323 129.168217 \r\nL 141.212458 147.460821 \r\nL 141.547593 91.343904 \r\nL 141.882728 113.947324 \r\nL 142.217863 98.058382 \r\nL 142.552998 117.813398 \r\nL 142.888133 110.010116 \r\nL 143.558404 123.951736 \r\nL 143.893539 165.548261 \r\nL 144.228674 86.858646 \r\nL 144.563809 103.581088 \r\nL 144.898944 159.869757 \r\nL 145.234079 177.393335 \r\nL 145.569215 61.269147 \r\nL 145.90435 164.982123 \r\nL 146.239485 113.17434 \r\nL 146.57462 135.105735 \r\nL 146.909755 144.343953 \r\nL 147.24489 101.892789 \r\nL 147.580025 102.442908 \r\nL 147.91516 58.823221 \r\nL 148.250296 136.358301 \r\nL 148.585431 69.970411 \r\nL 148.920566 104.263675 \r\nL 149.255701 186.727243 \r\nL 149.590836 79.575949 \r\nL 149.925971 133.663743 \r\nL 150.596242 75.269092 \r\nL 151.266512 192.258595 \r\nL 151.601647 108.735536 \r\nL 151.936782 131.241799 \r\nL 152.271917 138.230457 \r\nL 152.607052 156.128416 \r\nL 152.942187 73.553215 \r\nL 153.277323 136.274198 \r\nL 153.612458 133.028407 \r\nL 153.947593 187.139395 \r\nL 154.282728 101.262115 \r\nL 154.617863 111.904866 \r\nL 154.952998 99.505329 \r\nL 155.288133 82.885904 \r\nL 155.623269 106.300658 \r\nL 155.958404 143.024088 \r\nL 156.293539 66.58926 \r\nL 156.628674 98.060594 \r\nL 156.963809 106.774715 \r\nL 157.298944 135.980138 \r\nL 157.634079 122.448645 \r\nL 157.969215 59.908036 \r\nL 158.30435 114.390545 \r\nL 158.639485 113.530029 \r\nL 158.97462 116.248427 \r\nL 159.309755 149.583276 \r\nL 159.64489 90.794358 \r\nL 159.980025 84.740597 \r\nL 160.31516 115.058776 \r\nL 160.650296 126.70628 \r\nL 160.985431 65.258935 \r\nL 161.320566 144.127004 \r\nL 161.655701 121.143024 \r\nL 161.990836 187.578764 \r\nL 162.325971 139.420133 \r\nL 162.661106 141.141296 \r\nL 162.996242 98.292557 \r\nL 163.331377 125.66233 \r\nL 164.001647 153.431672 \r\nL 164.336782 120.160581 \r\nL 164.671917 119.977796 \r\nL 165.007052 194.841304 \r\nL 165.342187 96.422454 \r\nL 165.677323 59.749814 \r\nL 166.012458 75.952751 \r\nL 166.347593 142.120276 \r\nL 166.682728 110.157651 \r\nL 167.017863 147.651424 \r\nL 167.352998 166.030179 \r\nL 167.688133 156.889416 \r\nL 168.023269 142.958612 \r\nL 168.693539 71.609896 \r\nL 169.028674 151.889803 \r\nL 169.363809 152.945236 \r\nL 169.698944 76.923869 \r\nL 170.034079 111.25967 \r\nL 170.369215 129.753015 \r\nL 170.70435 128.110405 \r\nL 171.039485 95.327078 \r\nL 171.709755 128.797598 \r\nL 172.04489 50.223624 \r\nL 172.71516 88.936711 \r\nL 173.050296 125.457935 \r\nL 173.385431 192.460384 \r\nL 173.720566 190.579423 \r\nL 174.055701 108.840517 \r\nL 174.390836 95.736361 \r\nL 174.725971 183.906186 \r\nL 175.061106 104.043314 \r\nL 175.396242 126.169736 \r\nL 175.731377 112.333759 \r\nL 176.066512 167.887667 \r\nL 176.736782 93.921067 \r\nL 177.071917 41.621396 \r\nL 177.407052 83.616207 \r\nL 177.742188 91.12237 \r\nL 178.077323 71.774332 \r\nL 178.412458 144.110822 \r\nL 178.747593 158.447456 \r\nL 179.082728 131.352584 \r\nL 179.417863 86.064917 \r\nL 179.752998 90.999835 \r\nL 180.088133 146.287283 \r\nL 180.423269 117.911681 \r\nL 180.758404 72.514868 \r\nL 181.428674 114.782959 \r\nL 181.763809 144.09697 \r\nL 182.098944 129.840734 \r\nL 182.434079 100.732929 \r\nL 182.769215 123.615645 \r\nL 183.10435 79.687511 \r\nL 183.77462 152.436849 \r\nL 184.109755 58.16565 \r\nL 184.44489 166.717765 \r\nL 184.780025 153.922745 \r\nL 185.11516 153.544867 \r\nL 185.450296 115.180132 \r\nL 185.785431 96.948619 \r\nL 186.120566 131.862123 \r\nL 186.455701 129.018146 \r\nL 186.790836 121.208199 \r\nL 187.125971 135.02832 \r\nL 187.461106 142.251301 \r\nL 187.796242 70.666742 \r\nL 188.131377 106.900727 \r\nL 188.466512 167.270153 \r\nL 188.801647 179.420773 \r\nL 189.136782 153.430582 \r\nL 189.471917 97.787678 \r\nL 189.807052 140.011612 \r\nL 190.142187 117.151309 \r\nL 190.477323 142.311326 \r\nL 190.812458 155.088892 \r\nL 191.147593 116.067683 \r\nL 191.482728 155.957419 \r\nL 191.817863 67.453374 \r\nL 192.152998 162.598447 \r\nL 192.488133 116.422546 \r\nL 192.823269 162.769092 \r\nL 193.158404 107.364713 \r\nL 193.493539 103.628217 \r\nL 193.828674 124.046051 \r\nL 194.163809 63.212947 \r\nL 194.498944 146.805183 \r\nL 194.834079 49.900615 \r\nL 195.169215 91.169664 \r\nL 195.50435 151.360411 \r\nL 195.839485 138.646537 \r\nL 196.17462 143.348481 \r\nL 196.509755 180.921737 \r\nL 196.84489 72.859589 \r\nL 197.180025 72.811956 \r\nL 197.51516 101.41513 \r\nL 198.185431 135.593877 \r\nL 198.520566 38.230035 \r\nL 199.190836 151.838643 \r\nL 199.525971 154.02139 \r\nL 199.861106 99.55332 \r\nL 200.196242 114.737128 \r\nL 200.531377 121.461318 \r\nL 200.866512 196.243932 \r\nL 201.201647 178.020218 \r\nL 201.536782 85.358723 \r\nL 201.871917 32.486272 \r\nL 202.542188 112.475178 \r\nL 202.877323 186.909324 \r\nL 203.212458 94.8403 \r\nL 203.547593 138.099897 \r\nL 203.882728 86.747886 \r\nL 204.217863 126.671909 \r\nL 204.552998 90.518766 \r\nL 204.888133 185.649991 \r\nL 205.223269 167.328137 \r\nL 205.558404 78.166211 \r\nL 205.893539 74.180354 \r\nL 206.228674 182.212153 \r\nL 206.563809 117.604407 \r\nL 206.898944 116.802814 \r\nL 207.234079 59.322347 \r\nL 207.569215 134.94012 \r\nL 207.90435 83.900959 \r\nL 208.239485 142.289749 \r\nL 208.57462 128.077438 \r\nL 208.909755 134.701863 \r\nL 209.24489 39.658396 \r\nL 209.580025 101.326999 \r\nL 209.91516 70.184144 \r\nL 210.585431 170.022152 \r\nL 210.920566 133.582851 \r\nL 211.255701 191.775872 \r\nL 211.590836 116.677323 \r\nL 211.925971 75.093779 \r\nL 212.261106 115.232522 \r\nL 212.596242 127.406224 \r\nL 213.266512 67.710132 \r\nL 213.601647 148.854315 \r\nL 213.936782 175.490164 \r\nL 214.271917 140.565569 \r\nL 214.607052 195.371937 \r\nL 214.942187 79.023102 \r\nL 215.277323 160.685582 \r\nL 215.612458 128.857266 \r\nL 215.947593 119.809491 \r\nL 216.282728 145.581369 \r\nL 216.617863 72.166376 \r\nL 216.952998 156.26225 \r\nL 217.288133 128.347615 \r\nL 217.623269 126.329399 \r\nL 217.958404 75.311021 \r\nL 218.628674 101.890249 \r\nL 218.963809 128.090276 \r\nL 219.298944 124.157828 \r\nL 219.634079 122.447918 \r\nL 219.969215 122.837038 \r\nL 220.30435 115.102825 \r\nL 220.639485 93.87253 \r\nL 220.97462 124.992547 \r\nL 221.309755 143.560738 \r\nL 221.64489 130.091966 \r\nL 221.980025 166.775255 \r\nL 222.31516 115.544933 \r\nL 222.650296 106.685068 \r\nL 222.985431 132.294249 \r\nL 223.320566 111.595517 \r\nL 223.655701 29.214529 \r\nL 223.990836 105.136568 \r\nL 224.325971 133.724693 \r\nL 224.661106 186.714655 \r\nL 224.996242 116.230986 \r\nL 225.331377 130.213879 \r\nL 225.666512 57.678499 \r\nL 226.001647 102.230399 \r\nL 226.336782 117.296908 \r\nL 226.671917 167.478373 \r\nL 227.342187 99.752403 \r\nL 227.677323 148.175857 \r\nL 228.012458 91.301716 \r\nL 228.347593 136.202326 \r\nL 228.682728 123.469995 \r\nL 229.017863 82.131848 \r\nL 229.352998 67.440112 \r\nL 230.023269 126.295743 \r\nL 230.358404 140.650858 \r\nL 230.693539 114.721376 \r\nL 231.028674 103.697524 \r\nL 231.363809 52.538368 \r\nL 231.698944 163.857901 \r\nL 232.034079 134.997595 \r\nL 232.369215 77.933132 \r\nL 232.70435 75.73004 \r\nL 233.039485 40.342923 \r\nL 233.37462 90.655468 \r\nL 233.709755 174.684222 \r\nL 234.04489 34.133296 \r\nL 234.380025 173.995654 \r\nL 234.71516 153.222504 \r\nL 235.050296 96.973429 \r\nL 235.385431 81.052307 \r\nL 235.720566 156.882186 \r\nL 236.390836 88.192688 \r\nL 236.725971 95.519724 \r\nL 237.396242 127.149921 \r\nL 237.731377 121.701126 \r\nL 238.066512 120.427533 \r\nL 238.401647 63.7697 \r\nL 238.736782 98.116212 \r\nL 239.071917 159.967615 \r\nL 239.407052 95.874981 \r\nL 239.742188 117.608952 \r\nL 240.077323 51.540027 \r\nL 240.412458 70.718654 \r\nL 240.747593 149.724348 \r\nL 241.417863 86.953191 \r\nL 242.088133 160.924477 \r\nL 242.423269 120.50859 \r\nL 242.758404 164.665184 \r\nL 243.093539 170.800329 \r\nL 243.428674 174.148449 \r\nL 243.763809 147.617519 \r\nL 244.098944 103.342939 \r\nL 244.434079 99.253898 \r\nL 244.769215 124.871416 \r\nL 245.10435 49.92435 \r\nL 245.439485 146.675286 \r\nL 245.77462 79.699544 \r\nL 246.109755 66.234898 \r\nL 246.44489 47.005095 \r\nL 246.780025 115.629418 \r\nL 247.11516 143.842745 \r\nL 247.450296 90.23178 \r\nL 247.785431 100.910067 \r\nL 248.120566 100.276276 \r\nL 248.455701 136.683371 \r\nL 248.790836 97.264831 \r\nL 249.125971 163.310896 \r\nL 249.461106 137.054096 \r\nL 250.131377 105.117838 \r\nL 250.466512 145.09771 \r\nL 250.801647 122.501135 \r\nL 251.136782 116.035657 \r\nL 251.471917 86.536227 \r\nL 251.807052 118.342433 \r\nL 252.142187 173.812839 \r\nL 252.477323 82.887454 \r\nL 252.812458 67.810368 \r\nL 253.147593 93.343318 \r\nL 253.482728 76.262631 \r\nL 253.817863 128.995643 \r\nL 254.152998 103.192199 \r\nL 254.488133 120.087798 \r\nL 254.823269 87.244181 \r\nL 255.158404 96.995128 \r\nL 255.493539 85.719406 \r\nL 256.163809 119.899291 \r\nL 256.498944 116.709658 \r\nL 256.834079 110.180936 \r\nL 257.169215 151.684025 \r\nL 257.50435 163.261434 \r\nL 258.17462 76.458181 \r\nL 258.509755 133.367664 \r\nL 258.84489 108.945049 \r\nL 259.51516 93.200199 \r\nL 260.185431 63.281561 \r\nL 260.520566 58.555695 \r\nL 261.525971 151.239345 \r\nL 261.861106 129.870239 \r\nL 262.196242 93.037561 \r\nL 262.531377 110.874913 \r\nL 262.866512 113.500781 \r\nL 263.201647 98.896107 \r\nL 263.536782 63.701502 \r\nL 264.207052 108.238597 \r\nL 264.542188 67.83935 \r\nL 264.877323 116.927984 \r\nL 265.212458 147.100158 \r\nL 265.547593 75.594827 \r\nL 265.882728 80.194619 \r\nL 266.217863 90.860552 \r\nL 266.552998 64.918029 \r\nL 266.888133 103.906432 \r\nL 267.223269 180.876416 \r\nL 267.558404 63.168229 \r\nL 267.893539 130.942227 \r\nL 268.228674 157.214057 \r\nL 268.563809 108.429155 \r\nL 268.898944 90.330392 \r\nL 269.234079 149.14307 \r\nL 269.569215 103.98567 \r\nL 269.90435 102.117221 \r\nL 270.239485 109.214887 \r\nL 270.57462 113.741514 \r\nL 271.24489 142.575366 \r\nL 271.580025 70.864194 \r\nL 271.91516 63.98848 \r\nL 272.250296 148.825305 \r\nL 272.585431 96.852361 \r\nL 272.920566 104.213153 \r\nL 273.255701 95.996702 \r\nL 273.590836 65.865265 \r\nL 273.925971 108.370488 \r\nL 274.261106 119.479754 \r\nL 274.596242 59.137153 \r\nL 274.931377 177.072613 \r\nL 275.266512 136.090923 \r\nL 275.601647 133.59006 \r\nL 275.936782 145.224288 \r\nL 276.271917 144.318172 \r\nL 276.607052 133.959976 \r\nL 276.942187 158.348768 \r\nL 277.277323 143.167574 \r\nL 277.612458 207.149578 \r\nL 277.947593 116.511828 \r\nL 278.282728 74.088834 \r\nL 278.617863 174.146919 \r\nL 279.288133 39.250503 \r\nL 279.623269 173.043315 \r\nL 279.958404 171.885397 \r\nL 280.293539 136.568703 \r\nL 280.963809 102.216253 \r\nL 281.298944 151.162664 \r\nL 281.634079 162.03737 \r\nL 281.969215 98.532838 \r\nL 282.30435 181.656913 \r\nL 282.639485 156.998638 \r\nL 282.97462 115.026105 \r\nL 283.309755 157.002809 \r\nL 283.64489 70.631235 \r\nL 283.980025 110.622076 \r\nL 284.31516 97.992497 \r\nL 284.650296 174.328285 \r\nL 284.985431 126.447845 \r\nL 285.320566 101.207477 \r\nL 285.655701 185.190764 \r\nL 285.990836 119.147629 \r\nL 286.325971 123.504127 \r\nL 286.661106 164.762949 \r\nL 286.996242 124.647748 \r\nL 287.331377 157.686237 \r\nL 287.666512 101.356708 \r\nL 288.001647 192.986801 \r\nL 288.336782 96.42132 \r\nL 288.671917 110.509496 \r\nL 289.007052 180.76282 \r\nL 289.342187 139.882123 \r\nL 289.677323 84.988074 \r\nL 290.012458 128.679213 \r\nL 290.347593 106.548089 \r\nL 290.682728 117.548517 \r\nL 291.017863 103.697338 \r\nL 291.352998 120.379679 \r\nL 291.688133 85.580707 \r\nL 292.023269 216.97556 \r\nL 292.358404 122.290314 \r\nL 292.693539 111.216932 \r\nL 293.028674 141.359175 \r\nL 293.363809 102.343479 \r\nL 293.698944 116.075795 \r\nL 294.034079 61.510591 \r\nL 294.369215 95.460179 \r\nL 294.70435 53.963371 \r\nL 295.37462 210.997938 \r\nL 295.709755 145.415849 \r\nL 296.380025 105.896104 \r\nL 296.71516 103.181364 \r\nL 297.050296 67.562649 \r\nL 297.385431 144.25651 \r\nL 297.720566 80.145012 \r\nL 298.055701 209.809974 \r\nL 298.390836 99.839128 \r\nL 298.725971 140.304481 \r\nL 299.061106 116.496722 \r\nL 299.396242 130.424445 \r\nL 299.731377 138.579528 \r\nL 300.401647 171.832403 \r\nL 300.736782 182.684399 \r\nL 301.071917 111.671338 \r\nL 301.407052 99.86064 \r\nL 301.742188 94.116345 \r\nL 302.077323 125.036074 \r\nL 302.412458 102.035135 \r\nL 302.747593 154.250633 \r\nL 303.082728 89.045843 \r\nL 303.417863 98.88378 \r\nL 303.752998 87.659071 \r\nL 304.088133 116.242481 \r\nL 304.423269 130.902712 \r\nL 304.758404 136.860006 \r\nL 305.093539 96.273701 \r\nL 305.428674 133.311114 \r\nL 305.763809 67.825205 \r\nL 306.098944 64.948319 \r\nL 306.434079 79.99528 \r\nL 306.769215 128.475466 \r\nL 307.10435 145.402268 \r\nL 307.439485 153.60735 \r\nL 307.77462 111.585449 \r\nL 308.109755 135.166854 \r\nL 308.44489 110.425746 \r\nL 308.780025 156.935247 \r\nL 309.11516 104.224687 \r\nL 309.450296 116.572066 \r\nL 309.785431 139.530887 \r\nL 310.120566 122.725294 \r\nL 310.790836 192.42754 \r\nL 311.125971 85.406971 \r\nL 311.461106 91.076577 \r\nL 311.796242 78.249469 \r\nL 312.131377 160.238067 \r\nL 312.466512 96.368072 \r\nL 312.801647 148.666925 \r\nL 313.136782 136.441952 \r\nL 313.471917 105.682576 \r\nL 313.807052 121.586875 \r\nL 314.142187 105.102741 \r\nL 314.477323 51.758925 \r\nL 314.812458 81.46939 \r\nL 315.147593 123.113012 \r\nL 315.482728 122.491817 \r\nL 315.817863 119.90692 \r\nL 316.152998 131.857231 \r\nL 316.488133 132.333034 \r\nL 316.823269 80.202637 \r\nL 317.158404 118.551144 \r\nL 317.493539 183.45189 \r\nL 317.828674 137.200391 \r\nL 318.163809 162.788264 \r\nL 318.498944 111.91618 \r\nL 318.834079 177.350368 \r\nL 319.169215 126.154678 \r\nL 319.50435 48.165731 \r\nL 319.839485 113.137065 \r\nL 320.17462 109.822684 \r\nL 320.509755 182.988097 \r\nL 320.84489 100.119894 \r\nL 321.180025 86.657441 \r\nL 321.51516 135.379577 \r\nL 321.850296 119.819884 \r\nL 322.185431 59.611091 \r\nL 322.855701 139.956445 \r\nL 323.190836 64.582738 \r\nL 323.861106 115.530004 \r\nL 324.196242 123.131135 \r\nL 324.531377 62.219135 \r\nL 324.866512 117.463496 \r\nL 325.201647 92.32263 \r\nL 325.536782 147.869359 \r\nL 325.871917 129.043229 \r\nL 326.207052 81.665835 \r\nL 326.542188 65.702815 \r\nL 326.877323 132.340507 \r\nL 327.212458 73.917633 \r\nL 327.547593 85.878662 \r\nL 327.882728 140.752927 \r\nL 328.217863 75.065928 \r\nL 328.552998 95.150627 \r\nL 328.888133 57.512028 \r\nL 329.223269 194.834285 \r\nL 329.558404 136.060867 \r\nL 329.893539 136.661909 \r\nL 330.228674 160.221059 \r\nL 330.563809 80.52087 \r\nL 330.898944 116.128116 \r\nL 331.569215 147.227739 \r\nL 331.90435 156.312524 \r\nL 332.239485 105.338015 \r\nL 332.57462 125.822888 \r\nL 332.909755 122.305367 \r\nL 333.24489 176.331932 \r\nL 333.580025 108.875492 \r\nL 333.91516 116.011177 \r\nL 334.250296 118.061637 \r\nL 334.585431 125.720433 \r\nL 334.920566 103.650775 \r\nL 335.255701 192.579104 \r\nL 335.590836 109.513987 \r\nL 335.925971 137.295477 \r\nL 336.596242 88.871252 \r\nL 336.931377 121.075441 \r\nL 337.266512 94.139043 \r\nL 337.601647 184.942735 \r\nL 337.936782 85.085982 \r\nL 338.271917 120.221462 \r\nL 338.607052 70.81262 \r\nL 338.942187 159.310001 \r\nL 339.277323 19.302833 \r\nL 339.947593 146.594014 \r\nL 340.282728 157.46342 \r\nL 340.952998 113.708341 \r\nL 341.288133 126.212794 \r\nL 341.623269 191.057274 \r\nL 341.958404 70.165234 \r\nL 342.293539 75.785634 \r\nL 342.628674 156.448564 \r\nL 342.963809 172.907925 \r\nL 343.298944 77.136542 \r\nL 343.634079 127.944992 \r\nL 343.969215 84.897248 \r\nL 344.30435 123.970234 \r\nL 344.639485 128.805423 \r\nL 344.97462 71.870668 \r\nL 345.309755 126.952246 \r\nL 345.64489 140.959902 \r\nL 345.980025 99.170283 \r\nL 346.31516 85.384906 \r\nL 346.650296 147.598993 \r\nL 347.320566 93.48951 \r\nL 347.655701 109.739283 \r\nL 347.990836 99.484862 \r\nL 348.325971 54.458381 \r\nL 348.661106 120.406766 \r\nL 348.996242 88.961581 \r\nL 349.331377 157.675565 \r\nL 349.666512 65.36268 \r\nL 350.001647 76.903969 \r\nL 350.336782 167.92011 \r\nL 350.671917 73.61686 \r\nL 351.342187 199.737553 \r\nL 351.677323 118.587001 \r\nL 352.012458 83.68577 \r\nL 352.347593 88.429812 \r\nL 352.682728 105.213264 \r\nL 353.017863 97.174736 \r\nL 353.352998 159.289861 \r\nL 353.688133 120.694961 \r\nL 354.023269 177.986256 \r\nL 354.358404 131.075357 \r\nL 354.693539 130.413968 \r\nL 355.028674 111.256513 \r\nL 355.363809 105.178402 \r\nL 355.698944 116.493135 \r\nL 356.034079 91.535277 \r\nL 356.369215 75.520903 \r\nL 356.70435 139.991275 \r\nL 357.039485 78.579248 \r\nL 357.37462 142.90224 \r\nL 357.709755 122.459941 \r\nL 358.04489 117.83419 \r\nL 358.380025 133.314629 \r\nL 358.71516 77.88208 \r\nL 359.050296 104.670546 \r\nL 359.385431 86.491893 \r\nL 359.720566 102.080241 \r\nL 360.055701 160.291582 \r\nL 360.390836 129.194589 \r\nL 360.725971 122.362509 \r\nL 361.061106 110.208527 \r\nL 361.396242 193.537389 \r\nL 361.731377 96.705178 \r\nL 362.066512 152.66379 \r\nL 362.401647 81.031207 \r\nL 362.736782 157.947056 \r\nL 363.071917 125.209427 \r\nL 363.407052 122.896125 \r\nL 363.742188 172.934047 \r\nL 363.742188 172.934047 \r\n\" style=\"fill:none;stroke:#1f77b4;stroke-linecap:square;stroke-width:1.5;\"/>\r\n   </g>\r\n   <g id=\"patch_3\">\r\n    <path d=\"M 28.942188 226.859197 \r\nL 28.942188 9.419197 \r\n\" style=\"fill:none;stroke:#000000;stroke-linecap:square;stroke-linejoin:miter;stroke-width:0.8;\"/>\r\n   </g>\r\n   <g id=\"patch_4\">\r\n    <path d=\"M 363.742188 226.859197 \r\nL 363.742188 9.419197 \r\n\" style=\"fill:none;stroke:#000000;stroke-linecap:square;stroke-linejoin:miter;stroke-width:0.8;\"/>\r\n   </g>\r\n   <g id=\"patch_5\">\r\n    <path d=\"M 28.942187 226.859197 \r\nL 363.742188 226.859197 \r\n\" style=\"fill:none;stroke:#000000;stroke-linecap:square;stroke-linejoin:miter;stroke-width:0.8;\"/>\r\n   </g>\r\n   <g id=\"patch_6\">\r\n    <path d=\"M 28.942187 9.419197 \r\nL 363.742188 9.419197 \r\n\" style=\"fill:none;stroke:#000000;stroke-linecap:square;stroke-linejoin:miter;stroke-width:0.8;\"/>\r\n   </g>\r\n  </g>\r\n </g>\r\n <defs>\r\n  <clipPath id=\"p9d1ca24612\">\r\n   <rect height=\"217.44\" width=\"334.8\" x=\"28.942188\" y=\"9.419197\"/>\r\n  </clipPath>\r\n </defs>\r\n</svg>\r\n",
      "text/plain": [
       "<Figure size 432x288 with 1 Axes>"
      ]
     },
     "metadata": {
      "needs_background": "light"
     },
     "output_type": "display_data"
    }
   ],
   "source": [
    "ts = pd.Series(np.random.randn(1000), index=pd.date_range(\"1/1/2022\", periods=1000))\n",
    "ts.plot()"
   ]
  },
  {
   "cell_type": "code",
   "execution_count": 97,
   "metadata": {},
   "outputs": [
    {
     "data": {
      "text/plain": [
       "<AxesSubplot:>"
      ]
     },
     "execution_count": 97,
     "metadata": {},
     "output_type": "execute_result"
    },
    {
     "data": {
      "image/png": "[encoded data removed]",
      "image/svg+xml": "<?xml version=\"1.0\" encoding=\"utf-8\" standalone=\"no\"?>\r\n<!DOCTYPE svg PUBLIC \"-//W3C//DTD SVG 1.1//EN\"\r\n  \"http://www.w3.org/Graphics/SVG/1.1/DTD/svg11.dtd\">\r\n<svg height=\"259.715937pt\" version=\"1.1\" viewBox=\"0 0 377.304688 259.715937\" width=\"377.304688pt\" xmlns=\"http://www.w3.org/2000/svg\" xmlns:xlink=\"http://www.w3.org/1999/xlink\">\r\n <metadata>\r\n  <rdf:RDF xmlns:cc=\"http://creativecommons.org/ns#\" xmlns:dc=\"http://purl.org/dc/elements/1.1/\" xmlns:rdf=\"http://www.w3.org/1999/02/22-rdf-syntax-ns#\">\r\n   <cc:Work>\r\n    <dc:type rdf:resource=\"http://purl.org/dc/dcmitype/StillImage\"/>\r\n    <dc:date>2022-03-21T07:19:40.555919</dc:date>\r\n    <dc:format>image/svg+xml</dc:format>\r\n    <dc:creator>\r\n     <cc:Agent>\r\n      <dc:title>Matplotlib v3.4.3, https://matplotlib.org/</dc:title>\r\n     </cc:Agent>\r\n    </dc:creator>\r\n   </cc:Work>\r\n  </rdf:RDF>\r\n </metadata>\r\n <defs>\r\n  <style type=\"text/css\">*{stroke-linecap:butt;stroke-linejoin:round;}</style>\r\n </defs>\r\n <g id=\"figure_1\">\r\n  <g id=\"patch_1\">\r\n   <path d=\"M 0 259.715937 \r\nL 377.304688 259.715937 \r\nL 377.304688 0 \r\nL 0 0 \r\nz\r\n\" style=\"fill:none;\"/>\r\n  </g>\r\n  <g id=\"axes_1\">\r\n   <g id=\"patch_2\">\r\n    <path d=\"M 35.304688 224.64 \r\nL 370.104688 224.64 \r\nL 370.104688 7.2 \r\nL 35.304688 7.2 \r\nz\r\n\" style=\"fill:#ffffff;\"/>\r\n   </g>\r\n   <g id=\"matplotlib.axis_1\">\r\n    <g id=\"xtick_1\">\r\n     <g id=\"line2d_1\">\r\n      <defs>\r\n       <path d=\"M 0 0 \r\nL 0 3.5 \r\n\" id=\"m189a3dc138\" style=\"stroke:#000000;stroke-width:0.8;\"/>\r\n      </defs>\r\n      <g>\r\n       <use style=\"stroke:#000000;stroke-width:0.8;\" x=\"35.304688\" xlink:href=\"#m189a3dc138\" y=\"224.64\"/>\r\n      </g>\r\n     </g>\r\n     <g id=\"text_1\">\r\n      <!-- Jan -->\r\n      <g transform=\"translate(27.596875 239.238438)scale(0.1 -0.1)\">\r\n       <defs>\r\n        <path d=\"M 628 4666 \r\nL 1259 4666 \r\nL 1259 325 \r\nQ 1259 -519 939 -900 \r\nQ 619 -1281 -91 -1281 \r\nL -331 -1281 \r\nL -331 -750 \r\nL -134 -750 \r\nQ 284 -750 456 -515 \r\nQ 628 -281 628 325 \r\nL 628 4666 \r\nz\r\n\" id=\"DejaVuSans-4a\" transform=\"scale(0.015625)\"/>\r\n        <path d=\"M 2194 1759 \r\nQ 1497 1759 1228 1600 \r\nQ 959 1441 959 1056 \r\nQ 959 750 1161 570 \r\nQ 1363 391 1709 391 \r\nQ 2188 391 2477 730 \r\nQ 2766 1069 2766 1631 \r\nL 2766 1759 \r\nL 2194 1759 \r\nz\r\nM 3341 1997 \r\nL 3341 0 \r\nL 2766 0 \r\nL 2766 531 \r\nQ 2569 213 2275 61 \r\nQ 1981 -91 1556 -91 \r\nQ 1019 -91 701 211 \r\nQ 384 513 384 1019 \r\nQ 384 1609 779 1909 \r\nQ 1175 2209 1959 2209 \r\nL 2766 2209 \r\nL 2766 2266 \r\nQ 2766 2663 2505 2880 \r\nQ 2244 3097 1772 3097 \r\nQ 1472 3097 1187 3025 \r\nQ 903 2953 641 2809 \r\nL 641 3341 \r\nQ 956 3463 1253 3523 \r\nQ 1550 3584 1831 3584 \r\nQ 2591 3584 2966 3190 \r\nQ 3341 2797 3341 1997 \r\nz\r\n\" id=\"DejaVuSans-61\" transform=\"scale(0.015625)\"/>\r\n        <path d=\"M 3513 2113 \r\nL 3513 0 \r\nL 2938 0 \r\nL 2938 2094 \r\nQ 2938 2591 2744 2837 \r\nQ 2550 3084 2163 3084 \r\nQ 1697 3084 1428 2787 \r\nQ 1159 2491 1159 1978 \r\nL 1159 0 \r\nL 581 0 \r\nL 581 3500 \r\nL 1159 3500 \r\nL 1159 2956 \r\nQ 1366 3272 1645 3428 \r\nQ 1925 3584 2291 3584 \r\nQ 2894 3584 3203 3211 \r\nQ 3513 2838 3513 2113 \r\nz\r\n\" id=\"DejaVuSans-6e\" transform=\"scale(0.015625)\"/>\r\n       </defs>\r\n       <use xlink:href=\"#DejaVuSans-4a\"/>\r\n       <use x=\"29.492188\" xlink:href=\"#DejaVuSans-61\"/>\r\n       <use x=\"90.771484\" xlink:href=\"#DejaVuSans-6e\"/>\r\n      </g>\r\n      <!-- 2022 -->\r\n      <g transform=\"translate(22.579687 250.43625)scale(0.1 -0.1)\">\r\n       <defs>\r\n        <path d=\"M 1228 531 \r\nL 3431 531 \r\nL 3431 0 \r\nL 469 0 \r\nL 469 531 \r\nQ 828 903 1448 1529 \r\nQ 2069 2156 2228 2338 \r\nQ 2531 2678 2651 2914 \r\nQ 2772 3150 2772 3378 \r\nQ 2772 3750 2511 3984 \r\nQ 2250 4219 1831 4219 \r\nQ 1534 4219 1204 4116 \r\nQ 875 4013 500 3803 \r\nL 500 4441 \r\nQ 881 4594 1212 4672 \r\nQ 1544 4750 1819 4750 \r\nQ 2544 4750 2975 4387 \r\nQ 3406 4025 3406 3419 \r\nQ 3406 3131 3298 2873 \r\nQ 3191 2616 2906 2266 \r\nQ 2828 2175 2409 1742 \r\nQ 1991 1309 1228 531 \r\nz\r\n\" id=\"DejaVuSans-32\" transform=\"scale(0.015625)\"/>\r\n        <path d=\"M 2034 4250 \r\nQ 1547 4250 1301 3770 \r\nQ 1056 3291 1056 2328 \r\nQ 1056 1369 1301 889 \r\nQ 1547 409 2034 409 \r\nQ 2525 409 2770 889 \r\nQ 3016 1369 3016 2328 \r\nQ 3016 3291 2770 3770 \r\nQ 2525 4250 2034 4250 \r\nz\r\nM 2034 4750 \r\nQ 2819 4750 3233 4129 \r\nQ 3647 3509 3647 2328 \r\nQ 3647 1150 3233 529 \r\nQ 2819 -91 2034 -91 \r\nQ 1250 -91 836 529 \r\nQ 422 1150 422 2328 \r\nQ 422 3509 836 4129 \r\nQ 1250 4750 2034 4750 \r\nz\r\n\" id=\"DejaVuSans-30\" transform=\"scale(0.015625)\"/>\r\n       </defs>\r\n       <use xlink:href=\"#DejaVuSans-32\"/>\r\n       <use x=\"63.623047\" xlink:href=\"#DejaVuSans-30\"/>\r\n       <use x=\"127.246094\" xlink:href=\"#DejaVuSans-32\"/>\r\n       <use x=\"190.869141\" xlink:href=\"#DejaVuSans-32\"/>\r\n      </g>\r\n     </g>\r\n    </g>\r\n    <g id=\"xtick_2\">\r\n     <g id=\"line2d_2\">\r\n      <g>\r\n       <use style=\"stroke:#000000;stroke-width:0.8;\" x=\"157.629012\" xlink:href=\"#m189a3dc138\" y=\"224.64\"/>\r\n      </g>\r\n     </g>\r\n     <g id=\"text_2\">\r\n      <!-- Jan -->\r\n      <g transform=\"translate(149.921199 239.238438)scale(0.1 -0.1)\">\r\n       <use xlink:href=\"#DejaVuSans-4a\"/>\r\n       <use x=\"29.492188\" xlink:href=\"#DejaVuSans-61\"/>\r\n       <use x=\"90.771484\" xlink:href=\"#DejaVuSans-6e\"/>\r\n      </g>\r\n      <!-- 2023 -->\r\n      <g transform=\"translate(144.904012 250.43625)scale(0.1 -0.1)\">\r\n       <defs>\r\n        <path d=\"M 2597 2516 \r\nQ 3050 2419 3304 2112 \r\nQ 3559 1806 3559 1356 \r\nQ 3559 666 3084 287 \r\nQ 2609 -91 1734 -91 \r\nQ 1441 -91 1130 -33 \r\nQ 819 25 488 141 \r\nL 488 750 \r\nQ 750 597 1062 519 \r\nQ 1375 441 1716 441 \r\nQ 2309 441 2620 675 \r\nQ 2931 909 2931 1356 \r\nQ 2931 1769 2642 2001 \r\nQ 2353 2234 1838 2234 \r\nL 1294 2234 \r\nL 1294 2753 \r\nL 1863 2753 \r\nQ 2328 2753 2575 2939 \r\nQ 2822 3125 2822 3475 \r\nQ 2822 3834 2567 4026 \r\nQ 2313 4219 1838 4219 \r\nQ 1578 4219 1281 4162 \r\nQ 984 4106 628 3988 \r\nL 628 4550 \r\nQ 988 4650 1302 4700 \r\nQ 1616 4750 1894 4750 \r\nQ 2613 4750 3031 4423 \r\nQ 3450 4097 3450 3541 \r\nQ 3450 3153 3228 2886 \r\nQ 3006 2619 2597 2516 \r\nz\r\n\" id=\"DejaVuSans-33\" transform=\"scale(0.015625)\"/>\r\n       </defs>\r\n       <use xlink:href=\"#DejaVuSans-32\"/>\r\n       <use x=\"63.623047\" xlink:href=\"#DejaVuSans-30\"/>\r\n       <use x=\"127.246094\" xlink:href=\"#DejaVuSans-32\"/>\r\n       <use x=\"190.869141\" xlink:href=\"#DejaVuSans-33\"/>\r\n      </g>\r\n     </g>\r\n    </g>\r\n    <g id=\"xtick_3\">\r\n     <g id=\"line2d_3\">\r\n      <g>\r\n       <use style=\"stroke:#000000;stroke-width:0.8;\" x=\"279.953336\" xlink:href=\"#m189a3dc138\" y=\"224.64\"/>\r\n      </g>\r\n     </g>\r\n     <g id=\"text_3\">\r\n      <!-- Jan -->\r\n      <g transform=\"translate(272.245524 239.238438)scale(0.1 -0.1)\">\r\n       <use xlink:href=\"#DejaVuSans-4a\"/>\r\n       <use x=\"29.492188\" xlink:href=\"#DejaVuSans-61\"/>\r\n       <use x=\"90.771484\" xlink:href=\"#DejaVuSans-6e\"/>\r\n      </g>\r\n      <!-- 2024 -->\r\n      <g transform=\"translate(267.228336 250.43625)scale(0.1 -0.1)\">\r\n       <defs>\r\n        <path d=\"M 2419 4116 \r\nL 825 1625 \r\nL 2419 1625 \r\nL 2419 4116 \r\nz\r\nM 2253 4666 \r\nL 3047 4666 \r\nL 3047 1625 \r\nL 3713 1625 \r\nL 3713 1100 \r\nL 3047 1100 \r\nL 3047 0 \r\nL 2419 0 \r\nL 2419 1100 \r\nL 313 1100 \r\nL 313 1709 \r\nL 2253 4666 \r\nz\r\n\" id=\"DejaVuSans-34\" transform=\"scale(0.015625)\"/>\r\n       </defs>\r\n       <use xlink:href=\"#DejaVuSans-32\"/>\r\n       <use x=\"63.623047\" xlink:href=\"#DejaVuSans-30\"/>\r\n       <use x=\"127.246094\" xlink:href=\"#DejaVuSans-32\"/>\r\n       <use x=\"190.869141\" xlink:href=\"#DejaVuSans-34\"/>\r\n      </g>\r\n     </g>\r\n    </g>\r\n    <g id=\"xtick_4\">\r\n     <g id=\"line2d_4\">\r\n      <g>\r\n       <use style=\"stroke:#000000;stroke-width:0.8;\" x=\"370.104688\" xlink:href=\"#m189a3dc138\" y=\"224.64\"/>\r\n      </g>\r\n     </g>\r\n    </g>\r\n    <g id=\"xtick_5\">\r\n     <g id=\"line2d_5\">\r\n      <defs>\r\n       <path d=\"M 0 0 \r\nL 0 2 \r\n\" id=\"m6bca783153\" style=\"stroke:#000000;stroke-width:0.6;\"/>\r\n      </defs>\r\n      <g>\r\n       <use style=\"stroke:#000000;stroke-width:0.6;\" x=\"45.693877\" xlink:href=\"#m6bca783153\" y=\"224.64\"/>\r\n      </g>\r\n     </g>\r\n    </g>\r\n    <g id=\"xtick_6\">\r\n     <g id=\"line2d_6\">\r\n      <g>\r\n       <use style=\"stroke:#000000;stroke-width:0.6;\" x=\"55.07766\" xlink:href=\"#m6bca783153\" y=\"224.64\"/>\r\n      </g>\r\n     </g>\r\n    </g>\r\n    <g id=\"xtick_7\">\r\n     <g id=\"line2d_7\">\r\n      <g>\r\n       <use style=\"stroke:#000000;stroke-width:0.6;\" x=\"65.46685\" xlink:href=\"#m6bca783153\" y=\"224.64\"/>\r\n      </g>\r\n     </g>\r\n    </g>\r\n    <g id=\"xtick_8\">\r\n     <g id=\"line2d_8\">\r\n      <g>\r\n       <use style=\"stroke:#000000;stroke-width:0.6;\" x=\"75.520904\" xlink:href=\"#m6bca783153\" y=\"224.64\"/>\r\n      </g>\r\n     </g>\r\n    </g>\r\n    <g id=\"xtick_9\">\r\n     <g id=\"line2d_9\">\r\n      <g>\r\n       <use style=\"stroke:#000000;stroke-width:0.6;\" x=\"85.910093\" xlink:href=\"#m6bca783153\" y=\"224.64\"/>\r\n      </g>\r\n     </g>\r\n    </g>\r\n    <g id=\"xtick_10\">\r\n     <g id=\"line2d_10\">\r\n      <g>\r\n       <use style=\"stroke:#000000;stroke-width:0.6;\" x=\"95.964147\" xlink:href=\"#m6bca783153\" y=\"224.64\"/>\r\n      </g>\r\n     </g>\r\n     <g id=\"text_4\">\r\n      <!-- Jul -->\r\n      <g transform=\"translate(89.931334 237.638438)scale(0.1 -0.1)\">\r\n       <defs>\r\n        <path d=\"M 544 1381 \r\nL 544 3500 \r\nL 1119 3500 \r\nL 1119 1403 \r\nQ 1119 906 1312 657 \r\nQ 1506 409 1894 409 \r\nQ 2359 409 2629 706 \r\nQ 2900 1003 2900 1516 \r\nL 2900 3500 \r\nL 3475 3500 \r\nL 3475 0 \r\nL 2900 0 \r\nL 2900 538 \r\nQ 2691 219 2414 64 \r\nQ 2138 -91 1772 -91 \r\nQ 1169 -91 856 284 \r\nQ 544 659 544 1381 \r\nz\r\nM 1991 3584 \r\nL 1991 3584 \r\nz\r\n\" id=\"DejaVuSans-75\" transform=\"scale(0.015625)\"/>\r\n        <path d=\"M 603 4863 \r\nL 1178 4863 \r\nL 1178 0 \r\nL 603 0 \r\nL 603 4863 \r\nz\r\n\" id=\"DejaVuSans-6c\" transform=\"scale(0.015625)\"/>\r\n       </defs>\r\n       <use xlink:href=\"#DejaVuSans-4a\"/>\r\n       <use x=\"29.492188\" xlink:href=\"#DejaVuSans-75\"/>\r\n       <use x=\"92.871094\" xlink:href=\"#DejaVuSans-6c\"/>\r\n      </g>\r\n     </g>\r\n    </g>\r\n    <g id=\"xtick_11\">\r\n     <g id=\"line2d_11\">\r\n      <g>\r\n       <use style=\"stroke:#000000;stroke-width:0.6;\" x=\"106.353336\" xlink:href=\"#m6bca783153\" y=\"224.64\"/>\r\n      </g>\r\n     </g>\r\n    </g>\r\n    <g id=\"xtick_12\">\r\n     <g id=\"line2d_12\">\r\n      <g>\r\n       <use style=\"stroke:#000000;stroke-width:0.6;\" x=\"116.742525\" xlink:href=\"#m6bca783153\" y=\"224.64\"/>\r\n      </g>\r\n     </g>\r\n    </g>\r\n    <g id=\"xtick_13\">\r\n     <g id=\"line2d_13\">\r\n      <g>\r\n       <use style=\"stroke:#000000;stroke-width:0.6;\" x=\"126.796579\" xlink:href=\"#m6bca783153\" y=\"224.64\"/>\r\n      </g>\r\n     </g>\r\n    </g>\r\n    <g id=\"xtick_14\">\r\n     <g id=\"line2d_14\">\r\n      <g>\r\n       <use style=\"stroke:#000000;stroke-width:0.6;\" x=\"137.185769\" xlink:href=\"#m6bca783153\" y=\"224.64\"/>\r\n      </g>\r\n     </g>\r\n    </g>\r\n    <g id=\"xtick_15\">\r\n     <g id=\"line2d_15\">\r\n      <g>\r\n       <use style=\"stroke:#000000;stroke-width:0.6;\" x=\"147.239823\" xlink:href=\"#m6bca783153\" y=\"224.64\"/>\r\n      </g>\r\n     </g>\r\n    </g>\r\n    <g id=\"xtick_16\">\r\n     <g id=\"line2d_16\">\r\n      <g>\r\n       <use style=\"stroke:#000000;stroke-width:0.6;\" x=\"168.018201\" xlink:href=\"#m6bca783153\" y=\"224.64\"/>\r\n      </g>\r\n     </g>\r\n    </g>\r\n    <g id=\"xtick_17\">\r\n     <g id=\"line2d_17\">\r\n      <g>\r\n       <use style=\"stroke:#000000;stroke-width:0.6;\" x=\"177.401985\" xlink:href=\"#m6bca783153\" y=\"224.64\"/>\r\n      </g>\r\n     </g>\r\n    </g>\r\n    <g id=\"xtick_18\">\r\n     <g id=\"line2d_18\">\r\n      <g>\r\n       <use style=\"stroke:#000000;stroke-width:0.6;\" x=\"187.791174\" xlink:href=\"#m6bca783153\" y=\"224.64\"/>\r\n      </g>\r\n     </g>\r\n    </g>\r\n    <g id=\"xtick_19\">\r\n     <g id=\"line2d_19\">\r\n      <g>\r\n       <use style=\"stroke:#000000;stroke-width:0.6;\" x=\"197.845228\" xlink:href=\"#m6bca783153\" y=\"224.64\"/>\r\n      </g>\r\n     </g>\r\n    </g>\r\n    <g id=\"xtick_20\">\r\n     <g id=\"line2d_20\">\r\n      <g>\r\n       <use style=\"stroke:#000000;stroke-width:0.6;\" x=\"208.234417\" xlink:href=\"#m6bca783153\" y=\"224.64\"/>\r\n      </g>\r\n     </g>\r\n    </g>\r\n    <g id=\"xtick_21\">\r\n     <g id=\"line2d_21\">\r\n      <g>\r\n       <use style=\"stroke:#000000;stroke-width:0.6;\" x=\"218.288471\" xlink:href=\"#m6bca783153\" y=\"224.64\"/>\r\n      </g>\r\n     </g>\r\n     <g id=\"text_5\">\r\n      <!-- Jul -->\r\n      <g transform=\"translate(212.255659 237.638438)scale(0.1 -0.1)\">\r\n       <use xlink:href=\"#DejaVuSans-4a\"/>\r\n       <use x=\"29.492188\" xlink:href=\"#DejaVuSans-75\"/>\r\n       <use x=\"92.871094\" xlink:href=\"#DejaVuSans-6c\"/>\r\n      </g>\r\n     </g>\r\n    </g>\r\n    <g id=\"xtick_22\">\r\n     <g id=\"line2d_22\">\r\n      <g>\r\n       <use style=\"stroke:#000000;stroke-width:0.6;\" x=\"228.67766\" xlink:href=\"#m6bca783153\" y=\"224.64\"/>\r\n      </g>\r\n     </g>\r\n    </g>\r\n    <g id=\"xtick_23\">\r\n     <g id=\"line2d_23\">\r\n      <g>\r\n       <use style=\"stroke:#000000;stroke-width:0.6;\" x=\"239.06685\" xlink:href=\"#m6bca783153\" y=\"224.64\"/>\r\n      </g>\r\n     </g>\r\n    </g>\r\n    <g id=\"xtick_24\">\r\n     <g id=\"line2d_24\">\r\n      <g>\r\n       <use style=\"stroke:#000000;stroke-width:0.6;\" x=\"249.120904\" xlink:href=\"#m6bca783153\" y=\"224.64\"/>\r\n      </g>\r\n     </g>\r\n    </g>\r\n    <g id=\"xtick_25\">\r\n     <g id=\"line2d_25\">\r\n      <g>\r\n       <use style=\"stroke:#000000;stroke-width:0.6;\" x=\"259.510093\" xlink:href=\"#m6bca783153\" y=\"224.64\"/>\r\n      </g>\r\n     </g>\r\n    </g>\r\n    <g id=\"xtick_26\">\r\n     <g id=\"line2d_26\">\r\n      <g>\r\n       <use style=\"stroke:#000000;stroke-width:0.6;\" x=\"269.564147\" xlink:href=\"#m6bca783153\" y=\"224.64\"/>\r\n      </g>\r\n     </g>\r\n    </g>\r\n    <g id=\"xtick_27\">\r\n     <g id=\"line2d_27\">\r\n      <g>\r\n       <use style=\"stroke:#000000;stroke-width:0.6;\" x=\"290.342525\" xlink:href=\"#m6bca783153\" y=\"224.64\"/>\r\n      </g>\r\n     </g>\r\n    </g>\r\n    <g id=\"xtick_28\">\r\n     <g id=\"line2d_28\">\r\n      <g>\r\n       <use style=\"stroke:#000000;stroke-width:0.6;\" x=\"300.061444\" xlink:href=\"#m6bca783153\" y=\"224.64\"/>\r\n      </g>\r\n     </g>\r\n    </g>\r\n    <g id=\"xtick_29\">\r\n     <g id=\"line2d_29\">\r\n      <g>\r\n       <use style=\"stroke:#000000;stroke-width:0.6;\" x=\"310.450633\" xlink:href=\"#m6bca783153\" y=\"224.64\"/>\r\n      </g>\r\n     </g>\r\n    </g>\r\n    <g id=\"xtick_30\">\r\n     <g id=\"line2d_30\">\r\n      <g>\r\n       <use style=\"stroke:#000000;stroke-width:0.6;\" x=\"320.504687\" xlink:href=\"#m6bca783153\" y=\"224.64\"/>\r\n      </g>\r\n     </g>\r\n    </g>\r\n    <g id=\"xtick_31\">\r\n     <g id=\"line2d_31\">\r\n      <g>\r\n       <use style=\"stroke:#000000;stroke-width:0.6;\" x=\"330.893877\" xlink:href=\"#m6bca783153\" y=\"224.64\"/>\r\n      </g>\r\n     </g>\r\n    </g>\r\n    <g id=\"xtick_32\">\r\n     <g id=\"line2d_32\">\r\n      <g>\r\n       <use style=\"stroke:#000000;stroke-width:0.6;\" x=\"340.947931\" xlink:href=\"#m6bca783153\" y=\"224.64\"/>\r\n      </g>\r\n     </g>\r\n     <g id=\"text_6\">\r\n      <!-- Jul -->\r\n      <g transform=\"translate(334.915118 237.638438)scale(0.1 -0.1)\">\r\n       <use xlink:href=\"#DejaVuSans-4a\"/>\r\n       <use x=\"29.492188\" xlink:href=\"#DejaVuSans-75\"/>\r\n       <use x=\"92.871094\" xlink:href=\"#DejaVuSans-6c\"/>\r\n      </g>\r\n     </g>\r\n    </g>\r\n    <g id=\"xtick_33\">\r\n     <g id=\"line2d_33\">\r\n      <g>\r\n       <use style=\"stroke:#000000;stroke-width:0.6;\" x=\"351.33712\" xlink:href=\"#m6bca783153\" y=\"224.64\"/>\r\n      </g>\r\n     </g>\r\n    </g>\r\n    <g id=\"xtick_34\">\r\n     <g id=\"line2d_34\">\r\n      <g>\r\n       <use style=\"stroke:#000000;stroke-width:0.6;\" x=\"361.726309\" xlink:href=\"#m6bca783153\" y=\"224.64\"/>\r\n      </g>\r\n     </g>\r\n    </g>\r\n   </g>\r\n   <g id=\"matplotlib.axis_2\">\r\n    <g id=\"ytick_1\">\r\n     <g id=\"line2d_35\">\r\n      <defs>\r\n       <path d=\"M 0 0 \r\nL -3.5 0 \r\n\" id=\"m534e15eb61\" style=\"stroke:#000000;stroke-width:0.8;\"/>\r\n      </defs>\r\n      <g>\r\n       <use style=\"stroke:#000000;stroke-width:0.8;\" x=\"35.304688\" xlink:href=\"#m534e15eb61\" y=\"213.960411\"/>\r\n      </g>\r\n     </g>\r\n     <g id=\"text_7\">\r\n      <!-- −50 -->\r\n      <g transform=\"translate(7.2 217.75963)scale(0.1 -0.1)\">\r\n       <defs>\r\n        <path d=\"M 678 2272 \r\nL 4684 2272 \r\nL 4684 1741 \r\nL 678 1741 \r\nL 678 2272 \r\nz\r\n\" id=\"DejaVuSans-2212\" transform=\"scale(0.015625)\"/>\r\n        <path d=\"M 691 4666 \r\nL 3169 4666 \r\nL 3169 4134 \r\nL 1269 4134 \r\nL 1269 2991 \r\nQ 1406 3038 1543 3061 \r\nQ 1681 3084 1819 3084 \r\nQ 2600 3084 3056 2656 \r\nQ 3513 2228 3513 1497 \r\nQ 3513 744 3044 326 \r\nQ 2575 -91 1722 -91 \r\nQ 1428 -91 1123 -41 \r\nQ 819 9 494 109 \r\nL 494 744 \r\nQ 775 591 1075 516 \r\nQ 1375 441 1709 441 \r\nQ 2250 441 2565 725 \r\nQ 2881 1009 2881 1497 \r\nQ 2881 1984 2565 2268 \r\nQ 2250 2553 1709 2553 \r\nQ 1456 2553 1204 2497 \r\nQ 953 2441 691 2322 \r\nL 691 4666 \r\nz\r\n\" id=\"DejaVuSans-35\" transform=\"scale(0.015625)\"/>\r\n       </defs>\r\n       <use xlink:href=\"#DejaVuSans-2212\"/>\r\n       <use x=\"83.789062\" xlink:href=\"#DejaVuSans-35\"/>\r\n       <use x=\"147.412109\" xlink:href=\"#DejaVuSans-30\"/>\r\n      </g>\r\n     </g>\r\n    </g>\r\n    <g id=\"ytick_2\">\r\n     <g id=\"line2d_36\">\r\n      <g>\r\n       <use style=\"stroke:#000000;stroke-width:0.8;\" x=\"35.304688\" xlink:href=\"#m534e15eb61\" y=\"175.499742\"/>\r\n      </g>\r\n     </g>\r\n     <g id=\"text_8\">\r\n      <!-- −40 -->\r\n      <g transform=\"translate(7.2 179.298961)scale(0.1 -0.1)\">\r\n       <use xlink:href=\"#DejaVuSans-2212\"/>\r\n       <use x=\"83.789062\" xlink:href=\"#DejaVuSans-34\"/>\r\n       <use x=\"147.412109\" xlink:href=\"#DejaVuSans-30\"/>\r\n      </g>\r\n     </g>\r\n    </g>\r\n    <g id=\"ytick_3\">\r\n     <g id=\"line2d_37\">\r\n      <g>\r\n       <use style=\"stroke:#000000;stroke-width:0.8;\" x=\"35.304688\" xlink:href=\"#m534e15eb61\" y=\"137.039073\"/>\r\n      </g>\r\n     </g>\r\n     <g id=\"text_9\">\r\n      <!-- −30 -->\r\n      <g transform=\"translate(7.2 140.838292)scale(0.1 -0.1)\">\r\n       <use xlink:href=\"#DejaVuSans-2212\"/>\r\n       <use x=\"83.789062\" xlink:href=\"#DejaVuSans-33\"/>\r\n       <use x=\"147.412109\" xlink:href=\"#DejaVuSans-30\"/>\r\n      </g>\r\n     </g>\r\n    </g>\r\n    <g id=\"ytick_4\">\r\n     <g id=\"line2d_38\">\r\n      <g>\r\n       <use style=\"stroke:#000000;stroke-width:0.8;\" x=\"35.304688\" xlink:href=\"#m534e15eb61\" y=\"98.578404\"/>\r\n      </g>\r\n     </g>\r\n     <g id=\"text_10\">\r\n      <!-- −20 -->\r\n      <g transform=\"translate(7.2 102.377622)scale(0.1 -0.1)\">\r\n       <use xlink:href=\"#DejaVuSans-2212\"/>\r\n       <use x=\"83.789062\" xlink:href=\"#DejaVuSans-32\"/>\r\n       <use x=\"147.412109\" xlink:href=\"#DejaVuSans-30\"/>\r\n      </g>\r\n     </g>\r\n    </g>\r\n    <g id=\"ytick_5\">\r\n     <g id=\"line2d_39\">\r\n      <g>\r\n       <use style=\"stroke:#000000;stroke-width:0.8;\" x=\"35.304688\" xlink:href=\"#m534e15eb61\" y=\"60.117735\"/>\r\n      </g>\r\n     </g>\r\n     <g id=\"text_11\">\r\n      <!-- −10 -->\r\n      <g transform=\"translate(7.2 63.916953)scale(0.1 -0.1)\">\r\n       <defs>\r\n        <path d=\"M 794 531 \r\nL 1825 531 \r\nL 1825 4091 \r\nL 703 3866 \r\nL 703 4441 \r\nL 1819 4666 \r\nL 2450 4666 \r\nL 2450 531 \r\nL 3481 531 \r\nL 3481 0 \r\nL 794 0 \r\nL 794 531 \r\nz\r\n\" id=\"DejaVuSans-31\" transform=\"scale(0.015625)\"/>\r\n       </defs>\r\n       <use xlink:href=\"#DejaVuSans-2212\"/>\r\n       <use x=\"83.789062\" xlink:href=\"#DejaVuSans-31\"/>\r\n       <use x=\"147.412109\" xlink:href=\"#DejaVuSans-30\"/>\r\n      </g>\r\n     </g>\r\n    </g>\r\n    <g id=\"ytick_6\">\r\n     <g id=\"line2d_40\">\r\n      <g>\r\n       <use style=\"stroke:#000000;stroke-width:0.8;\" x=\"35.304688\" xlink:href=\"#m534e15eb61\" y=\"21.657065\"/>\r\n      </g>\r\n     </g>\r\n     <g id=\"text_12\">\r\n      <!-- 0 -->\r\n      <g transform=\"translate(21.942188 25.456284)scale(0.1 -0.1)\">\r\n       <use xlink:href=\"#DejaVuSans-30\"/>\r\n      </g>\r\n     </g>\r\n    </g>\r\n   </g>\r\n   <g id=\"line2d_41\">\r\n    <path clip-path=\"url(#p0eed13628a)\" d=\"M 35.304688 22.937231 \r\nL 35.639823 17.083636 \r\nL 35.974958 18.196304 \r\nL 36.310093 17.929584 \r\nL 36.645228 26.421051 \r\nL 36.980363 26.737347 \r\nL 37.315498 32.683805 \r\nL 37.650633 29.830442 \r\nL 38.991174 45.263904 \r\nL 39.326309 39.008526 \r\nL 39.661444 41.688611 \r\nL 39.996579 42.422247 \r\nL 40.331715 42.171549 \r\nL 40.66685 39.791284 \r\nL 41.33712 40.936595 \r\nL 41.672255 43.976235 \r\nL 42.00739 41.983807 \r\nL 42.342525 45.181349 \r\nL 42.67766 45.313855 \r\nL 43.012796 45.319252 \r\nL 43.347931 48.236698 \r\nL 43.683066 43.118748 \r\nL 44.018201 44.879296 \r\nL 44.353336 43.362064 \r\nL 44.688471 43.39849 \r\nL 45.023606 40.46441 \r\nL 45.358742 40.750747 \r\nL 45.693877 44.408244 \r\nL 46.029012 44.217724 \r\nL 46.364147 38.158442 \r\nL 46.699282 46.756485 \r\nL 47.034417 47.053534 \r\nL 47.369552 47.000347 \r\nL 48.039823 55.114328 \r\nL 48.374958 53.397408 \r\nL 48.710093 56.649853 \r\nL 49.045228 56.383951 \r\nL 49.380363 61.34314 \r\nL 49.715498 63.299645 \r\nL 50.050633 63.416949 \r\nL 50.385769 59.029386 \r\nL 50.720904 62.51784 \r\nL 51.726309 68.717991 \r\nL 52.061444 72.55935 \r\nL 52.396579 67.540329 \r\nL 52.731715 66.070607 \r\nL 53.06685 68.163778 \r\nL 53.401985 67.576099 \r\nL 53.73712 67.93136 \r\nL 54.072255 65.462406 \r\nL 54.40739 65.998842 \r\nL 54.742525 58.112463 \r\nL 55.412796 63.606086 \r\nL 55.747931 63.262303 \r\nL 56.083066 60.743564 \r\nL 56.418201 53.489503 \r\nL 56.753336 53.599276 \r\nL 57.088471 54.017269 \r\nL 57.423606 58.902809 \r\nL 58.093877 63.880432 \r\nL 58.764147 69.835728 \r\nL 59.099282 67.337551 \r\nL 59.434417 66.076942 \r\nL 59.769552 63.046013 \r\nL 60.104688 54.442713 \r\nL 60.439823 56.126214 \r\nL 60.774958 49.052605 \r\nL 61.445228 53.447669 \r\nL 61.780363 50.739747 \r\nL 62.115498 49.473312 \r\nL 62.450633 53.087432 \r\nL 62.785769 51.533489 \r\nL 63.120904 52.711068 \r\nL 63.456039 52.001656 \r\nL 63.791174 56.269117 \r\nL 64.126309 56.97286 \r\nL 64.461444 60.203278 \r\nL 64.796579 57.850205 \r\nL 65.131715 58.340472 \r\nL 65.46685 57.06899 \r\nL 65.801985 60.384377 \r\nL 66.13712 61.080308 \r\nL 66.472255 62.358353 \r\nL 67.142525 57.747759 \r\nL 67.47766 58.906964 \r\nL 67.812796 52.667035 \r\nL 68.483066 48.039077 \r\nL 68.818201 47.457809 \r\nL 69.153336 52.272968 \r\nL 69.488471 48.94896 \r\nL 69.823606 49.905289 \r\nL 70.158742 42.845389 \r\nL 70.493877 43.560621 \r\nL 70.829012 47.297227 \r\nL 71.164147 47.011816 \r\nL 71.499282 45.888583 \r\nL 71.834417 49.118064 \r\nL 72.169552 48.017338 \r\nL 72.504687 50.64887 \r\nL 72.839823 51.99713 \r\nL 73.174958 51.891309 \r\nL 73.510093 50.414579 \r\nL 73.845228 54.704401 \r\nL 74.180363 56.809356 \r\nL 74.515498 57.296207 \r\nL 74.850633 53.851793 \r\nL 75.185769 56.07217 \r\nL 75.520904 52.1664 \r\nL 75.856039 53.382727 \r\nL 76.526309 60.764059 \r\nL 76.861444 59.404606 \r\nL 77.196579 59.35294 \r\nL 77.531715 62.056444 \r\nL 77.86685 62.521726 \r\nL 78.201985 55.001906 \r\nL 78.53712 55.230742 \r\nL 78.872255 51.06677 \r\nL 79.20739 51.165144 \r\nL 79.542525 49.61501 \r\nL 79.87766 48.698477 \r\nL 80.212796 44.42613 \r\nL 80.547931 43.922753 \r\nL 80.883066 48.349265 \r\nL 81.218201 56.997903 \r\nL 81.553336 61.115249 \r\nL 82.223606 73.491847 \r\nL 82.558742 69.023457 \r\nL 82.893877 66.759129 \r\nL 83.229012 68.524292 \r\nL 83.564147 69.278108 \r\nL 83.899282 71.906861 \r\nL 84.569552 62.729402 \r\nL 84.904688 62.576884 \r\nL 85.239823 62.070605 \r\nL 86.245228 54.679373 \r\nL 86.580363 58.987646 \r\nL 86.915498 55.298285 \r\nL 87.250633 55.569276 \r\nL 87.585769 57.917838 \r\nL 87.920904 64.903253 \r\nL 88.256039 64.789513 \r\nL 88.591174 60.398575 \r\nL 88.926309 60.296254 \r\nL 89.261444 63.851511 \r\nL 89.596579 63.212309 \r\nL 89.931715 59.881472 \r\nL 90.26685 55.185805 \r\nL 90.601985 59.811038 \r\nL 90.93712 58.783735 \r\nL 91.272255 59.193563 \r\nL 91.60739 56.553832 \r\nL 91.942525 59.2404 \r\nL 92.612796 56.191608 \r\nL 92.947931 57.033441 \r\nL 93.283066 59.603909 \r\nL 93.618201 64.922211 \r\nL 93.953336 62.441015 \r\nL 94.288471 62.303191 \r\nL 94.623606 62.661568 \r\nL 94.958742 59.478017 \r\nL 95.293877 60.592874 \r\nL 95.629012 66.878451 \r\nL 95.964147 69.124808 \r\nL 96.299282 70.207778 \r\nL 96.634417 67.393794 \r\nL 96.969552 68.275935 \r\nL 97.304688 70.70558 \r\nL 97.639823 69.200646 \r\nL 97.974958 70.029585 \r\nL 98.310093 71.517985 \r\nL 98.645228 67.845288 \r\nL 98.980363 68.785221 \r\nL 99.315498 65.760282 \r\nL 99.650633 65.962994 \r\nL 99.985769 65.759777 \r\nL 100.320904 70.542824 \r\nL 100.656039 71.468874 \r\nL 101.326309 84.051694 \r\nL 101.661444 75.073548 \r\nL 101.996579 71.486814 \r\nL 102.331715 70.086686 \r\nL 102.66685 63.220612 \r\nL 103.001985 61.263662 \r\nL 103.33712 60.516521 \r\nL 104.342525 74.064371 \r\nL 104.67766 73.130406 \r\nL 105.012796 75.77505 \r\nL 105.347931 71.522616 \r\nL 105.683066 76.934474 \r\nL 106.018201 77.865458 \r\nL 106.353336 75.073146 \r\nL 107.023606 83.358786 \r\nL 107.358742 84.568051 \r\nL 108.364147 94.124625 \r\nL 108.699282 94.865509 \r\nL 109.034417 99.117749 \r\nL 109.369552 96.563431 \r\nL 109.704687 98.010958 \r\nL 110.039823 100.804966 \r\nL 110.374958 99.823639 \r\nL 110.710093 95.532064 \r\nL 111.045228 94.903945 \r\nL 111.380363 95.474603 \r\nL 111.715498 97.092546 \r\nL 112.050633 96.442083 \r\nL 112.385769 96.753141 \r\nL 112.720904 95.120541 \r\nL 113.056039 95.925807 \r\nL 113.391174 95.128556 \r\nL 113.726309 99.737421 \r\nL 114.061444 100.47014 \r\nL 114.396579 102.906499 \r\nL 114.731715 100.018653 \r\nL 115.06685 95.389847 \r\nL 115.401985 94.454489 \r\nL 116.072255 79.085054 \r\nL 116.742525 90.537935 \r\nL 117.07766 92.115727 \r\nL 117.412796 96.42337 \r\nL 117.747931 97.699903 \r\nL 118.083066 95.652553 \r\nL 118.418201 99.975019 \r\nL 119.088471 92.213617 \r\nL 119.423606 92.760388 \r\nL 119.758742 96.816337 \r\nL 120.429012 88.432433 \r\nL 120.764147 89.245828 \r\nL 121.099282 97.480123 \r\nL 121.769552 93.006344 \r\nL 122.104688 94.010908 \r\nL 122.439823 94.367681 \r\nL 122.774958 94.915203 \r\nL 123.110093 94.161147 \r\nL 123.780363 100.641517 \r\nL 124.115498 92.980624 \r\nL 124.450633 97.406424 \r\nL 124.785769 98.151221 \r\nL 125.120904 101.817472 \r\nL 125.791174 89.031207 \r\nL 126.126309 93.399297 \r\nL 126.461444 88.389516 \r\nL 126.796579 86.015049 \r\nL 127.131715 85.165806 \r\nL 127.801985 75.09687 \r\nL 128.13712 82.616163 \r\nL 128.472255 85.022438 \r\nL 128.80739 80.625944 \r\nL 129.142525 80.231312 \r\nL 129.47766 85.148951 \r\nL 129.812796 87.167433 \r\nL 130.147931 84.185221 \r\nL 130.483066 85.267177 \r\nL 130.818201 92.272995 \r\nL 131.488471 84.675389 \r\nL 131.823606 87.734098 \r\nL 132.158742 83.423501 \r\nL 132.493877 84.443132 \r\nL 132.829012 83.250183 \r\nL 133.164147 83.499656 \r\nL 133.499282 84.689835 \r\nL 133.834417 85.342926 \r\nL 134.169552 93.496131 \r\nL 134.504687 94.259407 \r\nL 134.839823 101.781284 \r\nL 135.174958 104.525067 \r\nL 135.510093 110.707055 \r\nL 135.845228 108.949695 \r\nL 136.180363 113.419684 \r\nL 136.515498 106.615218 \r\nL 136.850633 106.829855 \r\nL 137.185769 110.939527 \r\nL 137.520904 110.264112 \r\nL 137.856039 115.205804 \r\nL 138.191174 110.926391 \r\nL 138.526309 110.935595 \r\nL 138.861444 110.398216 \r\nL 139.196579 110.786093 \r\nL 139.531715 110.815448 \r\nL 139.86685 111.547524 \r\nL 140.201985 114.692703 \r\nL 140.53712 112.581988 \r\nL 140.872255 109.127886 \r\nL 141.20739 108.322377 \r\nL 141.542525 112.714647 \r\nL 141.87766 113.204511 \r\nL 142.212796 116.942021 \r\nL 142.547931 117.361711 \r\nL 143.553336 110.754823 \r\nL 143.888471 116.742836 \r\nL 144.223606 119.053867 \r\nL 144.558742 122.397719 \r\nL 144.893877 116.54477 \r\nL 145.229012 107.474588 \r\nL 145.564147 111.05819 \r\nL 145.899282 110.082114 \r\nL 146.234417 101.160952 \r\nL 146.569552 99.211497 \r\nL 146.904688 102.506316 \r\nL 147.239823 103.898076 \r\nL 147.574958 107.291398 \r\nL 147.910093 104.54445 \r\nL 148.245228 104.270751 \r\nL 148.580363 102.258497 \r\nL 148.915498 102.407821 \r\nL 149.250633 101.703316 \r\nL 149.585769 101.699932 \r\nL 149.920904 102.520908 \r\nL 150.256039 107.893344 \r\nL 150.591174 104.655623 \r\nL 150.926309 103.247659 \r\nL 151.261444 107.998757 \r\nL 151.596579 114.667272 \r\nL 151.931715 108.629568 \r\nL 152.26685 113.940057 \r\nL 152.601985 113.581779 \r\nL 152.93712 115.623218 \r\nL 153.272255 118.675495 \r\nL 153.942525 115.550295 \r\nL 154.27766 109.244959 \r\nL 154.612796 111.423452 \r\nL 154.947931 106.337834 \r\nL 155.283066 105.004558 \r\nL 155.618201 112.694381 \r\nL 155.953336 108.659793 \r\nL 156.288471 110.54345 \r\nL 156.623606 109.638727 \r\nL 156.958742 105.132886 \r\nL 157.293877 107.423093 \r\nL 157.629012 115.718153 \r\nL 157.964147 114.874184 \r\nL 158.299282 116.492833 \r\nL 158.634417 118.876176 \r\nL 158.969552 123.2179 \r\nL 159.304688 118.524309 \r\nL 159.974958 122.507738 \r\nL 160.310093 130.242659 \r\nL 160.645228 128.580955 \r\nL 160.980363 128.083772 \r\nL 161.315498 126.229841 \r\nL 161.650633 122.557426 \r\nL 161.985769 121.447035 \r\nL 162.320904 124.354893 \r\nL 162.656039 118.899311 \r\nL 162.991174 116.887299 \r\nL 163.326309 115.828779 \r\nL 163.661444 117.965894 \r\nL 163.996579 118.622403 \r\nL 164.331715 112.435767 \r\nL 165.33712 111.869293 \r\nL 165.672255 115.494852 \r\nL 166.342525 109.218297 \r\nL 166.67766 109.066213 \r\nL 167.012796 110.188589 \r\nL 167.347931 104.587445 \r\nL 167.683066 107.615983 \r\nL 168.018201 108.129632 \r\nL 168.353336 115.912629 \r\nL 169.023606 121.12799 \r\nL 169.358742 119.141358 \r\nL 169.693877 120.149507 \r\nL 170.029012 122.847484 \r\nL 170.364147 126.894132 \r\nL 171.034417 127.686434 \r\nL 171.369552 136.264092 \r\nL 171.704687 134.072836 \r\nL 172.374958 123.437852 \r\nL 172.710093 126.246816 \r\nL 173.045228 125.558454 \r\nL 173.380363 128.972632 \r\nL 174.050633 138.82279 \r\nL 174.385769 141.723484 \r\nL 174.720904 140.177763 \r\nL 175.056039 135.271536 \r\nL 175.726309 143.142897 \r\nL 176.061444 138.81812 \r\nL 176.396579 138.25034 \r\nL 177.06685 140.982103 \r\nL 177.401985 138.670991 \r\nL 177.73712 137.992277 \r\nL 178.072255 139.343484 \r\nL 178.742525 127.214787 \r\nL 179.07766 124.204447 \r\nL 179.412796 125.19023 \r\nL 180.083066 141.618696 \r\nL 180.418201 140.786214 \r\nL 180.753336 138.519886 \r\nL 181.088471 145.901032 \r\nL 181.423606 144.543644 \r\nL 181.758742 145.607312 \r\nL 182.093877 145.157058 \r\nL 182.429012 150.78547 \r\nL 182.764147 152.468987 \r\nL 183.099282 150.004031 \r\nL 183.434417 141.816485 \r\nL 184.439823 130.564556 \r\nL 184.774958 133.591324 \r\nL 185.110093 138.186795 \r\nL 185.445228 139.817567 \r\nL 186.115498 133.708401 \r\nL 186.450633 136.973316 \r\nL 186.785769 137.133394 \r\nL 187.120904 132.326188 \r\nL 187.456039 129.853921 \r\nL 187.791174 129.671657 \r\nL 188.126309 132.696909 \r\nL 188.461444 134.162255 \r\nL 188.796579 132.442648 \r\nL 189.131715 133.226849 \r\nL 189.46685 129.204468 \r\nL 189.801985 129.410073 \r\nL 190.13712 133.347868 \r\nL 190.472255 126.970582 \r\nL 191.142525 136.571365 \r\nL 191.47766 140.630398 \r\nL 191.812796 140.491592 \r\nL 192.147931 138.357909 \r\nL 192.818201 141.419772 \r\nL 193.153336 141.940553 \r\nL 193.488471 143.97352 \r\nL 193.823606 146.796821 \r\nL 194.158742 141.787394 \r\nL 194.493877 140.742662 \r\nL 195.499282 157.24039 \r\nL 195.834417 155.198516 \r\nL 196.169552 157.776751 \r\nL 196.504687 157.85363 \r\nL 196.839823 160.683498 \r\nL 197.174958 164.911478 \r\nL 197.510093 164.869788 \r\nL 197.845228 169.192801 \r\nL 198.180363 163.83177 \r\nL 198.515498 168.88144 \r\nL 198.850633 168.878578 \r\nL 199.185769 173.946919 \r\nL 199.520904 172.952956 \r\nL 199.856039 171.550149 \r\nL 200.191174 172.381445 \r\nL 200.526309 166.55643 \r\nL 200.861444 169.878012 \r\nL 201.196579 162.596372 \r\nL 201.531715 159.83036 \r\nL 201.86685 163.650372 \r\nL 202.53712 169.022595 \r\nL 202.872255 176.077185 \r\nL 203.542525 166.532999 \r\nL 203.87766 164.888037 \r\nL 204.212796 164.910982 \r\nL 204.547931 167.005832 \r\nL 204.883066 158.447206 \r\nL 205.218201 157.038354 \r\nL 205.888471 165.021868 \r\nL 206.223606 163.173189 \r\nL 206.558742 162.98591 \r\nL 206.893877 163.534386 \r\nL 207.564147 179.002627 \r\nL 207.899282 175.600785 \r\nL 208.234417 166.413681 \r\nL 208.569552 161.35745 \r\nL 208.904688 160.922671 \r\nL 209.239823 168.632417 \r\nL 209.574958 166.268043 \r\nL 209.910093 168.6371 \r\nL 210.245228 165.38726 \r\nL 210.580363 166.505875 \r\nL 210.915498 163.668642 \r\nL 211.585769 176.807782 \r\nL 212.256039 167.993972 \r\nL 212.591174 175.189758 \r\nL 213.261444 175.354961 \r\nL 213.596579 169.104239 \r\nL 213.931715 171.127556 \r\nL 214.26685 167.566207 \r\nL 214.601985 170.393715 \r\nL 214.93712 171.666122 \r\nL 215.272255 173.663369 \r\nL 215.60739 165.261033 \r\nL 215.942525 163.606428 \r\nL 216.27766 158.544196 \r\nL 216.612796 158.881366 \r\nL 216.947931 164.743332 \r\nL 217.283066 166.618137 \r\nL 217.618201 174.860378 \r\nL 217.953336 174.885393 \r\nL 218.288471 170.36037 \r\nL 218.623606 170.227296 \r\nL 218.958742 171.42626 \r\nL 219.293877 169.625387 \r\nL 219.629012 164.292451 \r\nL 219.964147 167.838248 \r\nL 220.299282 174.298519 \r\nL 220.634417 176.937368 \r\nL 220.969552 185.573087 \r\nL 221.304688 181.478007 \r\nL 221.639823 186.318373 \r\nL 221.974958 187.676108 \r\nL 222.310093 188.043843 \r\nL 222.645228 191.231517 \r\nL 222.980363 186.38618 \r\nL 223.315498 190.742547 \r\nL 223.985769 193.125656 \r\nL 224.656039 185.534445 \r\nL 224.991174 183.94147 \r\nL 225.661444 186.058809 \r\nL 226.331715 187.414246 \r\nL 226.66685 187.266981 \r\nL 227.001985 184.796714 \r\nL 227.33712 185.731575 \r\nL 227.672255 188.698153 \r\nL 228.00739 190.190988 \r\nL 228.342525 195.697681 \r\nL 228.67766 195.598791 \r\nL 229.012796 194.530462 \r\nL 229.347931 196.26427 \r\nL 229.683066 195.733238 \r\nL 230.018201 186.188143 \r\nL 230.353336 184.950378 \r\nL 230.688471 186.840703 \r\nL 231.023606 194.52915 \r\nL 231.358742 194.505328 \r\nL 231.693877 196.011503 \r\nL 232.029012 189.580913 \r\nL 232.364147 188.025157 \r\nL 232.699282 188.117967 \r\nL 233.034417 193.701594 \r\nL 233.369552 195.276028 \r\nL 233.704687 193.449132 \r\nL 234.039823 196.920693 \r\nL 234.374958 194.169129 \r\nL 234.710093 196.330556 \r\nL 235.045228 197.09882 \r\nL 235.380363 193.343897 \r\nL 235.715498 187.981415 \r\nL 236.050633 186.31237 \r\nL 236.385769 187.389826 \r\nL 236.720904 190.038007 \r\nL 237.056039 189.849005 \r\nL 237.391174 188.453781 \r\nL 237.726309 181.460762 \r\nL 238.061444 186.64824 \r\nL 238.396579 188.677845 \r\nL 239.06685 180.008097 \r\nL 239.401985 171.680662 \r\nL 239.73712 168.858386 \r\nL 240.072255 175.230472 \r\nL 240.40739 166.223584 \r\nL 240.742525 172.520327 \r\nL 241.07766 176.544088 \r\nL 241.412796 174.413119 \r\nL 241.747931 170.540073 \r\nL 242.083066 174.964273 \r\nL 242.418201 175.298911 \r\nL 243.088471 169.917127 \r\nL 243.423606 169.111959 \r\nL 243.758742 170.282878 \r\nL 244.429012 171.292955 \r\nL 244.764147 165.52886 \r\nL 245.099282 163.522933 \r\nL 245.434417 168.284739 \r\nL 245.769552 166.033578 \r\nL 246.104688 166.160532 \r\nL 246.774958 154.054529 \r\nL 247.110093 157.695524 \r\nL 247.445228 157.354881 \r\nL 247.780363 154.127505 \r\nL 248.115498 155.1839 \r\nL 248.450633 160.050405 \r\nL 248.785769 160.494635 \r\nL 250.126309 181.441488 \r\nL 250.796579 178.126023 \r\nL 251.131715 179.04763 \r\nL 251.46685 171.768587 \r\nL 251.801985 175.075957 \r\nL 252.13712 171.054893 \r\nL 252.472255 165.560537 \r\nL 252.80739 157.962071 \r\nL 253.142525 157.872426 \r\nL 253.47766 160.869861 \r\nL 253.812796 158.001226 \r\nL 254.483066 154.531426 \r\nL 254.818201 156.745488 \r\nL 255.153336 154.646404 \r\nL 255.488471 159.774029 \r\nL 255.823606 162.028656 \r\nL 256.158742 162.562007 \r\nL 256.493877 161.322193 \r\nL 256.829012 164.456945 \r\nL 257.164147 165.119198 \r\nL 257.499282 165.074003 \r\nL 257.834417 161.801003 \r\nL 258.169552 162.008214 \r\nL 258.504687 168.284953 \r\nL 258.839823 164.612708 \r\nL 259.174958 159.290739 \r\nL 259.510093 156.762566 \r\nL 259.845228 152.365437 \r\nL 260.180363 153.738314 \r\nL 260.515498 152.287798 \r\nL 260.850633 152.685985 \r\nL 261.185769 149.490449 \r\nL 261.520904 147.361854 \r\nL 261.856039 143.999478 \r\nL 262.191174 142.324114 \r\nL 262.526309 142.701675 \r\nL 262.861444 142.730229 \r\nL 263.196579 142.044415 \r\nL 263.86685 151.02205 \r\nL 264.201985 151.105716 \r\nL 264.53712 146.729984 \r\nL 264.872255 148.581244 \r\nL 265.20739 147.7602 \r\nL 265.542525 145.957594 \r\nL 265.87766 143.413761 \r\nL 266.547931 133.222835 \r\nL 266.883066 126.888227 \r\nL 267.218201 123.978836 \r\nL 267.553336 123.528547 \r\nL 267.888471 127.335312 \r\nL 268.223606 128.803887 \r\nL 268.558742 126.242258 \r\nL 268.893877 125.632378 \r\nL 269.229012 125.309819 \r\nL 269.564147 123.389228 \r\nL 269.899282 117.61767 \r\nL 270.234417 114.493796 \r\nL 270.569552 113.595453 \r\nL 270.904688 108.276655 \r\nL 271.239823 108.329098 \r\nL 271.574958 111.682957 \r\nL 272.245228 103.245864 \r\nL 272.580363 100.446028 \r\nL 272.915498 94.807582 \r\nL 273.250633 93.435217 \r\nL 273.585769 100.484847 \r\nL 273.920904 94.654939 \r\nL 274.256039 96.24081 \r\nL 274.591174 100.701323 \r\nL 274.926309 99.823831 \r\nL 275.261444 96.965986 \r\nL 275.596579 100.543378 \r\nL 276.601985 96.820025 \r\nL 276.93712 96.523807 \r\nL 277.272255 97.991348 \r\nL 277.60739 100.850107 \r\nL 278.27766 90.122129 \r\nL 278.612796 93.664752 \r\nL 278.947931 91.520536 \r\nL 279.283066 90.181731 \r\nL 279.618201 87.943889 \r\nL 279.953336 82.409089 \r\nL 280.288471 81.525177 \r\nL 280.623606 81.856833 \r\nL 280.958742 75.585847 \r\nL 281.293877 82.219269 \r\nL 281.964147 86.2441 \r\nL 282.634417 92.442158 \r\nL 282.969552 94.358228 \r\nL 283.304688 98.942901 \r\nL 283.639823 101.86646 \r\nL 283.974958 111.790879 \r\nL 284.310093 111.797787 \r\nL 284.645228 107.162803 \r\nL 284.980363 113.476097 \r\nL 285.315498 111.498195 \r\nL 285.650633 103.051228 \r\nL 286.320904 115.309607 \r\nL 286.656039 117.511122 \r\nL 286.991174 117.687172 \r\nL 287.326309 116.129868 \r\nL 287.996579 124.91652 \r\nL 288.331715 122.95618 \r\nL 288.66685 130.091212 \r\nL 289.001985 134.528155 \r\nL 289.33712 134.372496 \r\nL 289.672255 138.809895 \r\nL 290.00739 133.796583 \r\nL 290.342525 133.159038 \r\nL 290.67766 131.139575 \r\nL 291.012796 137.472714 \r\nL 291.347931 138.566812 \r\nL 291.683066 136.899129 \r\nL 292.018201 144.420833 \r\nL 292.353336 144.716147 \r\nL 292.688471 145.488147 \r\nL 293.023606 150.774654 \r\nL 293.358742 151.671787 \r\nL 293.693877 156.183967 \r\nL 294.029012 154.532612 \r\nL 294.364147 162.907352 \r\nL 294.699282 160.715972 \r\nL 295.034417 160.066108 \r\nL 295.369552 167.103309 \r\nL 295.704687 169.667376 \r\nL 296.039823 166.224979 \r\nL 296.374958 167.563232 \r\nL 296.710093 166.479915 \r\nL 297.045228 166.600256 \r\nL 297.380363 165.205011 \r\nL 297.715498 165.635136 \r\nL 298.050633 162.257584 \r\nL 298.385769 173.257155 \r\nL 298.720904 173.89634 \r\nL 299.056039 173.323884 \r\nL 299.391174 176.049568 \r\nL 299.726309 174.506186 \r\nL 300.061444 174.465383 \r\nL 300.396579 168.454097 \r\nL 300.731715 166.157549 \r\nL 301.06685 159.320453 \r\nL 301.401985 159.955213 \r\nL 301.73712 170.300717 \r\nL 302.072255 173.47028 \r\nL 302.40739 174.104137 \r\nL 303.07766 171.497779 \r\nL 303.412796 166.148705 \r\nL 303.747931 169.191414 \r\nL 304.083066 165.219092 \r\nL 304.418201 175.43461 \r\nL 304.753336 173.617204 \r\nL 305.088471 176.227484 \r\nL 305.423606 176.232739 \r\nL 305.758742 177.761954 \r\nL 306.093877 180.183492 \r\nL 306.429012 184.715524 \r\nL 307.099282 198.023024 \r\nL 307.434417 197.500289 \r\nL 307.769552 195.685236 \r\nL 308.104688 193.241647 \r\nL 308.439823 194.18127 \r\nL 308.774958 192.604149 \r\nL 309.110093 196.740407 \r\nL 309.445228 193.742008 \r\nL 309.780363 191.820068 \r\nL 310.115498 188.669929 \r\nL 310.450633 188.647364 \r\nL 310.785769 190.228911 \r\nL 311.120904 192.4623 \r\nL 311.456039 190.254767 \r\nL 311.791174 192.099839 \r\nL 312.796579 177.155657 \r\nL 313.131715 178.471616 \r\nL 313.801985 185.705564 \r\nL 314.13712 185.17343 \r\nL 314.472255 187.221556 \r\nL 314.80739 186.562529 \r\nL 315.142525 190.992536 \r\nL 315.47766 189.654993 \r\nL 315.812796 189.668492 \r\nL 316.147931 192.194127 \r\nL 316.483066 192.880907 \r\nL 316.818201 197.891861 \r\nL 317.153336 206.205407 \r\nL 318.158742 195.852916 \r\nL 318.493877 200.644314 \r\nL 318.829012 198.447108 \r\nL 319.164147 201.972401 \r\nL 319.499282 204.160047 \r\nL 319.834417 202.982026 \r\nL 320.169552 203.544241 \r\nL 320.504687 202.302775 \r\nL 320.839823 195.224469 \r\nL 321.174958 191.39706 \r\nL 321.845228 192.787497 \r\nL 322.180363 193.165893 \r\nL 322.850633 196.589933 \r\nL 323.185769 192.623917 \r\nL 323.520904 192.853965 \r\nL 323.856039 200.185402 \r\nL 324.191174 202.456036 \r\nL 324.526309 207.526475 \r\nL 324.861444 207.03053 \r\nL 325.196579 213.694343 \r\nL 325.531715 214.756364 \r\nL 325.86685 207.284894 \r\nL 326.201985 206.922537 \r\nL 326.53712 206.197523 \r\nL 326.872255 213.478213 \r\nL 327.20739 211.691527 \r\nL 327.542525 208.431791 \r\nL 327.87766 210.503192 \r\nL 328.212796 210.872065 \r\nL 328.547931 204.652937 \r\nL 328.883066 203.47436 \r\nL 329.218201 206.04656 \r\nL 329.553336 200.371426 \r\nL 329.888471 197.656048 \r\nL 330.223606 197.555525 \r\nL 330.558742 198.286711 \r\nL 330.893877 192.352954 \r\nL 331.229012 192.463992 \r\nL 331.564147 189.824136 \r\nL 331.899282 193.26216 \r\nL 332.234417 194.640244 \r\nL 332.569552 190.834329 \r\nL 332.904688 185.281754 \r\nL 333.239823 187.020623 \r\nL 333.910093 179.021956 \r\nL 334.245228 181.681306 \r\nL 334.580363 177.153235 \r\nL 334.915498 174.822816 \r\nL 335.250633 168.374011 \r\nL 335.585769 176.950901 \r\nL 336.256039 181.308562 \r\nL 336.591174 186.0981 \r\nL 336.926309 182.166904 \r\nL 337.261444 182.131826 \r\nL 337.596579 183.959628 \r\nL 338.26685 191.689315 \r\nL 338.601985 190.473592 \r\nL 338.93712 191.499309 \r\nL 339.272255 192.140141 \r\nL 339.60739 198.692517 \r\nL 339.942525 197.863863 \r\nL 340.27766 197.815989 \r\nL 340.612796 197.992475 \r\nL 340.947931 199.006981 \r\nL 341.283066 197.606642 \r\nL 341.618201 205.936772 \r\nL 341.953336 205.177981 \r\nL 342.288471 207.459019 \r\nL 342.623606 206.735436 \r\nL 342.958742 203.717933 \r\nL 343.293877 204.224187 \r\nL 343.629012 201.783081 \r\nL 343.964147 209.277646 \r\nL 344.299282 205.845961 \r\nL 344.634417 206.258774 \r\nL 344.969552 201.265309 \r\nL 345.304688 205.955159 \r\nL 345.639823 195.325534 \r\nL 345.974958 192.725082 \r\nL 346.310093 196.023559 \r\nL 346.645228 200.511358 \r\nL 346.980363 202.462411 \r\nL 347.315498 202.162563 \r\nL 347.650633 203.230942 \r\nL 347.985769 211.394554 \r\nL 348.656039 201.880932 \r\nL 348.991174 206.257686 \r\nL 349.326309 212.43541 \r\nL 349.661444 208.133904 \r\nL 349.996579 209.39182 \r\nL 350.331715 205.939484 \r\nL 350.66685 206.762484 \r\nL 351.001985 208.114547 \r\nL 351.33712 203.236853 \r\nL 351.672255 204.386143 \r\nL 352.00739 207.06814 \r\nL 352.342525 205.177549 \r\nL 352.67766 201.778572 \r\nL 353.012796 205.187013 \r\nL 353.347931 206.043442 \r\nL 353.683066 203.531265 \r\nL 354.018201 202.797126 \r\nL 354.353336 200.940956 \r\nL 354.688471 194.158023 \r\nL 355.023606 194.591111 \r\nL 355.358742 191.583492 \r\nL 355.693877 196.094503 \r\nL 356.364147 186.177756 \r\nL 356.699282 191.809718 \r\nL 357.034417 187.123091 \r\nL 357.369552 190.207554 \r\nL 357.704687 199.320956 \r\nL 358.039823 199.554927 \r\nL 358.710093 192.904227 \r\nL 359.045228 191.674855 \r\nL 359.380363 189.565912 \r\nL 359.715498 194.253559 \r\nL 360.050633 194.718181 \r\nL 360.385769 201.451573 \r\nL 361.056039 204.580079 \r\nL 361.391174 204.011954 \r\nL 361.726309 202.778766 \r\nL 362.061444 202.783628 \r\nL 362.396579 200.057621 \r\nL 362.731715 195.579333 \r\nL 363.06685 198.155343 \r\nL 363.401985 194.011696 \r\nL 363.73712 196.906222 \r\nL 364.072255 197.563967 \r\nL 364.40739 197.715567 \r\nL 364.742525 199.561023 \r\nL 365.07766 195.341094 \r\nL 365.412796 194.052337 \r\nL 365.747931 190.774486 \r\nL 366.083066 189.2023 \r\nL 366.418201 193.999554 \r\nL 366.753336 195.3942 \r\nL 367.088471 196.041284 \r\nL 367.423606 195.358489 \r\nL 367.758742 203.793473 \r\nL 368.093877 201.633152 \r\nL 368.429012 205.595779 \r\nL 368.764147 201.720425 \r\nL 369.099282 206.261143 \r\nL 369.769552 207.925206 \r\nL 370.104688 214.105789 \r\nL 370.104688 214.105789 \r\n\" style=\"fill:none;stroke:#1f77b4;stroke-linecap:square;stroke-width:1.5;\"/>\r\n   </g>\r\n   <g id=\"patch_3\">\r\n    <path d=\"M 35.304688 224.64 \r\nL 35.304688 7.2 \r\n\" style=\"fill:none;stroke:#000000;stroke-linecap:square;stroke-linejoin:miter;stroke-width:0.8;\"/>\r\n   </g>\r\n   <g id=\"patch_4\">\r\n    <path d=\"M 370.104688 224.64 \r\nL 370.104688 7.2 \r\n\" style=\"fill:none;stroke:#000000;stroke-linecap:square;stroke-linejoin:miter;stroke-width:0.8;\"/>\r\n   </g>\r\n   <g id=\"patch_5\">\r\n    <path d=\"M 35.304688 224.64 \r\nL 370.104688 224.64 \r\n\" style=\"fill:none;stroke:#000000;stroke-linecap:square;stroke-linejoin:miter;stroke-width:0.8;\"/>\r\n   </g>\r\n   <g id=\"patch_6\">\r\n    <path d=\"M 35.304688 7.2 \r\nL 370.104688 7.2 \r\n\" style=\"fill:none;stroke:#000000;stroke-linecap:square;stroke-linejoin:miter;stroke-width:0.8;\"/>\r\n   </g>\r\n  </g>\r\n </g>\r\n <defs>\r\n  <clipPath id=\"p0eed13628a\">\r\n   <rect height=\"217.44\" width=\"334.8\" x=\"35.304688\" y=\"7.2\"/>\r\n  </clipPath>\r\n </defs>\r\n</svg>\r\n",
      "text/plain": [
       "<Figure size 432x288 with 1 Axes>"
      ]
     },
     "metadata": {
      "needs_background": "light"
     },
     "output_type": "display_data"
    }
   ],
   "source": [
    "ts_cumsum = ts.cumsum()\n",
    "ts_cumsum.plot()"
   ]
  },
  {
   "cell_type": "markdown",
   "metadata": {},
   "source": [
    "If running under Jupyter Notebook, the plot will appear on `plot()`. Otherwise use `matplotlib.pyplot.show` to show it of `matplotlin.pyplot.savefig` to write it into a file."
   ]
  },
  {
   "cell_type": "code",
   "execution_count": 98,
   "metadata": {},
   "outputs": [],
   "source": [
    "plt.show()"
   ]
  },
  {
   "cell_type": "markdown",
   "metadata": {},
   "source": [
    "On a DataFrame, the `plot()` method is a convenience to plot all of the columns with labels."
   ]
  },
  {
   "cell_type": "code",
   "execution_count": 106,
   "metadata": {},
   "outputs": [
    {
     "data": {
      "text/plain": [
       "<matplotlib.legend.Legend at 0x1e0fd34ec10>"
      ]
     },
     "execution_count": 106,
     "metadata": {},
     "output_type": "execute_result"
    },
    {
     "data": {
      "text/plain": [
       "<Figure size 432x288 with 0 Axes>"
      ]
     },
     "metadata": {},
     "output_type": "display_data"
    },
    {
     "data": {
      "image/png": "[encoded data removed]",
      "image/svg+xml": "<?xml version=\"1.0\" encoding=\"utf-8\" standalone=\"no\"?>\r\n<!DOCTYPE svg PUBLIC \"-//W3C//DTD SVG 1.1//EN\"\r\n  \"http://www.w3.org/Graphics/SVG/1.1/DTD/svg11.dtd\">\r\n<svg height=\"259.715937pt\" version=\"1.1\" viewBox=\"0 0 377.304688 259.715937\" width=\"377.304688pt\" xmlns=\"http://www.w3.org/2000/svg\" xmlns:xlink=\"http://www.w3.org/1999/xlink\">\r\n <metadata>\r\n  <rdf:RDF xmlns:cc=\"http://creativecommons.org/ns#\" xmlns:dc=\"http://purl.org/dc/elements/1.1/\" xmlns:rdf=\"http://www.w3.org/1999/02/22-rdf-syntax-ns#\">\r\n   <cc:Work>\r\n    <dc:type rdf:resource=\"http://purl.org/dc/dcmitype/StillImage\"/>\r\n    <dc:date>2022-03-21T07:20:26.348193</dc:date>\r\n    <dc:format>image/svg+xml</dc:format>\r\n    <dc:creator>\r\n     <cc:Agent>\r\n      <dc:title>Matplotlib v3.4.3, https://matplotlib.org/</dc:title>\r\n     </cc:Agent>\r\n    </dc:creator>\r\n   </cc:Work>\r\n  </rdf:RDF>\r\n </metadata>\r\n <defs>\r\n  <style type=\"text/css\">*{stroke-linecap:butt;stroke-linejoin:round;}</style>\r\n </defs>\r\n <g id=\"figure_1\">\r\n  <g id=\"patch_1\">\r\n   <path d=\"M 0 259.715937 \r\nL 377.304688 259.715937 \r\nL 377.304688 0 \r\nL 0 0 \r\nz\r\n\" style=\"fill:none;\"/>\r\n  </g>\r\n  <g id=\"axes_1\">\r\n   <g id=\"patch_2\">\r\n    <path d=\"M 35.304688 224.64 \r\nL 370.104688 224.64 \r\nL 370.104688 7.2 \r\nL 35.304688 7.2 \r\nz\r\n\" style=\"fill:#ffffff;\"/>\r\n   </g>\r\n   <g id=\"matplotlib.axis_1\">\r\n    <g id=\"xtick_1\">\r\n     <g id=\"line2d_1\">\r\n      <defs>\r\n       <path d=\"M 0 0 \r\nL 0 3.5 \r\n\" id=\"m488851f54a\" style=\"stroke:#000000;stroke-width:0.8;\"/>\r\n      </defs>\r\n      <g>\r\n       <use style=\"stroke:#000000;stroke-width:0.8;\" x=\"35.304688\" xlink:href=\"#m488851f54a\" y=\"224.64\"/>\r\n      </g>\r\n     </g>\r\n     <g id=\"text_1\">\r\n      <!-- Jan -->\r\n      <g transform=\"translate(27.596875 239.238438)scale(0.1 -0.1)\">\r\n       <defs>\r\n        <path d=\"M 628 4666 \r\nL 1259 4666 \r\nL 1259 325 \r\nQ 1259 -519 939 -900 \r\nQ 619 -1281 -91 -1281 \r\nL -331 -1281 \r\nL -331 -750 \r\nL -134 -750 \r\nQ 284 -750 456 -515 \r\nQ 628 -281 628 325 \r\nL 628 4666 \r\nz\r\n\" id=\"DejaVuSans-4a\" transform=\"scale(0.015625)\"/>\r\n        <path d=\"M 2194 1759 \r\nQ 1497 1759 1228 1600 \r\nQ 959 1441 959 1056 \r\nQ 959 750 1161 570 \r\nQ 1363 391 1709 391 \r\nQ 2188 391 2477 730 \r\nQ 2766 1069 2766 1631 \r\nL 2766 1759 \r\nL 2194 1759 \r\nz\r\nM 3341 1997 \r\nL 3341 0 \r\nL 2766 0 \r\nL 2766 531 \r\nQ 2569 213 2275 61 \r\nQ 1981 -91 1556 -91 \r\nQ 1019 -91 701 211 \r\nQ 384 513 384 1019 \r\nQ 384 1609 779 1909 \r\nQ 1175 2209 1959 2209 \r\nL 2766 2209 \r\nL 2766 2266 \r\nQ 2766 2663 2505 2880 \r\nQ 2244 3097 1772 3097 \r\nQ 1472 3097 1187 3025 \r\nQ 903 2953 641 2809 \r\nL 641 3341 \r\nQ 956 3463 1253 3523 \r\nQ 1550 3584 1831 3584 \r\nQ 2591 3584 2966 3190 \r\nQ 3341 2797 3341 1997 \r\nz\r\n\" id=\"DejaVuSans-61\" transform=\"scale(0.015625)\"/>\r\n        <path d=\"M 3513 2113 \r\nL 3513 0 \r\nL 2938 0 \r\nL 2938 2094 \r\nQ 2938 2591 2744 2837 \r\nQ 2550 3084 2163 3084 \r\nQ 1697 3084 1428 2787 \r\nQ 1159 2491 1159 1978 \r\nL 1159 0 \r\nL 581 0 \r\nL 581 3500 \r\nL 1159 3500 \r\nL 1159 2956 \r\nQ 1366 3272 1645 3428 \r\nQ 1925 3584 2291 3584 \r\nQ 2894 3584 3203 3211 \r\nQ 3513 2838 3513 2113 \r\nz\r\n\" id=\"DejaVuSans-6e\" transform=\"scale(0.015625)\"/>\r\n       </defs>\r\n       <use xlink:href=\"#DejaVuSans-4a\"/>\r\n       <use x=\"29.492188\" xlink:href=\"#DejaVuSans-61\"/>\r\n       <use x=\"90.771484\" xlink:href=\"#DejaVuSans-6e\"/>\r\n      </g>\r\n      <!-- 2022 -->\r\n      <g transform=\"translate(22.579687 250.43625)scale(0.1 -0.1)\">\r\n       <defs>\r\n        <path d=\"M 1228 531 \r\nL 3431 531 \r\nL 3431 0 \r\nL 469 0 \r\nL 469 531 \r\nQ 828 903 1448 1529 \r\nQ 2069 2156 2228 2338 \r\nQ 2531 2678 2651 2914 \r\nQ 2772 3150 2772 3378 \r\nQ 2772 3750 2511 3984 \r\nQ 2250 4219 1831 4219 \r\nQ 1534 4219 1204 4116 \r\nQ 875 4013 500 3803 \r\nL 500 4441 \r\nQ 881 4594 1212 4672 \r\nQ 1544 4750 1819 4750 \r\nQ 2544 4750 2975 4387 \r\nQ 3406 4025 3406 3419 \r\nQ 3406 3131 3298 2873 \r\nQ 3191 2616 2906 2266 \r\nQ 2828 2175 2409 1742 \r\nQ 1991 1309 1228 531 \r\nz\r\n\" id=\"DejaVuSans-32\" transform=\"scale(0.015625)\"/>\r\n        <path d=\"M 2034 4250 \r\nQ 1547 4250 1301 3770 \r\nQ 1056 3291 1056 2328 \r\nQ 1056 1369 1301 889 \r\nQ 1547 409 2034 409 \r\nQ 2525 409 2770 889 \r\nQ 3016 1369 3016 2328 \r\nQ 3016 3291 2770 3770 \r\nQ 2525 4250 2034 4250 \r\nz\r\nM 2034 4750 \r\nQ 2819 4750 3233 4129 \r\nQ 3647 3509 3647 2328 \r\nQ 3647 1150 3233 529 \r\nQ 2819 -91 2034 -91 \r\nQ 1250 -91 836 529 \r\nQ 422 1150 422 2328 \r\nQ 422 3509 836 4129 \r\nQ 1250 4750 2034 4750 \r\nz\r\n\" id=\"DejaVuSans-30\" transform=\"scale(0.015625)\"/>\r\n       </defs>\r\n       <use xlink:href=\"#DejaVuSans-32\"/>\r\n       <use x=\"63.623047\" xlink:href=\"#DejaVuSans-30\"/>\r\n       <use x=\"127.246094\" xlink:href=\"#DejaVuSans-32\"/>\r\n       <use x=\"190.869141\" xlink:href=\"#DejaVuSans-32\"/>\r\n      </g>\r\n     </g>\r\n    </g>\r\n    <g id=\"xtick_2\">\r\n     <g id=\"line2d_2\">\r\n      <g>\r\n       <use style=\"stroke:#000000;stroke-width:0.8;\" x=\"157.629012\" xlink:href=\"#m488851f54a\" y=\"224.64\"/>\r\n      </g>\r\n     </g>\r\n     <g id=\"text_2\">\r\n      <!-- Jan -->\r\n      <g transform=\"translate(149.921199 239.238438)scale(0.1 -0.1)\">\r\n       <use xlink:href=\"#DejaVuSans-4a\"/>\r\n       <use x=\"29.492188\" xlink:href=\"#DejaVuSans-61\"/>\r\n       <use x=\"90.771484\" xlink:href=\"#DejaVuSans-6e\"/>\r\n      </g>\r\n      <!-- 2023 -->\r\n      <g transform=\"translate(144.904012 250.43625)scale(0.1 -0.1)\">\r\n       <defs>\r\n        <path d=\"M 2597 2516 \r\nQ 3050 2419 3304 2112 \r\nQ 3559 1806 3559 1356 \r\nQ 3559 666 3084 287 \r\nQ 2609 -91 1734 -91 \r\nQ 1441 -91 1130 -33 \r\nQ 819 25 488 141 \r\nL 488 750 \r\nQ 750 597 1062 519 \r\nQ 1375 441 1716 441 \r\nQ 2309 441 2620 675 \r\nQ 2931 909 2931 1356 \r\nQ 2931 1769 2642 2001 \r\nQ 2353 2234 1838 2234 \r\nL 1294 2234 \r\nL 1294 2753 \r\nL 1863 2753 \r\nQ 2328 2753 2575 2939 \r\nQ 2822 3125 2822 3475 \r\nQ 2822 3834 2567 4026 \r\nQ 2313 4219 1838 4219 \r\nQ 1578 4219 1281 4162 \r\nQ 984 4106 628 3988 \r\nL 628 4550 \r\nQ 988 4650 1302 4700 \r\nQ 1616 4750 1894 4750 \r\nQ 2613 4750 3031 4423 \r\nQ 3450 4097 3450 3541 \r\nQ 3450 3153 3228 2886 \r\nQ 3006 2619 2597 2516 \r\nz\r\n\" id=\"DejaVuSans-33\" transform=\"scale(0.015625)\"/>\r\n       </defs>\r\n       <use xlink:href=\"#DejaVuSans-32\"/>\r\n       <use x=\"63.623047\" xlink:href=\"#DejaVuSans-30\"/>\r\n       <use x=\"127.246094\" xlink:href=\"#DejaVuSans-32\"/>\r\n       <use x=\"190.869141\" xlink:href=\"#DejaVuSans-33\"/>\r\n      </g>\r\n     </g>\r\n    </g>\r\n    <g id=\"xtick_3\">\r\n     <g id=\"line2d_3\">\r\n      <g>\r\n       <use style=\"stroke:#000000;stroke-width:0.8;\" x=\"279.953336\" xlink:href=\"#m488851f54a\" y=\"224.64\"/>\r\n      </g>\r\n     </g>\r\n     <g id=\"text_3\">\r\n      <!-- Jan -->\r\n      <g transform=\"translate(272.245524 239.238438)scale(0.1 -0.1)\">\r\n       <use xlink:href=\"#DejaVuSans-4a\"/>\r\n       <use x=\"29.492188\" xlink:href=\"#DejaVuSans-61\"/>\r\n       <use x=\"90.771484\" xlink:href=\"#DejaVuSans-6e\"/>\r\n      </g>\r\n      <!-- 2024 -->\r\n      <g transform=\"translate(267.228336 250.43625)scale(0.1 -0.1)\">\r\n       <defs>\r\n        <path d=\"M 2419 4116 \r\nL 825 1625 \r\nL 2419 1625 \r\nL 2419 4116 \r\nz\r\nM 2253 4666 \r\nL 3047 4666 \r\nL 3047 1625 \r\nL 3713 1625 \r\nL 3713 1100 \r\nL 3047 1100 \r\nL 3047 0 \r\nL 2419 0 \r\nL 2419 1100 \r\nL 313 1100 \r\nL 313 1709 \r\nL 2253 4666 \r\nz\r\n\" id=\"DejaVuSans-34\" transform=\"scale(0.015625)\"/>\r\n       </defs>\r\n       <use xlink:href=\"#DejaVuSans-32\"/>\r\n       <use x=\"63.623047\" xlink:href=\"#DejaVuSans-30\"/>\r\n       <use x=\"127.246094\" xlink:href=\"#DejaVuSans-32\"/>\r\n       <use x=\"190.869141\" xlink:href=\"#DejaVuSans-34\"/>\r\n      </g>\r\n     </g>\r\n    </g>\r\n    <g id=\"xtick_4\">\r\n     <g id=\"line2d_4\">\r\n      <g>\r\n       <use style=\"stroke:#000000;stroke-width:0.8;\" x=\"370.104688\" xlink:href=\"#m488851f54a\" y=\"224.64\"/>\r\n      </g>\r\n     </g>\r\n    </g>\r\n    <g id=\"xtick_5\">\r\n     <g id=\"line2d_5\">\r\n      <defs>\r\n       <path d=\"M 0 0 \r\nL 0 2 \r\n\" id=\"m809b4a55a7\" style=\"stroke:#000000;stroke-width:0.6;\"/>\r\n      </defs>\r\n      <g>\r\n       <use style=\"stroke:#000000;stroke-width:0.6;\" x=\"45.693877\" xlink:href=\"#m809b4a55a7\" y=\"224.64\"/>\r\n      </g>\r\n     </g>\r\n    </g>\r\n    <g id=\"xtick_6\">\r\n     <g id=\"line2d_6\">\r\n      <g>\r\n       <use style=\"stroke:#000000;stroke-width:0.6;\" x=\"55.07766\" xlink:href=\"#m809b4a55a7\" y=\"224.64\"/>\r\n      </g>\r\n     </g>\r\n    </g>\r\n    <g id=\"xtick_7\">\r\n     <g id=\"line2d_7\">\r\n      <g>\r\n       <use style=\"stroke:#000000;stroke-width:0.6;\" x=\"65.46685\" xlink:href=\"#m809b4a55a7\" y=\"224.64\"/>\r\n      </g>\r\n     </g>\r\n    </g>\r\n    <g id=\"xtick_8\">\r\n     <g id=\"line2d_8\">\r\n      <g>\r\n       <use style=\"stroke:#000000;stroke-width:0.6;\" x=\"75.520904\" xlink:href=\"#m809b4a55a7\" y=\"224.64\"/>\r\n      </g>\r\n     </g>\r\n    </g>\r\n    <g id=\"xtick_9\">\r\n     <g id=\"line2d_9\">\r\n      <g>\r\n       <use style=\"stroke:#000000;stroke-width:0.6;\" x=\"85.910093\" xlink:href=\"#m809b4a55a7\" y=\"224.64\"/>\r\n      </g>\r\n     </g>\r\n    </g>\r\n    <g id=\"xtick_10\">\r\n     <g id=\"line2d_10\">\r\n      <g>\r\n       <use style=\"stroke:#000000;stroke-width:0.6;\" x=\"95.964147\" xlink:href=\"#m809b4a55a7\" y=\"224.64\"/>\r\n      </g>\r\n     </g>\r\n     <g id=\"text_4\">\r\n      <!-- Jul -->\r\n      <g transform=\"translate(89.931334 237.638438)scale(0.1 -0.1)\">\r\n       <defs>\r\n        <path d=\"M 544 1381 \r\nL 544 3500 \r\nL 1119 3500 \r\nL 1119 1403 \r\nQ 1119 906 1312 657 \r\nQ 1506 409 1894 409 \r\nQ 2359 409 2629 706 \r\nQ 2900 1003 2900 1516 \r\nL 2900 3500 \r\nL 3475 3500 \r\nL 3475 0 \r\nL 2900 0 \r\nL 2900 538 \r\nQ 2691 219 2414 64 \r\nQ 2138 -91 1772 -91 \r\nQ 1169 -91 856 284 \r\nQ 544 659 544 1381 \r\nz\r\nM 1991 3584 \r\nL 1991 3584 \r\nz\r\n\" id=\"DejaVuSans-75\" transform=\"scale(0.015625)\"/>\r\n        <path d=\"M 603 4863 \r\nL 1178 4863 \r\nL 1178 0 \r\nL 603 0 \r\nL 603 4863 \r\nz\r\n\" id=\"DejaVuSans-6c\" transform=\"scale(0.015625)\"/>\r\n       </defs>\r\n       <use xlink:href=\"#DejaVuSans-4a\"/>\r\n       <use x=\"29.492188\" xlink:href=\"#DejaVuSans-75\"/>\r\n       <use x=\"92.871094\" xlink:href=\"#DejaVuSans-6c\"/>\r\n      </g>\r\n     </g>\r\n    </g>\r\n    <g id=\"xtick_11\">\r\n     <g id=\"line2d_11\">\r\n      <g>\r\n       <use style=\"stroke:#000000;stroke-width:0.6;\" x=\"106.353336\" xlink:href=\"#m809b4a55a7\" y=\"224.64\"/>\r\n      </g>\r\n     </g>\r\n    </g>\r\n    <g id=\"xtick_12\">\r\n     <g id=\"line2d_12\">\r\n      <g>\r\n       <use style=\"stroke:#000000;stroke-width:0.6;\" x=\"116.742525\" xlink:href=\"#m809b4a55a7\" y=\"224.64\"/>\r\n      </g>\r\n     </g>\r\n    </g>\r\n    <g id=\"xtick_13\">\r\n     <g id=\"line2d_13\">\r\n      <g>\r\n       <use style=\"stroke:#000000;stroke-width:0.6;\" x=\"126.796579\" xlink:href=\"#m809b4a55a7\" y=\"224.64\"/>\r\n      </g>\r\n     </g>\r\n    </g>\r\n    <g id=\"xtick_14\">\r\n     <g id=\"line2d_14\">\r\n      <g>\r\n       <use style=\"stroke:#000000;stroke-width:0.6;\" x=\"137.185769\" xlink:href=\"#m809b4a55a7\" y=\"224.64\"/>\r\n      </g>\r\n     </g>\r\n    </g>\r\n    <g id=\"xtick_15\">\r\n     <g id=\"line2d_15\">\r\n      <g>\r\n       <use style=\"stroke:#000000;stroke-width:0.6;\" x=\"147.239823\" xlink:href=\"#m809b4a55a7\" y=\"224.64\"/>\r\n      </g>\r\n     </g>\r\n    </g>\r\n    <g id=\"xtick_16\">\r\n     <g id=\"line2d_16\">\r\n      <g>\r\n       <use style=\"stroke:#000000;stroke-width:0.6;\" x=\"168.018201\" xlink:href=\"#m809b4a55a7\" y=\"224.64\"/>\r\n      </g>\r\n     </g>\r\n    </g>\r\n    <g id=\"xtick_17\">\r\n     <g id=\"line2d_17\">\r\n      <g>\r\n       <use style=\"stroke:#000000;stroke-width:0.6;\" x=\"177.401985\" xlink:href=\"#m809b4a55a7\" y=\"224.64\"/>\r\n      </g>\r\n     </g>\r\n    </g>\r\n    <g id=\"xtick_18\">\r\n     <g id=\"line2d_18\">\r\n      <g>\r\n       <use style=\"stroke:#000000;stroke-width:0.6;\" x=\"187.791174\" xlink:href=\"#m809b4a55a7\" y=\"224.64\"/>\r\n      </g>\r\n     </g>\r\n    </g>\r\n    <g id=\"xtick_19\">\r\n     <g id=\"line2d_19\">\r\n      <g>\r\n       <use style=\"stroke:#000000;stroke-width:0.6;\" x=\"197.845228\" xlink:href=\"#m809b4a55a7\" y=\"224.64\"/>\r\n      </g>\r\n     </g>\r\n    </g>\r\n    <g id=\"xtick_20\">\r\n     <g id=\"line2d_20\">\r\n      <g>\r\n       <use style=\"stroke:#000000;stroke-width:0.6;\" x=\"208.234417\" xlink:href=\"#m809b4a55a7\" y=\"224.64\"/>\r\n      </g>\r\n     </g>\r\n    </g>\r\n    <g id=\"xtick_21\">\r\n     <g id=\"line2d_21\">\r\n      <g>\r\n       <use style=\"stroke:#000000;stroke-width:0.6;\" x=\"218.288471\" xlink:href=\"#m809b4a55a7\" y=\"224.64\"/>\r\n      </g>\r\n     </g>\r\n     <g id=\"text_5\">\r\n      <!-- Jul -->\r\n      <g transform=\"translate(212.255659 237.638438)scale(0.1 -0.1)\">\r\n       <use xlink:href=\"#DejaVuSans-4a\"/>\r\n       <use x=\"29.492188\" xlink:href=\"#DejaVuSans-75\"/>\r\n       <use x=\"92.871094\" xlink:href=\"#DejaVuSans-6c\"/>\r\n      </g>\r\n     </g>\r\n    </g>\r\n    <g id=\"xtick_22\">\r\n     <g id=\"line2d_22\">\r\n      <g>\r\n       <use style=\"stroke:#000000;stroke-width:0.6;\" x=\"228.67766\" xlink:href=\"#m809b4a55a7\" y=\"224.64\"/>\r\n      </g>\r\n     </g>\r\n    </g>\r\n    <g id=\"xtick_23\">\r\n     <g id=\"line2d_23\">\r\n      <g>\r\n       <use style=\"stroke:#000000;stroke-width:0.6;\" x=\"239.06685\" xlink:href=\"#m809b4a55a7\" y=\"224.64\"/>\r\n      </g>\r\n     </g>\r\n    </g>\r\n    <g id=\"xtick_24\">\r\n     <g id=\"line2d_24\">\r\n      <g>\r\n       <use style=\"stroke:#000000;stroke-width:0.6;\" x=\"249.120904\" xlink:href=\"#m809b4a55a7\" y=\"224.64\"/>\r\n      </g>\r\n     </g>\r\n    </g>\r\n    <g id=\"xtick_25\">\r\n     <g id=\"line2d_25\">\r\n      <g>\r\n       <use style=\"stroke:#000000;stroke-width:0.6;\" x=\"259.510093\" xlink:href=\"#m809b4a55a7\" y=\"224.64\"/>\r\n      </g>\r\n     </g>\r\n    </g>\r\n    <g id=\"xtick_26\">\r\n     <g id=\"line2d_26\">\r\n      <g>\r\n       <use style=\"stroke:#000000;stroke-width:0.6;\" x=\"269.564147\" xlink:href=\"#m809b4a55a7\" y=\"224.64\"/>\r\n      </g>\r\n     </g>\r\n    </g>\r\n    <g id=\"xtick_27\">\r\n     <g id=\"line2d_27\">\r\n      <g>\r\n       <use style=\"stroke:#000000;stroke-width:0.6;\" x=\"290.342525\" xlink:href=\"#m809b4a55a7\" y=\"224.64\"/>\r\n      </g>\r\n     </g>\r\n    </g>\r\n    <g id=\"xtick_28\">\r\n     <g id=\"line2d_28\">\r\n      <g>\r\n       <use style=\"stroke:#000000;stroke-width:0.6;\" x=\"300.061444\" xlink:href=\"#m809b4a55a7\" y=\"224.64\"/>\r\n      </g>\r\n     </g>\r\n    </g>\r\n    <g id=\"xtick_29\">\r\n     <g id=\"line2d_29\">\r\n      <g>\r\n       <use style=\"stroke:#000000;stroke-width:0.6;\" x=\"310.450633\" xlink:href=\"#m809b4a55a7\" y=\"224.64\"/>\r\n      </g>\r\n     </g>\r\n    </g>\r\n    <g id=\"xtick_30\">\r\n     <g id=\"line2d_30\">\r\n      <g>\r\n       <use style=\"stroke:#000000;stroke-width:0.6;\" x=\"320.504687\" xlink:href=\"#m809b4a55a7\" y=\"224.64\"/>\r\n      </g>\r\n     </g>\r\n    </g>\r\n    <g id=\"xtick_31\">\r\n     <g id=\"line2d_31\">\r\n      <g>\r\n       <use style=\"stroke:#000000;stroke-width:0.6;\" x=\"330.893877\" xlink:href=\"#m809b4a55a7\" y=\"224.64\"/>\r\n      </g>\r\n     </g>\r\n    </g>\r\n    <g id=\"xtick_32\">\r\n     <g id=\"line2d_32\">\r\n      <g>\r\n       <use style=\"stroke:#000000;stroke-width:0.6;\" x=\"340.947931\" xlink:href=\"#m809b4a55a7\" y=\"224.64\"/>\r\n      </g>\r\n     </g>\r\n     <g id=\"text_6\">\r\n      <!-- Jul -->\r\n      <g transform=\"translate(334.915118 237.638438)scale(0.1 -0.1)\">\r\n       <use xlink:href=\"#DejaVuSans-4a\"/>\r\n       <use x=\"29.492188\" xlink:href=\"#DejaVuSans-75\"/>\r\n       <use x=\"92.871094\" xlink:href=\"#DejaVuSans-6c\"/>\r\n      </g>\r\n     </g>\r\n    </g>\r\n    <g id=\"xtick_33\">\r\n     <g id=\"line2d_33\">\r\n      <g>\r\n       <use style=\"stroke:#000000;stroke-width:0.6;\" x=\"351.33712\" xlink:href=\"#m809b4a55a7\" y=\"224.64\"/>\r\n      </g>\r\n     </g>\r\n    </g>\r\n    <g id=\"xtick_34\">\r\n     <g id=\"line2d_34\">\r\n      <g>\r\n       <use style=\"stroke:#000000;stroke-width:0.6;\" x=\"361.726309\" xlink:href=\"#m809b4a55a7\" y=\"224.64\"/>\r\n      </g>\r\n     </g>\r\n    </g>\r\n   </g>\r\n   <g id=\"matplotlib.axis_2\">\r\n    <g id=\"ytick_1\">\r\n     <g id=\"line2d_35\">\r\n      <defs>\r\n       <path d=\"M 0 0 \r\nL -3.5 0 \r\n\" id=\"m2f7589aa46\" style=\"stroke:#000000;stroke-width:0.8;\"/>\r\n      </defs>\r\n      <g>\r\n       <use style=\"stroke:#000000;stroke-width:0.8;\" x=\"35.304688\" xlink:href=\"#m2f7589aa46\" y=\"192.703332\"/>\r\n      </g>\r\n     </g>\r\n     <g id=\"text_7\">\r\n      <!-- −30 -->\r\n      <g transform=\"translate(7.2 196.502551)scale(0.1 -0.1)\">\r\n       <defs>\r\n        <path d=\"M 678 2272 \r\nL 4684 2272 \r\nL 4684 1741 \r\nL 678 1741 \r\nL 678 2272 \r\nz\r\n\" id=\"DejaVuSans-2212\" transform=\"scale(0.015625)\"/>\r\n       </defs>\r\n       <use xlink:href=\"#DejaVuSans-2212\"/>\r\n       <use x=\"83.789062\" xlink:href=\"#DejaVuSans-33\"/>\r\n       <use x=\"147.412109\" xlink:href=\"#DejaVuSans-30\"/>\r\n      </g>\r\n     </g>\r\n    </g>\r\n    <g id=\"ytick_2\">\r\n     <g id=\"line2d_36\">\r\n      <g>\r\n       <use style=\"stroke:#000000;stroke-width:0.8;\" x=\"35.304688\" xlink:href=\"#m2f7589aa46\" y=\"156.60896\"/>\r\n      </g>\r\n     </g>\r\n     <g id=\"text_8\">\r\n      <!-- −20 -->\r\n      <g transform=\"translate(7.2 160.408179)scale(0.1 -0.1)\">\r\n       <use xlink:href=\"#DejaVuSans-2212\"/>\r\n       <use x=\"83.789062\" xlink:href=\"#DejaVuSans-32\"/>\r\n       <use x=\"147.412109\" xlink:href=\"#DejaVuSans-30\"/>\r\n      </g>\r\n     </g>\r\n    </g>\r\n    <g id=\"ytick_3\">\r\n     <g id=\"line2d_37\">\r\n      <g>\r\n       <use style=\"stroke:#000000;stroke-width:0.8;\" x=\"35.304688\" xlink:href=\"#m2f7589aa46\" y=\"120.514588\"/>\r\n      </g>\r\n     </g>\r\n     <g id=\"text_9\">\r\n      <!-- −10 -->\r\n      <g transform=\"translate(7.2 124.313807)scale(0.1 -0.1)\">\r\n       <defs>\r\n        <path d=\"M 794 531 \r\nL 1825 531 \r\nL 1825 4091 \r\nL 703 3866 \r\nL 703 4441 \r\nL 1819 4666 \r\nL 2450 4666 \r\nL 2450 531 \r\nL 3481 531 \r\nL 3481 0 \r\nL 794 0 \r\nL 794 531 \r\nz\r\n\" id=\"DejaVuSans-31\" transform=\"scale(0.015625)\"/>\r\n       </defs>\r\n       <use xlink:href=\"#DejaVuSans-2212\"/>\r\n       <use x=\"83.789062\" xlink:href=\"#DejaVuSans-31\"/>\r\n       <use x=\"147.412109\" xlink:href=\"#DejaVuSans-30\"/>\r\n      </g>\r\n     </g>\r\n    </g>\r\n    <g id=\"ytick_4\">\r\n     <g id=\"line2d_38\">\r\n      <g>\r\n       <use style=\"stroke:#000000;stroke-width:0.8;\" x=\"35.304688\" xlink:href=\"#m2f7589aa46\" y=\"84.420216\"/>\r\n      </g>\r\n     </g>\r\n     <g id=\"text_10\">\r\n      <!-- 0 -->\r\n      <g transform=\"translate(21.942188 88.219435)scale(0.1 -0.1)\">\r\n       <use xlink:href=\"#DejaVuSans-30\"/>\r\n      </g>\r\n     </g>\r\n    </g>\r\n    <g id=\"ytick_5\">\r\n     <g id=\"line2d_39\">\r\n      <g>\r\n       <use style=\"stroke:#000000;stroke-width:0.8;\" x=\"35.304688\" xlink:href=\"#m2f7589aa46\" y=\"48.325844\"/>\r\n      </g>\r\n     </g>\r\n     <g id=\"text_11\">\r\n      <!-- 10 -->\r\n      <g transform=\"translate(15.579688 52.125063)scale(0.1 -0.1)\">\r\n       <use xlink:href=\"#DejaVuSans-31\"/>\r\n       <use x=\"63.623047\" xlink:href=\"#DejaVuSans-30\"/>\r\n      </g>\r\n     </g>\r\n    </g>\r\n    <g id=\"ytick_6\">\r\n     <g id=\"line2d_40\">\r\n      <g>\r\n       <use style=\"stroke:#000000;stroke-width:0.8;\" x=\"35.304688\" xlink:href=\"#m2f7589aa46\" y=\"12.231472\"/>\r\n      </g>\r\n     </g>\r\n     <g id=\"text_12\">\r\n      <!-- 20 -->\r\n      <g transform=\"translate(15.579688 16.030691)scale(0.1 -0.1)\">\r\n       <use xlink:href=\"#DejaVuSans-32\"/>\r\n       <use x=\"63.623047\" xlink:href=\"#DejaVuSans-30\"/>\r\n      </g>\r\n     </g>\r\n    </g>\r\n   </g>\r\n   <g id=\"line2d_41\">\r\n    <path clip-path=\"url(#p0a8d1286e0)\" d=\"M 35.304688 86.720542 \r\nL 35.639823 83.923062 \r\nL 35.974958 86.077513 \r\nL 36.310093 87.207898 \r\nL 36.645228 83.384004 \r\nL 36.980363 83.998822 \r\nL 37.315498 75.300102 \r\nL 37.985769 97.610902 \r\nL 38.320904 93.772344 \r\nL 38.656039 101.897722 \r\nL 38.991174 105.12523 \r\nL 39.326309 109.570432 \r\nL 39.661444 107.522033 \r\nL 39.996579 109.661067 \r\nL 40.331715 110.53519 \r\nL 40.66685 108.199622 \r\nL 41.001985 115.087677 \r\nL 41.33712 115.784174 \r\nL 41.672255 115.372352 \r\nL 42.00739 120.470518 \r\nL 42.342525 120.497563 \r\nL 43.347931 137.080181 \r\nL 43.683066 131.657876 \r\nL 44.018201 131.531711 \r\nL 44.353336 130.219318 \r\nL 44.688471 124.710418 \r\nL 45.023606 125.507262 \r\nL 45.358742 132.946033 \r\nL 45.693877 131.364736 \r\nL 46.029012 134.752113 \r\nL 47.034417 122.11529 \r\nL 47.369552 128.113656 \r\nL 47.704687 125.134455 \r\nL 48.039823 127.9038 \r\nL 48.374958 124.745758 \r\nL 48.710093 126.614446 \r\nL 49.045228 127.434313 \r\nL 49.380363 128.793447 \r\nL 49.715498 127.605533 \r\nL 50.050633 127.247902 \r\nL 50.385769 127.798454 \r\nL 50.720904 126.196939 \r\nL 51.056039 125.874012 \r\nL 51.391174 120.479833 \r\nL 51.726309 118.003363 \r\nL 52.061444 118.771166 \r\nL 52.396579 118.510764 \r\nL 52.731715 119.890573 \r\nL 53.06685 120.050482 \r\nL 53.401985 120.881793 \r\nL 54.072255 118.494568 \r\nL 54.40739 123.038761 \r\nL 54.742525 118.361197 \r\nL 55.07766 119.57307 \r\nL 55.747931 115.370446 \r\nL 56.083066 112.724287 \r\nL 56.418201 107.250796 \r\nL 56.753336 108.286887 \r\nL 57.088471 118.821572 \r\nL 57.423606 117.472969 \r\nL 57.758742 118.585133 \r\nL 58.093877 117.754847 \r\nL 58.429012 114.924832 \r\nL 58.764147 114.162697 \r\nL 59.099282 115.270836 \r\nL 59.434417 113.12301 \r\nL 59.769552 115.798069 \r\nL 60.774958 108.977345 \r\nL 61.110093 102.886716 \r\nL 61.780363 96.665885 \r\nL 62.115498 99.360814 \r\nL 62.450633 100.552322 \r\nL 63.120904 96.819005 \r\nL 63.791174 90.373389 \r\nL 64.126309 94.330793 \r\nL 64.461444 94.690697 \r\nL 64.796579 101.036634 \r\nL 65.131715 94.855965 \r\nL 65.46685 97.802769 \r\nL 66.13712 105.91289 \r\nL 66.472255 106.936139 \r\nL 66.80739 108.869627 \r\nL 67.142525 106.815736 \r\nL 67.47766 112.288102 \r\nL 67.812796 112.142499 \r\nL 68.147931 112.26797 \r\nL 68.818201 117.558495 \r\nL 69.153336 122.542896 \r\nL 69.488471 124.852576 \r\nL 69.823606 120.459533 \r\nL 70.158742 121.255056 \r\nL 70.493877 121.291266 \r\nL 70.829012 117.439522 \r\nL 71.499282 115.619792 \r\nL 71.834417 116.645646 \r\nL 72.169552 118.422997 \r\nL 72.504687 116.450632 \r\nL 72.839823 117.988653 \r\nL 73.174958 123.544646 \r\nL 73.845228 128.757755 \r\nL 74.180363 123.626899 \r\nL 74.850633 127.39664 \r\nL 75.185769 129.059367 \r\nL 75.520904 124.386854 \r\nL 75.856039 127.659276 \r\nL 76.191174 133.13815 \r\nL 76.526309 130.055762 \r\nL 76.861444 125.442022 \r\nL 77.196579 123.786862 \r\nL 77.531715 125.178134 \r\nL 77.86685 122.896446 \r\nL 78.201985 119.698075 \r\nL 78.53712 118.399686 \r\nL 78.872255 121.795819 \r\nL 79.20739 126.385432 \r\nL 79.87766 115.450644 \r\nL 80.212796 118.772029 \r\nL 80.547931 119.142425 \r\nL 81.218201 115.053227 \r\nL 81.553336 107.310401 \r\nL 81.888471 110.287554 \r\nL 82.223606 106.717782 \r\nL 82.558742 107.624805 \r\nL 82.893877 110.5702 \r\nL 83.229012 112.381399 \r\nL 83.564147 112.002479 \r\nL 83.899282 113.243826 \r\nL 84.234417 113.473816 \r\nL 84.569552 112.233414 \r\nL 84.904688 109.861608 \r\nL 85.574958 119.159164 \r\nL 85.910093 120.494651 \r\nL 86.245228 123.184853 \r\nL 86.580363 119.809932 \r\nL 86.915498 119.001096 \r\nL 87.250633 119.057695 \r\nL 87.585769 125.128726 \r\nL 87.920904 121.848797 \r\nL 88.256039 126.125881 \r\nL 88.591174 128.681163 \r\nL 88.926309 126.291598 \r\nL 89.596579 126.730987 \r\nL 89.931715 125.191792 \r\nL 90.26685 122.829105 \r\nL 90.601985 121.265291 \r\nL 90.93712 121.568878 \r\nL 91.272255 123.157616 \r\nL 91.60739 123.284199 \r\nL 91.942525 121.956506 \r\nL 92.27766 118.216872 \r\nL 92.612796 120.437229 \r\nL 92.947931 126.310903 \r\nL 93.283066 126.577906 \r\nL 93.618201 125.64805 \r\nL 93.953336 121.505914 \r\nL 94.288471 124.247095 \r\nL 94.623606 121.60272 \r\nL 94.958742 122.574335 \r\nL 95.293877 130.241705 \r\nL 95.629012 131.031378 \r\nL 95.964147 130.312553 \r\nL 96.299282 131.666455 \r\nL 96.634417 135.830593 \r\nL 97.304688 139.784898 \r\nL 97.974958 131.896974 \r\nL 98.310093 133.408272 \r\nL 98.645228 143.482143 \r\nL 98.980363 149.275863 \r\nL 99.315498 146.879819 \r\nL 99.650633 151.580608 \r\nL 100.320904 145.870311 \r\nL 100.656039 145.354239 \r\nL 101.326309 146.935704 \r\nL 101.661444 150.136099 \r\nL 101.996579 155.204907 \r\nL 102.331715 154.308045 \r\nL 102.66685 150.50254 \r\nL 103.001985 145.226718 \r\nL 103.33712 152.740149 \r\nL 103.672255 150.005129 \r\nL 104.00739 153.260938 \r\nL 104.342525 152.289188 \r\nL 104.67766 161.907149 \r\nL 105.012796 163.461363 \r\nL 105.347931 160.467999 \r\nL 105.683066 163.546336 \r\nL 106.018201 167.757075 \r\nL 106.353336 166.322544 \r\nL 106.688471 171.41658 \r\nL 107.023606 171.456219 \r\nL 107.693877 164.379555 \r\nL 108.029012 163.317571 \r\nL 108.364147 159.201691 \r\nL 108.699282 160.057588 \r\nL 109.034417 158.311829 \r\nL 109.369552 157.242942 \r\nL 110.039823 159.752731 \r\nL 110.374958 159.52112 \r\nL 110.710093 162.213457 \r\nL 111.045228 157.780531 \r\nL 111.380363 157.123669 \r\nL 111.715498 152.728812 \r\nL 112.050633 157.481664 \r\nL 112.385769 158.649077 \r\nL 112.720904 157.464896 \r\nL 113.056039 159.205025 \r\nL 113.391174 157.804032 \r\nL 113.726309 157.416211 \r\nL 114.061444 159.352806 \r\nL 114.396579 158.76443 \r\nL 114.731715 159.002186 \r\nL 115.06685 152.094783 \r\nL 115.401985 152.096985 \r\nL 115.73712 152.699537 \r\nL 116.40739 141.440989 \r\nL 116.742525 142.726891 \r\nL 117.07766 142.346401 \r\nL 117.412796 147.378307 \r\nL 117.747931 148.494164 \r\nL 118.083066 147.34264 \r\nL 118.418201 148.542222 \r\nL 118.753336 148.551442 \r\nL 119.088471 147.815734 \r\nL 119.423606 150.679111 \r\nL 119.758742 155.226882 \r\nL 120.093877 152.064035 \r\nL 120.429012 150.980463 \r\nL 120.764147 155.952544 \r\nL 121.099282 153.8184 \r\nL 121.434417 154.005049 \r\nL 121.769552 147.740946 \r\nL 122.104688 146.714076 \r\nL 122.439823 145.064705 \r\nL 122.774958 144.897995 \r\nL 123.110093 144.424795 \r\nL 123.780363 145.762118 \r\nL 124.115498 150.974389 \r\nL 124.450633 154.324813 \r\nL 124.785769 159.760439 \r\nL 125.120904 157.68477 \r\nL 125.791174 162.342237 \r\nL 126.126309 159.73775 \r\nL 126.461444 163.101976 \r\nL 126.796579 168.315112 \r\nL 127.131715 169.878438 \r\nL 127.46685 163.463305 \r\nL 127.801985 163.409741 \r\nL 128.13712 159.081369 \r\nL 128.472255 166.714614 \r\nL 128.80739 165.990541 \r\nL 129.142525 166.925264 \r\nL 129.47766 163.713041 \r\nL 129.812796 163.322306 \r\nL 130.147931 155.931064 \r\nL 130.483066 153.845983 \r\nL 130.818201 149.701779 \r\nL 131.153336 153.556137 \r\nL 131.823606 158.291364 \r\nL 132.158742 153.212446 \r\nL 132.493877 153.318053 \r\nL 132.829012 148.642524 \r\nL 133.164147 151.820571 \r\nL 133.834417 151.747162 \r\nL 134.169552 153.323815 \r\nL 134.504687 154.001575 \r\nL 134.839823 161.589995 \r\nL 135.174958 166.541997 \r\nL 135.510093 165.889178 \r\nL 135.845228 163.731148 \r\nL 136.180363 155.197791 \r\nL 136.515498 153.98448 \r\nL 136.850633 158.909543 \r\nL 137.185769 160.982281 \r\nL 137.520904 159.699538 \r\nL 137.856039 160.57762 \r\nL 138.191174 158.333326 \r\nL 138.526309 157.197359 \r\nL 138.861444 157.215412 \r\nL 139.196579 155.903303 \r\nL 139.531715 162.614893 \r\nL 139.86685 165.821291 \r\nL 140.201985 163.028204 \r\nL 140.53712 173.546573 \r\nL 140.872255 171.305824 \r\nL 141.20739 171.785711 \r\nL 141.542525 169.864298 \r\nL 141.87766 173.290532 \r\nL 142.212796 167.968506 \r\nL 142.547931 167.596319 \r\nL 142.883066 167.603861 \r\nL 143.218201 165.413526 \r\nL 143.553336 165.67954 \r\nL 143.888471 166.580532 \r\nL 144.223606 158.340416 \r\nL 144.558742 160.353659 \r\nL 144.893877 163.511465 \r\nL 145.899282 146.307667 \r\nL 146.234417 143.198229 \r\nL 146.569552 148.899941 \r\nL 146.904688 145.323382 \r\nL 147.239823 153.264321 \r\nL 147.574958 154.007499 \r\nL 147.910093 155.581608 \r\nL 148.245228 148.880821 \r\nL 148.915498 143.451088 \r\nL 149.250633 145.078276 \r\nL 149.585769 143.52457 \r\nL 150.256039 136.978916 \r\nL 150.591174 139.662732 \r\nL 150.926309 141.352368 \r\nL 151.261444 139.383659 \r\nL 151.596579 143.694346 \r\nL 151.931715 145.013407 \r\nL 152.26685 145.131075 \r\nL 152.601985 146.058729 \r\nL 152.93712 146.371736 \r\nL 153.272255 147.056071 \r\nL 153.60739 149.329834 \r\nL 153.942525 159.136824 \r\nL 154.27766 158.354768 \r\nL 154.612796 158.71746 \r\nL 154.947931 157.867181 \r\nL 155.283066 154.877402 \r\nL 156.288471 168.041821 \r\nL 156.623606 164.195768 \r\nL 156.958742 168.835754 \r\nL 157.293877 163.450139 \r\nL 157.629012 164.826347 \r\nL 157.964147 164.576317 \r\nL 158.299282 164.712881 \r\nL 158.634417 164.651007 \r\nL 158.969552 162.202072 \r\nL 159.304688 158.418657 \r\nL 159.639823 158.074324 \r\nL 159.974958 152.657014 \r\nL 160.310093 151.955702 \r\nL 160.980363 160.485347 \r\nL 161.650633 158.150003 \r\nL 161.985769 159.261616 \r\nL 162.320904 157.669981 \r\nL 162.656039 153.756033 \r\nL 162.991174 151.855154 \r\nL 163.326309 147.657204 \r\nL 163.661444 151.940979 \r\nL 163.996579 152.262996 \r\nL 164.331715 152.804935 \r\nL 164.66685 152.931492 \r\nL 165.001985 151.272463 \r\nL 165.672255 152.987444 \r\nL 166.00739 154.750945 \r\nL 166.342525 150.221588 \r\nL 166.67766 148.212676 \r\nL 167.012796 146.922021 \r\nL 167.347931 149.968821 \r\nL 168.353336 142.55256 \r\nL 168.688471 144.710323 \r\nL 169.358742 140.203218 \r\nL 169.693877 139.88653 \r\nL 170.029012 142.637846 \r\nL 170.364147 148.710867 \r\nL 171.034417 151.24073 \r\nL 171.369552 148.370068 \r\nL 171.704687 151.951337 \r\nL 172.039823 140.138069 \r\nL 172.710093 137.753634 \r\nL 173.045228 133.812067 \r\nL 173.380363 137.679357 \r\nL 173.715498 138.561812 \r\nL 174.050633 136.940076 \r\nL 174.385769 137.851812 \r\nL 174.720904 140.854965 \r\nL 175.056039 136.633423 \r\nL 175.391174 134.313928 \r\nL 175.726309 130.978479 \r\nL 176.061444 136.412805 \r\nL 176.396579 137.558476 \r\nL 176.731715 140.386845 \r\nL 177.06685 144.192885 \r\nL 177.401985 143.663582 \r\nL 177.73712 142.762157 \r\nL 178.072255 142.770603 \r\nL 178.40739 145.128293 \r\nL 178.742525 148.799612 \r\nL 179.07766 146.51538 \r\nL 179.412796 147.849985 \r\nL 179.747931 148.21665 \r\nL 180.083066 155.072189 \r\nL 180.418201 153.016495 \r\nL 180.753336 154.505819 \r\nL 181.088471 152.697535 \r\nL 181.423606 158.199354 \r\nL 181.758742 158.512198 \r\nL 182.093877 156.637656 \r\nL 182.429012 162.231948 \r\nL 182.764147 161.37223 \r\nL 183.099282 163.107945 \r\nL 183.434417 165.549429 \r\nL 183.769552 171.277712 \r\nL 184.439823 167.458758 \r\nL 184.774958 166.147275 \r\nL 185.110093 158.401462 \r\nL 185.445228 159.204395 \r\nL 185.780363 155.760084 \r\nL 186.115498 156.712981 \r\nL 186.450633 153.744293 \r\nL 186.785769 163.012046 \r\nL 187.456039 156.942537 \r\nL 187.791174 157.363813 \r\nL 188.461444 154.514148 \r\nL 188.796579 159.385935 \r\nL 189.131715 160.574317 \r\nL 189.46685 157.486187 \r\nL 189.801985 157.016422 \r\nL 190.472255 165.340581 \r\nL 190.80739 174.232855 \r\nL 191.142525 175.52695 \r\nL 192.147931 167.142525 \r\nL 192.483066 171.479081 \r\nL 192.818201 168.247271 \r\nL 193.153336 169.378933 \r\nL 193.488471 169.072495 \r\nL 193.823606 172.566899 \r\nL 194.158742 170.93029 \r\nL 194.493877 167.736474 \r\nL 194.829012 169.608293 \r\nL 195.164147 167.281971 \r\nL 195.499282 162.079969 \r\nL 196.169552 172.022857 \r\nL 196.839823 166.91816 \r\nL 197.510093 170.152999 \r\nL 197.845228 172.558099 \r\nL 198.180363 171.943646 \r\nL 198.515498 174.958986 \r\nL 198.850633 172.729153 \r\nL 199.185769 162.158426 \r\nL 199.520904 155.57387 \r\nL 199.856039 160.064798 \r\nL 200.191174 154.105371 \r\nL 200.526309 159.424476 \r\nL 201.196579 175.251922 \r\nL 201.531715 175.793038 \r\nL 201.86685 172.311998 \r\nL 202.53712 180.142616 \r\nL 202.872255 176.07407 \r\nL 203.20739 174.706853 \r\nL 203.542525 172.377744 \r\nL 203.87766 171.09253 \r\nL 204.212796 176.0293 \r\nL 204.547931 176.337331 \r\nL 204.883066 179.170465 \r\nL 205.218201 175.725824 \r\nL 205.553336 175.951237 \r\nL 206.223606 167.960396 \r\nL 206.893877 169.708895 \r\nL 207.229012 166.481222 \r\nL 207.564147 168.257184 \r\nL 207.899282 173.228291 \r\nL 208.234417 174.828478 \r\nL 208.569552 175.355066 \r\nL 208.904688 175.134135 \r\nL 209.239823 178.638009 \r\nL 209.574958 175.696975 \r\nL 209.910093 175.830074 \r\nL 210.245228 174.607126 \r\nL 210.580363 179.131817 \r\nL 210.915498 180.299531 \r\nL 211.250633 173.954649 \r\nL 211.585769 172.689579 \r\nL 211.920904 167.924338 \r\nL 212.256039 171.527655 \r\nL 212.591174 170.641678 \r\nL 212.926309 172.43933 \r\nL 213.261444 168.758744 \r\nL 213.596579 161.718877 \r\nL 213.931715 164.301538 \r\nL 214.26685 156.519699 \r\nL 214.601985 159.878878 \r\nL 214.93712 160.135795 \r\nL 215.272255 159.326073 \r\nL 215.60739 157.72528 \r\nL 216.27766 151.835643 \r\nL 216.612796 157.524103 \r\nL 216.947931 153.698975 \r\nL 217.283066 153.258766 \r\nL 217.953336 145.567397 \r\nL 218.288471 145.798066 \r\nL 218.623606 144.922582 \r\nL 218.958742 144.763659 \r\nL 219.293877 143.512134 \r\nL 219.629012 143.954957 \r\nL 219.964147 141.656952 \r\nL 220.299282 137.493156 \r\nL 220.634417 138.28399 \r\nL 220.969552 136.270056 \r\nL 221.304688 136.620569 \r\nL 221.639823 127.101035 \r\nL 221.974958 131.254201 \r\nL 222.645228 126.536448 \r\nL 222.980363 125.204052 \r\nL 223.315498 127.341452 \r\nL 223.650633 127.796358 \r\nL 224.320904 122.602539 \r\nL 224.656039 121.773737 \r\nL 224.991174 123.730271 \r\nL 225.326309 123.901306 \r\nL 225.661444 125.463917 \r\nL 225.996579 124.331968 \r\nL 226.331715 125.464049 \r\nL 226.66685 125.123417 \r\nL 227.001985 124.943906 \r\nL 227.33712 125.312612 \r\nL 227.672255 130.152297 \r\nL 228.00739 129.644603 \r\nL 228.342525 130.902845 \r\nL 228.67766 125.120341 \r\nL 229.012796 121.910352 \r\nL 229.347931 126.399654 \r\nL 229.683066 127.691411 \r\nL 230.018201 124.95594 \r\nL 230.353336 135.298772 \r\nL 230.688471 132.809925 \r\nL 231.023606 126.631545 \r\nL 231.358742 126.430187 \r\nL 231.693877 124.660174 \r\nL 232.029012 126.22095 \r\nL 232.364147 128.341704 \r\nL 232.699282 129.464196 \r\nL 233.034417 129.085093 \r\nL 233.704687 135.518558 \r\nL 234.039823 132.2691 \r\nL 234.374958 135.079468 \r\nL 234.710093 142.393524 \r\nL 235.045228 143.323337 \r\nL 236.050633 137.610913 \r\nL 236.385769 132.598622 \r\nL 236.720904 133.445189 \r\nL 237.056039 130.116085 \r\nL 237.391174 128.622211 \r\nL 237.726309 128.65785 \r\nL 238.061444 130.453999 \r\nL 238.396579 128.195676 \r\nL 238.731715 124.601158 \r\nL 239.06685 127.139475 \r\nL 239.401985 125.257354 \r\nL 239.73712 121.32441 \r\nL 240.40739 124.728062 \r\nL 240.742525 123.819185 \r\nL 241.07766 124.888058 \r\nL 241.412796 124.246752 \r\nL 241.747931 116.02788 \r\nL 242.083066 119.362002 \r\nL 242.418201 115.028776 \r\nL 242.753336 118.579995 \r\nL 243.088471 117.192048 \r\nL 243.423606 111.118258 \r\nL 243.758742 117.480718 \r\nL 244.093877 118.684512 \r\nL 244.764147 114.938795 \r\nL 245.099282 113.098739 \r\nL 245.434417 111.947671 \r\nL 245.769552 108.538318 \r\nL 246.104688 109.419777 \r\nL 246.439823 117.798616 \r\nL 246.774958 117.30933 \r\nL 247.110093 116.232626 \r\nL 247.445228 121.425493 \r\nL 247.780363 119.964532 \r\nL 248.115498 114.759983 \r\nL 248.450633 115.425005 \r\nL 248.785769 120.43745 \r\nL 249.120904 119.969599 \r\nL 249.456039 115.607942 \r\nL 249.791174 109.635663 \r\nL 250.126309 113.025964 \r\nL 250.461444 109.240855 \r\nL 250.796579 107.437205 \r\nL 251.131715 110.319896 \r\nL 251.46685 109.133548 \r\nL 251.801985 103.902614 \r\nL 252.13712 106.926652 \r\nL 252.80739 102.313284 \r\nL 253.47766 100.866319 \r\nL 253.812796 108.350119 \r\nL 254.147931 108.484157 \r\nL 254.483066 110.78411 \r\nL 254.818201 108.216861 \r\nL 255.153336 112.673944 \r\nL 255.488471 114.319 \r\nL 255.823606 117.896133 \r\nL 256.158742 113.292569 \r\nL 256.829012 114.918612 \r\nL 257.164147 119.953766 \r\nL 257.499282 117.652208 \r\nL 257.834417 124.607166 \r\nL 258.169552 120.708483 \r\nL 258.504687 124.27086 \r\nL 258.839823 123.521636 \r\nL 259.174958 121.160682 \r\nL 259.845228 128.859769 \r\nL 260.515498 122.165366 \r\nL 260.850633 127.783959 \r\nL 261.520904 131.904369 \r\nL 261.856039 135.106444 \r\nL 262.191174 127.518277 \r\nL 262.526309 129.498682 \r\nL 262.861444 129.898834 \r\nL 263.531715 124.629591 \r\nL 263.86685 122.826945 \r\nL 264.201985 125.063846 \r\nL 264.53712 122.020276 \r\nL 264.872255 127.09035 \r\nL 265.20739 124.991342 \r\nL 265.542525 126.543796 \r\nL 265.87766 127.116491 \r\nL 266.547931 141.181034 \r\nL 266.883066 139.971204 \r\nL 267.218201 133.518318 \r\nL 267.553336 131.627471 \r\nL 267.888471 130.798186 \r\nL 268.223606 127.017324 \r\nL 268.558742 127.129687 \r\nL 268.893877 127.904504 \r\nL 269.229012 129.536748 \r\nL 269.564147 124.975475 \r\nL 269.899282 128.094048 \r\nL 270.234417 129.239737 \r\nL 270.569552 128.999997 \r\nL 270.904688 127.410432 \r\nL 271.239823 129.125082 \r\nL 271.574958 128.36083 \r\nL 271.910093 128.906269 \r\nL 272.245228 129.840707 \r\nL 272.580363 133.687725 \r\nL 272.915498 134.929719 \r\nL 273.250633 135.201625 \r\nL 273.585769 132.877217 \r\nL 273.920904 133.581251 \r\nL 274.256039 127.955129 \r\nL 274.591174 134.881705 \r\nL 274.926309 127.774168 \r\nL 275.261444 127.079058 \r\nL 275.596579 130.305043 \r\nL 276.26685 143.685908 \r\nL 276.93712 132.527666 \r\nL 277.272255 135.594001 \r\nL 277.60739 133.243742 \r\nL 277.942525 124.725664 \r\nL 278.27766 128.688587 \r\nL 278.612796 126.779448 \r\nL 278.947931 123.259917 \r\nL 279.283066 120.998646 \r\nL 279.618201 113.929748 \r\nL 279.953336 114.766784 \r\nL 280.288471 114.686639 \r\nL 280.623606 117.96663 \r\nL 280.958742 115.713884 \r\nL 281.293877 114.813384 \r\nL 281.629012 113.060783 \r\nL 281.964147 113.075844 \r\nL 282.299282 115.276626 \r\nL 282.969552 105.251049 \r\nL 283.304688 106.82841 \r\nL 283.639823 107.230955 \r\nL 283.974958 104.910538 \r\nL 284.310093 109.143139 \r\nL 284.645228 109.777583 \r\nL 284.980363 105.058795 \r\nL 285.315498 105.217168 \r\nL 285.650633 104.775509 \r\nL 285.985769 105.579192 \r\nL 286.320904 110.721834 \r\nL 286.656039 111.894917 \r\nL 286.991174 113.516621 \r\nL 287.326309 115.713603 \r\nL 287.661444 119.862918 \r\nL 287.996579 109.237215 \r\nL 288.331715 109.661415 \r\nL 288.66685 109.46456 \r\nL 289.001985 101.049228 \r\nL 289.33712 102.0092 \r\nL 289.672255 101.970629 \r\nL 290.00739 100.974709 \r\nL 290.342525 98.99177 \r\nL 290.67766 101.302248 \r\nL 291.012796 100.426774 \r\nL 291.347931 102.28472 \r\nL 292.018201 97.825898 \r\nL 292.353336 102.299985 \r\nL 292.688471 101.295186 \r\nL 293.023606 110.392481 \r\nL 293.358742 114.723007 \r\nL 293.693877 116.966517 \r\nL 294.029012 121.396045 \r\nL 294.699282 122.156469 \r\nL 295.034417 116.018947 \r\nL 295.369552 112.151008 \r\nL 295.704687 112.477492 \r\nL 296.039823 114.882259 \r\nL 296.374958 115.991781 \r\nL 297.045228 121.5279 \r\nL 297.715498 132.257877 \r\nL 298.050633 132.931726 \r\nL 298.385769 132.022887 \r\nL 298.720904 126.414097 \r\nL 299.056039 123.805392 \r\nL 299.391174 125.224164 \r\nL 300.061444 121.72066 \r\nL 300.396579 123.077846 \r\nL 300.731715 121.863321 \r\nL 301.06685 121.885471 \r\nL 301.401985 124.999045 \r\nL 301.73712 126.536307 \r\nL 302.072255 122.910604 \r\nL 302.40739 129.347349 \r\nL 302.742525 128.639198 \r\nL 303.07766 121.845806 \r\nL 303.412796 119.537521 \r\nL 303.747931 123.626317 \r\nL 304.083066 129.278804 \r\nL 304.418201 126.807022 \r\nL 305.423606 131.631893 \r\nL 305.758742 126.941218 \r\nL 306.093877 132.301237 \r\nL 306.429012 127.165223 \r\nL 306.764147 124.880012 \r\nL 307.099282 124.34039 \r\nL 307.434417 118.167684 \r\nL 307.769552 124.334826 \r\nL 308.439823 114.20843 \r\nL 308.774958 115.010313 \r\nL 309.110093 119.939305 \r\nL 309.445228 116.161087 \r\nL 310.115498 113.983259 \r\nL 310.450633 112.328543 \r\nL 311.120904 103.412708 \r\nL 311.456039 109.388352 \r\nL 311.791174 111.947341 \r\nL 312.126309 112.015585 \r\nL 312.461444 108.790893 \r\nL 312.796579 111.802946 \r\nL 313.131715 117.774521 \r\nL 313.46685 115.518947 \r\nL 313.801985 118.437302 \r\nL 314.13712 116.535053 \r\nL 314.472255 113.266506 \r\nL 314.80739 117.913519 \r\nL 315.142525 115.860041 \r\nL 315.47766 115.522006 \r\nL 315.812796 114.769785 \r\nL 316.147931 108.61865 \r\nL 316.483066 108.395319 \r\nL 316.818201 110.297622 \r\nL 317.153336 109.271785 \r\nL 317.488471 113.849564 \r\nL 317.823606 106.927849 \r\nL 318.158742 112.455898 \r\nL 318.829012 119.495955 \r\nL 319.164147 115.817161 \r\nL 319.499282 118.946958 \r\nL 319.834417 120.396458 \r\nL 320.504687 116.208562 \r\nL 321.174958 105.756404 \r\nL 321.510093 103.527221 \r\nL 321.845228 104.863987 \r\nL 322.180363 101.844396 \r\nL 322.515498 103.32144 \r\nL 322.850633 109.734264 \r\nL 323.185769 113.67805 \r\nL 323.520904 115.354008 \r\nL 323.856039 111.251039 \r\nL 324.191174 110.661565 \r\nL 324.526309 111.091376 \r\nL 324.861444 104.96424 \r\nL 325.196579 101.181915 \r\nL 325.531715 101.668935 \r\nL 325.86685 102.428949 \r\nL 326.201985 107.783454 \r\nL 326.53712 108.482224 \r\nL 327.20739 105.310656 \r\nL 327.87766 114.62997 \r\nL 328.212796 116.283025 \r\nL 328.547931 115.181871 \r\nL 328.883066 115.394329 \r\nL 329.218201 115.13939 \r\nL 329.553336 115.169932 \r\nL 329.888471 116.886666 \r\nL 330.223606 112.000777 \r\nL 330.558742 111.111062 \r\nL 330.893877 108.847743 \r\nL 331.229012 115.930206 \r\nL 331.564147 113.255748 \r\nL 331.899282 118.663306 \r\nL 332.234417 111.72137 \r\nL 332.569552 114.046504 \r\nL 332.904688 118.963895 \r\nL 333.239823 117.597443 \r\nL 333.910093 119.044611 \r\nL 334.245228 117.160817 \r\nL 334.580363 116.360956 \r\nL 334.915498 120.377943 \r\nL 335.250633 119.865968 \r\nL 335.585769 121.168724 \r\nL 335.920904 125.822899 \r\nL 336.256039 126.475603 \r\nL 336.591174 134.799604 \r\nL 336.926309 132.833257 \r\nL 337.261444 138.013582 \r\nL 337.596579 136.929905 \r\nL 337.931715 139.296379 \r\nL 338.26685 137.768942 \r\nL 338.601985 139.092194 \r\nL 338.93712 136.085163 \r\nL 339.272255 138.66953 \r\nL 339.60739 138.052052 \r\nL 339.942525 138.185794 \r\nL 340.27766 139.332419 \r\nL 340.612796 138.977814 \r\nL 341.283066 137.552962 \r\nL 341.618201 139.246908 \r\nL 341.953336 136.172149 \r\nL 342.288471 138.032896 \r\nL 342.623606 132.702769 \r\nL 342.958742 130.759743 \r\nL 343.629012 141.044997 \r\nL 344.299282 143.659054 \r\nL 344.634417 139.905999 \r\nL 344.969552 139.006767 \r\nL 345.304688 136.466217 \r\nL 345.639823 137.623645 \r\nL 345.974958 142.021815 \r\nL 346.310093 138.863532 \r\nL 346.645228 137.723469 \r\nL 346.980363 134.732746 \r\nL 347.315498 138.879382 \r\nL 347.985769 135.034229 \r\nL 348.320904 136.862295 \r\nL 348.656039 133.013201 \r\nL 348.991174 136.671453 \r\nL 349.326309 134.522879 \r\nL 349.661444 135.156516 \r\nL 349.996579 131.4324 \r\nL 350.331715 132.105589 \r\nL 350.66685 136.908255 \r\nL 351.001985 133.209073 \r\nL 351.33712 132.26585 \r\nL 352.00739 140.187083 \r\nL 352.342525 136.492467 \r\nL 353.347931 148.564279 \r\nL 353.683066 146.333097 \r\nL 354.353336 149.896359 \r\nL 354.688471 149.501456 \r\nL 355.023606 147.01049 \r\nL 355.358742 143.046964 \r\nL 355.693877 143.508974 \r\nL 356.029012 142.356733 \r\nL 356.364147 147.762882 \r\nL 357.034417 138.907964 \r\nL 357.369552 138.987611 \r\nL 357.704687 146.654447 \r\nL 358.039823 144.523215 \r\nL 358.374958 144.344353 \r\nL 358.710093 146.384576 \r\nL 359.045228 141.649288 \r\nL 359.380363 142.585704 \r\nL 359.715498 144.930228 \r\nL 360.050633 139.801536 \r\nL 360.385769 141.197839 \r\nL 360.720904 144.005248 \r\nL 361.056039 144.392111 \r\nL 361.391174 146.635076 \r\nL 361.726309 147.455474 \r\nL 362.061444 144.844124 \r\nL 362.396579 150.661027 \r\nL 362.731715 148.46336 \r\nL 363.06685 148.903874 \r\nL 363.401985 146.325532 \r\nL 363.73712 146.534207 \r\nL 364.072255 142.312637 \r\nL 364.742525 138.182921 \r\nL 365.412796 123.568294 \r\nL 365.747931 124.371979 \r\nL 366.418201 131.009404 \r\nL 367.088471 122.393738 \r\nL 367.423606 123.067706 \r\nL 367.758742 126.513485 \r\nL 368.093877 128.375858 \r\nL 368.429012 128.545346 \r\nL 368.764147 126.403252 \r\nL 369.434417 128.661788 \r\nL 369.769552 134.139703 \r\nL 370.104688 132.797641 \r\nL 370.104688 132.797641 \r\n\" style=\"fill:none;stroke:#1f77b4;stroke-linecap:square;stroke-width:1.5;\"/>\r\n   </g>\r\n   <g id=\"line2d_42\">\r\n    <path clip-path=\"url(#p0a8d1286e0)\" d=\"M 35.304688 88.25163 \r\nL 35.639823 89.902818 \r\nL 35.974958 84.409905 \r\nL 36.310093 81.73906 \r\nL 36.645228 81.313539 \r\nL 36.980363 83.117679 \r\nL 37.650633 88.995681 \r\nL 37.985769 87.431664 \r\nL 38.320904 83.29793 \r\nL 38.656039 84.231611 \r\nL 38.991174 85.671901 \r\nL 39.326309 84.487877 \r\nL 39.661444 87.112789 \r\nL 39.996579 82.831597 \r\nL 40.331715 80.044372 \r\nL 40.66685 83.904086 \r\nL 41.001985 74.744238 \r\nL 41.33712 77.107681 \r\nL 41.672255 77.379168 \r\nL 42.00739 83.373088 \r\nL 42.342525 80.843964 \r\nL 42.67766 81.106675 \r\nL 43.012796 80.248808 \r\nL 43.347931 85.37433 \r\nL 43.683066 88.394462 \r\nL 44.353336 86.120274 \r\nL 44.688471 85.392507 \r\nL 45.023606 82.469405 \r\nL 45.358742 82.38199 \r\nL 45.693877 87.352556 \r\nL 46.029012 88.310863 \r\nL 46.364147 84.528283 \r\nL 46.699282 86.510651 \r\nL 47.034417 84.098808 \r\nL 47.369552 83.14988 \r\nL 47.704687 82.715536 \r\nL 48.039823 83.392532 \r\nL 48.374958 80.115992 \r\nL 48.710093 80.916436 \r\nL 49.380363 85.14945 \r\nL 49.715498 83.017776 \r\nL 50.050633 83.65046 \r\nL 50.385769 82.43528 \r\nL 50.720904 84.91267 \r\nL 51.056039 80.845587 \r\nL 51.391174 84.37603 \r\nL 51.726309 79.595426 \r\nL 52.061444 82.548307 \r\nL 52.731715 90.267762 \r\nL 53.06685 97.026862 \r\nL 53.401985 96.649723 \r\nL 53.73712 94.574349 \r\nL 54.072255 93.575712 \r\nL 54.40739 100.581013 \r\nL 54.742525 96.762466 \r\nL 55.747931 105.342425 \r\nL 56.753336 100.310547 \r\nL 57.088471 98.363945 \r\nL 57.423606 103.509996 \r\nL 57.758742 104.300518 \r\nL 58.093877 108.438189 \r\nL 58.429012 107.074424 \r\nL 58.764147 100.053517 \r\nL 59.099282 101.065713 \r\nL 59.434417 99.955159 \r\nL 59.769552 99.925444 \r\nL 60.104688 94.137219 \r\nL 60.439823 90.530164 \r\nL 60.774958 91.393698 \r\nL 61.110093 94.436111 \r\nL 61.445228 92.845809 \r\nL 62.115498 87.395115 \r\nL 62.450633 82.013592 \r\nL 62.785769 87.092338 \r\nL 63.120904 86.023263 \r\nL 63.456039 86.09385 \r\nL 63.791174 79.767156 \r\nL 64.126309 83.702526 \r\nL 64.461444 85.238284 \r\nL 64.796579 85.112754 \r\nL 65.46685 80.576873 \r\nL 65.801985 80.700364 \r\nL 66.13712 80.031323 \r\nL 66.472255 77.143566 \r\nL 66.80739 78.466411 \r\nL 67.142525 81.302665 \r\nL 67.47766 81.59386 \r\nL 67.812796 83.368136 \r\nL 68.147931 81.999793 \r\nL 68.483066 82.005505 \r\nL 68.818201 82.212764 \r\nL 69.488471 85.041683 \r\nL 69.823606 79.905542 \r\nL 70.158742 84.693467 \r\nL 70.493877 83.977634 \r\nL 70.829012 82.860189 \r\nL 71.164147 88.91506 \r\nL 71.499282 88.380674 \r\nL 72.169552 84.506446 \r\nL 72.504687 87.7788 \r\nL 72.839823 88.260031 \r\nL 73.174958 82.223539 \r\nL 73.510093 87.605352 \r\nL 73.845228 88.664101 \r\nL 74.180363 85.5835 \r\nL 74.515498 84.844076 \r\nL 74.850633 81.752102 \r\nL 75.185769 85.637073 \r\nL 75.520904 86.412265 \r\nL 75.856039 79.71517 \r\nL 76.191174 78.619587 \r\nL 76.526309 80.463266 \r\nL 76.861444 79.50065 \r\nL 77.196579 69.88962 \r\nL 77.531715 72.608028 \r\nL 77.86685 70.238838 \r\nL 78.201985 70.193467 \r\nL 78.53712 74.981218 \r\nL 78.872255 75.920047 \r\nL 79.20739 74.187103 \r\nL 79.87766 84.447345 \r\nL 80.212796 88.703045 \r\nL 81.218201 96.418635 \r\nL 81.553336 97.840518 \r\nL 81.888471 104.419619 \r\nL 82.223606 102.452477 \r\nL 82.558742 104.766622 \r\nL 82.893877 104.37204 \r\nL 83.229012 102.719231 \r\nL 83.564147 97.83896 \r\nL 83.899282 106.379108 \r\nL 84.234417 105.462345 \r\nL 84.569552 107.181649 \r\nL 85.574958 118.377438 \r\nL 85.910093 110.576704 \r\nL 86.245228 113.1347 \r\nL 86.580363 108.360591 \r\nL 87.250633 113.224562 \r\nL 87.585769 114.590335 \r\nL 87.920904 115.33014 \r\nL 88.256039 108.409297 \r\nL 88.591174 109.798842 \r\nL 88.926309 108.55122 \r\nL 89.261444 110.595729 \r\nL 89.596579 113.488676 \r\nL 89.931715 114.149764 \r\nL 90.601985 120.327919 \r\nL 90.93712 120.620355 \r\nL 91.272255 124.808225 \r\nL 91.60739 117.783392 \r\nL 91.942525 120.271094 \r\nL 92.27766 115.956065 \r\nL 92.612796 116.204744 \r\nL 92.947931 120.89691 \r\nL 93.618201 117.170044 \r\nL 93.953336 114.495946 \r\nL 94.288471 107.420391 \r\nL 94.623606 108.218315 \r\nL 94.958742 113.502565 \r\nL 95.293877 114.381867 \r\nL 95.629012 110.774058 \r\nL 95.964147 114.180399 \r\nL 96.299282 107.21518 \r\nL 96.969552 115.982604 \r\nL 97.304688 118.420285 \r\nL 97.639823 122.289506 \r\nL 97.974958 117.184752 \r\nL 98.310093 117.742203 \r\nL 98.645228 118.949989 \r\nL 98.980363 112.887262 \r\nL 99.315498 111.030454 \r\nL 99.650633 114.063593 \r\nL 99.985769 121.508679 \r\nL 100.320904 116.878848 \r\nL 100.656039 117.741211 \r\nL 100.991174 117.228459 \r\nL 101.326309 116.472459 \r\nL 101.661444 120.489632 \r\nL 101.996579 119.739176 \r\nL 102.331715 113.895403 \r\nL 102.66685 111.266705 \r\nL 103.001985 104.432014 \r\nL 103.33712 109.598128 \r\nL 103.672255 112.824475 \r\nL 104.00739 123.622058 \r\nL 104.342525 129.128113 \r\nL 104.67766 124.840962 \r\nL 105.012796 124.570143 \r\nL 105.347931 119.99477 \r\nL 105.683066 120.372494 \r\nL 106.018201 122.155023 \r\nL 106.353336 125.600493 \r\nL 106.688471 119.202268 \r\nL 107.023606 121.984965 \r\nL 107.358742 123.458651 \r\nL 107.693877 121.895877 \r\nL 108.029012 126.07147 \r\nL 108.364147 133.38867 \r\nL 108.699282 134.699572 \r\nL 109.369552 139.86566 \r\nL 110.374958 148.957206 \r\nL 110.710093 157.054582 \r\nL 111.045228 155.508722 \r\nL 111.380363 157.050676 \r\nL 112.050633 152.607689 \r\nL 112.720904 152.583046 \r\nL 113.056039 154.340692 \r\nL 113.391174 153.584217 \r\nL 113.726309 155.172823 \r\nL 114.061444 158.242038 \r\nL 114.396579 155.724501 \r\nL 114.731715 149.175515 \r\nL 115.06685 147.199937 \r\nL 115.401985 143.274021 \r\nL 115.73712 150.44425 \r\nL 116.072255 150.401093 \r\nL 116.40739 152.576394 \r\nL 117.07766 142.806101 \r\nL 117.412796 145.329851 \r\nL 117.747931 149.587621 \r\nL 118.083066 146.445958 \r\nL 119.088471 157.828955 \r\nL 119.423606 154.972133 \r\nL 119.758742 150.607654 \r\nL 120.093877 155.238021 \r\nL 120.429012 154.960319 \r\nL 120.764147 150.955418 \r\nL 121.099282 154.779664 \r\nL 121.434417 160.880273 \r\nL 121.769552 153.995875 \r\nL 122.104688 157.45947 \r\nL 122.439823 157.510752 \r\nL 122.774958 159.356168 \r\nL 123.110093 159.133365 \r\nL 123.445228 165.866991 \r\nL 123.780363 163.523726 \r\nL 124.115498 165.33082 \r\nL 124.450633 171.374253 \r\nL 125.120904 162.625189 \r\nL 125.456039 164.65027 \r\nL 125.791174 159.129011 \r\nL 126.126309 158.303319 \r\nL 126.461444 153.239931 \r\nL 126.796579 153.338767 \r\nL 127.131715 159.735585 \r\nL 127.46685 163.213324 \r\nL 127.801985 165.292642 \r\nL 128.472255 161.157348 \r\nL 128.80739 156.080881 \r\nL 129.142525 155.792153 \r\nL 129.812796 162.912984 \r\nL 130.147931 163.056366 \r\nL 130.483066 159.156352 \r\nL 130.818201 163.082896 \r\nL 131.153336 168.662621 \r\nL 131.488471 167.391843 \r\nL 131.823606 169.075559 \r\nL 132.158742 165.127602 \r\nL 132.493877 169.903306 \r\nL 132.829012 167.646842 \r\nL 133.164147 167.006823 \r\nL 133.499282 171.64294 \r\nL 133.834417 164.809517 \r\nL 134.169552 162.994351 \r\nL 134.504687 162.199711 \r\nL 134.839823 161.951202 \r\nL 135.174958 163.533145 \r\nL 135.510093 169.285487 \r\nL 135.845228 178.738855 \r\nL 136.180363 175.817794 \r\nL 136.515498 169.157092 \r\nL 136.850633 170.614279 \r\nL 137.185769 174.651619 \r\nL 137.520904 170.345659 \r\nL 137.856039 169.501198 \r\nL 138.191174 164.674027 \r\nL 138.526309 171.331235 \r\nL 138.861444 169.277004 \r\nL 139.531715 159.202268 \r\nL 139.86685 162.14617 \r\nL 140.201985 161.330115 \r\nL 140.53712 163.678506 \r\nL 140.872255 154.030504 \r\nL 141.20739 153.110271 \r\nL 141.542525 151.074454 \r\nL 141.87766 154.934624 \r\nL 142.212796 161.273438 \r\nL 142.547931 159.704714 \r\nL 142.883066 159.406324 \r\nL 143.218201 158.844092 \r\nL 143.553336 163.99445 \r\nL 143.888471 162.874104 \r\nL 144.223606 164.558433 \r\nL 144.558742 164.424857 \r\nL 144.893877 159.642587 \r\nL 145.229012 159.403105 \r\nL 145.564147 157.566489 \r\nL 145.899282 159.440386 \r\nL 146.234417 162.02997 \r\nL 146.569552 160.85951 \r\nL 146.904688 163.205567 \r\nL 147.239823 155.818909 \r\nL 147.574958 152.554321 \r\nL 147.910093 156.404065 \r\nL 148.245228 158.801884 \r\nL 148.580363 154.303491 \r\nL 148.915498 154.546436 \r\nL 149.250633 153.786717 \r\nL 149.585769 155.584074 \r\nL 149.920904 158.100814 \r\nL 150.256039 157.344231 \r\nL 150.926309 143.521861 \r\nL 151.261444 140.333293 \r\nL 151.596579 142.82617 \r\nL 151.931715 143.704347 \r\nL 152.26685 145.597126 \r\nL 152.601985 137.82877 \r\nL 153.272255 134.228582 \r\nL 153.60739 137.337117 \r\nL 153.942525 136.734292 \r\nL 154.27766 131.855361 \r\nL 154.612796 134.420448 \r\nL 154.947931 138.976525 \r\nL 155.283066 138.960904 \r\nL 155.618201 140.626451 \r\nL 155.953336 133.986663 \r\nL 156.288471 139.678784 \r\nL 156.623606 135.69627 \r\nL 156.958742 143.420501 \r\nL 157.293877 147.117595 \r\nL 157.629012 141.90254 \r\nL 157.964147 146.142605 \r\nL 158.299282 143.178631 \r\nL 158.634417 149.325616 \r\nL 158.969552 144.842741 \r\nL 159.304688 146.530055 \r\nL 159.639823 148.910793 \r\nL 159.974958 147.511479 \r\nL 160.310093 145.293685 \r\nL 160.645228 149.137651 \r\nL 160.980363 148.107396 \r\nL 161.315498 150.432477 \r\nL 161.650633 150.502872 \r\nL 162.320904 155.574319 \r\nL 162.656039 155.114305 \r\nL 162.991174 157.154711 \r\nL 163.326309 163.603749 \r\nL 163.661444 174.806144 \r\nL 163.996579 177.701919 \r\nL 164.331715 177.897126 \r\nL 165.001985 182.177104 \r\nL 165.33712 178.312699 \r\nL 165.672255 183.724325 \r\nL 166.00739 185.820933 \r\nL 166.342525 178.937962 \r\nL 166.67766 179.674108 \r\nL 167.012796 181.781171 \r\nL 167.347931 190.702935 \r\nL 167.683066 190.28366 \r\nL 168.018201 192.852735 \r\nL 168.688471 193.965144 \r\nL 169.023606 189.553125 \r\nL 169.358742 193.447872 \r\nL 169.693877 193.002094 \r\nL 170.029012 188.863956 \r\nL 170.364147 189.980077 \r\nL 170.699282 180.417193 \r\nL 171.034417 182.986481 \r\nL 171.369552 179.880099 \r\nL 171.704687 183.776778 \r\nL 172.039823 191.633002 \r\nL 172.374958 185.138931 \r\nL 172.710093 183.359283 \r\nL 173.045228 184.982001 \r\nL 173.380363 188.679066 \r\nL 173.715498 185.036063 \r\nL 174.050633 189.694604 \r\nL 174.385769 186.334672 \r\nL 174.720904 188.748011 \r\nL 175.391174 186.239356 \r\nL 176.061444 174.507174 \r\nL 176.396579 172.341611 \r\nL 176.731715 164.7528 \r\nL 177.401985 175.533108 \r\nL 177.73712 178.36137 \r\nL 178.072255 178.3902 \r\nL 178.40739 175.078985 \r\nL 178.742525 173.136518 \r\nL 179.07766 164.493336 \r\nL 179.412796 168.683853 \r\nL 179.747931 174.971482 \r\nL 180.083066 171.620043 \r\nL 180.418201 170.856416 \r\nL 180.753336 168.839551 \r\nL 181.088471 171.653098 \r\nL 181.423606 175.589921 \r\nL 181.758742 177.526956 \r\nL 182.093877 175.233984 \r\nL 182.429012 170.811401 \r\nL 182.764147 169.450881 \r\nL 183.099282 169.402307 \r\nL 183.434417 167.838694 \r\nL 183.769552 165.095624 \r\nL 184.104688 165.845458 \r\nL 184.439823 169.321857 \r\nL 184.774958 170.926838 \r\nL 185.445228 168.993686 \r\nL 185.780363 167.35293 \r\nL 186.450633 173.146586 \r\nL 186.785769 173.55149 \r\nL 187.120904 168.104033 \r\nL 187.456039 172.347258 \r\nL 187.791174 170.934236 \r\nL 188.126309 174.83815 \r\nL 188.461444 171.084033 \r\nL 188.796579 171.570186 \r\nL 189.131715 167.464213 \r\nL 189.46685 161.51223 \r\nL 189.801985 158.794957 \r\nL 190.13712 157.363602 \r\nL 190.472255 165.478124 \r\nL 190.80739 165.190705 \r\nL 191.142525 162.87854 \r\nL 191.47766 163.677392 \r\nL 191.812796 159.235977 \r\nL 192.147931 158.299165 \r\nL 192.483066 155.471635 \r\nL 192.818201 159.541536 \r\nL 193.153336 160.305305 \r\nL 193.488471 158.206476 \r\nL 193.823606 157.235905 \r\nL 194.158742 152.492237 \r\nL 194.493877 149.647652 \r\nL 194.829012 149.094594 \r\nL 195.499282 137.224502 \r\nL 195.834417 138.424327 \r\nL 196.169552 132.824174 \r\nL 197.174958 123.989009 \r\nL 197.845228 139.603472 \r\nL 198.180363 142.193296 \r\nL 198.515498 140.810935 \r\nL 198.850633 140.222375 \r\nL 199.185769 144.46968 \r\nL 199.520904 141.743246 \r\nL 199.856039 137.748062 \r\nL 200.191174 140.815735 \r\nL 200.526309 135.768281 \r\nL 201.196579 144.957025 \r\nL 201.86685 148.280174 \r\nL 202.201985 152.2757 \r\nL 202.53712 153.684211 \r\nL 202.872255 151.910808 \r\nL 203.20739 151.718741 \r\nL 203.542525 151.268555 \r\nL 203.87766 154.64757 \r\nL 204.212796 154.392204 \r\nL 204.547931 149.39698 \r\nL 204.883066 149.012392 \r\nL 205.218201 146.784322 \r\nL 205.553336 142.539427 \r\nL 205.888471 140.963618 \r\nL 206.223606 143.359508 \r\nL 206.558742 148.876969 \r\nL 206.893877 147.624095 \r\nL 207.229012 146.870959 \r\nL 207.899282 136.811146 \r\nL 208.234417 138.586972 \r\nL 208.569552 138.959725 \r\nL 208.904688 144.265532 \r\nL 209.239823 143.81884 \r\nL 209.574958 147.022896 \r\nL 209.910093 151.580911 \r\nL 210.245228 153.58805 \r\nL 210.580363 151.990713 \r\nL 210.915498 148.462459 \r\nL 211.250633 147.717849 \r\nL 211.585769 141.022637 \r\nL 211.920904 139.274059 \r\nL 212.256039 140.829325 \r\nL 212.591174 145.647415 \r\nL 212.926309 147.411757 \r\nL 213.261444 148.074771 \r\nL 213.596579 138.921669 \r\nL 213.931715 150.406371 \r\nL 214.26685 148.008305 \r\nL 214.601985 143.012994 \r\nL 214.93712 140.081463 \r\nL 215.272255 139.378522 \r\nL 215.60739 140.832899 \r\nL 215.942525 146.270767 \r\nL 216.27766 140.671593 \r\nL 216.612796 147.753011 \r\nL 216.947931 152.199992 \r\nL 217.283066 148.206853 \r\nL 217.618201 157.782169 \r\nL 218.288471 160.604885 \r\nL 218.623606 158.418693 \r\nL 218.958742 157.749779 \r\nL 219.293877 160.357045 \r\nL 220.634417 150.850686 \r\nL 221.304688 156.21286 \r\nL 221.639823 161.36115 \r\nL 222.310093 163.940813 \r\nL 222.645228 166.39861 \r\nL 222.980363 166.272896 \r\nL 223.315498 165.538997 \r\nL 223.650633 162.64759 \r\nL 223.985769 164.524901 \r\nL 224.320904 164.572867 \r\nL 224.656039 160.60193 \r\nL 224.991174 152.341239 \r\nL 225.326309 155.800115 \r\nL 225.661444 156.846404 \r\nL 226.331715 160.610986 \r\nL 226.66685 161.28236 \r\nL 227.001985 160.858766 \r\nL 227.33712 161.707054 \r\nL 227.672255 161.904111 \r\nL 228.00739 165.596218 \r\nL 228.342525 171.20071 \r\nL 228.67766 170.06375 \r\nL 229.012796 174.600454 \r\nL 229.347931 167.773154 \r\nL 229.683066 175.108723 \r\nL 230.018201 169.637945 \r\nL 230.353336 166.840828 \r\nL 230.688471 167.540515 \r\nL 231.358742 171.306419 \r\nL 231.693877 164.422617 \r\nL 232.029012 169.105508 \r\nL 232.364147 164.059166 \r\nL 232.699282 165.299421 \r\nL 233.034417 165.042391 \r\nL 233.369552 163.819711 \r\nL 233.704687 171.740628 \r\nL 234.039823 171.201925 \r\nL 234.374958 168.180216 \r\nL 234.710093 167.55587 \r\nL 235.380363 171.379827 \r\nL 235.715498 161.71255 \r\nL 236.050633 163.796227 \r\nL 236.385769 169.471197 \r\nL 236.720904 170.021808 \r\nL 237.056039 173.00056 \r\nL 237.391174 172.288154 \r\nL 237.726309 172.962985 \r\nL 238.396579 180.346089 \r\nL 238.731715 176.591582 \r\nL 239.06685 180.067913 \r\nL 239.401985 174.394739 \r\nL 239.73712 172.535823 \r\nL 240.072255 169.603304 \r\nL 240.40739 164.865941 \r\nL 240.742525 167.355149 \r\nL 241.07766 164.667889 \r\nL 241.412796 167.609872 \r\nL 241.747931 164.286356 \r\nL 242.083066 159.814184 \r\nL 242.418201 158.587302 \r\nL 242.753336 165.422218 \r\nL 243.088471 167.426205 \r\nL 243.423606 166.41407 \r\nL 243.758742 171.206078 \r\nL 244.093877 169.122169 \r\nL 244.429012 170.905618 \r\nL 244.764147 173.804309 \r\nL 245.099282 168.823069 \r\nL 245.434417 170.527649 \r\nL 246.104688 166.928207 \r\nL 246.439823 170.984598 \r\nL 246.774958 169.155793 \r\nL 247.110093 173.839805 \r\nL 247.445228 169.444612 \r\nL 247.780363 171.933822 \r\nL 248.115498 173.569599 \r\nL 248.785769 171.358522 \r\nL 249.120904 171.356519 \r\nL 249.456039 174.469926 \r\nL 249.791174 171.041647 \r\nL 250.126309 170.657809 \r\nL 250.461444 168.951585 \r\nL 251.131715 171.920306 \r\nL 251.46685 163.261972 \r\nL 251.801985 162.396147 \r\nL 252.13712 163.755931 \r\nL 252.472255 164.532019 \r\nL 252.80739 159.960886 \r\nL 253.142525 161.57172 \r\nL 253.47766 160.419828 \r\nL 253.812796 160.843391 \r\nL 254.147931 162.354232 \r\nL 254.483066 163.351294 \r\nL 254.818201 163.234889 \r\nL 255.488471 173.847776 \r\nL 255.823606 171.210199 \r\nL 256.158742 170.460463 \r\nL 256.493877 169.090925 \r\nL 256.829012 169.696445 \r\nL 257.164147 170.791317 \r\nL 257.499282 174.691491 \r\nL 258.504687 180.412018 \r\nL 258.839823 180.414315 \r\nL 259.174958 181.368303 \r\nL 259.510093 183.416851 \r\nL 259.845228 177.760349 \r\nL 260.180363 176.644452 \r\nL 260.515498 177.597262 \r\nL 260.850633 176.203864 \r\nL 261.185769 179.415248 \r\nL 261.856039 183.247966 \r\nL 262.191174 176.541498 \r\nL 262.526309 173.835637 \r\nL 263.196579 176.660619 \r\nL 263.531715 177.598311 \r\nL 263.86685 175.506942 \r\nL 264.201985 174.774314 \r\nL 264.53712 177.494539 \r\nL 264.872255 175.100131 \r\nL 265.20739 168.112047 \r\nL 265.87766 162.67262 \r\nL 266.212796 164.394992 \r\nL 266.547931 162.279701 \r\nL 266.883066 162.097962 \r\nL 267.218201 165.46904 \r\nL 267.553336 166.020289 \r\nL 267.888471 159.702916 \r\nL 268.223606 157.568292 \r\nL 268.558742 146.036809 \r\nL 268.893877 150.967522 \r\nL 269.564147 145.584068 \r\nL 269.899282 145.780744 \r\nL 270.904688 162.296568 \r\nL 271.239823 165.674443 \r\nL 271.574958 167.125975 \r\nL 271.910093 165.232551 \r\nL 272.245228 169.544488 \r\nL 272.580363 171.792501 \r\nL 272.915498 175.289372 \r\nL 273.250633 174.443124 \r\nL 273.585769 179.431909 \r\nL 273.920904 179.947581 \r\nL 274.256039 178.240269 \r\nL 274.591174 179.443788 \r\nL 274.926309 179.853342 \r\nL 275.261444 179.230831 \r\nL 275.596579 184.317477 \r\nL 275.931715 182.899992 \r\nL 276.26685 182.171891 \r\nL 276.601985 174.751697 \r\nL 277.272255 181.789057 \r\nL 277.60739 178.674439 \r\nL 277.942525 182.826497 \r\nL 278.27766 178.545791 \r\nL 278.612796 181.560985 \r\nL 278.947931 186.918453 \r\nL 279.618201 181.165499 \r\nL 279.953336 170.674944 \r\nL 280.958742 180.93177 \r\nL 281.293877 175.142211 \r\nL 281.629012 176.152077 \r\nL 281.964147 170.119323 \r\nL 282.299282 172.466063 \r\nL 282.634417 173.260296 \r\nL 283.304688 158.229834 \r\nL 283.974958 151.568081 \r\nL 284.310093 151.701134 \r\nL 284.645228 153.183219 \r\nL 284.980363 151.479289 \r\nL 285.315498 153.832962 \r\nL 285.650633 151.457639 \r\nL 285.985769 156.652123 \r\nL 286.320904 156.914683 \r\nL 286.656039 151.28801 \r\nL 286.991174 149.189356 \r\nL 287.326309 153.717083 \r\nL 287.996579 156.222602 \r\nL 288.331715 153.52051 \r\nL 288.66685 158.568719 \r\nL 289.001985 157.550422 \r\nL 289.33712 160.124913 \r\nL 289.672255 167.71429 \r\nL 290.00739 168.56144 \r\nL 290.342525 158.487671 \r\nL 290.67766 162.816319 \r\nL 291.012796 161.466465 \r\nL 291.347931 164.22706 \r\nL 291.683066 160.568779 \r\nL 292.018201 159.043666 \r\nL 292.353336 154.767602 \r\nL 293.023606 164.52626 \r\nL 293.358742 164.557263 \r\nL 293.693877 167.749958 \r\nL 294.029012 162.668431 \r\nL 294.364147 162.971194 \r\nL 294.699282 156.788602 \r\nL 295.034417 157.735042 \r\nL 295.704687 169.379929 \r\nL 296.039823 170.580979 \r\nL 296.374958 162.783715 \r\nL 297.045228 156.841978 \r\nL 297.380363 156.655471 \r\nL 297.715498 155.427849 \r\nL 298.050633 158.599811 \r\nL 298.720904 154.891789 \r\nL 299.056039 151.56519 \r\nL 299.391174 154.481949 \r\nL 299.726309 155.349504 \r\nL 300.061444 155.896055 \r\nL 300.396579 154.610715 \r\nL 301.06685 148.456345 \r\nL 301.401985 149.46466 \r\nL 301.73712 148.11819 \r\nL 302.072255 145.582121 \r\nL 302.40739 147.313348 \r\nL 303.07766 143.660588 \r\nL 303.412796 136.952609 \r\nL 304.083066 138.009329 \r\nL 304.418201 136.789514 \r\nL 305.088471 150.974904 \r\nL 305.423606 150.822152 \r\nL 305.758742 147.17419 \r\nL 306.093877 145.843005 \r\nL 306.764147 152.257496 \r\nL 307.099282 151.649634 \r\nL 307.769552 159.011571 \r\nL 308.104688 159.599787 \r\nL 308.439823 157.245672 \r\nL 308.774958 163.55757 \r\nL 309.110093 167.097184 \r\nL 309.445228 168.998079 \r\nL 309.780363 164.619467 \r\nL 310.450633 175.200224 \r\nL 311.120904 172.357475 \r\nL 311.456039 180.097318 \r\nL 311.791174 180.540927 \r\nL 312.126309 177.836367 \r\nL 312.461444 178.447072 \r\nL 312.796579 168.943494 \r\nL 313.131715 167.91512 \r\nL 313.46685 164.245739 \r\nL 313.801985 172.56762 \r\nL 314.13712 169.557396 \r\nL 314.472255 170.267628 \r\nL 314.80739 171.771214 \r\nL 315.142525 177.224373 \r\nL 315.47766 177.299769 \r\nL 315.812796 178.803802 \r\nL 316.147931 179.23468 \r\nL 316.483066 184.150911 \r\nL 316.818201 178.491797 \r\nL 317.153336 175.964656 \r\nL 317.488471 174.733629 \r\nL 317.823606 177.888057 \r\nL 318.158742 186.498088 \r\nL 318.493877 186.378919 \r\nL 318.829012 187.305557 \r\nL 319.164147 187.780964 \r\nL 319.499282 190.791931 \r\nL 319.834417 187.54546 \r\nL 320.169552 190.949076 \r\nL 320.504687 190.513023 \r\nL 320.839823 187.306022 \r\nL 321.510093 195.796582 \r\nL 321.845228 202.772505 \r\nL 322.180363 204.766389 \r\nL 322.515498 202.672745 \r\nL 322.850633 199.286817 \r\nL 323.185769 198.897935 \r\nL 323.856039 190.326902 \r\nL 324.191174 197.484617 \r\nL 324.526309 194.612911 \r\nL 324.861444 186.05896 \r\nL 325.196579 186.032908 \r\nL 325.531715 185.677324 \r\nL 325.86685 187.509105 \r\nL 326.201985 187.091164 \r\nL 326.53712 183.865534 \r\nL 326.872255 184.925002 \r\nL 327.542525 194.925744 \r\nL 327.87766 198.423104 \r\nL 328.212796 194.752207 \r\nL 328.547931 201.564369 \r\nL 329.218201 191.657934 \r\nL 329.553336 185.515864 \r\nL 329.888471 190.335208 \r\nL 330.223606 192.590847 \r\nL 330.558742 187.197466 \r\nL 331.229012 181.401993 \r\nL 331.564147 182.543373 \r\nL 332.234417 173.389531 \r\nL 332.569552 175.471913 \r\nL 332.904688 176.581677 \r\nL 333.574958 185.380998 \r\nL 333.910093 184.973562 \r\nL 334.245228 191.253015 \r\nL 334.580363 189.694485 \r\nL 334.915498 191.319625 \r\nL 335.585769 192.478572 \r\nL 335.920904 194.77015 \r\nL 336.256039 197.858563 \r\nL 336.591174 195.092299 \r\nL 336.926309 189.79884 \r\nL 337.596579 183.887174 \r\nL 337.931715 182.670216 \r\nL 338.26685 182.224846 \r\nL 338.601985 183.697547 \r\nL 338.93712 185.671345 \r\nL 339.272255 190.182625 \r\nL 339.60739 188.430168 \r\nL 339.942525 192.044014 \r\nL 340.27766 188.223894 \r\nL 340.612796 193.733503 \r\nL 340.947931 192.687903 \r\nL 341.283066 188.30946 \r\nL 341.618201 195.330402 \r\nL 341.953336 195.804582 \r\nL 342.288471 200.51304 \r\nL 342.623606 195.838667 \r\nL 342.958742 195.418966 \r\nL 343.293877 201.581472 \r\nL 343.629012 197.035136 \r\nL 343.964147 196.513853 \r\nL 344.299282 197.445345 \r\nL 344.969552 188.82751 \r\nL 345.304688 189.861473 \r\nL 345.639823 188.827538 \r\nL 345.974958 183.546613 \r\nL 346.310093 184.351566 \r\nL 346.645228 187.451363 \r\nL 346.980363 188.212678 \r\nL 347.315498 196.039551 \r\nL 347.650633 194.632718 \r\nL 347.985769 192.602144 \r\nL 348.320904 189.026607 \r\nL 348.656039 189.012626 \r\nL 348.991174 183.651343 \r\nL 349.326309 183.00627 \r\nL 349.661444 178.827028 \r\nL 349.996579 179.404445 \r\nL 350.331715 177.799682 \r\nL 350.66685 182.797949 \r\nL 351.001985 182.651339 \r\nL 351.33712 183.625293 \r\nL 351.672255 181.08445 \r\nL 352.00739 180.940967 \r\nL 352.342525 175.403838 \r\nL 352.67766 172.31401 \r\nL 353.012796 170.549749 \r\nL 353.347931 171.030506 \r\nL 353.683066 170.09826 \r\nL 354.018201 167.534394 \r\nL 354.353336 168.838653 \r\nL 354.688471 163.350707 \r\nL 355.023606 164.074694 \r\nL 355.358742 170.805836 \r\nL 355.693877 171.357743 \r\nL 356.029012 175.311581 \r\nL 356.364147 176.691767 \r\nL 356.699282 180.95807 \r\nL 357.034417 181.775188 \r\nL 357.369552 183.979395 \r\nL 357.704687 182.340058 \r\nL 358.039823 186.738432 \r\nL 358.374958 187.081069 \r\nL 358.710093 186.028409 \r\nL 359.045228 188.04861 \r\nL 359.715498 198.548665 \r\nL 360.385769 189.550379 \r\nL 360.720904 193.739149 \r\nL 361.056039 195.371889 \r\nL 361.391174 194.676426 \r\nL 361.726309 195.894215 \r\nL 362.061444 196.051207 \r\nL 362.396579 204.993417 \r\nL 362.731715 202.490793 \r\nL 363.06685 203.540413 \r\nL 363.401985 200.60716 \r\nL 363.73712 201.907158 \r\nL 364.072255 205.418343 \r\nL 364.40739 203.500077 \r\nL 364.742525 208.160436 \r\nL 365.07766 203.383272 \r\nL 365.412796 202.73269 \r\nL 365.747931 206.74626 \r\nL 366.418201 212.093923 \r\nL 366.753336 213.400503 \r\nL 367.088471 212.658111 \r\nL 367.423606 210.02671 \r\nL 367.758742 205.948606 \r\nL 368.093877 207.047681 \r\nL 369.099282 212.739611 \r\nL 369.434417 212.959352 \r\nL 369.769552 214.756364 \r\nL 370.104688 213.379474 \r\nL 370.104688 213.379474 \r\n\" style=\"fill:none;stroke:#ff7f0e;stroke-linecap:square;stroke-width:1.5;\"/>\r\n   </g>\r\n   <g id=\"line2d_43\">\r\n    <path clip-path=\"url(#p0a8d1286e0)\" d=\"M 35.304688 81.597281 \r\nL 35.639823 82.875262 \r\nL 35.974958 81.005762 \r\nL 36.310093 80.974428 \r\nL 36.645228 77.570472 \r\nL 36.980363 83.835789 \r\nL 37.315498 81.684189 \r\nL 37.650633 74.637445 \r\nL 37.985769 72.110124 \r\nL 38.320904 74.58296 \r\nL 38.656039 74.95957 \r\nL 38.991174 77.323312 \r\nL 39.326309 76.290418 \r\nL 39.661444 74.309332 \r\nL 39.996579 74.270055 \r\nL 40.331715 73.037293 \r\nL 40.66685 77.483961 \r\nL 41.001985 73.495412 \r\nL 41.33712 65.82699 \r\nL 41.672255 66.379516 \r\nL 42.00739 64.12904 \r\nL 42.342525 60.806215 \r\nL 42.67766 55.343456 \r\nL 43.012796 53.260908 \r\nL 43.347931 54.295386 \r\nL 43.683066 54.089474 \r\nL 44.018201 55.153265 \r\nL 44.353336 53.719242 \r\nL 44.688471 53.803804 \r\nL 45.023606 55.777504 \r\nL 45.358742 56.374232 \r\nL 45.693877 58.09051 \r\nL 46.029012 57.284922 \r\nL 46.364147 58.018475 \r\nL 47.034417 48.981591 \r\nL 47.369552 47.077148 \r\nL 48.039823 38.148284 \r\nL 48.374958 35.739161 \r\nL 48.710093 34.845959 \r\nL 49.045228 36.931809 \r\nL 49.380363 33.793536 \r\nL 49.715498 35.065006 \r\nL 50.720904 31.231345 \r\nL 51.056039 28.9279 \r\nL 51.391174 31.616954 \r\nL 51.726309 36.792055 \r\nL 52.061444 36.819288 \r\nL 52.396579 38.531726 \r\nL 52.731715 42.134516 \r\nL 53.06685 40.502154 \r\nL 53.401985 36.388858 \r\nL 53.73712 35.470963 \r\nL 54.072255 33.763018 \r\nL 54.40739 33.141658 \r\nL 54.742525 33.888383 \r\nL 55.07766 36.033037 \r\nL 55.412796 44.673099 \r\nL 55.747931 45.819494 \r\nL 56.083066 48.091352 \r\nL 56.418201 42.700201 \r\nL 56.753336 40.774309 \r\nL 57.088471 36.680129 \r\nL 57.423606 42.6685 \r\nL 57.758742 44.284009 \r\nL 58.093877 48.607009 \r\nL 58.764147 43.874464 \r\nL 59.099282 45.560045 \r\nL 59.434417 34.624508 \r\nL 59.769552 36.958796 \r\nL 60.104688 34.585131 \r\nL 60.439823 34.299119 \r\nL 60.774958 30.622558 \r\nL 61.110093 29.993018 \r\nL 61.445228 35.083368 \r\nL 61.780363 31.177552 \r\nL 62.115498 31.114337 \r\nL 62.450633 40.254688 \r\nL 62.785769 44.844769 \r\nL 63.456039 49.764087 \r\nL 63.791174 48.126684 \r\nL 64.126309 41.580209 \r\nL 64.461444 48.070197 \r\nL 64.796579 45.19235 \r\nL 65.131715 47.412975 \r\nL 65.46685 47.052585 \r\nL 66.13712 45.314476 \r\nL 66.472255 40.01369 \r\nL 66.80739 41.03899 \r\nL 67.142525 41.061924 \r\nL 67.47766 44.208733 \r\nL 67.812796 44.5865 \r\nL 68.483066 51.402337 \r\nL 68.818201 47.607876 \r\nL 69.153336 40.74223 \r\nL 69.823606 35.237145 \r\nL 70.493877 45.80673 \r\nL 70.829012 44.398426 \r\nL 71.164147 44.185644 \r\nL 71.499282 38.528205 \r\nL 71.834417 37.225106 \r\nL 72.169552 39.631234 \r\nL 72.504687 34.065056 \r\nL 72.839823 32.658023 \r\nL 73.174958 25.711594 \r\nL 73.845228 34.348451 \r\nL 74.180363 43.471358 \r\nL 74.515498 40.162684 \r\nL 74.850633 38.028946 \r\nL 75.185769 45.407416 \r\nL 75.520904 48.759011 \r\nL 75.856039 48.212436 \r\nL 76.191174 51.170261 \r\nL 76.526309 47.284936 \r\nL 76.861444 40.815883 \r\nL 77.196579 44.852905 \r\nL 77.531715 46.652589 \r\nL 77.86685 49.671596 \r\nL 78.201985 49.898434 \r\nL 78.53712 38.470314 \r\nL 78.872255 43.799637 \r\nL 79.20739 43.770688 \r\nL 79.542525 40.929142 \r\nL 79.87766 46.509658 \r\nL 80.212796 44.077829 \r\nL 80.547931 49.592736 \r\nL 80.883066 45.883555 \r\nL 81.888471 63.270797 \r\nL 82.223606 62.74742 \r\nL 82.558742 58.723284 \r\nL 82.893877 61.981124 \r\nL 83.229012 62.526 \r\nL 83.564147 56.680327 \r\nL 83.899282 56.097521 \r\nL 84.234417 55.877269 \r\nL 84.569552 55.154942 \r\nL 84.904688 56.524029 \r\nL 85.239823 53.710544 \r\nL 85.574958 54.136233 \r\nL 85.910093 47.184157 \r\nL 86.245228 47.840017 \r\nL 86.580363 43.870581 \r\nL 87.250633 41.854863 \r\nL 87.585769 38.078303 \r\nL 87.920904 38.206421 \r\nL 88.926309 33.313111 \r\nL 89.596579 20.447605 \r\nL 89.931715 21.8196 \r\nL 90.26685 24.440548 \r\nL 90.601985 20.514883 \r\nL 90.93712 18.574936 \r\nL 91.272255 19.635754 \r\nL 91.60739 17.083636 \r\nL 91.942525 29.157297 \r\nL 92.27766 30.059969 \r\nL 92.612796 31.855017 \r\nL 92.947931 29.683217 \r\nL 93.283066 23.48827 \r\nL 93.618201 28.383956 \r\nL 93.953336 28.696951 \r\nL 94.288471 25.907685 \r\nL 94.623606 28.273335 \r\nL 94.958742 27.586389 \r\nL 95.293877 32.316141 \r\nL 95.629012 33.940953 \r\nL 95.964147 36.606175 \r\nL 96.299282 35.462882 \r\nL 96.634417 38.492327 \r\nL 96.969552 39.305943 \r\nL 97.304688 44.683406 \r\nL 97.974958 38.090086 \r\nL 98.310093 39.248905 \r\nL 98.645228 45.913373 \r\nL 98.980363 39.248175 \r\nL 99.315498 42.158875 \r\nL 99.650633 36.790153 \r\nL 99.985769 34.630361 \r\nL 100.320904 33.715855 \r\nL 100.656039 31.147451 \r\nL 100.991174 30.642211 \r\nL 101.326309 26.267658 \r\nL 102.66685 37.527201 \r\nL 103.001985 36.666271 \r\nL 103.33712 35.423457 \r\nL 103.672255 42.782737 \r\nL 104.00739 41.675152 \r\nL 104.342525 43.486709 \r\nL 104.67766 41.493864 \r\nL 105.012796 45.218407 \r\nL 105.347931 44.855026 \r\nL 105.683066 49.230228 \r\nL 106.018201 47.399866 \r\nL 106.353336 49.643569 \r\nL 106.688471 50.596505 \r\nL 107.023606 44.03372 \r\nL 107.358742 47.761719 \r\nL 107.693877 46.990177 \r\nL 108.699282 63.061051 \r\nL 109.034417 63.027032 \r\nL 109.369552 65.362591 \r\nL 109.704687 61.363846 \r\nL 110.039823 61.429748 \r\nL 110.374958 55.506479 \r\nL 110.710093 55.065886 \r\nL 111.045228 49.351051 \r\nL 111.380363 51.00357 \r\nL 111.715498 54.596215 \r\nL 112.050633 54.327126 \r\nL 112.385769 52.299839 \r\nL 112.720904 55.923799 \r\nL 113.056039 54.38981 \r\nL 113.726309 57.887635 \r\nL 114.061444 63.200414 \r\nL 114.396579 59.727455 \r\nL 114.731715 65.609008 \r\nL 115.06685 65.749153 \r\nL 115.401985 60.149545 \r\nL 116.072255 63.424075 \r\nL 116.40739 58.881541 \r\nL 116.742525 56.656513 \r\nL 117.07766 52.808592 \r\nL 117.412796 55.624392 \r\nL 117.747931 55.921031 \r\nL 118.083066 57.060218 \r\nL 118.418201 61.809186 \r\nL 118.753336 59.312999 \r\nL 119.088471 58.735032 \r\nL 119.423606 63.847026 \r\nL 119.758742 60.335271 \r\nL 120.093877 58.741959 \r\nL 120.764147 53.124453 \r\nL 121.099282 49.352908 \r\nL 121.434417 47.851202 \r\nL 121.769552 43.900213 \r\nL 122.104688 43.57527 \r\nL 122.439823 42.559976 \r\nL 122.774958 46.261017 \r\nL 123.110093 45.503385 \r\nL 123.445228 49.035329 \r\nL 123.780363 45.06209 \r\nL 124.115498 47.009375 \r\nL 124.450633 47.152795 \r\nL 124.785769 49.040926 \r\nL 125.120904 45.945238 \r\nL 125.456039 47.517988 \r\nL 125.791174 48.432312 \r\nL 126.126309 47.459873 \r\nL 126.461444 42.20671 \r\nL 126.796579 41.951627 \r\nL 127.131715 43.725431 \r\nL 127.46685 46.648999 \r\nL 127.801985 43.603885 \r\nL 128.13712 47.806557 \r\nL 128.472255 45.713803 \r\nL 128.80739 42.21866 \r\nL 129.142525 41.406654 \r\nL 129.47766 45.752202 \r\nL 129.812796 45.664078 \r\nL 130.483066 54.202169 \r\nL 130.818201 55.684404 \r\nL 131.153336 58.61318 \r\nL 131.488471 63.770675 \r\nL 131.823606 66.146304 \r\nL 132.158742 63.16616 \r\nL 132.493877 64.129262 \r\nL 132.829012 67.122904 \r\nL 133.164147 67.162026 \r\nL 133.499282 61.865254 \r\nL 133.834417 65.097592 \r\nL 134.169552 58.326965 \r\nL 134.504687 55.622095 \r\nL 134.839823 53.889087 \r\nL 135.174958 59.046906 \r\nL 135.510093 53.569006 \r\nL 135.845228 53.95024 \r\nL 136.515498 58.514211 \r\nL 136.850633 62.03653 \r\nL 137.185769 66.861457 \r\nL 137.520904 64.774398 \r\nL 137.856039 69.770384 \r\nL 138.191174 71.024917 \r\nL 138.526309 66.581047 \r\nL 138.861444 65.347352 \r\nL 139.196579 67.75221 \r\nL 139.531715 68.790609 \r\nL 139.86685 66.440913 \r\nL 140.201985 65.724083 \r\nL 140.53712 65.599859 \r\nL 140.872255 55.628641 \r\nL 141.20739 60.655439 \r\nL 141.542525 59.188093 \r\nL 141.87766 65.896375 \r\nL 142.212796 69.673696 \r\nL 142.547931 71.436992 \r\nL 142.883066 72.549808 \r\nL 143.218201 72.135822 \r\nL 143.553336 78.888504 \r\nL 143.888471 78.147762 \r\nL 144.558742 66.732407 \r\nL 144.893877 64.946951 \r\nL 145.229012 67.368468 \r\nL 145.564147 62.953458 \r\nL 145.899282 62.846294 \r\nL 146.234417 63.124851 \r\nL 146.569552 64.160906 \r\nL 146.904688 61.507897 \r\nL 147.239823 66.900948 \r\nL 147.574958 66.847672 \r\nL 147.910093 59.329463 \r\nL 148.245228 55.832849 \r\nL 148.580363 50.437057 \r\nL 148.915498 49.311348 \r\nL 150.256039 58.242919 \r\nL 150.591174 63.46524 \r\nL 150.926309 60.297831 \r\nL 151.931715 76.895381 \r\nL 152.26685 73.024058 \r\nL 152.601985 80.359903 \r\nL 152.93712 79.692696 \r\nL 153.272255 79.372356 \r\nL 153.60739 80.214765 \r\nL 153.942525 80.49888 \r\nL 154.27766 76.200751 \r\nL 154.612796 70.205845 \r\nL 154.947931 70.411871 \r\nL 155.283066 71.446799 \r\nL 155.953336 78.62334 \r\nL 156.288471 86.221215 \r\nL 156.623606 88.555963 \r\nL 156.958742 91.885748 \r\nL 157.293877 91.017177 \r\nL 157.629012 87.109522 \r\nL 157.964147 87.407923 \r\nL 158.299282 84.834732 \r\nL 158.634417 90.364471 \r\nL 158.969552 91.763104 \r\nL 159.304688 87.607561 \r\nL 159.639823 96.625373 \r\nL 159.974958 95.956315 \r\nL 160.645228 106.161491 \r\nL 160.980363 111.271653 \r\nL 161.315498 111.006583 \r\nL 161.650633 104.655373 \r\nL 161.985769 105.62116 \r\nL 162.320904 99.886314 \r\nL 162.656039 106.399542 \r\nL 162.991174 104.702626 \r\nL 163.326309 105.081846 \r\nL 163.661444 107.176998 \r\nL 163.996579 108.038316 \r\nL 164.331715 104.503624 \r\nL 164.66685 105.702289 \r\nL 165.001985 102.33192 \r\nL 165.33712 102.467752 \r\nL 165.672255 98.258218 \r\nL 166.00739 97.151133 \r\nL 166.342525 96.986644 \r\nL 166.67766 93.811298 \r\nL 167.012796 92.5869 \r\nL 167.347931 96.429558 \r\nL 167.683066 97.21326 \r\nL 168.353336 89.198751 \r\nL 168.688471 92.596108 \r\nL 169.023606 90.430479 \r\nL 169.358742 82.267715 \r\nL 169.693877 83.443107 \r\nL 170.029012 85.871928 \r\nL 170.699282 78.345969 \r\nL 171.034417 78.13626 \r\nL 171.369552 77.030659 \r\nL 171.704687 75.049709 \r\nL 172.374958 77.492699 \r\nL 172.710093 81.899824 \r\nL 173.045228 80.226192 \r\nL 173.715498 79.441422 \r\nL 174.050633 79.50797 \r\nL 174.385769 81.419501 \r\nL 174.720904 74.021814 \r\nL 175.056039 73.310924 \r\nL 175.726309 81.466263 \r\nL 176.061444 84.480972 \r\nL 176.396579 81.986465 \r\nL 176.731715 82.432624 \r\nL 177.06685 84.919211 \r\nL 177.401985 91.946411 \r\nL 177.73712 103.881079 \r\nL 178.072255 99.921819 \r\nL 178.40739 98.790779 \r\nL 178.742525 98.634702 \r\nL 179.07766 101.052387 \r\nL 179.412796 101.742809 \r\nL 180.083066 102.396803 \r\nL 180.418201 97.286991 \r\nL 180.753336 94.395834 \r\nL 181.423606 97.920664 \r\nL 181.758742 96.022526 \r\nL 182.093877 90.679156 \r\nL 182.429012 92.530582 \r\nL 182.764147 83.192043 \r\nL 183.099282 79.292262 \r\nL 183.434417 81.460221 \r\nL 184.439823 93.800749 \r\nL 184.774958 95.45254 \r\nL 185.110093 93.77975 \r\nL 185.445228 89.265399 \r\nL 185.780363 94.382135 \r\nL 186.115498 96.581149 \r\nL 186.450633 99.999302 \r\nL 186.785769 98.615386 \r\nL 187.456039 89.758843 \r\nL 187.791174 97.619889 \r\nL 188.461444 85.945018 \r\nL 188.796579 96.695412 \r\nL 189.131715 101.811639 \r\nL 189.801985 96.260316 \r\nL 190.13712 96.703359 \r\nL 190.472255 93.428172 \r\nL 191.142525 84.603074 \r\nL 191.47766 84.794845 \r\nL 192.147931 76.174515 \r\nL 192.483066 76.077993 \r\nL 192.818201 70.681039 \r\nL 193.153336 73.443277 \r\nL 193.488471 74.316744 \r\nL 193.823606 73.765484 \r\nL 194.158742 78.130042 \r\nL 195.164147 72.499532 \r\nL 195.499282 77.179495 \r\nL 195.834417 69.867211 \r\nL 196.169552 70.775395 \r\nL 196.504687 69.02899 \r\nL 197.174958 61.007698 \r\nL 197.510093 59.443982 \r\nL 197.845228 58.532337 \r\nL 198.180363 58.171068 \r\nL 199.185769 63.087647 \r\nL 199.520904 79.07171 \r\nL 200.191174 81.456908 \r\nL 200.526309 85.181127 \r\nL 201.196579 98.834512 \r\nL 201.531715 101.930872 \r\nL 201.86685 100.901059 \r\nL 202.201985 97.038026 \r\nL 202.53712 100.00753 \r\nL 202.872255 99.671298 \r\nL 203.20739 100.480405 \r\nL 203.542525 99.824622 \r\nL 203.87766 97.648136 \r\nL 204.212796 101.004768 \r\nL 204.547931 94.687501 \r\nL 205.218201 102.820198 \r\nL 205.553336 107.213781 \r\nL 205.888471 103.755974 \r\nL 206.223606 107.254386 \r\nL 206.558742 106.967801 \r\nL 206.893877 105.512116 \r\nL 207.229012 113.363521 \r\nL 207.564147 109.316831 \r\nL 207.899282 112.279573 \r\nL 208.234417 113.860854 \r\nL 208.569552 113.016807 \r\nL 208.904688 111.647821 \r\nL 209.239823 111.28813 \r\nL 209.574958 106.824539 \r\nL 209.910093 108.588353 \r\nL 210.245228 106.822565 \r\nL 210.580363 103.438267 \r\nL 210.915498 102.03681 \r\nL 211.920904 118.996773 \r\nL 212.256039 121.379139 \r\nL 212.591174 120.315452 \r\nL 212.926309 120.284497 \r\nL 213.261444 125.441527 \r\nL 213.596579 125.60109 \r\nL 213.931715 127.535181 \r\nL 214.26685 126.609117 \r\nL 214.601985 123.695764 \r\nL 214.93712 119.46959 \r\nL 215.272255 121.468856 \r\nL 215.60739 126.430162 \r\nL 215.942525 123.07486 \r\nL 216.27766 127.980235 \r\nL 216.612796 129.60533 \r\nL 216.947931 128.704402 \r\nL 217.283066 122.732005 \r\nL 217.953336 136.229997 \r\nL 218.288471 136.821848 \r\nL 218.623606 134.795801 \r\nL 218.958742 136.427144 \r\nL 219.293877 132.135954 \r\nL 219.629012 130.52325 \r\nL 219.964147 131.007036 \r\nL 220.299282 128.875531 \r\nL 220.634417 128.938873 \r\nL 220.969552 129.894249 \r\nL 221.304688 133.592953 \r\nL 221.639823 132.722883 \r\nL 221.974958 132.556648 \r\nL 222.310093 126.587686 \r\nL 222.645228 129.759721 \r\nL 222.980363 130.559913 \r\nL 223.315498 134.683903 \r\nL 223.650633 132.030628 \r\nL 223.985769 137.42999 \r\nL 224.320904 138.584457 \r\nL 224.991174 147.967858 \r\nL 225.326309 142.786046 \r\nL 225.661444 141.980245 \r\nL 225.996579 142.75942 \r\nL 226.331715 132.483342 \r\nL 226.66685 131.605726 \r\nL 227.001985 133.416284 \r\nL 227.33712 132.295167 \r\nL 227.672255 134.944407 \r\nL 228.00739 135.186964 \r\nL 228.342525 134.683881 \r\nL 228.67766 136.512369 \r\nL 229.012796 135.124533 \r\nL 229.347931 137.897657 \r\nL 229.683066 135.091403 \r\nL 230.018201 137.774668 \r\nL 230.353336 139.509961 \r\nL 230.688471 141.912084 \r\nL 231.023606 149.01269 \r\nL 231.358742 142.113113 \r\nL 231.693877 142.885272 \r\nL 232.029012 143.154258 \r\nL 232.364147 142.619295 \r\nL 232.699282 142.833683 \r\nL 233.034417 140.077134 \r\nL 233.369552 138.719101 \r\nL 233.704687 134.934233 \r\nL 234.039823 133.148174 \r\nL 234.374958 133.520959 \r\nL 234.710093 131.889082 \r\nL 235.045228 132.269703 \r\nL 235.715498 136.716079 \r\nL 236.050633 136.735664 \r\nL 237.056039 129.174449 \r\nL 237.391174 123.722301 \r\nL 237.726309 120.706732 \r\nL 238.396579 134.979936 \r\nL 238.731715 132.673625 \r\nL 239.06685 133.183531 \r\nL 239.401985 133.422223 \r\nL 239.73712 129.694059 \r\nL 240.072255 130.055839 \r\nL 240.40739 127.069962 \r\nL 241.07766 119.611607 \r\nL 241.412796 116.063586 \r\nL 241.747931 117.221543 \r\nL 242.083066 114.026881 \r\nL 242.418201 114.354875 \r\nL 242.753336 115.531302 \r\nL 243.088471 117.424922 \r\nL 243.758742 112.53635 \r\nL 244.093877 117.398653 \r\nL 244.764147 112.339236 \r\nL 245.099282 105.838614 \r\nL 245.434417 111.572846 \r\nL 245.769552 111.407956 \r\nL 246.104688 108.676188 \r\nL 246.439823 102.901689 \r\nL 246.774958 102.263254 \r\nL 247.445228 86.278383 \r\nL 247.780363 91.89196 \r\nL 248.115498 93.215843 \r\nL 248.785769 94.401692 \r\nL 249.120904 86.122634 \r\nL 249.456039 90.3163 \r\nL 249.791174 84.600012 \r\nL 250.126309 83.398763 \r\nL 250.461444 77.632358 \r\nL 250.796579 74.787273 \r\nL 251.131715 83.93984 \r\nL 251.46685 82.560046 \r\nL 251.801985 78.955077 \r\nL 252.13712 85.271214 \r\nL 252.472255 85.695941 \r\nL 252.80739 78.81591 \r\nL 253.47766 76.747563 \r\nL 253.812796 74.9508 \r\nL 254.147931 71.017242 \r\nL 254.483066 69.939792 \r\nL 254.818201 65.415083 \r\nL 255.153336 67.437882 \r\nL 255.488471 65.002638 \r\nL 255.823606 64.16904 \r\nL 256.158742 65.255316 \r\nL 256.493877 64.03401 \r\nL 256.829012 61.949939 \r\nL 257.164147 65.881855 \r\nL 257.499282 67.335799 \r\nL 257.834417 68.165815 \r\nL 258.169552 69.66255 \r\nL 258.504687 66.108435 \r\nL 258.839823 67.946716 \r\nL 259.510093 63.767734 \r\nL 260.515498 51.379252 \r\nL 260.850633 50.645327 \r\nL 261.185769 52.644972 \r\nL 261.520904 60.467893 \r\nL 261.856039 60.107886 \r\nL 262.191174 65.993057 \r\nL 262.526309 73.884046 \r\nL 262.861444 77.412561 \r\nL 263.196579 78.686295 \r\nL 263.86685 70.299455 \r\nL 264.201985 75.772154 \r\nL 264.53712 79.089297 \r\nL 264.872255 77.080542 \r\nL 265.20739 72.577346 \r\nL 265.542525 75.049939 \r\nL 265.87766 74.084553 \r\nL 266.212796 76.817556 \r\nL 266.547931 75.834696 \r\nL 266.883066 73.364867 \r\nL 267.218201 72.858727 \r\nL 267.888471 80.844526 \r\nL 268.223606 84.090602 \r\nL 268.558742 85.211808 \r\nL 268.893877 93.968936 \r\nL 269.229012 93.785146 \r\nL 269.899282 87.677786 \r\nL 270.234417 92.239962 \r\nL 270.569552 93.435149 \r\nL 270.904688 92.671926 \r\nL 271.239823 93.822823 \r\nL 271.574958 86.414823 \r\nL 271.910093 83.63078 \r\nL 272.245228 85.797424 \r\nL 272.580363 81.929664 \r\nL 272.915498 81.625149 \r\nL 273.250633 81.691007 \r\nL 273.585769 81.954216 \r\nL 273.920904 92.941835 \r\nL 274.256039 93.021781 \r\nL 274.591174 90.954709 \r\nL 274.926309 91.986092 \r\nL 275.261444 99.311338 \r\nL 275.596579 98.022647 \r\nL 275.931715 97.506985 \r\nL 276.26685 100.577423 \r\nL 276.601985 99.623333 \r\nL 276.93712 97.465158 \r\nL 277.60739 102.944921 \r\nL 277.942525 99.586237 \r\nL 278.27766 93.533632 \r\nL 278.612796 93.867326 \r\nL 278.947931 96.832606 \r\nL 279.283066 98.648362 \r\nL 279.953336 85.854701 \r\nL 280.288471 84.642171 \r\nL 280.623606 78.184817 \r\nL 280.958742 76.205482 \r\nL 281.293877 78.127029 \r\nL 281.629012 76.081532 \r\nL 281.964147 71.861826 \r\nL 282.299282 81.039244 \r\nL 282.634417 69.553526 \r\nL 282.969552 69.551147 \r\nL 283.304688 62.707552 \r\nL 283.639823 60.879122 \r\nL 283.974958 57.448058 \r\nL 284.310093 57.032848 \r\nL 284.645228 55.156071 \r\nL 284.980363 60.281426 \r\nL 285.315498 62.279299 \r\nL 285.650633 68.818827 \r\nL 285.985769 67.954697 \r\nL 286.320904 65.437388 \r\nL 286.656039 61.778791 \r\nL 286.991174 64.523027 \r\nL 287.326309 61.193039 \r\nL 287.661444 60.122971 \r\nL 287.996579 57.240898 \r\nL 288.66685 56.86753 \r\nL 289.001985 52.80897 \r\nL 289.672255 39.834989 \r\nL 290.00739 38.756126 \r\nL 290.342525 41.535304 \r\nL 290.67766 46.04936 \r\nL 291.012796 47.545138 \r\nL 291.347931 46.75914 \r\nL 291.683066 45.22605 \r\nL 292.688471 54.455386 \r\nL 293.023606 55.364283 \r\nL 293.358742 60.082391 \r\nL 293.693877 67.338863 \r\nL 294.029012 67.160809 \r\nL 294.364147 69.301247 \r\nL 294.699282 65.974136 \r\nL 295.034417 69.524284 \r\nL 295.369552 66.950701 \r\nL 296.039823 76.18928 \r\nL 296.374958 73.944158 \r\nL 296.710093 68.003051 \r\nL 297.715498 71.890143 \r\nL 298.050633 74.674529 \r\nL 298.385769 73.16504 \r\nL 298.720904 72.815627 \r\nL 299.056039 77.239308 \r\nL 299.391174 75.78724 \r\nL 299.726309 77.06623 \r\nL 300.061444 75.030605 \r\nL 300.396579 75.939264 \r\nL 300.731715 75.126242 \r\nL 301.06685 70.345216 \r\nL 301.401985 75.450088 \r\nL 301.73712 72.69803 \r\nL 302.072255 77.750128 \r\nL 302.742525 74.786158 \r\nL 303.07766 80.769589 \r\nL 303.412796 72.783262 \r\nL 303.747931 73.033414 \r\nL 304.083066 72.476951 \r\nL 304.418201 78.096951 \r\nL 304.753336 73.736962 \r\nL 305.088471 74.277604 \r\nL 305.423606 74.279242 \r\nL 305.758742 75.377683 \r\nL 306.093877 69.892085 \r\nL 306.429012 62.531711 \r\nL 306.764147 60.558318 \r\nL 307.099282 63.099023 \r\nL 307.434417 70.003683 \r\nL 307.769552 68.631096 \r\nL 308.104688 71.436699 \r\nL 308.439823 77.018956 \r\nL 308.774958 78.945783 \r\nL 309.110093 78.32432 \r\nL 309.445228 78.126711 \r\nL 309.780363 76.653107 \r\nL 310.115498 77.433599 \r\nL 310.450633 77.049761 \r\nL 310.785769 84.458063 \r\nL 311.120904 87.196536 \r\nL 311.791174 84.354202 \r\nL 312.126309 89.061689 \r\nL 312.796579 83.789374 \r\nL 313.131715 83.176502 \r\nL 313.46685 86.008963 \r\nL 313.801985 84.560914 \r\nL 314.13712 84.90015 \r\nL 314.472255 83.288903 \r\nL 315.142525 77.6221 \r\nL 315.47766 80.73988 \r\nL 315.812796 80.823287 \r\nL 316.147931 80.21996 \r\nL 316.483066 77.869391 \r\nL 316.818201 78.73706 \r\nL 317.153336 74.45406 \r\nL 317.488471 79.932309 \r\nL 317.823606 83.072967 \r\nL 318.158742 77.704492 \r\nL 318.493877 81.538442 \r\nL 318.829012 77.679988 \r\nL 319.834417 74.322834 \r\nL 320.169552 72.317512 \r\nL 320.504687 74.390673 \r\nL 320.839823 70.816179 \r\nL 321.174958 76.090416 \r\nL 321.510093 79.476374 \r\nL 321.845228 78.844731 \r\nL 322.180363 79.047261 \r\nL 322.515498 75.677671 \r\nL 322.850633 79.737378 \r\nL 323.185769 75.190476 \r\nL 323.856039 82.997237 \r\nL 324.191174 82.042648 \r\nL 324.526309 83.34562 \r\nL 324.861444 83.969321 \r\nL 325.196579 80.409615 \r\nL 325.531715 79.988076 \r\nL 325.86685 83.143008 \r\nL 326.201985 80.13906 \r\nL 326.53712 74.484019 \r\nL 326.872255 72.13242 \r\nL 327.20739 73.684363 \r\nL 327.542525 80.26718 \r\nL 327.87766 75.405226 \r\nL 328.212796 77.508751 \r\nL 328.547931 75.902882 \r\nL 328.883066 72.139065 \r\nL 329.218201 70.205364 \r\nL 329.888471 72.271107 \r\nL 330.223606 74.049353 \r\nL 330.893877 82.585332 \r\nL 331.229012 85.791548 \r\nL 331.564147 83.844771 \r\nL 331.899282 83.794938 \r\nL 332.234417 77.846449 \r\nL 332.569552 77.283047 \r\nL 332.904688 78.980223 \r\nL 333.239823 82.079119 \r\nL 333.574958 81.393248 \r\nL 333.910093 78.642912 \r\nL 334.245228 86.935079 \r\nL 334.580363 85.176728 \r\nL 334.915498 87.530936 \r\nL 335.250633 91.524618 \r\nL 335.585769 88.735805 \r\nL 335.920904 95.583597 \r\nL 336.256039 96.717223 \r\nL 336.591174 92.404985 \r\nL 336.926309 94.568842 \r\nL 337.596579 100.30309 \r\nL 337.931715 102.8986 \r\nL 338.26685 99.390134 \r\nL 338.601985 106.142889 \r\nL 338.93712 110.04924 \r\nL 339.272255 117.406624 \r\nL 339.60739 116.716483 \r\nL 339.942525 117.187207 \r\nL 340.27766 115.25111 \r\nL 340.612796 118.410261 \r\nL 341.283066 121.286695 \r\nL 341.618201 119.401781 \r\nL 341.953336 118.864536 \r\nL 342.623606 115.26052 \r\nL 342.958742 113.455522 \r\nL 343.293877 114.471446 \r\nL 343.629012 110.606712 \r\nL 343.964147 113.11973 \r\nL 344.299282 125.858319 \r\nL 344.634417 123.575798 \r\nL 344.969552 128.264149 \r\nL 345.304688 127.61318 \r\nL 345.639823 127.268665 \r\nL 345.974958 130.981834 \r\nL 346.310093 128.552615 \r\nL 346.645228 127.17502 \r\nL 346.980363 133.592432 \r\nL 347.315498 130.650786 \r\nL 347.650633 128.805246 \r\nL 347.985769 129.787026 \r\nL 348.656039 134.193228 \r\nL 348.991174 129.226545 \r\nL 349.326309 132.040664 \r\nL 349.661444 132.443055 \r\nL 349.996579 132.369896 \r\nL 350.331715 132.664963 \r\nL 350.66685 127.055689 \r\nL 351.001985 127.535624 \r\nL 351.672255 121.22445 \r\nL 352.00739 121.971942 \r\nL 352.342525 129.104459 \r\nL 352.67766 129.251484 \r\nL 353.012796 136.416052 \r\nL 353.347931 138.462486 \r\nL 354.018201 146.414612 \r\nL 354.353336 143.537364 \r\nL 354.688471 143.799912 \r\nL 355.023606 141.178523 \r\nL 355.358742 129.619851 \r\nL 355.693877 131.01809 \r\nL 356.364147 141.527551 \r\nL 356.699282 133.825 \r\nL 357.034417 130.665209 \r\nL 357.369552 128.684854 \r\nL 357.704687 127.88591 \r\nL 358.039823 130.811192 \r\nL 358.374958 131.829312 \r\nL 358.710093 133.653333 \r\nL 359.045228 138.800284 \r\nL 359.380363 141.199056 \r\nL 359.715498 145.949128 \r\nL 360.050633 154.552985 \r\nL 360.385769 155.608186 \r\nL 360.720904 167.54386 \r\nL 361.056039 165.424203 \r\nL 361.391174 166.378061 \r\nL 361.726309 162.836539 \r\nL 362.061444 161.629709 \r\nL 362.396579 162.700424 \r\nL 362.731715 164.790792 \r\nL 363.06685 164.001475 \r\nL 363.401985 164.543537 \r\nL 364.072255 169.767338 \r\nL 364.40739 175.76254 \r\nL 364.742525 172.503118 \r\nL 365.07766 171.944836 \r\nL 365.412796 168.292961 \r\nL 366.418201 180.812612 \r\nL 366.753336 176.93337 \r\nL 367.088471 178.267367 \r\nL 367.423606 174.5735 \r\nL 367.758742 175.774344 \r\nL 368.093877 173.328907 \r\nL 368.429012 175.89667 \r\nL 368.764147 170.567422 \r\nL 369.099282 167.222189 \r\nL 369.434417 160.899752 \r\nL 369.769552 157.124633 \r\nL 370.104688 162.693389 \r\nL 370.104688 162.693389 \r\n\" style=\"fill:none;stroke:#2ca02c;stroke-linecap:square;stroke-width:1.5;\"/>\r\n   </g>\r\n   <g id=\"line2d_44\">\r\n    <path clip-path=\"url(#p0a8d1286e0)\" d=\"M 35.304688 82.051625 \r\nL 35.639823 83.367265 \r\nL 35.974958 85.1989 \r\nL 36.310093 91.211717 \r\nL 36.645228 94.119837 \r\nL 36.980363 94.971344 \r\nL 37.315498 93.99213 \r\nL 37.650633 94.333339 \r\nL 37.985769 93.271204 \r\nL 38.320904 93.356767 \r\nL 38.656039 96.462025 \r\nL 38.991174 95.631143 \r\nL 39.326309 93.825341 \r\nL 39.661444 97.786908 \r\nL 39.996579 103.174392 \r\nL 40.331715 103.552568 \r\nL 41.33712 92.442147 \r\nL 41.672255 94.991357 \r\nL 42.00739 99.442169 \r\nL 42.342525 101.065441 \r\nL 42.67766 100.043543 \r\nL 43.012796 100.990423 \r\nL 43.347931 103.624753 \r\nL 43.683066 103.053478 \r\nL 44.018201 102.225276 \r\nL 44.353336 102.089399 \r\nL 44.688471 105.211743 \r\nL 45.023606 103.562461 \r\nL 45.693877 110.097995 \r\nL 46.029012 111.582765 \r\nL 46.364147 112.495619 \r\nL 46.699282 113.836226 \r\nL 47.034417 112.395501 \r\nL 47.369552 119.544387 \r\nL 47.704687 113.84531 \r\nL 48.039823 112.377785 \r\nL 49.045228 127.965744 \r\nL 49.380363 123.63078 \r\nL 49.715498 121.095614 \r\nL 50.050633 120.805185 \r\nL 50.385769 124.190471 \r\nL 50.720904 129.631614 \r\nL 51.391174 134.402452 \r\nL 51.726309 135.257531 \r\nL 52.061444 131.632404 \r\nL 52.396579 137.977731 \r\nL 52.731715 138.052317 \r\nL 53.06685 134.86956 \r\nL 53.401985 137.88708 \r\nL 53.73712 135.935175 \r\nL 54.40739 145.039818 \r\nL 54.742525 138.831171 \r\nL 55.07766 142.437369 \r\nL 55.412796 135.746754 \r\nL 56.083066 145.834167 \r\nL 56.418201 146.736226 \r\nL 57.088471 158.917658 \r\nL 57.423606 159.66431 \r\nL 57.758742 162.024325 \r\nL 58.093877 159.849585 \r\nL 58.429012 155.888981 \r\nL 58.764147 165.867403 \r\nL 59.099282 167.52082 \r\nL 59.434417 167.263288 \r\nL 59.769552 167.56464 \r\nL 60.104688 168.066149 \r\nL 60.439823 162.550055 \r\nL 60.774958 159.549524 \r\nL 61.110093 159.963975 \r\nL 61.445228 158.77459 \r\nL 61.780363 160.699758 \r\nL 62.115498 161.388375 \r\nL 62.450633 161.155076 \r\nL 63.120904 161.891988 \r\nL 63.456039 166.312767 \r\nL 63.791174 164.90911 \r\nL 64.126309 167.172494 \r\nL 64.461444 172.732164 \r\nL 64.796579 172.756208 \r\nL 65.131715 170.893269 \r\nL 65.46685 170.888521 \r\nL 66.13712 162.428037 \r\nL 66.472255 164.360955 \r\nL 66.80739 167.120107 \r\nL 67.142525 164.045203 \r\nL 67.47766 168.017607 \r\nL 67.812796 168.475957 \r\nL 68.483066 164.92302 \r\nL 68.818201 164.674315 \r\nL 69.153336 165.873208 \r\nL 69.488471 166.212496 \r\nL 69.823606 159.54444 \r\nL 70.158742 161.014756 \r\nL 70.493877 159.775 \r\nL 70.829012 166.750095 \r\nL 71.164147 159.209148 \r\nL 71.499282 161.866555 \r\nL 71.834417 166.101474 \r\nL 72.504687 162.628974 \r\nL 72.839823 162.837332 \r\nL 73.174958 163.696082 \r\nL 73.510093 165.497469 \r\nL 73.845228 165.706733 \r\nL 74.180363 174.749907 \r\nL 74.515498 171.871587 \r\nL 74.850633 178.030011 \r\nL 75.185769 178.215859 \r\nL 75.520904 181.735959 \r\nL 76.191174 174.837005 \r\nL 76.526309 174.536835 \r\nL 76.861444 173.377686 \r\nL 77.196579 172.939411 \r\nL 77.531715 168.410093 \r\nL 77.86685 171.676837 \r\nL 78.201985 173.317495 \r\nL 78.53712 173.826056 \r\nL 79.542525 183.836353 \r\nL 79.87766 179.444268 \r\nL 80.212796 180.022017 \r\nL 80.547931 182.852576 \r\nL 80.883066 181.637185 \r\nL 81.218201 175.212671 \r\nL 81.553336 177.588699 \r\nL 81.888471 182.550913 \r\nL 82.223606 178.304576 \r\nL 82.558742 175.622734 \r\nL 82.893877 175.488664 \r\nL 83.229012 174.242124 \r\nL 83.564147 171.17129 \r\nL 83.899282 173.890969 \r\nL 84.234417 175.177752 \r\nL 84.904688 174.7314 \r\nL 85.239823 178.217955 \r\nL 85.574958 172.380341 \r\nL 85.910093 173.625007 \r\nL 86.245228 173.207616 \r\nL 86.580363 172.230503 \r\nL 87.250633 182.795647 \r\nL 87.920904 179.320519 \r\nL 88.591174 188.323993 \r\nL 88.926309 180.24794 \r\nL 89.261444 185.569317 \r\nL 89.596579 184.043859 \r\nL 89.931715 189.565843 \r\nL 90.26685 187.862629 \r\nL 90.93712 181.836017 \r\nL 91.272255 180.79485 \r\nL 91.60739 187.397599 \r\nL 91.942525 182.730742 \r\nL 92.27766 189.192865 \r\nL 92.612796 191.125132 \r\nL 92.947931 191.339748 \r\nL 93.283066 190.158642 \r\nL 93.618201 189.478925 \r\nL 93.953336 186.078262 \r\nL 94.958742 192.99285 \r\nL 95.293877 196.174419 \r\nL 95.629012 197.734632 \r\nL 95.964147 196.648 \r\nL 96.299282 199.807731 \r\nL 96.634417 199.015838 \r\nL 96.969552 203.76741 \r\nL 97.304688 201.907605 \r\nL 97.639823 203.491412 \r\nL 97.974958 206.394665 \r\nL 98.310093 207.326114 \r\nL 98.645228 203.266333 \r\nL 98.980363 202.438078 \r\nL 99.315498 201.152247 \r\nL 99.650633 198.67064 \r\nL 99.985769 194.245113 \r\nL 100.320904 199.205572 \r\nL 100.656039 200.920453 \r\nL 100.991174 201.321122 \r\nL 101.326309 194.846527 \r\nL 101.661444 197.588861 \r\nL 101.996579 197.715639 \r\nL 102.66685 190.563161 \r\nL 103.001985 192.868477 \r\nL 103.33712 189.448671 \r\nL 103.672255 192.543017 \r\nL 104.00739 198.033956 \r\nL 104.342525 195.089424 \r\nL 104.67766 196.25281 \r\nL 105.012796 192.211186 \r\nL 105.347931 197.628501 \r\nL 105.683066 200.505733 \r\nL 106.018201 199.170884 \r\nL 106.353336 196.870177 \r\nL 106.688471 195.738055 \r\nL 107.023606 196.971621 \r\nL 107.358742 197.184971 \r\nL 107.693877 201.017261 \r\nL 108.029012 199.44389 \r\nL 108.364147 198.638882 \r\nL 108.699282 195.796815 \r\nL 109.034417 194.51257 \r\nL 109.369552 190.105034 \r\nL 109.704687 191.033739 \r\nL 110.039823 189.005687 \r\nL 110.374958 192.331782 \r\nL 110.710093 193.114429 \r\nL 111.045228 192.956516 \r\nL 111.380363 191.10829 \r\nL 111.715498 192.860448 \r\nL 112.050633 188.497332 \r\nL 112.385769 186.043459 \r\nL 112.720904 193.096534 \r\nL 113.056039 195.656597 \r\nL 113.391174 195.657699 \r\nL 114.061444 199.714544 \r\nL 114.396579 199.036755 \r\nL 114.731715 193.667351 \r\nL 115.06685 200.473878 \r\nL 115.401985 196.83511 \r\nL 115.73712 197.664507 \r\nL 116.072255 197.691191 \r\nL 116.40739 197.202026 \r\nL 116.742525 194.496352 \r\nL 117.07766 189.410419 \r\nL 117.747931 195.63108 \r\nL 118.083066 193.293762 \r\nL 118.418201 196.83335 \r\nL 118.753336 191.321052 \r\nL 119.088471 192.505336 \r\nL 119.423606 190.634471 \r\nL 119.758742 187.636552 \r\nL 120.093877 181.446073 \r\nL 120.764147 180.195946 \r\nL 121.099282 173.382635 \r\nL 121.434417 173.196224 \r\nL 121.769552 175.920531 \r\nL 122.104688 175.24508 \r\nL 122.439823 178.720633 \r\nL 122.774958 173.872508 \r\nL 123.110093 170.987569 \r\nL 123.445228 171.943879 \r\nL 124.115498 178.790268 \r\nL 124.450633 174.669306 \r\nL 124.785769 177.954748 \r\nL 125.456039 171.927741 \r\nL 125.791174 165.61579 \r\nL 126.126309 165.813109 \r\nL 126.796579 160.491263 \r\nL 127.131715 160.254646 \r\nL 127.46685 155.909672 \r\nL 127.801985 155.150508 \r\nL 128.472255 159.727001 \r\nL 128.80739 153.69706 \r\nL 129.142525 150.605276 \r\nL 129.47766 152.087413 \r\nL 129.812796 148.311933 \r\nL 130.483066 153.545132 \r\nL 130.818201 150.604148 \r\nL 131.153336 154.255404 \r\nL 131.823606 153.272182 \r\nL 132.158742 149.401699 \r\nL 133.164147 163.014602 \r\nL 133.499282 164.035543 \r\nL 133.834417 163.305024 \r\nL 134.169552 160.971199 \r\nL 134.504687 163.749073 \r\nL 134.839823 163.086721 \r\nL 135.174958 164.024342 \r\nL 135.510093 164.471147 \r\nL 135.845228 166.217273 \r\nL 136.180363 168.749277 \r\nL 136.850633 163.474834 \r\nL 137.185769 165.778196 \r\nL 137.520904 165.541206 \r\nL 137.856039 158.484981 \r\nL 138.191174 159.601528 \r\nL 138.526309 157.942612 \r\nL 138.861444 153.685545 \r\nL 139.196579 155.000948 \r\nL 139.531715 155.178579 \r\nL 139.86685 156.987302 \r\nL 140.201985 155.560519 \r\nL 140.53712 156.908293 \r\nL 140.872255 157.20811 \r\nL 141.20739 161.888363 \r\nL 141.87766 151.649645 \r\nL 142.547931 157.105203 \r\nL 142.883066 160.131901 \r\nL 143.218201 157.721043 \r\nL 143.553336 159.591075 \r\nL 143.888471 167.119069 \r\nL 144.223606 168.844245 \r\nL 144.558742 172.558769 \r\nL 144.893877 167.673679 \r\nL 145.229012 169.872187 \r\nL 145.564147 169.748475 \r\nL 145.899282 178.972179 \r\nL 146.234417 181.629595 \r\nL 146.569552 181.134427 \r\nL 146.904688 183.822322 \r\nL 147.239823 184.202549 \r\nL 147.910093 176.036691 \r\nL 148.245228 174.993102 \r\nL 148.580363 177.231275 \r\nL 148.915498 184.393804 \r\nL 149.250633 187.08203 \r\nL 149.585769 192.475744 \r\nL 149.920904 188.144732 \r\nL 150.256039 187.411791 \r\nL 150.591174 189.453312 \r\nL 150.926309 185.826709 \r\nL 151.261444 180.98799 \r\nL 151.596579 180.44423 \r\nL 152.26685 167.018588 \r\nL 152.601985 164.300589 \r\nL 152.93712 163.475362 \r\nL 153.272255 167.813988 \r\nL 153.942525 160.555141 \r\nL 154.27766 161.23243 \r\nL 154.612796 159.198984 \r\nL 154.947931 160.202386 \r\nL 155.283066 160.825429 \r\nL 155.618201 162.123656 \r\nL 156.288471 175.478856 \r\nL 156.623606 167.35346 \r\nL 156.958742 170.887607 \r\nL 157.629012 165.746301 \r\nL 157.964147 170.34542 \r\nL 158.299282 168.611346 \r\nL 158.634417 170.94335 \r\nL 158.969552 171.69924 \r\nL 159.304688 169.65481 \r\nL 159.639823 165.523765 \r\nL 159.974958 167.13431 \r\nL 160.980363 154.711433 \r\nL 161.650633 150.310859 \r\nL 161.985769 149.353636 \r\nL 162.320904 151.07285 \r\nL 162.656039 149.341427 \r\nL 162.991174 144.252051 \r\nL 163.326309 143.464354 \r\nL 163.661444 146.417662 \r\nL 163.996579 147.273252 \r\nL 164.331715 144.54563 \r\nL 164.66685 147.818999 \r\nL 165.001985 147.54206 \r\nL 165.33712 152.627846 \r\nL 165.672255 153.957572 \r\nL 166.00739 153.711494 \r\nL 166.342525 158.617406 \r\nL 166.67766 161.562541 \r\nL 167.012796 158.006443 \r\nL 167.347931 157.971275 \r\nL 168.688471 144.352503 \r\nL 169.023606 147.106041 \r\nL 169.358742 144.977796 \r\nL 169.693877 143.85432 \r\nL 170.029012 143.441314 \r\nL 170.364147 142.710572 \r\nL 170.699282 144.61744 \r\nL 171.034417 142.1717 \r\nL 171.369552 143.308194 \r\nL 171.704687 142.071691 \r\nL 172.039823 136.221038 \r\nL 172.374958 136.479573 \r\nL 172.710093 138.950031 \r\nL 173.045228 138.668571 \r\nL 173.380363 136.347316 \r\nL 173.715498 137.595679 \r\nL 174.050633 136.33905 \r\nL 174.385769 132.054631 \r\nL 174.720904 133.979951 \r\nL 175.056039 134.322258 \r\nL 175.391174 135.015136 \r\nL 175.726309 136.225592 \r\nL 176.061444 129.625129 \r\nL 176.396579 132.596286 \r\nL 176.731715 133.788045 \r\nL 177.401985 129.820549 \r\nL 177.73712 129.20293 \r\nL 178.072255 129.922282 \r\nL 178.40739 132.437618 \r\nL 178.742525 131.581165 \r\nL 179.07766 133.622077 \r\nL 179.412796 132.435874 \r\nL 179.747931 133.43813 \r\nL 180.083066 141.507541 \r\nL 180.418201 140.061768 \r\nL 180.753336 141.59646 \r\nL 181.088471 141.02666 \r\nL 181.423606 135.329008 \r\nL 182.093877 128.355115 \r\nL 182.429012 129.988304 \r\nL 182.764147 130.27707 \r\nL 183.099282 131.667977 \r\nL 183.769552 123.923093 \r\nL 184.104688 122.398508 \r\nL 184.439823 119.692448 \r\nL 184.774958 115.050608 \r\nL 185.110093 114.767049 \r\nL 185.445228 117.161917 \r\nL 185.780363 109.249766 \r\nL 186.115498 104.068131 \r\nL 186.785769 97.157094 \r\nL 187.120904 98.855527 \r\nL 187.456039 98.107981 \r\nL 187.791174 102.755476 \r\nL 188.126309 109.806307 \r\nL 188.461444 108.667176 \r\nL 188.796579 114.099396 \r\nL 189.131715 111.373838 \r\nL 189.46685 115.389348 \r\nL 189.801985 116.274773 \r\nL 190.13712 111.594186 \r\nL 190.472255 109.309385 \r\nL 190.80739 100.325503 \r\nL 191.142525 106.785804 \r\nL 191.47766 106.868705 \r\nL 191.812796 108.452414 \r\nL 192.147931 111.231677 \r\nL 192.483066 115.817971 \r\nL 193.153336 119.298281 \r\nL 193.488471 121.978843 \r\nL 193.823606 119.192641 \r\nL 194.158742 118.652215 \r\nL 194.493877 116.395218 \r\nL 195.164147 108.326712 \r\nL 195.499282 110.530845 \r\nL 195.834417 106.863127 \r\nL 196.169552 109.269911 \r\nL 196.504687 106.209221 \r\nL 196.839823 111.32849 \r\nL 197.174958 108.062666 \r\nL 197.510093 107.315742 \r\nL 197.845228 106.139489 \r\nL 198.180363 111.397683 \r\nL 198.515498 109.565546 \r\nL 198.850633 107.108907 \r\nL 199.185769 109.19658 \r\nL 199.520904 116.977482 \r\nL 199.856039 111.041931 \r\nL 200.191174 117.133205 \r\nL 200.526309 115.852785 \r\nL 200.861444 109.938694 \r\nL 201.196579 109.712934 \r\nL 201.531715 108.517839 \r\nL 201.86685 110.343865 \r\nL 202.201985 109.16688 \r\nL 202.53712 106.551279 \r\nL 202.872255 100.780787 \r\nL 203.20739 106.149632 \r\nL 203.542525 104.176168 \r\nL 203.87766 104.105004 \r\nL 204.212796 98.929817 \r\nL 204.547931 96.307191 \r\nL 204.883066 94.808341 \r\nL 205.218201 94.196727 \r\nL 205.553336 96.70424 \r\nL 205.888471 101.534838 \r\nL 206.223606 95.741713 \r\nL 206.558742 95.056924 \r\nL 206.893877 94.841118 \r\nL 207.229012 91.337142 \r\nL 207.564147 89.991508 \r\nL 207.899282 85.796958 \r\nL 208.234417 83.750643 \r\nL 208.569552 85.824618 \r\nL 208.904688 82.745253 \r\nL 209.239823 84.416671 \r\nL 209.574958 82.391331 \r\nL 209.910093 81.410613 \r\nL 210.245228 78.165368 \r\nL 210.580363 79.129681 \r\nL 210.915498 79.381462 \r\nL 211.250633 82.475493 \r\nL 211.585769 79.10603 \r\nL 211.920904 66.273916 \r\nL 212.256039 60.601667 \r\nL 212.591174 62.218359 \r\nL 212.926309 62.036633 \r\nL 213.261444 63.13673 \r\nL 213.596579 58.321166 \r\nL 213.931715 62.402664 \r\nL 214.26685 62.426997 \r\nL 214.601985 59.713047 \r\nL 215.272255 65.549271 \r\nL 215.60739 64.300178 \r\nL 215.942525 57.44636 \r\nL 216.612796 67.046693 \r\nL 216.947931 66.153833 \r\nL 217.283066 66.126766 \r\nL 217.618201 69.837927 \r\nL 217.953336 63.359934 \r\nL 218.288471 62.821488 \r\nL 218.623606 60.957374 \r\nL 218.958742 62.394589 \r\nL 219.629012 52.362386 \r\nL 219.964147 54.877747 \r\nL 220.299282 59.959894 \r\nL 220.634417 54.808613 \r\nL 220.969552 56.986796 \r\nL 221.304688 53.282622 \r\nL 221.639823 55.842795 \r\nL 221.974958 52.882651 \r\nL 222.310093 53.07115 \r\nL 222.645228 53.769636 \r\nL 223.315498 76.286621 \r\nL 223.985769 70.204577 \r\nL 224.320904 77.470973 \r\nL 224.656039 78.796299 \r\nL 224.991174 74.827619 \r\nL 225.326309 76.521458 \r\nL 225.996579 67.901745 \r\nL 226.331715 69.487325 \r\nL 226.66685 67.211758 \r\nL 227.001985 60.487813 \r\nL 227.33712 61.501819 \r\nL 227.672255 64.289184 \r\nL 228.00739 63.659797 \r\nL 228.342525 60.373878 \r\nL 228.67766 66.788631 \r\nL 229.347931 62.404494 \r\nL 229.683066 65.660738 \r\nL 230.018201 66.251506 \r\nL 230.353336 62.538574 \r\nL 231.023606 66.334134 \r\nL 231.358742 70.05394 \r\nL 231.693877 71.123383 \r\nL 232.029012 68.499187 \r\nL 232.364147 64.481086 \r\nL 232.699282 62.481259 \r\nL 233.034417 67.096152 \r\nL 233.369552 63.306357 \r\nL 233.704687 63.025631 \r\nL 234.039823 63.309205 \r\nL 234.374958 65.497988 \r\nL 234.710093 64.195541 \r\nL 235.045228 61.911144 \r\nL 235.380363 58.652562 \r\nL 235.715498 62.749432 \r\nL 236.050633 64.218679 \r\nL 236.385769 56.66186 \r\nL 237.391174 48.968996 \r\nL 238.061444 45.935961 \r\nL 238.396579 47.846354 \r\nL 238.731715 46.653288 \r\nL 239.06685 54.829876 \r\nL 239.401985 56.434478 \r\nL 239.73712 63.665917 \r\nL 240.072255 63.774776 \r\nL 240.40739 55.112921 \r\nL 240.742525 55.467977 \r\nL 241.07766 52.225438 \r\nL 241.412796 54.586213 \r\nL 241.747931 55.289788 \r\nL 242.083066 55.595954 \r\nL 242.418201 59.433946 \r\nL 242.753336 54.762751 \r\nL 243.088471 58.508549 \r\nL 243.423606 59.639258 \r\nL 244.093877 54.219537 \r\nL 244.429012 55.946347 \r\nL 244.764147 55.963199 \r\nL 245.099282 57.177614 \r\nL 245.434417 51.465394 \r\nL 246.104688 58.70608 \r\nL 246.439823 60.171152 \r\nL 246.774958 63.210522 \r\nL 247.780363 49.729358 \r\nL 248.115498 49.209282 \r\nL 248.450633 49.302393 \r\nL 248.785769 49.070622 \r\nL 249.120904 50.408389 \r\nL 249.456039 52.752954 \r\nL 249.791174 56.53917 \r\nL 250.126309 54.000285 \r\nL 250.796579 63.550794 \r\nL 251.131715 62.72532 \r\nL 251.46685 64.382816 \r\nL 251.801985 66.734444 \r\nL 252.13712 66.937841 \r\nL 252.472255 68.670359 \r\nL 252.80739 74.928994 \r\nL 253.142525 77.178876 \r\nL 253.47766 77.436183 \r\nL 253.812796 76.985605 \r\nL 254.147931 76.994089 \r\nL 254.483066 79.161768 \r\nL 255.488471 73.193745 \r\nL 255.823606 70.952067 \r\nL 256.158742 70.185652 \r\nL 256.493877 69.886925 \r\nL 256.829012 70.979212 \r\nL 257.164147 68.989587 \r\nL 257.834417 69.915845 \r\nL 258.504687 74.929471 \r\nL 258.839823 73.595998 \r\nL 259.174958 71.469908 \r\nL 259.510093 71.28055 \r\nL 259.845228 71.239896 \r\nL 260.180363 72.36859 \r\nL 260.515498 67.608841 \r\nL 260.850633 73.859669 \r\nL 261.185769 73.472654 \r\nL 261.856039 83.555685 \r\nL 262.191174 80.324702 \r\nL 262.526309 82.986757 \r\nL 263.196579 95.502293 \r\nL 263.531715 94.111986 \r\nL 263.86685 101.333792 \r\nL 264.201985 103.294048 \r\nL 264.53712 103.522999 \r\nL 264.872255 108.347309 \r\nL 265.87766 114.219014 \r\nL 266.212796 111.387281 \r\nL 266.547931 110.315771 \r\nL 266.883066 110.696593 \r\nL 267.218201 107.935932 \r\nL 267.553336 98.831263 \r\nL 268.223606 97.782273 \r\nL 268.558742 99.826717 \r\nL 268.893877 104.128916 \r\nL 269.229012 99.074104 \r\nL 269.564147 104.868881 \r\nL 269.899282 113.259993 \r\nL 270.234417 111.486223 \r\nL 270.569552 111.832933 \r\nL 270.904688 107.351968 \r\nL 271.239823 110.365439 \r\nL 271.574958 105.358498 \r\nL 272.245228 110.304601 \r\nL 272.580363 107.514888 \r\nL 272.915498 105.743979 \r\nL 273.250633 109.484233 \r\nL 273.585769 108.218851 \r\nL 273.920904 107.503503 \r\nL 274.256039 99.424442 \r\nL 274.591174 99.461547 \r\nL 274.926309 93.231336 \r\nL 275.261444 94.622843 \r\nL 275.596579 94.487519 \r\nL 275.931715 93.680843 \r\nL 276.26685 86.44281 \r\nL 276.601985 84.22938 \r\nL 276.93712 83.619287 \r\nL 277.272255 89.309687 \r\nL 277.60739 87.625111 \r\nL 277.942525 85.275227 \r\nL 278.27766 79.234739 \r\nL 278.612796 81.261845 \r\nL 278.947931 81.953864 \r\nL 279.283066 76.036994 \r\nL 279.953336 84.575724 \r\nL 280.288471 83.757697 \r\nL 280.623606 77.903081 \r\nL 280.958742 80.927009 \r\nL 281.629012 92.326714 \r\nL 282.299282 95.219993 \r\nL 282.634417 91.752459 \r\nL 282.969552 102.215916 \r\nL 283.304688 103.988214 \r\nL 284.310093 100.325774 \r\nL 285.315498 91.307899 \r\nL 285.650633 91.840318 \r\nL 285.985769 90.890858 \r\nL 286.991174 97.453772 \r\nL 287.326309 101.492979 \r\nL 287.661444 101.193473 \r\nL 287.996579 103.592945 \r\nL 288.66685 112.362124 \r\nL 289.001985 109.934863 \r\nL 289.33712 113.633459 \r\nL 289.672255 114.27003 \r\nL 290.00739 111.927896 \r\nL 290.342525 107.168813 \r\nL 290.67766 111.184857 \r\nL 291.012796 109.369557 \r\nL 291.347931 114.61909 \r\nL 292.018201 117.995162 \r\nL 292.353336 117.612605 \r\nL 292.688471 110.760295 \r\nL 293.023606 108.677454 \r\nL 293.358742 112.975412 \r\nL 293.693877 113.410278 \r\nL 294.364147 124.957345 \r\nL 294.699282 120.273926 \r\nL 295.034417 126.129885 \r\nL 295.369552 123.990034 \r\nL 295.704687 122.647728 \r\nL 296.039823 122.42293 \r\nL 296.374958 128.670755 \r\nL 296.710093 127.217837 \r\nL 297.045228 129.492127 \r\nL 297.380363 135.180971 \r\nL 297.715498 133.473463 \r\nL 298.050633 136.37998 \r\nL 298.385769 141.509252 \r\nL 298.720904 140.156811 \r\nL 299.056039 139.925198 \r\nL 299.391174 141.36647 \r\nL 299.726309 136.162743 \r\nL 300.061444 138.998896 \r\nL 300.396579 138.184474 \r\nL 300.731715 142.215279 \r\nL 301.06685 139.72778 \r\nL 301.401985 138.832846 \r\nL 301.73712 142.758698 \r\nL 302.072255 141.316006 \r\nL 302.40739 130.896554 \r\nL 302.742525 126.942917 \r\nL 303.07766 127.679093 \r\nL 303.412796 132.037149 \r\nL 303.747931 131.037312 \r\nL 304.083066 128.864527 \r\nL 304.418201 129.34886 \r\nL 304.753336 129.585104 \r\nL 305.088471 127.593404 \r\nL 305.423606 126.448501 \r\nL 305.758742 125.792388 \r\nL 306.093877 119.859528 \r\nL 306.429012 121.852584 \r\nL 306.764147 118.610909 \r\nL 307.099282 119.636448 \r\nL 307.434417 125.909264 \r\nL 307.769552 123.735023 \r\nL 308.104688 123.583045 \r\nL 308.439823 122.086487 \r\nL 308.774958 124.406197 \r\nL 309.110093 123.850461 \r\nL 309.780363 118.285068 \r\nL 310.115498 114.725149 \r\nL 310.450633 104.478888 \r\nL 310.785769 106.324371 \r\nL 311.120904 106.072226 \r\nL 311.456039 107.902282 \r\nL 311.791174 113.942874 \r\nL 312.126309 107.574505 \r\nL 312.461444 105.540118 \r\nL 312.796579 109.311709 \r\nL 313.131715 117.955255 \r\nL 313.46685 116.917726 \r\nL 314.13712 122.470544 \r\nL 314.472255 121.865596 \r\nL 315.142525 115.142043 \r\nL 315.47766 116.536526 \r\nL 316.147931 122.690949 \r\nL 316.483066 119.346324 \r\nL 317.153336 111.407749 \r\nL 317.488471 114.394877 \r\nL 317.823606 115.728546 \r\nL 318.158742 117.520858 \r\nL 318.493877 115.314761 \r\nL 318.829012 109.544533 \r\nL 319.164147 112.122755 \r\nL 319.499282 110.227 \r\nL 319.834417 109.181365 \r\nL 320.169552 105.117057 \r\nL 320.504687 112.389199 \r\nL 320.839823 111.907104 \r\nL 321.174958 108.254005 \r\nL 321.845228 99.051736 \r\nL 322.180363 103.760331 \r\nL 322.515498 103.186453 \r\nL 322.850633 101.660029 \r\nL 323.185769 112.377803 \r\nL 323.520904 104.092502 \r\nL 323.856039 105.642827 \r\nL 324.191174 103.98417 \r\nL 324.526309 105.102275 \r\nL 324.861444 108.169895 \r\nL 325.196579 105.631529 \r\nL 325.531715 106.817946 \r\nL 325.86685 108.981613 \r\nL 326.201985 111.970487 \r\nL 326.53712 110.245041 \r\nL 326.872255 113.400548 \r\nL 327.20739 119.887719 \r\nL 327.542525 118.420632 \r\nL 327.87766 115.315803 \r\nL 328.212796 111.110776 \r\nL 329.218201 103.884636 \r\nL 329.553336 98.225347 \r\nL 329.888471 99.608153 \r\nL 330.223606 98.771189 \r\nL 330.558742 99.202553 \r\nL 330.893877 94.704076 \r\nL 331.229012 95.229377 \r\nL 331.564147 98.772572 \r\nL 331.899282 100.076738 \r\nL 332.234417 100.389988 \r\nL 332.569552 103.047373 \r\nL 332.904688 100.897755 \r\nL 333.239823 104.206385 \r\nL 333.574958 104.719392 \r\nL 333.910093 109.943739 \r\nL 334.580363 110.223732 \r\nL 334.915498 106.469155 \r\nL 335.250633 104.820202 \r\nL 335.585769 108.227278 \r\nL 335.920904 107.538291 \r\nL 336.256039 105.846411 \r\nL 336.591174 108.643859 \r\nL 336.926309 98.274993 \r\nL 337.261444 98.101936 \r\nL 337.596579 97.525834 \r\nL 337.931715 103.182408 \r\nL 338.601985 94.374071 \r\nL 338.93712 94.298539 \r\nL 339.272255 95.619797 \r\nL 339.60739 95.440729 \r\nL 339.942525 96.218397 \r\nL 340.27766 92.847592 \r\nL 340.612796 92.317317 \r\nL 340.947931 89.978657 \r\nL 341.283066 90.040878 \r\nL 341.618201 90.60245 \r\nL 341.953336 86.782153 \r\nL 342.288471 89.881214 \r\nL 342.623606 91.002122 \r\nL 342.958742 91.450085 \r\nL 343.629012 96.621913 \r\nL 343.964147 95.420519 \r\nL 344.299282 95.57321 \r\nL 344.634417 94.991884 \r\nL 344.969552 89.374001 \r\nL 345.304688 86.131367 \r\nL 345.639823 81.567003 \r\nL 345.974958 84.900271 \r\nL 346.310093 86.230203 \r\nL 346.645228 91.11816 \r\nL 346.980363 88.81107 \r\nL 347.315498 92.28177 \r\nL 347.650633 84.106504 \r\nL 347.985769 83.645265 \r\nL 348.320904 83.617209 \r\nL 348.656039 82.40867 \r\nL 349.326309 87.980361 \r\nL 349.661444 86.748073 \r\nL 349.996579 97.025376 \r\nL 350.331715 97.984737 \r\nL 350.66685 90.245955 \r\nL 351.33712 93.78845 \r\nL 351.672255 99.185049 \r\nL 352.342525 96.36767 \r\nL 352.67766 92.978684 \r\nL 353.012796 97.837238 \r\nL 353.347931 97.652032 \r\nL 353.683066 96.25666 \r\nL 354.018201 105.54847 \r\nL 354.353336 99.472534 \r\nL 354.688471 97.282628 \r\nL 355.023606 102.834767 \r\nL 355.358742 102.274118 \r\nL 355.693877 107.68915 \r\nL 356.029012 107.758408 \r\nL 356.364147 105.166875 \r\nL 356.699282 100.730957 \r\nL 357.034417 101.01094 \r\nL 357.369552 99.408639 \r\nL 357.704687 105.396286 \r\nL 358.374958 109.120441 \r\nL 358.710093 115.731947 \r\nL 359.045228 114.833872 \r\nL 359.380363 119.788578 \r\nL 359.715498 115.110454 \r\nL 360.050633 116.030752 \r\nL 360.385769 118.052764 \r\nL 360.720904 122.316214 \r\nL 361.056039 117.324012 \r\nL 361.391174 118.718262 \r\nL 361.726309 112.566967 \r\nL 362.061444 109.816885 \r\nL 362.396579 99.563967 \r\nL 362.731715 99.051316 \r\nL 363.06685 99.628751 \r\nL 363.401985 95.441597 \r\nL 363.73712 96.995413 \r\nL 364.072255 99.114761 \r\nL 364.40739 98.739469 \r\nL 364.742525 96.888387 \r\nL 365.07766 94.089397 \r\nL 365.412796 92.779377 \r\nL 365.747931 87.334604 \r\nL 366.753336 97.557076 \r\nL 367.088471 98.37531 \r\nL 367.423606 102.163026 \r\nL 367.758742 95.180374 \r\nL 368.429012 93.055865 \r\nL 368.764147 96.819718 \r\nL 369.099282 102.229927 \r\nL 369.434417 101.808327 \r\nL 369.769552 102.560942 \r\nL 370.104688 102.747498 \r\nL 370.104688 102.747498 \r\n\" style=\"fill:none;stroke:#d62728;stroke-linecap:square;stroke-width:1.5;\"/>\r\n   </g>\r\n   <g id=\"patch_3\">\r\n    <path d=\"M 35.304688 224.64 \r\nL 35.304688 7.2 \r\n\" style=\"fill:none;stroke:#000000;stroke-linecap:square;stroke-linejoin:miter;stroke-width:0.8;\"/>\r\n   </g>\r\n   <g id=\"patch_4\">\r\n    <path d=\"M 370.104688 224.64 \r\nL 370.104688 7.2 \r\n\" style=\"fill:none;stroke:#000000;stroke-linecap:square;stroke-linejoin:miter;stroke-width:0.8;\"/>\r\n   </g>\r\n   <g id=\"patch_5\">\r\n    <path d=\"M 35.304688 224.64 \r\nL 370.104688 224.64 \r\n\" style=\"fill:none;stroke:#000000;stroke-linecap:square;stroke-linejoin:miter;stroke-width:0.8;\"/>\r\n   </g>\r\n   <g id=\"patch_6\">\r\n    <path d=\"M 35.304688 7.2 \r\nL 370.104688 7.2 \r\n\" style=\"fill:none;stroke:#000000;stroke-linecap:square;stroke-linejoin:miter;stroke-width:0.8;\"/>\r\n   </g>\r\n   <g id=\"legend_1\">\r\n    <g id=\"patch_7\">\r\n     <path d=\"M 323.404688 73.9125 \r\nL 363.104688 73.9125 \r\nQ 365.104688 73.9125 365.104688 71.9125 \r\nL 365.104688 14.2 \r\nQ 365.104688 12.2 363.104688 12.2 \r\nL 323.404688 12.2 \r\nQ 321.404688 12.2 321.404688 14.2 \r\nL 321.404688 71.9125 \r\nQ 321.404688 73.9125 323.404688 73.9125 \r\nz\r\n\" style=\"fill:#ffffff;opacity:0.8;stroke:#cccccc;stroke-linejoin:miter;\"/>\r\n    </g>\r\n    <g id=\"line2d_45\">\r\n     <path d=\"M 325.404688 20.298437 \r\nL 345.404688 20.298437 \r\n\" style=\"fill:none;stroke:#1f77b4;stroke-linecap:square;stroke-width:1.5;\"/>\r\n    </g>\r\n    <g id=\"line2d_46\"/>\r\n    <g id=\"text_13\">\r\n     <!-- A -->\r\n     <g transform=\"translate(353.404688 23.798437)scale(0.1 -0.1)\">\r\n      <defs>\r\n       <path d=\"M 2188 4044 \r\nL 1331 1722 \r\nL 3047 1722 \r\nL 2188 4044 \r\nz\r\nM 1831 4666 \r\nL 2547 4666 \r\nL 4325 0 \r\nL 3669 0 \r\nL 3244 1197 \r\nL 1141 1197 \r\nL 716 0 \r\nL 50 0 \r\nL 1831 4666 \r\nz\r\n\" id=\"DejaVuSans-41\" transform=\"scale(0.015625)\"/>\r\n      </defs>\r\n      <use xlink:href=\"#DejaVuSans-41\"/>\r\n     </g>\r\n    </g>\r\n    <g id=\"line2d_47\">\r\n     <path d=\"M 325.404688 34.976562 \r\nL 345.404688 34.976562 \r\n\" style=\"fill:none;stroke:#ff7f0e;stroke-linecap:square;stroke-width:1.5;\"/>\r\n    </g>\r\n    <g id=\"line2d_48\"/>\r\n    <g id=\"text_14\">\r\n     <!-- B -->\r\n     <g transform=\"translate(353.404688 38.476562)scale(0.1 -0.1)\">\r\n      <defs>\r\n       <path d=\"M 1259 2228 \r\nL 1259 519 \r\nL 2272 519 \r\nQ 2781 519 3026 730 \r\nQ 3272 941 3272 1375 \r\nQ 3272 1813 3026 2020 \r\nQ 2781 2228 2272 2228 \r\nL 1259 2228 \r\nz\r\nM 1259 4147 \r\nL 1259 2741 \r\nL 2194 2741 \r\nQ 2656 2741 2882 2914 \r\nQ 3109 3088 3109 3444 \r\nQ 3109 3797 2882 3972 \r\nQ 2656 4147 2194 4147 \r\nL 1259 4147 \r\nz\r\nM 628 4666 \r\nL 2241 4666 \r\nQ 2963 4666 3353 4366 \r\nQ 3744 4066 3744 3513 \r\nQ 3744 3084 3544 2831 \r\nQ 3344 2578 2956 2516 \r\nQ 3422 2416 3680 2098 \r\nQ 3938 1781 3938 1306 \r\nQ 3938 681 3513 340 \r\nQ 3088 0 2303 0 \r\nL 628 0 \r\nL 628 4666 \r\nz\r\n\" id=\"DejaVuSans-42\" transform=\"scale(0.015625)\"/>\r\n      </defs>\r\n      <use xlink:href=\"#DejaVuSans-42\"/>\r\n     </g>\r\n    </g>\r\n    <g id=\"line2d_49\">\r\n     <path d=\"M 325.404688 49.654687 \r\nL 345.404688 49.654687 \r\n\" style=\"fill:none;stroke:#2ca02c;stroke-linecap:square;stroke-width:1.5;\"/>\r\n    </g>\r\n    <g id=\"line2d_50\"/>\r\n    <g id=\"text_15\">\r\n     <!-- C -->\r\n     <g transform=\"translate(353.404688 53.154687)scale(0.1 -0.1)\">\r\n      <defs>\r\n       <path d=\"M 4122 4306 \r\nL 4122 3641 \r\nQ 3803 3938 3442 4084 \r\nQ 3081 4231 2675 4231 \r\nQ 1875 4231 1450 3742 \r\nQ 1025 3253 1025 2328 \r\nQ 1025 1406 1450 917 \r\nQ 1875 428 2675 428 \r\nQ 3081 428 3442 575 \r\nQ 3803 722 4122 1019 \r\nL 4122 359 \r\nQ 3791 134 3420 21 \r\nQ 3050 -91 2638 -91 \r\nQ 1578 -91 968 557 \r\nQ 359 1206 359 2328 \r\nQ 359 3453 968 4101 \r\nQ 1578 4750 2638 4750 \r\nQ 3056 4750 3426 4639 \r\nQ 3797 4528 4122 4306 \r\nz\r\n\" id=\"DejaVuSans-43\" transform=\"scale(0.015625)\"/>\r\n      </defs>\r\n      <use xlink:href=\"#DejaVuSans-43\"/>\r\n     </g>\r\n    </g>\r\n    <g id=\"line2d_51\">\r\n     <path d=\"M 325.404688 64.332812 \r\nL 345.404688 64.332812 \r\n\" style=\"fill:none;stroke:#d62728;stroke-linecap:square;stroke-width:1.5;\"/>\r\n    </g>\r\n    <g id=\"line2d_52\"/>\r\n    <g id=\"text_16\">\r\n     <!-- D -->\r\n     <g transform=\"translate(353.404688 67.832812)scale(0.1 -0.1)\">\r\n      <defs>\r\n       <path d=\"M 1259 4147 \r\nL 1259 519 \r\nL 2022 519 \r\nQ 2988 519 3436 956 \r\nQ 3884 1394 3884 2338 \r\nQ 3884 3275 3436 3711 \r\nQ 2988 4147 2022 4147 \r\nL 1259 4147 \r\nz\r\nM 628 4666 \r\nL 1925 4666 \r\nQ 3281 4666 3915 4102 \r\nQ 4550 3538 4550 2338 \r\nQ 4550 1131 3912 565 \r\nQ 3275 0 1925 0 \r\nL 628 0 \r\nL 628 4666 \r\nz\r\n\" id=\"DejaVuSans-44\" transform=\"scale(0.015625)\"/>\r\n      </defs>\r\n      <use xlink:href=\"#DejaVuSans-44\"/>\r\n     </g>\r\n    </g>\r\n   </g>\r\n  </g>\r\n </g>\r\n <defs>\r\n  <clipPath id=\"p0a8d1286e0\">\r\n   <rect height=\"217.44\" width=\"334.8\" x=\"35.304688\" y=\"7.2\"/>\r\n  </clipPath>\r\n </defs>\r\n</svg>\r\n",
      "text/plain": [
       "<Figure size 432x288 with 1 Axes>"
      ]
     },
     "metadata": {
      "needs_background": "light"
     },
     "output_type": "display_data"
    }
   ],
   "source": [
    "df = pd.DataFrame(\n",
    "    np.random.randn(1000, 4),\n",
    "    index=ts.index,\n",
    "    columns=list(\"ABCD\")\n",
    ")\n",
    "df = df.cumsum()\n",
    "plt.figure()\n",
    "df.plot()\n",
    "plt.legend(loc=\"best\")"
   ]
  },
  {
   "cell_type": "markdown",
   "metadata": {},
   "source": [
    "## Getting data in/out\n",
    "\n",
    "### CSV\n",
    "\n",
    "#### Writing to a .csv file"
   ]
  },
  {
   "cell_type": "code",
   "execution_count": 100,
   "metadata": {},
   "outputs": [],
   "source": [
    "df.to_csv(\"files/foo.csv\")"
   ]
  },
  {
   "cell_type": "markdown",
   "metadata": {},
   "source": [
    "#### Reading from a .csv file"
   ]
  },
  {
   "cell_type": "code",
   "execution_count": 101,
   "metadata": {},
   "outputs": [
    {
     "data": {
      "text/html": [
       "<div>\n",
       "<style scoped>\n",
       "    .dataframe tbody tr th:only-of-type {\n",
       "        vertical-align: middle;\n",
       "    }\n",
       "\n",
       "    .dataframe tbody tr th {\n",
       "        vertical-align: top;\n",
       "    }\n",
       "\n",
       "    .dataframe thead th {\n",
       "        text-align: right;\n",
       "    }\n",
       "</style>\n",
       "<table border=\"1\" class=\"dataframe\">\n",
       "  <thead>\n",
       "    <tr style=\"text-align: right;\">\n",
       "      <th></th>\n",
       "      <th>Unnamed: 0</th>\n",
       "      <th>A</th>\n",
       "      <th>B</th>\n",
       "      <th>C</th>\n",
       "      <th>D</th>\n",
       "    </tr>\n",
       "  </thead>\n",
       "  <tbody>\n",
       "    <tr>\n",
       "      <th>0</th>\n",
       "      <td>2022-01-01</td>\n",
       "      <td>0.091463</td>\n",
       "      <td>1.673725</td>\n",
       "      <td>-0.746928</td>\n",
       "      <td>0.857382</td>\n",
       "    </tr>\n",
       "    <tr>\n",
       "      <th>1</th>\n",
       "      <td>2022-01-02</td>\n",
       "      <td>0.767879</td>\n",
       "      <td>2.172299</td>\n",
       "      <td>-1.809359</td>\n",
       "      <td>0.242449</td>\n",
       "    </tr>\n",
       "    <tr>\n",
       "      <th>2</th>\n",
       "      <td>2022-01-03</td>\n",
       "      <td>-0.188135</td>\n",
       "      <td>3.627265</td>\n",
       "      <td>-0.954293</td>\n",
       "      <td>0.558939</td>\n",
       "    </tr>\n",
       "    <tr>\n",
       "      <th>3</th>\n",
       "      <td>2022-01-04</td>\n",
       "      <td>-0.568480</td>\n",
       "      <td>3.282168</td>\n",
       "      <td>-2.156548</td>\n",
       "      <td>-0.169787</td>\n",
       "    </tr>\n",
       "    <tr>\n",
       "      <th>4</th>\n",
       "      <td>2022-01-05</td>\n",
       "      <td>-0.031601</td>\n",
       "      <td>1.061619</td>\n",
       "      <td>-3.950347</td>\n",
       "      <td>0.062531</td>\n",
       "    </tr>\n",
       "    <tr>\n",
       "      <th>...</th>\n",
       "      <td>...</td>\n",
       "      <td>...</td>\n",
       "      <td>...</td>\n",
       "      <td>...</td>\n",
       "      <td>...</td>\n",
       "    </tr>\n",
       "    <tr>\n",
       "      <th>995</th>\n",
       "      <td>2024-09-22</td>\n",
       "      <td>-15.264482</td>\n",
       "      <td>-29.471355</td>\n",
       "      <td>-21.530166</td>\n",
       "      <td>24.533283</td>\n",
       "    </tr>\n",
       "    <tr>\n",
       "      <th>996</th>\n",
       "      <td>2024-09-23</td>\n",
       "      <td>-14.416862</td>\n",
       "      <td>-29.069515</td>\n",
       "      <td>-22.524112</td>\n",
       "      <td>23.382795</td>\n",
       "    </tr>\n",
       "    <tr>\n",
       "      <th>997</th>\n",
       "      <td>2024-09-24</td>\n",
       "      <td>-14.521215</td>\n",
       "      <td>-28.743473</td>\n",
       "      <td>-21.557216</td>\n",
       "      <td>21.931433</td>\n",
       "    </tr>\n",
       "    <tr>\n",
       "      <th>998</th>\n",
       "      <td>2024-09-25</td>\n",
       "      <td>-15.213408</td>\n",
       "      <td>-28.746767</td>\n",
       "      <td>-19.732183</td>\n",
       "      <td>23.176940</td>\n",
       "    </tr>\n",
       "    <tr>\n",
       "      <th>999</th>\n",
       "      <td>2024-09-26</td>\n",
       "      <td>-16.628631</td>\n",
       "      <td>-28.289745</td>\n",
       "      <td>-20.632969</td>\n",
       "      <td>24.248229</td>\n",
       "    </tr>\n",
       "  </tbody>\n",
       "</table>\n",
       "<p>1000 rows × 5 columns</p>\n",
       "</div>"
      ],
      "text/plain": [
       "     Unnamed: 0          A          B          C          D\n",
       "0    2022-01-01   0.091463   1.673725  -0.746928   0.857382\n",
       "1    2022-01-02   0.767879   2.172299  -1.809359   0.242449\n",
       "2    2022-01-03  -0.188135   3.627265  -0.954293   0.558939\n",
       "3    2022-01-04  -0.568480   3.282168  -2.156548  -0.169787\n",
       "4    2022-01-05  -0.031601   1.061619  -3.950347   0.062531\n",
       "..          ...        ...        ...        ...        ...\n",
       "995  2024-09-22 -15.264482 -29.471355 -21.530166  24.533283\n",
       "996  2024-09-23 -14.416862 -29.069515 -22.524112  23.382795\n",
       "997  2024-09-24 -14.521215 -28.743473 -21.557216  21.931433\n",
       "998  2024-09-25 -15.213408 -28.746767 -19.732183  23.176940\n",
       "999  2024-09-26 -16.628631 -28.289745 -20.632969  24.248229\n",
       "\n",
       "[1000 rows x 5 columns]"
      ]
     },
     "execution_count": 101,
     "metadata": {},
     "output_type": "execute_result"
    }
   ],
   "source": [
    "pd.read_csv(\"files/foo.csv\")"
   ]
  },
  {
   "cell_type": "markdown",
   "metadata": {},
   "source": [
    "### HDF5\n",
    "\n",
    "Reading and writing to HDF5Stores."
   ]
  },
  {
   "cell_type": "markdown",
   "metadata": {},
   "source": [
    "#### Writing to a HDF5 Store."
   ]
  },
  {
   "cell_type": "code",
   "execution_count": 102,
   "metadata": {},
   "outputs": [],
   "source": [
    "# !pip install tables\n",
    "df.to_hdf(\"files/foo.h5\", \"df\")"
   ]
  },
  {
   "cell_type": "markdown",
   "metadata": {},
   "source": [
    "#### Reading from HDF5 Store."
   ]
  },
  {
   "cell_type": "code",
   "execution_count": 103,
   "metadata": {},
   "outputs": [
    {
     "data": {
      "text/html": [
       "<div>\n",
       "<style scoped>\n",
       "    .dataframe tbody tr th:only-of-type {\n",
       "        vertical-align: middle;\n",
       "    }\n",
       "\n",
       "    .dataframe tbody tr th {\n",
       "        vertical-align: top;\n",
       "    }\n",
       "\n",
       "    .dataframe thead th {\n",
       "        text-align: right;\n",
       "    }\n",
       "</style>\n",
       "<table border=\"1\" class=\"dataframe\">\n",
       "  <thead>\n",
       "    <tr style=\"text-align: right;\">\n",
       "      <th></th>\n",
       "      <th>A</th>\n",
       "      <th>B</th>\n",
       "      <th>C</th>\n",
       "      <th>D</th>\n",
       "    </tr>\n",
       "  </thead>\n",
       "  <tbody>\n",
       "    <tr>\n",
       "      <th>2022-01-01</th>\n",
       "      <td>0.091463</td>\n",
       "      <td>1.673725</td>\n",
       "      <td>-0.746928</td>\n",
       "      <td>0.857382</td>\n",
       "    </tr>\n",
       "    <tr>\n",
       "      <th>2022-01-02</th>\n",
       "      <td>0.767879</td>\n",
       "      <td>2.172299</td>\n",
       "      <td>-1.809359</td>\n",
       "      <td>0.242449</td>\n",
       "    </tr>\n",
       "    <tr>\n",
       "      <th>2022-01-03</th>\n",
       "      <td>-0.188135</td>\n",
       "      <td>3.627265</td>\n",
       "      <td>-0.954293</td>\n",
       "      <td>0.558939</td>\n",
       "    </tr>\n",
       "    <tr>\n",
       "      <th>2022-01-04</th>\n",
       "      <td>-0.568480</td>\n",
       "      <td>3.282168</td>\n",
       "      <td>-2.156548</td>\n",
       "      <td>-0.169787</td>\n",
       "    </tr>\n",
       "    <tr>\n",
       "      <th>2022-01-05</th>\n",
       "      <td>-0.031601</td>\n",
       "      <td>1.061619</td>\n",
       "      <td>-3.950347</td>\n",
       "      <td>0.062531</td>\n",
       "    </tr>\n",
       "    <tr>\n",
       "      <th>...</th>\n",
       "      <td>...</td>\n",
       "      <td>...</td>\n",
       "      <td>...</td>\n",
       "      <td>...</td>\n",
       "    </tr>\n",
       "    <tr>\n",
       "      <th>2024-09-22</th>\n",
       "      <td>-15.264482</td>\n",
       "      <td>-29.471355</td>\n",
       "      <td>-21.530166</td>\n",
       "      <td>24.533283</td>\n",
       "    </tr>\n",
       "    <tr>\n",
       "      <th>2024-09-23</th>\n",
       "      <td>-14.416862</td>\n",
       "      <td>-29.069515</td>\n",
       "      <td>-22.524112</td>\n",
       "      <td>23.382795</td>\n",
       "    </tr>\n",
       "    <tr>\n",
       "      <th>2024-09-24</th>\n",
       "      <td>-14.521215</td>\n",
       "      <td>-28.743473</td>\n",
       "      <td>-21.557216</td>\n",
       "      <td>21.931433</td>\n",
       "    </tr>\n",
       "    <tr>\n",
       "      <th>2024-09-25</th>\n",
       "      <td>-15.213408</td>\n",
       "      <td>-28.746767</td>\n",
       "      <td>-19.732183</td>\n",
       "      <td>23.176940</td>\n",
       "    </tr>\n",
       "    <tr>\n",
       "      <th>2024-09-26</th>\n",
       "      <td>-16.628631</td>\n",
       "      <td>-28.289745</td>\n",
       "      <td>-20.632969</td>\n",
       "      <td>24.248229</td>\n",
       "    </tr>\n",
       "  </tbody>\n",
       "</table>\n",
       "<p>1000 rows × 4 columns</p>\n",
       "</div>"
      ],
      "text/plain": [
       "                    A          B          C          D\n",
       "2022-01-01   0.091463   1.673725  -0.746928   0.857382\n",
       "2022-01-02   0.767879   2.172299  -1.809359   0.242449\n",
       "2022-01-03  -0.188135   3.627265  -0.954293   0.558939\n",
       "2022-01-04  -0.568480   3.282168  -2.156548  -0.169787\n",
       "2022-01-05  -0.031601   1.061619  -3.950347   0.062531\n",
       "...               ...        ...        ...        ...\n",
       "2024-09-22 -15.264482 -29.471355 -21.530166  24.533283\n",
       "2024-09-23 -14.416862 -29.069515 -22.524112  23.382795\n",
       "2024-09-24 -14.521215 -28.743473 -21.557216  21.931433\n",
       "2024-09-25 -15.213408 -28.746767 -19.732183  23.176940\n",
       "2024-09-26 -16.628631 -28.289745 -20.632969  24.248229\n",
       "\n",
       "[1000 rows x 4 columns]"
      ]
     },
     "execution_count": 103,
     "metadata": {},
     "output_type": "execute_result"
    }
   ],
   "source": [
    "pd.read_hdf(\"files/foo.h5\", \"df\")"
   ]
  },
  {
   "cell_type": "markdown",
   "metadata": {},
   "source": [
    "### Excel\n",
    "\n",
    "Reading and writing to MS Excel."
   ]
  },
  {
   "cell_type": "markdown",
   "metadata": {},
   "source": [
    "#### Writing to an excel file"
   ]
  },
  {
   "cell_type": "code",
   "execution_count": 104,
   "metadata": {},
   "outputs": [],
   "source": [
    "df.to_excel(\"files/foo.xlsx\", sheet_name=\"Sheet1\")"
   ]
  },
  {
   "cell_type": "markdown",
   "metadata": {},
   "source": [
    "#### Reading from an excel file."
   ]
  },
  {
   "cell_type": "code",
   "execution_count": 105,
   "metadata": {},
   "outputs": [
    {
     "data": {
      "text/html": [
       "<div>\n",
       "<style scoped>\n",
       "    .dataframe tbody tr th:only-of-type {\n",
       "        vertical-align: middle;\n",
       "    }\n",
       "\n",
       "    .dataframe tbody tr th {\n",
       "        vertical-align: top;\n",
       "    }\n",
       "\n",
       "    .dataframe thead th {\n",
       "        text-align: right;\n",
       "    }\n",
       "</style>\n",
       "<table border=\"1\" class=\"dataframe\">\n",
       "  <thead>\n",
       "    <tr style=\"text-align: right;\">\n",
       "      <th></th>\n",
       "      <th>Unnamed: 0</th>\n",
       "      <th>A</th>\n",
       "      <th>B</th>\n",
       "      <th>C</th>\n",
       "      <th>D</th>\n",
       "    </tr>\n",
       "  </thead>\n",
       "  <tbody>\n",
       "    <tr>\n",
       "      <th>0</th>\n",
       "      <td>2022-01-01</td>\n",
       "      <td>0.091463</td>\n",
       "      <td>1.673725</td>\n",
       "      <td>-0.746928</td>\n",
       "      <td>0.857382</td>\n",
       "    </tr>\n",
       "    <tr>\n",
       "      <th>1</th>\n",
       "      <td>2022-01-02</td>\n",
       "      <td>0.767879</td>\n",
       "      <td>2.172299</td>\n",
       "      <td>-1.809359</td>\n",
       "      <td>0.242449</td>\n",
       "    </tr>\n",
       "    <tr>\n",
       "      <th>2</th>\n",
       "      <td>2022-01-03</td>\n",
       "      <td>-0.188135</td>\n",
       "      <td>3.627265</td>\n",
       "      <td>-0.954293</td>\n",
       "      <td>0.558939</td>\n",
       "    </tr>\n",
       "    <tr>\n",
       "      <th>3</th>\n",
       "      <td>2022-01-04</td>\n",
       "      <td>-0.568480</td>\n",
       "      <td>3.282168</td>\n",
       "      <td>-2.156548</td>\n",
       "      <td>-0.169787</td>\n",
       "    </tr>\n",
       "    <tr>\n",
       "      <th>4</th>\n",
       "      <td>2022-01-05</td>\n",
       "      <td>-0.031601</td>\n",
       "      <td>1.061619</td>\n",
       "      <td>-3.950347</td>\n",
       "      <td>0.062531</td>\n",
       "    </tr>\n",
       "    <tr>\n",
       "      <th>...</th>\n",
       "      <td>...</td>\n",
       "      <td>...</td>\n",
       "      <td>...</td>\n",
       "      <td>...</td>\n",
       "      <td>...</td>\n",
       "    </tr>\n",
       "    <tr>\n",
       "      <th>995</th>\n",
       "      <td>2024-09-22</td>\n",
       "      <td>-15.264482</td>\n",
       "      <td>-29.471355</td>\n",
       "      <td>-21.530166</td>\n",
       "      <td>24.533283</td>\n",
       "    </tr>\n",
       "    <tr>\n",
       "      <th>996</th>\n",
       "      <td>2024-09-23</td>\n",
       "      <td>-14.416862</td>\n",
       "      <td>-29.069515</td>\n",
       "      <td>-22.524112</td>\n",
       "      <td>23.382795</td>\n",
       "    </tr>\n",
       "    <tr>\n",
       "      <th>997</th>\n",
       "      <td>2024-09-24</td>\n",
       "      <td>-14.521215</td>\n",
       "      <td>-28.743473</td>\n",
       "      <td>-21.557216</td>\n",
       "      <td>21.931433</td>\n",
       "    </tr>\n",
       "    <tr>\n",
       "      <th>998</th>\n",
       "      <td>2024-09-25</td>\n",
       "      <td>-15.213408</td>\n",
       "      <td>-28.746767</td>\n",
       "      <td>-19.732183</td>\n",
       "      <td>23.176940</td>\n",
       "    </tr>\n",
       "    <tr>\n",
       "      <th>999</th>\n",
       "      <td>2024-09-26</td>\n",
       "      <td>-16.628631</td>\n",
       "      <td>-28.289745</td>\n",
       "      <td>-20.632969</td>\n",
       "      <td>24.248229</td>\n",
       "    </tr>\n",
       "  </tbody>\n",
       "</table>\n",
       "<p>1000 rows × 5 columns</p>\n",
       "</div>"
      ],
      "text/plain": [
       "    Unnamed: 0          A          B          C          D\n",
       "0   2022-01-01   0.091463   1.673725  -0.746928   0.857382\n",
       "1   2022-01-02   0.767879   2.172299  -1.809359   0.242449\n",
       "2   2022-01-03  -0.188135   3.627265  -0.954293   0.558939\n",
       "3   2022-01-04  -0.568480   3.282168  -2.156548  -0.169787\n",
       "4   2022-01-05  -0.031601   1.061619  -3.950347   0.062531\n",
       "..         ...        ...        ...        ...        ...\n",
       "995 2024-09-22 -15.264482 -29.471355 -21.530166  24.533283\n",
       "996 2024-09-23 -14.416862 -29.069515 -22.524112  23.382795\n",
       "997 2024-09-24 -14.521215 -28.743473 -21.557216  21.931433\n",
       "998 2024-09-25 -15.213408 -28.746767 -19.732183  23.176940\n",
       "999 2024-09-26 -16.628631 -28.289745 -20.632969  24.248229\n",
       "\n",
       "[1000 rows x 5 columns]"
      ]
     },
     "execution_count": 105,
     "metadata": {},
     "output_type": "execute_result"
    }
   ],
   "source": [
    "pd.read_excel(\"files/foo.xlsx\", \"Sheet1\", index_col=None, na_values=[\"NA\"])"
   ]
  }
 ],
 "metadata": {
  "interpreter": {
   "hash": "2647ea34e536f865ab67ff9ddee7fd78773d956cec0cab53c79b32cd10da5d83"
  },
  "kernelspec": {
   "display_name": "Python 3.9.10 64-bit",
   "language": "python",
   "name": "python3"
  },
  "language_info": {
   "codemirror_mode": {
    "name": "ipython",
    "version": 3
   },
   "file_extension": ".py",
   "mimetype": "text/x-python",
   "name": "python",
   "nbconvert_exporter": "python",
   "pygments_lexer": "ipython3",
   "version": "3.9.12"
  },
  "orig_nbformat": 4
 },
 "nbformat": 4,
 "nbformat_minor": 2
}
