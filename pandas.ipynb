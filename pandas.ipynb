{
 "cells": [
  {
   "cell_type": "markdown",
   "metadata": {},
   "source": [
    "# PANDAS TUTORIAL (QUICK TOUR-10 MINUTES)"
   ]
  },
  {
   "cell_type": "markdown",
   "metadata": {},
   "source": [
    "This is a short introduction to `pandas`, geared mainly for new users.\n",
    "\n",
    "Customarily, we import as follow:"
   ]
  },
  {
   "cell_type": "code",
   "execution_count": 1,
   "metadata": {},
   "outputs": [],
   "source": [
    "import numpy as np\n",
    "import pandas as pd"
   ]
  },
  {
   "cell_type": "markdown",
   "metadata": {},
   "source": [
    "## Object Creation"
   ]
  },
  {
   "cell_type": "markdown",
   "metadata": {},
   "source": [
    "Creating a **Series** by passing a list of values, letting `pandas` create a default integer index."
   ]
  },
  {
   "cell_type": "code",
   "execution_count": 2,
   "metadata": {},
   "outputs": [
    {
     "data": {
      "text/plain": [
       "0     1.0\n",
       "1     2.0\n",
       "2    -7.0\n",
       "3    10.0\n",
       "4     NaN\n",
       "5     8.0\n",
       "6    11.0\n",
       "dtype: float64"
      ]
     },
     "execution_count": 2,
     "metadata": {},
     "output_type": "execute_result"
    }
   ],
   "source": [
    "s = pd.Series([1, 2, -7, 10, np.nan, 8, 11])\n",
    "s"
   ]
  },
  {
   "cell_type": "markdown",
   "metadata": {},
   "source": [
    "Creating a **DataFrame** by passing a `NumPy` array, with datetime index and labeled columns."
   ]
  },
  {
   "cell_type": "code",
   "execution_count": 3,
   "metadata": {},
   "outputs": [
    {
     "data": {
      "text/plain": [
       "DatetimeIndex(['2022-03-19', '2022-03-20', '2022-03-21', '2022-03-22',\n",
       "               '2022-03-23', '2022-03-24', '2022-03-25'],\n",
       "              dtype='datetime64[ns]', freq='D')"
      ]
     },
     "execution_count": 3,
     "metadata": {},
     "output_type": "execute_result"
    }
   ],
   "source": [
    "dates = pd.date_range(\"20220319\", periods=7)\n",
    "dates"
   ]
  },
  {
   "cell_type": "code",
   "execution_count": 4,
   "metadata": {},
   "outputs": [
    {
     "data": {
      "text/html": [
       "<div>\n",
       "<style scoped>\n",
       "    .dataframe tbody tr th:only-of-type {\n",
       "        vertical-align: middle;\n",
       "    }\n",
       "\n",
       "    .dataframe tbody tr th {\n",
       "        vertical-align: top;\n",
       "    }\n",
       "\n",
       "    .dataframe thead th {\n",
       "        text-align: right;\n",
       "    }\n",
       "</style>\n",
       "<table border=\"1\" class=\"dataframe\">\n",
       "  <thead>\n",
       "    <tr style=\"text-align: right;\">\n",
       "      <th></th>\n",
       "      <th>A</th>\n",
       "      <th>B</th>\n",
       "      <th>C</th>\n",
       "      <th>D</th>\n",
       "    </tr>\n",
       "  </thead>\n",
       "  <tbody>\n",
       "    <tr>\n",
       "      <th>2022-03-19</th>\n",
       "      <td>-0.106305</td>\n",
       "      <td>-0.225929</td>\n",
       "      <td>1.212985</td>\n",
       "      <td>-0.830349</td>\n",
       "    </tr>\n",
       "    <tr>\n",
       "      <th>2022-03-20</th>\n",
       "      <td>0.166670</td>\n",
       "      <td>0.018105</td>\n",
       "      <td>1.306192</td>\n",
       "      <td>-2.318246</td>\n",
       "    </tr>\n",
       "    <tr>\n",
       "      <th>2022-03-21</th>\n",
       "      <td>-0.164851</td>\n",
       "      <td>0.334454</td>\n",
       "      <td>0.394945</td>\n",
       "      <td>-0.071904</td>\n",
       "    </tr>\n",
       "    <tr>\n",
       "      <th>2022-03-22</th>\n",
       "      <td>0.909042</td>\n",
       "      <td>0.293697</td>\n",
       "      <td>1.415373</td>\n",
       "      <td>-0.478504</td>\n",
       "    </tr>\n",
       "    <tr>\n",
       "      <th>2022-03-23</th>\n",
       "      <td>-0.462119</td>\n",
       "      <td>0.834702</td>\n",
       "      <td>0.771864</td>\n",
       "      <td>1.417628</td>\n",
       "    </tr>\n",
       "    <tr>\n",
       "      <th>2022-03-24</th>\n",
       "      <td>0.571120</td>\n",
       "      <td>0.691602</td>\n",
       "      <td>0.096770</td>\n",
       "      <td>0.807095</td>\n",
       "    </tr>\n",
       "    <tr>\n",
       "      <th>2022-03-25</th>\n",
       "      <td>-0.917260</td>\n",
       "      <td>-1.427368</td>\n",
       "      <td>-1.971813</td>\n",
       "      <td>-2.668932</td>\n",
       "    </tr>\n",
       "  </tbody>\n",
       "</table>\n",
       "</div>"
      ],
      "text/plain": [
       "                   A         B         C         D\n",
       "2022-03-19 -0.106305 -0.225929  1.212985 -0.830349\n",
       "2022-03-20  0.166670  0.018105  1.306192 -2.318246\n",
       "2022-03-21 -0.164851  0.334454  0.394945 -0.071904\n",
       "2022-03-22  0.909042  0.293697  1.415373 -0.478504\n",
       "2022-03-23 -0.462119  0.834702  0.771864  1.417628\n",
       "2022-03-24  0.571120  0.691602  0.096770  0.807095\n",
       "2022-03-25 -0.917260 -1.427368 -1.971813 -2.668932"
      ]
     },
     "execution_count": 4,
     "metadata": {},
     "output_type": "execute_result"
    }
   ],
   "source": [
    "df = pd.DataFrame(np.random.randn(7, 4), index=dates, columns=list(\"ABCD\"))\n",
    "df"
   ]
  },
  {
   "cell_type": "markdown",
   "metadata": {},
   "source": [
    "Create a **DataFrame** by passing a *dictionary* of objects that can be converted into a series-like structure."
   ]
  },
  {
   "cell_type": "code",
   "execution_count": 5,
   "metadata": {},
   "outputs": [
    {
     "data": {
      "text/html": [
       "<div>\n",
       "<style scoped>\n",
       "    .dataframe tbody tr th:only-of-type {\n",
       "        vertical-align: middle;\n",
       "    }\n",
       "\n",
       "    .dataframe tbody tr th {\n",
       "        vertical-align: top;\n",
       "    }\n",
       "\n",
       "    .dataframe thead th {\n",
       "        text-align: right;\n",
       "    }\n",
       "</style>\n",
       "<table border=\"1\" class=\"dataframe\">\n",
       "  <thead>\n",
       "    <tr style=\"text-align: right;\">\n",
       "      <th></th>\n",
       "      <th>A</th>\n",
       "      <th>B</th>\n",
       "      <th>C</th>\n",
       "      <th>D</th>\n",
       "      <th>E</th>\n",
       "      <th>F</th>\n",
       "    </tr>\n",
       "  </thead>\n",
       "  <tbody>\n",
       "    <tr>\n",
       "      <th>0</th>\n",
       "      <td>1.5</td>\n",
       "      <td>2022-03-19</td>\n",
       "      <td>1.0</td>\n",
       "      <td>5</td>\n",
       "      <td>test</td>\n",
       "      <td>foo</td>\n",
       "    </tr>\n",
       "    <tr>\n",
       "      <th>1</th>\n",
       "      <td>1.5</td>\n",
       "      <td>2022-03-19</td>\n",
       "      <td>1.0</td>\n",
       "      <td>5</td>\n",
       "      <td>train</td>\n",
       "      <td>foo</td>\n",
       "    </tr>\n",
       "    <tr>\n",
       "      <th>2</th>\n",
       "      <td>1.5</td>\n",
       "      <td>2022-03-19</td>\n",
       "      <td>1.0</td>\n",
       "      <td>5</td>\n",
       "      <td>test</td>\n",
       "      <td>foo</td>\n",
       "    </tr>\n",
       "    <tr>\n",
       "      <th>3</th>\n",
       "      <td>1.5</td>\n",
       "      <td>2022-03-19</td>\n",
       "      <td>1.0</td>\n",
       "      <td>5</td>\n",
       "      <td>train</td>\n",
       "      <td>foo</td>\n",
       "    </tr>\n",
       "  </tbody>\n",
       "</table>\n",
       "</div>"
      ],
      "text/plain": [
       "     A          B    C  D      E    F\n",
       "0  1.5 2022-03-19  1.0  5   test  foo\n",
       "1  1.5 2022-03-19  1.0  5  train  foo\n",
       "2  1.5 2022-03-19  1.0  5   test  foo\n",
       "3  1.5 2022-03-19  1.0  5  train  foo"
      ]
     },
     "execution_count": 5,
     "metadata": {},
     "output_type": "execute_result"
    }
   ],
   "source": [
    "df2 = pd.DataFrame(\n",
    "    {\n",
    "        \"A\": 1.5,\n",
    "        \"B\": pd.Timestamp(\"20220319\"),\n",
    "        \"C\": pd.Series(1, index=list(range(4)), dtype=np.float32),\n",
    "        \"D\": np.array([5] * 4, dtype=np.int32),\n",
    "        \"E\": pd.Categorical([\"test\", \"train\", \"test\", \"train\"]),\n",
    "        \"F\": \"foo\",\n",
    "    }\n",
    ")\n",
    "df2"
   ]
  },
  {
   "cell_type": "markdown",
   "metadata": {},
   "source": [
    "The columns of the resulting **DataFrame** have different `dtypes`."
   ]
  },
  {
   "cell_type": "code",
   "execution_count": 6,
   "metadata": {},
   "outputs": [
    {
     "data": {
      "text/plain": [
       "A           float64\n",
       "B    datetime64[ns]\n",
       "C           float32\n",
       "D             int32\n",
       "E          category\n",
       "F            object\n",
       "dtype: object"
      ]
     },
     "execution_count": 6,
     "metadata": {},
     "output_type": "execute_result"
    }
   ],
   "source": [
    "df2.dtypes"
   ]
  },
  {
   "cell_type": "markdown",
   "metadata": {},
   "source": [
    "## Viewing data"
   ]
  },
  {
   "cell_type": "markdown",
   "metadata": {},
   "source": [
    "Here is how to view the top and bottom rows of the frame."
   ]
  },
  {
   "cell_type": "code",
   "execution_count": 7,
   "metadata": {},
   "outputs": [
    {
     "data": {
      "text/html": [
       "<div>\n",
       "<style scoped>\n",
       "    .dataframe tbody tr th:only-of-type {\n",
       "        vertical-align: middle;\n",
       "    }\n",
       "\n",
       "    .dataframe tbody tr th {\n",
       "        vertical-align: top;\n",
       "    }\n",
       "\n",
       "    .dataframe thead th {\n",
       "        text-align: right;\n",
       "    }\n",
       "</style>\n",
       "<table border=\"1\" class=\"dataframe\">\n",
       "  <thead>\n",
       "    <tr style=\"text-align: right;\">\n",
       "      <th></th>\n",
       "      <th>A</th>\n",
       "      <th>B</th>\n",
       "      <th>C</th>\n",
       "      <th>D</th>\n",
       "    </tr>\n",
       "  </thead>\n",
       "  <tbody>\n",
       "    <tr>\n",
       "      <th>2022-03-19</th>\n",
       "      <td>-0.106305</td>\n",
       "      <td>-0.225929</td>\n",
       "      <td>1.212985</td>\n",
       "      <td>-0.830349</td>\n",
       "    </tr>\n",
       "    <tr>\n",
       "      <th>2022-03-20</th>\n",
       "      <td>0.166670</td>\n",
       "      <td>0.018105</td>\n",
       "      <td>1.306192</td>\n",
       "      <td>-2.318246</td>\n",
       "    </tr>\n",
       "    <tr>\n",
       "      <th>2022-03-21</th>\n",
       "      <td>-0.164851</td>\n",
       "      <td>0.334454</td>\n",
       "      <td>0.394945</td>\n",
       "      <td>-0.071904</td>\n",
       "    </tr>\n",
       "    <tr>\n",
       "      <th>2022-03-22</th>\n",
       "      <td>0.909042</td>\n",
       "      <td>0.293697</td>\n",
       "      <td>1.415373</td>\n",
       "      <td>-0.478504</td>\n",
       "    </tr>\n",
       "    <tr>\n",
       "      <th>2022-03-23</th>\n",
       "      <td>-0.462119</td>\n",
       "      <td>0.834702</td>\n",
       "      <td>0.771864</td>\n",
       "      <td>1.417628</td>\n",
       "    </tr>\n",
       "  </tbody>\n",
       "</table>\n",
       "</div>"
      ],
      "text/plain": [
       "                   A         B         C         D\n",
       "2022-03-19 -0.106305 -0.225929  1.212985 -0.830349\n",
       "2022-03-20  0.166670  0.018105  1.306192 -2.318246\n",
       "2022-03-21 -0.164851  0.334454  0.394945 -0.071904\n",
       "2022-03-22  0.909042  0.293697  1.415373 -0.478504\n",
       "2022-03-23 -0.462119  0.834702  0.771864  1.417628"
      ]
     },
     "execution_count": 7,
     "metadata": {},
     "output_type": "execute_result"
    }
   ],
   "source": [
    "df.head()"
   ]
  },
  {
   "cell_type": "code",
   "execution_count": 8,
   "metadata": {},
   "outputs": [
    {
     "data": {
      "text/html": [
       "<div>\n",
       "<style scoped>\n",
       "    .dataframe tbody tr th:only-of-type {\n",
       "        vertical-align: middle;\n",
       "    }\n",
       "\n",
       "    .dataframe tbody tr th {\n",
       "        vertical-align: top;\n",
       "    }\n",
       "\n",
       "    .dataframe thead th {\n",
       "        text-align: right;\n",
       "    }\n",
       "</style>\n",
       "<table border=\"1\" class=\"dataframe\">\n",
       "  <thead>\n",
       "    <tr style=\"text-align: right;\">\n",
       "      <th></th>\n",
       "      <th>A</th>\n",
       "      <th>B</th>\n",
       "      <th>C</th>\n",
       "      <th>D</th>\n",
       "    </tr>\n",
       "  </thead>\n",
       "  <tbody>\n",
       "    <tr>\n",
       "      <th>2022-03-21</th>\n",
       "      <td>-0.164851</td>\n",
       "      <td>0.334454</td>\n",
       "      <td>0.394945</td>\n",
       "      <td>-0.071904</td>\n",
       "    </tr>\n",
       "    <tr>\n",
       "      <th>2022-03-22</th>\n",
       "      <td>0.909042</td>\n",
       "      <td>0.293697</td>\n",
       "      <td>1.415373</td>\n",
       "      <td>-0.478504</td>\n",
       "    </tr>\n",
       "    <tr>\n",
       "      <th>2022-03-23</th>\n",
       "      <td>-0.462119</td>\n",
       "      <td>0.834702</td>\n",
       "      <td>0.771864</td>\n",
       "      <td>1.417628</td>\n",
       "    </tr>\n",
       "    <tr>\n",
       "      <th>2022-03-24</th>\n",
       "      <td>0.571120</td>\n",
       "      <td>0.691602</td>\n",
       "      <td>0.096770</td>\n",
       "      <td>0.807095</td>\n",
       "    </tr>\n",
       "    <tr>\n",
       "      <th>2022-03-25</th>\n",
       "      <td>-0.917260</td>\n",
       "      <td>-1.427368</td>\n",
       "      <td>-1.971813</td>\n",
       "      <td>-2.668932</td>\n",
       "    </tr>\n",
       "  </tbody>\n",
       "</table>\n",
       "</div>"
      ],
      "text/plain": [
       "                   A         B         C         D\n",
       "2022-03-21 -0.164851  0.334454  0.394945 -0.071904\n",
       "2022-03-22  0.909042  0.293697  1.415373 -0.478504\n",
       "2022-03-23 -0.462119  0.834702  0.771864  1.417628\n",
       "2022-03-24  0.571120  0.691602  0.096770  0.807095\n",
       "2022-03-25 -0.917260 -1.427368 -1.971813 -2.668932"
      ]
     },
     "execution_count": 8,
     "metadata": {},
     "output_type": "execute_result"
    }
   ],
   "source": [
    "df.tail()"
   ]
  },
  {
   "cell_type": "markdown",
   "metadata": {},
   "source": [
    "> You can pass arguments to the `head()` or `tail()` functions to display a specified number of rows."
   ]
  },
  {
   "cell_type": "code",
   "execution_count": 9,
   "metadata": {},
   "outputs": [
    {
     "data": {
      "text/html": [
       "<div>\n",
       "<style scoped>\n",
       "    .dataframe tbody tr th:only-of-type {\n",
       "        vertical-align: middle;\n",
       "    }\n",
       "\n",
       "    .dataframe tbody tr th {\n",
       "        vertical-align: top;\n",
       "    }\n",
       "\n",
       "    .dataframe thead th {\n",
       "        text-align: right;\n",
       "    }\n",
       "</style>\n",
       "<table border=\"1\" class=\"dataframe\">\n",
       "  <thead>\n",
       "    <tr style=\"text-align: right;\">\n",
       "      <th></th>\n",
       "      <th>A</th>\n",
       "      <th>B</th>\n",
       "      <th>C</th>\n",
       "      <th>D</th>\n",
       "    </tr>\n",
       "  </thead>\n",
       "  <tbody>\n",
       "    <tr>\n",
       "      <th>2022-03-19</th>\n",
       "      <td>-0.106305</td>\n",
       "      <td>-0.225929</td>\n",
       "      <td>1.212985</td>\n",
       "      <td>-0.830349</td>\n",
       "    </tr>\n",
       "    <tr>\n",
       "      <th>2022-03-20</th>\n",
       "      <td>0.166670</td>\n",
       "      <td>0.018105</td>\n",
       "      <td>1.306192</td>\n",
       "      <td>-2.318246</td>\n",
       "    </tr>\n",
       "  </tbody>\n",
       "</table>\n",
       "</div>"
      ],
      "text/plain": [
       "                   A         B         C         D\n",
       "2022-03-19 -0.106305 -0.225929  1.212985 -0.830349\n",
       "2022-03-20  0.166670  0.018105  1.306192 -2.318246"
      ]
     },
     "execution_count": 9,
     "metadata": {},
     "output_type": "execute_result"
    }
   ],
   "source": [
    "df.head(2)"
   ]
  },
  {
   "cell_type": "markdown",
   "metadata": {},
   "source": [
    "Display the index, columns."
   ]
  },
  {
   "cell_type": "code",
   "execution_count": 10,
   "metadata": {},
   "outputs": [
    {
     "data": {
      "text/plain": [
       "DatetimeIndex(['2022-03-19', '2022-03-20', '2022-03-21', '2022-03-22',\n",
       "               '2022-03-23', '2022-03-24', '2022-03-25'],\n",
       "              dtype='datetime64[ns]', freq='D')"
      ]
     },
     "execution_count": 10,
     "metadata": {},
     "output_type": "execute_result"
    }
   ],
   "source": [
    "df.index"
   ]
  },
  {
   "cell_type": "code",
   "execution_count": 11,
   "metadata": {},
   "outputs": [
    {
     "data": {
      "text/plain": [
       "Index(['A', 'B', 'C', 'D'], dtype='object')"
      ]
     },
     "execution_count": 11,
     "metadata": {},
     "output_type": "execute_result"
    }
   ],
   "source": [
    "df.columns"
   ]
  },
  {
   "cell_type": "markdown",
   "metadata": {},
   "source": [
    "> `DataFrame.to_numpy()` gives a `NumPy` representation of the underlying data. Note that this can be an expensive operation when your `DataFrame` has columns with *different* data types, which comes down to a fundamental difference between pandas and `NumPy`: `NumPy` arrays have one dtype for the entire array, while pandas DataFrames have one dtype per column. When you call `DataFrame.to_numpy()`, pandas will find the `NumPy` dtype that can hold all of the dtypes in the `DataFrame`. This may end up being object, which requires casting every value to a Python object."
   ]
  },
  {
   "cell_type": "markdown",
   "metadata": {},
   "source": [
    "For `df`, our **DataFrame** of all floating-point values, `DataFrame.to_numpy()` is fast and doesn't require copying data"
   ]
  },
  {
   "cell_type": "code",
   "execution_count": 12,
   "metadata": {},
   "outputs": [
    {
     "data": {
      "text/plain": [
       "array([[-0.10630537, -0.22592861,  1.21298485, -0.83034908],\n",
       "       [ 0.16667   ,  0.01810508,  1.306192  , -2.31824629],\n",
       "       [-0.16485088,  0.334454  ,  0.3949448 , -0.0719037 ],\n",
       "       [ 0.90904192,  0.29369673,  1.41537296, -0.47850427],\n",
       "       [-0.46211937,  0.83470241,  0.77186388,  1.41762768],\n",
       "       [ 0.57111977,  0.69160236,  0.09677012,  0.80709476],\n",
       "       [-0.91726004, -1.42736753, -1.97181263, -2.66893208]])"
      ]
     },
     "execution_count": 12,
     "metadata": {},
     "output_type": "execute_result"
    }
   ],
   "source": [
    "df.to_numpy()"
   ]
  },
  {
   "cell_type": "markdown",
   "metadata": {},
   "source": [
    "For `df2`, the **DataFrame** with multiply `dtypes`, `DataFrame.to_numpy()` is relative expensive."
   ]
  },
  {
   "cell_type": "code",
   "execution_count": 13,
   "metadata": {},
   "outputs": [
    {
     "data": {
      "text/plain": [
       "array([[1.5, Timestamp('2022-03-19 00:00:00'), 1.0, 5, 'test', 'foo'],\n",
       "       [1.5, Timestamp('2022-03-19 00:00:00'), 1.0, 5, 'train', 'foo'],\n",
       "       [1.5, Timestamp('2022-03-19 00:00:00'), 1.0, 5, 'test', 'foo'],\n",
       "       [1.5, Timestamp('2022-03-19 00:00:00'), 1.0, 5, 'train', 'foo']],\n",
       "      dtype=object)"
      ]
     },
     "execution_count": 13,
     "metadata": {},
     "output_type": "execute_result"
    }
   ],
   "source": [
    "df2.to_numpy()"
   ]
  },
  {
   "cell_type": "markdown",
   "metadata": {},
   "source": [
    "`describe()` shows a quick statistic summary of your data."
   ]
  },
  {
   "cell_type": "code",
   "execution_count": 14,
   "metadata": {},
   "outputs": [
    {
     "data": {
      "text/html": [
       "<div>\n",
       "<style scoped>\n",
       "    .dataframe tbody tr th:only-of-type {\n",
       "        vertical-align: middle;\n",
       "    }\n",
       "\n",
       "    .dataframe tbody tr th {\n",
       "        vertical-align: top;\n",
       "    }\n",
       "\n",
       "    .dataframe thead th {\n",
       "        text-align: right;\n",
       "    }\n",
       "</style>\n",
       "<table border=\"1\" class=\"dataframe\">\n",
       "  <thead>\n",
       "    <tr style=\"text-align: right;\">\n",
       "      <th></th>\n",
       "      <th>A</th>\n",
       "      <th>B</th>\n",
       "      <th>C</th>\n",
       "      <th>D</th>\n",
       "    </tr>\n",
       "  </thead>\n",
       "  <tbody>\n",
       "    <tr>\n",
       "      <th>count</th>\n",
       "      <td>7.000000</td>\n",
       "      <td>7.000000</td>\n",
       "      <td>7.000000</td>\n",
       "      <td>7.000000</td>\n",
       "    </tr>\n",
       "    <tr>\n",
       "      <th>mean</th>\n",
       "      <td>-0.000529</td>\n",
       "      <td>0.074181</td>\n",
       "      <td>0.460902</td>\n",
       "      <td>-0.591888</td>\n",
       "    </tr>\n",
       "    <tr>\n",
       "      <th>std</th>\n",
       "      <td>0.615590</td>\n",
       "      <td>0.755357</td>\n",
       "      <td>1.179187</td>\n",
       "      <td>1.507196</td>\n",
       "    </tr>\n",
       "    <tr>\n",
       "      <th>min</th>\n",
       "      <td>-0.917260</td>\n",
       "      <td>-1.427368</td>\n",
       "      <td>-1.971813</td>\n",
       "      <td>-2.668932</td>\n",
       "    </tr>\n",
       "    <tr>\n",
       "      <th>25%</th>\n",
       "      <td>-0.313485</td>\n",
       "      <td>-0.103912</td>\n",
       "      <td>0.245857</td>\n",
       "      <td>-1.574298</td>\n",
       "    </tr>\n",
       "    <tr>\n",
       "      <th>50%</th>\n",
       "      <td>-0.106305</td>\n",
       "      <td>0.293697</td>\n",
       "      <td>0.771864</td>\n",
       "      <td>-0.478504</td>\n",
       "    </tr>\n",
       "    <tr>\n",
       "      <th>75%</th>\n",
       "      <td>0.368895</td>\n",
       "      <td>0.513028</td>\n",
       "      <td>1.259588</td>\n",
       "      <td>0.367596</td>\n",
       "    </tr>\n",
       "    <tr>\n",
       "      <th>max</th>\n",
       "      <td>0.909042</td>\n",
       "      <td>0.834702</td>\n",
       "      <td>1.415373</td>\n",
       "      <td>1.417628</td>\n",
       "    </tr>\n",
       "  </tbody>\n",
       "</table>\n",
       "</div>"
      ],
      "text/plain": [
       "              A         B         C         D\n",
       "count  7.000000  7.000000  7.000000  7.000000\n",
       "mean  -0.000529  0.074181  0.460902 -0.591888\n",
       "std    0.615590  0.755357  1.179187  1.507196\n",
       "min   -0.917260 -1.427368 -1.971813 -2.668932\n",
       "25%   -0.313485 -0.103912  0.245857 -1.574298\n",
       "50%   -0.106305  0.293697  0.771864 -0.478504\n",
       "75%    0.368895  0.513028  1.259588  0.367596\n",
       "max    0.909042  0.834702  1.415373  1.417628"
      ]
     },
     "execution_count": 14,
     "metadata": {},
     "output_type": "execute_result"
    }
   ],
   "source": [
    "df.describe()"
   ]
  },
  {
   "cell_type": "code",
   "execution_count": 15,
   "metadata": {},
   "outputs": [
    {
     "data": {
      "text/html": [
       "<div>\n",
       "<style scoped>\n",
       "    .dataframe tbody tr th:only-of-type {\n",
       "        vertical-align: middle;\n",
       "    }\n",
       "\n",
       "    .dataframe tbody tr th {\n",
       "        vertical-align: top;\n",
       "    }\n",
       "\n",
       "    .dataframe thead th {\n",
       "        text-align: right;\n",
       "    }\n",
       "</style>\n",
       "<table border=\"1\" class=\"dataframe\">\n",
       "  <thead>\n",
       "    <tr style=\"text-align: right;\">\n",
       "      <th></th>\n",
       "      <th>A</th>\n",
       "      <th>C</th>\n",
       "      <th>D</th>\n",
       "    </tr>\n",
       "  </thead>\n",
       "  <tbody>\n",
       "    <tr>\n",
       "      <th>count</th>\n",
       "      <td>4.0</td>\n",
       "      <td>4.0</td>\n",
       "      <td>4.0</td>\n",
       "    </tr>\n",
       "    <tr>\n",
       "      <th>mean</th>\n",
       "      <td>1.5</td>\n",
       "      <td>1.0</td>\n",
       "      <td>5.0</td>\n",
       "    </tr>\n",
       "    <tr>\n",
       "      <th>std</th>\n",
       "      <td>0.0</td>\n",
       "      <td>0.0</td>\n",
       "      <td>0.0</td>\n",
       "    </tr>\n",
       "    <tr>\n",
       "      <th>min</th>\n",
       "      <td>1.5</td>\n",
       "      <td>1.0</td>\n",
       "      <td>5.0</td>\n",
       "    </tr>\n",
       "    <tr>\n",
       "      <th>25%</th>\n",
       "      <td>1.5</td>\n",
       "      <td>1.0</td>\n",
       "      <td>5.0</td>\n",
       "    </tr>\n",
       "    <tr>\n",
       "      <th>50%</th>\n",
       "      <td>1.5</td>\n",
       "      <td>1.0</td>\n",
       "      <td>5.0</td>\n",
       "    </tr>\n",
       "    <tr>\n",
       "      <th>75%</th>\n",
       "      <td>1.5</td>\n",
       "      <td>1.0</td>\n",
       "      <td>5.0</td>\n",
       "    </tr>\n",
       "    <tr>\n",
       "      <th>max</th>\n",
       "      <td>1.5</td>\n",
       "      <td>1.0</td>\n",
       "      <td>5.0</td>\n",
       "    </tr>\n",
       "  </tbody>\n",
       "</table>\n",
       "</div>"
      ],
      "text/plain": [
       "         A    C    D\n",
       "count  4.0  4.0  4.0\n",
       "mean   1.5  1.0  5.0\n",
       "std    0.0  0.0  0.0\n",
       "min    1.5  1.0  5.0\n",
       "25%    1.5  1.0  5.0\n",
       "50%    1.5  1.0  5.0\n",
       "75%    1.5  1.0  5.0\n",
       "max    1.5  1.0  5.0"
      ]
     },
     "execution_count": 15,
     "metadata": {},
     "output_type": "execute_result"
    }
   ],
   "source": [
    "df2.describe()"
   ]
  },
  {
   "cell_type": "markdown",
   "metadata": {},
   "source": [
    "Transposing your data."
   ]
  },
  {
   "cell_type": "code",
   "execution_count": 16,
   "metadata": {},
   "outputs": [
    {
     "data": {
      "text/html": [
       "<div>\n",
       "<style scoped>\n",
       "    .dataframe tbody tr th:only-of-type {\n",
       "        vertical-align: middle;\n",
       "    }\n",
       "\n",
       "    .dataframe tbody tr th {\n",
       "        vertical-align: top;\n",
       "    }\n",
       "\n",
       "    .dataframe thead th {\n",
       "        text-align: right;\n",
       "    }\n",
       "</style>\n",
       "<table border=\"1\" class=\"dataframe\">\n",
       "  <thead>\n",
       "    <tr style=\"text-align: right;\">\n",
       "      <th></th>\n",
       "      <th>2022-03-19</th>\n",
       "      <th>2022-03-20</th>\n",
       "      <th>2022-03-21</th>\n",
       "      <th>2022-03-22</th>\n",
       "      <th>2022-03-23</th>\n",
       "      <th>2022-03-24</th>\n",
       "      <th>2022-03-25</th>\n",
       "    </tr>\n",
       "  </thead>\n",
       "  <tbody>\n",
       "    <tr>\n",
       "      <th>A</th>\n",
       "      <td>-0.106305</td>\n",
       "      <td>0.166670</td>\n",
       "      <td>-0.164851</td>\n",
       "      <td>0.909042</td>\n",
       "      <td>-0.462119</td>\n",
       "      <td>0.571120</td>\n",
       "      <td>-0.917260</td>\n",
       "    </tr>\n",
       "    <tr>\n",
       "      <th>B</th>\n",
       "      <td>-0.225929</td>\n",
       "      <td>0.018105</td>\n",
       "      <td>0.334454</td>\n",
       "      <td>0.293697</td>\n",
       "      <td>0.834702</td>\n",
       "      <td>0.691602</td>\n",
       "      <td>-1.427368</td>\n",
       "    </tr>\n",
       "    <tr>\n",
       "      <th>C</th>\n",
       "      <td>1.212985</td>\n",
       "      <td>1.306192</td>\n",
       "      <td>0.394945</td>\n",
       "      <td>1.415373</td>\n",
       "      <td>0.771864</td>\n",
       "      <td>0.096770</td>\n",
       "      <td>-1.971813</td>\n",
       "    </tr>\n",
       "    <tr>\n",
       "      <th>D</th>\n",
       "      <td>-0.830349</td>\n",
       "      <td>-2.318246</td>\n",
       "      <td>-0.071904</td>\n",
       "      <td>-0.478504</td>\n",
       "      <td>1.417628</td>\n",
       "      <td>0.807095</td>\n",
       "      <td>-2.668932</td>\n",
       "    </tr>\n",
       "  </tbody>\n",
       "</table>\n",
       "</div>"
      ],
      "text/plain": [
       "   2022-03-19  2022-03-20  2022-03-21  2022-03-22  2022-03-23  2022-03-24  \\\n",
       "A   -0.106305    0.166670   -0.164851    0.909042   -0.462119    0.571120   \n",
       "B   -0.225929    0.018105    0.334454    0.293697    0.834702    0.691602   \n",
       "C    1.212985    1.306192    0.394945    1.415373    0.771864    0.096770   \n",
       "D   -0.830349   -2.318246   -0.071904   -0.478504    1.417628    0.807095   \n",
       "\n",
       "   2022-03-25  \n",
       "A   -0.917260  \n",
       "B   -1.427368  \n",
       "C   -1.971813  \n",
       "D   -2.668932  "
      ]
     },
     "execution_count": 16,
     "metadata": {},
     "output_type": "execute_result"
    }
   ],
   "source": [
    "df.T"
   ]
  },
  {
   "cell_type": "markdown",
   "metadata": {},
   "source": [
    "Sorting by an **axis**"
   ]
  },
  {
   "cell_type": "code",
   "execution_count": 17,
   "metadata": {},
   "outputs": [
    {
     "data": {
      "text/html": [
       "<div>\n",
       "<style scoped>\n",
       "    .dataframe tbody tr th:only-of-type {\n",
       "        vertical-align: middle;\n",
       "    }\n",
       "\n",
       "    .dataframe tbody tr th {\n",
       "        vertical-align: top;\n",
       "    }\n",
       "\n",
       "    .dataframe thead th {\n",
       "        text-align: right;\n",
       "    }\n",
       "</style>\n",
       "<table border=\"1\" class=\"dataframe\">\n",
       "  <thead>\n",
       "    <tr style=\"text-align: right;\">\n",
       "      <th></th>\n",
       "      <th>A</th>\n",
       "      <th>B</th>\n",
       "      <th>C</th>\n",
       "      <th>D</th>\n",
       "    </tr>\n",
       "  </thead>\n",
       "  <tbody>\n",
       "    <tr>\n",
       "      <th>2022-03-25</th>\n",
       "      <td>-0.917260</td>\n",
       "      <td>-1.427368</td>\n",
       "      <td>-1.971813</td>\n",
       "      <td>-2.668932</td>\n",
       "    </tr>\n",
       "    <tr>\n",
       "      <th>2022-03-24</th>\n",
       "      <td>0.571120</td>\n",
       "      <td>0.691602</td>\n",
       "      <td>0.096770</td>\n",
       "      <td>0.807095</td>\n",
       "    </tr>\n",
       "    <tr>\n",
       "      <th>2022-03-23</th>\n",
       "      <td>-0.462119</td>\n",
       "      <td>0.834702</td>\n",
       "      <td>0.771864</td>\n",
       "      <td>1.417628</td>\n",
       "    </tr>\n",
       "    <tr>\n",
       "      <th>2022-03-22</th>\n",
       "      <td>0.909042</td>\n",
       "      <td>0.293697</td>\n",
       "      <td>1.415373</td>\n",
       "      <td>-0.478504</td>\n",
       "    </tr>\n",
       "    <tr>\n",
       "      <th>2022-03-21</th>\n",
       "      <td>-0.164851</td>\n",
       "      <td>0.334454</td>\n",
       "      <td>0.394945</td>\n",
       "      <td>-0.071904</td>\n",
       "    </tr>\n",
       "    <tr>\n",
       "      <th>2022-03-20</th>\n",
       "      <td>0.166670</td>\n",
       "      <td>0.018105</td>\n",
       "      <td>1.306192</td>\n",
       "      <td>-2.318246</td>\n",
       "    </tr>\n",
       "    <tr>\n",
       "      <th>2022-03-19</th>\n",
       "      <td>-0.106305</td>\n",
       "      <td>-0.225929</td>\n",
       "      <td>1.212985</td>\n",
       "      <td>-0.830349</td>\n",
       "    </tr>\n",
       "  </tbody>\n",
       "</table>\n",
       "</div>"
      ],
      "text/plain": [
       "                   A         B         C         D\n",
       "2022-03-25 -0.917260 -1.427368 -1.971813 -2.668932\n",
       "2022-03-24  0.571120  0.691602  0.096770  0.807095\n",
       "2022-03-23 -0.462119  0.834702  0.771864  1.417628\n",
       "2022-03-22  0.909042  0.293697  1.415373 -0.478504\n",
       "2022-03-21 -0.164851  0.334454  0.394945 -0.071904\n",
       "2022-03-20  0.166670  0.018105  1.306192 -2.318246\n",
       "2022-03-19 -0.106305 -0.225929  1.212985 -0.830349"
      ]
     },
     "execution_count": 17,
     "metadata": {},
     "output_type": "execute_result"
    }
   ],
   "source": [
    "df.sort_index(axis=0, ascending=False)"
   ]
  },
  {
   "cell_type": "code",
   "execution_count": 18,
   "metadata": {},
   "outputs": [
    {
     "data": {
      "text/html": [
       "<div>\n",
       "<style scoped>\n",
       "    .dataframe tbody tr th:only-of-type {\n",
       "        vertical-align: middle;\n",
       "    }\n",
       "\n",
       "    .dataframe tbody tr th {\n",
       "        vertical-align: top;\n",
       "    }\n",
       "\n",
       "    .dataframe thead th {\n",
       "        text-align: right;\n",
       "    }\n",
       "</style>\n",
       "<table border=\"1\" class=\"dataframe\">\n",
       "  <thead>\n",
       "    <tr style=\"text-align: right;\">\n",
       "      <th></th>\n",
       "      <th>D</th>\n",
       "      <th>C</th>\n",
       "      <th>B</th>\n",
       "      <th>A</th>\n",
       "    </tr>\n",
       "  </thead>\n",
       "  <tbody>\n",
       "    <tr>\n",
       "      <th>2022-03-19</th>\n",
       "      <td>-0.830349</td>\n",
       "      <td>1.212985</td>\n",
       "      <td>-0.225929</td>\n",
       "      <td>-0.106305</td>\n",
       "    </tr>\n",
       "    <tr>\n",
       "      <th>2022-03-20</th>\n",
       "      <td>-2.318246</td>\n",
       "      <td>1.306192</td>\n",
       "      <td>0.018105</td>\n",
       "      <td>0.166670</td>\n",
       "    </tr>\n",
       "    <tr>\n",
       "      <th>2022-03-21</th>\n",
       "      <td>-0.071904</td>\n",
       "      <td>0.394945</td>\n",
       "      <td>0.334454</td>\n",
       "      <td>-0.164851</td>\n",
       "    </tr>\n",
       "    <tr>\n",
       "      <th>2022-03-22</th>\n",
       "      <td>-0.478504</td>\n",
       "      <td>1.415373</td>\n",
       "      <td>0.293697</td>\n",
       "      <td>0.909042</td>\n",
       "    </tr>\n",
       "    <tr>\n",
       "      <th>2022-03-23</th>\n",
       "      <td>1.417628</td>\n",
       "      <td>0.771864</td>\n",
       "      <td>0.834702</td>\n",
       "      <td>-0.462119</td>\n",
       "    </tr>\n",
       "    <tr>\n",
       "      <th>2022-03-24</th>\n",
       "      <td>0.807095</td>\n",
       "      <td>0.096770</td>\n",
       "      <td>0.691602</td>\n",
       "      <td>0.571120</td>\n",
       "    </tr>\n",
       "    <tr>\n",
       "      <th>2022-03-25</th>\n",
       "      <td>-2.668932</td>\n",
       "      <td>-1.971813</td>\n",
       "      <td>-1.427368</td>\n",
       "      <td>-0.917260</td>\n",
       "    </tr>\n",
       "  </tbody>\n",
       "</table>\n",
       "</div>"
      ],
      "text/plain": [
       "                   D         C         B         A\n",
       "2022-03-19 -0.830349  1.212985 -0.225929 -0.106305\n",
       "2022-03-20 -2.318246  1.306192  0.018105  0.166670\n",
       "2022-03-21 -0.071904  0.394945  0.334454 -0.164851\n",
       "2022-03-22 -0.478504  1.415373  0.293697  0.909042\n",
       "2022-03-23  1.417628  0.771864  0.834702 -0.462119\n",
       "2022-03-24  0.807095  0.096770  0.691602  0.571120\n",
       "2022-03-25 -2.668932 -1.971813 -1.427368 -0.917260"
      ]
     },
     "execution_count": 18,
     "metadata": {},
     "output_type": "execute_result"
    }
   ],
   "source": [
    "df.sort_index(axis=1, ascending=False)\n"
   ]
  },
  {
   "cell_type": "markdown",
   "metadata": {},
   "source": [
    "Sorting by values."
   ]
  },
  {
   "cell_type": "code",
   "execution_count": 19,
   "metadata": {},
   "outputs": [
    {
     "data": {
      "text/html": [
       "<div>\n",
       "<style scoped>\n",
       "    .dataframe tbody tr th:only-of-type {\n",
       "        vertical-align: middle;\n",
       "    }\n",
       "\n",
       "    .dataframe tbody tr th {\n",
       "        vertical-align: top;\n",
       "    }\n",
       "\n",
       "    .dataframe thead th {\n",
       "        text-align: right;\n",
       "    }\n",
       "</style>\n",
       "<table border=\"1\" class=\"dataframe\">\n",
       "  <thead>\n",
       "    <tr style=\"text-align: right;\">\n",
       "      <th></th>\n",
       "      <th>A</th>\n",
       "      <th>B</th>\n",
       "      <th>C</th>\n",
       "      <th>D</th>\n",
       "    </tr>\n",
       "  </thead>\n",
       "  <tbody>\n",
       "    <tr>\n",
       "      <th>2022-03-25</th>\n",
       "      <td>-0.917260</td>\n",
       "      <td>-1.427368</td>\n",
       "      <td>-1.971813</td>\n",
       "      <td>-2.668932</td>\n",
       "    </tr>\n",
       "    <tr>\n",
       "      <th>2022-03-19</th>\n",
       "      <td>-0.106305</td>\n",
       "      <td>-0.225929</td>\n",
       "      <td>1.212985</td>\n",
       "      <td>-0.830349</td>\n",
       "    </tr>\n",
       "    <tr>\n",
       "      <th>2022-03-20</th>\n",
       "      <td>0.166670</td>\n",
       "      <td>0.018105</td>\n",
       "      <td>1.306192</td>\n",
       "      <td>-2.318246</td>\n",
       "    </tr>\n",
       "    <tr>\n",
       "      <th>2022-03-22</th>\n",
       "      <td>0.909042</td>\n",
       "      <td>0.293697</td>\n",
       "      <td>1.415373</td>\n",
       "      <td>-0.478504</td>\n",
       "    </tr>\n",
       "    <tr>\n",
       "      <th>2022-03-21</th>\n",
       "      <td>-0.164851</td>\n",
       "      <td>0.334454</td>\n",
       "      <td>0.394945</td>\n",
       "      <td>-0.071904</td>\n",
       "    </tr>\n",
       "    <tr>\n",
       "      <th>2022-03-24</th>\n",
       "      <td>0.571120</td>\n",
       "      <td>0.691602</td>\n",
       "      <td>0.096770</td>\n",
       "      <td>0.807095</td>\n",
       "    </tr>\n",
       "    <tr>\n",
       "      <th>2022-03-23</th>\n",
       "      <td>-0.462119</td>\n",
       "      <td>0.834702</td>\n",
       "      <td>0.771864</td>\n",
       "      <td>1.417628</td>\n",
       "    </tr>\n",
       "  </tbody>\n",
       "</table>\n",
       "</div>"
      ],
      "text/plain": [
       "                   A         B         C         D\n",
       "2022-03-25 -0.917260 -1.427368 -1.971813 -2.668932\n",
       "2022-03-19 -0.106305 -0.225929  1.212985 -0.830349\n",
       "2022-03-20  0.166670  0.018105  1.306192 -2.318246\n",
       "2022-03-22  0.909042  0.293697  1.415373 -0.478504\n",
       "2022-03-21 -0.164851  0.334454  0.394945 -0.071904\n",
       "2022-03-24  0.571120  0.691602  0.096770  0.807095\n",
       "2022-03-23 -0.462119  0.834702  0.771864  1.417628"
      ]
     },
     "execution_count": 19,
     "metadata": {},
     "output_type": "execute_result"
    }
   ],
   "source": [
    "df.sort_values(by=\"B\")"
   ]
  },
  {
   "cell_type": "markdown",
   "metadata": {},
   "source": [
    "## Selection"
   ]
  },
  {
   "cell_type": "markdown",
   "metadata": {},
   "source": [
    "### Getting"
   ]
  },
  {
   "cell_type": "markdown",
   "metadata": {},
   "source": [
    "Selecting a single column, which yeild a `Series`, equivalent to `df.A`."
   ]
  },
  {
   "cell_type": "code",
   "execution_count": 20,
   "metadata": {},
   "outputs": [
    {
     "name": "stdout",
     "output_type": "stream",
     "text": [
      "df.A\n",
      "2022-03-19   -0.106305\n",
      "2022-03-20    0.166670\n",
      "2022-03-21   -0.164851\n",
      "2022-03-22    0.909042\n",
      "2022-03-23   -0.462119\n",
      "2022-03-24    0.571120\n",
      "2022-03-25   -0.917260\n",
      "Freq: D, Name: A, dtype: float64\n",
      "==============================\n",
      "df[\"A\"]\n",
      "2022-03-19   -0.106305\n",
      "2022-03-20    0.166670\n",
      "2022-03-21   -0.164851\n",
      "2022-03-22    0.909042\n",
      "2022-03-23   -0.462119\n",
      "2022-03-24    0.571120\n",
      "2022-03-25   -0.917260\n",
      "Freq: D, Name: A, dtype: float64\n"
     ]
    }
   ],
   "source": [
    "print(\"df.A\", df.A, sep=\"\\n\")\n",
    "print(\"=\"*30)\n",
    "print(\"df[\\\"A\\\"]\", df[\"A\"], sep=\"\\n\")"
   ]
  },
  {
   "cell_type": "markdown",
   "metadata": {},
   "source": [
    "Selecting via `[]`, which slicing the rows."
   ]
  },
  {
   "cell_type": "code",
   "execution_count": 21,
   "metadata": {},
   "outputs": [
    {
     "data": {
      "text/html": [
       "<div>\n",
       "<style scoped>\n",
       "    .dataframe tbody tr th:only-of-type {\n",
       "        vertical-align: middle;\n",
       "    }\n",
       "\n",
       "    .dataframe tbody tr th {\n",
       "        vertical-align: top;\n",
       "    }\n",
       "\n",
       "    .dataframe thead th {\n",
       "        text-align: right;\n",
       "    }\n",
       "</style>\n",
       "<table border=\"1\" class=\"dataframe\">\n",
       "  <thead>\n",
       "    <tr style=\"text-align: right;\">\n",
       "      <th></th>\n",
       "      <th>A</th>\n",
       "      <th>B</th>\n",
       "      <th>C</th>\n",
       "      <th>D</th>\n",
       "    </tr>\n",
       "  </thead>\n",
       "  <tbody>\n",
       "    <tr>\n",
       "      <th>2022-03-19</th>\n",
       "      <td>-0.106305</td>\n",
       "      <td>-0.225929</td>\n",
       "      <td>1.212985</td>\n",
       "      <td>-0.830349</td>\n",
       "    </tr>\n",
       "    <tr>\n",
       "      <th>2022-03-20</th>\n",
       "      <td>0.166670</td>\n",
       "      <td>0.018105</td>\n",
       "      <td>1.306192</td>\n",
       "      <td>-2.318246</td>\n",
       "    </tr>\n",
       "    <tr>\n",
       "      <th>2022-03-21</th>\n",
       "      <td>-0.164851</td>\n",
       "      <td>0.334454</td>\n",
       "      <td>0.394945</td>\n",
       "      <td>-0.071904</td>\n",
       "    </tr>\n",
       "  </tbody>\n",
       "</table>\n",
       "</div>"
      ],
      "text/plain": [
       "                   A         B         C         D\n",
       "2022-03-19 -0.106305 -0.225929  1.212985 -0.830349\n",
       "2022-03-20  0.166670  0.018105  1.306192 -2.318246\n",
       "2022-03-21 -0.164851  0.334454  0.394945 -0.071904"
      ]
     },
     "execution_count": 21,
     "metadata": {},
     "output_type": "execute_result"
    }
   ],
   "source": [
    "df[0:3]"
   ]
  },
  {
   "cell_type": "code",
   "execution_count": 22,
   "metadata": {},
   "outputs": [
    {
     "data": {
      "text/html": [
       "<div>\n",
       "<style scoped>\n",
       "    .dataframe tbody tr th:only-of-type {\n",
       "        vertical-align: middle;\n",
       "    }\n",
       "\n",
       "    .dataframe tbody tr th {\n",
       "        vertical-align: top;\n",
       "    }\n",
       "\n",
       "    .dataframe thead th {\n",
       "        text-align: right;\n",
       "    }\n",
       "</style>\n",
       "<table border=\"1\" class=\"dataframe\">\n",
       "  <thead>\n",
       "    <tr style=\"text-align: right;\">\n",
       "      <th></th>\n",
       "      <th>A</th>\n",
       "      <th>B</th>\n",
       "      <th>C</th>\n",
       "      <th>D</th>\n",
       "    </tr>\n",
       "  </thead>\n",
       "  <tbody>\n",
       "    <tr>\n",
       "      <th>2022-03-19</th>\n",
       "      <td>-0.106305</td>\n",
       "      <td>-0.225929</td>\n",
       "      <td>1.212985</td>\n",
       "      <td>-0.830349</td>\n",
       "    </tr>\n",
       "    <tr>\n",
       "      <th>2022-03-20</th>\n",
       "      <td>0.166670</td>\n",
       "      <td>0.018105</td>\n",
       "      <td>1.306192</td>\n",
       "      <td>-2.318246</td>\n",
       "    </tr>\n",
       "    <tr>\n",
       "      <th>2022-03-21</th>\n",
       "      <td>-0.164851</td>\n",
       "      <td>0.334454</td>\n",
       "      <td>0.394945</td>\n",
       "      <td>-0.071904</td>\n",
       "    </tr>\n",
       "  </tbody>\n",
       "</table>\n",
       "</div>"
      ],
      "text/plain": [
       "                   A         B         C         D\n",
       "2022-03-19 -0.106305 -0.225929  1.212985 -0.830349\n",
       "2022-03-20  0.166670  0.018105  1.306192 -2.318246\n",
       "2022-03-21 -0.164851  0.334454  0.394945 -0.071904"
      ]
     },
     "execution_count": 22,
     "metadata": {},
     "output_type": "execute_result"
    }
   ],
   "source": [
    "df[\"20220319\":\"20220321\"]"
   ]
  },
  {
   "cell_type": "markdown",
   "metadata": {},
   "source": [
    "## Selection by label"
   ]
  },
  {
   "cell_type": "markdown",
   "metadata": {},
   "source": [
    "For getting a cross section using a label."
   ]
  },
  {
   "cell_type": "code",
   "execution_count": 23,
   "metadata": {},
   "outputs": [
    {
     "data": {
      "text/plain": [
       "A   -0.106305\n",
       "B   -0.225929\n",
       "C    1.212985\n",
       "D   -0.830349\n",
       "Name: 2022-03-19 00:00:00, dtype: float64"
      ]
     },
     "execution_count": 23,
     "metadata": {},
     "output_type": "execute_result"
    }
   ],
   "source": [
    "df.loc[dates[0]]"
   ]
  },
  {
   "cell_type": "markdown",
   "metadata": {},
   "source": [
    "Selecting on a multi-axis by label."
   ]
  },
  {
   "cell_type": "code",
   "execution_count": 24,
   "metadata": {},
   "outputs": [
    {
     "data": {
      "text/html": [
       "<div>\n",
       "<style scoped>\n",
       "    .dataframe tbody tr th:only-of-type {\n",
       "        vertical-align: middle;\n",
       "    }\n",
       "\n",
       "    .dataframe tbody tr th {\n",
       "        vertical-align: top;\n",
       "    }\n",
       "\n",
       "    .dataframe thead th {\n",
       "        text-align: right;\n",
       "    }\n",
       "</style>\n",
       "<table border=\"1\" class=\"dataframe\">\n",
       "  <thead>\n",
       "    <tr style=\"text-align: right;\">\n",
       "      <th></th>\n",
       "      <th>A</th>\n",
       "      <th>B</th>\n",
       "    </tr>\n",
       "  </thead>\n",
       "  <tbody>\n",
       "    <tr>\n",
       "      <th>2022-03-19</th>\n",
       "      <td>-0.106305</td>\n",
       "      <td>-0.225929</td>\n",
       "    </tr>\n",
       "    <tr>\n",
       "      <th>2022-03-20</th>\n",
       "      <td>0.166670</td>\n",
       "      <td>0.018105</td>\n",
       "    </tr>\n",
       "    <tr>\n",
       "      <th>2022-03-21</th>\n",
       "      <td>-0.164851</td>\n",
       "      <td>0.334454</td>\n",
       "    </tr>\n",
       "    <tr>\n",
       "      <th>2022-03-22</th>\n",
       "      <td>0.909042</td>\n",
       "      <td>0.293697</td>\n",
       "    </tr>\n",
       "    <tr>\n",
       "      <th>2022-03-23</th>\n",
       "      <td>-0.462119</td>\n",
       "      <td>0.834702</td>\n",
       "    </tr>\n",
       "    <tr>\n",
       "      <th>2022-03-24</th>\n",
       "      <td>0.571120</td>\n",
       "      <td>0.691602</td>\n",
       "    </tr>\n",
       "    <tr>\n",
       "      <th>2022-03-25</th>\n",
       "      <td>-0.917260</td>\n",
       "      <td>-1.427368</td>\n",
       "    </tr>\n",
       "  </tbody>\n",
       "</table>\n",
       "</div>"
      ],
      "text/plain": [
       "                   A         B\n",
       "2022-03-19 -0.106305 -0.225929\n",
       "2022-03-20  0.166670  0.018105\n",
       "2022-03-21 -0.164851  0.334454\n",
       "2022-03-22  0.909042  0.293697\n",
       "2022-03-23 -0.462119  0.834702\n",
       "2022-03-24  0.571120  0.691602\n",
       "2022-03-25 -0.917260 -1.427368"
      ]
     },
     "execution_count": 24,
     "metadata": {},
     "output_type": "execute_result"
    }
   ],
   "source": [
    "df.loc[:, [\"A\", \"B\"]]"
   ]
  },
  {
   "cell_type": "markdown",
   "metadata": {},
   "source": [
    "Showing label slicing, both endpoints are included."
   ]
  },
  {
   "cell_type": "code",
   "execution_count": 25,
   "metadata": {},
   "outputs": [
    {
     "data": {
      "text/html": [
       "<div>\n",
       "<style scoped>\n",
       "    .dataframe tbody tr th:only-of-type {\n",
       "        vertical-align: middle;\n",
       "    }\n",
       "\n",
       "    .dataframe tbody tr th {\n",
       "        vertical-align: top;\n",
       "    }\n",
       "\n",
       "    .dataframe thead th {\n",
       "        text-align: right;\n",
       "    }\n",
       "</style>\n",
       "<table border=\"1\" class=\"dataframe\">\n",
       "  <thead>\n",
       "    <tr style=\"text-align: right;\">\n",
       "      <th></th>\n",
       "      <th>C</th>\n",
       "      <th>D</th>\n",
       "    </tr>\n",
       "  </thead>\n",
       "  <tbody>\n",
       "    <tr>\n",
       "      <th>2022-03-19</th>\n",
       "      <td>1.212985</td>\n",
       "      <td>-0.830349</td>\n",
       "    </tr>\n",
       "    <tr>\n",
       "      <th>2022-03-20</th>\n",
       "      <td>1.306192</td>\n",
       "      <td>-2.318246</td>\n",
       "    </tr>\n",
       "    <tr>\n",
       "      <th>2022-03-21</th>\n",
       "      <td>0.394945</td>\n",
       "      <td>-0.071904</td>\n",
       "    </tr>\n",
       "  </tbody>\n",
       "</table>\n",
       "</div>"
      ],
      "text/plain": [
       "                   C         D\n",
       "2022-03-19  1.212985 -0.830349\n",
       "2022-03-20  1.306192 -2.318246\n",
       "2022-03-21  0.394945 -0.071904"
      ]
     },
     "execution_count": 25,
     "metadata": {},
     "output_type": "execute_result"
    }
   ],
   "source": [
    "df.loc[\"20220319\":\"20220321\", [\"C\", \"D\"]]"
   ]
  },
  {
   "cell_type": "markdown",
   "metadata": {},
   "source": [
    "Reduction in the dimensions of returned object."
   ]
  },
  {
   "cell_type": "code",
   "execution_count": 26,
   "metadata": {},
   "outputs": [
    {
     "data": {
      "text/plain": [
       "B    0.691602\n",
       "C    0.096770\n",
       "Name: 2022-03-24 00:00:00, dtype: float64"
      ]
     },
     "execution_count": 26,
     "metadata": {},
     "output_type": "execute_result"
    }
   ],
   "source": [
    "df.loc[\"20220324\", [\"B\", \"C\"]]"
   ]
  },
  {
   "cell_type": "markdown",
   "metadata": {},
   "source": [
    "For getting a scalar value."
   ]
  },
  {
   "cell_type": "code",
   "execution_count": 27,
   "metadata": {},
   "outputs": [
    {
     "data": {
      "text/plain": [
       "0.16666999930041573"
      ]
     },
     "execution_count": 27,
     "metadata": {},
     "output_type": "execute_result"
    }
   ],
   "source": [
    "df.loc[dates[1], \"A\"]"
   ]
  },
  {
   "cell_type": "markdown",
   "metadata": {},
   "source": [
    "For getting fast access to a scalar (equivalent to the prior method)."
   ]
  },
  {
   "cell_type": "code",
   "execution_count": 28,
   "metadata": {},
   "outputs": [
    {
     "data": {
      "text/plain": [
       "0.16666999930041573"
      ]
     },
     "execution_count": 28,
     "metadata": {},
     "output_type": "execute_result"
    }
   ],
   "source": [
    "df.at[dates[1], \"A\"]"
   ]
  },
  {
   "cell_type": "markdown",
   "metadata": {},
   "source": [
    "## Selection by position"
   ]
  },
  {
   "cell_type": "markdown",
   "metadata": {},
   "source": [
    "Select via the position of the passed integers."
   ]
  },
  {
   "cell_type": "code",
   "execution_count": 29,
   "metadata": {},
   "outputs": [
    {
     "data": {
      "text/plain": [
       "A    0.909042\n",
       "B    0.293697\n",
       "C    1.415373\n",
       "D   -0.478504\n",
       "Name: 2022-03-22 00:00:00, dtype: float64"
      ]
     },
     "execution_count": 29,
     "metadata": {},
     "output_type": "execute_result"
    }
   ],
   "source": [
    "df.iloc[3]\n",
    "# equivalent to df.loc[dates[3]]"
   ]
  },
  {
   "cell_type": "markdown",
   "metadata": {},
   "source": [
    "By integer slices, acting similar to `Numpy/Python`."
   ]
  },
  {
   "cell_type": "code",
   "execution_count": 30,
   "metadata": {},
   "outputs": [
    {
     "data": {
      "text/html": [
       "<div>\n",
       "<style scoped>\n",
       "    .dataframe tbody tr th:only-of-type {\n",
       "        vertical-align: middle;\n",
       "    }\n",
       "\n",
       "    .dataframe tbody tr th {\n",
       "        vertical-align: top;\n",
       "    }\n",
       "\n",
       "    .dataframe thead th {\n",
       "        text-align: right;\n",
       "    }\n",
       "</style>\n",
       "<table border=\"1\" class=\"dataframe\">\n",
       "  <thead>\n",
       "    <tr style=\"text-align: right;\">\n",
       "      <th></th>\n",
       "      <th>A</th>\n",
       "      <th>B</th>\n",
       "    </tr>\n",
       "  </thead>\n",
       "  <tbody>\n",
       "    <tr>\n",
       "      <th>2022-03-22</th>\n",
       "      <td>0.909042</td>\n",
       "      <td>0.293697</td>\n",
       "    </tr>\n",
       "    <tr>\n",
       "      <th>2022-03-23</th>\n",
       "      <td>-0.462119</td>\n",
       "      <td>0.834702</td>\n",
       "    </tr>\n",
       "  </tbody>\n",
       "</table>\n",
       "</div>"
      ],
      "text/plain": [
       "                   A         B\n",
       "2022-03-22  0.909042  0.293697\n",
       "2022-03-23 -0.462119  0.834702"
      ]
     },
     "execution_count": 30,
     "metadata": {},
     "output_type": "execute_result"
    }
   ],
   "source": [
    "df.iloc[3:5, 0:2]\n",
    "# equivalent to df.loc[\"20220322\":\"20220323\", [\"A\", \"B\"]]"
   ]
  },
  {
   "cell_type": "markdown",
   "metadata": {},
   "source": [
    "By list of integer position locations, similar to the `Numpy/Python` style."
   ]
  },
  {
   "cell_type": "code",
   "execution_count": 31,
   "metadata": {},
   "outputs": [
    {
     "data": {
      "text/html": [
       "<div>\n",
       "<style scoped>\n",
       "    .dataframe tbody tr th:only-of-type {\n",
       "        vertical-align: middle;\n",
       "    }\n",
       "\n",
       "    .dataframe tbody tr th {\n",
       "        vertical-align: top;\n",
       "    }\n",
       "\n",
       "    .dataframe thead th {\n",
       "        text-align: right;\n",
       "    }\n",
       "</style>\n",
       "<table border=\"1\" class=\"dataframe\">\n",
       "  <thead>\n",
       "    <tr style=\"text-align: right;\">\n",
       "      <th></th>\n",
       "      <th>A</th>\n",
       "      <th>C</th>\n",
       "    </tr>\n",
       "  </thead>\n",
       "  <tbody>\n",
       "    <tr>\n",
       "      <th>2022-03-20</th>\n",
       "      <td>0.166670</td>\n",
       "      <td>1.306192</td>\n",
       "    </tr>\n",
       "    <tr>\n",
       "      <th>2022-03-21</th>\n",
       "      <td>-0.164851</td>\n",
       "      <td>0.394945</td>\n",
       "    </tr>\n",
       "    <tr>\n",
       "      <th>2022-03-23</th>\n",
       "      <td>-0.462119</td>\n",
       "      <td>0.771864</td>\n",
       "    </tr>\n",
       "  </tbody>\n",
       "</table>\n",
       "</div>"
      ],
      "text/plain": [
       "                   A         C\n",
       "2022-03-20  0.166670  1.306192\n",
       "2022-03-21 -0.164851  0.394945\n",
       "2022-03-23 -0.462119  0.771864"
      ]
     },
     "execution_count": 31,
     "metadata": {},
     "output_type": "execute_result"
    }
   ],
   "source": [
    "df.iloc[[1, 2, 4], [0, 2]]\n",
    "# equivalent to df.loc[\"20220320\":\"20220323\", [\"B\", \"C\"]]"
   ]
  },
  {
   "cell_type": "markdown",
   "metadata": {},
   "source": [
    "For slicing rows explicitly."
   ]
  },
  {
   "cell_type": "code",
   "execution_count": 32,
   "metadata": {},
   "outputs": [
    {
     "data": {
      "text/html": [
       "<div>\n",
       "<style scoped>\n",
       "    .dataframe tbody tr th:only-of-type {\n",
       "        vertical-align: middle;\n",
       "    }\n",
       "\n",
       "    .dataframe tbody tr th {\n",
       "        vertical-align: top;\n",
       "    }\n",
       "\n",
       "    .dataframe thead th {\n",
       "        text-align: right;\n",
       "    }\n",
       "</style>\n",
       "<table border=\"1\" class=\"dataframe\">\n",
       "  <thead>\n",
       "    <tr style=\"text-align: right;\">\n",
       "      <th></th>\n",
       "      <th>A</th>\n",
       "      <th>B</th>\n",
       "      <th>C</th>\n",
       "      <th>D</th>\n",
       "    </tr>\n",
       "  </thead>\n",
       "  <tbody>\n",
       "    <tr>\n",
       "      <th>2022-03-20</th>\n",
       "      <td>0.166670</td>\n",
       "      <td>0.018105</td>\n",
       "      <td>1.306192</td>\n",
       "      <td>-2.318246</td>\n",
       "    </tr>\n",
       "    <tr>\n",
       "      <th>2022-03-21</th>\n",
       "      <td>-0.164851</td>\n",
       "      <td>0.334454</td>\n",
       "      <td>0.394945</td>\n",
       "      <td>-0.071904</td>\n",
       "    </tr>\n",
       "  </tbody>\n",
       "</table>\n",
       "</div>"
      ],
      "text/plain": [
       "                   A         B         C         D\n",
       "2022-03-20  0.166670  0.018105  1.306192 -2.318246\n",
       "2022-03-21 -0.164851  0.334454  0.394945 -0.071904"
      ]
     },
     "execution_count": 32,
     "metadata": {},
     "output_type": "execute_result"
    }
   ],
   "source": [
    "df.iloc[1:3, :]"
   ]
  },
  {
   "cell_type": "markdown",
   "metadata": {},
   "source": [
    "For slicing columns explicitly."
   ]
  },
  {
   "cell_type": "code",
   "execution_count": 33,
   "metadata": {},
   "outputs": [
    {
     "data": {
      "text/html": [
       "<div>\n",
       "<style scoped>\n",
       "    .dataframe tbody tr th:only-of-type {\n",
       "        vertical-align: middle;\n",
       "    }\n",
       "\n",
       "    .dataframe tbody tr th {\n",
       "        vertical-align: top;\n",
       "    }\n",
       "\n",
       "    .dataframe thead th {\n",
       "        text-align: right;\n",
       "    }\n",
       "</style>\n",
       "<table border=\"1\" class=\"dataframe\">\n",
       "  <thead>\n",
       "    <tr style=\"text-align: right;\">\n",
       "      <th></th>\n",
       "      <th>B</th>\n",
       "      <th>C</th>\n",
       "    </tr>\n",
       "  </thead>\n",
       "  <tbody>\n",
       "    <tr>\n",
       "      <th>2022-03-19</th>\n",
       "      <td>-0.225929</td>\n",
       "      <td>1.212985</td>\n",
       "    </tr>\n",
       "    <tr>\n",
       "      <th>2022-03-20</th>\n",
       "      <td>0.018105</td>\n",
       "      <td>1.306192</td>\n",
       "    </tr>\n",
       "    <tr>\n",
       "      <th>2022-03-21</th>\n",
       "      <td>0.334454</td>\n",
       "      <td>0.394945</td>\n",
       "    </tr>\n",
       "    <tr>\n",
       "      <th>2022-03-22</th>\n",
       "      <td>0.293697</td>\n",
       "      <td>1.415373</td>\n",
       "    </tr>\n",
       "    <tr>\n",
       "      <th>2022-03-23</th>\n",
       "      <td>0.834702</td>\n",
       "      <td>0.771864</td>\n",
       "    </tr>\n",
       "    <tr>\n",
       "      <th>2022-03-24</th>\n",
       "      <td>0.691602</td>\n",
       "      <td>0.096770</td>\n",
       "    </tr>\n",
       "    <tr>\n",
       "      <th>2022-03-25</th>\n",
       "      <td>-1.427368</td>\n",
       "      <td>-1.971813</td>\n",
       "    </tr>\n",
       "  </tbody>\n",
       "</table>\n",
       "</div>"
      ],
      "text/plain": [
       "                   B         C\n",
       "2022-03-19 -0.225929  1.212985\n",
       "2022-03-20  0.018105  1.306192\n",
       "2022-03-21  0.334454  0.394945\n",
       "2022-03-22  0.293697  1.415373\n",
       "2022-03-23  0.834702  0.771864\n",
       "2022-03-24  0.691602  0.096770\n",
       "2022-03-25 -1.427368 -1.971813"
      ]
     },
     "execution_count": 33,
     "metadata": {},
     "output_type": "execute_result"
    }
   ],
   "source": [
    "df.iloc[:, 1:3]"
   ]
  },
  {
   "cell_type": "markdown",
   "metadata": {},
   "source": [
    "For getting a value explicitly."
   ]
  },
  {
   "cell_type": "code",
   "execution_count": 34,
   "metadata": {},
   "outputs": [
    {
     "data": {
      "text/plain": [
       "0.018105075282602776"
      ]
     },
     "execution_count": 34,
     "metadata": {},
     "output_type": "execute_result"
    }
   ],
   "source": [
    "df.iloc[1, 1]"
   ]
  },
  {
   "cell_type": "markdown",
   "metadata": {},
   "source": [
    "For getting fast access to a scalar (equivalent to the prior method)."
   ]
  },
  {
   "cell_type": "code",
   "execution_count": 35,
   "metadata": {},
   "outputs": [
    {
     "data": {
      "text/plain": [
       "0.018105075282602776"
      ]
     },
     "execution_count": 35,
     "metadata": {},
     "output_type": "execute_result"
    }
   ],
   "source": [
    "df.iat[1, 1]"
   ]
  },
  {
   "cell_type": "markdown",
   "metadata": {},
   "source": [
    "## Boolean indexing"
   ]
  },
  {
   "cell_type": "markdown",
   "metadata": {},
   "source": [
    "Using a single column's values to select data."
   ]
  },
  {
   "cell_type": "code",
   "execution_count": 36,
   "metadata": {},
   "outputs": [
    {
     "data": {
      "text/html": [
       "<div>\n",
       "<style scoped>\n",
       "    .dataframe tbody tr th:only-of-type {\n",
       "        vertical-align: middle;\n",
       "    }\n",
       "\n",
       "    .dataframe tbody tr th {\n",
       "        vertical-align: top;\n",
       "    }\n",
       "\n",
       "    .dataframe thead th {\n",
       "        text-align: right;\n",
       "    }\n",
       "</style>\n",
       "<table border=\"1\" class=\"dataframe\">\n",
       "  <thead>\n",
       "    <tr style=\"text-align: right;\">\n",
       "      <th></th>\n",
       "      <th>A</th>\n",
       "      <th>B</th>\n",
       "      <th>C</th>\n",
       "      <th>D</th>\n",
       "    </tr>\n",
       "  </thead>\n",
       "  <tbody>\n",
       "    <tr>\n",
       "      <th>2022-03-20</th>\n",
       "      <td>0.166670</td>\n",
       "      <td>0.018105</td>\n",
       "      <td>1.306192</td>\n",
       "      <td>-2.318246</td>\n",
       "    </tr>\n",
       "    <tr>\n",
       "      <th>2022-03-22</th>\n",
       "      <td>0.909042</td>\n",
       "      <td>0.293697</td>\n",
       "      <td>1.415373</td>\n",
       "      <td>-0.478504</td>\n",
       "    </tr>\n",
       "    <tr>\n",
       "      <th>2022-03-24</th>\n",
       "      <td>0.571120</td>\n",
       "      <td>0.691602</td>\n",
       "      <td>0.096770</td>\n",
       "      <td>0.807095</td>\n",
       "    </tr>\n",
       "  </tbody>\n",
       "</table>\n",
       "</div>"
      ],
      "text/plain": [
       "                   A         B         C         D\n",
       "2022-03-20  0.166670  0.018105  1.306192 -2.318246\n",
       "2022-03-22  0.909042  0.293697  1.415373 -0.478504\n",
       "2022-03-24  0.571120  0.691602  0.096770  0.807095"
      ]
     },
     "execution_count": 36,
     "metadata": {},
     "output_type": "execute_result"
    }
   ],
   "source": [
    "df[df[\"A\"] > 0]"
   ]
  },
  {
   "cell_type": "markdown",
   "metadata": {},
   "source": [
    "Selecting values from a **DataFrame** where a boolean condition is met."
   ]
  },
  {
   "cell_type": "code",
   "execution_count": 37,
   "metadata": {},
   "outputs": [
    {
     "data": {
      "text/html": [
       "<div>\n",
       "<style scoped>\n",
       "    .dataframe tbody tr th:only-of-type {\n",
       "        vertical-align: middle;\n",
       "    }\n",
       "\n",
       "    .dataframe tbody tr th {\n",
       "        vertical-align: top;\n",
       "    }\n",
       "\n",
       "    .dataframe thead th {\n",
       "        text-align: right;\n",
       "    }\n",
       "</style>\n",
       "<table border=\"1\" class=\"dataframe\">\n",
       "  <thead>\n",
       "    <tr style=\"text-align: right;\">\n",
       "      <th></th>\n",
       "      <th>A</th>\n",
       "      <th>B</th>\n",
       "      <th>C</th>\n",
       "      <th>D</th>\n",
       "    </tr>\n",
       "  </thead>\n",
       "  <tbody>\n",
       "    <tr>\n",
       "      <th>2022-03-19</th>\n",
       "      <td>NaN</td>\n",
       "      <td>NaN</td>\n",
       "      <td>1.212985</td>\n",
       "      <td>NaN</td>\n",
       "    </tr>\n",
       "    <tr>\n",
       "      <th>2022-03-20</th>\n",
       "      <td>0.166670</td>\n",
       "      <td>0.018105</td>\n",
       "      <td>1.306192</td>\n",
       "      <td>NaN</td>\n",
       "    </tr>\n",
       "    <tr>\n",
       "      <th>2022-03-21</th>\n",
       "      <td>NaN</td>\n",
       "      <td>0.334454</td>\n",
       "      <td>0.394945</td>\n",
       "      <td>NaN</td>\n",
       "    </tr>\n",
       "    <tr>\n",
       "      <th>2022-03-22</th>\n",
       "      <td>0.909042</td>\n",
       "      <td>0.293697</td>\n",
       "      <td>1.415373</td>\n",
       "      <td>NaN</td>\n",
       "    </tr>\n",
       "    <tr>\n",
       "      <th>2022-03-23</th>\n",
       "      <td>NaN</td>\n",
       "      <td>0.834702</td>\n",
       "      <td>0.771864</td>\n",
       "      <td>1.417628</td>\n",
       "    </tr>\n",
       "    <tr>\n",
       "      <th>2022-03-24</th>\n",
       "      <td>0.571120</td>\n",
       "      <td>0.691602</td>\n",
       "      <td>0.096770</td>\n",
       "      <td>0.807095</td>\n",
       "    </tr>\n",
       "    <tr>\n",
       "      <th>2022-03-25</th>\n",
       "      <td>NaN</td>\n",
       "      <td>NaN</td>\n",
       "      <td>NaN</td>\n",
       "      <td>NaN</td>\n",
       "    </tr>\n",
       "  </tbody>\n",
       "</table>\n",
       "</div>"
      ],
      "text/plain": [
       "                   A         B         C         D\n",
       "2022-03-19       NaN       NaN  1.212985       NaN\n",
       "2022-03-20  0.166670  0.018105  1.306192       NaN\n",
       "2022-03-21       NaN  0.334454  0.394945       NaN\n",
       "2022-03-22  0.909042  0.293697  1.415373       NaN\n",
       "2022-03-23       NaN  0.834702  0.771864  1.417628\n",
       "2022-03-24  0.571120  0.691602  0.096770  0.807095\n",
       "2022-03-25       NaN       NaN       NaN       NaN"
      ]
     },
     "execution_count": 37,
     "metadata": {},
     "output_type": "execute_result"
    }
   ],
   "source": [
    "df[df > 0]"
   ]
  },
  {
   "cell_type": "markdown",
   "metadata": {},
   "source": [
    "Using `isin()` method for filtering."
   ]
  },
  {
   "cell_type": "code",
   "execution_count": 38,
   "metadata": {},
   "outputs": [
    {
     "data": {
      "text/html": [
       "<div>\n",
       "<style scoped>\n",
       "    .dataframe tbody tr th:only-of-type {\n",
       "        vertical-align: middle;\n",
       "    }\n",
       "\n",
       "    .dataframe tbody tr th {\n",
       "        vertical-align: top;\n",
       "    }\n",
       "\n",
       "    .dataframe thead th {\n",
       "        text-align: right;\n",
       "    }\n",
       "</style>\n",
       "<table border=\"1\" class=\"dataframe\">\n",
       "  <thead>\n",
       "    <tr style=\"text-align: right;\">\n",
       "      <th></th>\n",
       "      <th>A</th>\n",
       "      <th>B</th>\n",
       "      <th>C</th>\n",
       "      <th>D</th>\n",
       "      <th>E</th>\n",
       "    </tr>\n",
       "  </thead>\n",
       "  <tbody>\n",
       "    <tr>\n",
       "      <th>2022-03-19</th>\n",
       "      <td>-0.106305</td>\n",
       "      <td>-0.225929</td>\n",
       "      <td>1.212985</td>\n",
       "      <td>-0.830349</td>\n",
       "      <td>one</td>\n",
       "    </tr>\n",
       "    <tr>\n",
       "      <th>2022-03-20</th>\n",
       "      <td>0.166670</td>\n",
       "      <td>0.018105</td>\n",
       "      <td>1.306192</td>\n",
       "      <td>-2.318246</td>\n",
       "      <td>two</td>\n",
       "    </tr>\n",
       "    <tr>\n",
       "      <th>2022-03-21</th>\n",
       "      <td>-0.164851</td>\n",
       "      <td>0.334454</td>\n",
       "      <td>0.394945</td>\n",
       "      <td>-0.071904</td>\n",
       "      <td>three</td>\n",
       "    </tr>\n",
       "    <tr>\n",
       "      <th>2022-03-22</th>\n",
       "      <td>0.909042</td>\n",
       "      <td>0.293697</td>\n",
       "      <td>1.415373</td>\n",
       "      <td>-0.478504</td>\n",
       "      <td>four</td>\n",
       "    </tr>\n",
       "    <tr>\n",
       "      <th>2022-03-23</th>\n",
       "      <td>-0.462119</td>\n",
       "      <td>0.834702</td>\n",
       "      <td>0.771864</td>\n",
       "      <td>1.417628</td>\n",
       "      <td>five</td>\n",
       "    </tr>\n",
       "    <tr>\n",
       "      <th>2022-03-24</th>\n",
       "      <td>0.571120</td>\n",
       "      <td>0.691602</td>\n",
       "      <td>0.096770</td>\n",
       "      <td>0.807095</td>\n",
       "      <td>six</td>\n",
       "    </tr>\n",
       "    <tr>\n",
       "      <th>2022-03-25</th>\n",
       "      <td>-0.917260</td>\n",
       "      <td>-1.427368</td>\n",
       "      <td>-1.971813</td>\n",
       "      <td>-2.668932</td>\n",
       "      <td>seven</td>\n",
       "    </tr>\n",
       "  </tbody>\n",
       "</table>\n",
       "</div>"
      ],
      "text/plain": [
       "                   A         B         C         D      E\n",
       "2022-03-19 -0.106305 -0.225929  1.212985 -0.830349    one\n",
       "2022-03-20  0.166670  0.018105  1.306192 -2.318246    two\n",
       "2022-03-21 -0.164851  0.334454  0.394945 -0.071904  three\n",
       "2022-03-22  0.909042  0.293697  1.415373 -0.478504   four\n",
       "2022-03-23 -0.462119  0.834702  0.771864  1.417628   five\n",
       "2022-03-24  0.571120  0.691602  0.096770  0.807095    six\n",
       "2022-03-25 -0.917260 -1.427368 -1.971813 -2.668932  seven"
      ]
     },
     "execution_count": 38,
     "metadata": {},
     "output_type": "execute_result"
    }
   ],
   "source": [
    "df_copy = df.copy()\n",
    "df_copy[\"E\"] = [\"one\", \"two\", \"three\", \"four\", \"five\", \"six\", \"seven\"]\n",
    "df_copy"
   ]
  },
  {
   "cell_type": "code",
   "execution_count": 39,
   "metadata": {},
   "outputs": [
    {
     "data": {
      "text/html": [
       "<div>\n",
       "<style scoped>\n",
       "    .dataframe tbody tr th:only-of-type {\n",
       "        vertical-align: middle;\n",
       "    }\n",
       "\n",
       "    .dataframe tbody tr th {\n",
       "        vertical-align: top;\n",
       "    }\n",
       "\n",
       "    .dataframe thead th {\n",
       "        text-align: right;\n",
       "    }\n",
       "</style>\n",
       "<table border=\"1\" class=\"dataframe\">\n",
       "  <thead>\n",
       "    <tr style=\"text-align: right;\">\n",
       "      <th></th>\n",
       "      <th>A</th>\n",
       "      <th>B</th>\n",
       "      <th>C</th>\n",
       "      <th>D</th>\n",
       "      <th>E</th>\n",
       "    </tr>\n",
       "  </thead>\n",
       "  <tbody>\n",
       "    <tr>\n",
       "      <th>2022-03-21</th>\n",
       "      <td>-0.164851</td>\n",
       "      <td>0.334454</td>\n",
       "      <td>0.394945</td>\n",
       "      <td>-0.071904</td>\n",
       "      <td>three</td>\n",
       "    </tr>\n",
       "    <tr>\n",
       "      <th>2022-03-24</th>\n",
       "      <td>0.571120</td>\n",
       "      <td>0.691602</td>\n",
       "      <td>0.096770</td>\n",
       "      <td>0.807095</td>\n",
       "      <td>six</td>\n",
       "    </tr>\n",
       "  </tbody>\n",
       "</table>\n",
       "</div>"
      ],
      "text/plain": [
       "                   A         B         C         D      E\n",
       "2022-03-21 -0.164851  0.334454  0.394945 -0.071904  three\n",
       "2022-03-24  0.571120  0.691602  0.096770  0.807095    six"
      ]
     },
     "execution_count": 39,
     "metadata": {},
     "output_type": "execute_result"
    }
   ],
   "source": [
    "df_copy[df_copy[\"E\"].isin([\"three\", \"six\"])]"
   ]
  },
  {
   "cell_type": "markdown",
   "metadata": {},
   "source": [
    "## Setting"
   ]
  },
  {
   "cell_type": "markdown",
   "metadata": {},
   "source": [
    "Setting a new column automatically aligns the data by the indexes."
   ]
  },
  {
   "cell_type": "code",
   "execution_count": 40,
   "metadata": {},
   "outputs": [
    {
     "data": {
      "text/plain": [
       "2022-03-19    1\n",
       "2022-03-20    2\n",
       "2022-03-21    3\n",
       "2022-03-22    4\n",
       "2022-03-23    5\n",
       "2022-03-24    6\n",
       "2022-03-25    7\n",
       "Freq: D, dtype: int64"
      ]
     },
     "execution_count": 40,
     "metadata": {},
     "output_type": "execute_result"
    }
   ],
   "source": [
    "s1 = pd.Series(list(range(1, 8)), index=pd.date_range(\"20220319\", periods=7))\n",
    "s1"
   ]
  },
  {
   "cell_type": "code",
   "execution_count": 41,
   "metadata": {},
   "outputs": [
    {
     "data": {
      "text/html": [
       "<div>\n",
       "<style scoped>\n",
       "    .dataframe tbody tr th:only-of-type {\n",
       "        vertical-align: middle;\n",
       "    }\n",
       "\n",
       "    .dataframe tbody tr th {\n",
       "        vertical-align: top;\n",
       "    }\n",
       "\n",
       "    .dataframe thead th {\n",
       "        text-align: right;\n",
       "    }\n",
       "</style>\n",
       "<table border=\"1\" class=\"dataframe\">\n",
       "  <thead>\n",
       "    <tr style=\"text-align: right;\">\n",
       "      <th></th>\n",
       "      <th>A</th>\n",
       "      <th>B</th>\n",
       "      <th>C</th>\n",
       "      <th>D</th>\n",
       "      <th>F</th>\n",
       "    </tr>\n",
       "  </thead>\n",
       "  <tbody>\n",
       "    <tr>\n",
       "      <th>2022-03-19</th>\n",
       "      <td>-0.106305</td>\n",
       "      <td>-0.225929</td>\n",
       "      <td>1.212985</td>\n",
       "      <td>-0.830349</td>\n",
       "      <td>1</td>\n",
       "    </tr>\n",
       "    <tr>\n",
       "      <th>2022-03-20</th>\n",
       "      <td>0.166670</td>\n",
       "      <td>0.018105</td>\n",
       "      <td>1.306192</td>\n",
       "      <td>-2.318246</td>\n",
       "      <td>2</td>\n",
       "    </tr>\n",
       "    <tr>\n",
       "      <th>2022-03-21</th>\n",
       "      <td>-0.164851</td>\n",
       "      <td>0.334454</td>\n",
       "      <td>0.394945</td>\n",
       "      <td>-0.071904</td>\n",
       "      <td>3</td>\n",
       "    </tr>\n",
       "    <tr>\n",
       "      <th>2022-03-22</th>\n",
       "      <td>0.909042</td>\n",
       "      <td>0.293697</td>\n",
       "      <td>1.415373</td>\n",
       "      <td>-0.478504</td>\n",
       "      <td>4</td>\n",
       "    </tr>\n",
       "    <tr>\n",
       "      <th>2022-03-23</th>\n",
       "      <td>-0.462119</td>\n",
       "      <td>0.834702</td>\n",
       "      <td>0.771864</td>\n",
       "      <td>1.417628</td>\n",
       "      <td>5</td>\n",
       "    </tr>\n",
       "    <tr>\n",
       "      <th>2022-03-24</th>\n",
       "      <td>0.571120</td>\n",
       "      <td>0.691602</td>\n",
       "      <td>0.096770</td>\n",
       "      <td>0.807095</td>\n",
       "      <td>6</td>\n",
       "    </tr>\n",
       "    <tr>\n",
       "      <th>2022-03-25</th>\n",
       "      <td>-0.917260</td>\n",
       "      <td>-1.427368</td>\n",
       "      <td>-1.971813</td>\n",
       "      <td>-2.668932</td>\n",
       "      <td>7</td>\n",
       "    </tr>\n",
       "  </tbody>\n",
       "</table>\n",
       "</div>"
      ],
      "text/plain": [
       "                   A         B         C         D  F\n",
       "2022-03-19 -0.106305 -0.225929  1.212985 -0.830349  1\n",
       "2022-03-20  0.166670  0.018105  1.306192 -2.318246  2\n",
       "2022-03-21 -0.164851  0.334454  0.394945 -0.071904  3\n",
       "2022-03-22  0.909042  0.293697  1.415373 -0.478504  4\n",
       "2022-03-23 -0.462119  0.834702  0.771864  1.417628  5\n",
       "2022-03-24  0.571120  0.691602  0.096770  0.807095  6\n",
       "2022-03-25 -0.917260 -1.427368 -1.971813 -2.668932  7"
      ]
     },
     "execution_count": 41,
     "metadata": {},
     "output_type": "execute_result"
    }
   ],
   "source": [
    "df[\"F\"] = s1\n",
    "df"
   ]
  },
  {
   "cell_type": "markdown",
   "metadata": {},
   "source": [
    "Setting values by label."
   ]
  },
  {
   "cell_type": "code",
   "execution_count": 42,
   "metadata": {},
   "outputs": [
    {
     "data": {
      "text/html": [
       "<div>\n",
       "<style scoped>\n",
       "    .dataframe tbody tr th:only-of-type {\n",
       "        vertical-align: middle;\n",
       "    }\n",
       "\n",
       "    .dataframe tbody tr th {\n",
       "        vertical-align: top;\n",
       "    }\n",
       "\n",
       "    .dataframe thead th {\n",
       "        text-align: right;\n",
       "    }\n",
       "</style>\n",
       "<table border=\"1\" class=\"dataframe\">\n",
       "  <thead>\n",
       "    <tr style=\"text-align: right;\">\n",
       "      <th></th>\n",
       "      <th>A</th>\n",
       "      <th>B</th>\n",
       "      <th>C</th>\n",
       "      <th>D</th>\n",
       "      <th>F</th>\n",
       "    </tr>\n",
       "  </thead>\n",
       "  <tbody>\n",
       "    <tr>\n",
       "      <th>2022-03-19</th>\n",
       "      <td>0.000000</td>\n",
       "      <td>-0.225929</td>\n",
       "      <td>1.212985</td>\n",
       "      <td>-0.830349</td>\n",
       "      <td>1</td>\n",
       "    </tr>\n",
       "    <tr>\n",
       "      <th>2022-03-20</th>\n",
       "      <td>0.166670</td>\n",
       "      <td>0.018105</td>\n",
       "      <td>1.306192</td>\n",
       "      <td>-2.318246</td>\n",
       "      <td>2</td>\n",
       "    </tr>\n",
       "    <tr>\n",
       "      <th>2022-03-21</th>\n",
       "      <td>-0.164851</td>\n",
       "      <td>0.334454</td>\n",
       "      <td>0.394945</td>\n",
       "      <td>-0.071904</td>\n",
       "      <td>3</td>\n",
       "    </tr>\n",
       "    <tr>\n",
       "      <th>2022-03-22</th>\n",
       "      <td>0.909042</td>\n",
       "      <td>0.293697</td>\n",
       "      <td>1.415373</td>\n",
       "      <td>-0.478504</td>\n",
       "      <td>4</td>\n",
       "    </tr>\n",
       "    <tr>\n",
       "      <th>2022-03-23</th>\n",
       "      <td>-0.462119</td>\n",
       "      <td>0.834702</td>\n",
       "      <td>0.771864</td>\n",
       "      <td>1.417628</td>\n",
       "      <td>5</td>\n",
       "    </tr>\n",
       "    <tr>\n",
       "      <th>2022-03-24</th>\n",
       "      <td>0.571120</td>\n",
       "      <td>0.691602</td>\n",
       "      <td>0.096770</td>\n",
       "      <td>0.807095</td>\n",
       "      <td>6</td>\n",
       "    </tr>\n",
       "    <tr>\n",
       "      <th>2022-03-25</th>\n",
       "      <td>-0.917260</td>\n",
       "      <td>-1.427368</td>\n",
       "      <td>-1.971813</td>\n",
       "      <td>-2.668932</td>\n",
       "      <td>7</td>\n",
       "    </tr>\n",
       "  </tbody>\n",
       "</table>\n",
       "</div>"
      ],
      "text/plain": [
       "                   A         B         C         D  F\n",
       "2022-03-19  0.000000 -0.225929  1.212985 -0.830349  1\n",
       "2022-03-20  0.166670  0.018105  1.306192 -2.318246  2\n",
       "2022-03-21 -0.164851  0.334454  0.394945 -0.071904  3\n",
       "2022-03-22  0.909042  0.293697  1.415373 -0.478504  4\n",
       "2022-03-23 -0.462119  0.834702  0.771864  1.417628  5\n",
       "2022-03-24  0.571120  0.691602  0.096770  0.807095  6\n",
       "2022-03-25 -0.917260 -1.427368 -1.971813 -2.668932  7"
      ]
     },
     "execution_count": 42,
     "metadata": {},
     "output_type": "execute_result"
    }
   ],
   "source": [
    "df.at[dates[0], \"A\"] = 0\n",
    "df"
   ]
  },
  {
   "cell_type": "markdown",
   "metadata": {},
   "source": [
    "Setting values by position."
   ]
  },
  {
   "cell_type": "code",
   "execution_count": 43,
   "metadata": {},
   "outputs": [
    {
     "data": {
      "text/html": [
       "<div>\n",
       "<style scoped>\n",
       "    .dataframe tbody tr th:only-of-type {\n",
       "        vertical-align: middle;\n",
       "    }\n",
       "\n",
       "    .dataframe tbody tr th {\n",
       "        vertical-align: top;\n",
       "    }\n",
       "\n",
       "    .dataframe thead th {\n",
       "        text-align: right;\n",
       "    }\n",
       "</style>\n",
       "<table border=\"1\" class=\"dataframe\">\n",
       "  <thead>\n",
       "    <tr style=\"text-align: right;\">\n",
       "      <th></th>\n",
       "      <th>A</th>\n",
       "      <th>B</th>\n",
       "      <th>C</th>\n",
       "      <th>D</th>\n",
       "      <th>F</th>\n",
       "    </tr>\n",
       "  </thead>\n",
       "  <tbody>\n",
       "    <tr>\n",
       "      <th>2022-03-19</th>\n",
       "      <td>0.000000</td>\n",
       "      <td>1.000000</td>\n",
       "      <td>1.212985</td>\n",
       "      <td>-0.830349</td>\n",
       "      <td>1</td>\n",
       "    </tr>\n",
       "    <tr>\n",
       "      <th>2022-03-20</th>\n",
       "      <td>0.166670</td>\n",
       "      <td>0.018105</td>\n",
       "      <td>1.306192</td>\n",
       "      <td>-2.318246</td>\n",
       "      <td>2</td>\n",
       "    </tr>\n",
       "    <tr>\n",
       "      <th>2022-03-21</th>\n",
       "      <td>-0.164851</td>\n",
       "      <td>0.334454</td>\n",
       "      <td>0.394945</td>\n",
       "      <td>-0.071904</td>\n",
       "      <td>3</td>\n",
       "    </tr>\n",
       "    <tr>\n",
       "      <th>2022-03-22</th>\n",
       "      <td>0.909042</td>\n",
       "      <td>0.293697</td>\n",
       "      <td>1.415373</td>\n",
       "      <td>-0.478504</td>\n",
       "      <td>4</td>\n",
       "    </tr>\n",
       "    <tr>\n",
       "      <th>2022-03-23</th>\n",
       "      <td>-0.462119</td>\n",
       "      <td>0.834702</td>\n",
       "      <td>0.771864</td>\n",
       "      <td>1.417628</td>\n",
       "      <td>5</td>\n",
       "    </tr>\n",
       "    <tr>\n",
       "      <th>2022-03-24</th>\n",
       "      <td>0.571120</td>\n",
       "      <td>0.691602</td>\n",
       "      <td>0.096770</td>\n",
       "      <td>0.807095</td>\n",
       "      <td>6</td>\n",
       "    </tr>\n",
       "    <tr>\n",
       "      <th>2022-03-25</th>\n",
       "      <td>-0.917260</td>\n",
       "      <td>-1.427368</td>\n",
       "      <td>-1.971813</td>\n",
       "      <td>-2.668932</td>\n",
       "      <td>7</td>\n",
       "    </tr>\n",
       "  </tbody>\n",
       "</table>\n",
       "</div>"
      ],
      "text/plain": [
       "                   A         B         C         D  F\n",
       "2022-03-19  0.000000  1.000000  1.212985 -0.830349  1\n",
       "2022-03-20  0.166670  0.018105  1.306192 -2.318246  2\n",
       "2022-03-21 -0.164851  0.334454  0.394945 -0.071904  3\n",
       "2022-03-22  0.909042  0.293697  1.415373 -0.478504  4\n",
       "2022-03-23 -0.462119  0.834702  0.771864  1.417628  5\n",
       "2022-03-24  0.571120  0.691602  0.096770  0.807095  6\n",
       "2022-03-25 -0.917260 -1.427368 -1.971813 -2.668932  7"
      ]
     },
     "execution_count": 43,
     "metadata": {},
     "output_type": "execute_result"
    }
   ],
   "source": [
    "df.iat[0, 1] = 1\n",
    "df"
   ]
  },
  {
   "cell_type": "markdown",
   "metadata": {},
   "source": [
    "Setting by assigning with a `Numpy` array"
   ]
  },
  {
   "cell_type": "code",
   "execution_count": 44,
   "metadata": {},
   "outputs": [
    {
     "data": {
      "text/html": [
       "<div>\n",
       "<style scoped>\n",
       "    .dataframe tbody tr th:only-of-type {\n",
       "        vertical-align: middle;\n",
       "    }\n",
       "\n",
       "    .dataframe tbody tr th {\n",
       "        vertical-align: top;\n",
       "    }\n",
       "\n",
       "    .dataframe thead th {\n",
       "        text-align: right;\n",
       "    }\n",
       "</style>\n",
       "<table border=\"1\" class=\"dataframe\">\n",
       "  <thead>\n",
       "    <tr style=\"text-align: right;\">\n",
       "      <th></th>\n",
       "      <th>A</th>\n",
       "      <th>B</th>\n",
       "      <th>C</th>\n",
       "      <th>D</th>\n",
       "      <th>F</th>\n",
       "    </tr>\n",
       "  </thead>\n",
       "  <tbody>\n",
       "    <tr>\n",
       "      <th>2022-03-19</th>\n",
       "      <td>0.000000</td>\n",
       "      <td>1.000000</td>\n",
       "      <td>1.212985</td>\n",
       "      <td>35</td>\n",
       "      <td>1</td>\n",
       "    </tr>\n",
       "    <tr>\n",
       "      <th>2022-03-20</th>\n",
       "      <td>0.166670</td>\n",
       "      <td>0.018105</td>\n",
       "      <td>1.306192</td>\n",
       "      <td>35</td>\n",
       "      <td>2</td>\n",
       "    </tr>\n",
       "    <tr>\n",
       "      <th>2022-03-21</th>\n",
       "      <td>-0.164851</td>\n",
       "      <td>0.334454</td>\n",
       "      <td>0.394945</td>\n",
       "      <td>35</td>\n",
       "      <td>3</td>\n",
       "    </tr>\n",
       "    <tr>\n",
       "      <th>2022-03-22</th>\n",
       "      <td>0.909042</td>\n",
       "      <td>0.293697</td>\n",
       "      <td>1.415373</td>\n",
       "      <td>35</td>\n",
       "      <td>4</td>\n",
       "    </tr>\n",
       "    <tr>\n",
       "      <th>2022-03-23</th>\n",
       "      <td>-0.462119</td>\n",
       "      <td>0.834702</td>\n",
       "      <td>0.771864</td>\n",
       "      <td>35</td>\n",
       "      <td>5</td>\n",
       "    </tr>\n",
       "    <tr>\n",
       "      <th>2022-03-24</th>\n",
       "      <td>0.571120</td>\n",
       "      <td>0.691602</td>\n",
       "      <td>0.096770</td>\n",
       "      <td>35</td>\n",
       "      <td>6</td>\n",
       "    </tr>\n",
       "    <tr>\n",
       "      <th>2022-03-25</th>\n",
       "      <td>-0.917260</td>\n",
       "      <td>-1.427368</td>\n",
       "      <td>-1.971813</td>\n",
       "      <td>35</td>\n",
       "      <td>7</td>\n",
       "    </tr>\n",
       "  </tbody>\n",
       "</table>\n",
       "</div>"
      ],
      "text/plain": [
       "                   A         B         C   D  F\n",
       "2022-03-19  0.000000  1.000000  1.212985  35  1\n",
       "2022-03-20  0.166670  0.018105  1.306192  35  2\n",
       "2022-03-21 -0.164851  0.334454  0.394945  35  3\n",
       "2022-03-22  0.909042  0.293697  1.415373  35  4\n",
       "2022-03-23 -0.462119  0.834702  0.771864  35  5\n",
       "2022-03-24  0.571120  0.691602  0.096770  35  6\n",
       "2022-03-25 -0.917260 -1.427368 -1.971813  35  7"
      ]
     },
     "execution_count": 44,
     "metadata": {},
     "output_type": "execute_result"
    }
   ],
   "source": [
    "df.loc[:, \"D\"] = np.array(5 * len(df))\n",
    "df"
   ]
  },
  {
   "cell_type": "markdown",
   "metadata": {},
   "source": [
    "## Missing data"
   ]
  },
  {
   "cell_type": "markdown",
   "metadata": {},
   "source": [
    "`Pandas` primarily uses the value `np.nan` to represent missing data. It is by default not included in computation.\n",
    "\n",
    "Reindexing allows you to change/add/delete the index on a sepecified axis. This returns a copy of data."
   ]
  },
  {
   "cell_type": "code",
   "execution_count": 45,
   "metadata": {},
   "outputs": [
    {
     "data": {
      "text/html": [
       "<div>\n",
       "<style scoped>\n",
       "    .dataframe tbody tr th:only-of-type {\n",
       "        vertical-align: middle;\n",
       "    }\n",
       "\n",
       "    .dataframe tbody tr th {\n",
       "        vertical-align: top;\n",
       "    }\n",
       "\n",
       "    .dataframe thead th {\n",
       "        text-align: right;\n",
       "    }\n",
       "</style>\n",
       "<table border=\"1\" class=\"dataframe\">\n",
       "  <thead>\n",
       "    <tr style=\"text-align: right;\">\n",
       "      <th></th>\n",
       "      <th>A</th>\n",
       "      <th>B</th>\n",
       "      <th>C</th>\n",
       "      <th>D</th>\n",
       "      <th>F</th>\n",
       "      <th>E</th>\n",
       "    </tr>\n",
       "  </thead>\n",
       "  <tbody>\n",
       "    <tr>\n",
       "      <th>2022-03-19</th>\n",
       "      <td>0.000000</td>\n",
       "      <td>1.000000</td>\n",
       "      <td>1.212985</td>\n",
       "      <td>35</td>\n",
       "      <td>1</td>\n",
       "      <td>1.0</td>\n",
       "    </tr>\n",
       "    <tr>\n",
       "      <th>2022-03-20</th>\n",
       "      <td>0.166670</td>\n",
       "      <td>0.018105</td>\n",
       "      <td>1.306192</td>\n",
       "      <td>35</td>\n",
       "      <td>2</td>\n",
       "      <td>1.0</td>\n",
       "    </tr>\n",
       "    <tr>\n",
       "      <th>2022-03-21</th>\n",
       "      <td>-0.164851</td>\n",
       "      <td>0.334454</td>\n",
       "      <td>0.394945</td>\n",
       "      <td>35</td>\n",
       "      <td>3</td>\n",
       "      <td>NaN</td>\n",
       "    </tr>\n",
       "    <tr>\n",
       "      <th>2022-03-22</th>\n",
       "      <td>0.909042</td>\n",
       "      <td>0.293697</td>\n",
       "      <td>1.415373</td>\n",
       "      <td>35</td>\n",
       "      <td>4</td>\n",
       "      <td>NaN</td>\n",
       "    </tr>\n",
       "  </tbody>\n",
       "</table>\n",
       "</div>"
      ],
      "text/plain": [
       "                   A         B         C   D  F    E\n",
       "2022-03-19  0.000000  1.000000  1.212985  35  1  1.0\n",
       "2022-03-20  0.166670  0.018105  1.306192  35  2  1.0\n",
       "2022-03-21 -0.164851  0.334454  0.394945  35  3  NaN\n",
       "2022-03-22  0.909042  0.293697  1.415373  35  4  NaN"
      ]
     },
     "execution_count": 45,
     "metadata": {},
     "output_type": "execute_result"
    }
   ],
   "source": [
    "df1 = df.reindex(index=dates[0:4], columns=list(df.columns) + [\"E\"])\n",
    "df1.loc[dates[0]:dates[1], \"E\"] = 1\n",
    "df1"
   ]
  },
  {
   "cell_type": "markdown",
   "metadata": {},
   "source": [
    "To drop any rows that have missing data."
   ]
  },
  {
   "cell_type": "code",
   "execution_count": 46,
   "metadata": {},
   "outputs": [
    {
     "data": {
      "text/html": [
       "<div>\n",
       "<style scoped>\n",
       "    .dataframe tbody tr th:only-of-type {\n",
       "        vertical-align: middle;\n",
       "    }\n",
       "\n",
       "    .dataframe tbody tr th {\n",
       "        vertical-align: top;\n",
       "    }\n",
       "\n",
       "    .dataframe thead th {\n",
       "        text-align: right;\n",
       "    }\n",
       "</style>\n",
       "<table border=\"1\" class=\"dataframe\">\n",
       "  <thead>\n",
       "    <tr style=\"text-align: right;\">\n",
       "      <th></th>\n",
       "      <th>A</th>\n",
       "      <th>B</th>\n",
       "      <th>C</th>\n",
       "      <th>D</th>\n",
       "      <th>F</th>\n",
       "      <th>E</th>\n",
       "    </tr>\n",
       "  </thead>\n",
       "  <tbody>\n",
       "    <tr>\n",
       "      <th>2022-03-19</th>\n",
       "      <td>0.00000</td>\n",
       "      <td>1.000000</td>\n",
       "      <td>1.212985</td>\n",
       "      <td>35</td>\n",
       "      <td>1</td>\n",
       "      <td>1.0</td>\n",
       "    </tr>\n",
       "    <tr>\n",
       "      <th>2022-03-20</th>\n",
       "      <td>0.16667</td>\n",
       "      <td>0.018105</td>\n",
       "      <td>1.306192</td>\n",
       "      <td>35</td>\n",
       "      <td>2</td>\n",
       "      <td>1.0</td>\n",
       "    </tr>\n",
       "  </tbody>\n",
       "</table>\n",
       "</div>"
      ],
      "text/plain": [
       "                  A         B         C   D  F    E\n",
       "2022-03-19  0.00000  1.000000  1.212985  35  1  1.0\n",
       "2022-03-20  0.16667  0.018105  1.306192  35  2  1.0"
      ]
     },
     "execution_count": 46,
     "metadata": {},
     "output_type": "execute_result"
    }
   ],
   "source": [
    "df1.dropna(how=\"any\")"
   ]
  },
  {
   "cell_type": "markdown",
   "metadata": {},
   "source": [
    "Filling missing data."
   ]
  },
  {
   "cell_type": "code",
   "execution_count": 47,
   "metadata": {},
   "outputs": [
    {
     "data": {
      "text/html": [
       "<div>\n",
       "<style scoped>\n",
       "    .dataframe tbody tr th:only-of-type {\n",
       "        vertical-align: middle;\n",
       "    }\n",
       "\n",
       "    .dataframe tbody tr th {\n",
       "        vertical-align: top;\n",
       "    }\n",
       "\n",
       "    .dataframe thead th {\n",
       "        text-align: right;\n",
       "    }\n",
       "</style>\n",
       "<table border=\"1\" class=\"dataframe\">\n",
       "  <thead>\n",
       "    <tr style=\"text-align: right;\">\n",
       "      <th></th>\n",
       "      <th>A</th>\n",
       "      <th>B</th>\n",
       "      <th>C</th>\n",
       "      <th>D</th>\n",
       "      <th>F</th>\n",
       "      <th>E</th>\n",
       "    </tr>\n",
       "  </thead>\n",
       "  <tbody>\n",
       "    <tr>\n",
       "      <th>2022-03-19</th>\n",
       "      <td>0.000000</td>\n",
       "      <td>1.000000</td>\n",
       "      <td>1.212985</td>\n",
       "      <td>35</td>\n",
       "      <td>1</td>\n",
       "      <td>1.0</td>\n",
       "    </tr>\n",
       "    <tr>\n",
       "      <th>2022-03-20</th>\n",
       "      <td>0.166670</td>\n",
       "      <td>0.018105</td>\n",
       "      <td>1.306192</td>\n",
       "      <td>35</td>\n",
       "      <td>2</td>\n",
       "      <td>1.0</td>\n",
       "    </tr>\n",
       "    <tr>\n",
       "      <th>2022-03-21</th>\n",
       "      <td>-0.164851</td>\n",
       "      <td>0.334454</td>\n",
       "      <td>0.394945</td>\n",
       "      <td>35</td>\n",
       "      <td>3</td>\n",
       "      <td>3.0</td>\n",
       "    </tr>\n",
       "    <tr>\n",
       "      <th>2022-03-22</th>\n",
       "      <td>0.909042</td>\n",
       "      <td>0.293697</td>\n",
       "      <td>1.415373</td>\n",
       "      <td>35</td>\n",
       "      <td>4</td>\n",
       "      <td>3.0</td>\n",
       "    </tr>\n",
       "  </tbody>\n",
       "</table>\n",
       "</div>"
      ],
      "text/plain": [
       "                   A         B         C   D  F    E\n",
       "2022-03-19  0.000000  1.000000  1.212985  35  1  1.0\n",
       "2022-03-20  0.166670  0.018105  1.306192  35  2  1.0\n",
       "2022-03-21 -0.164851  0.334454  0.394945  35  3  3.0\n",
       "2022-03-22  0.909042  0.293697  1.415373  35  4  3.0"
      ]
     },
     "execution_count": 47,
     "metadata": {},
     "output_type": "execute_result"
    }
   ],
   "source": [
    "df1.fillna(value=3)"
   ]
  },
  {
   "cell_type": "markdown",
   "metadata": {},
   "source": [
    "To get the boolean mask where values are `nan`."
   ]
  },
  {
   "cell_type": "code",
   "execution_count": 48,
   "metadata": {},
   "outputs": [
    {
     "data": {
      "text/html": [
       "<div>\n",
       "<style scoped>\n",
       "    .dataframe tbody tr th:only-of-type {\n",
       "        vertical-align: middle;\n",
       "    }\n",
       "\n",
       "    .dataframe tbody tr th {\n",
       "        vertical-align: top;\n",
       "    }\n",
       "\n",
       "    .dataframe thead th {\n",
       "        text-align: right;\n",
       "    }\n",
       "</style>\n",
       "<table border=\"1\" class=\"dataframe\">\n",
       "  <thead>\n",
       "    <tr style=\"text-align: right;\">\n",
       "      <th></th>\n",
       "      <th>A</th>\n",
       "      <th>B</th>\n",
       "      <th>C</th>\n",
       "      <th>D</th>\n",
       "      <th>F</th>\n",
       "      <th>E</th>\n",
       "    </tr>\n",
       "  </thead>\n",
       "  <tbody>\n",
       "    <tr>\n",
       "      <th>2022-03-19</th>\n",
       "      <td>False</td>\n",
       "      <td>False</td>\n",
       "      <td>False</td>\n",
       "      <td>False</td>\n",
       "      <td>False</td>\n",
       "      <td>False</td>\n",
       "    </tr>\n",
       "    <tr>\n",
       "      <th>2022-03-20</th>\n",
       "      <td>False</td>\n",
       "      <td>False</td>\n",
       "      <td>False</td>\n",
       "      <td>False</td>\n",
       "      <td>False</td>\n",
       "      <td>False</td>\n",
       "    </tr>\n",
       "    <tr>\n",
       "      <th>2022-03-21</th>\n",
       "      <td>False</td>\n",
       "      <td>False</td>\n",
       "      <td>False</td>\n",
       "      <td>False</td>\n",
       "      <td>False</td>\n",
       "      <td>True</td>\n",
       "    </tr>\n",
       "    <tr>\n",
       "      <th>2022-03-22</th>\n",
       "      <td>False</td>\n",
       "      <td>False</td>\n",
       "      <td>False</td>\n",
       "      <td>False</td>\n",
       "      <td>False</td>\n",
       "      <td>True</td>\n",
       "    </tr>\n",
       "  </tbody>\n",
       "</table>\n",
       "</div>"
      ],
      "text/plain": [
       "                A      B      C      D      F      E\n",
       "2022-03-19  False  False  False  False  False  False\n",
       "2022-03-20  False  False  False  False  False  False\n",
       "2022-03-21  False  False  False  False  False   True\n",
       "2022-03-22  False  False  False  False  False   True"
      ]
     },
     "execution_count": 48,
     "metadata": {},
     "output_type": "execute_result"
    }
   ],
   "source": [
    "pd.isna(df1)"
   ]
  },
  {
   "cell_type": "markdown",
   "metadata": {},
   "source": [
    "## Operations"
   ]
  },
  {
   "cell_type": "markdown",
   "metadata": {},
   "source": [
    "### Stats"
   ]
  },
  {
   "cell_type": "markdown",
   "metadata": {},
   "source": [
    "Operations in general *exclude* missing data.\n",
    "\n",
    "Perform a descriptive statistic."
   ]
  },
  {
   "cell_type": "code",
   "execution_count": 49,
   "metadata": {},
   "outputs": [
    {
     "data": {
      "text/plain": [
       "A     0.014657\n",
       "B     0.249313\n",
       "C     0.460902\n",
       "D    35.000000\n",
       "F     4.000000\n",
       "dtype: float64"
      ]
     },
     "execution_count": 49,
     "metadata": {},
     "output_type": "execute_result"
    }
   ],
   "source": [
    "df.mean()"
   ]
  },
  {
   "cell_type": "markdown",
   "metadata": {},
   "source": [
    "Same operation on the other axis."
   ]
  },
  {
   "cell_type": "code",
   "execution_count": 50,
   "metadata": {},
   "outputs": [
    {
     "data": {
      "text/plain": [
       "2022-03-19    7.642597\n",
       "2022-03-20    7.698193\n",
       "2022-03-21    7.712910\n",
       "2022-03-22    8.323622\n",
       "2022-03-23    8.228889\n",
       "2022-03-24    8.471898\n",
       "2022-03-25    7.536712\n",
       "Freq: D, dtype: float64"
      ]
     },
     "execution_count": 50,
     "metadata": {},
     "output_type": "execute_result"
    }
   ],
   "source": [
    "df.mean(1)"
   ]
  },
  {
   "cell_type": "markdown",
   "metadata": {},
   "source": [
    "Operation with objects that have different dismensionality and need alignment. In addition, `pandas` automatically broadcast along the specified dimension."
   ]
  },
  {
   "cell_type": "code",
   "execution_count": 51,
   "metadata": {},
   "outputs": [
    {
     "data": {
      "text/plain": [
       "2022-03-19    NaN\n",
       "2022-03-20    NaN\n",
       "2022-03-21    1.0\n",
       "2022-03-22    3.0\n",
       "2022-03-23    5.0\n",
       "2022-03-24    NaN\n",
       "2022-03-25    6.0\n",
       "Freq: D, dtype: float64"
      ]
     },
     "execution_count": 51,
     "metadata": {},
     "output_type": "execute_result"
    }
   ],
   "source": [
    "s = pd.Series([1, 3, 5, np.nan, 6, 8, 11], index=dates).shift(2)\n",
    "s"
   ]
  },
  {
   "cell_type": "code",
   "execution_count": 52,
   "metadata": {},
   "outputs": [
    {
     "data": {
      "text/html": [
       "<div>\n",
       "<style scoped>\n",
       "    .dataframe tbody tr th:only-of-type {\n",
       "        vertical-align: middle;\n",
       "    }\n",
       "\n",
       "    .dataframe tbody tr th {\n",
       "        vertical-align: top;\n",
       "    }\n",
       "\n",
       "    .dataframe thead th {\n",
       "        text-align: right;\n",
       "    }\n",
       "</style>\n",
       "<table border=\"1\" class=\"dataframe\">\n",
       "  <thead>\n",
       "    <tr style=\"text-align: right;\">\n",
       "      <th></th>\n",
       "      <th>A</th>\n",
       "      <th>B</th>\n",
       "      <th>C</th>\n",
       "      <th>D</th>\n",
       "      <th>F</th>\n",
       "    </tr>\n",
       "  </thead>\n",
       "  <tbody>\n",
       "    <tr>\n",
       "      <th>2022-03-19</th>\n",
       "      <td>NaN</td>\n",
       "      <td>NaN</td>\n",
       "      <td>NaN</td>\n",
       "      <td>NaN</td>\n",
       "      <td>NaN</td>\n",
       "    </tr>\n",
       "    <tr>\n",
       "      <th>2022-03-20</th>\n",
       "      <td>NaN</td>\n",
       "      <td>NaN</td>\n",
       "      <td>NaN</td>\n",
       "      <td>NaN</td>\n",
       "      <td>NaN</td>\n",
       "    </tr>\n",
       "    <tr>\n",
       "      <th>2022-03-21</th>\n",
       "      <td>-1.164851</td>\n",
       "      <td>-0.665546</td>\n",
       "      <td>-0.605055</td>\n",
       "      <td>34.0</td>\n",
       "      <td>2.0</td>\n",
       "    </tr>\n",
       "    <tr>\n",
       "      <th>2022-03-22</th>\n",
       "      <td>-2.090958</td>\n",
       "      <td>-2.706303</td>\n",
       "      <td>-1.584627</td>\n",
       "      <td>32.0</td>\n",
       "      <td>1.0</td>\n",
       "    </tr>\n",
       "    <tr>\n",
       "      <th>2022-03-23</th>\n",
       "      <td>-5.462119</td>\n",
       "      <td>-4.165298</td>\n",
       "      <td>-4.228136</td>\n",
       "      <td>30.0</td>\n",
       "      <td>0.0</td>\n",
       "    </tr>\n",
       "    <tr>\n",
       "      <th>2022-03-24</th>\n",
       "      <td>NaN</td>\n",
       "      <td>NaN</td>\n",
       "      <td>NaN</td>\n",
       "      <td>NaN</td>\n",
       "      <td>NaN</td>\n",
       "    </tr>\n",
       "    <tr>\n",
       "      <th>2022-03-25</th>\n",
       "      <td>-6.917260</td>\n",
       "      <td>-7.427368</td>\n",
       "      <td>-7.971813</td>\n",
       "      <td>29.0</td>\n",
       "      <td>1.0</td>\n",
       "    </tr>\n",
       "  </tbody>\n",
       "</table>\n",
       "</div>"
      ],
      "text/plain": [
       "                   A         B         C     D    F\n",
       "2022-03-19       NaN       NaN       NaN   NaN  NaN\n",
       "2022-03-20       NaN       NaN       NaN   NaN  NaN\n",
       "2022-03-21 -1.164851 -0.665546 -0.605055  34.0  2.0\n",
       "2022-03-22 -2.090958 -2.706303 -1.584627  32.0  1.0\n",
       "2022-03-23 -5.462119 -4.165298 -4.228136  30.0  0.0\n",
       "2022-03-24       NaN       NaN       NaN   NaN  NaN\n",
       "2022-03-25 -6.917260 -7.427368 -7.971813  29.0  1.0"
      ]
     },
     "execution_count": 52,
     "metadata": {},
     "output_type": "execute_result"
    }
   ],
   "source": [
    "df.sub(s, axis=\"index\")"
   ]
  },
  {
   "cell_type": "markdown",
   "metadata": {},
   "source": [
    "### Apply"
   ]
  },
  {
   "cell_type": "markdown",
   "metadata": {},
   "source": [
    "Applying functions to the data."
   ]
  },
  {
   "cell_type": "code",
   "execution_count": 53,
   "metadata": {},
   "outputs": [
    {
     "data": {
      "text/html": [
       "<div>\n",
       "<style scoped>\n",
       "    .dataframe tbody tr th:only-of-type {\n",
       "        vertical-align: middle;\n",
       "    }\n",
       "\n",
       "    .dataframe tbody tr th {\n",
       "        vertical-align: top;\n",
       "    }\n",
       "\n",
       "    .dataframe thead th {\n",
       "        text-align: right;\n",
       "    }\n",
       "</style>\n",
       "<table border=\"1\" class=\"dataframe\">\n",
       "  <thead>\n",
       "    <tr style=\"text-align: right;\">\n",
       "      <th></th>\n",
       "      <th>A</th>\n",
       "      <th>B</th>\n",
       "      <th>C</th>\n",
       "      <th>D</th>\n",
       "      <th>F</th>\n",
       "    </tr>\n",
       "  </thead>\n",
       "  <tbody>\n",
       "    <tr>\n",
       "      <th>2022-03-19</th>\n",
       "      <td>0.000000</td>\n",
       "      <td>1.000000</td>\n",
       "      <td>1.212985</td>\n",
       "      <td>35</td>\n",
       "      <td>1</td>\n",
       "    </tr>\n",
       "    <tr>\n",
       "      <th>2022-03-20</th>\n",
       "      <td>0.166670</td>\n",
       "      <td>0.018105</td>\n",
       "      <td>1.306192</td>\n",
       "      <td>35</td>\n",
       "      <td>2</td>\n",
       "    </tr>\n",
       "    <tr>\n",
       "      <th>2022-03-21</th>\n",
       "      <td>-0.164851</td>\n",
       "      <td>0.334454</td>\n",
       "      <td>0.394945</td>\n",
       "      <td>35</td>\n",
       "      <td>3</td>\n",
       "    </tr>\n",
       "    <tr>\n",
       "      <th>2022-03-22</th>\n",
       "      <td>0.909042</td>\n",
       "      <td>0.293697</td>\n",
       "      <td>1.415373</td>\n",
       "      <td>35</td>\n",
       "      <td>4</td>\n",
       "    </tr>\n",
       "    <tr>\n",
       "      <th>2022-03-23</th>\n",
       "      <td>-0.462119</td>\n",
       "      <td>0.834702</td>\n",
       "      <td>0.771864</td>\n",
       "      <td>35</td>\n",
       "      <td>5</td>\n",
       "    </tr>\n",
       "    <tr>\n",
       "      <th>2022-03-24</th>\n",
       "      <td>0.571120</td>\n",
       "      <td>0.691602</td>\n",
       "      <td>0.096770</td>\n",
       "      <td>35</td>\n",
       "      <td>6</td>\n",
       "    </tr>\n",
       "    <tr>\n",
       "      <th>2022-03-25</th>\n",
       "      <td>-0.917260</td>\n",
       "      <td>-1.427368</td>\n",
       "      <td>-1.971813</td>\n",
       "      <td>35</td>\n",
       "      <td>7</td>\n",
       "    </tr>\n",
       "  </tbody>\n",
       "</table>\n",
       "</div>"
      ],
      "text/plain": [
       "                   A         B         C   D  F\n",
       "2022-03-19  0.000000  1.000000  1.212985  35  1\n",
       "2022-03-20  0.166670  0.018105  1.306192  35  2\n",
       "2022-03-21 -0.164851  0.334454  0.394945  35  3\n",
       "2022-03-22  0.909042  0.293697  1.415373  35  4\n",
       "2022-03-23 -0.462119  0.834702  0.771864  35  5\n",
       "2022-03-24  0.571120  0.691602  0.096770  35  6\n",
       "2022-03-25 -0.917260 -1.427368 -1.971813  35  7"
      ]
     },
     "execution_count": 53,
     "metadata": {},
     "output_type": "execute_result"
    }
   ],
   "source": [
    "df"
   ]
  },
  {
   "cell_type": "code",
   "execution_count": 54,
   "metadata": {},
   "outputs": [
    {
     "data": {
      "text/html": [
       "<div>\n",
       "<style scoped>\n",
       "    .dataframe tbody tr th:only-of-type {\n",
       "        vertical-align: middle;\n",
       "    }\n",
       "\n",
       "    .dataframe tbody tr th {\n",
       "        vertical-align: top;\n",
       "    }\n",
       "\n",
       "    .dataframe thead th {\n",
       "        text-align: right;\n",
       "    }\n",
       "</style>\n",
       "<table border=\"1\" class=\"dataframe\">\n",
       "  <thead>\n",
       "    <tr style=\"text-align: right;\">\n",
       "      <th></th>\n",
       "      <th>A</th>\n",
       "      <th>B</th>\n",
       "      <th>C</th>\n",
       "      <th>D</th>\n",
       "      <th>F</th>\n",
       "    </tr>\n",
       "  </thead>\n",
       "  <tbody>\n",
       "    <tr>\n",
       "      <th>2022-03-19</th>\n",
       "      <td>0.000000</td>\n",
       "      <td>1.000000</td>\n",
       "      <td>1.212985</td>\n",
       "      <td>35</td>\n",
       "      <td>1</td>\n",
       "    </tr>\n",
       "    <tr>\n",
       "      <th>2022-03-20</th>\n",
       "      <td>0.166670</td>\n",
       "      <td>1.018105</td>\n",
       "      <td>2.519177</td>\n",
       "      <td>70</td>\n",
       "      <td>3</td>\n",
       "    </tr>\n",
       "    <tr>\n",
       "      <th>2022-03-21</th>\n",
       "      <td>0.001819</td>\n",
       "      <td>1.352559</td>\n",
       "      <td>2.914122</td>\n",
       "      <td>105</td>\n",
       "      <td>6</td>\n",
       "    </tr>\n",
       "    <tr>\n",
       "      <th>2022-03-22</th>\n",
       "      <td>0.910861</td>\n",
       "      <td>1.646256</td>\n",
       "      <td>4.329495</td>\n",
       "      <td>140</td>\n",
       "      <td>10</td>\n",
       "    </tr>\n",
       "    <tr>\n",
       "      <th>2022-03-23</th>\n",
       "      <td>0.448742</td>\n",
       "      <td>2.480958</td>\n",
       "      <td>5.101358</td>\n",
       "      <td>175</td>\n",
       "      <td>15</td>\n",
       "    </tr>\n",
       "    <tr>\n",
       "      <th>2022-03-24</th>\n",
       "      <td>1.019861</td>\n",
       "      <td>3.172561</td>\n",
       "      <td>5.198129</td>\n",
       "      <td>210</td>\n",
       "      <td>21</td>\n",
       "    </tr>\n",
       "    <tr>\n",
       "      <th>2022-03-25</th>\n",
       "      <td>0.102601</td>\n",
       "      <td>1.745193</td>\n",
       "      <td>3.226316</td>\n",
       "      <td>245</td>\n",
       "      <td>28</td>\n",
       "    </tr>\n",
       "  </tbody>\n",
       "</table>\n",
       "</div>"
      ],
      "text/plain": [
       "                   A         B         C    D   F\n",
       "2022-03-19  0.000000  1.000000  1.212985   35   1\n",
       "2022-03-20  0.166670  1.018105  2.519177   70   3\n",
       "2022-03-21  0.001819  1.352559  2.914122  105   6\n",
       "2022-03-22  0.910861  1.646256  4.329495  140  10\n",
       "2022-03-23  0.448742  2.480958  5.101358  175  15\n",
       "2022-03-24  1.019861  3.172561  5.198129  210  21\n",
       "2022-03-25  0.102601  1.745193  3.226316  245  28"
      ]
     },
     "execution_count": 54,
     "metadata": {},
     "output_type": "execute_result"
    }
   ],
   "source": [
    "df.apply(np.cumsum)\n",
    "# equivalent to df.apply(np.cumsum, axis=0)"
   ]
  },
  {
   "cell_type": "code",
   "execution_count": 55,
   "metadata": {},
   "outputs": [
    {
     "data": {
      "text/html": [
       "<div>\n",
       "<style scoped>\n",
       "    .dataframe tbody tr th:only-of-type {\n",
       "        vertical-align: middle;\n",
       "    }\n",
       "\n",
       "    .dataframe tbody tr th {\n",
       "        vertical-align: top;\n",
       "    }\n",
       "\n",
       "    .dataframe thead th {\n",
       "        text-align: right;\n",
       "    }\n",
       "</style>\n",
       "<table border=\"1\" class=\"dataframe\">\n",
       "  <thead>\n",
       "    <tr style=\"text-align: right;\">\n",
       "      <th></th>\n",
       "      <th>A</th>\n",
       "      <th>B</th>\n",
       "      <th>C</th>\n",
       "      <th>D</th>\n",
       "      <th>F</th>\n",
       "    </tr>\n",
       "  </thead>\n",
       "  <tbody>\n",
       "    <tr>\n",
       "      <th>2022-03-19</th>\n",
       "      <td>0.000000</td>\n",
       "      <td>1.000000</td>\n",
       "      <td>2.212985</td>\n",
       "      <td>37.212985</td>\n",
       "      <td>38.212985</td>\n",
       "    </tr>\n",
       "    <tr>\n",
       "      <th>2022-03-20</th>\n",
       "      <td>0.166670</td>\n",
       "      <td>0.184775</td>\n",
       "      <td>1.490967</td>\n",
       "      <td>36.490967</td>\n",
       "      <td>38.490967</td>\n",
       "    </tr>\n",
       "    <tr>\n",
       "      <th>2022-03-21</th>\n",
       "      <td>-0.164851</td>\n",
       "      <td>0.169603</td>\n",
       "      <td>0.564548</td>\n",
       "      <td>35.564548</td>\n",
       "      <td>38.564548</td>\n",
       "    </tr>\n",
       "    <tr>\n",
       "      <th>2022-03-22</th>\n",
       "      <td>0.909042</td>\n",
       "      <td>1.202739</td>\n",
       "      <td>2.618112</td>\n",
       "      <td>37.618112</td>\n",
       "      <td>41.618112</td>\n",
       "    </tr>\n",
       "    <tr>\n",
       "      <th>2022-03-23</th>\n",
       "      <td>-0.462119</td>\n",
       "      <td>0.372583</td>\n",
       "      <td>1.144447</td>\n",
       "      <td>36.144447</td>\n",
       "      <td>41.144447</td>\n",
       "    </tr>\n",
       "    <tr>\n",
       "      <th>2022-03-24</th>\n",
       "      <td>0.571120</td>\n",
       "      <td>1.262722</td>\n",
       "      <td>1.359492</td>\n",
       "      <td>36.359492</td>\n",
       "      <td>42.359492</td>\n",
       "    </tr>\n",
       "    <tr>\n",
       "      <th>2022-03-25</th>\n",
       "      <td>-0.917260</td>\n",
       "      <td>-2.344628</td>\n",
       "      <td>-4.316440</td>\n",
       "      <td>30.683560</td>\n",
       "      <td>37.683560</td>\n",
       "    </tr>\n",
       "  </tbody>\n",
       "</table>\n",
       "</div>"
      ],
      "text/plain": [
       "                   A         B         C          D          F\n",
       "2022-03-19  0.000000  1.000000  2.212985  37.212985  38.212985\n",
       "2022-03-20  0.166670  0.184775  1.490967  36.490967  38.490967\n",
       "2022-03-21 -0.164851  0.169603  0.564548  35.564548  38.564548\n",
       "2022-03-22  0.909042  1.202739  2.618112  37.618112  41.618112\n",
       "2022-03-23 -0.462119  0.372583  1.144447  36.144447  41.144447\n",
       "2022-03-24  0.571120  1.262722  1.359492  36.359492  42.359492\n",
       "2022-03-25 -0.917260 -2.344628 -4.316440  30.683560  37.683560"
      ]
     },
     "execution_count": 55,
     "metadata": {},
     "output_type": "execute_result"
    }
   ],
   "source": [
    "df.apply(np.cumsum, axis=1)"
   ]
  },
  {
   "cell_type": "code",
   "execution_count": 56,
   "metadata": {},
   "outputs": [
    {
     "data": {
      "text/plain": [
       "A    1.826302\n",
       "B    2.427368\n",
       "C    3.387186\n",
       "D    0.000000\n",
       "F    6.000000\n",
       "dtype: float64"
      ]
     },
     "execution_count": 56,
     "metadata": {},
     "output_type": "execute_result"
    }
   ],
   "source": [
    "df.apply(lambda x: x.max() - x.min())"
   ]
  },
  {
   "cell_type": "code",
   "execution_count": 57,
   "metadata": {},
   "outputs": [
    {
     "data": {
      "text/plain": [
       "2022-03-19    35.000000\n",
       "2022-03-20    34.981895\n",
       "2022-03-21    35.164851\n",
       "2022-03-22    34.706303\n",
       "2022-03-23    35.462119\n",
       "2022-03-24    34.903230\n",
       "2022-03-25    36.971813\n",
       "Freq: D, dtype: float64"
      ]
     },
     "execution_count": 57,
     "metadata": {},
     "output_type": "execute_result"
    }
   ],
   "source": [
    "df.apply(lambda x: x.max() - x.min(), axis=1)"
   ]
  },
  {
   "cell_type": "markdown",
   "metadata": {},
   "source": [
    "### Histogramming"
   ]
  },
  {
   "cell_type": "code",
   "execution_count": 58,
   "metadata": {},
   "outputs": [
    {
     "data": {
      "text/plain": [
       "0    6\n",
       "1    0\n",
       "2    6\n",
       "3    3\n",
       "4    5\n",
       "5    6\n",
       "6    4\n",
       "7    3\n",
       "8    0\n",
       "9    5\n",
       "dtype: int32"
      ]
     },
     "execution_count": 58,
     "metadata": {},
     "output_type": "execute_result"
    }
   ],
   "source": [
    "s = pd.Series(np.random.randint(0, 7, size=10))\n",
    "s"
   ]
  },
  {
   "cell_type": "code",
   "execution_count": 59,
   "metadata": {},
   "outputs": [
    {
     "data": {
      "text/plain": [
       "6    3\n",
       "0    2\n",
       "3    2\n",
       "5    2\n",
       "4    1\n",
       "dtype: int64"
      ]
     },
     "execution_count": 59,
     "metadata": {},
     "output_type": "execute_result"
    }
   ],
   "source": [
    "s.value_counts()"
   ]
  },
  {
   "cell_type": "markdown",
   "metadata": {},
   "source": [
    "### String methods"
   ]
  },
  {
   "cell_type": "markdown",
   "metadata": {},
   "source": [
    "Series is equipped with a set of string processing methods in the `str` attribute that make it easy to operate on each element of the array, as in the code snippet below. Note that pattern-matching in `str` generally uses **regular expressions** by default (and in some cases always uses them)."
   ]
  },
  {
   "cell_type": "code",
   "execution_count": 60,
   "metadata": {},
   "outputs": [
    {
     "data": {
      "text/plain": [
       "0       A\n",
       "1       B\n",
       "2       C\n",
       "3       D\n",
       "4    Aaba\n",
       "5    Baca\n",
       "6     NaN\n",
       "7    CABA\n",
       "8     dog\n",
       "9     cat\n",
       "dtype: object"
      ]
     },
     "execution_count": 60,
     "metadata": {},
     "output_type": "execute_result"
    }
   ],
   "source": [
    "s = pd.Series([\"A\", \"B\", \"C\", \"D\", \"Aaba\", \"Baca\", np.nan, \"CABA\", \"dog\", \"cat\"])\n",
    "s"
   ]
  },
  {
   "cell_type": "code",
   "execution_count": 61,
   "metadata": {},
   "outputs": [
    {
     "data": {
      "text/plain": [
       "0       a\n",
       "1       b\n",
       "2       c\n",
       "3       d\n",
       "4    aaba\n",
       "5    baca\n",
       "6     NaN\n",
       "7    caba\n",
       "8     dog\n",
       "9     cat\n",
       "dtype: object"
      ]
     },
     "execution_count": 61,
     "metadata": {},
     "output_type": "execute_result"
    }
   ],
   "source": [
    "s.str.lower()"
   ]
  },
  {
   "cell_type": "markdown",
   "metadata": {},
   "source": [
    "### Merge"
   ]
  },
  {
   "cell_type": "markdown",
   "metadata": {},
   "source": [
    "#### Concat"
   ]
  },
  {
   "cell_type": "markdown",
   "metadata": {},
   "source": [
    "`Pandas` provides various facilities for easily combining together `Series` and `DataFrame` objects with various kinds of set logic for the indexes and relational algebra functionality in the case of join/merge-type operations.\n",
    "\n",
    "Concatenating pandas objects together with `concat()`."
   ]
  },
  {
   "cell_type": "code",
   "execution_count": 62,
   "metadata": {},
   "outputs": [
    {
     "data": {
      "text/html": [
       "<div>\n",
       "<style scoped>\n",
       "    .dataframe tbody tr th:only-of-type {\n",
       "        vertical-align: middle;\n",
       "    }\n",
       "\n",
       "    .dataframe tbody tr th {\n",
       "        vertical-align: top;\n",
       "    }\n",
       "\n",
       "    .dataframe thead th {\n",
       "        text-align: right;\n",
       "    }\n",
       "</style>\n",
       "<table border=\"1\" class=\"dataframe\">\n",
       "  <thead>\n",
       "    <tr style=\"text-align: right;\">\n",
       "      <th></th>\n",
       "      <th>0</th>\n",
       "      <th>1</th>\n",
       "      <th>2</th>\n",
       "      <th>3</th>\n",
       "    </tr>\n",
       "  </thead>\n",
       "  <tbody>\n",
       "    <tr>\n",
       "      <th>0</th>\n",
       "      <td>-0.005405</td>\n",
       "      <td>-1.219622</td>\n",
       "      <td>-0.324920</td>\n",
       "      <td>-1.542373</td>\n",
       "    </tr>\n",
       "    <tr>\n",
       "      <th>1</th>\n",
       "      <td>0.707285</td>\n",
       "      <td>-1.314311</td>\n",
       "      <td>-1.020257</td>\n",
       "      <td>-0.642121</td>\n",
       "    </tr>\n",
       "    <tr>\n",
       "      <th>2</th>\n",
       "      <td>-0.739310</td>\n",
       "      <td>0.581724</td>\n",
       "      <td>0.709825</td>\n",
       "      <td>-0.072327</td>\n",
       "    </tr>\n",
       "    <tr>\n",
       "      <th>3</th>\n",
       "      <td>-0.343974</td>\n",
       "      <td>0.713255</td>\n",
       "      <td>-0.021921</td>\n",
       "      <td>-0.412159</td>\n",
       "    </tr>\n",
       "    <tr>\n",
       "      <th>4</th>\n",
       "      <td>0.455144</td>\n",
       "      <td>-0.138739</td>\n",
       "      <td>0.453036</td>\n",
       "      <td>0.841025</td>\n",
       "    </tr>\n",
       "    <tr>\n",
       "      <th>5</th>\n",
       "      <td>0.651861</td>\n",
       "      <td>0.884675</td>\n",
       "      <td>0.373022</td>\n",
       "      <td>-0.772498</td>\n",
       "    </tr>\n",
       "    <tr>\n",
       "      <th>6</th>\n",
       "      <td>-0.777220</td>\n",
       "      <td>-1.667503</td>\n",
       "      <td>-0.743999</td>\n",
       "      <td>0.375028</td>\n",
       "    </tr>\n",
       "    <tr>\n",
       "      <th>7</th>\n",
       "      <td>-1.079072</td>\n",
       "      <td>-1.296217</td>\n",
       "      <td>0.483860</td>\n",
       "      <td>-1.100075</td>\n",
       "    </tr>\n",
       "    <tr>\n",
       "      <th>8</th>\n",
       "      <td>0.966096</td>\n",
       "      <td>-0.929094</td>\n",
       "      <td>0.830425</td>\n",
       "      <td>0.028266</td>\n",
       "    </tr>\n",
       "    <tr>\n",
       "      <th>9</th>\n",
       "      <td>2.651731</td>\n",
       "      <td>0.364438</td>\n",
       "      <td>-0.354155</td>\n",
       "      <td>0.664226</td>\n",
       "    </tr>\n",
       "  </tbody>\n",
       "</table>\n",
       "</div>"
      ],
      "text/plain": [
       "          0         1         2         3\n",
       "0 -0.005405 -1.219622 -0.324920 -1.542373\n",
       "1  0.707285 -1.314311 -1.020257 -0.642121\n",
       "2 -0.739310  0.581724  0.709825 -0.072327\n",
       "3 -0.343974  0.713255 -0.021921 -0.412159\n",
       "4  0.455144 -0.138739  0.453036  0.841025\n",
       "5  0.651861  0.884675  0.373022 -0.772498\n",
       "6 -0.777220 -1.667503 -0.743999  0.375028\n",
       "7 -1.079072 -1.296217  0.483860 -1.100075\n",
       "8  0.966096 -0.929094  0.830425  0.028266\n",
       "9  2.651731  0.364438 -0.354155  0.664226"
      ]
     },
     "execution_count": 62,
     "metadata": {},
     "output_type": "execute_result"
    }
   ],
   "source": [
    "df = pd.DataFrame(np.random.randn(10, 4))\n",
    "df"
   ]
  },
  {
   "cell_type": "code",
   "execution_count": 63,
   "metadata": {},
   "outputs": [
    {
     "data": {
      "text/plain": [
       "[          0         1         2         3\n",
       " 0 -0.005405 -1.219622 -0.324920 -1.542373\n",
       " 1  0.707285 -1.314311 -1.020257 -0.642121\n",
       " 2 -0.739310  0.581724  0.709825 -0.072327,\n",
       "           0         1         2         3\n",
       " 3 -0.343974  0.713255 -0.021921 -0.412159\n",
       " 4  0.455144 -0.138739  0.453036  0.841025\n",
       " 5  0.651861  0.884675  0.373022 -0.772498\n",
       " 6 -0.777220 -1.667503 -0.743999  0.375028,\n",
       "           0         1         2         3\n",
       " 7 -1.079072 -1.296217  0.483860 -1.100075\n",
       " 8  0.966096 -0.929094  0.830425  0.028266\n",
       " 9  2.651731  0.364438 -0.354155  0.664226]"
      ]
     },
     "execution_count": 63,
     "metadata": {},
     "output_type": "execute_result"
    }
   ],
   "source": [
    "# break it into pieces\n",
    "pieces = [df[:3], df[3:7], df[7:]]\n",
    "pieces"
   ]
  },
  {
   "cell_type": "code",
   "execution_count": 64,
   "metadata": {},
   "outputs": [
    {
     "data": {
      "text/html": [
       "<div>\n",
       "<style scoped>\n",
       "    .dataframe tbody tr th:only-of-type {\n",
       "        vertical-align: middle;\n",
       "    }\n",
       "\n",
       "    .dataframe tbody tr th {\n",
       "        vertical-align: top;\n",
       "    }\n",
       "\n",
       "    .dataframe thead th {\n",
       "        text-align: right;\n",
       "    }\n",
       "</style>\n",
       "<table border=\"1\" class=\"dataframe\">\n",
       "  <thead>\n",
       "    <tr style=\"text-align: right;\">\n",
       "      <th></th>\n",
       "      <th>0</th>\n",
       "      <th>1</th>\n",
       "      <th>2</th>\n",
       "      <th>3</th>\n",
       "    </tr>\n",
       "  </thead>\n",
       "  <tbody>\n",
       "    <tr>\n",
       "      <th>0</th>\n",
       "      <td>-0.005405</td>\n",
       "      <td>-1.219622</td>\n",
       "      <td>-0.324920</td>\n",
       "      <td>-1.542373</td>\n",
       "    </tr>\n",
       "    <tr>\n",
       "      <th>1</th>\n",
       "      <td>0.707285</td>\n",
       "      <td>-1.314311</td>\n",
       "      <td>-1.020257</td>\n",
       "      <td>-0.642121</td>\n",
       "    </tr>\n",
       "    <tr>\n",
       "      <th>2</th>\n",
       "      <td>-0.739310</td>\n",
       "      <td>0.581724</td>\n",
       "      <td>0.709825</td>\n",
       "      <td>-0.072327</td>\n",
       "    </tr>\n",
       "    <tr>\n",
       "      <th>3</th>\n",
       "      <td>-0.343974</td>\n",
       "      <td>0.713255</td>\n",
       "      <td>-0.021921</td>\n",
       "      <td>-0.412159</td>\n",
       "    </tr>\n",
       "    <tr>\n",
       "      <th>4</th>\n",
       "      <td>0.455144</td>\n",
       "      <td>-0.138739</td>\n",
       "      <td>0.453036</td>\n",
       "      <td>0.841025</td>\n",
       "    </tr>\n",
       "    <tr>\n",
       "      <th>5</th>\n",
       "      <td>0.651861</td>\n",
       "      <td>0.884675</td>\n",
       "      <td>0.373022</td>\n",
       "      <td>-0.772498</td>\n",
       "    </tr>\n",
       "    <tr>\n",
       "      <th>6</th>\n",
       "      <td>-0.777220</td>\n",
       "      <td>-1.667503</td>\n",
       "      <td>-0.743999</td>\n",
       "      <td>0.375028</td>\n",
       "    </tr>\n",
       "    <tr>\n",
       "      <th>7</th>\n",
       "      <td>-1.079072</td>\n",
       "      <td>-1.296217</td>\n",
       "      <td>0.483860</td>\n",
       "      <td>-1.100075</td>\n",
       "    </tr>\n",
       "    <tr>\n",
       "      <th>8</th>\n",
       "      <td>0.966096</td>\n",
       "      <td>-0.929094</td>\n",
       "      <td>0.830425</td>\n",
       "      <td>0.028266</td>\n",
       "    </tr>\n",
       "    <tr>\n",
       "      <th>9</th>\n",
       "      <td>2.651731</td>\n",
       "      <td>0.364438</td>\n",
       "      <td>-0.354155</td>\n",
       "      <td>0.664226</td>\n",
       "    </tr>\n",
       "  </tbody>\n",
       "</table>\n",
       "</div>"
      ],
      "text/plain": [
       "          0         1         2         3\n",
       "0 -0.005405 -1.219622 -0.324920 -1.542373\n",
       "1  0.707285 -1.314311 -1.020257 -0.642121\n",
       "2 -0.739310  0.581724  0.709825 -0.072327\n",
       "3 -0.343974  0.713255 -0.021921 -0.412159\n",
       "4  0.455144 -0.138739  0.453036  0.841025\n",
       "5  0.651861  0.884675  0.373022 -0.772498\n",
       "6 -0.777220 -1.667503 -0.743999  0.375028\n",
       "7 -1.079072 -1.296217  0.483860 -1.100075\n",
       "8  0.966096 -0.929094  0.830425  0.028266\n",
       "9  2.651731  0.364438 -0.354155  0.664226"
      ]
     },
     "execution_count": 64,
     "metadata": {},
     "output_type": "execute_result"
    }
   ],
   "source": [
    "pd.concat(pieces)"
   ]
  },
  {
   "cell_type": "markdown",
   "metadata": {},
   "source": [
    "> Adding a column to a `DataFrame` is relatively fast. However, adding a row requires a copy, and may be expensive. I recommend passing a pre-built list of records to the `DataFrame` constructor instead of building a `DataFrame` by iteratively appending records to it."
   ]
  },
  {
   "cell_type": "markdown",
   "metadata": {},
   "source": [
    "### Join"
   ]
  },
  {
   "cell_type": "markdown",
   "metadata": {},
   "source": [
    "SQL style merges."
   ]
  },
  {
   "cell_type": "code",
   "execution_count": 65,
   "metadata": {},
   "outputs": [],
   "source": [
    "left = pd.DataFrame(\n",
    "    {\n",
    "        \"keys\": [\"foo\", \"bar\"],\n",
    "        \"lval\": [1, 2]\n",
    "    }\n",
    ")\n",
    "right = pd.DataFrame(\n",
    "    {\n",
    "        \"keys\": [\"foo\", \"bar\"],\n",
    "        \"rval\": [4, 5]\n",
    "    }\n",
    ")"
   ]
  },
  {
   "cell_type": "code",
   "execution_count": 66,
   "metadata": {},
   "outputs": [
    {
     "data": {
      "text/html": [
       "<div>\n",
       "<style scoped>\n",
       "    .dataframe tbody tr th:only-of-type {\n",
       "        vertical-align: middle;\n",
       "    }\n",
       "\n",
       "    .dataframe tbody tr th {\n",
       "        vertical-align: top;\n",
       "    }\n",
       "\n",
       "    .dataframe thead th {\n",
       "        text-align: right;\n",
       "    }\n",
       "</style>\n",
       "<table border=\"1\" class=\"dataframe\">\n",
       "  <thead>\n",
       "    <tr style=\"text-align: right;\">\n",
       "      <th></th>\n",
       "      <th>keys</th>\n",
       "      <th>lval</th>\n",
       "    </tr>\n",
       "  </thead>\n",
       "  <tbody>\n",
       "    <tr>\n",
       "      <th>0</th>\n",
       "      <td>foo</td>\n",
       "      <td>1</td>\n",
       "    </tr>\n",
       "    <tr>\n",
       "      <th>1</th>\n",
       "      <td>bar</td>\n",
       "      <td>2</td>\n",
       "    </tr>\n",
       "  </tbody>\n",
       "</table>\n",
       "</div>"
      ],
      "text/plain": [
       "  keys  lval\n",
       "0  foo     1\n",
       "1  bar     2"
      ]
     },
     "execution_count": 66,
     "metadata": {},
     "output_type": "execute_result"
    }
   ],
   "source": [
    "left"
   ]
  },
  {
   "cell_type": "code",
   "execution_count": 67,
   "metadata": {},
   "outputs": [
    {
     "data": {
      "text/html": [
       "<div>\n",
       "<style scoped>\n",
       "    .dataframe tbody tr th:only-of-type {\n",
       "        vertical-align: middle;\n",
       "    }\n",
       "\n",
       "    .dataframe tbody tr th {\n",
       "        vertical-align: top;\n",
       "    }\n",
       "\n",
       "    .dataframe thead th {\n",
       "        text-align: right;\n",
       "    }\n",
       "</style>\n",
       "<table border=\"1\" class=\"dataframe\">\n",
       "  <thead>\n",
       "    <tr style=\"text-align: right;\">\n",
       "      <th></th>\n",
       "      <th>keys</th>\n",
       "      <th>rval</th>\n",
       "    </tr>\n",
       "  </thead>\n",
       "  <tbody>\n",
       "    <tr>\n",
       "      <th>0</th>\n",
       "      <td>foo</td>\n",
       "      <td>4</td>\n",
       "    </tr>\n",
       "    <tr>\n",
       "      <th>1</th>\n",
       "      <td>bar</td>\n",
       "      <td>5</td>\n",
       "    </tr>\n",
       "  </tbody>\n",
       "</table>\n",
       "</div>"
      ],
      "text/plain": [
       "  keys  rval\n",
       "0  foo     4\n",
       "1  bar     5"
      ]
     },
     "execution_count": 67,
     "metadata": {},
     "output_type": "execute_result"
    }
   ],
   "source": [
    "right"
   ]
  },
  {
   "cell_type": "code",
   "execution_count": 68,
   "metadata": {},
   "outputs": [
    {
     "data": {
      "text/html": [
       "<div>\n",
       "<style scoped>\n",
       "    .dataframe tbody tr th:only-of-type {\n",
       "        vertical-align: middle;\n",
       "    }\n",
       "\n",
       "    .dataframe tbody tr th {\n",
       "        vertical-align: top;\n",
       "    }\n",
       "\n",
       "    .dataframe thead th {\n",
       "        text-align: right;\n",
       "    }\n",
       "</style>\n",
       "<table border=\"1\" class=\"dataframe\">\n",
       "  <thead>\n",
       "    <tr style=\"text-align: right;\">\n",
       "      <th></th>\n",
       "      <th>keys</th>\n",
       "      <th>lval</th>\n",
       "      <th>rval</th>\n",
       "    </tr>\n",
       "  </thead>\n",
       "  <tbody>\n",
       "    <tr>\n",
       "      <th>0</th>\n",
       "      <td>foo</td>\n",
       "      <td>1</td>\n",
       "      <td>4</td>\n",
       "    </tr>\n",
       "    <tr>\n",
       "      <th>1</th>\n",
       "      <td>bar</td>\n",
       "      <td>2</td>\n",
       "      <td>5</td>\n",
       "    </tr>\n",
       "  </tbody>\n",
       "</table>\n",
       "</div>"
      ],
      "text/plain": [
       "  keys  lval  rval\n",
       "0  foo     1     4\n",
       "1  bar     2     5"
      ]
     },
     "execution_count": 68,
     "metadata": {},
     "output_type": "execute_result"
    }
   ],
   "source": [
    "pd.merge(left, right, on=\"keys\")"
   ]
  },
  {
   "cell_type": "markdown",
   "metadata": {},
   "source": [
    "## Grouping"
   ]
  },
  {
   "cell_type": "markdown",
   "metadata": {},
   "source": [
    "By \"grouping\" we are refering to a process involving one ore more of the following steps:\n",
    "\n",
    "- **Splitting** the data into groups based on some criteria.\n",
    "- **Applying** a function to each group independently\n",
    "- **Combining** the results into a data structure"
   ]
  },
  {
   "cell_type": "code",
   "execution_count": 69,
   "metadata": {},
   "outputs": [
    {
     "data": {
      "text/html": [
       "<div>\n",
       "<style scoped>\n",
       "    .dataframe tbody tr th:only-of-type {\n",
       "        vertical-align: middle;\n",
       "    }\n",
       "\n",
       "    .dataframe tbody tr th {\n",
       "        vertical-align: top;\n",
       "    }\n",
       "\n",
       "    .dataframe thead th {\n",
       "        text-align: right;\n",
       "    }\n",
       "</style>\n",
       "<table border=\"1\" class=\"dataframe\">\n",
       "  <thead>\n",
       "    <tr style=\"text-align: right;\">\n",
       "      <th></th>\n",
       "      <th>A</th>\n",
       "      <th>B</th>\n",
       "      <th>C</th>\n",
       "      <th>D</th>\n",
       "    </tr>\n",
       "  </thead>\n",
       "  <tbody>\n",
       "    <tr>\n",
       "      <th>0</th>\n",
       "      <td>foo</td>\n",
       "      <td>one</td>\n",
       "      <td>-2.009680</td>\n",
       "      <td>0.189306</td>\n",
       "    </tr>\n",
       "    <tr>\n",
       "      <th>1</th>\n",
       "      <td>bar</td>\n",
       "      <td>one</td>\n",
       "      <td>-0.235263</td>\n",
       "      <td>-1.464321</td>\n",
       "    </tr>\n",
       "    <tr>\n",
       "      <th>2</th>\n",
       "      <td>foo</td>\n",
       "      <td>two</td>\n",
       "      <td>-0.683885</td>\n",
       "      <td>0.572836</td>\n",
       "    </tr>\n",
       "    <tr>\n",
       "      <th>3</th>\n",
       "      <td>bar</td>\n",
       "      <td>three</td>\n",
       "      <td>0.402889</td>\n",
       "      <td>0.559370</td>\n",
       "    </tr>\n",
       "    <tr>\n",
       "      <th>4</th>\n",
       "      <td>foo</td>\n",
       "      <td>two</td>\n",
       "      <td>0.680063</td>\n",
       "      <td>-0.781188</td>\n",
       "    </tr>\n",
       "    <tr>\n",
       "      <th>5</th>\n",
       "      <td>bar</td>\n",
       "      <td>two</td>\n",
       "      <td>-0.049599</td>\n",
       "      <td>-0.725908</td>\n",
       "    </tr>\n",
       "    <tr>\n",
       "      <th>6</th>\n",
       "      <td>foo</td>\n",
       "      <td>one</td>\n",
       "      <td>0.107169</td>\n",
       "      <td>-0.750656</td>\n",
       "    </tr>\n",
       "    <tr>\n",
       "      <th>7</th>\n",
       "      <td>foo</td>\n",
       "      <td>three</td>\n",
       "      <td>-0.331890</td>\n",
       "      <td>-0.345118</td>\n",
       "    </tr>\n",
       "  </tbody>\n",
       "</table>\n",
       "</div>"
      ],
      "text/plain": [
       "     A      B         C         D\n",
       "0  foo    one -2.009680  0.189306\n",
       "1  bar    one -0.235263 -1.464321\n",
       "2  foo    two -0.683885  0.572836\n",
       "3  bar  three  0.402889  0.559370\n",
       "4  foo    two  0.680063 -0.781188\n",
       "5  bar    two -0.049599 -0.725908\n",
       "6  foo    one  0.107169 -0.750656\n",
       "7  foo  three -0.331890 -0.345118"
      ]
     },
     "execution_count": 69,
     "metadata": {},
     "output_type": "execute_result"
    }
   ],
   "source": [
    "df = pd.DataFrame(\n",
    "    {\n",
    "        \"A\": [\"foo\", \"bar\", \"foo\", \"bar\", \"foo\", \"bar\", \"foo\", \"foo\"],\n",
    "        \"B\": [\"one\", \"one\", \"two\", \"three\", \"two\", \"two\", \"one\", \"three\"],\n",
    "        \"C\": np.random.randn(8),\n",
    "        \"D\": np.random.randn(8),\n",
    "    }\n",
    ")\n",
    "df"
   ]
  },
  {
   "cell_type": "markdown",
   "metadata": {},
   "source": [
    "Grouping and then applying the `sum()` function to the resulting group."
   ]
  },
  {
   "cell_type": "code",
   "execution_count": 70,
   "metadata": {},
   "outputs": [
    {
     "data": {
      "text/html": [
       "<div>\n",
       "<style scoped>\n",
       "    .dataframe tbody tr th:only-of-type {\n",
       "        vertical-align: middle;\n",
       "    }\n",
       "\n",
       "    .dataframe tbody tr th {\n",
       "        vertical-align: top;\n",
       "    }\n",
       "\n",
       "    .dataframe thead th {\n",
       "        text-align: right;\n",
       "    }\n",
       "</style>\n",
       "<table border=\"1\" class=\"dataframe\">\n",
       "  <thead>\n",
       "    <tr style=\"text-align: right;\">\n",
       "      <th></th>\n",
       "      <th>C</th>\n",
       "      <th>D</th>\n",
       "    </tr>\n",
       "    <tr>\n",
       "      <th>A</th>\n",
       "      <th></th>\n",
       "      <th></th>\n",
       "    </tr>\n",
       "  </thead>\n",
       "  <tbody>\n",
       "    <tr>\n",
       "      <th>bar</th>\n",
       "      <td>0.118026</td>\n",
       "      <td>-1.630859</td>\n",
       "    </tr>\n",
       "    <tr>\n",
       "      <th>foo</th>\n",
       "      <td>-2.238222</td>\n",
       "      <td>-1.114820</td>\n",
       "    </tr>\n",
       "  </tbody>\n",
       "</table>\n",
       "</div>"
      ],
      "text/plain": [
       "            C         D\n",
       "A                      \n",
       "bar  0.118026 -1.630859\n",
       "foo -2.238222 -1.114820"
      ]
     },
     "execution_count": 70,
     "metadata": {},
     "output_type": "execute_result"
    }
   ],
   "source": [
    "df.groupby(\"A\").sum()"
   ]
  },
  {
   "cell_type": "markdown",
   "metadata": {},
   "source": [
    "Grouping by multiple columns forms a hierarchical index, and again we can apply the `sum()` function."
   ]
  },
  {
   "cell_type": "code",
   "execution_count": 71,
   "metadata": {},
   "outputs": [
    {
     "data": {
      "text/html": [
       "<div>\n",
       "<style scoped>\n",
       "    .dataframe tbody tr th:only-of-type {\n",
       "        vertical-align: middle;\n",
       "    }\n",
       "\n",
       "    .dataframe tbody tr th {\n",
       "        vertical-align: top;\n",
       "    }\n",
       "\n",
       "    .dataframe thead th {\n",
       "        text-align: right;\n",
       "    }\n",
       "</style>\n",
       "<table border=\"1\" class=\"dataframe\">\n",
       "  <thead>\n",
       "    <tr style=\"text-align: right;\">\n",
       "      <th></th>\n",
       "      <th></th>\n",
       "      <th>C</th>\n",
       "      <th>D</th>\n",
       "    </tr>\n",
       "    <tr>\n",
       "      <th>A</th>\n",
       "      <th>B</th>\n",
       "      <th></th>\n",
       "      <th></th>\n",
       "    </tr>\n",
       "  </thead>\n",
       "  <tbody>\n",
       "    <tr>\n",
       "      <th rowspan=\"3\" valign=\"top\">bar</th>\n",
       "      <th>one</th>\n",
       "      <td>-0.235263</td>\n",
       "      <td>-1.464321</td>\n",
       "    </tr>\n",
       "    <tr>\n",
       "      <th>three</th>\n",
       "      <td>0.402889</td>\n",
       "      <td>0.559370</td>\n",
       "    </tr>\n",
       "    <tr>\n",
       "      <th>two</th>\n",
       "      <td>-0.049599</td>\n",
       "      <td>-0.725908</td>\n",
       "    </tr>\n",
       "    <tr>\n",
       "      <th rowspan=\"3\" valign=\"top\">foo</th>\n",
       "      <th>one</th>\n",
       "      <td>-1.902510</td>\n",
       "      <td>-0.561350</td>\n",
       "    </tr>\n",
       "    <tr>\n",
       "      <th>three</th>\n",
       "      <td>-0.331890</td>\n",
       "      <td>-0.345118</td>\n",
       "    </tr>\n",
       "    <tr>\n",
       "      <th>two</th>\n",
       "      <td>-0.003822</td>\n",
       "      <td>-0.208352</td>\n",
       "    </tr>\n",
       "  </tbody>\n",
       "</table>\n",
       "</div>"
      ],
      "text/plain": [
       "                  C         D\n",
       "A   B                        \n",
       "bar one   -0.235263 -1.464321\n",
       "    three  0.402889  0.559370\n",
       "    two   -0.049599 -0.725908\n",
       "foo one   -1.902510 -0.561350\n",
       "    three -0.331890 -0.345118\n",
       "    two   -0.003822 -0.208352"
      ]
     },
     "execution_count": 71,
     "metadata": {},
     "output_type": "execute_result"
    }
   ],
   "source": [
    "df.groupby([\"A\", \"B\"]).sum()"
   ]
  },
  {
   "cell_type": "markdown",
   "metadata": {},
   "source": [
    "## Reshaping"
   ]
  },
  {
   "cell_type": "markdown",
   "metadata": {},
   "source": [
    "### Stack"
   ]
  },
  {
   "cell_type": "code",
   "execution_count": 72,
   "metadata": {},
   "outputs": [
    {
     "data": {
      "text/html": [
       "<div>\n",
       "<style scoped>\n",
       "    .dataframe tbody tr th:only-of-type {\n",
       "        vertical-align: middle;\n",
       "    }\n",
       "\n",
       "    .dataframe tbody tr th {\n",
       "        vertical-align: top;\n",
       "    }\n",
       "\n",
       "    .dataframe thead th {\n",
       "        text-align: right;\n",
       "    }\n",
       "</style>\n",
       "<table border=\"1\" class=\"dataframe\">\n",
       "  <thead>\n",
       "    <tr style=\"text-align: right;\">\n",
       "      <th></th>\n",
       "      <th></th>\n",
       "      <th>A</th>\n",
       "      <th>B</th>\n",
       "    </tr>\n",
       "    <tr>\n",
       "      <th>first</th>\n",
       "      <th>second</th>\n",
       "      <th></th>\n",
       "      <th></th>\n",
       "    </tr>\n",
       "  </thead>\n",
       "  <tbody>\n",
       "    <tr>\n",
       "      <th rowspan=\"2\" valign=\"top\">bar</th>\n",
       "      <th>one</th>\n",
       "      <td>-0.162413</td>\n",
       "      <td>1.840469</td>\n",
       "    </tr>\n",
       "    <tr>\n",
       "      <th>two</th>\n",
       "      <td>0.050449</td>\n",
       "      <td>-0.079239</td>\n",
       "    </tr>\n",
       "    <tr>\n",
       "      <th rowspan=\"2\" valign=\"top\">baz</th>\n",
       "      <th>one</th>\n",
       "      <td>2.097976</td>\n",
       "      <td>-0.305909</td>\n",
       "    </tr>\n",
       "    <tr>\n",
       "      <th>two</th>\n",
       "      <td>-0.502096</td>\n",
       "      <td>2.123931</td>\n",
       "    </tr>\n",
       "    <tr>\n",
       "      <th rowspan=\"2\" valign=\"top\">foo</th>\n",
       "      <th>one</th>\n",
       "      <td>-0.933949</td>\n",
       "      <td>0.387143</td>\n",
       "    </tr>\n",
       "    <tr>\n",
       "      <th>two</th>\n",
       "      <td>-0.814975</td>\n",
       "      <td>-2.012575</td>\n",
       "    </tr>\n",
       "    <tr>\n",
       "      <th rowspan=\"2\" valign=\"top\">qux</th>\n",
       "      <th>one</th>\n",
       "      <td>-0.791945</td>\n",
       "      <td>1.002989</td>\n",
       "    </tr>\n",
       "    <tr>\n",
       "      <th>two</th>\n",
       "      <td>-2.013058</td>\n",
       "      <td>0.413136</td>\n",
       "    </tr>\n",
       "  </tbody>\n",
       "</table>\n",
       "</div>"
      ],
      "text/plain": [
       "                     A         B\n",
       "first second                    \n",
       "bar   one    -0.162413  1.840469\n",
       "      two     0.050449 -0.079239\n",
       "baz   one     2.097976 -0.305909\n",
       "      two    -0.502096  2.123931\n",
       "foo   one    -0.933949  0.387143\n",
       "      two    -0.814975 -2.012575\n",
       "qux   one    -0.791945  1.002989\n",
       "      two    -2.013058  0.413136"
      ]
     },
     "execution_count": 72,
     "metadata": {},
     "output_type": "execute_result"
    }
   ],
   "source": [
    "tuples = list(\n",
    "    zip(\n",
    "        *[\n",
    "            [\"bar\", \"bar\", \"baz\", \"baz\", \"foo\", \"foo\", \"qux\", \"qux\"],\n",
    "            [\"one\", \"two\", \"one\", \"two\", \"one\", \"two\", \"one\", \"two\"],\n",
    "        ]\n",
    "    )\n",
    ")\n",
    "index = pd.MultiIndex.from_tuples(tuples, names=[\"first\", \"second\"])\n",
    "df = pd.DataFrame(np.random.randn(8, 2), index=index, columns=[\"A\", \"B\"])\n",
    "df"
   ]
  },
  {
   "cell_type": "markdown",
   "metadata": {},
   "source": [
    "The `stack()` method \"compress\" a level in the **DataFrame's** columns."
   ]
  },
  {
   "cell_type": "code",
   "execution_count": 73,
   "metadata": {},
   "outputs": [
    {
     "data": {
      "text/html": [
       "<div>\n",
       "<style scoped>\n",
       "    .dataframe tbody tr th:only-of-type {\n",
       "        vertical-align: middle;\n",
       "    }\n",
       "\n",
       "    .dataframe tbody tr th {\n",
       "        vertical-align: top;\n",
       "    }\n",
       "\n",
       "    .dataframe thead th {\n",
       "        text-align: right;\n",
       "    }\n",
       "</style>\n",
       "<table border=\"1\" class=\"dataframe\">\n",
       "  <thead>\n",
       "    <tr style=\"text-align: right;\">\n",
       "      <th></th>\n",
       "      <th></th>\n",
       "      <th>A</th>\n",
       "      <th>B</th>\n",
       "    </tr>\n",
       "    <tr>\n",
       "      <th>first</th>\n",
       "      <th>second</th>\n",
       "      <th></th>\n",
       "      <th></th>\n",
       "    </tr>\n",
       "  </thead>\n",
       "  <tbody>\n",
       "    <tr>\n",
       "      <th rowspan=\"2\" valign=\"top\">bar</th>\n",
       "      <th>one</th>\n",
       "      <td>-0.162413</td>\n",
       "      <td>1.840469</td>\n",
       "    </tr>\n",
       "    <tr>\n",
       "      <th>two</th>\n",
       "      <td>0.050449</td>\n",
       "      <td>-0.079239</td>\n",
       "    </tr>\n",
       "    <tr>\n",
       "      <th rowspan=\"2\" valign=\"top\">baz</th>\n",
       "      <th>one</th>\n",
       "      <td>2.097976</td>\n",
       "      <td>-0.305909</td>\n",
       "    </tr>\n",
       "    <tr>\n",
       "      <th>two</th>\n",
       "      <td>-0.502096</td>\n",
       "      <td>2.123931</td>\n",
       "    </tr>\n",
       "  </tbody>\n",
       "</table>\n",
       "</div>"
      ],
      "text/plain": [
       "                     A         B\n",
       "first second                    \n",
       "bar   one    -0.162413  1.840469\n",
       "      two     0.050449 -0.079239\n",
       "baz   one     2.097976 -0.305909\n",
       "      two    -0.502096  2.123931"
      ]
     },
     "execution_count": 73,
     "metadata": {},
     "output_type": "execute_result"
    }
   ],
   "source": [
    "df2 = df[:4]\n",
    "df2"
   ]
  },
  {
   "cell_type": "code",
   "execution_count": 74,
   "metadata": {},
   "outputs": [
    {
     "data": {
      "text/plain": [
       "first  second   \n",
       "bar    one     A   -0.162413\n",
       "               B    1.840469\n",
       "       two     A    0.050449\n",
       "               B   -0.079239\n",
       "baz    one     A    2.097976\n",
       "               B   -0.305909\n",
       "       two     A   -0.502096\n",
       "               B    2.123931\n",
       "dtype: float64"
      ]
     },
     "execution_count": 74,
     "metadata": {},
     "output_type": "execute_result"
    }
   ],
   "source": [
    "stacked = df2.stack()\n",
    "stacked"
   ]
  },
  {
   "cell_type": "markdown",
   "metadata": {},
   "source": [
    "With a \"stacked\" DataFrame or Series (having a `MultiIndex` as the `Index`), the inverse operation of `stack()` is `unstack()`, which by default unstacks the **last level**."
   ]
  },
  {
   "cell_type": "code",
   "execution_count": 75,
   "metadata": {},
   "outputs": [
    {
     "data": {
      "text/html": [
       "<div>\n",
       "<style scoped>\n",
       "    .dataframe tbody tr th:only-of-type {\n",
       "        vertical-align: middle;\n",
       "    }\n",
       "\n",
       "    .dataframe tbody tr th {\n",
       "        vertical-align: top;\n",
       "    }\n",
       "\n",
       "    .dataframe thead th {\n",
       "        text-align: right;\n",
       "    }\n",
       "</style>\n",
       "<table border=\"1\" class=\"dataframe\">\n",
       "  <thead>\n",
       "    <tr style=\"text-align: right;\">\n",
       "      <th></th>\n",
       "      <th></th>\n",
       "      <th>A</th>\n",
       "      <th>B</th>\n",
       "    </tr>\n",
       "    <tr>\n",
       "      <th>first</th>\n",
       "      <th>second</th>\n",
       "      <th></th>\n",
       "      <th></th>\n",
       "    </tr>\n",
       "  </thead>\n",
       "  <tbody>\n",
       "    <tr>\n",
       "      <th rowspan=\"2\" valign=\"top\">bar</th>\n",
       "      <th>one</th>\n",
       "      <td>-0.162413</td>\n",
       "      <td>1.840469</td>\n",
       "    </tr>\n",
       "    <tr>\n",
       "      <th>two</th>\n",
       "      <td>0.050449</td>\n",
       "      <td>-0.079239</td>\n",
       "    </tr>\n",
       "    <tr>\n",
       "      <th rowspan=\"2\" valign=\"top\">baz</th>\n",
       "      <th>one</th>\n",
       "      <td>2.097976</td>\n",
       "      <td>-0.305909</td>\n",
       "    </tr>\n",
       "    <tr>\n",
       "      <th>two</th>\n",
       "      <td>-0.502096</td>\n",
       "      <td>2.123931</td>\n",
       "    </tr>\n",
       "  </tbody>\n",
       "</table>\n",
       "</div>"
      ],
      "text/plain": [
       "                     A         B\n",
       "first second                    \n",
       "bar   one    -0.162413  1.840469\n",
       "      two     0.050449 -0.079239\n",
       "baz   one     2.097976 -0.305909\n",
       "      two    -0.502096  2.123931"
      ]
     },
     "execution_count": 75,
     "metadata": {},
     "output_type": "execute_result"
    }
   ],
   "source": [
    "stacked.unstack()"
   ]
  },
  {
   "cell_type": "code",
   "execution_count": 76,
   "metadata": {},
   "outputs": [
    {
     "data": {
      "text/html": [
       "<div>\n",
       "<style scoped>\n",
       "    .dataframe tbody tr th:only-of-type {\n",
       "        vertical-align: middle;\n",
       "    }\n",
       "\n",
       "    .dataframe tbody tr th {\n",
       "        vertical-align: top;\n",
       "    }\n",
       "\n",
       "    .dataframe thead th {\n",
       "        text-align: right;\n",
       "    }\n",
       "</style>\n",
       "<table border=\"1\" class=\"dataframe\">\n",
       "  <thead>\n",
       "    <tr style=\"text-align: right;\">\n",
       "      <th></th>\n",
       "      <th>second</th>\n",
       "      <th>one</th>\n",
       "      <th>two</th>\n",
       "    </tr>\n",
       "    <tr>\n",
       "      <th>first</th>\n",
       "      <th></th>\n",
       "      <th></th>\n",
       "      <th></th>\n",
       "    </tr>\n",
       "  </thead>\n",
       "  <tbody>\n",
       "    <tr>\n",
       "      <th rowspan=\"2\" valign=\"top\">bar</th>\n",
       "      <th>A</th>\n",
       "      <td>-0.162413</td>\n",
       "      <td>0.050449</td>\n",
       "    </tr>\n",
       "    <tr>\n",
       "      <th>B</th>\n",
       "      <td>1.840469</td>\n",
       "      <td>-0.079239</td>\n",
       "    </tr>\n",
       "    <tr>\n",
       "      <th rowspan=\"2\" valign=\"top\">baz</th>\n",
       "      <th>A</th>\n",
       "      <td>2.097976</td>\n",
       "      <td>-0.502096</td>\n",
       "    </tr>\n",
       "    <tr>\n",
       "      <th>B</th>\n",
       "      <td>-0.305909</td>\n",
       "      <td>2.123931</td>\n",
       "    </tr>\n",
       "  </tbody>\n",
       "</table>\n",
       "</div>"
      ],
      "text/plain": [
       "second        one       two\n",
       "first                      \n",
       "bar   A -0.162413  0.050449\n",
       "      B  1.840469 -0.079239\n",
       "baz   A  2.097976 -0.502096\n",
       "      B -0.305909  2.123931"
      ]
     },
     "execution_count": 76,
     "metadata": {},
     "output_type": "execute_result"
    }
   ],
   "source": [
    "stacked.unstack(1)"
   ]
  },
  {
   "cell_type": "code",
   "execution_count": 77,
   "metadata": {},
   "outputs": [
    {
     "data": {
      "text/html": [
       "<div>\n",
       "<style scoped>\n",
       "    .dataframe tbody tr th:only-of-type {\n",
       "        vertical-align: middle;\n",
       "    }\n",
       "\n",
       "    .dataframe tbody tr th {\n",
       "        vertical-align: top;\n",
       "    }\n",
       "\n",
       "    .dataframe thead th {\n",
       "        text-align: right;\n",
       "    }\n",
       "</style>\n",
       "<table border=\"1\" class=\"dataframe\">\n",
       "  <thead>\n",
       "    <tr style=\"text-align: right;\">\n",
       "      <th></th>\n",
       "      <th>first</th>\n",
       "      <th>bar</th>\n",
       "      <th>baz</th>\n",
       "    </tr>\n",
       "    <tr>\n",
       "      <th>second</th>\n",
       "      <th></th>\n",
       "      <th></th>\n",
       "      <th></th>\n",
       "    </tr>\n",
       "  </thead>\n",
       "  <tbody>\n",
       "    <tr>\n",
       "      <th rowspan=\"2\" valign=\"top\">one</th>\n",
       "      <th>A</th>\n",
       "      <td>-0.162413</td>\n",
       "      <td>2.097976</td>\n",
       "    </tr>\n",
       "    <tr>\n",
       "      <th>B</th>\n",
       "      <td>1.840469</td>\n",
       "      <td>-0.305909</td>\n",
       "    </tr>\n",
       "    <tr>\n",
       "      <th rowspan=\"2\" valign=\"top\">two</th>\n",
       "      <th>A</th>\n",
       "      <td>0.050449</td>\n",
       "      <td>-0.502096</td>\n",
       "    </tr>\n",
       "    <tr>\n",
       "      <th>B</th>\n",
       "      <td>-0.079239</td>\n",
       "      <td>2.123931</td>\n",
       "    </tr>\n",
       "  </tbody>\n",
       "</table>\n",
       "</div>"
      ],
      "text/plain": [
       "first          bar       baz\n",
       "second                      \n",
       "one    A -0.162413  2.097976\n",
       "       B  1.840469 -0.305909\n",
       "two    A  0.050449 -0.502096\n",
       "       B -0.079239  2.123931"
      ]
     },
     "execution_count": 77,
     "metadata": {},
     "output_type": "execute_result"
    }
   ],
   "source": [
    "stacked.unstack(0)"
   ]
  },
  {
   "cell_type": "markdown",
   "metadata": {},
   "source": [
    "## Pivot tables"
   ]
  },
  {
   "cell_type": "code",
   "execution_count": 78,
   "metadata": {},
   "outputs": [
    {
     "data": {
      "text/html": [
       "<div>\n",
       "<style scoped>\n",
       "    .dataframe tbody tr th:only-of-type {\n",
       "        vertical-align: middle;\n",
       "    }\n",
       "\n",
       "    .dataframe tbody tr th {\n",
       "        vertical-align: top;\n",
       "    }\n",
       "\n",
       "    .dataframe thead th {\n",
       "        text-align: right;\n",
       "    }\n",
       "</style>\n",
       "<table border=\"1\" class=\"dataframe\">\n",
       "  <thead>\n",
       "    <tr style=\"text-align: right;\">\n",
       "      <th></th>\n",
       "      <th>A</th>\n",
       "      <th>B</th>\n",
       "      <th>C</th>\n",
       "      <th>D</th>\n",
       "      <th>E</th>\n",
       "    </tr>\n",
       "  </thead>\n",
       "  <tbody>\n",
       "    <tr>\n",
       "      <th>0</th>\n",
       "      <td>one</td>\n",
       "      <td>A</td>\n",
       "      <td>foo</td>\n",
       "      <td>0.212229</td>\n",
       "      <td>2.549430</td>\n",
       "    </tr>\n",
       "    <tr>\n",
       "      <th>1</th>\n",
       "      <td>one</td>\n",
       "      <td>B</td>\n",
       "      <td>foo</td>\n",
       "      <td>0.170113</td>\n",
       "      <td>0.111898</td>\n",
       "    </tr>\n",
       "    <tr>\n",
       "      <th>2</th>\n",
       "      <td>two</td>\n",
       "      <td>C</td>\n",
       "      <td>foo</td>\n",
       "      <td>0.279296</td>\n",
       "      <td>0.063428</td>\n",
       "    </tr>\n",
       "    <tr>\n",
       "      <th>3</th>\n",
       "      <td>three</td>\n",
       "      <td>A</td>\n",
       "      <td>bar</td>\n",
       "      <td>-3.011022</td>\n",
       "      <td>0.029331</td>\n",
       "    </tr>\n",
       "    <tr>\n",
       "      <th>4</th>\n",
       "      <td>one</td>\n",
       "      <td>B</td>\n",
       "      <td>bar</td>\n",
       "      <td>0.030451</td>\n",
       "      <td>-2.043143</td>\n",
       "    </tr>\n",
       "    <tr>\n",
       "      <th>5</th>\n",
       "      <td>one</td>\n",
       "      <td>C</td>\n",
       "      <td>bar</td>\n",
       "      <td>0.692882</td>\n",
       "      <td>0.835739</td>\n",
       "    </tr>\n",
       "    <tr>\n",
       "      <th>6</th>\n",
       "      <td>two</td>\n",
       "      <td>A</td>\n",
       "      <td>foo</td>\n",
       "      <td>1.529280</td>\n",
       "      <td>1.083328</td>\n",
       "    </tr>\n",
       "    <tr>\n",
       "      <th>7</th>\n",
       "      <td>three</td>\n",
       "      <td>B</td>\n",
       "      <td>foo</td>\n",
       "      <td>-0.577509</td>\n",
       "      <td>-1.512533</td>\n",
       "    </tr>\n",
       "    <tr>\n",
       "      <th>8</th>\n",
       "      <td>one</td>\n",
       "      <td>C</td>\n",
       "      <td>foo</td>\n",
       "      <td>1.954520</td>\n",
       "      <td>-0.696462</td>\n",
       "    </tr>\n",
       "    <tr>\n",
       "      <th>9</th>\n",
       "      <td>one</td>\n",
       "      <td>A</td>\n",
       "      <td>bar</td>\n",
       "      <td>-0.351219</td>\n",
       "      <td>-1.580545</td>\n",
       "    </tr>\n",
       "    <tr>\n",
       "      <th>10</th>\n",
       "      <td>two</td>\n",
       "      <td>B</td>\n",
       "      <td>bar</td>\n",
       "      <td>0.873879</td>\n",
       "      <td>1.698880</td>\n",
       "    </tr>\n",
       "    <tr>\n",
       "      <th>11</th>\n",
       "      <td>three</td>\n",
       "      <td>C</td>\n",
       "      <td>bar</td>\n",
       "      <td>-0.997016</td>\n",
       "      <td>0.604196</td>\n",
       "    </tr>\n",
       "  </tbody>\n",
       "</table>\n",
       "</div>"
      ],
      "text/plain": [
       "        A  B    C         D         E\n",
       "0     one  A  foo  0.212229  2.549430\n",
       "1     one  B  foo  0.170113  0.111898\n",
       "2     two  C  foo  0.279296  0.063428\n",
       "3   three  A  bar -3.011022  0.029331\n",
       "4     one  B  bar  0.030451 -2.043143\n",
       "5     one  C  bar  0.692882  0.835739\n",
       "6     two  A  foo  1.529280  1.083328\n",
       "7   three  B  foo -0.577509 -1.512533\n",
       "8     one  C  foo  1.954520 -0.696462\n",
       "9     one  A  bar -0.351219 -1.580545\n",
       "10    two  B  bar  0.873879  1.698880\n",
       "11  three  C  bar -0.997016  0.604196"
      ]
     },
     "execution_count": 78,
     "metadata": {},
     "output_type": "execute_result"
    }
   ],
   "source": [
    "df = pd.DataFrame(\n",
    "    {\n",
    "        \"A\": [\"one\", \"one\", \"two\", \"three\"] * 3,\n",
    "        \"B\": [\"A\", \"B\", \"C\"] * 4,\n",
    "        \"C\": [\"foo\", \"foo\", \"foo\", \"bar\", \"bar\", \"bar\"] * 2,\n",
    "        \"D\": np.random.randn(12),\n",
    "        \"E\": np.random.randn(12),\n",
    "    }\n",
    ")\n",
    "\n",
    "df"
   ]
  },
  {
   "cell_type": "markdown",
   "metadata": {},
   "source": [
    "We can produce pivot tables from this data very easily."
   ]
  },
  {
   "cell_type": "code",
   "execution_count": 79,
   "metadata": {},
   "outputs": [
    {
     "data": {
      "text/html": [
       "<div>\n",
       "<style scoped>\n",
       "    .dataframe tbody tr th:only-of-type {\n",
       "        vertical-align: middle;\n",
       "    }\n",
       "\n",
       "    .dataframe tbody tr th {\n",
       "        vertical-align: top;\n",
       "    }\n",
       "\n",
       "    .dataframe thead th {\n",
       "        text-align: right;\n",
       "    }\n",
       "</style>\n",
       "<table border=\"1\" class=\"dataframe\">\n",
       "  <thead>\n",
       "    <tr style=\"text-align: right;\">\n",
       "      <th></th>\n",
       "      <th>C</th>\n",
       "      <th>bar</th>\n",
       "      <th>foo</th>\n",
       "    </tr>\n",
       "    <tr>\n",
       "      <th>A</th>\n",
       "      <th>B</th>\n",
       "      <th></th>\n",
       "      <th></th>\n",
       "    </tr>\n",
       "  </thead>\n",
       "  <tbody>\n",
       "    <tr>\n",
       "      <th rowspan=\"3\" valign=\"top\">one</th>\n",
       "      <th>A</th>\n",
       "      <td>-0.351219</td>\n",
       "      <td>0.212229</td>\n",
       "    </tr>\n",
       "    <tr>\n",
       "      <th>B</th>\n",
       "      <td>0.030451</td>\n",
       "      <td>0.170113</td>\n",
       "    </tr>\n",
       "    <tr>\n",
       "      <th>C</th>\n",
       "      <td>0.692882</td>\n",
       "      <td>1.954520</td>\n",
       "    </tr>\n",
       "    <tr>\n",
       "      <th rowspan=\"3\" valign=\"top\">three</th>\n",
       "      <th>A</th>\n",
       "      <td>-3.011022</td>\n",
       "      <td>NaN</td>\n",
       "    </tr>\n",
       "    <tr>\n",
       "      <th>B</th>\n",
       "      <td>NaN</td>\n",
       "      <td>-0.577509</td>\n",
       "    </tr>\n",
       "    <tr>\n",
       "      <th>C</th>\n",
       "      <td>-0.997016</td>\n",
       "      <td>NaN</td>\n",
       "    </tr>\n",
       "    <tr>\n",
       "      <th rowspan=\"3\" valign=\"top\">two</th>\n",
       "      <th>A</th>\n",
       "      <td>NaN</td>\n",
       "      <td>1.529280</td>\n",
       "    </tr>\n",
       "    <tr>\n",
       "      <th>B</th>\n",
       "      <td>0.873879</td>\n",
       "      <td>NaN</td>\n",
       "    </tr>\n",
       "    <tr>\n",
       "      <th>C</th>\n",
       "      <td>NaN</td>\n",
       "      <td>0.279296</td>\n",
       "    </tr>\n",
       "  </tbody>\n",
       "</table>\n",
       "</div>"
      ],
      "text/plain": [
       "C             bar       foo\n",
       "A     B                    \n",
       "one   A -0.351219  0.212229\n",
       "      B  0.030451  0.170113\n",
       "      C  0.692882  1.954520\n",
       "three A -3.011022       NaN\n",
       "      B       NaN -0.577509\n",
       "      C -0.997016       NaN\n",
       "two   A       NaN  1.529280\n",
       "      B  0.873879       NaN\n",
       "      C       NaN  0.279296"
      ]
     },
     "execution_count": 79,
     "metadata": {},
     "output_type": "execute_result"
    }
   ],
   "source": [
    "pd.pivot_table(df, values=\"D\", index=[\"A\", \"B\"], columns=\"C\")"
   ]
  },
  {
   "cell_type": "markdown",
   "metadata": {},
   "source": [
    "## Time series"
   ]
  },
  {
   "cell_type": "markdown",
   "metadata": {},
   "source": [
    "`Pandas` has simple, powerful, and efficient functionality for performing resampling operations during frequency conversion (e.g., converting secondly data into 5-minutely data). This is extremely common in, but not limited to, financial applications."
   ]
  },
  {
   "cell_type": "code",
   "execution_count": 80,
   "metadata": {},
   "outputs": [
    {
     "data": {
      "text/plain": [
       "2022-01-01 00:00:00     92\n",
       "2022-01-01 00:00:01    150\n",
       "2022-01-01 00:00:02    289\n",
       "2022-01-01 00:00:03    328\n",
       "2022-01-01 00:00:04    308\n",
       "                      ... \n",
       "2022-01-01 00:01:35    247\n",
       "2022-01-01 00:01:36    230\n",
       "2022-01-01 00:01:37    380\n",
       "2022-01-01 00:01:38    223\n",
       "2022-01-01 00:01:39    365\n",
       "Freq: S, Length: 100, dtype: int32"
      ]
     },
     "execution_count": 80,
     "metadata": {},
     "output_type": "execute_result"
    }
   ],
   "source": [
    "rng = pd.date_range(\"1/1/2022\", periods=100, freq=\"S\")\n",
    "ts = pd.Series(np.random.randint(0, 500, len(rng)), index=rng)\n",
    "ts"
   ]
  },
  {
   "cell_type": "code",
   "execution_count": 81,
   "metadata": {},
   "outputs": [
    {
     "data": {
      "text/plain": [
       "2022-01-01    24934\n",
       "Freq: 5T, dtype: int32"
      ]
     },
     "execution_count": 81,
     "metadata": {},
     "output_type": "execute_result"
    }
   ],
   "source": [
    "ts.resample(\"5Min\").sum()"
   ]
  },
  {
   "cell_type": "markdown",
   "metadata": {},
   "source": [
    "Time zone representation"
   ]
  },
  {
   "cell_type": "code",
   "execution_count": 82,
   "metadata": {},
   "outputs": [
    {
     "data": {
      "text/plain": [
       "2022-01-01    0.052057\n",
       "2022-01-02   -0.205427\n",
       "2022-01-03   -2.028190\n",
       "2022-01-04   -0.180416\n",
       "2022-01-05   -0.314939\n",
       "Freq: D, dtype: float64"
      ]
     },
     "execution_count": 82,
     "metadata": {},
     "output_type": "execute_result"
    }
   ],
   "source": [
    "rng = pd.date_range(\"1/1/2022 00:00\", periods=5, freq=\"D\")\n",
    "ts = pd.Series(np.random.randn(len(rng)), rng)\n",
    "ts"
   ]
  },
  {
   "cell_type": "code",
   "execution_count": 83,
   "metadata": {},
   "outputs": [
    {
     "data": {
      "text/plain": [
       "2022-01-01 00:00:00+00:00    0.052057\n",
       "2022-01-02 00:00:00+00:00   -0.205427\n",
       "2022-01-03 00:00:00+00:00   -2.028190\n",
       "2022-01-04 00:00:00+00:00   -0.180416\n",
       "2022-01-05 00:00:00+00:00   -0.314939\n",
       "Freq: D, dtype: float64"
      ]
     },
     "execution_count": 83,
     "metadata": {},
     "output_type": "execute_result"
    }
   ],
   "source": [
    "ts_utc = ts.tz_localize(\"UTC\")\n",
    "ts_utc"
   ]
  },
  {
   "cell_type": "markdown",
   "metadata": {},
   "source": [
    "Converting to another time zone."
   ]
  },
  {
   "cell_type": "code",
   "execution_count": 84,
   "metadata": {},
   "outputs": [
    {
     "data": {
      "text/plain": [
       "2021-12-31 19:00:00-05:00    0.052057\n",
       "2022-01-01 19:00:00-05:00   -0.205427\n",
       "2022-01-02 19:00:00-05:00   -2.028190\n",
       "2022-01-03 19:00:00-05:00   -0.180416\n",
       "2022-01-04 19:00:00-05:00   -0.314939\n",
       "Freq: D, dtype: float64"
      ]
     },
     "execution_count": 84,
     "metadata": {},
     "output_type": "execute_result"
    }
   ],
   "source": [
    "ts_utc.tz_convert(\"US/Eastern\")"
   ]
  },
  {
   "cell_type": "markdown",
   "metadata": {},
   "source": [
    "Converting between time span representations."
   ]
  },
  {
   "cell_type": "code",
   "execution_count": 85,
   "metadata": {},
   "outputs": [
    {
     "data": {
      "text/plain": [
       "2022-01-31   -0.980549\n",
       "2022-02-28   -0.229938\n",
       "2022-03-31   -0.471051\n",
       "2022-04-30    0.998910\n",
       "2022-05-31   -1.047684\n",
       "Freq: M, dtype: float64"
      ]
     },
     "execution_count": 85,
     "metadata": {},
     "output_type": "execute_result"
    }
   ],
   "source": [
    "rng = pd.date_range(\"1/1/2022\", periods=5, freq=\"M\")\n",
    "ts = pd.Series(np.random.randn(len(rng)), index=rng)\n",
    "ts"
   ]
  },
  {
   "cell_type": "code",
   "execution_count": 86,
   "metadata": {},
   "outputs": [
    {
     "data": {
      "text/plain": [
       "2022-01   -0.980549\n",
       "2022-02   -0.229938\n",
       "2022-03   -0.471051\n",
       "2022-04    0.998910\n",
       "2022-05   -1.047684\n",
       "Freq: M, dtype: float64"
      ]
     },
     "execution_count": 86,
     "metadata": {},
     "output_type": "execute_result"
    }
   ],
   "source": [
    "ps = ts.to_period()\n",
    "ps"
   ]
  },
  {
   "cell_type": "code",
   "execution_count": 87,
   "metadata": {},
   "outputs": [
    {
     "data": {
      "text/plain": [
       "2022-01-01   -0.980549\n",
       "2022-02-01   -0.229938\n",
       "2022-03-01   -0.471051\n",
       "2022-04-01    0.998910\n",
       "2022-05-01   -1.047684\n",
       "Freq: MS, dtype: float64"
      ]
     },
     "execution_count": 87,
     "metadata": {},
     "output_type": "execute_result"
    }
   ],
   "source": [
    "ps.to_timestamp()"
   ]
  },
  {
   "cell_type": "markdown",
   "metadata": {},
   "source": [
    "Converting between period and timestamp enables some convenients arithmetic functions to be used. In the following example, I convert a quarterly frequency with year ending in November to 9am of the end of the month following the quarter end."
   ]
  },
  {
   "cell_type": "code",
   "execution_count": 88,
   "metadata": {},
   "outputs": [
    {
     "data": {
      "text/plain": [
       "1990-03-01 09:00    1.553652\n",
       "1990-06-01 09:00   -1.499048\n",
       "1990-09-01 09:00    1.109655\n",
       "1990-12-01 09:00    0.526259\n",
       "1991-03-01 09:00   -0.712425\n",
       "Freq: H, dtype: float64"
      ]
     },
     "execution_count": 88,
     "metadata": {},
     "output_type": "execute_result"
    }
   ],
   "source": [
    "prng = pd.period_range(\"1990Q1\", \"2000Q4\", freq=\"Q-NOV\")\n",
    "ts = pd.Series(np.random.randn(len(prng)), prng)\n",
    "ts.index = (prng.asfreq(\"M\", \"e\") + 1).asfreq(\"H\", \"s\") + 9\n",
    "ts.head()"
   ]
  },
  {
   "cell_type": "markdown",
   "metadata": {},
   "source": [
    "## Categoricals"
   ]
  },
  {
   "cell_type": "markdown",
   "metadata": {},
   "source": [
    "`Pandas` can include categorical data in a **DataFrame**."
   ]
  },
  {
   "cell_type": "code",
   "execution_count": 89,
   "metadata": {},
   "outputs": [],
   "source": [
    "df = pd.DataFrame(\n",
    "    {\n",
    "        \"id\": list(range(1, 7, 1)),\n",
    "        \"raw_grade\": [\"a\", \"a\", \"b\", \"a\", \"a\", \"e\"],\n",
    "    }\n",
    ")"
   ]
  },
  {
   "cell_type": "markdown",
   "metadata": {},
   "source": [
    "Converting the grades to a categorical data type."
   ]
  },
  {
   "cell_type": "code",
   "execution_count": 90,
   "metadata": {},
   "outputs": [
    {
     "data": {
      "text/plain": [
       "0    a\n",
       "1    a\n",
       "2    b\n",
       "3    a\n",
       "4    a\n",
       "5    e\n",
       "Name: grade, dtype: category\n",
       "Categories (3, object): ['a', 'b', 'e']"
      ]
     },
     "execution_count": 90,
     "metadata": {},
     "output_type": "execute_result"
    }
   ],
   "source": [
    "df[\"grade\"] = df[\"raw_grade\"].astype(\"category\")\n",
    "df[\"grade\"]"
   ]
  },
  {
   "cell_type": "markdown",
   "metadata": {},
   "source": [
    "Rename the categories to more meaningful names (assigning to `Series.cat.categories()` is in place!)."
   ]
  },
  {
   "cell_type": "code",
   "execution_count": 91,
   "metadata": {},
   "outputs": [
    {
     "data": {
      "text/plain": [
       "0    very good\n",
       "1    very good\n",
       "2         good\n",
       "3    very good\n",
       "4    very good\n",
       "5     very bad\n",
       "Name: grade, dtype: category\n",
       "Categories (3, object): ['very good', 'good', 'very bad']"
      ]
     },
     "execution_count": 91,
     "metadata": {},
     "output_type": "execute_result"
    }
   ],
   "source": [
    "df[\"grade\"].cat.categories = [\"very good\", \"good\", \"very bad\"]\n",
    "df[\"grade\"]"
   ]
  },
  {
   "cell_type": "markdown",
   "metadata": {},
   "source": [
    "Reorder the categories and simultaneously add the missing categories (methods under `Series.cat()` return a new `Series` by default)."
   ]
  },
  {
   "cell_type": "code",
   "execution_count": 92,
   "metadata": {},
   "outputs": [
    {
     "data": {
      "text/plain": [
       "0    very good\n",
       "1    very good\n",
       "2         good\n",
       "3    very good\n",
       "4    very good\n",
       "5     very bad\n",
       "Name: grade, dtype: category\n",
       "Categories (5, object): ['very bad', 'bad', 'medium', 'good', 'very good']"
      ]
     },
     "execution_count": 92,
     "metadata": {},
     "output_type": "execute_result"
    }
   ],
   "source": [
    "df[\"grade\"] = df[\"grade\"].cat.set_categories(\n",
    "    [\"very bad\", \"bad\", \"medium\", \"good\", \"very good\"]\n",
    ")\n",
    "df[\"grade\"]"
   ]
  },
  {
   "cell_type": "markdown",
   "metadata": {},
   "source": [
    "Sorting in per order in the categories, not lexical order."
   ]
  },
  {
   "cell_type": "code",
   "execution_count": 93,
   "metadata": {},
   "outputs": [
    {
     "data": {
      "text/html": [
       "<div>\n",
       "<style scoped>\n",
       "    .dataframe tbody tr th:only-of-type {\n",
       "        vertical-align: middle;\n",
       "    }\n",
       "\n",
       "    .dataframe tbody tr th {\n",
       "        vertical-align: top;\n",
       "    }\n",
       "\n",
       "    .dataframe thead th {\n",
       "        text-align: right;\n",
       "    }\n",
       "</style>\n",
       "<table border=\"1\" class=\"dataframe\">\n",
       "  <thead>\n",
       "    <tr style=\"text-align: right;\">\n",
       "      <th></th>\n",
       "      <th>id</th>\n",
       "      <th>raw_grade</th>\n",
       "      <th>grade</th>\n",
       "    </tr>\n",
       "  </thead>\n",
       "  <tbody>\n",
       "    <tr>\n",
       "      <th>0</th>\n",
       "      <td>1</td>\n",
       "      <td>a</td>\n",
       "      <td>very good</td>\n",
       "    </tr>\n",
       "    <tr>\n",
       "      <th>1</th>\n",
       "      <td>2</td>\n",
       "      <td>a</td>\n",
       "      <td>very good</td>\n",
       "    </tr>\n",
       "    <tr>\n",
       "      <th>3</th>\n",
       "      <td>4</td>\n",
       "      <td>a</td>\n",
       "      <td>very good</td>\n",
       "    </tr>\n",
       "    <tr>\n",
       "      <th>4</th>\n",
       "      <td>5</td>\n",
       "      <td>a</td>\n",
       "      <td>very good</td>\n",
       "    </tr>\n",
       "    <tr>\n",
       "      <th>2</th>\n",
       "      <td>3</td>\n",
       "      <td>b</td>\n",
       "      <td>good</td>\n",
       "    </tr>\n",
       "    <tr>\n",
       "      <th>5</th>\n",
       "      <td>6</td>\n",
       "      <td>e</td>\n",
       "      <td>very bad</td>\n",
       "    </tr>\n",
       "  </tbody>\n",
       "</table>\n",
       "</div>"
      ],
      "text/plain": [
       "   id raw_grade      grade\n",
       "0   1         a  very good\n",
       "1   2         a  very good\n",
       "3   4         a  very good\n",
       "4   5         a  very good\n",
       "2   3         b       good\n",
       "5   6         e   very bad"
      ]
     },
     "execution_count": 93,
     "metadata": {},
     "output_type": "execute_result"
    }
   ],
   "source": [
    "df.sort_values(by=\"grade\", ascending=False)"
   ]
  },
  {
   "cell_type": "markdown",
   "metadata": {},
   "source": [
    "Grouping by a categorical column also shows empty categories."
   ]
  },
  {
   "cell_type": "code",
   "execution_count": 94,
   "metadata": {},
   "outputs": [
    {
     "data": {
      "text/plain": [
       "grade\n",
       "very bad     1\n",
       "bad          0\n",
       "medium       0\n",
       "good         1\n",
       "very good    4\n",
       "dtype: int64"
      ]
     },
     "execution_count": 94,
     "metadata": {},
     "output_type": "execute_result"
    }
   ],
   "source": [
    "df.groupby(\"grade\").size()"
   ]
  },
  {
   "cell_type": "markdown",
   "metadata": {},
   "source": [
    "## Plotting"
   ]
  },
  {
   "cell_type": "markdown",
   "metadata": {},
   "source": [
    "We use the standard convention for referencing the matplotlib API."
   ]
  },
  {
   "cell_type": "code",
   "execution_count": 95,
   "metadata": {},
   "outputs": [],
   "source": [
    "import matplotlib.pyplot as plt\n",
    "plt.close(\"all\")"
   ]
  },
  {
   "cell_type": "markdown",
   "metadata": {},
   "source": [
    "The `close()` method is used to close a figure window."
   ]
  },
  {
   "cell_type": "code",
   "execution_count": 96,
   "metadata": {},
   "outputs": [
    {
     "data": {
      "text/plain": [
       "<AxesSubplot:>"
      ]
     },
     "execution_count": 96,
     "metadata": {},
     "output_type": "execute_result"
    },
    {
     "data": {
      "image/png": "[encoded data removed]",
      "image/svg+xml": "<?xml version=\"1.0\" encoding=\"utf-8\" standalone=\"no\"?>\n<!DOCTYPE svg PUBLIC \"-//W3C//DTD SVG 1.1//EN\"\n  \"http://www.w3.org/Graphics/SVG/1.1/DTD/svg11.dtd\">\n<svg xmlns:xlink=\"http://www.w3.org/1999/xlink\" width=\"370.942188pt\" height=\"260.644428pt\" viewBox=\"0 0 370.942188 260.644428\" xmlns=\"http://www.w3.org/2000/svg\" version=\"1.1\">\n <metadata>\n  <rdf:RDF xmlns:dc=\"http://purl.org/dc/elements/1.1/\" xmlns:cc=\"http://creativecommons.org/ns#\" xmlns:rdf=\"http://www.w3.org/1999/02/22-rdf-syntax-ns#\">\n   <cc:Work>\n    <dc:type rdf:resource=\"http://purl.org/dc/dcmitype/StillImage\"/>\n    <dc:date>2022-04-14T23:47:07.009352</dc:date>\n    <dc:format>image/svg+xml</dc:format>\n    <dc:creator>\n     <cc:Agent>\n      <dc:title>Matplotlib v3.5.1, https://matplotlib.org/</dc:title>\n     </cc:Agent>\n    </dc:creator>\n   </cc:Work>\n  </rdf:RDF>\n </metadata>\n <defs>\n  <style type=\"text/css\">*{stroke-linejoin: round; stroke-linecap: butt}</style>\n </defs>\n <g id=\"figure_1\">\n  <g id=\"patch_1\">\n   <path d=\"M 0 260.644428 \nL 370.942188 260.644428 \nL 370.942188 0 \nL 0 0 \nL 0 260.644428 \nz\n\" style=\"fill: none\"/>\n  </g>\n  <g id=\"axes_1\">\n   <g id=\"patch_2\">\n    <path d=\"M 28.942188 225.568491 \nL 363.742188 225.568491 \nL 363.742188 8.128491 \nL 28.942188 8.128491 \nz\n\" style=\"fill: #ffffff\"/>\n   </g>\n   <g id=\"matplotlib.axis_1\">\n    <g id=\"xtick_1\">\n     <g id=\"line2d_1\">\n      <defs>\n       <path id=\"me1601fdf88\" d=\"M 0 0 \nL 0 3.5 \n\" style=\"stroke: #000000; stroke-width: 0.8\"/>\n      </defs>\n      <g>\n       <use xlink:href=\"#me1601fdf88\" x=\"28.942187\" y=\"225.568491\" style=\"stroke: #000000; stroke-width: 0.8\"/>\n      </g>\n     </g>\n     <g id=\"text_1\">\n      <!-- Jan -->\n      <g transform=\"translate(21.234375 240.166928)scale(0.1 -0.1)\">\n       <defs>\n        <path id=\"DejaVuSans-4a\" d=\"M 628 4666 \nL 1259 4666 \nL 1259 325 \nQ 1259 -519 939 -900 \nQ 619 -1281 -91 -1281 \nL -331 -1281 \nL -331 -750 \nL -134 -750 \nQ 284 -750 456 -515 \nQ 628 -281 628 325 \nL 628 4666 \nz\n\" transform=\"scale(0.015625)\"/>\n        <path id=\"DejaVuSans-61\" d=\"M 2194 1759 \nQ 1497 1759 1228 1600 \nQ 959 1441 959 1056 \nQ 959 750 1161 570 \nQ 1363 391 1709 391 \nQ 2188 391 2477 730 \nQ 2766 1069 2766 1631 \nL 2766 1759 \nL 2194 1759 \nz\nM 3341 1997 \nL 3341 0 \nL 2766 0 \nL 2766 531 \nQ 2569 213 2275 61 \nQ 1981 -91 1556 -91 \nQ 1019 -91 701 211 \nQ 384 513 384 1019 \nQ 384 1609 779 1909 \nQ 1175 2209 1959 2209 \nL 2766 2209 \nL 2766 2266 \nQ 2766 2663 2505 2880 \nQ 2244 3097 1772 3097 \nQ 1472 3097 1187 3025 \nQ 903 2953 641 2809 \nL 641 3341 \nQ 956 3463 1253 3523 \nQ 1550 3584 1831 3584 \nQ 2591 3584 2966 3190 \nQ 3341 2797 3341 1997 \nz\n\" transform=\"scale(0.015625)\"/>\n        <path id=\"DejaVuSans-6e\" d=\"M 3513 2113 \nL 3513 0 \nL 2938 0 \nL 2938 2094 \nQ 2938 2591 2744 2837 \nQ 2550 3084 2163 3084 \nQ 1697 3084 1428 2787 \nQ 1159 2491 1159 1978 \nL 1159 0 \nL 581 0 \nL 581 3500 \nL 1159 3500 \nL 1159 2956 \nQ 1366 3272 1645 3428 \nQ 1925 3584 2291 3584 \nQ 2894 3584 3203 3211 \nQ 3513 2838 3513 2113 \nz\n\" transform=\"scale(0.015625)\"/>\n       </defs>\n       <use xlink:href=\"#DejaVuSans-4a\"/>\n       <use xlink:href=\"#DejaVuSans-61\" x=\"29.492188\"/>\n       <use xlink:href=\"#DejaVuSans-6e\" x=\"90.771484\"/>\n      </g>\n      <!-- 2022 -->\n      <g transform=\"translate(16.217187 251.364741)scale(0.1 -0.1)\">\n       <defs>\n        <path id=\"DejaVuSans-32\" d=\"M 1228 531 \nL 3431 531 \nL 3431 0 \nL 469 0 \nL 469 531 \nQ 828 903 1448 1529 \nQ 2069 2156 2228 2338 \nQ 2531 2678 2651 2914 \nQ 2772 3150 2772 3378 \nQ 2772 3750 2511 3984 \nQ 2250 4219 1831 4219 \nQ 1534 4219 1204 4116 \nQ 875 4013 500 3803 \nL 500 4441 \nQ 881 4594 1212 4672 \nQ 1544 4750 1819 4750 \nQ 2544 4750 2975 4387 \nQ 3406 4025 3406 3419 \nQ 3406 3131 3298 2873 \nQ 3191 2616 2906 2266 \nQ 2828 2175 2409 1742 \nQ 1991 1309 1228 531 \nz\n\" transform=\"scale(0.015625)\"/>\n        <path id=\"DejaVuSans-30\" d=\"M 2034 4250 \nQ 1547 4250 1301 3770 \nQ 1056 3291 1056 2328 \nQ 1056 1369 1301 889 \nQ 1547 409 2034 409 \nQ 2525 409 2770 889 \nQ 3016 1369 3016 2328 \nQ 3016 3291 2770 3770 \nQ 2525 4250 2034 4250 \nz\nM 2034 4750 \nQ 2819 4750 3233 4129 \nQ 3647 3509 3647 2328 \nQ 3647 1150 3233 529 \nQ 2819 -91 2034 -91 \nQ 1250 -91 836 529 \nQ 422 1150 422 2328 \nQ 422 3509 836 4129 \nQ 1250 4750 2034 4750 \nz\n\" transform=\"scale(0.015625)\"/>\n       </defs>\n       <use xlink:href=\"#DejaVuSans-32\"/>\n       <use xlink:href=\"#DejaVuSans-30\" x=\"63.623047\"/>\n       <use xlink:href=\"#DejaVuSans-32\" x=\"127.246094\"/>\n       <use xlink:href=\"#DejaVuSans-32\" x=\"190.869141\"/>\n      </g>\n     </g>\n    </g>\n    <g id=\"xtick_2\">\n     <g id=\"line2d_2\">\n      <g>\n       <use xlink:href=\"#me1601fdf88\" x=\"151.266512\" y=\"225.568491\" style=\"stroke: #000000; stroke-width: 0.8\"/>\n      </g>\n     </g>\n     <g id=\"text_2\">\n      <!-- Jan -->\n      <g transform=\"translate(143.558699 240.166928)scale(0.1 -0.1)\">\n       <use xlink:href=\"#DejaVuSans-4a\"/>\n       <use xlink:href=\"#DejaVuSans-61\" x=\"29.492188\"/>\n       <use xlink:href=\"#DejaVuSans-6e\" x=\"90.771484\"/>\n      </g>\n      <!-- 2023 -->\n      <g transform=\"translate(138.541512 251.364741)scale(0.1 -0.1)\">\n       <defs>\n        <path id=\"DejaVuSans-33\" d=\"M 2597 2516 \nQ 3050 2419 3304 2112 \nQ 3559 1806 3559 1356 \nQ 3559 666 3084 287 \nQ 2609 -91 1734 -91 \nQ 1441 -91 1130 -33 \nQ 819 25 488 141 \nL 488 750 \nQ 750 597 1062 519 \nQ 1375 441 1716 441 \nQ 2309 441 2620 675 \nQ 2931 909 2931 1356 \nQ 2931 1769 2642 2001 \nQ 2353 2234 1838 2234 \nL 1294 2234 \nL 1294 2753 \nL 1863 2753 \nQ 2328 2753 2575 2939 \nQ 2822 3125 2822 3475 \nQ 2822 3834 2567 4026 \nQ 2313 4219 1838 4219 \nQ 1578 4219 1281 4162 \nQ 984 4106 628 3988 \nL 628 4550 \nQ 988 4650 1302 4700 \nQ 1616 4750 1894 4750 \nQ 2613 4750 3031 4423 \nQ 3450 4097 3450 3541 \nQ 3450 3153 3228 2886 \nQ 3006 2619 2597 2516 \nz\n\" transform=\"scale(0.015625)\"/>\n       </defs>\n       <use xlink:href=\"#DejaVuSans-32\"/>\n       <use xlink:href=\"#DejaVuSans-30\" x=\"63.623047\"/>\n       <use xlink:href=\"#DejaVuSans-32\" x=\"127.246094\"/>\n       <use xlink:href=\"#DejaVuSans-33\" x=\"190.869141\"/>\n      </g>\n     </g>\n    </g>\n    <g id=\"xtick_3\">\n     <g id=\"line2d_3\">\n      <g>\n       <use xlink:href=\"#me1601fdf88\" x=\"273.590836\" y=\"225.568491\" style=\"stroke: #000000; stroke-width: 0.8\"/>\n      </g>\n     </g>\n     <g id=\"text_3\">\n      <!-- Jan -->\n      <g transform=\"translate(265.883024 240.166928)scale(0.1 -0.1)\">\n       <use xlink:href=\"#DejaVuSans-4a\"/>\n       <use xlink:href=\"#DejaVuSans-61\" x=\"29.492188\"/>\n       <use xlink:href=\"#DejaVuSans-6e\" x=\"90.771484\"/>\n      </g>\n      <!-- 2024 -->\n      <g transform=\"translate(260.865836 251.364741)scale(0.1 -0.1)\">\n       <defs>\n        <path id=\"DejaVuSans-34\" d=\"M 2419 4116 \nL 825 1625 \nL 2419 1625 \nL 2419 4116 \nz\nM 2253 4666 \nL 3047 4666 \nL 3047 1625 \nL 3713 1625 \nL 3713 1100 \nL 3047 1100 \nL 3047 0 \nL 2419 0 \nL 2419 1100 \nL 313 1100 \nL 313 1709 \nL 2253 4666 \nz\n\" transform=\"scale(0.015625)\"/>\n       </defs>\n       <use xlink:href=\"#DejaVuSans-32\"/>\n       <use xlink:href=\"#DejaVuSans-30\" x=\"63.623047\"/>\n       <use xlink:href=\"#DejaVuSans-32\" x=\"127.246094\"/>\n       <use xlink:href=\"#DejaVuSans-34\" x=\"190.869141\"/>\n      </g>\n     </g>\n    </g>\n    <g id=\"xtick_4\">\n     <g id=\"line2d_4\">\n      <g>\n       <use xlink:href=\"#me1601fdf88\" x=\"363.742188\" y=\"225.568491\" style=\"stroke: #000000; stroke-width: 0.8\"/>\n      </g>\n     </g>\n    </g>\n    <g id=\"xtick_5\">\n     <g id=\"line2d_5\">\n      <defs>\n       <path id=\"mb8e55ef8d6\" d=\"M 0 0 \nL 0 2 \n\" style=\"stroke: #000000; stroke-width: 0.6\"/>\n      </defs>\n      <g>\n       <use xlink:href=\"#mb8e55ef8d6\" x=\"39.331377\" y=\"225.568491\" style=\"stroke: #000000; stroke-width: 0.6\"/>\n      </g>\n     </g>\n    </g>\n    <g id=\"xtick_6\">\n     <g id=\"line2d_6\">\n      <g>\n       <use xlink:href=\"#mb8e55ef8d6\" x=\"48.71516\" y=\"225.568491\" style=\"stroke: #000000; stroke-width: 0.6\"/>\n      </g>\n     </g>\n    </g>\n    <g id=\"xtick_7\">\n     <g id=\"line2d_7\">\n      <g>\n       <use xlink:href=\"#mb8e55ef8d6\" x=\"59.10435\" y=\"225.568491\" style=\"stroke: #000000; stroke-width: 0.6\"/>\n      </g>\n     </g>\n    </g>\n    <g id=\"xtick_8\">\n     <g id=\"line2d_8\">\n      <g>\n       <use xlink:href=\"#mb8e55ef8d6\" x=\"69.158404\" y=\"225.568491\" style=\"stroke: #000000; stroke-width: 0.6\"/>\n      </g>\n     </g>\n    </g>\n    <g id=\"xtick_9\">\n     <g id=\"line2d_9\">\n      <g>\n       <use xlink:href=\"#mb8e55ef8d6\" x=\"79.547593\" y=\"225.568491\" style=\"stroke: #000000; stroke-width: 0.6\"/>\n      </g>\n     </g>\n    </g>\n    <g id=\"xtick_10\">\n     <g id=\"line2d_10\">\n      <g>\n       <use xlink:href=\"#mb8e55ef8d6\" x=\"89.601647\" y=\"225.568491\" style=\"stroke: #000000; stroke-width: 0.6\"/>\n      </g>\n     </g>\n     <g id=\"text_4\">\n      <!-- Jul -->\n      <g transform=\"translate(83.568834 238.566928)scale(0.1 -0.1)\">\n       <defs>\n        <path id=\"DejaVuSans-75\" d=\"M 544 1381 \nL 544 3500 \nL 1119 3500 \nL 1119 1403 \nQ 1119 906 1312 657 \nQ 1506 409 1894 409 \nQ 2359 409 2629 706 \nQ 2900 1003 2900 1516 \nL 2900 3500 \nL 3475 3500 \nL 3475 0 \nL 2900 0 \nL 2900 538 \nQ 2691 219 2414 64 \nQ 2138 -91 1772 -91 \nQ 1169 -91 856 284 \nQ 544 659 544 1381 \nz\nM 1991 3584 \nL 1991 3584 \nz\n\" transform=\"scale(0.015625)\"/>\n        <path id=\"DejaVuSans-6c\" d=\"M 603 4863 \nL 1178 4863 \nL 1178 0 \nL 603 0 \nL 603 4863 \nz\n\" transform=\"scale(0.015625)\"/>\n       </defs>\n       <use xlink:href=\"#DejaVuSans-4a\"/>\n       <use xlink:href=\"#DejaVuSans-75\" x=\"29.492188\"/>\n       <use xlink:href=\"#DejaVuSans-6c\" x=\"92.871094\"/>\n      </g>\n     </g>\n    </g>\n    <g id=\"xtick_11\">\n     <g id=\"line2d_11\">\n      <g>\n       <use xlink:href=\"#mb8e55ef8d6\" x=\"99.990836\" y=\"225.568491\" style=\"stroke: #000000; stroke-width: 0.6\"/>\n      </g>\n     </g>\n    </g>\n    <g id=\"xtick_12\">\n     <g id=\"line2d_12\">\n      <g>\n       <use xlink:href=\"#mb8e55ef8d6\" x=\"110.380025\" y=\"225.568491\" style=\"stroke: #000000; stroke-width: 0.6\"/>\n      </g>\n     </g>\n    </g>\n    <g id=\"xtick_13\">\n     <g id=\"line2d_13\">\n      <g>\n       <use xlink:href=\"#mb8e55ef8d6\" x=\"120.434079\" y=\"225.568491\" style=\"stroke: #000000; stroke-width: 0.6\"/>\n      </g>\n     </g>\n    </g>\n    <g id=\"xtick_14\">\n     <g id=\"line2d_14\">\n      <g>\n       <use xlink:href=\"#mb8e55ef8d6\" x=\"130.823269\" y=\"225.568491\" style=\"stroke: #000000; stroke-width: 0.6\"/>\n      </g>\n     </g>\n    </g>\n    <g id=\"xtick_15\">\n     <g id=\"line2d_15\">\n      <g>\n       <use xlink:href=\"#mb8e55ef8d6\" x=\"140.877323\" y=\"225.568491\" style=\"stroke: #000000; stroke-width: 0.6\"/>\n      </g>\n     </g>\n    </g>\n    <g id=\"xtick_16\">\n     <g id=\"line2d_16\">\n      <g>\n       <use xlink:href=\"#mb8e55ef8d6\" x=\"161.655701\" y=\"225.568491\" style=\"stroke: #000000; stroke-width: 0.6\"/>\n      </g>\n     </g>\n    </g>\n    <g id=\"xtick_17\">\n     <g id=\"line2d_17\">\n      <g>\n       <use xlink:href=\"#mb8e55ef8d6\" x=\"171.039485\" y=\"225.568491\" style=\"stroke: #000000; stroke-width: 0.6\"/>\n      </g>\n     </g>\n    </g>\n    <g id=\"xtick_18\">\n     <g id=\"line2d_18\">\n      <g>\n       <use xlink:href=\"#mb8e55ef8d6\" x=\"181.428674\" y=\"225.568491\" style=\"stroke: #000000; stroke-width: 0.6\"/>\n      </g>\n     </g>\n    </g>\n    <g id=\"xtick_19\">\n     <g id=\"line2d_19\">\n      <g>\n       <use xlink:href=\"#mb8e55ef8d6\" x=\"191.482728\" y=\"225.568491\" style=\"stroke: #000000; stroke-width: 0.6\"/>\n      </g>\n     </g>\n    </g>\n    <g id=\"xtick_20\">\n     <g id=\"line2d_20\">\n      <g>\n       <use xlink:href=\"#mb8e55ef8d6\" x=\"201.871917\" y=\"225.568491\" style=\"stroke: #000000; stroke-width: 0.6\"/>\n      </g>\n     </g>\n    </g>\n    <g id=\"xtick_21\">\n     <g id=\"line2d_21\">\n      <g>\n       <use xlink:href=\"#mb8e55ef8d6\" x=\"211.925971\" y=\"225.568491\" style=\"stroke: #000000; stroke-width: 0.6\"/>\n      </g>\n     </g>\n     <g id=\"text_5\">\n      <!-- Jul -->\n      <g transform=\"translate(205.893159 238.566928)scale(0.1 -0.1)\">\n       <use xlink:href=\"#DejaVuSans-4a\"/>\n       <use xlink:href=\"#DejaVuSans-75\" x=\"29.492188\"/>\n       <use xlink:href=\"#DejaVuSans-6c\" x=\"92.871094\"/>\n      </g>\n     </g>\n    </g>\n    <g id=\"xtick_22\">\n     <g id=\"line2d_22\">\n      <g>\n       <use xlink:href=\"#mb8e55ef8d6\" x=\"222.31516\" y=\"225.568491\" style=\"stroke: #000000; stroke-width: 0.6\"/>\n      </g>\n     </g>\n    </g>\n    <g id=\"xtick_23\">\n     <g id=\"line2d_23\">\n      <g>\n       <use xlink:href=\"#mb8e55ef8d6\" x=\"232.70435\" y=\"225.568491\" style=\"stroke: #000000; stroke-width: 0.6\"/>\n      </g>\n     </g>\n    </g>\n    <g id=\"xtick_24\">\n     <g id=\"line2d_24\">\n      <g>\n       <use xlink:href=\"#mb8e55ef8d6\" x=\"242.758404\" y=\"225.568491\" style=\"stroke: #000000; stroke-width: 0.6\"/>\n      </g>\n     </g>\n    </g>\n    <g id=\"xtick_25\">\n     <g id=\"line2d_25\">\n      <g>\n       <use xlink:href=\"#mb8e55ef8d6\" x=\"253.147593\" y=\"225.568491\" style=\"stroke: #000000; stroke-width: 0.6\"/>\n      </g>\n     </g>\n    </g>\n    <g id=\"xtick_26\">\n     <g id=\"line2d_26\">\n      <g>\n       <use xlink:href=\"#mb8e55ef8d6\" x=\"263.201647\" y=\"225.568491\" style=\"stroke: #000000; stroke-width: 0.6\"/>\n      </g>\n     </g>\n    </g>\n    <g id=\"xtick_27\">\n     <g id=\"line2d_27\">\n      <g>\n       <use xlink:href=\"#mb8e55ef8d6\" x=\"283.980025\" y=\"225.568491\" style=\"stroke: #000000; stroke-width: 0.6\"/>\n      </g>\n     </g>\n    </g>\n    <g id=\"xtick_28\">\n     <g id=\"line2d_28\">\n      <g>\n       <use xlink:href=\"#mb8e55ef8d6\" x=\"293.698944\" y=\"225.568491\" style=\"stroke: #000000; stroke-width: 0.6\"/>\n      </g>\n     </g>\n    </g>\n    <g id=\"xtick_29\">\n     <g id=\"line2d_29\">\n      <g>\n       <use xlink:href=\"#mb8e55ef8d6\" x=\"304.088133\" y=\"225.568491\" style=\"stroke: #000000; stroke-width: 0.6\"/>\n      </g>\n     </g>\n    </g>\n    <g id=\"xtick_30\">\n     <g id=\"line2d_30\">\n      <g>\n       <use xlink:href=\"#mb8e55ef8d6\" x=\"314.142187\" y=\"225.568491\" style=\"stroke: #000000; stroke-width: 0.6\"/>\n      </g>\n     </g>\n    </g>\n    <g id=\"xtick_31\">\n     <g id=\"line2d_31\">\n      <g>\n       <use xlink:href=\"#mb8e55ef8d6\" x=\"324.531377\" y=\"225.568491\" style=\"stroke: #000000; stroke-width: 0.6\"/>\n      </g>\n     </g>\n    </g>\n    <g id=\"xtick_32\">\n     <g id=\"line2d_32\">\n      <g>\n       <use xlink:href=\"#mb8e55ef8d6\" x=\"334.585431\" y=\"225.568491\" style=\"stroke: #000000; stroke-width: 0.6\"/>\n      </g>\n     </g>\n     <g id=\"text_6\">\n      <!-- Jul -->\n      <g transform=\"translate(328.552618 238.566928)scale(0.1 -0.1)\">\n       <use xlink:href=\"#DejaVuSans-4a\"/>\n       <use xlink:href=\"#DejaVuSans-75\" x=\"29.492188\"/>\n       <use xlink:href=\"#DejaVuSans-6c\" x=\"92.871094\"/>\n      </g>\n     </g>\n    </g>\n    <g id=\"xtick_33\">\n     <g id=\"line2d_33\">\n      <g>\n       <use xlink:href=\"#mb8e55ef8d6\" x=\"344.97462\" y=\"225.568491\" style=\"stroke: #000000; stroke-width: 0.6\"/>\n      </g>\n     </g>\n    </g>\n    <g id=\"xtick_34\">\n     <g id=\"line2d_34\">\n      <g>\n       <use xlink:href=\"#mb8e55ef8d6\" x=\"355.363809\" y=\"225.568491\" style=\"stroke: #000000; stroke-width: 0.6\"/>\n      </g>\n     </g>\n    </g>\n   </g>\n   <g id=\"matplotlib.axis_2\">\n    <g id=\"ytick_1\">\n     <g id=\"line2d_35\">\n      <defs>\n       <path id=\"mf4631e30b1\" d=\"M 0 0 \nL -3.5 0 \n\" style=\"stroke: #000000; stroke-width: 0.8\"/>\n      </defs>\n      <g>\n       <use xlink:href=\"#mf4631e30b1\" x=\"28.942188\" y=\"220.403479\" style=\"stroke: #000000; stroke-width: 0.8\"/>\n      </g>\n     </g>\n     <g id=\"text_7\">\n      <!-- −3 -->\n      <g transform=\"translate(7.2 224.202697)scale(0.1 -0.1)\">\n       <defs>\n        <path id=\"DejaVuSans-2212\" d=\"M 678 2272 \nL 4684 2272 \nL 4684 1741 \nL 678 1741 \nL 678 2272 \nz\n\" transform=\"scale(0.015625)\"/>\n       </defs>\n       <use xlink:href=\"#DejaVuSans-2212\"/>\n       <use xlink:href=\"#DejaVuSans-33\" x=\"83.789062\"/>\n      </g>\n     </g>\n    </g>\n    <g id=\"ytick_2\">\n     <g id=\"line2d_36\">\n      <g>\n       <use xlink:href=\"#mf4631e30b1\" x=\"28.942188\" y=\"185.502769\" style=\"stroke: #000000; stroke-width: 0.8\"/>\n      </g>\n     </g>\n     <g id=\"text_8\">\n      <!-- −2 -->\n      <g transform=\"translate(7.2 189.301987)scale(0.1 -0.1)\">\n       <use xlink:href=\"#DejaVuSans-2212\"/>\n       <use xlink:href=\"#DejaVuSans-32\" x=\"83.789062\"/>\n      </g>\n     </g>\n    </g>\n    <g id=\"ytick_3\">\n     <g id=\"line2d_37\">\n      <g>\n       <use xlink:href=\"#mf4631e30b1\" x=\"28.942188\" y=\"150.602059\" style=\"stroke: #000000; stroke-width: 0.8\"/>\n      </g>\n     </g>\n     <g id=\"text_9\">\n      <!-- −1 -->\n      <g transform=\"translate(7.2 154.401277)scale(0.1 -0.1)\">\n       <defs>\n        <path id=\"DejaVuSans-31\" d=\"M 794 531 \nL 1825 531 \nL 1825 4091 \nL 703 3866 \nL 703 4441 \nL 1819 4666 \nL 2450 4666 \nL 2450 531 \nL 3481 531 \nL 3481 0 \nL 794 0 \nL 794 531 \nz\n\" transform=\"scale(0.015625)\"/>\n       </defs>\n       <use xlink:href=\"#DejaVuSans-2212\"/>\n       <use xlink:href=\"#DejaVuSans-31\" x=\"83.789062\"/>\n      </g>\n     </g>\n    </g>\n    <g id=\"ytick_4\">\n     <g id=\"line2d_38\">\n      <g>\n       <use xlink:href=\"#mf4631e30b1\" x=\"28.942188\" y=\"115.701349\" style=\"stroke: #000000; stroke-width: 0.8\"/>\n      </g>\n     </g>\n     <g id=\"text_10\">\n      <!-- 0 -->\n      <g transform=\"translate(15.579688 119.500567)scale(0.1 -0.1)\">\n       <use xlink:href=\"#DejaVuSans-30\"/>\n      </g>\n     </g>\n    </g>\n    <g id=\"ytick_5\">\n     <g id=\"line2d_39\">\n      <g>\n       <use xlink:href=\"#mf4631e30b1\" x=\"28.942188\" y=\"80.800639\" style=\"stroke: #000000; stroke-width: 0.8\"/>\n      </g>\n     </g>\n     <g id=\"text_11\">\n      <!-- 1 -->\n      <g transform=\"translate(15.579688 84.599857)scale(0.1 -0.1)\">\n       <use xlink:href=\"#DejaVuSans-31\"/>\n      </g>\n     </g>\n    </g>\n    <g id=\"ytick_6\">\n     <g id=\"line2d_40\">\n      <g>\n       <use xlink:href=\"#mf4631e30b1\" x=\"28.942188\" y=\"45.899929\" style=\"stroke: #000000; stroke-width: 0.8\"/>\n      </g>\n     </g>\n     <g id=\"text_12\">\n      <!-- 2 -->\n      <g transform=\"translate(15.579688 49.699147)scale(0.1 -0.1)\">\n       <use xlink:href=\"#DejaVuSans-32\"/>\n      </g>\n     </g>\n    </g>\n    <g id=\"ytick_7\">\n     <g id=\"line2d_41\">\n      <g>\n       <use xlink:href=\"#mf4631e30b1\" x=\"28.942188\" y=\"10.999219\" style=\"stroke: #000000; stroke-width: 0.8\"/>\n      </g>\n     </g>\n     <g id=\"text_13\">\n      <!-- 3 -->\n      <g transform=\"translate(15.579688 14.798437)scale(0.1 -0.1)\">\n       <use xlink:href=\"#DejaVuSans-33\"/>\n      </g>\n     </g>\n    </g>\n   </g>\n   <g id=\"line2d_42\">\n    <path d=\"M 28.942187 93.56424 \nL 29.277323 85.326673 \nL 29.612458 156.322073 \nL 29.947593 112.383665 \nL 30.282728 155.367112 \nL 30.617863 119.45385 \nL 30.952998 178.715064 \nL 31.623269 56.264628 \nL 31.958404 133.52222 \nL 32.628674 94.326361 \nL 32.963809 98.2512 \nL 33.298944 146.464941 \nL 33.634079 74.137625 \nL 33.969215 100.438423 \nL 34.30435 39.926398 \nL 34.639485 121.229103 \nL 34.97462 120.772903 \nL 35.309755 65.378799 \nL 35.64489 109.860262 \nL 35.980025 178.76064 \nL 36.31516 68.168758 \nL 36.650296 94.294958 \nL 36.985431 138.299819 \nL 37.320566 68.340025 \nL 37.655701 142.874591 \nL 37.990836 152.94937 \nL 38.325971 150.988155 \nL 38.661106 52.779423 \nL 38.996242 162.029256 \nL 39.666512 122.530952 \nL 40.001647 59.595585 \nL 40.671917 187.14124 \nL 41.007052 131.996133 \nL 41.342187 100.477297 \nL 41.677323 92.916966 \nL 42.347593 164.242389 \nL 42.682728 92.417384 \nL 43.017863 122.220168 \nL 43.352998 111.546689 \nL 43.688133 158.675698 \nL 44.023269 118.258598 \nL 44.358404 150.454764 \nL 44.693539 117.287362 \nL 45.028674 141.184537 \nL 45.363809 64.178951 \nL 46.369215 146.11825 \nL 46.70435 52.151049 \nL 47.039485 71.15465 \nL 47.37462 193.80956 \nL 47.709755 98.217392 \nL 48.04489 95.616711 \nL 48.380025 98.196885 \nL 48.71516 156.30262 \nL 49.385431 96.792955 \nL 50.055701 148.230149 \nL 50.390836 75.429803 \nL 50.725971 88.723639 \nL 51.061106 106.628183 \nL 51.731377 167.361736 \nL 52.066512 110.880483 \nL 52.401647 165.521175 \nL 52.736782 156.331479 \nL 53.071917 80.305266 \nL 53.407052 173.460418 \nL 53.742188 160.655906 \nL 54.077323 173.846004 \nL 54.412458 91.306933 \nL 54.747593 147.685976 \nL 55.082728 114.532317 \nL 55.752998 155.696056 \nL 56.088133 158.610468 \nL 56.423269 51.345096 \nL 56.758404 109.045683 \nL 57.428674 104.641387 \nL 57.763809 98.306528 \nL 58.098944 20.802997 \nL 58.434079 132.269928 \nL 58.769215 156.146456 \nL 59.10435 114.620869 \nL 59.439485 18.999796 \nL 59.77462 151.326963 \nL 60.109755 57.075675 \nL 60.44489 169.30641 \nL 60.780025 105.386534 \nL 61.11516 187.561494 \nL 61.450296 95.586935 \nL 61.785431 128.543328 \nL 62.120566 102.090211 \nL 62.455701 41.532444 \nL 62.790836 163.26193 \nL 63.125971 154.996463 \nL 63.461106 129.763693 \nL 63.796242 142.563088 \nL 64.131377 67.081705 \nL 64.466512 79.982616 \nL 64.801647 104.724355 \nL 65.136782 91.880724 \nL 65.471917 151.511363 \nL 65.807052 122.304605 \nL 66.142187 44.984508 \nL 66.477323 128.666766 \nL 66.812458 154.678002 \nL 67.482728 38.02583 \nL 67.817863 49.131401 \nL 68.152998 121.727269 \nL 68.488133 87.707051 \nL 68.823269 105.641257 \nL 69.158404 136.041273 \nL 69.493539 94.620365 \nL 69.828674 160.081713 \nL 70.163809 74.816231 \nL 70.498944 92.672115 \nL 70.834079 158.206 \nL 71.169215 130.915463 \nL 71.50435 93.810218 \nL 71.839485 135.582283 \nL 72.17462 131.378981 \nL 72.509755 95.248239 \nL 72.84489 37.098837 \nL 73.180025 157.316311 \nL 73.51516 126.242149 \nL 73.850296 111.768562 \nL 74.185431 80.577659 \nL 74.520566 65.02913 \nL 74.855701 98.449873 \nL 75.190836 101.063311 \nL 75.525971 159.597255 \nL 75.861106 132.835277 \nL 76.196242 70.762791 \nL 76.531377 67.434448 \nL 76.866512 152.047593 \nL 77.201647 78.46639 \nL 77.536782 66.593278 \nL 77.871917 92.010593 \nL 78.207052 56.656849 \nL 78.542188 145.376795 \nL 78.877323 152.676344 \nL 79.547593 127.792065 \nL 79.882728 62.716159 \nL 80.217863 184.048955 \nL 80.552998 95.913032 \nL 80.888133 172.796316 \nL 81.223269 114.160394 \nL 81.558404 124.835381 \nL 81.893539 129.198613 \nL 82.228674 183.607414 \nL 82.563809 72.528009 \nL 82.898944 141.805481 \nL 83.234079 90.549299 \nL 83.569215 139.23144 \nL 83.90435 66.659534 \nL 84.239485 187.289982 \nL 84.57462 116.354199 \nL 84.909755 71.489765 \nL 85.580025 124.577889 \nL 85.91516 114.110816 \nL 86.250296 111.419471 \nL 86.585431 19.50618 \nL 86.920566 191.191898 \nL 87.590836 133.928394 \nL 87.925971 97.77607 \nL 88.261106 104.613699 \nL 88.596242 117.235081 \nL 89.266512 158.893171 \nL 89.601647 134.747254 \nL 89.936782 147.15219 \nL 90.271917 109.190342 \nL 90.607052 143.981644 \nL 90.942187 103.156116 \nL 91.277323 139.344754 \nL 91.612458 73.475864 \nL 91.947593 110.989235 \nL 92.282728 133.428715 \nL 92.617863 192.650661 \nL 92.952998 142.511487 \nL 93.288133 110.669708 \nL 93.623269 126.78166 \nL 93.958404 134.381614 \nL 94.293539 130.8903 \nL 94.628674 164.429678 \nL 94.963809 118.62236 \nL 95.298944 109.686963 \nL 95.969215 133.912772 \nL 96.30435 69.778435 \nL 96.97462 90.445156 \nL 97.309755 152.278168 \nL 97.64489 103.900971 \nL 97.980025 144.928374 \nL 98.31516 83.446492 \nL 98.650296 91.954272 \nL 98.985431 119.681052 \nL 99.320566 131.525794 \nL 99.655701 101.114621 \nL 99.990836 169.54351 \nL 100.325971 128.367173 \nL 100.661106 112.981351 \nL 100.996242 89.169092 \nL 101.331377 101.657196 \nL 101.666512 140.315052 \nL 102.336782 77.214571 \nL 102.671917 67.350377 \nL 103.007052 97.370291 \nL 103.342187 94.724003 \nL 103.677323 105.141656 \nL 104.012458 109.692053 \nL 104.347593 78.413612 \nL 104.682728 142.424936 \nL 105.017863 100.325961 \nL 105.352998 81.081158 \nL 105.688133 143.165193 \nL 106.023269 98.076024 \nL 106.358404 133.811702 \nL 106.693539 61.108947 \nL 107.028674 72.661654 \nL 107.363809 155.425028 \nL 107.698944 132.516261 \nL 108.034079 152.359411 \nL 108.369215 152.906172 \nL 108.70435 105.865009 \nL 109.039485 107.077531 \nL 109.37462 191.100148 \nL 109.709755 183.282857 \nL 110.04489 76.664461 \nL 110.380025 84.272415 \nL 110.71516 128.047823 \nL 111.050296 111.050635 \nL 111.385431 77.788488 \nL 111.720566 115.019095 \nL 112.055701 100.824615 \nL 112.390836 134.28232 \nL 112.725971 93.955923 \nL 113.061106 89.275827 \nL 113.396242 94.547668 \nL 113.731377 110.612095 \nL 114.066512 110.058122 \nL 114.401647 160.597773 \nL 114.736782 172.35073 \nL 115.071917 74.609321 \nL 115.407052 116.356965 \nL 115.742188 97.842818 \nL 116.077323 139.412699 \nL 116.412458 128.016614 \nL 117.082728 139.590189 \nL 117.752998 101.334738 \nL 118.088133 97.828065 \nL 118.423269 62.334214 \nL 118.758404 141.122106 \nL 119.093539 75.578592 \nL 119.428674 126.897268 \nL 119.763809 93.995734 \nL 120.098944 164.228527 \nL 120.434079 150.916727 \nL 120.769215 102.161478 \nL 121.10435 91.33816 \nL 121.439485 96.573838 \nL 121.77462 115.147666 \nL 122.109755 148.193977 \nL 122.780025 130.320843 \nL 123.11516 179.054501 \nL 123.450296 69.907554 \nL 123.785431 139.784056 \nL 124.120566 178.179609 \nL 124.455701 68.063858 \nL 124.790836 107.037455 \nL 125.461106 139.31332 \nL 125.796242 63.446883 \nL 126.131377 164.0174 \nL 126.466512 140.371762 \nL 126.801647 155.226133 \nL 127.471917 54.965004 \nL 128.142187 157.25918 \nL 128.477323 169.338981 \nL 128.812458 153.569433 \nL 129.147593 129.230621 \nL 129.482728 152.069481 \nL 129.817863 135.897709 \nL 130.152998 47.213518 \nL 130.488133 68.894603 \nL 130.823269 63.439965 \nL 131.493539 136.054726 \nL 131.828674 156.430552 \nL 132.163809 39.483708 \nL 132.498944 119.07386 \nL 132.834079 63.429788 \nL 133.169215 131.515806 \nL 133.50435 87.808905 \nL 133.839485 171.233389 \nL 134.17462 89.348571 \nL 134.509755 172.960842 \nL 134.84489 37.104726 \nL 135.180025 101.326563 \nL 135.51516 119.440305 \nL 135.850296 119.595987 \nL 136.185431 113.840525 \nL 136.520566 64.705149 \nL 136.855701 119.087457 \nL 137.190836 125.249732 \nL 137.525971 116.615966 \nL 137.861106 130.37868 \nL 138.196242 77.940456 \nL 138.531377 104.193422 \nL 138.866512 73.370948 \nL 139.201647 103.819904 \nL 139.536782 145.215069 \nL 139.871917 102.67979 \nL 140.207052 145.029259 \nL 140.542188 173.132116 \nL 140.877323 150.777936 \nL 141.212458 47.24489 \nL 141.547593 111.01219 \nL 141.882728 115.764471 \nL 142.217863 96.849546 \nL 142.552998 113.923496 \nL 142.888133 116.293314 \nL 143.223269 135.626349 \nL 143.558404 131.911979 \nL 143.893539 103.519783 \nL 144.228674 87.774168 \nL 144.563809 100.966023 \nL 144.898944 63.488515 \nL 145.234079 151.207508 \nL 145.569215 150.643694 \nL 145.90435 107.400915 \nL 146.239485 113.759375 \nL 146.57462 169.454449 \nL 146.909755 179.857742 \nL 147.24489 93.949964 \nL 147.580025 165.628365 \nL 147.91516 142.966092 \nL 148.250296 147.603992 \nL 148.585431 61.676373 \nL 148.920566 185.033503 \nL 149.255701 110.727397 \nL 149.590836 137.203892 \nL 149.925971 90.019238 \nL 150.261106 130.714362 \nL 150.596242 132.215802 \nL 150.931377 90.747069 \nL 151.266512 108.54528 \nL 151.601647 86.526433 \nL 151.936782 148.15159 \nL 152.271917 140.999513 \nL 152.607052 33.066692 \nL 152.942187 124.072916 \nL 153.277323 116.818508 \nL 153.612458 121.125953 \nL 153.947593 131.516867 \nL 154.282728 136.400465 \nL 154.617863 83.830321 \nL 154.952998 72.989639 \nL 155.288133 34.775028 \nL 155.623269 124.640913 \nL 155.958404 91.837933 \nL 156.293539 106.737958 \nL 156.628674 76.112887 \nL 156.963809 57.706238 \nL 157.634079 134.619662 \nL 157.969215 144.667268 \nL 158.639485 70.669896 \nL 158.97462 113.429457 \nL 159.309755 88.815791 \nL 159.64489 123.670556 \nL 159.980025 96.40501 \nL 160.31516 143.627447 \nL 160.650296 126.560518 \nL 160.985431 120.170222 \nL 161.320566 84.941696 \nL 161.655701 122.621314 \nL 161.990836 127.370102 \nL 162.325971 103.949006 \nL 162.661106 93.32917 \nL 162.996242 28.393035 \nL 163.331377 136.612089 \nL 163.666512 166.188023 \nL 164.001647 38.468131 \nL 164.336782 133.631634 \nL 164.671917 123.204074 \nL 165.007052 198.897415 \nL 165.342187 75.815008 \nL 165.677323 118.970998 \nL 166.012458 85.226237 \nL 166.347593 172.173698 \nL 166.682728 132.349119 \nL 167.017863 58.393419 \nL 167.352998 86.354867 \nL 167.688133 88.40946 \nL 168.023269 119.900326 \nL 168.358404 170.400777 \nL 169.028674 40.776201 \nL 169.363809 207.224242 \nL 169.698944 117.350602 \nL 170.034079 158.164886 \nL 170.369215 158.589389 \nL 170.70435 128.423613 \nL 171.039485 64.890572 \nL 171.709755 154.922599 \nL 172.04489 109.329761 \nL 172.380025 117.150848 \nL 173.050296 80.773029 \nL 173.385431 88.440072 \nL 173.720566 66.249826 \nL 174.390836 130.2597 \nL 174.725971 114.567135 \nL 175.061106 141.193299 \nL 175.396242 122.96683 \nL 175.731377 95.748754 \nL 176.066512 157.136805 \nL 176.736782 70.94416 \nL 177.071917 135.087737 \nL 177.407052 144.630196 \nL 177.742188 141.614282 \nL 178.412458 95.738209 \nL 178.747593 133.839689 \nL 179.082728 88.175113 \nL 179.417863 141.115168 \nL 179.752998 90.23433 \nL 180.088133 163.751537 \nL 181.093539 86.262872 \nL 181.428674 99.931503 \nL 181.763809 39.964955 \nL 182.434079 156.453683 \nL 182.769215 92.03087 \nL 183.10435 161.663857 \nL 183.439485 111.34264 \nL 183.77462 107.028566 \nL 184.109755 61.305086 \nL 184.44489 87.11376 \nL 184.780025 133.87222 \nL 185.11516 93.642326 \nL 185.450296 138.363226 \nL 185.785431 123.62441 \nL 186.120566 87.761297 \nL 186.455701 73.202558 \nL 186.790836 148.711217 \nL 187.125971 72.783721 \nL 187.461106 102.299962 \nL 187.796242 95.633667 \nL 188.131377 106.878342 \nL 188.466512 180.520874 \nL 188.801647 52.542261 \nL 189.136782 166.261128 \nL 189.471917 80.700931 \nL 189.807052 134.269409 \nL 190.142187 64.449689 \nL 190.477323 121.303524 \nL 190.812458 158.661496 \nL 191.147593 139.749027 \nL 191.817863 89.690299 \nL 192.152998 102.861512 \nL 192.488133 190.713284 \nL 192.823269 115.85642 \nL 193.158404 87.321801 \nL 193.493539 112.175234 \nL 193.828674 112.733709 \nL 194.163809 52.427517 \nL 194.498944 125.142133 \nL 194.834079 86.825245 \nL 195.169215 119.720616 \nL 195.50435 121.418372 \nL 195.839485 32.760744 \nL 196.17462 77.478563 \nL 196.509755 72.778964 \nL 196.84489 132.350298 \nL 197.51516 178.65356 \nL 197.850296 137.003951 \nL 198.185431 81.050962 \nL 198.520566 189.845303 \nL 198.855701 198.371891 \nL 199.190836 65.0016 \nL 199.525971 80.861488 \nL 199.861106 205.684057 \nL 200.196242 134.146298 \nL 200.531377 109.398257 \nL 200.866512 97.693564 \nL 201.201647 150.910258 \nL 201.536782 94.403746 \nL 201.871917 100.20798 \nL 202.207052 49.37769 \nL 202.542188 103.064763 \nL 202.877323 84.448482 \nL 203.212458 42.239863 \nL 203.547593 145.658513 \nL 204.217863 88.294059 \nL 204.552998 83.008804 \nL 204.888133 120.944635 \nL 205.223269 113.479136 \nL 205.558404 112.94527 \nL 205.893539 126.086263 \nL 206.228674 89.048532 \nL 206.563809 156.170457 \nL 206.898944 142.840035 \nL 207.234079 124.796162 \nL 207.569215 131.949361 \nL 207.90435 110.541552 \nL 208.239485 144.740624 \nL 208.57462 163.597355 \nL 208.909755 159.001726 \nL 209.24489 71.621322 \nL 209.580025 128.514079 \nL 209.91516 160.965976 \nL 210.250296 58.477103 \nL 210.585431 152.016223 \nL 210.920566 93.343429 \nL 211.255701 92.643721 \nL 211.590836 150.02351 \nL 211.925971 130.830566 \nL 212.261106 142.416268 \nL 212.596242 122.809386 \nL 212.931377 127.206164 \nL 213.266512 119.081663 \nL 213.601647 81.110099 \nL 213.936782 100.63652 \nL 214.271917 127.370836 \nL 214.607052 81.752781 \nL 214.942187 104.509084 \nL 215.277323 78.290205 \nL 215.612458 96.515234 \nL 215.947593 125.255648 \nL 216.282728 130.944268 \nL 216.617863 213.364662 \nL 216.952998 132.522992 \nL 217.288133 202.603205 \nL 217.623269 193.680288 \nL 218.293539 141.478208 \nL 218.628674 89.923876 \nL 218.963809 130.030867 \nL 219.298944 125.130547 \nL 219.634079 109.650888 \nL 219.969215 139.56295 \nL 220.30435 94.71347 \nL 220.639485 71.073939 \nL 221.309755 127.643857 \nL 221.64489 63.804556 \nL 221.980025 160.342521 \nL 222.31516 95.028854 \nL 222.650296 147.886145 \nL 222.985431 64.905483 \nL 223.320566 181.229171 \nL 223.655701 71.153419 \nL 223.990836 130.875707 \nL 224.325971 158.158194 \nL 224.661106 148.756152 \nL 224.996242 111.426522 \nL 225.331377 210.675422 \nL 225.666512 97.789692 \nL 226.001647 102.817908 \nL 226.336782 181.837832 \nL 226.671917 135.484705 \nL 227.007052 129.827635 \nL 227.342187 84.457966 \nL 227.677323 108.612622 \nL 228.012458 83.149501 \nL 228.347593 128.729039 \nL 228.682728 61.421673 \nL 229.017863 66.876401 \nL 229.688133 145.438722 \nL 230.023269 88.294202 \nL 230.358404 150.138352 \nL 230.693539 150.350577 \nL 231.028674 131.099353 \nL 231.363809 78.963177 \nL 231.698944 76.869592 \nL 232.034079 100.481013 \nL 232.369215 94.622129 \nL 232.70435 137.565284 \nL 233.039485 111.880376 \nL 233.37462 99.186896 \nL 233.709755 40.194883 \nL 234.04489 127.148271 \nL 234.380025 163.860603 \nL 234.71516 83.706783 \nL 235.050296 89.561852 \nL 235.385431 61.634282 \nL 235.720566 79.371356 \nL 236.055701 116.522622 \nL 236.390836 107.706602 \nL 236.725971 120.657855 \nL 237.061106 166.623487 \nL 237.396242 98.574455 \nL 237.731377 120.289786 \nL 238.066512 105.048215 \nL 238.401647 155.015113 \nL 238.736782 135.159033 \nL 239.071917 96.306424 \nL 239.407052 166.130752 \nL 239.742188 131.826773 \nL 240.077323 115.588549 \nL 240.412458 85.136975 \nL 240.747593 77.742165 \nL 241.082728 109.100846 \nL 241.417863 81.490253 \nL 241.752998 123.895644 \nL 242.088133 99.083396 \nL 242.423269 63.438321 \nL 242.758404 131.945046 \nL 243.093539 116.444031 \nL 243.428674 122.740299 \nL 243.763809 74.921582 \nL 244.098944 129.589597 \nL 244.434079 66.286209 \nL 244.769215 162.260832 \nL 245.10435 203.213389 \nL 245.439485 84.06656 \nL 245.77462 98.930988 \nL 246.109755 34.272997 \nL 246.44489 132.833393 \nL 246.780025 95.304665 \nL 247.11516 127.805349 \nL 247.450296 116.300306 \nL 247.785431 18.012127 \nL 248.120566 75.939784 \nL 248.790836 126.551112 \nL 249.125971 108.251763 \nL 249.461106 74.286829 \nL 249.796242 71.888946 \nL 250.131377 155.345808 \nL 250.466512 111.408325 \nL 250.801647 132.967464 \nL 251.136782 141.215859 \nL 251.471917 171.988894 \nL 251.807052 91.507804 \nL 252.142187 118.614599 \nL 252.477323 97.599219 \nL 252.812458 89.488575 \nL 253.147593 98.427187 \nL 253.482728 128.526027 \nL 253.817863 66.769183 \nL 254.152998 133.372414 \nL 254.488133 79.781389 \nL 254.823269 109.69532 \nL 255.158404 158.337768 \nL 255.493539 149.587983 \nL 255.828674 70.629474 \nL 256.163809 138.601354 \nL 256.498944 70.153229 \nL 256.834079 205.185482 \nL 257.50435 79.686984 \nL 257.839485 57.877047 \nL 258.17462 174.902658 \nL 258.509755 34.987146 \nL 259.180025 172.352033 \nL 259.51516 151.006374 \nL 259.850296 72.545102 \nL 260.185431 92.665579 \nL 260.520566 75.357308 \nL 260.855701 138.395391 \nL 261.190836 139.737756 \nL 261.525971 136.283048 \nL 261.861106 131.239448 \nL 262.196242 179.319032 \nL 262.531377 144.732661 \nL 262.866512 135.041788 \nL 263.201647 85.340981 \nL 263.536782 173.19023 \nL 263.871917 91.848127 \nL 264.207052 181.071708 \nL 264.542188 85.32355 \nL 264.877323 120.491747 \nL 265.212458 118.974145 \nL 265.547593 114.066195 \nL 265.882728 158.486653 \nL 266.217863 133.419563 \nL 266.552998 118.199898 \nL 266.888133 110.188528 \nL 267.223269 96.230175 \nL 267.558404 129.187117 \nL 267.893539 137.560142 \nL 268.228674 128.889244 \nL 268.563809 193.025224 \nL 268.898944 88.795131 \nL 269.234079 172.990469 \nL 269.569215 85.427421 \nL 269.90435 130.054677 \nL 270.57462 159.197184 \nL 270.909755 94.770757 \nL 271.24489 65.254401 \nL 271.580025 161.955057 \nL 271.91516 88.720748 \nL 272.250296 106.359334 \nL 272.585431 95.638245 \nL 272.920566 73.960245 \nL 273.255701 88.493822 \nL 273.590836 94.003366 \nL 273.925971 95.435088 \nL 274.261106 145.684023 \nL 274.596242 88.894979 \nL 274.931377 112.340823 \nL 275.266512 150.451745 \nL 275.601647 162.286509 \nL 275.936782 83.719064 \nL 276.271917 139.076626 \nL 276.607052 143.447439 \nL 276.942187 162.750804 \nL 277.277323 109.643039 \nL 277.612458 165.334065 \nL 277.947593 170.021016 \nL 278.282728 148.842415 \nL 278.617863 135.703128 \nL 278.952998 137.128157 \nL 279.288133 151.922149 \nL 279.623269 129.211431 \nL 279.958404 152.248771 \nL 280.293539 100.435 \nL 280.628674 93.961748 \nL 280.963809 182.442811 \nL 281.298944 140.471952 \nL 281.634079 133.436874 \nL 281.969215 134.88614 \nL 282.30435 119.313947 \nL 282.639485 139.420091 \nL 282.97462 118.673958 \nL 283.309755 132.670497 \nL 283.64489 118.980344 \nL 284.650296 49.264191 \nL 284.985431 91.917576 \nL 285.320566 109.29538 \nL 285.655701 110.57974 \nL 285.990836 215.684855 \nL 286.325971 144.943762 \nL 286.661106 135.195341 \nL 286.996242 173.116509 \nL 287.331377 152.819572 \nL 287.666512 119.357431 \nL 288.336782 145.901352 \nL 288.671917 93.65875 \nL 289.007052 139.110573 \nL 289.342187 90.977517 \nL 289.677323 106.780557 \nL 290.347593 119.491301 \nL 290.682728 118.163154 \nL 291.017863 147.865109 \nL 291.352998 86.341604 \nL 291.688133 123.451428 \nL 292.023269 82.069607 \nL 292.358404 141.448673 \nL 292.693539 76.395166 \nL 293.028674 128.724148 \nL 293.363809 113.978522 \nL 293.698944 167.920962 \nL 294.034079 157.276475 \nL 294.369215 62.941888 \nL 294.70435 132.146428 \nL 295.039485 72.559615 \nL 295.37462 187.14808 \nL 295.709755 192.254978 \nL 296.04489 141.882938 \nL 296.380025 140.244973 \nL 296.71516 145.524201 \nL 297.050296 84.468016 \nL 297.385431 157.022651 \nL 298.055701 38.934016 \nL 298.390836 147.567113 \nL 298.725971 97.494856 \nL 299.061106 90.622166 \nL 299.396242 140.123071 \nL 299.731377 148.663848 \nL 300.066512 120.525157 \nL 300.401647 148.057142 \nL 300.736782 139.642107 \nL 301.071917 76.882073 \nL 301.407052 105.982173 \nL 301.742188 71.036578 \nL 302.077323 104.964145 \nL 302.412458 47.708275 \nL 302.747593 103.591968 \nL 303.082728 95.643461 \nL 303.417863 176.387387 \nL 303.752998 137.631641 \nL 304.088133 126.644118 \nL 304.758404 93.168547 \nL 305.093539 133.662338 \nL 305.428674 97.739522 \nL 305.763809 128.161712 \nL 306.098944 111.579439 \nL 306.434079 162.335982 \nL 306.769215 57.508633 \nL 307.10435 82.327227 \nL 307.439485 60.314264 \nL 307.77462 148.847944 \nL 308.44489 89.501368 \nL 308.780025 126.386619 \nL 309.11516 129.489425 \nL 309.450296 134.876093 \nL 309.785431 131.432605 \nL 310.120566 151.742923 \nL 310.455701 81.36197 \nL 310.790836 162.197259 \nL 311.125971 128.542226 \nL 311.461106 125.488593 \nL 311.796242 119.193325 \nL 312.466512 90.573849 \nL 312.801647 105.962091 \nL 313.136782 94.338207 \nL 313.471917 155.450114 \nL 313.807052 143.491697 \nL 314.142187 173.016674 \nL 314.477323 161.016175 \nL 314.812458 128.652172 \nL 315.147593 122.720458 \nL 315.482728 75.278886 \nL 315.817863 86.243694 \nL 316.152998 102.581999 \nL 316.488133 94.860982 \nL 316.823269 111.466293 \nL 317.158404 134.026021 \nL 317.493539 73.299066 \nL 317.828674 83.619284 \nL 318.163809 186.99424 \nL 318.498944 92.509919 \nL 318.834079 152.696245 \nL 319.50435 30.113204 \nL 319.839485 119.568908 \nL 320.17462 129.872421 \nL 320.509755 161.146108 \nL 320.84489 152.309415 \nL 321.180025 110.650345 \nL 321.51516 187.243946 \nL 321.850296 177.837321 \nL 322.185431 158.780125 \nL 322.520566 119.917664 \nL 322.855701 68.037593 \nL 323.190836 121.101249 \nL 323.525971 148.967731 \nL 323.861106 123.819997 \nL 324.196242 163.934939 \nL 324.531377 144.58384 \nL 324.866512 110.681879 \nL 325.201647 202.977809 \nL 325.536782 53.344342 \nL 325.871917 152.032464 \nL 326.207052 121.070617 \nL 326.542188 129.347953 \nL 326.877323 120.903183 \nL 327.212458 104.899136 \nL 327.547593 178.19588 \nL 327.882728 158.48053 \nL 328.217863 98.791334 \nL 328.552998 97.147872 \nL 328.888133 63.680052 \nL 329.223269 180.725552 \nL 329.893539 73.730037 \nL 330.563809 81.940497 \nL 330.898944 125.623748 \nL 331.234079 153.834549 \nL 331.569215 159.439325 \nL 331.90435 68.401453 \nL 332.239485 100.749669 \nL 332.57462 171.595442 \nL 332.909755 118.330062 \nL 333.24489 118.977112 \nL 333.580025 149.214442 \nL 334.250296 109.045172 \nL 334.585431 151.417578 \nL 334.920566 122.819099 \nL 335.255701 137.987166 \nL 335.590836 103.65862 \nL 335.925971 102.206739 \nL 336.261106 188.713309 \nL 336.596242 63.893455 \nL 336.931377 104.807416 \nL 337.266512 85.368814 \nL 337.601647 83.001002 \nL 337.936782 177.185707 \nL 338.271917 92.601391 \nL 338.607052 84.096298 \nL 338.942187 59.387249 \nL 339.277323 71.416368 \nL 339.612458 165.703297 \nL 339.947593 85.41978 \nL 340.282728 62.490003 \nL 340.617863 182.468172 \nL 340.952998 41.416846 \nL 341.288133 120.182944 \nL 341.623269 153.505517 \nL 341.958404 74.245049 \nL 342.293539 114.6575 \nL 342.628674 96.932274 \nL 342.963809 134.813958 \nL 343.298944 92.990105 \nL 343.969215 70.18329 \nL 344.30435 171.056147 \nL 344.639485 57.949467 \nL 344.97462 150.670539 \nL 345.309755 144.500629 \nL 345.64489 89.954768 \nL 346.31516 119.734047 \nL 346.650296 112.560661 \nL 346.985431 148.666744 \nL 347.320566 162.17418 \nL 347.990836 129.287336 \nL 348.325971 192.627167 \nL 348.661106 123.284364 \nL 348.996242 121.163585 \nL 349.331377 130.528752 \nL 349.666512 143.848395 \nL 350.001647 108.092986 \nL 350.336782 91.822845 \nL 350.671917 140.065649 \nL 351.007052 101.610895 \nL 351.342187 195.656852 \nL 351.677323 117.854742 \nL 352.012458 131.681424 \nL 352.347593 97.367874 \nL 352.682728 139.389291 \nL 353.017863 121.224449 \nL 353.352998 146.140009 \nL 353.688133 99.940469 \nL 354.023269 139.204144 \nL 354.358404 135.971507 \nL 354.693539 95.397191 \nL 355.363809 104.069419 \nL 355.698944 120.456839 \nL 356.034079 108.649305 \nL 356.369215 154.361719 \nL 356.70435 116.718233 \nL 357.039485 105.254764 \nL 357.37462 89.031674 \nL 357.709755 123.130735 \nL 358.04489 118.302968 \nL 358.380025 69.60152 \nL 358.71516 153.123834 \nL 359.050296 140.478366 \nL 359.385431 82.303369 \nL 359.720566 150.637778 \nL 360.390836 44.593316 \nL 360.725971 111.251401 \nL 361.061106 132.357665 \nL 361.731377 64.937315 \nL 362.066512 68.916576 \nL 362.401647 141.942383 \nL 362.736782 97.985112 \nL 363.071917 150.862415 \nL 363.407052 118.038946 \nL 363.742188 97.512802 \nL 363.742188 97.512802 \n\" clip-path=\"url(#pb2fc4f7def)\" style=\"fill: none; stroke: #1f77b4; stroke-width: 1.5; stroke-linecap: square\"/>\n   </g>\n   <g id=\"patch_3\">\n    <path d=\"M 28.942188 225.568491 \nL 28.942188 8.128491 \n\" style=\"fill: none; stroke: #000000; stroke-width: 0.8; stroke-linejoin: miter; stroke-linecap: square\"/>\n   </g>\n   <g id=\"patch_4\">\n    <path d=\"M 363.742188 225.568491 \nL 363.742188 8.128491 \n\" style=\"fill: none; stroke: #000000; stroke-width: 0.8; stroke-linejoin: miter; stroke-linecap: square\"/>\n   </g>\n   <g id=\"patch_5\">\n    <path d=\"M 28.942187 225.568491 \nL 363.742188 225.568491 \n\" style=\"fill: none; stroke: #000000; stroke-width: 0.8; stroke-linejoin: miter; stroke-linecap: square\"/>\n   </g>\n   <g id=\"patch_6\">\n    <path d=\"M 28.942187 8.128491 \nL 363.742188 8.128491 \n\" style=\"fill: none; stroke: #000000; stroke-width: 0.8; stroke-linejoin: miter; stroke-linecap: square\"/>\n   </g>\n  </g>\n </g>\n <defs>\n  <clipPath id=\"pb2fc4f7def\">\n   <rect x=\"28.942188\" y=\"8.128491\" width=\"334.8\" height=\"217.44\"/>\n  </clipPath>\n </defs>\n</svg>\n",
      "text/plain": [
       "<Figure size 432x288 with 1 Axes>"
      ]
     },
     "metadata": {
      "needs_background": "light"
     },
     "output_type": "display_data"
    }
   ],
   "source": [
    "ts = pd.Series(np.random.randn(1000), index=pd.date_range(\"1/1/2022\", periods=1000))\n",
    "ts.plot()"
   ]
  },
  {
   "cell_type": "code",
   "execution_count": 97,
   "metadata": {},
   "outputs": [
    {
     "data": {
      "text/plain": [
       "<AxesSubplot:>"
      ]
     },
     "execution_count": 97,
     "metadata": {},
     "output_type": "execute_result"
    },
    {
     "data": {
      "image/png": "[encoded data removed]",
      "image/svg+xml": "<?xml version=\"1.0\" encoding=\"utf-8\" standalone=\"no\"?>\n<!DOCTYPE svg PUBLIC \"-//W3C//DTD SVG 1.1//EN\"\n  \"http://www.w3.org/Graphics/SVG/1.1/DTD/svg11.dtd\">\n<svg xmlns:xlink=\"http://www.w3.org/1999/xlink\" width=\"377.304688pt\" height=\"259.715937pt\" viewBox=\"0 0 377.304688 259.715937\" xmlns=\"http://www.w3.org/2000/svg\" version=\"1.1\">\n <metadata>\n  <rdf:RDF xmlns:dc=\"http://purl.org/dc/elements/1.1/\" xmlns:cc=\"http://creativecommons.org/ns#\" xmlns:rdf=\"http://www.w3.org/1999/02/22-rdf-syntax-ns#\">\n   <cc:Work>\n    <dc:type rdf:resource=\"http://purl.org/dc/dcmitype/StillImage\"/>\n    <dc:date>2022-04-14T23:47:08.457926</dc:date>\n    <dc:format>image/svg+xml</dc:format>\n    <dc:creator>\n     <cc:Agent>\n      <dc:title>Matplotlib v3.5.1, https://matplotlib.org/</dc:title>\n     </cc:Agent>\n    </dc:creator>\n   </cc:Work>\n  </rdf:RDF>\n </metadata>\n <defs>\n  <style type=\"text/css\">*{stroke-linejoin: round; stroke-linecap: butt}</style>\n </defs>\n <g id=\"figure_1\">\n  <g id=\"patch_1\">\n   <path d=\"M 0 259.715937 \nL 377.304688 259.715937 \nL 377.304688 0 \nL 0 0 \nL 0 259.715937 \nz\n\" style=\"fill: none\"/>\n  </g>\n  <g id=\"axes_1\">\n   <g id=\"patch_2\">\n    <path d=\"M 35.304688 224.64 \nL 370.104688 224.64 \nL 370.104688 7.2 \nL 35.304688 7.2 \nz\n\" style=\"fill: #ffffff\"/>\n   </g>\n   <g id=\"matplotlib.axis_1\">\n    <g id=\"xtick_1\">\n     <g id=\"line2d_1\">\n      <defs>\n       <path id=\"m64022f8bed\" d=\"M 0 0 \nL 0 3.5 \n\" style=\"stroke: #000000; stroke-width: 0.8\"/>\n      </defs>\n      <g>\n       <use xlink:href=\"#m64022f8bed\" x=\"35.304688\" y=\"224.64\" style=\"stroke: #000000; stroke-width: 0.8\"/>\n      </g>\n     </g>\n     <g id=\"text_1\">\n      <!-- Jan -->\n      <g transform=\"translate(27.596875 239.238438)scale(0.1 -0.1)\">\n       <defs>\n        <path id=\"DejaVuSans-4a\" d=\"M 628 4666 \nL 1259 4666 \nL 1259 325 \nQ 1259 -519 939 -900 \nQ 619 -1281 -91 -1281 \nL -331 -1281 \nL -331 -750 \nL -134 -750 \nQ 284 -750 456 -515 \nQ 628 -281 628 325 \nL 628 4666 \nz\n\" transform=\"scale(0.015625)\"/>\n        <path id=\"DejaVuSans-61\" d=\"M 2194 1759 \nQ 1497 1759 1228 1600 \nQ 959 1441 959 1056 \nQ 959 750 1161 570 \nQ 1363 391 1709 391 \nQ 2188 391 2477 730 \nQ 2766 1069 2766 1631 \nL 2766 1759 \nL 2194 1759 \nz\nM 3341 1997 \nL 3341 0 \nL 2766 0 \nL 2766 531 \nQ 2569 213 2275 61 \nQ 1981 -91 1556 -91 \nQ 1019 -91 701 211 \nQ 384 513 384 1019 \nQ 384 1609 779 1909 \nQ 1175 2209 1959 2209 \nL 2766 2209 \nL 2766 2266 \nQ 2766 2663 2505 2880 \nQ 2244 3097 1772 3097 \nQ 1472 3097 1187 3025 \nQ 903 2953 641 2809 \nL 641 3341 \nQ 956 3463 1253 3523 \nQ 1550 3584 1831 3584 \nQ 2591 3584 2966 3190 \nQ 3341 2797 3341 1997 \nz\n\" transform=\"scale(0.015625)\"/>\n        <path id=\"DejaVuSans-6e\" d=\"M 3513 2113 \nL 3513 0 \nL 2938 0 \nL 2938 2094 \nQ 2938 2591 2744 2837 \nQ 2550 3084 2163 3084 \nQ 1697 3084 1428 2787 \nQ 1159 2491 1159 1978 \nL 1159 0 \nL 581 0 \nL 581 3500 \nL 1159 3500 \nL 1159 2956 \nQ 1366 3272 1645 3428 \nQ 1925 3584 2291 3584 \nQ 2894 3584 3203 3211 \nQ 3513 2838 3513 2113 \nz\n\" transform=\"scale(0.015625)\"/>\n       </defs>\n       <use xlink:href=\"#DejaVuSans-4a\"/>\n       <use xlink:href=\"#DejaVuSans-61\" x=\"29.492188\"/>\n       <use xlink:href=\"#DejaVuSans-6e\" x=\"90.771484\"/>\n      </g>\n      <!-- 2022 -->\n      <g transform=\"translate(22.579687 250.43625)scale(0.1 -0.1)\">\n       <defs>\n        <path id=\"DejaVuSans-32\" d=\"M 1228 531 \nL 3431 531 \nL 3431 0 \nL 469 0 \nL 469 531 \nQ 828 903 1448 1529 \nQ 2069 2156 2228 2338 \nQ 2531 2678 2651 2914 \nQ 2772 3150 2772 3378 \nQ 2772 3750 2511 3984 \nQ 2250 4219 1831 4219 \nQ 1534 4219 1204 4116 \nQ 875 4013 500 3803 \nL 500 4441 \nQ 881 4594 1212 4672 \nQ 1544 4750 1819 4750 \nQ 2544 4750 2975 4387 \nQ 3406 4025 3406 3419 \nQ 3406 3131 3298 2873 \nQ 3191 2616 2906 2266 \nQ 2828 2175 2409 1742 \nQ 1991 1309 1228 531 \nz\n\" transform=\"scale(0.015625)\"/>\n        <path id=\"DejaVuSans-30\" d=\"M 2034 4250 \nQ 1547 4250 1301 3770 \nQ 1056 3291 1056 2328 \nQ 1056 1369 1301 889 \nQ 1547 409 2034 409 \nQ 2525 409 2770 889 \nQ 3016 1369 3016 2328 \nQ 3016 3291 2770 3770 \nQ 2525 4250 2034 4250 \nz\nM 2034 4750 \nQ 2819 4750 3233 4129 \nQ 3647 3509 3647 2328 \nQ 3647 1150 3233 529 \nQ 2819 -91 2034 -91 \nQ 1250 -91 836 529 \nQ 422 1150 422 2328 \nQ 422 3509 836 4129 \nQ 1250 4750 2034 4750 \nz\n\" transform=\"scale(0.015625)\"/>\n       </defs>\n       <use xlink:href=\"#DejaVuSans-32\"/>\n       <use xlink:href=\"#DejaVuSans-30\" x=\"63.623047\"/>\n       <use xlink:href=\"#DejaVuSans-32\" x=\"127.246094\"/>\n       <use xlink:href=\"#DejaVuSans-32\" x=\"190.869141\"/>\n      </g>\n     </g>\n    </g>\n    <g id=\"xtick_2\">\n     <g id=\"line2d_2\">\n      <g>\n       <use xlink:href=\"#m64022f8bed\" x=\"157.629012\" y=\"224.64\" style=\"stroke: #000000; stroke-width: 0.8\"/>\n      </g>\n     </g>\n     <g id=\"text_2\">\n      <!-- Jan -->\n      <g transform=\"translate(149.921199 239.238438)scale(0.1 -0.1)\">\n       <use xlink:href=\"#DejaVuSans-4a\"/>\n       <use xlink:href=\"#DejaVuSans-61\" x=\"29.492188\"/>\n       <use xlink:href=\"#DejaVuSans-6e\" x=\"90.771484\"/>\n      </g>\n      <!-- 2023 -->\n      <g transform=\"translate(144.904012 250.43625)scale(0.1 -0.1)\">\n       <defs>\n        <path id=\"DejaVuSans-33\" d=\"M 2597 2516 \nQ 3050 2419 3304 2112 \nQ 3559 1806 3559 1356 \nQ 3559 666 3084 287 \nQ 2609 -91 1734 -91 \nQ 1441 -91 1130 -33 \nQ 819 25 488 141 \nL 488 750 \nQ 750 597 1062 519 \nQ 1375 441 1716 441 \nQ 2309 441 2620 675 \nQ 2931 909 2931 1356 \nQ 2931 1769 2642 2001 \nQ 2353 2234 1838 2234 \nL 1294 2234 \nL 1294 2753 \nL 1863 2753 \nQ 2328 2753 2575 2939 \nQ 2822 3125 2822 3475 \nQ 2822 3834 2567 4026 \nQ 2313 4219 1838 4219 \nQ 1578 4219 1281 4162 \nQ 984 4106 628 3988 \nL 628 4550 \nQ 988 4650 1302 4700 \nQ 1616 4750 1894 4750 \nQ 2613 4750 3031 4423 \nQ 3450 4097 3450 3541 \nQ 3450 3153 3228 2886 \nQ 3006 2619 2597 2516 \nz\n\" transform=\"scale(0.015625)\"/>\n       </defs>\n       <use xlink:href=\"#DejaVuSans-32\"/>\n       <use xlink:href=\"#DejaVuSans-30\" x=\"63.623047\"/>\n       <use xlink:href=\"#DejaVuSans-32\" x=\"127.246094\"/>\n       <use xlink:href=\"#DejaVuSans-33\" x=\"190.869141\"/>\n      </g>\n     </g>\n    </g>\n    <g id=\"xtick_3\">\n     <g id=\"line2d_3\">\n      <g>\n       <use xlink:href=\"#m64022f8bed\" x=\"279.953336\" y=\"224.64\" style=\"stroke: #000000; stroke-width: 0.8\"/>\n      </g>\n     </g>\n     <g id=\"text_3\">\n      <!-- Jan -->\n      <g transform=\"translate(272.245524 239.238438)scale(0.1 -0.1)\">\n       <use xlink:href=\"#DejaVuSans-4a\"/>\n       <use xlink:href=\"#DejaVuSans-61\" x=\"29.492188\"/>\n       <use xlink:href=\"#DejaVuSans-6e\" x=\"90.771484\"/>\n      </g>\n      <!-- 2024 -->\n      <g transform=\"translate(267.228336 250.43625)scale(0.1 -0.1)\">\n       <defs>\n        <path id=\"DejaVuSans-34\" d=\"M 2419 4116 \nL 825 1625 \nL 2419 1625 \nL 2419 4116 \nz\nM 2253 4666 \nL 3047 4666 \nL 3047 1625 \nL 3713 1625 \nL 3713 1100 \nL 3047 1100 \nL 3047 0 \nL 2419 0 \nL 2419 1100 \nL 313 1100 \nL 313 1709 \nL 2253 4666 \nz\n\" transform=\"scale(0.015625)\"/>\n       </defs>\n       <use xlink:href=\"#DejaVuSans-32\"/>\n       <use xlink:href=\"#DejaVuSans-30\" x=\"63.623047\"/>\n       <use xlink:href=\"#DejaVuSans-32\" x=\"127.246094\"/>\n       <use xlink:href=\"#DejaVuSans-34\" x=\"190.869141\"/>\n      </g>\n     </g>\n    </g>\n    <g id=\"xtick_4\">\n     <g id=\"line2d_4\">\n      <g>\n       <use xlink:href=\"#m64022f8bed\" x=\"370.104688\" y=\"224.64\" style=\"stroke: #000000; stroke-width: 0.8\"/>\n      </g>\n     </g>\n    </g>\n    <g id=\"xtick_5\">\n     <g id=\"line2d_5\">\n      <defs>\n       <path id=\"mb7056a935b\" d=\"M 0 0 \nL 0 2 \n\" style=\"stroke: #000000; stroke-width: 0.6\"/>\n      </defs>\n      <g>\n       <use xlink:href=\"#mb7056a935b\" x=\"45.693877\" y=\"224.64\" style=\"stroke: #000000; stroke-width: 0.6\"/>\n      </g>\n     </g>\n    </g>\n    <g id=\"xtick_6\">\n     <g id=\"line2d_6\">\n      <g>\n       <use xlink:href=\"#mb7056a935b\" x=\"55.07766\" y=\"224.64\" style=\"stroke: #000000; stroke-width: 0.6\"/>\n      </g>\n     </g>\n    </g>\n    <g id=\"xtick_7\">\n     <g id=\"line2d_7\">\n      <g>\n       <use xlink:href=\"#mb7056a935b\" x=\"65.46685\" y=\"224.64\" style=\"stroke: #000000; stroke-width: 0.6\"/>\n      </g>\n     </g>\n    </g>\n    <g id=\"xtick_8\">\n     <g id=\"line2d_8\">\n      <g>\n       <use xlink:href=\"#mb7056a935b\" x=\"75.520904\" y=\"224.64\" style=\"stroke: #000000; stroke-width: 0.6\"/>\n      </g>\n     </g>\n    </g>\n    <g id=\"xtick_9\">\n     <g id=\"line2d_9\">\n      <g>\n       <use xlink:href=\"#mb7056a935b\" x=\"85.910093\" y=\"224.64\" style=\"stroke: #000000; stroke-width: 0.6\"/>\n      </g>\n     </g>\n    </g>\n    <g id=\"xtick_10\">\n     <g id=\"line2d_10\">\n      <g>\n       <use xlink:href=\"#mb7056a935b\" x=\"95.964147\" y=\"224.64\" style=\"stroke: #000000; stroke-width: 0.6\"/>\n      </g>\n     </g>\n     <g id=\"text_4\">\n      <!-- Jul -->\n      <g transform=\"translate(89.931334 237.638438)scale(0.1 -0.1)\">\n       <defs>\n        <path id=\"DejaVuSans-75\" d=\"M 544 1381 \nL 544 3500 \nL 1119 3500 \nL 1119 1403 \nQ 1119 906 1312 657 \nQ 1506 409 1894 409 \nQ 2359 409 2629 706 \nQ 2900 1003 2900 1516 \nL 2900 3500 \nL 3475 3500 \nL 3475 0 \nL 2900 0 \nL 2900 538 \nQ 2691 219 2414 64 \nQ 2138 -91 1772 -91 \nQ 1169 -91 856 284 \nQ 544 659 544 1381 \nz\nM 1991 3584 \nL 1991 3584 \nz\n\" transform=\"scale(0.015625)\"/>\n        <path id=\"DejaVuSans-6c\" d=\"M 603 4863 \nL 1178 4863 \nL 1178 0 \nL 603 0 \nL 603 4863 \nz\n\" transform=\"scale(0.015625)\"/>\n       </defs>\n       <use xlink:href=\"#DejaVuSans-4a\"/>\n       <use xlink:href=\"#DejaVuSans-75\" x=\"29.492188\"/>\n       <use xlink:href=\"#DejaVuSans-6c\" x=\"92.871094\"/>\n      </g>\n     </g>\n    </g>\n    <g id=\"xtick_11\">\n     <g id=\"line2d_11\">\n      <g>\n       <use xlink:href=\"#mb7056a935b\" x=\"106.353336\" y=\"224.64\" style=\"stroke: #000000; stroke-width: 0.6\"/>\n      </g>\n     </g>\n    </g>\n    <g id=\"xtick_12\">\n     <g id=\"line2d_12\">\n      <g>\n       <use xlink:href=\"#mb7056a935b\" x=\"116.742525\" y=\"224.64\" style=\"stroke: #000000; stroke-width: 0.6\"/>\n      </g>\n     </g>\n    </g>\n    <g id=\"xtick_13\">\n     <g id=\"line2d_13\">\n      <g>\n       <use xlink:href=\"#mb7056a935b\" x=\"126.796579\" y=\"224.64\" style=\"stroke: #000000; stroke-width: 0.6\"/>\n      </g>\n     </g>\n    </g>\n    <g id=\"xtick_14\">\n     <g id=\"line2d_14\">\n      <g>\n       <use xlink:href=\"#mb7056a935b\" x=\"137.185769\" y=\"224.64\" style=\"stroke: #000000; stroke-width: 0.6\"/>\n      </g>\n     </g>\n    </g>\n    <g id=\"xtick_15\">\n     <g id=\"line2d_15\">\n      <g>\n       <use xlink:href=\"#mb7056a935b\" x=\"147.239823\" y=\"224.64\" style=\"stroke: #000000; stroke-width: 0.6\"/>\n      </g>\n     </g>\n    </g>\n    <g id=\"xtick_16\">\n     <g id=\"line2d_16\">\n      <g>\n       <use xlink:href=\"#mb7056a935b\" x=\"168.018201\" y=\"224.64\" style=\"stroke: #000000; stroke-width: 0.6\"/>\n      </g>\n     </g>\n    </g>\n    <g id=\"xtick_17\">\n     <g id=\"line2d_17\">\n      <g>\n       <use xlink:href=\"#mb7056a935b\" x=\"177.401985\" y=\"224.64\" style=\"stroke: #000000; stroke-width: 0.6\"/>\n      </g>\n     </g>\n    </g>\n    <g id=\"xtick_18\">\n     <g id=\"line2d_18\">\n      <g>\n       <use xlink:href=\"#mb7056a935b\" x=\"187.791174\" y=\"224.64\" style=\"stroke: #000000; stroke-width: 0.6\"/>\n      </g>\n     </g>\n    </g>\n    <g id=\"xtick_19\">\n     <g id=\"line2d_19\">\n      <g>\n       <use xlink:href=\"#mb7056a935b\" x=\"197.845228\" y=\"224.64\" style=\"stroke: #000000; stroke-width: 0.6\"/>\n      </g>\n     </g>\n    </g>\n    <g id=\"xtick_20\">\n     <g id=\"line2d_20\">\n      <g>\n       <use xlink:href=\"#mb7056a935b\" x=\"208.234417\" y=\"224.64\" style=\"stroke: #000000; stroke-width: 0.6\"/>\n      </g>\n     </g>\n    </g>\n    <g id=\"xtick_21\">\n     <g id=\"line2d_21\">\n      <g>\n       <use xlink:href=\"#mb7056a935b\" x=\"218.288471\" y=\"224.64\" style=\"stroke: #000000; stroke-width: 0.6\"/>\n      </g>\n     </g>\n     <g id=\"text_5\">\n      <!-- Jul -->\n      <g transform=\"translate(212.255659 237.638438)scale(0.1 -0.1)\">\n       <use xlink:href=\"#DejaVuSans-4a\"/>\n       <use xlink:href=\"#DejaVuSans-75\" x=\"29.492188\"/>\n       <use xlink:href=\"#DejaVuSans-6c\" x=\"92.871094\"/>\n      </g>\n     </g>\n    </g>\n    <g id=\"xtick_22\">\n     <g id=\"line2d_22\">\n      <g>\n       <use xlink:href=\"#mb7056a935b\" x=\"228.67766\" y=\"224.64\" style=\"stroke: #000000; stroke-width: 0.6\"/>\n      </g>\n     </g>\n    </g>\n    <g id=\"xtick_23\">\n     <g id=\"line2d_23\">\n      <g>\n       <use xlink:href=\"#mb7056a935b\" x=\"239.06685\" y=\"224.64\" style=\"stroke: #000000; stroke-width: 0.6\"/>\n      </g>\n     </g>\n    </g>\n    <g id=\"xtick_24\">\n     <g id=\"line2d_24\">\n      <g>\n       <use xlink:href=\"#mb7056a935b\" x=\"249.120904\" y=\"224.64\" style=\"stroke: #000000; stroke-width: 0.6\"/>\n      </g>\n     </g>\n    </g>\n    <g id=\"xtick_25\">\n     <g id=\"line2d_25\">\n      <g>\n       <use xlink:href=\"#mb7056a935b\" x=\"259.510093\" y=\"224.64\" style=\"stroke: #000000; stroke-width: 0.6\"/>\n      </g>\n     </g>\n    </g>\n    <g id=\"xtick_26\">\n     <g id=\"line2d_26\">\n      <g>\n       <use xlink:href=\"#mb7056a935b\" x=\"269.564147\" y=\"224.64\" style=\"stroke: #000000; stroke-width: 0.6\"/>\n      </g>\n     </g>\n    </g>\n    <g id=\"xtick_27\">\n     <g id=\"line2d_27\">\n      <g>\n       <use xlink:href=\"#mb7056a935b\" x=\"290.342525\" y=\"224.64\" style=\"stroke: #000000; stroke-width: 0.6\"/>\n      </g>\n     </g>\n    </g>\n    <g id=\"xtick_28\">\n     <g id=\"line2d_28\">\n      <g>\n       <use xlink:href=\"#mb7056a935b\" x=\"300.061444\" y=\"224.64\" style=\"stroke: #000000; stroke-width: 0.6\"/>\n      </g>\n     </g>\n    </g>\n    <g id=\"xtick_29\">\n     <g id=\"line2d_29\">\n      <g>\n       <use xlink:href=\"#mb7056a935b\" x=\"310.450633\" y=\"224.64\" style=\"stroke: #000000; stroke-width: 0.6\"/>\n      </g>\n     </g>\n    </g>\n    <g id=\"xtick_30\">\n     <g id=\"line2d_30\">\n      <g>\n       <use xlink:href=\"#mb7056a935b\" x=\"320.504687\" y=\"224.64\" style=\"stroke: #000000; stroke-width: 0.6\"/>\n      </g>\n     </g>\n    </g>\n    <g id=\"xtick_31\">\n     <g id=\"line2d_31\">\n      <g>\n       <use xlink:href=\"#mb7056a935b\" x=\"330.893877\" y=\"224.64\" style=\"stroke: #000000; stroke-width: 0.6\"/>\n      </g>\n     </g>\n    </g>\n    <g id=\"xtick_32\">\n     <g id=\"line2d_32\">\n      <g>\n       <use xlink:href=\"#mb7056a935b\" x=\"340.947931\" y=\"224.64\" style=\"stroke: #000000; stroke-width: 0.6\"/>\n      </g>\n     </g>\n     <g id=\"text_6\">\n      <!-- Jul -->\n      <g transform=\"translate(334.915118 237.638438)scale(0.1 -0.1)\">\n       <use xlink:href=\"#DejaVuSans-4a\"/>\n       <use xlink:href=\"#DejaVuSans-75\" x=\"29.492188\"/>\n       <use xlink:href=\"#DejaVuSans-6c\" x=\"92.871094\"/>\n      </g>\n     </g>\n    </g>\n    <g id=\"xtick_33\">\n     <g id=\"line2d_33\">\n      <g>\n       <use xlink:href=\"#mb7056a935b\" x=\"351.33712\" y=\"224.64\" style=\"stroke: #000000; stroke-width: 0.6\"/>\n      </g>\n     </g>\n    </g>\n    <g id=\"xtick_34\">\n     <g id=\"line2d_34\">\n      <g>\n       <use xlink:href=\"#mb7056a935b\" x=\"361.726309\" y=\"224.64\" style=\"stroke: #000000; stroke-width: 0.6\"/>\n      </g>\n     </g>\n    </g>\n   </g>\n   <g id=\"matplotlib.axis_2\">\n    <g id=\"ytick_1\">\n     <g id=\"line2d_35\">\n      <defs>\n       <path id=\"m773d4f4a0e\" d=\"M 0 0 \nL -3.5 0 \n\" style=\"stroke: #000000; stroke-width: 0.8\"/>\n      </defs>\n      <g>\n       <use xlink:href=\"#m773d4f4a0e\" x=\"35.304688\" y=\"197.299958\" style=\"stroke: #000000; stroke-width: 0.8\"/>\n      </g>\n     </g>\n     <g id=\"text_7\">\n      <!-- −30 -->\n      <g transform=\"translate(7.2 201.099176)scale(0.1 -0.1)\">\n       <defs>\n        <path id=\"DejaVuSans-2212\" d=\"M 678 2272 \nL 4684 2272 \nL 4684 1741 \nL 678 1741 \nL 678 2272 \nz\n\" transform=\"scale(0.015625)\"/>\n       </defs>\n       <use xlink:href=\"#DejaVuSans-2212\"/>\n       <use xlink:href=\"#DejaVuSans-33\" x=\"83.789062\"/>\n       <use xlink:href=\"#DejaVuSans-30\" x=\"147.412109\"/>\n      </g>\n     </g>\n    </g>\n    <g id=\"ytick_2\">\n     <g id=\"line2d_36\">\n      <g>\n       <use xlink:href=\"#m773d4f4a0e\" x=\"35.304688\" y=\"158.345427\" style=\"stroke: #000000; stroke-width: 0.8\"/>\n      </g>\n     </g>\n     <g id=\"text_8\">\n      <!-- −20 -->\n      <g transform=\"translate(7.2 162.144646)scale(0.1 -0.1)\">\n       <use xlink:href=\"#DejaVuSans-2212\"/>\n       <use xlink:href=\"#DejaVuSans-32\" x=\"83.789062\"/>\n       <use xlink:href=\"#DejaVuSans-30\" x=\"147.412109\"/>\n      </g>\n     </g>\n    </g>\n    <g id=\"ytick_3\">\n     <g id=\"line2d_37\">\n      <g>\n       <use xlink:href=\"#m773d4f4a0e\" x=\"35.304688\" y=\"119.390897\" style=\"stroke: #000000; stroke-width: 0.8\"/>\n      </g>\n     </g>\n     <g id=\"text_9\">\n      <!-- −10 -->\n      <g transform=\"translate(7.2 123.190116)scale(0.1 -0.1)\">\n       <defs>\n        <path id=\"DejaVuSans-31\" d=\"M 794 531 \nL 1825 531 \nL 1825 4091 \nL 703 3866 \nL 703 4441 \nL 1819 4666 \nL 2450 4666 \nL 2450 531 \nL 3481 531 \nL 3481 0 \nL 794 0 \nL 794 531 \nz\n\" transform=\"scale(0.015625)\"/>\n       </defs>\n       <use xlink:href=\"#DejaVuSans-2212\"/>\n       <use xlink:href=\"#DejaVuSans-31\" x=\"83.789062\"/>\n       <use xlink:href=\"#DejaVuSans-30\" x=\"147.412109\"/>\n      </g>\n     </g>\n    </g>\n    <g id=\"ytick_4\">\n     <g id=\"line2d_38\">\n      <g>\n       <use xlink:href=\"#m773d4f4a0e\" x=\"35.304688\" y=\"80.436367\" style=\"stroke: #000000; stroke-width: 0.8\"/>\n      </g>\n     </g>\n     <g id=\"text_10\">\n      <!-- 0 -->\n      <g transform=\"translate(21.942188 84.235586)scale(0.1 -0.1)\">\n       <use xlink:href=\"#DejaVuSans-30\"/>\n      </g>\n     </g>\n    </g>\n    <g id=\"ytick_5\">\n     <g id=\"line2d_39\">\n      <g>\n       <use xlink:href=\"#m773d4f4a0e\" x=\"35.304688\" y=\"41.481837\" style=\"stroke: #000000; stroke-width: 0.8\"/>\n      </g>\n     </g>\n     <g id=\"text_11\">\n      <!-- 10 -->\n      <g transform=\"translate(15.579688 45.281056)scale(0.1 -0.1)\">\n       <use xlink:href=\"#DejaVuSans-31\"/>\n       <use xlink:href=\"#DejaVuSans-30\" x=\"63.623047\"/>\n      </g>\n     </g>\n    </g>\n   </g>\n   <g id=\"line2d_40\">\n    <path d=\"M 35.304688 77.965527 \nL 35.639823 74.575249 \nL 35.974958 79.109143 \nL 36.310093 78.738839 \nL 36.645228 83.166145 \nL 36.980363 83.584981 \nL 37.315498 90.618276 \nL 37.650633 91.679328 \nL 37.985769 85.045281 \nL 38.320904 87.034363 \nL 38.656039 86.572343 \nL 39.326309 82.238864 \nL 39.661444 85.672551 \nL 39.996579 81.033404 \nL 40.331715 79.329828 \nL 40.66685 70.872185 \nL 41.33712 72.05523 \nL 41.672255 66.438464 \nL 42.00739 65.786509 \nL 42.342525 72.82489 \nL 42.67766 67.519526 \nL 43.012796 65.130246 \nL 43.347931 67.652581 \nL 43.683066 62.366333 \nL 44.018201 65.399282 \nL 44.688471 73.495278 \nL 45.023606 66.472229 \nL 45.358742 71.643132 \nL 45.693877 74.787601 \nL 46.029012 75.54989 \nL 46.364147 69.287628 \nL 46.699282 69.928535 \nL 47.034417 77.902319 \nL 47.369552 79.721067 \nL 47.704687 78.02183 \nL 48.039823 75.478744 \nL 48.374958 76.830866 \nL 48.710093 82.248789 \nL 49.045228 79.649942 \nL 49.380363 80.377542 \nL 49.715498 79.913818 \nL 50.050633 84.710413 \nL 50.385769 84.995841 \nL 50.720904 88.874854 \nL 51.056039 89.051877 \nL 51.391174 91.896191 \nL 51.726309 86.145503 \nL 52.061444 83.165369 \nL 52.396579 83.230435 \nL 52.731715 86.625427 \nL 53.401985 74.560148 \nL 53.73712 83.278219 \nL 54.742525 77.131224 \nL 55.07766 81.662947 \nL 55.412796 83.284707 \nL 55.747931 81.174242 \nL 56.083066 81.682368 \nL 56.418201 85.313079 \nL 57.088471 77.807034 \nL 57.423606 76.79433 \nL 57.758742 79.349405 \nL 58.093877 85.115494 \nL 58.429012 84.577412 \nL 59.099282 94.67301 \nL 59.434417 90.722266 \nL 60.439823 108.67651 \nL 60.774958 105.953721 \nL 61.110093 109.523694 \nL 61.445228 109.393212 \nL 61.780363 111.815857 \nL 62.450633 121.069192 \nL 62.785769 113.88605 \nL 63.456039 112.135564 \nL 63.791174 110.901103 \nL 64.126309 108.959575 \nL 64.461444 98.367467 \nL 64.796579 100.216774 \nL 65.131715 104.731067 \nL 65.46685 104.610469 \nL 65.801985 93.817097 \nL 66.13712 97.79346 \nL 66.472255 91.249938 \nL 66.80739 97.233083 \nL 67.142525 96.081792 \nL 67.47766 104.102483 \nL 67.812796 101.857407 \nL 68.147931 103.290768 \nL 68.483066 101.771557 \nL 68.818201 93.493173 \nL 69.488471 103.187597 \nL 69.823606 104.75717 \nL 70.158742 107.755351 \nL 70.829012 98.341898 \nL 71.164147 97.116698 \nL 71.499282 94.457952 \nL 71.834417 98.454897 \nL 72.169552 99.191921 \nL 72.504687 91.29884 \nL 72.839823 92.745979 \nL 73.174958 97.09637 \nL 73.510093 93.745392 \nL 74.180363 77.645392 \nL 74.515498 78.317977 \nL 74.850633 75.193385 \nL 75.185769 74.070525 \nL 75.520904 76.340771 \nL 75.856039 73.987811 \nL 76.191174 78.941339 \nL 76.526309 74.377934 \nL 76.861444 71.807519 \nL 77.196579 76.551689 \nL 77.531715 78.249817 \nL 77.86685 75.806432 \nL 78.53712 79.775311 \nL 78.872255 77.492432 \nL 79.20739 68.719189 \nL 79.542525 73.364055 \nL 79.87766 74.54057 \nL 80.212796 74.101611 \nL 80.547931 70.18127 \nL 80.883066 64.525475 \nL 81.553336 60.966118 \nL 81.888471 65.865572 \nL 82.223606 67.777981 \nL 82.893877 57.374826 \nL 83.229012 61.431623 \nL 84.234417 49.15017 \nL 84.569552 42.5599 \nL 85.574958 52.740984 \nL 85.910093 54.090493 \nL 86.245228 48.176535 \nL 86.580363 55.805173 \nL 86.915498 53.596494 \nL 87.250633 59.969166 \nL 87.585769 59.797172 \nL 87.920904 60.81667 \nL 88.256039 62.323171 \nL 88.591174 69.902526 \nL 88.926309 65.083721 \nL 89.261444 67.997342 \nL 89.596579 65.189988 \nL 89.931715 67.816306 \nL 90.26685 62.34249 \nL 90.601985 70.332876 \nL 90.93712 70.405744 \nL 91.272255 65.471055 \nL 91.60739 63.372569 \nL 91.942525 64.363326 \nL 92.27766 64.185798 \nL 92.612796 63.707875 \nL 92.947931 52.971023 \nL 93.283066 61.396923 \nL 93.618201 66.727949 \nL 93.953336 68.762366 \nL 94.288471 66.761631 \nL 94.623606 65.52408 \nL 94.958742 65.695268 \nL 95.293877 68.652299 \nL 95.629012 73.473167 \nL 95.964147 75.598982 \nL 96.299282 79.109376 \nL 96.634417 78.382649 \nL 96.969552 81.539162 \nL 97.304688 80.138922 \nL 97.639823 82.777888 \nL 97.974958 78.064878 \nL 98.310093 77.538934 \nL 98.645228 79.517579 \nL 98.980363 88.106299 \nL 99.315498 91.098721 \nL 99.650633 90.537113 \nL 99.985769 91.773845 \nL 100.656039 95.554168 \nL 100.991174 100.992995 \nL 101.326309 101.319024 \nL 101.661444 100.647727 \nL 101.996579 101.187202 \nL 102.331715 103.219876 \nL 103.001985 94.196737 \nL 103.33712 91.37776 \nL 103.672255 95.460292 \nL 104.00739 94.14319 \nL 104.342525 97.405373 \nL 105.012796 91.1547 \nL 105.347931 91.598896 \nL 105.683066 93.365146 \nL 106.018201 91.737044 \nL 106.353336 97.746653 \nL 106.688471 99.160353 \nL 107.023606 98.856759 \nL 107.358742 95.895354 \nL 107.693877 94.327812 \nL 108.029012 97.075077 \nL 108.364147 96.583479 \nL 109.369552 84.845032 \nL 109.704687 82.503639 \nL 110.039823 81.325016 \nL 110.374958 80.654286 \nL 110.710093 76.492405 \nL 111.045228 79.475166 \nL 111.380363 77.759037 \nL 111.715498 73.894895 \nL 112.050633 76.96028 \nL 112.385769 74.993024 \nL 112.720904 77.014416 \nL 113.391174 66.117181 \nL 113.726309 70.550951 \nL 114.061444 72.427753 \nL 114.731715 80.67198 \nL 115.401985 78.611545 \nL 116.072255 94.570334 \nL 116.742525 86.70527 \nL 117.07766 88.083326 \nL 117.412796 87.564235 \nL 117.747931 83.33258 \nL 118.083066 83.25643 \nL 118.418201 81.595959 \nL 118.753336 83.669879 \nL 119.758742 75.932191 \nL 120.429012 74.734282 \nL 121.099282 86.068347 \nL 121.434417 81.481848 \nL 121.769552 81.555025 \nL 122.104688 79.56174 \nL 122.439823 82.208289 \nL 122.774958 83.582861 \nL 123.445228 88.341598 \nL 123.780363 88.841111 \nL 124.450633 85.242646 \nL 124.785769 79.286057 \nL 125.120904 82.123403 \nL 125.456039 77.645089 \nL 125.791174 78.894725 \nL 126.126309 76.472046 \nL 126.796579 85.818997 \nL 127.131715 84.30774 \nL 127.801985 79.453513 \nL 128.13712 79.391713 \nL 128.80739 85.545293 \nL 129.142525 87.177052 \nL 129.47766 94.248233 \nL 129.812796 89.136945 \nL 130.147931 91.824943 \nL 130.483066 98.798473 \nL 130.818201 93.4814 \nL 131.153336 92.514377 \nL 131.488471 93.178045 \nL 131.823606 95.813502 \nL 132.158742 89.981104 \nL 132.493877 95.373915 \nL 132.829012 98.12751 \nL 133.164147 102.539081 \nL 133.499282 101.714109 \nL 133.834417 94.935004 \nL 134.169552 93.464142 \nL 135.174958 108.316069 \nL 135.510093 109.826143 \nL 135.845228 113.885383 \nL 136.180363 116.139606 \nL 136.850633 103.270967 \nL 137.185769 97.437798 \nL 137.520904 96.40958 \nL 137.856039 98.681328 \nL 138.191174 103.22733 \nL 138.526309 94.720276 \nL 138.861444 95.0967 \nL 139.196579 89.262394 \nL 139.531715 91.027529 \nL 139.86685 87.914306 \nL 140.201985 94.112531 \nL 140.53712 91.171158 \nL 140.872255 97.562193 \nL 141.20739 88.789608 \nL 141.542525 87.185162 \nL 142.212796 88.037188 \nL 142.547931 87.829492 \nL 142.883066 82.137536 \nL 143.218201 82.515477 \nL 143.553336 83.581223 \nL 143.888471 83.683308 \nL 144.223606 85.321523 \nL 144.558742 81.10683 \nL 144.893877 79.822369 \nL 145.229012 75.097649 \nL 145.564147 73.771498 \nL 145.899282 77.06568 \nL 146.234417 75.612275 \nL 146.569552 78.885719 \nL 146.904688 85.295871 \nL 147.239823 89.210954 \nL 147.574958 81.570167 \nL 147.910093 81.046785 \nL 148.245228 81.05383 \nL 148.580363 78.949681 \nL 148.915498 78.751245 \nL 149.250633 78.817317 \nL 149.920904 82.850607 \nL 150.256039 81.490958 \nL 150.591174 78.373857 \nL 150.926309 76.729169 \nL 151.261444 70.901419 \nL 151.931715 78.764549 \nL 152.26685 77.838094 \nL 152.601985 77.62134 \nL 153.272255 90.781843 \nL 153.60739 88.354056 \nL 153.942525 93.926674 \nL 154.612796 100.53066 \nL 154.947931 94.500646 \nL 155.283066 102.239175 \nL 155.618201 101.684006 \nL 155.953336 104.084018 \nL 156.288471 101.217502 \nL 156.958742 104.73645 \nL 157.293877 101.95117 \nL 157.629012 101.152444 \nL 157.964147 97.896077 \nL 158.634417 104.341682 \nL 158.969552 95.11839 \nL 159.304688 96.052785 \nL 159.639823 96.177478 \nL 159.974958 96.782946 \nL 160.645228 100.858538 \nL 160.980363 97.301244 \nL 161.315498 92.533964 \nL 161.650633 83.501349 \nL 161.985769 84.499141 \nL 162.320904 81.835619 \nL 162.656039 80.835167 \nL 162.991174 76.416489 \nL 163.326309 69.943348 \nL 163.661444 67.736797 \nL 163.996579 69.84837 \nL 164.331715 73.08141 \nL 164.66685 71.373018 \nL 165.001985 66.346819 \nL 165.33712 66.093241 \nL 165.672255 63.092402 \nL 166.00739 63.981887 \nL 166.342525 61.828121 \nL 166.67766 64.9451 \nL 167.012796 66.15715 \nL 167.347931 66.655944 \nL 167.683066 63.222697 \nL 168.018201 63.995071 \nL 168.353336 65.297482 \nL 168.688471 63.985741 \nL 169.023606 61.488663 \nL 169.358742 51.74372 \nL 169.693877 54.077679 \nL 170.029012 59.712764 \nL 170.364147 51.092356 \nL 170.699282 53.09365 \nL 171.034417 53.931069 \nL 171.369552 63.217022 \nL 171.704687 58.765096 \nL 172.039823 59.130039 \nL 172.374958 55.728551 \nL 172.710093 62.031728 \nL 173.045228 63.889874 \nL 173.380363 57.493433 \nL 174.050633 51.171724 \nL 174.385769 51.640395 \nL 174.720904 57.745687 \nL 175.056039 57.028441 \nL 175.391174 48.665649 \nL 175.726309 58.881003 \nL 176.061444 59.065085 \nL 176.731715 68.591627 \nL 177.06685 70.011626 \nL 177.401985 64.340366 \nL 177.73712 63.772913 \nL 178.072255 68.150604 \nL 178.40739 67.439438 \nL 178.742525 67.601224 \nL 179.07766 65.333981 \nL 180.083066 52.873125 \nL 180.418201 51.199216 \nL 180.753336 52.824151 \nL 181.088471 52.697555 \nL 181.423606 55.542847 \nL 181.758742 56.353785 \nL 182.093877 54.126771 \nL 182.429012 58.751601 \nL 182.764147 58.747129 \nL 183.099282 53.751543 \nL 183.434417 55.91536 \nL 184.104688 62.036541 \nL 184.439823 62.441946 \nL 184.774958 60.213754 \nL 185.110093 62.238271 \nL 185.445228 59.165922 \nL 185.780363 62.002493 \nL 186.115498 59.159984 \nL 186.450633 64.52312 \nL 186.785769 66.779116 \nL 187.120904 66.252266 \nL 187.456039 62.966482 \nL 187.791174 61.206326 \nL 188.126309 52.752986 \nL 188.461444 51.786787 \nL 188.796579 56.335371 \nL 189.131715 53.693384 \nL 189.46685 58.823503 \nL 189.801985 58.337004 \nL 190.13712 57.368989 \nL 190.472255 51.297534 \nL 190.80739 48.106722 \nL 191.142525 50.134869 \nL 191.47766 47.672745 \nL 191.812796 50.202157 \nL 192.147931 51.086492 \nL 192.483066 47.967955 \nL 192.818201 43.22444 \nL 193.153336 46.908846 \nL 193.488471 42.118582 \nL 193.823606 40.622782 \nL 194.158742 38.382922 \nL 194.493877 37.39814 \nL 194.829012 44.63299 \nL 195.164147 37.58347 \nL 195.499282 43.226715 \nL 195.834417 39.320133 \nL 196.169552 41.392612 \nL 196.504687 35.672143 \nL 196.839823 36.297431 \nL 197.174958 41.092441 \nL 197.510093 43.77653 \nL 197.845228 43.381965 \nL 198.180363 40.478734 \nL 198.515498 39.045612 \nL 198.850633 47.418091 \nL 199.185769 47.435399 \nL 199.520904 44.267808 \nL 200.191174 43.543006 \nL 200.526309 36.480678 \nL 200.861444 37.534414 \nL 201.196579 34.311399 \nL 201.531715 34.760011 \nL 201.86685 35.398118 \nL 202.201985 26.140678 \nL 202.872255 17.083636 \nL 203.20739 18.941914 \nL 203.542525 23.289898 \nL 203.87766 30.316327 \nL 204.212796 32.694024 \nL 204.547931 28.826511 \nL 205.218201 46.329407 \nL 205.888471 36.781878 \nL 206.223606 46.825325 \nL 206.558742 48.884063 \nL 206.893877 48.180542 \nL 207.229012 46.170597 \nL 207.564147 50.10045 \nL 208.234417 45.994015 \nL 208.569552 38.59128 \nL 208.904688 37.180844 \nL 209.239823 33.692546 \nL 209.574958 25.493121 \nL 209.910093 28.836799 \nL 210.245228 29.399732 \nL 210.915498 22.691671 \nL 211.250633 23.276902 \nL 211.920904 22.721249 \nL 212.256039 23.880364 \nL 212.591174 20.905502 \nL 213.261444 28.451566 \nL 213.596579 29.466686 \nL 213.931715 31.280213 \nL 214.26685 30.704301 \nL 214.601985 33.945528 \nL 215.272255 44.124439 \nL 215.60739 39.204434 \nL 215.942525 40.634531 \nL 216.27766 45.686755 \nL 216.612796 39.299654 \nL 216.947931 43.35295 \nL 217.618201 38.28388 \nL 217.953336 42.114758 \nL 218.288471 43.80341 \nL 218.623606 46.785204 \nL 218.958742 47.57857 \nL 219.293877 48.862683 \nL 219.629012 49.239978 \nL 219.964147 45.379065 \nL 220.299282 43.6976 \nL 220.634417 45.000093 \nL 220.969552 41.210914 \nL 221.304688 39.961686 \nL 221.639823 35.78603 \nL 221.974958 33.644566 \nL 222.310093 34.710972 \nL 222.645228 36.412315 \nL 222.980363 47.313035 \nL 223.315498 49.190587 \nL 223.985769 67.593806 \nL 224.320904 73.453401 \nL 224.656039 76.330493 \nL 224.991174 73.453333 \nL 225.326309 75.052726 \nL 225.661444 76.105169 \nL 225.996579 75.429845 \nL 226.331715 78.093165 \nL 226.66685 75.750596 \nL 227.001985 70.769495 \nL 227.33712 69.558019 \nL 227.672255 70.890986 \nL 228.00739 65.09851 \nL 228.342525 70.081147 \nL 228.67766 67.773781 \nL 229.012796 71.366096 \nL 229.347931 65.696501 \nL 229.683066 73.010408 \nL 230.018201 68.038178 \nL 230.353336 69.731868 \nL 231.023606 78.160123 \nL 231.358742 77.682987 \nL 231.693877 88.283546 \nL 232.364147 84.846342 \nL 232.699282 92.228185 \nL 233.369552 96.01302 \nL 233.704687 92.525781 \nL 234.039823 91.73457 \nL 234.374958 88.101286 \nL 234.710093 89.555376 \nL 235.380363 78.047323 \nL 235.715498 77.400329 \nL 236.050633 80.719475 \nL 236.385769 77.660418 \nL 237.056039 85.371498 \nL 237.391174 87.090151 \nL 238.061444 78.655391 \nL 238.396579 76.956569 \nL 238.731715 74.603806 \nL 239.06685 77.044155 \nL 239.401985 76.617676 \nL 239.73712 74.774411 \nL 240.072255 66.346734 \nL 240.40739 67.624386 \nL 240.742525 72.999695 \nL 241.412796 66.511045 \nL 242.083066 56.42135 \nL 242.418201 56.513017 \nL 242.753336 55.620681 \nL 243.088471 56.173903 \nL 243.423606 61.857592 \nL 243.758742 59.945969 \nL 244.093877 60.458109 \nL 244.429012 59.269056 \nL 244.764147 63.657074 \nL 245.099282 65.828849 \nL 245.434417 63.664078 \nL 245.769552 69.292771 \nL 246.104688 71.092615 \nL 246.439823 71.080025 \nL 247.110093 63.431748 \nL 247.445228 62.695031 \nL 247.780363 58.876549 \nL 248.115498 59.791158 \nL 248.450633 57.93634 \nL 248.785769 52.102987 \nL 249.120904 53.916032 \nL 249.456039 53.998927 \nL 249.791174 54.784581 \nL 250.126309 50.232936 \nL 250.461444 51.783077 \nL 250.796579 46.267591 \nL 251.131715 51.464342 \nL 251.46685 61.232024 \nL 251.801985 57.701098 \nL 252.13712 55.829269 \nL 252.472255 46.740619 \nL 252.80739 48.652818 \nL 253.142525 46.376236 \nL 253.47766 47.727227 \nL 253.812796 47.79408 \nL 254.147931 36.890469 \nL 254.483066 32.45247 \nL 254.818201 31.063872 \nL 255.153336 32.274872 \nL 255.488471 31.443384 \nL 256.158742 21.930756 \nL 256.493877 26.355684 \nL 256.829012 25.876517 \nL 257.164147 27.80368 \nL 257.499282 30.651489 \nL 257.834417 36.93404 \nL 258.169552 34.233671 \nL 258.504687 34.558834 \nL 258.839823 32.538359 \nL 259.174958 29.612613 \nL 259.510093 27.684552 \nL 259.845228 29.115982 \nL 260.180363 23.654404 \nL 260.515498 25.626765 \nL 260.850633 21.617548 \nL 261.185769 20.947184 \nL 261.856039 29.488327 \nL 262.191174 24.457616 \nL 262.526309 27.013607 \nL 262.861444 21.92974 \nL 263.196579 31.917538 \nL 263.531715 34.612228 \nL 263.86685 30.592474 \nL 264.201985 24.138398 \nL 264.53712 30.746169 \nL 264.872255 21.73723 \nL 265.20739 21.225363 \nL 265.542525 27.548446 \nL 265.87766 31.489027 \nL 266.212796 26.67213 \nL 266.547931 24.100986 \nL 266.883066 19.597974 \nL 267.888471 27.111039 \nL 268.223606 28.845329 \nL 268.558742 35.946035 \nL 268.893877 39.186373 \nL 269.229012 41.345062 \nL 269.564147 37.956381 \nL 269.899282 44.373019 \nL 270.234417 41.710635 \nL 270.569552 49.006967 \nL 270.904688 45.61634 \nL 271.574958 46.516316 \nL 271.910093 46.333808 \nL 272.245228 51.109302 \nL 272.580363 53.086926 \nL 272.915498 53.365802 \nL 273.250633 52.750487 \nL 273.585769 50.577206 \nL 273.920904 52.082424 \nL 274.256039 54.5222 \nL 274.591174 55.994171 \nL 274.926309 64.624698 \nL 275.261444 61.621552 \nL 275.596579 68.015894 \nL 275.931715 64.636861 \nL 276.26685 66.238912 \nL 276.601985 69.491974 \nL 276.93712 74.346774 \nL 277.272255 72.0106 \nL 277.60739 66.379949 \nL 277.942525 71.542571 \nL 278.27766 68.531123 \nL 278.612796 67.488411 \nL 278.947931 65.249062 \nL 279.283066 60.590116 \nL 279.953336 55.131514 \nL 280.288471 52.869489 \nL 280.623606 56.216014 \nL 280.958742 53.224013 \nL 281.293877 52.848927 \nL 281.629012 56.727603 \nL 281.964147 61.927219 \nL 282.299282 58.357507 \nL 282.969552 64.063434 \nL 283.304688 69.314873 \nL 283.639823 68.638673 \nL 284.645228 83.940398 \nL 285.315498 88.564462 \nL 285.650633 92.607258 \nL 285.985769 94.115189 \nL 286.320904 98.194441 \nL 286.656039 96.490483 \nL 286.991174 94.064011 \nL 287.326309 101.513379 \nL 287.996579 106.257713 \nL 288.331715 108.399029 \nL 288.66685 108.80225 \nL 289.001985 111.449625 \nL 289.33712 111.781413 \nL 289.672255 113.67543 \nL 290.00739 114.041416 \nL 290.342525 111.747117 \nL 290.67766 107.010189 \nL 291.012796 99.594786 \nL 291.347931 96.940153 \nL 292.018201 95.653499 \nL 292.353336 106.813188 \nL 292.688471 110.077089 \nL 293.023606 112.252916 \nL 293.358742 118.661326 \nL 293.693877 122.804288 \nL 294.029012 123.212362 \nL 294.364147 125.135167 \nL 294.699282 128.50595 \nL 295.034417 126.045658 \nL 295.369552 128.658486 \nL 295.704687 125.898928 \nL 296.039823 124.903231 \nL 296.374958 124.693684 \nL 297.045228 125.391476 \nL 297.380363 128.981443 \nL 297.715498 125.704447 \nL 298.050633 126.569474 \nL 298.385769 122.815658 \nL 298.720904 125.689453 \nL 299.056039 121.302282 \nL 299.391174 122.755825 \nL 299.726309 122.563531 \nL 300.396579 133.032459 \nL 300.731715 127.143696 \nL 301.06685 128.979219 \nL 301.401985 124.163941 \nL 302.072255 140.683045 \nL 303.07766 149.673441 \nL 303.412796 146.187324 \nL 303.747931 150.799413 \nL 304.083066 148.973093 \nL 304.418201 140.404684 \nL 304.753336 143.961391 \nL 305.088471 141.929268 \nL 305.423606 139.130047 \nL 305.758742 141.855885 \nL 306.093877 145.535004 \nL 306.429012 146.073415 \nL 307.099282 152.356971 \nL 307.434417 148.024146 \nL 307.769552 146.939338 \nL 308.104688 141.954066 \nL 308.439823 140.75563 \nL 308.774958 133.166563 \nL 309.110093 131.814971 \nL 309.445228 129.576204 \nL 309.780363 136.349694 \nL 310.115498 138.79745 \nL 310.450633 140.01883 \nL 310.785769 139.413817 \nL 311.120904 136.898811 \nL 311.456039 138.903533 \nL 311.791174 136.898718 \nL 312.126309 138.289485 \nL 312.461444 137.829417 \nL 312.796579 143.034555 \nL 313.131715 136.539358 \nL 313.46685 132.814296 \nL 313.801985 126.63225 \nL 314.13712 130.331917 \nL 314.472255 130.350611 \nL 314.80739 127.426292 \nL 315.47766 130.157892 \nL 316.147931 134.053935 \nL 316.483066 138.076726 \nL 316.818201 134.243926 \nL 317.153336 139.433581 \nL 317.823606 141.959226 \nL 318.158742 142.348984 \nL 318.493877 141.299232 \nL 318.829012 138.494618 \nL 319.164147 137.407568 \nL 319.499282 135.023115 \nL 320.839823 154.016607 \nL 321.174958 155.462117 \nL 321.510093 156.245557 \nL 322.180363 148.445867 \nL 322.515498 146.981547 \nL 322.850633 144.655444 \nL 323.185769 144.182747 \nL 323.520904 146.22806 \nL 324.191174 137.914468 \nL 324.526309 145.871845 \nL 324.861444 143.283327 \nL 325.196579 147.412523 \nL 325.531715 144.725578 \nL 325.86685 135.172632 \nL 326.201985 135.60431 \nL 326.53712 137.186019 \nL 327.20739 146.344369 \nL 327.542525 145.7806 \nL 328.212796 160.701173 \nL 328.547931 165.509423 \nL 328.883066 165.980028 \nL 329.218201 160.660024 \nL 329.553336 161.262736 \nL 329.888471 164.975773 \nL 330.223606 165.881938 \nL 330.558742 171.265545 \nL 330.893877 174.489272 \nL 331.229012 173.929023 \nL 331.564147 183.670411 \nL 331.899282 176.710415 \nL 332.234417 180.765523 \nL 332.569552 181.364816 \nL 332.904688 182.887985 \nL 333.239823 183.46859 \nL 333.574958 182.262897 \nL 334.245228 194.013054 \nL 334.915498 190.054786 \nL 335.250633 184.248414 \nL 335.585769 191.506109 \nL 335.920904 192.545447 \nL 336.926309 179.894795 \nL 337.261444 181.002287 \nL 337.931715 190.140362 \nL 338.26685 184.860971 \nL 338.601985 183.192134 \nL 338.93712 189.43077 \nL 339.60739 190.0898 \nL 339.942525 193.830374 \nL 340.27766 195.287377 \nL 340.612796 194.544446 \nL 340.947931 198.530923 \nL 341.283066 199.325373 \nL 341.618201 201.812811 \nL 342.288471 198.962454 \nL 342.623606 207.111705 \nL 342.958742 201.329152 \nL 343.293877 200.113222 \nL 343.964147 193.077789 \nL 344.299282 199.940383 \nL 344.634417 197.362075 \nL 344.969552 193.834468 \nL 345.639823 182.606072 \nL 345.974958 188.187054 \nL 346.310093 184.807168 \nL 346.645228 178.867968 \nL 346.980363 186.320166 \nL 347.315498 178.02888 \nL 347.650633 178.529094 \nL 347.985769 182.748618 \nL 348.320904 178.121461 \nL 348.656039 178.004951 \nL 348.991174 175.910036 \nL 349.326309 178.043295 \nL 349.661444 175.508373 \nL 349.996579 171.77684 \nL 350.331715 166.696328 \nL 350.66685 172.874771 \nL 351.001985 166.428777 \nL 351.672255 173.546314 \nL 352.00739 170.672602 \nL 352.342525 169.783968 \nL 352.67766 170.234079 \nL 353.012796 169.88353 \nL 353.347931 173.562973 \nL 353.683066 178.750051 \nL 354.018201 182.082575 \nL 354.353336 183.598979 \nL 354.688471 192.185077 \nL 355.358742 193.641127 \nL 355.693877 195.296092 \nL 356.029012 198.437733 \nL 356.364147 197.588523 \nL 356.699282 194.923317 \nL 357.034417 197.642745 \nL 357.369552 196.070035 \nL 357.704687 204.994292 \nL 358.039823 205.234644 \nL 358.374958 207.018265 \nL 358.710093 204.971968 \nL 359.045228 207.615905 \nL 359.380363 208.232368 \nL 359.715498 211.629788 \nL 360.050633 209.870632 \nL 360.720904 214.756364 \nL 361.391174 210.710724 \nL 361.726309 209.412423 \nL 362.061444 209.943208 \nL 362.396579 209.156092 \nL 362.731715 213.471181 \nL 363.06685 213.584681 \nL 363.401985 212.418682 \nL 363.73712 209.441939 \nL 364.072255 210.271172 \nL 364.40739 210.561552 \nL 364.742525 205.416106 \nL 365.07766 209.593028 \nL 365.412796 212.358522 \nL 365.747931 208.630797 \nL 366.083066 212.530237 \nL 366.418201 210.366875 \nL 366.753336 202.430131 \nL 367.088471 201.933449 \nL 367.423606 203.792549 \nL 367.758742 201.244646 \nL 368.429012 190.356708 \nL 368.764147 193.285608 \nL 369.099282 191.308206 \nL 369.434417 195.232718 \nL 369.769552 195.49363 \nL 370.104688 193.46351 \nL 370.104688 193.46351 \n\" clip-path=\"url(#p3cb55fc848)\" style=\"fill: none; stroke: #1f77b4; stroke-width: 1.5; stroke-linecap: square\"/>\n   </g>\n   <g id=\"patch_3\">\n    <path d=\"M 35.304688 224.64 \nL 35.304688 7.2 \n\" style=\"fill: none; stroke: #000000; stroke-width: 0.8; stroke-linejoin: miter; stroke-linecap: square\"/>\n   </g>\n   <g id=\"patch_4\">\n    <path d=\"M 370.104688 224.64 \nL 370.104688 7.2 \n\" style=\"fill: none; stroke: #000000; stroke-width: 0.8; stroke-linejoin: miter; stroke-linecap: square\"/>\n   </g>\n   <g id=\"patch_5\">\n    <path d=\"M 35.304688 224.64 \nL 370.104688 224.64 \n\" style=\"fill: none; stroke: #000000; stroke-width: 0.8; stroke-linejoin: miter; stroke-linecap: square\"/>\n   </g>\n   <g id=\"patch_6\">\n    <path d=\"M 35.304688 7.2 \nL 370.104688 7.2 \n\" style=\"fill: none; stroke: #000000; stroke-width: 0.8; stroke-linejoin: miter; stroke-linecap: square\"/>\n   </g>\n  </g>\n </g>\n <defs>\n  <clipPath id=\"p3cb55fc848\">\n   <rect x=\"35.304688\" y=\"7.2\" width=\"334.8\" height=\"217.44\"/>\n  </clipPath>\n </defs>\n</svg>\n",
      "text/plain": [
       "<Figure size 432x288 with 1 Axes>"
      ]
     },
     "metadata": {
      "needs_background": "light"
     },
     "output_type": "display_data"
    }
   ],
   "source": [
    "ts_cumsum = ts.cumsum()\n",
    "ts_cumsum.plot()"
   ]
  },
  {
   "cell_type": "markdown",
   "metadata": {},
   "source": [
    "If running under Jupyter Notebook, the plot will appear on `plot()`. Otherwise use `matplotlib.pyplot.show` to show it of `matplotlin.pyplot.savefig` to write it into a file."
   ]
  },
  {
   "cell_type": "code",
   "execution_count": 98,
   "metadata": {},
   "outputs": [],
   "source": [
    "plt.show()"
   ]
  },
  {
   "cell_type": "markdown",
   "metadata": {},
   "source": [
    "On a DataFrame, the `plot()` method is a convenience to plot all of the columns with labels."
   ]
  },
  {
   "cell_type": "code",
   "execution_count": 99,
   "metadata": {},
   "outputs": [
    {
     "data": {
      "text/plain": [
       "<matplotlib.legend.Legend at 0x1d618fe9b50>"
      ]
     },
     "execution_count": 99,
     "metadata": {},
     "output_type": "execute_result"
    },
    {
     "data": {
      "text/plain": [
       "<Figure size 432x288 with 0 Axes>"
      ]
     },
     "metadata": {},
     "output_type": "display_data"
    },
    {
     "data": {
      "image/png": "[encoded data removed]",
      "image/svg+xml": "<?xml version=\"1.0\" encoding=\"utf-8\" standalone=\"no\"?>\n<!DOCTYPE svg PUBLIC \"-//W3C//DTD SVG 1.1//EN\"\n  \"http://www.w3.org/Graphics/SVG/1.1/DTD/svg11.dtd\">\n<svg xmlns:xlink=\"http://www.w3.org/1999/xlink\" width=\"377.304688pt\" height=\"259.715937pt\" viewBox=\"0 0 377.304688 259.715937\" xmlns=\"http://www.w3.org/2000/svg\" version=\"1.1\">\n <metadata>\n  <rdf:RDF xmlns:dc=\"http://purl.org/dc/elements/1.1/\" xmlns:cc=\"http://creativecommons.org/ns#\" xmlns:rdf=\"http://www.w3.org/1999/02/22-rdf-syntax-ns#\">\n   <cc:Work>\n    <dc:type rdf:resource=\"http://purl.org/dc/dcmitype/StillImage\"/>\n    <dc:date>2022-04-14T23:47:10.487920</dc:date>\n    <dc:format>image/svg+xml</dc:format>\n    <dc:creator>\n     <cc:Agent>\n      <dc:title>Matplotlib v3.5.1, https://matplotlib.org/</dc:title>\n     </cc:Agent>\n    </dc:creator>\n   </cc:Work>\n  </rdf:RDF>\n </metadata>\n <defs>\n  <style type=\"text/css\">*{stroke-linejoin: round; stroke-linecap: butt}</style>\n </defs>\n <g id=\"figure_1\">\n  <g id=\"patch_1\">\n   <path d=\"M 0 259.715937 \nL 377.304688 259.715937 \nL 377.304688 0 \nL 0 0 \nL 0 259.715937 \nz\n\" style=\"fill: none\"/>\n  </g>\n  <g id=\"axes_1\">\n   <g id=\"patch_2\">\n    <path d=\"M 35.304688 224.64 \nL 370.104688 224.64 \nL 370.104688 7.2 \nL 35.304688 7.2 \nz\n\" style=\"fill: #ffffff\"/>\n   </g>\n   <g id=\"matplotlib.axis_1\">\n    <g id=\"xtick_1\">\n     <g id=\"line2d_1\">\n      <defs>\n       <path id=\"m6e7d89e37d\" d=\"M 0 0 \nL 0 3.5 \n\" style=\"stroke: #000000; stroke-width: 0.8\"/>\n      </defs>\n      <g>\n       <use xlink:href=\"#m6e7d89e37d\" x=\"35.304688\" y=\"224.64\" style=\"stroke: #000000; stroke-width: 0.8\"/>\n      </g>\n     </g>\n     <g id=\"text_1\">\n      <!-- Jan -->\n      <g transform=\"translate(27.596875 239.238438)scale(0.1 -0.1)\">\n       <defs>\n        <path id=\"DejaVuSans-4a\" d=\"M 628 4666 \nL 1259 4666 \nL 1259 325 \nQ 1259 -519 939 -900 \nQ 619 -1281 -91 -1281 \nL -331 -1281 \nL -331 -750 \nL -134 -750 \nQ 284 -750 456 -515 \nQ 628 -281 628 325 \nL 628 4666 \nz\n\" transform=\"scale(0.015625)\"/>\n        <path id=\"DejaVuSans-61\" d=\"M 2194 1759 \nQ 1497 1759 1228 1600 \nQ 959 1441 959 1056 \nQ 959 750 1161 570 \nQ 1363 391 1709 391 \nQ 2188 391 2477 730 \nQ 2766 1069 2766 1631 \nL 2766 1759 \nL 2194 1759 \nz\nM 3341 1997 \nL 3341 0 \nL 2766 0 \nL 2766 531 \nQ 2569 213 2275 61 \nQ 1981 -91 1556 -91 \nQ 1019 -91 701 211 \nQ 384 513 384 1019 \nQ 384 1609 779 1909 \nQ 1175 2209 1959 2209 \nL 2766 2209 \nL 2766 2266 \nQ 2766 2663 2505 2880 \nQ 2244 3097 1772 3097 \nQ 1472 3097 1187 3025 \nQ 903 2953 641 2809 \nL 641 3341 \nQ 956 3463 1253 3523 \nQ 1550 3584 1831 3584 \nQ 2591 3584 2966 3190 \nQ 3341 2797 3341 1997 \nz\n\" transform=\"scale(0.015625)\"/>\n        <path id=\"DejaVuSans-6e\" d=\"M 3513 2113 \nL 3513 0 \nL 2938 0 \nL 2938 2094 \nQ 2938 2591 2744 2837 \nQ 2550 3084 2163 3084 \nQ 1697 3084 1428 2787 \nQ 1159 2491 1159 1978 \nL 1159 0 \nL 581 0 \nL 581 3500 \nL 1159 3500 \nL 1159 2956 \nQ 1366 3272 1645 3428 \nQ 1925 3584 2291 3584 \nQ 2894 3584 3203 3211 \nQ 3513 2838 3513 2113 \nz\n\" transform=\"scale(0.015625)\"/>\n       </defs>\n       <use xlink:href=\"#DejaVuSans-4a\"/>\n       <use xlink:href=\"#DejaVuSans-61\" x=\"29.492188\"/>\n       <use xlink:href=\"#DejaVuSans-6e\" x=\"90.771484\"/>\n      </g>\n      <!-- 2022 -->\n      <g transform=\"translate(22.579687 250.43625)scale(0.1 -0.1)\">\n       <defs>\n        <path id=\"DejaVuSans-32\" d=\"M 1228 531 \nL 3431 531 \nL 3431 0 \nL 469 0 \nL 469 531 \nQ 828 903 1448 1529 \nQ 2069 2156 2228 2338 \nQ 2531 2678 2651 2914 \nQ 2772 3150 2772 3378 \nQ 2772 3750 2511 3984 \nQ 2250 4219 1831 4219 \nQ 1534 4219 1204 4116 \nQ 875 4013 500 3803 \nL 500 4441 \nQ 881 4594 1212 4672 \nQ 1544 4750 1819 4750 \nQ 2544 4750 2975 4387 \nQ 3406 4025 3406 3419 \nQ 3406 3131 3298 2873 \nQ 3191 2616 2906 2266 \nQ 2828 2175 2409 1742 \nQ 1991 1309 1228 531 \nz\n\" transform=\"scale(0.015625)\"/>\n        <path id=\"DejaVuSans-30\" d=\"M 2034 4250 \nQ 1547 4250 1301 3770 \nQ 1056 3291 1056 2328 \nQ 1056 1369 1301 889 \nQ 1547 409 2034 409 \nQ 2525 409 2770 889 \nQ 3016 1369 3016 2328 \nQ 3016 3291 2770 3770 \nQ 2525 4250 2034 4250 \nz\nM 2034 4750 \nQ 2819 4750 3233 4129 \nQ 3647 3509 3647 2328 \nQ 3647 1150 3233 529 \nQ 2819 -91 2034 -91 \nQ 1250 -91 836 529 \nQ 422 1150 422 2328 \nQ 422 3509 836 4129 \nQ 1250 4750 2034 4750 \nz\n\" transform=\"scale(0.015625)\"/>\n       </defs>\n       <use xlink:href=\"#DejaVuSans-32\"/>\n       <use xlink:href=\"#DejaVuSans-30\" x=\"63.623047\"/>\n       <use xlink:href=\"#DejaVuSans-32\" x=\"127.246094\"/>\n       <use xlink:href=\"#DejaVuSans-32\" x=\"190.869141\"/>\n      </g>\n     </g>\n    </g>\n    <g id=\"xtick_2\">\n     <g id=\"line2d_2\">\n      <g>\n       <use xlink:href=\"#m6e7d89e37d\" x=\"157.629012\" y=\"224.64\" style=\"stroke: #000000; stroke-width: 0.8\"/>\n      </g>\n     </g>\n     <g id=\"text_2\">\n      <!-- Jan -->\n      <g transform=\"translate(149.921199 239.238438)scale(0.1 -0.1)\">\n       <use xlink:href=\"#DejaVuSans-4a\"/>\n       <use xlink:href=\"#DejaVuSans-61\" x=\"29.492188\"/>\n       <use xlink:href=\"#DejaVuSans-6e\" x=\"90.771484\"/>\n      </g>\n      <!-- 2023 -->\n      <g transform=\"translate(144.904012 250.43625)scale(0.1 -0.1)\">\n       <defs>\n        <path id=\"DejaVuSans-33\" d=\"M 2597 2516 \nQ 3050 2419 3304 2112 \nQ 3559 1806 3559 1356 \nQ 3559 666 3084 287 \nQ 2609 -91 1734 -91 \nQ 1441 -91 1130 -33 \nQ 819 25 488 141 \nL 488 750 \nQ 750 597 1062 519 \nQ 1375 441 1716 441 \nQ 2309 441 2620 675 \nQ 2931 909 2931 1356 \nQ 2931 1769 2642 2001 \nQ 2353 2234 1838 2234 \nL 1294 2234 \nL 1294 2753 \nL 1863 2753 \nQ 2328 2753 2575 2939 \nQ 2822 3125 2822 3475 \nQ 2822 3834 2567 4026 \nQ 2313 4219 1838 4219 \nQ 1578 4219 1281 4162 \nQ 984 4106 628 3988 \nL 628 4550 \nQ 988 4650 1302 4700 \nQ 1616 4750 1894 4750 \nQ 2613 4750 3031 4423 \nQ 3450 4097 3450 3541 \nQ 3450 3153 3228 2886 \nQ 3006 2619 2597 2516 \nz\n\" transform=\"scale(0.015625)\"/>\n       </defs>\n       <use xlink:href=\"#DejaVuSans-32\"/>\n       <use xlink:href=\"#DejaVuSans-30\" x=\"63.623047\"/>\n       <use xlink:href=\"#DejaVuSans-32\" x=\"127.246094\"/>\n       <use xlink:href=\"#DejaVuSans-33\" x=\"190.869141\"/>\n      </g>\n     </g>\n    </g>\n    <g id=\"xtick_3\">\n     <g id=\"line2d_3\">\n      <g>\n       <use xlink:href=\"#m6e7d89e37d\" x=\"279.953336\" y=\"224.64\" style=\"stroke: #000000; stroke-width: 0.8\"/>\n      </g>\n     </g>\n     <g id=\"text_3\">\n      <!-- Jan -->\n      <g transform=\"translate(272.245524 239.238438)scale(0.1 -0.1)\">\n       <use xlink:href=\"#DejaVuSans-4a\"/>\n       <use xlink:href=\"#DejaVuSans-61\" x=\"29.492188\"/>\n       <use xlink:href=\"#DejaVuSans-6e\" x=\"90.771484\"/>\n      </g>\n      <!-- 2024 -->\n      <g transform=\"translate(267.228336 250.43625)scale(0.1 -0.1)\">\n       <defs>\n        <path id=\"DejaVuSans-34\" d=\"M 2419 4116 \nL 825 1625 \nL 2419 1625 \nL 2419 4116 \nz\nM 2253 4666 \nL 3047 4666 \nL 3047 1625 \nL 3713 1625 \nL 3713 1100 \nL 3047 1100 \nL 3047 0 \nL 2419 0 \nL 2419 1100 \nL 313 1100 \nL 313 1709 \nL 2253 4666 \nz\n\" transform=\"scale(0.015625)\"/>\n       </defs>\n       <use xlink:href=\"#DejaVuSans-32\"/>\n       <use xlink:href=\"#DejaVuSans-30\" x=\"63.623047\"/>\n       <use xlink:href=\"#DejaVuSans-32\" x=\"127.246094\"/>\n       <use xlink:href=\"#DejaVuSans-34\" x=\"190.869141\"/>\n      </g>\n     </g>\n    </g>\n    <g id=\"xtick_4\">\n     <g id=\"line2d_4\">\n      <g>\n       <use xlink:href=\"#m6e7d89e37d\" x=\"370.104688\" y=\"224.64\" style=\"stroke: #000000; stroke-width: 0.8\"/>\n      </g>\n     </g>\n    </g>\n    <g id=\"xtick_5\">\n     <g id=\"line2d_5\">\n      <defs>\n       <path id=\"m389a1c07fd\" d=\"M 0 0 \nL 0 2 \n\" style=\"stroke: #000000; stroke-width: 0.6\"/>\n      </defs>\n      <g>\n       <use xlink:href=\"#m389a1c07fd\" x=\"45.693877\" y=\"224.64\" style=\"stroke: #000000; stroke-width: 0.6\"/>\n      </g>\n     </g>\n    </g>\n    <g id=\"xtick_6\">\n     <g id=\"line2d_6\">\n      <g>\n       <use xlink:href=\"#m389a1c07fd\" x=\"55.07766\" y=\"224.64\" style=\"stroke: #000000; stroke-width: 0.6\"/>\n      </g>\n     </g>\n    </g>\n    <g id=\"xtick_7\">\n     <g id=\"line2d_7\">\n      <g>\n       <use xlink:href=\"#m389a1c07fd\" x=\"65.46685\" y=\"224.64\" style=\"stroke: #000000; stroke-width: 0.6\"/>\n      </g>\n     </g>\n    </g>\n    <g id=\"xtick_8\">\n     <g id=\"line2d_8\">\n      <g>\n       <use xlink:href=\"#m389a1c07fd\" x=\"75.520904\" y=\"224.64\" style=\"stroke: #000000; stroke-width: 0.6\"/>\n      </g>\n     </g>\n    </g>\n    <g id=\"xtick_9\">\n     <g id=\"line2d_9\">\n      <g>\n       <use xlink:href=\"#m389a1c07fd\" x=\"85.910093\" y=\"224.64\" style=\"stroke: #000000; stroke-width: 0.6\"/>\n      </g>\n     </g>\n    </g>\n    <g id=\"xtick_10\">\n     <g id=\"line2d_10\">\n      <g>\n       <use xlink:href=\"#m389a1c07fd\" x=\"95.964147\" y=\"224.64\" style=\"stroke: #000000; stroke-width: 0.6\"/>\n      </g>\n     </g>\n     <g id=\"text_4\">\n      <!-- Jul -->\n      <g transform=\"translate(89.931334 237.638438)scale(0.1 -0.1)\">\n       <defs>\n        <path id=\"DejaVuSans-75\" d=\"M 544 1381 \nL 544 3500 \nL 1119 3500 \nL 1119 1403 \nQ 1119 906 1312 657 \nQ 1506 409 1894 409 \nQ 2359 409 2629 706 \nQ 2900 1003 2900 1516 \nL 2900 3500 \nL 3475 3500 \nL 3475 0 \nL 2900 0 \nL 2900 538 \nQ 2691 219 2414 64 \nQ 2138 -91 1772 -91 \nQ 1169 -91 856 284 \nQ 544 659 544 1381 \nz\nM 1991 3584 \nL 1991 3584 \nz\n\" transform=\"scale(0.015625)\"/>\n        <path id=\"DejaVuSans-6c\" d=\"M 603 4863 \nL 1178 4863 \nL 1178 0 \nL 603 0 \nL 603 4863 \nz\n\" transform=\"scale(0.015625)\"/>\n       </defs>\n       <use xlink:href=\"#DejaVuSans-4a\"/>\n       <use xlink:href=\"#DejaVuSans-75\" x=\"29.492188\"/>\n       <use xlink:href=\"#DejaVuSans-6c\" x=\"92.871094\"/>\n      </g>\n     </g>\n    </g>\n    <g id=\"xtick_11\">\n     <g id=\"line2d_11\">\n      <g>\n       <use xlink:href=\"#m389a1c07fd\" x=\"106.353336\" y=\"224.64\" style=\"stroke: #000000; stroke-width: 0.6\"/>\n      </g>\n     </g>\n    </g>\n    <g id=\"xtick_12\">\n     <g id=\"line2d_12\">\n      <g>\n       <use xlink:href=\"#m389a1c07fd\" x=\"116.742525\" y=\"224.64\" style=\"stroke: #000000; stroke-width: 0.6\"/>\n      </g>\n     </g>\n    </g>\n    <g id=\"xtick_13\">\n     <g id=\"line2d_13\">\n      <g>\n       <use xlink:href=\"#m389a1c07fd\" x=\"126.796579\" y=\"224.64\" style=\"stroke: #000000; stroke-width: 0.6\"/>\n      </g>\n     </g>\n    </g>\n    <g id=\"xtick_14\">\n     <g id=\"line2d_14\">\n      <g>\n       <use xlink:href=\"#m389a1c07fd\" x=\"137.185769\" y=\"224.64\" style=\"stroke: #000000; stroke-width: 0.6\"/>\n      </g>\n     </g>\n    </g>\n    <g id=\"xtick_15\">\n     <g id=\"line2d_15\">\n      <g>\n       <use xlink:href=\"#m389a1c07fd\" x=\"147.239823\" y=\"224.64\" style=\"stroke: #000000; stroke-width: 0.6\"/>\n      </g>\n     </g>\n    </g>\n    <g id=\"xtick_16\">\n     <g id=\"line2d_16\">\n      <g>\n       <use xlink:href=\"#m389a1c07fd\" x=\"168.018201\" y=\"224.64\" style=\"stroke: #000000; stroke-width: 0.6\"/>\n      </g>\n     </g>\n    </g>\n    <g id=\"xtick_17\">\n     <g id=\"line2d_17\">\n      <g>\n       <use xlink:href=\"#m389a1c07fd\" x=\"177.401985\" y=\"224.64\" style=\"stroke: #000000; stroke-width: 0.6\"/>\n      </g>\n     </g>\n    </g>\n    <g id=\"xtick_18\">\n     <g id=\"line2d_18\">\n      <g>\n       <use xlink:href=\"#m389a1c07fd\" x=\"187.791174\" y=\"224.64\" style=\"stroke: #000000; stroke-width: 0.6\"/>\n      </g>\n     </g>\n    </g>\n    <g id=\"xtick_19\">\n     <g id=\"line2d_19\">\n      <g>\n       <use xlink:href=\"#m389a1c07fd\" x=\"197.845228\" y=\"224.64\" style=\"stroke: #000000; stroke-width: 0.6\"/>\n      </g>\n     </g>\n    </g>\n    <g id=\"xtick_20\">\n     <g id=\"line2d_20\">\n      <g>\n       <use xlink:href=\"#m389a1c07fd\" x=\"208.234417\" y=\"224.64\" style=\"stroke: #000000; stroke-width: 0.6\"/>\n      </g>\n     </g>\n    </g>\n    <g id=\"xtick_21\">\n     <g id=\"line2d_21\">\n      <g>\n       <use xlink:href=\"#m389a1c07fd\" x=\"218.288471\" y=\"224.64\" style=\"stroke: #000000; stroke-width: 0.6\"/>\n      </g>\n     </g>\n     <g id=\"text_5\">\n      <!-- Jul -->\n      <g transform=\"translate(212.255659 237.638438)scale(0.1 -0.1)\">\n       <use xlink:href=\"#DejaVuSans-4a\"/>\n       <use xlink:href=\"#DejaVuSans-75\" x=\"29.492188\"/>\n       <use xlink:href=\"#DejaVuSans-6c\" x=\"92.871094\"/>\n      </g>\n     </g>\n    </g>\n    <g id=\"xtick_22\">\n     <g id=\"line2d_22\">\n      <g>\n       <use xlink:href=\"#m389a1c07fd\" x=\"228.67766\" y=\"224.64\" style=\"stroke: #000000; stroke-width: 0.6\"/>\n      </g>\n     </g>\n    </g>\n    <g id=\"xtick_23\">\n     <g id=\"line2d_23\">\n      <g>\n       <use xlink:href=\"#m389a1c07fd\" x=\"239.06685\" y=\"224.64\" style=\"stroke: #000000; stroke-width: 0.6\"/>\n      </g>\n     </g>\n    </g>\n    <g id=\"xtick_24\">\n     <g id=\"line2d_24\">\n      <g>\n       <use xlink:href=\"#m389a1c07fd\" x=\"249.120904\" y=\"224.64\" style=\"stroke: #000000; stroke-width: 0.6\"/>\n      </g>\n     </g>\n    </g>\n    <g id=\"xtick_25\">\n     <g id=\"line2d_25\">\n      <g>\n       <use xlink:href=\"#m389a1c07fd\" x=\"259.510093\" y=\"224.64\" style=\"stroke: #000000; stroke-width: 0.6\"/>\n      </g>\n     </g>\n    </g>\n    <g id=\"xtick_26\">\n     <g id=\"line2d_26\">\n      <g>\n       <use xlink:href=\"#m389a1c07fd\" x=\"269.564147\" y=\"224.64\" style=\"stroke: #000000; stroke-width: 0.6\"/>\n      </g>\n     </g>\n    </g>\n    <g id=\"xtick_27\">\n     <g id=\"line2d_27\">\n      <g>\n       <use xlink:href=\"#m389a1c07fd\" x=\"290.342525\" y=\"224.64\" style=\"stroke: #000000; stroke-width: 0.6\"/>\n      </g>\n     </g>\n    </g>\n    <g id=\"xtick_28\">\n     <g id=\"line2d_28\">\n      <g>\n       <use xlink:href=\"#m389a1c07fd\" x=\"300.061444\" y=\"224.64\" style=\"stroke: #000000; stroke-width: 0.6\"/>\n      </g>\n     </g>\n    </g>\n    <g id=\"xtick_29\">\n     <g id=\"line2d_29\">\n      <g>\n       <use xlink:href=\"#m389a1c07fd\" x=\"310.450633\" y=\"224.64\" style=\"stroke: #000000; stroke-width: 0.6\"/>\n      </g>\n     </g>\n    </g>\n    <g id=\"xtick_30\">\n     <g id=\"line2d_30\">\n      <g>\n       <use xlink:href=\"#m389a1c07fd\" x=\"320.504687\" y=\"224.64\" style=\"stroke: #000000; stroke-width: 0.6\"/>\n      </g>\n     </g>\n    </g>\n    <g id=\"xtick_31\">\n     <g id=\"line2d_31\">\n      <g>\n       <use xlink:href=\"#m389a1c07fd\" x=\"330.893877\" y=\"224.64\" style=\"stroke: #000000; stroke-width: 0.6\"/>\n      </g>\n     </g>\n    </g>\n    <g id=\"xtick_32\">\n     <g id=\"line2d_32\">\n      <g>\n       <use xlink:href=\"#m389a1c07fd\" x=\"340.947931\" y=\"224.64\" style=\"stroke: #000000; stroke-width: 0.6\"/>\n      </g>\n     </g>\n     <g id=\"text_6\">\n      <!-- Jul -->\n      <g transform=\"translate(334.915118 237.638438)scale(0.1 -0.1)\">\n       <use xlink:href=\"#DejaVuSans-4a\"/>\n       <use xlink:href=\"#DejaVuSans-75\" x=\"29.492188\"/>\n       <use xlink:href=\"#DejaVuSans-6c\" x=\"92.871094\"/>\n      </g>\n     </g>\n    </g>\n    <g id=\"xtick_33\">\n     <g id=\"line2d_33\">\n      <g>\n       <use xlink:href=\"#m389a1c07fd\" x=\"351.33712\" y=\"224.64\" style=\"stroke: #000000; stroke-width: 0.6\"/>\n      </g>\n     </g>\n    </g>\n    <g id=\"xtick_34\">\n     <g id=\"line2d_34\">\n      <g>\n       <use xlink:href=\"#m389a1c07fd\" x=\"361.726309\" y=\"224.64\" style=\"stroke: #000000; stroke-width: 0.6\"/>\n      </g>\n     </g>\n    </g>\n   </g>\n   <g id=\"matplotlib.axis_2\">\n    <g id=\"ytick_1\">\n     <g id=\"line2d_35\">\n      <defs>\n       <path id=\"m08de754de6\" d=\"M 0 0 \nL -3.5 0 \n\" style=\"stroke: #000000; stroke-width: 0.8\"/>\n      </defs>\n      <g>\n       <use xlink:href=\"#m08de754de6\" x=\"35.304688\" y=\"214.916658\" style=\"stroke: #000000; stroke-width: 0.8\"/>\n      </g>\n     </g>\n     <g id=\"text_7\">\n      <!-- −40 -->\n      <g transform=\"translate(7.2 218.715877)scale(0.1 -0.1)\">\n       <defs>\n        <path id=\"DejaVuSans-2212\" d=\"M 678 2272 \nL 4684 2272 \nL 4684 1741 \nL 678 1741 \nL 678 2272 \nz\n\" transform=\"scale(0.015625)\"/>\n       </defs>\n       <use xlink:href=\"#DejaVuSans-2212\"/>\n       <use xlink:href=\"#DejaVuSans-34\" x=\"83.789062\"/>\n       <use xlink:href=\"#DejaVuSans-30\" x=\"147.412109\"/>\n      </g>\n     </g>\n    </g>\n    <g id=\"ytick_2\">\n     <g id=\"line2d_36\">\n      <g>\n       <use xlink:href=\"#m08de754de6\" x=\"35.304688\" y=\"182.919546\" style=\"stroke: #000000; stroke-width: 0.8\"/>\n      </g>\n     </g>\n     <g id=\"text_8\">\n      <!-- −20 -->\n      <g transform=\"translate(7.2 186.718765)scale(0.1 -0.1)\">\n       <use xlink:href=\"#DejaVuSans-2212\"/>\n       <use xlink:href=\"#DejaVuSans-32\" x=\"83.789062\"/>\n       <use xlink:href=\"#DejaVuSans-30\" x=\"147.412109\"/>\n      </g>\n     </g>\n    </g>\n    <g id=\"ytick_3\">\n     <g id=\"line2d_37\">\n      <g>\n       <use xlink:href=\"#m08de754de6\" x=\"35.304688\" y=\"150.922434\" style=\"stroke: #000000; stroke-width: 0.8\"/>\n      </g>\n     </g>\n     <g id=\"text_9\">\n      <!-- 0 -->\n      <g transform=\"translate(21.942188 154.721653)scale(0.1 -0.1)\">\n       <use xlink:href=\"#DejaVuSans-30\"/>\n      </g>\n     </g>\n    </g>\n    <g id=\"ytick_4\">\n     <g id=\"line2d_38\">\n      <g>\n       <use xlink:href=\"#m08de754de6\" x=\"35.304688\" y=\"118.925322\" style=\"stroke: #000000; stroke-width: 0.8\"/>\n      </g>\n     </g>\n     <g id=\"text_10\">\n      <!-- 20 -->\n      <g transform=\"translate(15.579688 122.72454)scale(0.1 -0.1)\">\n       <use xlink:href=\"#DejaVuSans-32\"/>\n       <use xlink:href=\"#DejaVuSans-30\" x=\"63.623047\"/>\n      </g>\n     </g>\n    </g>\n    <g id=\"ytick_5\">\n     <g id=\"line2d_39\">\n      <g>\n       <use xlink:href=\"#m08de754de6\" x=\"35.304688\" y=\"86.92821\" style=\"stroke: #000000; stroke-width: 0.8\"/>\n      </g>\n     </g>\n     <g id=\"text_11\">\n      <!-- 40 -->\n      <g transform=\"translate(15.579688 90.727428)scale(0.1 -0.1)\">\n       <use xlink:href=\"#DejaVuSans-34\"/>\n       <use xlink:href=\"#DejaVuSans-30\" x=\"63.623047\"/>\n      </g>\n     </g>\n    </g>\n    <g id=\"ytick_6\">\n     <g id=\"line2d_40\">\n      <g>\n       <use xlink:href=\"#m08de754de6\" x=\"35.304688\" y=\"54.931098\" style=\"stroke: #000000; stroke-width: 0.8\"/>\n      </g>\n     </g>\n     <g id=\"text_12\">\n      <!-- 60 -->\n      <g transform=\"translate(15.579688 58.730316)scale(0.1 -0.1)\">\n       <defs>\n        <path id=\"DejaVuSans-36\" d=\"M 2113 2584 \nQ 1688 2584 1439 2293 \nQ 1191 2003 1191 1497 \nQ 1191 994 1439 701 \nQ 1688 409 2113 409 \nQ 2538 409 2786 701 \nQ 3034 994 3034 1497 \nQ 3034 2003 2786 2293 \nQ 2538 2584 2113 2584 \nz\nM 3366 4563 \nL 3366 3988 \nQ 3128 4100 2886 4159 \nQ 2644 4219 2406 4219 \nQ 1781 4219 1451 3797 \nQ 1122 3375 1075 2522 \nQ 1259 2794 1537 2939 \nQ 1816 3084 2150 3084 \nQ 2853 3084 3261 2657 \nQ 3669 2231 3669 1497 \nQ 3669 778 3244 343 \nQ 2819 -91 2113 -91 \nQ 1303 -91 875 529 \nQ 447 1150 447 2328 \nQ 447 3434 972 4092 \nQ 1497 4750 2381 4750 \nQ 2619 4750 2861 4703 \nQ 3103 4656 3366 4563 \nz\n\" transform=\"scale(0.015625)\"/>\n       </defs>\n       <use xlink:href=\"#DejaVuSans-36\"/>\n       <use xlink:href=\"#DejaVuSans-30\" x=\"63.623047\"/>\n      </g>\n     </g>\n    </g>\n    <g id=\"ytick_7\">\n     <g id=\"line2d_41\">\n      <g>\n       <use xlink:href=\"#m08de754de6\" x=\"35.304688\" y=\"22.933985\" style=\"stroke: #000000; stroke-width: 0.8\"/>\n      </g>\n     </g>\n     <g id=\"text_13\">\n      <!-- 80 -->\n      <g transform=\"translate(15.579688 26.733204)scale(0.1 -0.1)\">\n       <defs>\n        <path id=\"DejaVuSans-38\" d=\"M 2034 2216 \nQ 1584 2216 1326 1975 \nQ 1069 1734 1069 1313 \nQ 1069 891 1326 650 \nQ 1584 409 2034 409 \nQ 2484 409 2743 651 \nQ 3003 894 3003 1313 \nQ 3003 1734 2745 1975 \nQ 2488 2216 2034 2216 \nz\nM 1403 2484 \nQ 997 2584 770 2862 \nQ 544 3141 544 3541 \nQ 544 4100 942 4425 \nQ 1341 4750 2034 4750 \nQ 2731 4750 3128 4425 \nQ 3525 4100 3525 3541 \nQ 3525 3141 3298 2862 \nQ 3072 2584 2669 2484 \nQ 3125 2378 3379 2068 \nQ 3634 1759 3634 1313 \nQ 3634 634 3220 271 \nQ 2806 -91 2034 -91 \nQ 1263 -91 848 271 \nQ 434 634 434 1313 \nQ 434 1759 690 2068 \nQ 947 2378 1403 2484 \nz\nM 1172 3481 \nQ 1172 3119 1398 2916 \nQ 1625 2713 2034 2713 \nQ 2441 2713 2670 2916 \nQ 2900 3119 2900 3481 \nQ 2900 3844 2670 4047 \nQ 2441 4250 2034 4250 \nQ 1625 4250 1398 4047 \nQ 1172 3844 1172 3481 \nz\n\" transform=\"scale(0.015625)\"/>\n       </defs>\n       <use xlink:href=\"#DejaVuSans-38\"/>\n       <use xlink:href=\"#DejaVuSans-30\" x=\"63.623047\"/>\n      </g>\n     </g>\n    </g>\n   </g>\n   <g id=\"line2d_42\">\n    <path d=\"M 35.304688 152.490318 \nL 35.639823 151.705718 \nL 36.310093 149.493272 \nL 36.980363 150.344919 \nL 37.985769 146.652855 \nL 38.320904 148.408023 \nL 38.656039 147.83856 \nL 39.326309 141.808081 \nL 39.661444 142.164621 \nL 39.996579 140.529756 \nL 40.331715 141.506465 \nL 40.66685 143.404279 \nL 41.001985 143.494968 \nL 41.33712 144.071861 \nL 41.672255 146.324561 \nL 42.342525 147.21318 \nL 42.67766 149.074106 \nL 43.012796 149.086288 \nL 43.347931 149.410951 \nL 43.683066 150.092613 \nL 44.353336 149.51382 \nL 44.688471 149.558427 \nL 45.023606 147.380104 \nL 45.358742 146.375784 \nL 45.693877 144.579691 \nL 46.029012 145.350828 \nL 46.364147 145.132974 \nL 46.699282 142.14898 \nL 47.034417 144.329474 \nL 47.369552 142.191759 \nL 47.704687 145.669037 \nL 48.039823 145.235275 \nL 48.374958 143.305148 \nL 48.710093 144.397148 \nL 49.045228 143.71234 \nL 49.380363 144.913655 \nL 49.715498 142.865127 \nL 50.385769 146.770946 \nL 50.720904 147.241765 \nL 51.056039 144.237437 \nL 51.391174 144.435525 \nL 51.726309 143.570844 \nL 52.061444 143.3938 \nL 52.731715 146.767262 \nL 53.401985 144.064403 \nL 54.072255 145.664228 \nL 54.40739 147.675862 \nL 54.742525 147.813226 \nL 55.07766 148.912753 \nL 55.412796 148.440535 \nL 55.747931 149.074485 \nL 56.083066 147.099146 \nL 56.418201 149.019707 \nL 56.753336 148.908766 \nL 57.423606 145.953773 \nL 57.758742 147.322459 \nL 58.093877 144.684171 \nL 58.429012 144.408636 \nL 58.764147 144.882999 \nL 59.099282 145.583898 \nL 59.434417 143.849795 \nL 60.439823 140.821739 \nL 60.774958 140.906382 \nL 61.110093 144.042596 \nL 61.445228 141.535117 \nL 61.780363 142.960076 \nL 62.450633 140.889451 \nL 63.120904 136.306841 \nL 63.456039 137.442361 \nL 63.791174 134.927354 \nL 64.126309 133.953882 \nL 64.461444 133.561336 \nL 64.796579 132.032654 \nL 65.46685 130.308193 \nL 65.801985 130.585749 \nL 66.13712 131.951531 \nL 66.472255 131.5852 \nL 66.80739 132.716038 \nL 67.142525 130.299765 \nL 67.47766 131.769106 \nL 67.812796 132.568453 \nL 68.147931 134.193737 \nL 68.483066 134.571216 \nL 68.818201 133.877884 \nL 69.153336 133.602595 \nL 69.488471 133.035081 \nL 69.823606 132.910956 \nL 70.158742 129.91301 \nL 70.493877 131.802213 \nL 71.164147 127.279826 \nL 71.834417 129.922305 \nL 72.169552 130.498921 \nL 72.504687 129.600563 \nL 72.839823 129.834243 \nL 73.174958 125.741947 \nL 73.510093 126.913252 \nL 73.845228 130.174397 \nL 74.180363 130.122232 \nL 74.515498 129.71576 \nL 75.185769 130.821995 \nL 75.520904 130.115942 \nL 75.856039 130.012275 \nL 76.191174 129.340491 \nL 76.526309 126.989583 \nL 76.861444 126.798417 \nL 77.196579 128.588373 \nL 77.531715 127.394766 \nL 78.201985 129.05335 \nL 78.53712 128.216114 \nL 78.872255 128.421185 \nL 79.20739 126.470868 \nL 79.542525 125.677486 \nL 79.87766 124.528569 \nL 80.547931 120.233101 \nL 80.883066 121.378357 \nL 81.218201 119.217521 \nL 81.553336 118.560464 \nL 81.888471 119.502536 \nL 82.223606 120.802362 \nL 82.558742 122.833824 \nL 82.893877 122.483242 \nL 83.229012 121.076787 \nL 83.564147 120.694673 \nL 83.899282 120.084365 \nL 84.569552 114.776375 \nL 84.904688 114.774509 \nL 85.239823 115.024105 \nL 85.574958 116.88292 \nL 85.910093 116.415734 \nL 86.245228 119.529579 \nL 86.580363 119.218377 \nL 86.915498 118.706757 \nL 87.585769 121.708074 \nL 87.920904 122.517548 \nL 88.256039 124.464109 \nL 88.591174 125.323453 \nL 88.926309 122.85564 \nL 89.261444 122.936644 \nL 89.596579 124.488952 \nL 89.931715 121.529998 \nL 90.26685 120.348056 \nL 90.601985 120.201025 \nL 91.272255 123.744046 \nL 91.60739 124.226321 \nL 91.942525 123.634163 \nL 92.27766 122.676256 \nL 92.612796 122.877443 \nL 92.947931 122.898943 \nL 93.283066 122.755414 \nL 93.618201 119.927437 \nL 94.288471 119.015837 \nL 94.623606 117.398214 \nL 94.958742 117.930427 \nL 95.293877 119.129646 \nL 95.629012 122.018196 \nL 96.299282 124.32489 \nL 96.634417 125.125353 \nL 96.969552 123.766969 \nL 97.304688 125.236889 \nL 97.639823 125.06369 \nL 97.974958 127.024893 \nL 98.310093 126.848937 \nL 98.645228 125.600654 \nL 98.980363 123.600502 \nL 99.315498 122.69745 \nL 99.650633 121.401991 \nL 99.985769 121.79705 \nL 100.656039 123.550055 \nL 100.991174 125.684768 \nL 101.326309 125.39888 \nL 101.996579 122.56439 \nL 102.331715 119.904095 \nL 103.001985 117.835319 \nL 103.672255 113.029128 \nL 104.342525 112.102721 \nL 105.012796 107.55059 \nL 105.683066 109.451504 \nL 106.018201 108.703423 \nL 106.353336 106.655001 \nL 106.688471 105.385366 \nL 107.023606 103.373384 \nL 107.358742 103.405564 \nL 107.693877 101.93616 \nL 108.029012 104.358789 \nL 108.364147 103.539506 \nL 108.699282 100.744944 \nL 109.034417 104.027394 \nL 109.369552 100.010353 \nL 110.374958 97.026043 \nL 110.710093 97.429115 \nL 111.045228 98.761365 \nL 111.380363 100.557347 \nL 111.715498 101.222462 \nL 112.385769 103.791029 \nL 113.056039 103.674839 \nL 113.391174 102.684927 \nL 113.726309 98.994294 \nL 114.061444 98.85934 \nL 114.396579 95.67097 \nL 114.731715 101.010707 \nL 115.06685 99.652429 \nL 115.401985 96.972571 \nL 115.73712 97.390251 \nL 116.072255 98.141269 \nL 116.40739 98.101743 \nL 116.742525 98.741769 \nL 117.07766 101.021709 \nL 117.412796 98.025771 \nL 117.747931 99.058622 \nL 118.083066 98.940359 \nL 118.418201 99.692181 \nL 118.753336 95.239053 \nL 119.088471 95.271841 \nL 119.423606 96.515498 \nL 119.758742 100.687609 \nL 120.093877 99.038767 \nL 120.429012 98.437249 \nL 120.764147 98.186506 \nL 121.099282 97.683943 \nL 121.769552 102.230255 \nL 122.104688 100.011037 \nL 122.439823 100.498504 \nL 122.774958 100.591716 \nL 123.110093 99.655501 \nL 123.445228 102.572287 \nL 123.780363 103.063632 \nL 124.115498 102.93781 \nL 124.450633 105.120684 \nL 124.785769 105.780386 \nL 125.120904 106.891507 \nL 125.456039 107.481622 \nL 125.791174 106.455778 \nL 126.126309 108.78921 \nL 126.461444 107.964339 \nL 127.131715 103.014934 \nL 127.46685 101.905402 \nL 127.801985 100.187183 \nL 128.13712 100.008027 \nL 128.472255 99.209944 \nL 128.80739 97.2337 \nL 129.142525 100.436526 \nL 129.47766 101.298928 \nL 129.812796 102.986972 \nL 130.483066 103.24027 \nL 130.818201 106.007898 \nL 131.153336 106.895483 \nL 131.488471 106.888506 \nL 131.823606 108.152889 \nL 132.158742 104.653341 \nL 132.493877 105.764723 \nL 132.829012 104.40826 \nL 133.164147 102.326278 \nL 133.499282 102.40743 \nL 133.834417 103.43993 \nL 134.169552 103.893271 \nL 134.504687 104.762174 \nL 134.839823 102.951971 \nL 135.510093 101.110415 \nL 135.845228 102.075565 \nL 136.180363 101.295852 \nL 136.515498 100.035955 \nL 136.850633 103.153159 \nL 137.185769 104.126321 \nL 137.520904 106.216295 \nL 137.856039 103.303083 \nL 138.191174 102.338018 \nL 138.526309 100.904635 \nL 138.861444 98.718903 \nL 139.196579 99.46298 \nL 139.531715 98.296075 \nL 139.86685 97.795023 \nL 140.201985 96.044239 \nL 140.53712 95.479143 \nL 140.872255 96.832257 \nL 141.20739 93.271395 \nL 141.87766 90.412998 \nL 142.212796 87.68215 \nL 142.547931 86.436627 \nL 142.883066 83.403123 \nL 143.218201 85.631875 \nL 143.553336 85.054613 \nL 143.888471 86.729662 \nL 144.223606 86.771569 \nL 144.558742 85.12705 \nL 144.893877 82.36913 \nL 145.229012 82.379995 \nL 145.564147 80.7945 \nL 146.234417 79.477152 \nL 146.569552 78.380668 \nL 146.904688 76.373226 \nL 147.239823 75.383909 \nL 147.910093 75.806026 \nL 148.245228 79.213433 \nL 148.580363 78.488789 \nL 148.915498 79.560281 \nL 149.585769 82.952837 \nL 149.920904 85.22549 \nL 150.256039 83.644965 \nL 150.591174 82.793898 \nL 150.926309 83.395269 \nL 151.261444 81.231945 \nL 151.596579 82.541466 \nL 151.931715 79.4257 \nL 152.26685 80.380594 \nL 152.601985 79.844672 \nL 152.93712 81.049182 \nL 153.272255 80.801706 \nL 153.60739 78.112166 \nL 153.942525 78.370009 \nL 154.27766 77.711838 \nL 154.612796 76.782362 \nL 155.283066 78.961989 \nL 155.618201 78.043514 \nL 155.953336 75.433549 \nL 156.288471 73.808771 \nL 156.623606 73.878182 \nL 156.958742 70.848454 \nL 157.293877 71.283379 \nL 157.629012 69.099988 \nL 157.964147 72.026887 \nL 158.299282 69.862032 \nL 158.634417 72.007391 \nL 159.304688 70.53572 \nL 159.639823 68.545115 \nL 159.974958 68.526397 \nL 160.310093 67.314065 \nL 160.645228 68.854006 \nL 161.315498 63.838862 \nL 161.650633 62.029897 \nL 161.985769 63.46851 \nL 162.320904 63.889399 \nL 162.656039 65.754362 \nL 162.991174 64.427182 \nL 163.326309 64.477893 \nL 163.996579 59.129014 \nL 164.331715 60.250349 \nL 164.66685 60.490767 \nL 165.001985 59.952023 \nL 165.33712 60.344084 \nL 165.672255 58.653156 \nL 166.00739 55.894938 \nL 166.67766 57.888844 \nL 167.012796 58.139767 \nL 167.347931 55.832819 \nL 167.683066 56.589744 \nL 168.353336 59.393427 \nL 168.688471 57.902685 \nL 169.693877 55.949493 \nL 170.029012 54.723951 \nL 170.364147 54.145058 \nL 171.369552 58.635101 \nL 171.704687 61.399973 \nL 172.039823 61.602856 \nL 172.374958 61.536227 \nL 172.710093 59.635976 \nL 173.045228 60.7861 \nL 173.380363 59.585815 \nL 173.715498 60.164013 \nL 174.050633 57.897708 \nL 174.385769 54.723146 \nL 174.720904 53.697954 \nL 175.056039 53.860641 \nL 175.391174 54.56139 \nL 175.726309 55.770544 \nL 176.061444 54.808816 \nL 176.731715 56.885387 \nL 177.06685 54.566296 \nL 177.401985 54.808666 \nL 177.73712 60.152957 \nL 178.072255 63.115638 \nL 178.40739 64.69259 \nL 178.742525 65.004716 \nL 179.07766 63.661064 \nL 179.747931 66.117946 \nL 180.083066 68.772005 \nL 181.423606 59.56372 \nL 181.758742 58.414185 \nL 182.093877 59.986419 \nL 182.429012 62.612602 \nL 182.764147 63.027376 \nL 183.099282 62.30728 \nL 183.434417 62.055187 \nL 183.769552 61.23752 \nL 184.439823 61.155828 \nL 184.774958 60.429601 \nL 185.110093 62.361585 \nL 185.780363 63.501499 \nL 186.115498 63.483303 \nL 186.450633 62.65525 \nL 186.785769 64.974757 \nL 187.120904 65.937939 \nL 187.456039 65.978326 \nL 187.791174 65.14327 \nL 188.126309 65.760643 \nL 188.461444 64.928235 \nL 188.796579 65.10386 \nL 189.46685 62.211002 \nL 189.801985 65.203237 \nL 190.13712 64.413149 \nL 190.472255 63.332925 \nL 191.142525 63.167572 \nL 191.812796 63.120411 \nL 192.147931 61.844896 \nL 192.818201 60.55886 \nL 193.153336 59.412676 \nL 193.488471 57.464129 \nL 193.823606 58.923276 \nL 194.158742 56.025403 \nL 194.493877 56.005609 \nL 194.829012 55.608119 \nL 195.164147 55.598434 \nL 195.499282 53.135025 \nL 195.834417 55.020131 \nL 196.169552 55.091057 \nL 196.504687 54.172017 \nL 196.839823 53.959461 \nL 197.174958 53.063327 \nL 197.510093 55.579487 \nL 197.845228 53.347715 \nL 198.180363 52.861566 \nL 198.515498 54.9941 \nL 198.850633 52.876431 \nL 199.185769 54.126363 \nL 199.856039 54.725309 \nL 200.526309 53.365959 \nL 200.861444 51.34873 \nL 201.196579 52.234626 \nL 201.531715 51.749985 \nL 201.86685 48.140944 \nL 202.201985 46.736208 \nL 202.53712 46.659742 \nL 202.872255 50.81721 \nL 203.20739 49.756666 \nL 203.542525 50.099867 \nL 203.87766 47.969673 \nL 204.212796 51.071848 \nL 204.547931 50.590149 \nL 204.883066 50.850857 \nL 205.218201 53.498771 \nL 205.553336 53.022695 \nL 205.888471 50.980393 \nL 206.223606 50.878141 \nL 206.558742 51.025337 \nL 206.893877 47.999878 \nL 207.229012 47.351772 \nL 207.564147 46.15036 \nL 207.899282 45.535167 \nL 208.234417 46.614246 \nL 208.569552 45.206415 \nL 208.904688 44.725303 \nL 209.239823 46.791161 \nL 209.574958 45.918952 \nL 209.910093 45.671057 \nL 210.245228 44.731453 \nL 210.915498 42.288036 \nL 211.250633 43.147577 \nL 211.585769 45.34672 \nL 211.920904 45.921367 \nL 212.256039 44.394779 \nL 212.591174 46.147952 \nL 212.926309 47.015907 \nL 213.261444 42.708356 \nL 213.931715 41.284922 \nL 214.26685 41.243689 \nL 214.601985 44.027825 \nL 214.93712 45.305533 \nL 215.272255 45.212715 \nL 215.60739 43.642256 \nL 215.942525 43.740706 \nL 216.27766 43.274054 \nL 216.612796 42.305706 \nL 216.947931 42.321137 \nL 217.283066 44.490347 \nL 217.618201 45.132396 \nL 218.288471 48.183767 \nL 218.623606 49.277321 \nL 218.958742 49.757199 \nL 219.293877 50.493204 \nL 219.629012 50.149431 \nL 219.964147 51.907233 \nL 220.299282 51.779826 \nL 220.634417 51.908252 \nL 220.969552 52.391174 \nL 221.639823 55.932791 \nL 222.310093 49.386417 \nL 222.645228 48.551875 \nL 222.980363 50.734821 \nL 223.315498 52.10999 \nL 223.650633 52.761317 \nL 224.320904 51.527959 \nL 224.656039 49.495979 \nL 224.991174 50.682724 \nL 225.326309 51.394044 \nL 225.661444 52.749933 \nL 225.996579 52.698509 \nL 226.331715 53.356356 \nL 226.66685 53.043642 \nL 227.001985 51.617603 \nL 227.33712 50.840018 \nL 227.672255 51.779676 \nL 228.00739 52.218632 \nL 228.342525 52.399302 \nL 228.67766 52.784595 \nL 229.012796 54.305978 \nL 229.347931 54.666046 \nL 229.683066 51.290484 \nL 230.018201 52.58005 \nL 230.353336 56.116356 \nL 230.688471 57.990048 \nL 231.023606 56.274256 \nL 231.693877 59.351042 \nL 232.364147 54.540899 \nL 232.699282 54.036844 \nL 233.034417 51.983356 \nL 233.369552 53.066476 \nL 233.704687 53.405829 \nL 234.039823 51.674248 \nL 234.374958 51.982943 \nL 235.380363 49.349122 \nL 235.715498 50.506582 \nL 236.050633 46.608344 \nL 236.385769 46.343706 \nL 236.720904 46.663299 \nL 237.056039 48.378418 \nL 237.391174 48.453134 \nL 237.726309 47.276946 \nL 238.061444 50.396446 \nL 238.396579 50.638188 \nL 238.731715 53.409102 \nL 239.06685 53.643513 \nL 239.401985 51.38431 \nL 239.73712 50.10338 \nL 240.072255 50.712427 \nL 240.40739 50.468936 \nL 240.742525 48.585569 \nL 241.07766 51.394788 \nL 241.412796 51.549174 \nL 241.747931 50.633889 \nL 242.083066 50.258641 \nL 242.418201 52.11541 \nL 242.753336 50.550984 \nL 243.088471 50.882248 \nL 243.423606 50.698225 \nL 243.758742 50.716148 \nL 244.093877 50.265569 \nL 244.429012 49.611211 \nL 244.764147 49.94534 \nL 245.099282 47.617233 \nL 245.769552 47.049155 \nL 246.104688 45.955335 \nL 246.439823 45.808404 \nL 246.774958 44.640443 \nL 247.110093 43.972255 \nL 247.445228 44.946028 \nL 247.780363 40.804795 \nL 248.115498 41.282926 \nL 248.450633 41.28299 \nL 248.785769 39.882431 \nL 249.120904 40.57966 \nL 249.456039 40.559869 \nL 249.791174 41.712636 \nL 250.796579 39.188044 \nL 251.131715 39.564822 \nL 251.46685 41.542615 \nL 251.801985 41.677569 \nL 252.472255 39.769918 \nL 253.142525 41.60369 \nL 253.812796 36.366357 \nL 254.818201 41.154065 \nL 255.153336 42.311037 \nL 255.488471 42.742795 \nL 255.823606 42.445427 \nL 256.158742 42.540348 \nL 256.493877 42.151625 \nL 256.829012 41.447023 \nL 257.499282 45.741584 \nL 257.834417 45.017037 \nL 258.169552 44.713054 \nL 258.504687 48.003656 \nL 258.839823 49.374021 \nL 259.174958 48.271739 \nL 259.510093 50.116242 \nL 260.180363 47.323057 \nL 260.515498 49.022208 \nL 260.850633 49.746745 \nL 261.185769 52.342082 \nL 261.520904 52.709216 \nL 261.856039 51.317765 \nL 262.191174 48.975841 \nL 262.526309 47.858464 \nL 262.861444 47.547942 \nL 263.196579 46.817895 \nL 263.531715 48.491012 \nL 263.86685 47.644177 \nL 264.201985 50.423808 \nL 264.53712 51.17 \nL 264.872255 49.09064 \nL 265.20739 45.349247 \nL 265.542525 43.389982 \nL 265.87766 43.588433 \nL 266.212796 42.498644 \nL 266.883066 41.33873 \nL 267.218201 42.39175 \nL 267.553336 41.916518 \nL 267.888471 42.577841 \nL 268.558742 36.968183 \nL 268.893877 36.163658 \nL 269.229012 36.678624 \nL 269.564147 39.405577 \nL 269.899282 38.729609 \nL 270.234417 36.220506 \nL 270.569552 35.156236 \nL 270.904688 33.228104 \nL 271.239823 30.399265 \nL 271.574958 30.849058 \nL 271.910093 32.655752 \nL 272.580363 30.947088 \nL 272.915498 30.570331 \nL 273.585769 32.663382 \nL 274.256039 28.49312 \nL 274.591174 28.058115 \nL 274.926309 29.706181 \nL 275.596579 24.204395 \nL 275.931715 25.455303 \nL 276.26685 23.437643 \nL 276.601985 23.813498 \nL 276.93712 25.233042 \nL 277.272255 22.658897 \nL 277.60739 20.984869 \nL 277.942525 20.490265 \nL 278.27766 21.02151 \nL 278.612796 23.206285 \nL 278.947931 23.510301 \nL 279.283066 24.048137 \nL 279.953336 26.389003 \nL 280.288471 23.733274 \nL 280.623606 22.785259 \nL 280.958742 23.665944 \nL 281.293877 22.027931 \nL 281.629012 23.627243 \nL 281.964147 24.258352 \nL 282.634417 28.689789 \nL 282.969552 28.772862 \nL 283.304688 27.418589 \nL 283.639823 29.905154 \nL 283.974958 31.534398 \nL 284.645228 33.095854 \nL 285.315498 33.508877 \nL 285.650633 32.77854 \nL 285.985769 32.497287 \nL 286.656039 33.888435 \nL 286.991174 33.817043 \nL 287.326309 33.932059 \nL 287.661444 34.534727 \nL 287.996579 34.41424 \nL 288.331715 30.02137 \nL 289.001985 27.489673 \nL 289.33712 27.334809 \nL 289.672255 26.344024 \nL 290.00739 26.861695 \nL 290.342525 27.947727 \nL 290.67766 26.850242 \nL 291.347931 29.814635 \nL 292.018201 27.062452 \nL 292.353336 27.409203 \nL 292.688471 26.207632 \nL 293.358742 23.077893 \nL 294.364147 26.31547 \nL 294.699282 25.724446 \nL 295.704687 22.5955 \nL 296.039823 22.6736 \nL 296.374958 20.59154 \nL 296.710093 20.538167 \nL 297.045228 19.18567 \nL 297.380363 19.690561 \nL 298.050633 23.378099 \nL 298.385769 22.961204 \nL 298.720904 24.887473 \nL 299.391174 21.653046 \nL 300.061444 19.432453 \nL 300.396579 19.906825 \nL 300.731715 17.56369 \nL 301.06685 17.171776 \nL 301.401985 17.691256 \nL 301.73712 17.083636 \nL 302.40739 19.738662 \nL 302.742525 20.255901 \nL 303.07766 18.417756 \nL 303.412796 20.138752 \nL 303.747931 19.578508 \nL 304.418201 24.07346 \nL 304.753336 24.167283 \nL 305.088471 22.186695 \nL 305.423606 19.03918 \nL 305.758742 19.632868 \nL 306.093877 20.517669 \nL 306.429012 20.796231 \nL 306.764147 23.330475 \nL 307.099282 24.065116 \nL 307.434417 21.477462 \nL 307.769552 20.911806 \nL 308.439823 21.224728 \nL 308.774958 19.138717 \nL 309.110093 20.574663 \nL 309.445228 22.595058 \nL 309.780363 22.947313 \nL 310.115498 22.314784 \nL 310.450633 25.083741 \nL 310.785769 22.351323 \nL 311.120904 22.818106 \nL 311.456039 24.106786 \nL 311.791174 26.071469 \nL 312.461444 22.966977 \nL 312.796579 23.606165 \nL 313.131715 22.925217 \nL 313.46685 23.75151 \nL 314.13712 26.958917 \nL 314.472255 28.353378 \nL 314.80739 28.830875 \nL 315.142525 28.097545 \nL 315.47766 26.476396 \nL 315.812796 22.544893 \nL 316.147931 22.355399 \nL 316.483066 23.476012 \nL 316.818201 26.166746 \nL 317.153336 24.467761 \nL 317.488471 24.064977 \nL 317.823606 26.159294 \nL 318.158742 26.854678 \nL 318.493877 25.328014 \nL 318.829012 25.357139 \nL 319.164147 28.682472 \nL 319.499282 29.025318 \nL 320.169552 31.228968 \nL 320.504687 31.849028 \nL 320.839823 30.442757 \nL 321.174958 34.267802 \nL 321.510093 35.777464 \nL 321.845228 36.46802 \nL 322.180363 38.371516 \nL 322.515498 37.327958 \nL 323.185769 41.837188 \nL 323.520904 42.250113 \nL 323.856039 42.383217 \nL 324.191174 42.669605 \nL 324.526309 40.9413 \nL 324.861444 43.799333 \nL 325.531715 37.162316 \nL 325.86685 35.542696 \nL 326.201985 34.766389 \nL 326.53712 36.463166 \nL 326.872255 36.088431 \nL 327.20739 33.904195 \nL 327.542525 34.652828 \nL 327.87766 33.611186 \nL 328.212796 35.012288 \nL 328.547931 34.969386 \nL 328.883066 33.251695 \nL 329.218201 35.31987 \nL 329.888471 32.531063 \nL 330.558742 35.994562 \nL 330.893877 38.469295 \nL 331.229012 39.045738 \nL 331.564147 37.846368 \nL 331.899282 37.441381 \nL 332.234417 35.660311 \nL 332.569552 38.287575 \nL 332.904688 39.178205 \nL 333.239823 40.538665 \nL 333.574958 41.102074 \nL 333.910093 40.373318 \nL 334.580363 40.996294 \nL 334.915498 40.563499 \nL 335.250633 41.273558 \nL 335.585769 40.805659 \nL 335.920904 41.528132 \nL 336.256039 44.088659 \nL 336.591174 44.476084 \nL 336.926309 45.850773 \nL 337.261444 44.977676 \nL 337.596579 39.262797 \nL 337.931715 38.573638 \nL 338.26685 40.236419 \nL 338.601985 42.84538 \nL 338.93712 43.138971 \nL 339.272255 43.907385 \nL 339.60739 45.286459 \nL 339.942525 45.55414 \nL 340.27766 46.880839 \nL 340.612796 46.002901 \nL 340.947931 46.259607 \nL 341.283066 46.76715 \nL 341.953336 45.379221 \nL 342.288471 45.182644 \nL 342.623606 45.578189 \nL 342.958742 46.738307 \nL 343.293877 49.67186 \nL 343.629012 49.048382 \nL 343.964147 51.119296 \nL 344.299282 51.707441 \nL 344.634417 50.744211 \nL 344.969552 50.280559 \nL 345.304688 51.550929 \nL 345.639823 50.979495 \nL 345.974958 50.810611 \nL 346.645228 51.652047 \nL 346.980363 50.60124 \nL 347.315498 50.118458 \nL 347.650633 51.375953 \nL 347.985769 50.110223 \nL 348.320904 50.870415 \nL 348.656039 50.335881 \nL 348.991174 50.64195 \nL 349.326309 50.433228 \nL 349.661444 47.684442 \nL 349.996579 45.913711 \nL 350.66685 49.128296 \nL 351.33712 46.264541 \nL 351.672255 45.541895 \nL 352.342525 41.267262 \nL 352.67766 40.131877 \nL 353.012796 37.570582 \nL 353.347931 40.504609 \nL 353.683066 40.666002 \nL 354.018201 40.989079 \nL 354.353336 40.22001 \nL 354.688471 38.30786 \nL 355.023606 37.368162 \nL 355.358742 39.217059 \nL 355.693877 38.30689 \nL 356.029012 36.312579 \nL 356.364147 33.17002 \nL 356.699282 35.521766 \nL 357.034417 31.48225 \nL 357.369552 29.46936 \nL 357.704687 28.959454 \nL 358.039823 27.321657 \nL 358.374958 26.786809 \nL 358.710093 27.830511 \nL 359.045228 25.439603 \nL 359.380363 25.929191 \nL 359.715498 25.474494 \nL 360.050633 27.982625 \nL 360.385769 26.399039 \nL 360.720904 28.441857 \nL 361.391174 28.017596 \nL 361.726309 29.086713 \nL 362.396579 32.880063 \nL 362.731715 32.499172 \nL 363.401985 34.336799 \nL 363.73712 33.805949 \nL 364.40739 30.785475 \nL 364.742525 30.331412 \nL 365.412796 28.244209 \nL 365.747931 28.899874 \nL 366.083066 28.921028 \nL 366.418201 28.826567 \nL 366.753336 27.915691 \nL 367.088471 25.599787 \nL 367.423606 25.877874 \nL 367.758742 28.110848 \nL 368.429012 23.874597 \nL 368.764147 25.218412 \nL 369.099282 25.035064 \nL 369.434417 25.29274 \nL 369.769552 26.764372 \nL 370.104688 26.149977 \nL 370.104688 26.149977 \n\" clip-path=\"url(#p0a8468c33b)\" style=\"fill: none; stroke: #1f77b4; stroke-width: 1.5; stroke-linecap: square\"/>\n   </g>\n   <g id=\"line2d_43\">\n    <path d=\"M 35.304688 150.580482 \nL 35.639823 150.995369 \nL 36.310093 154.603808 \nL 36.645228 152.424059 \nL 36.980363 153.670851 \nL 37.315498 152.991106 \nL 37.650633 153.447997 \nL 37.985769 153.266767 \nL 38.320904 151.379094 \nL 38.656039 151.102417 \nL 38.991174 151.620617 \nL 39.326309 152.533695 \nL 39.661444 150.370542 \nL 39.996579 149.271608 \nL 40.66685 151.288696 \nL 41.001985 154.184322 \nL 41.33712 153.498552 \nL 41.672255 151.915481 \nL 42.342525 145.638083 \nL 42.67766 145.029915 \nL 43.012796 146.027717 \nL 43.347931 148.013707 \nL 43.683066 148.72959 \nL 44.018201 150.323735 \nL 44.353336 150.822146 \nL 45.023606 148.62961 \nL 45.358742 149.268287 \nL 45.693877 149.512658 \nL 46.029012 149.36124 \nL 46.364147 152.458044 \nL 46.699282 152.9485 \nL 47.034417 154.44157 \nL 47.369552 152.227006 \nL 47.704687 151.601274 \nL 48.039823 154.82624 \nL 48.374958 155.777126 \nL 48.710093 154.471534 \nL 49.045228 153.874937 \nL 49.380363 151.235737 \nL 49.715498 153.549648 \nL 50.050633 153.105877 \nL 50.385769 150.687414 \nL 50.720904 149.64167 \nL 51.056039 150.103741 \nL 51.391174 152.591719 \nL 51.726309 152.506669 \nL 52.061444 155.366758 \nL 52.396579 155.521951 \nL 52.731715 154.560272 \nL 53.06685 153.172011 \nL 53.73712 158.088533 \nL 54.072255 156.229213 \nL 54.40739 155.98742 \nL 54.742525 153.562953 \nL 55.07766 154.040791 \nL 55.412796 153.653946 \nL 55.747931 156.949455 \nL 56.083066 157.729524 \nL 56.418201 157.48036 \nL 56.753336 158.376945 \nL 57.088471 158.226425 \nL 57.423606 158.463615 \nL 57.758742 160.148138 \nL 58.429012 157.526302 \nL 58.764147 157.486094 \nL 59.099282 157.318878 \nL 59.434417 159.744022 \nL 59.769552 158.218148 \nL 60.104688 158.406758 \nL 60.439823 158.32148 \nL 60.774958 161.170918 \nL 61.110093 159.995218 \nL 61.445228 161.647775 \nL 62.115498 164.005542 \nL 62.450633 164.089242 \nL 63.120904 167.328459 \nL 63.791174 165.698167 \nL 64.126309 166.853445 \nL 64.461444 165.797964 \nL 64.796579 165.292693 \nL 65.131715 166.084678 \nL 65.46685 164.957587 \nL 65.801985 165.107474 \nL 66.13712 166.667386 \nL 66.80739 162.747088 \nL 67.142525 161.752218 \nL 67.47766 162.763997 \nL 67.812796 162.787112 \nL 68.147931 159.335165 \nL 68.483066 157.594308 \nL 68.818201 157.93061 \nL 69.153336 159.597416 \nL 69.488471 158.765576 \nL 69.823606 160.301365 \nL 70.158742 160.050565 \nL 70.493877 160.567331 \nL 71.164147 157.076677 \nL 71.499282 158.382511 \nL 71.834417 157.863099 \nL 72.169552 155.461824 \nL 72.504687 154.474092 \nL 72.839823 155.369936 \nL 73.174958 154.283873 \nL 73.510093 156.941286 \nL 73.845228 155.658271 \nL 74.180363 153.934227 \nL 74.515498 151.32364 \nL 74.850633 151.624431 \nL 75.185769 151.559253 \nL 75.520904 150.197984 \nL 75.856039 152.006986 \nL 76.191174 152.244073 \nL 76.526309 150.643017 \nL 76.861444 152.470756 \nL 77.196579 152.55356 \nL 77.531715 152.938163 \nL 77.86685 152.565766 \nL 78.201985 153.56357 \nL 78.53712 154.165162 \nL 78.872255 152.007145 \nL 79.20739 152.169644 \nL 79.87766 151.177779 \nL 80.212796 152.26203 \nL 80.547931 152.809629 \nL 80.883066 156.049844 \nL 81.218201 157.346071 \nL 81.553336 157.269716 \nL 81.888471 157.953636 \nL 82.223606 158.94763 \nL 82.558742 159.045014 \nL 82.893877 157.979362 \nL 83.229012 157.837803 \nL 83.564147 160.448088 \nL 83.899282 162.102817 \nL 84.234417 161.228268 \nL 84.569552 163.572894 \nL 85.239823 165.189454 \nL 85.574958 163.857337 \nL 85.910093 160.124227 \nL 86.245228 161.680994 \nL 86.580363 161.512265 \nL 86.915498 159.040636 \nL 87.250633 158.225204 \nL 87.920904 163.007276 \nL 88.256039 162.120456 \nL 88.926309 161.372621 \nL 89.261444 163.289304 \nL 89.931715 165.598747 \nL 90.26685 165.649804 \nL 90.601985 167.450026 \nL 90.93712 167.201363 \nL 91.272255 166.544551 \nL 91.60739 165.160823 \nL 92.27766 164.446515 \nL 92.612796 167.043208 \nL 92.947931 167.9981 \nL 93.283066 164.761919 \nL 93.618201 165.585185 \nL 93.953336 167.380758 \nL 94.288471 166.045986 \nL 94.623606 166.862275 \nL 94.958742 170.105163 \nL 95.293877 171.402275 \nL 95.629012 167.954677 \nL 95.964147 167.335841 \nL 96.299282 167.095568 \nL 96.969552 165.061829 \nL 97.639823 168.535968 \nL 97.974958 168.398989 \nL 98.310093 172.015461 \nL 98.645228 173.091592 \nL 98.980363 175.818309 \nL 99.315498 174.278463 \nL 99.650633 177.101963 \nL 99.985769 175.747646 \nL 100.320904 176.292643 \nL 100.656039 175.480991 \nL 100.991174 175.113159 \nL 101.326309 175.174246 \nL 101.661444 175.98658 \nL 101.996579 175.578562 \nL 102.331715 172.578613 \nL 102.66685 174.978408 \nL 103.001985 174.29694 \nL 103.33712 174.279386 \nL 103.672255 173.360874 \nL 104.00739 175.795458 \nL 104.342525 176.548199 \nL 104.67766 177.688198 \nL 105.347931 173.799178 \nL 105.683066 175.697531 \nL 106.018201 173.471253 \nL 106.353336 175.394711 \nL 106.688471 176.43768 \nL 107.023606 174.309903 \nL 107.358742 174.894622 \nL 107.693877 174.996402 \nL 108.029012 178.397824 \nL 109.034417 175.884003 \nL 109.369552 175.254103 \nL 109.704687 173.520113 \nL 110.374958 176.047122 \nL 110.710093 176.147169 \nL 111.045228 179.076431 \nL 111.380363 179.598881 \nL 111.715498 181.425974 \nL 112.050633 181.242434 \nL 112.720904 186.800983 \nL 113.056039 186.03069 \nL 113.391174 188.432732 \nL 113.726309 188.011222 \nL 114.396579 190.863924 \nL 114.731715 192.398297 \nL 115.06685 192.142871 \nL 115.401985 192.302573 \nL 116.072255 193.415906 \nL 116.40739 198.867894 \nL 116.742525 196.19223 \nL 117.07766 196.067544 \nL 117.412796 194.489158 \nL 118.418201 198.880224 \nL 119.088471 195.257663 \nL 119.423606 192.879163 \nL 119.758742 195.712048 \nL 120.093877 194.642528 \nL 120.429012 193.194477 \nL 120.764147 193.314462 \nL 121.099282 192.775919 \nL 121.434417 192.000239 \nL 121.769552 191.874841 \nL 122.104688 192.455083 \nL 122.439823 192.316144 \nL 122.774958 194.04421 \nL 123.110093 194.058678 \nL 123.445228 196.953582 \nL 123.780363 198.460696 \nL 124.115498 202.569221 \nL 124.450633 203.016715 \nL 124.785769 202.958795 \nL 125.120904 204.243493 \nL 125.791174 201.29814 \nL 126.126309 198.948732 \nL 126.461444 199.245378 \nL 127.131715 197.185051 \nL 127.46685 198.411657 \nL 127.801985 197.149577 \nL 128.13712 200.219203 \nL 128.472255 197.863455 \nL 128.80739 197.069285 \nL 129.142525 196.936198 \nL 129.47766 198.024827 \nL 129.812796 199.770834 \nL 130.147931 196.842039 \nL 130.483066 197.346955 \nL 130.818201 197.55768 \nL 131.153336 200.047314 \nL 131.488471 198.750254 \nL 131.823606 198.183541 \nL 132.158742 196.31199 \nL 132.493877 196.159018 \nL 132.829012 199.973985 \nL 133.499282 198.156173 \nL 133.834417 198.262755 \nL 134.169552 200.210963 \nL 134.504687 198.761763 \nL 134.839823 199.048105 \nL 135.174958 198.28621 \nL 135.510093 200.837988 \nL 135.845228 201.037202 \nL 136.850633 203.5162 \nL 137.185769 207.086386 \nL 137.520904 207.773482 \nL 137.856039 208.771854 \nL 138.191174 208.462942 \nL 138.861444 206.197574 \nL 139.196579 206.815179 \nL 139.86685 204.727274 \nL 140.201985 201.835393 \nL 140.872255 203.937369 \nL 141.20739 203.719742 \nL 141.542525 204.002936 \nL 142.212796 206.238694 \nL 142.547931 206.394741 \nL 143.218201 208.958172 \nL 143.553336 210.54819 \nL 143.888471 209.38397 \nL 144.223606 208.916298 \nL 144.558742 206.724819 \nL 144.893877 206.675291 \nL 145.564147 208.48289 \nL 145.899282 209.2998 \nL 146.234417 209.334282 \nL 146.569552 208.95934 \nL 146.904688 207.126318 \nL 147.239823 206.93654 \nL 147.574958 208.061609 \nL 147.910093 206.696673 \nL 148.245228 206.920198 \nL 148.580363 207.90386 \nL 148.915498 205.652657 \nL 149.250633 206.467965 \nL 149.585769 209.00133 \nL 149.920904 209.77839 \nL 150.256039 207.998413 \nL 150.591174 208.592131 \nL 150.926309 209.506914 \nL 151.261444 208.208513 \nL 151.596579 206.219396 \nL 151.931715 209.772663 \nL 152.26685 209.673852 \nL 152.601985 208.394402 \nL 153.272255 212.04308 \nL 153.60739 211.790197 \nL 153.942525 212.098827 \nL 154.27766 211.484419 \nL 154.612796 214.756364 \nL 155.618201 210.741561 \nL 155.953336 212.94307 \nL 156.288471 209.930346 \nL 156.623606 205.523868 \nL 156.958742 203.805717 \nL 157.293877 203.041445 \nL 157.964147 203.107124 \nL 158.299282 205.630792 \nL 158.634417 206.823242 \nL 158.969552 206.280834 \nL 159.304688 207.744596 \nL 159.639823 207.544637 \nL 159.974958 208.280545 \nL 160.310093 205.732605 \nL 160.645228 204.30355 \nL 160.980363 207.974884 \nL 161.315498 208.365594 \nL 161.650633 208.016502 \nL 161.985769 207.147285 \nL 162.320904 207.502467 \nL 162.991174 211.552398 \nL 163.326309 210.798949 \nL 163.661444 209.316781 \nL 163.996579 209.801967 \nL 164.331715 211.917609 \nL 164.66685 213.050474 \nL 165.001985 213.099635 \nL 165.33712 211.763735 \nL 165.672255 211.191709 \nL 166.00739 209.079614 \nL 166.342525 209.529327 \nL 166.67766 210.904383 \nL 167.012796 211.01467 \nL 167.347931 210.947143 \nL 167.683066 209.830358 \nL 168.688471 201.396629 \nL 169.023606 201.96062 \nL 169.358742 201.658002 \nL 169.693877 201.097344 \nL 170.029012 200.114903 \nL 170.364147 197.5073 \nL 171.034417 198.387543 \nL 171.369552 199.410111 \nL 171.704687 201.629431 \nL 172.039823 202.382586 \nL 172.374958 204.185586 \nL 172.710093 203.11823 \nL 173.045228 203.632151 \nL 173.380363 205.552797 \nL 174.050633 203.347297 \nL 174.385769 203.051302 \nL 174.720904 202.164758 \nL 175.056039 200.43276 \nL 175.391174 199.380348 \nL 175.726309 200.262808 \nL 176.061444 196.671052 \nL 176.396579 196.786394 \nL 176.731715 196.662559 \nL 177.06685 199.834945 \nL 177.73712 197.760616 \nL 178.072255 197.294163 \nL 178.742525 193.640893 \nL 179.07766 193.195424 \nL 179.412796 194.4621 \nL 179.747931 194.476167 \nL 180.083066 196.962463 \nL 180.753336 192.859812 \nL 181.088471 194.051738 \nL 181.423606 195.906072 \nL 181.758742 195.624031 \nL 182.093877 195.628033 \nL 182.764147 198.608248 \nL 183.099282 200.742516 \nL 183.434417 202.044594 \nL 183.769552 201.59351 \nL 184.104688 203.635408 \nL 184.439823 203.236715 \nL 185.110093 206.634681 \nL 185.445228 206.023822 \nL 185.780363 207.712283 \nL 186.115498 207.340166 \nL 186.785769 203.954569 \nL 187.120904 205.164731 \nL 187.456039 208.865856 \nL 187.791174 208.554933 \nL 188.126309 207.770168 \nL 188.461444 209.477306 \nL 188.796579 206.767353 \nL 189.131715 205.915438 \nL 189.46685 207.335605 \nL 189.801985 207.119462 \nL 190.13712 205.162367 \nL 190.472255 203.892847 \nL 190.80739 204.356748 \nL 191.142525 205.411765 \nL 191.812796 201.518176 \nL 192.483066 202.905245 \nL 192.818201 204.098106 \nL 193.153336 199.384199 \nL 193.488471 199.739768 \nL 193.823606 199.220341 \nL 194.158742 200.12006 \nL 194.493877 199.910589 \nL 194.829012 199.408568 \nL 195.164147 201.709809 \nL 195.499282 198.222721 \nL 195.834417 197.675003 \nL 196.169552 194.945533 \nL 196.504687 193.590462 \nL 196.839823 194.32592 \nL 197.174958 193.699451 \nL 197.510093 195.146946 \nL 197.845228 192.651639 \nL 198.180363 193.435373 \nL 198.515498 193.43924 \nL 198.850633 193.017437 \nL 199.185769 188.828786 \nL 199.520904 188.418125 \nL 199.856039 188.346588 \nL 200.191174 186.907979 \nL 201.196579 188.866482 \nL 201.86685 184.4981 \nL 202.201985 185.696983 \nL 202.872255 182.268988 \nL 203.20739 183.50081 \nL 203.542525 185.8381 \nL 203.87766 182.876705 \nL 204.212796 182.400008 \nL 204.547931 180.089746 \nL 204.883066 179.295523 \nL 205.218201 180.416158 \nL 205.553336 181.994295 \nL 205.888471 182.392633 \nL 206.223606 183.386943 \nL 206.558742 181.295936 \nL 206.893877 182.250451 \nL 207.229012 184.141026 \nL 207.564147 181.898068 \nL 207.899282 181.872713 \nL 208.234417 183.613129 \nL 208.569552 179.819565 \nL 208.904688 178.649175 \nL 209.239823 180.366183 \nL 209.574958 181.028854 \nL 209.910093 179.639609 \nL 210.245228 177.022642 \nL 210.580363 176.606856 \nL 210.915498 175.809793 \nL 211.250633 174.586917 \nL 211.585769 171.819973 \nL 211.920904 170.516564 \nL 212.256039 171.310265 \nL 212.591174 173.612314 \nL 212.926309 171.38596 \nL 213.261444 173.256866 \nL 213.596579 172.483349 \nL 213.931715 173.665946 \nL 214.26685 171.152124 \nL 214.601985 170.190022 \nL 214.93712 172.754698 \nL 215.60739 169.993777 \nL 215.942525 170.436048 \nL 216.27766 172.055637 \nL 216.612796 169.096567 \nL 216.947931 169.4174 \nL 217.618201 165.880108 \nL 217.953336 167.135994 \nL 218.623606 171.801965 \nL 218.958742 172.667758 \nL 219.629012 168.210038 \nL 219.964147 167.360927 \nL 220.299282 168.270016 \nL 220.634417 169.563465 \nL 220.969552 168.39598 \nL 221.304688 170.388831 \nL 221.639823 169.316298 \nL 221.974958 169.908529 \nL 222.310093 168.88165 \nL 222.645228 168.555586 \nL 222.980363 168.849047 \nL 223.315498 168.720151 \nL 223.650633 169.249753 \nL 223.985769 168.518215 \nL 224.320904 168.631054 \nL 224.991174 166.519795 \nL 225.326309 167.555799 \nL 225.661444 166.143075 \nL 225.996579 165.361188 \nL 226.331715 166.776305 \nL 226.66685 164.966915 \nL 227.001985 166.819434 \nL 227.33712 167.603231 \nL 227.672255 167.551935 \nL 228.00739 165.505812 \nL 228.342525 166.399598 \nL 228.67766 165.821573 \nL 229.012796 164.245034 \nL 229.347931 163.506508 \nL 229.683066 165.629433 \nL 230.018201 165.247234 \nL 230.353336 165.941922 \nL 230.688471 165.661152 \nL 231.023606 163.869484 \nL 231.358742 163.77195 \nL 231.693877 165.504456 \nL 232.029012 166.458574 \nL 232.699282 168.969323 \nL 233.034417 170.339026 \nL 233.369552 171.002594 \nL 233.704687 169.374275 \nL 234.039823 169.734488 \nL 234.374958 169.573402 \nL 234.710093 169.982213 \nL 235.045228 170.84747 \nL 235.380363 169.346238 \nL 235.715498 169.710453 \nL 236.050633 169.412981 \nL 236.720904 171.1918 \nL 237.056039 171.23422 \nL 237.726309 169.656472 \nL 238.061444 169.817419 \nL 238.396579 167.250612 \nL 238.731715 167.657044 \nL 239.06685 167.311719 \nL 239.401985 166.32693 \nL 239.73712 166.887735 \nL 240.072255 165.05724 \nL 240.40739 164.992417 \nL 240.742525 169.276113 \nL 241.07766 171.327973 \nL 242.083066 167.625829 \nL 242.753336 166.056925 \nL 243.088471 163.771355 \nL 243.423606 164.590346 \nL 243.758742 162.200341 \nL 244.093877 164.659567 \nL 244.429012 164.680697 \nL 244.764147 162.988764 \nL 245.099282 161.995933 \nL 245.434417 163.081262 \nL 245.769552 163.017916 \nL 246.104688 163.359488 \nL 246.439823 162.511392 \nL 246.774958 162.458572 \nL 247.110093 163.122693 \nL 247.445228 162.416703 \nL 247.780363 163.454477 \nL 248.115498 165.190462 \nL 248.450633 163.542157 \nL 249.120904 164.261046 \nL 249.456039 164.14564 \nL 250.126309 168.627367 \nL 250.461444 167.506664 \nL 250.796579 165.535545 \nL 251.131715 167.799244 \nL 251.46685 167.47286 \nL 252.13712 171.69441 \nL 252.472255 171.971398 \nL 253.142525 166.897886 \nL 253.812796 158.746256 \nL 254.147931 157.726663 \nL 254.483066 160.527516 \nL 254.818201 160.165482 \nL 255.823606 156.879447 \nL 256.158742 157.261375 \nL 256.493877 154.689103 \nL 256.829012 154.220001 \nL 257.164147 153.070227 \nL 257.499282 155.934413 \nL 257.834417 156.157613 \nL 258.169552 155.914022 \nL 258.504687 156.557925 \nL 259.174958 160.81798 \nL 259.510093 160.678816 \nL 259.845228 161.301661 \nL 260.180363 160.09403 \nL 260.515498 162.605727 \nL 260.850633 163.303034 \nL 261.185769 162.624909 \nL 261.520904 163.417394 \nL 261.856039 162.274858 \nL 262.191174 161.611981 \nL 262.526309 162.193789 \nL 263.196579 164.676475 \nL 263.531715 167.222082 \nL 263.86685 168.857082 \nL 264.201985 169.568434 \nL 264.53712 171.641765 \nL 264.872255 172.7377 \nL 265.20739 170.035193 \nL 265.87766 168.200611 \nL 266.212796 167.121561 \nL 266.883066 168.438576 \nL 267.218201 164.761358 \nL 267.553336 163.173699 \nL 267.888471 163.871412 \nL 268.223606 163.871848 \nL 268.558742 163.304748 \nL 268.893877 165.951083 \nL 269.229012 163.02368 \nL 269.564147 162.156965 \nL 269.899282 161.887753 \nL 270.234417 164.80045 \nL 270.904688 167.079693 \nL 271.239823 167.170055 \nL 271.574958 168.619889 \nL 271.910093 166.779643 \nL 272.245228 168.032723 \nL 272.580363 164.959475 \nL 272.915498 165.314248 \nL 273.250633 164.189016 \nL 273.585769 164.565843 \nL 273.920904 165.990933 \nL 274.256039 164.497706 \nL 274.591174 164.377004 \nL 275.261444 162.650177 \nL 275.596579 165.79677 \nL 275.931715 164.886792 \nL 276.26685 164.476374 \nL 276.601985 163.156327 \nL 276.93712 165.671371 \nL 277.272255 166.153593 \nL 277.60739 163.85909 \nL 277.942525 165.302345 \nL 278.27766 166.154556 \nL 278.612796 166.356649 \nL 279.283066 164.442895 \nL 279.618201 165.856591 \nL 279.953336 168.358986 \nL 280.288471 167.839497 \nL 280.623606 168.749776 \nL 280.958742 165.098263 \nL 281.293877 164.315696 \nL 281.964147 167.86209 \nL 282.299282 165.226357 \nL 282.634417 165.158025 \nL 282.969552 168.987734 \nL 283.304688 169.139477 \nL 284.980363 175.658271 \nL 285.315498 173.099735 \nL 285.650633 173.100988 \nL 285.985769 171.860734 \nL 286.320904 168.159528 \nL 286.991174 171.771498 \nL 287.326309 170.820341 \nL 287.661444 170.269191 \nL 287.996579 171.369914 \nL 288.331715 170.005862 \nL 289.001985 166.091591 \nL 289.672255 163.779732 \nL 290.00739 165.188947 \nL 290.342525 160.358379 \nL 290.67766 159.733476 \nL 291.012796 158.32622 \nL 291.347931 159.735873 \nL 291.683066 162.544797 \nL 292.018201 163.726815 \nL 292.353336 160.371042 \nL 292.688471 161.336518 \nL 293.358742 154.58536 \nL 294.029012 159.3973 \nL 294.364147 159.087851 \nL 294.699282 157.561622 \nL 295.034417 157.453933 \nL 295.369552 158.016483 \nL 295.704687 155.303695 \nL 296.039823 156.034211 \nL 296.374958 155.317382 \nL 296.710093 156.31318 \nL 297.045228 157.893748 \nL 297.380363 155.556031 \nL 297.715498 155.569998 \nL 298.050633 155.945863 \nL 298.385769 155.337957 \nL 299.056039 159.202885 \nL 299.726309 156.035076 \nL 300.061444 157.818536 \nL 300.396579 156.520852 \nL 300.731715 157.790706 \nL 301.06685 157.325259 \nL 301.401985 155.683779 \nL 301.73712 156.860023 \nL 302.072255 155.554309 \nL 302.40739 155.799874 \nL 302.742525 158.981144 \nL 303.07766 158.001048 \nL 303.412796 158.231012 \nL 303.747931 157.135438 \nL 304.083066 157.517926 \nL 304.418201 155.865421 \nL 304.753336 157.637142 \nL 305.088471 157.119145 \nL 305.423606 157.16602 \nL 305.758742 160.799373 \nL 306.093877 162.465933 \nL 306.764147 163.14844 \nL 307.099282 165.725485 \nL 307.434417 165.135923 \nL 307.769552 163.831541 \nL 308.439823 163.126822 \nL 308.774958 166.304122 \nL 309.110093 162.805489 \nL 309.445228 164.41806 \nL 309.780363 165.337485 \nL 310.450633 160.493989 \nL 310.785769 162.675964 \nL 311.120904 163.787996 \nL 311.791174 159.370455 \nL 312.126309 159.043865 \nL 312.796579 155.883877 \nL 313.131715 155.443899 \nL 313.46685 153.733802 \nL 313.801985 155.050649 \nL 314.13712 155.615149 \nL 314.80739 157.551068 \nL 315.142525 157.502626 \nL 315.812796 150.986131 \nL 316.147931 150.297087 \nL 316.483066 148.164918 \nL 316.818201 147.121912 \nL 317.153336 148.574184 \nL 317.488471 148.668469 \nL 318.158742 147.384213 \nL 318.493877 147.652262 \nL 318.829012 148.961273 \nL 319.164147 151.57561 \nL 319.499282 151.356996 \nL 319.834417 151.734975 \nL 320.169552 149.626625 \nL 320.504687 150.27779 \nL 321.174958 152.998716 \nL 321.510093 152.513903 \nL 321.845228 154.465821 \nL 322.180363 151.369664 \nL 322.850633 150.466739 \nL 323.185769 150.647268 \nL 323.520904 155.217609 \nL 323.856039 155.714815 \nL 324.191174 152.393821 \nL 324.526309 151.382161 \nL 325.196579 151.975515 \nL 325.531715 151.372563 \nL 325.86685 148.95852 \nL 326.201985 149.284098 \nL 326.53712 149.765782 \nL 326.872255 150.575225 \nL 327.20739 148.752785 \nL 327.542525 150.752261 \nL 327.87766 153.510053 \nL 328.212796 153.042659 \nL 328.547931 152.304038 \nL 328.883066 153.429095 \nL 329.218201 153.71694 \nL 329.553336 151.889682 \nL 329.888471 153.94046 \nL 330.223606 153.045571 \nL 330.558742 152.556452 \nL 330.893877 154.279419 \nL 331.229012 151.666319 \nL 331.899282 153.151804 \nL 332.234417 151.618735 \nL 332.569552 154.00572 \nL 332.904688 152.916468 \nL 333.239823 155.413013 \nL 333.574958 152.788004 \nL 333.910093 153.452827 \nL 334.245228 149.128954 \nL 334.580363 148.240085 \nL 334.915498 148.596289 \nL 335.250633 150.442281 \nL 335.585769 150.582876 \nL 335.920904 147.555289 \nL 336.256039 147.722729 \nL 336.926309 151.617049 \nL 337.261444 150.167155 \nL 337.596579 149.628264 \nL 337.931715 150.780475 \nL 338.26685 150.951738 \nL 338.601985 152.147391 \nL 339.272255 155.174787 \nL 339.60739 154.742793 \nL 339.942525 154.893635 \nL 340.27766 156.487396 \nL 340.612796 156.044521 \nL 340.947931 156.341787 \nL 341.283066 156.241013 \nL 341.618201 154.767699 \nL 342.288471 154.999748 \nL 342.623606 154.58387 \nL 342.958742 155.522787 \nL 343.293877 153.134196 \nL 343.629012 153.618023 \nL 343.964147 153.505732 \nL 344.299282 152.069586 \nL 344.634417 152.100115 \nL 344.969552 152.67134 \nL 345.304688 149.068013 \nL 345.639823 151.188678 \nL 345.974958 149.419983 \nL 346.310093 149.180537 \nL 346.645228 150.369853 \nL 346.980363 149.880028 \nL 347.315498 150.090886 \nL 347.650633 153.582283 \nL 347.985769 152.681549 \nL 348.991174 146.854831 \nL 349.326309 147.979789 \nL 349.661444 146.609021 \nL 349.996579 147.44734 \nL 350.331715 150.512922 \nL 350.66685 150.946543 \nL 351.001985 151.779605 \nL 351.33712 153.226502 \nL 351.672255 151.158402 \nL 352.00739 152.924655 \nL 352.342525 151.967276 \nL 352.67766 153.83277 \nL 353.012796 153.05642 \nL 353.347931 153.504747 \nL 353.683066 151.005148 \nL 354.018201 150.311261 \nL 354.353336 148.986176 \nL 354.688471 149.316276 \nL 355.023606 151.673255 \nL 355.358742 151.513999 \nL 355.693877 151.652623 \nL 356.029012 152.519118 \nL 356.364147 151.64857 \nL 356.699282 153.307348 \nL 357.034417 156.414585 \nL 357.369552 157.517696 \nL 357.704687 153.529077 \nL 358.374958 150.715471 \nL 358.710093 151.489861 \nL 359.045228 150.050384 \nL 359.380363 147.467574 \nL 359.715498 148.0489 \nL 360.385769 152.294252 \nL 360.720904 152.095825 \nL 361.391174 152.514257 \nL 361.726309 151.366263 \nL 362.061444 151.764149 \nL 362.731715 154.444821 \nL 363.06685 154.292535 \nL 363.401985 153.820923 \nL 364.40739 151.637212 \nL 364.742525 154.098104 \nL 365.07766 152.006316 \nL 365.412796 152.561973 \nL 365.747931 154.527553 \nL 366.083066 154.292123 \nL 366.418201 155.11976 \nL 366.753336 155.461836 \nL 367.088471 157.783498 \nL 367.423606 155.840365 \nL 367.758742 159.115869 \nL 368.093877 156.979015 \nL 368.429012 157.884865 \nL 369.099282 156.829319 \nL 369.434417 159.247095 \nL 369.769552 160.579137 \nL 370.104688 160.371367 \nL 370.104688 160.371367 \n\" clip-path=\"url(#p0a8468c33b)\" style=\"fill: none; stroke: #ff7f0e; stroke-width: 1.5; stroke-linecap: square\"/>\n   </g>\n   <g id=\"line2d_44\">\n    <path d=\"M 35.304688 149.054589 \nL 35.639823 150.466571 \nL 35.974958 149.974037 \nL 36.310093 149.146433 \nL 36.645228 149.393025 \nL 36.980363 149.95592 \nL 37.315498 149.353934 \nL 37.650633 149.38451 \nL 37.985769 148.456652 \nL 38.656039 151.527443 \nL 38.991174 151.614453 \nL 39.326309 152.588051 \nL 39.661444 152.692949 \nL 39.996579 150.73602 \nL 40.331715 151.300274 \nL 40.66685 149.625515 \nL 41.001985 149.852618 \nL 41.33712 148.550972 \nL 41.672255 150.407853 \nL 42.00739 149.652402 \nL 42.342525 152.012416 \nL 42.67766 150.887199 \nL 43.012796 150.274226 \nL 43.347931 151.35426 \nL 43.683066 151.412271 \nL 44.018201 148.754424 \nL 44.353336 147.413659 \nL 44.688471 150.327473 \nL 45.358742 149.741581 \nL 45.693877 150.055384 \nL 46.029012 151.296072 \nL 46.364147 151.306618 \nL 46.699282 150.800782 \nL 47.034417 151.575703 \nL 47.369552 150.774342 \nL 47.704687 153.987066 \nL 48.039823 158.556383 \nL 48.374958 157.549896 \nL 48.710093 157.587184 \nL 49.045228 156.202247 \nL 49.380363 155.928778 \nL 49.715498 154.73293 \nL 50.050633 155.483656 \nL 50.385769 154.223027 \nL 50.720904 153.456635 \nL 51.056039 149.116973 \nL 51.391174 150.479587 \nL 51.726309 146.952978 \nL 52.061444 149.745608 \nL 52.396579 146.548496 \nL 52.731715 146.776418 \nL 53.06685 147.316001 \nL 53.401985 146.562531 \nL 53.73712 146.973793 \nL 54.072255 148.063468 \nL 54.40739 148.084214 \nL 55.07766 145.677416 \nL 55.412796 146.434305 \nL 55.747931 145.732089 \nL 56.083066 145.700085 \nL 56.418201 147.023723 \nL 56.753336 146.733204 \nL 57.088471 145.649887 \nL 57.423606 147.186118 \nL 57.758742 147.903139 \nL 58.093877 145.676065 \nL 58.429012 147.75639 \nL 58.764147 148.952356 \nL 59.099282 151.318721 \nL 59.434417 155.504193 \nL 59.769552 155.623423 \nL 60.104688 155.074124 \nL 60.439823 158.154275 \nL 60.774958 155.405649 \nL 61.110093 156.293248 \nL 61.445228 153.312822 \nL 61.780363 154.979914 \nL 62.115498 157.753494 \nL 62.785769 157.937837 \nL 63.120904 156.857531 \nL 63.456039 154.60905 \nL 63.791174 153.958038 \nL 64.126309 153.672022 \nL 64.461444 153.100089 \nL 64.796579 155.292615 \nL 65.131715 155.635673 \nL 65.46685 154.578782 \nL 65.801985 156.379578 \nL 66.13712 160.321567 \nL 66.472255 162.769717 \nL 66.80739 161.300747 \nL 67.142525 161.362482 \nL 67.47766 159.324301 \nL 68.147931 163.200896 \nL 68.483066 162.782183 \nL 69.153336 163.937455 \nL 69.488471 165.954472 \nL 69.823606 165.693598 \nL 70.158742 164.187635 \nL 70.493877 161.776072 \nL 70.829012 161.606277 \nL 71.164147 162.367078 \nL 71.499282 163.971636 \nL 71.834417 163.79989 \nL 72.169552 161.176034 \nL 72.504687 164.734816 \nL 72.839823 164.441306 \nL 73.174958 161.704241 \nL 73.510093 161.769351 \nL 73.845228 163.071147 \nL 74.180363 162.552253 \nL 74.850633 159.912214 \nL 75.520904 157.577848 \nL 75.856039 159.950937 \nL 76.191174 158.719949 \nL 76.526309 161.260066 \nL 76.861444 159.871233 \nL 77.196579 157.422998 \nL 78.201985 159.694822 \nL 78.53712 157.338242 \nL 78.872255 156.757615 \nL 79.20739 155.412046 \nL 79.87766 156.36775 \nL 80.212796 156.803428 \nL 80.547931 156.377857 \nL 80.883066 157.91756 \nL 81.218201 156.880967 \nL 81.553336 156.697011 \nL 81.888471 157.647781 \nL 82.558742 156.823035 \nL 82.893877 158.653159 \nL 83.229012 159.42047 \nL 83.564147 161.867155 \nL 83.899282 163.48319 \nL 84.234417 162.44965 \nL 84.569552 163.645089 \nL 84.904688 163.866211 \nL 85.239823 165.248084 \nL 85.574958 164.790879 \nL 85.910093 162.942313 \nL 86.245228 165.088827 \nL 86.580363 164.777165 \nL 87.250633 162.342213 \nL 87.585769 161.996868 \nL 87.920904 162.241055 \nL 88.256039 162.655595 \nL 88.591174 163.422604 \nL 88.926309 162.942716 \nL 89.261444 166.706289 \nL 89.596579 166.091259 \nL 90.26685 172.666768 \nL 90.601985 172.398068 \nL 90.93712 173.565734 \nL 91.272255 175.521009 \nL 91.60739 175.599785 \nL 91.942525 175.062864 \nL 92.27766 173.891832 \nL 92.612796 172.155126 \nL 92.947931 174.339784 \nL 93.283066 172.407441 \nL 93.618201 172.800098 \nL 93.953336 172.516523 \nL 94.288471 171.066348 \nL 94.623606 171.23104 \nL 94.958742 169.491064 \nL 95.293877 171.772917 \nL 95.629012 172.247388 \nL 95.964147 175.20442 \nL 96.299282 174.503312 \nL 96.634417 176.180354 \nL 96.969552 175.834137 \nL 97.304688 176.112342 \nL 97.639823 179.582768 \nL 98.310093 176.818089 \nL 98.980363 178.684016 \nL 99.315498 178.233851 \nL 99.650633 175.946514 \nL 99.985769 178.158977 \nL 100.320904 178.454496 \nL 100.991174 173.926416 \nL 101.326309 174.875022 \nL 101.661444 173.055066 \nL 101.996579 174.69995 \nL 102.331715 173.814617 \nL 102.66685 174.636431 \nL 103.001985 176.789494 \nL 103.33712 176.875604 \nL 103.672255 177.934322 \nL 104.00739 177.884674 \nL 104.342525 174.393045 \nL 104.67766 173.56218 \nL 105.683066 178.661717 \nL 106.353336 175.470681 \nL 106.688471 174.863948 \nL 107.023606 177.418101 \nL 107.358742 177.553775 \nL 107.693877 176.873834 \nL 108.029012 177.438639 \nL 108.699282 177.098016 \nL 109.034417 176.142502 \nL 109.369552 173.878006 \nL 109.704687 172.828726 \nL 110.039823 173.568347 \nL 110.374958 175.705547 \nL 110.710093 175.828348 \nL 111.045228 174.009009 \nL 111.380363 174.216159 \nL 111.715498 173.065222 \nL 112.050633 170.916753 \nL 112.385769 173.64668 \nL 112.720904 173.60785 \nL 113.056039 171.280894 \nL 113.391174 172.695976 \nL 113.726309 170.494738 \nL 114.061444 169.614282 \nL 114.396579 171.654174 \nL 114.731715 172.19725 \nL 115.06685 174.204681 \nL 115.73712 173.114313 \nL 116.072255 174.221657 \nL 116.742525 170.637763 \nL 117.07766 170.346172 \nL 117.412796 169.669816 \nL 118.083066 168.926587 \nL 118.418201 170.706489 \nL 119.088471 175.057421 \nL 119.423606 176.469857 \nL 119.758742 176.547644 \nL 120.093877 176.400632 \nL 120.429012 175.746621 \nL 121.099282 175.845105 \nL 122.104688 168.844745 \nL 122.439823 168.396776 \nL 123.110093 162.934141 \nL 123.445228 163.780157 \nL 123.780363 163.843753 \nL 124.115498 162.406687 \nL 124.785769 158.116454 \nL 125.120904 158.00456 \nL 125.456039 160.414399 \nL 125.791174 160.310833 \nL 126.461444 162.252225 \nL 126.796579 165.123812 \nL 127.131715 162.787938 \nL 127.46685 164.054339 \nL 127.801985 164.130744 \nL 128.13712 168.432699 \nL 128.472255 166.823524 \nL 128.80739 166.964816 \nL 129.47766 170.181084 \nL 129.812796 170.117311 \nL 130.483066 174.551564 \nL 130.818201 173.351862 \nL 131.153336 172.928246 \nL 131.488471 173.625809 \nL 132.158742 168.983396 \nL 132.493877 168.648421 \nL 133.164147 171.814733 \nL 133.499282 169.386485 \nL 133.834417 163.794924 \nL 134.169552 165.225058 \nL 135.174958 167.353073 \nL 135.510093 163.236558 \nL 135.845228 162.288049 \nL 136.180363 162.850027 \nL 136.515498 159.886652 \nL 136.850633 160.081523 \nL 137.185769 161.880375 \nL 137.856039 163.821762 \nL 138.191174 162.404427 \nL 138.526309 160.145969 \nL 138.861444 159.954259 \nL 139.196579 160.482219 \nL 139.531715 159.90681 \nL 139.86685 160.663719 \nL 140.201985 162.056579 \nL 140.53712 162.318167 \nL 140.872255 164.078419 \nL 141.542525 164.866306 \nL 141.87766 163.955007 \nL 142.212796 161.652488 \nL 142.547931 162.983641 \nL 142.883066 160.999607 \nL 143.218201 160.100061 \nL 143.553336 160.561336 \nL 143.888471 159.289703 \nL 144.223606 159.689195 \nL 144.558742 158.703885 \nL 144.893877 160.504889 \nL 145.229012 161.456089 \nL 145.899282 160.027953 \nL 146.234417 159.304226 \nL 146.569552 157.042929 \nL 146.904688 157.301832 \nL 147.574958 159.269706 \nL 147.910093 159.231067 \nL 148.245228 159.914642 \nL 148.915498 163.022093 \nL 149.250633 161.689827 \nL 149.585769 162.350572 \nL 149.920904 161.745778 \nL 150.256039 161.882671 \nL 150.591174 159.438962 \nL 150.926309 161.693039 \nL 151.261444 160.832538 \nL 151.596579 161.293161 \nL 151.931715 159.981235 \nL 152.26685 159.304352 \nL 152.601985 159.125275 \nL 152.93712 161.118683 \nL 153.272255 160.712506 \nL 153.60739 160.668575 \nL 153.942525 159.505946 \nL 154.27766 161.116847 \nL 154.612796 162.096857 \nL 154.947931 165.967518 \nL 155.618201 163.468212 \nL 155.953336 161.007066 \nL 156.288471 161.110343 \nL 156.623606 161.476998 \nL 156.958742 159.496078 \nL 157.293877 158.603885 \nL 157.629012 156.577425 \nL 157.964147 157.719629 \nL 158.299282 158.284184 \nL 158.634417 157.038961 \nL 159.304688 158.010553 \nL 159.639823 158.759511 \nL 159.974958 158.455423 \nL 160.310093 156.836359 \nL 160.980363 157.907375 \nL 161.315498 159.071163 \nL 161.650633 158.488504 \nL 161.985769 159.27439 \nL 162.320904 162.163315 \nL 162.656039 161.466595 \nL 162.991174 164.304694 \nL 163.326309 165.099098 \nL 163.661444 161.300731 \nL 163.996579 161.901577 \nL 164.331715 162.790443 \nL 164.66685 161.940441 \nL 165.672255 158.096951 \nL 166.00739 158.663353 \nL 166.342525 160.449168 \nL 167.012796 159.315297 \nL 167.347931 157.481165 \nL 167.683066 158.054807 \nL 168.018201 159.527721 \nL 168.353336 158.994811 \nL 168.688471 159.723281 \nL 169.023606 158.403026 \nL 169.358742 162.267749 \nL 170.699282 163.695193 \nL 171.034417 166.639264 \nL 171.369552 166.615145 \nL 171.704687 166.131406 \nL 172.039823 167.069939 \nL 172.374958 163.815535 \nL 172.710093 164.877549 \nL 173.045228 168.297457 \nL 173.380363 168.97936 \nL 173.715498 168.084893 \nL 174.050633 169.343173 \nL 174.720904 168.089731 \nL 175.056039 168.28862 \nL 175.391174 167.085131 \nL 175.726309 164.840907 \nL 176.061444 165.75003 \nL 176.396579 163.750134 \nL 176.731715 162.944518 \nL 177.06685 164.938336 \nL 177.401985 163.480928 \nL 177.73712 164.190118 \nL 178.072255 163.738869 \nL 178.40739 163.09329 \nL 179.412796 167.773023 \nL 179.747931 167.576502 \nL 180.083066 165.026786 \nL 180.418201 165.346267 \nL 180.753336 165.826937 \nL 181.088471 164.264924 \nL 181.423606 164.929298 \nL 181.758742 167.416285 \nL 182.093877 165.192185 \nL 182.429012 166.311494 \nL 183.099282 170.068536 \nL 183.434417 168.797651 \nL 183.769552 169.19959 \nL 184.104688 167.499521 \nL 184.439823 167.204075 \nL 184.774958 167.850656 \nL 185.445228 170.038705 \nL 185.780363 170.2237 \nL 186.115498 174.074267 \nL 186.450633 174.938958 \nL 186.785769 173.3565 \nL 187.120904 174.671592 \nL 187.456039 178.93718 \nL 187.791174 179.27693 \nL 188.126309 175.737148 \nL 188.461444 177.085152 \nL 188.796579 177.400959 \nL 189.131715 177.513243 \nL 189.46685 179.234756 \nL 189.801985 177.503821 \nL 190.13712 176.818303 \nL 190.80739 176.503204 \nL 191.142525 179.039673 \nL 191.47766 177.860194 \nL 191.812796 175.475145 \nL 192.483066 172.592969 \nL 192.818201 172.120237 \nL 193.153336 171.982065 \nL 193.488471 172.500178 \nL 194.493877 176.15397 \nL 194.829012 176.137016 \nL 195.164147 174.597311 \nL 195.499282 176.445452 \nL 195.834417 172.676365 \nL 196.504687 177.740801 \nL 196.839823 179.354616 \nL 197.174958 177.208587 \nL 197.510093 176.567418 \nL 198.180363 180.432013 \nL 198.515498 179.352169 \nL 199.185769 175.785201 \nL 199.520904 176.350844 \nL 199.856039 178.033366 \nL 200.191174 177.855687 \nL 201.196579 175.598274 \nL 201.86685 177.48202 \nL 202.201985 176.022741 \nL 202.53712 176.532259 \nL 202.872255 177.317772 \nL 203.20739 176.487665 \nL 203.542525 176.632888 \nL 203.87766 177.870836 \nL 204.212796 173.52103 \nL 204.547931 172.92493 \nL 204.883066 174.416037 \nL 205.218201 172.542753 \nL 205.553336 174.626209 \nL 206.223606 174.08238 \nL 206.558742 172.101926 \nL 206.893877 171.533592 \nL 207.229012 174.152649 \nL 207.564147 174.637282 \nL 207.899282 174.900089 \nL 208.569552 171.284056 \nL 208.904688 173.504993 \nL 209.239823 173.443802 \nL 209.910093 174.718036 \nL 210.245228 176.216365 \nL 210.915498 177.136551 \nL 211.250633 179.174921 \nL 211.585769 177.236549 \nL 211.920904 178.214094 \nL 212.256039 180.184325 \nL 212.591174 181.227417 \nL 212.926309 180.045738 \nL 213.261444 181.89751 \nL 213.596579 179.044332 \nL 213.931715 178.556386 \nL 214.26685 177.14 \nL 214.601985 176.266475 \nL 214.93712 175.955785 \nL 215.272255 175.943534 \nL 215.60739 177.298296 \nL 216.27766 183.495932 \nL 216.612796 183.583514 \nL 216.947931 182.200932 \nL 217.283066 181.867321 \nL 217.618201 180.75491 \nL 217.953336 181.633601 \nL 218.288471 181.006073 \nL 218.958742 180.682339 \nL 219.293877 183.883231 \nL 219.629012 183.419052 \nL 219.964147 185.532655 \nL 220.299282 186.901087 \nL 220.634417 189.586434 \nL 220.969552 190.327349 \nL 221.304688 189.115538 \nL 221.639823 191.072337 \nL 221.974958 194.215918 \nL 222.310093 196.175828 \nL 222.645228 195.288485 \nL 223.315498 196.337002 \nL 223.650633 194.859712 \nL 223.985769 194.503699 \nL 224.320904 194.553154 \nL 224.656039 195.219932 \nL 224.991174 194.130474 \nL 225.661444 188.980946 \nL 225.996579 188.398973 \nL 226.66685 185.141163 \nL 227.001985 185.363879 \nL 227.33712 186.347973 \nL 227.672255 185.223387 \nL 228.00739 183.045459 \nL 228.342525 182.707215 \nL 228.67766 181.753667 \nL 229.012796 184.429423 \nL 229.347931 183.070428 \nL 229.683066 183.616251 \nL 230.353336 188.191627 \nL 230.688471 184.511263 \nL 231.023606 183.959494 \nL 231.358742 185.237542 \nL 231.693877 185.572657 \nL 232.364147 184.088756 \nL 232.699282 184.622023 \nL 233.034417 186.135052 \nL 233.369552 185.72914 \nL 233.704687 185.818719 \nL 234.039823 186.359776 \nL 234.710093 189.402889 \nL 235.045228 188.545811 \nL 235.380363 189.779597 \nL 235.715498 191.756383 \nL 236.385769 194.24031 \nL 236.720904 194.77938 \nL 237.056039 192.292246 \nL 237.391174 191.955024 \nL 237.726309 192.200678 \nL 238.061444 192.885877 \nL 238.396579 191.933481 \nL 238.731715 192.586095 \nL 239.06685 192.107017 \nL 239.401985 193.229875 \nL 239.73712 193.218021 \nL 240.072255 192.978488 \nL 240.40739 190.553309 \nL 240.742525 190.967816 \nL 241.07766 187.723089 \nL 241.412796 186.289421 \nL 241.747931 182.880152 \nL 242.083066 183.718391 \nL 242.418201 182.809472 \nL 242.753336 183.574602 \nL 243.088471 181.950584 \nL 243.423606 182.292865 \nL 243.758742 184.065378 \nL 244.093877 183.710301 \nL 244.429012 184.387433 \nL 245.099282 181.44769 \nL 245.434417 181.155441 \nL 245.769552 178.01739 \nL 246.104688 181.494978 \nL 246.439823 180.437719 \nL 246.774958 183.672114 \nL 247.110093 181.275812 \nL 247.780363 184.391612 \nL 248.115498 187.920783 \nL 248.450633 186.863097 \nL 248.785769 189.839186 \nL 249.120904 190.026836 \nL 249.456039 189.110756 \nL 249.791174 187.120756 \nL 250.126309 188.725903 \nL 250.796579 190.145689 \nL 251.131715 188.200011 \nL 251.46685 189.447594 \nL 251.801985 187.825486 \nL 252.13712 189.512799 \nL 252.80739 189.393497 \nL 253.142525 189.112854 \nL 253.47766 189.610538 \nL 253.812796 188.206259 \nL 254.147931 187.71519 \nL 254.483066 188.675654 \nL 254.818201 189.189538 \nL 255.153336 190.903652 \nL 255.823606 189.181931 \nL 256.493877 192.30229 \nL 256.829012 191.542298 \nL 257.164147 193.675353 \nL 257.499282 194.751787 \nL 257.834417 196.296217 \nL 258.504687 191.541561 \nL 258.839823 190.198946 \nL 259.174958 191.910792 \nL 259.510093 192.798636 \nL 259.845228 194.899795 \nL 260.180363 194.260036 \nL 260.515498 193.363074 \nL 260.850633 193.512913 \nL 261.185769 192.955815 \nL 261.520904 189.20791 \nL 262.191174 193.458877 \nL 262.861444 194.917524 \nL 264.201985 188.116729 \nL 264.53712 189.9032 \nL 264.872255 189.383263 \nL 265.20739 191.919142 \nL 265.542525 190.682627 \nL 266.212796 189.76985 \nL 266.547931 191.438198 \nL 266.883066 190.983036 \nL 267.218201 191.783476 \nL 267.553336 191.276608 \nL 267.888471 193.092832 \nL 268.223606 193.158092 \nL 268.558742 193.523312 \nL 268.893877 188.273198 \nL 269.229012 190.233562 \nL 269.564147 190.023195 \nL 270.234417 185.442098 \nL 270.569552 188.478432 \nL 270.904688 187.067694 \nL 271.239823 189.264352 \nL 271.574958 190.723237 \nL 271.910093 191.442786 \nL 272.245228 190.978448 \nL 272.580363 190.113915 \nL 272.915498 192.133886 \nL 273.250633 191.555713 \nL 273.585769 192.504972 \nL 273.920904 189.655782 \nL 274.256039 191.663179 \nL 274.591174 192.514715 \nL 274.926309 193.915469 \nL 275.596579 193.829533 \nL 275.931715 194.064282 \nL 276.26685 194.49063 \nL 276.601985 192.470048 \nL 276.93712 189.545287 \nL 277.272255 190.519318 \nL 277.60739 190.006058 \nL 277.942525 188.057868 \nL 278.27766 187.249449 \nL 278.612796 187.0738 \nL 279.283066 185.288323 \nL 279.618201 182.890061 \nL 280.288471 185.865171 \nL 280.623606 184.459076 \nL 280.958742 181.61545 \nL 281.293877 183.270583 \nL 282.299282 183.965154 \nL 282.969552 181.04431 \nL 283.304688 183.272197 \nL 283.639823 183.655604 \nL 284.310093 180.469694 \nL 284.645228 182.920918 \nL 284.980363 181.444187 \nL 285.315498 185.713997 \nL 285.650633 185.115921 \nL 286.320904 185.949784 \nL 286.656039 185.790984 \nL 286.991174 183.852667 \nL 287.326309 182.779655 \nL 287.661444 183.350599 \nL 288.331715 180.907691 \nL 288.66685 181.396291 \nL 289.001985 184.466578 \nL 289.33712 183.503382 \nL 289.672255 181.808317 \nL 290.00739 182.218611 \nL 290.342525 184.630111 \nL 290.67766 185.577435 \nL 291.012796 182.078963 \nL 291.347931 183.306596 \nL 291.683066 182.890311 \nL 292.018201 184.525213 \nL 292.353336 184.281003 \nL 292.688471 184.611397 \nL 293.023606 187.431646 \nL 293.358742 186.116868 \nL 293.693877 187.098775 \nL 294.029012 188.635592 \nL 294.364147 188.207308 \nL 294.699282 186.965361 \nL 295.034417 187.339285 \nL 295.369552 187.184539 \nL 295.704687 187.497836 \nL 296.039823 187.14477 \nL 296.374958 187.906837 \nL 296.710093 187.711783 \nL 297.045228 186.240708 \nL 297.380363 187.443615 \nL 297.715498 186.663108 \nL 298.050633 185.474729 \nL 298.385769 184.945952 \nL 299.056039 183.240149 \nL 299.726309 184.809839 \nL 300.061444 183.556878 \nL 300.396579 181.710193 \nL 301.06685 183.09426 \nL 301.401985 185.403954 \nL 302.072255 186.804552 \nL 302.40739 189.735702 \nL 302.742525 188.568086 \nL 303.07766 186.164785 \nL 303.412796 185.62241 \nL 304.418201 190.489054 \nL 304.753336 190.95734 \nL 305.088471 195.109053 \nL 305.423606 196.855755 \nL 305.758742 194.971385 \nL 306.093877 195.619707 \nL 306.429012 197.058298 \nL 306.764147 196.299786 \nL 307.099282 196.261477 \nL 307.434417 197.659755 \nL 307.769552 200.358631 \nL 308.104688 197.373945 \nL 308.439823 196.036428 \nL 308.774958 193.978212 \nL 309.110093 193.590763 \nL 309.780363 194.811722 \nL 310.450633 192.723092 \nL 311.120904 189.194607 \nL 311.791174 191.830634 \nL 312.126309 191.696548 \nL 312.461444 191.76848 \nL 312.796579 192.404532 \nL 313.131715 191.602827 \nL 313.801985 189.00858 \nL 314.80739 178.434386 \nL 315.142525 178.291456 \nL 315.47766 177.277794 \nL 315.812796 178.189477 \nL 316.147931 177.608703 \nL 316.483066 177.682248 \nL 316.818201 176.818546 \nL 317.153336 173.45426 \nL 317.488471 173.722368 \nL 317.823606 176.693995 \nL 318.158742 176.100752 \nL 318.493877 176.438028 \nL 318.829012 177.793626 \nL 319.164147 178.091487 \nL 319.499282 179.640266 \nL 320.169552 176.299159 \nL 320.504687 177.734954 \nL 320.839823 177.809096 \nL 321.174958 178.516509 \nL 321.510093 177.409203 \nL 321.845228 177.298574 \nL 322.180363 176.097664 \nL 322.515498 177.41226 \nL 322.850633 173.949591 \nL 323.185769 174.925449 \nL 323.520904 175.384056 \nL 324.191174 177.336634 \nL 324.526309 176.917826 \nL 324.861444 174.289251 \nL 325.196579 177.813864 \nL 325.531715 176.04106 \nL 325.86685 175.206875 \nL 326.53712 171.56886 \nL 326.872255 168.790722 \nL 327.20739 167.779309 \nL 327.542525 167.860999 \nL 327.87766 169.405531 \nL 328.212796 167.93756 \nL 328.547931 171.105939 \nL 328.883066 171.148534 \nL 329.218201 167.095254 \nL 329.553336 165.353196 \nL 329.888471 164.861443 \nL 330.223606 165.367239 \nL 330.558742 165.238797 \nL 330.893877 166.271919 \nL 331.229012 164.783679 \nL 331.564147 166.614354 \nL 331.899282 167.271633 \nL 332.569552 166.954922 \nL 332.904688 168.065467 \nL 333.239823 170.05935 \nL 333.574958 170.510585 \nL 334.245228 166.109809 \nL 334.580363 166.386904 \nL 334.915498 165.186111 \nL 335.585769 158.575715 \nL 335.920904 158.403324 \nL 336.256039 158.050436 \nL 336.926309 162.114129 \nL 337.261444 161.172266 \nL 337.596579 163.831934 \nL 337.931715 162.650753 \nL 338.26685 165.435018 \nL 338.601985 164.418378 \nL 338.93712 161.513786 \nL 339.60739 163.783075 \nL 339.942525 166.750578 \nL 340.27766 167.796139 \nL 340.612796 167.534738 \nL 341.283066 170.151158 \nL 341.618201 172.469817 \nL 341.953336 171.901741 \nL 342.288471 169.899816 \nL 342.623606 168.614552 \nL 342.958742 168.818987 \nL 343.293877 166.339575 \nL 343.629012 169.071615 \nL 343.964147 169.85635 \nL 344.299282 172.587351 \nL 344.634417 174.095189 \nL 344.969552 171.555766 \nL 345.304688 170.642828 \nL 345.639823 168.553257 \nL 345.974958 170.572462 \nL 346.310093 169.982099 \nL 346.645228 170.818179 \nL 346.980363 172.246928 \nL 347.315498 172.532323 \nL 347.985769 171.467883 \nL 348.320904 171.257397 \nL 348.656039 171.612286 \nL 348.991174 170.406892 \nL 349.326309 170.047682 \nL 349.661444 171.330024 \nL 349.996579 169.446924 \nL 350.331715 170.901463 \nL 350.66685 170.828923 \nL 351.33712 172.131199 \nL 351.672255 171.806378 \nL 352.00739 172.173255 \nL 352.342525 171.785549 \nL 352.67766 172.931562 \nL 353.012796 172.785412 \nL 353.347931 173.457683 \nL 353.683066 173.540792 \nL 354.018201 172.133653 \nL 354.688471 176.151659 \nL 355.023606 177.614128 \nL 355.358742 177.70912 \nL 355.693877 177.23555 \nL 356.029012 178.12501 \nL 356.364147 178.128495 \nL 356.699282 179.239811 \nL 357.034417 178.878296 \nL 357.369552 181.571042 \nL 358.710093 188.636082 \nL 359.045228 188.815242 \nL 359.715498 185.42125 \nL 360.050633 186.378736 \nL 360.720904 181.887109 \nL 361.056039 181.138808 \nL 361.391174 180.920389 \nL 361.726309 181.455845 \nL 362.061444 181.315319 \nL 362.396579 180.074413 \nL 363.06685 182.403508 \nL 363.401985 180.361095 \nL 363.73712 182.321675 \nL 364.072255 182.72243 \nL 364.40739 184.038458 \nL 364.742525 182.203679 \nL 365.07766 181.782915 \nL 365.412796 180.636089 \nL 366.418201 184.254398 \nL 366.753336 181.769056 \nL 367.088471 182.060471 \nL 367.423606 182.920849 \nL 367.758742 182.894639 \nL 368.093877 183.958642 \nL 368.429012 184.460745 \nL 368.764147 183.21719 \nL 369.099282 184.652546 \nL 369.434417 185.2864 \nL 369.769552 185.442905 \nL 370.104688 186.727394 \nL 370.104688 186.727394 \n\" clip-path=\"url(#p0a8468c33b)\" style=\"fill: none; stroke: #2ca02c; stroke-width: 1.5; stroke-linecap: square\"/>\n   </g>\n   <g id=\"line2d_45\">\n    <path d=\"M 35.304688 149.507879 \nL 35.639823 150.583382 \nL 35.974958 152.559522 \nL 36.310093 149.696504 \nL 36.645228 149.45482 \nL 36.980363 150.038959 \nL 37.315498 151.545721 \nL 37.650633 149.077811 \nL 37.985769 148.72493 \nL 38.656039 150.955448 \nL 38.991174 147.51398 \nL 39.326309 148.695392 \nL 39.661444 148.745502 \nL 40.331715 152.293313 \nL 41.001985 149.240058 \nL 41.33712 146.972455 \nL 41.672255 148.071984 \nL 42.00739 147.979757 \nL 42.342525 147.331889 \nL 42.67766 150.696751 \nL 43.012796 151.215288 \nL 43.347931 153.814992 \nL 43.683066 153.585698 \nL 44.353336 151.101129 \nL 44.688471 151.284492 \nL 45.023606 152.809312 \nL 45.358742 152.070337 \nL 45.693877 155.058147 \nL 46.029012 155.320431 \nL 46.364147 154.126565 \nL 46.699282 158.375124 \nL 47.034417 156.94672 \nL 47.369552 157.401631 \nL 47.704687 154.620176 \nL 48.039823 154.006593 \nL 48.374958 155.592524 \nL 48.710093 155.548493 \nL 49.045228 155.897989 \nL 49.380363 154.792178 \nL 49.715498 155.656174 \nL 50.050633 155.744998 \nL 50.385769 158.549173 \nL 50.720904 159.78141 \nL 51.056039 159.977731 \nL 51.391174 159.240896 \nL 51.726309 160.410891 \nL 52.061444 159.93898 \nL 52.396579 158.775472 \nL 52.731715 158.484737 \nL 53.06685 155.533928 \nL 53.401985 156.953063 \nL 53.73712 154.761671 \nL 54.072255 156.434232 \nL 54.40739 154.836724 \nL 54.742525 154.741932 \nL 55.07766 154.00598 \nL 55.412796 154.59667 \nL 56.083066 154.543283 \nL 56.418201 153.940649 \nL 56.753336 155.250697 \nL 57.088471 153.688006 \nL 57.423606 154.688022 \nL 57.758742 155.318205 \nL 58.093877 156.420341 \nL 58.429012 152.71495 \nL 58.764147 152.811397 \nL 59.099282 150.821826 \nL 59.434417 152.029266 \nL 59.769552 152.734769 \nL 60.104688 150.456308 \nL 60.439823 153.463912 \nL 60.774958 151.145244 \nL 61.110093 150.192445 \nL 61.445228 150.028975 \nL 62.115498 151.536584 \nL 62.450633 150.913324 \nL 62.785769 152.28115 \nL 63.120904 153.116114 \nL 63.456039 152.524143 \nL 63.791174 149.965763 \nL 64.126309 150.811184 \nL 64.461444 152.486184 \nL 64.796579 150.868332 \nL 65.131715 150.84774 \nL 65.46685 149.593016 \nL 65.801985 146.667131 \nL 66.13712 147.242217 \nL 66.472255 143.484055 \nL 66.80739 142.931261 \nL 67.142525 141.926402 \nL 67.47766 142.881539 \nL 67.812796 143.328235 \nL 68.147931 142.27871 \nL 68.483066 142.947798 \nL 68.818201 142.159445 \nL 69.153336 143.698429 \nL 69.488471 146.808809 \nL 69.823606 145.309494 \nL 70.158742 143.199216 \nL 70.493877 146.577399 \nL 70.829012 147.261078 \nL 71.164147 148.481038 \nL 71.499282 146.815617 \nL 71.834417 146.079158 \nL 72.504687 148.43973 \nL 72.839823 146.957064 \nL 73.174958 149.063223 \nL 73.510093 149.536994 \nL 73.845228 149.191 \nL 74.180363 150.1458 \nL 74.515498 150.685257 \nL 74.850633 151.545446 \nL 75.185769 149.897753 \nL 75.520904 150.167858 \nL 75.856039 147.278995 \nL 76.191174 147.119515 \nL 76.526309 147.189017 \nL 76.861444 146.390059 \nL 77.531715 140.164147 \nL 77.86685 139.40073 \nL 78.201985 140.968313 \nL 78.53712 140.384143 \nL 78.872255 138.333533 \nL 79.20739 140.350751 \nL 79.542525 144.142526 \nL 79.87766 142.991357 \nL 80.212796 144.327191 \nL 80.547931 141.724195 \nL 80.883066 143.48065 \nL 81.218201 144.231492 \nL 81.553336 143.314493 \nL 81.888471 140.633667 \nL 82.223606 140.510446 \nL 82.558742 144.56467 \nL 82.893877 145.008558 \nL 83.229012 143.218472 \nL 83.564147 143.721983 \nL 84.234417 149.510319 \nL 84.569552 148.453057 \nL 84.904688 149.06118 \nL 85.239823 148.647886 \nL 85.574958 148.539948 \nL 85.910093 149.307405 \nL 86.245228 149.241303 \nL 86.580363 146.254842 \nL 86.915498 146.19366 \nL 87.250633 146.940991 \nL 87.585769 146.774601 \nL 87.920904 148.300246 \nL 88.256039 151.403187 \nL 88.591174 151.508 \nL 88.926309 148.091525 \nL 89.261444 148.051936 \nL 89.596579 147.731069 \nL 89.931715 147.680396 \nL 90.26685 146.503132 \nL 90.601985 147.041488 \nL 90.93712 145.539139 \nL 91.272255 146.058542 \nL 91.60739 146.125829 \nL 91.942525 148.863519 \nL 92.27766 148.92611 \nL 92.947931 146.460832 \nL 93.283066 145.997455 \nL 93.953336 148.503427 \nL 94.288471 147.622615 \nL 94.958742 156.169173 \nL 95.293877 154.883601 \nL 95.629012 156.186412 \nL 95.964147 153.836226 \nL 96.299282 152.754793 \nL 96.634417 152.148536 \nL 96.969552 151.820907 \nL 97.304688 153.228401 \nL 97.974958 150.369083 \nL 98.310093 152.614792 \nL 98.980363 150.859623 \nL 99.315498 151.917825 \nL 99.650633 152.39631 \nL 99.985769 151.634769 \nL 100.320904 152.080885 \nL 100.656039 150.202998 \nL 100.991174 150.250848 \nL 101.326309 149.251993 \nL 101.661444 149.38393 \nL 101.996579 150.911643 \nL 102.331715 150.687908 \nL 102.66685 151.605597 \nL 103.001985 151.296007 \nL 103.33712 152.47438 \nL 103.672255 151.995149 \nL 104.00739 150.069718 \nL 104.67766 148.881571 \nL 105.012796 148.699313 \nL 105.347931 149.719152 \nL 105.683066 148.54547 \nL 106.018201 146.493947 \nL 106.353336 143.541329 \nL 106.688471 143.022746 \nL 107.023606 144.063722 \nL 107.358742 144.624513 \nL 107.693877 144.67857 \nL 108.029012 144.434056 \nL 108.364147 143.865233 \nL 108.699282 143.713493 \nL 109.034417 140.669133 \nL 109.369552 140.267705 \nL 109.704687 139.250524 \nL 110.039823 141.068578 \nL 110.710093 138.568345 \nL 111.045228 139.858944 \nL 111.380363 139.33345 \nL 111.715498 138.090981 \nL 112.385769 142.947904 \nL 112.720904 142.699017 \nL 113.056039 141.330919 \nL 113.391174 137.381947 \nL 113.726309 138.964694 \nL 114.061444 139.547352 \nL 114.396579 139.08664 \nL 114.731715 140.404037 \nL 115.06685 142.415379 \nL 115.401985 139.404235 \nL 116.40739 134.146573 \nL 117.07766 134.543915 \nL 117.412796 134.405607 \nL 117.747931 135.927343 \nL 118.418201 134.268639 \nL 118.753336 131.748754 \nL 119.088471 132.507759 \nL 119.423606 136.756919 \nL 119.758742 138.374619 \nL 120.093877 138.008755 \nL 120.429012 139.638346 \nL 120.764147 140.149472 \nL 121.099282 139.556081 \nL 121.434417 139.316983 \nL 121.769552 137.803147 \nL 122.104688 138.136242 \nL 122.439823 134.723777 \nL 122.774958 132.600906 \nL 123.110093 131.218308 \nL 123.445228 131.166504 \nL 123.780363 131.667471 \nL 124.115498 127.961042 \nL 124.450633 127.362913 \nL 124.785769 128.185699 \nL 125.120904 128.208499 \nL 125.791174 128.681275 \nL 126.126309 126.170966 \nL 126.461444 126.589363 \nL 126.796579 123.809539 \nL 127.131715 123.992997 \nL 127.801985 121.25332 \nL 128.13712 122.534923 \nL 128.472255 125.44792 \nL 128.80739 125.264928 \nL 129.142525 123.750949 \nL 129.47766 124.267855 \nL 129.812796 125.533852 \nL 130.147931 126.01833 \nL 130.483066 124.947628 \nL 130.818201 127.198717 \nL 131.153336 125.564736 \nL 131.488471 125.392276 \nL 132.158742 124.04011 \nL 132.829012 129.316597 \nL 133.164147 129.197952 \nL 133.499282 130.789714 \nL 133.834417 130.540152 \nL 134.169552 130.848736 \nL 134.839823 127.508242 \nL 135.174958 127.624536 \nL 135.845228 125.898658 \nL 136.180363 127.627194 \nL 136.515498 126.314228 \nL 136.850633 125.912632 \nL 137.185769 124.946448 \nL 137.520904 126.303783 \nL 137.856039 126.70098 \nL 138.191174 127.904192 \nL 138.526309 125.707976 \nL 138.861444 126.887469 \nL 139.196579 126.970633 \nL 140.201985 122.226029 \nL 140.872255 124.51725 \nL 141.20739 123.33703 \nL 141.542525 124.336159 \nL 141.87766 126.233267 \nL 142.212796 127.105154 \nL 142.547931 128.367634 \nL 143.218201 126.723053 \nL 143.553336 128.504525 \nL 143.888471 128.573605 \nL 144.223606 128.311451 \nL 144.558742 127.247568 \nL 144.893877 127.700431 \nL 145.229012 127.056356 \nL 145.564147 125.104292 \nL 145.899282 128.082608 \nL 146.234417 127.701571 \nL 146.904688 124.889534 \nL 147.239823 123.727178 \nL 147.574958 121.706335 \nL 147.910093 122.780319 \nL 148.245228 124.62515 \nL 148.580363 121.989801 \nL 148.915498 122.612558 \nL 149.250633 122.398704 \nL 149.585769 122.932008 \nL 149.920904 122.786377 \nL 150.256039 122.278033 \nL 150.591174 122.255819 \nL 151.261444 119.395997 \nL 151.596579 119.576108 \nL 151.931715 118.759424 \nL 152.26685 118.812039 \nL 152.601985 119.66405 \nL 152.93712 122.55525 \nL 153.60739 116.907504 \nL 153.942525 116.963561 \nL 154.27766 118.362799 \nL 154.612796 116.442974 \nL 154.947931 113.358652 \nL 155.283066 114.531059 \nL 155.618201 115.22927 \nL 155.953336 117.431736 \nL 156.288471 117.289928 \nL 156.958742 121.798631 \nL 157.293877 119.244209 \nL 157.629012 119.663558 \nL 157.964147 120.606127 \nL 158.969552 125.333918 \nL 159.304688 125.254616 \nL 159.639823 126.468926 \nL 159.974958 124.80738 \nL 160.645228 125.534874 \nL 160.980363 124.854419 \nL 161.315498 125.316785 \nL 161.650633 127.262628 \nL 161.985769 126.672352 \nL 162.320904 127.537549 \nL 162.656039 127.719492 \nL 162.991174 128.621897 \nL 163.326309 125.757828 \nL 163.661444 128.15211 \nL 164.331715 127.39533 \nL 164.66685 126.627715 \nL 165.001985 126.202051 \nL 165.672255 128.393621 \nL 166.00739 126.951377 \nL 166.342525 124.691485 \nL 166.67766 124.161529 \nL 167.012796 127.246541 \nL 167.347931 128.512611 \nL 168.018201 129.124062 \nL 168.353336 131.394792 \nL 168.688471 130.404527 \nL 169.023606 130.900735 \nL 169.358742 132.664216 \nL 169.693877 131.890337 \nL 170.029012 133.275421 \nL 170.364147 136.080174 \nL 171.034417 132.391467 \nL 171.369552 128.949372 \nL 171.704687 127.83439 \nL 172.374958 127.437887 \nL 172.710093 129.31752 \nL 173.380363 124.685353 \nL 173.715498 124.296095 \nL 174.050633 122.335626 \nL 174.385769 121.766092 \nL 174.720904 119.622712 \nL 175.391174 118.125936 \nL 175.726309 118.717806 \nL 176.061444 120.445413 \nL 176.396579 121.04883 \nL 177.06685 116.431093 \nL 177.73712 118.112772 \nL 178.072255 115.578138 \nL 178.40739 118.513616 \nL 178.742525 118.35076 \nL 179.07766 117.148193 \nL 179.747931 116.651814 \nL 180.083066 120.313358 \nL 180.418201 118.199792 \nL 181.088471 116.118689 \nL 181.423606 116.354333 \nL 181.758742 115.075758 \nL 182.093877 117.099416 \nL 182.429012 118.372123 \nL 182.764147 115.90328 \nL 183.099282 117.572983 \nL 183.434417 119.940349 \nL 183.769552 119.613426 \nL 184.104688 120.744079 \nL 184.439823 120.656123 \nL 184.774958 121.106392 \nL 185.110093 122.4818 \nL 185.445228 119.57238 \nL 185.780363 118.056284 \nL 186.115498 118.509564 \nL 186.450633 121.454494 \nL 187.120904 119.467375 \nL 187.456039 119.358244 \nL 187.791174 118.678429 \nL 188.126309 118.666133 \nL 188.461444 117.717533 \nL 188.796579 119.245467 \nL 189.131715 120.21576 \nL 189.46685 120.123867 \nL 189.801985 119.292534 \nL 190.13712 120.944354 \nL 190.472255 119.531235 \nL 190.80739 120.580991 \nL 191.142525 120.611714 \nL 191.47766 121.448658 \nL 192.147931 128.423772 \nL 192.483066 126.018323 \nL 192.818201 128.231486 \nL 193.153336 127.551109 \nL 193.488471 124.603086 \nL 193.823606 126.91964 \nL 194.158742 126.214685 \nL 194.493877 123.858039 \nL 194.829012 123.073415 \nL 195.164147 120.549704 \nL 195.499282 119.247062 \nL 195.834417 117.427054 \nL 196.169552 116.615287 \nL 196.504687 118.363994 \nL 196.839823 119.024117 \nL 197.174958 120.191901 \nL 197.510093 119.752851 \nL 197.845228 121.06406 \nL 198.180363 122.862217 \nL 198.515498 121.626465 \nL 198.850633 122.036121 \nL 199.185769 119.019953 \nL 199.520904 119.491095 \nL 199.856039 116.578273 \nL 200.191174 116.857512 \nL 200.526309 117.919103 \nL 200.861444 115.241081 \nL 201.196579 116.602234 \nL 201.531715 116.067494 \nL 202.201985 120.062331 \nL 202.872255 117.283014 \nL 203.20739 117.006351 \nL 203.542525 115.461184 \nL 203.87766 114.952405 \nL 204.212796 114.856365 \nL 204.547931 114.394065 \nL 204.883066 112.950119 \nL 205.218201 114.312269 \nL 205.553336 114.867395 \nL 205.888471 115.903933 \nL 206.223606 118.405733 \nL 206.558742 117.945547 \nL 207.229012 115.560195 \nL 207.564147 116.526183 \nL 207.899282 115.967527 \nL 208.234417 115.100215 \nL 208.569552 115.202794 \nL 208.904688 113.186929 \nL 209.239823 115.055724 \nL 209.574958 116.083634 \nL 209.910093 114.940107 \nL 210.245228 111.240116 \nL 210.580363 112.113875 \nL 210.915498 112.005696 \nL 211.250633 109.285718 \nL 211.920904 106.537659 \nL 212.256039 104.358572 \nL 212.591174 103.318357 \nL 212.926309 105.066361 \nL 213.261444 105.750907 \nL 213.596579 105.863697 \nL 213.931715 103.9537 \nL 214.26685 103.889096 \nL 214.601985 105.98786 \nL 214.93712 105.510662 \nL 215.60739 98.87307 \nL 215.942525 97.351306 \nL 216.27766 97.940729 \nL 216.612796 98.281462 \nL 216.947931 99.168155 \nL 217.283066 101.960564 \nL 217.618201 101.934772 \nL 217.953336 102.387563 \nL 218.288471 104.453385 \nL 218.623606 102.489928 \nL 218.958742 104.161973 \nL 219.964147 100.020236 \nL 220.299282 100.382814 \nL 220.634417 99.687486 \nL 220.969552 97.166458 \nL 221.304688 98.210135 \nL 221.639823 98.600238 \nL 221.974958 94.492107 \nL 222.310093 93.762473 \nL 222.645228 93.953109 \nL 222.980363 92.688498 \nL 223.315498 92.992074 \nL 223.650633 94.166038 \nL 223.985769 92.33667 \nL 224.320904 94.939253 \nL 224.656039 93.270401 \nL 224.991174 93.279242 \nL 225.326309 92.442237 \nL 225.661444 92.941424 \nL 225.996579 94.927214 \nL 226.331715 97.862122 \nL 226.66685 96.778695 \nL 227.001985 97.26238 \nL 227.33712 97.53058 \nL 227.672255 98.004344 \nL 228.00739 98.735851 \nL 229.012796 96.824781 \nL 229.347931 94.805079 \nL 229.683066 94.217924 \nL 230.353336 95.108746 \nL 231.023606 95.387687 \nL 231.358742 93.69981 \nL 231.693877 92.992303 \nL 232.029012 93.871074 \nL 232.364147 91.519887 \nL 232.699282 90.935952 \nL 233.034417 91.691296 \nL 233.369552 92.108034 \nL 233.704687 91.794709 \nL 234.039823 91.065742 \nL 234.374958 88.040012 \nL 235.045228 87.253379 \nL 235.380363 90.084369 \nL 235.715498 87.065345 \nL 236.050633 87.19066 \nL 236.385769 87.464872 \nL 236.720904 84.48673 \nL 237.056039 84.478341 \nL 237.391174 83.443165 \nL 237.726309 81.722533 \nL 238.061444 81.863024 \nL 238.396579 85.717807 \nL 238.731715 86.714613 \nL 239.06685 88.115172 \nL 239.401985 86.961254 \nL 239.73712 88.456129 \nL 240.072255 89.310737 \nL 240.40739 89.797116 \nL 240.742525 89.213198 \nL 241.07766 89.599336 \nL 241.412796 89.163401 \nL 241.747931 87.722997 \nL 242.083066 89.440638 \nL 242.418201 90.438409 \nL 242.753336 90.890076 \nL 243.088471 91.944287 \nL 243.423606 89.371455 \nL 243.758742 88.250554 \nL 244.093877 89.415409 \nL 244.429012 92.196887 \nL 244.764147 92.144791 \nL 245.099282 91.312139 \nL 245.434417 91.093859 \nL 245.769552 88.052107 \nL 246.104688 87.513015 \nL 246.774958 85.791255 \nL 247.110093 86.515326 \nL 247.445228 89.819432 \nL 248.115498 86.78715 \nL 248.450633 89.217322 \nL 248.785769 87.169675 \nL 249.120904 89.984739 \nL 249.456039 88.88145 \nL 249.791174 90.407377 \nL 250.126309 90.01528 \nL 250.461444 89.18134 \nL 250.796579 89.062111 \nL 251.131715 87.58396 \nL 251.46685 90.472311 \nL 251.801985 92.111316 \nL 252.472255 97.361907 \nL 252.80739 97.104493 \nL 253.142525 98.54165 \nL 253.47766 98.255735 \nL 253.812796 98.863161 \nL 254.147931 98.392808 \nL 254.818201 98.403842 \nL 255.153336 99.314813 \nL 255.488471 98.887048 \nL 255.823606 97.615978 \nL 256.158742 95.816928 \nL 256.493877 97.103426 \nL 256.829012 97.303988 \nL 257.164147 98.03352 \nL 257.499282 99.447202 \nL 257.834417 97.060822 \nL 258.169552 96.694166 \nL 258.504687 96.497189 \nL 258.839823 100.083637 \nL 259.510093 103.821491 \nL 259.845228 107.760708 \nL 260.180363 107.460714 \nL 260.515498 107.498206 \nL 260.850633 106.71155 \nL 261.185769 106.460326 \nL 261.520904 107.564953 \nL 261.856039 107.642103 \nL 262.191174 109.784757 \nL 262.526309 109.652392 \nL 262.861444 109.281816 \nL 263.196579 110.672728 \nL 263.531715 110.959326 \nL 263.86685 111.797281 \nL 264.53712 114.587844 \nL 264.872255 113.936257 \nL 265.20739 112.647355 \nL 265.542525 113.681151 \nL 265.87766 109.909652 \nL 266.212796 110.325048 \nL 266.547931 112.210348 \nL 266.883066 112.076739 \nL 267.218201 114.431997 \nL 267.553336 115.505069 \nL 267.888471 115.972922 \nL 268.223606 112.077251 \nL 268.558742 112.643854 \nL 268.893877 111.940027 \nL 269.229012 110.629495 \nL 269.564147 111.469495 \nL 270.569552 111.140965 \nL 270.904688 110.79228 \nL 271.910093 111.294316 \nL 272.245228 110.975172 \nL 272.580363 111.928227 \nL 272.915498 114.266689 \nL 273.250633 111.839444 \nL 273.585769 115.025923 \nL 273.920904 114.531787 \nL 274.256039 114.291201 \nL 274.926309 117.743474 \nL 275.596579 119.435 \nL 275.931715 120.880153 \nL 276.26685 123.661468 \nL 276.93712 121.032962 \nL 277.272255 120.512604 \nL 277.60739 119.619026 \nL 277.942525 119.271246 \nL 278.27766 119.917861 \nL 278.612796 118.436014 \nL 278.947931 120.121847 \nL 279.283066 120.1697 \nL 279.618201 119.883967 \nL 279.953336 121.275882 \nL 280.288471 120.861726 \nL 280.623606 120.894035 \nL 280.958742 119.017819 \nL 281.293877 118.649927 \nL 281.964147 121.984167 \nL 282.299282 119.833801 \nL 282.634417 121.48748 \nL 282.969552 121.344905 \nL 283.304688 121.570094 \nL 283.639823 122.026936 \nL 284.310093 128.459434 \nL 284.645228 126.715576 \nL 284.980363 127.68985 \nL 285.315498 129.571165 \nL 285.650633 130.191251 \nL 285.985769 129.279471 \nL 286.320904 131.824413 \nL 286.656039 132.727021 \nL 286.991174 131.548241 \nL 287.326309 131.606777 \nL 287.661444 131.94055 \nL 287.996579 128.345186 \nL 288.66685 128.111381 \nL 289.001985 127.123421 \nL 289.672255 129.484013 \nL 290.00739 132.664272 \nL 290.342525 131.601815 \nL 290.67766 133.383537 \nL 291.012796 131.971111 \nL 291.347931 131.11684 \nL 291.683066 133.160892 \nL 292.018201 132.77987 \nL 292.353336 133.204305 \nL 292.688471 131.898118 \nL 293.023606 132.803841 \nL 293.358742 132.177813 \nL 293.693877 130.695433 \nL 294.029012 133.305604 \nL 294.699282 133.767083 \nL 295.034417 132.850178 \nL 295.704687 128.186237 \nL 296.374958 132.467089 \nL 297.045228 130.671561 \nL 297.380363 128.315664 \nL 297.715498 128.64865 \nL 298.050633 130.113047 \nL 298.385769 132.182319 \nL 298.720904 129.661963 \nL 299.056039 133.239822 \nL 299.391174 131.430154 \nL 299.726309 131.528779 \nL 300.396579 130.231381 \nL 300.731715 129.89038 \nL 301.06685 129.02078 \nL 301.401985 129.698175 \nL 301.73712 129.011373 \nL 302.072255 129.737023 \nL 302.40739 127.783434 \nL 302.742525 126.563932 \nL 303.07766 126.901889 \nL 303.412796 127.417832 \nL 303.747931 127.560384 \nL 304.083066 127.322665 \nL 304.753336 130.297928 \nL 305.088471 130.644923 \nL 305.423606 129.809543 \nL 305.758742 129.529869 \nL 306.093877 128.602885 \nL 306.764147 122.606434 \nL 307.099282 122.034974 \nL 307.434417 119.235553 \nL 307.769552 118.958216 \nL 308.104688 117.938072 \nL 308.439823 116.077597 \nL 308.774958 115.662234 \nL 309.110093 117.263644 \nL 309.445228 115.642408 \nL 309.780363 115.743583 \nL 310.115498 115.280895 \nL 310.450633 117.725076 \nL 310.785769 116.745593 \nL 311.120904 117.081829 \nL 311.456039 115.314472 \nL 312.126309 117.906274 \nL 312.796579 117.164035 \nL 313.131715 116.673117 \nL 313.46685 116.524499 \nL 313.801985 117.222474 \nL 314.13712 116.721087 \nL 314.472255 117.411508 \nL 314.80739 118.372458 \nL 315.142525 119.696736 \nL 315.47766 119.538148 \nL 315.812796 118.028779 \nL 316.147931 118.273433 \nL 316.483066 117.472842 \nL 317.153336 118.218403 \nL 317.488471 113.269111 \nL 317.823606 111.831302 \nL 318.158742 112.040623 \nL 318.493877 109.714756 \nL 318.829012 109.113635 \nL 319.164147 107.926489 \nL 319.499282 106.12619 \nL 319.834417 105.835087 \nL 320.169552 106.926742 \nL 320.504687 109.014867 \nL 320.839823 108.252976 \nL 321.174958 108.749486 \nL 321.845228 110.628131 \nL 322.180363 109.726484 \nL 322.515498 110.679917 \nL 322.850633 112.475927 \nL 323.185769 111.458222 \nL 323.520904 111.794838 \nL 323.856039 113.872937 \nL 324.191174 111.71658 \nL 324.526309 110.803757 \nL 324.861444 111.496828 \nL 325.196579 109.850873 \nL 325.531715 108.883682 \nL 325.86685 105.191046 \nL 326.201985 107.615756 \nL 326.53712 107.237949 \nL 326.872255 105.382741 \nL 327.20739 105.535218 \nL 327.542525 104.857051 \nL 327.87766 101.718658 \nL 328.212796 102.49888 \nL 328.547931 104.69152 \nL 328.883066 104.596336 \nL 329.218201 102.64611 \nL 329.553336 103.796667 \nL 329.888471 102.113709 \nL 330.223606 103.117135 \nL 330.558742 100.050922 \nL 330.893877 101.1085 \nL 331.229012 99.511401 \nL 331.899282 102.752005 \nL 332.234417 100.456057 \nL 332.904688 97.281932 \nL 333.239823 99.318238 \nL 333.574958 98.877592 \nL 333.910093 100.5356 \nL 334.245228 98.803437 \nL 334.580363 99.532038 \nL 334.915498 100.685196 \nL 335.250633 100.758897 \nL 335.585769 98.21845 \nL 335.920904 96.545869 \nL 336.256039 98.037072 \nL 336.591174 98.711066 \nL 336.926309 98.205065 \nL 337.596579 100.999341 \nL 337.931715 102.402815 \nL 338.26685 100.157517 \nL 338.601985 101.19696 \nL 338.93712 100.153178 \nL 339.60739 105.437819 \nL 339.942525 106.395782 \nL 340.27766 105.350684 \nL 340.612796 105.674168 \nL 340.947931 102.062843 \nL 341.283066 100.73502 \nL 341.618201 100.734605 \nL 341.953336 100.344995 \nL 342.288471 97.363581 \nL 342.623606 98.967229 \nL 342.958742 96.553653 \nL 343.293877 96.963194 \nL 343.629012 94.314787 \nL 343.964147 93.092167 \nL 344.299282 93.516774 \nL 344.634417 95.755255 \nL 344.969552 96.261744 \nL 345.304688 94.942308 \nL 345.639823 92.999101 \nL 345.974958 92.830145 \nL 346.310093 93.540233 \nL 346.645228 93.71337 \nL 346.980363 93.307149 \nL 347.315498 93.721939 \nL 347.650633 93.565253 \nL 347.985769 95.247369 \nL 348.320904 94.003266 \nL 348.656039 92.185892 \nL 348.991174 93.254493 \nL 349.326309 92.46184 \nL 349.996579 87.453079 \nL 350.66685 86.631973 \nL 351.001985 86.939932 \nL 351.33712 85.728011 \nL 351.672255 87.017332 \nL 352.00739 89.000766 \nL 352.342525 88.575691 \nL 352.67766 89.274508 \nL 353.012796 89.452981 \nL 353.683066 87.02334 \nL 354.018201 86.601024 \nL 354.353336 89.218327 \nL 354.688471 90.472587 \nL 355.023606 93.021051 \nL 355.358742 93.355881 \nL 355.693877 91.683743 \nL 356.029012 90.676609 \nL 356.364147 90.458356 \nL 356.699282 94.118877 \nL 357.369552 91.521823 \nL 357.704687 91.906653 \nL 358.039823 93.402037 \nL 358.374958 94.132866 \nL 358.710093 94.226505 \nL 359.045228 93.038938 \nL 359.380363 93.901484 \nL 359.715498 91.634962 \nL 360.050633 92.53206 \nL 360.385769 91.987821 \nL 361.056039 96.502944 \nL 361.391174 97.284603 \nL 361.726309 100.833918 \nL 362.061444 102.37465 \nL 362.396579 100.589876 \nL 362.731715 99.605793 \nL 363.06685 97.574406 \nL 363.401985 96.296235 \nL 363.73712 96.332774 \nL 364.072255 95.007673 \nL 364.40739 94.277751 \nL 364.742525 92.560731 \nL 365.412796 88.172092 \nL 365.747931 87.247066 \nL 366.083066 88.43659 \nL 366.418201 88.070102 \nL 366.753336 86.986174 \nL 367.088471 88.545222 \nL 367.423606 87.868336 \nL 367.758742 84.900309 \nL 368.093877 84.081838 \nL 368.429012 80.48738 \nL 368.764147 81.937948 \nL 369.099282 81.196127 \nL 369.434417 79.947707 \nL 369.769552 77.740586 \nL 370.104688 79.882388 \nL 370.104688 79.882388 \n\" clip-path=\"url(#p0a8468c33b)\" style=\"fill: none; stroke: #d62728; stroke-width: 1.5; stroke-linecap: square\"/>\n   </g>\n   <g id=\"patch_3\">\n    <path d=\"M 35.304688 224.64 \nL 35.304688 7.2 \n\" style=\"fill: none; stroke: #000000; stroke-width: 0.8; stroke-linejoin: miter; stroke-linecap: square\"/>\n   </g>\n   <g id=\"patch_4\">\n    <path d=\"M 370.104688 224.64 \nL 370.104688 7.2 \n\" style=\"fill: none; stroke: #000000; stroke-width: 0.8; stroke-linejoin: miter; stroke-linecap: square\"/>\n   </g>\n   <g id=\"patch_5\">\n    <path d=\"M 35.304688 224.64 \nL 370.104688 224.64 \n\" style=\"fill: none; stroke: #000000; stroke-width: 0.8; stroke-linejoin: miter; stroke-linecap: square\"/>\n   </g>\n   <g id=\"patch_6\">\n    <path d=\"M 35.304688 7.2 \nL 370.104688 7.2 \n\" style=\"fill: none; stroke: #000000; stroke-width: 0.8; stroke-linejoin: miter; stroke-linecap: square\"/>\n   </g>\n   <g id=\"legend_1\">\n    <g id=\"patch_7\">\n     <path d=\"M 42.304688 73.9125 \nL 82.004688 73.9125 \nQ 84.004688 73.9125 84.004688 71.9125 \nL 84.004688 14.2 \nQ 84.004688 12.2 82.004688 12.2 \nL 42.304688 12.2 \nQ 40.304688 12.2 40.304688 14.2 \nL 40.304688 71.9125 \nQ 40.304688 73.9125 42.304688 73.9125 \nz\n\" style=\"fill: #ffffff; opacity: 0.8; stroke: #cccccc; stroke-linejoin: miter\"/>\n    </g>\n    <g id=\"line2d_46\">\n     <path d=\"M 44.304688 20.298437 \nL 54.304688 20.298437 \nL 64.304688 20.298437 \n\" style=\"fill: none; stroke: #1f77b4; stroke-width: 1.5; stroke-linecap: square\"/>\n    </g>\n    <g id=\"text_14\">\n     <!-- A -->\n     <g transform=\"translate(72.304688 23.798437)scale(0.1 -0.1)\">\n      <defs>\n       <path id=\"DejaVuSans-41\" d=\"M 2188 4044 \nL 1331 1722 \nL 3047 1722 \nL 2188 4044 \nz\nM 1831 4666 \nL 2547 4666 \nL 4325 0 \nL 3669 0 \nL 3244 1197 \nL 1141 1197 \nL 716 0 \nL 50 0 \nL 1831 4666 \nz\n\" transform=\"scale(0.015625)\"/>\n      </defs>\n      <use xlink:href=\"#DejaVuSans-41\"/>\n     </g>\n    </g>\n    <g id=\"line2d_47\">\n     <path d=\"M 44.304688 34.976562 \nL 54.304688 34.976562 \nL 64.304688 34.976562 \n\" style=\"fill: none; stroke: #ff7f0e; stroke-width: 1.5; stroke-linecap: square\"/>\n    </g>\n    <g id=\"text_15\">\n     <!-- B -->\n     <g transform=\"translate(72.304688 38.476562)scale(0.1 -0.1)\">\n      <defs>\n       <path id=\"DejaVuSans-42\" d=\"M 1259 2228 \nL 1259 519 \nL 2272 519 \nQ 2781 519 3026 730 \nQ 3272 941 3272 1375 \nQ 3272 1813 3026 2020 \nQ 2781 2228 2272 2228 \nL 1259 2228 \nz\nM 1259 4147 \nL 1259 2741 \nL 2194 2741 \nQ 2656 2741 2882 2914 \nQ 3109 3088 3109 3444 \nQ 3109 3797 2882 3972 \nQ 2656 4147 2194 4147 \nL 1259 4147 \nz\nM 628 4666 \nL 2241 4666 \nQ 2963 4666 3353 4366 \nQ 3744 4066 3744 3513 \nQ 3744 3084 3544 2831 \nQ 3344 2578 2956 2516 \nQ 3422 2416 3680 2098 \nQ 3938 1781 3938 1306 \nQ 3938 681 3513 340 \nQ 3088 0 2303 0 \nL 628 0 \nL 628 4666 \nz\n\" transform=\"scale(0.015625)\"/>\n      </defs>\n      <use xlink:href=\"#DejaVuSans-42\"/>\n     </g>\n    </g>\n    <g id=\"line2d_48\">\n     <path d=\"M 44.304688 49.654687 \nL 54.304688 49.654687 \nL 64.304688 49.654687 \n\" style=\"fill: none; stroke: #2ca02c; stroke-width: 1.5; stroke-linecap: square\"/>\n    </g>\n    <g id=\"text_16\">\n     <!-- C -->\n     <g transform=\"translate(72.304688 53.154687)scale(0.1 -0.1)\">\n      <defs>\n       <path id=\"DejaVuSans-43\" d=\"M 4122 4306 \nL 4122 3641 \nQ 3803 3938 3442 4084 \nQ 3081 4231 2675 4231 \nQ 1875 4231 1450 3742 \nQ 1025 3253 1025 2328 \nQ 1025 1406 1450 917 \nQ 1875 428 2675 428 \nQ 3081 428 3442 575 \nQ 3803 722 4122 1019 \nL 4122 359 \nQ 3791 134 3420 21 \nQ 3050 -91 2638 -91 \nQ 1578 -91 968 557 \nQ 359 1206 359 2328 \nQ 359 3453 968 4101 \nQ 1578 4750 2638 4750 \nQ 3056 4750 3426 4639 \nQ 3797 4528 4122 4306 \nz\n\" transform=\"scale(0.015625)\"/>\n      </defs>\n      <use xlink:href=\"#DejaVuSans-43\"/>\n     </g>\n    </g>\n    <g id=\"line2d_49\">\n     <path d=\"M 44.304688 64.332812 \nL 54.304688 64.332812 \nL 64.304688 64.332812 \n\" style=\"fill: none; stroke: #d62728; stroke-width: 1.5; stroke-linecap: square\"/>\n    </g>\n    <g id=\"text_17\">\n     <!-- D -->\n     <g transform=\"translate(72.304688 67.832812)scale(0.1 -0.1)\">\n      <defs>\n       <path id=\"DejaVuSans-44\" d=\"M 1259 4147 \nL 1259 519 \nL 2022 519 \nQ 2988 519 3436 956 \nQ 3884 1394 3884 2338 \nQ 3884 3275 3436 3711 \nQ 2988 4147 2022 4147 \nL 1259 4147 \nz\nM 628 4666 \nL 1925 4666 \nQ 3281 4666 3915 4102 \nQ 4550 3538 4550 2338 \nQ 4550 1131 3912 565 \nQ 3275 0 1925 0 \nL 628 0 \nL 628 4666 \nz\n\" transform=\"scale(0.015625)\"/>\n      </defs>\n      <use xlink:href=\"#DejaVuSans-44\"/>\n     </g>\n    </g>\n   </g>\n  </g>\n </g>\n <defs>\n  <clipPath id=\"p0a8468c33b\">\n   <rect x=\"35.304688\" y=\"7.2\" width=\"334.8\" height=\"217.44\"/>\n  </clipPath>\n </defs>\n</svg>\n",
      "text/plain": [
       "<Figure size 432x288 with 1 Axes>"
      ]
     },
     "metadata": {
      "needs_background": "light"
     },
     "output_type": "display_data"
    }
   ],
   "source": [
    "df = pd.DataFrame(\n",
    "    np.random.randn(1000, 4),\n",
    "    index=ts.index,\n",
    "    columns=list(\"ABCD\")\n",
    ")\n",
    "df = df.cumsum()\n",
    "plt.figure()\n",
    "df.plot()\n",
    "plt.legend(loc=\"best\")"
   ]
  },
  {
   "cell_type": "markdown",
   "metadata": {},
   "source": [
    "## Getting data in/out\n",
    "\n",
    "### CSV\n",
    "\n",
    "#### Writing to a .csv file"
   ]
  },
  {
   "cell_type": "code",
   "execution_count": 100,
   "metadata": {},
   "outputs": [],
   "source": [
    "df.to_csv(\"./docs/files/foo.csv\")"
   ]
  },
  {
   "cell_type": "markdown",
   "metadata": {},
   "source": [
    "#### Reading from a .csv file"
   ]
  },
  {
   "cell_type": "code",
   "execution_count": 101,
   "metadata": {},
   "outputs": [
    {
     "data": {
      "text/html": [
       "<div>\n",
       "<style scoped>\n",
       "    .dataframe tbody tr th:only-of-type {\n",
       "        vertical-align: middle;\n",
       "    }\n",
       "\n",
       "    .dataframe tbody tr th {\n",
       "        vertical-align: top;\n",
       "    }\n",
       "\n",
       "    .dataframe thead th {\n",
       "        text-align: right;\n",
       "    }\n",
       "</style>\n",
       "<table border=\"1\" class=\"dataframe\">\n",
       "  <thead>\n",
       "    <tr style=\"text-align: right;\">\n",
       "      <th></th>\n",
       "      <th>Unnamed: 0</th>\n",
       "      <th>A</th>\n",
       "      <th>B</th>\n",
       "      <th>C</th>\n",
       "      <th>D</th>\n",
       "    </tr>\n",
       "  </thead>\n",
       "  <tbody>\n",
       "    <tr>\n",
       "      <th>0</th>\n",
       "      <td>2022-01-01</td>\n",
       "      <td>-0.980016</td>\n",
       "      <td>0.213739</td>\n",
       "      <td>1.167508</td>\n",
       "      <td>0.884177</td>\n",
       "    </tr>\n",
       "    <tr>\n",
       "      <th>1</th>\n",
       "      <td>2022-01-02</td>\n",
       "      <td>-0.489597</td>\n",
       "      <td>-0.045589</td>\n",
       "      <td>0.284940</td>\n",
       "      <td>0.211927</td>\n",
       "    </tr>\n",
       "    <tr>\n",
       "      <th>2</th>\n",
       "      <td>2022-01-03</td>\n",
       "      <td>0.239032</td>\n",
       "      <td>-1.124373</td>\n",
       "      <td>0.592802</td>\n",
       "      <td>-1.023273</td>\n",
       "    </tr>\n",
       "    <tr>\n",
       "      <th>3</th>\n",
       "      <td>2022-01-04</td>\n",
       "      <td>0.893307</td>\n",
       "      <td>-2.301067</td>\n",
       "      <td>1.110100</td>\n",
       "      <td>0.766275</td>\n",
       "    </tr>\n",
       "    <tr>\n",
       "      <th>4</th>\n",
       "      <td>2022-01-05</td>\n",
       "      <td>0.656998</td>\n",
       "      <td>-0.938600</td>\n",
       "      <td>0.955967</td>\n",
       "      <td>0.917341</td>\n",
       "    </tr>\n",
       "    <tr>\n",
       "      <th>...</th>\n",
       "      <td>...</td>\n",
       "      <td>...</td>\n",
       "      <td>...</td>\n",
       "      <td>...</td>\n",
       "      <td>...</td>\n",
       "    </tr>\n",
       "    <tr>\n",
       "      <th>995</th>\n",
       "      <td>2024-09-22</td>\n",
       "      <td>78.572104</td>\n",
       "      <td>-3.958174</td>\n",
       "      <td>-20.186044</td>\n",
       "      <td>43.119195</td>\n",
       "    </tr>\n",
       "    <tr>\n",
       "      <th>996</th>\n",
       "      <td>2024-09-23</td>\n",
       "      <td>78.686707</td>\n",
       "      <td>-3.692136</td>\n",
       "      <td>-21.083223</td>\n",
       "      <td>43.582875</td>\n",
       "    </tr>\n",
       "    <tr>\n",
       "      <th>997</th>\n",
       "      <td>2024-09-24</td>\n",
       "      <td>78.525645</td>\n",
       "      <td>-5.203383</td>\n",
       "      <td>-21.479417</td>\n",
       "      <td>44.363208</td>\n",
       "    </tr>\n",
       "    <tr>\n",
       "      <th>998</th>\n",
       "      <td>2024-09-25</td>\n",
       "      <td>77.605792</td>\n",
       "      <td>-6.035984</td>\n",
       "      <td>-21.577242</td>\n",
       "      <td>45.742783</td>\n",
       "    </tr>\n",
       "    <tr>\n",
       "      <th>999</th>\n",
       "      <td>2024-09-26</td>\n",
       "      <td>77.989824</td>\n",
       "      <td>-5.906116</td>\n",
       "      <td>-22.380120</td>\n",
       "      <td>44.404036</td>\n",
       "    </tr>\n",
       "  </tbody>\n",
       "</table>\n",
       "<p>1000 rows × 5 columns</p>\n",
       "</div>"
      ],
      "text/plain": [
       "     Unnamed: 0          A         B          C          D\n",
       "0    2022-01-01  -0.980016  0.213739   1.167508   0.884177\n",
       "1    2022-01-02  -0.489597 -0.045589   0.284940   0.211927\n",
       "2    2022-01-03   0.239032 -1.124373   0.592802  -1.023273\n",
       "3    2022-01-04   0.893307 -2.301067   1.110100   0.766275\n",
       "4    2022-01-05   0.656998 -0.938600   0.955967   0.917341\n",
       "..          ...        ...       ...        ...        ...\n",
       "995  2024-09-22  78.572104 -3.958174 -20.186044  43.119195\n",
       "996  2024-09-23  78.686707 -3.692136 -21.083223  43.582875\n",
       "997  2024-09-24  78.525645 -5.203383 -21.479417  44.363208\n",
       "998  2024-09-25  77.605792 -6.035984 -21.577242  45.742783\n",
       "999  2024-09-26  77.989824 -5.906116 -22.380120  44.404036\n",
       "\n",
       "[1000 rows x 5 columns]"
      ]
     },
     "execution_count": 101,
     "metadata": {},
     "output_type": "execute_result"
    }
   ],
   "source": [
    "pd.read_csv(\"./docs/files/foo.csv\")"
   ]
  },
  {
   "cell_type": "markdown",
   "metadata": {},
   "source": [
    "### HDF5\n",
    "\n",
    "Reading and writing to HDF5Stores."
   ]
  },
  {
   "cell_type": "markdown",
   "metadata": {},
   "source": [
    "#### Writing to a HDF5 Store."
   ]
  },
  {
   "cell_type": "code",
   "execution_count": 104,
   "metadata": {},
   "outputs": [],
   "source": [
    "df.to_hdf(\"./docs/files/foo.h5\", \"df\")"
   ]
  },
  {
   "cell_type": "markdown",
   "metadata": {},
   "source": [
    "#### Reading from HDF5 Store."
   ]
  },
  {
   "cell_type": "code",
   "execution_count": 105,
   "metadata": {},
   "outputs": [
    {
     "data": {
      "text/html": [
       "<div>\n",
       "<style scoped>\n",
       "    .dataframe tbody tr th:only-of-type {\n",
       "        vertical-align: middle;\n",
       "    }\n",
       "\n",
       "    .dataframe tbody tr th {\n",
       "        vertical-align: top;\n",
       "    }\n",
       "\n",
       "    .dataframe thead th {\n",
       "        text-align: right;\n",
       "    }\n",
       "</style>\n",
       "<table border=\"1\" class=\"dataframe\">\n",
       "  <thead>\n",
       "    <tr style=\"text-align: right;\">\n",
       "      <th></th>\n",
       "      <th>A</th>\n",
       "      <th>B</th>\n",
       "      <th>C</th>\n",
       "      <th>D</th>\n",
       "    </tr>\n",
       "  </thead>\n",
       "  <tbody>\n",
       "    <tr>\n",
       "      <th>2022-01-01</th>\n",
       "      <td>-0.980016</td>\n",
       "      <td>0.213739</td>\n",
       "      <td>1.167508</td>\n",
       "      <td>0.884177</td>\n",
       "    </tr>\n",
       "    <tr>\n",
       "      <th>2022-01-02</th>\n",
       "      <td>-0.489597</td>\n",
       "      <td>-0.045589</td>\n",
       "      <td>0.284940</td>\n",
       "      <td>0.211927</td>\n",
       "    </tr>\n",
       "    <tr>\n",
       "      <th>2022-01-03</th>\n",
       "      <td>0.239032</td>\n",
       "      <td>-1.124373</td>\n",
       "      <td>0.592802</td>\n",
       "      <td>-1.023273</td>\n",
       "    </tr>\n",
       "    <tr>\n",
       "      <th>2022-01-04</th>\n",
       "      <td>0.893307</td>\n",
       "      <td>-2.301067</td>\n",
       "      <td>1.110100</td>\n",
       "      <td>0.766275</td>\n",
       "    </tr>\n",
       "    <tr>\n",
       "      <th>2022-01-05</th>\n",
       "      <td>0.656998</td>\n",
       "      <td>-0.938600</td>\n",
       "      <td>0.955967</td>\n",
       "      <td>0.917341</td>\n",
       "    </tr>\n",
       "    <tr>\n",
       "      <th>...</th>\n",
       "      <td>...</td>\n",
       "      <td>...</td>\n",
       "      <td>...</td>\n",
       "      <td>...</td>\n",
       "    </tr>\n",
       "    <tr>\n",
       "      <th>2024-09-22</th>\n",
       "      <td>78.572104</td>\n",
       "      <td>-3.958174</td>\n",
       "      <td>-20.186044</td>\n",
       "      <td>43.119195</td>\n",
       "    </tr>\n",
       "    <tr>\n",
       "      <th>2024-09-23</th>\n",
       "      <td>78.686707</td>\n",
       "      <td>-3.692136</td>\n",
       "      <td>-21.083223</td>\n",
       "      <td>43.582875</td>\n",
       "    </tr>\n",
       "    <tr>\n",
       "      <th>2024-09-24</th>\n",
       "      <td>78.525645</td>\n",
       "      <td>-5.203383</td>\n",
       "      <td>-21.479417</td>\n",
       "      <td>44.363208</td>\n",
       "    </tr>\n",
       "    <tr>\n",
       "      <th>2024-09-25</th>\n",
       "      <td>77.605792</td>\n",
       "      <td>-6.035984</td>\n",
       "      <td>-21.577242</td>\n",
       "      <td>45.742783</td>\n",
       "    </tr>\n",
       "    <tr>\n",
       "      <th>2024-09-26</th>\n",
       "      <td>77.989824</td>\n",
       "      <td>-5.906116</td>\n",
       "      <td>-22.380120</td>\n",
       "      <td>44.404036</td>\n",
       "    </tr>\n",
       "  </tbody>\n",
       "</table>\n",
       "<p>1000 rows × 4 columns</p>\n",
       "</div>"
      ],
      "text/plain": [
       "                    A         B          C          D\n",
       "2022-01-01  -0.980016  0.213739   1.167508   0.884177\n",
       "2022-01-02  -0.489597 -0.045589   0.284940   0.211927\n",
       "2022-01-03   0.239032 -1.124373   0.592802  -1.023273\n",
       "2022-01-04   0.893307 -2.301067   1.110100   0.766275\n",
       "2022-01-05   0.656998 -0.938600   0.955967   0.917341\n",
       "...               ...       ...        ...        ...\n",
       "2024-09-22  78.572104 -3.958174 -20.186044  43.119195\n",
       "2024-09-23  78.686707 -3.692136 -21.083223  43.582875\n",
       "2024-09-24  78.525645 -5.203383 -21.479417  44.363208\n",
       "2024-09-25  77.605792 -6.035984 -21.577242  45.742783\n",
       "2024-09-26  77.989824 -5.906116 -22.380120  44.404036\n",
       "\n",
       "[1000 rows x 4 columns]"
      ]
     },
     "execution_count": 105,
     "metadata": {},
     "output_type": "execute_result"
    }
   ],
   "source": [
    "pd.read_hdf(\"./docs/files/foo.h5\", \"df\")"
   ]
  },
  {
   "cell_type": "markdown",
   "metadata": {},
   "source": [
    "### Excel\n",
    "\n",
    "Reading and writing to MS Excel."
   ]
  },
  {
   "cell_type": "markdown",
   "metadata": {},
   "source": [
    "#### Writing to an excel file"
   ]
  },
  {
   "cell_type": "code",
   "execution_count": 108,
   "metadata": {},
   "outputs": [],
   "source": [
    "df.to_excel(\"./docs/files/foo.xlsx\", sheet_name=\"Sheet1\")"
   ]
  },
  {
   "cell_type": "markdown",
   "metadata": {},
   "source": [
    "#### Reading from an excel file."
   ]
  },
  {
   "cell_type": "code",
   "execution_count": 109,
   "metadata": {},
   "outputs": [
    {
     "data": {
      "text/html": [
       "<div>\n",
       "<style scoped>\n",
       "    .dataframe tbody tr th:only-of-type {\n",
       "        vertical-align: middle;\n",
       "    }\n",
       "\n",
       "    .dataframe tbody tr th {\n",
       "        vertical-align: top;\n",
       "    }\n",
       "\n",
       "    .dataframe thead th {\n",
       "        text-align: right;\n",
       "    }\n",
       "</style>\n",
       "<table border=\"1\" class=\"dataframe\">\n",
       "  <thead>\n",
       "    <tr style=\"text-align: right;\">\n",
       "      <th></th>\n",
       "      <th>Unnamed: 0</th>\n",
       "      <th>A</th>\n",
       "      <th>B</th>\n",
       "      <th>C</th>\n",
       "      <th>D</th>\n",
       "    </tr>\n",
       "  </thead>\n",
       "  <tbody>\n",
       "    <tr>\n",
       "      <th>0</th>\n",
       "      <td>2022-01-01</td>\n",
       "      <td>-0.980016</td>\n",
       "      <td>0.213739</td>\n",
       "      <td>1.167508</td>\n",
       "      <td>0.884177</td>\n",
       "    </tr>\n",
       "    <tr>\n",
       "      <th>1</th>\n",
       "      <td>2022-01-02</td>\n",
       "      <td>-0.489597</td>\n",
       "      <td>-0.045589</td>\n",
       "      <td>0.284940</td>\n",
       "      <td>0.211927</td>\n",
       "    </tr>\n",
       "    <tr>\n",
       "      <th>2</th>\n",
       "      <td>2022-01-03</td>\n",
       "      <td>0.239032</td>\n",
       "      <td>-1.124373</td>\n",
       "      <td>0.592802</td>\n",
       "      <td>-1.023273</td>\n",
       "    </tr>\n",
       "    <tr>\n",
       "      <th>3</th>\n",
       "      <td>2022-01-04</td>\n",
       "      <td>0.893307</td>\n",
       "      <td>-2.301067</td>\n",
       "      <td>1.110100</td>\n",
       "      <td>0.766275</td>\n",
       "    </tr>\n",
       "    <tr>\n",
       "      <th>4</th>\n",
       "      <td>2022-01-05</td>\n",
       "      <td>0.656998</td>\n",
       "      <td>-0.938600</td>\n",
       "      <td>0.955967</td>\n",
       "      <td>0.917341</td>\n",
       "    </tr>\n",
       "    <tr>\n",
       "      <th>...</th>\n",
       "      <td>...</td>\n",
       "      <td>...</td>\n",
       "      <td>...</td>\n",
       "      <td>...</td>\n",
       "      <td>...</td>\n",
       "    </tr>\n",
       "    <tr>\n",
       "      <th>995</th>\n",
       "      <td>2024-09-22</td>\n",
       "      <td>78.572104</td>\n",
       "      <td>-3.958174</td>\n",
       "      <td>-20.186044</td>\n",
       "      <td>43.119195</td>\n",
       "    </tr>\n",
       "    <tr>\n",
       "      <th>996</th>\n",
       "      <td>2024-09-23</td>\n",
       "      <td>78.686707</td>\n",
       "      <td>-3.692136</td>\n",
       "      <td>-21.083223</td>\n",
       "      <td>43.582875</td>\n",
       "    </tr>\n",
       "    <tr>\n",
       "      <th>997</th>\n",
       "      <td>2024-09-24</td>\n",
       "      <td>78.525645</td>\n",
       "      <td>-5.203383</td>\n",
       "      <td>-21.479417</td>\n",
       "      <td>44.363208</td>\n",
       "    </tr>\n",
       "    <tr>\n",
       "      <th>998</th>\n",
       "      <td>2024-09-25</td>\n",
       "      <td>77.605792</td>\n",
       "      <td>-6.035984</td>\n",
       "      <td>-21.577242</td>\n",
       "      <td>45.742783</td>\n",
       "    </tr>\n",
       "    <tr>\n",
       "      <th>999</th>\n",
       "      <td>2024-09-26</td>\n",
       "      <td>77.989824</td>\n",
       "      <td>-5.906116</td>\n",
       "      <td>-22.380120</td>\n",
       "      <td>44.404036</td>\n",
       "    </tr>\n",
       "  </tbody>\n",
       "</table>\n",
       "<p>1000 rows × 5 columns</p>\n",
       "</div>"
      ],
      "text/plain": [
       "    Unnamed: 0          A         B          C          D\n",
       "0   2022-01-01  -0.980016  0.213739   1.167508   0.884177\n",
       "1   2022-01-02  -0.489597 -0.045589   0.284940   0.211927\n",
       "2   2022-01-03   0.239032 -1.124373   0.592802  -1.023273\n",
       "3   2022-01-04   0.893307 -2.301067   1.110100   0.766275\n",
       "4   2022-01-05   0.656998 -0.938600   0.955967   0.917341\n",
       "..         ...        ...       ...        ...        ...\n",
       "995 2024-09-22  78.572104 -3.958174 -20.186044  43.119195\n",
       "996 2024-09-23  78.686707 -3.692136 -21.083223  43.582875\n",
       "997 2024-09-24  78.525645 -5.203383 -21.479417  44.363208\n",
       "998 2024-09-25  77.605792 -6.035984 -21.577242  45.742783\n",
       "999 2024-09-26  77.989824 -5.906116 -22.380120  44.404036\n",
       "\n",
       "[1000 rows x 5 columns]"
      ]
     },
     "execution_count": 109,
     "metadata": {},
     "output_type": "execute_result"
    }
   ],
   "source": [
    "pd.read_excel(\"./docs/files/foo.xlsx\", \"Sheet1\", index_col=None, na_values=[\"NA\"])"
   ]
  }
 ],
 "metadata": {
  "interpreter": {
   "hash": "2647ea34e536f865ab67ff9ddee7fd78773d956cec0cab53c79b32cd10da5d83"
  },
  "kernelspec": {
   "display_name": "Python 3.9.10 64-bit",
   "language": "python",
   "name": "python3"
  },
  "language_info": {
   "codemirror_mode": {
    "name": "ipython",
    "version": 3
   },
   "file_extension": ".py",
   "mimetype": "text/x-python",
   "name": "python",
   "nbconvert_exporter": "python",
   "pygments_lexer": "ipython3",
   "version": "3.9.12"
  },
  "orig_nbformat": 4
 },
 "nbformat": 4,
 "nbformat_minor": 2
}
